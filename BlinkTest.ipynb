{
 "cells": [
  {
   "cell_type": "code",
   "execution_count": 1,
   "metadata": {
    "collapsed": false
   },
   "outputs": [],
   "source": [
    "using Blink"
   ]
  },
  {
   "cell_type": "code",
   "execution_count": 2,
   "metadata": {
    "collapsed": false
   },
   "outputs": [
    {
     "name": "stderr",
     "output_type": "stream",
     "text": [
      "  % Total    % Received % Xferd  Average Speed   Time    Time     Time  Current\n",
      "                                 Dload  Upload   Total   Spent    Left  Speed\n",
      "100  386k  100  386k    0     0   644k      0 --:--:-- --:--:-- --:--:--  643k\n",
      "  % Total    % Received % Xferd  Average Speed   Time    Time     Time  Current\n",
      "                                 Dload  Upload   Total   Spent    Left  Speed\n",
      "100   159    0   159    0     0   1074      0 --:--:-- --:--:-- --:--:--  1081\n",
      "  0     0    0   606    0     0   2806      0 --:--:-- --:--:-- --:--:--  2806\n",
      "100 35.2M  100 35.2M    0     0   922k      0  0:00:39  0:00:39 --:--:-- 2553k\n"
     ]
    }
   ],
   "source": [
    "Blink.AtomShell.install()"
   ]
  },
  {
   "cell_type": "code",
   "execution_count": 3,
   "metadata": {
    "collapsed": false
   },
   "outputs": [
    {
     "ename": "LoadError",
     "evalue": "connect: too many open files (EMFILE)",
     "output_type": "error",
     "traceback": [
      "connect: too many open files (EMFILE)",
      "",
      " in uv_error at ./libuv.jl:68 [inlined]",
      " in connect!(::TCPSocket, ::IPv4, ::Int64) at ./socket.jl:652",
      " in connect at ./stream.jl:959 [inlined]",
      " in connect(::IPv4, ::Int64) at ./socket.jl:677",
      " in #try_connect#4(::Float64, ::Int64, ::Function, ::IPv4, ::Vararg{Any,N}) at /home/juser/.julia/v0.5/Blink/src/AtomShell/process.jl:62",
      " in #init#5(::Bool, ::Function) at /home/juser/.julia/v0.5/Blink/src/AtomShell/process.jl:76",
      " in (::Blink.AtomShell.#kw##init)(::Array{Any,1}, ::Blink.AtomShell.#init) at ./<missing>:0",
      " in #shell#8(::Bool, ::Function) at /home/juser/.julia/v0.5/Blink/src/AtomShell/process.jl:114",
      " in Blink.AtomShell.Window() at /home/juser/.julia/v0.5/Blink/src/AtomShell/window.jl:37",
      " in execute_request(::ZMQ.Socket, ::IJulia.Msg) at /opt/julia_packages/.julia/v0.5/IJulia/src/execute_request.jl:157",
      " in eventloop(::ZMQ.Socket) at /opt/julia_packages/.julia/v0.5/IJulia/src/eventloop.jl:8",
      " in (::IJulia.##13#19)() at ./task.jl:360"
     ]
    }
   ],
   "source": [
    "w = Window()"
   ]
  },
  {
   "cell_type": "code",
   "execution_count": null,
   "metadata": {
    "collapsed": true
   },
   "outputs": [],
   "source": []
  }
 ],
 "metadata": {
  "kernelspec": {
   "display_name": "Julia 0.5.1",
   "language": "julia",
   "name": "julia-0.5"
  },
  "language_info": {
   "file_extension": ".jl",
   "mimetype": "application/julia",
   "name": "julia",
   "version": "0.5.1"
  }
 },
 "nbformat": 4,
 "nbformat_minor": 1
}
