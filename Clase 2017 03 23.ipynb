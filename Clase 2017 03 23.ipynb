{
 "cells": [
  {
   "cell_type": "markdown",
   "metadata": {},
   "source": [
    "### Un framework de RL"
   ]
  },
  {
   "cell_type": "markdown",
   "metadata": {},
   "source": [
    "Queremos implementar un framework para trabajar con RL. Necesitamos tres cosas:\n",
    "\n",
    "1. Un **ambiente** que tiene \n",
    "    + Un conjunto de estados\n",
    "    + Determina que acciones son disponibles en cada estado\n",
    "    + Y dada un accion que un agente puede tomar en un estado determina una transicion que trae consigo un pago\n",
    "2. Un **agente** que quiere maximizar su utilidad en ese ambiente\n",
    "    + Esta en un estado dentro de un ambiente\n",
    "    + Tiene una politica que dicta que accion toma segun su estado\n",
    "3. Una forma en que **interactuen**\n",
    "    + Interactuan cuando el agente decide y por eso recibe un pago y el agente cambio de estado"
   ]
  },
  {
   "cell_type": "code",
   "execution_count": 4,
   "metadata": {
    "collapsed": false
   },
   "outputs": [
    {
     "name": "stderr",
     "output_type": "stream",
     "text": [
      "WARNING: Method definition (::Type{Main.RLEnv})(Array{Any, 1}, Function, Function) in module Main at In[3]:2 overwritten at In[4]:2.\n",
      "WARNING: Method definition (::Type{Main.RLEnv})(Any, Any, Any) in module Main at In[3]:2 overwritten at In[4]:2.\n",
      "WARNING: Method definition (::Type{Main.RLAgent})(Any, Function) in module Main at In[3]:7 overwritten at In[4]:7.\n",
      "WARNING: Method definition (::Type{Main.RLAgent})(Any, Any) in module Main at In[3]:7 overwritten at In[4]:7.\n",
      "WARNING: Method definition interact!(Main.RLAgent, Main.RLEnv) in module Main at In[3]:13 overwritten at In[4]:13.\n"
     ]
    },
    {
     "data": {
      "text/plain": [
       "interact_given_action! (generic function with 1 method)"
      ]
     },
     "execution_count": 4,
     "metadata": {},
     "output_type": "execute_result"
    }
   ],
   "source": [
    "type RLEnv\n",
    "    state_space::Array{Any, 1}\n",
    "    action_set::Function # (state)->(available action set)\n",
    "    trans_fun::Function # (state, action) -> (new_state, reward)\n",
    "end\n",
    "type RLAgent\n",
    "    state::Any\n",
    "    policy::Function # (state) -> (action)\n",
    "end\n",
    "function interact!(agent::RLAgent, env::RLEnv)\n",
    "    # la convencion de julia es usar ! al final del nombre de la funcion\n",
    "    # si la funcion transforma los argumentos\n",
    "    new_state, reward = env.trans_fun(agent.state, agent.policy(agent.state))\n",
    "    agent.state = new_state\n",
    "    return new_state, reward # util\n",
    "end\n",
    "function interact_given_action!(agent::RLAgent, env::RLEnv, action)\n",
    "    # la convencion de julia es usar ! al final del nombre de la funcion\n",
    "    # si la funcion transforma los argumentos\n",
    "    if action ∉ env.action_set(agent.state)  error(\"Not valid\") end\n",
    "    new_state, reward = env.trans_fun(agent.state, action)\n",
    "    agent.state = new_state \n",
    "    return new_state, reward # util\n",
    "end"
   ]
  },
  {
   "cell_type": "markdown",
   "metadata": {},
   "source": [
    "# Let's race!!!"
   ]
  },
  {
   "cell_type": "code",
   "execution_count": 1,
   "metadata": {
    "collapsed": false
   },
   "outputs": [
    {
     "name": "stdout",
     "output_type": "stream",
     "text": [
      "Voici the race track!!!\n",
      "* * * * * * * * * * * F F F F * *\n",
      "* * * * * * * * * *      * *\n",
      "* * * * * * * * *      * * *\n",
      "* * * * * * *       * * * *\n",
      "* * * * * *       * * * * *\n",
      "* * * * *      * * * * * * *\n",
      "* * * *      * * * * * * * *\n",
      "* * *      * * * * * * * * *\n",
      "* *      * * * * * * * * * *\n",
      "* *      * * * * * * * * * *\n",
      "* *     * * * * * * * * * * *\n",
      "* *     * * * * * * * * * * *\n",
      "* *     * * * * * * * * * * *\n",
      "* *     * * * * * * * * * * *\n",
      "* *     * * * * * * * * * * *\n",
      "* *     * * * * * * * * * * *\n",
      "* *     * * * * * * * * * * *\n",
      "* * +    * * * * * * * * * * *\n",
      "F: finishing line\n",
      "*: out of the track\n",
      "+: racer\n"
     ]
    }
   ],
   "source": [
    "race_track = readcsv(\"data/race_track.csv\")\n",
    "function print_race_track(race_track, pos)\n",
    "    clean_track = map(x -> x == \"\" ? \" \" : x, race_track)\n",
    "    print(\"Voici the race track!!!\\n\") \n",
    "    clean_track[pos[1], pos[2]] = \"+\"\n",
    "    for i in 1:size(clean_track, 1)\n",
    "        print(join(clean_track[i,:], \" \"), \"\\n\")\n",
    "    end\n",
    "    print(\"F: finishing line\\n*: out of the track\\n+: racer\\n\")\n",
    "end\n",
    "print_race_track(race_track, [18, 3])"
   ]
  },
  {
   "cell_type": "code",
   "execution_count": 32,
   "metadata": {
    "collapsed": false
   },
   "outputs": [
    {
     "name": "stderr",
     "output_type": "stream",
     "text": [
      "WARNING: Method definition trans_fun(Any, Any) in module Main at In[24]:7 overwritten at In[32]:7.\n"
     ]
    },
    {
     "data": {
      "text/plain": [
       "trans_fun (generic function with 1 method)"
      ]
     },
     "execution_count": 32,
     "metadata": {},
     "output_type": "execute_result"
    }
   ],
   "source": [
    "# Truco julia: list comprehensions\n",
    "state_space= [[i, j] for i in 1:size(race_track,1) for j in 1:size(race_track,2)]\n",
    "# Trucho julia 2: hacer funciones en una linea facilmente\n",
    "action_set = state -> [\"up\", \"left\", \"right\", \"down\"]\n",
    "# Cosa 3 que necesitamos es una funcion de transicion\n",
    "function trans_fun(state, action)\n",
    "    i, j = state # julia trick\n",
    "    if (action == \"up\" && i > 1) i = i - 1 end\n",
    "    if (action == \"down\" && i < size(race_track, 1)) i = i + 1 end\n",
    "    if (action == \"left\" && j > 1) j = j - 1 end\n",
    "    if (action == \"right\" && j < size(race_track, 2)) j = j + 1 end\n",
    "    new_state = [i, j]\n",
    "    reward = -1 # default\n",
    "    if race_track[i, j] == \"*\" reward = -10 end\n",
    "    if race_track[i, j] == \"F\" reward = 0 end\n",
    "    return new_state, reward\n",
    "end"
   ]
  },
  {
   "cell_type": "code",
   "execution_count": 35,
   "metadata": {
    "collapsed": false
   },
   "outputs": [
    {
     "name": "stdout",
     "output_type": "stream",
     "text": [
      "Starting from [18,1] choosing up, moving to [17,1] and receiving reward -10\n"
     ]
    }
   ],
   "source": [
    "state = [18, 1]\n",
    "action = \"up\"\n",
    "new_state, reward = trans_fun(state, action)\n",
    "println(\"Starting from $start choosing $action, moving to $new_state and receiving reward $reward\")"
   ]
  },
  {
   "cell_type": "code",
   "execution_count": 37,
   "metadata": {
    "collapsed": false
   },
   "outputs": [
    {
     "name": "stdout",
     "output_type": "stream",
     "text": [
      "Starting from [18,1] choosing up, moving to [17,1] and receiving reward -10\n"
     ]
    }
   ],
   "source": [
    "race_task = RLEnv(state_space, action_set, trans_fun)\n",
    "state = [18, 1]\n",
    "action = \"up\"\n",
    "new_state, reward = race_task.trans_fun(state, action)\n",
    "println(\"Starting from $start choosing $action, moving to $new_state and receiving reward $reward\")"
   ]
  },
  {
   "cell_type": "markdown",
   "metadata": {},
   "source": [
    "### Quien esta corriendo?????\n",
    "\n",
    "Necesitamos el corredor: el agente"
   ]
  },
  {
   "cell_type": "code",
   "execution_count": 38,
   "metadata": {
    "collapsed": false
   },
   "outputs": [
    {
     "data": {
      "text/plain": [
       "RLAgent([18,3],policy)"
      ]
     },
     "execution_count": 38,
     "metadata": {},
     "output_type": "execute_result"
    }
   ],
   "source": [
    "# Primera politica\n",
    "policy(state) = rand([\"up\", \"left\", \"right\", \"down\"])\n",
    "init_state = [18, 3]\n",
    "agent = RLAgent(init_state, policy)"
   ]
  },
  {
   "cell_type": "code",
   "execution_count": 39,
   "metadata": {
    "collapsed": false
   },
   "outputs": [
    {
     "name": "stdout",
     "output_type": "stream",
     "text": [
      "Moving to position [18,4] receiving -1\n",
      "Moving to position [18,3] receiving -1\n",
      "Moving to position [18,4] receiving -1\n",
      "Moving to position [18,4] receiving -1\n",
      "Moving to position [18,3] receiving -1\n",
      "Moving to position [17,3] receiving -1\n",
      "Moving to position [17,2] receiving -10\n",
      "Moving to position [16,2] receiving -10\n",
      "Moving to position [17,2] receiving -10\n",
      "Moving to position [16,2] receiving -10\n",
      "Moving to position [17,2] receiving -10\n",
      "Moving to position [17,1] receiving -10\n",
      "Moving to position [18,1] receiving -10\n",
      "Moving to position [18,1] receiving -10\n",
      "Moving to position [18,1] receiving -10\n",
      "Moving to position [18,2] receiving -10\n",
      "Moving to position [17,2] receiving -10\n",
      "Moving to position [17,1] receiving -10\n",
      "Moving to position [16,1] receiving -10\n",
      "Moving to position [15,1] receiving -10\n"
     ]
    }
   ],
   "source": [
    "for i in 1:20\n",
    "    s, r = interact!(agent, race_task)\n",
    "    println(\"Moving to position $s receiving $r\")\n",
    "end"
   ]
  },
  {
   "cell_type": "code",
   "execution_count": 41,
   "metadata": {
    "collapsed": false
   },
   "outputs": [
    {
     "name": "stdout",
     "output_type": "stream",
     "text": [
      "Voici the race track!!!\n",
      "* * * * * * * * * * * F F F F * *\n",
      "* * * * * * * * * *           * *\n",
      "* * * * * * * * *           * * *\n",
      "* * * * * * *             * * * *\n",
      "* * * * * *             * * * * *\n",
      "* * * * *           * + * * * * *\n",
      "* * * *           * * * * * * * *\n",
      "* * *           * * * * * * * * *\n",
      "* *           * * * * * * * * * *\n",
      "* *           * * * * * * * * * *\n",
      "* *         * * * * * * * * * * *\n",
      "* *         * * * * * * * * * * *\n",
      "* *         * * * * * * * * * * *\n",
      "* *         * * * * * * * * * * *\n",
      "* *         * * * * * * * * * * *\n",
      "* *         * * * * * * * * * * *\n",
      "* *         * * * * * * * * * * *\n",
      "* *         * * * * * * * * * * *\n",
      "F: finishing line\n",
      "*: out of the track\n",
      "+: racer\n"
     ]
    }
   ],
   "source": [
    "agent.state = [18, 3]\n",
    "for i in 1:100\n",
    "    s, r = interact!(agent, race_task)\n",
    "    IJulia.clear_output()\n",
    "    print_race_track(race_track, s)\n",
    "    sleep(0.3)\n",
    "end"
   ]
  },
  {
   "cell_type": "markdown",
   "metadata": {},
   "source": [
    "## Ahora sí las carreras!!!!!!"
   ]
  },
  {
   "cell_type": "code",
   "execution_count": 44,
   "metadata": {
    "collapsed": false
   },
   "outputs": [
    {
     "data": {
      "text/plain": [
       "4-element Array{Array{Int64,1},1}:\n",
       " [1,12]\n",
       " [1,13]\n",
       " [1,14]\n",
       " [1,15]"
      ]
     },
     "execution_count": 44,
     "metadata": {},
     "output_type": "execute_result"
    }
   ],
   "source": [
    "states = race_task.state_space\n",
    "finish_line = [x for x in states if race_track[x...] == \"F\"]"
   ]
  },
  {
   "cell_type": "code",
   "execution_count": 122,
   "metadata": {
    "collapsed": false
   },
   "outputs": [
    {
     "name": "stderr",
     "output_type": "stream",
     "text": [
      "WARNING: Method definition race_episode(Any, Any) in module Main at In[115]:2 overwritten at In[122]:2.\n",
      "WARNING: Method definition #race_episode(Array{Any, 1}, Main.#race_episode, Any, Any) in module Main overwritten.\n",
      "WARNING: Method definition race_episode(Any, Any, Any) in module Main at In[115]:15 overwritten at In[122]:15.\n",
      "WARNING: Method definition #race_episode(Array{Any, 1}, Main.#race_episode, Any, Any, Any) in module Main overwritten.\n"
     ]
    },
    {
     "data": {
      "text/plain": [
       "race_episode (generic function with 3 methods)"
      ]
     },
     "execution_count": 122,
     "metadata": {},
     "output_type": "execute_result"
    }
   ],
   "source": [
    "function race_episode(agent, state; max_steps = 10000)\n",
    "    step = 0\n",
    "    total_reward = 0\n",
    "    terminate = (state in finish_line)\n",
    "    agent.state = state\n",
    "    while !terminate && step < max_steps\n",
    "        new_state, reward = interact!(agent, race_task)\n",
    "        terminate = (agent.state in finish_line)\n",
    "        step += 1\n",
    "        total_reward += reward\n",
    "    end\n",
    "    return step, total_reward\n",
    "end\n",
    "function race_episode(agent, state, action; max_steps = 10000)\n",
    "    step = 0\n",
    "    total_reward = 0\n",
    "    terminate = (state in finish_line)\n",
    "    agent.state = state\n",
    "    if !terminate\n",
    "        new_state, reward = interact_given_action!(agent, race_task, action)\n",
    "        terminate = (agent.state in finish_line)\n",
    "        step += 1\n",
    "        total_reward += reward \n",
    "    end\n",
    "    while !terminate && step < max_steps\n",
    "        new_state, reward = interact!(agent, race_task)\n",
    "        terminate = (agent.state in finish_line)\n",
    "        step += 1\n",
    "        total_reward += reward\n",
    "    end\n",
    "    return step, total_reward\n",
    "end"
   ]
  },
  {
   "cell_type": "code",
   "execution_count": 123,
   "metadata": {
    "collapsed": false
   },
   "outputs": [
    {
     "name": "stdout",
     "output_type": "stream",
     "text": [
      "Termino la carrera despues de 713 pasos con reward -5428\n"
     ]
    }
   ],
   "source": [
    "steps, reward = race_episode(agent, [18, 3])\n",
    "println(\"Termino la carrera despues de $steps pasos con reward $reward\")"
   ]
  },
  {
   "cell_type": "code",
   "execution_count": 129,
   "metadata": {
    "collapsed": false
   },
   "outputs": [
    {
     "name": "stdout",
     "output_type": "stream",
     "text": [
      "Termino la carrera despues de 3490 pasos con reward -22857 empezando con up\n"
     ]
    }
   ],
   "source": [
    "steps, reward = race_episode(agent, [18, 3], \"up\")\n",
    "println(\"Termino la carrera despues de $steps pasos con reward $reward empezando con up\")"
   ]
  },
  {
   "cell_type": "markdown",
   "metadata": {},
   "source": [
    "# Let's learn!!"
   ]
  },
  {
   "cell_type": "code",
   "execution_count": 133,
   "metadata": {
    "collapsed": false
   },
   "outputs": [
    {
     "name": "stdout",
     "output_type": "stream",
     "text": [
      "El valor de empezar en la posicion [2,16] con accion up es -1060.8700000000022\n"
     ]
    }
   ],
   "source": [
    "state = [2, 16]\n",
    "action = \"up\"\n",
    "qsa = 0\n",
    "for i in 1:1000\n",
    "    steps, total_reward = race_episode(agent, state, action)\n",
    "    qsa += (total_reward - qsa) / i\n",
    "end\n",
    "println(\"El valor de empezar en la posicion $state con accion $action es $qsa\")"
   ]
  },
  {
   "cell_type": "code",
   "execution_count": 140,
   "metadata": {
    "collapsed": false
   },
   "outputs": [],
   "source": [
    "# using NamedArrays #Pkg.add(\"NamedArrays\")\n",
    "n_states = size(state_space, 1)\n",
    "n_actions = 4\n",
    "Q = zeros(n_states, n_actions)\n",
    "for i in 1:n_states\n",
    "    for j in 1:n_actions\n",
    "        s = state_space[i]\n",
    "        a = race_task.action_set(s)[j]\n",
    "        qsa = 0\n",
    "        for k in 1:100\n",
    "            steps, total_reward = race_episode(agent, s, a)\n",
    "            qsa += (total_reward - qsa) / k\n",
    "        end \n",
    "        Q[i, j] = qsa\n",
    "    end\n",
    "end"
   ]
  },
  {
   "cell_type": "code",
   "execution_count": 141,
   "metadata": {
    "collapsed": false
   },
   "outputs": [
    {
     "data": {
      "text/plain": [
       "306×4 Array{Float64,2}:\n",
       "  -7477.83  -7810.18  -6733.12   -9058.55\n",
       "  -6660.32  -7248.03  -7637.39   -6406.63\n",
       "  -5763.84  -7723.01  -5888.19   -7161.78\n",
       "  -6920.83  -6250.54  -5413.99   -6804.23\n",
       "  -6291.67  -7023.96  -5830.46   -6648.4 \n",
       "  -4795.43  -6660.65  -5790.87   -5657.02\n",
       "  -5891.97  -5719.41  -5990.87   -5424.97\n",
       "  -4574.76  -6203.56  -3680.84   -5012.16\n",
       "  -4713.78  -5638.07  -3479.87   -6134.13\n",
       "  -4965.81  -3919.55  -1652.55   -4058.66\n",
       "  -2446.05  -3983.56      0.0    -2454.89\n",
       "      0.0       0.0       0.0        0.0 \n",
       "      0.0       0.0       0.0        0.0 \n",
       "      ⋮                                  \n",
       "  -7966.1   -8645.99  -7823.74   -7979.24\n",
       " -10298.6   -7366.03  -8710.59   -8309.73\n",
       "  -7162.51  -9171.87  -8837.74  -10024.8 \n",
       "  -8676.65  -8560.73  -8134.07   -8044.47\n",
       "  -8382.81  -8330.86  -8667.11   -7772.7 \n",
       "  -8330.15  -9698.92  -9007.81   -9362.5 \n",
       "  -8922.93  -8603.48  -8092.33   -8025.64\n",
       "  -7126.28  -8644.43  -8851.09   -7436.26\n",
       "  -8410.19  -8525.67  -8584.88   -8941.08\n",
       "  -8824.19  -8297.89  -8488.06   -8962.65\n",
       "  -9515.91  -8992.34  -7541.2    -7809.16\n",
       "  -8388.21  -9369.35  -8571.21   -9787.33"
      ]
     },
     "execution_count": 141,
     "metadata": {},
     "output_type": "execute_result"
    }
   ],
   "source": [
    "Q"
   ]
  },
  {
   "cell_type": "code",
   "execution_count": 145,
   "metadata": {
    "collapsed": false
   },
   "outputs": [
    {
     "name": "stdout",
     "output_type": "stream",
     "text": [
      "Best choice in state [1,1] is action right\n",
      "Best choice in state [1,2] is action down\n",
      "Best choice in state [1,3] is action up\n",
      "Best choice in state [1,4] is action right\n",
      "Best choice in state [1,5] is action right\n",
      "Best choice in state [1,6] is action up\n",
      "Best choice in state [1,7] is action down\n",
      "Best choice in state [1,8] is action right\n",
      "Best choice in state [1,9] is action right\n",
      "Best choice in state [1,10] is action right\n",
      "Best choice in state [1,11] is action right\n",
      "Best choice in state [1,12] is action up\n",
      "Best choice in state [1,13] is action up\n",
      "Best choice in state [1,14] is action up\n",
      "Best choice in state [1,15] is action up\n",
      "Best choice in state [1,16] is action left\n",
      "Best choice in state [1,17] is action left\n",
      "Best choice in state [2,1] is action down\n",
      "Best choice in state [2,2] is action up\n",
      "Best choice in state [2,3] is action right\n",
      "Best choice in state [2,4] is action up\n",
      "Best choice in state [2,5] is action down\n",
      "Best choice in state [2,6] is action right\n",
      "Best choice in state [2,7] is action left\n",
      "Best choice in state [2,8] is action right\n",
      "Best choice in state [2,9] is action up\n",
      "Best choice in state [2,10] is action right\n",
      "Best choice in state [2,11] is action right\n",
      "Best choice in state [2,12] is action up\n",
      "Best choice in state [2,13] is action up\n",
      "Best choice in state [2,14] is action up\n",
      "Best choice in state [2,15] is action up\n",
      "Best choice in state [2,16] is action left\n",
      "Best choice in state [2,17] is action up\n",
      "Best choice in state [3,1] is action right\n",
      "Best choice in state [3,2] is action down\n",
      "Best choice in state [3,3] is action right\n",
      "Best choice in state [3,4] is action up\n",
      "Best choice in state [3,5] is action right\n",
      "Best choice in state [3,6] is action right\n",
      "Best choice in state [3,7] is action up\n",
      "Best choice in state [3,8] is action up\n",
      "Best choice in state [3,9] is action right\n",
      "Best choice in state [3,10] is action up\n",
      "Best choice in state [3,11] is action up\n",
      "Best choice in state [3,12] is action right\n",
      "Best choice in state [3,13] is action up\n",
      "Best choice in state [3,14] is action right\n",
      "Best choice in state [3,15] is action up\n",
      "Best choice in state [3,16] is action up\n",
      "Best choice in state [3,17] is action left\n",
      "Best choice in state [4,1] is action right\n",
      "Best choice in state [4,2] is action left\n",
      "Best choice in state [4,3] is action right\n",
      "Best choice in state [4,4] is action right\n",
      "Best choice in state [4,5] is action up\n",
      "Best choice in state [4,6] is action right\n",
      "Best choice in state [4,7] is action up\n",
      "Best choice in state [4,8] is action right\n",
      "Best choice in state [4,9] is action right\n",
      "Best choice in state [4,10] is action right\n",
      "Best choice in state [4,11] is action up\n",
      "Best choice in state [4,12] is action up\n",
      "Best choice in state [4,13] is action left\n",
      "Best choice in state [4,14] is action right\n",
      "Best choice in state [4,15] is action left\n",
      "Best choice in state [4,16] is action right\n",
      "Best choice in state [4,17] is action up\n",
      "Best choice in state [5,1] is action up\n",
      "Best choice in state [5,2] is action left\n",
      "Best choice in state [5,3] is action up\n",
      "Best choice in state [5,4] is action up\n",
      "Best choice in state [5,5] is action right\n",
      "Best choice in state [5,6] is action down\n",
      "Best choice in state [5,7] is action down\n",
      "Best choice in state [5,8] is action left\n",
      "Best choice in state [5,9] is action up\n",
      "Best choice in state [5,10] is action up\n",
      "Best choice in state [5,11] is action up\n",
      "Best choice in state [5,12] is action up\n",
      "Best choice in state [5,13] is action up\n",
      "Best choice in state [5,14] is action up\n",
      "Best choice in state [5,15] is action left\n",
      "Best choice in state [5,16] is action up\n",
      "Best choice in state [5,17] is action right\n",
      "Best choice in state [6,1] is action down\n",
      "Best choice in state [6,2] is action left\n",
      "Best choice in state [6,3] is action down\n",
      "Best choice in state [6,4] is action right\n",
      "Best choice in state [6,5] is action up\n",
      "Best choice in state [6,6] is action up\n",
      "Best choice in state [6,7] is action right\n",
      "Best choice in state [6,8] is action right\n",
      "Best choice in state [6,9] is action up\n",
      "Best choice in state [6,10] is action up\n",
      "Best choice in state [6,11] is action up\n",
      "Best choice in state [6,12] is action up\n",
      "Best choice in state [6,13] is action right\n",
      "Best choice in state [6,14] is action up\n",
      "Best choice in state [6,15] is action up\n",
      "Best choice in state [6,16] is action up\n",
      "Best choice in state [6,17] is action up\n",
      "Best choice in state [7,1] is action right\n",
      "Best choice in state [7,2] is action right\n",
      "Best choice in state [7,3] is action right\n",
      "Best choice in state [7,4] is action right\n",
      "Best choice in state [7,5] is action up\n",
      "Best choice in state [7,6] is action up\n",
      "Best choice in state [7,7] is action down\n",
      "Best choice in state [7,8] is action left\n",
      "Best choice in state [7,9] is action up\n",
      "Best choice in state [7,10] is action left\n",
      "Best choice in state [7,11] is action up\n",
      "Best choice in state [7,12] is action up\n",
      "Best choice in state [7,13] is action left\n",
      "Best choice in state [7,14] is action up\n",
      "Best choice in state [7,15] is action down\n",
      "Best choice in state [7,16] is action right\n",
      "Best choice in state [7,17] is action up\n",
      "Best choice in state [8,1] is action left\n",
      "Best choice in state [8,2] is action left\n",
      "Best choice in state [8,3] is action right\n",
      "Best choice in state [8,4] is action down\n",
      "Best choice in state [8,5] is action up\n",
      "Best choice in state [8,6] is action left\n",
      "Best choice in state [8,7] is action right\n",
      "Best choice in state [8,8] is action up\n",
      "Best choice in state [8,9] is action up\n",
      "Best choice in state [8,10] is action up\n",
      "Best choice in state [8,11] is action left\n",
      "Best choice in state [8,12] is action up\n",
      "Best choice in state [8,13] is action up\n",
      "Best choice in state [8,14] is action up\n",
      "Best choice in state [8,15] is action up\n",
      "Best choice in state [8,16] is action right\n",
      "Best choice in state [8,17] is action up\n",
      "Best choice in state [9,1] is action down\n",
      "Best choice in state [9,2] is action left\n",
      "Best choice in state [9,3] is action right\n",
      "Best choice in state [9,4] is action right\n",
      "Best choice in state [9,5] is action right\n",
      "Best choice in state [9,6] is action up\n",
      "Best choice in state [9,7] is action up\n",
      "Best choice in state [9,8] is action right\n",
      "Best choice in state [9,9] is action right\n",
      "Best choice in state [9,10] is action right\n",
      "Best choice in state [9,11] is action right\n",
      "Best choice in state [9,12] is action up\n",
      "Best choice in state [9,13] is action left\n",
      "Best choice in state [9,14] is action up\n",
      "Best choice in state [9,15] is action up\n",
      "Best choice in state [9,16] is action up\n",
      "Best choice in state [9,17] is action up\n",
      "Best choice in state [10,1] is action down\n",
      "Best choice in state [10,2] is action right\n",
      "Best choice in state [10,3] is action right\n",
      "Best choice in state [10,4] is action down\n",
      "Best choice in state [10,5] is action up\n",
      "Best choice in state [10,6] is action up\n",
      "Best choice in state [10,7] is action up\n",
      "Best choice in state [10,8] is action right\n",
      "Best choice in state [10,9] is action right\n",
      "Best choice in state [10,10] is action right\n",
      "Best choice in state [10,11] is action left\n",
      "Best choice in state [10,12] is action left\n",
      "Best choice in state [10,13] is action up\n",
      "Best choice in state [10,14] is action up\n",
      "Best choice in state [10,15] is action up\n",
      "Best choice in state [10,16] is action up\n",
      "Best choice in state [10,17] is action up\n",
      "Best choice in state [11,1] is action right\n",
      "Best choice in state [11,2] is action left\n",
      "Best choice in state [11,3] is action right\n",
      "Best choice in state [11,4] is action up\n",
      "Best choice in state [11,5] is action right\n",
      "Best choice in state [11,6] is action down\n",
      "Best choice in state [11,7] is action right\n",
      "Best choice in state [11,8] is action up\n",
      "Best choice in state [11,9] is action right\n",
      "Best choice in state [11,10] is action up\n",
      "Best choice in state [11,11] is action up\n",
      "Best choice in state [11,12] is action right\n",
      "Best choice in state [11,13] is action left\n",
      "Best choice in state [11,14] is action up\n",
      "Best choice in state [11,15] is action up\n",
      "Best choice in state [11,16] is action left\n",
      "Best choice in state [11,17] is action left\n",
      "Best choice in state [12,1] is action right\n",
      "Best choice in state [12,2] is action right\n",
      "Best choice in state [12,3] is action up\n",
      "Best choice in state [12,4] is action up\n",
      "Best choice in state [12,5] is action up\n",
      "Best choice in state [12,6] is action up\n",
      "Best choice in state [12,7] is action up\n",
      "Best choice in state [12,8] is action left\n",
      "Best choice in state [12,9] is action up\n",
      "Best choice in state [12,10] is action up\n",
      "Best choice in state [12,11] is action right\n",
      "Best choice in state [12,12] is action up\n",
      "Best choice in state [12,13] is action up\n",
      "Best choice in state [12,14] is action left\n",
      "Best choice in state [12,15] is action up\n",
      "Best choice in state [12,16] is action up\n",
      "Best choice in state [12,17] is action up\n",
      "Best choice in state [13,1] is action down\n",
      "Best choice in state [13,2] is action up\n",
      "Best choice in state [13,3] is action right\n",
      "Best choice in state [13,4] is action right\n",
      "Best choice in state [13,5] is action left\n",
      "Best choice in state [13,6] is action down\n",
      "Best choice in state [13,7] is action right\n",
      "Best choice in state [13,8] is action down\n",
      "Best choice in state [13,9] is action left\n",
      "Best choice in state [13,10] is action left\n",
      "Best choice in state [13,11] is action up\n",
      "Best choice in state [13,12] is action up\n",
      "Best choice in state [13,13] is action down\n",
      "Best choice in state [13,14] is action left\n",
      "Best choice in state [13,15] is action right\n",
      "Best choice in state [13,16] is action right\n",
      "Best choice in state [13,17] is action left\n",
      "Best choice in state [14,1] is action right\n",
      "Best choice in state [14,2] is action up\n",
      "Best choice in state [14,3] is action left\n",
      "Best choice in state [14,4] is action right\n",
      "Best choice in state [14,5] is action down\n",
      "Best choice in state [14,6] is action down\n",
      "Best choice in state [14,7] is action down\n",
      "Best choice in state [14,8] is action down\n",
      "Best choice in state [14,9] is action up\n",
      "Best choice in state [14,10] is action left\n",
      "Best choice in state [14,11] is action down\n",
      "Best choice in state [14,12] is action left\n",
      "Best choice in state [14,13] is action up\n",
      "Best choice in state [14,14] is action left\n",
      "Best choice in state [14,15] is action right\n",
      "Best choice in state [14,16] is action up\n",
      "Best choice in state [14,17] is action up\n",
      "Best choice in state [15,1] is action up\n",
      "Best choice in state [15,2] is action up\n",
      "Best choice in state [15,3] is action down\n",
      "Best choice in state [15,4] is action left\n",
      "Best choice in state [15,5] is action right\n",
      "Best choice in state [15,6] is action up\n",
      "Best choice in state [15,7] is action right\n",
      "Best choice in state [15,8] is action right\n",
      "Best choice in state [15,9] is action up\n",
      "Best choice in state [15,10] is action right\n",
      "Best choice in state [15,11] is action left\n",
      "Best choice in state [15,12] is action left\n",
      "Best choice in state [15,13] is action down\n",
      "Best choice in state [15,14] is action up\n",
      "Best choice in state [15,15] is action up\n",
      "Best choice in state [15,16] is action right\n",
      "Best choice in state [15,17] is action right\n",
      "Best choice in state [16,1] is action down\n",
      "Best choice in state [16,2] is action up\n",
      "Best choice in state [16,3] is action left\n",
      "Best choice in state [16,4] is action up\n",
      "Best choice in state [16,5] is action left\n",
      "Best choice in state [16,6] is action up\n",
      "Best choice in state [16,7] is action up\n",
      "Best choice in state [16,8] is action left\n",
      "Best choice in state [16,9] is action up\n",
      "Best choice in state [16,10] is action left\n",
      "Best choice in state [16,11] is action up\n",
      "Best choice in state [16,12] is action right\n",
      "Best choice in state [16,13] is action up\n",
      "Best choice in state [16,14] is action left\n",
      "Best choice in state [16,15] is action up\n",
      "Best choice in state [16,16] is action right\n",
      "Best choice in state [16,17] is action up\n",
      "Best choice in state [17,1] is action left\n",
      "Best choice in state [17,2] is action up\n",
      "Best choice in state [17,3] is action down\n",
      "Best choice in state [17,4] is action right\n",
      "Best choice in state [17,5] is action up\n",
      "Best choice in state [17,6] is action up\n",
      "Best choice in state [17,7] is action left\n",
      "Best choice in state [17,8] is action left\n",
      "Best choice in state [17,9] is action up\n",
      "Best choice in state [17,10] is action right\n",
      "Best choice in state [17,11] is action up\n",
      "Best choice in state [17,12] is action up\n",
      "Best choice in state [17,13] is action right\n",
      "Best choice in state [17,14] is action left\n",
      "Best choice in state [17,15] is action right\n",
      "Best choice in state [17,16] is action up\n",
      "Best choice in state [17,17] is action down\n",
      "Best choice in state [18,1] is action left\n",
      "Best choice in state [18,2] is action up\n",
      "Best choice in state [18,3] is action up\n",
      "Best choice in state [18,4] is action up\n",
      "Best choice in state [18,5] is action up\n",
      "Best choice in state [18,6] is action right\n",
      "Best choice in state [18,7] is action left\n",
      "Best choice in state [18,8] is action up\n",
      "Best choice in state [18,9] is action down\n",
      "Best choice in state [18,10] is action down\n",
      "Best choice in state [18,11] is action up\n",
      "Best choice in state [18,12] is action down\n",
      "Best choice in state [18,13] is action up\n",
      "Best choice in state [18,14] is action up\n",
      "Best choice in state [18,15] is action left\n",
      "Best choice in state [18,16] is action right\n",
      "Best choice in state [18,17] is action up\n"
     ]
    }
   ],
   "source": [
    "\n",
    "for i in 1:n_states\n",
    "    state = race_task.state_space[i]\n",
    "    max, idx = findmax(Q[i,:])\n",
    "    action = race_task.action_set(state)[idx]\n",
    "    println(\"Best choice in state $state is action $action\")\n",
    "end\n",
    "function improved_policy(state)\n",
    "    max, idx = findmax(Q[i,:])\n",
    "    race_task.action_set(state)[idx]      \n",
    "end"
   ]
  },
  {
   "cell_type": "code",
   "execution_count": 142,
   "metadata": {
    "collapsed": false
   },
   "outputs": [
    {
     "data": {
      "text/plain": [
       "(3,1)"
      ]
     },
     "execution_count": 142,
     "metadata": {},
     "output_type": "execute_result"
    }
   ],
   "source": [
    "# Mejorar agent\n",
    "agent.policy = improved_policy"
   ]
  },
  {
   "cell_type": "code",
   "execution_count": null,
   "metadata": {
    "collapsed": true
   },
   "outputs": [],
   "source": [
    "i"
   ]
  }
 ],
 "metadata": {
  "kernelspec": {
   "display_name": "Julia 0.5.1",
   "language": "julia",
   "name": "julia-0.5"
  },
  "language_info": {
   "file_extension": ".jl",
   "mimetype": "application/julia",
   "name": "julia",
   "version": "0.5.1"
  }
 },
 "nbformat": 4,
 "nbformat_minor": 1
}
