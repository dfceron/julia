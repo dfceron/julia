{
 "cells": [
  {
   "cell_type": "code",
   "execution_count": 1,
   "metadata": {
    "collapsed": false
   },
   "outputs": [],
   "source": [
    "workspace()\n",
    "include(\"PixelArts/PixelArts.jl\")\n",
    "include(\"RL/RL.jl\")\n",
    "using RL\n",
    "using PixelArts"
   ]
  },
  {
   "cell_type": "code",
   "execution_count": 2,
   "metadata": {
    "collapsed": false
   },
   "outputs": [
    {
     "data": {
      "text/plain": [
       "RL.circuit(Array{Int64,1}[[1, 1], [1, 2], [1, 3], [1, 4], [1, 5], [1, 6], [1, 7], [1, 8], [1, 9], [1, 10]  …  [18, 21], [18, 22], [18, 23], [18, 24], [18, 25], [18, 26], [18, 27], [18, 28], [18, 29], [18, 30]], RL.actions, RL.step, RL.task_end, Array{Int64,1}[[4, 15], [5, 15], [6, 15]], Any[\"*\" \"*\" … \"*\" \"*\"; \"*\" \"*\" … \"*\" \"*\"; … ; \"*\" \"*\" … \"*\" \"*\"; \"*\" \"*\" … \"*\" \"*\"])"
      ]
     },
     "execution_count": 2,
     "metadata": {},
     "output_type": "execute_result"
    }
   ],
   "source": [
    "c = circuit_env()"
   ]
  },
  {
   "cell_type": "code",
   "execution_count": 3,
   "metadata": {
    "collapsed": false
   },
   "outputs": [
    {
     "data": {
      "text/html": [
       "<div class=\"usersvg\">\n",
       "<svg id='circuitSDj' width='600' height='400' viewbox='0 0 30 18'></svg>\n",
       "</div>\n",
       "<script> \n",
       "requirejs.config({paths: {d3: \"https://d3js.org/d3.v3.min.js?noext\"}});  \n",
       "</script>\n"
      ]
     },
     "metadata": {},
     "output_type": "display_data"
    },
    {
     "data": {
      "text/html": [
       "<script>\n",
       "    require(['d3'],  function(d3) {\n",
       "    d3.select(\".usersvg #circuitSDj\")\n",
       "  .append(\"rect\")\n",
       "      .attr(\"width\", \"1\")\n",
       "      .attr(\"height\", \"1\")\n",
       "      .attr(\"transform\", \"translate(0 0)\")\n",
       "      .style(\"fill\", \"green\");\n",
       "d3.select(\".usersvg #circuitSDj\")\n",
       "  .append(\"rect\")\n",
       "      .attr(\"width\", \"1\")\n",
       "      .attr(\"height\", \"1\")\n",
       "      .attr(\"transform\", \"translate(1 0)\")\n",
       "      .style(\"fill\", \"green\");\n",
       "d3.select(\".usersvg #circuitSDj\")\n",
       "  .append(\"rect\")\n",
       "      .attr(\"width\", \"1\")\n",
       "      .attr(\"height\", \"1\")\n",
       "      .attr(\"transform\", \"translate(2 0)\")\n",
       "      .style(\"fill\", \"green\");\n",
       "d3.select(\".usersvg #circuitSDj\")\n",
       "  .append(\"rect\")\n",
       "      .attr(\"width\", \"1\")\n",
       "      .attr(\"height\", \"1\")\n",
       "      .attr(\"transform\", \"translate(3 0)\")\n",
       "      .style(\"fill\", \"green\");\n",
       "d3.select(\".usersvg #circuitSDj\")\n",
       "  .append(\"rect\")\n",
       "      .attr(\"width\", \"1\")\n",
       "      .attr(\"height\", \"1\")\n",
       "      .attr(\"transform\", \"translate(4 0)\")\n",
       "      .style(\"fill\", \"green\");\n",
       "d3.select(\".usersvg #circuitSDj\")\n",
       "  .append(\"rect\")\n",
       "      .attr(\"width\", \"1\")\n",
       "      .attr(\"height\", \"1\")\n",
       "      .attr(\"transform\", \"translate(5 0)\")\n",
       "      .style(\"fill\", \"green\");\n",
       "d3.select(\".usersvg #circuitSDj\")\n",
       "  .append(\"rect\")\n",
       "      .attr(\"width\", \"1\")\n",
       "      .attr(\"height\", \"1\")\n",
       "      .attr(\"transform\", \"translate(6 0)\")\n",
       "      .style(\"fill\", \"green\");\n",
       "d3.select(\".usersvg #circuitSDj\")\n",
       "  .append(\"rect\")\n",
       "      .attr(\"width\", \"1\")\n",
       "      .attr(\"height\", \"1\")\n",
       "      .attr(\"transform\", \"translate(7 0)\")\n",
       "      .style(\"fill\", \"green\");\n",
       "d3.select(\".usersvg #circuitSDj\")\n",
       "  .append(\"rect\")\n",
       "      .attr(\"width\", \"1\")\n",
       "      .attr(\"height\", \"1\")\n",
       "      .attr(\"transform\", \"translate(8 0)\")\n",
       "      .style(\"fill\", \"green\");\n",
       "d3.select(\".usersvg #circuitSDj\")\n",
       "  .append(\"rect\")\n",
       "      .attr(\"width\", \"1\")\n",
       "      .attr(\"height\", \"1\")\n",
       "      .attr(\"transform\", \"translate(9 0)\")\n",
       "      .style(\"fill\", \"green\");\n",
       "d3.select(\".usersvg #circuitSDj\")\n",
       "  .append(\"rect\")\n",
       "      .attr(\"width\", \"1\")\n",
       "      .attr(\"height\", \"1\")\n",
       "      .attr(\"transform\", \"translate(10 0)\")\n",
       "      .style(\"fill\", \"green\");\n",
       "d3.select(\".usersvg #circuitSDj\")\n",
       "  .append(\"rect\")\n",
       "      .attr(\"width\", \"1\")\n",
       "      .attr(\"height\", \"1\")\n",
       "      .attr(\"transform\", \"translate(11 0)\")\n",
       "      .style(\"fill\", \"green\");\n",
       "d3.select(\".usersvg #circuitSDj\")\n",
       "  .append(\"rect\")\n",
       "      .attr(\"width\", \"1\")\n",
       "      .attr(\"height\", \"1\")\n",
       "      .attr(\"transform\", \"translate(12 0)\")\n",
       "      .style(\"fill\", \"green\");\n",
       "d3.select(\".usersvg #circuitSDj\")\n",
       "  .append(\"rect\")\n",
       "      .attr(\"width\", \"1\")\n",
       "      .attr(\"height\", \"1\")\n",
       "      .attr(\"transform\", \"translate(13 0)\")\n",
       "      .style(\"fill\", \"green\");\n",
       "d3.select(\".usersvg #circuitSDj\")\n",
       "  .append(\"rect\")\n",
       "      .attr(\"width\", \"1\")\n",
       "      .attr(\"height\", \"1\")\n",
       "      .attr(\"transform\", \"translate(14 0)\")\n",
       "      .style(\"fill\", \"green\");\n",
       "d3.select(\".usersvg #circuitSDj\")\n",
       "  .append(\"rect\")\n",
       "      .attr(\"width\", \"1\")\n",
       "      .attr(\"height\", \"1\")\n",
       "      .attr(\"transform\", \"translate(15 0)\")\n",
       "      .style(\"fill\", \"green\");\n",
       "d3.select(\".usersvg #circuitSDj\")\n",
       "  .append(\"rect\")\n",
       "      .attr(\"width\", \"1\")\n",
       "      .attr(\"height\", \"1\")\n",
       "      .attr(\"transform\", \"translate(16 0)\")\n",
       "      .style(\"fill\", \"green\");\n",
       "d3.select(\".usersvg #circuitSDj\")\n",
       "  .append(\"rect\")\n",
       "      .attr(\"width\", \"1\")\n",
       "      .attr(\"height\", \"1\")\n",
       "      .attr(\"transform\", \"translate(17 0)\")\n",
       "      .style(\"fill\", \"green\");\n",
       "d3.select(\".usersvg #circuitSDj\")\n",
       "  .append(\"rect\")\n",
       "      .attr(\"width\", \"1\")\n",
       "      .attr(\"height\", \"1\")\n",
       "      .attr(\"transform\", \"translate(18 0)\")\n",
       "      .style(\"fill\", \"green\");\n",
       "d3.select(\".usersvg #circuitSDj\")\n",
       "  .append(\"rect\")\n",
       "      .attr(\"width\", \"1\")\n",
       "      .attr(\"height\", \"1\")\n",
       "      .attr(\"transform\", \"translate(19 0)\")\n",
       "      .style(\"fill\", \"green\");\n",
       "d3.select(\".usersvg #circuitSDj\")\n",
       "  .append(\"rect\")\n",
       "      .attr(\"width\", \"1\")\n",
       "      .attr(\"height\", \"1\")\n",
       "      .attr(\"transform\", \"translate(20 0)\")\n",
       "      .style(\"fill\", \"green\");\n",
       "d3.select(\".usersvg #circuitSDj\")\n",
       "  .append(\"rect\")\n",
       "      .attr(\"width\", \"1\")\n",
       "      .attr(\"height\", \"1\")\n",
       "      .attr(\"transform\", \"translate(21 0)\")\n",
       "      .style(\"fill\", \"green\");\n",
       "d3.select(\".usersvg #circuitSDj\")\n",
       "  .append(\"rect\")\n",
       "      .attr(\"width\", \"1\")\n",
       "      .attr(\"height\", \"1\")\n",
       "      .attr(\"transform\", \"translate(22 0)\")\n",
       "      .style(\"fill\", \"green\");\n",
       "d3.select(\".usersvg #circuitSDj\")\n",
       "  .append(\"rect\")\n",
       "      .attr(\"width\", \"1\")\n",
       "      .attr(\"height\", \"1\")\n",
       "      .attr(\"transform\", \"translate(23 0)\")\n",
       "      .style(\"fill\", \"green\");\n",
       "d3.select(\".usersvg #circuitSDj\")\n",
       "  .append(\"rect\")\n",
       "      .attr(\"width\", \"1\")\n",
       "      .attr(\"height\", \"1\")\n",
       "      .attr(\"transform\", \"translate(24 0)\")\n",
       "      .style(\"fill\", \"green\");\n",
       "d3.select(\".usersvg #circuitSDj\")\n",
       "  .append(\"rect\")\n",
       "      .attr(\"width\", \"1\")\n",
       "      .attr(\"height\", \"1\")\n",
       "      .attr(\"transform\", \"translate(25 0)\")\n",
       "      .style(\"fill\", \"green\");\n",
       "d3.select(\".usersvg #circuitSDj\")\n",
       "  .append(\"rect\")\n",
       "      .attr(\"width\", \"1\")\n",
       "      .attr(\"height\", \"1\")\n",
       "      .attr(\"transform\", \"translate(26 0)\")\n",
       "      .style(\"fill\", \"green\");\n",
       "d3.select(\".usersvg #circuitSDj\")\n",
       "  .append(\"rect\")\n",
       "      .attr(\"width\", \"1\")\n",
       "      .attr(\"height\", \"1\")\n",
       "      .attr(\"transform\", \"translate(27 0)\")\n",
       "      .style(\"fill\", \"green\");\n",
       "d3.select(\".usersvg #circuitSDj\")\n",
       "  .append(\"rect\")\n",
       "      .attr(\"width\", \"1\")\n",
       "      .attr(\"height\", \"1\")\n",
       "      .attr(\"transform\", \"translate(28 0)\")\n",
       "      .style(\"fill\", \"green\");\n",
       "d3.select(\".usersvg #circuitSDj\")\n",
       "  .append(\"rect\")\n",
       "      .attr(\"width\", \"1\")\n",
       "      .attr(\"height\", \"1\")\n",
       "      .attr(\"transform\", \"translate(29 0)\")\n",
       "      .style(\"fill\", \"green\");\n",
       "d3.select(\".usersvg #circuitSDj\")\n",
       "  .append(\"rect\")\n",
       "      .attr(\"width\", \"1\")\n",
       "      .attr(\"height\", \"1\")\n",
       "      .attr(\"transform\", \"translate(0 1)\")\n",
       "      .style(\"fill\", \"green\");\n",
       "d3.select(\".usersvg #circuitSDj\")\n",
       "  .append(\"rect\")\n",
       "      .attr(\"width\", \"1\")\n",
       "      .attr(\"height\", \"1\")\n",
       "      .attr(\"transform\", \"translate(1 1)\")\n",
       "      .style(\"fill\", \"green\");\n",
       "d3.select(\".usersvg #circuitSDj\")\n",
       "  .append(\"rect\")\n",
       "      .attr(\"width\", \"1\")\n",
       "      .attr(\"height\", \"1\")\n",
       "      .attr(\"transform\", \"translate(2 1)\")\n",
       "      .style(\"fill\", \"green\");\n",
       "d3.select(\".usersvg #circuitSDj\")\n",
       "  .append(\"rect\")\n",
       "      .attr(\"width\", \"1\")\n",
       "      .attr(\"height\", \"1\")\n",
       "      .attr(\"transform\", \"translate(3 1)\")\n",
       "      .style(\"fill\", \"green\");\n",
       "d3.select(\".usersvg #circuitSDj\")\n",
       "  .append(\"rect\")\n",
       "      .attr(\"width\", \"1\")\n",
       "      .attr(\"height\", \"1\")\n",
       "      .attr(\"transform\", \"translate(4 1)\")\n",
       "      .style(\"fill\", \"green\");\n",
       "d3.select(\".usersvg #circuitSDj\")\n",
       "  .append(\"rect\")\n",
       "      .attr(\"width\", \"1\")\n",
       "      .attr(\"height\", \"1\")\n",
       "      .attr(\"transform\", \"translate(5 1)\")\n",
       "      .style(\"fill\", \"green\");\n",
       "d3.select(\".usersvg #circuitSDj\")\n",
       "  .append(\"rect\")\n",
       "      .attr(\"width\", \"1\")\n",
       "      .attr(\"height\", \"1\")\n",
       "      .attr(\"transform\", \"translate(6 1)\")\n",
       "      .style(\"fill\", \"green\");\n",
       "d3.select(\".usersvg #circuitSDj\")\n",
       "  .append(\"rect\")\n",
       "      .attr(\"width\", \"1\")\n",
       "      .attr(\"height\", \"1\")\n",
       "      .attr(\"transform\", \"translate(7 1)\")\n",
       "      .style(\"fill\", \"green\");\n",
       "d3.select(\".usersvg #circuitSDj\")\n",
       "  .append(\"rect\")\n",
       "      .attr(\"width\", \"1\")\n",
       "      .attr(\"height\", \"1\")\n",
       "      .attr(\"transform\", \"translate(8 1)\")\n",
       "      .style(\"fill\", \"green\");\n",
       "d3.select(\".usersvg #circuitSDj\")\n",
       "  .append(\"rect\")\n",
       "      .attr(\"width\", \"1\")\n",
       "      .attr(\"height\", \"1\")\n",
       "      .attr(\"transform\", \"translate(9 1)\")\n",
       "      .style(\"fill\", \"green\");\n",
       "d3.select(\".usersvg #circuitSDj\")\n",
       "  .append(\"rect\")\n",
       "      .attr(\"width\", \"1\")\n",
       "      .attr(\"height\", \"1\")\n",
       "      .attr(\"transform\", \"translate(10 1)\")\n",
       "      .style(\"fill\", \"green\");\n",
       "d3.select(\".usersvg #circuitSDj\")\n",
       "  .append(\"rect\")\n",
       "      .attr(\"width\", \"1\")\n",
       "      .attr(\"height\", \"1\")\n",
       "      .attr(\"transform\", \"translate(11 1)\")\n",
       "      .style(\"fill\", \"green\");\n",
       "d3.select(\".usersvg #circuitSDj\")\n",
       "  .append(\"rect\")\n",
       "      .attr(\"width\", \"1\")\n",
       "      .attr(\"height\", \"1\")\n",
       "      .attr(\"transform\", \"translate(12 1)\")\n",
       "      .style(\"fill\", \"green\");\n",
       "d3.select(\".usersvg #circuitSDj\")\n",
       "  .append(\"rect\")\n",
       "      .attr(\"width\", \"1\")\n",
       "      .attr(\"height\", \"1\")\n",
       "      .attr(\"transform\", \"translate(13 1)\")\n",
       "      .style(\"fill\", \"green\");\n",
       "d3.select(\".usersvg #circuitSDj\")\n",
       "  .append(\"rect\")\n",
       "      .attr(\"width\", \"1\")\n",
       "      .attr(\"height\", \"1\")\n",
       "      .attr(\"transform\", \"translate(14 1)\")\n",
       "      .style(\"fill\", \"green\");\n",
       "d3.select(\".usersvg #circuitSDj\")\n",
       "  .append(\"rect\")\n",
       "      .attr(\"width\", \"1\")\n",
       "      .attr(\"height\", \"1\")\n",
       "      .attr(\"transform\", \"translate(15 1)\")\n",
       "      .style(\"fill\", \"green\");\n",
       "d3.select(\".usersvg #circuitSDj\")\n",
       "  .append(\"rect\")\n",
       "      .attr(\"width\", \"1\")\n",
       "      .attr(\"height\", \"1\")\n",
       "      .attr(\"transform\", \"translate(16 1)\")\n",
       "      .style(\"fill\", \"green\");\n",
       "d3.select(\".usersvg #circuitSDj\")\n",
       "  .append(\"rect\")\n",
       "      .attr(\"width\", \"1\")\n",
       "      .attr(\"height\", \"1\")\n",
       "      .attr(\"transform\", \"translate(17 1)\")\n",
       "      .style(\"fill\", \"green\");\n",
       "d3.select(\".usersvg #circuitSDj\")\n",
       "  .append(\"rect\")\n",
       "      .attr(\"width\", \"1\")\n",
       "      .attr(\"height\", \"1\")\n",
       "      .attr(\"transform\", \"translate(18 1)\")\n",
       "      .style(\"fill\", \"green\");\n",
       "d3.select(\".usersvg #circuitSDj\")\n",
       "  .append(\"rect\")\n",
       "      .attr(\"width\", \"1\")\n",
       "      .attr(\"height\", \"1\")\n",
       "      .attr(\"transform\", \"translate(19 1)\")\n",
       "      .style(\"fill\", \"green\");\n",
       "d3.select(\".usersvg #circuitSDj\")\n",
       "  .append(\"rect\")\n",
       "      .attr(\"width\", \"1\")\n",
       "      .attr(\"height\", \"1\")\n",
       "      .attr(\"transform\", \"translate(20 1)\")\n",
       "      .style(\"fill\", \"green\");\n",
       "d3.select(\".usersvg #circuitSDj\")\n",
       "  .append(\"rect\")\n",
       "      .attr(\"width\", \"1\")\n",
       "      .attr(\"height\", \"1\")\n",
       "      .attr(\"transform\", \"translate(21 1)\")\n",
       "      .style(\"fill\", \"green\");\n",
       "d3.select(\".usersvg #circuitSDj\")\n",
       "  .append(\"rect\")\n",
       "      .attr(\"width\", \"1\")\n",
       "      .attr(\"height\", \"1\")\n",
       "      .attr(\"transform\", \"translate(22 1)\")\n",
       "      .style(\"fill\", \"green\");\n",
       "d3.select(\".usersvg #circuitSDj\")\n",
       "  .append(\"rect\")\n",
       "      .attr(\"width\", \"1\")\n",
       "      .attr(\"height\", \"1\")\n",
       "      .attr(\"transform\", \"translate(23 1)\")\n",
       "      .style(\"fill\", \"green\");\n",
       "d3.select(\".usersvg #circuitSDj\")\n",
       "  .append(\"rect\")\n",
       "      .attr(\"width\", \"1\")\n",
       "      .attr(\"height\", \"1\")\n",
       "      .attr(\"transform\", \"translate(24 1)\")\n",
       "      .style(\"fill\", \"green\");\n",
       "d3.select(\".usersvg #circuitSDj\")\n",
       "  .append(\"rect\")\n",
       "      .attr(\"width\", \"1\")\n",
       "      .attr(\"height\", \"1\")\n",
       "      .attr(\"transform\", \"translate(25 1)\")\n",
       "      .style(\"fill\", \"green\");\n",
       "d3.select(\".usersvg #circuitSDj\")\n",
       "  .append(\"rect\")\n",
       "      .attr(\"width\", \"1\")\n",
       "      .attr(\"height\", \"1\")\n",
       "      .attr(\"transform\", \"translate(26 1)\")\n",
       "      .style(\"fill\", \"green\");\n",
       "d3.select(\".usersvg #circuitSDj\")\n",
       "  .append(\"rect\")\n",
       "      .attr(\"width\", \"1\")\n",
       "      .attr(\"height\", \"1\")\n",
       "      .attr(\"transform\", \"translate(27 1)\")\n",
       "      .style(\"fill\", \"green\");\n",
       "d3.select(\".usersvg #circuitSDj\")\n",
       "  .append(\"rect\")\n",
       "      .attr(\"width\", \"1\")\n",
       "      .attr(\"height\", \"1\")\n",
       "      .attr(\"transform\", \"translate(28 1)\")\n",
       "      .style(\"fill\", \"green\");\n",
       "d3.select(\".usersvg #circuitSDj\")\n",
       "  .append(\"rect\")\n",
       "      .attr(\"width\", \"1\")\n",
       "      .attr(\"height\", \"1\")\n",
       "      .attr(\"transform\", \"translate(29 1)\")\n",
       "      .style(\"fill\", \"green\");\n",
       "d3.select(\".usersvg #circuitSDj\")\n",
       "  .append(\"rect\")\n",
       "      .attr(\"width\", \"1\")\n",
       "      .attr(\"height\", \"1\")\n",
       "      .attr(\"transform\", \"translate(0 2)\")\n",
       "      .style(\"fill\", \"green\");\n",
       "d3.select(\".usersvg #circuitSDj\")\n",
       "  .append(\"rect\")\n",
       "      .attr(\"width\", \"1\")\n",
       "      .attr(\"height\", \"1\")\n",
       "      .attr(\"transform\", \"translate(1 2)\")\n",
       "      .style(\"fill\", \"green\");\n",
       "d3.select(\".usersvg #circuitSDj\")\n",
       "  .append(\"rect\")\n",
       "      .attr(\"width\", \"1\")\n",
       "      .attr(\"height\", \"1\")\n",
       "      .attr(\"transform\", \"translate(2 2)\")\n",
       "      .style(\"fill\", \"green\");\n",
       "d3.select(\".usersvg #circuitSDj\")\n",
       "  .append(\"rect\")\n",
       "      .attr(\"width\", \"1\")\n",
       "      .attr(\"height\", \"1\")\n",
       "      .attr(\"transform\", \"translate(3 2)\")\n",
       "      .style(\"fill\", \"green\");\n",
       "d3.select(\".usersvg #circuitSDj\")\n",
       "  .append(\"rect\")\n",
       "      .attr(\"width\", \"1\")\n",
       "      .attr(\"height\", \"1\")\n",
       "      .attr(\"transform\", \"translate(4 2)\")\n",
       "      .style(\"fill\", \"green\");\n",
       "d3.select(\".usersvg #circuitSDj\")\n",
       "  .append(\"rect\")\n",
       "      .attr(\"width\", \"1\")\n",
       "      .attr(\"height\", \"1\")\n",
       "      .attr(\"transform\", \"translate(5 2)\")\n",
       "      .style(\"fill\", \"green\");\n",
       "d3.select(\".usersvg #circuitSDj\")\n",
       "  .append(\"rect\")\n",
       "      .attr(\"width\", \"1\")\n",
       "      .attr(\"height\", \"1\")\n",
       "      .attr(\"transform\", \"translate(6 2)\")\n",
       "      .style(\"fill\", \"green\");\n",
       "d3.select(\".usersvg #circuitSDj\")\n",
       "  .append(\"rect\")\n",
       "      .attr(\"width\", \"1\")\n",
       "      .attr(\"height\", \"1\")\n",
       "      .attr(\"transform\", \"translate(7 2)\")\n",
       "      .style(\"fill\", \"green\");\n",
       "d3.select(\".usersvg #circuitSDj\")\n",
       "  .append(\"rect\")\n",
       "      .attr(\"width\", \"1\")\n",
       "      .attr(\"height\", \"1\")\n",
       "      .attr(\"transform\", \"translate(8 2)\")\n",
       "      .style(\"fill\", \"green\");\n",
       "d3.select(\".usersvg #circuitSDj\")\n",
       "  .append(\"rect\")\n",
       "      .attr(\"width\", \"1\")\n",
       "      .attr(\"height\", \"1\")\n",
       "      .attr(\"transform\", \"translate(9 2)\")\n",
       "      .style(\"fill\", \"green\");\n",
       "d3.select(\".usersvg #circuitSDj\")\n",
       "  .append(\"rect\")\n",
       "      .attr(\"width\", \"1\")\n",
       "      .attr(\"height\", \"1\")\n",
       "      .attr(\"transform\", \"translate(10 2)\")\n",
       "      .style(\"fill\", \"green\");\n",
       "d3.select(\".usersvg #circuitSDj\")\n",
       "  .append(\"rect\")\n",
       "      .attr(\"width\", \"1\")\n",
       "      .attr(\"height\", \"1\")\n",
       "      .attr(\"transform\", \"translate(11 2)\")\n",
       "      .style(\"fill\", \"green\");\n",
       "d3.select(\".usersvg #circuitSDj\")\n",
       "  .append(\"rect\")\n",
       "      .attr(\"width\", \"1\")\n",
       "      .attr(\"height\", \"1\")\n",
       "      .attr(\"transform\", \"translate(12 2)\")\n",
       "      .style(\"fill\", \"green\");\n",
       "d3.select(\".usersvg #circuitSDj\")\n",
       "  .append(\"rect\")\n",
       "      .attr(\"width\", \"1\")\n",
       "      .attr(\"height\", \"1\")\n",
       "      .attr(\"transform\", \"translate(13 2)\")\n",
       "      .style(\"fill\", \"green\");\n",
       "d3.select(\".usersvg #circuitSDj\")\n",
       "  .append(\"rect\")\n",
       "      .attr(\"width\", \"1\")\n",
       "      .attr(\"height\", \"1\")\n",
       "      .attr(\"transform\", \"translate(14 2)\")\n",
       "      .style(\"fill\", \"green\");\n",
       "d3.select(\".usersvg #circuitSDj\")\n",
       "  .append(\"rect\")\n",
       "      .attr(\"width\", \"1\")\n",
       "      .attr(\"height\", \"1\")\n",
       "      .attr(\"transform\", \"translate(15 2)\")\n",
       "      .style(\"fill\", \"green\");\n",
       "d3.select(\".usersvg #circuitSDj\")\n",
       "  .append(\"rect\")\n",
       "      .attr(\"width\", \"1\")\n",
       "      .attr(\"height\", \"1\")\n",
       "      .attr(\"transform\", \"translate(16 2)\")\n",
       "      .style(\"fill\", \"green\");\n",
       "d3.select(\".usersvg #circuitSDj\")\n",
       "  .append(\"rect\")\n",
       "      .attr(\"width\", \"1\")\n",
       "      .attr(\"height\", \"1\")\n",
       "      .attr(\"transform\", \"translate(17 2)\")\n",
       "      .style(\"fill\", \"green\");\n",
       "d3.select(\".usersvg #circuitSDj\")\n",
       "  .append(\"rect\")\n",
       "      .attr(\"width\", \"1\")\n",
       "      .attr(\"height\", \"1\")\n",
       "      .attr(\"transform\", \"translate(18 2)\")\n",
       "      .style(\"fill\", \"green\");\n",
       "d3.select(\".usersvg #circuitSDj\")\n",
       "  .append(\"rect\")\n",
       "      .attr(\"width\", \"1\")\n",
       "      .attr(\"height\", \"1\")\n",
       "      .attr(\"transform\", \"translate(19 2)\")\n",
       "      .style(\"fill\", \"green\");\n",
       "d3.select(\".usersvg #circuitSDj\")\n",
       "  .append(\"rect\")\n",
       "      .attr(\"width\", \"1\")\n",
       "      .attr(\"height\", \"1\")\n",
       "      .attr(\"transform\", \"translate(20 2)\")\n",
       "      .style(\"fill\", \"green\");\n",
       "d3.select(\".usersvg #circuitSDj\")\n",
       "  .append(\"rect\")\n",
       "      .attr(\"width\", \"1\")\n",
       "      .attr(\"height\", \"1\")\n",
       "      .attr(\"transform\", \"translate(21 2)\")\n",
       "      .style(\"fill\", \"green\");\n",
       "d3.select(\".usersvg #circuitSDj\")\n",
       "  .append(\"rect\")\n",
       "      .attr(\"width\", \"1\")\n",
       "      .attr(\"height\", \"1\")\n",
       "      .attr(\"transform\", \"translate(22 2)\")\n",
       "      .style(\"fill\", \"green\");\n",
       "d3.select(\".usersvg #circuitSDj\")\n",
       "  .append(\"rect\")\n",
       "      .attr(\"width\", \"1\")\n",
       "      .attr(\"height\", \"1\")\n",
       "      .attr(\"transform\", \"translate(23 2)\")\n",
       "      .style(\"fill\", \"green\");\n",
       "d3.select(\".usersvg #circuitSDj\")\n",
       "  .append(\"rect\")\n",
       "      .attr(\"width\", \"1\")\n",
       "      .attr(\"height\", \"1\")\n",
       "      .attr(\"transform\", \"translate(24 2)\")\n",
       "      .style(\"fill\", \"green\");\n",
       "d3.select(\".usersvg #circuitSDj\")\n",
       "  .append(\"rect\")\n",
       "      .attr(\"width\", \"1\")\n",
       "      .attr(\"height\", \"1\")\n",
       "      .attr(\"transform\", \"translate(25 2)\")\n",
       "      .style(\"fill\", \"green\");\n",
       "d3.select(\".usersvg #circuitSDj\")\n",
       "  .append(\"rect\")\n",
       "      .attr(\"width\", \"1\")\n",
       "      .attr(\"height\", \"1\")\n",
       "      .attr(\"transform\", \"translate(26 2)\")\n",
       "      .style(\"fill\", \"green\");\n",
       "d3.select(\".usersvg #circuitSDj\")\n",
       "  .append(\"rect\")\n",
       "      .attr(\"width\", \"1\")\n",
       "      .attr(\"height\", \"1\")\n",
       "      .attr(\"transform\", \"translate(27 2)\")\n",
       "      .style(\"fill\", \"green\");\n",
       "d3.select(\".usersvg #circuitSDj\")\n",
       "  .append(\"rect\")\n",
       "      .attr(\"width\", \"1\")\n",
       "      .attr(\"height\", \"1\")\n",
       "      .attr(\"transform\", \"translate(28 2)\")\n",
       "      .style(\"fill\", \"green\");\n",
       "d3.select(\".usersvg #circuitSDj\")\n",
       "  .append(\"rect\")\n",
       "      .attr(\"width\", \"1\")\n",
       "      .attr(\"height\", \"1\")\n",
       "      .attr(\"transform\", \"translate(29 2)\")\n",
       "      .style(\"fill\", \"green\");\n",
       "d3.select(\".usersvg #circuitSDj\")\n",
       "  .append(\"rect\")\n",
       "      .attr(\"width\", \"1\")\n",
       "      .attr(\"height\", \"1\")\n",
       "      .attr(\"transform\", \"translate(0 3)\")\n",
       "      .style(\"fill\", \"green\");\n",
       "d3.select(\".usersvg #circuitSDj\")\n",
       "  .append(\"rect\")\n",
       "      .attr(\"width\", \"1\")\n",
       "      .attr(\"height\", \"1\")\n",
       "      .attr(\"transform\", \"translate(1 3)\")\n",
       "      .style(\"fill\", \"green\");\n",
       "d3.select(\".usersvg #circuitSDj\")\n",
       "  .append(\"rect\")\n",
       "      .attr(\"width\", \"1\")\n",
       "      .attr(\"height\", \"1\")\n",
       "      .attr(\"transform\", \"translate(2 3)\")\n",
       "      .style(\"fill\", \"green\");\n",
       "d3.select(\".usersvg #circuitSDj\")\n",
       "  .append(\"rect\")\n",
       "      .attr(\"width\", \"1\")\n",
       "      .attr(\"height\", \"1\")\n",
       "      .attr(\"transform\", \"translate(3 3)\")\n",
       "      .style(\"fill\", \"green\");\n",
       "d3.select(\".usersvg #circuitSDj\")\n",
       "  .append(\"rect\")\n",
       "      .attr(\"width\", \"1\")\n",
       "      .attr(\"height\", \"1\")\n",
       "      .attr(\"transform\", \"translate(4 3)\")\n",
       "      .style(\"fill\", \"green\");\n",
       "d3.select(\".usersvg #circuitSDj\")\n",
       "  .append(\"rect\")\n",
       "      .attr(\"width\", \"1\")\n",
       "      .attr(\"height\", \"1\")\n",
       "      .attr(\"transform\", \"translate(5 3)\")\n",
       "      .style(\"fill\", \"green\");\n",
       "d3.select(\".usersvg #circuitSDj\")\n",
       "  .append(\"rect\")\n",
       "      .attr(\"width\", \"1\")\n",
       "      .attr(\"height\", \"1\")\n",
       "      .attr(\"transform\", \"translate(6 3)\")\n",
       "      .style(\"fill\", \"green\");\n",
       "d3.select(\".usersvg #circuitSDj\")\n",
       "  .append(\"rect\")\n",
       "      .attr(\"width\", \"1\")\n",
       "      .attr(\"height\", \"1\")\n",
       "      .attr(\"transform\", \"translate(7 3)\")\n",
       "      .style(\"fill\", \"brown\");\n",
       "d3.select(\".usersvg #circuitSDj\")\n",
       "  .append(\"rect\")\n",
       "      .attr(\"width\", \"1\")\n",
       "      .attr(\"height\", \"1\")\n",
       "      .attr(\"transform\", \"translate(8 3)\")\n",
       "      .style(\"fill\", \"brown\");\n",
       "d3.select(\".usersvg #circuitSDj\")\n",
       "  .append(\"rect\")\n",
       "      .attr(\"width\", \"1\")\n",
       "      .attr(\"height\", \"1\")\n",
       "      .attr(\"transform\", \"translate(9 3)\")\n",
       "      .style(\"fill\", \"brown\");\n",
       "d3.select(\".usersvg #circuitSDj\")\n",
       "  .append(\"rect\")\n",
       "      .attr(\"width\", \"1\")\n",
       "      .attr(\"height\", \"1\")\n",
       "      .attr(\"transform\", \"translate(10 3)\")\n",
       "      .style(\"fill\", \"brown\");\n",
       "d3.select(\".usersvg #circuitSDj\")\n",
       "  .append(\"rect\")\n",
       "      .attr(\"width\", \"1\")\n",
       "      .attr(\"height\", \"1\")\n",
       "      .attr(\"transform\", \"translate(11 3)\")\n",
       "      .style(\"fill\", \"brown\");\n",
       "d3.select(\".usersvg #circuitSDj\")\n",
       "  .append(\"rect\")\n",
       "      .attr(\"width\", \"1\")\n",
       "      .attr(\"height\", \"1\")\n",
       "      .attr(\"transform\", \"translate(12 3)\")\n",
       "      .style(\"fill\", \"brown\");\n",
       "d3.select(\".usersvg #circuitSDj\")\n",
       "  .append(\"rect\")\n",
       "      .attr(\"width\", \"1\")\n",
       "      .attr(\"height\", \"1\")\n",
       "      .attr(\"transform\", \"translate(13 3)\")\n",
       "      .style(\"fill\", \"brown\");\n",
       "d3.select(\".usersvg #circuitSDj\")\n",
       "  .append(\"rect\")\n",
       "      .attr(\"width\", \"1\")\n",
       "      .attr(\"height\", \"1\")\n",
       "      .attr(\"transform\", \"translate(14 3)\")\n",
       "      .style(\"fill\", \"red\");\n",
       "d3.select(\".usersvg #circuitSDj\")\n",
       "  .append(\"rect\")\n",
       "      .attr(\"width\", \"1\")\n",
       "      .attr(\"height\", \"1\")\n",
       "      .attr(\"transform\", \"translate(15 3)\")\n",
       "      .style(\"fill\", \"brown\");\n",
       "d3.select(\".usersvg #circuitSDj\")\n",
       "  .append(\"rect\")\n",
       "      .attr(\"width\", \"1\")\n",
       "      .attr(\"height\", \"1\")\n",
       "      .attr(\"transform\", \"translate(16 3)\")\n",
       "      .style(\"fill\", \"brown\");\n",
       "d3.select(\".usersvg #circuitSDj\")\n",
       "  .append(\"rect\")\n",
       "      .attr(\"width\", \"1\")\n",
       "      .attr(\"height\", \"1\")\n",
       "      .attr(\"transform\", \"translate(17 3)\")\n",
       "      .style(\"fill\", \"brown\");\n",
       "d3.select(\".usersvg #circuitSDj\")\n",
       "  .append(\"rect\")\n",
       "      .attr(\"width\", \"1\")\n",
       "      .attr(\"height\", \"1\")\n",
       "      .attr(\"transform\", \"translate(18 3)\")\n",
       "      .style(\"fill\", \"brown\");\n",
       "d3.select(\".usersvg #circuitSDj\")\n",
       "  .append(\"rect\")\n",
       "      .attr(\"width\", \"1\")\n",
       "      .attr(\"height\", \"1\")\n",
       "      .attr(\"transform\", \"translate(19 3)\")\n",
       "      .style(\"fill\", \"brown\");\n",
       "d3.select(\".usersvg #circuitSDj\")\n",
       "  .append(\"rect\")\n",
       "      .attr(\"width\", \"1\")\n",
       "      .attr(\"height\", \"1\")\n",
       "      .attr(\"transform\", \"translate(20 3)\")\n",
       "      .style(\"fill\", \"brown\");\n",
       "d3.select(\".usersvg #circuitSDj\")\n",
       "  .append(\"rect\")\n",
       "      .attr(\"width\", \"1\")\n",
       "      .attr(\"height\", \"1\")\n",
       "      .attr(\"transform\", \"translate(21 3)\")\n",
       "      .style(\"fill\", \"brown\");\n",
       "d3.select(\".usersvg #circuitSDj\")\n",
       "  .append(\"rect\")\n",
       "      .attr(\"width\", \"1\")\n",
       "      .attr(\"height\", \"1\")\n",
       "      .attr(\"transform\", \"translate(22 3)\")\n",
       "      .style(\"fill\", \"brown\");\n",
       "d3.select(\".usersvg #circuitSDj\")\n",
       "  .append(\"rect\")\n",
       "      .attr(\"width\", \"1\")\n",
       "      .attr(\"height\", \"1\")\n",
       "      .attr(\"transform\", \"translate(23 3)\")\n",
       "      .style(\"fill\", \"green\");\n",
       "d3.select(\".usersvg #circuitSDj\")\n",
       "  .append(\"rect\")\n",
       "      .attr(\"width\", \"1\")\n",
       "      .attr(\"height\", \"1\")\n",
       "      .attr(\"transform\", \"translate(24 3)\")\n",
       "      .style(\"fill\", \"green\");\n",
       "d3.select(\".usersvg #circuitSDj\")\n",
       "  .append(\"rect\")\n",
       "      .attr(\"width\", \"1\")\n",
       "      .attr(\"height\", \"1\")\n",
       "      .attr(\"transform\", \"translate(25 3)\")\n",
       "      .style(\"fill\", \"green\");\n",
       "d3.select(\".usersvg #circuitSDj\")\n",
       "  .append(\"rect\")\n",
       "      .attr(\"width\", \"1\")\n",
       "      .attr(\"height\", \"1\")\n",
       "      .attr(\"transform\", \"translate(26 3)\")\n",
       "      .style(\"fill\", \"green\");\n",
       "d3.select(\".usersvg #circuitSDj\")\n",
       "  .append(\"rect\")\n",
       "      .attr(\"width\", \"1\")\n",
       "      .attr(\"height\", \"1\")\n",
       "      .attr(\"transform\", \"translate(27 3)\")\n",
       "      .style(\"fill\", \"green\");\n",
       "d3.select(\".usersvg #circuitSDj\")\n",
       "  .append(\"rect\")\n",
       "      .attr(\"width\", \"1\")\n",
       "      .attr(\"height\", \"1\")\n",
       "      .attr(\"transform\", \"translate(28 3)\")\n",
       "      .style(\"fill\", \"green\");\n",
       "d3.select(\".usersvg #circuitSDj\")\n",
       "  .append(\"rect\")\n",
       "      .attr(\"width\", \"1\")\n",
       "      .attr(\"height\", \"1\")\n",
       "      .attr(\"transform\", \"translate(29 3)\")\n",
       "      .style(\"fill\", \"green\");\n",
       "d3.select(\".usersvg #circuitSDj\")\n",
       "  .append(\"rect\")\n",
       "      .attr(\"width\", \"1\")\n",
       "      .attr(\"height\", \"1\")\n",
       "      .attr(\"transform\", \"translate(0 4)\")\n",
       "      .style(\"fill\", \"green\");\n",
       "d3.select(\".usersvg #circuitSDj\")\n",
       "  .append(\"rect\")\n",
       "      .attr(\"width\", \"1\")\n",
       "      .attr(\"height\", \"1\")\n",
       "      .attr(\"transform\", \"translate(1 4)\")\n",
       "      .style(\"fill\", \"green\");\n",
       "d3.select(\".usersvg #circuitSDj\")\n",
       "  .append(\"rect\")\n",
       "      .attr(\"width\", \"1\")\n",
       "      .attr(\"height\", \"1\")\n",
       "      .attr(\"transform\", \"translate(2 4)\")\n",
       "      .style(\"fill\", \"green\");\n",
       "d3.select(\".usersvg #circuitSDj\")\n",
       "  .append(\"rect\")\n",
       "      .attr(\"width\", \"1\")\n",
       "      .attr(\"height\", \"1\")\n",
       "      .attr(\"transform\", \"translate(3 4)\")\n",
       "      .style(\"fill\", \"green\");\n",
       "d3.select(\".usersvg #circuitSDj\")\n",
       "  .append(\"rect\")\n",
       "      .attr(\"width\", \"1\")\n",
       "      .attr(\"height\", \"1\")\n",
       "      .attr(\"transform\", \"translate(4 4)\")\n",
       "      .style(\"fill\", \"green\");\n",
       "d3.select(\".usersvg #circuitSDj\")\n",
       "  .append(\"rect\")\n",
       "      .attr(\"width\", \"1\")\n",
       "      .attr(\"height\", \"1\")\n",
       "      .attr(\"transform\", \"translate(5 4)\")\n",
       "      .style(\"fill\", \"brown\");\n",
       "d3.select(\".usersvg #circuitSDj\")\n",
       "  .append(\"rect\")\n",
       "      .attr(\"width\", \"1\")\n",
       "      .attr(\"height\", \"1\")\n",
       "      .attr(\"transform\", \"translate(6 4)\")\n",
       "      .style(\"fill\", \"brown\");\n",
       "d3.select(\".usersvg #circuitSDj\")\n",
       "  .append(\"rect\")\n",
       "      .attr(\"width\", \"1\")\n",
       "      .attr(\"height\", \"1\")\n",
       "      .attr(\"transform\", \"translate(7 4)\")\n",
       "      .style(\"fill\", \"brown\");\n",
       "d3.select(\".usersvg #circuitSDj\")\n",
       "  .append(\"rect\")\n",
       "      .attr(\"width\", \"1\")\n",
       "      .attr(\"height\", \"1\")\n",
       "      .attr(\"transform\", \"translate(8 4)\")\n",
       "      .style(\"fill\", \"brown\");\n",
       "d3.select(\".usersvg #circuitSDj\")\n",
       "  .append(\"rect\")\n",
       "      .attr(\"width\", \"1\")\n",
       "      .attr(\"height\", \"1\")\n",
       "      .attr(\"transform\", \"translate(9 4)\")\n",
       "      .style(\"fill\", \"brown\");\n",
       "d3.select(\".usersvg #circuitSDj\")\n",
       "  .append(\"rect\")\n",
       "      .attr(\"width\", \"1\")\n",
       "      .attr(\"height\", \"1\")\n",
       "      .attr(\"transform\", \"translate(10 4)\")\n",
       "      .style(\"fill\", \"brown\");\n",
       "d3.select(\".usersvg #circuitSDj\")\n",
       "  .append(\"rect\")\n",
       "      .attr(\"width\", \"1\")\n",
       "      .attr(\"height\", \"1\")\n",
       "      .attr(\"transform\", \"translate(11 4)\")\n",
       "      .style(\"fill\", \"brown\");\n",
       "d3.select(\".usersvg #circuitSDj\")\n",
       "  .append(\"rect\")\n",
       "      .attr(\"width\", \"1\")\n",
       "      .attr(\"height\", \"1\")\n",
       "      .attr(\"transform\", \"translate(12 4)\")\n",
       "      .style(\"fill\", \"brown\");\n",
       "d3.select(\".usersvg #circuitSDj\")\n",
       "  .append(\"rect\")\n",
       "      .attr(\"width\", \"1\")\n",
       "      .attr(\"height\", \"1\")\n",
       "      .attr(\"transform\", \"translate(13 4)\")\n",
       "      .style(\"fill\", \"brown\");\n",
       "d3.select(\".usersvg #circuitSDj\")\n",
       "  .append(\"rect\")\n",
       "      .attr(\"width\", \"1\")\n",
       "      .attr(\"height\", \"1\")\n",
       "      .attr(\"transform\", \"translate(14 4)\")\n",
       "      .style(\"fill\", \"red\");\n",
       "d3.select(\".usersvg #circuitSDj\")\n",
       "  .append(\"rect\")\n",
       "      .attr(\"width\", \"1\")\n",
       "      .attr(\"height\", \"1\")\n",
       "      .attr(\"transform\", \"translate(15 4)\")\n",
       "      .style(\"fill\", \"brown\");\n",
       "d3.select(\".usersvg #circuitSDj\")\n",
       "  .append(\"rect\")\n",
       "      .attr(\"width\", \"1\")\n",
       "      .attr(\"height\", \"1\")\n",
       "      .attr(\"transform\", \"translate(16 4)\")\n",
       "      .style(\"fill\", \"brown\");\n",
       "d3.select(\".usersvg #circuitSDj\")\n",
       "  .append(\"rect\")\n",
       "      .attr(\"width\", \"1\")\n",
       "      .attr(\"height\", \"1\")\n",
       "      .attr(\"transform\", \"translate(17 4)\")\n",
       "      .style(\"fill\", \"brown\");\n",
       "d3.select(\".usersvg #circuitSDj\")\n",
       "  .append(\"rect\")\n",
       "      .attr(\"width\", \"1\")\n",
       "      .attr(\"height\", \"1\")\n",
       "      .attr(\"transform\", \"translate(18 4)\")\n",
       "      .style(\"fill\", \"brown\");\n",
       "d3.select(\".usersvg #circuitSDj\")\n",
       "  .append(\"rect\")\n",
       "      .attr(\"width\", \"1\")\n",
       "      .attr(\"height\", \"1\")\n",
       "      .attr(\"transform\", \"translate(19 4)\")\n",
       "      .style(\"fill\", \"brown\");\n",
       "d3.select(\".usersvg #circuitSDj\")\n",
       "  .append(\"rect\")\n",
       "      .attr(\"width\", \"1\")\n",
       "      .attr(\"height\", \"1\")\n",
       "      .attr(\"transform\", \"translate(20 4)\")\n",
       "      .style(\"fill\", \"brown\");\n",
       "d3.select(\".usersvg #circuitSDj\")\n",
       "  .append(\"rect\")\n",
       "      .attr(\"width\", \"1\")\n",
       "      .attr(\"height\", \"1\")\n",
       "      .attr(\"transform\", \"translate(21 4)\")\n",
       "      .style(\"fill\", \"brown\");\n",
       "d3.select(\".usersvg #circuitSDj\")\n",
       "  .append(\"rect\")\n",
       "      .attr(\"width\", \"1\")\n",
       "      .attr(\"height\", \"1\")\n",
       "      .attr(\"transform\", \"translate(22 4)\")\n",
       "      .style(\"fill\", \"brown\");\n",
       "d3.select(\".usersvg #circuitSDj\")\n",
       "  .append(\"rect\")\n",
       "      .attr(\"width\", \"1\")\n",
       "      .attr(\"height\", \"1\")\n",
       "      .attr(\"transform\", \"translate(23 4)\")\n",
       "      .style(\"fill\", \"brown\");\n",
       "d3.select(\".usersvg #circuitSDj\")\n",
       "  .append(\"rect\")\n",
       "      .attr(\"width\", \"1\")\n",
       "      .attr(\"height\", \"1\")\n",
       "      .attr(\"transform\", \"translate(24 4)\")\n",
       "      .style(\"fill\", \"green\");\n",
       "d3.select(\".usersvg #circuitSDj\")\n",
       "  .append(\"rect\")\n",
       "      .attr(\"width\", \"1\")\n",
       "      .attr(\"height\", \"1\")\n",
       "      .attr(\"transform\", \"translate(25 4)\")\n",
       "      .style(\"fill\", \"green\");\n",
       "d3.select(\".usersvg #circuitSDj\")\n",
       "  .append(\"rect\")\n",
       "      .attr(\"width\", \"1\")\n",
       "      .attr(\"height\", \"1\")\n",
       "      .attr(\"transform\", \"translate(26 4)\")\n",
       "      .style(\"fill\", \"green\");\n",
       "d3.select(\".usersvg #circuitSDj\")\n",
       "  .append(\"rect\")\n",
       "      .attr(\"width\", \"1\")\n",
       "      .attr(\"height\", \"1\")\n",
       "      .attr(\"transform\", \"translate(27 4)\")\n",
       "      .style(\"fill\", \"green\");\n",
       "d3.select(\".usersvg #circuitSDj\")\n",
       "  .append(\"rect\")\n",
       "      .attr(\"width\", \"1\")\n",
       "      .attr(\"height\", \"1\")\n",
       "      .attr(\"transform\", \"translate(28 4)\")\n",
       "      .style(\"fill\", \"green\");\n",
       "d3.select(\".usersvg #circuitSDj\")\n",
       "  .append(\"rect\")\n",
       "      .attr(\"width\", \"1\")\n",
       "      .attr(\"height\", \"1\")\n",
       "      .attr(\"transform\", \"translate(29 4)\")\n",
       "      .style(\"fill\", \"green\");\n",
       "d3.select(\".usersvg #circuitSDj\")\n",
       "  .append(\"rect\")\n",
       "      .attr(\"width\", \"1\")\n",
       "      .attr(\"height\", \"1\")\n",
       "      .attr(\"transform\", \"translate(0 5)\")\n",
       "      .style(\"fill\", \"green\");\n",
       "d3.select(\".usersvg #circuitSDj\")\n",
       "  .append(\"rect\")\n",
       "      .attr(\"width\", \"1\")\n",
       "      .attr(\"height\", \"1\")\n",
       "      .attr(\"transform\", \"translate(1 5)\")\n",
       "      .style(\"fill\", \"green\");\n",
       "d3.select(\".usersvg #circuitSDj\")\n",
       "  .append(\"rect\")\n",
       "      .attr(\"width\", \"1\")\n",
       "      .attr(\"height\", \"1\")\n",
       "      .attr(\"transform\", \"translate(2 5)\")\n",
       "      .style(\"fill\", \"green\");\n",
       "d3.select(\".usersvg #circuitSDj\")\n",
       "  .append(\"rect\")\n",
       "      .attr(\"width\", \"1\")\n",
       "      .attr(\"height\", \"1\")\n",
       "      .attr(\"transform\", \"translate(3 5)\")\n",
       "      .style(\"fill\", \"green\");\n",
       "d3.select(\".usersvg #circuitSDj\")\n",
       "  .append(\"rect\")\n",
       "      .attr(\"width\", \"1\")\n",
       "      .attr(\"height\", \"1\")\n",
       "      .attr(\"transform\", \"translate(4 5)\")\n",
       "      .style(\"fill\", \"brown\");\n",
       "d3.select(\".usersvg #circuitSDj\")\n",
       "  .append(\"rect\")\n",
       "      .attr(\"width\", \"1\")\n",
       "      .attr(\"height\", \"1\")\n",
       "      .attr(\"transform\", \"translate(5 5)\")\n",
       "      .style(\"fill\", \"brown\");\n",
       "d3.select(\".usersvg #circuitSDj\")\n",
       "  .append(\"rect\")\n",
       "      .attr(\"width\", \"1\")\n",
       "      .attr(\"height\", \"1\")\n",
       "      .attr(\"transform\", \"translate(6 5)\")\n",
       "      .style(\"fill\", \"brown\");\n",
       "d3.select(\".usersvg #circuitSDj\")\n",
       "  .append(\"rect\")\n",
       "      .attr(\"width\", \"1\")\n",
       "      .attr(\"height\", \"1\")\n",
       "      .attr(\"transform\", \"translate(7 5)\")\n",
       "      .style(\"fill\", \"brown\");\n",
       "d3.select(\".usersvg #circuitSDj\")\n",
       "  .append(\"rect\")\n",
       "      .attr(\"width\", \"1\")\n",
       "      .attr(\"height\", \"1\")\n",
       "      .attr(\"transform\", \"translate(8 5)\")\n",
       "      .style(\"fill\", \"brown\");\n",
       "d3.select(\".usersvg #circuitSDj\")\n",
       "  .append(\"rect\")\n",
       "      .attr(\"width\", \"1\")\n",
       "      .attr(\"height\", \"1\")\n",
       "      .attr(\"transform\", \"translate(9 5)\")\n",
       "      .style(\"fill\", \"brown\");\n",
       "d3.select(\".usersvg #circuitSDj\")\n",
       "  .append(\"rect\")\n",
       "      .attr(\"width\", \"1\")\n",
       "      .attr(\"height\", \"1\")\n",
       "      .attr(\"transform\", \"translate(10 5)\")\n",
       "      .style(\"fill\", \"brown\");\n",
       "d3.select(\".usersvg #circuitSDj\")\n",
       "  .append(\"rect\")\n",
       "      .attr(\"width\", \"1\")\n",
       "      .attr(\"height\", \"1\")\n",
       "      .attr(\"transform\", \"translate(11 5)\")\n",
       "      .style(\"fill\", \"brown\");\n",
       "d3.select(\".usersvg #circuitSDj\")\n",
       "  .append(\"rect\")\n",
       "      .attr(\"width\", \"1\")\n",
       "      .attr(\"height\", \"1\")\n",
       "      .attr(\"transform\", \"translate(12 5)\")\n",
       "      .style(\"fill\", \"brown\");\n",
       "d3.select(\".usersvg #circuitSDj\")\n",
       "  .append(\"rect\")\n",
       "      .attr(\"width\", \"1\")\n",
       "      .attr(\"height\", \"1\")\n",
       "      .attr(\"transform\", \"translate(13 5)\")\n",
       "      .style(\"fill\", \"brown\");\n",
       "d3.select(\".usersvg #circuitSDj\")\n",
       "  .append(\"rect\")\n",
       "      .attr(\"width\", \"1\")\n",
       "      .attr(\"height\", \"1\")\n",
       "      .attr(\"transform\", \"translate(14 5)\")\n",
       "      .style(\"fill\", \"red\");\n",
       "d3.select(\".usersvg #circuitSDj\")\n",
       "  .append(\"rect\")\n",
       "      .attr(\"width\", \"1\")\n",
       "      .attr(\"height\", \"1\")\n",
       "      .attr(\"transform\", \"translate(15 5)\")\n",
       "      .style(\"fill\", \"brown\");\n",
       "d3.select(\".usersvg #circuitSDj\")\n",
       "  .append(\"rect\")\n",
       "      .attr(\"width\", \"1\")\n",
       "      .attr(\"height\", \"1\")\n",
       "      .attr(\"transform\", \"translate(16 5)\")\n",
       "      .style(\"fill\", \"brown\");\n",
       "d3.select(\".usersvg #circuitSDj\")\n",
       "  .append(\"rect\")\n",
       "      .attr(\"width\", \"1\")\n",
       "      .attr(\"height\", \"1\")\n",
       "      .attr(\"transform\", \"translate(17 5)\")\n",
       "      .style(\"fill\", \"brown\");\n",
       "d3.select(\".usersvg #circuitSDj\")\n",
       "  .append(\"rect\")\n",
       "      .attr(\"width\", \"1\")\n",
       "      .attr(\"height\", \"1\")\n",
       "      .attr(\"transform\", \"translate(18 5)\")\n",
       "      .style(\"fill\", \"brown\");\n",
       "d3.select(\".usersvg #circuitSDj\")\n",
       "  .append(\"rect\")\n",
       "      .attr(\"width\", \"1\")\n",
       "      .attr(\"height\", \"1\")\n",
       "      .attr(\"transform\", \"translate(19 5)\")\n",
       "      .style(\"fill\", \"brown\");\n",
       "d3.select(\".usersvg #circuitSDj\")\n",
       "  .append(\"rect\")\n",
       "      .attr(\"width\", \"1\")\n",
       "      .attr(\"height\", \"1\")\n",
       "      .attr(\"transform\", \"translate(20 5)\")\n",
       "      .style(\"fill\", \"brown\");\n",
       "d3.select(\".usersvg #circuitSDj\")\n",
       "  .append(\"rect\")\n",
       "      .attr(\"width\", \"1\")\n",
       "      .attr(\"height\", \"1\")\n",
       "      .attr(\"transform\", \"translate(21 5)\")\n",
       "      .style(\"fill\", \"brown\");\n",
       "d3.select(\".usersvg #circuitSDj\")\n",
       "  .append(\"rect\")\n",
       "      .attr(\"width\", \"1\")\n",
       "      .attr(\"height\", \"1\")\n",
       "      .attr(\"transform\", \"translate(22 5)\")\n",
       "      .style(\"fill\", \"brown\");\n",
       "d3.select(\".usersvg #circuitSDj\")\n",
       "  .append(\"rect\")\n",
       "      .attr(\"width\", \"1\")\n",
       "      .attr(\"height\", \"1\")\n",
       "      .attr(\"transform\", \"translate(23 5)\")\n",
       "      .style(\"fill\", \"brown\");\n",
       "d3.select(\".usersvg #circuitSDj\")\n",
       "  .append(\"rect\")\n",
       "      .attr(\"width\", \"1\")\n",
       "      .attr(\"height\", \"1\")\n",
       "      .attr(\"transform\", \"translate(24 5)\")\n",
       "      .style(\"fill\", \"brown\");\n",
       "d3.select(\".usersvg #circuitSDj\")\n",
       "  .append(\"rect\")\n",
       "      .attr(\"width\", \"1\")\n",
       "      .attr(\"height\", \"1\")\n",
       "      .attr(\"transform\", \"translate(25 5)\")\n",
       "      .style(\"fill\", \"green\");\n",
       "d3.select(\".usersvg #circuitSDj\")\n",
       "  .append(\"rect\")\n",
       "      .attr(\"width\", \"1\")\n",
       "      .attr(\"height\", \"1\")\n",
       "      .attr(\"transform\", \"translate(26 5)\")\n",
       "      .style(\"fill\", \"green\");\n",
       "d3.select(\".usersvg #circuitSDj\")\n",
       "  .append(\"rect\")\n",
       "      .attr(\"width\", \"1\")\n",
       "      .attr(\"height\", \"1\")\n",
       "      .attr(\"transform\", \"translate(27 5)\")\n",
       "      .style(\"fill\", \"green\");\n",
       "d3.select(\".usersvg #circuitSDj\")\n",
       "  .append(\"rect\")\n",
       "      .attr(\"width\", \"1\")\n",
       "      .attr(\"height\", \"1\")\n",
       "      .attr(\"transform\", \"translate(28 5)\")\n",
       "      .style(\"fill\", \"green\");\n",
       "d3.select(\".usersvg #circuitSDj\")\n",
       "  .append(\"rect\")\n",
       "      .attr(\"width\", \"1\")\n",
       "      .attr(\"height\", \"1\")\n",
       "      .attr(\"transform\", \"translate(29 5)\")\n",
       "      .style(\"fill\", \"green\");\n",
       "d3.select(\".usersvg #circuitSDj\")\n",
       "  .append(\"rect\")\n",
       "      .attr(\"width\", \"1\")\n",
       "      .attr(\"height\", \"1\")\n",
       "      .attr(\"transform\", \"translate(0 6)\")\n",
       "      .style(\"fill\", \"green\");\n",
       "d3.select(\".usersvg #circuitSDj\")\n",
       "  .append(\"rect\")\n",
       "      .attr(\"width\", \"1\")\n",
       "      .attr(\"height\", \"1\")\n",
       "      .attr(\"transform\", \"translate(1 6)\")\n",
       "      .style(\"fill\", \"green\");\n",
       "d3.select(\".usersvg #circuitSDj\")\n",
       "  .append(\"rect\")\n",
       "      .attr(\"width\", \"1\")\n",
       "      .attr(\"height\", \"1\")\n",
       "      .attr(\"transform\", \"translate(2 6)\")\n",
       "      .style(\"fill\", \"green\");\n",
       "d3.select(\".usersvg #circuitSDj\")\n",
       "  .append(\"rect\")\n",
       "      .attr(\"width\", \"1\")\n",
       "      .attr(\"height\", \"1\")\n",
       "      .attr(\"transform\", \"translate(3 6)\")\n",
       "      .style(\"fill\", \"green\");\n",
       "d3.select(\".usersvg #circuitSDj\")\n",
       "  .append(\"rect\")\n",
       "      .attr(\"width\", \"1\")\n",
       "      .attr(\"height\", \"1\")\n",
       "      .attr(\"transform\", \"translate(4 6)\")\n",
       "      .style(\"fill\", \"brown\");\n",
       "d3.select(\".usersvg #circuitSDj\")\n",
       "  .append(\"rect\")\n",
       "      .attr(\"width\", \"1\")\n",
       "      .attr(\"height\", \"1\")\n",
       "      .attr(\"transform\", \"translate(5 6)\")\n",
       "      .style(\"fill\", \"brown\");\n",
       "d3.select(\".usersvg #circuitSDj\")\n",
       "  .append(\"rect\")\n",
       "      .attr(\"width\", \"1\")\n",
       "      .attr(\"height\", \"1\")\n",
       "      .attr(\"transform\", \"translate(6 6)\")\n",
       "      .style(\"fill\", \"brown\");\n",
       "d3.select(\".usersvg #circuitSDj\")\n",
       "  .append(\"rect\")\n",
       "      .attr(\"width\", \"1\")\n",
       "      .attr(\"height\", \"1\")\n",
       "      .attr(\"transform\", \"translate(7 6)\")\n",
       "      .style(\"fill\", \"brown\");\n",
       "d3.select(\".usersvg #circuitSDj\")\n",
       "  .append(\"rect\")\n",
       "      .attr(\"width\", \"1\")\n",
       "      .attr(\"height\", \"1\")\n",
       "      .attr(\"transform\", \"translate(8 6)\")\n",
       "      .style(\"fill\", \"brown\");\n",
       "d3.select(\".usersvg #circuitSDj\")\n",
       "  .append(\"rect\")\n",
       "      .attr(\"width\", \"1\")\n",
       "      .attr(\"height\", \"1\")\n",
       "      .attr(\"transform\", \"translate(9 6)\")\n",
       "      .style(\"fill\", \"green\");\n",
       "d3.select(\".usersvg #circuitSDj\")\n",
       "  .append(\"rect\")\n",
       "      .attr(\"width\", \"1\")\n",
       "      .attr(\"height\", \"1\")\n",
       "      .attr(\"transform\", \"translate(10 6)\")\n",
       "      .style(\"fill\", \"green\");\n",
       "d3.select(\".usersvg #circuitSDj\")\n",
       "  .append(\"rect\")\n",
       "      .attr(\"width\", \"1\")\n",
       "      .attr(\"height\", \"1\")\n",
       "      .attr(\"transform\", \"translate(11 6)\")\n",
       "      .style(\"fill\", \"green\");\n",
       "d3.select(\".usersvg #circuitSDj\")\n",
       "  .append(\"rect\")\n",
       "      .attr(\"width\", \"1\")\n",
       "      .attr(\"height\", \"1\")\n",
       "      .attr(\"transform\", \"translate(12 6)\")\n",
       "      .style(\"fill\", \"green\");\n",
       "d3.select(\".usersvg #circuitSDj\")\n",
       "  .append(\"rect\")\n",
       "      .attr(\"width\", \"1\")\n",
       "      .attr(\"height\", \"1\")\n",
       "      .attr(\"transform\", \"translate(13 6)\")\n",
       "      .style(\"fill\", \"green\");\n",
       "d3.select(\".usersvg #circuitSDj\")\n",
       "  .append(\"rect\")\n",
       "      .attr(\"width\", \"1\")\n",
       "      .attr(\"height\", \"1\")\n",
       "      .attr(\"transform\", \"translate(14 6)\")\n",
       "      .style(\"fill\", \"green\");\n",
       "d3.select(\".usersvg #circuitSDj\")\n",
       "  .append(\"rect\")\n",
       "      .attr(\"width\", \"1\")\n",
       "      .attr(\"height\", \"1\")\n",
       "      .attr(\"transform\", \"translate(15 6)\")\n",
       "      .style(\"fill\", \"green\");\n",
       "d3.select(\".usersvg #circuitSDj\")\n",
       "  .append(\"rect\")\n",
       "      .attr(\"width\", \"1\")\n",
       "      .attr(\"height\", \"1\")\n",
       "      .attr(\"transform\", \"translate(16 6)\")\n",
       "      .style(\"fill\", \"green\");\n",
       "d3.select(\".usersvg #circuitSDj\")\n",
       "  .append(\"rect\")\n",
       "      .attr(\"width\", \"1\")\n",
       "      .attr(\"height\", \"1\")\n",
       "      .attr(\"transform\", \"translate(17 6)\")\n",
       "      .style(\"fill\", \"green\");\n",
       "d3.select(\".usersvg #circuitSDj\")\n",
       "  .append(\"rect\")\n",
       "      .attr(\"width\", \"1\")\n",
       "      .attr(\"height\", \"1\")\n",
       "      .attr(\"transform\", \"translate(18 6)\")\n",
       "      .style(\"fill\", \"green\");\n",
       "d3.select(\".usersvg #circuitSDj\")\n",
       "  .append(\"rect\")\n",
       "      .attr(\"width\", \"1\")\n",
       "      .attr(\"height\", \"1\")\n",
       "      .attr(\"transform\", \"translate(19 6)\")\n",
       "      .style(\"fill\", \"green\");\n",
       "d3.select(\".usersvg #circuitSDj\")\n",
       "  .append(\"rect\")\n",
       "      .attr(\"width\", \"1\")\n",
       "      .attr(\"height\", \"1\")\n",
       "      .attr(\"transform\", \"translate(20 6)\")\n",
       "      .style(\"fill\", \"brown\");\n",
       "d3.select(\".usersvg #circuitSDj\")\n",
       "  .append(\"rect\")\n",
       "      .attr(\"width\", \"1\")\n",
       "      .attr(\"height\", \"1\")\n",
       "      .attr(\"transform\", \"translate(21 6)\")\n",
       "      .style(\"fill\", \"brown\");\n",
       "d3.select(\".usersvg #circuitSDj\")\n",
       "  .append(\"rect\")\n",
       "      .attr(\"width\", \"1\")\n",
       "      .attr(\"height\", \"1\")\n",
       "      .attr(\"transform\", \"translate(22 6)\")\n",
       "      .style(\"fill\", \"brown\");\n",
       "d3.select(\".usersvg #circuitSDj\")\n",
       "  .append(\"rect\")\n",
       "      .attr(\"width\", \"1\")\n",
       "      .attr(\"height\", \"1\")\n",
       "      .attr(\"transform\", \"translate(23 6)\")\n",
       "      .style(\"fill\", \"brown\");\n",
       "d3.select(\".usersvg #circuitSDj\")\n",
       "  .append(\"rect\")\n",
       "      .attr(\"width\", \"1\")\n",
       "      .attr(\"height\", \"1\")\n",
       "      .attr(\"transform\", \"translate(24 6)\")\n",
       "      .style(\"fill\", \"brown\");\n",
       "d3.select(\".usersvg #circuitSDj\")\n",
       "  .append(\"rect\")\n",
       "      .attr(\"width\", \"1\")\n",
       "      .attr(\"height\", \"1\")\n",
       "      .attr(\"transform\", \"translate(25 6)\")\n",
       "      .style(\"fill\", \"green\");\n",
       "d3.select(\".usersvg #circuitSDj\")\n",
       "  .append(\"rect\")\n",
       "      .attr(\"width\", \"1\")\n",
       "      .attr(\"height\", \"1\")\n",
       "      .attr(\"transform\", \"translate(26 6)\")\n",
       "      .style(\"fill\", \"green\");\n",
       "d3.select(\".usersvg #circuitSDj\")\n",
       "  .append(\"rect\")\n",
       "      .attr(\"width\", \"1\")\n",
       "      .attr(\"height\", \"1\")\n",
       "      .attr(\"transform\", \"translate(27 6)\")\n",
       "      .style(\"fill\", \"green\");\n",
       "d3.select(\".usersvg #circuitSDj\")\n",
       "  .append(\"rect\")\n",
       "      .attr(\"width\", \"1\")\n",
       "      .attr(\"height\", \"1\")\n",
       "      .attr(\"transform\", \"translate(28 6)\")\n",
       "      .style(\"fill\", \"green\");\n",
       "d3.select(\".usersvg #circuitSDj\")\n",
       "  .append(\"rect\")\n",
       "      .attr(\"width\", \"1\")\n",
       "      .attr(\"height\", \"1\")\n",
       "      .attr(\"transform\", \"translate(29 6)\")\n",
       "      .style(\"fill\", \"green\");\n",
       "d3.select(\".usersvg #circuitSDj\")\n",
       "  .append(\"rect\")\n",
       "      .attr(\"width\", \"1\")\n",
       "      .attr(\"height\", \"1\")\n",
       "      .attr(\"transform\", \"translate(0 7)\")\n",
       "      .style(\"fill\", \"green\");\n",
       "d3.select(\".usersvg #circuitSDj\")\n",
       "  .append(\"rect\")\n",
       "      .attr(\"width\", \"1\")\n",
       "      .attr(\"height\", \"1\")\n",
       "      .attr(\"transform\", \"translate(1 7)\")\n",
       "      .style(\"fill\", \"green\");\n",
       "d3.select(\".usersvg #circuitSDj\")\n",
       "  .append(\"rect\")\n",
       "      .attr(\"width\", \"1\")\n",
       "      .attr(\"height\", \"1\")\n",
       "      .attr(\"transform\", \"translate(2 7)\")\n",
       "      .style(\"fill\", \"green\");\n",
       "d3.select(\".usersvg #circuitSDj\")\n",
       "  .append(\"rect\")\n",
       "      .attr(\"width\", \"1\")\n",
       "      .attr(\"height\", \"1\")\n",
       "      .attr(\"transform\", \"translate(3 7)\")\n",
       "      .style(\"fill\", \"brown\");\n",
       "d3.select(\".usersvg #circuitSDj\")\n",
       "  .append(\"rect\")\n",
       "      .attr(\"width\", \"1\")\n",
       "      .attr(\"height\", \"1\")\n",
       "      .attr(\"transform\", \"translate(4 7)\")\n",
       "      .style(\"fill\", \"brown\");\n",
       "d3.select(\".usersvg #circuitSDj\")\n",
       "  .append(\"rect\")\n",
       "      .attr(\"width\", \"1\")\n",
       "      .attr(\"height\", \"1\")\n",
       "      .attr(\"transform\", \"translate(5 7)\")\n",
       "      .style(\"fill\", \"brown\");\n",
       "d3.select(\".usersvg #circuitSDj\")\n",
       "  .append(\"rect\")\n",
       "      .attr(\"width\", \"1\")\n",
       "      .attr(\"height\", \"1\")\n",
       "      .attr(\"transform\", \"translate(6 7)\")\n",
       "      .style(\"fill\", \"brown\");\n",
       "d3.select(\".usersvg #circuitSDj\")\n",
       "  .append(\"rect\")\n",
       "      .attr(\"width\", \"1\")\n",
       "      .attr(\"height\", \"1\")\n",
       "      .attr(\"transform\", \"translate(7 7)\")\n",
       "      .style(\"fill\", \"green\");\n",
       "d3.select(\".usersvg #circuitSDj\")\n",
       "  .append(\"rect\")\n",
       "      .attr(\"width\", \"1\")\n",
       "      .attr(\"height\", \"1\")\n",
       "      .attr(\"transform\", \"translate(8 7)\")\n",
       "      .style(\"fill\", \"green\");\n",
       "d3.select(\".usersvg #circuitSDj\")\n",
       "  .append(\"rect\")\n",
       "      .attr(\"width\", \"1\")\n",
       "      .attr(\"height\", \"1\")\n",
       "      .attr(\"transform\", \"translate(9 7)\")\n",
       "      .style(\"fill\", \"green\");\n",
       "d3.select(\".usersvg #circuitSDj\")\n",
       "  .append(\"rect\")\n",
       "      .attr(\"width\", \"1\")\n",
       "      .attr(\"height\", \"1\")\n",
       "      .attr(\"transform\", \"translate(10 7)\")\n",
       "      .style(\"fill\", \"green\");\n",
       "d3.select(\".usersvg #circuitSDj\")\n",
       "  .append(\"rect\")\n",
       "      .attr(\"width\", \"1\")\n",
       "      .attr(\"height\", \"1\")\n",
       "      .attr(\"transform\", \"translate(11 7)\")\n",
       "      .style(\"fill\", \"green\");\n",
       "d3.select(\".usersvg #circuitSDj\")\n",
       "  .append(\"rect\")\n",
       "      .attr(\"width\", \"1\")\n",
       "      .attr(\"height\", \"1\")\n",
       "      .attr(\"transform\", \"translate(12 7)\")\n",
       "      .style(\"fill\", \"green\");\n",
       "d3.select(\".usersvg #circuitSDj\")\n",
       "  .append(\"rect\")\n",
       "      .attr(\"width\", \"1\")\n",
       "      .attr(\"height\", \"1\")\n",
       "      .attr(\"transform\", \"translate(13 7)\")\n",
       "      .style(\"fill\", \"green\");\n",
       "d3.select(\".usersvg #circuitSDj\")\n",
       "  .append(\"rect\")\n",
       "      .attr(\"width\", \"1\")\n",
       "      .attr(\"height\", \"1\")\n",
       "      .attr(\"transform\", \"translate(14 7)\")\n",
       "      .style(\"fill\", \"green\");\n",
       "d3.select(\".usersvg #circuitSDj\")\n",
       "  .append(\"rect\")\n",
       "      .attr(\"width\", \"1\")\n",
       "      .attr(\"height\", \"1\")\n",
       "      .attr(\"transform\", \"translate(15 7)\")\n",
       "      .style(\"fill\", \"green\");\n",
       "d3.select(\".usersvg #circuitSDj\")\n",
       "  .append(\"rect\")\n",
       "      .attr(\"width\", \"1\")\n",
       "      .attr(\"height\", \"1\")\n",
       "      .attr(\"transform\", \"translate(16 7)\")\n",
       "      .style(\"fill\", \"green\");\n",
       "d3.select(\".usersvg #circuitSDj\")\n",
       "  .append(\"rect\")\n",
       "      .attr(\"width\", \"1\")\n",
       "      .attr(\"height\", \"1\")\n",
       "      .attr(\"transform\", \"translate(17 7)\")\n",
       "      .style(\"fill\", \"green\");\n",
       "d3.select(\".usersvg #circuitSDj\")\n",
       "  .append(\"rect\")\n",
       "      .attr(\"width\", \"1\")\n",
       "      .attr(\"height\", \"1\")\n",
       "      .attr(\"transform\", \"translate(18 7)\")\n",
       "      .style(\"fill\", \"green\");\n",
       "d3.select(\".usersvg #circuitSDj\")\n",
       "  .append(\"rect\")\n",
       "      .attr(\"width\", \"1\")\n",
       "      .attr(\"height\", \"1\")\n",
       "      .attr(\"transform\", \"translate(19 7)\")\n",
       "      .style(\"fill\", \"green\");\n",
       "d3.select(\".usersvg #circuitSDj\")\n",
       "  .append(\"rect\")\n",
       "      .attr(\"width\", \"1\")\n",
       "      .attr(\"height\", \"1\")\n",
       "      .attr(\"transform\", \"translate(20 7)\")\n",
       "      .style(\"fill\", \"green\");\n",
       "d3.select(\".usersvg #circuitSDj\")\n",
       "  .append(\"rect\")\n",
       "      .attr(\"width\", \"1\")\n",
       "      .attr(\"height\", \"1\")\n",
       "      .attr(\"transform\", \"translate(21 7)\")\n",
       "      .style(\"fill\", \"brown\");\n",
       "d3.select(\".usersvg #circuitSDj\")\n",
       "  .append(\"rect\")\n",
       "      .attr(\"width\", \"1\")\n",
       "      .attr(\"height\", \"1\")\n",
       "      .attr(\"transform\", \"translate(22 7)\")\n",
       "      .style(\"fill\", \"brown\");\n",
       "d3.select(\".usersvg #circuitSDj\")\n",
       "  .append(\"rect\")\n",
       "      .attr(\"width\", \"1\")\n",
       "      .attr(\"height\", \"1\")\n",
       "      .attr(\"transform\", \"translate(23 7)\")\n",
       "      .style(\"fill\", \"brown\");\n",
       "d3.select(\".usersvg #circuitSDj\")\n",
       "  .append(\"rect\")\n",
       "      .attr(\"width\", \"1\")\n",
       "      .attr(\"height\", \"1\")\n",
       "      .attr(\"transform\", \"translate(24 7)\")\n",
       "      .style(\"fill\", \"brown\");\n",
       "d3.select(\".usersvg #circuitSDj\")\n",
       "  .append(\"rect\")\n",
       "      .attr(\"width\", \"1\")\n",
       "      .attr(\"height\", \"1\")\n",
       "      .attr(\"transform\", \"translate(25 7)\")\n",
       "      .style(\"fill\", \"green\");\n",
       "d3.select(\".usersvg #circuitSDj\")\n",
       "  .append(\"rect\")\n",
       "      .attr(\"width\", \"1\")\n",
       "      .attr(\"height\", \"1\")\n",
       "      .attr(\"transform\", \"translate(26 7)\")\n",
       "      .style(\"fill\", \"green\");\n",
       "d3.select(\".usersvg #circuitSDj\")\n",
       "  .append(\"rect\")\n",
       "      .attr(\"width\", \"1\")\n",
       "      .attr(\"height\", \"1\")\n",
       "      .attr(\"transform\", \"translate(27 7)\")\n",
       "      .style(\"fill\", \"green\");\n",
       "d3.select(\".usersvg #circuitSDj\")\n",
       "  .append(\"rect\")\n",
       "      .attr(\"width\", \"1\")\n",
       "      .attr(\"height\", \"1\")\n",
       "      .attr(\"transform\", \"translate(28 7)\")\n",
       "      .style(\"fill\", \"green\");\n",
       "d3.select(\".usersvg #circuitSDj\")\n",
       "  .append(\"rect\")\n",
       "      .attr(\"width\", \"1\")\n",
       "      .attr(\"height\", \"1\")\n",
       "      .attr(\"transform\", \"translate(29 7)\")\n",
       "      .style(\"fill\", \"green\");\n",
       "d3.select(\".usersvg #circuitSDj\")\n",
       "  .append(\"rect\")\n",
       "      .attr(\"width\", \"1\")\n",
       "      .attr(\"height\", \"1\")\n",
       "      .attr(\"transform\", \"translate(0 8)\")\n",
       "      .style(\"fill\", \"green\");\n",
       "d3.select(\".usersvg #circuitSDj\")\n",
       "  .append(\"rect\")\n",
       "      .attr(\"width\", \"1\")\n",
       "      .attr(\"height\", \"1\")\n",
       "      .attr(\"transform\", \"translate(1 8)\")\n",
       "      .style(\"fill\", \"green\");\n",
       "d3.select(\".usersvg #circuitSDj\")\n",
       "  .append(\"rect\")\n",
       "      .attr(\"width\", \"1\")\n",
       "      .attr(\"height\", \"1\")\n",
       "      .attr(\"transform\", \"translate(2 8)\")\n",
       "      .style(\"fill\", \"green\");\n",
       "d3.select(\".usersvg #circuitSDj\")\n",
       "  .append(\"rect\")\n",
       "      .attr(\"width\", \"1\")\n",
       "      .attr(\"height\", \"1\")\n",
       "      .attr(\"transform\", \"translate(3 8)\")\n",
       "      .style(\"fill\", \"brown\");\n",
       "d3.select(\".usersvg #circuitSDj\")\n",
       "  .append(\"rect\")\n",
       "      .attr(\"width\", \"1\")\n",
       "      .attr(\"height\", \"1\")\n",
       "      .attr(\"transform\", \"translate(4 8)\")\n",
       "      .style(\"fill\", \"brown\");\n",
       "d3.select(\".usersvg #circuitSDj\")\n",
       "  .append(\"rect\")\n",
       "      .attr(\"width\", \"1\")\n",
       "      .attr(\"height\", \"1\")\n",
       "      .attr(\"transform\", \"translate(5 8)\")\n",
       "      .style(\"fill\", \"brown\");\n",
       "d3.select(\".usersvg #circuitSDj\")\n",
       "  .append(\"rect\")\n",
       "      .attr(\"width\", \"1\")\n",
       "      .attr(\"height\", \"1\")\n",
       "      .attr(\"transform\", \"translate(6 8)\")\n",
       "      .style(\"fill\", \"brown\");\n",
       "d3.select(\".usersvg #circuitSDj\")\n",
       "  .append(\"rect\")\n",
       "      .attr(\"width\", \"1\")\n",
       "      .attr(\"height\", \"1\")\n",
       "      .attr(\"transform\", \"translate(7 8)\")\n",
       "      .style(\"fill\", \"green\");\n",
       "d3.select(\".usersvg #circuitSDj\")\n",
       "  .append(\"rect\")\n",
       "      .attr(\"width\", \"1\")\n",
       "      .attr(\"height\", \"1\")\n",
       "      .attr(\"transform\", \"translate(8 8)\")\n",
       "      .style(\"fill\", \"green\");\n",
       "d3.select(\".usersvg #circuitSDj\")\n",
       "  .append(\"rect\")\n",
       "      .attr(\"width\", \"1\")\n",
       "      .attr(\"height\", \"1\")\n",
       "      .attr(\"transform\", \"translate(9 8)\")\n",
       "      .style(\"fill\", \"green\");\n",
       "d3.select(\".usersvg #circuitSDj\")\n",
       "  .append(\"rect\")\n",
       "      .attr(\"width\", \"1\")\n",
       "      .attr(\"height\", \"1\")\n",
       "      .attr(\"transform\", \"translate(10 8)\")\n",
       "      .style(\"fill\", \"green\");\n",
       "d3.select(\".usersvg #circuitSDj\")\n",
       "  .append(\"rect\")\n",
       "      .attr(\"width\", \"1\")\n",
       "      .attr(\"height\", \"1\")\n",
       "      .attr(\"transform\", \"translate(11 8)\")\n",
       "      .style(\"fill\", \"green\");\n",
       "d3.select(\".usersvg #circuitSDj\")\n",
       "  .append(\"rect\")\n",
       "      .attr(\"width\", \"1\")\n",
       "      .attr(\"height\", \"1\")\n",
       "      .attr(\"transform\", \"translate(12 8)\")\n",
       "      .style(\"fill\", \"green\");\n",
       "d3.select(\".usersvg #circuitSDj\")\n",
       "  .append(\"rect\")\n",
       "      .attr(\"width\", \"1\")\n",
       "      .attr(\"height\", \"1\")\n",
       "      .attr(\"transform\", \"translate(13 8)\")\n",
       "      .style(\"fill\", \"green\");\n",
       "d3.select(\".usersvg #circuitSDj\")\n",
       "  .append(\"rect\")\n",
       "      .attr(\"width\", \"1\")\n",
       "      .attr(\"height\", \"1\")\n",
       "      .attr(\"transform\", \"translate(14 8)\")\n",
       "      .style(\"fill\", \"green\");\n",
       "d3.select(\".usersvg #circuitSDj\")\n",
       "  .append(\"rect\")\n",
       "      .attr(\"width\", \"1\")\n",
       "      .attr(\"height\", \"1\")\n",
       "      .attr(\"transform\", \"translate(15 8)\")\n",
       "      .style(\"fill\", \"green\");\n",
       "d3.select(\".usersvg #circuitSDj\")\n",
       "  .append(\"rect\")\n",
       "      .attr(\"width\", \"1\")\n",
       "      .attr(\"height\", \"1\")\n",
       "      .attr(\"transform\", \"translate(16 8)\")\n",
       "      .style(\"fill\", \"green\");\n",
       "d3.select(\".usersvg #circuitSDj\")\n",
       "  .append(\"rect\")\n",
       "      .attr(\"width\", \"1\")\n",
       "      .attr(\"height\", \"1\")\n",
       "      .attr(\"transform\", \"translate(17 8)\")\n",
       "      .style(\"fill\", \"green\");\n",
       "d3.select(\".usersvg #circuitSDj\")\n",
       "  .append(\"rect\")\n",
       "      .attr(\"width\", \"1\")\n",
       "      .attr(\"height\", \"1\")\n",
       "      .attr(\"transform\", \"translate(18 8)\")\n",
       "      .style(\"fill\", \"green\");\n",
       "d3.select(\".usersvg #circuitSDj\")\n",
       "  .append(\"rect\")\n",
       "      .attr(\"width\", \"1\")\n",
       "      .attr(\"height\", \"1\")\n",
       "      .attr(\"transform\", \"translate(19 8)\")\n",
       "      .style(\"fill\", \"green\");\n",
       "d3.select(\".usersvg #circuitSDj\")\n",
       "  .append(\"rect\")\n",
       "      .attr(\"width\", \"1\")\n",
       "      .attr(\"height\", \"1\")\n",
       "      .attr(\"transform\", \"translate(20 8)\")\n",
       "      .style(\"fill\", \"green\");\n",
       "d3.select(\".usersvg #circuitSDj\")\n",
       "  .append(\"rect\")\n",
       "      .attr(\"width\", \"1\")\n",
       "      .attr(\"height\", \"1\")\n",
       "      .attr(\"transform\", \"translate(21 8)\")\n",
       "      .style(\"fill\", \"brown\");\n",
       "d3.select(\".usersvg #circuitSDj\")\n",
       "  .append(\"rect\")\n",
       "      .attr(\"width\", \"1\")\n",
       "      .attr(\"height\", \"1\")\n",
       "      .attr(\"transform\", \"translate(22 8)\")\n",
       "      .style(\"fill\", \"brown\");\n",
       "d3.select(\".usersvg #circuitSDj\")\n",
       "  .append(\"rect\")\n",
       "      .attr(\"width\", \"1\")\n",
       "      .attr(\"height\", \"1\")\n",
       "      .attr(\"transform\", \"translate(23 8)\")\n",
       "      .style(\"fill\", \"brown\");\n",
       "d3.select(\".usersvg #circuitSDj\")\n",
       "  .append(\"rect\")\n",
       "      .attr(\"width\", \"1\")\n",
       "      .attr(\"height\", \"1\")\n",
       "      .attr(\"transform\", \"translate(24 8)\")\n",
       "      .style(\"fill\", \"brown\");\n",
       "d3.select(\".usersvg #circuitSDj\")\n",
       "  .append(\"rect\")\n",
       "      .attr(\"width\", \"1\")\n",
       "      .attr(\"height\", \"1\")\n",
       "      .attr(\"transform\", \"translate(25 8)\")\n",
       "      .style(\"fill\", \"green\");\n",
       "d3.select(\".usersvg #circuitSDj\")\n",
       "  .append(\"rect\")\n",
       "      .attr(\"width\", \"1\")\n",
       "      .attr(\"height\", \"1\")\n",
       "      .attr(\"transform\", \"translate(26 8)\")\n",
       "      .style(\"fill\", \"green\");\n",
       "d3.select(\".usersvg #circuitSDj\")\n",
       "  .append(\"rect\")\n",
       "      .attr(\"width\", \"1\")\n",
       "      .attr(\"height\", \"1\")\n",
       "      .attr(\"transform\", \"translate(27 8)\")\n",
       "      .style(\"fill\", \"green\");\n",
       "d3.select(\".usersvg #circuitSDj\")\n",
       "  .append(\"rect\")\n",
       "      .attr(\"width\", \"1\")\n",
       "      .attr(\"height\", \"1\")\n",
       "      .attr(\"transform\", \"translate(28 8)\")\n",
       "      .style(\"fill\", \"green\");\n",
       "d3.select(\".usersvg #circuitSDj\")\n",
       "  .append(\"rect\")\n",
       "      .attr(\"width\", \"1\")\n",
       "      .attr(\"height\", \"1\")\n",
       "      .attr(\"transform\", \"translate(29 8)\")\n",
       "      .style(\"fill\", \"green\");\n",
       "d3.select(\".usersvg #circuitSDj\")\n",
       "  .append(\"rect\")\n",
       "      .attr(\"width\", \"1\")\n",
       "      .attr(\"height\", \"1\")\n",
       "      .attr(\"transform\", \"translate(0 9)\")\n",
       "      .style(\"fill\", \"green\");\n",
       "d3.select(\".usersvg #circuitSDj\")\n",
       "  .append(\"rect\")\n",
       "      .attr(\"width\", \"1\")\n",
       "      .attr(\"height\", \"1\")\n",
       "      .attr(\"transform\", \"translate(1 9)\")\n",
       "      .style(\"fill\", \"green\");\n",
       "d3.select(\".usersvg #circuitSDj\")\n",
       "  .append(\"rect\")\n",
       "      .attr(\"width\", \"1\")\n",
       "      .attr(\"height\", \"1\")\n",
       "      .attr(\"transform\", \"translate(2 9)\")\n",
       "      .style(\"fill\", \"green\");\n",
       "d3.select(\".usersvg #circuitSDj\")\n",
       "  .append(\"rect\")\n",
       "      .attr(\"width\", \"1\")\n",
       "      .attr(\"height\", \"1\")\n",
       "      .attr(\"transform\", \"translate(3 9)\")\n",
       "      .style(\"fill\", \"brown\");\n",
       "d3.select(\".usersvg #circuitSDj\")\n",
       "  .append(\"rect\")\n",
       "      .attr(\"width\", \"1\")\n",
       "      .attr(\"height\", \"1\")\n",
       "      .attr(\"transform\", \"translate(4 9)\")\n",
       "      .style(\"fill\", \"brown\");\n",
       "d3.select(\".usersvg #circuitSDj\")\n",
       "  .append(\"rect\")\n",
       "      .attr(\"width\", \"1\")\n",
       "      .attr(\"height\", \"1\")\n",
       "      .attr(\"transform\", \"translate(5 9)\")\n",
       "      .style(\"fill\", \"brown\");\n",
       "d3.select(\".usersvg #circuitSDj\")\n",
       "  .append(\"rect\")\n",
       "      .attr(\"width\", \"1\")\n",
       "      .attr(\"height\", \"1\")\n",
       "      .attr(\"transform\", \"translate(6 9)\")\n",
       "      .style(\"fill\", \"brown\");\n",
       "d3.select(\".usersvg #circuitSDj\")\n",
       "  .append(\"rect\")\n",
       "      .attr(\"width\", \"1\")\n",
       "      .attr(\"height\", \"1\")\n",
       "      .attr(\"transform\", \"translate(7 9)\")\n",
       "      .style(\"fill\", \"green\");\n",
       "d3.select(\".usersvg #circuitSDj\")\n",
       "  .append(\"rect\")\n",
       "      .attr(\"width\", \"1\")\n",
       "      .attr(\"height\", \"1\")\n",
       "      .attr(\"transform\", \"translate(8 9)\")\n",
       "      .style(\"fill\", \"green\");\n",
       "d3.select(\".usersvg #circuitSDj\")\n",
       "  .append(\"rect\")\n",
       "      .attr(\"width\", \"1\")\n",
       "      .attr(\"height\", \"1\")\n",
       "      .attr(\"transform\", \"translate(9 9)\")\n",
       "      .style(\"fill\", \"green\");\n",
       "d3.select(\".usersvg #circuitSDj\")\n",
       "  .append(\"rect\")\n",
       "      .attr(\"width\", \"1\")\n",
       "      .attr(\"height\", \"1\")\n",
       "      .attr(\"transform\", \"translate(10 9)\")\n",
       "      .style(\"fill\", \"green\");\n",
       "d3.select(\".usersvg #circuitSDj\")\n",
       "  .append(\"rect\")\n",
       "      .attr(\"width\", \"1\")\n",
       "      .attr(\"height\", \"1\")\n",
       "      .attr(\"transform\", \"translate(11 9)\")\n",
       "      .style(\"fill\", \"green\");\n",
       "d3.select(\".usersvg #circuitSDj\")\n",
       "  .append(\"rect\")\n",
       "      .attr(\"width\", \"1\")\n",
       "      .attr(\"height\", \"1\")\n",
       "      .attr(\"transform\", \"translate(12 9)\")\n",
       "      .style(\"fill\", \"green\");\n",
       "d3.select(\".usersvg #circuitSDj\")\n",
       "  .append(\"rect\")\n",
       "      .attr(\"width\", \"1\")\n",
       "      .attr(\"height\", \"1\")\n",
       "      .attr(\"transform\", \"translate(13 9)\")\n",
       "      .style(\"fill\", \"green\");\n",
       "d3.select(\".usersvg #circuitSDj\")\n",
       "  .append(\"rect\")\n",
       "      .attr(\"width\", \"1\")\n",
       "      .attr(\"height\", \"1\")\n",
       "      .attr(\"transform\", \"translate(14 9)\")\n",
       "      .style(\"fill\", \"green\");\n",
       "d3.select(\".usersvg #circuitSDj\")\n",
       "  .append(\"rect\")\n",
       "      .attr(\"width\", \"1\")\n",
       "      .attr(\"height\", \"1\")\n",
       "      .attr(\"transform\", \"translate(15 9)\")\n",
       "      .style(\"fill\", \"green\");\n",
       "d3.select(\".usersvg #circuitSDj\")\n",
       "  .append(\"rect\")\n",
       "      .attr(\"width\", \"1\")\n",
       "      .attr(\"height\", \"1\")\n",
       "      .attr(\"transform\", \"translate(16 9)\")\n",
       "      .style(\"fill\", \"green\");\n",
       "d3.select(\".usersvg #circuitSDj\")\n",
       "  .append(\"rect\")\n",
       "      .attr(\"width\", \"1\")\n",
       "      .attr(\"height\", \"1\")\n",
       "      .attr(\"transform\", \"translate(17 9)\")\n",
       "      .style(\"fill\", \"green\");\n",
       "d3.select(\".usersvg #circuitSDj\")\n",
       "  .append(\"rect\")\n",
       "      .attr(\"width\", \"1\")\n",
       "      .attr(\"height\", \"1\")\n",
       "      .attr(\"transform\", \"translate(18 9)\")\n",
       "      .style(\"fill\", \"green\");\n",
       "d3.select(\".usersvg #circuitSDj\")\n",
       "  .append(\"rect\")\n",
       "      .attr(\"width\", \"1\")\n",
       "      .attr(\"height\", \"1\")\n",
       "      .attr(\"transform\", \"translate(19 9)\")\n",
       "      .style(\"fill\", \"green\");\n",
       "d3.select(\".usersvg #circuitSDj\")\n",
       "  .append(\"rect\")\n",
       "      .attr(\"width\", \"1\")\n",
       "      .attr(\"height\", \"1\")\n",
       "      .attr(\"transform\", \"translate(20 9)\")\n",
       "      .style(\"fill\", \"green\");\n",
       "d3.select(\".usersvg #circuitSDj\")\n",
       "  .append(\"rect\")\n",
       "      .attr(\"width\", \"1\")\n",
       "      .attr(\"height\", \"1\")\n",
       "      .attr(\"transform\", \"translate(21 9)\")\n",
       "      .style(\"fill\", \"brown\");\n",
       "d3.select(\".usersvg #circuitSDj\")\n",
       "  .append(\"rect\")\n",
       "      .attr(\"width\", \"1\")\n",
       "      .attr(\"height\", \"1\")\n",
       "      .attr(\"transform\", \"translate(22 9)\")\n",
       "      .style(\"fill\", \"brown\");\n",
       "d3.select(\".usersvg #circuitSDj\")\n",
       "  .append(\"rect\")\n",
       "      .attr(\"width\", \"1\")\n",
       "      .attr(\"height\", \"1\")\n",
       "      .attr(\"transform\", \"translate(23 9)\")\n",
       "      .style(\"fill\", \"brown\");\n",
       "d3.select(\".usersvg #circuitSDj\")\n",
       "  .append(\"rect\")\n",
       "      .attr(\"width\", \"1\")\n",
       "      .attr(\"height\", \"1\")\n",
       "      .attr(\"transform\", \"translate(24 9)\")\n",
       "      .style(\"fill\", \"brown\");\n",
       "d3.select(\".usersvg #circuitSDj\")\n",
       "  .append(\"rect\")\n",
       "      .attr(\"width\", \"1\")\n",
       "      .attr(\"height\", \"1\")\n",
       "      .attr(\"transform\", \"translate(25 9)\")\n",
       "      .style(\"fill\", \"green\");\n",
       "d3.select(\".usersvg #circuitSDj\")\n",
       "  .append(\"rect\")\n",
       "      .attr(\"width\", \"1\")\n",
       "      .attr(\"height\", \"1\")\n",
       "      .attr(\"transform\", \"translate(26 9)\")\n",
       "      .style(\"fill\", \"green\");\n",
       "d3.select(\".usersvg #circuitSDj\")\n",
       "  .append(\"rect\")\n",
       "      .attr(\"width\", \"1\")\n",
       "      .attr(\"height\", \"1\")\n",
       "      .attr(\"transform\", \"translate(27 9)\")\n",
       "      .style(\"fill\", \"green\");\n",
       "d3.select(\".usersvg #circuitSDj\")\n",
       "  .append(\"rect\")\n",
       "      .attr(\"width\", \"1\")\n",
       "      .attr(\"height\", \"1\")\n",
       "      .attr(\"transform\", \"translate(28 9)\")\n",
       "      .style(\"fill\", \"green\");\n",
       "d3.select(\".usersvg #circuitSDj\")\n",
       "  .append(\"rect\")\n",
       "      .attr(\"width\", \"1\")\n",
       "      .attr(\"height\", \"1\")\n",
       "      .attr(\"transform\", \"translate(29 9)\")\n",
       "      .style(\"fill\", \"green\");\n",
       "d3.select(\".usersvg #circuitSDj\")\n",
       "  .append(\"rect\")\n",
       "      .attr(\"width\", \"1\")\n",
       "      .attr(\"height\", \"1\")\n",
       "      .attr(\"transform\", \"translate(0 10)\")\n",
       "      .style(\"fill\", \"green\");\n",
       "d3.select(\".usersvg #circuitSDj\")\n",
       "  .append(\"rect\")\n",
       "      .attr(\"width\", \"1\")\n",
       "      .attr(\"height\", \"1\")\n",
       "      .attr(\"transform\", \"translate(1 10)\")\n",
       "      .style(\"fill\", \"green\");\n",
       "d3.select(\".usersvg #circuitSDj\")\n",
       "  .append(\"rect\")\n",
       "      .attr(\"width\", \"1\")\n",
       "      .attr(\"height\", \"1\")\n",
       "      .attr(\"transform\", \"translate(2 10)\")\n",
       "      .style(\"fill\", \"green\");\n",
       "d3.select(\".usersvg #circuitSDj\")\n",
       "  .append(\"rect\")\n",
       "      .attr(\"width\", \"1\")\n",
       "      .attr(\"height\", \"1\")\n",
       "      .attr(\"transform\", \"translate(3 10)\")\n",
       "      .style(\"fill\", \"brown\");\n",
       "d3.select(\".usersvg #circuitSDj\")\n",
       "  .append(\"rect\")\n",
       "      .attr(\"width\", \"1\")\n",
       "      .attr(\"height\", \"1\")\n",
       "      .attr(\"transform\", \"translate(4 10)\")\n",
       "      .style(\"fill\", \"brown\");\n",
       "d3.select(\".usersvg #circuitSDj\")\n",
       "  .append(\"rect\")\n",
       "      .attr(\"width\", \"1\")\n",
       "      .attr(\"height\", \"1\")\n",
       "      .attr(\"transform\", \"translate(5 10)\")\n",
       "      .style(\"fill\", \"brown\");\n",
       "d3.select(\".usersvg #circuitSDj\")\n",
       "  .append(\"rect\")\n",
       "      .attr(\"width\", \"1\")\n",
       "      .attr(\"height\", \"1\")\n",
       "      .attr(\"transform\", \"translate(6 10)\")\n",
       "      .style(\"fill\", \"brown\");\n",
       "d3.select(\".usersvg #circuitSDj\")\n",
       "  .append(\"rect\")\n",
       "      .attr(\"width\", \"1\")\n",
       "      .attr(\"height\", \"1\")\n",
       "      .attr(\"transform\", \"translate(7 10)\")\n",
       "      .style(\"fill\", \"green\");\n",
       "d3.select(\".usersvg #circuitSDj\")\n",
       "  .append(\"rect\")\n",
       "      .attr(\"width\", \"1\")\n",
       "      .attr(\"height\", \"1\")\n",
       "      .attr(\"transform\", \"translate(8 10)\")\n",
       "      .style(\"fill\", \"green\");\n",
       "d3.select(\".usersvg #circuitSDj\")\n",
       "  .append(\"rect\")\n",
       "      .attr(\"width\", \"1\")\n",
       "      .attr(\"height\", \"1\")\n",
       "      .attr(\"transform\", \"translate(9 10)\")\n",
       "      .style(\"fill\", \"green\");\n",
       "d3.select(\".usersvg #circuitSDj\")\n",
       "  .append(\"rect\")\n",
       "      .attr(\"width\", \"1\")\n",
       "      .attr(\"height\", \"1\")\n",
       "      .attr(\"transform\", \"translate(10 10)\")\n",
       "      .style(\"fill\", \"green\");\n",
       "d3.select(\".usersvg #circuitSDj\")\n",
       "  .append(\"rect\")\n",
       "      .attr(\"width\", \"1\")\n",
       "      .attr(\"height\", \"1\")\n",
       "      .attr(\"transform\", \"translate(11 10)\")\n",
       "      .style(\"fill\", \"green\");\n",
       "d3.select(\".usersvg #circuitSDj\")\n",
       "  .append(\"rect\")\n",
       "      .attr(\"width\", \"1\")\n",
       "      .attr(\"height\", \"1\")\n",
       "      .attr(\"transform\", \"translate(12 10)\")\n",
       "      .style(\"fill\", \"green\");\n",
       "d3.select(\".usersvg #circuitSDj\")\n",
       "  .append(\"rect\")\n",
       "      .attr(\"width\", \"1\")\n",
       "      .attr(\"height\", \"1\")\n",
       "      .attr(\"transform\", \"translate(13 10)\")\n",
       "      .style(\"fill\", \"green\");\n",
       "d3.select(\".usersvg #circuitSDj\")\n",
       "  .append(\"rect\")\n",
       "      .attr(\"width\", \"1\")\n",
       "      .attr(\"height\", \"1\")\n",
       "      .attr(\"transform\", \"translate(14 10)\")\n",
       "      .style(\"fill\", \"green\");\n",
       "d3.select(\".usersvg #circuitSDj\")\n",
       "  .append(\"rect\")\n",
       "      .attr(\"width\", \"1\")\n",
       "      .attr(\"height\", \"1\")\n",
       "      .attr(\"transform\", \"translate(15 10)\")\n",
       "      .style(\"fill\", \"green\");\n",
       "d3.select(\".usersvg #circuitSDj\")\n",
       "  .append(\"rect\")\n",
       "      .attr(\"width\", \"1\")\n",
       "      .attr(\"height\", \"1\")\n",
       "      .attr(\"transform\", \"translate(16 10)\")\n",
       "      .style(\"fill\", \"green\");\n",
       "d3.select(\".usersvg #circuitSDj\")\n",
       "  .append(\"rect\")\n",
       "      .attr(\"width\", \"1\")\n",
       "      .attr(\"height\", \"1\")\n",
       "      .attr(\"transform\", \"translate(17 10)\")\n",
       "      .style(\"fill\", \"green\");\n",
       "d3.select(\".usersvg #circuitSDj\")\n",
       "  .append(\"rect\")\n",
       "      .attr(\"width\", \"1\")\n",
       "      .attr(\"height\", \"1\")\n",
       "      .attr(\"transform\", \"translate(18 10)\")\n",
       "      .style(\"fill\", \"green\");\n",
       "d3.select(\".usersvg #circuitSDj\")\n",
       "  .append(\"rect\")\n",
       "      .attr(\"width\", \"1\")\n",
       "      .attr(\"height\", \"1\")\n",
       "      .attr(\"transform\", \"translate(19 10)\")\n",
       "      .style(\"fill\", \"green\");\n",
       "d3.select(\".usersvg #circuitSDj\")\n",
       "  .append(\"rect\")\n",
       "      .attr(\"width\", \"1\")\n",
       "      .attr(\"height\", \"1\")\n",
       "      .attr(\"transform\", \"translate(20 10)\")\n",
       "      .style(\"fill\", \"green\");\n",
       "d3.select(\".usersvg #circuitSDj\")\n",
       "  .append(\"rect\")\n",
       "      .attr(\"width\", \"1\")\n",
       "      .attr(\"height\", \"1\")\n",
       "      .attr(\"transform\", \"translate(21 10)\")\n",
       "      .style(\"fill\", \"brown\");\n",
       "d3.select(\".usersvg #circuitSDj\")\n",
       "  .append(\"rect\")\n",
       "      .attr(\"width\", \"1\")\n",
       "      .attr(\"height\", \"1\")\n",
       "      .attr(\"transform\", \"translate(22 10)\")\n",
       "      .style(\"fill\", \"brown\");\n",
       "d3.select(\".usersvg #circuitSDj\")\n",
       "  .append(\"rect\")\n",
       "      .attr(\"width\", \"1\")\n",
       "      .attr(\"height\", \"1\")\n",
       "      .attr(\"transform\", \"translate(23 10)\")\n",
       "      .style(\"fill\", \"brown\");\n",
       "d3.select(\".usersvg #circuitSDj\")\n",
       "  .append(\"rect\")\n",
       "      .attr(\"width\", \"1\")\n",
       "      .attr(\"height\", \"1\")\n",
       "      .attr(\"transform\", \"translate(24 10)\")\n",
       "      .style(\"fill\", \"brown\");\n",
       "d3.select(\".usersvg #circuitSDj\")\n",
       "  .append(\"rect\")\n",
       "      .attr(\"width\", \"1\")\n",
       "      .attr(\"height\", \"1\")\n",
       "      .attr(\"transform\", \"translate(25 10)\")\n",
       "      .style(\"fill\", \"green\");\n",
       "d3.select(\".usersvg #circuitSDj\")\n",
       "  .append(\"rect\")\n",
       "      .attr(\"width\", \"1\")\n",
       "      .attr(\"height\", \"1\")\n",
       "      .attr(\"transform\", \"translate(26 10)\")\n",
       "      .style(\"fill\", \"green\");\n",
       "d3.select(\".usersvg #circuitSDj\")\n",
       "  .append(\"rect\")\n",
       "      .attr(\"width\", \"1\")\n",
       "      .attr(\"height\", \"1\")\n",
       "      .attr(\"transform\", \"translate(27 10)\")\n",
       "      .style(\"fill\", \"green\");\n",
       "d3.select(\".usersvg #circuitSDj\")\n",
       "  .append(\"rect\")\n",
       "      .attr(\"width\", \"1\")\n",
       "      .attr(\"height\", \"1\")\n",
       "      .attr(\"transform\", \"translate(28 10)\")\n",
       "      .style(\"fill\", \"green\");\n",
       "d3.select(\".usersvg #circuitSDj\")\n",
       "  .append(\"rect\")\n",
       "      .attr(\"width\", \"1\")\n",
       "      .attr(\"height\", \"1\")\n",
       "      .attr(\"transform\", \"translate(29 10)\")\n",
       "      .style(\"fill\", \"green\");\n",
       "d3.select(\".usersvg #circuitSDj\")\n",
       "  .append(\"rect\")\n",
       "      .attr(\"width\", \"1\")\n",
       "      .attr(\"height\", \"1\")\n",
       "      .attr(\"transform\", \"translate(0 11)\")\n",
       "      .style(\"fill\", \"green\");\n",
       "d3.select(\".usersvg #circuitSDj\")\n",
       "  .append(\"rect\")\n",
       "      .attr(\"width\", \"1\")\n",
       "      .attr(\"height\", \"1\")\n",
       "      .attr(\"transform\", \"translate(1 11)\")\n",
       "      .style(\"fill\", \"green\");\n",
       "d3.select(\".usersvg #circuitSDj\")\n",
       "  .append(\"rect\")\n",
       "      .attr(\"width\", \"1\")\n",
       "      .attr(\"height\", \"1\")\n",
       "      .attr(\"transform\", \"translate(2 11)\")\n",
       "      .style(\"fill\", \"green\");\n",
       "d3.select(\".usersvg #circuitSDj\")\n",
       "  .append(\"rect\")\n",
       "      .attr(\"width\", \"1\")\n",
       "      .attr(\"height\", \"1\")\n",
       "      .attr(\"transform\", \"translate(3 11)\")\n",
       "      .style(\"fill\", \"brown\");\n",
       "d3.select(\".usersvg #circuitSDj\")\n",
       "  .append(\"rect\")\n",
       "      .attr(\"width\", \"1\")\n",
       "      .attr(\"height\", \"1\")\n",
       "      .attr(\"transform\", \"translate(4 11)\")\n",
       "      .style(\"fill\", \"brown\");\n",
       "d3.select(\".usersvg #circuitSDj\")\n",
       "  .append(\"rect\")\n",
       "      .attr(\"width\", \"1\")\n",
       "      .attr(\"height\", \"1\")\n",
       "      .attr(\"transform\", \"translate(5 11)\")\n",
       "      .style(\"fill\", \"brown\");\n",
       "d3.select(\".usersvg #circuitSDj\")\n",
       "  .append(\"rect\")\n",
       "      .attr(\"width\", \"1\")\n",
       "      .attr(\"height\", \"1\")\n",
       "      .attr(\"transform\", \"translate(6 11)\")\n",
       "      .style(\"fill\", \"brown\");\n",
       "d3.select(\".usersvg #circuitSDj\")\n",
       "  .append(\"rect\")\n",
       "      .attr(\"width\", \"1\")\n",
       "      .attr(\"height\", \"1\")\n",
       "      .attr(\"transform\", \"translate(7 11)\")\n",
       "      .style(\"fill\", \"brown\");\n",
       "d3.select(\".usersvg #circuitSDj\")\n",
       "  .append(\"rect\")\n",
       "      .attr(\"width\", \"1\")\n",
       "      .attr(\"height\", \"1\")\n",
       "      .attr(\"transform\", \"translate(8 11)\")\n",
       "      .style(\"fill\", \"green\");\n",
       "d3.select(\".usersvg #circuitSDj\")\n",
       "  .append(\"rect\")\n",
       "      .attr(\"width\", \"1\")\n",
       "      .attr(\"height\", \"1\")\n",
       "      .attr(\"transform\", \"translate(9 11)\")\n",
       "      .style(\"fill\", \"green\");\n",
       "d3.select(\".usersvg #circuitSDj\")\n",
       "  .append(\"rect\")\n",
       "      .attr(\"width\", \"1\")\n",
       "      .attr(\"height\", \"1\")\n",
       "      .attr(\"transform\", \"translate(10 11)\")\n",
       "      .style(\"fill\", \"green\");\n",
       "d3.select(\".usersvg #circuitSDj\")\n",
       "  .append(\"rect\")\n",
       "      .attr(\"width\", \"1\")\n",
       "      .attr(\"height\", \"1\")\n",
       "      .attr(\"transform\", \"translate(11 11)\")\n",
       "      .style(\"fill\", \"green\");\n",
       "d3.select(\".usersvg #circuitSDj\")\n",
       "  .append(\"rect\")\n",
       "      .attr(\"width\", \"1\")\n",
       "      .attr(\"height\", \"1\")\n",
       "      .attr(\"transform\", \"translate(12 11)\")\n",
       "      .style(\"fill\", \"green\");\n",
       "d3.select(\".usersvg #circuitSDj\")\n",
       "  .append(\"rect\")\n",
       "      .attr(\"width\", \"1\")\n",
       "      .attr(\"height\", \"1\")\n",
       "      .attr(\"transform\", \"translate(13 11)\")\n",
       "      .style(\"fill\", \"green\");\n",
       "d3.select(\".usersvg #circuitSDj\")\n",
       "  .append(\"rect\")\n",
       "      .attr(\"width\", \"1\")\n",
       "      .attr(\"height\", \"1\")\n",
       "      .attr(\"transform\", \"translate(14 11)\")\n",
       "      .style(\"fill\", \"green\");\n",
       "d3.select(\".usersvg #circuitSDj\")\n",
       "  .append(\"rect\")\n",
       "      .attr(\"width\", \"1\")\n",
       "      .attr(\"height\", \"1\")\n",
       "      .attr(\"transform\", \"translate(15 11)\")\n",
       "      .style(\"fill\", \"green\");\n",
       "d3.select(\".usersvg #circuitSDj\")\n",
       "  .append(\"rect\")\n",
       "      .attr(\"width\", \"1\")\n",
       "      .attr(\"height\", \"1\")\n",
       "      .attr(\"transform\", \"translate(16 11)\")\n",
       "      .style(\"fill\", \"green\");\n",
       "d3.select(\".usersvg #circuitSDj\")\n",
       "  .append(\"rect\")\n",
       "      .attr(\"width\", \"1\")\n",
       "      .attr(\"height\", \"1\")\n",
       "      .attr(\"transform\", \"translate(17 11)\")\n",
       "      .style(\"fill\", \"green\");\n",
       "d3.select(\".usersvg #circuitSDj\")\n",
       "  .append(\"rect\")\n",
       "      .attr(\"width\", \"1\")\n",
       "      .attr(\"height\", \"1\")\n",
       "      .attr(\"transform\", \"translate(18 11)\")\n",
       "      .style(\"fill\", \"green\");\n",
       "d3.select(\".usersvg #circuitSDj\")\n",
       "  .append(\"rect\")\n",
       "      .attr(\"width\", \"1\")\n",
       "      .attr(\"height\", \"1\")\n",
       "      .attr(\"transform\", \"translate(19 11)\")\n",
       "      .style(\"fill\", \"green\");\n",
       "d3.select(\".usersvg #circuitSDj\")\n",
       "  .append(\"rect\")\n",
       "      .attr(\"width\", \"1\")\n",
       "      .attr(\"height\", \"1\")\n",
       "      .attr(\"transform\", \"translate(20 11)\")\n",
       "      .style(\"fill\", \"green\");\n",
       "d3.select(\".usersvg #circuitSDj\")\n",
       "  .append(\"rect\")\n",
       "      .attr(\"width\", \"1\")\n",
       "      .attr(\"height\", \"1\")\n",
       "      .attr(\"transform\", \"translate(21 11)\")\n",
       "      .style(\"fill\", \"brown\");\n",
       "d3.select(\".usersvg #circuitSDj\")\n",
       "  .append(\"rect\")\n",
       "      .attr(\"width\", \"1\")\n",
       "      .attr(\"height\", \"1\")\n",
       "      .attr(\"transform\", \"translate(22 11)\")\n",
       "      .style(\"fill\", \"brown\");\n",
       "d3.select(\".usersvg #circuitSDj\")\n",
       "  .append(\"rect\")\n",
       "      .attr(\"width\", \"1\")\n",
       "      .attr(\"height\", \"1\")\n",
       "      .attr(\"transform\", \"translate(23 11)\")\n",
       "      .style(\"fill\", \"brown\");\n",
       "d3.select(\".usersvg #circuitSDj\")\n",
       "  .append(\"rect\")\n",
       "      .attr(\"width\", \"1\")\n",
       "      .attr(\"height\", \"1\")\n",
       "      .attr(\"transform\", \"translate(24 11)\")\n",
       "      .style(\"fill\", \"brown\");\n",
       "d3.select(\".usersvg #circuitSDj\")\n",
       "  .append(\"rect\")\n",
       "      .attr(\"width\", \"1\")\n",
       "      .attr(\"height\", \"1\")\n",
       "      .attr(\"transform\", \"translate(25 11)\")\n",
       "      .style(\"fill\", \"green\");\n",
       "d3.select(\".usersvg #circuitSDj\")\n",
       "  .append(\"rect\")\n",
       "      .attr(\"width\", \"1\")\n",
       "      .attr(\"height\", \"1\")\n",
       "      .attr(\"transform\", \"translate(26 11)\")\n",
       "      .style(\"fill\", \"green\");\n",
       "d3.select(\".usersvg #circuitSDj\")\n",
       "  .append(\"rect\")\n",
       "      .attr(\"width\", \"1\")\n",
       "      .attr(\"height\", \"1\")\n",
       "      .attr(\"transform\", \"translate(27 11)\")\n",
       "      .style(\"fill\", \"green\");\n",
       "d3.select(\".usersvg #circuitSDj\")\n",
       "  .append(\"rect\")\n",
       "      .attr(\"width\", \"1\")\n",
       "      .attr(\"height\", \"1\")\n",
       "      .attr(\"transform\", \"translate(28 11)\")\n",
       "      .style(\"fill\", \"green\");\n",
       "d3.select(\".usersvg #circuitSDj\")\n",
       "  .append(\"rect\")\n",
       "      .attr(\"width\", \"1\")\n",
       "      .attr(\"height\", \"1\")\n",
       "      .attr(\"transform\", \"translate(29 11)\")\n",
       "      .style(\"fill\", \"green\");\n",
       "d3.select(\".usersvg #circuitSDj\")\n",
       "  .append(\"rect\")\n",
       "      .attr(\"width\", \"1\")\n",
       "      .attr(\"height\", \"1\")\n",
       "      .attr(\"transform\", \"translate(0 12)\")\n",
       "      .style(\"fill\", \"green\");\n",
       "d3.select(\".usersvg #circuitSDj\")\n",
       "  .append(\"rect\")\n",
       "      .attr(\"width\", \"1\")\n",
       "      .attr(\"height\", \"1\")\n",
       "      .attr(\"transform\", \"translate(1 12)\")\n",
       "      .style(\"fill\", \"green\");\n",
       "d3.select(\".usersvg #circuitSDj\")\n",
       "  .append(\"rect\")\n",
       "      .attr(\"width\", \"1\")\n",
       "      .attr(\"height\", \"1\")\n",
       "      .attr(\"transform\", \"translate(2 12)\")\n",
       "      .style(\"fill\", \"green\");\n",
       "d3.select(\".usersvg #circuitSDj\")\n",
       "  .append(\"rect\")\n",
       "      .attr(\"width\", \"1\")\n",
       "      .attr(\"height\", \"1\")\n",
       "      .attr(\"transform\", \"translate(3 12)\")\n",
       "      .style(\"fill\", \"brown\");\n",
       "d3.select(\".usersvg #circuitSDj\")\n",
       "  .append(\"rect\")\n",
       "      .attr(\"width\", \"1\")\n",
       "      .attr(\"height\", \"1\")\n",
       "      .attr(\"transform\", \"translate(4 12)\")\n",
       "      .style(\"fill\", \"brown\");\n",
       "d3.select(\".usersvg #circuitSDj\")\n",
       "  .append(\"rect\")\n",
       "      .attr(\"width\", \"1\")\n",
       "      .attr(\"height\", \"1\")\n",
       "      .attr(\"transform\", \"translate(5 12)\")\n",
       "      .style(\"fill\", \"brown\");\n",
       "d3.select(\".usersvg #circuitSDj\")\n",
       "  .append(\"rect\")\n",
       "      .attr(\"width\", \"1\")\n",
       "      .attr(\"height\", \"1\")\n",
       "      .attr(\"transform\", \"translate(6 12)\")\n",
       "      .style(\"fill\", \"brown\");\n",
       "d3.select(\".usersvg #circuitSDj\")\n",
       "  .append(\"rect\")\n",
       "      .attr(\"width\", \"1\")\n",
       "      .attr(\"height\", \"1\")\n",
       "      .attr(\"transform\", \"translate(7 12)\")\n",
       "      .style(\"fill\", \"brown\");\n",
       "d3.select(\".usersvg #circuitSDj\")\n",
       "  .append(\"rect\")\n",
       "      .attr(\"width\", \"1\")\n",
       "      .attr(\"height\", \"1\")\n",
       "      .attr(\"transform\", \"translate(8 12)\")\n",
       "      .style(\"fill\", \"green\");\n",
       "d3.select(\".usersvg #circuitSDj\")\n",
       "  .append(\"rect\")\n",
       "      .attr(\"width\", \"1\")\n",
       "      .attr(\"height\", \"1\")\n",
       "      .attr(\"transform\", \"translate(9 12)\")\n",
       "      .style(\"fill\", \"green\");\n",
       "d3.select(\".usersvg #circuitSDj\")\n",
       "  .append(\"rect\")\n",
       "      .attr(\"width\", \"1\")\n",
       "      .attr(\"height\", \"1\")\n",
       "      .attr(\"transform\", \"translate(10 12)\")\n",
       "      .style(\"fill\", \"green\");\n",
       "d3.select(\".usersvg #circuitSDj\")\n",
       "  .append(\"rect\")\n",
       "      .attr(\"width\", \"1\")\n",
       "      .attr(\"height\", \"1\")\n",
       "      .attr(\"transform\", \"translate(11 12)\")\n",
       "      .style(\"fill\", \"green\");\n",
       "d3.select(\".usersvg #circuitSDj\")\n",
       "  .append(\"rect\")\n",
       "      .attr(\"width\", \"1\")\n",
       "      .attr(\"height\", \"1\")\n",
       "      .attr(\"transform\", \"translate(12 12)\")\n",
       "      .style(\"fill\", \"green\");\n",
       "d3.select(\".usersvg #circuitSDj\")\n",
       "  .append(\"rect\")\n",
       "      .attr(\"width\", \"1\")\n",
       "      .attr(\"height\", \"1\")\n",
       "      .attr(\"transform\", \"translate(13 12)\")\n",
       "      .style(\"fill\", \"green\");\n",
       "d3.select(\".usersvg #circuitSDj\")\n",
       "  .append(\"rect\")\n",
       "      .attr(\"width\", \"1\")\n",
       "      .attr(\"height\", \"1\")\n",
       "      .attr(\"transform\", \"translate(14 12)\")\n",
       "      .style(\"fill\", \"green\");\n",
       "d3.select(\".usersvg #circuitSDj\")\n",
       "  .append(\"rect\")\n",
       "      .attr(\"width\", \"1\")\n",
       "      .attr(\"height\", \"1\")\n",
       "      .attr(\"transform\", \"translate(15 12)\")\n",
       "      .style(\"fill\", \"green\");\n",
       "d3.select(\".usersvg #circuitSDj\")\n",
       "  .append(\"rect\")\n",
       "      .attr(\"width\", \"1\")\n",
       "      .attr(\"height\", \"1\")\n",
       "      .attr(\"transform\", \"translate(16 12)\")\n",
       "      .style(\"fill\", \"green\");\n",
       "d3.select(\".usersvg #circuitSDj\")\n",
       "  .append(\"rect\")\n",
       "      .attr(\"width\", \"1\")\n",
       "      .attr(\"height\", \"1\")\n",
       "      .attr(\"transform\", \"translate(17 12)\")\n",
       "      .style(\"fill\", \"green\");\n",
       "d3.select(\".usersvg #circuitSDj\")\n",
       "  .append(\"rect\")\n",
       "      .attr(\"width\", \"1\")\n",
       "      .attr(\"height\", \"1\")\n",
       "      .attr(\"transform\", \"translate(18 12)\")\n",
       "      .style(\"fill\", \"green\");\n",
       "d3.select(\".usersvg #circuitSDj\")\n",
       "  .append(\"rect\")\n",
       "      .attr(\"width\", \"1\")\n",
       "      .attr(\"height\", \"1\")\n",
       "      .attr(\"transform\", \"translate(19 12)\")\n",
       "      .style(\"fill\", \"green\");\n",
       "d3.select(\".usersvg #circuitSDj\")\n",
       "  .append(\"rect\")\n",
       "      .attr(\"width\", \"1\")\n",
       "      .attr(\"height\", \"1\")\n",
       "      .attr(\"transform\", \"translate(20 12)\")\n",
       "      .style(\"fill\", \"brown\");\n",
       "d3.select(\".usersvg #circuitSDj\")\n",
       "  .append(\"rect\")\n",
       "      .attr(\"width\", \"1\")\n",
       "      .attr(\"height\", \"1\")\n",
       "      .attr(\"transform\", \"translate(21 12)\")\n",
       "      .style(\"fill\", \"brown\");\n",
       "d3.select(\".usersvg #circuitSDj\")\n",
       "  .append(\"rect\")\n",
       "      .attr(\"width\", \"1\")\n",
       "      .attr(\"height\", \"1\")\n",
       "      .attr(\"transform\", \"translate(22 12)\")\n",
       "      .style(\"fill\", \"brown\");\n",
       "d3.select(\".usersvg #circuitSDj\")\n",
       "  .append(\"rect\")\n",
       "      .attr(\"width\", \"1\")\n",
       "      .attr(\"height\", \"1\")\n",
       "      .attr(\"transform\", \"translate(23 12)\")\n",
       "      .style(\"fill\", \"brown\");\n",
       "d3.select(\".usersvg #circuitSDj\")\n",
       "  .append(\"rect\")\n",
       "      .attr(\"width\", \"1\")\n",
       "      .attr(\"height\", \"1\")\n",
       "      .attr(\"transform\", \"translate(24 12)\")\n",
       "      .style(\"fill\", \"brown\");\n",
       "d3.select(\".usersvg #circuitSDj\")\n",
       "  .append(\"rect\")\n",
       "      .attr(\"width\", \"1\")\n",
       "      .attr(\"height\", \"1\")\n",
       "      .attr(\"transform\", \"translate(25 12)\")\n",
       "      .style(\"fill\", \"green\");\n",
       "d3.select(\".usersvg #circuitSDj\")\n",
       "  .append(\"rect\")\n",
       "      .attr(\"width\", \"1\")\n",
       "      .attr(\"height\", \"1\")\n",
       "      .attr(\"transform\", \"translate(26 12)\")\n",
       "      .style(\"fill\", \"green\");\n",
       "d3.select(\".usersvg #circuitSDj\")\n",
       "  .append(\"rect\")\n",
       "      .attr(\"width\", \"1\")\n",
       "      .attr(\"height\", \"1\")\n",
       "      .attr(\"transform\", \"translate(27 12)\")\n",
       "      .style(\"fill\", \"green\");\n",
       "d3.select(\".usersvg #circuitSDj\")\n",
       "  .append(\"rect\")\n",
       "      .attr(\"width\", \"1\")\n",
       "      .attr(\"height\", \"1\")\n",
       "      .attr(\"transform\", \"translate(28 12)\")\n",
       "      .style(\"fill\", \"green\");\n",
       "d3.select(\".usersvg #circuitSDj\")\n",
       "  .append(\"rect\")\n",
       "      .attr(\"width\", \"1\")\n",
       "      .attr(\"height\", \"1\")\n",
       "      .attr(\"transform\", \"translate(29 12)\")\n",
       "      .style(\"fill\", \"green\");\n",
       "d3.select(\".usersvg #circuitSDj\")\n",
       "  .append(\"rect\")\n",
       "      .attr(\"width\", \"1\")\n",
       "      .attr(\"height\", \"1\")\n",
       "      .attr(\"transform\", \"translate(0 13)\")\n",
       "      .style(\"fill\", \"green\");\n",
       "d3.select(\".usersvg #circuitSDj\")\n",
       "  .append(\"rect\")\n",
       "      .attr(\"width\", \"1\")\n",
       "      .attr(\"height\", \"1\")\n",
       "      .attr(\"transform\", \"translate(1 13)\")\n",
       "      .style(\"fill\", \"green\");\n",
       "d3.select(\".usersvg #circuitSDj\")\n",
       "  .append(\"rect\")\n",
       "      .attr(\"width\", \"1\")\n",
       "      .attr(\"height\", \"1\")\n",
       "      .attr(\"transform\", \"translate(2 13)\")\n",
       "      .style(\"fill\", \"green\");\n",
       "d3.select(\".usersvg #circuitSDj\")\n",
       "  .append(\"rect\")\n",
       "      .attr(\"width\", \"1\")\n",
       "      .attr(\"height\", \"1\")\n",
       "      .attr(\"transform\", \"translate(3 13)\")\n",
       "      .style(\"fill\", \"green\");\n",
       "d3.select(\".usersvg #circuitSDj\")\n",
       "  .append(\"rect\")\n",
       "      .attr(\"width\", \"1\")\n",
       "      .attr(\"height\", \"1\")\n",
       "      .attr(\"transform\", \"translate(4 13)\")\n",
       "      .style(\"fill\", \"brown\");\n",
       "d3.select(\".usersvg #circuitSDj\")\n",
       "  .append(\"rect\")\n",
       "      .attr(\"width\", \"1\")\n",
       "      .attr(\"height\", \"1\")\n",
       "      .attr(\"transform\", \"translate(5 13)\")\n",
       "      .style(\"fill\", \"brown\");\n",
       "d3.select(\".usersvg #circuitSDj\")\n",
       "  .append(\"rect\")\n",
       "      .attr(\"width\", \"1\")\n",
       "      .attr(\"height\", \"1\")\n",
       "      .attr(\"transform\", \"translate(6 13)\")\n",
       "      .style(\"fill\", \"brown\");\n",
       "d3.select(\".usersvg #circuitSDj\")\n",
       "  .append(\"rect\")\n",
       "      .attr(\"width\", \"1\")\n",
       "      .attr(\"height\", \"1\")\n",
       "      .attr(\"transform\", \"translate(7 13)\")\n",
       "      .style(\"fill\", \"brown\");\n",
       "d3.select(\".usersvg #circuitSDj\")\n",
       "  .append(\"rect\")\n",
       "      .attr(\"width\", \"1\")\n",
       "      .attr(\"height\", \"1\")\n",
       "      .attr(\"transform\", \"translate(8 13)\")\n",
       "      .style(\"fill\", \"brown\");\n",
       "d3.select(\".usersvg #circuitSDj\")\n",
       "  .append(\"rect\")\n",
       "      .attr(\"width\", \"1\")\n",
       "      .attr(\"height\", \"1\")\n",
       "      .attr(\"transform\", \"translate(9 13)\")\n",
       "      .style(\"fill\", \"green\");\n",
       "d3.select(\".usersvg #circuitSDj\")\n",
       "  .append(\"rect\")\n",
       "      .attr(\"width\", \"1\")\n",
       "      .attr(\"height\", \"1\")\n",
       "      .attr(\"transform\", \"translate(10 13)\")\n",
       "      .style(\"fill\", \"green\");\n",
       "d3.select(\".usersvg #circuitSDj\")\n",
       "  .append(\"rect\")\n",
       "      .attr(\"width\", \"1\")\n",
       "      .attr(\"height\", \"1\")\n",
       "      .attr(\"transform\", \"translate(11 13)\")\n",
       "      .style(\"fill\", \"green\");\n",
       "d3.select(\".usersvg #circuitSDj\")\n",
       "  .append(\"rect\")\n",
       "      .attr(\"width\", \"1\")\n",
       "      .attr(\"height\", \"1\")\n",
       "      .attr(\"transform\", \"translate(12 13)\")\n",
       "      .style(\"fill\", \"green\");\n",
       "d3.select(\".usersvg #circuitSDj\")\n",
       "  .append(\"rect\")\n",
       "      .attr(\"width\", \"1\")\n",
       "      .attr(\"height\", \"1\")\n",
       "      .attr(\"transform\", \"translate(13 13)\")\n",
       "      .style(\"fill\", \"green\");\n",
       "d3.select(\".usersvg #circuitSDj\")\n",
       "  .append(\"rect\")\n",
       "      .attr(\"width\", \"1\")\n",
       "      .attr(\"height\", \"1\")\n",
       "      .attr(\"transform\", \"translate(14 13)\")\n",
       "      .style(\"fill\", \"green\");\n",
       "d3.select(\".usersvg #circuitSDj\")\n",
       "  .append(\"rect\")\n",
       "      .attr(\"width\", \"1\")\n",
       "      .attr(\"height\", \"1\")\n",
       "      .attr(\"transform\", \"translate(15 13)\")\n",
       "      .style(\"fill\", \"green\");\n",
       "d3.select(\".usersvg #circuitSDj\")\n",
       "  .append(\"rect\")\n",
       "      .attr(\"width\", \"1\")\n",
       "      .attr(\"height\", \"1\")\n",
       "      .attr(\"transform\", \"translate(16 13)\")\n",
       "      .style(\"fill\", \"green\");\n",
       "d3.select(\".usersvg #circuitSDj\")\n",
       "  .append(\"rect\")\n",
       "      .attr(\"width\", \"1\")\n",
       "      .attr(\"height\", \"1\")\n",
       "      .attr(\"transform\", \"translate(17 13)\")\n",
       "      .style(\"fill\", \"green\");\n",
       "d3.select(\".usersvg #circuitSDj\")\n",
       "  .append(\"rect\")\n",
       "      .attr(\"width\", \"1\")\n",
       "      .attr(\"height\", \"1\")\n",
       "      .attr(\"transform\", \"translate(18 13)\")\n",
       "      .style(\"fill\", \"green\");\n",
       "d3.select(\".usersvg #circuitSDj\")\n",
       "  .append(\"rect\")\n",
       "      .attr(\"width\", \"1\")\n",
       "      .attr(\"height\", \"1\")\n",
       "      .attr(\"transform\", \"translate(19 13)\")\n",
       "      .style(\"fill\", \"brown\");\n",
       "d3.select(\".usersvg #circuitSDj\")\n",
       "  .append(\"rect\")\n",
       "      .attr(\"width\", \"1\")\n",
       "      .attr(\"height\", \"1\")\n",
       "      .attr(\"transform\", \"translate(20 13)\")\n",
       "      .style(\"fill\", \"brown\");\n",
       "d3.select(\".usersvg #circuitSDj\")\n",
       "  .append(\"rect\")\n",
       "      .attr(\"width\", \"1\")\n",
       "      .attr(\"height\", \"1\")\n",
       "      .attr(\"transform\", \"translate(21 13)\")\n",
       "      .style(\"fill\", \"brown\");\n",
       "d3.select(\".usersvg #circuitSDj\")\n",
       "  .append(\"rect\")\n",
       "      .attr(\"width\", \"1\")\n",
       "      .attr(\"height\", \"1\")\n",
       "      .attr(\"transform\", \"translate(22 13)\")\n",
       "      .style(\"fill\", \"brown\");\n",
       "d3.select(\".usersvg #circuitSDj\")\n",
       "  .append(\"rect\")\n",
       "      .attr(\"width\", \"1\")\n",
       "      .attr(\"height\", \"1\")\n",
       "      .attr(\"transform\", \"translate(23 13)\")\n",
       "      .style(\"fill\", \"brown\");\n",
       "d3.select(\".usersvg #circuitSDj\")\n",
       "  .append(\"rect\")\n",
       "      .attr(\"width\", \"1\")\n",
       "      .attr(\"height\", \"1\")\n",
       "      .attr(\"transform\", \"translate(24 13)\")\n",
       "      .style(\"fill\", \"brown\");\n",
       "d3.select(\".usersvg #circuitSDj\")\n",
       "  .append(\"rect\")\n",
       "      .attr(\"width\", \"1\")\n",
       "      .attr(\"height\", \"1\")\n",
       "      .attr(\"transform\", \"translate(25 13)\")\n",
       "      .style(\"fill\", \"green\");\n",
       "d3.select(\".usersvg #circuitSDj\")\n",
       "  .append(\"rect\")\n",
       "      .attr(\"width\", \"1\")\n",
       "      .attr(\"height\", \"1\")\n",
       "      .attr(\"transform\", \"translate(26 13)\")\n",
       "      .style(\"fill\", \"green\");\n",
       "d3.select(\".usersvg #circuitSDj\")\n",
       "  .append(\"rect\")\n",
       "      .attr(\"width\", \"1\")\n",
       "      .attr(\"height\", \"1\")\n",
       "      .attr(\"transform\", \"translate(27 13)\")\n",
       "      .style(\"fill\", \"green\");\n",
       "d3.select(\".usersvg #circuitSDj\")\n",
       "  .append(\"rect\")\n",
       "      .attr(\"width\", \"1\")\n",
       "      .attr(\"height\", \"1\")\n",
       "      .attr(\"transform\", \"translate(28 13)\")\n",
       "      .style(\"fill\", \"green\");\n",
       "d3.select(\".usersvg #circuitSDj\")\n",
       "  .append(\"rect\")\n",
       "      .attr(\"width\", \"1\")\n",
       "      .attr(\"height\", \"1\")\n",
       "      .attr(\"transform\", \"translate(29 13)\")\n",
       "      .style(\"fill\", \"green\");\n",
       "d3.select(\".usersvg #circuitSDj\")\n",
       "  .append(\"rect\")\n",
       "      .attr(\"width\", \"1\")\n",
       "      .attr(\"height\", \"1\")\n",
       "      .attr(\"transform\", \"translate(0 14)\")\n",
       "      .style(\"fill\", \"green\");\n",
       "d3.select(\".usersvg #circuitSDj\")\n",
       "  .append(\"rect\")\n",
       "      .attr(\"width\", \"1\")\n",
       "      .attr(\"height\", \"1\")\n",
       "      .attr(\"transform\", \"translate(1 14)\")\n",
       "      .style(\"fill\", \"green\");\n",
       "d3.select(\".usersvg #circuitSDj\")\n",
       "  .append(\"rect\")\n",
       "      .attr(\"width\", \"1\")\n",
       "      .attr(\"height\", \"1\")\n",
       "      .attr(\"transform\", \"translate(2 14)\")\n",
       "      .style(\"fill\", \"green\");\n",
       "d3.select(\".usersvg #circuitSDj\")\n",
       "  .append(\"rect\")\n",
       "      .attr(\"width\", \"1\")\n",
       "      .attr(\"height\", \"1\")\n",
       "      .attr(\"transform\", \"translate(3 14)\")\n",
       "      .style(\"fill\", \"green\");\n",
       "d3.select(\".usersvg #circuitSDj\")\n",
       "  .append(\"rect\")\n",
       "      .attr(\"width\", \"1\")\n",
       "      .attr(\"height\", \"1\")\n",
       "      .attr(\"transform\", \"translate(4 14)\")\n",
       "      .style(\"fill\", \"brown\");\n",
       "d3.select(\".usersvg #circuitSDj\")\n",
       "  .append(\"rect\")\n",
       "      .attr(\"width\", \"1\")\n",
       "      .attr(\"height\", \"1\")\n",
       "      .attr(\"transform\", \"translate(5 14)\")\n",
       "      .style(\"fill\", \"brown\");\n",
       "d3.select(\".usersvg #circuitSDj\")\n",
       "  .append(\"rect\")\n",
       "      .attr(\"width\", \"1\")\n",
       "      .attr(\"height\", \"1\")\n",
       "      .attr(\"transform\", \"translate(6 14)\")\n",
       "      .style(\"fill\", \"brown\");\n",
       "d3.select(\".usersvg #circuitSDj\")\n",
       "  .append(\"rect\")\n",
       "      .attr(\"width\", \"1\")\n",
       "      .attr(\"height\", \"1\")\n",
       "      .attr(\"transform\", \"translate(7 14)\")\n",
       "      .style(\"fill\", \"brown\");\n",
       "d3.select(\".usersvg #circuitSDj\")\n",
       "  .append(\"rect\")\n",
       "      .attr(\"width\", \"1\")\n",
       "      .attr(\"height\", \"1\")\n",
       "      .attr(\"transform\", \"translate(8 14)\")\n",
       "      .style(\"fill\", \"brown\");\n",
       "d3.select(\".usersvg #circuitSDj\")\n",
       "  .append(\"rect\")\n",
       "      .attr(\"width\", \"1\")\n",
       "      .attr(\"height\", \"1\")\n",
       "      .attr(\"transform\", \"translate(9 14)\")\n",
       "      .style(\"fill\", \"brown\");\n",
       "d3.select(\".usersvg #circuitSDj\")\n",
       "  .append(\"rect\")\n",
       "      .attr(\"width\", \"1\")\n",
       "      .attr(\"height\", \"1\")\n",
       "      .attr(\"transform\", \"translate(10 14)\")\n",
       "      .style(\"fill\", \"brown\");\n",
       "d3.select(\".usersvg #circuitSDj\")\n",
       "  .append(\"rect\")\n",
       "      .attr(\"width\", \"1\")\n",
       "      .attr(\"height\", \"1\")\n",
       "      .attr(\"transform\", \"translate(11 14)\")\n",
       "      .style(\"fill\", \"brown\");\n",
       "d3.select(\".usersvg #circuitSDj\")\n",
       "  .append(\"rect\")\n",
       "      .attr(\"width\", \"1\")\n",
       "      .attr(\"height\", \"1\")\n",
       "      .attr(\"transform\", \"translate(12 14)\")\n",
       "      .style(\"fill\", \"brown\");\n",
       "d3.select(\".usersvg #circuitSDj\")\n",
       "  .append(\"rect\")\n",
       "      .attr(\"width\", \"1\")\n",
       "      .attr(\"height\", \"1\")\n",
       "      .attr(\"transform\", \"translate(13 14)\")\n",
       "      .style(\"fill\", \"brown\");\n",
       "d3.select(\".usersvg #circuitSDj\")\n",
       "  .append(\"rect\")\n",
       "      .attr(\"width\", \"1\")\n",
       "      .attr(\"height\", \"1\")\n",
       "      .attr(\"transform\", \"translate(14 14)\")\n",
       "      .style(\"fill\", \"brown\");\n",
       "d3.select(\".usersvg #circuitSDj\")\n",
       "  .append(\"rect\")\n",
       "      .attr(\"width\", \"1\")\n",
       "      .attr(\"height\", \"1\")\n",
       "      .attr(\"transform\", \"translate(15 14)\")\n",
       "      .style(\"fill\", \"brown\");\n",
       "d3.select(\".usersvg #circuitSDj\")\n",
       "  .append(\"rect\")\n",
       "      .attr(\"width\", \"1\")\n",
       "      .attr(\"height\", \"1\")\n",
       "      .attr(\"transform\", \"translate(16 14)\")\n",
       "      .style(\"fill\", \"brown\");\n",
       "d3.select(\".usersvg #circuitSDj\")\n",
       "  .append(\"rect\")\n",
       "      .attr(\"width\", \"1\")\n",
       "      .attr(\"height\", \"1\")\n",
       "      .attr(\"transform\", \"translate(17 14)\")\n",
       "      .style(\"fill\", \"brown\");\n",
       "d3.select(\".usersvg #circuitSDj\")\n",
       "  .append(\"rect\")\n",
       "      .attr(\"width\", \"1\")\n",
       "      .attr(\"height\", \"1\")\n",
       "      .attr(\"transform\", \"translate(18 14)\")\n",
       "      .style(\"fill\", \"brown\");\n",
       "d3.select(\".usersvg #circuitSDj\")\n",
       "  .append(\"rect\")\n",
       "      .attr(\"width\", \"1\")\n",
       "      .attr(\"height\", \"1\")\n",
       "      .attr(\"transform\", \"translate(19 14)\")\n",
       "      .style(\"fill\", \"brown\");\n",
       "d3.select(\".usersvg #circuitSDj\")\n",
       "  .append(\"rect\")\n",
       "      .attr(\"width\", \"1\")\n",
       "      .attr(\"height\", \"1\")\n",
       "      .attr(\"transform\", \"translate(20 14)\")\n",
       "      .style(\"fill\", \"brown\");\n",
       "d3.select(\".usersvg #circuitSDj\")\n",
       "  .append(\"rect\")\n",
       "      .attr(\"width\", \"1\")\n",
       "      .attr(\"height\", \"1\")\n",
       "      .attr(\"transform\", \"translate(21 14)\")\n",
       "      .style(\"fill\", \"brown\");\n",
       "d3.select(\".usersvg #circuitSDj\")\n",
       "  .append(\"rect\")\n",
       "      .attr(\"width\", \"1\")\n",
       "      .attr(\"height\", \"1\")\n",
       "      .attr(\"transform\", \"translate(22 14)\")\n",
       "      .style(\"fill\", \"brown\");\n",
       "d3.select(\".usersvg #circuitSDj\")\n",
       "  .append(\"rect\")\n",
       "      .attr(\"width\", \"1\")\n",
       "      .attr(\"height\", \"1\")\n",
       "      .attr(\"transform\", \"translate(23 14)\")\n",
       "      .style(\"fill\", \"brown\");\n",
       "d3.select(\".usersvg #circuitSDj\")\n",
       "  .append(\"rect\")\n",
       "      .attr(\"width\", \"1\")\n",
       "      .attr(\"height\", \"1\")\n",
       "      .attr(\"transform\", \"translate(24 14)\")\n",
       "      .style(\"fill\", \"green\");\n",
       "d3.select(\".usersvg #circuitSDj\")\n",
       "  .append(\"rect\")\n",
       "      .attr(\"width\", \"1\")\n",
       "      .attr(\"height\", \"1\")\n",
       "      .attr(\"transform\", \"translate(25 14)\")\n",
       "      .style(\"fill\", \"green\");\n",
       "d3.select(\".usersvg #circuitSDj\")\n",
       "  .append(\"rect\")\n",
       "      .attr(\"width\", \"1\")\n",
       "      .attr(\"height\", \"1\")\n",
       "      .attr(\"transform\", \"translate(26 14)\")\n",
       "      .style(\"fill\", \"green\");\n",
       "d3.select(\".usersvg #circuitSDj\")\n",
       "  .append(\"rect\")\n",
       "      .attr(\"width\", \"1\")\n",
       "      .attr(\"height\", \"1\")\n",
       "      .attr(\"transform\", \"translate(27 14)\")\n",
       "      .style(\"fill\", \"green\");\n",
       "d3.select(\".usersvg #circuitSDj\")\n",
       "  .append(\"rect\")\n",
       "      .attr(\"width\", \"1\")\n",
       "      .attr(\"height\", \"1\")\n",
       "      .attr(\"transform\", \"translate(28 14)\")\n",
       "      .style(\"fill\", \"green\");\n",
       "d3.select(\".usersvg #circuitSDj\")\n",
       "  .append(\"rect\")\n",
       "      .attr(\"width\", \"1\")\n",
       "      .attr(\"height\", \"1\")\n",
       "      .attr(\"transform\", \"translate(29 14)\")\n",
       "      .style(\"fill\", \"green\");\n",
       "d3.select(\".usersvg #circuitSDj\")\n",
       "  .append(\"rect\")\n",
       "      .attr(\"width\", \"1\")\n",
       "      .attr(\"height\", \"1\")\n",
       "      .attr(\"transform\", \"translate(0 15)\")\n",
       "      .style(\"fill\", \"green\");\n",
       "d3.select(\".usersvg #circuitSDj\")\n",
       "  .append(\"rect\")\n",
       "      .attr(\"width\", \"1\")\n",
       "      .attr(\"height\", \"1\")\n",
       "      .attr(\"transform\", \"translate(1 15)\")\n",
       "      .style(\"fill\", \"green\");\n",
       "d3.select(\".usersvg #circuitSDj\")\n",
       "  .append(\"rect\")\n",
       "      .attr(\"width\", \"1\")\n",
       "      .attr(\"height\", \"1\")\n",
       "      .attr(\"transform\", \"translate(2 15)\")\n",
       "      .style(\"fill\", \"green\");\n",
       "d3.select(\".usersvg #circuitSDj\")\n",
       "  .append(\"rect\")\n",
       "      .attr(\"width\", \"1\")\n",
       "      .attr(\"height\", \"1\")\n",
       "      .attr(\"transform\", \"translate(3 15)\")\n",
       "      .style(\"fill\", \"green\");\n",
       "d3.select(\".usersvg #circuitSDj\")\n",
       "  .append(\"rect\")\n",
       "      .attr(\"width\", \"1\")\n",
       "      .attr(\"height\", \"1\")\n",
       "      .attr(\"transform\", \"translate(4 15)\")\n",
       "      .style(\"fill\", \"green\");\n",
       "d3.select(\".usersvg #circuitSDj\")\n",
       "  .append(\"rect\")\n",
       "      .attr(\"width\", \"1\")\n",
       "      .attr(\"height\", \"1\")\n",
       "      .attr(\"transform\", \"translate(5 15)\")\n",
       "      .style(\"fill\", \"green\");\n",
       "d3.select(\".usersvg #circuitSDj\")\n",
       "  .append(\"rect\")\n",
       "      .attr(\"width\", \"1\")\n",
       "      .attr(\"height\", \"1\")\n",
       "      .attr(\"transform\", \"translate(6 15)\")\n",
       "      .style(\"fill\", \"green\");\n",
       "d3.select(\".usersvg #circuitSDj\")\n",
       "  .append(\"rect\")\n",
       "      .attr(\"width\", \"1\")\n",
       "      .attr(\"height\", \"1\")\n",
       "      .attr(\"transform\", \"translate(7 15)\")\n",
       "      .style(\"fill\", \"brown\");\n",
       "d3.select(\".usersvg #circuitSDj\")\n",
       "  .append(\"rect\")\n",
       "      .attr(\"width\", \"1\")\n",
       "      .attr(\"height\", \"1\")\n",
       "      .attr(\"transform\", \"translate(8 15)\")\n",
       "      .style(\"fill\", \"brown\");\n",
       "d3.select(\".usersvg #circuitSDj\")\n",
       "  .append(\"rect\")\n",
       "      .attr(\"width\", \"1\")\n",
       "      .attr(\"height\", \"1\")\n",
       "      .attr(\"transform\", \"translate(9 15)\")\n",
       "      .style(\"fill\", \"brown\");\n",
       "d3.select(\".usersvg #circuitSDj\")\n",
       "  .append(\"rect\")\n",
       "      .attr(\"width\", \"1\")\n",
       "      .attr(\"height\", \"1\")\n",
       "      .attr(\"transform\", \"translate(10 15)\")\n",
       "      .style(\"fill\", \"brown\");\n",
       "d3.select(\".usersvg #circuitSDj\")\n",
       "  .append(\"rect\")\n",
       "      .attr(\"width\", \"1\")\n",
       "      .attr(\"height\", \"1\")\n",
       "      .attr(\"transform\", \"translate(11 15)\")\n",
       "      .style(\"fill\", \"brown\");\n",
       "d3.select(\".usersvg #circuitSDj\")\n",
       "  .append(\"rect\")\n",
       "      .attr(\"width\", \"1\")\n",
       "      .attr(\"height\", \"1\")\n",
       "      .attr(\"transform\", \"translate(12 15)\")\n",
       "      .style(\"fill\", \"brown\");\n",
       "d3.select(\".usersvg #circuitSDj\")\n",
       "  .append(\"rect\")\n",
       "      .attr(\"width\", \"1\")\n",
       "      .attr(\"height\", \"1\")\n",
       "      .attr(\"transform\", \"translate(13 15)\")\n",
       "      .style(\"fill\", \"brown\");\n",
       "d3.select(\".usersvg #circuitSDj\")\n",
       "  .append(\"rect\")\n",
       "      .attr(\"width\", \"1\")\n",
       "      .attr(\"height\", \"1\")\n",
       "      .attr(\"transform\", \"translate(14 15)\")\n",
       "      .style(\"fill\", \"brown\");\n",
       "d3.select(\".usersvg #circuitSDj\")\n",
       "  .append(\"rect\")\n",
       "      .attr(\"width\", \"1\")\n",
       "      .attr(\"height\", \"1\")\n",
       "      .attr(\"transform\", \"translate(15 15)\")\n",
       "      .style(\"fill\", \"brown\");\n",
       "d3.select(\".usersvg #circuitSDj\")\n",
       "  .append(\"rect\")\n",
       "      .attr(\"width\", \"1\")\n",
       "      .attr(\"height\", \"1\")\n",
       "      .attr(\"transform\", \"translate(16 15)\")\n",
       "      .style(\"fill\", \"brown\");\n",
       "d3.select(\".usersvg #circuitSDj\")\n",
       "  .append(\"rect\")\n",
       "      .attr(\"width\", \"1\")\n",
       "      .attr(\"height\", \"1\")\n",
       "      .attr(\"transform\", \"translate(17 15)\")\n",
       "      .style(\"fill\", \"brown\");\n",
       "d3.select(\".usersvg #circuitSDj\")\n",
       "  .append(\"rect\")\n",
       "      .attr(\"width\", \"1\")\n",
       "      .attr(\"height\", \"1\")\n",
       "      .attr(\"transform\", \"translate(18 15)\")\n",
       "      .style(\"fill\", \"brown\");\n",
       "d3.select(\".usersvg #circuitSDj\")\n",
       "  .append(\"rect\")\n",
       "      .attr(\"width\", \"1\")\n",
       "      .attr(\"height\", \"1\")\n",
       "      .attr(\"transform\", \"translate(19 15)\")\n",
       "      .style(\"fill\", \"brown\");\n",
       "d3.select(\".usersvg #circuitSDj\")\n",
       "  .append(\"rect\")\n",
       "      .attr(\"width\", \"1\")\n",
       "      .attr(\"height\", \"1\")\n",
       "      .attr(\"transform\", \"translate(20 15)\")\n",
       "      .style(\"fill\", \"brown\");\n",
       "d3.select(\".usersvg #circuitSDj\")\n",
       "  .append(\"rect\")\n",
       "      .attr(\"width\", \"1\")\n",
       "      .attr(\"height\", \"1\")\n",
       "      .attr(\"transform\", \"translate(21 15)\")\n",
       "      .style(\"fill\", \"brown\");\n",
       "d3.select(\".usersvg #circuitSDj\")\n",
       "  .append(\"rect\")\n",
       "      .attr(\"width\", \"1\")\n",
       "      .attr(\"height\", \"1\")\n",
       "      .attr(\"transform\", \"translate(22 15)\")\n",
       "      .style(\"fill\", \"green\");\n",
       "d3.select(\".usersvg #circuitSDj\")\n",
       "  .append(\"rect\")\n",
       "      .attr(\"width\", \"1\")\n",
       "      .attr(\"height\", \"1\")\n",
       "      .attr(\"transform\", \"translate(23 15)\")\n",
       "      .style(\"fill\", \"green\");\n",
       "d3.select(\".usersvg #circuitSDj\")\n",
       "  .append(\"rect\")\n",
       "      .attr(\"width\", \"1\")\n",
       "      .attr(\"height\", \"1\")\n",
       "      .attr(\"transform\", \"translate(24 15)\")\n",
       "      .style(\"fill\", \"green\");\n",
       "d3.select(\".usersvg #circuitSDj\")\n",
       "  .append(\"rect\")\n",
       "      .attr(\"width\", \"1\")\n",
       "      .attr(\"height\", \"1\")\n",
       "      .attr(\"transform\", \"translate(25 15)\")\n",
       "      .style(\"fill\", \"green\");\n",
       "d3.select(\".usersvg #circuitSDj\")\n",
       "  .append(\"rect\")\n",
       "      .attr(\"width\", \"1\")\n",
       "      .attr(\"height\", \"1\")\n",
       "      .attr(\"transform\", \"translate(26 15)\")\n",
       "      .style(\"fill\", \"green\");\n",
       "d3.select(\".usersvg #circuitSDj\")\n",
       "  .append(\"rect\")\n",
       "      .attr(\"width\", \"1\")\n",
       "      .attr(\"height\", \"1\")\n",
       "      .attr(\"transform\", \"translate(27 15)\")\n",
       "      .style(\"fill\", \"green\");\n",
       "d3.select(\".usersvg #circuitSDj\")\n",
       "  .append(\"rect\")\n",
       "      .attr(\"width\", \"1\")\n",
       "      .attr(\"height\", \"1\")\n",
       "      .attr(\"transform\", \"translate(28 15)\")\n",
       "      .style(\"fill\", \"green\");\n",
       "d3.select(\".usersvg #circuitSDj\")\n",
       "  .append(\"rect\")\n",
       "      .attr(\"width\", \"1\")\n",
       "      .attr(\"height\", \"1\")\n",
       "      .attr(\"transform\", \"translate(29 15)\")\n",
       "      .style(\"fill\", \"green\");\n",
       "d3.select(\".usersvg #circuitSDj\")\n",
       "  .append(\"rect\")\n",
       "      .attr(\"width\", \"1\")\n",
       "      .attr(\"height\", \"1\")\n",
       "      .attr(\"transform\", \"translate(0 16)\")\n",
       "      .style(\"fill\", \"green\");\n",
       "d3.select(\".usersvg #circuitSDj\")\n",
       "  .append(\"rect\")\n",
       "      .attr(\"width\", \"1\")\n",
       "      .attr(\"height\", \"1\")\n",
       "      .attr(\"transform\", \"translate(1 16)\")\n",
       "      .style(\"fill\", \"green\");\n",
       "d3.select(\".usersvg #circuitSDj\")\n",
       "  .append(\"rect\")\n",
       "      .attr(\"width\", \"1\")\n",
       "      .attr(\"height\", \"1\")\n",
       "      .attr(\"transform\", \"translate(2 16)\")\n",
       "      .style(\"fill\", \"green\");\n",
       "d3.select(\".usersvg #circuitSDj\")\n",
       "  .append(\"rect\")\n",
       "      .attr(\"width\", \"1\")\n",
       "      .attr(\"height\", \"1\")\n",
       "      .attr(\"transform\", \"translate(3 16)\")\n",
       "      .style(\"fill\", \"green\");\n",
       "d3.select(\".usersvg #circuitSDj\")\n",
       "  .append(\"rect\")\n",
       "      .attr(\"width\", \"1\")\n",
       "      .attr(\"height\", \"1\")\n",
       "      .attr(\"transform\", \"translate(4 16)\")\n",
       "      .style(\"fill\", \"green\");\n",
       "d3.select(\".usersvg #circuitSDj\")\n",
       "  .append(\"rect\")\n",
       "      .attr(\"width\", \"1\")\n",
       "      .attr(\"height\", \"1\")\n",
       "      .attr(\"transform\", \"translate(5 16)\")\n",
       "      .style(\"fill\", \"green\");\n",
       "d3.select(\".usersvg #circuitSDj\")\n",
       "  .append(\"rect\")\n",
       "      .attr(\"width\", \"1\")\n",
       "      .attr(\"height\", \"1\")\n",
       "      .attr(\"transform\", \"translate(6 16)\")\n",
       "      .style(\"fill\", \"green\");\n",
       "d3.select(\".usersvg #circuitSDj\")\n",
       "  .append(\"rect\")\n",
       "      .attr(\"width\", \"1\")\n",
       "      .attr(\"height\", \"1\")\n",
       "      .attr(\"transform\", \"translate(7 16)\")\n",
       "      .style(\"fill\", \"green\");\n",
       "d3.select(\".usersvg #circuitSDj\")\n",
       "  .append(\"rect\")\n",
       "      .attr(\"width\", \"1\")\n",
       "      .attr(\"height\", \"1\")\n",
       "      .attr(\"transform\", \"translate(8 16)\")\n",
       "      .style(\"fill\", \"green\");\n",
       "d3.select(\".usersvg #circuitSDj\")\n",
       "  .append(\"rect\")\n",
       "      .attr(\"width\", \"1\")\n",
       "      .attr(\"height\", \"1\")\n",
       "      .attr(\"transform\", \"translate(9 16)\")\n",
       "      .style(\"fill\", \"green\");\n",
       "d3.select(\".usersvg #circuitSDj\")\n",
       "  .append(\"rect\")\n",
       "      .attr(\"width\", \"1\")\n",
       "      .attr(\"height\", \"1\")\n",
       "      .attr(\"transform\", \"translate(10 16)\")\n",
       "      .style(\"fill\", \"green\");\n",
       "d3.select(\".usersvg #circuitSDj\")\n",
       "  .append(\"rect\")\n",
       "      .attr(\"width\", \"1\")\n",
       "      .attr(\"height\", \"1\")\n",
       "      .attr(\"transform\", \"translate(11 16)\")\n",
       "      .style(\"fill\", \"green\");\n",
       "d3.select(\".usersvg #circuitSDj\")\n",
       "  .append(\"rect\")\n",
       "      .attr(\"width\", \"1\")\n",
       "      .attr(\"height\", \"1\")\n",
       "      .attr(\"transform\", \"translate(12 16)\")\n",
       "      .style(\"fill\", \"green\");\n",
       "d3.select(\".usersvg #circuitSDj\")\n",
       "  .append(\"rect\")\n",
       "      .attr(\"width\", \"1\")\n",
       "      .attr(\"height\", \"1\")\n",
       "      .attr(\"transform\", \"translate(13 16)\")\n",
       "      .style(\"fill\", \"green\");\n",
       "d3.select(\".usersvg #circuitSDj\")\n",
       "  .append(\"rect\")\n",
       "      .attr(\"width\", \"1\")\n",
       "      .attr(\"height\", \"1\")\n",
       "      .attr(\"transform\", \"translate(14 16)\")\n",
       "      .style(\"fill\", \"green\");\n",
       "d3.select(\".usersvg #circuitSDj\")\n",
       "  .append(\"rect\")\n",
       "      .attr(\"width\", \"1\")\n",
       "      .attr(\"height\", \"1\")\n",
       "      .attr(\"transform\", \"translate(15 16)\")\n",
       "      .style(\"fill\", \"green\");\n",
       "d3.select(\".usersvg #circuitSDj\")\n",
       "  .append(\"rect\")\n",
       "      .attr(\"width\", \"1\")\n",
       "      .attr(\"height\", \"1\")\n",
       "      .attr(\"transform\", \"translate(16 16)\")\n",
       "      .style(\"fill\", \"green\");\n",
       "d3.select(\".usersvg #circuitSDj\")\n",
       "  .append(\"rect\")\n",
       "      .attr(\"width\", \"1\")\n",
       "      .attr(\"height\", \"1\")\n",
       "      .attr(\"transform\", \"translate(17 16)\")\n",
       "      .style(\"fill\", \"green\");\n",
       "d3.select(\".usersvg #circuitSDj\")\n",
       "  .append(\"rect\")\n",
       "      .attr(\"width\", \"1\")\n",
       "      .attr(\"height\", \"1\")\n",
       "      .attr(\"transform\", \"translate(18 16)\")\n",
       "      .style(\"fill\", \"green\");\n",
       "d3.select(\".usersvg #circuitSDj\")\n",
       "  .append(\"rect\")\n",
       "      .attr(\"width\", \"1\")\n",
       "      .attr(\"height\", \"1\")\n",
       "      .attr(\"transform\", \"translate(19 16)\")\n",
       "      .style(\"fill\", \"green\");\n",
       "d3.select(\".usersvg #circuitSDj\")\n",
       "  .append(\"rect\")\n",
       "      .attr(\"width\", \"1\")\n",
       "      .attr(\"height\", \"1\")\n",
       "      .attr(\"transform\", \"translate(20 16)\")\n",
       "      .style(\"fill\", \"green\");\n",
       "d3.select(\".usersvg #circuitSDj\")\n",
       "  .append(\"rect\")\n",
       "      .attr(\"width\", \"1\")\n",
       "      .attr(\"height\", \"1\")\n",
       "      .attr(\"transform\", \"translate(21 16)\")\n",
       "      .style(\"fill\", \"green\");\n",
       "d3.select(\".usersvg #circuitSDj\")\n",
       "  .append(\"rect\")\n",
       "      .attr(\"width\", \"1\")\n",
       "      .attr(\"height\", \"1\")\n",
       "      .attr(\"transform\", \"translate(22 16)\")\n",
       "      .style(\"fill\", \"green\");\n",
       "d3.select(\".usersvg #circuitSDj\")\n",
       "  .append(\"rect\")\n",
       "      .attr(\"width\", \"1\")\n",
       "      .attr(\"height\", \"1\")\n",
       "      .attr(\"transform\", \"translate(23 16)\")\n",
       "      .style(\"fill\", \"green\");\n",
       "d3.select(\".usersvg #circuitSDj\")\n",
       "  .append(\"rect\")\n",
       "      .attr(\"width\", \"1\")\n",
       "      .attr(\"height\", \"1\")\n",
       "      .attr(\"transform\", \"translate(24 16)\")\n",
       "      .style(\"fill\", \"green\");\n",
       "d3.select(\".usersvg #circuitSDj\")\n",
       "  .append(\"rect\")\n",
       "      .attr(\"width\", \"1\")\n",
       "      .attr(\"height\", \"1\")\n",
       "      .attr(\"transform\", \"translate(25 16)\")\n",
       "      .style(\"fill\", \"green\");\n",
       "d3.select(\".usersvg #circuitSDj\")\n",
       "  .append(\"rect\")\n",
       "      .attr(\"width\", \"1\")\n",
       "      .attr(\"height\", \"1\")\n",
       "      .attr(\"transform\", \"translate(26 16)\")\n",
       "      .style(\"fill\", \"green\");\n",
       "d3.select(\".usersvg #circuitSDj\")\n",
       "  .append(\"rect\")\n",
       "      .attr(\"width\", \"1\")\n",
       "      .attr(\"height\", \"1\")\n",
       "      .attr(\"transform\", \"translate(27 16)\")\n",
       "      .style(\"fill\", \"green\");\n",
       "d3.select(\".usersvg #circuitSDj\")\n",
       "  .append(\"rect\")\n",
       "      .attr(\"width\", \"1\")\n",
       "      .attr(\"height\", \"1\")\n",
       "      .attr(\"transform\", \"translate(28 16)\")\n",
       "      .style(\"fill\", \"green\");\n",
       "d3.select(\".usersvg #circuitSDj\")\n",
       "  .append(\"rect\")\n",
       "      .attr(\"width\", \"1\")\n",
       "      .attr(\"height\", \"1\")\n",
       "      .attr(\"transform\", \"translate(29 16)\")\n",
       "      .style(\"fill\", \"green\");\n",
       "d3.select(\".usersvg #circuitSDj\")\n",
       "  .append(\"rect\")\n",
       "      .attr(\"width\", \"1\")\n",
       "      .attr(\"height\", \"1\")\n",
       "      .attr(\"transform\", \"translate(0 17)\")\n",
       "      .style(\"fill\", \"green\");\n",
       "d3.select(\".usersvg #circuitSDj\")\n",
       "  .append(\"rect\")\n",
       "      .attr(\"width\", \"1\")\n",
       "      .attr(\"height\", \"1\")\n",
       "      .attr(\"transform\", \"translate(1 17)\")\n",
       "      .style(\"fill\", \"green\");\n",
       "d3.select(\".usersvg #circuitSDj\")\n",
       "  .append(\"rect\")\n",
       "      .attr(\"width\", \"1\")\n",
       "      .attr(\"height\", \"1\")\n",
       "      .attr(\"transform\", \"translate(2 17)\")\n",
       "      .style(\"fill\", \"green\");\n",
       "d3.select(\".usersvg #circuitSDj\")\n",
       "  .append(\"rect\")\n",
       "      .attr(\"width\", \"1\")\n",
       "      .attr(\"height\", \"1\")\n",
       "      .attr(\"transform\", \"translate(3 17)\")\n",
       "      .style(\"fill\", \"green\");\n",
       "d3.select(\".usersvg #circuitSDj\")\n",
       "  .append(\"rect\")\n",
       "      .attr(\"width\", \"1\")\n",
       "      .attr(\"height\", \"1\")\n",
       "      .attr(\"transform\", \"translate(4 17)\")\n",
       "      .style(\"fill\", \"green\");\n",
       "d3.select(\".usersvg #circuitSDj\")\n",
       "  .append(\"rect\")\n",
       "      .attr(\"width\", \"1\")\n",
       "      .attr(\"height\", \"1\")\n",
       "      .attr(\"transform\", \"translate(5 17)\")\n",
       "      .style(\"fill\", \"green\");\n",
       "d3.select(\".usersvg #circuitSDj\")\n",
       "  .append(\"rect\")\n",
       "      .attr(\"width\", \"1\")\n",
       "      .attr(\"height\", \"1\")\n",
       "      .attr(\"transform\", \"translate(6 17)\")\n",
       "      .style(\"fill\", \"green\");\n",
       "d3.select(\".usersvg #circuitSDj\")\n",
       "  .append(\"rect\")\n",
       "      .attr(\"width\", \"1\")\n",
       "      .attr(\"height\", \"1\")\n",
       "      .attr(\"transform\", \"translate(7 17)\")\n",
       "      .style(\"fill\", \"green\");\n",
       "d3.select(\".usersvg #circuitSDj\")\n",
       "  .append(\"rect\")\n",
       "      .attr(\"width\", \"1\")\n",
       "      .attr(\"height\", \"1\")\n",
       "      .attr(\"transform\", \"translate(8 17)\")\n",
       "      .style(\"fill\", \"green\");\n",
       "d3.select(\".usersvg #circuitSDj\")\n",
       "  .append(\"rect\")\n",
       "      .attr(\"width\", \"1\")\n",
       "      .attr(\"height\", \"1\")\n",
       "      .attr(\"transform\", \"translate(9 17)\")\n",
       "      .style(\"fill\", \"green\");\n",
       "d3.select(\".usersvg #circuitSDj\")\n",
       "  .append(\"rect\")\n",
       "      .attr(\"width\", \"1\")\n",
       "      .attr(\"height\", \"1\")\n",
       "      .attr(\"transform\", \"translate(10 17)\")\n",
       "      .style(\"fill\", \"green\");\n",
       "d3.select(\".usersvg #circuitSDj\")\n",
       "  .append(\"rect\")\n",
       "      .attr(\"width\", \"1\")\n",
       "      .attr(\"height\", \"1\")\n",
       "      .attr(\"transform\", \"translate(11 17)\")\n",
       "      .style(\"fill\", \"green\");\n",
       "d3.select(\".usersvg #circuitSDj\")\n",
       "  .append(\"rect\")\n",
       "      .attr(\"width\", \"1\")\n",
       "      .attr(\"height\", \"1\")\n",
       "      .attr(\"transform\", \"translate(12 17)\")\n",
       "      .style(\"fill\", \"green\");\n",
       "d3.select(\".usersvg #circuitSDj\")\n",
       "  .append(\"rect\")\n",
       "      .attr(\"width\", \"1\")\n",
       "      .attr(\"height\", \"1\")\n",
       "      .attr(\"transform\", \"translate(13 17)\")\n",
       "      .style(\"fill\", \"green\");\n",
       "d3.select(\".usersvg #circuitSDj\")\n",
       "  .append(\"rect\")\n",
       "      .attr(\"width\", \"1\")\n",
       "      .attr(\"height\", \"1\")\n",
       "      .attr(\"transform\", \"translate(14 17)\")\n",
       "      .style(\"fill\", \"green\");\n",
       "d3.select(\".usersvg #circuitSDj\")\n",
       "  .append(\"rect\")\n",
       "      .attr(\"width\", \"1\")\n",
       "      .attr(\"height\", \"1\")\n",
       "      .attr(\"transform\", \"translate(15 17)\")\n",
       "      .style(\"fill\", \"green\");\n",
       "d3.select(\".usersvg #circuitSDj\")\n",
       "  .append(\"rect\")\n",
       "      .attr(\"width\", \"1\")\n",
       "      .attr(\"height\", \"1\")\n",
       "      .attr(\"transform\", \"translate(16 17)\")\n",
       "      .style(\"fill\", \"green\");\n",
       "d3.select(\".usersvg #circuitSDj\")\n",
       "  .append(\"rect\")\n",
       "      .attr(\"width\", \"1\")\n",
       "      .attr(\"height\", \"1\")\n",
       "      .attr(\"transform\", \"translate(17 17)\")\n",
       "      .style(\"fill\", \"green\");\n",
       "d3.select(\".usersvg #circuitSDj\")\n",
       "  .append(\"rect\")\n",
       "      .attr(\"width\", \"1\")\n",
       "      .attr(\"height\", \"1\")\n",
       "      .attr(\"transform\", \"translate(18 17)\")\n",
       "      .style(\"fill\", \"green\");\n",
       "d3.select(\".usersvg #circuitSDj\")\n",
       "  .append(\"rect\")\n",
       "      .attr(\"width\", \"1\")\n",
       "      .attr(\"height\", \"1\")\n",
       "      .attr(\"transform\", \"translate(19 17)\")\n",
       "      .style(\"fill\", \"green\");\n",
       "d3.select(\".usersvg #circuitSDj\")\n",
       "  .append(\"rect\")\n",
       "      .attr(\"width\", \"1\")\n",
       "      .attr(\"height\", \"1\")\n",
       "      .attr(\"transform\", \"translate(20 17)\")\n",
       "      .style(\"fill\", \"green\");\n",
       "d3.select(\".usersvg #circuitSDj\")\n",
       "  .append(\"rect\")\n",
       "      .attr(\"width\", \"1\")\n",
       "      .attr(\"height\", \"1\")\n",
       "      .attr(\"transform\", \"translate(21 17)\")\n",
       "      .style(\"fill\", \"green\");\n",
       "d3.select(\".usersvg #circuitSDj\")\n",
       "  .append(\"rect\")\n",
       "      .attr(\"width\", \"1\")\n",
       "      .attr(\"height\", \"1\")\n",
       "      .attr(\"transform\", \"translate(22 17)\")\n",
       "      .style(\"fill\", \"green\");\n",
       "d3.select(\".usersvg #circuitSDj\")\n",
       "  .append(\"rect\")\n",
       "      .attr(\"width\", \"1\")\n",
       "      .attr(\"height\", \"1\")\n",
       "      .attr(\"transform\", \"translate(23 17)\")\n",
       "      .style(\"fill\", \"green\");\n",
       "d3.select(\".usersvg #circuitSDj\")\n",
       "  .append(\"rect\")\n",
       "      .attr(\"width\", \"1\")\n",
       "      .attr(\"height\", \"1\")\n",
       "      .attr(\"transform\", \"translate(24 17)\")\n",
       "      .style(\"fill\", \"green\");\n",
       "d3.select(\".usersvg #circuitSDj\")\n",
       "  .append(\"rect\")\n",
       "      .attr(\"width\", \"1\")\n",
       "      .attr(\"height\", \"1\")\n",
       "      .attr(\"transform\", \"translate(25 17)\")\n",
       "      .style(\"fill\", \"green\");\n",
       "d3.select(\".usersvg #circuitSDj\")\n",
       "  .append(\"rect\")\n",
       "      .attr(\"width\", \"1\")\n",
       "      .attr(\"height\", \"1\")\n",
       "      .attr(\"transform\", \"translate(26 17)\")\n",
       "      .style(\"fill\", \"green\");\n",
       "d3.select(\".usersvg #circuitSDj\")\n",
       "  .append(\"rect\")\n",
       "      .attr(\"width\", \"1\")\n",
       "      .attr(\"height\", \"1\")\n",
       "      .attr(\"transform\", \"translate(27 17)\")\n",
       "      .style(\"fill\", \"green\");\n",
       "d3.select(\".usersvg #circuitSDj\")\n",
       "  .append(\"rect\")\n",
       "      .attr(\"width\", \"1\")\n",
       "      .attr(\"height\", \"1\")\n",
       "      .attr(\"transform\", \"translate(28 17)\")\n",
       "      .style(\"fill\", \"green\");\n",
       "d3.select(\".usersvg #circuitSDj\")\n",
       "  .append(\"rect\")\n",
       "      .attr(\"width\", \"1\")\n",
       "      .attr(\"height\", \"1\")\n",
       "      .attr(\"transform\", \"translate(29 17)\")\n",
       "      .style(\"fill\", \"green\");\n",
       "\n",
       "    }); \n",
       "</script>\n"
      ]
     },
     "metadata": {},
     "output_type": "display_data"
    },
    {
     "data": {
      "text/html": [
       "<script>\n",
       "    require(['d3'],  function(d3) {\n",
       "    d3.select(\".usersvg #circuitSDj\").append(\"image\").attr(\"id\", \"circuitSDjracer\").attr(\"transform\", \"translate(14 5)\").attr(\"height\", \"1px\").attr(\"xlink:href\", \"RL/files/Images/car.png\").attr(\"x\", \"0\").attr(\"width\", \"1px\").attr(\"y\", \"0\");\n",
       "    }); \n",
       "</script>\n"
      ]
     },
     "metadata": {},
     "output_type": "display_data"
    },
    {
     "data": {
      "text/html": [
       "<script>\n",
       "    require(['d3'],  function(d3) {\n",
       "    d3.select(\".usersvg #circuitSDjracer\").attr(\"transform\", \"translate(0 0)\");\n",
       "    }); \n",
       "</script>\n"
      ]
     },
     "metadata": {},
     "output_type": "display_data"
    },
    {
     "data": {
      "text/html": [
       "<script>\n",
       "    require(['d3'],  function(d3) {\n",
       "    d3.select(\".usersvg #circuitSDjracer\").attr(\"transform\", \"translate(1 0)\");\n",
       "    }); \n",
       "</script>\n"
      ]
     },
     "metadata": {},
     "output_type": "display_data"
    },
    {
     "data": {
      "text/html": [
       "<script>\n",
       "    require(['d3'],  function(d3) {\n",
       "    d3.select(\".usersvg #circuitSDjracer\").attr(\"transform\", \"translate(2 0)\");\n",
       "    }); \n",
       "</script>\n"
      ]
     },
     "metadata": {},
     "output_type": "display_data"
    },
    {
     "data": {
      "text/html": [
       "<script>\n",
       "    require(['d3'],  function(d3) {\n",
       "    d3.select(\".usersvg #circuitSDjracer\").attr(\"transform\", \"translate(3 0)\");\n",
       "    }); \n",
       "</script>\n"
      ]
     },
     "metadata": {},
     "output_type": "display_data"
    },
    {
     "data": {
      "text/html": [
       "<script>\n",
       "    require(['d3'],  function(d3) {\n",
       "    d3.select(\".usersvg #circuitSDjracer\").attr(\"transform\", \"translate(4 0)\");\n",
       "    }); \n",
       "</script>\n"
      ]
     },
     "metadata": {},
     "output_type": "display_data"
    },
    {
     "data": {
      "text/html": [
       "<script>\n",
       "    require(['d3'],  function(d3) {\n",
       "    d3.select(\".usersvg #circuitSDjracer\").attr(\"transform\", \"translate(5 0)\");\n",
       "    }); \n",
       "</script>\n"
      ]
     },
     "metadata": {},
     "output_type": "display_data"
    },
    {
     "data": {
      "text/html": [
       "<script>\n",
       "    require(['d3'],  function(d3) {\n",
       "    d3.select(\".usersvg #circuitSDjracer\").attr(\"transform\", \"translate(6 0)\");\n",
       "    }); \n",
       "</script>\n"
      ]
     },
     "metadata": {},
     "output_type": "display_data"
    },
    {
     "data": {
      "text/html": [
       "<script>\n",
       "    require(['d3'],  function(d3) {\n",
       "    d3.select(\".usersvg #circuitSDjracer\").attr(\"transform\", \"translate(7 0)\");\n",
       "    }); \n",
       "</script>\n"
      ]
     },
     "metadata": {},
     "output_type": "display_data"
    },
    {
     "data": {
      "text/html": [
       "<script>\n",
       "    require(['d3'],  function(d3) {\n",
       "    d3.select(\".usersvg #circuitSDjracer\").attr(\"transform\", \"translate(8 0)\");\n",
       "    }); \n",
       "</script>\n"
      ]
     },
     "metadata": {},
     "output_type": "display_data"
    },
    {
     "data": {
      "text/html": [
       "<script>\n",
       "    require(['d3'],  function(d3) {\n",
       "    d3.select(\".usersvg #circuitSDjracer\").attr(\"transform\", \"translate(9 0)\");\n",
       "    }); \n",
       "</script>\n"
      ]
     },
     "metadata": {},
     "output_type": "display_data"
    },
    {
     "data": {
      "text/html": [
       "<script>\n",
       "    require(['d3'],  function(d3) {\n",
       "    d3.select(\".usersvg #circuitSDjracer\").attr(\"transform\", \"translate(10 0)\");\n",
       "    }); \n",
       "</script>\n"
      ]
     },
     "metadata": {},
     "output_type": "display_data"
    },
    {
     "data": {
      "text/html": [
       "<script>\n",
       "    require(['d3'],  function(d3) {\n",
       "    d3.select(\".usersvg #circuitSDjracer\").attr(\"transform\", \"translate(11 0)\");\n",
       "    }); \n",
       "</script>\n"
      ]
     },
     "metadata": {},
     "output_type": "display_data"
    },
    {
     "data": {
      "text/html": [
       "<script>\n",
       "    require(['d3'],  function(d3) {\n",
       "    d3.select(\".usersvg #circuitSDjracer\").attr(\"transform\", \"translate(12 0)\");\n",
       "    }); \n",
       "</script>\n"
      ]
     },
     "metadata": {},
     "output_type": "display_data"
    },
    {
     "data": {
      "text/html": [
       "<script>\n",
       "    require(['d3'],  function(d3) {\n",
       "    d3.select(\".usersvg #circuitSDjracer\").attr(\"transform\", \"translate(13 0)\");\n",
       "    }); \n",
       "</script>\n"
      ]
     },
     "metadata": {},
     "output_type": "display_data"
    },
    {
     "data": {
      "text/html": [
       "<script>\n",
       "    require(['d3'],  function(d3) {\n",
       "    d3.select(\".usersvg #circuitSDjracer\").attr(\"transform\", \"translate(14 0)\");\n",
       "    }); \n",
       "</script>\n"
      ]
     },
     "metadata": {},
     "output_type": "display_data"
    },
    {
     "data": {
      "text/html": [
       "<script>\n",
       "    require(['d3'],  function(d3) {\n",
       "    d3.select(\".usersvg #circuitSDjracer\").attr(\"transform\", \"translate(15 0)\");\n",
       "    }); \n",
       "</script>\n"
      ]
     },
     "metadata": {},
     "output_type": "display_data"
    },
    {
     "data": {
      "text/html": [
       "<script>\n",
       "    require(['d3'],  function(d3) {\n",
       "    d3.select(\".usersvg #circuitSDjracer\").attr(\"transform\", \"translate(16 0)\");\n",
       "    }); \n",
       "</script>\n"
      ]
     },
     "metadata": {},
     "output_type": "display_data"
    },
    {
     "data": {
      "text/html": [
       "<script>\n",
       "    require(['d3'],  function(d3) {\n",
       "    d3.select(\".usersvg #circuitSDjracer\").attr(\"transform\", \"translate(17 0)\");\n",
       "    }); \n",
       "</script>\n"
      ]
     },
     "metadata": {},
     "output_type": "display_data"
    },
    {
     "data": {
      "text/html": [
       "<script>\n",
       "    require(['d3'],  function(d3) {\n",
       "    d3.select(\".usersvg #circuitSDjracer\").attr(\"transform\", \"translate(18 0)\");\n",
       "    }); \n",
       "</script>\n"
      ]
     },
     "metadata": {},
     "output_type": "display_data"
    },
    {
     "data": {
      "text/html": [
       "<script>\n",
       "    require(['d3'],  function(d3) {\n",
       "    d3.select(\".usersvg #circuitSDjracer\").attr(\"transform\", \"translate(19 0)\");\n",
       "    }); \n",
       "</script>\n"
      ]
     },
     "metadata": {},
     "output_type": "display_data"
    },
    {
     "data": {
      "text/html": [
       "<script>\n",
       "    require(['d3'],  function(d3) {\n",
       "    d3.select(\".usersvg #circuitSDjracer\").attr(\"transform\", \"translate(20 0)\");\n",
       "    }); \n",
       "</script>\n"
      ]
     },
     "metadata": {},
     "output_type": "display_data"
    },
    {
     "data": {
      "text/html": [
       "<script>\n",
       "    require(['d3'],  function(d3) {\n",
       "    d3.select(\".usersvg #circuitSDjracer\").attr(\"transform\", \"translate(21 0)\");\n",
       "    }); \n",
       "</script>\n"
      ]
     },
     "metadata": {},
     "output_type": "display_data"
    },
    {
     "data": {
      "text/html": [
       "<script>\n",
       "    require(['d3'],  function(d3) {\n",
       "    d3.select(\".usersvg #circuitSDjracer\").attr(\"transform\", \"translate(22 0)\");\n",
       "    }); \n",
       "</script>\n"
      ]
     },
     "metadata": {},
     "output_type": "display_data"
    },
    {
     "data": {
      "text/html": [
       "<script>\n",
       "    require(['d3'],  function(d3) {\n",
       "    d3.select(\".usersvg #circuitSDjracer\").attr(\"transform\", \"translate(23 0)\");\n",
       "    }); \n",
       "</script>\n"
      ]
     },
     "metadata": {},
     "output_type": "display_data"
    },
    {
     "data": {
      "text/html": [
       "<script>\n",
       "    require(['d3'],  function(d3) {\n",
       "    d3.select(\".usersvg #circuitSDjracer\").attr(\"transform\", \"translate(24 0)\");\n",
       "    }); \n",
       "</script>\n"
      ]
     },
     "metadata": {},
     "output_type": "display_data"
    },
    {
     "data": {
      "text/html": [
       "<script>\n",
       "    require(['d3'],  function(d3) {\n",
       "    d3.select(\".usersvg #circuitSDjracer\").attr(\"transform\", \"translate(25 0)\");\n",
       "    }); \n",
       "</script>\n"
      ]
     },
     "metadata": {},
     "output_type": "display_data"
    },
    {
     "data": {
      "text/html": [
       "<script>\n",
       "    require(['d3'],  function(d3) {\n",
       "    d3.select(\".usersvg #circuitSDjracer\").attr(\"transform\", \"translate(26 0)\");\n",
       "    }); \n",
       "</script>\n"
      ]
     },
     "metadata": {},
     "output_type": "display_data"
    },
    {
     "data": {
      "text/html": [
       "<script>\n",
       "    require(['d3'],  function(d3) {\n",
       "    d3.select(\".usersvg #circuitSDjracer\").attr(\"transform\", \"translate(27 0)\");\n",
       "    }); \n",
       "</script>\n"
      ]
     },
     "metadata": {},
     "output_type": "display_data"
    },
    {
     "data": {
      "text/html": [
       "<script>\n",
       "    require(['d3'],  function(d3) {\n",
       "    d3.select(\".usersvg #circuitSDjracer\").attr(\"transform\", \"translate(28 0)\");\n",
       "    }); \n",
       "</script>\n"
      ]
     },
     "metadata": {},
     "output_type": "display_data"
    },
    {
     "data": {
      "text/html": [
       "<script>\n",
       "    require(['d3'],  function(d3) {\n",
       "    d3.select(\".usersvg #circuitSDjracer\").attr(\"transform\", \"translate(29 0)\");\n",
       "    }); \n",
       "</script>\n"
      ]
     },
     "metadata": {},
     "output_type": "display_data"
    },
    {
     "data": {
      "text/html": [
       "<script>\n",
       "    require(['d3'],  function(d3) {\n",
       "    d3.select(\".usersvg #circuitSDjracer\").attr(\"transform\", \"translate(0 1)\");\n",
       "    }); \n",
       "</script>\n"
      ]
     },
     "metadata": {},
     "output_type": "display_data"
    },
    {
     "data": {
      "text/html": [
       "<script>\n",
       "    require(['d3'],  function(d3) {\n",
       "    d3.select(\".usersvg #circuitSDjracer\").attr(\"transform\", \"translate(1 1)\");\n",
       "    }); \n",
       "</script>\n"
      ]
     },
     "metadata": {},
     "output_type": "display_data"
    },
    {
     "data": {
      "text/html": [
       "<script>\n",
       "    require(['d3'],  function(d3) {\n",
       "    d3.select(\".usersvg #circuitSDjracer\").attr(\"transform\", \"translate(2 1)\");\n",
       "    }); \n",
       "</script>\n"
      ]
     },
     "metadata": {},
     "output_type": "display_data"
    },
    {
     "data": {
      "text/html": [
       "<script>\n",
       "    require(['d3'],  function(d3) {\n",
       "    d3.select(\".usersvg #circuitSDjracer\").attr(\"transform\", \"translate(3 1)\");\n",
       "    }); \n",
       "</script>\n"
      ]
     },
     "metadata": {},
     "output_type": "display_data"
    },
    {
     "data": {
      "text/html": [
       "<script>\n",
       "    require(['d3'],  function(d3) {\n",
       "    d3.select(\".usersvg #circuitSDjracer\").attr(\"transform\", \"translate(4 1)\");\n",
       "    }); \n",
       "</script>\n"
      ]
     },
     "metadata": {},
     "output_type": "display_data"
    },
    {
     "data": {
      "text/html": [
       "<script>\n",
       "    require(['d3'],  function(d3) {\n",
       "    d3.select(\".usersvg #circuitSDjracer\").attr(\"transform\", \"translate(5 1)\");\n",
       "    }); \n",
       "</script>\n"
      ]
     },
     "metadata": {},
     "output_type": "display_data"
    },
    {
     "data": {
      "text/html": [
       "<script>\n",
       "    require(['d3'],  function(d3) {\n",
       "    d3.select(\".usersvg #circuitSDjracer\").attr(\"transform\", \"translate(6 1)\");\n",
       "    }); \n",
       "</script>\n"
      ]
     },
     "metadata": {},
     "output_type": "display_data"
    },
    {
     "data": {
      "text/html": [
       "<script>\n",
       "    require(['d3'],  function(d3) {\n",
       "    d3.select(\".usersvg #circuitSDjracer\").attr(\"transform\", \"translate(7 1)\");\n",
       "    }); \n",
       "</script>\n"
      ]
     },
     "metadata": {},
     "output_type": "display_data"
    },
    {
     "data": {
      "text/html": [
       "<script>\n",
       "    require(['d3'],  function(d3) {\n",
       "    d3.select(\".usersvg #circuitSDjracer\").attr(\"transform\", \"translate(8 1)\");\n",
       "    }); \n",
       "</script>\n"
      ]
     },
     "metadata": {},
     "output_type": "display_data"
    },
    {
     "data": {
      "text/html": [
       "<script>\n",
       "    require(['d3'],  function(d3) {\n",
       "    d3.select(\".usersvg #circuitSDjracer\").attr(\"transform\", \"translate(9 1)\");\n",
       "    }); \n",
       "</script>\n"
      ]
     },
     "metadata": {},
     "output_type": "display_data"
    },
    {
     "data": {
      "text/html": [
       "<script>\n",
       "    require(['d3'],  function(d3) {\n",
       "    d3.select(\".usersvg #circuitSDjracer\").attr(\"transform\", \"translate(10 1)\");\n",
       "    }); \n",
       "</script>\n"
      ]
     },
     "metadata": {},
     "output_type": "display_data"
    },
    {
     "data": {
      "text/html": [
       "<script>\n",
       "    require(['d3'],  function(d3) {\n",
       "    d3.select(\".usersvg #circuitSDjracer\").attr(\"transform\", \"translate(11 1)\");\n",
       "    }); \n",
       "</script>\n"
      ]
     },
     "metadata": {},
     "output_type": "display_data"
    },
    {
     "data": {
      "text/html": [
       "<script>\n",
       "    require(['d3'],  function(d3) {\n",
       "    d3.select(\".usersvg #circuitSDjracer\").attr(\"transform\", \"translate(12 1)\");\n",
       "    }); \n",
       "</script>\n"
      ]
     },
     "metadata": {},
     "output_type": "display_data"
    },
    {
     "data": {
      "text/html": [
       "<script>\n",
       "    require(['d3'],  function(d3) {\n",
       "    d3.select(\".usersvg #circuitSDjracer\").attr(\"transform\", \"translate(13 1)\");\n",
       "    }); \n",
       "</script>\n"
      ]
     },
     "metadata": {},
     "output_type": "display_data"
    },
    {
     "data": {
      "text/html": [
       "<script>\n",
       "    require(['d3'],  function(d3) {\n",
       "    d3.select(\".usersvg #circuitSDjracer\").attr(\"transform\", \"translate(14 1)\");\n",
       "    }); \n",
       "</script>\n"
      ]
     },
     "metadata": {},
     "output_type": "display_data"
    },
    {
     "data": {
      "text/html": [
       "<script>\n",
       "    require(['d3'],  function(d3) {\n",
       "    d3.select(\".usersvg #circuitSDjracer\").attr(\"transform\", \"translate(15 1)\");\n",
       "    }); \n",
       "</script>\n"
      ]
     },
     "metadata": {},
     "output_type": "display_data"
    },
    {
     "data": {
      "text/html": [
       "<script>\n",
       "    require(['d3'],  function(d3) {\n",
       "    d3.select(\".usersvg #circuitSDjracer\").attr(\"transform\", \"translate(16 1)\");\n",
       "    }); \n",
       "</script>\n"
      ]
     },
     "metadata": {},
     "output_type": "display_data"
    },
    {
     "data": {
      "text/html": [
       "<script>\n",
       "    require(['d3'],  function(d3) {\n",
       "    d3.select(\".usersvg #circuitSDjracer\").attr(\"transform\", \"translate(17 1)\");\n",
       "    }); \n",
       "</script>\n"
      ]
     },
     "metadata": {},
     "output_type": "display_data"
    },
    {
     "data": {
      "text/html": [
       "<script>\n",
       "    require(['d3'],  function(d3) {\n",
       "    d3.select(\".usersvg #circuitSDjracer\").attr(\"transform\", \"translate(18 1)\");\n",
       "    }); \n",
       "</script>\n"
      ]
     },
     "metadata": {},
     "output_type": "display_data"
    },
    {
     "data": {
      "text/html": [
       "<script>\n",
       "    require(['d3'],  function(d3) {\n",
       "    d3.select(\".usersvg #circuitSDjracer\").attr(\"transform\", \"translate(19 1)\");\n",
       "    }); \n",
       "</script>\n"
      ]
     },
     "metadata": {},
     "output_type": "display_data"
    },
    {
     "data": {
      "text/html": [
       "<script>\n",
       "    require(['d3'],  function(d3) {\n",
       "    d3.select(\".usersvg #circuitSDjracer\").attr(\"transform\", \"translate(20 1)\");\n",
       "    }); \n",
       "</script>\n"
      ]
     },
     "metadata": {},
     "output_type": "display_data"
    },
    {
     "data": {
      "text/html": [
       "<script>\n",
       "    require(['d3'],  function(d3) {\n",
       "    d3.select(\".usersvg #circuitSDjracer\").attr(\"transform\", \"translate(21 1)\");\n",
       "    }); \n",
       "</script>\n"
      ]
     },
     "metadata": {},
     "output_type": "display_data"
    },
    {
     "data": {
      "text/html": [
       "<script>\n",
       "    require(['d3'],  function(d3) {\n",
       "    d3.select(\".usersvg #circuitSDjracer\").attr(\"transform\", \"translate(22 1)\");\n",
       "    }); \n",
       "</script>\n"
      ]
     },
     "metadata": {},
     "output_type": "display_data"
    },
    {
     "data": {
      "text/html": [
       "<script>\n",
       "    require(['d3'],  function(d3) {\n",
       "    d3.select(\".usersvg #circuitSDjracer\").attr(\"transform\", \"translate(23 1)\");\n",
       "    }); \n",
       "</script>\n"
      ]
     },
     "metadata": {},
     "output_type": "display_data"
    },
    {
     "data": {
      "text/html": [
       "<script>\n",
       "    require(['d3'],  function(d3) {\n",
       "    d3.select(\".usersvg #circuitSDjracer\").attr(\"transform\", \"translate(24 1)\");\n",
       "    }); \n",
       "</script>\n"
      ]
     },
     "metadata": {},
     "output_type": "display_data"
    },
    {
     "data": {
      "text/html": [
       "<script>\n",
       "    require(['d3'],  function(d3) {\n",
       "    d3.select(\".usersvg #circuitSDjracer\").attr(\"transform\", \"translate(25 1)\");\n",
       "    }); \n",
       "</script>\n"
      ]
     },
     "metadata": {},
     "output_type": "display_data"
    },
    {
     "data": {
      "text/html": [
       "<script>\n",
       "    require(['d3'],  function(d3) {\n",
       "    d3.select(\".usersvg #circuitSDjracer\").attr(\"transform\", \"translate(26 1)\");\n",
       "    }); \n",
       "</script>\n"
      ]
     },
     "metadata": {},
     "output_type": "display_data"
    },
    {
     "data": {
      "text/html": [
       "<script>\n",
       "    require(['d3'],  function(d3) {\n",
       "    d3.select(\".usersvg #circuitSDjracer\").attr(\"transform\", \"translate(27 1)\");\n",
       "    }); \n",
       "</script>\n"
      ]
     },
     "metadata": {},
     "output_type": "display_data"
    },
    {
     "data": {
      "text/html": [
       "<script>\n",
       "    require(['d3'],  function(d3) {\n",
       "    d3.select(\".usersvg #circuitSDjracer\").attr(\"transform\", \"translate(28 1)\");\n",
       "    }); \n",
       "</script>\n"
      ]
     },
     "metadata": {},
     "output_type": "display_data"
    },
    {
     "data": {
      "text/html": [
       "<script>\n",
       "    require(['d3'],  function(d3) {\n",
       "    d3.select(\".usersvg #circuitSDjracer\").attr(\"transform\", \"translate(29 1)\");\n",
       "    }); \n",
       "</script>\n"
      ]
     },
     "metadata": {},
     "output_type": "display_data"
    },
    {
     "data": {
      "text/html": [
       "<script>\n",
       "    require(['d3'],  function(d3) {\n",
       "    d3.select(\".usersvg #circuitSDjracer\").attr(\"transform\", \"translate(0 2)\");\n",
       "    }); \n",
       "</script>\n"
      ]
     },
     "metadata": {},
     "output_type": "display_data"
    },
    {
     "data": {
      "text/html": [
       "<script>\n",
       "    require(['d3'],  function(d3) {\n",
       "    d3.select(\".usersvg #circuitSDjracer\").attr(\"transform\", \"translate(1 2)\");\n",
       "    }); \n",
       "</script>\n"
      ]
     },
     "metadata": {},
     "output_type": "display_data"
    },
    {
     "data": {
      "text/html": [
       "<script>\n",
       "    require(['d3'],  function(d3) {\n",
       "    d3.select(\".usersvg #circuitSDjracer\").attr(\"transform\", \"translate(2 2)\");\n",
       "    }); \n",
       "</script>\n"
      ]
     },
     "metadata": {},
     "output_type": "display_data"
    },
    {
     "data": {
      "text/html": [
       "<script>\n",
       "    require(['d3'],  function(d3) {\n",
       "    d3.select(\".usersvg #circuitSDjracer\").attr(\"transform\", \"translate(3 2)\");\n",
       "    }); \n",
       "</script>\n"
      ]
     },
     "metadata": {},
     "output_type": "display_data"
    },
    {
     "data": {
      "text/html": [
       "<script>\n",
       "    require(['d3'],  function(d3) {\n",
       "    d3.select(\".usersvg #circuitSDjracer\").attr(\"transform\", \"translate(4 2)\");\n",
       "    }); \n",
       "</script>\n"
      ]
     },
     "metadata": {},
     "output_type": "display_data"
    },
    {
     "data": {
      "text/html": [
       "<script>\n",
       "    require(['d3'],  function(d3) {\n",
       "    d3.select(\".usersvg #circuitSDjracer\").attr(\"transform\", \"translate(5 2)\");\n",
       "    }); \n",
       "</script>\n"
      ]
     },
     "metadata": {},
     "output_type": "display_data"
    },
    {
     "data": {
      "text/html": [
       "<script>\n",
       "    require(['d3'],  function(d3) {\n",
       "    d3.select(\".usersvg #circuitSDjracer\").attr(\"transform\", \"translate(6 2)\");\n",
       "    }); \n",
       "</script>\n"
      ]
     },
     "metadata": {},
     "output_type": "display_data"
    },
    {
     "data": {
      "text/html": [
       "<script>\n",
       "    require(['d3'],  function(d3) {\n",
       "    d3.select(\".usersvg #circuitSDjracer\").attr(\"transform\", \"translate(7 2)\");\n",
       "    }); \n",
       "</script>\n"
      ]
     },
     "metadata": {},
     "output_type": "display_data"
    },
    {
     "data": {
      "text/html": [
       "<script>\n",
       "    require(['d3'],  function(d3) {\n",
       "    d3.select(\".usersvg #circuitSDjracer\").attr(\"transform\", \"translate(8 2)\");\n",
       "    }); \n",
       "</script>\n"
      ]
     },
     "metadata": {},
     "output_type": "display_data"
    },
    {
     "data": {
      "text/html": [
       "<script>\n",
       "    require(['d3'],  function(d3) {\n",
       "    d3.select(\".usersvg #circuitSDjracer\").attr(\"transform\", \"translate(9 2)\");\n",
       "    }); \n",
       "</script>\n"
      ]
     },
     "metadata": {},
     "output_type": "display_data"
    },
    {
     "data": {
      "text/html": [
       "<script>\n",
       "    require(['d3'],  function(d3) {\n",
       "    d3.select(\".usersvg #circuitSDjracer\").attr(\"transform\", \"translate(10 2)\");\n",
       "    }); \n",
       "</script>\n"
      ]
     },
     "metadata": {},
     "output_type": "display_data"
    },
    {
     "data": {
      "text/html": [
       "<script>\n",
       "    require(['d3'],  function(d3) {\n",
       "    d3.select(\".usersvg #circuitSDjracer\").attr(\"transform\", \"translate(11 2)\");\n",
       "    }); \n",
       "</script>\n"
      ]
     },
     "metadata": {},
     "output_type": "display_data"
    },
    {
     "data": {
      "text/html": [
       "<script>\n",
       "    require(['d3'],  function(d3) {\n",
       "    d3.select(\".usersvg #circuitSDjracer\").attr(\"transform\", \"translate(12 2)\");\n",
       "    }); \n",
       "</script>\n"
      ]
     },
     "metadata": {},
     "output_type": "display_data"
    },
    {
     "data": {
      "text/html": [
       "<script>\n",
       "    require(['d3'],  function(d3) {\n",
       "    d3.select(\".usersvg #circuitSDjracer\").attr(\"transform\", \"translate(13 2)\");\n",
       "    }); \n",
       "</script>\n"
      ]
     },
     "metadata": {},
     "output_type": "display_data"
    },
    {
     "data": {
      "text/html": [
       "<script>\n",
       "    require(['d3'],  function(d3) {\n",
       "    d3.select(\".usersvg #circuitSDjracer\").attr(\"transform\", \"translate(14 2)\");\n",
       "    }); \n",
       "</script>\n"
      ]
     },
     "metadata": {},
     "output_type": "display_data"
    },
    {
     "data": {
      "text/html": [
       "<script>\n",
       "    require(['d3'],  function(d3) {\n",
       "    d3.select(\".usersvg #circuitSDjracer\").attr(\"transform\", \"translate(15 2)\");\n",
       "    }); \n",
       "</script>\n"
      ]
     },
     "metadata": {},
     "output_type": "display_data"
    },
    {
     "data": {
      "text/html": [
       "<script>\n",
       "    require(['d3'],  function(d3) {\n",
       "    d3.select(\".usersvg #circuitSDjracer\").attr(\"transform\", \"translate(16 2)\");\n",
       "    }); \n",
       "</script>\n"
      ]
     },
     "metadata": {},
     "output_type": "display_data"
    },
    {
     "data": {
      "text/html": [
       "<script>\n",
       "    require(['d3'],  function(d3) {\n",
       "    d3.select(\".usersvg #circuitSDjracer\").attr(\"transform\", \"translate(17 2)\");\n",
       "    }); \n",
       "</script>\n"
      ]
     },
     "metadata": {},
     "output_type": "display_data"
    },
    {
     "data": {
      "text/html": [
       "<script>\n",
       "    require(['d3'],  function(d3) {\n",
       "    d3.select(\".usersvg #circuitSDjracer\").attr(\"transform\", \"translate(18 2)\");\n",
       "    }); \n",
       "</script>\n"
      ]
     },
     "metadata": {},
     "output_type": "display_data"
    },
    {
     "data": {
      "text/html": [
       "<script>\n",
       "    require(['d3'],  function(d3) {\n",
       "    d3.select(\".usersvg #circuitSDjracer\").attr(\"transform\", \"translate(19 2)\");\n",
       "    }); \n",
       "</script>\n"
      ]
     },
     "metadata": {},
     "output_type": "display_data"
    },
    {
     "data": {
      "text/html": [
       "<script>\n",
       "    require(['d3'],  function(d3) {\n",
       "    d3.select(\".usersvg #circuitSDjracer\").attr(\"transform\", \"translate(20 2)\");\n",
       "    }); \n",
       "</script>\n"
      ]
     },
     "metadata": {},
     "output_type": "display_data"
    },
    {
     "data": {
      "text/html": [
       "<script>\n",
       "    require(['d3'],  function(d3) {\n",
       "    d3.select(\".usersvg #circuitSDjracer\").attr(\"transform\", \"translate(21 2)\");\n",
       "    }); \n",
       "</script>\n"
      ]
     },
     "metadata": {},
     "output_type": "display_data"
    },
    {
     "data": {
      "text/html": [
       "<script>\n",
       "    require(['d3'],  function(d3) {\n",
       "    d3.select(\".usersvg #circuitSDjracer\").attr(\"transform\", \"translate(22 2)\");\n",
       "    }); \n",
       "</script>\n"
      ]
     },
     "metadata": {},
     "output_type": "display_data"
    },
    {
     "data": {
      "text/html": [
       "<script>\n",
       "    require(['d3'],  function(d3) {\n",
       "    d3.select(\".usersvg #circuitSDjracer\").attr(\"transform\", \"translate(23 2)\");\n",
       "    }); \n",
       "</script>\n"
      ]
     },
     "metadata": {},
     "output_type": "display_data"
    },
    {
     "data": {
      "text/html": [
       "<script>\n",
       "    require(['d3'],  function(d3) {\n",
       "    d3.select(\".usersvg #circuitSDjracer\").attr(\"transform\", \"translate(24 2)\");\n",
       "    }); \n",
       "</script>\n"
      ]
     },
     "metadata": {},
     "output_type": "display_data"
    },
    {
     "data": {
      "text/html": [
       "<script>\n",
       "    require(['d3'],  function(d3) {\n",
       "    d3.select(\".usersvg #circuitSDjracer\").attr(\"transform\", \"translate(25 2)\");\n",
       "    }); \n",
       "</script>\n"
      ]
     },
     "metadata": {},
     "output_type": "display_data"
    },
    {
     "data": {
      "text/html": [
       "<script>\n",
       "    require(['d3'],  function(d3) {\n",
       "    d3.select(\".usersvg #circuitSDjracer\").attr(\"transform\", \"translate(26 2)\");\n",
       "    }); \n",
       "</script>\n"
      ]
     },
     "metadata": {},
     "output_type": "display_data"
    },
    {
     "data": {
      "text/html": [
       "<script>\n",
       "    require(['d3'],  function(d3) {\n",
       "    d3.select(\".usersvg #circuitSDjracer\").attr(\"transform\", \"translate(27 2)\");\n",
       "    }); \n",
       "</script>\n"
      ]
     },
     "metadata": {},
     "output_type": "display_data"
    },
    {
     "data": {
      "text/html": [
       "<script>\n",
       "    require(['d3'],  function(d3) {\n",
       "    d3.select(\".usersvg #circuitSDjracer\").attr(\"transform\", \"translate(28 2)\");\n",
       "    }); \n",
       "</script>\n"
      ]
     },
     "metadata": {},
     "output_type": "display_data"
    },
    {
     "data": {
      "text/html": [
       "<script>\n",
       "    require(['d3'],  function(d3) {\n",
       "    d3.select(\".usersvg #circuitSDjracer\").attr(\"transform\", \"translate(29 2)\");\n",
       "    }); \n",
       "</script>\n"
      ]
     },
     "metadata": {},
     "output_type": "display_data"
    },
    {
     "data": {
      "text/html": [
       "<script>\n",
       "    require(['d3'],  function(d3) {\n",
       "    d3.select(\".usersvg #circuitSDjracer\").attr(\"transform\", \"translate(0 3)\");\n",
       "    }); \n",
       "</script>\n"
      ]
     },
     "metadata": {},
     "output_type": "display_data"
    },
    {
     "data": {
      "text/html": [
       "<script>\n",
       "    require(['d3'],  function(d3) {\n",
       "    d3.select(\".usersvg #circuitSDjracer\").attr(\"transform\", \"translate(1 3)\");\n",
       "    }); \n",
       "</script>\n"
      ]
     },
     "metadata": {},
     "output_type": "display_data"
    },
    {
     "data": {
      "text/html": [
       "<script>\n",
       "    require(['d3'],  function(d3) {\n",
       "    d3.select(\".usersvg #circuitSDjracer\").attr(\"transform\", \"translate(2 3)\");\n",
       "    }); \n",
       "</script>\n"
      ]
     },
     "metadata": {},
     "output_type": "display_data"
    },
    {
     "data": {
      "text/html": [
       "<script>\n",
       "    require(['d3'],  function(d3) {\n",
       "    d3.select(\".usersvg #circuitSDjracer\").attr(\"transform\", \"translate(3 3)\");\n",
       "    }); \n",
       "</script>\n"
      ]
     },
     "metadata": {},
     "output_type": "display_data"
    },
    {
     "data": {
      "text/html": [
       "<script>\n",
       "    require(['d3'],  function(d3) {\n",
       "    d3.select(\".usersvg #circuitSDjracer\").attr(\"transform\", \"translate(4 3)\");\n",
       "    }); \n",
       "</script>\n"
      ]
     },
     "metadata": {},
     "output_type": "display_data"
    },
    {
     "data": {
      "text/html": [
       "<script>\n",
       "    require(['d3'],  function(d3) {\n",
       "    d3.select(\".usersvg #circuitSDjracer\").attr(\"transform\", \"translate(5 3)\");\n",
       "    }); \n",
       "</script>\n"
      ]
     },
     "metadata": {},
     "output_type": "display_data"
    },
    {
     "data": {
      "text/html": [
       "<script>\n",
       "    require(['d3'],  function(d3) {\n",
       "    d3.select(\".usersvg #circuitSDjracer\").attr(\"transform\", \"translate(6 3)\");\n",
       "    }); \n",
       "</script>\n"
      ]
     },
     "metadata": {},
     "output_type": "display_data"
    },
    {
     "data": {
      "text/html": [
       "<script>\n",
       "    require(['d3'],  function(d3) {\n",
       "    d3.select(\".usersvg #circuitSDjracer\").attr(\"transform\", \"translate(7 3)\");\n",
       "    }); \n",
       "</script>\n"
      ]
     },
     "metadata": {},
     "output_type": "display_data"
    },
    {
     "data": {
      "text/html": [
       "<script>\n",
       "    require(['d3'],  function(d3) {\n",
       "    d3.select(\".usersvg #circuitSDjracer\").attr(\"transform\", \"translate(8 3)\");\n",
       "    }); \n",
       "</script>\n"
      ]
     },
     "metadata": {},
     "output_type": "display_data"
    },
    {
     "data": {
      "text/html": [
       "<script>\n",
       "    require(['d3'],  function(d3) {\n",
       "    d3.select(\".usersvg #circuitSDjracer\").attr(\"transform\", \"translate(9 3)\");\n",
       "    }); \n",
       "</script>\n"
      ]
     },
     "metadata": {},
     "output_type": "display_data"
    },
    {
     "data": {
      "text/html": [
       "<script>\n",
       "    require(['d3'],  function(d3) {\n",
       "    d3.select(\".usersvg #circuitSDjracer\").attr(\"transform\", \"translate(10 3)\");\n",
       "    }); \n",
       "</script>\n"
      ]
     },
     "metadata": {},
     "output_type": "display_data"
    },
    {
     "data": {
      "text/html": [
       "<script>\n",
       "    require(['d3'],  function(d3) {\n",
       "    d3.select(\".usersvg #circuitSDjracer\").attr(\"transform\", \"translate(11 3)\");\n",
       "    }); \n",
       "</script>\n"
      ]
     },
     "metadata": {},
     "output_type": "display_data"
    },
    {
     "data": {
      "text/html": [
       "<script>\n",
       "    require(['d3'],  function(d3) {\n",
       "    d3.select(\".usersvg #circuitSDjracer\").attr(\"transform\", \"translate(12 3)\");\n",
       "    }); \n",
       "</script>\n"
      ]
     },
     "metadata": {},
     "output_type": "display_data"
    },
    {
     "data": {
      "text/html": [
       "<script>\n",
       "    require(['d3'],  function(d3) {\n",
       "    d3.select(\".usersvg #circuitSDjracer\").attr(\"transform\", \"translate(13 3)\");\n",
       "    }); \n",
       "</script>\n"
      ]
     },
     "metadata": {},
     "output_type": "display_data"
    },
    {
     "data": {
      "text/html": [
       "<script>\n",
       "    require(['d3'],  function(d3) {\n",
       "    d3.select(\".usersvg #circuitSDjracer\").attr(\"transform\", \"translate(14 3)\");\n",
       "    }); \n",
       "</script>\n"
      ]
     },
     "metadata": {},
     "output_type": "display_data"
    },
    {
     "data": {
      "text/html": [
       "<script>\n",
       "    require(['d3'],  function(d3) {\n",
       "    d3.select(\".usersvg #circuitSDjracer\").attr(\"transform\", \"translate(15 3)\");\n",
       "    }); \n",
       "</script>\n"
      ]
     },
     "metadata": {},
     "output_type": "display_data"
    },
    {
     "data": {
      "text/html": [
       "<script>\n",
       "    require(['d3'],  function(d3) {\n",
       "    d3.select(\".usersvg #circuitSDjracer\").attr(\"transform\", \"translate(16 3)\");\n",
       "    }); \n",
       "</script>\n"
      ]
     },
     "metadata": {},
     "output_type": "display_data"
    },
    {
     "data": {
      "text/html": [
       "<script>\n",
       "    require(['d3'],  function(d3) {\n",
       "    d3.select(\".usersvg #circuitSDjracer\").attr(\"transform\", \"translate(17 3)\");\n",
       "    }); \n",
       "</script>\n"
      ]
     },
     "metadata": {},
     "output_type": "display_data"
    },
    {
     "data": {
      "text/html": [
       "<script>\n",
       "    require(['d3'],  function(d3) {\n",
       "    d3.select(\".usersvg #circuitSDjracer\").attr(\"transform\", \"translate(18 3)\");\n",
       "    }); \n",
       "</script>\n"
      ]
     },
     "metadata": {},
     "output_type": "display_data"
    },
    {
     "data": {
      "text/html": [
       "<script>\n",
       "    require(['d3'],  function(d3) {\n",
       "    d3.select(\".usersvg #circuitSDjracer\").attr(\"transform\", \"translate(19 3)\");\n",
       "    }); \n",
       "</script>\n"
      ]
     },
     "metadata": {},
     "output_type": "display_data"
    },
    {
     "data": {
      "text/html": [
       "<script>\n",
       "    require(['d3'],  function(d3) {\n",
       "    d3.select(\".usersvg #circuitSDjracer\").attr(\"transform\", \"translate(20 3)\");\n",
       "    }); \n",
       "</script>\n"
      ]
     },
     "metadata": {},
     "output_type": "display_data"
    },
    {
     "data": {
      "text/html": [
       "<script>\n",
       "    require(['d3'],  function(d3) {\n",
       "    d3.select(\".usersvg #circuitSDjracer\").attr(\"transform\", \"translate(21 3)\");\n",
       "    }); \n",
       "</script>\n"
      ]
     },
     "metadata": {},
     "output_type": "display_data"
    },
    {
     "data": {
      "text/html": [
       "<script>\n",
       "    require(['d3'],  function(d3) {\n",
       "    d3.select(\".usersvg #circuitSDjracer\").attr(\"transform\", \"translate(22 3)\");\n",
       "    }); \n",
       "</script>\n"
      ]
     },
     "metadata": {},
     "output_type": "display_data"
    },
    {
     "data": {
      "text/html": [
       "<script>\n",
       "    require(['d3'],  function(d3) {\n",
       "    d3.select(\".usersvg #circuitSDjracer\").attr(\"transform\", \"translate(23 3)\");\n",
       "    }); \n",
       "</script>\n"
      ]
     },
     "metadata": {},
     "output_type": "display_data"
    },
    {
     "data": {
      "text/html": [
       "<script>\n",
       "    require(['d3'],  function(d3) {\n",
       "    d3.select(\".usersvg #circuitSDjracer\").attr(\"transform\", \"translate(24 3)\");\n",
       "    }); \n",
       "</script>\n"
      ]
     },
     "metadata": {},
     "output_type": "display_data"
    },
    {
     "data": {
      "text/html": [
       "<script>\n",
       "    require(['d3'],  function(d3) {\n",
       "    d3.select(\".usersvg #circuitSDjracer\").attr(\"transform\", \"translate(25 3)\");\n",
       "    }); \n",
       "</script>\n"
      ]
     },
     "metadata": {},
     "output_type": "display_data"
    },
    {
     "data": {
      "text/html": [
       "<script>\n",
       "    require(['d3'],  function(d3) {\n",
       "    d3.select(\".usersvg #circuitSDjracer\").attr(\"transform\", \"translate(26 3)\");\n",
       "    }); \n",
       "</script>\n"
      ]
     },
     "metadata": {},
     "output_type": "display_data"
    },
    {
     "data": {
      "text/html": [
       "<script>\n",
       "    require(['d3'],  function(d3) {\n",
       "    d3.select(\".usersvg #circuitSDjracer\").attr(\"transform\", \"translate(27 3)\");\n",
       "    }); \n",
       "</script>\n"
      ]
     },
     "metadata": {},
     "output_type": "display_data"
    },
    {
     "data": {
      "text/html": [
       "<script>\n",
       "    require(['d3'],  function(d3) {\n",
       "    d3.select(\".usersvg #circuitSDjracer\").attr(\"transform\", \"translate(28 3)\");\n",
       "    }); \n",
       "</script>\n"
      ]
     },
     "metadata": {},
     "output_type": "display_data"
    },
    {
     "data": {
      "text/html": [
       "<script>\n",
       "    require(['d3'],  function(d3) {\n",
       "    d3.select(\".usersvg #circuitSDjracer\").attr(\"transform\", \"translate(29 3)\");\n",
       "    }); \n",
       "</script>\n"
      ]
     },
     "metadata": {},
     "output_type": "display_data"
    },
    {
     "data": {
      "text/html": [
       "<script>\n",
       "    require(['d3'],  function(d3) {\n",
       "    d3.select(\".usersvg #circuitSDjracer\").attr(\"transform\", \"translate(0 4)\");\n",
       "    }); \n",
       "</script>\n"
      ]
     },
     "metadata": {},
     "output_type": "display_data"
    },
    {
     "data": {
      "text/html": [
       "<script>\n",
       "    require(['d3'],  function(d3) {\n",
       "    d3.select(\".usersvg #circuitSDjracer\").attr(\"transform\", \"translate(1 4)\");\n",
       "    }); \n",
       "</script>\n"
      ]
     },
     "metadata": {},
     "output_type": "display_data"
    },
    {
     "data": {
      "text/html": [
       "<script>\n",
       "    require(['d3'],  function(d3) {\n",
       "    d3.select(\".usersvg #circuitSDjracer\").attr(\"transform\", \"translate(2 4)\");\n",
       "    }); \n",
       "</script>\n"
      ]
     },
     "metadata": {},
     "output_type": "display_data"
    },
    {
     "data": {
      "text/html": [
       "<script>\n",
       "    require(['d3'],  function(d3) {\n",
       "    d3.select(\".usersvg #circuitSDjracer\").attr(\"transform\", \"translate(3 4)\");\n",
       "    }); \n",
       "</script>\n"
      ]
     },
     "metadata": {},
     "output_type": "display_data"
    },
    {
     "data": {
      "text/html": [
       "<script>\n",
       "    require(['d3'],  function(d3) {\n",
       "    d3.select(\".usersvg #circuitSDjracer\").attr(\"transform\", \"translate(4 4)\");\n",
       "    }); \n",
       "</script>\n"
      ]
     },
     "metadata": {},
     "output_type": "display_data"
    },
    {
     "data": {
      "text/html": [
       "<script>\n",
       "    require(['d3'],  function(d3) {\n",
       "    d3.select(\".usersvg #circuitSDjracer\").attr(\"transform\", \"translate(5 4)\");\n",
       "    }); \n",
       "</script>\n"
      ]
     },
     "metadata": {},
     "output_type": "display_data"
    },
    {
     "data": {
      "text/html": [
       "<script>\n",
       "    require(['d3'],  function(d3) {\n",
       "    d3.select(\".usersvg #circuitSDjracer\").attr(\"transform\", \"translate(6 4)\");\n",
       "    }); \n",
       "</script>\n"
      ]
     },
     "metadata": {},
     "output_type": "display_data"
    },
    {
     "data": {
      "text/html": [
       "<script>\n",
       "    require(['d3'],  function(d3) {\n",
       "    d3.select(\".usersvg #circuitSDjracer\").attr(\"transform\", \"translate(7 4)\");\n",
       "    }); \n",
       "</script>\n"
      ]
     },
     "metadata": {},
     "output_type": "display_data"
    },
    {
     "data": {
      "text/html": [
       "<script>\n",
       "    require(['d3'],  function(d3) {\n",
       "    d3.select(\".usersvg #circuitSDjracer\").attr(\"transform\", \"translate(8 4)\");\n",
       "    }); \n",
       "</script>\n"
      ]
     },
     "metadata": {},
     "output_type": "display_data"
    },
    {
     "data": {
      "text/html": [
       "<script>\n",
       "    require(['d3'],  function(d3) {\n",
       "    d3.select(\".usersvg #circuitSDjracer\").attr(\"transform\", \"translate(9 4)\");\n",
       "    }); \n",
       "</script>\n"
      ]
     },
     "metadata": {},
     "output_type": "display_data"
    },
    {
     "data": {
      "text/html": [
       "<script>\n",
       "    require(['d3'],  function(d3) {\n",
       "    d3.select(\".usersvg #circuitSDjracer\").attr(\"transform\", \"translate(10 4)\");\n",
       "    }); \n",
       "</script>\n"
      ]
     },
     "metadata": {},
     "output_type": "display_data"
    },
    {
     "data": {
      "text/html": [
       "<script>\n",
       "    require(['d3'],  function(d3) {\n",
       "    d3.select(\".usersvg #circuitSDjracer\").attr(\"transform\", \"translate(11 4)\");\n",
       "    }); \n",
       "</script>\n"
      ]
     },
     "metadata": {},
     "output_type": "display_data"
    },
    {
     "data": {
      "text/html": [
       "<script>\n",
       "    require(['d3'],  function(d3) {\n",
       "    d3.select(\".usersvg #circuitSDjracer\").attr(\"transform\", \"translate(12 4)\");\n",
       "    }); \n",
       "</script>\n"
      ]
     },
     "metadata": {},
     "output_type": "display_data"
    },
    {
     "data": {
      "text/html": [
       "<script>\n",
       "    require(['d3'],  function(d3) {\n",
       "    d3.select(\".usersvg #circuitSDjracer\").attr(\"transform\", \"translate(13 4)\");\n",
       "    }); \n",
       "</script>\n"
      ]
     },
     "metadata": {},
     "output_type": "display_data"
    },
    {
     "data": {
      "text/html": [
       "<script>\n",
       "    require(['d3'],  function(d3) {\n",
       "    d3.select(\".usersvg #circuitSDjracer\").attr(\"transform\", \"translate(14 4)\");\n",
       "    }); \n",
       "</script>\n"
      ]
     },
     "metadata": {},
     "output_type": "display_data"
    },
    {
     "data": {
      "text/html": [
       "<script>\n",
       "    require(['d3'],  function(d3) {\n",
       "    d3.select(\".usersvg #circuitSDjracer\").attr(\"transform\", \"translate(15 4)\");\n",
       "    }); \n",
       "</script>\n"
      ]
     },
     "metadata": {},
     "output_type": "display_data"
    },
    {
     "data": {
      "text/html": [
       "<script>\n",
       "    require(['d3'],  function(d3) {\n",
       "    d3.select(\".usersvg #circuitSDjracer\").attr(\"transform\", \"translate(16 4)\");\n",
       "    }); \n",
       "</script>\n"
      ]
     },
     "metadata": {},
     "output_type": "display_data"
    },
    {
     "data": {
      "text/html": [
       "<script>\n",
       "    require(['d3'],  function(d3) {\n",
       "    d3.select(\".usersvg #circuitSDjracer\").attr(\"transform\", \"translate(17 4)\");\n",
       "    }); \n",
       "</script>\n"
      ]
     },
     "metadata": {},
     "output_type": "display_data"
    },
    {
     "data": {
      "text/html": [
       "<script>\n",
       "    require(['d3'],  function(d3) {\n",
       "    d3.select(\".usersvg #circuitSDjracer\").attr(\"transform\", \"translate(18 4)\");\n",
       "    }); \n",
       "</script>\n"
      ]
     },
     "metadata": {},
     "output_type": "display_data"
    },
    {
     "data": {
      "text/html": [
       "<script>\n",
       "    require(['d3'],  function(d3) {\n",
       "    d3.select(\".usersvg #circuitSDjracer\").attr(\"transform\", \"translate(19 4)\");\n",
       "    }); \n",
       "</script>\n"
      ]
     },
     "metadata": {},
     "output_type": "display_data"
    },
    {
     "data": {
      "text/html": [
       "<script>\n",
       "    require(['d3'],  function(d3) {\n",
       "    d3.select(\".usersvg #circuitSDjracer\").attr(\"transform\", \"translate(20 4)\");\n",
       "    }); \n",
       "</script>\n"
      ]
     },
     "metadata": {},
     "output_type": "display_data"
    },
    {
     "data": {
      "text/html": [
       "<script>\n",
       "    require(['d3'],  function(d3) {\n",
       "    d3.select(\".usersvg #circuitSDjracer\").attr(\"transform\", \"translate(21 4)\");\n",
       "    }); \n",
       "</script>\n"
      ]
     },
     "metadata": {},
     "output_type": "display_data"
    },
    {
     "data": {
      "text/html": [
       "<script>\n",
       "    require(['d3'],  function(d3) {\n",
       "    d3.select(\".usersvg #circuitSDjracer\").attr(\"transform\", \"translate(22 4)\");\n",
       "    }); \n",
       "</script>\n"
      ]
     },
     "metadata": {},
     "output_type": "display_data"
    },
    {
     "data": {
      "text/html": [
       "<script>\n",
       "    require(['d3'],  function(d3) {\n",
       "    d3.select(\".usersvg #circuitSDjracer\").attr(\"transform\", \"translate(23 4)\");\n",
       "    }); \n",
       "</script>\n"
      ]
     },
     "metadata": {},
     "output_type": "display_data"
    },
    {
     "data": {
      "text/html": [
       "<script>\n",
       "    require(['d3'],  function(d3) {\n",
       "    d3.select(\".usersvg #circuitSDjracer\").attr(\"transform\", \"translate(24 4)\");\n",
       "    }); \n",
       "</script>\n"
      ]
     },
     "metadata": {},
     "output_type": "display_data"
    },
    {
     "data": {
      "text/html": [
       "<script>\n",
       "    require(['d3'],  function(d3) {\n",
       "    d3.select(\".usersvg #circuitSDjracer\").attr(\"transform\", \"translate(25 4)\");\n",
       "    }); \n",
       "</script>\n"
      ]
     },
     "metadata": {},
     "output_type": "display_data"
    },
    {
     "data": {
      "text/html": [
       "<script>\n",
       "    require(['d3'],  function(d3) {\n",
       "    d3.select(\".usersvg #circuitSDjracer\").attr(\"transform\", \"translate(26 4)\");\n",
       "    }); \n",
       "</script>\n"
      ]
     },
     "metadata": {},
     "output_type": "display_data"
    },
    {
     "data": {
      "text/html": [
       "<script>\n",
       "    require(['d3'],  function(d3) {\n",
       "    d3.select(\".usersvg #circuitSDjracer\").attr(\"transform\", \"translate(27 4)\");\n",
       "    }); \n",
       "</script>\n"
      ]
     },
     "metadata": {},
     "output_type": "display_data"
    },
    {
     "data": {
      "text/html": [
       "<script>\n",
       "    require(['d3'],  function(d3) {\n",
       "    d3.select(\".usersvg #circuitSDjracer\").attr(\"transform\", \"translate(28 4)\");\n",
       "    }); \n",
       "</script>\n"
      ]
     },
     "metadata": {},
     "output_type": "display_data"
    },
    {
     "data": {
      "text/html": [
       "<script>\n",
       "    require(['d3'],  function(d3) {\n",
       "    d3.select(\".usersvg #circuitSDjracer\").attr(\"transform\", \"translate(29 4)\");\n",
       "    }); \n",
       "</script>\n"
      ]
     },
     "metadata": {},
     "output_type": "display_data"
    },
    {
     "data": {
      "text/html": [
       "<script>\n",
       "    require(['d3'],  function(d3) {\n",
       "    d3.select(\".usersvg #circuitSDjracer\").attr(\"transform\", \"translate(0 5)\");\n",
       "    }); \n",
       "</script>\n"
      ]
     },
     "metadata": {},
     "output_type": "display_data"
    },
    {
     "data": {
      "text/html": [
       "<script>\n",
       "    require(['d3'],  function(d3) {\n",
       "    d3.select(\".usersvg #circuitSDjracer\").attr(\"transform\", \"translate(1 5)\");\n",
       "    }); \n",
       "</script>\n"
      ]
     },
     "metadata": {},
     "output_type": "display_data"
    },
    {
     "data": {
      "text/html": [
       "<script>\n",
       "    require(['d3'],  function(d3) {\n",
       "    d3.select(\".usersvg #circuitSDjracer\").attr(\"transform\", \"translate(2 5)\");\n",
       "    }); \n",
       "</script>\n"
      ]
     },
     "metadata": {},
     "output_type": "display_data"
    },
    {
     "data": {
      "text/html": [
       "<script>\n",
       "    require(['d3'],  function(d3) {\n",
       "    d3.select(\".usersvg #circuitSDjracer\").attr(\"transform\", \"translate(3 5)\");\n",
       "    }); \n",
       "</script>\n"
      ]
     },
     "metadata": {},
     "output_type": "display_data"
    },
    {
     "data": {
      "text/html": [
       "<script>\n",
       "    require(['d3'],  function(d3) {\n",
       "    d3.select(\".usersvg #circuitSDjracer\").attr(\"transform\", \"translate(4 5)\");\n",
       "    }); \n",
       "</script>\n"
      ]
     },
     "metadata": {},
     "output_type": "display_data"
    },
    {
     "data": {
      "text/html": [
       "<script>\n",
       "    require(['d3'],  function(d3) {\n",
       "    d3.select(\".usersvg #circuitSDjracer\").attr(\"transform\", \"translate(5 5)\");\n",
       "    }); \n",
       "</script>\n"
      ]
     },
     "metadata": {},
     "output_type": "display_data"
    },
    {
     "data": {
      "text/html": [
       "<script>\n",
       "    require(['d3'],  function(d3) {\n",
       "    d3.select(\".usersvg #circuitSDjracer\").attr(\"transform\", \"translate(6 5)\");\n",
       "    }); \n",
       "</script>\n"
      ]
     },
     "metadata": {},
     "output_type": "display_data"
    },
    {
     "data": {
      "text/html": [
       "<script>\n",
       "    require(['d3'],  function(d3) {\n",
       "    d3.select(\".usersvg #circuitSDjracer\").attr(\"transform\", \"translate(7 5)\");\n",
       "    }); \n",
       "</script>\n"
      ]
     },
     "metadata": {},
     "output_type": "display_data"
    },
    {
     "data": {
      "text/html": [
       "<script>\n",
       "    require(['d3'],  function(d3) {\n",
       "    d3.select(\".usersvg #circuitSDjracer\").attr(\"transform\", \"translate(8 5)\");\n",
       "    }); \n",
       "</script>\n"
      ]
     },
     "metadata": {},
     "output_type": "display_data"
    },
    {
     "data": {
      "text/html": [
       "<script>\n",
       "    require(['d3'],  function(d3) {\n",
       "    d3.select(\".usersvg #circuitSDjracer\").attr(\"transform\", \"translate(9 5)\");\n",
       "    }); \n",
       "</script>\n"
      ]
     },
     "metadata": {},
     "output_type": "display_data"
    },
    {
     "data": {
      "text/html": [
       "<script>\n",
       "    require(['d3'],  function(d3) {\n",
       "    d3.select(\".usersvg #circuitSDjracer\").attr(\"transform\", \"translate(10 5)\");\n",
       "    }); \n",
       "</script>\n"
      ]
     },
     "metadata": {},
     "output_type": "display_data"
    },
    {
     "data": {
      "text/html": [
       "<script>\n",
       "    require(['d3'],  function(d3) {\n",
       "    d3.select(\".usersvg #circuitSDjracer\").attr(\"transform\", \"translate(11 5)\");\n",
       "    }); \n",
       "</script>\n"
      ]
     },
     "metadata": {},
     "output_type": "display_data"
    },
    {
     "data": {
      "text/html": [
       "<script>\n",
       "    require(['d3'],  function(d3) {\n",
       "    d3.select(\".usersvg #circuitSDjracer\").attr(\"transform\", \"translate(12 5)\");\n",
       "    }); \n",
       "</script>\n"
      ]
     },
     "metadata": {},
     "output_type": "display_data"
    },
    {
     "data": {
      "text/html": [
       "<script>\n",
       "    require(['d3'],  function(d3) {\n",
       "    d3.select(\".usersvg #circuitSDjracer\").attr(\"transform\", \"translate(13 5)\");\n",
       "    }); \n",
       "</script>\n"
      ]
     },
     "metadata": {},
     "output_type": "display_data"
    },
    {
     "data": {
      "text/html": [
       "<script>\n",
       "    require(['d3'],  function(d3) {\n",
       "    d3.select(\".usersvg #circuitSDjracer\").attr(\"transform\", \"translate(14 5)\");\n",
       "    }); \n",
       "</script>\n"
      ]
     },
     "metadata": {},
     "output_type": "display_data"
    },
    {
     "data": {
      "text/html": [
       "<script>\n",
       "    require(['d3'],  function(d3) {\n",
       "    d3.select(\".usersvg #circuitSDjracer\").attr(\"transform\", \"translate(15 5)\");\n",
       "    }); \n",
       "</script>\n"
      ]
     },
     "metadata": {},
     "output_type": "display_data"
    },
    {
     "data": {
      "text/html": [
       "<script>\n",
       "    require(['d3'],  function(d3) {\n",
       "    d3.select(\".usersvg #circuitSDjracer\").attr(\"transform\", \"translate(16 5)\");\n",
       "    }); \n",
       "</script>\n"
      ]
     },
     "metadata": {},
     "output_type": "display_data"
    },
    {
     "data": {
      "text/html": [
       "<script>\n",
       "    require(['d3'],  function(d3) {\n",
       "    d3.select(\".usersvg #circuitSDjracer\").attr(\"transform\", \"translate(17 5)\");\n",
       "    }); \n",
       "</script>\n"
      ]
     },
     "metadata": {},
     "output_type": "display_data"
    },
    {
     "data": {
      "text/html": [
       "<script>\n",
       "    require(['d3'],  function(d3) {\n",
       "    d3.select(\".usersvg #circuitSDjracer\").attr(\"transform\", \"translate(18 5)\");\n",
       "    }); \n",
       "</script>\n"
      ]
     },
     "metadata": {},
     "output_type": "display_data"
    },
    {
     "data": {
      "text/html": [
       "<script>\n",
       "    require(['d3'],  function(d3) {\n",
       "    d3.select(\".usersvg #circuitSDjracer\").attr(\"transform\", \"translate(19 5)\");\n",
       "    }); \n",
       "</script>\n"
      ]
     },
     "metadata": {},
     "output_type": "display_data"
    },
    {
     "data": {
      "text/html": [
       "<script>\n",
       "    require(['d3'],  function(d3) {\n",
       "    d3.select(\".usersvg #circuitSDjracer\").attr(\"transform\", \"translate(20 5)\");\n",
       "    }); \n",
       "</script>\n"
      ]
     },
     "metadata": {},
     "output_type": "display_data"
    },
    {
     "data": {
      "text/html": [
       "<script>\n",
       "    require(['d3'],  function(d3) {\n",
       "    d3.select(\".usersvg #circuitSDjracer\").attr(\"transform\", \"translate(21 5)\");\n",
       "    }); \n",
       "</script>\n"
      ]
     },
     "metadata": {},
     "output_type": "display_data"
    },
    {
     "data": {
      "text/html": [
       "<script>\n",
       "    require(['d3'],  function(d3) {\n",
       "    d3.select(\".usersvg #circuitSDjracer\").attr(\"transform\", \"translate(22 5)\");\n",
       "    }); \n",
       "</script>\n"
      ]
     },
     "metadata": {},
     "output_type": "display_data"
    },
    {
     "data": {
      "text/html": [
       "<script>\n",
       "    require(['d3'],  function(d3) {\n",
       "    d3.select(\".usersvg #circuitSDjracer\").attr(\"transform\", \"translate(23 5)\");\n",
       "    }); \n",
       "</script>\n"
      ]
     },
     "metadata": {},
     "output_type": "display_data"
    },
    {
     "data": {
      "text/html": [
       "<script>\n",
       "    require(['d3'],  function(d3) {\n",
       "    d3.select(\".usersvg #circuitSDjracer\").attr(\"transform\", \"translate(24 5)\");\n",
       "    }); \n",
       "</script>\n"
      ]
     },
     "metadata": {},
     "output_type": "display_data"
    },
    {
     "data": {
      "text/html": [
       "<script>\n",
       "    require(['d3'],  function(d3) {\n",
       "    d3.select(\".usersvg #circuitSDjracer\").attr(\"transform\", \"translate(25 5)\");\n",
       "    }); \n",
       "</script>\n"
      ]
     },
     "metadata": {},
     "output_type": "display_data"
    },
    {
     "data": {
      "text/html": [
       "<script>\n",
       "    require(['d3'],  function(d3) {\n",
       "    d3.select(\".usersvg #circuitSDjracer\").attr(\"transform\", \"translate(26 5)\");\n",
       "    }); \n",
       "</script>\n"
      ]
     },
     "metadata": {},
     "output_type": "display_data"
    },
    {
     "data": {
      "text/html": [
       "<script>\n",
       "    require(['d3'],  function(d3) {\n",
       "    d3.select(\".usersvg #circuitSDjracer\").attr(\"transform\", \"translate(27 5)\");\n",
       "    }); \n",
       "</script>\n"
      ]
     },
     "metadata": {},
     "output_type": "display_data"
    },
    {
     "data": {
      "text/html": [
       "<script>\n",
       "    require(['d3'],  function(d3) {\n",
       "    d3.select(\".usersvg #circuitSDjracer\").attr(\"transform\", \"translate(28 5)\");\n",
       "    }); \n",
       "</script>\n"
      ]
     },
     "metadata": {},
     "output_type": "display_data"
    },
    {
     "data": {
      "text/html": [
       "<script>\n",
       "    require(['d3'],  function(d3) {\n",
       "    d3.select(\".usersvg #circuitSDjracer\").attr(\"transform\", \"translate(29 5)\");\n",
       "    }); \n",
       "</script>\n"
      ]
     },
     "metadata": {},
     "output_type": "display_data"
    },
    {
     "data": {
      "text/html": [
       "<script>\n",
       "    require(['d3'],  function(d3) {\n",
       "    d3.select(\".usersvg #circuitSDjracer\").attr(\"transform\", \"translate(0 6)\");\n",
       "    }); \n",
       "</script>\n"
      ]
     },
     "metadata": {},
     "output_type": "display_data"
    },
    {
     "data": {
      "text/html": [
       "<script>\n",
       "    require(['d3'],  function(d3) {\n",
       "    d3.select(\".usersvg #circuitSDjracer\").attr(\"transform\", \"translate(1 6)\");\n",
       "    }); \n",
       "</script>\n"
      ]
     },
     "metadata": {},
     "output_type": "display_data"
    },
    {
     "data": {
      "text/html": [
       "<script>\n",
       "    require(['d3'],  function(d3) {\n",
       "    d3.select(\".usersvg #circuitSDjracer\").attr(\"transform\", \"translate(2 6)\");\n",
       "    }); \n",
       "</script>\n"
      ]
     },
     "metadata": {},
     "output_type": "display_data"
    },
    {
     "data": {
      "text/html": [
       "<script>\n",
       "    require(['d3'],  function(d3) {\n",
       "    d3.select(\".usersvg #circuitSDjracer\").attr(\"transform\", \"translate(3 6)\");\n",
       "    }); \n",
       "</script>\n"
      ]
     },
     "metadata": {},
     "output_type": "display_data"
    },
    {
     "data": {
      "text/html": [
       "<script>\n",
       "    require(['d3'],  function(d3) {\n",
       "    d3.select(\".usersvg #circuitSDjracer\").attr(\"transform\", \"translate(4 6)\");\n",
       "    }); \n",
       "</script>\n"
      ]
     },
     "metadata": {},
     "output_type": "display_data"
    },
    {
     "data": {
      "text/html": [
       "<script>\n",
       "    require(['d3'],  function(d3) {\n",
       "    d3.select(\".usersvg #circuitSDjracer\").attr(\"transform\", \"translate(5 6)\");\n",
       "    }); \n",
       "</script>\n"
      ]
     },
     "metadata": {},
     "output_type": "display_data"
    },
    {
     "data": {
      "text/html": [
       "<script>\n",
       "    require(['d3'],  function(d3) {\n",
       "    d3.select(\".usersvg #circuitSDjracer\").attr(\"transform\", \"translate(6 6)\");\n",
       "    }); \n",
       "</script>\n"
      ]
     },
     "metadata": {},
     "output_type": "display_data"
    },
    {
     "data": {
      "text/html": [
       "<script>\n",
       "    require(['d3'],  function(d3) {\n",
       "    d3.select(\".usersvg #circuitSDjracer\").attr(\"transform\", \"translate(7 6)\");\n",
       "    }); \n",
       "</script>\n"
      ]
     },
     "metadata": {},
     "output_type": "display_data"
    },
    {
     "data": {
      "text/html": [
       "<script>\n",
       "    require(['d3'],  function(d3) {\n",
       "    d3.select(\".usersvg #circuitSDjracer\").attr(\"transform\", \"translate(8 6)\");\n",
       "    }); \n",
       "</script>\n"
      ]
     },
     "metadata": {},
     "output_type": "display_data"
    },
    {
     "data": {
      "text/html": [
       "<script>\n",
       "    require(['d3'],  function(d3) {\n",
       "    d3.select(\".usersvg #circuitSDjracer\").attr(\"transform\", \"translate(9 6)\");\n",
       "    }); \n",
       "</script>\n"
      ]
     },
     "metadata": {},
     "output_type": "display_data"
    },
    {
     "data": {
      "text/html": [
       "<script>\n",
       "    require(['d3'],  function(d3) {\n",
       "    d3.select(\".usersvg #circuitSDjracer\").attr(\"transform\", \"translate(10 6)\");\n",
       "    }); \n",
       "</script>\n"
      ]
     },
     "metadata": {},
     "output_type": "display_data"
    },
    {
     "data": {
      "text/html": [
       "<script>\n",
       "    require(['d3'],  function(d3) {\n",
       "    d3.select(\".usersvg #circuitSDjracer\").attr(\"transform\", \"translate(11 6)\");\n",
       "    }); \n",
       "</script>\n"
      ]
     },
     "metadata": {},
     "output_type": "display_data"
    },
    {
     "data": {
      "text/html": [
       "<script>\n",
       "    require(['d3'],  function(d3) {\n",
       "    d3.select(\".usersvg #circuitSDjracer\").attr(\"transform\", \"translate(12 6)\");\n",
       "    }); \n",
       "</script>\n"
      ]
     },
     "metadata": {},
     "output_type": "display_data"
    },
    {
     "data": {
      "text/html": [
       "<script>\n",
       "    require(['d3'],  function(d3) {\n",
       "    d3.select(\".usersvg #circuitSDjracer\").attr(\"transform\", \"translate(13 6)\");\n",
       "    }); \n",
       "</script>\n"
      ]
     },
     "metadata": {},
     "output_type": "display_data"
    },
    {
     "data": {
      "text/html": [
       "<script>\n",
       "    require(['d3'],  function(d3) {\n",
       "    d3.select(\".usersvg #circuitSDjracer\").attr(\"transform\", \"translate(14 6)\");\n",
       "    }); \n",
       "</script>\n"
      ]
     },
     "metadata": {},
     "output_type": "display_data"
    },
    {
     "data": {
      "text/html": [
       "<script>\n",
       "    require(['d3'],  function(d3) {\n",
       "    d3.select(\".usersvg #circuitSDjracer\").attr(\"transform\", \"translate(15 6)\");\n",
       "    }); \n",
       "</script>\n"
      ]
     },
     "metadata": {},
     "output_type": "display_data"
    },
    {
     "data": {
      "text/html": [
       "<script>\n",
       "    require(['d3'],  function(d3) {\n",
       "    d3.select(\".usersvg #circuitSDjracer\").attr(\"transform\", \"translate(16 6)\");\n",
       "    }); \n",
       "</script>\n"
      ]
     },
     "metadata": {},
     "output_type": "display_data"
    },
    {
     "data": {
      "text/html": [
       "<script>\n",
       "    require(['d3'],  function(d3) {\n",
       "    d3.select(\".usersvg #circuitSDjracer\").attr(\"transform\", \"translate(17 6)\");\n",
       "    }); \n",
       "</script>\n"
      ]
     },
     "metadata": {},
     "output_type": "display_data"
    },
    {
     "data": {
      "text/html": [
       "<script>\n",
       "    require(['d3'],  function(d3) {\n",
       "    d3.select(\".usersvg #circuitSDjracer\").attr(\"transform\", \"translate(18 6)\");\n",
       "    }); \n",
       "</script>\n"
      ]
     },
     "metadata": {},
     "output_type": "display_data"
    },
    {
     "data": {
      "text/html": [
       "<script>\n",
       "    require(['d3'],  function(d3) {\n",
       "    d3.select(\".usersvg #circuitSDjracer\").attr(\"transform\", \"translate(19 6)\");\n",
       "    }); \n",
       "</script>\n"
      ]
     },
     "metadata": {},
     "output_type": "display_data"
    },
    {
     "data": {
      "text/html": [
       "<script>\n",
       "    require(['d3'],  function(d3) {\n",
       "    d3.select(\".usersvg #circuitSDjracer\").attr(\"transform\", \"translate(20 6)\");\n",
       "    }); \n",
       "</script>\n"
      ]
     },
     "metadata": {},
     "output_type": "display_data"
    },
    {
     "data": {
      "text/html": [
       "<script>\n",
       "    require(['d3'],  function(d3) {\n",
       "    d3.select(\".usersvg #circuitSDjracer\").attr(\"transform\", \"translate(21 6)\");\n",
       "    }); \n",
       "</script>\n"
      ]
     },
     "metadata": {},
     "output_type": "display_data"
    },
    {
     "data": {
      "text/html": [
       "<script>\n",
       "    require(['d3'],  function(d3) {\n",
       "    d3.select(\".usersvg #circuitSDjracer\").attr(\"transform\", \"translate(22 6)\");\n",
       "    }); \n",
       "</script>\n"
      ]
     },
     "metadata": {},
     "output_type": "display_data"
    },
    {
     "data": {
      "text/html": [
       "<script>\n",
       "    require(['d3'],  function(d3) {\n",
       "    d3.select(\".usersvg #circuitSDjracer\").attr(\"transform\", \"translate(23 6)\");\n",
       "    }); \n",
       "</script>\n"
      ]
     },
     "metadata": {},
     "output_type": "display_data"
    },
    {
     "data": {
      "text/html": [
       "<script>\n",
       "    require(['d3'],  function(d3) {\n",
       "    d3.select(\".usersvg #circuitSDjracer\").attr(\"transform\", \"translate(24 6)\");\n",
       "    }); \n",
       "</script>\n"
      ]
     },
     "metadata": {},
     "output_type": "display_data"
    },
    {
     "data": {
      "text/html": [
       "<script>\n",
       "    require(['d3'],  function(d3) {\n",
       "    d3.select(\".usersvg #circuitSDjracer\").attr(\"transform\", \"translate(25 6)\");\n",
       "    }); \n",
       "</script>\n"
      ]
     },
     "metadata": {},
     "output_type": "display_data"
    },
    {
     "data": {
      "text/html": [
       "<script>\n",
       "    require(['d3'],  function(d3) {\n",
       "    d3.select(\".usersvg #circuitSDjracer\").attr(\"transform\", \"translate(26 6)\");\n",
       "    }); \n",
       "</script>\n"
      ]
     },
     "metadata": {},
     "output_type": "display_data"
    },
    {
     "data": {
      "text/html": [
       "<script>\n",
       "    require(['d3'],  function(d3) {\n",
       "    d3.select(\".usersvg #circuitSDjracer\").attr(\"transform\", \"translate(27 6)\");\n",
       "    }); \n",
       "</script>\n"
      ]
     },
     "metadata": {},
     "output_type": "display_data"
    },
    {
     "data": {
      "text/html": [
       "<script>\n",
       "    require(['d3'],  function(d3) {\n",
       "    d3.select(\".usersvg #circuitSDjracer\").attr(\"transform\", \"translate(28 6)\");\n",
       "    }); \n",
       "</script>\n"
      ]
     },
     "metadata": {},
     "output_type": "display_data"
    },
    {
     "data": {
      "text/html": [
       "<script>\n",
       "    require(['d3'],  function(d3) {\n",
       "    d3.select(\".usersvg #circuitSDjracer\").attr(\"transform\", \"translate(29 6)\");\n",
       "    }); \n",
       "</script>\n"
      ]
     },
     "metadata": {},
     "output_type": "display_data"
    },
    {
     "data": {
      "text/html": [
       "<script>\n",
       "    require(['d3'],  function(d3) {\n",
       "    d3.select(\".usersvg #circuitSDjracer\").attr(\"transform\", \"translate(0 7)\");\n",
       "    }); \n",
       "</script>\n"
      ]
     },
     "metadata": {},
     "output_type": "display_data"
    },
    {
     "data": {
      "text/html": [
       "<script>\n",
       "    require(['d3'],  function(d3) {\n",
       "    d3.select(\".usersvg #circuitSDjracer\").attr(\"transform\", \"translate(1 7)\");\n",
       "    }); \n",
       "</script>\n"
      ]
     },
     "metadata": {},
     "output_type": "display_data"
    },
    {
     "data": {
      "text/html": [
       "<script>\n",
       "    require(['d3'],  function(d3) {\n",
       "    d3.select(\".usersvg #circuitSDjracer\").attr(\"transform\", \"translate(2 7)\");\n",
       "    }); \n",
       "</script>\n"
      ]
     },
     "metadata": {},
     "output_type": "display_data"
    },
    {
     "data": {
      "text/html": [
       "<script>\n",
       "    require(['d3'],  function(d3) {\n",
       "    d3.select(\".usersvg #circuitSDjracer\").attr(\"transform\", \"translate(3 7)\");\n",
       "    }); \n",
       "</script>\n"
      ]
     },
     "metadata": {},
     "output_type": "display_data"
    },
    {
     "data": {
      "text/html": [
       "<script>\n",
       "    require(['d3'],  function(d3) {\n",
       "    d3.select(\".usersvg #circuitSDjracer\").attr(\"transform\", \"translate(4 7)\");\n",
       "    }); \n",
       "</script>\n"
      ]
     },
     "metadata": {},
     "output_type": "display_data"
    },
    {
     "data": {
      "text/html": [
       "<script>\n",
       "    require(['d3'],  function(d3) {\n",
       "    d3.select(\".usersvg #circuitSDjracer\").attr(\"transform\", \"translate(5 7)\");\n",
       "    }); \n",
       "</script>\n"
      ]
     },
     "metadata": {},
     "output_type": "display_data"
    },
    {
     "data": {
      "text/html": [
       "<script>\n",
       "    require(['d3'],  function(d3) {\n",
       "    d3.select(\".usersvg #circuitSDjracer\").attr(\"transform\", \"translate(6 7)\");\n",
       "    }); \n",
       "</script>\n"
      ]
     },
     "metadata": {},
     "output_type": "display_data"
    },
    {
     "data": {
      "text/html": [
       "<script>\n",
       "    require(['d3'],  function(d3) {\n",
       "    d3.select(\".usersvg #circuitSDjracer\").attr(\"transform\", \"translate(7 7)\");\n",
       "    }); \n",
       "</script>\n"
      ]
     },
     "metadata": {},
     "output_type": "display_data"
    },
    {
     "data": {
      "text/html": [
       "<script>\n",
       "    require(['d3'],  function(d3) {\n",
       "    d3.select(\".usersvg #circuitSDjracer\").attr(\"transform\", \"translate(8 7)\");\n",
       "    }); \n",
       "</script>\n"
      ]
     },
     "metadata": {},
     "output_type": "display_data"
    },
    {
     "data": {
      "text/html": [
       "<script>\n",
       "    require(['d3'],  function(d3) {\n",
       "    d3.select(\".usersvg #circuitSDjracer\").attr(\"transform\", \"translate(9 7)\");\n",
       "    }); \n",
       "</script>\n"
      ]
     },
     "metadata": {},
     "output_type": "display_data"
    },
    {
     "data": {
      "text/html": [
       "<script>\n",
       "    require(['d3'],  function(d3) {\n",
       "    d3.select(\".usersvg #circuitSDjracer\").attr(\"transform\", \"translate(10 7)\");\n",
       "    }); \n",
       "</script>\n"
      ]
     },
     "metadata": {},
     "output_type": "display_data"
    },
    {
     "data": {
      "text/html": [
       "<script>\n",
       "    require(['d3'],  function(d3) {\n",
       "    d3.select(\".usersvg #circuitSDjracer\").attr(\"transform\", \"translate(11 7)\");\n",
       "    }); \n",
       "</script>\n"
      ]
     },
     "metadata": {},
     "output_type": "display_data"
    },
    {
     "data": {
      "text/html": [
       "<script>\n",
       "    require(['d3'],  function(d3) {\n",
       "    d3.select(\".usersvg #circuitSDjracer\").attr(\"transform\", \"translate(12 7)\");\n",
       "    }); \n",
       "</script>\n"
      ]
     },
     "metadata": {},
     "output_type": "display_data"
    },
    {
     "data": {
      "text/html": [
       "<script>\n",
       "    require(['d3'],  function(d3) {\n",
       "    d3.select(\".usersvg #circuitSDjracer\").attr(\"transform\", \"translate(13 7)\");\n",
       "    }); \n",
       "</script>\n"
      ]
     },
     "metadata": {},
     "output_type": "display_data"
    },
    {
     "data": {
      "text/html": [
       "<script>\n",
       "    require(['d3'],  function(d3) {\n",
       "    d3.select(\".usersvg #circuitSDjracer\").attr(\"transform\", \"translate(14 7)\");\n",
       "    }); \n",
       "</script>\n"
      ]
     },
     "metadata": {},
     "output_type": "display_data"
    },
    {
     "data": {
      "text/html": [
       "<script>\n",
       "    require(['d3'],  function(d3) {\n",
       "    d3.select(\".usersvg #circuitSDjracer\").attr(\"transform\", \"translate(15 7)\");\n",
       "    }); \n",
       "</script>\n"
      ]
     },
     "metadata": {},
     "output_type": "display_data"
    },
    {
     "data": {
      "text/html": [
       "<script>\n",
       "    require(['d3'],  function(d3) {\n",
       "    d3.select(\".usersvg #circuitSDjracer\").attr(\"transform\", \"translate(16 7)\");\n",
       "    }); \n",
       "</script>\n"
      ]
     },
     "metadata": {},
     "output_type": "display_data"
    },
    {
     "data": {
      "text/html": [
       "<script>\n",
       "    require(['d3'],  function(d3) {\n",
       "    d3.select(\".usersvg #circuitSDjracer\").attr(\"transform\", \"translate(17 7)\");\n",
       "    }); \n",
       "</script>\n"
      ]
     },
     "metadata": {},
     "output_type": "display_data"
    },
    {
     "data": {
      "text/html": [
       "<script>\n",
       "    require(['d3'],  function(d3) {\n",
       "    d3.select(\".usersvg #circuitSDjracer\").attr(\"transform\", \"translate(18 7)\");\n",
       "    }); \n",
       "</script>\n"
      ]
     },
     "metadata": {},
     "output_type": "display_data"
    },
    {
     "data": {
      "text/html": [
       "<script>\n",
       "    require(['d3'],  function(d3) {\n",
       "    d3.select(\".usersvg #circuitSDjracer\").attr(\"transform\", \"translate(19 7)\");\n",
       "    }); \n",
       "</script>\n"
      ]
     },
     "metadata": {},
     "output_type": "display_data"
    },
    {
     "data": {
      "text/html": [
       "<script>\n",
       "    require(['d3'],  function(d3) {\n",
       "    d3.select(\".usersvg #circuitSDjracer\").attr(\"transform\", \"translate(20 7)\");\n",
       "    }); \n",
       "</script>\n"
      ]
     },
     "metadata": {},
     "output_type": "display_data"
    },
    {
     "data": {
      "text/html": [
       "<script>\n",
       "    require(['d3'],  function(d3) {\n",
       "    d3.select(\".usersvg #circuitSDjracer\").attr(\"transform\", \"translate(21 7)\");\n",
       "    }); \n",
       "</script>\n"
      ]
     },
     "metadata": {},
     "output_type": "display_data"
    },
    {
     "data": {
      "text/html": [
       "<script>\n",
       "    require(['d3'],  function(d3) {\n",
       "    d3.select(\".usersvg #circuitSDjracer\").attr(\"transform\", \"translate(22 7)\");\n",
       "    }); \n",
       "</script>\n"
      ]
     },
     "metadata": {},
     "output_type": "display_data"
    },
    {
     "data": {
      "text/html": [
       "<script>\n",
       "    require(['d3'],  function(d3) {\n",
       "    d3.select(\".usersvg #circuitSDjracer\").attr(\"transform\", \"translate(23 7)\");\n",
       "    }); \n",
       "</script>\n"
      ]
     },
     "metadata": {},
     "output_type": "display_data"
    },
    {
     "data": {
      "text/html": [
       "<script>\n",
       "    require(['d3'],  function(d3) {\n",
       "    d3.select(\".usersvg #circuitSDjracer\").attr(\"transform\", \"translate(24 7)\");\n",
       "    }); \n",
       "</script>\n"
      ]
     },
     "metadata": {},
     "output_type": "display_data"
    },
    {
     "data": {
      "text/html": [
       "<script>\n",
       "    require(['d3'],  function(d3) {\n",
       "    d3.select(\".usersvg #circuitSDjracer\").attr(\"transform\", \"translate(25 7)\");\n",
       "    }); \n",
       "</script>\n"
      ]
     },
     "metadata": {},
     "output_type": "display_data"
    },
    {
     "data": {
      "text/html": [
       "<script>\n",
       "    require(['d3'],  function(d3) {\n",
       "    d3.select(\".usersvg #circuitSDjracer\").attr(\"transform\", \"translate(26 7)\");\n",
       "    }); \n",
       "</script>\n"
      ]
     },
     "metadata": {},
     "output_type": "display_data"
    },
    {
     "data": {
      "text/html": [
       "<script>\n",
       "    require(['d3'],  function(d3) {\n",
       "    d3.select(\".usersvg #circuitSDjracer\").attr(\"transform\", \"translate(27 7)\");\n",
       "    }); \n",
       "</script>\n"
      ]
     },
     "metadata": {},
     "output_type": "display_data"
    },
    {
     "data": {
      "text/html": [
       "<script>\n",
       "    require(['d3'],  function(d3) {\n",
       "    d3.select(\".usersvg #circuitSDjracer\").attr(\"transform\", \"translate(28 7)\");\n",
       "    }); \n",
       "</script>\n"
      ]
     },
     "metadata": {},
     "output_type": "display_data"
    },
    {
     "data": {
      "text/html": [
       "<script>\n",
       "    require(['d3'],  function(d3) {\n",
       "    d3.select(\".usersvg #circuitSDjracer\").attr(\"transform\", \"translate(29 7)\");\n",
       "    }); \n",
       "</script>\n"
      ]
     },
     "metadata": {},
     "output_type": "display_data"
    },
    {
     "data": {
      "text/html": [
       "<script>\n",
       "    require(['d3'],  function(d3) {\n",
       "    d3.select(\".usersvg #circuitSDjracer\").attr(\"transform\", \"translate(0 8)\");\n",
       "    }); \n",
       "</script>\n"
      ]
     },
     "metadata": {},
     "output_type": "display_data"
    },
    {
     "data": {
      "text/html": [
       "<script>\n",
       "    require(['d3'],  function(d3) {\n",
       "    d3.select(\".usersvg #circuitSDjracer\").attr(\"transform\", \"translate(1 8)\");\n",
       "    }); \n",
       "</script>\n"
      ]
     },
     "metadata": {},
     "output_type": "display_data"
    },
    {
     "data": {
      "text/html": [
       "<script>\n",
       "    require(['d3'],  function(d3) {\n",
       "    d3.select(\".usersvg #circuitSDjracer\").attr(\"transform\", \"translate(2 8)\");\n",
       "    }); \n",
       "</script>\n"
      ]
     },
     "metadata": {},
     "output_type": "display_data"
    },
    {
     "data": {
      "text/html": [
       "<script>\n",
       "    require(['d3'],  function(d3) {\n",
       "    d3.select(\".usersvg #circuitSDjracer\").attr(\"transform\", \"translate(3 8)\");\n",
       "    }); \n",
       "</script>\n"
      ]
     },
     "metadata": {},
     "output_type": "display_data"
    },
    {
     "data": {
      "text/html": [
       "<script>\n",
       "    require(['d3'],  function(d3) {\n",
       "    d3.select(\".usersvg #circuitSDjracer\").attr(\"transform\", \"translate(4 8)\");\n",
       "    }); \n",
       "</script>\n"
      ]
     },
     "metadata": {},
     "output_type": "display_data"
    },
    {
     "data": {
      "text/html": [
       "<script>\n",
       "    require(['d3'],  function(d3) {\n",
       "    d3.select(\".usersvg #circuitSDjracer\").attr(\"transform\", \"translate(5 8)\");\n",
       "    }); \n",
       "</script>\n"
      ]
     },
     "metadata": {},
     "output_type": "display_data"
    },
    {
     "data": {
      "text/html": [
       "<script>\n",
       "    require(['d3'],  function(d3) {\n",
       "    d3.select(\".usersvg #circuitSDjracer\").attr(\"transform\", \"translate(6 8)\");\n",
       "    }); \n",
       "</script>\n"
      ]
     },
     "metadata": {},
     "output_type": "display_data"
    },
    {
     "data": {
      "text/html": [
       "<script>\n",
       "    require(['d3'],  function(d3) {\n",
       "    d3.select(\".usersvg #circuitSDjracer\").attr(\"transform\", \"translate(7 8)\");\n",
       "    }); \n",
       "</script>\n"
      ]
     },
     "metadata": {},
     "output_type": "display_data"
    },
    {
     "data": {
      "text/html": [
       "<script>\n",
       "    require(['d3'],  function(d3) {\n",
       "    d3.select(\".usersvg #circuitSDjracer\").attr(\"transform\", \"translate(8 8)\");\n",
       "    }); \n",
       "</script>\n"
      ]
     },
     "metadata": {},
     "output_type": "display_data"
    },
    {
     "data": {
      "text/html": [
       "<script>\n",
       "    require(['d3'],  function(d3) {\n",
       "    d3.select(\".usersvg #circuitSDjracer\").attr(\"transform\", \"translate(9 8)\");\n",
       "    }); \n",
       "</script>\n"
      ]
     },
     "metadata": {},
     "output_type": "display_data"
    },
    {
     "data": {
      "text/html": [
       "<script>\n",
       "    require(['d3'],  function(d3) {\n",
       "    d3.select(\".usersvg #circuitSDjracer\").attr(\"transform\", \"translate(10 8)\");\n",
       "    }); \n",
       "</script>\n"
      ]
     },
     "metadata": {},
     "output_type": "display_data"
    },
    {
     "data": {
      "text/html": [
       "<script>\n",
       "    require(['d3'],  function(d3) {\n",
       "    d3.select(\".usersvg #circuitSDjracer\").attr(\"transform\", \"translate(11 8)\");\n",
       "    }); \n",
       "</script>\n"
      ]
     },
     "metadata": {},
     "output_type": "display_data"
    },
    {
     "data": {
      "text/html": [
       "<script>\n",
       "    require(['d3'],  function(d3) {\n",
       "    d3.select(\".usersvg #circuitSDjracer\").attr(\"transform\", \"translate(12 8)\");\n",
       "    }); \n",
       "</script>\n"
      ]
     },
     "metadata": {},
     "output_type": "display_data"
    },
    {
     "data": {
      "text/html": [
       "<script>\n",
       "    require(['d3'],  function(d3) {\n",
       "    d3.select(\".usersvg #circuitSDjracer\").attr(\"transform\", \"translate(13 8)\");\n",
       "    }); \n",
       "</script>\n"
      ]
     },
     "metadata": {},
     "output_type": "display_data"
    },
    {
     "data": {
      "text/html": [
       "<script>\n",
       "    require(['d3'],  function(d3) {\n",
       "    d3.select(\".usersvg #circuitSDjracer\").attr(\"transform\", \"translate(14 8)\");\n",
       "    }); \n",
       "</script>\n"
      ]
     },
     "metadata": {},
     "output_type": "display_data"
    },
    {
     "data": {
      "text/html": [
       "<script>\n",
       "    require(['d3'],  function(d3) {\n",
       "    d3.select(\".usersvg #circuitSDjracer\").attr(\"transform\", \"translate(15 8)\");\n",
       "    }); \n",
       "</script>\n"
      ]
     },
     "metadata": {},
     "output_type": "display_data"
    },
    {
     "data": {
      "text/html": [
       "<script>\n",
       "    require(['d3'],  function(d3) {\n",
       "    d3.select(\".usersvg #circuitSDjracer\").attr(\"transform\", \"translate(16 8)\");\n",
       "    }); \n",
       "</script>\n"
      ]
     },
     "metadata": {},
     "output_type": "display_data"
    },
    {
     "data": {
      "text/html": [
       "<script>\n",
       "    require(['d3'],  function(d3) {\n",
       "    d3.select(\".usersvg #circuitSDjracer\").attr(\"transform\", \"translate(17 8)\");\n",
       "    }); \n",
       "</script>\n"
      ]
     },
     "metadata": {},
     "output_type": "display_data"
    },
    {
     "data": {
      "text/html": [
       "<script>\n",
       "    require(['d3'],  function(d3) {\n",
       "    d3.select(\".usersvg #circuitSDjracer\").attr(\"transform\", \"translate(18 8)\");\n",
       "    }); \n",
       "</script>\n"
      ]
     },
     "metadata": {},
     "output_type": "display_data"
    },
    {
     "data": {
      "text/html": [
       "<script>\n",
       "    require(['d3'],  function(d3) {\n",
       "    d3.select(\".usersvg #circuitSDjracer\").attr(\"transform\", \"translate(19 8)\");\n",
       "    }); \n",
       "</script>\n"
      ]
     },
     "metadata": {},
     "output_type": "display_data"
    },
    {
     "data": {
      "text/html": [
       "<script>\n",
       "    require(['d3'],  function(d3) {\n",
       "    d3.select(\".usersvg #circuitSDjracer\").attr(\"transform\", \"translate(20 8)\");\n",
       "    }); \n",
       "</script>\n"
      ]
     },
     "metadata": {},
     "output_type": "display_data"
    },
    {
     "data": {
      "text/html": [
       "<script>\n",
       "    require(['d3'],  function(d3) {\n",
       "    d3.select(\".usersvg #circuitSDjracer\").attr(\"transform\", \"translate(21 8)\");\n",
       "    }); \n",
       "</script>\n"
      ]
     },
     "metadata": {},
     "output_type": "display_data"
    },
    {
     "data": {
      "text/html": [
       "<script>\n",
       "    require(['d3'],  function(d3) {\n",
       "    d3.select(\".usersvg #circuitSDjracer\").attr(\"transform\", \"translate(22 8)\");\n",
       "    }); \n",
       "</script>\n"
      ]
     },
     "metadata": {},
     "output_type": "display_data"
    },
    {
     "data": {
      "text/html": [
       "<script>\n",
       "    require(['d3'],  function(d3) {\n",
       "    d3.select(\".usersvg #circuitSDjracer\").attr(\"transform\", \"translate(23 8)\");\n",
       "    }); \n",
       "</script>\n"
      ]
     },
     "metadata": {},
     "output_type": "display_data"
    },
    {
     "data": {
      "text/html": [
       "<script>\n",
       "    require(['d3'],  function(d3) {\n",
       "    d3.select(\".usersvg #circuitSDjracer\").attr(\"transform\", \"translate(24 8)\");\n",
       "    }); \n",
       "</script>\n"
      ]
     },
     "metadata": {},
     "output_type": "display_data"
    },
    {
     "data": {
      "text/html": [
       "<script>\n",
       "    require(['d3'],  function(d3) {\n",
       "    d3.select(\".usersvg #circuitSDjracer\").attr(\"transform\", \"translate(25 8)\");\n",
       "    }); \n",
       "</script>\n"
      ]
     },
     "metadata": {},
     "output_type": "display_data"
    },
    {
     "data": {
      "text/html": [
       "<script>\n",
       "    require(['d3'],  function(d3) {\n",
       "    d3.select(\".usersvg #circuitSDjracer\").attr(\"transform\", \"translate(26 8)\");\n",
       "    }); \n",
       "</script>\n"
      ]
     },
     "metadata": {},
     "output_type": "display_data"
    },
    {
     "data": {
      "text/html": [
       "<script>\n",
       "    require(['d3'],  function(d3) {\n",
       "    d3.select(\".usersvg #circuitSDjracer\").attr(\"transform\", \"translate(27 8)\");\n",
       "    }); \n",
       "</script>\n"
      ]
     },
     "metadata": {},
     "output_type": "display_data"
    },
    {
     "data": {
      "text/html": [
       "<script>\n",
       "    require(['d3'],  function(d3) {\n",
       "    d3.select(\".usersvg #circuitSDjracer\").attr(\"transform\", \"translate(28 8)\");\n",
       "    }); \n",
       "</script>\n"
      ]
     },
     "metadata": {},
     "output_type": "display_data"
    },
    {
     "data": {
      "text/html": [
       "<script>\n",
       "    require(['d3'],  function(d3) {\n",
       "    d3.select(\".usersvg #circuitSDjracer\").attr(\"transform\", \"translate(29 8)\");\n",
       "    }); \n",
       "</script>\n"
      ]
     },
     "metadata": {},
     "output_type": "display_data"
    },
    {
     "data": {
      "text/html": [
       "<script>\n",
       "    require(['d3'],  function(d3) {\n",
       "    d3.select(\".usersvg #circuitSDjracer\").attr(\"transform\", \"translate(0 9)\");\n",
       "    }); \n",
       "</script>\n"
      ]
     },
     "metadata": {},
     "output_type": "display_data"
    },
    {
     "data": {
      "text/html": [
       "<script>\n",
       "    require(['d3'],  function(d3) {\n",
       "    d3.select(\".usersvg #circuitSDjracer\").attr(\"transform\", \"translate(1 9)\");\n",
       "    }); \n",
       "</script>\n"
      ]
     },
     "metadata": {},
     "output_type": "display_data"
    },
    {
     "data": {
      "text/html": [
       "<script>\n",
       "    require(['d3'],  function(d3) {\n",
       "    d3.select(\".usersvg #circuitSDjracer\").attr(\"transform\", \"translate(2 9)\");\n",
       "    }); \n",
       "</script>\n"
      ]
     },
     "metadata": {},
     "output_type": "display_data"
    },
    {
     "data": {
      "text/html": [
       "<script>\n",
       "    require(['d3'],  function(d3) {\n",
       "    d3.select(\".usersvg #circuitSDjracer\").attr(\"transform\", \"translate(3 9)\");\n",
       "    }); \n",
       "</script>\n"
      ]
     },
     "metadata": {},
     "output_type": "display_data"
    },
    {
     "data": {
      "text/html": [
       "<script>\n",
       "    require(['d3'],  function(d3) {\n",
       "    d3.select(\".usersvg #circuitSDjracer\").attr(\"transform\", \"translate(4 9)\");\n",
       "    }); \n",
       "</script>\n"
      ]
     },
     "metadata": {},
     "output_type": "display_data"
    },
    {
     "data": {
      "text/html": [
       "<script>\n",
       "    require(['d3'],  function(d3) {\n",
       "    d3.select(\".usersvg #circuitSDjracer\").attr(\"transform\", \"translate(5 9)\");\n",
       "    }); \n",
       "</script>\n"
      ]
     },
     "metadata": {},
     "output_type": "display_data"
    },
    {
     "data": {
      "text/html": [
       "<script>\n",
       "    require(['d3'],  function(d3) {\n",
       "    d3.select(\".usersvg #circuitSDjracer\").attr(\"transform\", \"translate(6 9)\");\n",
       "    }); \n",
       "</script>\n"
      ]
     },
     "metadata": {},
     "output_type": "display_data"
    },
    {
     "data": {
      "text/html": [
       "<script>\n",
       "    require(['d3'],  function(d3) {\n",
       "    d3.select(\".usersvg #circuitSDjracer\").attr(\"transform\", \"translate(7 9)\");\n",
       "    }); \n",
       "</script>\n"
      ]
     },
     "metadata": {},
     "output_type": "display_data"
    },
    {
     "data": {
      "text/html": [
       "<script>\n",
       "    require(['d3'],  function(d3) {\n",
       "    d3.select(\".usersvg #circuitSDjracer\").attr(\"transform\", \"translate(8 9)\");\n",
       "    }); \n",
       "</script>\n"
      ]
     },
     "metadata": {},
     "output_type": "display_data"
    },
    {
     "data": {
      "text/html": [
       "<script>\n",
       "    require(['d3'],  function(d3) {\n",
       "    d3.select(\".usersvg #circuitSDjracer\").attr(\"transform\", \"translate(9 9)\");\n",
       "    }); \n",
       "</script>\n"
      ]
     },
     "metadata": {},
     "output_type": "display_data"
    },
    {
     "data": {
      "text/html": [
       "<script>\n",
       "    require(['d3'],  function(d3) {\n",
       "    d3.select(\".usersvg #circuitSDjracer\").attr(\"transform\", \"translate(10 9)\");\n",
       "    }); \n",
       "</script>\n"
      ]
     },
     "metadata": {},
     "output_type": "display_data"
    },
    {
     "data": {
      "text/html": [
       "<script>\n",
       "    require(['d3'],  function(d3) {\n",
       "    d3.select(\".usersvg #circuitSDjracer\").attr(\"transform\", \"translate(11 9)\");\n",
       "    }); \n",
       "</script>\n"
      ]
     },
     "metadata": {},
     "output_type": "display_data"
    },
    {
     "data": {
      "text/html": [
       "<script>\n",
       "    require(['d3'],  function(d3) {\n",
       "    d3.select(\".usersvg #circuitSDjracer\").attr(\"transform\", \"translate(12 9)\");\n",
       "    }); \n",
       "</script>\n"
      ]
     },
     "metadata": {},
     "output_type": "display_data"
    },
    {
     "data": {
      "text/html": [
       "<script>\n",
       "    require(['d3'],  function(d3) {\n",
       "    d3.select(\".usersvg #circuitSDjracer\").attr(\"transform\", \"translate(13 9)\");\n",
       "    }); \n",
       "</script>\n"
      ]
     },
     "metadata": {},
     "output_type": "display_data"
    },
    {
     "data": {
      "text/html": [
       "<script>\n",
       "    require(['d3'],  function(d3) {\n",
       "    d3.select(\".usersvg #circuitSDjracer\").attr(\"transform\", \"translate(14 9)\");\n",
       "    }); \n",
       "</script>\n"
      ]
     },
     "metadata": {},
     "output_type": "display_data"
    },
    {
     "data": {
      "text/html": [
       "<script>\n",
       "    require(['d3'],  function(d3) {\n",
       "    d3.select(\".usersvg #circuitSDjracer\").attr(\"transform\", \"translate(15 9)\");\n",
       "    }); \n",
       "</script>\n"
      ]
     },
     "metadata": {},
     "output_type": "display_data"
    },
    {
     "data": {
      "text/html": [
       "<script>\n",
       "    require(['d3'],  function(d3) {\n",
       "    d3.select(\".usersvg #circuitSDjracer\").attr(\"transform\", \"translate(16 9)\");\n",
       "    }); \n",
       "</script>\n"
      ]
     },
     "metadata": {},
     "output_type": "display_data"
    },
    {
     "data": {
      "text/html": [
       "<script>\n",
       "    require(['d3'],  function(d3) {\n",
       "    d3.select(\".usersvg #circuitSDjracer\").attr(\"transform\", \"translate(17 9)\");\n",
       "    }); \n",
       "</script>\n"
      ]
     },
     "metadata": {},
     "output_type": "display_data"
    },
    {
     "data": {
      "text/html": [
       "<script>\n",
       "    require(['d3'],  function(d3) {\n",
       "    d3.select(\".usersvg #circuitSDjracer\").attr(\"transform\", \"translate(18 9)\");\n",
       "    }); \n",
       "</script>\n"
      ]
     },
     "metadata": {},
     "output_type": "display_data"
    },
    {
     "data": {
      "text/html": [
       "<script>\n",
       "    require(['d3'],  function(d3) {\n",
       "    d3.select(\".usersvg #circuitSDjracer\").attr(\"transform\", \"translate(19 9)\");\n",
       "    }); \n",
       "</script>\n"
      ]
     },
     "metadata": {},
     "output_type": "display_data"
    },
    {
     "data": {
      "text/html": [
       "<script>\n",
       "    require(['d3'],  function(d3) {\n",
       "    d3.select(\".usersvg #circuitSDjracer\").attr(\"transform\", \"translate(20 9)\");\n",
       "    }); \n",
       "</script>\n"
      ]
     },
     "metadata": {},
     "output_type": "display_data"
    },
    {
     "data": {
      "text/html": [
       "<script>\n",
       "    require(['d3'],  function(d3) {\n",
       "    d3.select(\".usersvg #circuitSDjracer\").attr(\"transform\", \"translate(21 9)\");\n",
       "    }); \n",
       "</script>\n"
      ]
     },
     "metadata": {},
     "output_type": "display_data"
    },
    {
     "data": {
      "text/html": [
       "<script>\n",
       "    require(['d3'],  function(d3) {\n",
       "    d3.select(\".usersvg #circuitSDjracer\").attr(\"transform\", \"translate(22 9)\");\n",
       "    }); \n",
       "</script>\n"
      ]
     },
     "metadata": {},
     "output_type": "display_data"
    },
    {
     "data": {
      "text/html": [
       "<script>\n",
       "    require(['d3'],  function(d3) {\n",
       "    d3.select(\".usersvg #circuitSDjracer\").attr(\"transform\", \"translate(23 9)\");\n",
       "    }); \n",
       "</script>\n"
      ]
     },
     "metadata": {},
     "output_type": "display_data"
    },
    {
     "data": {
      "text/html": [
       "<script>\n",
       "    require(['d3'],  function(d3) {\n",
       "    d3.select(\".usersvg #circuitSDjracer\").attr(\"transform\", \"translate(24 9)\");\n",
       "    }); \n",
       "</script>\n"
      ]
     },
     "metadata": {},
     "output_type": "display_data"
    },
    {
     "data": {
      "text/html": [
       "<script>\n",
       "    require(['d3'],  function(d3) {\n",
       "    d3.select(\".usersvg #circuitSDjracer\").attr(\"transform\", \"translate(25 9)\");\n",
       "    }); \n",
       "</script>\n"
      ]
     },
     "metadata": {},
     "output_type": "display_data"
    },
    {
     "data": {
      "text/html": [
       "<script>\n",
       "    require(['d3'],  function(d3) {\n",
       "    d3.select(\".usersvg #circuitSDjracer\").attr(\"transform\", \"translate(26 9)\");\n",
       "    }); \n",
       "</script>\n"
      ]
     },
     "metadata": {},
     "output_type": "display_data"
    },
    {
     "data": {
      "text/html": [
       "<script>\n",
       "    require(['d3'],  function(d3) {\n",
       "    d3.select(\".usersvg #circuitSDjracer\").attr(\"transform\", \"translate(27 9)\");\n",
       "    }); \n",
       "</script>\n"
      ]
     },
     "metadata": {},
     "output_type": "display_data"
    },
    {
     "data": {
      "text/html": [
       "<script>\n",
       "    require(['d3'],  function(d3) {\n",
       "    d3.select(\".usersvg #circuitSDjracer\").attr(\"transform\", \"translate(28 9)\");\n",
       "    }); \n",
       "</script>\n"
      ]
     },
     "metadata": {},
     "output_type": "display_data"
    },
    {
     "data": {
      "text/html": [
       "<script>\n",
       "    require(['d3'],  function(d3) {\n",
       "    d3.select(\".usersvg #circuitSDjracer\").attr(\"transform\", \"translate(29 9)\");\n",
       "    }); \n",
       "</script>\n"
      ]
     },
     "metadata": {},
     "output_type": "display_data"
    },
    {
     "data": {
      "text/html": [
       "<script>\n",
       "    require(['d3'],  function(d3) {\n",
       "    d3.select(\".usersvg #circuitSDjracer\").attr(\"transform\", \"translate(0 10)\");\n",
       "    }); \n",
       "</script>\n"
      ]
     },
     "metadata": {},
     "output_type": "display_data"
    },
    {
     "data": {
      "text/html": [
       "<script>\n",
       "    require(['d3'],  function(d3) {\n",
       "    d3.select(\".usersvg #circuitSDjracer\").attr(\"transform\", \"translate(1 10)\");\n",
       "    }); \n",
       "</script>\n"
      ]
     },
     "metadata": {},
     "output_type": "display_data"
    },
    {
     "data": {
      "text/html": [
       "<script>\n",
       "    require(['d3'],  function(d3) {\n",
       "    d3.select(\".usersvg #circuitSDjracer\").attr(\"transform\", \"translate(2 10)\");\n",
       "    }); \n",
       "</script>\n"
      ]
     },
     "metadata": {},
     "output_type": "display_data"
    },
    {
     "data": {
      "text/html": [
       "<script>\n",
       "    require(['d3'],  function(d3) {\n",
       "    d3.select(\".usersvg #circuitSDjracer\").attr(\"transform\", \"translate(3 10)\");\n",
       "    }); \n",
       "</script>\n"
      ]
     },
     "metadata": {},
     "output_type": "display_data"
    },
    {
     "data": {
      "text/html": [
       "<script>\n",
       "    require(['d3'],  function(d3) {\n",
       "    d3.select(\".usersvg #circuitSDjracer\").attr(\"transform\", \"translate(4 10)\");\n",
       "    }); \n",
       "</script>\n"
      ]
     },
     "metadata": {},
     "output_type": "display_data"
    },
    {
     "data": {
      "text/html": [
       "<script>\n",
       "    require(['d3'],  function(d3) {\n",
       "    d3.select(\".usersvg #circuitSDjracer\").attr(\"transform\", \"translate(5 10)\");\n",
       "    }); \n",
       "</script>\n"
      ]
     },
     "metadata": {},
     "output_type": "display_data"
    },
    {
     "data": {
      "text/html": [
       "<script>\n",
       "    require(['d3'],  function(d3) {\n",
       "    d3.select(\".usersvg #circuitSDjracer\").attr(\"transform\", \"translate(6 10)\");\n",
       "    }); \n",
       "</script>\n"
      ]
     },
     "metadata": {},
     "output_type": "display_data"
    },
    {
     "data": {
      "text/html": [
       "<script>\n",
       "    require(['d3'],  function(d3) {\n",
       "    d3.select(\".usersvg #circuitSDjracer\").attr(\"transform\", \"translate(7 10)\");\n",
       "    }); \n",
       "</script>\n"
      ]
     },
     "metadata": {},
     "output_type": "display_data"
    },
    {
     "data": {
      "text/html": [
       "<script>\n",
       "    require(['d3'],  function(d3) {\n",
       "    d3.select(\".usersvg #circuitSDjracer\").attr(\"transform\", \"translate(8 10)\");\n",
       "    }); \n",
       "</script>\n"
      ]
     },
     "metadata": {},
     "output_type": "display_data"
    },
    {
     "data": {
      "text/html": [
       "<script>\n",
       "    require(['d3'],  function(d3) {\n",
       "    d3.select(\".usersvg #circuitSDjracer\").attr(\"transform\", \"translate(9 10)\");\n",
       "    }); \n",
       "</script>\n"
      ]
     },
     "metadata": {},
     "output_type": "display_data"
    },
    {
     "data": {
      "text/html": [
       "<script>\n",
       "    require(['d3'],  function(d3) {\n",
       "    d3.select(\".usersvg #circuitSDjracer\").attr(\"transform\", \"translate(10 10)\");\n",
       "    }); \n",
       "</script>\n"
      ]
     },
     "metadata": {},
     "output_type": "display_data"
    },
    {
     "data": {
      "text/html": [
       "<script>\n",
       "    require(['d3'],  function(d3) {\n",
       "    d3.select(\".usersvg #circuitSDjracer\").attr(\"transform\", \"translate(11 10)\");\n",
       "    }); \n",
       "</script>\n"
      ]
     },
     "metadata": {},
     "output_type": "display_data"
    },
    {
     "data": {
      "text/html": [
       "<script>\n",
       "    require(['d3'],  function(d3) {\n",
       "    d3.select(\".usersvg #circuitSDjracer\").attr(\"transform\", \"translate(12 10)\");\n",
       "    }); \n",
       "</script>\n"
      ]
     },
     "metadata": {},
     "output_type": "display_data"
    },
    {
     "data": {
      "text/html": [
       "<script>\n",
       "    require(['d3'],  function(d3) {\n",
       "    d3.select(\".usersvg #circuitSDjracer\").attr(\"transform\", \"translate(13 10)\");\n",
       "    }); \n",
       "</script>\n"
      ]
     },
     "metadata": {},
     "output_type": "display_data"
    },
    {
     "data": {
      "text/html": [
       "<script>\n",
       "    require(['d3'],  function(d3) {\n",
       "    d3.select(\".usersvg #circuitSDjracer\").attr(\"transform\", \"translate(14 10)\");\n",
       "    }); \n",
       "</script>\n"
      ]
     },
     "metadata": {},
     "output_type": "display_data"
    },
    {
     "data": {
      "text/html": [
       "<script>\n",
       "    require(['d3'],  function(d3) {\n",
       "    d3.select(\".usersvg #circuitSDjracer\").attr(\"transform\", \"translate(15 10)\");\n",
       "    }); \n",
       "</script>\n"
      ]
     },
     "metadata": {},
     "output_type": "display_data"
    },
    {
     "data": {
      "text/html": [
       "<script>\n",
       "    require(['d3'],  function(d3) {\n",
       "    d3.select(\".usersvg #circuitSDjracer\").attr(\"transform\", \"translate(16 10)\");\n",
       "    }); \n",
       "</script>\n"
      ]
     },
     "metadata": {},
     "output_type": "display_data"
    },
    {
     "data": {
      "text/html": [
       "<script>\n",
       "    require(['d3'],  function(d3) {\n",
       "    d3.select(\".usersvg #circuitSDjracer\").attr(\"transform\", \"translate(17 10)\");\n",
       "    }); \n",
       "</script>\n"
      ]
     },
     "metadata": {},
     "output_type": "display_data"
    },
    {
     "data": {
      "text/html": [
       "<script>\n",
       "    require(['d3'],  function(d3) {\n",
       "    d3.select(\".usersvg #circuitSDjracer\").attr(\"transform\", \"translate(18 10)\");\n",
       "    }); \n",
       "</script>\n"
      ]
     },
     "metadata": {},
     "output_type": "display_data"
    },
    {
     "data": {
      "text/html": [
       "<script>\n",
       "    require(['d3'],  function(d3) {\n",
       "    d3.select(\".usersvg #circuitSDjracer\").attr(\"transform\", \"translate(19 10)\");\n",
       "    }); \n",
       "</script>\n"
      ]
     },
     "metadata": {},
     "output_type": "display_data"
    },
    {
     "data": {
      "text/html": [
       "<script>\n",
       "    require(['d3'],  function(d3) {\n",
       "    d3.select(\".usersvg #circuitSDjracer\").attr(\"transform\", \"translate(20 10)\");\n",
       "    }); \n",
       "</script>\n"
      ]
     },
     "metadata": {},
     "output_type": "display_data"
    },
    {
     "data": {
      "text/html": [
       "<script>\n",
       "    require(['d3'],  function(d3) {\n",
       "    d3.select(\".usersvg #circuitSDjracer\").attr(\"transform\", \"translate(21 10)\");\n",
       "    }); \n",
       "</script>\n"
      ]
     },
     "metadata": {},
     "output_type": "display_data"
    },
    {
     "data": {
      "text/html": [
       "<script>\n",
       "    require(['d3'],  function(d3) {\n",
       "    d3.select(\".usersvg #circuitSDjracer\").attr(\"transform\", \"translate(22 10)\");\n",
       "    }); \n",
       "</script>\n"
      ]
     },
     "metadata": {},
     "output_type": "display_data"
    },
    {
     "data": {
      "text/html": [
       "<script>\n",
       "    require(['d3'],  function(d3) {\n",
       "    d3.select(\".usersvg #circuitSDjracer\").attr(\"transform\", \"translate(23 10)\");\n",
       "    }); \n",
       "</script>\n"
      ]
     },
     "metadata": {},
     "output_type": "display_data"
    },
    {
     "data": {
      "text/html": [
       "<script>\n",
       "    require(['d3'],  function(d3) {\n",
       "    d3.select(\".usersvg #circuitSDjracer\").attr(\"transform\", \"translate(24 10)\");\n",
       "    }); \n",
       "</script>\n"
      ]
     },
     "metadata": {},
     "output_type": "display_data"
    },
    {
     "data": {
      "text/html": [
       "<script>\n",
       "    require(['d3'],  function(d3) {\n",
       "    d3.select(\".usersvg #circuitSDjracer\").attr(\"transform\", \"translate(25 10)\");\n",
       "    }); \n",
       "</script>\n"
      ]
     },
     "metadata": {},
     "output_type": "display_data"
    },
    {
     "data": {
      "text/html": [
       "<script>\n",
       "    require(['d3'],  function(d3) {\n",
       "    d3.select(\".usersvg #circuitSDjracer\").attr(\"transform\", \"translate(26 10)\");\n",
       "    }); \n",
       "</script>\n"
      ]
     },
     "metadata": {},
     "output_type": "display_data"
    },
    {
     "data": {
      "text/html": [
       "<script>\n",
       "    require(['d3'],  function(d3) {\n",
       "    d3.select(\".usersvg #circuitSDjracer\").attr(\"transform\", \"translate(27 10)\");\n",
       "    }); \n",
       "</script>\n"
      ]
     },
     "metadata": {},
     "output_type": "display_data"
    },
    {
     "data": {
      "text/html": [
       "<script>\n",
       "    require(['d3'],  function(d3) {\n",
       "    d3.select(\".usersvg #circuitSDjracer\").attr(\"transform\", \"translate(28 10)\");\n",
       "    }); \n",
       "</script>\n"
      ]
     },
     "metadata": {},
     "output_type": "display_data"
    },
    {
     "data": {
      "text/html": [
       "<script>\n",
       "    require(['d3'],  function(d3) {\n",
       "    d3.select(\".usersvg #circuitSDjracer\").attr(\"transform\", \"translate(29 10)\");\n",
       "    }); \n",
       "</script>\n"
      ]
     },
     "metadata": {},
     "output_type": "display_data"
    },
    {
     "data": {
      "text/html": [
       "<script>\n",
       "    require(['d3'],  function(d3) {\n",
       "    d3.select(\".usersvg #circuitSDjracer\").attr(\"transform\", \"translate(0 11)\");\n",
       "    }); \n",
       "</script>\n"
      ]
     },
     "metadata": {},
     "output_type": "display_data"
    },
    {
     "data": {
      "text/html": [
       "<script>\n",
       "    require(['d3'],  function(d3) {\n",
       "    d3.select(\".usersvg #circuitSDjracer\").attr(\"transform\", \"translate(1 11)\");\n",
       "    }); \n",
       "</script>\n"
      ]
     },
     "metadata": {},
     "output_type": "display_data"
    },
    {
     "data": {
      "text/html": [
       "<script>\n",
       "    require(['d3'],  function(d3) {\n",
       "    d3.select(\".usersvg #circuitSDjracer\").attr(\"transform\", \"translate(2 11)\");\n",
       "    }); \n",
       "</script>\n"
      ]
     },
     "metadata": {},
     "output_type": "display_data"
    },
    {
     "data": {
      "text/html": [
       "<script>\n",
       "    require(['d3'],  function(d3) {\n",
       "    d3.select(\".usersvg #circuitSDjracer\").attr(\"transform\", \"translate(3 11)\");\n",
       "    }); \n",
       "</script>\n"
      ]
     },
     "metadata": {},
     "output_type": "display_data"
    },
    {
     "data": {
      "text/html": [
       "<script>\n",
       "    require(['d3'],  function(d3) {\n",
       "    d3.select(\".usersvg #circuitSDjracer\").attr(\"transform\", \"translate(4 11)\");\n",
       "    }); \n",
       "</script>\n"
      ]
     },
     "metadata": {},
     "output_type": "display_data"
    },
    {
     "data": {
      "text/html": [
       "<script>\n",
       "    require(['d3'],  function(d3) {\n",
       "    d3.select(\".usersvg #circuitSDjracer\").attr(\"transform\", \"translate(5 11)\");\n",
       "    }); \n",
       "</script>\n"
      ]
     },
     "metadata": {},
     "output_type": "display_data"
    },
    {
     "data": {
      "text/html": [
       "<script>\n",
       "    require(['d3'],  function(d3) {\n",
       "    d3.select(\".usersvg #circuitSDjracer\").attr(\"transform\", \"translate(6 11)\");\n",
       "    }); \n",
       "</script>\n"
      ]
     },
     "metadata": {},
     "output_type": "display_data"
    },
    {
     "data": {
      "text/html": [
       "<script>\n",
       "    require(['d3'],  function(d3) {\n",
       "    d3.select(\".usersvg #circuitSDjracer\").attr(\"transform\", \"translate(7 11)\");\n",
       "    }); \n",
       "</script>\n"
      ]
     },
     "metadata": {},
     "output_type": "display_data"
    },
    {
     "data": {
      "text/html": [
       "<script>\n",
       "    require(['d3'],  function(d3) {\n",
       "    d3.select(\".usersvg #circuitSDjracer\").attr(\"transform\", \"translate(8 11)\");\n",
       "    }); \n",
       "</script>\n"
      ]
     },
     "metadata": {},
     "output_type": "display_data"
    },
    {
     "data": {
      "text/html": [
       "<script>\n",
       "    require(['d3'],  function(d3) {\n",
       "    d3.select(\".usersvg #circuitSDjracer\").attr(\"transform\", \"translate(9 11)\");\n",
       "    }); \n",
       "</script>\n"
      ]
     },
     "metadata": {},
     "output_type": "display_data"
    },
    {
     "data": {
      "text/html": [
       "<script>\n",
       "    require(['d3'],  function(d3) {\n",
       "    d3.select(\".usersvg #circuitSDjracer\").attr(\"transform\", \"translate(10 11)\");\n",
       "    }); \n",
       "</script>\n"
      ]
     },
     "metadata": {},
     "output_type": "display_data"
    },
    {
     "data": {
      "text/html": [
       "<script>\n",
       "    require(['d3'],  function(d3) {\n",
       "    d3.select(\".usersvg #circuitSDjracer\").attr(\"transform\", \"translate(11 11)\");\n",
       "    }); \n",
       "</script>\n"
      ]
     },
     "metadata": {},
     "output_type": "display_data"
    },
    {
     "data": {
      "text/html": [
       "<script>\n",
       "    require(['d3'],  function(d3) {\n",
       "    d3.select(\".usersvg #circuitSDjracer\").attr(\"transform\", \"translate(12 11)\");\n",
       "    }); \n",
       "</script>\n"
      ]
     },
     "metadata": {},
     "output_type": "display_data"
    },
    {
     "data": {
      "text/html": [
       "<script>\n",
       "    require(['d3'],  function(d3) {\n",
       "    d3.select(\".usersvg #circuitSDjracer\").attr(\"transform\", \"translate(13 11)\");\n",
       "    }); \n",
       "</script>\n"
      ]
     },
     "metadata": {},
     "output_type": "display_data"
    },
    {
     "data": {
      "text/html": [
       "<script>\n",
       "    require(['d3'],  function(d3) {\n",
       "    d3.select(\".usersvg #circuitSDjracer\").attr(\"transform\", \"translate(14 11)\");\n",
       "    }); \n",
       "</script>\n"
      ]
     },
     "metadata": {},
     "output_type": "display_data"
    },
    {
     "data": {
      "text/html": [
       "<script>\n",
       "    require(['d3'],  function(d3) {\n",
       "    d3.select(\".usersvg #circuitSDjracer\").attr(\"transform\", \"translate(15 11)\");\n",
       "    }); \n",
       "</script>\n"
      ]
     },
     "metadata": {},
     "output_type": "display_data"
    },
    {
     "data": {
      "text/html": [
       "<script>\n",
       "    require(['d3'],  function(d3) {\n",
       "    d3.select(\".usersvg #circuitSDjracer\").attr(\"transform\", \"translate(16 11)\");\n",
       "    }); \n",
       "</script>\n"
      ]
     },
     "metadata": {},
     "output_type": "display_data"
    },
    {
     "data": {
      "text/html": [
       "<script>\n",
       "    require(['d3'],  function(d3) {\n",
       "    d3.select(\".usersvg #circuitSDjracer\").attr(\"transform\", \"translate(17 11)\");\n",
       "    }); \n",
       "</script>\n"
      ]
     },
     "metadata": {},
     "output_type": "display_data"
    },
    {
     "data": {
      "text/html": [
       "<script>\n",
       "    require(['d3'],  function(d3) {\n",
       "    d3.select(\".usersvg #circuitSDjracer\").attr(\"transform\", \"translate(18 11)\");\n",
       "    }); \n",
       "</script>\n"
      ]
     },
     "metadata": {},
     "output_type": "display_data"
    },
    {
     "data": {
      "text/html": [
       "<script>\n",
       "    require(['d3'],  function(d3) {\n",
       "    d3.select(\".usersvg #circuitSDjracer\").attr(\"transform\", \"translate(19 11)\");\n",
       "    }); \n",
       "</script>\n"
      ]
     },
     "metadata": {},
     "output_type": "display_data"
    },
    {
     "data": {
      "text/html": [
       "<script>\n",
       "    require(['d3'],  function(d3) {\n",
       "    d3.select(\".usersvg #circuitSDjracer\").attr(\"transform\", \"translate(20 11)\");\n",
       "    }); \n",
       "</script>\n"
      ]
     },
     "metadata": {},
     "output_type": "display_data"
    },
    {
     "data": {
      "text/html": [
       "<script>\n",
       "    require(['d3'],  function(d3) {\n",
       "    d3.select(\".usersvg #circuitSDjracer\").attr(\"transform\", \"translate(21 11)\");\n",
       "    }); \n",
       "</script>\n"
      ]
     },
     "metadata": {},
     "output_type": "display_data"
    },
    {
     "data": {
      "text/html": [
       "<script>\n",
       "    require(['d3'],  function(d3) {\n",
       "    d3.select(\".usersvg #circuitSDjracer\").attr(\"transform\", \"translate(22 11)\");\n",
       "    }); \n",
       "</script>\n"
      ]
     },
     "metadata": {},
     "output_type": "display_data"
    },
    {
     "data": {
      "text/html": [
       "<script>\n",
       "    require(['d3'],  function(d3) {\n",
       "    d3.select(\".usersvg #circuitSDjracer\").attr(\"transform\", \"translate(23 11)\");\n",
       "    }); \n",
       "</script>\n"
      ]
     },
     "metadata": {},
     "output_type": "display_data"
    },
    {
     "data": {
      "text/html": [
       "<script>\n",
       "    require(['d3'],  function(d3) {\n",
       "    d3.select(\".usersvg #circuitSDjracer\").attr(\"transform\", \"translate(24 11)\");\n",
       "    }); \n",
       "</script>\n"
      ]
     },
     "metadata": {},
     "output_type": "display_data"
    },
    {
     "data": {
      "text/html": [
       "<script>\n",
       "    require(['d3'],  function(d3) {\n",
       "    d3.select(\".usersvg #circuitSDjracer\").attr(\"transform\", \"translate(25 11)\");\n",
       "    }); \n",
       "</script>\n"
      ]
     },
     "metadata": {},
     "output_type": "display_data"
    },
    {
     "data": {
      "text/html": [
       "<script>\n",
       "    require(['d3'],  function(d3) {\n",
       "    d3.select(\".usersvg #circuitSDjracer\").attr(\"transform\", \"translate(26 11)\");\n",
       "    }); \n",
       "</script>\n"
      ]
     },
     "metadata": {},
     "output_type": "display_data"
    },
    {
     "data": {
      "text/html": [
       "<script>\n",
       "    require(['d3'],  function(d3) {\n",
       "    d3.select(\".usersvg #circuitSDjracer\").attr(\"transform\", \"translate(27 11)\");\n",
       "    }); \n",
       "</script>\n"
      ]
     },
     "metadata": {},
     "output_type": "display_data"
    },
    {
     "data": {
      "text/html": [
       "<script>\n",
       "    require(['d3'],  function(d3) {\n",
       "    d3.select(\".usersvg #circuitSDjracer\").attr(\"transform\", \"translate(28 11)\");\n",
       "    }); \n",
       "</script>\n"
      ]
     },
     "metadata": {},
     "output_type": "display_data"
    },
    {
     "data": {
      "text/html": [
       "<script>\n",
       "    require(['d3'],  function(d3) {\n",
       "    d3.select(\".usersvg #circuitSDjracer\").attr(\"transform\", \"translate(29 11)\");\n",
       "    }); \n",
       "</script>\n"
      ]
     },
     "metadata": {},
     "output_type": "display_data"
    },
    {
     "data": {
      "text/html": [
       "<script>\n",
       "    require(['d3'],  function(d3) {\n",
       "    d3.select(\".usersvg #circuitSDjracer\").attr(\"transform\", \"translate(0 12)\");\n",
       "    }); \n",
       "</script>\n"
      ]
     },
     "metadata": {},
     "output_type": "display_data"
    },
    {
     "data": {
      "text/html": [
       "<script>\n",
       "    require(['d3'],  function(d3) {\n",
       "    d3.select(\".usersvg #circuitSDjracer\").attr(\"transform\", \"translate(1 12)\");\n",
       "    }); \n",
       "</script>\n"
      ]
     },
     "metadata": {},
     "output_type": "display_data"
    },
    {
     "data": {
      "text/html": [
       "<script>\n",
       "    require(['d3'],  function(d3) {\n",
       "    d3.select(\".usersvg #circuitSDjracer\").attr(\"transform\", \"translate(2 12)\");\n",
       "    }); \n",
       "</script>\n"
      ]
     },
     "metadata": {},
     "output_type": "display_data"
    },
    {
     "data": {
      "text/html": [
       "<script>\n",
       "    require(['d3'],  function(d3) {\n",
       "    d3.select(\".usersvg #circuitSDjracer\").attr(\"transform\", \"translate(3 12)\");\n",
       "    }); \n",
       "</script>\n"
      ]
     },
     "metadata": {},
     "output_type": "display_data"
    },
    {
     "data": {
      "text/html": [
       "<script>\n",
       "    require(['d3'],  function(d3) {\n",
       "    d3.select(\".usersvg #circuitSDjracer\").attr(\"transform\", \"translate(4 12)\");\n",
       "    }); \n",
       "</script>\n"
      ]
     },
     "metadata": {},
     "output_type": "display_data"
    },
    {
     "data": {
      "text/html": [
       "<script>\n",
       "    require(['d3'],  function(d3) {\n",
       "    d3.select(\".usersvg #circuitSDjracer\").attr(\"transform\", \"translate(5 12)\");\n",
       "    }); \n",
       "</script>\n"
      ]
     },
     "metadata": {},
     "output_type": "display_data"
    },
    {
     "data": {
      "text/html": [
       "<script>\n",
       "    require(['d3'],  function(d3) {\n",
       "    d3.select(\".usersvg #circuitSDjracer\").attr(\"transform\", \"translate(6 12)\");\n",
       "    }); \n",
       "</script>\n"
      ]
     },
     "metadata": {},
     "output_type": "display_data"
    },
    {
     "data": {
      "text/html": [
       "<script>\n",
       "    require(['d3'],  function(d3) {\n",
       "    d3.select(\".usersvg #circuitSDjracer\").attr(\"transform\", \"translate(7 12)\");\n",
       "    }); \n",
       "</script>\n"
      ]
     },
     "metadata": {},
     "output_type": "display_data"
    },
    {
     "data": {
      "text/html": [
       "<script>\n",
       "    require(['d3'],  function(d3) {\n",
       "    d3.select(\".usersvg #circuitSDjracer\").attr(\"transform\", \"translate(8 12)\");\n",
       "    }); \n",
       "</script>\n"
      ]
     },
     "metadata": {},
     "output_type": "display_data"
    },
    {
     "data": {
      "text/html": [
       "<script>\n",
       "    require(['d3'],  function(d3) {\n",
       "    d3.select(\".usersvg #circuitSDjracer\").attr(\"transform\", \"translate(9 12)\");\n",
       "    }); \n",
       "</script>\n"
      ]
     },
     "metadata": {},
     "output_type": "display_data"
    },
    {
     "data": {
      "text/html": [
       "<script>\n",
       "    require(['d3'],  function(d3) {\n",
       "    d3.select(\".usersvg #circuitSDjracer\").attr(\"transform\", \"translate(10 12)\");\n",
       "    }); \n",
       "</script>\n"
      ]
     },
     "metadata": {},
     "output_type": "display_data"
    },
    {
     "data": {
      "text/html": [
       "<script>\n",
       "    require(['d3'],  function(d3) {\n",
       "    d3.select(\".usersvg #circuitSDjracer\").attr(\"transform\", \"translate(11 12)\");\n",
       "    }); \n",
       "</script>\n"
      ]
     },
     "metadata": {},
     "output_type": "display_data"
    },
    {
     "data": {
      "text/html": [
       "<script>\n",
       "    require(['d3'],  function(d3) {\n",
       "    d3.select(\".usersvg #circuitSDjracer\").attr(\"transform\", \"translate(12 12)\");\n",
       "    }); \n",
       "</script>\n"
      ]
     },
     "metadata": {},
     "output_type": "display_data"
    },
    {
     "data": {
      "text/html": [
       "<script>\n",
       "    require(['d3'],  function(d3) {\n",
       "    d3.select(\".usersvg #circuitSDjracer\").attr(\"transform\", \"translate(13 12)\");\n",
       "    }); \n",
       "</script>\n"
      ]
     },
     "metadata": {},
     "output_type": "display_data"
    },
    {
     "data": {
      "text/html": [
       "<script>\n",
       "    require(['d3'],  function(d3) {\n",
       "    d3.select(\".usersvg #circuitSDjracer\").attr(\"transform\", \"translate(14 12)\");\n",
       "    }); \n",
       "</script>\n"
      ]
     },
     "metadata": {},
     "output_type": "display_data"
    },
    {
     "data": {
      "text/html": [
       "<script>\n",
       "    require(['d3'],  function(d3) {\n",
       "    d3.select(\".usersvg #circuitSDjracer\").attr(\"transform\", \"translate(15 12)\");\n",
       "    }); \n",
       "</script>\n"
      ]
     },
     "metadata": {},
     "output_type": "display_data"
    },
    {
     "data": {
      "text/html": [
       "<script>\n",
       "    require(['d3'],  function(d3) {\n",
       "    d3.select(\".usersvg #circuitSDjracer\").attr(\"transform\", \"translate(16 12)\");\n",
       "    }); \n",
       "</script>\n"
      ]
     },
     "metadata": {},
     "output_type": "display_data"
    },
    {
     "data": {
      "text/html": [
       "<script>\n",
       "    require(['d3'],  function(d3) {\n",
       "    d3.select(\".usersvg #circuitSDjracer\").attr(\"transform\", \"translate(17 12)\");\n",
       "    }); \n",
       "</script>\n"
      ]
     },
     "metadata": {},
     "output_type": "display_data"
    },
    {
     "data": {
      "text/html": [
       "<script>\n",
       "    require(['d3'],  function(d3) {\n",
       "    d3.select(\".usersvg #circuitSDjracer\").attr(\"transform\", \"translate(18 12)\");\n",
       "    }); \n",
       "</script>\n"
      ]
     },
     "metadata": {},
     "output_type": "display_data"
    },
    {
     "data": {
      "text/html": [
       "<script>\n",
       "    require(['d3'],  function(d3) {\n",
       "    d3.select(\".usersvg #circuitSDjracer\").attr(\"transform\", \"translate(19 12)\");\n",
       "    }); \n",
       "</script>\n"
      ]
     },
     "metadata": {},
     "output_type": "display_data"
    },
    {
     "data": {
      "text/html": [
       "<script>\n",
       "    require(['d3'],  function(d3) {\n",
       "    d3.select(\".usersvg #circuitSDjracer\").attr(\"transform\", \"translate(20 12)\");\n",
       "    }); \n",
       "</script>\n"
      ]
     },
     "metadata": {},
     "output_type": "display_data"
    },
    {
     "data": {
      "text/html": [
       "<script>\n",
       "    require(['d3'],  function(d3) {\n",
       "    d3.select(\".usersvg #circuitSDjracer\").attr(\"transform\", \"translate(21 12)\");\n",
       "    }); \n",
       "</script>\n"
      ]
     },
     "metadata": {},
     "output_type": "display_data"
    },
    {
     "data": {
      "text/html": [
       "<script>\n",
       "    require(['d3'],  function(d3) {\n",
       "    d3.select(\".usersvg #circuitSDjracer\").attr(\"transform\", \"translate(22 12)\");\n",
       "    }); \n",
       "</script>\n"
      ]
     },
     "metadata": {},
     "output_type": "display_data"
    },
    {
     "data": {
      "text/html": [
       "<script>\n",
       "    require(['d3'],  function(d3) {\n",
       "    d3.select(\".usersvg #circuitSDjracer\").attr(\"transform\", \"translate(23 12)\");\n",
       "    }); \n",
       "</script>\n"
      ]
     },
     "metadata": {},
     "output_type": "display_data"
    },
    {
     "data": {
      "text/html": [
       "<script>\n",
       "    require(['d3'],  function(d3) {\n",
       "    d3.select(\".usersvg #circuitSDjracer\").attr(\"transform\", \"translate(24 12)\");\n",
       "    }); \n",
       "</script>\n"
      ]
     },
     "metadata": {},
     "output_type": "display_data"
    },
    {
     "data": {
      "text/html": [
       "<script>\n",
       "    require(['d3'],  function(d3) {\n",
       "    d3.select(\".usersvg #circuitSDjracer\").attr(\"transform\", \"translate(25 12)\");\n",
       "    }); \n",
       "</script>\n"
      ]
     },
     "metadata": {},
     "output_type": "display_data"
    },
    {
     "data": {
      "text/html": [
       "<script>\n",
       "    require(['d3'],  function(d3) {\n",
       "    d3.select(\".usersvg #circuitSDjracer\").attr(\"transform\", \"translate(26 12)\");\n",
       "    }); \n",
       "</script>\n"
      ]
     },
     "metadata": {},
     "output_type": "display_data"
    },
    {
     "data": {
      "text/html": [
       "<script>\n",
       "    require(['d3'],  function(d3) {\n",
       "    d3.select(\".usersvg #circuitSDjracer\").attr(\"transform\", \"translate(27 12)\");\n",
       "    }); \n",
       "</script>\n"
      ]
     },
     "metadata": {},
     "output_type": "display_data"
    },
    {
     "data": {
      "text/html": [
       "<script>\n",
       "    require(['d3'],  function(d3) {\n",
       "    d3.select(\".usersvg #circuitSDjracer\").attr(\"transform\", \"translate(28 12)\");\n",
       "    }); \n",
       "</script>\n"
      ]
     },
     "metadata": {},
     "output_type": "display_data"
    },
    {
     "data": {
      "text/html": [
       "<script>\n",
       "    require(['d3'],  function(d3) {\n",
       "    d3.select(\".usersvg #circuitSDjracer\").attr(\"transform\", \"translate(29 12)\");\n",
       "    }); \n",
       "</script>\n"
      ]
     },
     "metadata": {},
     "output_type": "display_data"
    },
    {
     "data": {
      "text/html": [
       "<script>\n",
       "    require(['d3'],  function(d3) {\n",
       "    d3.select(\".usersvg #circuitSDjracer\").attr(\"transform\", \"translate(0 13)\");\n",
       "    }); \n",
       "</script>\n"
      ]
     },
     "metadata": {},
     "output_type": "display_data"
    },
    {
     "data": {
      "text/html": [
       "<script>\n",
       "    require(['d3'],  function(d3) {\n",
       "    d3.select(\".usersvg #circuitSDjracer\").attr(\"transform\", \"translate(1 13)\");\n",
       "    }); \n",
       "</script>\n"
      ]
     },
     "metadata": {},
     "output_type": "display_data"
    },
    {
     "data": {
      "text/html": [
       "<script>\n",
       "    require(['d3'],  function(d3) {\n",
       "    d3.select(\".usersvg #circuitSDjracer\").attr(\"transform\", \"translate(2 13)\");\n",
       "    }); \n",
       "</script>\n"
      ]
     },
     "metadata": {},
     "output_type": "display_data"
    },
    {
     "data": {
      "text/html": [
       "<script>\n",
       "    require(['d3'],  function(d3) {\n",
       "    d3.select(\".usersvg #circuitSDjracer\").attr(\"transform\", \"translate(3 13)\");\n",
       "    }); \n",
       "</script>\n"
      ]
     },
     "metadata": {},
     "output_type": "display_data"
    },
    {
     "data": {
      "text/html": [
       "<script>\n",
       "    require(['d3'],  function(d3) {\n",
       "    d3.select(\".usersvg #circuitSDjracer\").attr(\"transform\", \"translate(4 13)\");\n",
       "    }); \n",
       "</script>\n"
      ]
     },
     "metadata": {},
     "output_type": "display_data"
    },
    {
     "data": {
      "text/html": [
       "<script>\n",
       "    require(['d3'],  function(d3) {\n",
       "    d3.select(\".usersvg #circuitSDjracer\").attr(\"transform\", \"translate(5 13)\");\n",
       "    }); \n",
       "</script>\n"
      ]
     },
     "metadata": {},
     "output_type": "display_data"
    },
    {
     "data": {
      "text/html": [
       "<script>\n",
       "    require(['d3'],  function(d3) {\n",
       "    d3.select(\".usersvg #circuitSDjracer\").attr(\"transform\", \"translate(6 13)\");\n",
       "    }); \n",
       "</script>\n"
      ]
     },
     "metadata": {},
     "output_type": "display_data"
    },
    {
     "data": {
      "text/html": [
       "<script>\n",
       "    require(['d3'],  function(d3) {\n",
       "    d3.select(\".usersvg #circuitSDjracer\").attr(\"transform\", \"translate(7 13)\");\n",
       "    }); \n",
       "</script>\n"
      ]
     },
     "metadata": {},
     "output_type": "display_data"
    },
    {
     "data": {
      "text/html": [
       "<script>\n",
       "    require(['d3'],  function(d3) {\n",
       "    d3.select(\".usersvg #circuitSDjracer\").attr(\"transform\", \"translate(8 13)\");\n",
       "    }); \n",
       "</script>\n"
      ]
     },
     "metadata": {},
     "output_type": "display_data"
    },
    {
     "data": {
      "text/html": [
       "<script>\n",
       "    require(['d3'],  function(d3) {\n",
       "    d3.select(\".usersvg #circuitSDjracer\").attr(\"transform\", \"translate(9 13)\");\n",
       "    }); \n",
       "</script>\n"
      ]
     },
     "metadata": {},
     "output_type": "display_data"
    },
    {
     "data": {
      "text/html": [
       "<script>\n",
       "    require(['d3'],  function(d3) {\n",
       "    d3.select(\".usersvg #circuitSDjracer\").attr(\"transform\", \"translate(10 13)\");\n",
       "    }); \n",
       "</script>\n"
      ]
     },
     "metadata": {},
     "output_type": "display_data"
    },
    {
     "data": {
      "text/html": [
       "<script>\n",
       "    require(['d3'],  function(d3) {\n",
       "    d3.select(\".usersvg #circuitSDjracer\").attr(\"transform\", \"translate(11 13)\");\n",
       "    }); \n",
       "</script>\n"
      ]
     },
     "metadata": {},
     "output_type": "display_data"
    },
    {
     "data": {
      "text/html": [
       "<script>\n",
       "    require(['d3'],  function(d3) {\n",
       "    d3.select(\".usersvg #circuitSDjracer\").attr(\"transform\", \"translate(12 13)\");\n",
       "    }); \n",
       "</script>\n"
      ]
     },
     "metadata": {},
     "output_type": "display_data"
    },
    {
     "data": {
      "text/html": [
       "<script>\n",
       "    require(['d3'],  function(d3) {\n",
       "    d3.select(\".usersvg #circuitSDjracer\").attr(\"transform\", \"translate(13 13)\");\n",
       "    }); \n",
       "</script>\n"
      ]
     },
     "metadata": {},
     "output_type": "display_data"
    },
    {
     "data": {
      "text/html": [
       "<script>\n",
       "    require(['d3'],  function(d3) {\n",
       "    d3.select(\".usersvg #circuitSDjracer\").attr(\"transform\", \"translate(14 13)\");\n",
       "    }); \n",
       "</script>\n"
      ]
     },
     "metadata": {},
     "output_type": "display_data"
    },
    {
     "data": {
      "text/html": [
       "<script>\n",
       "    require(['d3'],  function(d3) {\n",
       "    d3.select(\".usersvg #circuitSDjracer\").attr(\"transform\", \"translate(15 13)\");\n",
       "    }); \n",
       "</script>\n"
      ]
     },
     "metadata": {},
     "output_type": "display_data"
    },
    {
     "data": {
      "text/html": [
       "<script>\n",
       "    require(['d3'],  function(d3) {\n",
       "    d3.select(\".usersvg #circuitSDjracer\").attr(\"transform\", \"translate(16 13)\");\n",
       "    }); \n",
       "</script>\n"
      ]
     },
     "metadata": {},
     "output_type": "display_data"
    },
    {
     "data": {
      "text/html": [
       "<script>\n",
       "    require(['d3'],  function(d3) {\n",
       "    d3.select(\".usersvg #circuitSDjracer\").attr(\"transform\", \"translate(17 13)\");\n",
       "    }); \n",
       "</script>\n"
      ]
     },
     "metadata": {},
     "output_type": "display_data"
    },
    {
     "data": {
      "text/html": [
       "<script>\n",
       "    require(['d3'],  function(d3) {\n",
       "    d3.select(\".usersvg #circuitSDjracer\").attr(\"transform\", \"translate(18 13)\");\n",
       "    }); \n",
       "</script>\n"
      ]
     },
     "metadata": {},
     "output_type": "display_data"
    },
    {
     "data": {
      "text/html": [
       "<script>\n",
       "    require(['d3'],  function(d3) {\n",
       "    d3.select(\".usersvg #circuitSDjracer\").attr(\"transform\", \"translate(19 13)\");\n",
       "    }); \n",
       "</script>\n"
      ]
     },
     "metadata": {},
     "output_type": "display_data"
    },
    {
     "data": {
      "text/html": [
       "<script>\n",
       "    require(['d3'],  function(d3) {\n",
       "    d3.select(\".usersvg #circuitSDjracer\").attr(\"transform\", \"translate(20 13)\");\n",
       "    }); \n",
       "</script>\n"
      ]
     },
     "metadata": {},
     "output_type": "display_data"
    },
    {
     "data": {
      "text/html": [
       "<script>\n",
       "    require(['d3'],  function(d3) {\n",
       "    d3.select(\".usersvg #circuitSDjracer\").attr(\"transform\", \"translate(21 13)\");\n",
       "    }); \n",
       "</script>\n"
      ]
     },
     "metadata": {},
     "output_type": "display_data"
    },
    {
     "data": {
      "text/html": [
       "<script>\n",
       "    require(['d3'],  function(d3) {\n",
       "    d3.select(\".usersvg #circuitSDjracer\").attr(\"transform\", \"translate(22 13)\");\n",
       "    }); \n",
       "</script>\n"
      ]
     },
     "metadata": {},
     "output_type": "display_data"
    },
    {
     "data": {
      "text/html": [
       "<script>\n",
       "    require(['d3'],  function(d3) {\n",
       "    d3.select(\".usersvg #circuitSDjracer\").attr(\"transform\", \"translate(23 13)\");\n",
       "    }); \n",
       "</script>\n"
      ]
     },
     "metadata": {},
     "output_type": "display_data"
    },
    {
     "data": {
      "text/html": [
       "<script>\n",
       "    require(['d3'],  function(d3) {\n",
       "    d3.select(\".usersvg #circuitSDjracer\").attr(\"transform\", \"translate(24 13)\");\n",
       "    }); \n",
       "</script>\n"
      ]
     },
     "metadata": {},
     "output_type": "display_data"
    },
    {
     "data": {
      "text/html": [
       "<script>\n",
       "    require(['d3'],  function(d3) {\n",
       "    d3.select(\".usersvg #circuitSDjracer\").attr(\"transform\", \"translate(25 13)\");\n",
       "    }); \n",
       "</script>\n"
      ]
     },
     "metadata": {},
     "output_type": "display_data"
    },
    {
     "data": {
      "text/html": [
       "<script>\n",
       "    require(['d3'],  function(d3) {\n",
       "    d3.select(\".usersvg #circuitSDjracer\").attr(\"transform\", \"translate(26 13)\");\n",
       "    }); \n",
       "</script>\n"
      ]
     },
     "metadata": {},
     "output_type": "display_data"
    },
    {
     "data": {
      "text/html": [
       "<script>\n",
       "    require(['d3'],  function(d3) {\n",
       "    d3.select(\".usersvg #circuitSDjracer\").attr(\"transform\", \"translate(27 13)\");\n",
       "    }); \n",
       "</script>\n"
      ]
     },
     "metadata": {},
     "output_type": "display_data"
    },
    {
     "data": {
      "text/html": [
       "<script>\n",
       "    require(['d3'],  function(d3) {\n",
       "    d3.select(\".usersvg #circuitSDjracer\").attr(\"transform\", \"translate(28 13)\");\n",
       "    }); \n",
       "</script>\n"
      ]
     },
     "metadata": {},
     "output_type": "display_data"
    },
    {
     "data": {
      "text/html": [
       "<script>\n",
       "    require(['d3'],  function(d3) {\n",
       "    d3.select(\".usersvg #circuitSDjracer\").attr(\"transform\", \"translate(29 13)\");\n",
       "    }); \n",
       "</script>\n"
      ]
     },
     "metadata": {},
     "output_type": "display_data"
    },
    {
     "data": {
      "text/html": [
       "<script>\n",
       "    require(['d3'],  function(d3) {\n",
       "    d3.select(\".usersvg #circuitSDjracer\").attr(\"transform\", \"translate(0 14)\");\n",
       "    }); \n",
       "</script>\n"
      ]
     },
     "metadata": {},
     "output_type": "display_data"
    },
    {
     "data": {
      "text/html": [
       "<script>\n",
       "    require(['d3'],  function(d3) {\n",
       "    d3.select(\".usersvg #circuitSDjracer\").attr(\"transform\", \"translate(1 14)\");\n",
       "    }); \n",
       "</script>\n"
      ]
     },
     "metadata": {},
     "output_type": "display_data"
    },
    {
     "data": {
      "text/html": [
       "<script>\n",
       "    require(['d3'],  function(d3) {\n",
       "    d3.select(\".usersvg #circuitSDjracer\").attr(\"transform\", \"translate(2 14)\");\n",
       "    }); \n",
       "</script>\n"
      ]
     },
     "metadata": {},
     "output_type": "display_data"
    },
    {
     "data": {
      "text/html": [
       "<script>\n",
       "    require(['d3'],  function(d3) {\n",
       "    d3.select(\".usersvg #circuitSDjracer\").attr(\"transform\", \"translate(3 14)\");\n",
       "    }); \n",
       "</script>\n"
      ]
     },
     "metadata": {},
     "output_type": "display_data"
    },
    {
     "data": {
      "text/html": [
       "<script>\n",
       "    require(['d3'],  function(d3) {\n",
       "    d3.select(\".usersvg #circuitSDjracer\").attr(\"transform\", \"translate(4 14)\");\n",
       "    }); \n",
       "</script>\n"
      ]
     },
     "metadata": {},
     "output_type": "display_data"
    },
    {
     "data": {
      "text/html": [
       "<script>\n",
       "    require(['d3'],  function(d3) {\n",
       "    d3.select(\".usersvg #circuitSDjracer\").attr(\"transform\", \"translate(5 14)\");\n",
       "    }); \n",
       "</script>\n"
      ]
     },
     "metadata": {},
     "output_type": "display_data"
    },
    {
     "data": {
      "text/html": [
       "<script>\n",
       "    require(['d3'],  function(d3) {\n",
       "    d3.select(\".usersvg #circuitSDjracer\").attr(\"transform\", \"translate(6 14)\");\n",
       "    }); \n",
       "</script>\n"
      ]
     },
     "metadata": {},
     "output_type": "display_data"
    },
    {
     "data": {
      "text/html": [
       "<script>\n",
       "    require(['d3'],  function(d3) {\n",
       "    d3.select(\".usersvg #circuitSDjracer\").attr(\"transform\", \"translate(7 14)\");\n",
       "    }); \n",
       "</script>\n"
      ]
     },
     "metadata": {},
     "output_type": "display_data"
    },
    {
     "data": {
      "text/html": [
       "<script>\n",
       "    require(['d3'],  function(d3) {\n",
       "    d3.select(\".usersvg #circuitSDjracer\").attr(\"transform\", \"translate(8 14)\");\n",
       "    }); \n",
       "</script>\n"
      ]
     },
     "metadata": {},
     "output_type": "display_data"
    },
    {
     "data": {
      "text/html": [
       "<script>\n",
       "    require(['d3'],  function(d3) {\n",
       "    d3.select(\".usersvg #circuitSDjracer\").attr(\"transform\", \"translate(9 14)\");\n",
       "    }); \n",
       "</script>\n"
      ]
     },
     "metadata": {},
     "output_type": "display_data"
    },
    {
     "data": {
      "text/html": [
       "<script>\n",
       "    require(['d3'],  function(d3) {\n",
       "    d3.select(\".usersvg #circuitSDjracer\").attr(\"transform\", \"translate(10 14)\");\n",
       "    }); \n",
       "</script>\n"
      ]
     },
     "metadata": {},
     "output_type": "display_data"
    },
    {
     "data": {
      "text/html": [
       "<script>\n",
       "    require(['d3'],  function(d3) {\n",
       "    d3.select(\".usersvg #circuitSDjracer\").attr(\"transform\", \"translate(11 14)\");\n",
       "    }); \n",
       "</script>\n"
      ]
     },
     "metadata": {},
     "output_type": "display_data"
    },
    {
     "data": {
      "text/html": [
       "<script>\n",
       "    require(['d3'],  function(d3) {\n",
       "    d3.select(\".usersvg #circuitSDjracer\").attr(\"transform\", \"translate(12 14)\");\n",
       "    }); \n",
       "</script>\n"
      ]
     },
     "metadata": {},
     "output_type": "display_data"
    },
    {
     "data": {
      "text/html": [
       "<script>\n",
       "    require(['d3'],  function(d3) {\n",
       "    d3.select(\".usersvg #circuitSDjracer\").attr(\"transform\", \"translate(13 14)\");\n",
       "    }); \n",
       "</script>\n"
      ]
     },
     "metadata": {},
     "output_type": "display_data"
    },
    {
     "data": {
      "text/html": [
       "<script>\n",
       "    require(['d3'],  function(d3) {\n",
       "    d3.select(\".usersvg #circuitSDjracer\").attr(\"transform\", \"translate(14 14)\");\n",
       "    }); \n",
       "</script>\n"
      ]
     },
     "metadata": {},
     "output_type": "display_data"
    },
    {
     "data": {
      "text/html": [
       "<script>\n",
       "    require(['d3'],  function(d3) {\n",
       "    d3.select(\".usersvg #circuitSDjracer\").attr(\"transform\", \"translate(15 14)\");\n",
       "    }); \n",
       "</script>\n"
      ]
     },
     "metadata": {},
     "output_type": "display_data"
    },
    {
     "data": {
      "text/html": [
       "<script>\n",
       "    require(['d3'],  function(d3) {\n",
       "    d3.select(\".usersvg #circuitSDjracer\").attr(\"transform\", \"translate(16 14)\");\n",
       "    }); \n",
       "</script>\n"
      ]
     },
     "metadata": {},
     "output_type": "display_data"
    },
    {
     "data": {
      "text/html": [
       "<script>\n",
       "    require(['d3'],  function(d3) {\n",
       "    d3.select(\".usersvg #circuitSDjracer\").attr(\"transform\", \"translate(17 14)\");\n",
       "    }); \n",
       "</script>\n"
      ]
     },
     "metadata": {},
     "output_type": "display_data"
    },
    {
     "data": {
      "text/html": [
       "<script>\n",
       "    require(['d3'],  function(d3) {\n",
       "    d3.select(\".usersvg #circuitSDjracer\").attr(\"transform\", \"translate(18 14)\");\n",
       "    }); \n",
       "</script>\n"
      ]
     },
     "metadata": {},
     "output_type": "display_data"
    },
    {
     "data": {
      "text/html": [
       "<script>\n",
       "    require(['d3'],  function(d3) {\n",
       "    d3.select(\".usersvg #circuitSDjracer\").attr(\"transform\", \"translate(19 14)\");\n",
       "    }); \n",
       "</script>\n"
      ]
     },
     "metadata": {},
     "output_type": "display_data"
    },
    {
     "data": {
      "text/html": [
       "<script>\n",
       "    require(['d3'],  function(d3) {\n",
       "    d3.select(\".usersvg #circuitSDjracer\").attr(\"transform\", \"translate(20 14)\");\n",
       "    }); \n",
       "</script>\n"
      ]
     },
     "metadata": {},
     "output_type": "display_data"
    },
    {
     "data": {
      "text/html": [
       "<script>\n",
       "    require(['d3'],  function(d3) {\n",
       "    d3.select(\".usersvg #circuitSDjracer\").attr(\"transform\", \"translate(21 14)\");\n",
       "    }); \n",
       "</script>\n"
      ]
     },
     "metadata": {},
     "output_type": "display_data"
    },
    {
     "data": {
      "text/html": [
       "<script>\n",
       "    require(['d3'],  function(d3) {\n",
       "    d3.select(\".usersvg #circuitSDjracer\").attr(\"transform\", \"translate(22 14)\");\n",
       "    }); \n",
       "</script>\n"
      ]
     },
     "metadata": {},
     "output_type": "display_data"
    },
    {
     "data": {
      "text/html": [
       "<script>\n",
       "    require(['d3'],  function(d3) {\n",
       "    d3.select(\".usersvg #circuitSDjracer\").attr(\"transform\", \"translate(23 14)\");\n",
       "    }); \n",
       "</script>\n"
      ]
     },
     "metadata": {},
     "output_type": "display_data"
    },
    {
     "data": {
      "text/html": [
       "<script>\n",
       "    require(['d3'],  function(d3) {\n",
       "    d3.select(\".usersvg #circuitSDjracer\").attr(\"transform\", \"translate(24 14)\");\n",
       "    }); \n",
       "</script>\n"
      ]
     },
     "metadata": {},
     "output_type": "display_data"
    },
    {
     "data": {
      "text/html": [
       "<script>\n",
       "    require(['d3'],  function(d3) {\n",
       "    d3.select(\".usersvg #circuitSDjracer\").attr(\"transform\", \"translate(25 14)\");\n",
       "    }); \n",
       "</script>\n"
      ]
     },
     "metadata": {},
     "output_type": "display_data"
    },
    {
     "data": {
      "text/html": [
       "<script>\n",
       "    require(['d3'],  function(d3) {\n",
       "    d3.select(\".usersvg #circuitSDjracer\").attr(\"transform\", \"translate(26 14)\");\n",
       "    }); \n",
       "</script>\n"
      ]
     },
     "metadata": {},
     "output_type": "display_data"
    },
    {
     "data": {
      "text/html": [
       "<script>\n",
       "    require(['d3'],  function(d3) {\n",
       "    d3.select(\".usersvg #circuitSDjracer\").attr(\"transform\", \"translate(27 14)\");\n",
       "    }); \n",
       "</script>\n"
      ]
     },
     "metadata": {},
     "output_type": "display_data"
    },
    {
     "data": {
      "text/html": [
       "<script>\n",
       "    require(['d3'],  function(d3) {\n",
       "    d3.select(\".usersvg #circuitSDjracer\").attr(\"transform\", \"translate(28 14)\");\n",
       "    }); \n",
       "</script>\n"
      ]
     },
     "metadata": {},
     "output_type": "display_data"
    },
    {
     "data": {
      "text/html": [
       "<script>\n",
       "    require(['d3'],  function(d3) {\n",
       "    d3.select(\".usersvg #circuitSDjracer\").attr(\"transform\", \"translate(29 14)\");\n",
       "    }); \n",
       "</script>\n"
      ]
     },
     "metadata": {},
     "output_type": "display_data"
    },
    {
     "data": {
      "text/html": [
       "<script>\n",
       "    require(['d3'],  function(d3) {\n",
       "    d3.select(\".usersvg #circuitSDjracer\").attr(\"transform\", \"translate(0 15)\");\n",
       "    }); \n",
       "</script>\n"
      ]
     },
     "metadata": {},
     "output_type": "display_data"
    },
    {
     "data": {
      "text/html": [
       "<script>\n",
       "    require(['d3'],  function(d3) {\n",
       "    d3.select(\".usersvg #circuitSDjracer\").attr(\"transform\", \"translate(1 15)\");\n",
       "    }); \n",
       "</script>\n"
      ]
     },
     "metadata": {},
     "output_type": "display_data"
    },
    {
     "data": {
      "text/html": [
       "<script>\n",
       "    require(['d3'],  function(d3) {\n",
       "    d3.select(\".usersvg #circuitSDjracer\").attr(\"transform\", \"translate(2 15)\");\n",
       "    }); \n",
       "</script>\n"
      ]
     },
     "metadata": {},
     "output_type": "display_data"
    },
    {
     "data": {
      "text/html": [
       "<script>\n",
       "    require(['d3'],  function(d3) {\n",
       "    d3.select(\".usersvg #circuitSDjracer\").attr(\"transform\", \"translate(3 15)\");\n",
       "    }); \n",
       "</script>\n"
      ]
     },
     "metadata": {},
     "output_type": "display_data"
    },
    {
     "data": {
      "text/html": [
       "<script>\n",
       "    require(['d3'],  function(d3) {\n",
       "    d3.select(\".usersvg #circuitSDjracer\").attr(\"transform\", \"translate(4 15)\");\n",
       "    }); \n",
       "</script>\n"
      ]
     },
     "metadata": {},
     "output_type": "display_data"
    },
    {
     "data": {
      "text/html": [
       "<script>\n",
       "    require(['d3'],  function(d3) {\n",
       "    d3.select(\".usersvg #circuitSDjracer\").attr(\"transform\", \"translate(5 15)\");\n",
       "    }); \n",
       "</script>\n"
      ]
     },
     "metadata": {},
     "output_type": "display_data"
    },
    {
     "data": {
      "text/html": [
       "<script>\n",
       "    require(['d3'],  function(d3) {\n",
       "    d3.select(\".usersvg #circuitSDjracer\").attr(\"transform\", \"translate(6 15)\");\n",
       "    }); \n",
       "</script>\n"
      ]
     },
     "metadata": {},
     "output_type": "display_data"
    },
    {
     "data": {
      "text/html": [
       "<script>\n",
       "    require(['d3'],  function(d3) {\n",
       "    d3.select(\".usersvg #circuitSDjracer\").attr(\"transform\", \"translate(7 15)\");\n",
       "    }); \n",
       "</script>\n"
      ]
     },
     "metadata": {},
     "output_type": "display_data"
    },
    {
     "data": {
      "text/html": [
       "<script>\n",
       "    require(['d3'],  function(d3) {\n",
       "    d3.select(\".usersvg #circuitSDjracer\").attr(\"transform\", \"translate(8 15)\");\n",
       "    }); \n",
       "</script>\n"
      ]
     },
     "metadata": {},
     "output_type": "display_data"
    },
    {
     "data": {
      "text/html": [
       "<script>\n",
       "    require(['d3'],  function(d3) {\n",
       "    d3.select(\".usersvg #circuitSDjracer\").attr(\"transform\", \"translate(9 15)\");\n",
       "    }); \n",
       "</script>\n"
      ]
     },
     "metadata": {},
     "output_type": "display_data"
    },
    {
     "data": {
      "text/html": [
       "<script>\n",
       "    require(['d3'],  function(d3) {\n",
       "    d3.select(\".usersvg #circuitSDjracer\").attr(\"transform\", \"translate(10 15)\");\n",
       "    }); \n",
       "</script>\n"
      ]
     },
     "metadata": {},
     "output_type": "display_data"
    },
    {
     "data": {
      "text/html": [
       "<script>\n",
       "    require(['d3'],  function(d3) {\n",
       "    d3.select(\".usersvg #circuitSDjracer\").attr(\"transform\", \"translate(11 15)\");\n",
       "    }); \n",
       "</script>\n"
      ]
     },
     "metadata": {},
     "output_type": "display_data"
    },
    {
     "data": {
      "text/html": [
       "<script>\n",
       "    require(['d3'],  function(d3) {\n",
       "    d3.select(\".usersvg #circuitSDjracer\").attr(\"transform\", \"translate(12 15)\");\n",
       "    }); \n",
       "</script>\n"
      ]
     },
     "metadata": {},
     "output_type": "display_data"
    },
    {
     "data": {
      "text/html": [
       "<script>\n",
       "    require(['d3'],  function(d3) {\n",
       "    d3.select(\".usersvg #circuitSDjracer\").attr(\"transform\", \"translate(13 15)\");\n",
       "    }); \n",
       "</script>\n"
      ]
     },
     "metadata": {},
     "output_type": "display_data"
    },
    {
     "data": {
      "text/html": [
       "<script>\n",
       "    require(['d3'],  function(d3) {\n",
       "    d3.select(\".usersvg #circuitSDjracer\").attr(\"transform\", \"translate(14 15)\");\n",
       "    }); \n",
       "</script>\n"
      ]
     },
     "metadata": {},
     "output_type": "display_data"
    },
    {
     "data": {
      "text/html": [
       "<script>\n",
       "    require(['d3'],  function(d3) {\n",
       "    d3.select(\".usersvg #circuitSDjracer\").attr(\"transform\", \"translate(15 15)\");\n",
       "    }); \n",
       "</script>\n"
      ]
     },
     "metadata": {},
     "output_type": "display_data"
    },
    {
     "data": {
      "text/html": [
       "<script>\n",
       "    require(['d3'],  function(d3) {\n",
       "    d3.select(\".usersvg #circuitSDjracer\").attr(\"transform\", \"translate(16 15)\");\n",
       "    }); \n",
       "</script>\n"
      ]
     },
     "metadata": {},
     "output_type": "display_data"
    },
    {
     "data": {
      "text/html": [
       "<script>\n",
       "    require(['d3'],  function(d3) {\n",
       "    d3.select(\".usersvg #circuitSDjracer\").attr(\"transform\", \"translate(17 15)\");\n",
       "    }); \n",
       "</script>\n"
      ]
     },
     "metadata": {},
     "output_type": "display_data"
    },
    {
     "data": {
      "text/html": [
       "<script>\n",
       "    require(['d3'],  function(d3) {\n",
       "    d3.select(\".usersvg #circuitSDjracer\").attr(\"transform\", \"translate(18 15)\");\n",
       "    }); \n",
       "</script>\n"
      ]
     },
     "metadata": {},
     "output_type": "display_data"
    },
    {
     "data": {
      "text/html": [
       "<script>\n",
       "    require(['d3'],  function(d3) {\n",
       "    d3.select(\".usersvg #circuitSDjracer\").attr(\"transform\", \"translate(19 15)\");\n",
       "    }); \n",
       "</script>\n"
      ]
     },
     "metadata": {},
     "output_type": "display_data"
    },
    {
     "data": {
      "text/html": [
       "<script>\n",
       "    require(['d3'],  function(d3) {\n",
       "    d3.select(\".usersvg #circuitSDjracer\").attr(\"transform\", \"translate(20 15)\");\n",
       "    }); \n",
       "</script>\n"
      ]
     },
     "metadata": {},
     "output_type": "display_data"
    },
    {
     "data": {
      "text/html": [
       "<script>\n",
       "    require(['d3'],  function(d3) {\n",
       "    d3.select(\".usersvg #circuitSDjracer\").attr(\"transform\", \"translate(21 15)\");\n",
       "    }); \n",
       "</script>\n"
      ]
     },
     "metadata": {},
     "output_type": "display_data"
    },
    {
     "data": {
      "text/html": [
       "<script>\n",
       "    require(['d3'],  function(d3) {\n",
       "    d3.select(\".usersvg #circuitSDjracer\").attr(\"transform\", \"translate(22 15)\");\n",
       "    }); \n",
       "</script>\n"
      ]
     },
     "metadata": {},
     "output_type": "display_data"
    },
    {
     "data": {
      "text/html": [
       "<script>\n",
       "    require(['d3'],  function(d3) {\n",
       "    d3.select(\".usersvg #circuitSDjracer\").attr(\"transform\", \"translate(23 15)\");\n",
       "    }); \n",
       "</script>\n"
      ]
     },
     "metadata": {},
     "output_type": "display_data"
    },
    {
     "data": {
      "text/html": [
       "<script>\n",
       "    require(['d3'],  function(d3) {\n",
       "    d3.select(\".usersvg #circuitSDjracer\").attr(\"transform\", \"translate(24 15)\");\n",
       "    }); \n",
       "</script>\n"
      ]
     },
     "metadata": {},
     "output_type": "display_data"
    },
    {
     "data": {
      "text/html": [
       "<script>\n",
       "    require(['d3'],  function(d3) {\n",
       "    d3.select(\".usersvg #circuitSDjracer\").attr(\"transform\", \"translate(25 15)\");\n",
       "    }); \n",
       "</script>\n"
      ]
     },
     "metadata": {},
     "output_type": "display_data"
    },
    {
     "data": {
      "text/html": [
       "<script>\n",
       "    require(['d3'],  function(d3) {\n",
       "    d3.select(\".usersvg #circuitSDjracer\").attr(\"transform\", \"translate(26 15)\");\n",
       "    }); \n",
       "</script>\n"
      ]
     },
     "metadata": {},
     "output_type": "display_data"
    },
    {
     "data": {
      "text/html": [
       "<script>\n",
       "    require(['d3'],  function(d3) {\n",
       "    d3.select(\".usersvg #circuitSDjracer\").attr(\"transform\", \"translate(27 15)\");\n",
       "    }); \n",
       "</script>\n"
      ]
     },
     "metadata": {},
     "output_type": "display_data"
    },
    {
     "data": {
      "text/html": [
       "<script>\n",
       "    require(['d3'],  function(d3) {\n",
       "    d3.select(\".usersvg #circuitSDjracer\").attr(\"transform\", \"translate(28 15)\");\n",
       "    }); \n",
       "</script>\n"
      ]
     },
     "metadata": {},
     "output_type": "display_data"
    },
    {
     "data": {
      "text/html": [
       "<script>\n",
       "    require(['d3'],  function(d3) {\n",
       "    d3.select(\".usersvg #circuitSDjracer\").attr(\"transform\", \"translate(29 15)\");\n",
       "    }); \n",
       "</script>\n"
      ]
     },
     "metadata": {},
     "output_type": "display_data"
    },
    {
     "data": {
      "text/html": [
       "<script>\n",
       "    require(['d3'],  function(d3) {\n",
       "    d3.select(\".usersvg #circuitSDjracer\").attr(\"transform\", \"translate(0 16)\");\n",
       "    }); \n",
       "</script>\n"
      ]
     },
     "metadata": {},
     "output_type": "display_data"
    },
    {
     "data": {
      "text/html": [
       "<script>\n",
       "    require(['d3'],  function(d3) {\n",
       "    d3.select(\".usersvg #circuitSDjracer\").attr(\"transform\", \"translate(1 16)\");\n",
       "    }); \n",
       "</script>\n"
      ]
     },
     "metadata": {},
     "output_type": "display_data"
    },
    {
     "data": {
      "text/html": [
       "<script>\n",
       "    require(['d3'],  function(d3) {\n",
       "    d3.select(\".usersvg #circuitSDjracer\").attr(\"transform\", \"translate(2 16)\");\n",
       "    }); \n",
       "</script>\n"
      ]
     },
     "metadata": {},
     "output_type": "display_data"
    },
    {
     "data": {
      "text/html": [
       "<script>\n",
       "    require(['d3'],  function(d3) {\n",
       "    d3.select(\".usersvg #circuitSDjracer\").attr(\"transform\", \"translate(3 16)\");\n",
       "    }); \n",
       "</script>\n"
      ]
     },
     "metadata": {},
     "output_type": "display_data"
    },
    {
     "data": {
      "text/html": [
       "<script>\n",
       "    require(['d3'],  function(d3) {\n",
       "    d3.select(\".usersvg #circuitSDjracer\").attr(\"transform\", \"translate(4 16)\");\n",
       "    }); \n",
       "</script>\n"
      ]
     },
     "metadata": {},
     "output_type": "display_data"
    },
    {
     "data": {
      "text/html": [
       "<script>\n",
       "    require(['d3'],  function(d3) {\n",
       "    d3.select(\".usersvg #circuitSDjracer\").attr(\"transform\", \"translate(5 16)\");\n",
       "    }); \n",
       "</script>\n"
      ]
     },
     "metadata": {},
     "output_type": "display_data"
    },
    {
     "data": {
      "text/html": [
       "<script>\n",
       "    require(['d3'],  function(d3) {\n",
       "    d3.select(\".usersvg #circuitSDjracer\").attr(\"transform\", \"translate(6 16)\");\n",
       "    }); \n",
       "</script>\n"
      ]
     },
     "metadata": {},
     "output_type": "display_data"
    },
    {
     "data": {
      "text/html": [
       "<script>\n",
       "    require(['d3'],  function(d3) {\n",
       "    d3.select(\".usersvg #circuitSDjracer\").attr(\"transform\", \"translate(7 16)\");\n",
       "    }); \n",
       "</script>\n"
      ]
     },
     "metadata": {},
     "output_type": "display_data"
    },
    {
     "data": {
      "text/html": [
       "<script>\n",
       "    require(['d3'],  function(d3) {\n",
       "    d3.select(\".usersvg #circuitSDjracer\").attr(\"transform\", \"translate(8 16)\");\n",
       "    }); \n",
       "</script>\n"
      ]
     },
     "metadata": {},
     "output_type": "display_data"
    },
    {
     "data": {
      "text/html": [
       "<script>\n",
       "    require(['d3'],  function(d3) {\n",
       "    d3.select(\".usersvg #circuitSDjracer\").attr(\"transform\", \"translate(9 16)\");\n",
       "    }); \n",
       "</script>\n"
      ]
     },
     "metadata": {},
     "output_type": "display_data"
    },
    {
     "data": {
      "text/html": [
       "<script>\n",
       "    require(['d3'],  function(d3) {\n",
       "    d3.select(\".usersvg #circuitSDjracer\").attr(\"transform\", \"translate(10 16)\");\n",
       "    }); \n",
       "</script>\n"
      ]
     },
     "metadata": {},
     "output_type": "display_data"
    },
    {
     "data": {
      "text/html": [
       "<script>\n",
       "    require(['d3'],  function(d3) {\n",
       "    d3.select(\".usersvg #circuitSDjracer\").attr(\"transform\", \"translate(11 16)\");\n",
       "    }); \n",
       "</script>\n"
      ]
     },
     "metadata": {},
     "output_type": "display_data"
    },
    {
     "data": {
      "text/html": [
       "<script>\n",
       "    require(['d3'],  function(d3) {\n",
       "    d3.select(\".usersvg #circuitSDjracer\").attr(\"transform\", \"translate(12 16)\");\n",
       "    }); \n",
       "</script>\n"
      ]
     },
     "metadata": {},
     "output_type": "display_data"
    },
    {
     "data": {
      "text/html": [
       "<script>\n",
       "    require(['d3'],  function(d3) {\n",
       "    d3.select(\".usersvg #circuitSDjracer\").attr(\"transform\", \"translate(13 16)\");\n",
       "    }); \n",
       "</script>\n"
      ]
     },
     "metadata": {},
     "output_type": "display_data"
    },
    {
     "data": {
      "text/html": [
       "<script>\n",
       "    require(['d3'],  function(d3) {\n",
       "    d3.select(\".usersvg #circuitSDjracer\").attr(\"transform\", \"translate(14 16)\");\n",
       "    }); \n",
       "</script>\n"
      ]
     },
     "metadata": {},
     "output_type": "display_data"
    },
    {
     "data": {
      "text/html": [
       "<script>\n",
       "    require(['d3'],  function(d3) {\n",
       "    d3.select(\".usersvg #circuitSDjracer\").attr(\"transform\", \"translate(15 16)\");\n",
       "    }); \n",
       "</script>\n"
      ]
     },
     "metadata": {},
     "output_type": "display_data"
    },
    {
     "data": {
      "text/html": [
       "<script>\n",
       "    require(['d3'],  function(d3) {\n",
       "    d3.select(\".usersvg #circuitSDjracer\").attr(\"transform\", \"translate(16 16)\");\n",
       "    }); \n",
       "</script>\n"
      ]
     },
     "metadata": {},
     "output_type": "display_data"
    },
    {
     "data": {
      "text/html": [
       "<script>\n",
       "    require(['d3'],  function(d3) {\n",
       "    d3.select(\".usersvg #circuitSDjracer\").attr(\"transform\", \"translate(17 16)\");\n",
       "    }); \n",
       "</script>\n"
      ]
     },
     "metadata": {},
     "output_type": "display_data"
    },
    {
     "data": {
      "text/html": [
       "<script>\n",
       "    require(['d3'],  function(d3) {\n",
       "    d3.select(\".usersvg #circuitSDjracer\").attr(\"transform\", \"translate(18 16)\");\n",
       "    }); \n",
       "</script>\n"
      ]
     },
     "metadata": {},
     "output_type": "display_data"
    },
    {
     "data": {
      "text/html": [
       "<script>\n",
       "    require(['d3'],  function(d3) {\n",
       "    d3.select(\".usersvg #circuitSDjracer\").attr(\"transform\", \"translate(19 16)\");\n",
       "    }); \n",
       "</script>\n"
      ]
     },
     "metadata": {},
     "output_type": "display_data"
    },
    {
     "data": {
      "text/html": [
       "<script>\n",
       "    require(['d3'],  function(d3) {\n",
       "    d3.select(\".usersvg #circuitSDjracer\").attr(\"transform\", \"translate(20 16)\");\n",
       "    }); \n",
       "</script>\n"
      ]
     },
     "metadata": {},
     "output_type": "display_data"
    },
    {
     "data": {
      "text/html": [
       "<script>\n",
       "    require(['d3'],  function(d3) {\n",
       "    d3.select(\".usersvg #circuitSDjracer\").attr(\"transform\", \"translate(21 16)\");\n",
       "    }); \n",
       "</script>\n"
      ]
     },
     "metadata": {},
     "output_type": "display_data"
    },
    {
     "data": {
      "text/html": [
       "<script>\n",
       "    require(['d3'],  function(d3) {\n",
       "    d3.select(\".usersvg #circuitSDjracer\").attr(\"transform\", \"translate(22 16)\");\n",
       "    }); \n",
       "</script>\n"
      ]
     },
     "metadata": {},
     "output_type": "display_data"
    },
    {
     "data": {
      "text/html": [
       "<script>\n",
       "    require(['d3'],  function(d3) {\n",
       "    d3.select(\".usersvg #circuitSDjracer\").attr(\"transform\", \"translate(23 16)\");\n",
       "    }); \n",
       "</script>\n"
      ]
     },
     "metadata": {},
     "output_type": "display_data"
    },
    {
     "data": {
      "text/html": [
       "<script>\n",
       "    require(['d3'],  function(d3) {\n",
       "    d3.select(\".usersvg #circuitSDjracer\").attr(\"transform\", \"translate(24 16)\");\n",
       "    }); \n",
       "</script>\n"
      ]
     },
     "metadata": {},
     "output_type": "display_data"
    },
    {
     "data": {
      "text/html": [
       "<script>\n",
       "    require(['d3'],  function(d3) {\n",
       "    d3.select(\".usersvg #circuitSDjracer\").attr(\"transform\", \"translate(25 16)\");\n",
       "    }); \n",
       "</script>\n"
      ]
     },
     "metadata": {},
     "output_type": "display_data"
    },
    {
     "data": {
      "text/html": [
       "<script>\n",
       "    require(['d3'],  function(d3) {\n",
       "    d3.select(\".usersvg #circuitSDjracer\").attr(\"transform\", \"translate(26 16)\");\n",
       "    }); \n",
       "</script>\n"
      ]
     },
     "metadata": {},
     "output_type": "display_data"
    },
    {
     "data": {
      "text/html": [
       "<script>\n",
       "    require(['d3'],  function(d3) {\n",
       "    d3.select(\".usersvg #circuitSDjracer\").attr(\"transform\", \"translate(27 16)\");\n",
       "    }); \n",
       "</script>\n"
      ]
     },
     "metadata": {},
     "output_type": "display_data"
    },
    {
     "data": {
      "text/html": [
       "<script>\n",
       "    require(['d3'],  function(d3) {\n",
       "    d3.select(\".usersvg #circuitSDjracer\").attr(\"transform\", \"translate(28 16)\");\n",
       "    }); \n",
       "</script>\n"
      ]
     },
     "metadata": {},
     "output_type": "display_data"
    },
    {
     "data": {
      "text/html": [
       "<script>\n",
       "    require(['d3'],  function(d3) {\n",
       "    d3.select(\".usersvg #circuitSDjracer\").attr(\"transform\", \"translate(29 16)\");\n",
       "    }); \n",
       "</script>\n"
      ]
     },
     "metadata": {},
     "output_type": "display_data"
    },
    {
     "data": {
      "text/html": [
       "<script>\n",
       "    require(['d3'],  function(d3) {\n",
       "    d3.select(\".usersvg #circuitSDjracer\").attr(\"transform\", \"translate(0 17)\");\n",
       "    }); \n",
       "</script>\n"
      ]
     },
     "metadata": {},
     "output_type": "display_data"
    },
    {
     "data": {
      "text/html": [
       "<script>\n",
       "    require(['d3'],  function(d3) {\n",
       "    d3.select(\".usersvg #circuitSDjracer\").attr(\"transform\", \"translate(1 17)\");\n",
       "    }); \n",
       "</script>\n"
      ]
     },
     "metadata": {},
     "output_type": "display_data"
    },
    {
     "data": {
      "text/html": [
       "<script>\n",
       "    require(['d3'],  function(d3) {\n",
       "    d3.select(\".usersvg #circuitSDjracer\").attr(\"transform\", \"translate(2 17)\");\n",
       "    }); \n",
       "</script>\n"
      ]
     },
     "metadata": {},
     "output_type": "display_data"
    },
    {
     "data": {
      "text/html": [
       "<script>\n",
       "    require(['d3'],  function(d3) {\n",
       "    d3.select(\".usersvg #circuitSDjracer\").attr(\"transform\", \"translate(3 17)\");\n",
       "    }); \n",
       "</script>\n"
      ]
     },
     "metadata": {},
     "output_type": "display_data"
    },
    {
     "data": {
      "text/html": [
       "<script>\n",
       "    require(['d3'],  function(d3) {\n",
       "    d3.select(\".usersvg #circuitSDjracer\").attr(\"transform\", \"translate(4 17)\");\n",
       "    }); \n",
       "</script>\n"
      ]
     },
     "metadata": {},
     "output_type": "display_data"
    },
    {
     "data": {
      "text/html": [
       "<script>\n",
       "    require(['d3'],  function(d3) {\n",
       "    d3.select(\".usersvg #circuitSDjracer\").attr(\"transform\", \"translate(5 17)\");\n",
       "    }); \n",
       "</script>\n"
      ]
     },
     "metadata": {},
     "output_type": "display_data"
    },
    {
     "data": {
      "text/html": [
       "<script>\n",
       "    require(['d3'],  function(d3) {\n",
       "    d3.select(\".usersvg #circuitSDjracer\").attr(\"transform\", \"translate(6 17)\");\n",
       "    }); \n",
       "</script>\n"
      ]
     },
     "metadata": {},
     "output_type": "display_data"
    },
    {
     "data": {
      "text/html": [
       "<script>\n",
       "    require(['d3'],  function(d3) {\n",
       "    d3.select(\".usersvg #circuitSDjracer\").attr(\"transform\", \"translate(7 17)\");\n",
       "    }); \n",
       "</script>\n"
      ]
     },
     "metadata": {},
     "output_type": "display_data"
    },
    {
     "data": {
      "text/html": [
       "<script>\n",
       "    require(['d3'],  function(d3) {\n",
       "    d3.select(\".usersvg #circuitSDjracer\").attr(\"transform\", \"translate(8 17)\");\n",
       "    }); \n",
       "</script>\n"
      ]
     },
     "metadata": {},
     "output_type": "display_data"
    },
    {
     "data": {
      "text/html": [
       "<script>\n",
       "    require(['d3'],  function(d3) {\n",
       "    d3.select(\".usersvg #circuitSDjracer\").attr(\"transform\", \"translate(9 17)\");\n",
       "    }); \n",
       "</script>\n"
      ]
     },
     "metadata": {},
     "output_type": "display_data"
    },
    {
     "data": {
      "text/html": [
       "<script>\n",
       "    require(['d3'],  function(d3) {\n",
       "    d3.select(\".usersvg #circuitSDjracer\").attr(\"transform\", \"translate(10 17)\");\n",
       "    }); \n",
       "</script>\n"
      ]
     },
     "metadata": {},
     "output_type": "display_data"
    },
    {
     "data": {
      "text/html": [
       "<script>\n",
       "    require(['d3'],  function(d3) {\n",
       "    d3.select(\".usersvg #circuitSDjracer\").attr(\"transform\", \"translate(11 17)\");\n",
       "    }); \n",
       "</script>\n"
      ]
     },
     "metadata": {},
     "output_type": "display_data"
    },
    {
     "data": {
      "text/html": [
       "<script>\n",
       "    require(['d3'],  function(d3) {\n",
       "    d3.select(\".usersvg #circuitSDjracer\").attr(\"transform\", \"translate(12 17)\");\n",
       "    }); \n",
       "</script>\n"
      ]
     },
     "metadata": {},
     "output_type": "display_data"
    },
    {
     "data": {
      "text/html": [
       "<script>\n",
       "    require(['d3'],  function(d3) {\n",
       "    d3.select(\".usersvg #circuitSDjracer\").attr(\"transform\", \"translate(13 17)\");\n",
       "    }); \n",
       "</script>\n"
      ]
     },
     "metadata": {},
     "output_type": "display_data"
    },
    {
     "data": {
      "text/html": [
       "<script>\n",
       "    require(['d3'],  function(d3) {\n",
       "    d3.select(\".usersvg #circuitSDjracer\").attr(\"transform\", \"translate(14 17)\");\n",
       "    }); \n",
       "</script>\n"
      ]
     },
     "metadata": {},
     "output_type": "display_data"
    },
    {
     "data": {
      "text/html": [
       "<script>\n",
       "    require(['d3'],  function(d3) {\n",
       "    d3.select(\".usersvg #circuitSDjracer\").attr(\"transform\", \"translate(15 17)\");\n",
       "    }); \n",
       "</script>\n"
      ]
     },
     "metadata": {},
     "output_type": "display_data"
    },
    {
     "data": {
      "text/html": [
       "<script>\n",
       "    require(['d3'],  function(d3) {\n",
       "    d3.select(\".usersvg #circuitSDjracer\").attr(\"transform\", \"translate(16 17)\");\n",
       "    }); \n",
       "</script>\n"
      ]
     },
     "metadata": {},
     "output_type": "display_data"
    },
    {
     "data": {
      "text/html": [
       "<script>\n",
       "    require(['d3'],  function(d3) {\n",
       "    d3.select(\".usersvg #circuitSDjracer\").attr(\"transform\", \"translate(17 17)\");\n",
       "    }); \n",
       "</script>\n"
      ]
     },
     "metadata": {},
     "output_type": "display_data"
    },
    {
     "data": {
      "text/html": [
       "<script>\n",
       "    require(['d3'],  function(d3) {\n",
       "    d3.select(\".usersvg #circuitSDjracer\").attr(\"transform\", \"translate(18 17)\");\n",
       "    }); \n",
       "</script>\n"
      ]
     },
     "metadata": {},
     "output_type": "display_data"
    },
    {
     "data": {
      "text/html": [
       "<script>\n",
       "    require(['d3'],  function(d3) {\n",
       "    d3.select(\".usersvg #circuitSDjracer\").attr(\"transform\", \"translate(19 17)\");\n",
       "    }); \n",
       "</script>\n"
      ]
     },
     "metadata": {},
     "output_type": "display_data"
    },
    {
     "data": {
      "text/html": [
       "<script>\n",
       "    require(['d3'],  function(d3) {\n",
       "    d3.select(\".usersvg #circuitSDjracer\").attr(\"transform\", \"translate(20 17)\");\n",
       "    }); \n",
       "</script>\n"
      ]
     },
     "metadata": {},
     "output_type": "display_data"
    },
    {
     "data": {
      "text/html": [
       "<script>\n",
       "    require(['d3'],  function(d3) {\n",
       "    d3.select(\".usersvg #circuitSDjracer\").attr(\"transform\", \"translate(21 17)\");\n",
       "    }); \n",
       "</script>\n"
      ]
     },
     "metadata": {},
     "output_type": "display_data"
    },
    {
     "data": {
      "text/html": [
       "<script>\n",
       "    require(['d3'],  function(d3) {\n",
       "    d3.select(\".usersvg #circuitSDjracer\").attr(\"transform\", \"translate(22 17)\");\n",
       "    }); \n",
       "</script>\n"
      ]
     },
     "metadata": {},
     "output_type": "display_data"
    },
    {
     "data": {
      "text/html": [
       "<script>\n",
       "    require(['d3'],  function(d3) {\n",
       "    d3.select(\".usersvg #circuitSDjracer\").attr(\"transform\", \"translate(23 17)\");\n",
       "    }); \n",
       "</script>\n"
      ]
     },
     "metadata": {},
     "output_type": "display_data"
    },
    {
     "data": {
      "text/html": [
       "<script>\n",
       "    require(['d3'],  function(d3) {\n",
       "    d3.select(\".usersvg #circuitSDjracer\").attr(\"transform\", \"translate(24 17)\");\n",
       "    }); \n",
       "</script>\n"
      ]
     },
     "metadata": {},
     "output_type": "display_data"
    },
    {
     "data": {
      "text/html": [
       "<script>\n",
       "    require(['d3'],  function(d3) {\n",
       "    d3.select(\".usersvg #circuitSDjracer\").attr(\"transform\", \"translate(25 17)\");\n",
       "    }); \n",
       "</script>\n"
      ]
     },
     "metadata": {},
     "output_type": "display_data"
    },
    {
     "data": {
      "text/html": [
       "<script>\n",
       "    require(['d3'],  function(d3) {\n",
       "    d3.select(\".usersvg #circuitSDjracer\").attr(\"transform\", \"translate(26 17)\");\n",
       "    }); \n",
       "</script>\n"
      ]
     },
     "metadata": {},
     "output_type": "display_data"
    },
    {
     "data": {
      "text/html": [
       "<script>\n",
       "    require(['d3'],  function(d3) {\n",
       "    d3.select(\".usersvg #circuitSDjracer\").attr(\"transform\", \"translate(27 17)\");\n",
       "    }); \n",
       "</script>\n"
      ]
     },
     "metadata": {},
     "output_type": "display_data"
    },
    {
     "data": {
      "text/html": [
       "<script>\n",
       "    require(['d3'],  function(d3) {\n",
       "    d3.select(\".usersvg #circuitSDjracer\").attr(\"transform\", \"translate(28 17)\");\n",
       "    }); \n",
       "</script>\n"
      ]
     },
     "metadata": {},
     "output_type": "display_data"
    },
    {
     "data": {
      "text/html": [
       "<script>\n",
       "    require(['d3'],  function(d3) {\n",
       "    d3.select(\".usersvg #circuitSDjracer\").attr(\"transform\", \"translate(29 17)\");\n",
       "    }); \n",
       "</script>\n"
      ]
     },
     "metadata": {},
     "output_type": "display_data"
    }
   ],
   "source": [
    "ccanvas = render(c, rand(c.begin_states), 400, 600)\n",
    "animate(c, ccanvas, c.states)"
   ]
  },
  {
   "cell_type": "code",
   "execution_count": null,
   "metadata": {
    "collapsed": true
   },
   "outputs": [],
   "source": []
  }
 ],
 "metadata": {
  "kernelspec": {
   "display_name": "Julia 0.6.0-pre.alpha",
   "language": "julia",
   "name": "julia-0.6"
  },
  "language_info": {
   "file_extension": ".jl",
   "mimetype": "application/julia",
   "name": "julia",
   "version": "0.6.0"
  }
 },
 "nbformat": 4,
 "nbformat_minor": 1
}
