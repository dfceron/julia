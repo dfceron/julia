{
 "cells": [
  {
   "cell_type": "markdown",
   "metadata": {},
   "source": [
    "# Welcome to the Grid"
   ]
  },
  {
   "cell_type": "code",
   "execution_count": 1,
   "metadata": {
    "collapsed": false
   },
   "outputs": [],
   "source": [
    "type gridworld\n",
    "  width::Int\n",
    "  height::Int\n",
    "  blockedStates::Array{Array{Int, 1}, 1}\n",
    "  exitStates::Array{Array{Int, 1}, 1}\n",
    "end\n",
    "\n",
    "function states(g::gridworld)\n",
    "  stateIndex = [[x, y] for x in 1:g.width for y in 1:g.height]\n",
    "  stateIndex = filter(x->!(x in g.blockedStates), stateIndex)\n",
    "  return stateIndex\n",
    "end\n",
    "\n",
    "function printGrid(g::gridworld)\n",
    "  gridStates = states(g)\n",
    "  mat = Array(Any, g.width, g.height)\n",
    "  for (i, x) in enumerate(gridStates)\n",
    "    mat[x[1], x[2]] = \"$(x[1]),$(x[2])\"\n",
    "  end\n",
    "  for (i, x) in enumerate(g.blockedStates)\n",
    "    mat[x[1], x[2]] = \"*\"\n",
    "  end\n",
    "  for r in 1:size(mat, 1)\n",
    "    for c in 1:size(mat, 2)\n",
    "      @printf(\"%-4s   %s\", mat[r,c], \"\")\n",
    "    end\n",
    "    print(\"\\n\")\n",
    "  end\n",
    "  println(\"Blocked: *\")\n",
    "  println(\"Exit states: $(join([\"[$(x[1]),$(x[2])]\" for x in g.exitStates], \", \"))\")\n",
    "  return mat\n",
    "end\n",
    ";"
   ]
  },
  {
   "cell_type": "code",
   "execution_count": 3,
   "metadata": {
    "collapsed": false
   },
   "outputs": [
    {
     "name": "stdout",
     "output_type": "stream",
     "text": [
      "1,1    1,2    1,3    1,4    \n",
      "2,1    *      2,3    2,4    \n",
      "3,1    3,2    *      3,4    \n",
      "4,1    4,2    4,3    4,4    \n",
      "Blocked: *\n",
      "Exit states: [3,1]\n"
     ]
    }
   ],
   "source": [
    "g = gridworld(4,4, [[2,2], [3,3]], [[3, 1]])\n",
    "g.blockedStates\n",
    "g.exitStates\n",
    "gridStates = states(g)\n",
    "printGrid(g)\n",
    ";"
   ]
  },
  {
   "cell_type": "code",
   "execution_count": 6,
   "metadata": {
    "collapsed": false
   },
   "outputs": [],
   "source": [
    "function randomPolicy(pos::Array{Int, 1}, g::gridworld)\n",
    "  actions = states(g)\n",
    "  policy = zeros(size(actions, 1))\n",
    "  i,j = pos\n",
    "  if (pos in g.exitStates) # absorbent case\n",
    "    ind = find([x == pos for x in actions])\n",
    "    policy[ind] = 1\n",
    "  else # non absorvent\n",
    "    nbs = [[i-1,j], [i+1,j], [i,j-1], [i,j+1]]\n",
    "    nbs = filter(x -> x in actions, nbs)\n",
    "    n_nbs = size(nbs, 1)\n",
    "    for x in nbs\n",
    "      ind = find([state == x for state in actions])\n",
    "      policy[ind] = 1/n_nbs\n",
    "    end\n",
    "  end\n",
    "  return policy, actions\n",
    "end\n",
    ";"
   ]
  },
  {
   "cell_type": "code",
   "execution_count": 8,
   "metadata": {
    "collapsed": false
   },
   "outputs": [
    {
     "name": "stdout",
     "output_type": "stream",
     "text": [
      "([0.0,0.5,0.0,0.0,0.5,0.0,0.0,0.0,0.0,0.0,0.0,0.0,0.0,0.0],Array{Int64,1}[[1,1],[1,2],[1,3],[1,4],[2,1],[2,3],[2,4],[3,1],[3,2],[3,4],[4,1],[4,2],[4,3],[4,4]])"
     ]
    }
   ],
   "source": [
    "print(randomPolicy([1,1], g))"
   ]
  },
  {
   "cell_type": "code",
   "execution_count": 9,
   "metadata": {
    "collapsed": false
   },
   "outputs": [
    {
     "name": "stdout",
     "output_type": "stream",
     "text": [
      "([0.0,0.0,0.5,0.0,0.0,0.0,0.5,0.0,0.0,0.0,0.0,0.0,0.0,0.0],Array{Int64,1}[[1,1],[1,2],[1,3],[1,4],[2,1],[2,3],[2,4],[3,1],[3,2],[3,4],[4,1],[4,2],[4,3],[4,4]])"
     ]
    }
   ],
   "source": [
    "print(randomPolicy([1,4], g))\n"
   ]
  },
  {
   "cell_type": "code",
   "execution_count": 10,
   "metadata": {
    "collapsed": false
   },
   "outputs": [
    {
     "name": "stdout",
     "output_type": "stream",
     "text": [
      "([0.5,0.0,0.0,0.0,0.0,0.0,0.0,0.5,0.0,0.0,0.0,0.0,0.0,0.0],Array{Int64,1}[[1,1],[1,2],[1,3],[1,4],[2,1],[2,3],[2,4],[3,1],[3,2],[3,4],[4,1],[4,2],[4,3],[4,4]])"
     ]
    }
   ],
   "source": [
    "print(randomPolicy([2,1], g))\n"
   ]
  },
  {
   "cell_type": "code",
   "execution_count": 11,
   "metadata": {
    "collapsed": false
   },
   "outputs": [
    {
     "name": "stdout",
     "output_type": "stream",
     "text": [
      "([0.0,0.0,0.0,0.0,0.0,0.0,0.0,1.0,0.0,0.0,0.0,0.0,0.0,0.0],Array{Int64,1}[[1,1],[1,2],[1,3],[1,4],[2,1],[2,3],[2,4],[3,1],[3,2],[3,4],[4,1],[4,2],[4,3],[4,4]])"
     ]
    }
   ],
   "source": [
    "print(randomPolicy([3,1], g))"
   ]
  },
  {
   "cell_type": "code",
   "execution_count": 13,
   "metadata": {
    "collapsed": false
   },
   "outputs": [
    {
     "name": "stderr",
     "output_type": "stream",
     "text": [
      "WARNING: Method definition policyEval(Function, Main.gridworld) in module Main at In[12]:3 overwritten at In[13]:3.\n",
      "WARNING: Method definition #policyEval(Array{Any, 1}, Main.#policyEval, Function, Main.gridworld) in module Main overwritten.\n",
      "WARNING: Method definition valueGrid(Array{Float64, 1}, Main.gridworld) in module Main at In[12]:16 overwritten at In[13]:16.\n"
     ]
    }
   ],
   "source": [
    "\n",
    "function policyEval(policy::Function, g::gridworld; niter = 50)\n",
    "  gridStates = states(g)\n",
    "  transMat = reduce(vcat, [transpose(policy(x, g)[1]) for x in gridStates])\n",
    "  rewardVect = map(x -> (x in g.exitStates) ? 0 : -1, gridStates)\n",
    "  v = zeros(size(gridStates,1))\n",
    "  for i in 1:niter\n",
    "    v = rewardVect + transMat*v\n",
    "  end\n",
    "  return v\n",
    "end\n",
    "\n",
    "val = policyEval(randomPolicy, g, niter = 1000)\n",
    "\n",
    "function valueGrid(val::Array{Float64, 1}, g::gridworld)\n",
    "  gridStates = states(g)\n",
    "  mat = Array(Any, g.width, g.height)\n",
    "  for (i, x) in enumerate(gridStates)\n",
    "    mat[x[1], x[2]] = val[i]\n",
    "  end\n",
    "  for (i, x) in enumerate(g.blockedStates)\n",
    "    mat[x[1], x[2]] = \"*\"\n",
    "  end\n",
    "  println(\"Blocked: *\")\n",
    "  println(\"Exit states: $(join([\"[$(x[1]),$(x[2])]\" for x in g.exitStates], \", \"))\")\n",
    "  return mat\n",
    "end\n",
    ";"
   ]
  },
  {
   "cell_type": "code",
   "execution_count": 14,
   "metadata": {
    "collapsed": false
   },
   "outputs": [
    {
     "name": "stdout",
     "output_type": "stream",
     "text": [
      "Blocked: *\n",
      "Exit states: [3,1]\n"
     ]
    },
    {
     "data": {
      "text/plain": [
       "4×4 Array{Any,2}:\n",
       " -23.2  -31.8   -38.4   -40.2\n",
       " -12.6     \"*\"  -40.2   -40.0\n",
       "   0.0   -8.2      \"*\"  -36.6\n",
       "  -8.2  -14.4   -23.8   -31.2"
      ]
     },
     "execution_count": 14,
     "metadata": {},
     "output_type": "execute_result"
    }
   ],
   "source": [
    "valueGrid(val, g)\n"
   ]
  },
  {
   "cell_type": "code",
   "execution_count": 36,
   "metadata": {
    "collapsed": false
   },
   "outputs": [
    {
     "name": "stderr",
     "output_type": "stream",
     "text": [
      "WARNING: Method definition greedyArrowGrid(Array{Float64, 1}, Main.gridworld) in module Main at In[31]:25 overwritten at In[36]:3.\n"
     ]
    }
   ],
   "source": [
    "\n",
    "function greedyArrowGrid(val::Array{Float64, 1}, g::gridworld)\n",
    "  valGrid = valueGrid(val, g)\n",
    "  arrowGrid = Array(Any, g.width, g.height)\n",
    "  gridStates = states(g)\n",
    "  for s in gridStates\n",
    "    i, j = s\n",
    "    if s in g.exitStates\n",
    "      arrowGrid[i,j] = \"\"\n",
    "    else\n",
    "      arrow = \"\"\n",
    "      nbs = [[i-1,j], [i+1,j], [i,j-1], [i,j+1]]\n",
    "      nbsVals = map(x -> (x in gridStates) ? round(valGrid[x...], 2) : -Inf, nbs)\n",
    "      maxVal = maximum(nbsVals)\n",
    "      maxInd = find([x == maxVal for x in nbsVals])\n",
    "      for ind in maxInd\n",
    "        if ind == 1\n",
    "          arrow *= \"↑\"\n",
    "        elseif ind == 2\n",
    "          arrow *= \"↓\"\n",
    "        elseif ind == 3\n",
    "          arrow *= \"←\"\n",
    "        elseif ind == 4\n",
    "          arrow *= \"→\"\n",
    "        end\n",
    "      end\n",
    "      arrowGrid[i,j] = arrow\n",
    "    end\n",
    "  end\n",
    "  for x in g.blockedStates\n",
    "    arrowGrid[x...] = \"Blocked\"\n",
    "  end\n",
    "  for x in g.exitStates\n",
    "    arrowGrid[x...] = \"Exit\"\n",
    "  end\n",
    "  return arrowGrid\n",
    "end\n",
    ";"
   ]
  },
  {
   "cell_type": "code",
   "execution_count": 37,
   "metadata": {
    "collapsed": false
   },
   "outputs": [
    {
     "name": "stdout",
     "output_type": "stream",
     "text": [
      "Blocked: *\n",
      "Exit states: [3,1]\n"
     ]
    },
    {
     "data": {
      "text/plain": [
       "4×4 Array{Any,2}:\n",
       " \"↓\"     \"←\"        \"←\"        \"←\"\n",
       " \"↓\"     \"Blocked\"  \"↑\"        \"↓\"\n",
       " \"Exit\"  \"←\"        \"Blocked\"  \"↓\"\n",
       " \"↑\"     \"↑←\"       \"←\"        \"←\""
      ]
     },
     "execution_count": 37,
     "metadata": {},
     "output_type": "execute_result"
    }
   ],
   "source": [
    "\n",
    "g = gridworld(4,4, [[2,2], [3,3]], [[3, 1]])\n",
    "val = policyEval(randomPolicy, g, niter = 1000)\n",
    "greedyArrowGrid(val, g)\n"
   ]
  },
  {
   "cell_type": "code",
   "execution_count": 40,
   "metadata": {
    "collapsed": false
   },
   "outputs": [
    {
     "name": "stdout",
     "output_type": "stream",
     "text": [
      "Blocked: *\n",
      "Exit states: [6,6]\n"
     ]
    },
    {
     "data": {
      "text/plain": [
       "6×6 Array{Any,2}:\n",
       " \"↓→\"  \"→\"   \"→\"   \"→\"   \"↓\"   \"↓\"   \n",
       " \"↓\"   \"↓→\"  \"↓\"   \"↓\"   \"↓\"   \"↓\"   \n",
       " \"↓\"   \"→\"   \"↓→\"  \"↓\"   \"↓\"   \"↓\"   \n",
       " \"↓\"   \"→\"   \"→\"   \"↓→\"  \"↓\"   \"↓\"   \n",
       " \"→\"   \"→\"   \"→\"   \"→\"   \"↓→\"  \"↓\"   \n",
       " \"→\"   \"→\"   \"→\"   \"→\"   \"→\"   \"Exit\""
      ]
     },
     "execution_count": 40,
     "metadata": {},
     "output_type": "execute_result"
    }
   ],
   "source": [
    "g = gridworld(6,6, [], [[6,6]])\n",
    "val = policyEval(randomPolicy, g)\n",
    "greedyArrowGrid(val, g)\n"
   ]
  },
  {
   "cell_type": "code",
   "execution_count": 41,
   "metadata": {
    "collapsed": false
   },
   "outputs": [
    {
     "name": "stdout",
     "output_type": "stream",
     "text": [
      "Blocked: *\n",
      "Exit states: [3,1], [6,2], [1,11]\n"
     ]
    },
    {
     "data": {
      "text/plain": [
       "9×11 Array{Any,2}:\n",
       " \"↓\"     \"←\"        \"←\"        \"←\"  \"←\"  \"→\"  \"→\"  \"→\"  \"→\"  \"→\"  \"Exit\"\n",
       " \"↓\"     \"Blocked\"  \"↑\"        \"←\"  \"←\"  \"→\"  \"→\"  \"→\"  \"→\"  \"↑\"  \"↑\"   \n",
       " \"Exit\"  \"←\"        \"Blocked\"  \"↓\"  \"←\"  \"←\"  \"→\"  \"→\"  \"↑\"  \"↑\"  \"↑\"   \n",
       " \"↑\"     \"↑\"        \"←\"        \"←\"  \"←\"  \"←\"  \"↑\"  \"↑\"  \"↑\"  \"↑\"  \"↑\"   \n",
       " \"↑\"     \"↓\"        \"←\"        \"←\"  \"←\"  \"←\"  \"←\"  \"↑\"  \"↑\"  \"↑\"  \"↑\"   \n",
       " \"→\"     \"Exit\"     \"Blocked\"  \"↑\"  \"←\"  \"←\"  \"←\"  \"↑\"  \"↑\"  \"↑\"  \"↑\"   \n",
       " \"↑\"     \"↑\"        \"←\"        \"←\"  \"←\"  \"←\"  \"←\"  \"↑\"  \"↑\"  \"↑\"  \"↑\"   \n",
       " \"↑\"     \"↑\"        \"←\"        \"←\"  \"←\"  \"←\"  \"←\"  \"←\"  \"↑\"  \"↑\"  \"↑\"   \n",
       " \"↑\"     \"↑\"        \"←\"        \"←\"  \"←\"  \"←\"  \"←\"  \"←\"  \"←\"  \"↑\"  \"↑\"   "
      ]
     },
     "execution_count": 41,
     "metadata": {},
     "output_type": "execute_result"
    }
   ],
   "source": [
    "g = gridworld(9,11, [[2,2], [3,3], [6,3]], [[3, 1], [6,2], [1,11]])\n",
    "val = policyEval(randomPolicy, g)\n",
    "greedyArrowGrid(val, g)"
   ]
  },
  {
   "cell_type": "code",
   "execution_count": 42,
   "metadata": {
    "collapsed": false
   },
   "outputs": [
    {
     "name": "stdout",
     "output_type": "stream",
     "text": [
      "Blocked: *\n",
      "Exit states: [4,4]\n"
     ]
    },
    {
     "data": {
      "text/plain": [
       "4×4 Array{Any,2}:\n",
       " \"↓→\"  \"→\"        \"↓→\"       \"↓\"   \n",
       " \"↓\"   \"Blocked\"  \"→\"        \"↓\"   \n",
       " \"↓→\"  \"↓\"        \"Blocked\"  \"↓\"   \n",
       " \"→\"   \"→\"        \"→\"        \"Exit\""
      ]
     },
     "execution_count": 42,
     "metadata": {},
     "output_type": "execute_result"
    }
   ],
   "source": [
    "g = gridworld(4,4, [[2,2], [3,3]], [[4,4]])\n",
    "val = policyEval(randomPolicy, g)\n",
    "greedyArrowGrid(val, g)"
   ]
  },
  {
   "cell_type": "code",
   "execution_count": 43,
   "metadata": {
    "collapsed": false
   },
   "outputs": [
    {
     "name": "stderr",
     "output_type": "stream",
     "text": [
      "WARNING: Method definition randomPolicy2(Array{Int64, 1}, Main.gridworld) in module Main at In[31]:3 overwritten at In[43]:3.\n",
      "WARNING: Method definition greedyArrowGrid(Array{Float64, 1}, Main.gridworld) in module Main at In[36]:3 overwritten at In[43]:25.\n"
     ]
    }
   ],
   "source": [
    "\n",
    "function randomPolicy2(pos::Array{Int, 1}, g::gridworld)\n",
    "  actions = states(g)\n",
    "  policy = zeros(size(actions, 1))\n",
    "  i,j = pos\n",
    "  if (pos in g.exitStates) # absorbent case\n",
    "    ind = find([x == pos for x in actions])\n",
    "    policy[ind] = 1\n",
    "  else # non absorvent\n",
    "    nbs = [[i-1,j], [i+1,j], [i,j-1], [i,j+1],\n",
    "            [i-1,j-1], [i+1,j-1], [i+1,j+1], [i-1,j+1]]\n",
    "    nbs = filter(x -> x in actions, nbs)\n",
    "    n_nbs = size(nbs, 1)\n",
    "    for x in nbs\n",
    "      ind = find([state == x for state in actions])\n",
    "      policy[ind] = 1/n_nbs\n",
    "    end\n",
    "  end\n",
    "  return policy, actions\n",
    "end\n",
    "\n",
    "\n",
    "\n",
    "function greedyArrowGrid(val::Array{Float64, 1}, g::gridworld)\n",
    "  valGrid = valueGrid(val, g)\n",
    "  arrowGrid = Array(Any, g.width, g.height)\n",
    "  gridStates = states(g)\n",
    "  for s in gridStates\n",
    "    i, j = s\n",
    "    if s in g.exitStates\n",
    "      arrowGrid[i,j] = \"\"\n",
    "    else\n",
    "      arrow = \"\"\n",
    "      nbs = [[i-1,j], [i+1,j], [i,j-1], [i,j+1],\n",
    "              [i-1,j-1], [i+1,j-1], [i+1,j+1], [i-1,j+1]]\n",
    "      nbsVals = map(x -> (x in gridStates) ? round(valGrid[x...], 2) : -Inf, nbs)\n",
    "      maxVal = maximum(nbsVals)\n",
    "      maxInd = find([x == maxVal for x in nbsVals])\n",
    "      for ind in maxInd\n",
    "        if ind == 1\n",
    "          arrow *= \"↑\"\n",
    "        elseif ind == 2\n",
    "          arrow *= \"↓\"\n",
    "        elseif ind == 3\n",
    "          arrow *= \"←\"\n",
    "        elseif ind == 4\n",
    "          arrow *= \"→\"\n",
    "        elseif ind == 5\n",
    "          arrow *= \"↖\"\n",
    "        elseif ind == 6\n",
    "          arrow *= \"↙\"\n",
    "        elseif ind == 7\n",
    "          arrow *= \"↘\"\n",
    "        elseif ind == 8\n",
    "          arrow *= \"↗\"\n",
    "        end\n",
    "      end\n",
    "      arrowGrid[i,j] = arrow\n",
    "    end\n",
    "  end\n",
    "  for x in g.blockedStates\n",
    "    arrowGrid[x...] = \"Blocked\"\n",
    "  end\n",
    "  for x in g.exitStates\n",
    "    arrowGrid[x...] = \"Exit\"\n",
    "  end\n",
    "  return arrowGrid\n",
    "end\n",
    ";"
   ]
  },
  {
   "cell_type": "code",
   "execution_count": 44,
   "metadata": {
    "collapsed": false
   },
   "outputs": [
    {
     "name": "stdout",
     "output_type": "stream",
     "text": [
      "Blocked: *\n",
      "Exit states: [3,1]\n"
     ]
    },
    {
     "data": {
      "text/plain": [
       "4×4 Array{Any,2}:\n",
       " -19.2104   -21.6806  -25.1481  -25.7649\n",
       " -14.7402      \"*\"    -23.6237  -25.5231\n",
       "   0.0      -14.0698     \"*\"    -23.5556\n",
       "  -9.56495  -11.625   -18.8652  -22.2104"
      ]
     },
     "execution_count": 44,
     "metadata": {},
     "output_type": "execute_result"
    }
   ],
   "source": [
    "g = gridworld(4,4, [[2,2], [3,3]], [[3, 1]])\n",
    "val = policyEval(randomPolicy2, g, niter = 1000)\n",
    "valueGrid(val, g)"
   ]
  },
  {
   "cell_type": "code",
   "execution_count": 45,
   "metadata": {
    "collapsed": false
   },
   "outputs": [
    {
     "name": "stdout",
     "output_type": "stream",
     "text": [
      "Blocked: *\n",
      "Exit states: [3,1]\n"
     ]
    },
    {
     "data": {
      "text/plain": [
       "4×4 Array{Any,2}:\n",
       " \"↓\"     \"↙\"        \"←\"        \"↙\"\n",
       " \"↓\"     \"Blocked\"  \"↙\"        \"↓\"\n",
       " \"Exit\"  \"←\"        \"Blocked\"  \"↙\"\n",
       " \"↑\"     \"↖\"        \"←\"        \"←\""
      ]
     },
     "execution_count": 45,
     "metadata": {},
     "output_type": "execute_result"
    }
   ],
   "source": [
    "greedyArrowGrid(val, g)"
   ]
  },
  {
   "cell_type": "code",
   "execution_count": 46,
   "metadata": {
    "collapsed": false
   },
   "outputs": [
    {
     "name": "stdout",
     "output_type": "stream",
     "text": [
      "Blocked: *\n",
      "Exit states: [6,6]\n"
     ]
    },
    {
     "data": {
      "text/plain": [
       "6×6 Array{Any,2}:\n",
       " \"↘\"  \"↘\"  \"↘\"  \"↘\"  \"↘\"  \"↓\"   \n",
       " \"↘\"  \"↘\"  \"↘\"  \"↘\"  \"↘\"  \"↓\"   \n",
       " \"↘\"  \"↘\"  \"↘\"  \"↘\"  \"↘\"  \"↓\"   \n",
       " \"↘\"  \"↘\"  \"↘\"  \"↘\"  \"↘\"  \"↓\"   \n",
       " \"↘\"  \"↘\"  \"↘\"  \"↘\"  \"↘\"  \"↓\"   \n",
       " \"→\"  \"→\"  \"→\"  \"→\"  \"→\"  \"Exit\""
      ]
     },
     "execution_count": 46,
     "metadata": {},
     "output_type": "execute_result"
    }
   ],
   "source": [
    "g = gridworld(6,6, [], [[6, 6]])\n",
    "val = policyEval(randomPolicy2, g, niter = 1000)\n",
    "greedyArrowGrid(val, g)"
   ]
  },
  {
   "cell_type": "code",
   "execution_count": 48,
   "metadata": {
    "collapsed": false
   },
   "outputs": [
    {
     "name": "stdout",
     "output_type": "stream",
     "text": [
      "Blocked: *\n",
      "Exit states: [3,1], [6,2], [1,11]\n"
     ]
    },
    {
     "data": {
      "text/plain": [
       "9×11 Array{Any,2}:\n",
       " \"↓\"     \"↙\"        \"←\"        \"←\"  \"←\"  \"→\"  \"→\"  \"→\"  \"→\"  \"→\"  \"Exit\"\n",
       " \"↓\"     \"Blocked\"  \"↙\"        \"↖\"  \"↖\"  \"↗\"  \"↗\"  \"↗\"  \"↗\"  \"↗\"  \"↑\"   \n",
       " \"Exit\"  \"←\"        \"Blocked\"  \"↙\"  \"↙\"  \"↙\"  \"↗\"  \"↗\"  \"↗\"  \"↗\"  \"↑\"   \n",
       " \"↑\"     \"↖\"        \"↖\"        \"↙\"  \"←\"  \"←\"  \"↗\"  \"↗\"  \"↗\"  \"↗\"  \"↑\"   \n",
       " \"↘\"     \"↓\"        \"↙\"        \"←\"  \"↖\"  \"↖\"  \"↖\"  \"↗\"  \"↗\"  \"↗\"  \"↑\"   \n",
       " \"→\"     \"Exit\"     \"Blocked\"  \"↖\"  \"↖\"  \"↖\"  \"↖\"  \"↖\"  \"↗\"  \"↗\"  \"↑\"   \n",
       " \"↗\"     \"↑\"        \"↖\"        \"←\"  \"←\"  \"↖\"  \"↖\"  \"↖\"  \"↖\"  \"↗\"  \"↑\"   \n",
       " \"↑\"     \"↖\"        \"↖\"        \"↖\"  \"↖\"  \"↖\"  \"↖\"  \"↖\"  \"↖\"  \"↖\"  \"↑\"   \n",
       " \"↑\"     \"↖\"        \"↖\"        \"↖\"  \"↖\"  \"↖\"  \"↖\"  \"↖\"  \"↖\"  \"↖\"  \"↖\"   "
      ]
     },
     "execution_count": 48,
     "metadata": {},
     "output_type": "execute_result"
    }
   ],
   "source": [
    "g = gridworld(9,11, [[2,2], [3,3], [6,3]], [[3, 1], [6,2], [1,11]])\n",
    "val = policyEval(randomPolicy, g)\n",
    "greedyArrowGrid(val, g)"
   ]
  },
  {
   "cell_type": "code",
   "execution_count": null,
   "metadata": {
    "collapsed": true
   },
   "outputs": [],
   "source": []
  },
  {
   "cell_type": "code",
   "execution_count": null,
   "metadata": {
    "collapsed": true
   },
   "outputs": [],
   "source": []
  },
  {
   "cell_type": "code",
   "execution_count": null,
   "metadata": {
    "collapsed": true
   },
   "outputs": [],
   "source": []
  }
 ],
 "metadata": {
  "kernelspec": {
   "display_name": "Julia 0.5.0",
   "language": "julia",
   "name": "julia-0.5"
  },
  "language_info": {
   "file_extension": ".jl",
   "mimetype": "application/julia",
   "name": "julia",
   "version": "0.5.0"
  }
 },
 "nbformat": 4,
 "nbformat_minor": 1
}
