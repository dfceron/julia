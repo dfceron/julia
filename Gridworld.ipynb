{
 "cells": [
  {
   "cell_type": "markdown",
   "metadata": {},
   "source": [
    "# Welcome to the Grid"
   ]
  },
  {
   "cell_type": "code",
   "execution_count": 1,
   "metadata": {
    "collapsed": true
   },
   "outputs": [],
   "source": [
    "type gridworld\n",
    "  width::Int\n",
    "  height::Int\n",
    "  blockedStates::Array{Array{Int, 1}, 1}\n",
    "  exitStates::Array{Array{Int, 1}, 1}\n",
    "end\n",
    "\n",
    "function states(g::gridworld)\n",
    "  stateIndex = [[x, y] for x in 1:g.width for y in 1:g.height]\n",
    "  stateIndex = filter(x->!(x in g.blockedStates), stateIndex)\n",
    "  return stateIndex\n",
    "end\n",
    "\n",
    "function printGrid(g::gridworld)\n",
    "  gridStates = states(g)\n",
    "  mat = Array(Any, g.width, g.height)\n",
    "  for (i, x) in enumerate(gridStates)\n",
    "    mat[x[1], x[2]] = \"$(x[1]),$(x[2])\"\n",
    "  end\n",
    "  for (i, x) in enumerate(g.blockedStates)\n",
    "    mat[x[1], x[2]] = \"*\"\n",
    "  end\n",
    "  for r in 1:size(mat, 1)\n",
    "    for c in 1:size(mat, 2)\n",
    "      @printf(\"%-4s   %s\", mat[r,c], \"\")\n",
    "    end\n",
    "    print(\"\\n\")\n",
    "  end\n",
    "  println(\"Blocked: *\")\n",
    "  println(\"Exit states: $(join([\"[$(x[1]),$(x[2])]\" for x in g.exitStates], \", \"))\")\n",
    "  return mat\n",
    "end\n",
    ";"
   ]
  },
  {
   "cell_type": "code",
   "execution_count": 5,
   "metadata": {
    "collapsed": false
   },
   "outputs": [
    {
     "name": "stdout",
     "output_type": "stream",
     "text": [
      "1,1    1,2    1,3    1,4    \n",
      "2,1    *      2,3    2,4    \n",
      "3,1    3,2    *      3,4    \n",
      "4,1    4,2    4,3    *      \n",
      "Blocked: *\n",
      "Exit states: [3,1]\n"
     ]
    }
   ],
   "source": [
    "g = gridworld(4,4, [[2,2], [3,3],[4,4]], [[3, 1]])\n",
    "printGrid(g)\n",
    ";"
   ]
  },
  {
   "cell_type": "code",
   "execution_count": 6,
   "metadata": {
    "collapsed": false
   },
   "outputs": [
    {
     "data": {
      "text/plain": [
       "13-element Array{Array{Int64,1},1}:\n",
       " [1,1]\n",
       " [1,2]\n",
       " [1,3]\n",
       " [1,4]\n",
       " [2,1]\n",
       " [2,3]\n",
       " [2,4]\n",
       " [3,1]\n",
       " [3,2]\n",
       " [3,4]\n",
       " [4,1]\n",
       " [4,2]\n",
       " [4,3]"
      ]
     },
     "execution_count": 6,
     "metadata": {},
     "output_type": "execute_result"
    }
   ],
   "source": [
    "gridStates = states(g)"
   ]
  },
  {
   "cell_type": "code",
   "execution_count": 13,
   "metadata": {
    "collapsed": false
   },
   "outputs": [
    {
     "name": "stderr",
     "output_type": "stream",
     "text": [
      "WARNING: Method definition randomPolicy(Array{Int64, 1}, Main.gridworld) in module Main at In[7]:2 overwritten at In[13]:2.\n"
     ]
    }
   ],
   "source": [
    "function randomPolicy(pos::Array{Int, 1}, g::gridworld)\n",
    "  policy = zeros(size(states(g), 1))\n",
    "  i,j = pos\n",
    "  if (pos in g.exitStates) # absorbent case\n",
    "    ind = find([x == pos for x in states(g)])\n",
    "    policy[ind] = 1\n",
    "  else # non absorbent\n",
    "    nbs = [[i-1,j], [i+1,j], [i,j-1], [i,j+1]]\n",
    "    nbs = filter(x -> x in states(g), nbs)\n",
    "    n_nbs = size(nbs, 1)\n",
    "    for x in nbs\n",
    "      ind = find([state == x for state in states(g)])\n",
    "      policy[ind] = 1/n_nbs\n",
    "    end\n",
    "  end\n",
    "  return policy, states(g)\n",
    "end\n",
    ";"
   ]
  },
  {
   "cell_type": "code",
   "execution_count": 14,
   "metadata": {
    "collapsed": false
   },
   "outputs": [
    {
     "name": "stdout",
     "output_type": "stream",
     "text": [
      "([0.0,0.5,0.0,0.0,0.5,0.0,0.0,0.0,0.0,0.0,0.0,0.0,0.0],Array{Int64,1}[[1,1],[1,2],[1,3],[1,4],[2,1],[2,3],[2,4],[3,1],[3,2],[3,4],[4,1],[4,2],[4,3]])"
     ]
    }
   ],
   "source": [
    "print(randomPolicy([1,1], g))"
   ]
  },
  {
   "cell_type": "code",
   "execution_count": 15,
   "metadata": {
    "collapsed": false
   },
   "outputs": [
    {
     "name": "stdout",
     "output_type": "stream",
     "text": [
      "([0.0,0.0,0.5,0.0,0.0,0.0,0.5,0.0,0.0,0.0,0.0,0.0,0.0],Array{Int64,1}[[1,1],[1,2],[1,3],[1,4],[2,1],[2,3],[2,4],[3,1],[3,2],[3,4],[4,1],[4,2],[4,3]])"
     ]
    }
   ],
   "source": [
    "print(randomPolicy([1,4], g))\n"
   ]
  },
  {
   "cell_type": "code",
   "execution_count": 16,
   "metadata": {
    "collapsed": false
   },
   "outputs": [
    {
     "name": "stdout",
     "output_type": "stream",
     "text": [
      "([0.5,0.0,0.0,0.0,0.0,0.0,0.0,0.5,0.0,0.0,0.0,0.0,0.0],Array{Int64,1}[[1,1],[1,2],[1,3],[1,4],[2,1],[2,3],[2,4],[3,1],[3,2],[3,4],[4,1],[4,2],[4,3]])"
     ]
    }
   ],
   "source": [
    "print(randomPolicy([2,1], g))\n"
   ]
  },
  {
   "cell_type": "code",
   "execution_count": 17,
   "metadata": {
    "collapsed": false
   },
   "outputs": [
    {
     "name": "stdout",
     "output_type": "stream",
     "text": [
      "([0.0,0.0,0.0,0.0,0.0,0.0,0.0,1.0,0.0,0.0,0.0,0.0,0.0],Array{Int64,1}[[1,1],[1,2],[1,3],[1,4],[2,1],[2,3],[2,4],[3,1],[3,2],[3,4],[4,1],[4,2],[4,3]])"
     ]
    }
   ],
   "source": [
    "print(randomPolicy([3,1], g))"
   ]
  },
  {
   "cell_type": "code",
   "execution_count": 18,
   "metadata": {
    "collapsed": false
   },
   "outputs": [
    {
     "name": "stderr",
     "output_type": "stream",
     "text": [
      "WARNING: Method definition policyEval(Function, Main.gridworld) in module Main at In[12]:3 overwritten at In[18]:3.\n",
      "WARNING: Method definition #policyEval(Array{Any, 1}, Main.#policyEval, Function, Main.gridworld) in module Main overwritten.\n"
     ]
    }
   ],
   "source": [
    "\n",
    "function policyEval(policy::Function, g::gridworld; niter = 50)\n",
    "  gridStates = states(g)\n",
    "  transMat = reduce(vcat, [transpose(policy(x, g)[1]) for x in gridStates])\n",
    "  rewardVect = map(x -> (x in g.exitStates) ? 0 : -1, gridStates)\n",
    "  v = zeros(size(gridStates,1))\n",
    "  for i in 1:niter\n",
    "    v = rewardVect + transMat*v\n",
    "  end\n",
    "  return v\n",
    "end\n",
    "\n",
    "\n",
    "function valueGrid(val::Array{Float64, 1}, g::gridworld)\n",
    "  gridStates = states(g)\n",
    "  mat = Array(Any, g.width, g.height)\n",
    "  for (i, x) in enumerate(gridStates)\n",
    "    mat[x[1], x[2]] = val[i]\n",
    "  end\n",
    "  for (i, x) in enumerate(g.blockedStates)\n",
    "    mat[x[1], x[2]] = \"*\"\n",
    "  end\n",
    "  println(\"Blocked: *\")\n",
    "  println(\"Exit states: $(join([\"[$(x[1]),$(x[2])]\" for x in g.exitStates], \", \"))\")\n",
    "  return mat\n",
    "end\n",
    ";"
   ]
  },
  {
   "cell_type": "code",
   "execution_count": 32,
   "metadata": {
    "collapsed": false
   },
   "outputs": [
    {
     "name": "stdout",
     "output_type": "stream",
     "text": [
      "Blocked: *\n",
      "Exit states: [1,4]\n"
     ]
    },
    {
     "data": {
      "text/plain": [
       "6×4 Array{Any,2}:\n",
       " -120.5     -79.5     -36.5       0.0  \n",
       " -159.5        \"*\"    -27.0     -15.5  \n",
       " -196.5    -210.597      \"*\"    -16.5  \n",
       " -216.403  -222.694  -229.421      \"*\" \n",
       " -227.015  -230.355  -234.148  -236.779\n",
       " -231.288  -233.561  -236.039  -237.409"
      ]
     },
     "execution_count": 32,
     "metadata": {},
     "output_type": "execute_result"
    }
   ],
   "source": [
    "g = gridworld(6,4, [[2,2], [3,3],[4,4]], [ [1,4]])\n",
    "val = policyEval(randomPolicy, g, niter = 1000000)\n",
    "valueGrid(val, g)\n"
   ]
  },
  {
   "cell_type": "code",
   "execution_count": 33,
   "metadata": {
    "collapsed": false
   },
   "outputs": [],
   "source": [
    "\n",
    "function greedyArrowGrid(val::Array{Float64, 1}, g::gridworld)\n",
    "  valGrid = valueGrid(val, g)\n",
    "  arrowGrid = Array(Any, g.width, g.height)\n",
    "  gridStates = states(g)\n",
    "  for s in gridStates\n",
    "    i, j = s\n",
    "    if s in g.exitStates\n",
    "      arrowGrid[i,j] = \"\"\n",
    "    else\n",
    "      arrow = \"\"\n",
    "      nbs = [[i-1,j], [i+1,j], [i,j-1], [i,j+1]]\n",
    "      nbsVals = map(x -> (x in gridStates) ? round(valGrid[x...], 2) : -Inf, nbs)\n",
    "      maxVal = maximum(nbsVals)\n",
    "      maxInd = find([x == maxVal for x in nbsVals])\n",
    "      for ind in maxInd\n",
    "        if ind == 1\n",
    "          arrow *= \"↑\"\n",
    "        elseif ind == 2\n",
    "          arrow *= \"↓\"\n",
    "        elseif ind == 3\n",
    "          arrow *= \"←\"\n",
    "        elseif ind == 4\n",
    "          arrow *= \"→\"\n",
    "        end\n",
    "      end\n",
    "      arrowGrid[i,j] = arrow\n",
    "    end\n",
    "  end\n",
    "  for x in g.blockedStates\n",
    "    arrowGrid[x...] = \"Blocked\"\n",
    "  end\n",
    "  for x in g.exitStates\n",
    "    arrowGrid[x...] = \"Exit\"\n",
    "  end\n",
    "  return arrowGrid\n",
    "end\n",
    ";"
   ]
  },
  {
   "cell_type": "code",
   "execution_count": 49,
   "metadata": {
    "collapsed": false
   },
   "outputs": [
    {
     "name": "stdout",
     "output_type": "stream",
     "text": [
      "Blocked: *\n",
      "Exit states: [3,1], [5,5]\n"
     ]
    },
    {
     "data": {
      "text/plain": [
       "5×5 Array{Any,2}:\n",
       " \"→\"        \"←\"        \"Blocked\"  \"↓\"  \"↓\"   \n",
       " \"Blocked\"  \"Blocked\"  \"→\"        \"↓\"  \"↓\"   \n",
       " \"Exit\"     \"←\"        \"Blocked\"  \"↓\"  \"↓\"   \n",
       " \"↑\"        \"↑\"        \"←\"        \"↓\"  \"↓\"   \n",
       " \"↑\"        \"↑\"        \"→\"        \"→\"  \"Exit\""
      ]
     },
     "execution_count": 49,
     "metadata": {},
     "output_type": "execute_result"
    }
   ],
   "source": [
    "\n",
    "g = gridworld(5,5, [[2,1], [2,2], [3,3], [1,3]], [[3, 1], [5,5]])\n",
    "val = policyEval(randomPolicy, g, niter = 10000)\n",
    "greedyArrowGrid(val, g)\n"
   ]
  },
  {
   "cell_type": "code",
   "execution_count": 50,
   "metadata": {
    "collapsed": false
   },
   "outputs": [
    {
     "name": "stdout",
     "output_type": "stream",
     "text": [
      "Blocked: *\n",
      "Exit states: [3,1], [5,5]\n"
     ]
    },
    {
     "data": {
      "text/plain": [
       "5×5 Array{Any,2}:\n",
       " -10000.0     -10000.0         \"*\"    -35.2312  -34.9554\n",
       "       \"*\"          \"*\"     -34.5069  -33.5069  -32.6797\n",
       "      0.0         -8.02437     \"*\"    -27.6098  -26.5768\n",
       "    -10.4101     -14.0487   -17.8076  -19.7458  -16.4408\n",
       "    -14.1815     -15.9529   -16.6284  -13.1247    0.0   "
      ]
     },
     "execution_count": 50,
     "metadata": {},
     "output_type": "execute_result"
    }
   ],
   "source": [
    "valueGrid(val, g)"
   ]
  },
  {
   "cell_type": "code",
   "execution_count": 40,
   "metadata": {
    "collapsed": false
   },
   "outputs": [
    {
     "name": "stdout",
     "output_type": "stream",
     "text": [
      "Blocked: *\n",
      "Exit states: [6,6]\n"
     ]
    },
    {
     "data": {
      "text/plain": [
       "6×6 Array{Any,2}:\n",
       " \"↓→\"  \"→\"   \"→\"   \"→\"   \"↓\"   \"↓\"   \n",
       " \"↓\"   \"↓→\"  \"↓\"   \"↓\"   \"↓\"   \"↓\"   \n",
       " \"↓\"   \"→\"   \"↓→\"  \"↓\"   \"↓\"   \"↓\"   \n",
       " \"↓\"   \"→\"   \"→\"   \"↓→\"  \"↓\"   \"↓\"   \n",
       " \"→\"   \"→\"   \"→\"   \"→\"   \"↓→\"  \"↓\"   \n",
       " \"→\"   \"→\"   \"→\"   \"→\"   \"→\"   \"Exit\""
      ]
     },
     "execution_count": 40,
     "metadata": {},
     "output_type": "execute_result"
    }
   ],
   "source": [
    "g = gridworld(6,6, [], [[6,6]])\n",
    "val = policyEval(randomPolicy, g)\n",
    "greedyArrowGrid(val, g)\n"
   ]
  },
  {
   "cell_type": "code",
   "execution_count": 41,
   "metadata": {
    "collapsed": false
   },
   "outputs": [
    {
     "name": "stdout",
     "output_type": "stream",
     "text": [
      "Blocked: *\n",
      "Exit states: [3,1], [6,2], [1,11]\n"
     ]
    },
    {
     "data": {
      "text/plain": [
       "9×11 Array{Any,2}:\n",
       " \"↓\"     \"←\"        \"←\"        \"←\"  \"←\"  \"→\"  \"→\"  \"→\"  \"→\"  \"→\"  \"Exit\"\n",
       " \"↓\"     \"Blocked\"  \"↑\"        \"←\"  \"←\"  \"→\"  \"→\"  \"→\"  \"→\"  \"↑\"  \"↑\"   \n",
       " \"Exit\"  \"←\"        \"Blocked\"  \"↓\"  \"←\"  \"←\"  \"→\"  \"→\"  \"↑\"  \"↑\"  \"↑\"   \n",
       " \"↑\"     \"↑\"        \"←\"        \"←\"  \"←\"  \"←\"  \"↑\"  \"↑\"  \"↑\"  \"↑\"  \"↑\"   \n",
       " \"↑\"     \"↓\"        \"←\"        \"←\"  \"←\"  \"←\"  \"←\"  \"↑\"  \"↑\"  \"↑\"  \"↑\"   \n",
       " \"→\"     \"Exit\"     \"Blocked\"  \"↑\"  \"←\"  \"←\"  \"←\"  \"↑\"  \"↑\"  \"↑\"  \"↑\"   \n",
       " \"↑\"     \"↑\"        \"←\"        \"←\"  \"←\"  \"←\"  \"←\"  \"↑\"  \"↑\"  \"↑\"  \"↑\"   \n",
       " \"↑\"     \"↑\"        \"←\"        \"←\"  \"←\"  \"←\"  \"←\"  \"←\"  \"↑\"  \"↑\"  \"↑\"   \n",
       " \"↑\"     \"↑\"        \"←\"        \"←\"  \"←\"  \"←\"  \"←\"  \"←\"  \"←\"  \"↑\"  \"↑\"   "
      ]
     },
     "execution_count": 41,
     "metadata": {},
     "output_type": "execute_result"
    }
   ],
   "source": [
    "g = gridworld(9,11, [[2,2], [3,3], [6,3]], [[3, 1], [6,2], [1,11]])\n",
    "val = policyEval(randomPolicy, g)\n",
    "greedyArrowGrid(val, g)"
   ]
  },
  {
   "cell_type": "code",
   "execution_count": 42,
   "metadata": {
    "collapsed": false
   },
   "outputs": [
    {
     "name": "stdout",
     "output_type": "stream",
     "text": [
      "Blocked: *\n",
      "Exit states: [4,4]\n"
     ]
    },
    {
     "data": {
      "text/plain": [
       "4×4 Array{Any,2}:\n",
       " \"↓→\"  \"→\"        \"↓→\"       \"↓\"   \n",
       " \"↓\"   \"Blocked\"  \"→\"        \"↓\"   \n",
       " \"↓→\"  \"↓\"        \"Blocked\"  \"↓\"   \n",
       " \"→\"   \"→\"        \"→\"        \"Exit\""
      ]
     },
     "execution_count": 42,
     "metadata": {},
     "output_type": "execute_result"
    }
   ],
   "source": [
    "g = gridworld(4,4, [[2,2], [3,3]], [[4,4]])\n",
    "val = policyEval(randomPolicy, g)\n",
    "greedyArrowGrid(val, g)"
   ]
  },
  {
   "cell_type": "code",
   "execution_count": 53,
   "metadata": {
    "collapsed": false
   },
   "outputs": [
    {
     "name": "stderr",
     "output_type": "stream",
     "text": [
      "WARNING: Method definition randomPolicy2(Array{Int64, 1}, Main.gridworld) in module Main at In[51]:3 overwritten at In[53]:3.\n"
     ]
    }
   ],
   "source": [
    "\n",
    "function randomPolicy2(pos::Array{Int, 1}, g::gridworld)\n",
    "  actions = states(g)\n",
    "  policy = zeros(size(actions, 1))\n",
    "  i,j = pos\n",
    "  if (pos in g.exitStates) # absorbent case\n",
    "    ind = find([x == pos for x in actions])\n",
    "    policy[ind] = 1\n",
    "  else # non absorvent\n",
    "    nbs = [[i-1,j], [i+1,j], [i,j-1], [i,j+1],\n",
    "            [i-1,j-1], [i+1,j-1], [i+1,j+1], [i-1,j+1]]\n",
    "    nbs = filter(x -> x in actions, nbs)\n",
    "    n_nbs = size(nbs, 1)\n",
    "    for x in nbs\n",
    "      ind = find([state == x for state in actions])\n",
    "      policy[ind] = 1/n_nbs\n",
    "    end\n",
    "  end\n",
    "  return policy, actions\n",
    "end\n",
    "\n",
    "\n",
    "\n",
    "function greedyArrowGrid2(val::Array{Float64, 1}, g::gridworld)\n",
    "  valGrid = valueGrid(val, g)\n",
    "  arrowGrid = Array(Any, g.width, g.height)\n",
    "  gridStates = states(g)\n",
    "  for s in gridStates\n",
    "    i, j = s\n",
    "    if s in g.exitStates\n",
    "      arrowGrid[i,j] = \"\"\n",
    "    else\n",
    "      arrow = \"\"\n",
    "      nbs = [[i-1,j], [i+1,j], [i,j-1], [i,j+1],\n",
    "              [i-1,j-1], [i+1,j-1], [i+1,j+1], [i-1,j+1]]\n",
    "      nbsVals = map(x -> (x in gridStates) ? round(valGrid[x...], 2) : -Inf, nbs)\n",
    "      maxVal = maximum(nbsVals)\n",
    "      maxInd = find([x == maxVal for x in nbsVals])\n",
    "      for ind in maxInd\n",
    "        if ind == 1\n",
    "          arrow *= \"↑\"\n",
    "        elseif ind == 2\n",
    "          arrow *= \"↓\"\n",
    "        elseif ind == 3\n",
    "          arrow *= \"←\"\n",
    "        elseif ind == 4\n",
    "          arrow *= \"→\"\n",
    "        elseif ind == 5\n",
    "          arrow *= \"↖\"\n",
    "        elseif ind == 6\n",
    "          arrow *= \"↙\"\n",
    "        elseif ind == 7\n",
    "          arrow *= \"↘\"\n",
    "        elseif ind == 8\n",
    "          arrow *= \"↗\"\n",
    "        end\n",
    "      end\n",
    "      arrowGrid[i,j] = arrow\n",
    "    end\n",
    "  end\n",
    "  for x in g.blockedStates\n",
    "    arrowGrid[x...] = \"Blocked\"\n",
    "  end\n",
    "  for x in g.exitStates\n",
    "    arrowGrid[x...] = \"Exit\"\n",
    "  end\n",
    "  return arrowGrid\n",
    "end\n",
    ";"
   ]
  },
  {
   "cell_type": "code",
   "execution_count": 58,
   "metadata": {
    "collapsed": false
   },
   "outputs": [
    {
     "name": "stdout",
     "output_type": "stream",
     "text": [
      "Blocked: *\n",
      "Exit states: [3,1], [5,5]\n"
     ]
    },
    {
     "data": {
      "text/plain": [
       "5×5 Array{Any,2}:\n",
       " \"→\"        \"↘\"        \"Blocked\"  \"↘\"  \"↓\"   \n",
       " \"Blocked\"  \"Blocked\"  \"↙\"        \"↘\"  \"↓\"   \n",
       " \"Exit\"     \"←\"        \"Blocked\"  \"↘\"  \"↓\"   \n",
       " \"↑\"        \"↖\"        \"↖\"        \"↘\"  \"↓\"   \n",
       " \"↑\"        \"↖\"        \"→\"        \"→\"  \"Exit\""
      ]
     },
     "execution_count": 58,
     "metadata": {},
     "output_type": "execute_result"
    }
   ],
   "source": [
    "g = gridworld(5,5, [[2,1], [2,2], [3,3], [1,3]], [[3, 1], [5,5]])\n",
    "val = policyEval(randomPolicy, g)\n",
    "greedyArrowGrid2(val, g)"
   ]
  },
  {
   "cell_type": "code",
   "execution_count": 59,
   "metadata": {
    "collapsed": false
   },
   "outputs": [
    {
     "name": "stdout",
     "output_type": "stream",
     "text": [
      "Blocked: *\n",
      "Exit states: [3,1], [5,5]\n"
     ]
    },
    {
     "data": {
      "text/plain": [
       "5×5 Array{Any,2}:\n",
       " -50.0      -50.0        \"*\"   -29.5046  -29.282 \n",
       "    \"*\"        \"*\"    -28.952  -28.1638  -27.476 \n",
       "   0.0       -7.3975     \"*\"   -23.5074  -22.5775\n",
       "  -9.60023  -12.8439  -15.97   -17.251   -14.1901\n",
       " -13.0517   -14.588   -15.028  -11.705     0.0   "
      ]
     },
     "execution_count": 59,
     "metadata": {},
     "output_type": "execute_result"
    }
   ],
   "source": [
    "valueGrid(val, g)"
   ]
  },
  {
   "cell_type": "code",
   "execution_count": 46,
   "metadata": {
    "collapsed": false
   },
   "outputs": [
    {
     "name": "stdout",
     "output_type": "stream",
     "text": [
      "Blocked: *\n",
      "Exit states: [6,6]\n"
     ]
    },
    {
     "data": {
      "text/plain": [
       "6×6 Array{Any,2}:\n",
       " \"↘\"  \"↘\"  \"↘\"  \"↘\"  \"↘\"  \"↓\"   \n",
       " \"↘\"  \"↘\"  \"↘\"  \"↘\"  \"↘\"  \"↓\"   \n",
       " \"↘\"  \"↘\"  \"↘\"  \"↘\"  \"↘\"  \"↓\"   \n",
       " \"↘\"  \"↘\"  \"↘\"  \"↘\"  \"↘\"  \"↓\"   \n",
       " \"↘\"  \"↘\"  \"↘\"  \"↘\"  \"↘\"  \"↓\"   \n",
       " \"→\"  \"→\"  \"→\"  \"→\"  \"→\"  \"Exit\""
      ]
     },
     "execution_count": 46,
     "metadata": {},
     "output_type": "execute_result"
    }
   ],
   "source": [
    "g = gridworld(6,6, [], [[6, 6]])\n",
    "val = policyEval(randomPolicy2, g, niter = 1000)\n",
    "greedyArrowGrid(val, g)"
   ]
  },
  {
   "cell_type": "code",
   "execution_count": 48,
   "metadata": {
    "collapsed": false
   },
   "outputs": [
    {
     "name": "stdout",
     "output_type": "stream",
     "text": [
      "Blocked: *\n",
      "Exit states: [3,1], [6,2], [1,11]\n"
     ]
    },
    {
     "data": {
      "text/plain": [
       "9×11 Array{Any,2}:\n",
       " \"↓\"     \"↙\"        \"←\"        \"←\"  \"←\"  \"→\"  \"→\"  \"→\"  \"→\"  \"→\"  \"Exit\"\n",
       " \"↓\"     \"Blocked\"  \"↙\"        \"↖\"  \"↖\"  \"↗\"  \"↗\"  \"↗\"  \"↗\"  \"↗\"  \"↑\"   \n",
       " \"Exit\"  \"←\"        \"Blocked\"  \"↙\"  \"↙\"  \"↙\"  \"↗\"  \"↗\"  \"↗\"  \"↗\"  \"↑\"   \n",
       " \"↑\"     \"↖\"        \"↖\"        \"↙\"  \"←\"  \"←\"  \"↗\"  \"↗\"  \"↗\"  \"↗\"  \"↑\"   \n",
       " \"↘\"     \"↓\"        \"↙\"        \"←\"  \"↖\"  \"↖\"  \"↖\"  \"↗\"  \"↗\"  \"↗\"  \"↑\"   \n",
       " \"→\"     \"Exit\"     \"Blocked\"  \"↖\"  \"↖\"  \"↖\"  \"↖\"  \"↖\"  \"↗\"  \"↗\"  \"↑\"   \n",
       " \"↗\"     \"↑\"        \"↖\"        \"←\"  \"←\"  \"↖\"  \"↖\"  \"↖\"  \"↖\"  \"↗\"  \"↑\"   \n",
       " \"↑\"     \"↖\"        \"↖\"        \"↖\"  \"↖\"  \"↖\"  \"↖\"  \"↖\"  \"↖\"  \"↖\"  \"↑\"   \n",
       " \"↑\"     \"↖\"        \"↖\"        \"↖\"  \"↖\"  \"↖\"  \"↖\"  \"↖\"  \"↖\"  \"↖\"  \"↖\"   "
      ]
     },
     "execution_count": 48,
     "metadata": {},
     "output_type": "execute_result"
    }
   ],
   "source": [
    "g = gridworld(9,11, [[2,2], [3,3], [6,3]], [[3, 1], [6,2], [1,11]])\n",
    "val = policyEval(randomPolicy, g)\n",
    "greedyArrowGrid(val, g)"
   ]
  },
  {
   "cell_type": "code",
   "execution_count": null,
   "metadata": {
    "collapsed": true
   },
   "outputs": [],
   "source": []
  },
  {
   "cell_type": "code",
   "execution_count": null,
   "metadata": {
    "collapsed": true
   },
   "outputs": [],
   "source": []
  },
  {
   "cell_type": "code",
   "execution_count": null,
   "metadata": {
    "collapsed": true
   },
   "outputs": [],
   "source": []
  }
 ],
 "metadata": {
  "kernelspec": {
   "display_name": "Julia 0.5.0",
   "language": "julia",
   "name": "julia-0.5"
  },
  "language_info": {
   "file_extension": ".jl",
   "mimetype": "application/julia",
   "name": "julia",
   "version": "0.5.0"
  }
 },
 "nbformat": 4,
 "nbformat_minor": 1
}
