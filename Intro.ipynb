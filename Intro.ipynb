{
 "cells": [
  {
   "cell_type": "markdown",
   "metadata": {},
   "source": [
    "# Introducción al Reinforcement Learning\n",
    "## El problemas de las $k$-máquinas de dinero\n",
    "Imáginemos que tenemos $k$ cubetas, cada una con billetes y queremos encontrar un algoritmo maximice el ingreso a largo plazo de escoger billetes al azar de cada cubeta.\n",
    "\n",
    "Tomaremos $k=2$ cubetas $X_1, X_2$ y supondremos que cada una tiene billetes que se distribuyen $X_i \\sim \\text{Norm}(\\mu_i, \\sigma_i)$ donde $\\mu_i, \\sigma_i$ para $i=1,2$ son cantidades desconocidas para el jugador que tiene que decidir qué cubeta usar."
   ]
  },
  {
   "cell_type": "code",
   "execution_count": 1,
   "metadata": {
    "collapsed": false
   },
   "outputs": [
    {
     "name": "stderr",
     "output_type": "stream",
     "text": [
      "INFO: Recompiling stale cache file /home/juser/.julia/lib/v0.5/PDMats.ji for module PDMats.\n",
      "INFO: Recompiling stale cache file /home/juser/.julia/lib/v0.5/Distributions.ji for module Distributions.\n"
     ]
    },
    {
     "data": {
      "text/plain": [
       "cubeta_2 (generic function with 1 method)"
      ]
     },
     "execution_count": 1,
     "metadata": {},
     "output_type": "execute_result"
    }
   ],
   "source": [
    "using Distributions\n",
    "function cubeta_1()\n",
    "    rand(Normal(50, 20))\n",
    "end\n",
    "function cubeta_2()\n",
    "    rand(Normal(70, 40))\n",
    "end "
   ]
  },
  {
   "cell_type": "code",
   "execution_count": 2,
   "metadata": {
    "collapsed": false
   },
   "outputs": [
    {
     "data": {
      "text/plain": [
       "74.00921321482265"
      ]
     },
     "execution_count": 2,
     "metadata": {},
     "output_type": "execute_result"
    }
   ],
   "source": [
    "cubeta_1()"
   ]
  },
  {
   "cell_type": "code",
   "execution_count": 3,
   "metadata": {
    "collapsed": false
   },
   "outputs": [
    {
     "data": {
      "text/plain": [
       "113.90237348339929"
      ]
     },
     "execution_count": 3,
     "metadata": {},
     "output_type": "execute_result"
    }
   ],
   "source": [
    "cubeta_2()"
   ]
  },
  {
   "cell_type": "code",
   "execution_count": null,
   "metadata": {
    "collapsed": true
   },
   "outputs": [],
   "source": [
    "function e_greedy(n, e = 0)\n",
    "    cum_reward = Array(Float32, n)\n",
    "    cum_reward[1] = rand(0:1) == 0 ? cubeta_1() : cubeta_2()  # primera cubeta al azar\n",
    "    for i = 2:n\n",
    "        if u > e\n",
    "        cum_reward[i] = u > e ?\n",
    "    end\n",
    "end"
   ]
  },
  {
   "cell_type": "code",
   "execution_count": 18,
   "metadata": {
    "collapsed": false
   },
   "outputs": [
    {
     "name": "stdout",
     "output_type": "stream",
     "text": [
      "hellohello"
     ]
    }
   ],
   "source": []
  },
  {
   "cell_type": "code",
   "execution_count": null,
   "metadata": {
    "collapsed": true
   },
   "outputs": [],
   "source": []
  }
 ],
 "metadata": {
  "kernelspec": {
   "display_name": "Julia 0.5.0",
   "language": "julia",
   "name": "julia-0.5"
  },
  "language_info": {
   "file_extension": ".jl",
   "mimetype": "application/julia",
   "name": "julia",
   "version": "0.5.0"
  }
 },
 "nbformat": 4,
 "nbformat_minor": 1
}
