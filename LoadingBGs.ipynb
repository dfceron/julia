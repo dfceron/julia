{
 "cells": [
  {
   "cell_type": "code",
   "execution_count": 5,
   "metadata": {
    "collapsed": false
   },
   "outputs": [
    {
     "data": {
      "text/plain": [
       "PixelArts"
      ]
     },
     "execution_count": 5,
     "metadata": {},
     "output_type": "execute_result"
    }
   ],
   "source": [
    "workspace()\n",
    "include(\"PixelArts/PixelArts.jl\")"
   ]
  },
  {
   "cell_type": "code",
   "execution_count": 6,
   "metadata": {
    "collapsed": false
   },
   "outputs": [],
   "source": [
    "using PixelArts"
   ]
  },
  {
   "cell_type": "code",
   "execution_count": 7,
   "metadata": {
    "collapsed": false
   },
   "outputs": [
    {
     "data": {
      "text/html": [
       "<div class=\"usersvg\">\n",
       "<svg id='canvasfLe' width='260' height='220' viewbox='0 0 17 18'></svg>\n",
       "</div>\n",
       "<script> \n",
       "requirejs.config({paths: {d3: \"https://d3js.org/d3.v3.min.js?noext\"}});  \n",
       "</script>\n"
      ]
     },
     "metadata": {},
     "output_type": "display_data"
    },
    {
     "ename": "LoadError",
     "evalue": "\u001b[91mMethodError: no method matching add_pixels(::String, ::Array{Array{Int64,1},1}, ::Array{SubString{String},1})\u001b[0m\nClosest candidates are:\n  add_pixels(::String, ::Array{Array{Int64,1},1}; disp, attr, style) at /home/juser/julia/PixelArts/PixelArts.jl:145\n  add_pixels(::String, ::Array; disp) at /home/juser/julia/PixelArts/PixelArts.jl:173\n  add_pixels(::String, \u001b[91m::Int64\u001b[39m, \u001b[91m::Int64\u001b[39m) at /home/juser/julia/PixelArts/PixelArts.jl:118\n  ...\u001b[39m",
     "output_type": "error",
     "traceback": [
      "\u001b[91mMethodError: no method matching add_pixels(::String, ::Array{Array{Int64,1},1}, ::Array{SubString{String},1})\u001b[0m\nClosest candidates are:\n  add_pixels(::String, ::Array{Array{Int64,1},1}; disp, attr, style) at /home/juser/julia/PixelArts/PixelArts.jl:145\n  add_pixels(::String, ::Array; disp) at /home/juser/julia/PixelArts/PixelArts.jl:173\n  add_pixels(::String, \u001b[91m::Int64\u001b[39m, \u001b[91m::Int64\u001b[39m) at /home/juser/julia/PixelArts/PixelArts.jl:118\n  ...\u001b[39m",
      "",
      "Stacktrace:",
      " [1] \u001b[1mrender_bg\u001b[22m\u001b[22m\u001b[1m(\u001b[22m\u001b[22m::Array{Any,2}, ::Dict{Any,Any}, ::Int64, ::Int64\u001b[1m)\u001b[22m\u001b[22m at \u001b[1m/home/juser/julia/PixelArts/PixelArts.jl:226\u001b[22m\u001b[22m",
      " [2] \u001b[1mrender_bg\u001b[22m\u001b[22m\u001b[1m(\u001b[22m\u001b[22m::String, ::Int64, ::Int64\u001b[1m)\u001b[22m\u001b[22m at \u001b[1m/home/juser/julia/PixelArts/PixelArts.jl:238\u001b[22m\u001b[22m"
     ]
    }
   ],
   "source": [
    "right_turn = render_bg(\"right_turn\", 260, 220)"
   ]
  },
  {
   "cell_type": "code",
   "execution_count": 8,
   "metadata": {
    "collapsed": false,
    "scrolled": true
   },
   "outputs": [
    {
     "data": {
      "text/html": [
       "<div class=\"usersvg\">\n",
       "<svg id='canvasjxr' width='500' height='300' viewbox='0 0 30 18'></svg>\n",
       "</div>\n",
       "<script> \n",
       "requirejs.config({paths: {d3: \"https://d3js.org/d3.v3.min.js?noext\"}});  \n",
       "</script>\n"
      ]
     },
     "metadata": {},
     "output_type": "display_data"
    },
    {
     "ename": "LoadError",
     "evalue": "\u001b[91mMethodError: no method matching add_pixels(::String, ::Array{Array{Int64,1},1}, ::Array{SubString{String},1})\u001b[0m\nClosest candidates are:\n  add_pixels(::String, ::Array{Array{Int64,1},1}; disp, attr, style) at /home/juser/julia/PixelArts/PixelArts.jl:145\n  add_pixels(::String, ::Array; disp) at /home/juser/julia/PixelArts/PixelArts.jl:173\n  add_pixels(::String, \u001b[91m::Int64\u001b[39m, \u001b[91m::Int64\u001b[39m) at /home/juser/julia/PixelArts/PixelArts.jl:118\n  ...\u001b[39m",
     "output_type": "error",
     "traceback": [
      "\u001b[91mMethodError: no method matching add_pixels(::String, ::Array{Array{Int64,1},1}, ::Array{SubString{String},1})\u001b[0m\nClosest candidates are:\n  add_pixels(::String, ::Array{Array{Int64,1},1}; disp, attr, style) at /home/juser/julia/PixelArts/PixelArts.jl:145\n  add_pixels(::String, ::Array; disp) at /home/juser/julia/PixelArts/PixelArts.jl:173\n  add_pixels(::String, \u001b[91m::Int64\u001b[39m, \u001b[91m::Int64\u001b[39m) at /home/juser/julia/PixelArts/PixelArts.jl:118\n  ...\u001b[39m",
      "",
      "Stacktrace:",
      " [1] \u001b[1mrender_bg\u001b[22m\u001b[22m\u001b[1m(\u001b[22m\u001b[22m::Array{Any,2}, ::Dict{Any,Any}, ::Int64, ::Int64\u001b[1m)\u001b[22m\u001b[22m at \u001b[1m/home/juser/julia/PixelArts/PixelArts.jl:226\u001b[22m\u001b[22m",
      " [2] \u001b[1mrender_bg\u001b[22m\u001b[22m\u001b[1m(\u001b[22m\u001b[22m::String, ::Int64, ::Int64\u001b[1m)\u001b[22m\u001b[22m at \u001b[1m/home/juser/julia/PixelArts/PixelArts.jl:238\u001b[22m\u001b[22m"
     ]
    }
   ],
   "source": [
    "circuit = render_bg(\"circuit\", 500, 300)"
   ]
  },
  {
   "cell_type": "code",
   "execution_count": 5,
   "metadata": {
    "collapsed": false
   },
   "outputs": [
    {
     "data": {
      "text/html": [
       "<script>require([\"d3\"], function(d3) {d3.select(\".usersvg #canvasgWc\").append(\"path\").attr(\"id\", \"elementjRM\").attr(\"transform\", \"translate(5 4)\").attr(\"d\", \"M0.5 0 L0.5 1 M0 0.5 L1 0.5\").attr(\"stroke-width\", \"0.1\").attr(\"stroke\", \"blue\");});</script>"
      ]
     },
     "metadata": {},
     "output_type": "display_data"
    },
    {
     "data": {
      "text/html": [
       "<script>require([\"d3\"], function(d3) {d3.select(\".usersvg #elementjRM\").attr(\"stroke-width\", \"0.3\");});</script>"
      ]
     },
     "metadata": {},
     "output_type": "display_data"
    }
   ],
   "source": [
    "racer = add_svg_element(circuit, \"path\", 6, 5, attr = Dict(\"d\" => \"M0.5 0 L0.5 1 M0 0.5 L1 0.5\"), style = Dict(\"stroke\" => \"blue\", \"stroke-width\" => 0.1))\n",
    "set_attr(racer, Dict(\"stroke-width\" => 0.3))\n",
    "add_pixel_arrow(circuit, 10, 10, 90)\n",
    "add_pixel_arrow(circuit, 10, 10, 180)\n",
    "add_pixel_arrow(circuit, 10, 10, 270)\n",
    "add_pixel_arrow(circuit, 5, 10, 90)\n",
    "add_pixel_arrow(circuit, 5, 10, 270)"
   ]
  },
  {
   "cell_type": "code",
   "execution_count": 6,
   "metadata": {
    "collapsed": false
   },
   "outputs": [
    {
     "data": {
      "text/html": [
       "<script>require([\"d3\"], function(d3) {d3.select(\".usersvg #canvasgWc\").append(\"path\").attr(\"id\", \"pixel_crossI5R\").attr(\"transform\", \"translate(6 4)\").attr(\"transform\", \"translate(4 6)\").attr(\"d\", \"M0.5 0 L0.5 1 M0 0.5 L1 0.5\").attr(\"stroke-width\", \"0.2\").attr(\"stroke\", \"black\");});</script>"
      ]
     },
     "metadata": {},
     "output_type": "display_data"
    },
    {
     "data": {
      "text/html": [
       "<script>\n",
       "require([\"d3\"], function(d3) {\n",
       "    d3.select(\".usersvg #pixel_crossI5R\").attr(\"transform\", \"translate(15 14)\");\n",
       "});\n",
       "</script>\n"
      ]
     },
     "metadata": {},
     "output_type": "display_data"
    }
   ],
   "source": [
    "racer3 = add_pixel_cross(circuit, 7, 5, \"black\")\n",
    "translate_element(racer3, 15, 16)"
   ]
  },
  {
   "cell_type": "code",
   "execution_count": 31,
   "metadata": {
    "collapsed": false
   },
   "outputs": [
    {
     "data": {
      "text/html": [
       "<script>require([\"d3\"], function(d3) {d3.select(\".usersvg #canvas1QC\").append(\"path\").attr(\"id\", \"pixel_arrowzP4\").attr(\"transform\", \"translate(1 4)\").attr(\"transform\", \"translate(4.5 1.5) rotate(-75)\").attr(\"d\", \"M0 0 L0 0.5 M -0.15 0.3 L0 0.5 L0.15 0.3\").attr(\"stroke-width\", \"0.1\").attr(\"stroke\", \"black\");});</script>"
      ]
     },
     "metadata": {},
     "output_type": "display_data"
    },
    {
     "data": {
      "text/html": [
       "<script>require([\"d3\"], function(d3) {d3.select(\".usersvg #canvas1QC\").append(\"path\").attr(\"id\", \"pixel_arrowV4S\").attr(\"transform\", \"translate(9 9)\").attr(\"transform\", \"translate(9.5 9.5) rotate(90)\").attr(\"d\", \"M0 0 L0 0.5 M -0.15 0.3 L0 0.5 L0.15 0.3\").attr(\"stroke-width\", \"0.1\").attr(\"stroke\", \"black\");});</script>"
      ]
     },
     "metadata": {},
     "output_type": "display_data"
    },
    {
     "data": {
      "text/plain": [
       "\"pixel_arrowV4S\""
      ]
     },
     "execution_count": 31,
     "metadata": {},
     "output_type": "execute_result"
    }
   ],
   "source": [
    "arrow = add_pixel_arrow(circuit, 2, 5, 15)\n",
    "add_pixel_arrow(circuit, 10, 10, 180)"
   ]
  },
  {
   "cell_type": "code",
   "execution_count": 10,
   "metadata": {
    "collapsed": false
   },
   "outputs": [],
   "source": [
    "array, colour_array = bg_colour_array(\"circuit\");"
   ]
  }
 ],
 "metadata": {
  "kernelspec": {
   "display_name": "Julia 0.6.0-pre.alpha",
   "language": "julia",
   "name": "julia-0.6"
  },
  "language_info": {
   "file_extension": ".jl",
   "mimetype": "application/julia",
   "name": "julia",
   "version": "0.6.0"
  }
 },
 "nbformat": 4,
 "nbformat_minor": 1
}
