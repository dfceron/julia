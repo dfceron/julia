{
 "cells": [
  {
   "cell_type": "code",
   "execution_count": 1,
   "metadata": {
    "collapsed": false
   },
   "outputs": [],
   "source": [
    "using DataFrames\n",
    "using NamedArrays"
   ]
  },
  {
   "cell_type": "code",
   "execution_count": 2,
   "metadata": {
    "collapsed": false
   },
   "outputs": [
    {
     "data": {
      "text/plain": [
       "24×24 Named Array{Float64,2}\n",
       "           A ╲ B │        Barcelona  …            Warsaw\n",
       "─────────────────┼──────────────────────────────────────\n",
       "Barcelona        │              0.0  …           1862.33\n",
       "Belgrade         │          1528.13               826.66\n",
       "Berlin           │          1497.61               516.06\n",
       "Brussels         │          1062.89              1159.85\n",
       "Bucharest        │          1968.42               946.12\n",
       "Budapest         │          1498.79               545.29\n",
       "Copenhagen       │          1757.54                667.8\n",
       "Dublin           │          1469.29              1823.72\n",
       "Hamburg          │          1471.78               750.49\n",
       "Istanbul         │          2230.42              1386.08\n",
       "Kiev             │          2391.06               690.12\n",
       "London           │          1137.67              1445.85\n",
       "Madrid           │           504.64              2288.42\n",
       "Milan            │           725.12              1143.01\n",
       "Moscow           │          3006.93              1149.41\n",
       "Munich           │          1054.55               809.02\n",
       "Paris            │           831.59              1365.91\n",
       "Prague           │           1353.9               514.69\n",
       "Rome             │           856.69              1316.24\n",
       "Saint Petersburg │          2813.02              1023.41\n",
       "Sofia            │          1745.55              1076.99\n",
       "Stockholm        │          2276.51               808.14\n",
       "Vienna           │          1347.43               557.43\n",
       "Warsaw           │          1862.33  …               0.0"
      ]
     },
     "execution_count": 2,
     "metadata": {},
     "output_type": "execute_result"
    }
   ],
   "source": [
    "table = readtable(\"data/DistMat.csv\")\n",
    "cities = Array(table[:,1])\n",
    "delete!(table, 1)\n",
    "distMat = NamedArray(Array(table), (cities, cities))"
   ]
  },
  {
   "cell_type": "code",
   "execution_count": 3,
   "metadata": {
    "collapsed": false
   },
   "outputs": [
    {
     "data": {
      "text/plain": [
       "step (generic function with 1 method)"
      ]
     },
     "execution_count": 3,
     "metadata": {},
     "output_type": "execute_result"
    }
   ],
   "source": [
    "type RLTask\n",
    "    stateSpace::Array{Any, 1} \n",
    "    actionSpace::Array{Any, 1}\n",
    "    currentState # current state, an element of stateSpace\n",
    "    stepFunction::Function # (currentState, a) -> (newState, reward)\n",
    "end\n",
    "function step(r::RLTask, action)\n",
    "    newState, reward = stepFunction(r.currentState, action)\n",
    "    println(\"Moving to $newState obtaining reward $reward\")\n",
    "    return newState, reward\n",
    "end"
   ]
  },
  {
   "cell_type": "code",
   "execution_count": 4,
   "metadata": {
    "collapsed": false
   },
   "outputs": [
    {
     "data": {
      "text/plain": [
       "(\"Barcelona\",-1137.67)"
      ]
     },
     "execution_count": 4,
     "metadata": {},
     "output_type": "execute_result"
    }
   ],
   "source": [
    "function stepFunction(s, a)\n",
    "    newState = a\n",
    "    reward = -distMat[s, a]\n",
    "    return newState, reward \n",
    "end\n",
    "stepFunction(\"London\", \"Barcelona\")"
   ]
  },
  {
   "cell_type": "code",
   "execution_count": 5,
   "metadata": {
    "collapsed": false
   },
   "outputs": [
    {
     "data": {
      "text/plain": [
       "RLTask(Any[\"Barcelona\",\"Belgrade\",\"Berlin\",\"Brussels\",\"Bucharest\",\"Budapest\",\"Copenhagen\",\"Dublin\",\"Hamburg\",\"Istanbul\"  …  \"Moscow\",\"Munich\",\"Paris\",\"Prague\",\"Rome\",\"Saint Petersburg\",\"Sofia\",\"Stockholm\",\"Vienna\",\"Warsaw\"],Any[\"Barcelona\",\"Belgrade\",\"Berlin\",\"Brussels\",\"Bucharest\",\"Budapest\",\"Copenhagen\",\"Dublin\",\"Hamburg\",\"Istanbul\"  …  \"Moscow\",\"Munich\",\"Paris\",\"Prague\",\"Rome\",\"Saint Petersburg\",\"Sofia\",\"Stockholm\",\"Vienna\",\"Warsaw\"],\"London\",stepFunction)"
      ]
     },
     "execution_count": 5,
     "metadata": {},
     "output_type": "execute_result"
    }
   ],
   "source": [
    "currentState = \"London\"\n",
    "graphWalk = RLTask(cities, cities, currentState, stepFunction)"
   ]
  },
  {
   "cell_type": "code",
   "execution_count": 6,
   "metadata": {
    "collapsed": false
   },
   "outputs": [
    {
     "ename": "LoadError",
     "evalue": "UndefVarError: step! not defined",
     "output_type": "error",
     "traceback": [
      "UndefVarError: step! not defined",
      ""
     ]
    }
   ],
   "source": [
    "step!(graphWalk, \"Barcelona\")"
   ]
  },
  {
   "cell_type": "code",
   "execution_count": 7,
   "metadata": {
    "collapsed": false
   },
   "outputs": [
    {
     "data": {
      "text/plain": [
       "choose (generic function with 1 method)"
      ]
     },
     "execution_count": 7,
     "metadata": {},
     "output_type": "execute_result"
    }
   ],
   "source": [
    "# Lets create an agent\n",
    "type Agent\n",
    "    policy::Function # (state) - > (action)\n",
    "    totalReward::Real\n",
    "end\n",
    "function choose(agent::Agent, rltask::RLTask)\n",
    "    action = agent.policy(rltask)\n",
    "    println(\"The agent chooses $action from state $(rltask.currentState)\")\n",
    "    return(action)\n",
    "end"
   ]
  },
  {
   "cell_type": "code",
   "execution_count": 8,
   "metadata": {
    "collapsed": false
   },
   "outputs": [
    {
     "data": {
      "text/plain": [
       "Agent(randomPolicy,0)"
      ]
     },
     "execution_count": 8,
     "metadata": {},
     "output_type": "execute_result"
    }
   ],
   "source": [
    "function randomPolicy(rltask::RLTask)\n",
    "    return rand(rltask.actionSpace)\n",
    "end\n",
    "dumbAgent = Agent(randomPolicy, 0)"
   ]
  },
  {
   "cell_type": "code",
   "execution_count": 9,
   "metadata": {
    "collapsed": false
   },
   "outputs": [
    {
     "name": "stdout",
     "output_type": "stream",
     "text": [
      "The agent chooses Copenhagen from state London\n",
      "The agent chooses Moscow from state London\n",
      "The agent chooses Budapest from state London\n",
      "The agent chooses Prague from state London\n",
      "The agent chooses Vienna from state London\n",
      "The agent chooses Berlin from state London\n",
      "The agent chooses Stockholm from state London\n",
      "The agent chooses Dublin from state London\n",
      "The agent chooses Copenhagen from state London\n",
      "The agent chooses Brussels from state London\n"
     ]
    }
   ],
   "source": [
    "for i in 1:10 choose(dumbAgent, graphWalk) end"
   ]
  },
  {
   "cell_type": "code",
   "execution_count": 10,
   "metadata": {
    "collapsed": false
   },
   "outputs": [
    {
     "data": {
      "text/plain": [
       "interact! (generic function with 1 method)"
      ]
     },
     "execution_count": 10,
     "metadata": {},
     "output_type": "execute_result"
    }
   ],
   "source": [
    "function interact!(agent::Agent, rltask::RLTask)\n",
    "    action = choose(agent, rltask)\n",
    "    newState, reward = step(rltask, action)\n",
    "    agent.totalReward += reward\n",
    "    rltask.currentState = newState\n",
    "end"
   ]
  },
  {
   "cell_type": "code",
   "execution_count": 18,
   "metadata": {
    "collapsed": false
   },
   "outputs": [
    {
     "name": "stdout",
     "output_type": "stream",
     "text": [
      "Current state: Barcelona\n",
      "Current total reward: -1137.67\n"
     ]
    }
   ],
   "source": [
    "println(\"Current state: $(graphWalk.currentState)\")\n",
    "println(\"Current total reward: $(dumbAgent.totalReward)\")"
   ]
  },
  {
   "cell_type": "code",
   "execution_count": 20,
   "metadata": {
    "collapsed": false
   },
   "outputs": [
    {
     "name": "stdout",
     "output_type": "stream",
     "text": [
      "The agent chooses Milan from state Barcelona\n",
      "Moving to Milan obtaining reward -725.12\n",
      "Current state: Milan\n",
      "Current total reward: -1862.79\n"
     ]
    }
   ],
   "source": [
    "interact!(dumbAgent, graphWalk)\n",
    "println(\"Current state: $(graphWalk.currentState)\")\n",
    "println(\"Current total reward: $(dumbAgent.totalReward)\")"
   ]
  },
  {
   "cell_type": "code",
   "execution_count": 21,
   "metadata": {
    "collapsed": false
   },
   "outputs": [
    {
     "name": "stdout",
     "output_type": "stream",
     "text": [
      "The agent chooses Istanbul from state Milan\n",
      "Moving to Istanbul obtaining reward -1669.43\n",
      "Current state: Istanbul\n",
      "Current total reward: -3532.2200000000003\n"
     ]
    }
   ],
   "source": [
    "interact!(dumbAgent, graphWalk)\n",
    "println(\"Current state: $(graphWalk.currentState)\")\n",
    "println(\"Current total reward: $(dumbAgent.totalReward)\")"
   ]
  },
  {
   "cell_type": "code",
   "execution_count": null,
   "metadata": {
    "collapsed": true
   },
   "outputs": [],
   "source": []
  }
 ],
 "metadata": {
  "kernelspec": {
   "display_name": "Julia 0.5.0",
   "language": "julia",
   "name": "julia-0.5"
  },
  "language_info": {
   "file_extension": ".jl",
   "mimetype": "application/julia",
   "name": "julia",
   "version": "0.5.0"
  }
 },
 "nbformat": 4,
 "nbformat_minor": 1
}
