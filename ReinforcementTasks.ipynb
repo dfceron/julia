{
 "cells": [
  {
   "cell_type": "code",
   "execution_count": 1,
   "metadata": {
    "collapsed": false
   },
   "outputs": [],
   "source": [
    "using DataFrames #Pkg.add(\"DataFrames\") para instalar\n",
    "using NamedArrays"
   ]
  },
  {
   "cell_type": "code",
   "execution_count": 2,
   "metadata": {
    "collapsed": false
   },
   "outputs": [
    {
     "data": {
      "text/html": [
       "<table class=\"data-frame\"><thead><tr><th></th><th>_origin</th><th>Barcelona</th><th>Belgrade</th><th>Berlin</th><th>Brussels</th><th>Bucharest</th><th>Budapest</th><th>Copenhagen</th><th>Dublin</th><th>Hamburg</th><th>Istanbul</th><th>Kiev</th><th>London</th><th>Madrid</th><th>Milan</th><th>Moscow</th><th>Munich</th><th>Paris</th><th>Prague</th><th>Rome</th><th>Saint_Petersburg</th><th>Sofia</th><th>Stockholm</th><th>Vienna</th><th>Warsaw</th></tr></thead><tbody><tr><th>1</th><td>Barcelona</td><td>0.0</td><td>1528.13</td><td>1497.61</td><td>1062.89</td><td>1968.42</td><td>1498.79</td><td>1757.54</td><td>1469.29</td><td>1471.78</td><td>2230.42</td><td>2391.06</td><td>1137.67</td><td>504.64</td><td>725.12</td><td>3006.93</td><td>1054.55</td><td>831.59</td><td>1353.9</td><td>856.69</td><td>2813.02</td><td>1745.55</td><td>2276.51</td><td>1347.43</td><td>1862.33</td></tr><tr><th>2</th><td>Belgrade</td><td>1528.13</td><td>0.0</td><td>999.25</td><td>1372.59</td><td>447.34</td><td>316.41</td><td>1327.24</td><td>2145.39</td><td>1229.93</td><td>809.48</td><td>976.02</td><td>1688.97</td><td>2026.94</td><td>885.32</td><td>1710.99</td><td>773.33</td><td>1445.7</td><td>738.1</td><td>721.55</td><td>1797.75</td><td>329.46</td><td>1620.96</td><td>489.28</td><td>826.66</td></tr><tr><th>3</th><td>Berlin</td><td>1497.61</td><td>999.25</td><td>0.0</td><td>651.62</td><td>1293.4</td><td>689.06</td><td>354.03</td><td>1315.16</td><td>254.51</td><td>1735.01</td><td>1204.0</td><td>929.97</td><td>1867.69</td><td>840.72</td><td>1607.99</td><td>501.97</td><td>876.96</td><td>280.34</td><td>1181.67</td><td>1319.62</td><td>1318.67</td><td>810.38</td><td>523.61</td><td>516.06</td></tr><tr><th>4</th><td>Brussels</td><td>1062.89</td><td>1372.59</td><td>651.62</td><td>0.0</td><td>1769.69</td><td>1131.52</td><td>766.67</td><td>773.2</td><td>489.76</td><td>2178.85</td><td>1836.2</td><td>318.72</td><td>1314.3</td><td>696.61</td><td>2253.26</td><td>601.87</td><td>261.29</td><td>721.08</td><td>1171.34</td><td>1903.66</td><td>1697.83</td><td>1280.88</td><td>914.81</td><td>1159.85</td></tr><tr><th>5</th><td>Bucharest</td><td>1968.42</td><td>447.34</td><td>1293.4</td><td>1769.69</td><td>0.0</td><td>639.77</td><td>1571.54</td><td>2534.72</td><td>1544.17</td><td>445.62</td><td>744.44</td><td>2088.42</td><td>2469.71</td><td>1331.46</td><td>1497.56</td><td>1186.37</td><td>1869.95</td><td>1076.82</td><td>1137.38</td><td>1740.39</td><td>296.68</td><td>1742.25</td><td>855.32</td><td>946.12</td></tr><tr><th>6</th><td>Budapest</td><td>1498.79</td><td>316.41</td><td>689.06</td><td>1131.52</td><td>639.77</td><td>0.0</td><td>1011.31</td><td>1894.95</td><td>927.92</td><td>1064.76</td><td>894.29</td><td>1450.12</td><td>1975.38</td><td>788.56</td><td>1565.19</td><td>563.93</td><td>1247.61</td><td>443.26</td><td>811.11</td><td>1556.51</td><td>629.63</td><td>1316.59</td><td>216.98</td><td>545.29</td></tr><tr><th>7</th><td>Copenhagen</td><td>1757.54</td><td>1327.24</td><td>354.03</td><td>766.67</td><td>1571.54</td><td>1011.31</td><td>0.0</td><td>1238.38</td><td>287.97</td><td>2017.17</td><td>1326.33</td><td>955.13</td><td>2071.75</td><td>1157.89</td><td>1558.52</td><td>838.0</td><td>1025.9</td><td>633.05</td><td>1529.69</td><td>1143.4</td><td>1635.54</td><td>521.68</td><td>868.87</td><td>667.8</td></tr><tr><th>8</th><td>Dublin</td><td>1469.29</td><td>2145.39</td><td>1315.16</td><td>773.2</td><td>2534.72</td><td>1894.95</td><td>1238.38</td><td>0.0</td><td>1073.36</td><td>2950.11</td><td>2513.69</td><td>462.6</td><td>1449.96</td><td>1413.37</td><td>2792.41</td><td>1374.91</td><td>776.83</td><td>1465.61</td><td>1882.22</td><td>2314.19</td><td>2471.02</td><td>1626.56</td><td>1680.0</td><td>1823.72</td></tr><tr><th>9</th><td>Hamburg</td><td>1471.78</td><td>1229.93</td><td>254.51</td><td>489.76</td><td>1544.17</td><td>927.92</td><td>287.97</td><td>1073.36</td><td>0.0</td><td>1983.75</td><td>1440.34</td><td>720.12</td><td>1785.33</td><td>900.01</td><td>1779.93</td><td>610.17</td><td>744.63</td><td>492.25</td><td>1307.51</td><td>1414.16</td><td>1554.82</td><td>809.65</td><td>742.79</td><td>750.49</td></tr><tr><th>10</th><td>Istanbul</td><td>2230.42</td><td>809.48</td><td>1735.01</td><td>2178.85</td><td>445.62</td><td>1064.76</td><td>2017.17</td><td>2950.11</td><td>1983.75</td><td>0.0</td><td>1052.95</td><td>2496.39</td><td>2734.6</td><td>1669.43</td><td>1753.97</td><td>1582.16</td><td>2253.98</td><td>1507.55</td><td>1373.81</td><td>2099.29</td><td>502.61</td><td>2171.65</td><td>1273.88</td><td>1386.08</td></tr><tr><th>11</th><td>Kiev</td><td>2391.06</td><td>976.02</td><td>1204.0</td><td>1836.2</td><td>744.44</td><td>894.29</td><td>1326.33</td><td>2513.69</td><td>1440.34</td><td>1052.95</td><td>0.0</td><td>2131.2</td><td>2859.32</td><td>1672.69</td><td>756.61</td><td>1391.36</td><td>2022.76</td><td>1138.61</td><td>1673.74</td><td>1051.39</td><td>1020.76</td><td>1265.79</td><td>1052.76</td><td>690.12</td></tr><tr><th>12</th><td>London</td><td>1137.67</td><td>1688.97</td><td>929.97</td><td>318.72</td><td>2088.42</td><td>1450.12</td><td>955.13</td><td>462.6</td><td>720.12</td><td>2496.39</td><td>2131.2</td><td>0.0</td><td>1263.37</td><td>957.91</td><td>2498.32</td><td>916.23</td><td>340.55</td><td>1034.57</td><td>1431.21</td><td>2093.69</td><td>2012.7</td><td>1431.07</td><td>1233.48</td><td>1445.85</td></tr><tr><th>13</th><td>Madrid</td><td>504.64</td><td>2026.94</td><td>1867.69</td><td>1314.3</td><td>2469.71</td><td>1975.38</td><td>2071.75</td><td>1449.96</td><td>1785.33</td><td>2734.6</td><td>2859.32</td><td>1263.37</td><td>0.0</td><td>1187.73</td><td>3437.7</td><td>1484.53</td><td>1053.4</td><td>1773.73</td><td>1360.8</td><td>3183.43</td><td>2250.1</td><td>2591.53</td><td>1807.09</td><td>2288.42</td></tr><tr><th>14</th><td>Milan</td><td>725.12</td><td>885.32</td><td>840.72</td><td>696.61</td><td>1331.46</td><td>788.56</td><td>1157.89</td><td>1413.37</td><td>900.01</td><td>1669.43</td><td>1672.69</td><td>957.91</td><td>1187.73</td><td>0.0</td><td>2283.19</td><td>348.89</td><td>641.31</td><td>646.04</td><td>476.0</td><td>2122.15</td><td>1166.83</td><td>1650.12</td><td>623.36</td><td>1143.01</td></tr><tr><th>15</th><td>Moscow</td><td>3006.93</td><td>1710.99</td><td>1607.99</td><td>2253.26</td><td>1497.56</td><td>1565.19</td><td>1558.52</td><td>2792.41</td><td>1779.93</td><td>1753.97</td><td>756.61</td><td>2498.32</td><td>3437.7</td><td>2283.19</td><td>0.0</td><td>1957.15</td><td>2484.92</td><td>1664.04</td><td>2374.26</td><td>632.59</td><td>1777.35</td><td>1227.38</td><td>1669.22</td><td>1149.41</td></tr><tr><th>16</th><td>Munich</td><td>1054.55</td><td>773.33</td><td>501.97</td><td>601.87</td><td>1186.37</td><td>563.93</td><td>838.0</td><td>1374.91</td><td>610.17</td><td>1582.16</td><td>1391.36</td><td>916.23</td><td>1484.53</td><td>348.89</td><td>1957.15</td><td>0.0</td><td>685.14</td><td>300.16</td><td>698.04</td><td>1773.83</td><td>1096.54</td><td>1311.8</td><td>354.42</td><td>809.02</td></tr><tr><th>17</th><td>Paris</td><td>831.59</td><td>1445.7</td><td>876.96</td><td>261.29</td><td>1869.95</td><td>1247.61</td><td>1025.9</td><td>776.83</td><td>744.63</td><td>2253.98</td><td>2022.76</td><td>340.55</td><td>1053.4</td><td>641.31</td><td>2484.92</td><td>685.14</td><td>0.0</td><td>885.38</td><td>1105.76</td><td>2157.99</td><td>1758.03</td><td>1541.83</td><td>1033.73</td><td>1365.91</td></tr><tr><th>18</th><td>Prague</td><td>1353.9</td><td>738.1</td><td>280.34</td><td>721.08</td><td>1076.82</td><td>443.26</td><td>633.05</td><td>1465.61</td><td>492.25</td><td>1507.55</td><td>1138.61</td><td>1034.57</td><td>1773.73</td><td>646.04</td><td>1664.04</td><td>300.16</td><td>885.38</td><td>0.0</td><td>922.0</td><td>1476.73</td><td>1064.43</td><td>1052.85</td><td>250.71</td><td>514.69</td></tr><tr><th>19</th><td>Rome</td><td>856.69</td><td>721.55</td><td>1181.67</td><td>1171.34</td><td>1137.38</td><td>811.11</td><td>1529.69</td><td>1882.22</td><td>1307.51</td><td>1373.81</td><td>1673.74</td><td>1431.21</td><td>1360.8</td><td>476.0</td><td>2374.26</td><td>698.04</td><td>1105.76</td><td>922.0</td><td>0.0</td><td>2339.22</td><td>894.06</td><td>1974.79</td><td>763.26</td><td>1316.24</td></tr><tr><th>20</th><td>Saint Petersburg</td><td>2813.02</td><td>1797.75</td><td>1319.62</td><td>1903.66</td><td>1740.39</td><td>1556.51</td><td>1143.4</td><td>2314.19</td><td>1414.16</td><td>2099.29</td><td>1051.39</td><td>2093.69</td><td>3183.43</td><td>2122.15</td><td>632.59</td><td>1773.83</td><td>2157.99</td><td>1476.73</td><td>2339.22</td><td>0.0</td><td>1969.82</td><td>688.33</td><td>1577.56</td><td>1023.41</td></tr><tr><th>21</th><td>Sofia</td><td>1745.55</td><td>329.46</td><td>1318.67</td><td>1697.83</td><td>296.68</td><td>629.63</td><td>1635.54</td><td>2471.02</td><td>1554.82</td><td>502.61</td><td>1020.76</td><td>2012.7</td><td>2250.1</td><td>1166.83</td><td>1777.35</td><td>1096.54</td><td>1758.03</td><td>1064.43</td><td>894.06</td><td>1969.82</td><td>0.0</td><td>1884.91</td><td>817.45</td><td>1076.99</td></tr><tr><th>22</th><td>Stockholm</td><td>2276.51</td><td>1620.96</td><td>810.38</td><td>1280.88</td><td>1742.25</td><td>1316.59</td><td>521.68</td><td>1626.56</td><td>809.65</td><td>2171.65</td><td>1265.79</td><td>1431.07</td><td>2591.53</td><td>1650.12</td><td>1227.38</td><td>1311.8</td><td>1541.83</td><td>1052.85</td><td>1974.79</td><td>688.33</td><td>1884.91</td><td>0.0</td><td>1241.9</td><td>808.14</td></tr><tr><th>23</th><td>Vienna</td><td>1347.43</td><td>489.28</td><td>523.61</td><td>914.81</td><td>855.32</td><td>216.98</td><td>868.87</td><td>1680.0</td><td>742.79</td><td>1273.88</td><td>1052.76</td><td>1233.48</td><td>1807.09</td><td>623.36</td><td>1669.22</td><td>354.42</td><td>1033.73</td><td>250.71</td><td>763.26</td><td>1577.56</td><td>817.45</td><td>1241.9</td><td>0.0</td><td>557.43</td></tr><tr><th>24</th><td>Warsaw</td><td>1862.33</td><td>826.66</td><td>516.06</td><td>1159.85</td><td>946.12</td><td>545.29</td><td>667.8</td><td>1823.72</td><td>750.49</td><td>1386.08</td><td>690.12</td><td>1445.85</td><td>2288.42</td><td>1143.01</td><td>1149.41</td><td>809.02</td><td>1365.91</td><td>514.69</td><td>1316.24</td><td>1023.41</td><td>1076.99</td><td>808.14</td><td>557.43</td><td>0.0</td></tr></tbody></table>"
      ],
      "text/plain": [
       "24×25 DataFrames.DataFrame\n",
       "│ Row │ _origin            │ Barcelona │ Belgrade │ Berlin  │ Brussels │\n",
       "├─────┼────────────────────┼───────────┼──────────┼─────────┼──────────┤\n",
       "│ 1   │ \"Barcelona\"        │ 0.0       │ 1528.13  │ 1497.61 │ 1062.89  │\n",
       "│ 2   │ \"Belgrade\"         │ 1528.13   │ 0.0      │ 999.25  │ 1372.59  │\n",
       "│ 3   │ \"Berlin\"           │ 1497.61   │ 999.25   │ 0.0     │ 651.62   │\n",
       "│ 4   │ \"Brussels\"         │ 1062.89   │ 1372.59  │ 651.62  │ 0.0      │\n",
       "│ 5   │ \"Bucharest\"        │ 1968.42   │ 447.34   │ 1293.4  │ 1769.69  │\n",
       "│ 6   │ \"Budapest\"         │ 1498.79   │ 316.41   │ 689.06  │ 1131.52  │\n",
       "│ 7   │ \"Copenhagen\"       │ 1757.54   │ 1327.24  │ 354.03  │ 766.67   │\n",
       "│ 8   │ \"Dublin\"           │ 1469.29   │ 2145.39  │ 1315.16 │ 773.2    │\n",
       "│ 9   │ \"Hamburg\"          │ 1471.78   │ 1229.93  │ 254.51  │ 489.76   │\n",
       "│ 10  │ \"Istanbul\"         │ 2230.42   │ 809.48   │ 1735.01 │ 2178.85  │\n",
       "│ 11  │ \"Kiev\"             │ 2391.06   │ 976.02   │ 1204.0  │ 1836.2   │\n",
       "│ 12  │ \"London\"           │ 1137.67   │ 1688.97  │ 929.97  │ 318.72   │\n",
       "│ 13  │ \"Madrid\"           │ 504.64    │ 2026.94  │ 1867.69 │ 1314.3   │\n",
       "│ 14  │ \"Milan\"            │ 725.12    │ 885.32   │ 840.72  │ 696.61   │\n",
       "│ 15  │ \"Moscow\"           │ 3006.93   │ 1710.99  │ 1607.99 │ 2253.26  │\n",
       "│ 16  │ \"Munich\"           │ 1054.55   │ 773.33   │ 501.97  │ 601.87   │\n",
       "│ 17  │ \"Paris\"            │ 831.59    │ 1445.7   │ 876.96  │ 261.29   │\n",
       "│ 18  │ \"Prague\"           │ 1353.9    │ 738.1    │ 280.34  │ 721.08   │\n",
       "│ 19  │ \"Rome\"             │ 856.69    │ 721.55   │ 1181.67 │ 1171.34  │\n",
       "│ 20  │ \"Saint Petersburg\" │ 2813.02   │ 1797.75  │ 1319.62 │ 1903.66  │\n",
       "│ 21  │ \"Sofia\"            │ 1745.55   │ 329.46   │ 1318.67 │ 1697.83  │\n",
       "│ 22  │ \"Stockholm\"        │ 2276.51   │ 1620.96  │ 810.38  │ 1280.88  │\n",
       "│ 23  │ \"Vienna\"           │ 1347.43   │ 489.28   │ 523.61  │ 914.81   │\n",
       "│ 24  │ \"Warsaw\"           │ 1862.33   │ 826.66   │ 516.06  │ 1159.85  │\n",
       "\n",
       "│ Row │ Bucharest │ Budapest │ Copenhagen │ Dublin  │ Hamburg │ Istanbul │\n",
       "├─────┼───────────┼──────────┼────────────┼─────────┼─────────┼──────────┤\n",
       "│ 1   │ 1968.42   │ 1498.79  │ 1757.54    │ 1469.29 │ 1471.78 │ 2230.42  │\n",
       "│ 2   │ 447.34    │ 316.41   │ 1327.24    │ 2145.39 │ 1229.93 │ 809.48   │\n",
       "│ 3   │ 1293.4    │ 689.06   │ 354.03     │ 1315.16 │ 254.51  │ 1735.01  │\n",
       "│ 4   │ 1769.69   │ 1131.52  │ 766.67     │ 773.2   │ 489.76  │ 2178.85  │\n",
       "│ 5   │ 0.0       │ 639.77   │ 1571.54    │ 2534.72 │ 1544.17 │ 445.62   │\n",
       "│ 6   │ 639.77    │ 0.0      │ 1011.31    │ 1894.95 │ 927.92  │ 1064.76  │\n",
       "│ 7   │ 1571.54   │ 1011.31  │ 0.0        │ 1238.38 │ 287.97  │ 2017.17  │\n",
       "│ 8   │ 2534.72   │ 1894.95  │ 1238.38    │ 0.0     │ 1073.36 │ 2950.11  │\n",
       "│ 9   │ 1544.17   │ 927.92   │ 287.97     │ 1073.36 │ 0.0     │ 1983.75  │\n",
       "│ 10  │ 445.62    │ 1064.76  │ 2017.17    │ 2950.11 │ 1983.75 │ 0.0      │\n",
       "│ 11  │ 744.44    │ 894.29   │ 1326.33    │ 2513.69 │ 1440.34 │ 1052.95  │\n",
       "│ 12  │ 2088.42   │ 1450.12  │ 955.13     │ 462.6   │ 720.12  │ 2496.39  │\n",
       "│ 13  │ 2469.71   │ 1975.38  │ 2071.75    │ 1449.96 │ 1785.33 │ 2734.6   │\n",
       "│ 14  │ 1331.46   │ 788.56   │ 1157.89    │ 1413.37 │ 900.01  │ 1669.43  │\n",
       "│ 15  │ 1497.56   │ 1565.19  │ 1558.52    │ 2792.41 │ 1779.93 │ 1753.97  │\n",
       "│ 16  │ 1186.37   │ 563.93   │ 838.0      │ 1374.91 │ 610.17  │ 1582.16  │\n",
       "│ 17  │ 1869.95   │ 1247.61  │ 1025.9     │ 776.83  │ 744.63  │ 2253.98  │\n",
       "│ 18  │ 1076.82   │ 443.26   │ 633.05     │ 1465.61 │ 492.25  │ 1507.55  │\n",
       "│ 19  │ 1137.38   │ 811.11   │ 1529.69    │ 1882.22 │ 1307.51 │ 1373.81  │\n",
       "│ 20  │ 1740.39   │ 1556.51  │ 1143.4     │ 2314.19 │ 1414.16 │ 2099.29  │\n",
       "│ 21  │ 296.68    │ 629.63   │ 1635.54    │ 2471.02 │ 1554.82 │ 502.61   │\n",
       "│ 22  │ 1742.25   │ 1316.59  │ 521.68     │ 1626.56 │ 809.65  │ 2171.65  │\n",
       "│ 23  │ 855.32    │ 216.98   │ 868.87     │ 1680.0  │ 742.79  │ 1273.88  │\n",
       "│ 24  │ 946.12    │ 545.29   │ 667.8      │ 1823.72 │ 750.49  │ 1386.08  │\n",
       "\n",
       "│ Row │ Kiev    │ London  │ Madrid  │ Milan   │ Moscow  │ Munich  │ Paris   │\n",
       "├─────┼─────────┼─────────┼─────────┼─────────┼─────────┼─────────┼─────────┤\n",
       "│ 1   │ 2391.06 │ 1137.67 │ 504.64  │ 725.12  │ 3006.93 │ 1054.55 │ 831.59  │\n",
       "│ 2   │ 976.02  │ 1688.97 │ 2026.94 │ 885.32  │ 1710.99 │ 773.33  │ 1445.7  │\n",
       "│ 3   │ 1204.0  │ 929.97  │ 1867.69 │ 840.72  │ 1607.99 │ 501.97  │ 876.96  │\n",
       "│ 4   │ 1836.2  │ 318.72  │ 1314.3  │ 696.61  │ 2253.26 │ 601.87  │ 261.29  │\n",
       "│ 5   │ 744.44  │ 2088.42 │ 2469.71 │ 1331.46 │ 1497.56 │ 1186.37 │ 1869.95 │\n",
       "│ 6   │ 894.29  │ 1450.12 │ 1975.38 │ 788.56  │ 1565.19 │ 563.93  │ 1247.61 │\n",
       "│ 7   │ 1326.33 │ 955.13  │ 2071.75 │ 1157.89 │ 1558.52 │ 838.0   │ 1025.9  │\n",
       "│ 8   │ 2513.69 │ 462.6   │ 1449.96 │ 1413.37 │ 2792.41 │ 1374.91 │ 776.83  │\n",
       "│ 9   │ 1440.34 │ 720.12  │ 1785.33 │ 900.01  │ 1779.93 │ 610.17  │ 744.63  │\n",
       "│ 10  │ 1052.95 │ 2496.39 │ 2734.6  │ 1669.43 │ 1753.97 │ 1582.16 │ 2253.98 │\n",
       "│ 11  │ 0.0     │ 2131.2  │ 2859.32 │ 1672.69 │ 756.61  │ 1391.36 │ 2022.76 │\n",
       "│ 12  │ 2131.2  │ 0.0     │ 1263.37 │ 957.91  │ 2498.32 │ 916.23  │ 340.55  │\n",
       "│ 13  │ 2859.32 │ 1263.37 │ 0.0     │ 1187.73 │ 3437.7  │ 1484.53 │ 1053.4  │\n",
       "│ 14  │ 1672.69 │ 957.91  │ 1187.73 │ 0.0     │ 2283.19 │ 348.89  │ 641.31  │\n",
       "│ 15  │ 756.61  │ 2498.32 │ 3437.7  │ 2283.19 │ 0.0     │ 1957.15 │ 2484.92 │\n",
       "│ 16  │ 1391.36 │ 916.23  │ 1484.53 │ 348.89  │ 1957.15 │ 0.0     │ 685.14  │\n",
       "│ 17  │ 2022.76 │ 340.55  │ 1053.4  │ 641.31  │ 2484.92 │ 685.14  │ 0.0     │\n",
       "│ 18  │ 1138.61 │ 1034.57 │ 1773.73 │ 646.04  │ 1664.04 │ 300.16  │ 885.38  │\n",
       "│ 19  │ 1673.74 │ 1431.21 │ 1360.8  │ 476.0   │ 2374.26 │ 698.04  │ 1105.76 │\n",
       "│ 20  │ 1051.39 │ 2093.69 │ 3183.43 │ 2122.15 │ 632.59  │ 1773.83 │ 2157.99 │\n",
       "│ 21  │ 1020.76 │ 2012.7  │ 2250.1  │ 1166.83 │ 1777.35 │ 1096.54 │ 1758.03 │\n",
       "│ 22  │ 1265.79 │ 1431.07 │ 2591.53 │ 1650.12 │ 1227.38 │ 1311.8  │ 1541.83 │\n",
       "│ 23  │ 1052.76 │ 1233.48 │ 1807.09 │ 623.36  │ 1669.22 │ 354.42  │ 1033.73 │\n",
       "│ 24  │ 690.12  │ 1445.85 │ 2288.42 │ 1143.01 │ 1149.41 │ 809.02  │ 1365.91 │\n",
       "\n",
       "│ Row │ Prague  │ Rome    │ Saint_Petersburg │ Sofia   │ Stockholm │ Vienna  │\n",
       "├─────┼─────────┼─────────┼──────────────────┼─────────┼───────────┼─────────┤\n",
       "│ 1   │ 1353.9  │ 856.69  │ 2813.02          │ 1745.55 │ 2276.51   │ 1347.43 │\n",
       "│ 2   │ 738.1   │ 721.55  │ 1797.75          │ 329.46  │ 1620.96   │ 489.28  │\n",
       "│ 3   │ 280.34  │ 1181.67 │ 1319.62          │ 1318.67 │ 810.38    │ 523.61  │\n",
       "│ 4   │ 721.08  │ 1171.34 │ 1903.66          │ 1697.83 │ 1280.88   │ 914.81  │\n",
       "│ 5   │ 1076.82 │ 1137.38 │ 1740.39          │ 296.68  │ 1742.25   │ 855.32  │\n",
       "│ 6   │ 443.26  │ 811.11  │ 1556.51          │ 629.63  │ 1316.59   │ 216.98  │\n",
       "│ 7   │ 633.05  │ 1529.69 │ 1143.4           │ 1635.54 │ 521.68    │ 868.87  │\n",
       "│ 8   │ 1465.61 │ 1882.22 │ 2314.19          │ 2471.02 │ 1626.56   │ 1680.0  │\n",
       "│ 9   │ 492.25  │ 1307.51 │ 1414.16          │ 1554.82 │ 809.65    │ 742.79  │\n",
       "│ 10  │ 1507.55 │ 1373.81 │ 2099.29          │ 502.61  │ 2171.65   │ 1273.88 │\n",
       "│ 11  │ 1138.61 │ 1673.74 │ 1051.39          │ 1020.76 │ 1265.79   │ 1052.76 │\n",
       "│ 12  │ 1034.57 │ 1431.21 │ 2093.69          │ 2012.7  │ 1431.07   │ 1233.48 │\n",
       "│ 13  │ 1773.73 │ 1360.8  │ 3183.43          │ 2250.1  │ 2591.53   │ 1807.09 │\n",
       "│ 14  │ 646.04  │ 476.0   │ 2122.15          │ 1166.83 │ 1650.12   │ 623.36  │\n",
       "│ 15  │ 1664.04 │ 2374.26 │ 632.59           │ 1777.35 │ 1227.38   │ 1669.22 │\n",
       "│ 16  │ 300.16  │ 698.04  │ 1773.83          │ 1096.54 │ 1311.8    │ 354.42  │\n",
       "│ 17  │ 885.38  │ 1105.76 │ 2157.99          │ 1758.03 │ 1541.83   │ 1033.73 │\n",
       "│ 18  │ 0.0     │ 922.0   │ 1476.73          │ 1064.43 │ 1052.85   │ 250.71  │\n",
       "│ 19  │ 922.0   │ 0.0     │ 2339.22          │ 894.06  │ 1974.79   │ 763.26  │\n",
       "│ 20  │ 1476.73 │ 2339.22 │ 0.0              │ 1969.82 │ 688.33    │ 1577.56 │\n",
       "│ 21  │ 1064.43 │ 894.06  │ 1969.82          │ 0.0     │ 1884.91   │ 817.45  │\n",
       "│ 22  │ 1052.85 │ 1974.79 │ 688.33           │ 1884.91 │ 0.0       │ 1241.9  │\n",
       "│ 23  │ 250.71  │ 763.26  │ 1577.56          │ 817.45  │ 1241.9    │ 0.0     │\n",
       "│ 24  │ 514.69  │ 1316.24 │ 1023.41          │ 1076.99 │ 808.14    │ 557.43  │\n",
       "\n",
       "│ Row │ Warsaw  │\n",
       "├─────┼─────────┤\n",
       "│ 1   │ 1862.33 │\n",
       "│ 2   │ 826.66  │\n",
       "│ 3   │ 516.06  │\n",
       "│ 4   │ 1159.85 │\n",
       "│ 5   │ 946.12  │\n",
       "│ 6   │ 545.29  │\n",
       "│ 7   │ 667.8   │\n",
       "│ 8   │ 1823.72 │\n",
       "│ 9   │ 750.49  │\n",
       "│ 10  │ 1386.08 │\n",
       "│ 11  │ 690.12  │\n",
       "│ 12  │ 1445.85 │\n",
       "│ 13  │ 2288.42 │\n",
       "│ 14  │ 1143.01 │\n",
       "│ 15  │ 1149.41 │\n",
       "│ 16  │ 809.02  │\n",
       "│ 17  │ 1365.91 │\n",
       "│ 18  │ 514.69  │\n",
       "│ 19  │ 1316.24 │\n",
       "│ 20  │ 1023.41 │\n",
       "│ 21  │ 1076.99 │\n",
       "│ 22  │ 808.14  │\n",
       "│ 23  │ 557.43  │\n",
       "│ 24  │ 0.0     │"
      ]
     },
     "execution_count": 2,
     "metadata": {},
     "output_type": "execute_result"
    }
   ],
   "source": [
    "table = readtable(\"data/DistMat.csv\")"
   ]
  },
  {
   "cell_type": "code",
   "execution_count": 3,
   "metadata": {
    "collapsed": false
   },
   "outputs": [
    {
     "data": {
      "text/plain": [
       "24×24 Named Array{Float64,2}\n",
       "           A ╲ B │        Barcelona  …            Warsaw\n",
       "─────────────────┼──────────────────────────────────────\n",
       "Barcelona        │              0.0  …           1862.33\n",
       "Belgrade         │          1528.13               826.66\n",
       "Berlin           │          1497.61               516.06\n",
       "Brussels         │          1062.89              1159.85\n",
       "Bucharest        │          1968.42               946.12\n",
       "Budapest         │          1498.79               545.29\n",
       "Copenhagen       │          1757.54                667.8\n",
       "Dublin           │          1469.29              1823.72\n",
       "Hamburg          │          1471.78               750.49\n",
       "Istanbul         │          2230.42              1386.08\n",
       "Kiev             │          2391.06               690.12\n",
       "London           │          1137.67              1445.85\n",
       "Madrid           │           504.64              2288.42\n",
       "Milan            │           725.12              1143.01\n",
       "Moscow           │          3006.93              1149.41\n",
       "Munich           │          1054.55               809.02\n",
       "Paris            │           831.59              1365.91\n",
       "Prague           │           1353.9               514.69\n",
       "Rome             │           856.69              1316.24\n",
       "Saint Petersburg │          2813.02              1023.41\n",
       "Sofia            │          1745.55              1076.99\n",
       "Stockholm        │          2276.51               808.14\n",
       "Vienna           │          1347.43               557.43\n",
       "Warsaw           │          1862.33  …               0.0"
      ]
     },
     "execution_count": 3,
     "metadata": {},
     "output_type": "execute_result"
    }
   ],
   "source": [
    "cities = Array(table[:,1])\n",
    "delete!(table, 1)\n",
    "distMat = NamedArray(Array(table), (cities, cities))"
   ]
  },
  {
   "cell_type": "code",
   "execution_count": 4,
   "metadata": {
    "collapsed": false
   },
   "outputs": [
    {
     "data": {
      "text/html": [
       "1241.9"
      ],
      "text/plain": [
       "1241.9"
      ]
     },
     "execution_count": 4,
     "metadata": {},
     "output_type": "execute_result"
    }
   ],
   "source": [
    "distMat[\"Vienna\", \"Stockholm\"]"
   ]
  },
  {
   "cell_type": "code",
   "execution_count": 5,
   "metadata": {
    "collapsed": false
   },
   "outputs": [],
   "source": [
    "type RLTask\n",
    "    stateSpace::Array{Any, 1} \n",
    "    actionSpace::Array{Any, 1}\n",
    "    currentState::Any # current state, an element of stateSpace\n",
    "    stepFunction::Function # (currentState, a) -> (newState, reward)\n",
    "end"
   ]
  },
  {
   "cell_type": "code",
   "execution_count": 6,
   "metadata": {
    "collapsed": false
   },
   "outputs": [
    {
     "data": {
      "text/plain": [
       "step (generic function with 1 method)"
      ]
     },
     "execution_count": 6,
     "metadata": {},
     "output_type": "execute_result"
    }
   ],
   "source": [
    "function step(rltask::RLTask, action)\n",
    "    newState, reward = rltask.stepFunction(rltask.currentState, action)\n",
    "    # println(\"Moving to $newState obtaining reward $reward\")\n",
    "    return newState, reward\n",
    "end"
   ]
  },
  {
   "cell_type": "markdown",
   "metadata": {},
   "source": [
    "Vamos a crear un objeto de la clase RLTask aplicado a nuestro problema de moverse en una grafica"
   ]
  },
  {
   "cell_type": "code",
   "execution_count": 7,
   "metadata": {
    "collapsed": false
   },
   "outputs": [
    {
     "data": {
      "text/plain": [
       "24-element Array{String,1}:\n",
       " \"Barcelona\"       \n",
       " \"Belgrade\"        \n",
       " \"Berlin\"          \n",
       " \"Brussels\"        \n",
       " \"Bucharest\"       \n",
       " \"Budapest\"        \n",
       " \"Copenhagen\"      \n",
       " \"Dublin\"          \n",
       " \"Hamburg\"         \n",
       " \"Istanbul\"        \n",
       " \"Kiev\"            \n",
       " \"London\"          \n",
       " \"Madrid\"          \n",
       " \"Milan\"           \n",
       " \"Moscow\"          \n",
       " \"Munich\"          \n",
       " \"Paris\"           \n",
       " \"Prague\"          \n",
       " \"Rome\"            \n",
       " \"Saint Petersburg\"\n",
       " \"Sofia\"           \n",
       " \"Stockholm\"       \n",
       " \"Vienna\"          \n",
       " \"Warsaw\"          "
      ]
     },
     "execution_count": 7,
     "metadata": {},
     "output_type": "execute_result"
    }
   ],
   "source": [
    "stateSpace = cities\n",
    "actionSpace = cities"
   ]
  },
  {
   "cell_type": "code",
   "execution_count": 8,
   "metadata": {
    "collapsed": false
   },
   "outputs": [
    {
     "data": {
      "text/plain": [
       "(\"Barcelona\",-1137.67)"
      ]
     },
     "execution_count": 8,
     "metadata": {},
     "output_type": "execute_result"
    }
   ],
   "source": [
    "function stepFunction(s, a)\n",
    "    newState = a\n",
    "    reward = -distMat[s, a]\n",
    "    return newState, reward \n",
    "end\n",
    "stepFunction(\"London\", \"Barcelona\")"
   ]
  },
  {
   "cell_type": "code",
   "execution_count": 9,
   "metadata": {
    "collapsed": false
   },
   "outputs": [
    {
     "data": {
      "text/plain": [
       "RLTask(Any[\"Barcelona\",\"Belgrade\",\"Berlin\",\"Brussels\",\"Bucharest\",\"Budapest\",\"Copenhagen\",\"Dublin\",\"Hamburg\",\"Istanbul\"  …  \"Moscow\",\"Munich\",\"Paris\",\"Prague\",\"Rome\",\"Saint Petersburg\",\"Sofia\",\"Stockholm\",\"Vienna\",\"Warsaw\"],Any[\"Barcelona\",\"Belgrade\",\"Berlin\",\"Brussels\",\"Bucharest\",\"Budapest\",\"Copenhagen\",\"Dublin\",\"Hamburg\",\"Istanbul\"  …  \"Moscow\",\"Munich\",\"Paris\",\"Prague\",\"Rome\",\"Saint Petersburg\",\"Sofia\",\"Stockholm\",\"Vienna\",\"Warsaw\"],\"London\",stepFunction)"
      ]
     },
     "execution_count": 9,
     "metadata": {},
     "output_type": "execute_result"
    }
   ],
   "source": [
    "currentState = \"London\"\n",
    "graphWalk = RLTask(stateSpace, actionSpace, currentState, stepFunction)"
   ]
  },
  {
   "cell_type": "code",
   "execution_count": 10,
   "metadata": {
    "collapsed": false
   },
   "outputs": [
    {
     "data": {
      "text/plain": [
       "(\"Barcelona\",-1137.67)"
      ]
     },
     "execution_count": 10,
     "metadata": {},
     "output_type": "execute_result"
    }
   ],
   "source": [
    "step(graphWalk, \"Barcelona\")"
   ]
  },
  {
   "cell_type": "code",
   "execution_count": 11,
   "metadata": {
    "collapsed": false
   },
   "outputs": [],
   "source": [
    "# Lets create an agent\n",
    "type Agent\n",
    "    policy::Function # (current state of rltask) - > (action)\n",
    "    totalReward::Real\n",
    "end\n"
   ]
  },
  {
   "cell_type": "code",
   "execution_count": 12,
   "metadata": {
    "collapsed": false
   },
   "outputs": [
    {
     "data": {
      "text/plain": [
       "choose (generic function with 1 method)"
      ]
     },
     "execution_count": 12,
     "metadata": {},
     "output_type": "execute_result"
    }
   ],
   "source": [
    "function choose(agent::Agent, rltask::RLTask)\n",
    "    action = agent.policy(rltask)\n",
    "   # println(\"The agent chooses $action from state $(rltask.currentState)\")\n",
    "    return(action)\n",
    "end"
   ]
  },
  {
   "cell_type": "markdown",
   "metadata": {},
   "source": [
    "Traera nuestro problema"
   ]
  },
  {
   "cell_type": "code",
   "execution_count": 13,
   "metadata": {
    "collapsed": false
   },
   "outputs": [
    {
     "data": {
      "text/plain": [
       "Agent(randomPolicy,0)"
      ]
     },
     "execution_count": 13,
     "metadata": {},
     "output_type": "execute_result"
    }
   ],
   "source": [
    "function randomPolicy(rltask::RLTask)\n",
    "    return rand(rltask.actionSpace)\n",
    "end\n",
    "dumbAgent = Agent(randomPolicy, 0)"
   ]
  },
  {
   "cell_type": "code",
   "execution_count": 14,
   "metadata": {
    "collapsed": false
   },
   "outputs": [],
   "source": [
    "for i in 1:10 choose(dumbAgent, graphWalk) end"
   ]
  },
  {
   "cell_type": "code",
   "execution_count": 15,
   "metadata": {
    "collapsed": false
   },
   "outputs": [
    {
     "data": {
      "text/plain": [
       "interact! (generic function with 1 method)"
      ]
     },
     "execution_count": 15,
     "metadata": {},
     "output_type": "execute_result"
    }
   ],
   "source": [
    "function interact!(agent::Agent, rltask::RLTask)\n",
    "    action = choose(agent, rltask)\n",
    "    newState, reward = step(rltask, action)\n",
    "    agent.totalReward += reward\n",
    "    rltask.currentState = newState\n",
    "end"
   ]
  },
  {
   "cell_type": "code",
   "execution_count": 16,
   "metadata": {
    "collapsed": false
   },
   "outputs": [
    {
     "name": "stdout",
     "output_type": "stream",
     "text": [
      "Current state: London\n",
      "Current total reward: 0\n"
     ]
    }
   ],
   "source": [
    "println(\"Current state: $(graphWalk.currentState)\")\n",
    "println(\"Current total reward: $(dumbAgent.totalReward)\")"
   ]
  },
  {
   "cell_type": "code",
   "execution_count": 17,
   "metadata": {
    "collapsed": false
   },
   "outputs": [
    {
     "name": "stdout",
     "output_type": "stream",
     "text": [
      "Current state: Vienna\n",
      "Current total reward: -1233.48\n"
     ]
    }
   ],
   "source": [
    "interact!(dumbAgent, graphWalk)\n",
    "println(\"Current state: $(graphWalk.currentState)\")\n",
    "println(\"Current total reward: $(dumbAgent.totalReward)\")"
   ]
  },
  {
   "cell_type": "code",
   "execution_count": 18,
   "metadata": {
    "collapsed": false
   },
   "outputs": [
    {
     "name": "stdout",
     "output_type": "stream",
     "text": [
      "Current state: Warsaw\n",
      "Current total reward: -1790.9099999999999\n"
     ]
    }
   ],
   "source": [
    "interact!(dumbAgent, graphWalk)\n",
    "println(\"Current state: $(graphWalk.currentState)\")\n",
    "println(\"Current total reward: $(dumbAgent.totalReward)\")"
   ]
  },
  {
   "cell_type": "markdown",
   "metadata": {},
   "source": [
    "Vamos a suponer que queremos aprender como visitar de manera optima todos los estados dado un estado inicial"
   ]
  },
  {
   "cell_type": "code",
   "execution_count": 19,
   "metadata": {
    "collapsed": false
   },
   "outputs": [
    {
     "data": {
      "text/plain": [
       "distanceToVisitAll (generic function with 1 method)"
      ]
     },
     "execution_count": 19,
     "metadata": {},
     "output_type": "execute_result"
    }
   ],
   "source": [
    "function distanceToVisitAll(agent::Agent, rltask::RLTask, origin)\n",
    "    maxiter = 1000000\n",
    "    states = rltask.stateSpace\n",
    "    visited = Dict()\n",
    "    for state in visited\n",
    "        visited[state] = 0 \n",
    "    end\n",
    "    visited[origin] = 1\n",
    "    i = 0\n",
    "    while any([x == 0 for i,x in enumerate(visited)]) & i < maxiter\n",
    "        interact!(agent, rltask) \n",
    "        visited[rltask.currentState] = 1\n",
    "        i += 1\n",
    "    end\n",
    "    if (i == maxiter)\n",
    "        println(\"Fullfilled task\")\n",
    "    end\n",
    "    return agent.totalReward, visited\n",
    "end"
   ]
  },
  {
   "cell_type": "code",
   "execution_count": 20,
   "metadata": {
    "collapsed": false
   },
   "outputs": [
    {
     "ename": "LoadError",
     "evalue": "InterruptException:",
     "output_type": "error",
     "traceback": [
      "InterruptException:",
      "",
      " in interact!(::Agent, ::RLTask) at ./In[15]:4",
      " in distanceToVisitAll(::Agent, ::RLTask, ::String) at ./In[19]:11"
     ]
    }
   ],
   "source": [
    "r, visited = distanceToVisitAll(dumbAgent, graphWalk, \"Paris\")"
   ]
  },
  {
   "cell_type": "code",
   "execution_count": null,
   "metadata": {
    "collapsed": true
   },
   "outputs": [],
   "source": []
  }
 ],
 "metadata": {
  "kernelspec": {
   "display_name": "Julia 0.5.0",
   "language": "julia",
   "name": "julia-0.5"
  },
  "language_info": {
   "file_extension": ".jl",
   "mimetype": "application/julia",
   "name": "julia",
   "version": "0.5.0"
  }
 },
 "nbformat": 4,
 "nbformat_minor": 1
}
