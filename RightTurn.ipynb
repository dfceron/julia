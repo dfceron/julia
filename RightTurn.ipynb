{
 "cells": [
  {
   "cell_type": "markdown",
   "metadata": {},
   "source": [
    "# Let's race!\n",
    "\n",
    "## Can you learn to turn?"
   ]
  },
  {
   "cell_type": "markdown",
   "metadata": {},
   "source": [
    "We will implement a Reinforcement Learning Framework according to class. We need:\n",
    "\n",
    "1. An **environment** \n",
    "2. An **agent**\n",
    "3. A method for their **interaction**\n",
    "\n",
    "We will try to keep it as simple as possible sacrificing generality. For this tashs we will create `types` which are Julias `classes` (Julia's class system is more similar to `C` rather than `Python` classes) and `modules` (functions that work on those classes)."
   ]
  },
  {
   "cell_type": "code",
   "execution_count": 14,
   "metadata": {
    "collapsed": false
   },
   "outputs": [
    {
     "name": "stderr",
     "output_type": "stream",
     "text": [
      "WARNING: Method definition (::Type{Main.RLEnv})(Array{Any, 1}, Function, Function) in module Main at In[1]:3 overwritten at In[14]:3.\n",
      "WARNING: Method definition (::Type{Main.RLEnv})(Any, Any, Any) in module Main at In[1]:3 overwritten at In[14]:3.\n",
      "WARNING: Method definition (::Type{Main.RLAgent})(Function, Any) in module Main at In[1]:8 overwritten at In[14]:8.\n",
      "WARNING: Method definition (::Type{Main.RLAgent})(Any, Any) in module Main at In[1]:8 overwritten at In[14]:8.\n",
      "WARNING: Method definition interact!(Main.RLAgent, Main.RLEnv) in module Main at In[1]:13 overwritten at In[14]:13.\n"
     ]
    },
    {
     "data": {
      "text/plain": [
       "interact! (generic function with 2 methods)"
      ]
     },
     "execution_count": 14,
     "metadata": {},
     "output_type": "execute_result"
    }
   ],
   "source": [
    "# OUR REINFORCEMENT LEARNING FRAMEWORK MODULE\n",
    "type RLEnv # reinforcement learning environment, should be immutable for efficiency\n",
    "    state_space::Array{Any, 1} # \n",
    "    trans_fun::Function # (state, action) -> (new_state, reward)\n",
    "    action_set::Function # (state) -> (array of available actions from state_space)\n",
    "end\n",
    "type RLAgent\n",
    "    policy::Function # (state) -> (action)\n",
    "    state::Any # current\n",
    "end\n",
    "function interact!(agent::RLAgent, env::RLEnv)\n",
    "    # la convencion (opcional) de julia es incluir '!' al final de una funcion si modifica sus argumentos \n",
    "    new_state, reward = env.trans_fun(agent.state, agent.policy(agent.state))\n",
    "    agent.state = new_state\n",
    "    return new_state, reward # a veces es conveniente regresar los rewards de cada iteracion\n",
    "end\n",
    "# multiple distpatch at work! What if we want to interact fixing an action????\n",
    "function interact!(agent::RLAgent, env::RLEnv, action)\n",
    "    # la convencion (opcional) de julia es incluir '!' al final de una funcion si modifica sus argumentos \n",
    "    new_state, reward = env.trans_fun(agent.state, action)\n",
    "    agent.state = new_state\n",
    "    return new_state, reward # a veces es conveniente regresar los rewards de cada iteracion\n",
    "end"
   ]
  },
  {
   "cell_type": "markdown",
   "metadata": {},
   "source": [
    "Esta estructura es muy flexible y vamos a demostrar como podemos resolver problemas con ella"
   ]
  },
  {
   "cell_type": "markdown",
   "metadata": {},
   "source": [
    "# Are you ready to race!!!!!!! brum brum!"
   ]
  },
  {
   "cell_type": "code",
   "execution_count": 20,
   "metadata": {
    "collapsed": false
   },
   "outputs": [
    {
     "name": "stdout",
     "output_type": "stream",
     "text": [
      "Voici our race track!\n",
      "* * * * * * * * * * * F F F F * *\n",
      "* * * * * * * * * *           * *\n",
      "* * * * * * * * *           * * *\n",
      "* * * * * * *             * * * *\n",
      "* * * * * *             * * * * *\n",
      "* * * * *           * * * * * * *\n",
      "* * * *           * * * * * * * *\n",
      "* * *           * * * * * * * * *\n",
      "* *           * * * * * * * * * *\n",
      "* *           * * * * * * * * * *\n",
      "* *         * * * * * * * * * * *\n",
      "* *         * * * * * * * * * * *\n",
      "* *         * * * * * * * * * * *\n",
      "* *         * * * * * * * * * * *\n",
      "* *         * * * * * * * * * * *\n",
      "* *   +     * * * * * * * * * * *\n",
      "* *         * * * * * * * * * * *\n",
      "* *         * * * * * * * * * * *\n",
      "F: Finish line\n",
      "*: Outside the track\n",
      "+: Racer position\n"
     ]
    },
    {
     "name": "stderr",
     "output_type": "stream",
     "text": [
      "WARNING: Method definition print_race_track(Any, Any) in module Main at In[2]:3 overwritten at In[20]:3.\n"
     ]
    }
   ],
   "source": [
    "race_track = readcsv(\"data/right_turn.csv\")\n",
    "function print_race_track(track, pos)\n",
    "    tr = map(x -> x == \"\" ? \" \": x, track)\n",
    "    tr[pos...] = \"+\"\n",
    "    print(\"Voici our race track!\\n\")\n",
    "    for i in 1:size(tr, 1)  \n",
    "        print(join(tr[i,:], \" \"), \"\\n\")\n",
    "    end\n",
    "    print(\"F: Finish line\\n*: Outside the track\\n+: Racer position\\n\")\n",
    "end\n",
    "print_race_track(race_track, [16, 4])    "
   ]
  },
  {
   "cell_type": "code",
   "execution_count": 3,
   "metadata": {
    "collapsed": false
   },
   "outputs": [
    {
     "name": "stdout",
     "output_type": "stream",
     "text": [
      "[1,1],[1,2],[1,3],[1,4],[1,5],[1,6],[1,7],[1,8],[1,9],[1,10],[1,11],[1,12],[1,13],[1,14],[1,15],[1,16],[1,17],[2,1],[2,2],[2,3],[2,4],[2,5],[2,6],[2,7],[2,8],[2,9],[2,10],[2,11],[2,12],[2,13],[2,14],[2,15],[2,16],[2,17],[3,1],[3,2],[3,3],[3,4],[3,5],[3,6],[3,7],[3,8],[3,9],[3,10],[3,11],[3,12],[3,13],[3,14],[3,15],[3,16],[3,17],[4,1],[4,2],[4,3],[4,4],[4,5],[4,6],[4,7],[4,8],[4,9],[4,10],[4,11],[4,12],[4,13],[4,14],[4,15],[4,16],[4,17],[5,1],[5,2],[5,3],[5,4],[5,5],[5,6],[5,7],[5,8],[5,9],[5,10],[5,11],[5,12],[5,13],[5,14],[5,15],[5,16],[5,17],[6,1],[6,2],[6,3],[6,4],[6,5],[6,6],[6,7],[6,8],[6,9],[6,10],[6,11],[6,12],[6,13],[6,14],[6,15],[6,16],[6,17],[7,1],[7,2],[7,3],[7,4],[7,5],[7,6],[7,7],[7,8],[7,9],[7,10],[7,11],[7,12],[7,13],[7,14],[7,15],[7,16],[7,17],[8,1],[8,2],[8,3],[8,4],[8,5],[8,6],[8,7],[8,8],[8,9],[8,10],[8,11],[8,12],[8,13],[8,14],[8,15],[8,16],[8,17],[9,1],[9,2],[9,3],[9,4],[9,5],[9,6],[9,7],[9,8],[9,9],[9,10],[9,11],[9,12],[9,13],[9,14],[9,15],[9,16],[9,17],[10,1],[10,2],[10,3],[10,4],[10,5],[10,6],[10,7],[10,8],[10,9],[10,10],[10,11],[10,12],[10,13],[10,14],[10,15],[10,16],[10,17],[11,1],[11,2],[11,3],[11,4],[11,5],[11,6],[11,7],[11,8],[11,9],[11,10],[11,11],[11,12],[11,13],[11,14],[11,15],[11,16],[11,17],[12,1],[12,2],[12,3],[12,4],[12,5],[12,6],[12,7],[12,8],[12,9],[12,10],[12,11],[12,12],[12,13],[12,14],[12,15],[12,16],[12,17],[13,1],[13,2],[13,3],[13,4],[13,5],[13,6],[13,7],[13,8],[13,9],[13,10],[13,11],[13,12],[13,13],[13,14],[13,15],[13,16],[13,17],[14,1],[14,2],[14,3],[14,4],[14,5],[14,6],[14,7],[14,8],[14,9],[14,10],[14,11],[14,12],[14,13],[14,14],[14,15],[14,16],[14,17],[15,1],[15,2],[15,3],[15,4],[15,5],[15,6],[15,7],[15,8],[15,9],[15,10],[15,11],[15,12],[15,13],[15,14],[15,15],[15,16],[15,17],[16,1],[16,2],[16,3],[16,4],[16,5],[16,6],[16,7],[16,8],[16,9],[16,10],[16,11],[16,12],[16,13],[16,14],[16,15],[16,16],[16,17],[17,1],[17,2],[17,3],[17,4],[17,5],[17,6],[17,7],[17,8],[17,9],[17,10],[17,11],[17,12],[17,13],[17,14],[17,15],[17,16],[17,17],[18,1],[18,2],[18,3],[18,4],[18,5],[18,6],[18,7],[18,8],[18,9],[18,10],[18,11],[18,12],[18,13],[18,14],[18,15],[18,16],[18,17]\n"
     ]
    }
   ],
   "source": [
    "state_space = [[i,j] for i in 1:size(race_track, 1) for j in 1:size(race_track, 2)] # list comprenhensions cool\n",
    "println(join(state_space,\",\")) # to save space"
   ]
  },
  {
   "cell_type": "code",
   "execution_count": 4,
   "metadata": {
    "collapsed": false
   },
   "outputs": [
    {
     "data": {
      "text/plain": [
       "action_set (generic function with 1 method)"
      ]
     },
     "execution_count": 4,
     "metadata": {},
     "output_type": "execute_result"
    }
   ],
   "source": [
    "action_set(state) = [\"up\", \"left\", \"down\", \"right\"] \n",
    "# available actions do NOT depend on current state.... for now..."
   ]
  },
  {
   "cell_type": "code",
   "execution_count": 5,
   "metadata": {
    "collapsed": false
   },
   "outputs": [
    {
     "data": {
      "text/plain": [
       "([18,3],-1)"
      ]
     },
     "execution_count": 5,
     "metadata": {},
     "output_type": "execute_result"
    }
   ],
   "source": [
    "# CAN'T GET OFF THE GRID!\n",
    "function trans_fun(state, action)\n",
    "    i, j = state\n",
    "    if action == \"up\" && i > 1\n",
    "        i = i - 1\n",
    "    elseif action == \"right\" && j < size(race_track, 2)\n",
    "        j = j + 1\n",
    "    elseif action == \"left\" && j > 1\n",
    "        j = j - 1\n",
    "    elseif action == \"down\" && i < size(race_track, 1)\n",
    "        i = i + 1\n",
    "    end\n",
    "    new_state = [i, j]\n",
    "    if race_track[i, j] == \"*\"    \n",
    "        reward = -5\n",
    "    elseif race_track[i, j] == \"F\"\n",
    "        reward = 0\n",
    "    else\n",
    "        reward = -1\n",
    "    end\n",
    "    return new_state, reward\n",
    "end\n",
    "trans_fun([18, 3], \"down\")"
   ]
  },
  {
   "cell_type": "code",
   "execution_count": 23,
   "metadata": {
    "collapsed": false
   },
   "outputs": [
    {
     "data": {
      "text/plain": [
       "RLEnv(Any[[1,1],[1,2],[1,3],[1,4],[1,5],[1,6],[1,7],[1,8],[1,9],[1,10]  …  [18,8],[18,9],[18,10],[18,11],[18,12],[18,13],[18,14],[18,15],[18,16],[18,17]],trans_fun,action_set)"
      ]
     },
     "execution_count": 23,
     "metadata": {},
     "output_type": "execute_result"
    }
   ],
   "source": [
    "# THAT'S ALL WE NEED FOR A TASK\n",
    "race_task = RLEnv(state_space, trans_fun, action_set)"
   ]
  },
  {
   "cell_type": "markdown",
   "metadata": {},
   "source": [
    "### Who is racing?\n",
    "\n",
    "Let's create an agent"
   ]
  },
  {
   "cell_type": "code",
   "execution_count": 24,
   "metadata": {
    "collapsed": false
   },
   "outputs": [
    {
     "name": "stdout",
     "output_type": "stream",
     "text": [
      "Voici our race track!\n",
      "* * * * * * * * * * * F F F F * *\n",
      "* * * * * * * * * *           * *\n",
      "* * * * * * * * *           * * *\n",
      "* * * * * * *             * * * *\n",
      "* * * * * *             * * * * *\n",
      "* * * * *           * * * * * * *\n",
      "* * * *           * * * * * * * *\n",
      "* * *           * * * * * * * * *\n",
      "* *           * * * * * * * * * *\n",
      "* *           * * * * * * * * * *\n",
      "* *         * * * * * * * * * * *\n",
      "* *         * * * * * * * * * * *\n",
      "* *         * * * * * * * * * * *\n",
      "* *         * * * * * * * * * * *\n",
      "* *         * * * * * * * * * * *\n",
      "* *         * * * * * * * * * * *\n",
      "* *         * * * * * * * * * * *\n",
      "* * +       * * * * * * * * * * *\n",
      "F: Finish line\n",
      "*: Outside the track\n",
      "+: Racer position\n"
     ]
    },
    {
     "name": "stderr",
     "output_type": "stream",
     "text": [
      "WARNING: Method definition policy(Any) in module Main at In[9]:2 overwritten at In[24]:2.\n"
     ]
    }
   ],
   "source": [
    "# random directions (for a start...)\n",
    "policy(state) = rand(race_task.action_set(state))\n",
    "state = [18, 3] # we give it an initial state\n",
    "agent = RLAgent(policy, state)\n",
    "print_race_track(race_track, state)"
   ]
  },
  {
   "cell_type": "code",
   "execution_count": 47,
   "metadata": {
    "collapsed": false
   },
   "outputs": [
    {
     "name": "stdout",
     "output_type": "stream",
     "text": [
      "Move to position [17,3] obtaining reward -1\n"
     ]
    }
   ],
   "source": [
    "agent.state = [18, 3]\n",
    "s, r = interact!(agent, race_task, \"up\")\n",
    "println(\"Move to position $s obtaining reward $r\")"
   ]
  },
  {
   "cell_type": "code",
   "execution_count": 48,
   "metadata": {
    "collapsed": false
   },
   "outputs": [
    {
     "name": "stdout",
     "output_type": "stream",
     "text": [
      "Move to position [18,3] obtaining reward -1\n",
      "Move to position [18,2] obtaining reward -5\n",
      "Move to position [17,2] obtaining reward -5\n",
      "Move to position [17,3] obtaining reward -1\n",
      "Move to position [18,3] obtaining reward -1\n",
      "Move to position [18,4] obtaining reward -1\n",
      "Move to position [18,5] obtaining reward -1\n",
      "Move to position [18,5] obtaining reward -1\n",
      "Move to position [18,6] obtaining reward -1\n",
      "Move to position [18,5] obtaining reward -1\n"
     ]
    }
   ],
   "source": [
    "# Let's simulate some moves!\n",
    "for i in 1:10\n",
    "    s, r = interact!(agent, race_task)\n",
    "    println(\"Move to position $s obtaining reward $r\")\n",
    "end"
   ]
  },
  {
   "cell_type": "code",
   "execution_count": 26,
   "metadata": {
    "collapsed": false
   },
   "outputs": [
    {
     "name": "stdout",
     "output_type": "stream",
     "text": [
      "Voici our race track!\n",
      "* * * * * * * * * * * F F F F * *\n",
      "* * * * * * * * * *           * *\n",
      "* * * * * * * * *           * * *\n",
      "* * * * * * *             * * * *\n",
      "* * * * * *             * * * * *\n",
      "* * * * *           * * * * * * *\n",
      "* * * *           * * * * * * * *\n",
      "* * *           * * * * * * * * *\n",
      "* *           * * * * * * * * * *\n",
      "* *           * * * * * * * * * *\n",
      "* *         * * * * * * * * * * *\n",
      "* *         * * * * * * * * * * *\n",
      "* *         * * * * * * * * * * *\n",
      "* *         * * * * * * * * * * *\n",
      "* *         * * * * * * * * * * *\n",
      "+ *         * * * * * * * * * * *\n",
      "* *         * * * * * * * * * * *\n",
      "* *         * * * * * * * * * * *\n",
      "F: Finish line\n",
      "*: Outside the track\n",
      "+: Racer position\n"
     ]
    }
   ],
   "source": [
    "# SOME PRINTING (WILL IMPROVE FOR NEXT CLASS USING ESCHER)\n",
    "for i in 1:100\n",
    "    s, r = interact!(agent, race_task)\n",
    "    IJulia.clear_output()\n",
    "    print_race_track(race_track, s)\n",
    "    sleep(0.3)\n",
    "end"
   ]
  },
  {
   "cell_type": "markdown",
   "metadata": {
    "collapsed": false
   },
   "source": [
    "## Let's talk about complete races!\n",
    "\n",
    "Each episodic task has **episodes** (hence the name...). Episodes for different tasks are very different, that's why having a common method was not very practical. But for each task we can create it's episode easily!!! Here's our racing episode!"
   ]
  },
  {
   "cell_type": "code",
   "execution_count": 52,
   "metadata": {
    "collapsed": false
   },
   "outputs": [
    {
     "name": "stderr",
     "output_type": "stream",
     "text": [
      "WARNING: Method definition race_episode(Any, Any, Any) in module Main at In[49]:7 overwritten at In[52]:7.\n",
      "WARNING: Method definition #race_episode(Array{Any, 1}, Main.#race_episode, Any, Any, Any) in module Main overwritten.\n",
      "WARNING: Method definition race_episode(Any, Any) in module Main at In[49]:23 overwritten at In[52]:23.\n",
      "WARNING: Method definition #race_episode(Array{Any, 1}, Main.#race_episode, Any, Any) in module Main overwritten.\n"
     ]
    },
    {
     "data": {
      "text/plain": [
       "race_episode (generic function with 2 methods)"
      ]
     },
     "execution_count": 52,
     "metadata": {},
     "output_type": "execute_result"
    }
   ],
   "source": [
    "# the racing episode its fixed for our racing task, but different agent's have different policies\n",
    "# we can run en episode by fixing a first action or not!! MULTIPLE DISPATCH AT WORK\n",
    "# Starting fixing an action!\n",
    "terminal_states = [x for x in race_task.state_space if race_track[x...] == \"F\"] # list comprenhensions cool!\n",
    "# optional arguments and keyword arguments\n",
    "function race_episode(agent, state, action; max_steps = 10000)\n",
    "    agent.state = state\n",
    "    new_state, reward = interact!(agent, race_task, action)\n",
    "    terminate = (new_state in terminal_states)\n",
    "    step = 0\n",
    "    rewards = Real[]\n",
    "    states = Any[]\n",
    "    while !terminate && step < max_steps \n",
    "        new_state, reward  = interact!(agent, race_task)\n",
    "        step =+ 1\n",
    "        push!(states, new_state)\n",
    "        push!(rewards, reward)\n",
    "        terminate = (new_state in terminal_states)\n",
    "    end\n",
    "    return states, rewards\n",
    "end\n",
    "function race_episode(agent, state; max_steps = 10000)\n",
    "    action = agent.policy(state)\n",
    "    race_episode(agent, state, action, max_steps = max_steps)\n",
    "end"
   ]
  },
  {
   "cell_type": "code",
   "execution_count": 82,
   "metadata": {
    "collapsed": false
   },
   "outputs": [
    {
     "name": "stdout",
     "output_type": "stream",
     "text": [
      "Terminated episode in 585 steps with total reward -2404\n"
     ]
    }
   ],
   "source": [
    "states, rewards = race_episode(agent, [18, 3])\n",
    "println(\"Terminated episode in $(size(states, 1)) steps with total reward $(sum(rewards))\")"
   ]
  },
  {
   "cell_type": "markdown",
   "metadata": {},
   "source": [
    "# Let's find the optimal strategy: first visit MCMC"
   ]
  },
  {
   "cell_type": "code",
   "execution_count": null,
   "metadata": {
    "collapsed": true
   },
   "outputs": [],
   "source": []
  }
 ],
 "metadata": {
  "kernelspec": {
   "display_name": "Julia 0.5.0",
   "language": "julia",
   "name": "julia-0.5"
  },
  "language_info": {
   "file_extension": ".jl",
   "mimetype": "application/julia",
   "name": "julia",
   "version": "0.5.0"
  }
 },
 "nbformat": 4,
 "nbformat_minor": 1
}
