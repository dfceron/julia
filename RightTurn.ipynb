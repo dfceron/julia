{
 "cells": [
  {
   "cell_type": "markdown",
   "metadata": {},
   "source": [
    "# Let's race!\n",
    "\n",
    "## Can you learn to turn?"
   ]
  },
  {
   "cell_type": "markdown",
   "metadata": {},
   "source": [
    "We will implement a Reinforcement Learning Framework according to class. We need:\n",
    "\n",
    "1. An **environment** \n",
    "2. An **agent**\n",
    "3. A method for their **interaction**\n",
    "\n",
    "We will try to keep it as simple as possible sacrificing generality. For this tashs we will create `types` which are Julias `classes` (Julia's class system is more similar to `C` rather than `Python` classes) and `modules` (functions that work on those classes)."
   ]
  },
  {
   "cell_type": "code",
   "execution_count": 1,
   "metadata": {
    "collapsed": false
   },
   "outputs": [
    {
     "data": {
      "text/plain": [
       "interact! (generic function with 2 methods)"
      ]
     },
     "execution_count": 1,
     "metadata": {},
     "output_type": "execute_result"
    }
   ],
   "source": [
    "# OUR REINFORCEMENT LEARNING FRAMEWORK MODULE\n",
    "type RLEnv # reinforcement learning environment, should be immutable for efficiency\n",
    "    state_space::Array{Any, 1} # \n",
    "    trans_fun::Function # (state, action) -> (new_state, reward)\n",
    "    action_set::Function # (state) -> (array of available actions from state_space)\n",
    "end\n",
    "type RLAgent\n",
    "    policy::Function # (state) -> (action)\n",
    "    state::Any # current\n",
    "end\n",
    "function interact!(agent::RLAgent, env::RLEnv)\n",
    "    # la convencion (opcional) de julia es incluir '!' al final de una funcion si modifica sus argumentos \n",
    "    new_state, reward = env.trans_fun(agent.state, agent.policy(agent.state))\n",
    "    agent.state = new_state\n",
    "    return new_state, reward # a veces es conveniente regresar los rewards de cada iteracion\n",
    "end\n",
    "# multiple distpatch at work! What if we want to interact fixing an action????\n",
    "function interact!(agent::RLAgent, env::RLEnv, action)\n",
    "    # la convencion (opcional) de julia es incluir '!' al final de una funcion si modifica sus argumentos \n",
    "    new_state, reward = env.trans_fun(agent.state, action)\n",
    "    agent.state = new_state\n",
    "    return new_state, reward # a veces es conveniente regresar los rewards de cada iteracion\n",
    "end"
   ]
  },
  {
   "cell_type": "markdown",
   "metadata": {},
   "source": [
    "Esta estructura es muy flexible y vamos a demostrar como podemos resolver problemas con ella"
   ]
  },
  {
   "cell_type": "markdown",
   "metadata": {},
   "source": [
    "# Are you ready to race!!!!!!! brum brum!"
   ]
  },
  {
   "cell_type": "code",
   "execution_count": 26,
   "metadata": {
    "collapsed": false
   },
   "outputs": [
    {
     "name": "stdout",
     "output_type": "stream",
     "text": [
      "Voici our race track!\n",
      "\u001b[1m\u001b[32m* \u001b[0m\u001b[1m\u001b[32m* \u001b[0m\u001b[1m\u001b[32m* \u001b[0m\u001b[1m\u001b[32m* \u001b[0m\u001b[1m\u001b[32m* \u001b[0m\u001b[1m\u001b[32m* \u001b[0m\u001b[1m\u001b[32m* \u001b[0m\u001b[1m\u001b[32m* \u001b[0m\u001b[1m\u001b[32m* \u001b[0m\u001b[1m\u001b[32m* \u001b[0m\u001b[1m\u001b[32m* \u001b[0m\u001b[1m\u001b[31mF \u001b[0m\u001b[1m\u001b[31mF \u001b[0m\u001b[1m\u001b[31mF \u001b[0m\u001b[1m\u001b[31mF \u001b[0m\u001b[1m\u001b[32m* \u001b[0m\u001b[1m\u001b[32m* \u001b[0m\n",
      "\u001b[1m\u001b[32m* \u001b[0m\u001b[1m\u001b[32m* \u001b[0m\u001b[1m\u001b[32m* \u001b[0m\u001b[1m\u001b[32m* \u001b[0m\u001b[1m\u001b[32m* \u001b[0m\u001b[1m\u001b[32m* \u001b[0m\u001b[1m\u001b[32m* \u001b[0m\u001b[1m\u001b[32m* \u001b[0m\u001b[1m\u001b[32m* \u001b[0m\u001b[1m\u001b[32m* \u001b[0m\u001b[1m\u001b[37m  \u001b[0m\u001b[1m\u001b[37m  \u001b[0m\u001b[1m\u001b[37m  \u001b[0m\u001b[1m\u001b[37m  \u001b[0m\u001b[1m\u001b[37m  \u001b[0m\u001b[1m\u001b[32m* \u001b[0m\u001b[1m\u001b[32m* \u001b[0m\n",
      "\u001b[1m\u001b[32m* \u001b[0m\u001b[1m\u001b[32m* \u001b[0m\u001b[1m\u001b[32m* \u001b[0m\u001b[1m\u001b[32m* \u001b[0m\u001b[1m\u001b[32m* \u001b[0m\u001b[1m\u001b[32m* \u001b[0m\u001b[1m\u001b[32m* \u001b[0m\u001b[1m\u001b[32m* \u001b[0m\u001b[1m\u001b[32m* \u001b[0m\u001b[1m\u001b[37m  \u001b[0m\u001b[1m\u001b[37m  \u001b[0m\u001b[1m\u001b[37m  \u001b[0m\u001b[1m\u001b[37m  \u001b[0m\u001b[1m\u001b[37m  \u001b[0m\u001b[1m\u001b[32m* \u001b[0m\u001b[1m\u001b[32m* \u001b[0m\u001b[1m\u001b[32m* \u001b[0m\n",
      "\u001b[1m\u001b[32m* \u001b[0m\u001b[1m\u001b[32m* \u001b[0m\u001b[1m\u001b[32m* \u001b[0m\u001b[1m\u001b[32m* \u001b[0m\u001b[1m\u001b[32m* \u001b[0m\u001b[1m\u001b[32m* \u001b[0m\u001b[1m\u001b[32m* \u001b[0m\u001b[1m\u001b[37m  \u001b[0m\u001b[1m\u001b[37m  \u001b[0m\u001b[1m\u001b[37m  \u001b[0m\u001b[1m\u001b[37m  \u001b[0m\u001b[1m\u001b[37m  \u001b[0m\u001b[1m\u001b[37m  \u001b[0m\u001b[1m\u001b[32m* \u001b[0m\u001b[1m\u001b[32m* \u001b[0m\u001b[1m\u001b[32m* \u001b[0m\u001b[1m\u001b[32m* \u001b[0m\n",
      "\u001b[1m\u001b[32m* \u001b[0m\u001b[1m\u001b[32m* \u001b[0m\u001b[1m\u001b[32m* \u001b[0m\u001b[1m\u001b[32m* \u001b[0m\u001b[1m\u001b[32m* \u001b[0m\u001b[1m\u001b[32m* \u001b[0m\u001b[1m\u001b[37m  \u001b[0m\u001b[1m\u001b[37m  \u001b[0m\u001b[1m\u001b[37m  \u001b[0m\u001b[1m\u001b[37m  \u001b[0m\u001b[1m\u001b[37m  \u001b[0m\u001b[1m\u001b[37m  \u001b[0m\u001b[1m\u001b[32m* \u001b[0m\u001b[1m\u001b[32m* \u001b[0m\u001b[1m\u001b[32m* \u001b[0m\u001b[1m\u001b[32m* \u001b[0m\u001b[1m\u001b[32m* \u001b[0m\n",
      "\u001b[1m\u001b[32m* \u001b[0m\u001b[1m\u001b[32m* \u001b[0m\u001b[1m\u001b[32m* \u001b[0m\u001b[1m\u001b[32m* \u001b[0m\u001b[1m\u001b[32m* \u001b[0m\u001b[1m\u001b[37m  \u001b[0m\u001b[1m\u001b[37m  \u001b[0m\u001b[1m\u001b[37m  \u001b[0m\u001b[1m\u001b[37m  \u001b[0m\u001b[1m\u001b[37m  \u001b[0m\u001b[1m\u001b[32m* \u001b[0m\u001b[1m\u001b[32m* \u001b[0m\u001b[1m\u001b[32m* \u001b[0m\u001b[1m\u001b[32m* \u001b[0m\u001b[1m\u001b[32m* \u001b[0m\u001b[1m\u001b[32m* \u001b[0m\u001b[1m\u001b[32m* \u001b[0m\n",
      "\u001b[1m\u001b[32m* \u001b[0m\u001b[1m\u001b[32m* \u001b[0m\u001b[1m\u001b[32m* \u001b[0m\u001b[1m\u001b[32m* \u001b[0m\u001b[1m\u001b[37m  \u001b[0m\u001b[1m\u001b[37m  \u001b[0m\u001b[1m\u001b[37m  \u001b[0m\u001b[1m\u001b[37m  \u001b[0m\u001b[1m\u001b[37m  \u001b[0m\u001b[1m\u001b[32m* \u001b[0m\u001b[1m\u001b[32m* \u001b[0m\u001b[1m\u001b[32m* \u001b[0m\u001b[1m\u001b[32m* \u001b[0m\u001b[1m\u001b[32m* \u001b[0m\u001b[1m\u001b[32m* \u001b[0m\u001b[1m\u001b[32m* \u001b[0m\u001b[1m\u001b[32m* \u001b[0m\n",
      "\u001b[1m\u001b[32m* \u001b[0m\u001b[1m\u001b[32m* \u001b[0m\u001b[1m\u001b[32m* \u001b[0m\u001b[1m\u001b[37m  \u001b[0m\u001b[1m\u001b[37m  \u001b[0m\u001b[1m\u001b[37m  \u001b[0m\u001b[1m\u001b[37m  \u001b[0m\u001b[1m\u001b[37m  \u001b[0m\u001b[1m\u001b[32m* \u001b[0m\u001b[1m\u001b[32m* \u001b[0m\u001b[1m\u001b[32m* \u001b[0m\u001b[1m\u001b[32m* \u001b[0m\u001b[1m\u001b[32m* \u001b[0m\u001b[1m\u001b[32m* \u001b[0m\u001b[1m\u001b[32m* \u001b[0m\u001b[1m\u001b[32m* \u001b[0m\u001b[1m\u001b[32m* \u001b[0m\n",
      "\u001b[1m\u001b[32m* \u001b[0m\u001b[1m\u001b[32m* \u001b[0m\u001b[1m\u001b[37m  \u001b[0m\u001b[1m\u001b[37m  \u001b[0m\u001b[1m\u001b[37m  \u001b[0m\u001b[1m\u001b[37m  \u001b[0m\u001b[1m\u001b[37m  \u001b[0m\u001b[1m\u001b[32m* \u001b[0m\u001b[1m\u001b[32m* \u001b[0m\u001b[1m\u001b[32m* \u001b[0m\u001b[1m\u001b[32m* \u001b[0m\u001b[1m\u001b[32m* \u001b[0m\u001b[1m\u001b[32m* \u001b[0m\u001b[1m\u001b[32m* \u001b[0m\u001b[1m\u001b[32m* \u001b[0m\u001b[1m\u001b[32m* \u001b[0m\u001b[1m\u001b[32m* \u001b[0m\n",
      "\u001b[1m\u001b[32m* \u001b[0m\u001b[1m\u001b[32m* \u001b[0m\u001b[1m\u001b[37m  \u001b[0m\u001b[1m\u001b[37m  \u001b[0m\u001b[1m\u001b[37m  \u001b[0m\u001b[1m\u001b[37m  \u001b[0m\u001b[1m\u001b[37m  \u001b[0m\u001b[1m\u001b[32m* \u001b[0m\u001b[1m\u001b[32m* \u001b[0m\u001b[1m\u001b[32m* \u001b[0m\u001b[1m\u001b[32m* \u001b[0m\u001b[1m\u001b[32m* \u001b[0m\u001b[1m\u001b[32m* \u001b[0m\u001b[1m\u001b[32m* \u001b[0m\u001b[1m\u001b[32m* \u001b[0m\u001b[1m\u001b[32m* \u001b[0m\u001b[1m\u001b[32m* \u001b[0m\n",
      "\u001b[1m\u001b[32m* \u001b[0m\u001b[1m\u001b[32m* \u001b[0m\u001b[1m\u001b[37m  \u001b[0m\u001b[1m\u001b[37m  \u001b[0m\u001b[1m\u001b[37m  \u001b[0m\u001b[1m\u001b[37m  \u001b[0m\u001b[1m\u001b[32m* \u001b[0m\u001b[1m\u001b[32m* \u001b[0m\u001b[1m\u001b[32m* \u001b[0m\u001b[1m\u001b[32m* \u001b[0m\u001b[1m\u001b[32m* \u001b[0m\u001b[1m\u001b[32m* \u001b[0m\u001b[1m\u001b[32m* \u001b[0m\u001b[1m\u001b[32m* \u001b[0m\u001b[1m\u001b[32m* \u001b[0m\u001b[1m\u001b[32m* \u001b[0m\u001b[1m\u001b[32m* \u001b[0m\n",
      "\u001b[1m\u001b[32m* \u001b[0m\u001b[1m\u001b[32m* \u001b[0m\u001b[1m\u001b[37m  \u001b[0m\u001b[1m\u001b[37m  \u001b[0m\u001b[1m\u001b[37m  \u001b[0m\u001b[1m\u001b[37m  \u001b[0m\u001b[1m\u001b[32m* \u001b[0m\u001b[1m\u001b[32m* \u001b[0m\u001b[1m\u001b[32m* \u001b[0m\u001b[1m\u001b[32m* \u001b[0m\u001b[1m\u001b[32m* \u001b[0m\u001b[1m\u001b[32m* \u001b[0m\u001b[1m\u001b[32m* \u001b[0m\u001b[1m\u001b[32m* \u001b[0m\u001b[1m\u001b[32m* \u001b[0m\u001b[1m\u001b[32m* \u001b[0m\u001b[1m\u001b[32m* \u001b[0m\n",
      "\u001b[1m\u001b[32m* \u001b[0m\u001b[1m\u001b[32m* \u001b[0m\u001b[1m\u001b[37m  \u001b[0m\u001b[1m\u001b[37m  \u001b[0m\u001b[1m\u001b[37m  \u001b[0m\u001b[1m\u001b[37m  \u001b[0m\u001b[1m\u001b[32m* \u001b[0m\u001b[1m\u001b[32m* \u001b[0m\u001b[1m\u001b[32m* \u001b[0m\u001b[1m\u001b[32m* \u001b[0m\u001b[1m\u001b[32m* \u001b[0m\u001b[1m\u001b[32m* \u001b[0m\u001b[1m\u001b[32m* \u001b[0m\u001b[1m\u001b[32m* \u001b[0m\u001b[1m\u001b[32m* \u001b[0m\u001b[1m\u001b[32m* \u001b[0m\u001b[1m\u001b[32m* \u001b[0m\n",
      "\u001b[1m\u001b[32m* \u001b[0m\u001b[1m\u001b[32m* \u001b[0m\u001b[1m\u001b[37m  \u001b[0m\u001b[1m\u001b[37m  \u001b[0m\u001b[1m\u001b[37m  \u001b[0m\u001b[1m\u001b[37m  \u001b[0m\u001b[1m\u001b[32m* \u001b[0m\u001b[1m\u001b[32m* \u001b[0m\u001b[1m\u001b[32m* \u001b[0m\u001b[1m\u001b[32m* \u001b[0m\u001b[1m\u001b[32m* \u001b[0m\u001b[1m\u001b[32m* \u001b[0m\u001b[1m\u001b[32m* \u001b[0m\u001b[1m\u001b[32m* \u001b[0m\u001b[1m\u001b[32m* \u001b[0m\u001b[1m\u001b[32m* \u001b[0m\u001b[1m\u001b[32m* \u001b[0m\n",
      "\u001b[1m\u001b[32m* \u001b[0m\u001b[1m\u001b[32m* \u001b[0m\u001b[1m\u001b[37m  \u001b[0m\u001b[1m\u001b[37m  \u001b[0m\u001b[1m\u001b[37m  \u001b[0m\u001b[1m\u001b[37m  \u001b[0m\u001b[1m\u001b[32m* \u001b[0m\u001b[1m\u001b[32m* \u001b[0m\u001b[1m\u001b[32m* \u001b[0m\u001b[1m\u001b[32m* \u001b[0m\u001b[1m\u001b[32m* \u001b[0m\u001b[1m\u001b[32m* \u001b[0m\u001b[1m\u001b[32m* \u001b[0m\u001b[1m\u001b[32m* \u001b[0m\u001b[1m\u001b[32m* \u001b[0m\u001b[1m\u001b[32m* \u001b[0m\u001b[1m\u001b[32m* \u001b[0m\n",
      "\u001b[1m\u001b[32m* \u001b[0m\u001b[1m\u001b[32m* \u001b[0m\u001b[1m\u001b[37m  \u001b[0m\u001b[1m\u001b[31m+ \u001b[0m\u001b[1m\u001b[37m  \u001b[0m\u001b[1m\u001b[37m  \u001b[0m\u001b[1m\u001b[32m* \u001b[0m\u001b[1m\u001b[32m* \u001b[0m\u001b[1m\u001b[32m* \u001b[0m\u001b[1m\u001b[32m* \u001b[0m\u001b[1m\u001b[32m* \u001b[0m\u001b[1m\u001b[32m* \u001b[0m\u001b[1m\u001b[32m* \u001b[0m\u001b[1m\u001b[32m* \u001b[0m\u001b[1m\u001b[32m* \u001b[0m\u001b[1m\u001b[32m* \u001b[0m\u001b[1m\u001b[32m* \u001b[0m\n",
      "\u001b[1m\u001b[32m* \u001b[0m\u001b[1m\u001b[32m* \u001b[0m\u001b[1m\u001b[37m  \u001b[0m\u001b[1m\u001b[37m  \u001b[0m\u001b[1m\u001b[37m  \u001b[0m\u001b[1m\u001b[37m  \u001b[0m\u001b[1m\u001b[32m* \u001b[0m\u001b[1m\u001b[32m* \u001b[0m\u001b[1m\u001b[32m* \u001b[0m\u001b[1m\u001b[32m* \u001b[0m\u001b[1m\u001b[32m* \u001b[0m\u001b[1m\u001b[32m* \u001b[0m\u001b[1m\u001b[32m* \u001b[0m\u001b[1m\u001b[32m* \u001b[0m\u001b[1m\u001b[32m* \u001b[0m\u001b[1m\u001b[32m* \u001b[0m\u001b[1m\u001b[32m* \u001b[0m\n",
      "\u001b[1m\u001b[32m* \u001b[0m\u001b[1m\u001b[32m* \u001b[0m\u001b[1m\u001b[37m  \u001b[0m\u001b[1m\u001b[37m  \u001b[0m\u001b[1m\u001b[37m  \u001b[0m\u001b[1m\u001b[37m  \u001b[0m\u001b[1m\u001b[32m* \u001b[0m\u001b[1m\u001b[32m* \u001b[0m\u001b[1m\u001b[32m* \u001b[0m\u001b[1m\u001b[32m* \u001b[0m\u001b[1m\u001b[32m* \u001b[0m\u001b[1m\u001b[32m* \u001b[0m\u001b[1m\u001b[32m* \u001b[0m\u001b[1m\u001b[32m* \u001b[0m\u001b[1m\u001b[32m* \u001b[0m\u001b[1m\u001b[32m* \u001b[0m\u001b[1m\u001b[32m* \u001b[0m\n",
      "F: Finish line\n",
      "*: Outside the track\n",
      "+: Racer position\n"
     ]
    },
    {
     "name": "stderr",
     "output_type": "stream",
     "text": [
      "WARNING: Method definition print_race_track(Any, Any) in module Main at In[25]:3 overwritten at In[26]:3.\n"
     ]
    }
   ],
   "source": [
    "race_track = readcsv(\"data/race_track.csv\")\n",
    "function print_race_track(track, pos)\n",
    "    print(\"Voici our race track!\\n\")\n",
    "    for i in 1:size(track, 1)  \n",
    "        for j in 1:size(track, 2)\n",
    "            x = track[i, j]\n",
    "            if pos == [i, j] x = \"+\"; color=:red end\n",
    "            if x == \"*\" color = :green elseif x==\"\" x=\" \";color=:white elseif x==\"F\" color=:red end\n",
    "                print_with_color(color, x, \" \")\n",
    "        end\n",
    "        print(\"\\n\")\n",
    "    end\n",
    "    print(\"F: Finish line\\n*: Outside the track\\n+: Racer position\\n\")\n",
    "end\n",
    "print_race_track(race_track, [16, 4])    "
   ]
  },
  {
   "cell_type": "code",
   "execution_count": 3,
   "metadata": {
    "collapsed": false
   },
   "outputs": [
    {
     "name": "stdout",
     "output_type": "stream",
     "text": [
      "[1,1],[1,2],[1,3],[1,4],[1,5],[1,6],[1,7],[1,8],[1,9],[1,10],[1,11],[1,12],[1,13],[1,14],[1,15],[1,16],[1,17],[2,1],[2,2],[2,3],[2,4],[2,5],[2,6],[2,7],[2,8],[2,9],[2,10],[2,11],[2,12],[2,13],[2,14],[2,15],[2,16],[2,17],[3,1],[3,2],[3,3],[3,4],[3,5],[3,6],[3,7],[3,8],[3,9],[3,10],[3,11],[3,12],[3,13],[3,14],[3,15],[3,16],[3,17],[4,1],[4,2],[4,3],[4,4],[4,5],[4,6],[4,7],[4,8],[4,9],[4,10],[4,11],[4,12],[4,13],[4,14],[4,15],[4,16],[4,17],[5,1],[5,2],[5,3],[5,4],[5,5],[5,6],[5,7],[5,8],[5,9],[5,10],[5,11],[5,12],[5,13],[5,14],[5,15],[5,16],[5,17],[6,1],[6,2],[6,3],[6,4],[6,5],[6,6],[6,7],[6,8],[6,9],[6,10],[6,11],[6,12],[6,13],[6,14],[6,15],[6,16],[6,17],[7,1],[7,2],[7,3],[7,4],[7,5],[7,6],[7,7],[7,8],[7,9],[7,10],[7,11],[7,12],[7,13],[7,14],[7,15],[7,16],[7,17],[8,1],[8,2],[8,3],[8,4],[8,5],[8,6],[8,7],[8,8],[8,9],[8,10],[8,11],[8,12],[8,13],[8,14],[8,15],[8,16],[8,17],[9,1],[9,2],[9,3],[9,4],[9,5],[9,6],[9,7],[9,8],[9,9],[9,10],[9,11],[9,12],[9,13],[9,14],[9,15],[9,16],[9,17],[10,1],[10,2],[10,3],[10,4],[10,5],[10,6],[10,7],[10,8],[10,9],[10,10],[10,11],[10,12],[10,13],[10,14],[10,15],[10,16],[10,17],[11,1],[11,2],[11,3],[11,4],[11,5],[11,6],[11,7],[11,8],[11,9],[11,10],[11,11],[11,12],[11,13],[11,14],[11,15],[11,16],[11,17],[12,1],[12,2],[12,3],[12,4],[12,5],[12,6],[12,7],[12,8],[12,9],[12,10],[12,11],[12,12],[12,13],[12,14],[12,15],[12,16],[12,17],[13,1],[13,2],[13,3],[13,4],[13,5],[13,6],[13,7],[13,8],[13,9],[13,10],[13,11],[13,12],[13,13],[13,14],[13,15],[13,16],[13,17],[14,1],[14,2],[14,3],[14,4],[14,5],[14,6],[14,7],[14,8],[14,9],[14,10],[14,11],[14,12],[14,13],[14,14],[14,15],[14,16],[14,17],[15,1],[15,2],[15,3],[15,4],[15,5],[15,6],[15,7],[15,8],[15,9],[15,10],[15,11],[15,12],[15,13],[15,14],[15,15],[15,16],[15,17],[16,1],[16,2],[16,3],[16,4],[16,5],[16,6],[16,7],[16,8],[16,9],[16,10],[16,11],[16,12],[16,13],[16,14],[16,15],[16,16],[16,17],[17,1],[17,2],[17,3],[17,4],[17,5],[17,6],[17,7],[17,8],[17,9],[17,10],[17,11],[17,12],[17,13],[17,14],[17,15],[17,16],[17,17],[18,1],[18,2],[18,3],[18,4],[18,5],[18,6],[18,7],[18,8],[18,9],[18,10],[18,11],[18,12],[18,13],[18,14],[18,15],[18,16],[18,17]\n"
     ]
    }
   ],
   "source": [
    "state_space = [[i,j] for i in 1:size(race_track, 1) for j in 1:size(race_track, 2)] # list comprenhensions cool\n",
    "println(join(state_space,\",\")) # to save space"
   ]
  },
  {
   "cell_type": "code",
   "execution_count": 4,
   "metadata": {
    "collapsed": false
   },
   "outputs": [
    {
     "data": {
      "text/plain": [
       "action_set (generic function with 1 method)"
      ]
     },
     "execution_count": 4,
     "metadata": {},
     "output_type": "execute_result"
    }
   ],
   "source": [
    "action_set(state) = [\"up\", \"left\", \"down\", \"right\"] \n",
    "# available actions do NOT depend on current state.... for now..."
   ]
  },
  {
   "cell_type": "code",
   "execution_count": 5,
   "metadata": {
    "collapsed": false
   },
   "outputs": [
    {
     "data": {
      "text/plain": [
       "([18,3],-1)"
      ]
     },
     "execution_count": 5,
     "metadata": {},
     "output_type": "execute_result"
    }
   ],
   "source": [
    "# CAN'T GET OFF THE GRID!\n",
    "function trans_fun(state, action)\n",
    "    i, j = state\n",
    "    if action == \"up\" && i > 1\n",
    "        i = i - 1\n",
    "    elseif action == \"right\" && j < size(race_track, 2)\n",
    "        j = j + 1\n",
    "    elseif action == \"left\" && j > 1\n",
    "        j = j - 1\n",
    "    elseif action == \"down\" && i < size(race_track, 1)\n",
    "        i = i + 1\n",
    "    end\n",
    "    new_state = [i, j]\n",
    "    if race_track[i, j] == \"*\"    \n",
    "        reward = -5\n",
    "    elseif race_track[i, j] == \"F\"\n",
    "        reward = 0\n",
    "    else\n",
    "        reward = -1\n",
    "    end\n",
    "    return new_state, reward\n",
    "end\n",
    "trans_fun([18, 3], \"down\")"
   ]
  },
  {
   "cell_type": "code",
   "execution_count": 6,
   "metadata": {
    "collapsed": false
   },
   "outputs": [
    {
     "data": {
      "text/plain": [
       "RLEnv(Any[[1,1],[1,2],[1,3],[1,4],[1,5],[1,6],[1,7],[1,8],[1,9],[1,10]  …  [18,8],[18,9],[18,10],[18,11],[18,12],[18,13],[18,14],[18,15],[18,16],[18,17]],trans_fun,action_set)"
      ]
     },
     "execution_count": 6,
     "metadata": {},
     "output_type": "execute_result"
    }
   ],
   "source": [
    "# THAT'S ALL WE NEED FOR A TASK\n",
    "race_task = RLEnv(state_space, trans_fun, action_set)"
   ]
  },
  {
   "cell_type": "markdown",
   "metadata": {},
   "source": [
    "### Who is racing?\n",
    "\n",
    "Let's create an agent"
   ]
  },
  {
   "cell_type": "code",
   "execution_count": 7,
   "metadata": {
    "collapsed": false
   },
   "outputs": [
    {
     "name": "stdout",
     "output_type": "stream",
     "text": [
      "Voici our race track!\n",
      "* * * * * * * * * * * F F F F * *\n",
      "* * * * * * * * * *           * *\n",
      "* * * * * * * * *           * * *\n",
      "* * * * * * *             * * * *\n",
      "* * * * * *             * * * * *\n",
      "* * * * *           * * * * * * *\n",
      "* * * *           * * * * * * * *\n",
      "* * *           * * * * * * * * *\n",
      "* *           * * * * * * * * * *\n",
      "* *           * * * * * * * * * *\n",
      "* *         * * * * * * * * * * *\n",
      "* *         * * * * * * * * * * *\n",
      "* *         * * * * * * * * * * *\n",
      "* *         * * * * * * * * * * *\n",
      "* *         * * * * * * * * * * *\n",
      "* *         * * * * * * * * * * *\n",
      "* *         * * * * * * * * * * *\n",
      "* * +       * * * * * * * * * * *\n",
      "F: Finish line\n",
      "*: Outside the track\n",
      "+: Racer position\n"
     ]
    }
   ],
   "source": [
    "# random directions (for a start...)\n",
    "policy(state) = rand(race_task.action_set(state))\n",
    "state = [18, 3] # we give it an initial state\n",
    "agent = RLAgent(policy, state)\n",
    "print_race_track(race_track, state)"
   ]
  },
  {
   "cell_type": "code",
   "execution_count": 8,
   "metadata": {
    "collapsed": false
   },
   "outputs": [
    {
     "name": "stdout",
     "output_type": "stream",
     "text": [
      "Move to position [17,3] obtaining reward -1\n"
     ]
    }
   ],
   "source": [
    "agent.state = [18, 3]\n",
    "s, r = interact!(agent, race_task, \"up\")\n",
    "println(\"Move to position $s obtaining reward $r\")"
   ]
  },
  {
   "cell_type": "code",
   "execution_count": 9,
   "metadata": {
    "collapsed": false
   },
   "outputs": [
    {
     "name": "stdout",
     "output_type": "stream",
     "text": [
      "Move to position [17,4] obtaining reward -1\n",
      "Move to position [17,3] obtaining reward -1\n",
      "Move to position [17,2] obtaining reward -5\n",
      "Move to position [17,1] obtaining reward -5\n",
      "Move to position [17,1] obtaining reward -5\n",
      "Move to position [16,1] obtaining reward -5\n",
      "Move to position [16,2] obtaining reward -5\n",
      "Move to position [16,1] obtaining reward -5\n",
      "Move to position [16,1] obtaining reward -5\n",
      "Move to position [16,1] obtaining reward -5\n"
     ]
    }
   ],
   "source": [
    "# Let's simulate some moves!\n",
    "for i in 1:10\n",
    "    s, r = interact!(agent, race_task)\n",
    "    println(\"Move to position $s obtaining reward $r\")\n",
    "end"
   ]
  },
  {
   "cell_type": "code",
   "execution_count": 12,
   "metadata": {
    "collapsed": false
   },
   "outputs": [
    {
     "name": "stdout",
     "output_type": "stream",
     "text": [
      "Voici our race track!\n",
      "* * * * * * * * * * * F F F F * *\n",
      "* * * * * * * * * *           * *\n",
      "* * * * * * * * *           * * *\n",
      "* * * * * * * +           * * * *\n",
      "* * * * * *             * * * * *\n",
      "* * * * *           * * * * * * *\n",
      "* * * *           * * * * * * * *\n",
      "* * *           * * * * * * * * *\n",
      "* *           * * * * * * * * * *\n",
      "* *           * * * * * * * * * *\n",
      "* *         * * * * * * * * * * *\n",
      "* *         * * * * * * * * * * *\n",
      "* *         * * * * * * * * * * *\n",
      "* *         * * * * * * * * * * *\n",
      "* *         * * * * * * * * * * *\n",
      "* *         * * * * * * * * * * *\n",
      "* *         * * * * * * * * * * *\n",
      "* *         * * * * * * * * * * *\n",
      "F: Finish line\n",
      "*: Outside the track\n",
      "+: Racer position\n"
     ]
    }
   ],
   "source": [
    "# SOME PRINTING (WILL IMPROVE FOR NEXT CLASS USING ESCHER)\n",
    "for i in 1:100\n",
    "    s, r = interact!(agent, race_task)\n",
    "    IJulia.clear_output(true)\n",
    "    print_race_track(race_track, s)\n",
    "    sleep(0.2)\n",
    "end"
   ]
  },
  {
   "cell_type": "markdown",
   "metadata": {
    "collapsed": false
   },
   "source": [
    "## Let's talk about complete races!\n",
    "\n",
    "Each episodic task has **episodes** (hence the name...). Episodes for different tasks are very different, that's why having a common method was not very practical. But for each task we can create it's episode easily!!! Here's our racing episode!"
   ]
  },
  {
   "cell_type": "code",
   "execution_count": 11,
   "metadata": {
    "collapsed": false
   },
   "outputs": [
    {
     "data": {
      "text/plain": [
       "race_episode (generic function with 2 methods)"
      ]
     },
     "execution_count": 11,
     "metadata": {},
     "output_type": "execute_result"
    }
   ],
   "source": [
    "# the racing episode its fixed for our racing task, but different agent's have different policies\n",
    "# we can run en episode by fixing a first action or not!! MULTIPLE DISPATCH AT WORK\n",
    "# Starting fixing an action!\n",
    "terminal_states = [x for x in race_task.state_space if race_track[x...] == \"F\"] # list comprenhensions cool!\n",
    "# optional arguments and keyword arguments\n",
    "function race_episode(agent, state, action; max_steps = 10000)\n",
    "    agent.state = state\n",
    "    new_state, reward = interact!(agent, race_task, action)\n",
    "    terminate = (new_state in terminal_states)\n",
    "    step = 0\n",
    "    rewards = Real[]\n",
    "    states = Any[]\n",
    "    while !terminate && step < max_steps \n",
    "        new_state, reward  = interact!(agent, race_task)\n",
    "        step =+ 1\n",
    "        push!(states, new_state)\n",
    "        push!(rewards, reward)\n",
    "        terminate = (new_state in terminal_states)\n",
    "    end\n",
    "    return states, rewards\n",
    "end\n",
    "function race_episode(agent, state; max_steps = 10000)\n",
    "    action = agent.policy(state)\n",
    "    race_episode(agent, state, action, max_steps = max_steps)\n",
    "end"
   ]
  },
  {
   "cell_type": "code",
   "execution_count": 12,
   "metadata": {
    "collapsed": false
   },
   "outputs": [
    {
     "name": "stdout",
     "output_type": "stream",
     "text": [
      "Terminated episode in 1596 steps with total reward -6487, first step is [17,4]\n"
     ]
    }
   ],
   "source": [
    "states, rewards = race_episode(agent, [18, 3], \"up\")\n",
    "println(\"Terminated episode in $(size(states, 1)) steps with total reward $(sum(rewards)), first step is $(states[1])\")"
   ]
  },
  {
   "cell_type": "markdown",
   "metadata": {
    "collapsed": false
   },
   "source": [
    "states, rewards = race_episode(agent, [18, 3])\n",
    "println(\"Terminated episode in $(size(states, 1)) steps with total reward $(sum(rewards))\")"
   ]
  },
  {
   "cell_type": "markdown",
   "metadata": {},
   "source": [
    "# Let's find the optimal strategy: MCMC with Exploring Starts"
   ]
  },
  {
   "cell_type": "markdown",
   "metadata": {},
   "source": [
    "This code should work for other environments and agents!"
   ]
  },
  {
   "cell_type": "code",
   "execution_count": 14,
   "metadata": {
    "collapsed": false
   },
   "outputs": [
    {
     "data": {
      "text/plain": [
       "train_mcmc_es (generic function with 1 method)"
      ]
     },
     "execution_count": 14,
     "metadata": {},
     "output_type": "execute_result"
    }
   ],
   "source": [
    "function train_mcmc_es(agent::RLAgent, env::RLEnv, episode_fun; iter = 10000) \n",
    "    # Double dictionary, but could be a normal list...\n",
    "    q = Dict([(s, Dict([(x, 0) for x in env.action_set(s)])) for s in env.state_space])\n",
    "    count = Dict([(x ,0) for x in env.state_space])\n",
    "    for i in 1:iter\n",
    "        state = rand(env.state_space)\n",
    "        action = rand(env.action_set(state))\n",
    "        states, rewards = episode_fun(agent, state, action)\n",
    "        count[state] =+ 1\n",
    "        q[state][action] += (sum(rewards) - q[state][action]) / count[state]\n",
    "    end\n",
    "    return q\n",
    "end"
   ]
  },
  {
   "cell_type": "code",
   "execution_count": 15,
   "metadata": {
    "collapsed": false
   },
   "outputs": [
    {
     "data": {
      "text/plain": [
       "Dict{Array{Int64,1},Dict{String,Int64}} with 306 entries:\n",
       "  [5,10]  => Dict(\"left\"=>-4733,\"right\"=>0,\"down\"=>-63,\"up\"=>-4173)\n",
       "  [6,9]   => Dict(\"left\"=>-1258,\"right\"=>0,\"down\"=>0,\"up\"=>0)\n",
       "  [17,13] => Dict(\"left\"=>0,\"right\"=>-5443,\"down\"=>-21591,\"up\"=>0)\n",
       "  [3,2]   => Dict(\"left\"=>-1757,\"right\"=>-5051,\"down\"=>-6755,\"up\"=>-3146)\n",
       "  [9,8]   => Dict(\"left\"=>-1084,\"right\"=>-22301,\"down\"=>0,\"up\"=>0)\n",
       "  [1,7]   => Dict(\"left\"=>0,\"right\"=>0,\"down\"=>-447,\"up\"=>-484)\n",
       "  [11,12] => Dict(\"left\"=>-6672,\"right\"=>0,\"down\"=>-6722,\"up\"=>-7869)\n",
       "  [5,17]  => Dict(\"left\"=>0,\"right\"=>-852,\"down\"=>0,\"up\"=>0)\n",
       "  [8,3]   => Dict(\"left\"=>0,\"right\"=>-1780,\"down\"=>0,\"up\"=>-6397)\n",
       "  [1,15]  => Dict(\"left\"=>0,\"right\"=>-47,\"down\"=>-9051,\"up\"=>0)\n",
       "  [12,5]  => Dict(\"left\"=>0,\"right\"=>-4855,\"down\"=>-8285,\"up\"=>0)\n",
       "  [14,4]  => Dict(\"left\"=>-4084,\"right\"=>-2826,\"down\"=>0,\"up\"=>-435)\n",
       "  [1,17]  => Dict(\"left\"=>0,\"right\"=>-5,\"down\"=>-26,\"up\"=>0)\n",
       "  [3,4]   => Dict(\"left\"=>0,\"right\"=>0,\"down\"=>-99,\"up\"=>-2832)\n",
       "  [16,14] => Dict(\"left\"=>0,\"right\"=>-3644,\"down\"=>0,\"up\"=>0)\n",
       "  [9,17]  => Dict(\"left\"=>0,\"right\"=>0,\"down\"=>-5204,\"up\"=>0)\n",
       "  [4,14]  => Dict(\"left\"=>0,\"right\"=>0,\"down\"=>-26,\"up\"=>-2274)\n",
       "  [17,4]  => Dict(\"left\"=>0,\"right\"=>-3630,\"down\"=>-1535,\"up\"=>-6725)\n",
       "  [1,3]   => Dict(\"left\"=>0,\"right\"=>-1312,\"down\"=>0,\"up\"=>0)\n",
       "  [12,17] => Dict(\"left\"=>0,\"right\"=>-1482,\"down\"=>-18846,\"up\"=>-1036)\n",
       "  [13,11] => Dict(\"left\"=>0,\"right\"=>-1912,\"down\"=>-9014,\"up\"=>-11087)\n",
       "  [2,1]   => Dict(\"left\"=>0,\"right\"=>-569,\"down\"=>0,\"up\"=>0)\n",
       "  [1,4]   => Dict(\"left\"=>0,\"right\"=>-6436,\"down\"=>-723,\"up\"=>0)\n",
       "  [7,17]  => Dict(\"left\"=>-119,\"right\"=>0,\"down\"=>0,\"up\"=>0)\n",
       "  [4,2]   => Dict(\"left\"=>0,\"right\"=>0,\"down\"=>0,\"up\"=>0)\n",
       "  ⋮       => ⋮"
      ]
     },
     "execution_count": 15,
     "metadata": {},
     "output_type": "execute_result"
    }
   ],
   "source": [
    "q_estim = train_mcmc_es(agent, race_task, race_episode, iter = 1000)"
   ]
  },
  {
   "cell_type": "code",
   "execution_count": 16,
   "metadata": {
    "collapsed": false
   },
   "outputs": [
    {
     "data": {
      "text/plain": [
       "improve_policy (generic function with 1 method)"
      ]
     },
     "execution_count": 16,
     "metadata": {},
     "output_type": "execute_result"
    }
   ],
   "source": [
    "function improve_policy(q)\n",
    "    function new_policy(s)\n",
    "        max, idx = findmax(collect(values(q[s])))\n",
    "        action = collect(keys(q[s]))[idx]\n",
    "        return action\n",
    "    end\n",
    "    return new_policy\n",
    "end"
   ]
  },
  {
   "cell_type": "code",
   "execution_count": 17,
   "metadata": {
    "collapsed": false
   },
   "outputs": [
    {
     "name": "stdout",
     "output_type": "stream",
     "text": [
      "[1,1] will now go right\n",
      "[1,2] will now go left\n",
      "[1,3] will now go left\n",
      "[1,4] will now go left\n",
      "[1,5] will now go left\n",
      "[1,6] will now go left\n",
      "[1,7] will now go left\n",
      "[1,8] will now go left\n",
      "[1,9] will now go left\n",
      "[1,10] will now go left\n",
      "[1,11] will now go right\n",
      "[1,12] will now go left\n",
      "[1,13] will now go left\n",
      "[1,14] will now go left\n",
      "[1,15] will now go left\n",
      "[1,16] will now go left\n",
      "[1,17] will now go left\n",
      "[2,1] will now go left\n",
      "[2,2] will now go right\n",
      "[2,3] will now go right\n",
      "[2,4] will now go right\n",
      "[2,5] will now go left\n",
      "[2,6] will now go left\n",
      "[2,7] will now go left\n",
      "[2,8] will now go right\n",
      "[2,9] will now go down\n",
      "[2,10] will now go left\n",
      "[2,11] will now go left\n",
      "[2,12] will now go down\n",
      "[2,13] will now go left\n",
      "[2,14] will now go left\n",
      "[2,15] will now go left\n",
      "[2,16] will now go left\n",
      "[2,17] will now go down\n",
      "[3,1] will now go left\n",
      "[3,2] will now go left\n",
      "[3,3] will now go left\n",
      "[3,4] will now go left\n",
      "[3,5] will now go right\n",
      "[3,6] will now go left\n",
      "[3,7] will now go right\n",
      "[3,8] will now go right\n",
      "[3,9] will now go left\n",
      "[3,10] will now go right\n",
      "[3,11] will now go left\n",
      "[3,12] will now go right\n",
      "[3,13] will now go left\n",
      "[3,14] will now go left\n",
      "[3,15] will now go left\n",
      "[3,16] will now go up\n",
      "[3,17] will now go left\n",
      "[4,1] will now go right\n",
      "[4,2] will now go left\n",
      "[4,3] will now go left\n",
      "[4,4] will now go right\n",
      "[4,5] will now go up\n",
      "[4,6] will now go left\n",
      "[4,7] will now go right\n",
      "[4,8] will now go up\n",
      "[4,9] will now go right\n",
      "[4,10] will now go down\n",
      "[4,11] will now go left\n",
      "[4,12] will now go left\n",
      "[4,13] will now go right\n",
      "[4,14] will now go left\n",
      "[4,15] will now go left\n",
      "[4,16] will now go left\n",
      "[4,17] will now go left\n",
      "[5,1] will now go left\n",
      "[5,2] will now go right\n",
      "[5,3] will now go up\n",
      "[5,4] will now go left\n",
      "[5,5] will now go up\n",
      "[5,6] will now go right\n",
      "[5,7] will now go left\n",
      "[5,8] will now go right\n",
      "[5,9] will now go left\n",
      "[5,10] will now go right\n",
      "[5,11] will now go up\n",
      "[5,12] will now go left\n",
      "[5,13] will now go left\n",
      "[5,14] will now go left\n",
      "[5,15] will now go right\n",
      "[5,16] will now go left\n",
      "[5,17] will now go left\n",
      "[6,1] will now go left\n",
      "[6,2] will now go right\n",
      "[6,3] will now go left\n",
      "[6,4] will now go right\n",
      "[6,5] will now go left\n",
      "[6,6] will now go down\n",
      "[6,7] will now go left\n",
      "[6,8] will now go right\n",
      "[6,9] will now go right\n",
      "[6,10] will now go left\n",
      "[6,11] will now go down\n",
      "[6,12] will now go left\n",
      "[6,13] will now go right\n",
      "[6,14] will now go up\n",
      "[6,15] will now go up\n",
      "[6,16] will now go left\n",
      "[6,17] will now go left\n",
      "[7,1] will now go left\n",
      "[7,2] will now go left\n",
      "[7,3] will now go left\n",
      "[7,4] will now go left\n",
      "[7,5] will now go down\n",
      "[7,6] will now go left\n",
      "[7,7] will now go down\n",
      "[7,8] will now go left\n",
      "[7,9] will now go left\n",
      "[7,10] will now go left\n",
      "[7,11] will now go up\n",
      "[7,12] will now go left\n",
      "[7,13] will now go right\n",
      "[7,14] will now go left\n",
      "[7,15] will now go right\n",
      "[7,16] will now go up\n",
      "[7,17] will now go right\n",
      "[8,1] will now go left\n",
      "[8,2] will now go right\n",
      "[8,3] will now go left\n",
      "[8,4] will now go left\n",
      "[8,5] will now go right\n",
      "[8,6] will now go right\n",
      "[8,7] will now go right\n",
      "[8,8] will now go right\n",
      "[8,9] will now go left\n",
      "[8,10] will now go left\n",
      "[8,11] will now go right\n",
      "[8,12] will now go right\n",
      "[8,13] will now go left\n",
      "[8,14] will now go right\n",
      "[8,15] will now go right\n",
      "[8,16] will now go up\n",
      "[8,17] will now go right\n",
      "[9,1] will now go right\n",
      "[9,2] will now go up\n",
      "[9,3] will now go down\n",
      "[9,4] will now go right\n",
      "[9,5] will now go left\n",
      "[9,6] will now go right\n",
      "[9,7] will now go left\n",
      "[9,8] will now go down\n",
      "[9,9] will now go right\n",
      "[9,10] will now go left\n",
      "[9,11] will now go down\n",
      "[9,12] will now go down\n",
      "[9,13] will now go left\n",
      "[9,14] will now go down\n",
      "[9,15] will now go up\n",
      "[9,16] will now go right\n",
      "[9,17] will now go left\n",
      "[10,1] will now go left\n",
      "[10,2] will now go right\n",
      "[10,3] will now go up\n",
      "[10,4] will now go up\n",
      "[10,5] will now go left\n",
      "[10,6] will now go left\n",
      "[10,7] will now go down\n",
      "[10,8] will now go down\n",
      "[10,9] will now go left\n",
      "[10,10] will now go right\n",
      "[10,11] will now go up\n",
      "[10,12] will now go down\n",
      "[10,13] will now go right\n",
      "[10,14] will now go right\n",
      "[10,15] will now go left\n",
      "[10,16] will now go left\n",
      "[10,17] will now go right\n",
      "[11,1] will now go left\n",
      "[11,2] will now go left\n",
      "[11,3] will now go left\n",
      "[11,4] will now go left\n",
      "[11,5] will now go up\n",
      "[11,6] will now go down\n",
      "[11,7] will now go left\n",
      "[11,8] will now go left\n",
      "[11,9] will now go up\n",
      "[11,10] will now go right\n",
      "[11,11] will now go left\n",
      "[11,12] will now go right\n",
      "[11,13] will now go left\n",
      "[11,14] will now go left\n",
      "[11,15] will now go right\n",
      "[11,16] will now go left\n",
      "[11,17] will now go left\n",
      "[12,1] will now go left\n",
      "[12,2] will now go left\n",
      "[12,3] will now go right\n",
      "[12,4] will now go left\n",
      "[12,5] will now go left\n",
      "[12,6] will now go left\n",
      "[12,7] will now go left\n",
      "[12,8] will now go left\n",
      "[12,9] will now go left\n",
      "[12,10] will now go right\n",
      "[12,11] will now go right\n",
      "[12,12] will now go left\n",
      "[12,13] will now go down\n",
      "[12,14] will now go left\n",
      "[12,15] will now go up\n",
      "[12,16] will now go down\n",
      "[12,17] will now go left\n",
      "[13,1] will now go right\n",
      "[13,2] will now go right\n",
      "[13,3] will now go left\n",
      "[13,4] will now go up\n",
      "[13,5] will now go right\n",
      "[13,6] will now go left\n",
      "[13,7] will now go left\n",
      "[13,8] will now go down\n",
      "[13,9] will now go right\n",
      "[13,10] will now go right\n",
      "[13,11] will now go left\n",
      "[13,12] will now go right\n",
      "[13,13] will now go left\n",
      "[13,14] will now go left\n",
      "[13,15] will now go up\n",
      "[13,16] will now go right\n",
      "[13,17] will now go left\n",
      "[14,1] will now go right\n",
      "[14,2] will now go left\n",
      "[14,3] will now go up\n",
      "[14,4] will now go down\n",
      "[14,5] will now go down\n",
      "[14,6] will now go up\n",
      "[14,7] will now go left\n",
      "[14,8] will now go left\n",
      "[14,9] will now go up\n",
      "[14,10] will now go down\n",
      "[14,11] will now go left\n",
      "[14,12] will now go right\n",
      "[14,13] will now go right\n",
      "[14,14] will now go left\n",
      "[14,15] will now go left\n",
      "[14,16] will now go left\n",
      "[14,17] will now go down\n",
      "[15,1] will now go up\n",
      "[15,2] will now go right\n",
      "[15,3] will now go down\n",
      "[15,4] will now go down\n",
      "[15,5] will now go left\n",
      "[15,6] will now go up\n",
      "[15,7] will now go left\n",
      "[15,8] will now go up\n",
      "[15,9] will now go left\n",
      "[15,10] will now go left\n",
      "[15,11] will now go up\n",
      "[15,12] will now go left\n",
      "[15,13] will now go right\n",
      "[15,14] will now go left\n",
      "[15,15] will now go down\n",
      "[15,16] will now go down\n",
      "[15,17] will now go left\n",
      "[16,1] will now go down\n",
      "[16,2] will now go left\n",
      "[16,3] will now go right\n",
      "[16,4] will now go right\n",
      "[16,5] will now go up\n",
      "[16,6] will now go down\n",
      "[16,7] will now go left\n",
      "[16,8] will now go down\n",
      "[16,9] will now go right\n",
      "[16,10] will now go left\n",
      "[16,11] will now go up\n",
      "[16,12] will now go left\n",
      "[16,13] will now go left\n",
      "[16,14] will now go left\n",
      "[16,15] will now go left\n",
      "[16,16] will now go left\n",
      "[16,17] will now go left\n",
      "[17,1] will now go left\n",
      "[17,2] will now go right\n",
      "[17,3] will now go down\n",
      "[17,4] will now go left\n",
      "[17,5] will now go right\n",
      "[17,6] will now go down\n",
      "[17,7] will now go left\n",
      "[17,8] will now go down\n",
      "[17,9] will now go down\n",
      "[17,10] will now go down\n",
      "[17,11] will now go right\n",
      "[17,12] will now go up\n",
      "[17,13] will now go left\n",
      "[17,14] will now go down\n",
      "[17,15] will now go right\n",
      "[17,16] will now go left\n",
      "[17,17] will now go right\n",
      "[18,1] will now go right\n",
      "[18,2] will now go right\n",
      "[18,3] will now go left\n",
      "[18,4] will now go left\n",
      "[18,5] will now go down\n",
      "[18,6] will now go left\n",
      "[18,7] will now go up\n",
      "[18,8] will now go left\n",
      "[18,9] will now go left\n",
      "[18,10] will now go up\n",
      "[18,11] will now go left\n",
      "[18,12] will now go left\n",
      "[18,13] will now go left\n",
      "[18,14] will now go right\n",
      "[18,15] will now go up\n",
      "[18,16] will now go down\n",
      "[18,17] will now go right\n"
     ]
    }
   ],
   "source": [
    "new_pol = improve_policy(q_estim)\n",
    "for s in race_task.state_space \n",
    "    println(\"$s will now go $(new_pol(s))\") \n",
    "end"
   ]
  },
  {
   "cell_type": "markdown",
   "metadata": {},
   "source": [
    "Now train a lot"
   ]
  },
  {
   "cell_type": "code",
   "execution_count": 20,
   "metadata": {
    "collapsed": false
   },
   "outputs": [
    {
     "name": "stdout",
     "output_type": "stream",
     "text": [
      "finished iter 1"
     ]
    },
    {
     "ename": "LoadError",
     "evalue": "InterruptException:",
     "output_type": "error",
     "traceback": [
      "InterruptException:",
      "",
      " in (::#new_policy#20{Dict{Array{Int64,1},Dict{String,Int64}}})(::Array{Int64,1}) at ./In[16]:4",
      " in interact!(::RLAgent, ::RLEnv) at ./In[1]:13",
      " in #race_episode#11(::Int64, ::Function, ::RLAgent, ::Array{Int64,1}, ::String) at ./In[11]:14",
      " in #train_mcmc_es#13(::Int64, ::Function, ::RLAgent, ::RLEnv, ::#race_episode) at ./In[14]:8",
      " in (::#kw##train_mcmc_es)(::Array{Any,1}, ::#train_mcmc_es, ::RLAgent, ::RLEnv, ::Function) at ./<missing>:0",
      " in macro expansion; at ./In[20]:3 [inlined]",
      " in anonymous at ./<missing>:?"
     ]
    }
   ],
   "source": [
    "agent.state = [18, 3]\n",
    "for i in 1:100\n",
    "    q_estim = train_mcmc_es(agent, race_task, race_episode, iter = 100)\n",
    "    agent.policy = improve_policy(q_estim)\n",
    "    print(\"finished iter $i\")\n",
    "end"
   ]
  },
  {
   "cell_type": "code",
   "execution_count": 19,
   "metadata": {
    "collapsed": false
   },
   "outputs": [
    {
     "name": "stdout",
     "output_type": "stream",
     "text": [
      "[1,1] will now go right\n",
      "[1,2] will now go left\n",
      "[1,3] will now go left\n",
      "[1,4] will now go left\n",
      "[1,5] will now go left\n",
      "[1,6] will now go left\n",
      "[1,7] will now go left\n",
      "[1,8] will now go left\n",
      "[1,9] will now go left\n",
      "[1,10] will now go left\n",
      "[1,11] will now go right\n",
      "[1,12] will now go left\n",
      "[1,13] will now go left\n",
      "[1,14] will now go left\n",
      "[1,15] will now go left\n",
      "[1,16] will now go left\n",
      "[1,17] will now go left\n",
      "[2,1] will now go left\n",
      "[2,2] will now go right\n",
      "[2,3] will now go right\n",
      "[2,4] will now go right\n",
      "[2,5] will now go left\n",
      "[2,6] will now go left\n",
      "[2,7] will now go left\n",
      "[2,8] will now go right\n",
      "[2,9] will now go down\n",
      "[2,10] will now go left\n",
      "[2,11] will now go left\n",
      "[2,12] will now go down\n",
      "[2,13] will now go left\n",
      "[2,14] will now go left\n",
      "[2,15] will now go left\n",
      "[2,16] will now go left\n",
      "[2,17] will now go down\n",
      "[3,1] will now go left\n",
      "[3,2] will now go left\n",
      "[3,3] will now go left\n",
      "[3,4] will now go left\n",
      "[3,5] will now go right\n",
      "[3,6] will now go left\n",
      "[3,7] will now go right\n",
      "[3,8] will now go right\n",
      "[3,9] will now go left\n",
      "[3,10] will now go right\n",
      "[3,11] will now go left\n",
      "[3,12] will now go right\n",
      "[3,13] will now go left\n",
      "[3,14] will now go left\n",
      "[3,15] will now go left\n",
      "[3,16] will now go up\n",
      "[3,17] will now go left\n",
      "[4,1] will now go right\n",
      "[4,2] will now go left\n",
      "[4,3] will now go left\n",
      "[4,4] will now go right\n",
      "[4,5] will now go up\n",
      "[4,6] will now go left\n",
      "[4,7] will now go right\n",
      "[4,8] will now go up\n",
      "[4,9] will now go right\n",
      "[4,10] will now go down\n",
      "[4,11] will now go left\n",
      "[4,12] will now go left\n",
      "[4,13] will now go right\n",
      "[4,14] will now go left\n",
      "[4,15] will now go left\n",
      "[4,16] will now go left\n",
      "[4,17] will now go left\n",
      "[5,1] will now go left\n",
      "[5,2] will now go right\n",
      "[5,3] will now go up\n",
      "[5,4] will now go left\n",
      "[5,5] will now go up\n",
      "[5,6] will now go right\n",
      "[5,7] will now go left\n",
      "[5,8] will now go right\n",
      "[5,9] will now go left\n",
      "[5,10] will now go right\n",
      "[5,11] will now go up\n",
      "[5,12] will now go left\n",
      "[5,13] will now go left\n",
      "[5,14] will now go left\n",
      "[5,15] will now go right\n",
      "[5,16] will now go left\n",
      "[5,17] will now go left\n",
      "[6,1] will now go left\n",
      "[6,2] will now go right\n",
      "[6,3] will now go left\n",
      "[6,4] will now go right\n",
      "[6,5] will now go left\n",
      "[6,6] will now go down\n",
      "[6,7] will now go left\n",
      "[6,8] will now go right\n",
      "[6,9] will now go right\n",
      "[6,10] will now go left\n",
      "[6,11] will now go down\n",
      "[6,12] will now go left\n",
      "[6,13] will now go right\n",
      "[6,14] will now go up\n",
      "[6,15] will now go up\n",
      "[6,16] will now go left\n",
      "[6,17] will now go left\n",
      "[7,1] will now go left\n",
      "[7,2] will now go left\n",
      "[7,3] will now go left\n",
      "[7,4] will now go left\n",
      "[7,5] will now go down\n",
      "[7,6] will now go left\n",
      "[7,7] will now go down\n",
      "[7,8] will now go left\n",
      "[7,9] will now go left\n",
      "[7,10] will now go left\n",
      "[7,11] will now go up\n",
      "[7,12] will now go left\n",
      "[7,13] will now go right\n",
      "[7,14] will now go left\n",
      "[7,15] will now go right\n",
      "[7,16] will now go up\n",
      "[7,17] will now go right\n",
      "[8,1] will now go left\n",
      "[8,2] will now go right\n",
      "[8,3] will now go left\n",
      "[8,4] will now go left\n",
      "[8,5] will now go right\n",
      "[8,6] will now go right\n",
      "[8,7] will now go right\n",
      "[8,8] will now go right\n",
      "[8,9] will now go left\n",
      "[8,10] will now go left\n",
      "[8,11] will now go right\n",
      "[8,12] will now go right\n",
      "[8,13] will now go left\n",
      "[8,14] will now go right\n",
      "[8,15] will now go right\n",
      "[8,16] will now go up\n",
      "[8,17] will now go right\n",
      "[9,1] will now go right\n",
      "[9,2] will now go up\n",
      "[9,3] will now go down\n",
      "[9,4] will now go right\n",
      "[9,5] will now go left\n",
      "[9,6] will now go right\n",
      "[9,7] will now go left\n",
      "[9,8] will now go down\n",
      "[9,9] will now go right\n",
      "[9,10] will now go left\n",
      "[9,11] will now go down\n",
      "[9,12] will now go down\n",
      "[9,13] will now go left\n",
      "[9,14] will now go down\n",
      "[9,15] will now go up\n",
      "[9,16] will now go right\n",
      "[9,17] will now go left\n",
      "[10,1] will now go left\n",
      "[10,2] will now go right\n",
      "[10,3] will now go up\n",
      "[10,4] will now go up\n",
      "[10,5] will now go left\n",
      "[10,6] will now go left\n",
      "[10,7] will now go down\n",
      "[10,8] will now go down\n",
      "[10,9] will now go left\n",
      "[10,10] will now go right\n",
      "[10,11] will now go up\n",
      "[10,12] will now go down\n",
      "[10,13] will now go right\n",
      "[10,14] will now go right\n",
      "[10,15] will now go left\n",
      "[10,16] will now go left\n",
      "[10,17] will now go right\n",
      "[11,1] will now go left\n",
      "[11,2] will now go left\n",
      "[11,3] will now go left\n",
      "[11,4] will now go left\n",
      "[11,5] will now go up\n",
      "[11,6] will now go down\n",
      "[11,7] will now go left\n",
      "[11,8] will now go left\n",
      "[11,9] will now go up\n",
      "[11,10] will now go right\n",
      "[11,11] will now go left\n",
      "[11,12] will now go right\n",
      "[11,13] will now go left\n",
      "[11,14] will now go left\n",
      "[11,15] will now go right\n",
      "[11,16] will now go left\n",
      "[11,17] will now go left\n",
      "[12,1] will now go left\n",
      "[12,2] will now go left\n",
      "[12,3] will now go right\n",
      "[12,4] will now go left\n",
      "[12,5] will now go left\n",
      "[12,6] will now go left\n",
      "[12,7] will now go left\n",
      "[12,8] will now go left\n",
      "[12,9] will now go left\n",
      "[12,10] will now go right\n",
      "[12,11] will now go right\n",
      "[12,12] will now go left\n",
      "[12,13] will now go down\n",
      "[12,14] will now go left\n",
      "[12,15] will now go up\n",
      "[12,16] will now go down\n",
      "[12,17] will now go left\n",
      "[13,1] will now go right\n",
      "[13,2] will now go right\n",
      "[13,3] will now go left\n",
      "[13,4] will now go up\n",
      "[13,5] will now go right\n",
      "[13,6] will now go left\n",
      "[13,7] will now go left\n",
      "[13,8] will now go down\n",
      "[13,9] will now go right\n",
      "[13,10] will now go right\n",
      "[13,11] will now go left\n",
      "[13,12] will now go right\n",
      "[13,13] will now go left\n",
      "[13,14] will now go left\n",
      "[13,15] will now go up\n",
      "[13,16] will now go right\n",
      "[13,17] will now go left\n",
      "[14,1] will now go right\n",
      "[14,2] will now go left\n",
      "[14,3] will now go up\n",
      "[14,4] will now go down\n",
      "[14,5] will now go down\n",
      "[14,6] will now go up\n",
      "[14,7] will now go left\n",
      "[14,8] will now go left\n",
      "[14,9] will now go up\n",
      "[14,10] will now go down\n",
      "[14,11] will now go left\n",
      "[14,12] will now go right\n",
      "[14,13] will now go right\n",
      "[14,14] will now go left\n",
      "[14,15] will now go left\n",
      "[14,16] will now go left\n",
      "[14,17] will now go down\n",
      "[15,1] will now go up\n",
      "[15,2] will now go right\n",
      "[15,3] will now go down\n",
      "[15,4] will now go down\n",
      "[15,5] will now go left\n",
      "[15,6] will now go up\n",
      "[15,7] will now go left\n",
      "[15,8] will now go up\n",
      "[15,9] will now go left\n",
      "[15,10] will now go left\n",
      "[15,11] will now go up\n",
      "[15,12] will now go left\n",
      "[15,13] will now go right\n",
      "[15,14] will now go left\n",
      "[15,15] will now go down\n",
      "[15,16] will now go down\n",
      "[15,17] will now go left\n",
      "[16,1] will now go down\n",
      "[16,2] will now go left\n",
      "[16,3] will now go right\n",
      "[16,4] will now go right\n",
      "[16,5] will now go up\n",
      "[16,6] will now go down\n",
      "[16,7] will now go left\n",
      "[16,8] will now go down\n",
      "[16,9] will now go right\n",
      "[16,10] will now go left\n",
      "[16,11] will now go up\n",
      "[16,12] will now go left\n",
      "[16,13] will now go left\n",
      "[16,14] will now go left\n",
      "[16,15] will now go left\n",
      "[16,16] will now go left\n",
      "[16,17] will now go left\n",
      "[17,1] will now go left\n",
      "[17,2] will now go right\n",
      "[17,3] will now go down\n",
      "[17,4] will now go left\n",
      "[17,5] will now go right\n",
      "[17,6] will now go down\n",
      "[17,7] will now go left\n",
      "[17,8] will now go down\n",
      "[17,9] will now go down\n",
      "[17,10] will now go down\n",
      "[17,11] will now go right\n",
      "[17,12] will now go up\n",
      "[17,13] will now go left\n",
      "[17,14] will now go down\n",
      "[17,15] will now go right\n",
      "[17,16] will now go left\n",
      "[17,17] will now go right\n",
      "[18,1] will now go right\n",
      "[18,2] will now go right\n",
      "[18,3] will now go left\n",
      "[18,4] will now go left\n",
      "[18,5] will now go down\n",
      "[18,6] will now go left\n",
      "[18,7] will now go up\n",
      "[18,8] will now go left\n",
      "[18,9] will now go left\n",
      "[18,10] will now go up\n",
      "[18,11] will now go left\n",
      "[18,12] will now go left\n",
      "[18,13] will now go left\n",
      "[18,14] will now go right\n",
      "[18,15] will now go up\n",
      "[18,16] will now go down\n",
      "[18,17] will now go right\n"
     ]
    }
   ],
   "source": [
    "new_pol = improve_policy(q_estim)\n",
    "for s in race_task.state_space \n",
    "    println(\"$s will now go $(new_pol(s))\") \n",
    "end"
   ]
  }
 ],
 "metadata": {
  "kernelspec": {
   "display_name": "Julia 0.5.1",
   "language": "julia",
   "name": "julia-0.5"
  },
  "language_info": {
   "file_extension": ".jl",
   "mimetype": "application/julia",
   "name": "julia",
   "version": "0.5.1"
  }
 },
 "nbformat": 4,
 "nbformat_minor": 1
}
