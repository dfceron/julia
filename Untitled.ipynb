{
 "cells": [
  {
   "cell_type": "code",
   "execution_count": null,
   "metadata": {
    "collapsed": true
   },
   "outputs": [],
   "source": [
    "type grid_world <: AbstractRLEnv\n",
    "    states::Any\n",
    "    actions::Function\n",
    "    step::Function\n",
    "    task_end::Function\n",
    "end\n",
    "\n",
    "function rand_grid_world(height::Int, width::Int; nexits = 1, ncoins = 0, ntraps = 0)\n",
    "    h, w = height, width\n",
    "    grid = [[i,j] for i in 1:h for j in 1:w]\n",
    "    exits = rand(grid, nexits)\n",
    "    coins = rand([x for x in grid if !(x in exits)], ncoins)\n",
    "    traps = rand([x for x in grid if !(x in [exits; coins])], ntraps)\n",
    "    states = [x in grid if !(x in [exits; coins; traps])]\n",
    "    \n",
    "end\n"
   ]
  },
  {
   "cell_type": "code",
   "execution_count": 1,
   "metadata": {
    "collapsed": false
   },
   "outputs": [
    {
     "data": {
      "text/plain": [
       "Base.Iterators.Zip2{Array{Int64,1},Array{Int64,1}}([1, 2, 3], [4, 5, 6])"
      ]
     },
     "execution_count": 1,
     "metadata": {},
     "output_type": "execute_result"
    }
   ],
   "source": [
    "zip([1,2,3], [4,5,6])"
   ]
  }
 ],
 "metadata": {
  "kernelspec": {
   "display_name": "Julia 0.6.0-pre.alpha",
   "language": "julia",
   "name": "julia-0.6"
  },
  "language_info": {
   "file_extension": ".jl",
   "mimetype": "application/julia",
   "name": "julia",
   "version": "0.6.0"
  }
 },
 "nbformat": 4,
 "nbformat_minor": 1
}
