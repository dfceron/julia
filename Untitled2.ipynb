{
 "cells": [
  {
   "cell_type": "code",
   "execution_count": 42,
   "metadata": {
    "collapsed": false
   },
   "outputs": [
    {
     "name": "stderr",
     "output_type": "stream",
     "text": [
      "WARNING: Method definition write_and_erase() in module Main at In[40]:2 overwritten at In[42]:2.\n"
     ]
    },
    {
     "data": {
      "text/plain": [
       "write_and_erase (generic function with 1 method)"
      ]
     },
     "execution_count": 42,
     "metadata": {},
     "output_type": "execute_result"
    }
   ],
   "source": [
    "function write_and_erase()\n",
    "    for i in 1:100\n",
    "        print(STDERR, \"|\")\n",
    "        print(STDERR, \"\\u1b[1D\")\n",
    "        print(STDERR, \"\\u1b[K\")  \n",
    "        sleep(0.01)\n",
    "    end\n",
    "    for i in 1:100\n",
    "       \n",
    "        sleep(0.01)\n",
    "    end\n",
    "end"
   ]
  },
  {
   "cell_type": "code",
   "execution_count": 43,
   "metadata": {
    "collapsed": false
   },
   "outputs": [
    {
     "name": "stderr",
     "output_type": "stream",
     "text": [
      "|\u001b[1D\u001b[K|\u001b[1D\u001b[K|\u001b[1D\u001b[K|\u001b[1D\u001b[K|\u001b[1D\u001b[K|\u001b[1D\u001b[K|\u001b[1D\u001b[K|\u001b[1D\u001b[K|\u001b[1D\u001b[K|\u001b[1D\u001b[K|\u001b[1D\u001b[K|\u001b[1D\u001b[K|\u001b[1D\u001b[K|\u001b[1D\u001b[K|\u001b[1D\u001b[K|\u001b[1D\u001b[K|\u001b[1D\u001b[K|\u001b[1D\u001b[K|\u001b[1D\u001b[K|\u001b[1D\u001b[K|\u001b[1D\u001b[K|\u001b[1D\u001b[K|\u001b[1D\u001b[K|\u001b[1D\u001b[K|\u001b[1D\u001b[K|\u001b[1D\u001b[K|\u001b[1D\u001b[K|\u001b[1D\u001b[K|\u001b[1D\u001b[K|\u001b[1D\u001b[K|\u001b[1D\u001b[K|\u001b[1D\u001b[K|\u001b[1D\u001b[K|\u001b[1D\u001b[K|\u001b[1D\u001b[K|\u001b[1D\u001b[K|\u001b[1D\u001b[K|\u001b[1D\u001b[K|\u001b[1D\u001b[K|\u001b[1D\u001b[K|\u001b[1D\u001b[K|\u001b[1D\u001b[K|\u001b[1D\u001b[K|\u001b[1D\u001b[K|\u001b[1D\u001b[K|\u001b[1D\u001b[K|\u001b[1D\u001b[K|\u001b[1D\u001b[K|\u001b[1D\u001b[K|\u001b[1D\u001b[K|\u001b[1D\u001b[K|\u001b[1D\u001b[K|\u001b[1D\u001b[K|\u001b[1D\u001b[K|\u001b[1D\u001b[K|\u001b[1D\u001b[K|\u001b[1D\u001b[K|\u001b[1D\u001b[K|\u001b[1D\u001b[K|\u001b[1D\u001b[K|\u001b[1D\u001b[K|\u001b[1D\u001b[K|\u001b[1D\u001b[K|\u001b[1D\u001b[K|\u001b[1D\u001b[K|\u001b[1D\u001b[K|\u001b[1D\u001b[K|\u001b[1D\u001b[K|\u001b[1D\u001b[K|\u001b[1D\u001b[K|\u001b[1D\u001b[K|\u001b[1D\u001b[K|\u001b[1D\u001b[K|\u001b[1D\u001b[K|\u001b[1D\u001b[K|\u001b[1D\u001b[K|\u001b[1D\u001b[K|\u001b[1D\u001b[K|\u001b[1D\u001b[K|\u001b[1D\u001b[K|\u001b[1D\u001b[K|\u001b[1D\u001b[K|\u001b[1D\u001b[K|\u001b[1D\u001b[K|\u001b[1D\u001b[K|\u001b[1D\u001b[K|\u001b[1D\u001b[K|\u001b[1D\u001b[K|\u001b[1D\u001b[K|\u001b[1D\u001b[K|\u001b[1D\u001b[K|\u001b[1D\u001b[K|\u001b[1D\u001b[K|\u001b[1D\u001b[K|\u001b[1D\u001b[K|\u001b[1D\u001b[K|\u001b[1D\u001b[K|\u001b[1D\u001b[K|\u001b[1D\u001b[K|\u001b[1D\u001b[K"
     ]
    }
   ],
   "source": [
    "write_and_erase()"
   ]
  },
  {
   "cell_type": "code",
   "execution_count": null,
   "metadata": {
    "collapsed": true
   },
   "outputs": [],
   "source": []
  }
 ],
 "metadata": {
  "kernelspec": {
   "display_name": "Julia 0.5.0",
   "language": "julia",
   "name": "julia-0.5"
  },
  "language_info": {
   "file_extension": ".jl",
   "mimetype": "application/julia",
   "name": "julia",
   "version": "0.5.0"
  }
 },
 "nbformat": 4,
 "nbformat_minor": 1
}
