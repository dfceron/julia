{
 "cells": [
  {
   "cell_type": "code",
   "execution_count": 2,
   "metadata": {
    "collapsed": false
   },
   "outputs": [
    {
     "name": "stderr",
     "output_type": "stream",
     "text": [
      "\u001b[1m\u001b[34mINFO: Cloning git from https://github.com/mauriciogtec/RL/git\n",
      "\u001b[0m"
     ]
    },
    {
     "ename": "LoadError",
     "evalue": "GitError(Code:ERROR, Class:Net, Unexpected HTTP status code: 404)",
     "output_type": "error",
     "traceback": [
      "GitError(Code:ERROR, Class:Net, Unexpected HTTP status code: 404)",
      "",
      " in macro expansion at ./libgit2/error.jl:99 [inlined]",
      " in clone(::String, ::SubString{String}, ::Base.LibGit2.CloneOptions) at ./libgit2/repository.jl:191",
      " in #clone#112(::String, ::Bool, ::Ptr{Void}, ::Nullable{Base.LibGit2.AbstractCredentials}, ::Function, ::String, ::SubString{String}) at ./libgit2/libgit2.jl:327",
      " in clone(::String, ::SubString{String}) at ./pkg/entry.jl:195",
      " in clone(::String) at ./pkg/entry.jl:221",
      " in (::Base.Pkg.Dir.##2#3{Array{Any,1},Base.Pkg.Entry.#clone,Tuple{String}})() at ./pkg/dir.jl:31",
      " in cd(::Base.Pkg.Dir.##2#3{Array{Any,1},Base.Pkg.Entry.#clone,Tuple{String}}, ::String) at ./file.jl:59",
      " in #cd#1(::Array{Any,1}, ::Function, ::Function, ::String, ::Vararg{Any,N}) at ./pkg/dir.jl:31",
      " in clone(::String) at ./pkg/pkg.jl:151"
     ]
    }
   ],
   "source": [
    "Pkg.clone(\"https://github.com/mauriciogtec/RL/git\")"
   ]
  }
 ],
 "metadata": {
  "kernelspec": {
   "display_name": "Julia 0.5.1",
   "language": "julia",
   "name": "julia-0.5"
  },
  "language_info": {
   "file_extension": ".jl",
   "mimetype": "application/julia",
   "name": "julia",
   "version": "0.5.1"
  }
 },
 "nbformat": 4,
 "nbformat_minor": 1
}
