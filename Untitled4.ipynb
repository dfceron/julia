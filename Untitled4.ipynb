{
 "cells": [
  {
   "cell_type": "code",
   "execution_count": 5,
   "metadata": {
    "collapsed": false
   },
   "outputs": [
    {
     "name": "stderr",
     "output_type": "stream",
     "text": [
      "\u001b[1m\u001b[34mINFO: Precompiling module UnicodePlots.\n",
      "\u001b[0m"
     ]
    }
   ],
   "source": [
    "using UnicodePlots"
   ]
  },
  {
   "cell_type": "code",
   "execution_count": 7,
   "metadata": {
    "collapsed": false
   },
   "outputs": [
    {
     "data": {
      "text/plain": [
       "\u001b[1m\u001b[37m                               Histogram\n",
       "\u001b[0m\u001b[1m\u001b[37m               ┌────────────────────────────────────────┐\u001b[0m \n",
       "   \u001b[1m\u001b[37m(-3.5,-3.0]\u001b[0m\u001b[1m\u001b[37m │\u001b[0m\u001b[1m\u001b[34m\u001b[0m\u001b[1m\u001b[37m 1\u001b[0m                                      \u001b[1m\u001b[37m│\u001b[0m \u001b[1m\u001b[37m\u001b[0m\n",
       "   \u001b[1m\u001b[37m(-3.0,-2.5]\u001b[0m\u001b[1m\u001b[37m │\u001b[0m\u001b[1m\u001b[34m▇\u001b[0m\u001b[1m\u001b[37m 6\u001b[0m                                     \u001b[1m\u001b[37m│\u001b[0m \u001b[1m\u001b[37m\u001b[0m\n",
       "   \u001b[1m\u001b[37m(-2.5,-2.0]\u001b[0m\u001b[1m\u001b[37m │\u001b[0m\u001b[1m\u001b[34m▇▇\u001b[0m\u001b[1m\u001b[37m 13\u001b[0m                                   \u001b[1m\u001b[37m│\u001b[0m \u001b[1m\u001b[37m\u001b[0m\n",
       "   \u001b[1m\u001b[37m(-2.0,-1.5]\u001b[0m\u001b[1m\u001b[37m │\u001b[0m\u001b[1m\u001b[34m▇▇▇▇▇▇▇▇\u001b[0m\u001b[1m\u001b[37m 46\u001b[0m                             \u001b[1m\u001b[37m│\u001b[0m \u001b[1m\u001b[37m\u001b[0m\n",
       "   \u001b[1m\u001b[37m(-1.5,-1.0]\u001b[0m\u001b[1m\u001b[37m │\u001b[0m\u001b[1m\u001b[34m▇▇▇▇▇▇▇▇▇▇▇▇▇▇▇\u001b[0m\u001b[1m\u001b[37m 87\u001b[0m                      \u001b[1m\u001b[37m│\u001b[0m \u001b[1m\u001b[37m\u001b[0m\n",
       "   \u001b[1m\u001b[37m(-1.0,-0.5]\u001b[0m\u001b[1m\u001b[37m │\u001b[0m\u001b[1m\u001b[34m▇▇▇▇▇▇▇▇▇▇▇▇▇▇▇▇▇▇▇▇▇▇▇▇▇▇▇▇▇\u001b[0m\u001b[1m\u001b[37m 164\u001b[0m       \u001b[1m\u001b[37m│\u001b[0m \u001b[1m\u001b[37m\u001b[0m\n",
       "   \u001b[1m\u001b[37m\u001b[0m \u001b[1m\u001b[37m(-0.5,0.0]\u001b[0m\u001b[1m\u001b[37m │\u001b[0m\u001b[1m\u001b[34m▇▇▇▇▇▇▇▇▇▇▇▇▇▇▇▇▇▇▇▇▇▇▇▇▇▇▇▇▇▇▇▇▇▇▇\u001b[0m\u001b[1m\u001b[37m 197\u001b[0m \u001b[1m\u001b[37m│\u001b[0m \u001b[1m\u001b[37m\u001b[0m\n",
       "     \u001b[1m\u001b[37m(0.0,0.5]\u001b[0m\u001b[1m\u001b[37m │\u001b[0m\u001b[1m\u001b[34m▇▇▇▇▇▇▇▇▇▇▇▇▇▇▇▇▇▇▇▇▇▇▇▇▇▇▇▇▇▇▇▇▇▇▇\u001b[0m\u001b[1m\u001b[37m 195\u001b[0m \u001b[1m\u001b[37m│\u001b[0m \u001b[1m\u001b[37m\u001b[0m\n",
       "     \u001b[1m\u001b[37m(0.5,1.0]\u001b[0m\u001b[1m\u001b[37m │\u001b[0m\u001b[1m\u001b[34m▇▇▇▇▇▇▇▇▇▇▇▇▇▇▇▇▇▇▇▇▇▇▇▇▇▇▇▇\u001b[0m\u001b[1m\u001b[37m 160\u001b[0m        \u001b[1m\u001b[37m│\u001b[0m \u001b[1m\u001b[37m\u001b[0m\n",
       "     \u001b[1m\u001b[37m(1.0,1.5]\u001b[0m\u001b[1m\u001b[37m │\u001b[0m\u001b[1m\u001b[34m▇▇▇▇▇▇▇▇▇▇▇▇▇▇\u001b[0m\u001b[1m\u001b[37m 78\u001b[0m                       \u001b[1m\u001b[37m│\u001b[0m \u001b[1m\u001b[37m\u001b[0m\n",
       "     \u001b[1m\u001b[37m(1.5,2.0]\u001b[0m\u001b[1m\u001b[37m │\u001b[0m\u001b[1m\u001b[34m▇▇▇▇▇▇\u001b[0m\u001b[1m\u001b[37m 34\u001b[0m                               \u001b[1m\u001b[37m│\u001b[0m \u001b[1m\u001b[37m\u001b[0m\n",
       "     \u001b[1m\u001b[37m(2.0,2.5]\u001b[0m\u001b[1m\u001b[37m │\u001b[0m\u001b[1m\u001b[34m▇▇▇\u001b[0m\u001b[1m\u001b[37m 16\u001b[0m                                  \u001b[1m\u001b[37m│\u001b[0m \u001b[1m\u001b[37m\u001b[0m\n",
       "     \u001b[1m\u001b[37m(2.5,3.0]\u001b[0m\u001b[1m\u001b[37m │\u001b[0m\u001b[1m\u001b[34m▇\u001b[0m\u001b[1m\u001b[37m 3\u001b[0m                                     \u001b[1m\u001b[37m│\u001b[0m \u001b[1m\u001b[37m\u001b[0m\n",
       "\u001b[1m\u001b[37m               └────────────────────────────────────────┘\u001b[0m \n"
      ]
     },
     "execution_count": 7,
     "metadata": {},
     "output_type": "execute_result"
    }
   ],
   "source": [
    "histogram(randn(1000), bins = 15, title = \"Histogram\")"
   ]
  },
  {
   "cell_type": "code",
   "execution_count": 14,
   "metadata": {
    "collapsed": false
   },
   "outputs": [
    {
     "data": {
      "text/html": [
       "<span style='color: red'>hello</span><input type=\"text\">hello</input>"
      ]
     },
     "metadata": {},
     "output_type": "display_data"
    },
    {
     "data": {
      "text/html": [
       "<span style='color: blue'>hello</span><input type=\"text\">hello</input>"
      ]
     },
     "metadata": {},
     "output_type": "display_data"
    },
    {
     "data": {
      "text/html": [
       "<span style='color: green'>hello</span><input type=\"text\">hello</input>"
      ]
     },
     "metadata": {},
     "output_type": "display_data"
    }
   ],
   "source": [
    "display(\"text/html\", \"<span style='color: red'>hello</span><input type=\\\"text\\\">hello</input>\")\n",
    "sleep(0.1)\n",
    "display(\"text/html\", \"<span style='color: blue'>hello</span><input type=\\\"text\\\">hello</input>\")\n",
    "sleep(0.1)\n",
    "display(\"text/html\", \"<span style='color: green'>hello</span><input type=\\\"text\\\">hello</input>\")\n"
   ]
  }
 ],
 "metadata": {
  "kernelspec": {
   "display_name": "Julia 0.5.0",
   "language": "julia",
   "name": "julia-0.5"
  },
  "language_info": {
   "file_extension": ".jl",
   "mimetype": "application/julia",
   "name": "julia",
   "version": "0.5.0"
  }
 },
 "nbformat": 4,
 "nbformat_minor": 1
}
