{
 "cells": [
  {
   "cell_type": "code",
   "execution_count": 1,
   "metadata": {
    "collapsed": false
   },
   "outputs": [
    {
     "name": "stderr",
     "output_type": "stream",
     "text": [
      "INFO: Initializing package repository /home/juser/.julia/v0.3\n",
      "INFO: Cloning METADATA from git://github.com/JuliaLang/METADATA.jl\n",
      "INFO: Cloning cache of Dates from git://github.com/quinnj/Dates.jl.git\n",
      "INFO: Cloning cache of HttpCommon from git://github.com/JuliaWeb/HttpCommon.jl.git\n",
      "INFO: Installing BinDeps v0.3.21\n",
      "INFO: Installing Compat v0.8.8\n",
      "INFO: Installing Conda v0.2.5\n",
      "INFO: Installing Dates v0.3.2\n",
      "INFO: Installing HttpCommon v0.1.2\n",
      "INFO: Installing IJulia v1.1.10\n",
      "INFO: Installing IJuliaPortrayals v0.0.4\n",
      "INFO: Installing JSON v0.6.1\n",
      "INFO: Installing Nettle v0.2.4\n",
      "INFO: Installing SHA v0.2.1\n",
      "INFO: Installing URIParser v0.0.7\n",
      "INFO: Installing ZMQ v0.3.4\n",
      "INFO: Building Nettle\n",
      "INFO: Building ZMQ\n",
      "INFO: Building IJulia\n",
      "INFO: Found Jupyter version 4.2.0: jupyter\n",
      "Writing IJulia kernelspec to /home/juser/.julia/v0.3/IJulia/deps/julia-0.3/kernel.json ...\n",
      "Installing julia kernelspec julia-0.3\n",
      "[InstallKernelSpec] Removing existing kernelspec in /opt/juliabox/.jupyter/kernels/julia-0.3\n",
      "[InstallKernelSpec] Installed kernelspec julia-0.3 in /opt/juliabox/.jupyter/kernels/julia-0.3\n",
      "INFO: Package database updated\n"
     ]
    }
   ],
   "source": [
    "Pkg.add(\"IJuliaPortrayals\")"
   ]
  },
  {
   "cell_type": "code",
   "execution_count": 3,
   "metadata": {
    "collapsed": false
   },
   "outputs": [
    {
     "data": {
      "text/html": [
       "    <iframe \n",
       "        width=\"600\" \n",
       "        height=\"600\" \n",
       "        frameborder=\"(IFrame(600,600,\"https://bl.ocks.org/mbostock/4061502\",0).border)\"\n",
       "        src=\"https://bl.ocks.org/mbostock/4061502\">\n",
       "    </iframe>\n"
      ],
      "text/plain": [
       "IFrame(600,600,\"https://bl.ocks.org/mbostock/4061502\",0)"
      ]
     },
     "execution_count": 3,
     "metadata": {},
     "output_type": "execute_result"
    }
   ],
   "source": [
    "using IJuliaPortrayals\n",
    "IFrame(600, 600, \"https://bl.ocks.org/mbostock/4061502\")"
   ]
  },
  {
   "cell_type": "code",
   "execution_count": null,
   "metadata": {
    "collapsed": true
   },
   "outputs": [],
   "source": []
  },
  {
   "cell_type": "code",
   "execution_count": null,
   "metadata": {
    "collapsed": true
   },
   "outputs": [],
   "source": []
  }
 ],
 "metadata": {
  "kernelspec": {
   "display_name": "Julia 0.3.12",
   "language": "julia",
   "name": "julia-0.3"
  },
  "language_info": {
   "file_extension": ".jl",
   "mimetype": "application/julia",
   "name": "julia",
   "version": "0.3.12"
  }
 },
 "nbformat": 4,
 "nbformat_minor": 1
}
