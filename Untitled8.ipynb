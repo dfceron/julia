{
 "cells": [
  {
   "cell_type": "code",
   "execution_count": 1,
   "metadata": {
    "collapsed": false
   },
   "outputs": [
    {
     "data": {
      "text/plain": [
       "add_pixels (generic function with 2 methods)"
      ]
     },
     "execution_count": 1,
     "metadata": {},
     "output_type": "execute_result"
    }
   ],
   "source": [
    "function start_canvas(id::String, hunits::Int, vunits::Int, width::Int = 250, height::Int = 250)\n",
    "    display(\"text/html\", \"\"\"\n",
    "    <div class=\"usersvg\">\n",
    "    <svg id='$id' width='$(width)' height='$(height)' viewbox='0 0 $hunits $vunits'></svg>\n",
    "    </div>\n",
    "    <script> \n",
    "    requirejs.config({paths: {d3: \"https://d3js.org/d3.v3.min.js?noext\"}});  \n",
    "    </script>\n",
    "    \"\"\")\n",
    "end\n",
    "\n",
    "function start_canvas(hunits::Int, vunits::Int, width::Int = 250, height::Int = 250)\n",
    "    id = \"canvas\" * randstring(3)\n",
    "    display(\"text/html\", \"\"\"\n",
    "    <div class=\"usersvg\">\n",
    "    <svg id='$id' width='$(width)' height='$(height)' viewbox='0 0 $hunits $vunits'></svg>\n",
    "    </div>\n",
    "    <script> \n",
    "    requirejs.config({paths: {d3: \"https://d3js.org/d3.v3.min.js?noext\"}});  \n",
    "    </script>\n",
    "    \"\"\")\n",
    "    return id\n",
    "end\n",
    "\n",
    "function remove_id(id::String)\n",
    "    display(\"text/html\", \"\"\"\n",
    "    <script> \n",
    "    var x = document.querySelector(\".usersvg #$id\");\n",
    "    x.parentNode.removeChild(x);\n",
    "    \"\"\")\n",
    "end\n",
    "\n",
    "function add_pixels(id::String, i::Int, j::Int, colour::String)\n",
    "    display(\"text/javascript\", \"\"\"\n",
    "    var svg = document.getElementById('$id'); \n",
    "    var newElement = document.createElementNS(\"http://www.w3.org/2000/svg\", 'rect'); \n",
    "    newElement.setAttribute('width','1'); \n",
    "    newElement.setAttribute('height','1'); \n",
    "    newElement.setAttribute('x','$(j - 1)'); \n",
    "    newElement.setAttribute('y','$(i - 1)'); \n",
    "    newElement.style.fill = '$colour'; \n",
    "    svg.appendChild(newElement);\n",
    "    \"\"\") \n",
    "end\n",
    "function add_pixels(id::String, pos::Array{Array{Int, 1}, 1}, colour::Array{String, 1})\n",
    "    nc, n = size(colour, 1), size(pos, 1)\n",
    "    if (nc == 1) colour = [colour[1] for x in 1:n] end\n",
    "    if (1 < nc < n) error(\"invalid length for colour\") end\n",
    "    s = \"var svg=document.getElementById('$id');var newElement;\"\n",
    "    for i in 1:n\n",
    "        p = pos[i]\n",
    "        s *= \n",
    "        \"\"\"\n",
    "        newElement = document.createElementNS(\"http://www.w3.org/2000/svg\", 'rect'); \n",
    "        newElement.setAttribute('width','1'); \n",
    "        newElement.setAttribute('height','1'); \n",
    "        newElement.setAttribute('x','$(p[2] - 1)'); \n",
    "        newElement.setAttribute('y','$(p[1] - 1)'); \n",
    "        newElement.style.fill = '$(colour[i])'; \n",
    "        svg.appendChild(newElement);\n",
    "        \"\"\"\n",
    "    end\n",
    "    display(\"text/javascript\", s) \n",
    "end"
   ]
  },
  {
   "cell_type": "code",
   "execution_count": 2,
   "metadata": {
    "collapsed": false
   },
   "outputs": [
    {
     "data": {
      "text/html": [
       "<div class=\"usersvg\">\n",
       "<svg id='new_canvas' width='250' height='250' viewbox='0 0 10 10'></svg>\n",
       "</div>\n",
       "<script> \n",
       "requirejs.config({paths: {d3: \"https://d3js.org/d3.v3.min.js?noext\"}});  \n",
       "</script>\n"
      ]
     },
     "metadata": {},
     "output_type": "display_data"
    }
   ],
   "source": [
    "start_canvas(\"new_canvas\", 10, 10)"
   ]
  },
  {
   "cell_type": "code",
   "execution_count": 3,
   "metadata": {
    "collapsed": false
   },
   "outputs": [
    {
     "data": {
      "text/html": [
       "<div class=\"usersvg\">\n",
       "<svg id='test' width='200' height='200' viewbox='0 0 6 6'></svg>\n",
       "</div>\n",
       "<script> \n",
       "requirejs.config({paths: {d3: \"https://d3js.org/d3.v3.min.js?noext\"}});  \n",
       "</script>\n"
      ]
     },
     "metadata": {},
     "output_type": "display_data"
    },
    {
     "data": {
      "application/javascript": [
       "var svg=document.getElementById('test');var newElement;newElement = document.createElementNS(\"http://www.w3.org/2000/svg\", 'rect'); \n",
       "newElement.setAttribute('width','1'); \n",
       "newElement.setAttribute('height','1'); \n",
       "newElement.setAttribute('x','1'); \n",
       "newElement.setAttribute('y','0'); \n",
       "newElement.style.fill = 'red'; \n",
       "svg.appendChild(newElement);\n",
       "newElement = document.createElementNS(\"http://www.w3.org/2000/svg\", 'rect'); \n",
       "newElement.setAttribute('width','1'); \n",
       "newElement.setAttribute('height','1'); \n",
       "newElement.setAttribute('x','1'); \n",
       "newElement.setAttribute('y','2'); \n",
       "newElement.style.fill = 'red'; \n",
       "svg.appendChild(newElement);\n"
      ]
     },
     "metadata": {},
     "output_type": "display_data"
    },
    {
     "data": {
      "application/javascript": [
       "var svg=document.getElementById('test');var newElement;newElement = document.createElementNS(\"http://www.w3.org/2000/svg\", 'rect'); \n",
       "newElement.setAttribute('width','1'); \n",
       "newElement.setAttribute('height','1'); \n",
       "newElement.setAttribute('x','0'); \n",
       "newElement.setAttribute('y','0'); \n",
       "newElement.style.fill = 'yellow'; \n",
       "svg.appendChild(newElement);\n",
       "newElement = document.createElementNS(\"http://www.w3.org/2000/svg\", 'rect'); \n",
       "newElement.setAttribute('width','1'); \n",
       "newElement.setAttribute('height','1'); \n",
       "newElement.setAttribute('x','3'); \n",
       "newElement.setAttribute('y','5'); \n",
       "newElement.style.fill = '#00FFFF'; \n",
       "svg.appendChild(newElement);\n"
      ]
     },
     "metadata": {},
     "output_type": "display_data"
    },
    {
     "data": {
      "application/javascript": [
       "var svg = document.getElementById('test'); \n",
       "var newElement = document.createElementNS(\"http://www.w3.org/2000/svg\", 'rect'); \n",
       "newElement.setAttribute('width','1'); \n",
       "newElement.setAttribute('height','1'); \n",
       "newElement.setAttribute('x','0'); \n",
       "newElement.setAttribute('y','4'); \n",
       "newElement.style.fill = 'green'; \n",
       "svg.appendChild(newElement);\n"
      ]
     },
     "metadata": {},
     "output_type": "display_data"
    }
   ],
   "source": [
    "start_canvas(\"test\", 6, 6, 200, 200)\n",
    "add_pixels(\"test\", [[1,2], [3,2]], [\"red\"])\n",
    "add_pixels(\"test\", [[1,1], [6,4]], [\"yellow\", \"#00FFFF\"])\n",
    "add_pixels(\"test\", 5, 1, \"green\")"
   ]
  },
  {
   "cell_type": "code",
   "execution_count": 4,
   "metadata": {
    "collapsed": false
   },
   "outputs": [
    {
     "data": {
      "text/html": [
       "<div class=\"usersvg\">\n",
       "<svg id='canvas3Y3' width='200' height='200' viewbox='0 0 6 6'></svg>\n",
       "</div>\n",
       "<script> \n",
       "requirejs.config({paths: {d3: \"https://d3js.org/d3.v3.min.js?noext\"}});  \n",
       "</script>\n"
      ]
     },
     "metadata": {},
     "output_type": "display_data"
    },
    {
     "data": {
      "application/javascript": [
       "var svg=document.getElementById('canvas3Y3');var newElement;newElement = document.createElementNS(\"http://www.w3.org/2000/svg\", 'rect'); \n",
       "newElement.setAttribute('width','1'); \n",
       "newElement.setAttribute('height','1'); \n",
       "newElement.setAttribute('x','0'); \n",
       "newElement.setAttribute('y','0'); \n",
       "newElement.style.fill = 'yellow'; \n",
       "svg.appendChild(newElement);\n",
       "newElement = document.createElementNS(\"http://www.w3.org/2000/svg\", 'rect'); \n",
       "newElement.setAttribute('width','1'); \n",
       "newElement.setAttribute('height','1'); \n",
       "newElement.setAttribute('x','3'); \n",
       "newElement.setAttribute('y','5'); \n",
       "newElement.style.fill = '#00FFFF'; \n",
       "svg.appendChild(newElement);\n"
      ]
     },
     "metadata": {},
     "output_type": "display_data"
    },
    {
     "name": "stdout",
     "output_type": "stream",
     "text": [
      "canvas3Y3\n"
     ]
    }
   ],
   "source": [
    "acanvas = start_canvas(6, 6, 200, 200)\n",
    "add_pixels(acanvas, [[1,1], [6,4]], [\"yellow\", \"#00FFFF\"])\n",
    "println(acanvas)"
   ]
  },
  {
   "cell_type": "code",
   "execution_count": 5,
   "metadata": {
    "collapsed": false
   },
   "outputs": [
    {
     "data": {
      "text/plain": [
       "Dict{String,String} with 3 entries:\n",
       "  \"*\" => \"green\"\n",
       "  \"\"  => \"black\"\n",
       "  \"F\" => \"red\""
      ]
     },
     "execution_count": 5,
     "metadata": {},
     "output_type": "execute_result"
    }
   ],
   "source": [
    "race_track = readcsv(\"data/race_track.csv\")\n",
    "colour_dict = Dict([(\"*\", \"green\"), (\"F\", \"red\"), (\"\", \"black\")])"
   ]
  },
  {
   "cell_type": "code",
   "execution_count": 6,
   "metadata": {
    "collapsed": false
   },
   "outputs": [
    {
     "data": {
      "text/html": [
       "<div class=\"usersvg\">\n",
       "<svg id='canvasANJ' width='300' height='300' viewbox='0 0 18 17'></svg>\n",
       "</div>\n",
       "<script> \n",
       "requirejs.config({paths: {d3: \"https://d3js.org/d3.v3.min.js?noext\"}});  \n",
       "</script>\n"
      ]
     },
     "metadata": {},
     "output_type": "display_data"
    },
    {
     "data": {
      "application/javascript": [
       "var svg=document.getElementById('canvasANJ');var newElement;newElement = document.createElementNS(\"http://www.w3.org/2000/svg\", 'rect'); \n",
       "newElement.setAttribute('width','1'); \n",
       "newElement.setAttribute('height','1'); \n",
       "newElement.setAttribute('x','0'); \n",
       "newElement.setAttribute('y','0'); \n",
       "newElement.style.fill = 'green'; \n",
       "svg.appendChild(newElement);\n",
       "newElement = document.createElementNS(\"http://www.w3.org/2000/svg\", 'rect'); \n",
       "newElement.setAttribute('width','1'); \n",
       "newElement.setAttribute('height','1'); \n",
       "newElement.setAttribute('x','1'); \n",
       "newElement.setAttribute('y','0'); \n",
       "newElement.style.fill = 'green'; \n",
       "svg.appendChild(newElement);\n",
       "newElement = document.createElementNS(\"http://www.w3.org/2000/svg\", 'rect'); \n",
       "newElement.setAttribute('width','1'); \n",
       "newElement.setAttribute('height','1'); \n",
       "newElement.setAttribute('x','2'); \n",
       "newElement.setAttribute('y','0'); \n",
       "newElement.style.fill = 'green'; \n",
       "svg.appendChild(newElement);\n",
       "newElement = document.createElementNS(\"http://www.w3.org/2000/svg\", 'rect'); \n",
       "newElement.setAttribute('width','1'); \n",
       "newElement.setAttribute('height','1'); \n",
       "newElement.setAttribute('x','3'); \n",
       "newElement.setAttribute('y','0'); \n",
       "newElement.style.fill = 'green'; \n",
       "svg.appendChild(newElement);\n",
       "newElement = document.createElementNS(\"http://www.w3.org/2000/svg\", 'rect'); \n",
       "newElement.setAttribute('width','1'); \n",
       "newElement.setAttribute('height','1'); \n",
       "newElement.setAttribute('x','4'); \n",
       "newElement.setAttribute('y','0'); \n",
       "newElement.style.fill = 'green'; \n",
       "svg.appendChild(newElement);\n",
       "newElement = document.createElementNS(\"http://www.w3.org/2000/svg\", 'rect'); \n",
       "newElement.setAttribute('width','1'); \n",
       "newElement.setAttribute('height','1'); \n",
       "newElement.setAttribute('x','5'); \n",
       "newElement.setAttribute('y','0'); \n",
       "newElement.style.fill = 'green'; \n",
       "svg.appendChild(newElement);\n",
       "newElement = document.createElementNS(\"http://www.w3.org/2000/svg\", 'rect'); \n",
       "newElement.setAttribute('width','1'); \n",
       "newElement.setAttribute('height','1'); \n",
       "newElement.setAttribute('x','6'); \n",
       "newElement.setAttribute('y','0'); \n",
       "newElement.style.fill = 'green'; \n",
       "svg.appendChild(newElement);\n",
       "newElement = document.createElementNS(\"http://www.w3.org/2000/svg\", 'rect'); \n",
       "newElement.setAttribute('width','1'); \n",
       "newElement.setAttribute('height','1'); \n",
       "newElement.setAttribute('x','7'); \n",
       "newElement.setAttribute('y','0'); \n",
       "newElement.style.fill = 'green'; \n",
       "svg.appendChild(newElement);\n",
       "newElement = document.createElementNS(\"http://www.w3.org/2000/svg\", 'rect'); \n",
       "newElement.setAttribute('width','1'); \n",
       "newElement.setAttribute('height','1'); \n",
       "newElement.setAttribute('x','8'); \n",
       "newElement.setAttribute('y','0'); \n",
       "newElement.style.fill = 'green'; \n",
       "svg.appendChild(newElement);\n",
       "newElement = document.createElementNS(\"http://www.w3.org/2000/svg\", 'rect'); \n",
       "newElement.setAttribute('width','1'); \n",
       "newElement.setAttribute('height','1'); \n",
       "newElement.setAttribute('x','9'); \n",
       "newElement.setAttribute('y','0'); \n",
       "newElement.style.fill = 'green'; \n",
       "svg.appendChild(newElement);\n",
       "newElement = document.createElementNS(\"http://www.w3.org/2000/svg\", 'rect'); \n",
       "newElement.setAttribute('width','1'); \n",
       "newElement.setAttribute('height','1'); \n",
       "newElement.setAttribute('x','10'); \n",
       "newElement.setAttribute('y','0'); \n",
       "newElement.style.fill = 'green'; \n",
       "svg.appendChild(newElement);\n",
       "newElement = document.createElementNS(\"http://www.w3.org/2000/svg\", 'rect'); \n",
       "newElement.setAttribute('width','1'); \n",
       "newElement.setAttribute('height','1'); \n",
       "newElement.setAttribute('x','11'); \n",
       "newElement.setAttribute('y','0'); \n",
       "newElement.style.fill = 'red'; \n",
       "svg.appendChild(newElement);\n",
       "newElement = document.createElementNS(\"http://www.w3.org/2000/svg\", 'rect'); \n",
       "newElement.setAttribute('width','1'); \n",
       "newElement.setAttribute('height','1'); \n",
       "newElement.setAttribute('x','12'); \n",
       "newElement.setAttribute('y','0'); \n",
       "newElement.style.fill = 'red'; \n",
       "svg.appendChild(newElement);\n",
       "newElement = document.createElementNS(\"http://www.w3.org/2000/svg\", 'rect'); \n",
       "newElement.setAttribute('width','1'); \n",
       "newElement.setAttribute('height','1'); \n",
       "newElement.setAttribute('x','13'); \n",
       "newElement.setAttribute('y','0'); \n",
       "newElement.style.fill = 'red'; \n",
       "svg.appendChild(newElement);\n",
       "newElement = document.createElementNS(\"http://www.w3.org/2000/svg\", 'rect'); \n",
       "newElement.setAttribute('width','1'); \n",
       "newElement.setAttribute('height','1'); \n",
       "newElement.setAttribute('x','14'); \n",
       "newElement.setAttribute('y','0'); \n",
       "newElement.style.fill = 'red'; \n",
       "svg.appendChild(newElement);\n",
       "newElement = document.createElementNS(\"http://www.w3.org/2000/svg\", 'rect'); \n",
       "newElement.setAttribute('width','1'); \n",
       "newElement.setAttribute('height','1'); \n",
       "newElement.setAttribute('x','15'); \n",
       "newElement.setAttribute('y','0'); \n",
       "newElement.style.fill = 'green'; \n",
       "svg.appendChild(newElement);\n",
       "newElement = document.createElementNS(\"http://www.w3.org/2000/svg\", 'rect'); \n",
       "newElement.setAttribute('width','1'); \n",
       "newElement.setAttribute('height','1'); \n",
       "newElement.setAttribute('x','16'); \n",
       "newElement.setAttribute('y','0'); \n",
       "newElement.style.fill = 'green'; \n",
       "svg.appendChild(newElement);\n",
       "newElement = document.createElementNS(\"http://www.w3.org/2000/svg\", 'rect'); \n",
       "newElement.setAttribute('width','1'); \n",
       "newElement.setAttribute('height','1'); \n",
       "newElement.setAttribute('x','0'); \n",
       "newElement.setAttribute('y','1'); \n",
       "newElement.style.fill = 'green'; \n",
       "svg.appendChild(newElement);\n",
       "newElement = document.createElementNS(\"http://www.w3.org/2000/svg\", 'rect'); \n",
       "newElement.setAttribute('width','1'); \n",
       "newElement.setAttribute('height','1'); \n",
       "newElement.setAttribute('x','1'); \n",
       "newElement.setAttribute('y','1'); \n",
       "newElement.style.fill = 'green'; \n",
       "svg.appendChild(newElement);\n",
       "newElement = document.createElementNS(\"http://www.w3.org/2000/svg\", 'rect'); \n",
       "newElement.setAttribute('width','1'); \n",
       "newElement.setAttribute('height','1'); \n",
       "newElement.setAttribute('x','2'); \n",
       "newElement.setAttribute('y','1'); \n",
       "newElement.style.fill = 'green'; \n",
       "svg.appendChild(newElement);\n",
       "newElement = document.createElementNS(\"http://www.w3.org/2000/svg\", 'rect'); \n",
       "newElement.setAttribute('width','1'); \n",
       "newElement.setAttribute('height','1'); \n",
       "newElement.setAttribute('x','3'); \n",
       "newElement.setAttribute('y','1'); \n",
       "newElement.style.fill = 'green'; \n",
       "svg.appendChild(newElement);\n",
       "newElement = document.createElementNS(\"http://www.w3.org/2000/svg\", 'rect'); \n",
       "newElement.setAttribute('width','1'); \n",
       "newElement.setAttribute('height','1'); \n",
       "newElement.setAttribute('x','4'); \n",
       "newElement.setAttribute('y','1'); \n",
       "newElement.style.fill = 'green'; \n",
       "svg.appendChild(newElement);\n",
       "newElement = document.createElementNS(\"http://www.w3.org/2000/svg\", 'rect'); \n",
       "newElement.setAttribute('width','1'); \n",
       "newElement.setAttribute('height','1'); \n",
       "newElement.setAttribute('x','5'); \n",
       "newElement.setAttribute('y','1'); \n",
       "newElement.style.fill = 'green'; \n",
       "svg.appendChild(newElement);\n",
       "newElement = document.createElementNS(\"http://www.w3.org/2000/svg\", 'rect'); \n",
       "newElement.setAttribute('width','1'); \n",
       "newElement.setAttribute('height','1'); \n",
       "newElement.setAttribute('x','6'); \n",
       "newElement.setAttribute('y','1'); \n",
       "newElement.style.fill = 'green'; \n",
       "svg.appendChild(newElement);\n",
       "newElement = document.createElementNS(\"http://www.w3.org/2000/svg\", 'rect'); \n",
       "newElement.setAttribute('width','1'); \n",
       "newElement.setAttribute('height','1'); \n",
       "newElement.setAttribute('x','7'); \n",
       "newElement.setAttribute('y','1'); \n",
       "newElement.style.fill = 'green'; \n",
       "svg.appendChild(newElement);\n",
       "newElement = document.createElementNS(\"http://www.w3.org/2000/svg\", 'rect'); \n",
       "newElement.setAttribute('width','1'); \n",
       "newElement.setAttribute('height','1'); \n",
       "newElement.setAttribute('x','8'); \n",
       "newElement.setAttribute('y','1'); \n",
       "newElement.style.fill = 'green'; \n",
       "svg.appendChild(newElement);\n",
       "newElement = document.createElementNS(\"http://www.w3.org/2000/svg\", 'rect'); \n",
       "newElement.setAttribute('width','1'); \n",
       "newElement.setAttribute('height','1'); \n",
       "newElement.setAttribute('x','9'); \n",
       "newElement.setAttribute('y','1'); \n",
       "newElement.style.fill = 'green'; \n",
       "svg.appendChild(newElement);\n",
       "newElement = document.createElementNS(\"http://www.w3.org/2000/svg\", 'rect'); \n",
       "newElement.setAttribute('width','1'); \n",
       "newElement.setAttribute('height','1'); \n",
       "newElement.setAttribute('x','10'); \n",
       "newElement.setAttribute('y','1'); \n",
       "newElement.style.fill = 'black'; \n",
       "svg.appendChild(newElement);\n",
       "newElement = document.createElementNS(\"http://www.w3.org/2000/svg\", 'rect'); \n",
       "newElement.setAttribute('width','1'); \n",
       "newElement.setAttribute('height','1'); \n",
       "newElement.setAttribute('x','11'); \n",
       "newElement.setAttribute('y','1'); \n",
       "newElement.style.fill = 'black'; \n",
       "svg.appendChild(newElement);\n",
       "newElement = document.createElementNS(\"http://www.w3.org/2000/svg\", 'rect'); \n",
       "newElement.setAttribute('width','1'); \n",
       "newElement.setAttribute('height','1'); \n",
       "newElement.setAttribute('x','12'); \n",
       "newElement.setAttribute('y','1'); \n",
       "newElement.style.fill = 'black'; \n",
       "svg.appendChild(newElement);\n",
       "newElement = document.createElementNS(\"http://www.w3.org/2000/svg\", 'rect'); \n",
       "newElement.setAttribute('width','1'); \n",
       "newElement.setAttribute('height','1'); \n",
       "newElement.setAttribute('x','13'); \n",
       "newElement.setAttribute('y','1'); \n",
       "newElement.style.fill = 'black'; \n",
       "svg.appendChild(newElement);\n",
       "newElement = document.createElementNS(\"http://www.w3.org/2000/svg\", 'rect'); \n",
       "newElement.setAttribute('width','1'); \n",
       "newElement.setAttribute('height','1'); \n",
       "newElement.setAttribute('x','14'); \n",
       "newElement.setAttribute('y','1'); \n",
       "newElement.style.fill = 'black'; \n",
       "svg.appendChild(newElement);\n",
       "newElement = document.createElementNS(\"http://www.w3.org/2000/svg\", 'rect'); \n",
       "newElement.setAttribute('width','1'); \n",
       "newElement.setAttribute('height','1'); \n",
       "newElement.setAttribute('x','15'); \n",
       "newElement.setAttribute('y','1'); \n",
       "newElement.style.fill = 'green'; \n",
       "svg.appendChild(newElement);\n",
       "newElement = document.createElementNS(\"http://www.w3.org/2000/svg\", 'rect'); \n",
       "newElement.setAttribute('width','1'); \n",
       "newElement.setAttribute('height','1'); \n",
       "newElement.setAttribute('x','16'); \n",
       "newElement.setAttribute('y','1'); \n",
       "newElement.style.fill = 'green'; \n",
       "svg.appendChild(newElement);\n",
       "newElement = document.createElementNS(\"http://www.w3.org/2000/svg\", 'rect'); \n",
       "newElement.setAttribute('width','1'); \n",
       "newElement.setAttribute('height','1'); \n",
       "newElement.setAttribute('x','0'); \n",
       "newElement.setAttribute('y','2'); \n",
       "newElement.style.fill = 'green'; \n",
       "svg.appendChild(newElement);\n",
       "newElement = document.createElementNS(\"http://www.w3.org/2000/svg\", 'rect'); \n",
       "newElement.setAttribute('width','1'); \n",
       "newElement.setAttribute('height','1'); \n",
       "newElement.setAttribute('x','1'); \n",
       "newElement.setAttribute('y','2'); \n",
       "newElement.style.fill = 'green'; \n",
       "svg.appendChild(newElement);\n",
       "newElement = document.createElementNS(\"http://www.w3.org/2000/svg\", 'rect'); \n",
       "newElement.setAttribute('width','1'); \n",
       "newElement.setAttribute('height','1'); \n",
       "newElement.setAttribute('x','2'); \n",
       "newElement.setAttribute('y','2'); \n",
       "newElement.style.fill = 'green'; \n",
       "svg.appendChild(newElement);\n",
       "newElement = document.createElementNS(\"http://www.w3.org/2000/svg\", 'rect'); \n",
       "newElement.setAttribute('width','1'); \n",
       "newElement.setAttribute('height','1'); \n",
       "newElement.setAttribute('x','3'); \n",
       "newElement.setAttribute('y','2'); \n",
       "newElement.style.fill = 'green'; \n",
       "svg.appendChild(newElement);\n",
       "newElement = document.createElementNS(\"http://www.w3.org/2000/svg\", 'rect'); \n",
       "newElement.setAttribute('width','1'); \n",
       "newElement.setAttribute('height','1'); \n",
       "newElement.setAttribute('x','4'); \n",
       "newElement.setAttribute('y','2'); \n",
       "newElement.style.fill = 'green'; \n",
       "svg.appendChild(newElement);\n",
       "newElement = document.createElementNS(\"http://www.w3.org/2000/svg\", 'rect'); \n",
       "newElement.setAttribute('width','1'); \n",
       "newElement.setAttribute('height','1'); \n",
       "newElement.setAttribute('x','5'); \n",
       "newElement.setAttribute('y','2'); \n",
       "newElement.style.fill = 'green'; \n",
       "svg.appendChild(newElement);\n",
       "newElement = document.createElementNS(\"http://www.w3.org/2000/svg\", 'rect'); \n",
       "newElement.setAttribute('width','1'); \n",
       "newElement.setAttribute('height','1'); \n",
       "newElement.setAttribute('x','6'); \n",
       "newElement.setAttribute('y','2'); \n",
       "newElement.style.fill = 'green'; \n",
       "svg.appendChild(newElement);\n",
       "newElement = document.createElementNS(\"http://www.w3.org/2000/svg\", 'rect'); \n",
       "newElement.setAttribute('width','1'); \n",
       "newElement.setAttribute('height','1'); \n",
       "newElement.setAttribute('x','7'); \n",
       "newElement.setAttribute('y','2'); \n",
       "newElement.style.fill = 'green'; \n",
       "svg.appendChild(newElement);\n",
       "newElement = document.createElementNS(\"http://www.w3.org/2000/svg\", 'rect'); \n",
       "newElement.setAttribute('width','1'); \n",
       "newElement.setAttribute('height','1'); \n",
       "newElement.setAttribute('x','8'); \n",
       "newElement.setAttribute('y','2'); \n",
       "newElement.style.fill = 'green'; \n",
       "svg.appendChild(newElement);\n",
       "newElement = document.createElementNS(\"http://www.w3.org/2000/svg\", 'rect'); \n",
       "newElement.setAttribute('width','1'); \n",
       "newElement.setAttribute('height','1'); \n",
       "newElement.setAttribute('x','9'); \n",
       "newElement.setAttribute('y','2'); \n",
       "newElement.style.fill = 'black'; \n",
       "svg.appendChild(newElement);\n",
       "newElement = document.createElementNS(\"http://www.w3.org/2000/svg\", 'rect'); \n",
       "newElement.setAttribute('width','1'); \n",
       "newElement.setAttribute('height','1'); \n",
       "newElement.setAttribute('x','10'); \n",
       "newElement.setAttribute('y','2'); \n",
       "newElement.style.fill = 'black'; \n",
       "svg.appendChild(newElement);\n",
       "newElement = document.createElementNS(\"http://www.w3.org/2000/svg\", 'rect'); \n",
       "newElement.setAttribute('width','1'); \n",
       "newElement.setAttribute('height','1'); \n",
       "newElement.setAttribute('x','11'); \n",
       "newElement.setAttribute('y','2'); \n",
       "newElement.style.fill = 'black'; \n",
       "svg.appendChild(newElement);\n",
       "newElement = document.createElementNS(\"http://www.w3.org/2000/svg\", 'rect'); \n",
       "newElement.setAttribute('width','1'); \n",
       "newElement.setAttribute('height','1'); \n",
       "newElement.setAttribute('x','12'); \n",
       "newElement.setAttribute('y','2'); \n",
       "newElement.style.fill = 'black'; \n",
       "svg.appendChild(newElement);\n",
       "newElement = document.createElementNS(\"http://www.w3.org/2000/svg\", 'rect'); \n",
       "newElement.setAttribute('width','1'); \n",
       "newElement.setAttribute('height','1'); \n",
       "newElement.setAttribute('x','13'); \n",
       "newElement.setAttribute('y','2'); \n",
       "newElement.style.fill = 'black'; \n",
       "svg.appendChild(newElement);\n",
       "newElement = document.createElementNS(\"http://www.w3.org/2000/svg\", 'rect'); \n",
       "newElement.setAttribute('width','1'); \n",
       "newElement.setAttribute('height','1'); \n",
       "newElement.setAttribute('x','14'); \n",
       "newElement.setAttribute('y','2'); \n",
       "newElement.style.fill = 'green'; \n",
       "svg.appendChild(newElement);\n",
       "newElement = document.createElementNS(\"http://www.w3.org/2000/svg\", 'rect'); \n",
       "newElement.setAttribute('width','1'); \n",
       "newElement.setAttribute('height','1'); \n",
       "newElement.setAttribute('x','15'); \n",
       "newElement.setAttribute('y','2'); \n",
       "newElement.style.fill = 'green'; \n",
       "svg.appendChild(newElement);\n",
       "newElement = document.createElementNS(\"http://www.w3.org/2000/svg\", 'rect'); \n",
       "newElement.setAttribute('width','1'); \n",
       "newElement.setAttribute('height','1'); \n",
       "newElement.setAttribute('x','16'); \n",
       "newElement.setAttribute('y','2'); \n",
       "newElement.style.fill = 'green'; \n",
       "svg.appendChild(newElement);\n",
       "newElement = document.createElementNS(\"http://www.w3.org/2000/svg\", 'rect'); \n",
       "newElement.setAttribute('width','1'); \n",
       "newElement.setAttribute('height','1'); \n",
       "newElement.setAttribute('x','0'); \n",
       "newElement.setAttribute('y','3'); \n",
       "newElement.style.fill = 'green'; \n",
       "svg.appendChild(newElement);\n",
       "newElement = document.createElementNS(\"http://www.w3.org/2000/svg\", 'rect'); \n",
       "newElement.setAttribute('width','1'); \n",
       "newElement.setAttribute('height','1'); \n",
       "newElement.setAttribute('x','1'); \n",
       "newElement.setAttribute('y','3'); \n",
       "newElement.style.fill = 'green'; \n",
       "svg.appendChild(newElement);\n",
       "newElement = document.createElementNS(\"http://www.w3.org/2000/svg\", 'rect'); \n",
       "newElement.setAttribute('width','1'); \n",
       "newElement.setAttribute('height','1'); \n",
       "newElement.setAttribute('x','2'); \n",
       "newElement.setAttribute('y','3'); \n",
       "newElement.style.fill = 'green'; \n",
       "svg.appendChild(newElement);\n",
       "newElement = document.createElementNS(\"http://www.w3.org/2000/svg\", 'rect'); \n",
       "newElement.setAttribute('width','1'); \n",
       "newElement.setAttribute('height','1'); \n",
       "newElement.setAttribute('x','3'); \n",
       "newElement.setAttribute('y','3'); \n",
       "newElement.style.fill = 'green'; \n",
       "svg.appendChild(newElement);\n",
       "newElement = document.createElementNS(\"http://www.w3.org/2000/svg\", 'rect'); \n",
       "newElement.setAttribute('width','1'); \n",
       "newElement.setAttribute('height','1'); \n",
       "newElement.setAttribute('x','4'); \n",
       "newElement.setAttribute('y','3'); \n",
       "newElement.style.fill = 'green'; \n",
       "svg.appendChild(newElement);\n",
       "newElement = document.createElementNS(\"http://www.w3.org/2000/svg\", 'rect'); \n",
       "newElement.setAttribute('width','1'); \n",
       "newElement.setAttribute('height','1'); \n",
       "newElement.setAttribute('x','5'); \n",
       "newElement.setAttribute('y','3'); \n",
       "newElement.style.fill = 'green'; \n",
       "svg.appendChild(newElement);\n",
       "newElement = document.createElementNS(\"http://www.w3.org/2000/svg\", 'rect'); \n",
       "newElement.setAttribute('width','1'); \n",
       "newElement.setAttribute('height','1'); \n",
       "newElement.setAttribute('x','6'); \n",
       "newElement.setAttribute('y','3'); \n",
       "newElement.style.fill = 'green'; \n",
       "svg.appendChild(newElement);\n",
       "newElement = document.createElementNS(\"http://www.w3.org/2000/svg\", 'rect'); \n",
       "newElement.setAttribute('width','1'); \n",
       "newElement.setAttribute('height','1'); \n",
       "newElement.setAttribute('x','7'); \n",
       "newElement.setAttribute('y','3'); \n",
       "newElement.style.fill = 'black'; \n",
       "svg.appendChild(newElement);\n",
       "newElement = document.createElementNS(\"http://www.w3.org/2000/svg\", 'rect'); \n",
       "newElement.setAttribute('width','1'); \n",
       "newElement.setAttribute('height','1'); \n",
       "newElement.setAttribute('x','8'); \n",
       "newElement.setAttribute('y','3'); \n",
       "newElement.style.fill = 'black'; \n",
       "svg.appendChild(newElement);\n",
       "newElement = document.createElementNS(\"http://www.w3.org/2000/svg\", 'rect'); \n",
       "newElement.setAttribute('width','1'); \n",
       "newElement.setAttribute('height','1'); \n",
       "newElement.setAttribute('x','9'); \n",
       "newElement.setAttribute('y','3'); \n",
       "newElement.style.fill = 'black'; \n",
       "svg.appendChild(newElement);\n",
       "newElement = document.createElementNS(\"http://www.w3.org/2000/svg\", 'rect'); \n",
       "newElement.setAttribute('width','1'); \n",
       "newElement.setAttribute('height','1'); \n",
       "newElement.setAttribute('x','10'); \n",
       "newElement.setAttribute('y','3'); \n",
       "newElement.style.fill = 'black'; \n",
       "svg.appendChild(newElement);\n",
       "newElement = document.createElementNS(\"http://www.w3.org/2000/svg\", 'rect'); \n",
       "newElement.setAttribute('width','1'); \n",
       "newElement.setAttribute('height','1'); \n",
       "newElement.setAttribute('x','11'); \n",
       "newElement.setAttribute('y','3'); \n",
       "newElement.style.fill = 'black'; \n",
       "svg.appendChild(newElement);\n",
       "newElement = document.createElementNS(\"http://www.w3.org/2000/svg\", 'rect'); \n",
       "newElement.setAttribute('width','1'); \n",
       "newElement.setAttribute('height','1'); \n",
       "newElement.setAttribute('x','12'); \n",
       "newElement.setAttribute('y','3'); \n",
       "newElement.style.fill = 'black'; \n",
       "svg.appendChild(newElement);\n",
       "newElement = document.createElementNS(\"http://www.w3.org/2000/svg\", 'rect'); \n",
       "newElement.setAttribute('width','1'); \n",
       "newElement.setAttribute('height','1'); \n",
       "newElement.setAttribute('x','13'); \n",
       "newElement.setAttribute('y','3'); \n",
       "newElement.style.fill = 'green'; \n",
       "svg.appendChild(newElement);\n",
       "newElement = document.createElementNS(\"http://www.w3.org/2000/svg\", 'rect'); \n",
       "newElement.setAttribute('width','1'); \n",
       "newElement.setAttribute('height','1'); \n",
       "newElement.setAttribute('x','14'); \n",
       "newElement.setAttribute('y','3'); \n",
       "newElement.style.fill = 'green'; \n",
       "svg.appendChild(newElement);\n",
       "newElement = document.createElementNS(\"http://www.w3.org/2000/svg\", 'rect'); \n",
       "newElement.setAttribute('width','1'); \n",
       "newElement.setAttribute('height','1'); \n",
       "newElement.setAttribute('x','15'); \n",
       "newElement.setAttribute('y','3'); \n",
       "newElement.style.fill = 'green'; \n",
       "svg.appendChild(newElement);\n",
       "newElement = document.createElementNS(\"http://www.w3.org/2000/svg\", 'rect'); \n",
       "newElement.setAttribute('width','1'); \n",
       "newElement.setAttribute('height','1'); \n",
       "newElement.setAttribute('x','16'); \n",
       "newElement.setAttribute('y','3'); \n",
       "newElement.style.fill = 'green'; \n",
       "svg.appendChild(newElement);\n",
       "newElement = document.createElementNS(\"http://www.w3.org/2000/svg\", 'rect'); \n",
       "newElement.setAttribute('width','1'); \n",
       "newElement.setAttribute('height','1'); \n",
       "newElement.setAttribute('x','0'); \n",
       "newElement.setAttribute('y','4'); \n",
       "newElement.style.fill = 'green'; \n",
       "svg.appendChild(newElement);\n",
       "newElement = document.createElementNS(\"http://www.w3.org/2000/svg\", 'rect'); \n",
       "newElement.setAttribute('width','1'); \n",
       "newElement.setAttribute('height','1'); \n",
       "newElement.setAttribute('x','1'); \n",
       "newElement.setAttribute('y','4'); \n",
       "newElement.style.fill = 'green'; \n",
       "svg.appendChild(newElement);\n",
       "newElement = document.createElementNS(\"http://www.w3.org/2000/svg\", 'rect'); \n",
       "newElement.setAttribute('width','1'); \n",
       "newElement.setAttribute('height','1'); \n",
       "newElement.setAttribute('x','2'); \n",
       "newElement.setAttribute('y','4'); \n",
       "newElement.style.fill = 'green'; \n",
       "svg.appendChild(newElement);\n",
       "newElement = document.createElementNS(\"http://www.w3.org/2000/svg\", 'rect'); \n",
       "newElement.setAttribute('width','1'); \n",
       "newElement.setAttribute('height','1'); \n",
       "newElement.setAttribute('x','3'); \n",
       "newElement.setAttribute('y','4'); \n",
       "newElement.style.fill = 'green'; \n",
       "svg.appendChild(newElement);\n",
       "newElement = document.createElementNS(\"http://www.w3.org/2000/svg\", 'rect'); \n",
       "newElement.setAttribute('width','1'); \n",
       "newElement.setAttribute('height','1'); \n",
       "newElement.setAttribute('x','4'); \n",
       "newElement.setAttribute('y','4'); \n",
       "newElement.style.fill = 'green'; \n",
       "svg.appendChild(newElement);\n",
       "newElement = document.createElementNS(\"http://www.w3.org/2000/svg\", 'rect'); \n",
       "newElement.setAttribute('width','1'); \n",
       "newElement.setAttribute('height','1'); \n",
       "newElement.setAttribute('x','5'); \n",
       "newElement.setAttribute('y','4'); \n",
       "newElement.style.fill = 'green'; \n",
       "svg.appendChild(newElement);\n",
       "newElement = document.createElementNS(\"http://www.w3.org/2000/svg\", 'rect'); \n",
       "newElement.setAttribute('width','1'); \n",
       "newElement.setAttribute('height','1'); \n",
       "newElement.setAttribute('x','6'); \n",
       "newElement.setAttribute('y','4'); \n",
       "newElement.style.fill = 'black'; \n",
       "svg.appendChild(newElement);\n",
       "newElement = document.createElementNS(\"http://www.w3.org/2000/svg\", 'rect'); \n",
       "newElement.setAttribute('width','1'); \n",
       "newElement.setAttribute('height','1'); \n",
       "newElement.setAttribute('x','7'); \n",
       "newElement.setAttribute('y','4'); \n",
       "newElement.style.fill = 'black'; \n",
       "svg.appendChild(newElement);\n",
       "newElement = document.createElementNS(\"http://www.w3.org/2000/svg\", 'rect'); \n",
       "newElement.setAttribute('width','1'); \n",
       "newElement.setAttribute('height','1'); \n",
       "newElement.setAttribute('x','8'); \n",
       "newElement.setAttribute('y','4'); \n",
       "newElement.style.fill = 'black'; \n",
       "svg.appendChild(newElement);\n",
       "newElement = document.createElementNS(\"http://www.w3.org/2000/svg\", 'rect'); \n",
       "newElement.setAttribute('width','1'); \n",
       "newElement.setAttribute('height','1'); \n",
       "newElement.setAttribute('x','9'); \n",
       "newElement.setAttribute('y','4'); \n",
       "newElement.style.fill = 'black'; \n",
       "svg.appendChild(newElement);\n",
       "newElement = document.createElementNS(\"http://www.w3.org/2000/svg\", 'rect'); \n",
       "newElement.setAttribute('width','1'); \n",
       "newElement.setAttribute('height','1'); \n",
       "newElement.setAttribute('x','10'); \n",
       "newElement.setAttribute('y','4'); \n",
       "newElement.style.fill = 'black'; \n",
       "svg.appendChild(newElement);\n",
       "newElement = document.createElementNS(\"http://www.w3.org/2000/svg\", 'rect'); \n",
       "newElement.setAttribute('width','1'); \n",
       "newElement.setAttribute('height','1'); \n",
       "newElement.setAttribute('x','11'); \n",
       "newElement.setAttribute('y','4'); \n",
       "newElement.style.fill = 'black'; \n",
       "svg.appendChild(newElement);\n",
       "newElement = document.createElementNS(\"http://www.w3.org/2000/svg\", 'rect'); \n",
       "newElement.setAttribute('width','1'); \n",
       "newElement.setAttribute('height','1'); \n",
       "newElement.setAttribute('x','12'); \n",
       "newElement.setAttribute('y','4'); \n",
       "newElement.style.fill = 'green'; \n",
       "svg.appendChild(newElement);\n",
       "newElement = document.createElementNS(\"http://www.w3.org/2000/svg\", 'rect'); \n",
       "newElement.setAttribute('width','1'); \n",
       "newElement.setAttribute('height','1'); \n",
       "newElement.setAttribute('x','13'); \n",
       "newElement.setAttribute('y','4'); \n",
       "newElement.style.fill = 'green'; \n",
       "svg.appendChild(newElement);\n",
       "newElement = document.createElementNS(\"http://www.w3.org/2000/svg\", 'rect'); \n",
       "newElement.setAttribute('width','1'); \n",
       "newElement.setAttribute('height','1'); \n",
       "newElement.setAttribute('x','14'); \n",
       "newElement.setAttribute('y','4'); \n",
       "newElement.style.fill = 'green'; \n",
       "svg.appendChild(newElement);\n",
       "newElement = document.createElementNS(\"http://www.w3.org/2000/svg\", 'rect'); \n",
       "newElement.setAttribute('width','1'); \n",
       "newElement.setAttribute('height','1'); \n",
       "newElement.setAttribute('x','15'); \n",
       "newElement.setAttribute('y','4'); \n",
       "newElement.style.fill = 'green'; \n",
       "svg.appendChild(newElement);\n",
       "newElement = document.createElementNS(\"http://www.w3.org/2000/svg\", 'rect'); \n",
       "newElement.setAttribute('width','1'); \n",
       "newElement.setAttribute('height','1'); \n",
       "newElement.setAttribute('x','16'); \n",
       "newElement.setAttribute('y','4'); \n",
       "newElement.style.fill = 'green'; \n",
       "svg.appendChild(newElement);\n",
       "newElement = document.createElementNS(\"http://www.w3.org/2000/svg\", 'rect'); \n",
       "newElement.setAttribute('width','1'); \n",
       "newElement.setAttribute('height','1'); \n",
       "newElement.setAttribute('x','0'); \n",
       "newElement.setAttribute('y','5'); \n",
       "newElement.style.fill = 'green'; \n",
       "svg.appendChild(newElement);\n",
       "newElement = document.createElementNS(\"http://www.w3.org/2000/svg\", 'rect'); \n",
       "newElement.setAttribute('width','1'); \n",
       "newElement.setAttribute('height','1'); \n",
       "newElement.setAttribute('x','1'); \n",
       "newElement.setAttribute('y','5'); \n",
       "newElement.style.fill = 'green'; \n",
       "svg.appendChild(newElement);\n",
       "newElement = document.createElementNS(\"http://www.w3.org/2000/svg\", 'rect'); \n",
       "newElement.setAttribute('width','1'); \n",
       "newElement.setAttribute('height','1'); \n",
       "newElement.setAttribute('x','2'); \n",
       "newElement.setAttribute('y','5'); \n",
       "newElement.style.fill = 'green'; \n",
       "svg.appendChild(newElement);\n",
       "newElement = document.createElementNS(\"http://www.w3.org/2000/svg\", 'rect'); \n",
       "newElement.setAttribute('width','1'); \n",
       "newElement.setAttribute('height','1'); \n",
       "newElement.setAttribute('x','3'); \n",
       "newElement.setAttribute('y','5'); \n",
       "newElement.style.fill = 'green'; \n",
       "svg.appendChild(newElement);\n",
       "newElement = document.createElementNS(\"http://www.w3.org/2000/svg\", 'rect'); \n",
       "newElement.setAttribute('width','1'); \n",
       "newElement.setAttribute('height','1'); \n",
       "newElement.setAttribute('x','4'); \n",
       "newElement.setAttribute('y','5'); \n",
       "newElement.style.fill = 'green'; \n",
       "svg.appendChild(newElement);\n",
       "newElement = document.createElementNS(\"http://www.w3.org/2000/svg\", 'rect'); \n",
       "newElement.setAttribute('width','1'); \n",
       "newElement.setAttribute('height','1'); \n",
       "newElement.setAttribute('x','5'); \n",
       "newElement.setAttribute('y','5'); \n",
       "newElement.style.fill = 'black'; \n",
       "svg.appendChild(newElement);\n",
       "newElement = document.createElementNS(\"http://www.w3.org/2000/svg\", 'rect'); \n",
       "newElement.setAttribute('width','1'); \n",
       "newElement.setAttribute('height','1'); \n",
       "newElement.setAttribute('x','6'); \n",
       "newElement.setAttribute('y','5'); \n",
       "newElement.style.fill = 'black'; \n",
       "svg.appendChild(newElement);\n",
       "newElement = document.createElementNS(\"http://www.w3.org/2000/svg\", 'rect'); \n",
       "newElement.setAttribute('width','1'); \n",
       "newElement.setAttribute('height','1'); \n",
       "newElement.setAttribute('x','7'); \n",
       "newElement.setAttribute('y','5'); \n",
       "newElement.style.fill = 'black'; \n",
       "svg.appendChild(newElement);\n",
       "newElement = document.createElementNS(\"http://www.w3.org/2000/svg\", 'rect'); \n",
       "newElement.setAttribute('width','1'); \n",
       "newElement.setAttribute('height','1'); \n",
       "newElement.setAttribute('x','8'); \n",
       "newElement.setAttribute('y','5'); \n",
       "newElement.style.fill = 'black'; \n",
       "svg.appendChild(newElement);\n",
       "newElement = document.createElementNS(\"http://www.w3.org/2000/svg\", 'rect'); \n",
       "newElement.setAttribute('width','1'); \n",
       "newElement.setAttribute('height','1'); \n",
       "newElement.setAttribute('x','9'); \n",
       "newElement.setAttribute('y','5'); \n",
       "newElement.style.fill = 'black'; \n",
       "svg.appendChild(newElement);\n",
       "newElement = document.createElementNS(\"http://www.w3.org/2000/svg\", 'rect'); \n",
       "newElement.setAttribute('width','1'); \n",
       "newElement.setAttribute('height','1'); \n",
       "newElement.setAttribute('x','10'); \n",
       "newElement.setAttribute('y','5'); \n",
       "newElement.style.fill = 'green'; \n",
       "svg.appendChild(newElement);\n",
       "newElement = document.createElementNS(\"http://www.w3.org/2000/svg\", 'rect'); \n",
       "newElement.setAttribute('width','1'); \n",
       "newElement.setAttribute('height','1'); \n",
       "newElement.setAttribute('x','11'); \n",
       "newElement.setAttribute('y','5'); \n",
       "newElement.style.fill = 'green'; \n",
       "svg.appendChild(newElement);\n",
       "newElement = document.createElementNS(\"http://www.w3.org/2000/svg\", 'rect'); \n",
       "newElement.setAttribute('width','1'); \n",
       "newElement.setAttribute('height','1'); \n",
       "newElement.setAttribute('x','12'); \n",
       "newElement.setAttribute('y','5'); \n",
       "newElement.style.fill = 'green'; \n",
       "svg.appendChild(newElement);\n",
       "newElement = document.createElementNS(\"http://www.w3.org/2000/svg\", 'rect'); \n",
       "newElement.setAttribute('width','1'); \n",
       "newElement.setAttribute('height','1'); \n",
       "newElement.setAttribute('x','13'); \n",
       "newElement.setAttribute('y','5'); \n",
       "newElement.style.fill = 'green'; \n",
       "svg.appendChild(newElement);\n",
       "newElement = document.createElementNS(\"http://www.w3.org/2000/svg\", 'rect'); \n",
       "newElement.setAttribute('width','1'); \n",
       "newElement.setAttribute('height','1'); \n",
       "newElement.setAttribute('x','14'); \n",
       "newElement.setAttribute('y','5'); \n",
       "newElement.style.fill = 'green'; \n",
       "svg.appendChild(newElement);\n",
       "newElement = document.createElementNS(\"http://www.w3.org/2000/svg\", 'rect'); \n",
       "newElement.setAttribute('width','1'); \n",
       "newElement.setAttribute('height','1'); \n",
       "newElement.setAttribute('x','15'); \n",
       "newElement.setAttribute('y','5'); \n",
       "newElement.style.fill = 'green'; \n",
       "svg.appendChild(newElement);\n",
       "newElement = document.createElementNS(\"http://www.w3.org/2000/svg\", 'rect'); \n",
       "newElement.setAttribute('width','1'); \n",
       "newElement.setAttribute('height','1'); \n",
       "newElement.setAttribute('x','16'); \n",
       "newElement.setAttribute('y','5'); \n",
       "newElement.style.fill = 'green'; \n",
       "svg.appendChild(newElement);\n",
       "newElement = document.createElementNS(\"http://www.w3.org/2000/svg\", 'rect'); \n",
       "newElement.setAttribute('width','1'); \n",
       "newElement.setAttribute('height','1'); \n",
       "newElement.setAttribute('x','0'); \n",
       "newElement.setAttribute('y','6'); \n",
       "newElement.style.fill = 'green'; \n",
       "svg.appendChild(newElement);\n",
       "newElement = document.createElementNS(\"http://www.w3.org/2000/svg\", 'rect'); \n",
       "newElement.setAttribute('width','1'); \n",
       "newElement.setAttribute('height','1'); \n",
       "newElement.setAttribute('x','1'); \n",
       "newElement.setAttribute('y','6'); \n",
       "newElement.style.fill = 'green'; \n",
       "svg.appendChild(newElement);\n",
       "newElement = document.createElementNS(\"http://www.w3.org/2000/svg\", 'rect'); \n",
       "newElement.setAttribute('width','1'); \n",
       "newElement.setAttribute('height','1'); \n",
       "newElement.setAttribute('x','2'); \n",
       "newElement.setAttribute('y','6'); \n",
       "newElement.style.fill = 'green'; \n",
       "svg.appendChild(newElement);\n",
       "newElement = document.createElementNS(\"http://www.w3.org/2000/svg\", 'rect'); \n",
       "newElement.setAttribute('width','1'); \n",
       "newElement.setAttribute('height','1'); \n",
       "newElement.setAttribute('x','3'); \n",
       "newElement.setAttribute('y','6'); \n",
       "newElement.style.fill = 'green'; \n",
       "svg.appendChild(newElement);\n",
       "newElement = document.createElementNS(\"http://www.w3.org/2000/svg\", 'rect'); \n",
       "newElement.setAttribute('width','1'); \n",
       "newElement.setAttribute('height','1'); \n",
       "newElement.setAttribute('x','4'); \n",
       "newElement.setAttribute('y','6'); \n",
       "newElement.style.fill = 'black'; \n",
       "svg.appendChild(newElement);\n",
       "newElement = document.createElementNS(\"http://www.w3.org/2000/svg\", 'rect'); \n",
       "newElement.setAttribute('width','1'); \n",
       "newElement.setAttribute('height','1'); \n",
       "newElement.setAttribute('x','5'); \n",
       "newElement.setAttribute('y','6'); \n",
       "newElement.style.fill = 'black'; \n",
       "svg.appendChild(newElement);\n",
       "newElement = document.createElementNS(\"http://www.w3.org/2000/svg\", 'rect'); \n",
       "newElement.setAttribute('width','1'); \n",
       "newElement.setAttribute('height','1'); \n",
       "newElement.setAttribute('x','6'); \n",
       "newElement.setAttribute('y','6'); \n",
       "newElement.style.fill = 'black'; \n",
       "svg.appendChild(newElement);\n",
       "newElement = document.createElementNS(\"http://www.w3.org/2000/svg\", 'rect'); \n",
       "newElement.setAttribute('width','1'); \n",
       "newElement.setAttribute('height','1'); \n",
       "newElement.setAttribute('x','7'); \n",
       "newElement.setAttribute('y','6'); \n",
       "newElement.style.fill = 'black'; \n",
       "svg.appendChild(newElement);\n",
       "newElement = document.createElementNS(\"http://www.w3.org/2000/svg\", 'rect'); \n",
       "newElement.setAttribute('width','1'); \n",
       "newElement.setAttribute('height','1'); \n",
       "newElement.setAttribute('x','8'); \n",
       "newElement.setAttribute('y','6'); \n",
       "newElement.style.fill = 'black'; \n",
       "svg.appendChild(newElement);\n",
       "newElement = document.createElementNS(\"http://www.w3.org/2000/svg\", 'rect'); \n",
       "newElement.setAttribute('width','1'); \n",
       "newElement.setAttribute('height','1'); \n",
       "newElement.setAttribute('x','9'); \n",
       "newElement.setAttribute('y','6'); \n",
       "newElement.style.fill = 'green'; \n",
       "svg.appendChild(newElement);\n",
       "newElement = document.createElementNS(\"http://www.w3.org/2000/svg\", 'rect'); \n",
       "newElement.setAttribute('width','1'); \n",
       "newElement.setAttribute('height','1'); \n",
       "newElement.setAttribute('x','10'); \n",
       "newElement.setAttribute('y','6'); \n",
       "newElement.style.fill = 'green'; \n",
       "svg.appendChild(newElement);\n",
       "newElement = document.createElementNS(\"http://www.w3.org/2000/svg\", 'rect'); \n",
       "newElement.setAttribute('width','1'); \n",
       "newElement.setAttribute('height','1'); \n",
       "newElement.setAttribute('x','11'); \n",
       "newElement.setAttribute('y','6'); \n",
       "newElement.style.fill = 'green'; \n",
       "svg.appendChild(newElement);\n",
       "newElement = document.createElementNS(\"http://www.w3.org/2000/svg\", 'rect'); \n",
       "newElement.setAttribute('width','1'); \n",
       "newElement.setAttribute('height','1'); \n",
       "newElement.setAttribute('x','12'); \n",
       "newElement.setAttribute('y','6'); \n",
       "newElement.style.fill = 'green'; \n",
       "svg.appendChild(newElement);\n",
       "newElement = document.createElementNS(\"http://www.w3.org/2000/svg\", 'rect'); \n",
       "newElement.setAttribute('width','1'); \n",
       "newElement.setAttribute('height','1'); \n",
       "newElement.setAttribute('x','13'); \n",
       "newElement.setAttribute('y','6'); \n",
       "newElement.style.fill = 'green'; \n",
       "svg.appendChild(newElement);\n",
       "newElement = document.createElementNS(\"http://www.w3.org/2000/svg\", 'rect'); \n",
       "newElement.setAttribute('width','1'); \n",
       "newElement.setAttribute('height','1'); \n",
       "newElement.setAttribute('x','14'); \n",
       "newElement.setAttribute('y','6'); \n",
       "newElement.style.fill = 'green'; \n",
       "svg.appendChild(newElement);\n",
       "newElement = document.createElementNS(\"http://www.w3.org/2000/svg\", 'rect'); \n",
       "newElement.setAttribute('width','1'); \n",
       "newElement.setAttribute('height','1'); \n",
       "newElement.setAttribute('x','15'); \n",
       "newElement.setAttribute('y','6'); \n",
       "newElement.style.fill = 'green'; \n",
       "svg.appendChild(newElement);\n",
       "newElement = document.createElementNS(\"http://www.w3.org/2000/svg\", 'rect'); \n",
       "newElement.setAttribute('width','1'); \n",
       "newElement.setAttribute('height','1'); \n",
       "newElement.setAttribute('x','16'); \n",
       "newElement.setAttribute('y','6'); \n",
       "newElement.style.fill = 'green'; \n",
       "svg.appendChild(newElement);\n",
       "newElement = document.createElementNS(\"http://www.w3.org/2000/svg\", 'rect'); \n",
       "newElement.setAttribute('width','1'); \n",
       "newElement.setAttribute('height','1'); \n",
       "newElement.setAttribute('x','0'); \n",
       "newElement.setAttribute('y','7'); \n",
       "newElement.style.fill = 'green'; \n",
       "svg.appendChild(newElement);\n",
       "newElement = document.createElementNS(\"http://www.w3.org/2000/svg\", 'rect'); \n",
       "newElement.setAttribute('width','1'); \n",
       "newElement.setAttribute('height','1'); \n",
       "newElement.setAttribute('x','1'); \n",
       "newElement.setAttribute('y','7'); \n",
       "newElement.style.fill = 'green'; \n",
       "svg.appendChild(newElement);\n",
       "newElement = document.createElementNS(\"http://www.w3.org/2000/svg\", 'rect'); \n",
       "newElement.setAttribute('width','1'); \n",
       "newElement.setAttribute('height','1'); \n",
       "newElement.setAttribute('x','2'); \n",
       "newElement.setAttribute('y','7'); \n",
       "newElement.style.fill = 'green'; \n",
       "svg.appendChild(newElement);\n",
       "newElement = document.createElementNS(\"http://www.w3.org/2000/svg\", 'rect'); \n",
       "newElement.setAttribute('width','1'); \n",
       "newElement.setAttribute('height','1'); \n",
       "newElement.setAttribute('x','3'); \n",
       "newElement.setAttribute('y','7'); \n",
       "newElement.style.fill = 'black'; \n",
       "svg.appendChild(newElement);\n",
       "newElement = document.createElementNS(\"http://www.w3.org/2000/svg\", 'rect'); \n",
       "newElement.setAttribute('width','1'); \n",
       "newElement.setAttribute('height','1'); \n",
       "newElement.setAttribute('x','4'); \n",
       "newElement.setAttribute('y','7'); \n",
       "newElement.style.fill = 'black'; \n",
       "svg.appendChild(newElement);\n",
       "newElement = document.createElementNS(\"http://www.w3.org/2000/svg\", 'rect'); \n",
       "newElement.setAttribute('width','1'); \n",
       "newElement.setAttribute('height','1'); \n",
       "newElement.setAttribute('x','5'); \n",
       "newElement.setAttribute('y','7'); \n",
       "newElement.style.fill = 'black'; \n",
       "svg.appendChild(newElement);\n",
       "newElement = document.createElementNS(\"http://www.w3.org/2000/svg\", 'rect'); \n",
       "newElement.setAttribute('width','1'); \n",
       "newElement.setAttribute('height','1'); \n",
       "newElement.setAttribute('x','6'); \n",
       "newElement.setAttribute('y','7'); \n",
       "newElement.style.fill = 'black'; \n",
       "svg.appendChild(newElement);\n",
       "newElement = document.createElementNS(\"http://www.w3.org/2000/svg\", 'rect'); \n",
       "newElement.setAttribute('width','1'); \n",
       "newElement.setAttribute('height','1'); \n",
       "newElement.setAttribute('x','7'); \n",
       "newElement.setAttribute('y','7'); \n",
       "newElement.style.fill = 'black'; \n",
       "svg.appendChild(newElement);\n",
       "newElement = document.createElementNS(\"http://www.w3.org/2000/svg\", 'rect'); \n",
       "newElement.setAttribute('width','1'); \n",
       "newElement.setAttribute('height','1'); \n",
       "newElement.setAttribute('x','8'); \n",
       "newElement.setAttribute('y','7'); \n",
       "newElement.style.fill = 'green'; \n",
       "svg.appendChild(newElement);\n",
       "newElement = document.createElementNS(\"http://www.w3.org/2000/svg\", 'rect'); \n",
       "newElement.setAttribute('width','1'); \n",
       "newElement.setAttribute('height','1'); \n",
       "newElement.setAttribute('x','9'); \n",
       "newElement.setAttribute('y','7'); \n",
       "newElement.style.fill = 'green'; \n",
       "svg.appendChild(newElement);\n",
       "newElement = document.createElementNS(\"http://www.w3.org/2000/svg\", 'rect'); \n",
       "newElement.setAttribute('width','1'); \n",
       "newElement.setAttribute('height','1'); \n",
       "newElement.setAttribute('x','10'); \n",
       "newElement.setAttribute('y','7'); \n",
       "newElement.style.fill = 'green'; \n",
       "svg.appendChild(newElement);\n",
       "newElement = document.createElementNS(\"http://www.w3.org/2000/svg\", 'rect'); \n",
       "newElement.setAttribute('width','1'); \n",
       "newElement.setAttribute('height','1'); \n",
       "newElement.setAttribute('x','11'); \n",
       "newElement.setAttribute('y','7'); \n",
       "newElement.style.fill = 'green'; \n",
       "svg.appendChild(newElement);\n",
       "newElement = document.createElementNS(\"http://www.w3.org/2000/svg\", 'rect'); \n",
       "newElement.setAttribute('width','1'); \n",
       "newElement.setAttribute('height','1'); \n",
       "newElement.setAttribute('x','12'); \n",
       "newElement.setAttribute('y','7'); \n",
       "newElement.style.fill = 'green'; \n",
       "svg.appendChild(newElement);\n",
       "newElement = document.createElementNS(\"http://www.w3.org/2000/svg\", 'rect'); \n",
       "newElement.setAttribute('width','1'); \n",
       "newElement.setAttribute('height','1'); \n",
       "newElement.setAttribute('x','13'); \n",
       "newElement.setAttribute('y','7'); \n",
       "newElement.style.fill = 'green'; \n",
       "svg.appendChild(newElement);\n",
       "newElement = document.createElementNS(\"http://www.w3.org/2000/svg\", 'rect'); \n",
       "newElement.setAttribute('width','1'); \n",
       "newElement.setAttribute('height','1'); \n",
       "newElement.setAttribute('x','14'); \n",
       "newElement.setAttribute('y','7'); \n",
       "newElement.style.fill = 'green'; \n",
       "svg.appendChild(newElement);\n",
       "newElement = document.createElementNS(\"http://www.w3.org/2000/svg\", 'rect'); \n",
       "newElement.setAttribute('width','1'); \n",
       "newElement.setAttribute('height','1'); \n",
       "newElement.setAttribute('x','15'); \n",
       "newElement.setAttribute('y','7'); \n",
       "newElement.style.fill = 'green'; \n",
       "svg.appendChild(newElement);\n",
       "newElement = document.createElementNS(\"http://www.w3.org/2000/svg\", 'rect'); \n",
       "newElement.setAttribute('width','1'); \n",
       "newElement.setAttribute('height','1'); \n",
       "newElement.setAttribute('x','16'); \n",
       "newElement.setAttribute('y','7'); \n",
       "newElement.style.fill = 'green'; \n",
       "svg.appendChild(newElement);\n",
       "newElement = document.createElementNS(\"http://www.w3.org/2000/svg\", 'rect'); \n",
       "newElement.setAttribute('width','1'); \n",
       "newElement.setAttribute('height','1'); \n",
       "newElement.setAttribute('x','0'); \n",
       "newElement.setAttribute('y','8'); \n",
       "newElement.style.fill = 'green'; \n",
       "svg.appendChild(newElement);\n",
       "newElement = document.createElementNS(\"http://www.w3.org/2000/svg\", 'rect'); \n",
       "newElement.setAttribute('width','1'); \n",
       "newElement.setAttribute('height','1'); \n",
       "newElement.setAttribute('x','1'); \n",
       "newElement.setAttribute('y','8'); \n",
       "newElement.style.fill = 'green'; \n",
       "svg.appendChild(newElement);\n",
       "newElement = document.createElementNS(\"http://www.w3.org/2000/svg\", 'rect'); \n",
       "newElement.setAttribute('width','1'); \n",
       "newElement.setAttribute('height','1'); \n",
       "newElement.setAttribute('x','2'); \n",
       "newElement.setAttribute('y','8'); \n",
       "newElement.style.fill = 'black'; \n",
       "svg.appendChild(newElement);\n",
       "newElement = document.createElementNS(\"http://www.w3.org/2000/svg\", 'rect'); \n",
       "newElement.setAttribute('width','1'); \n",
       "newElement.setAttribute('height','1'); \n",
       "newElement.setAttribute('x','3'); \n",
       "newElement.setAttribute('y','8'); \n",
       "newElement.style.fill = 'black'; \n",
       "svg.appendChild(newElement);\n",
       "newElement = document.createElementNS(\"http://www.w3.org/2000/svg\", 'rect'); \n",
       "newElement.setAttribute('width','1'); \n",
       "newElement.setAttribute('height','1'); \n",
       "newElement.setAttribute('x','4'); \n",
       "newElement.setAttribute('y','8'); \n",
       "newElement.style.fill = 'black'; \n",
       "svg.appendChild(newElement);\n",
       "newElement = document.createElementNS(\"http://www.w3.org/2000/svg\", 'rect'); \n",
       "newElement.setAttribute('width','1'); \n",
       "newElement.setAttribute('height','1'); \n",
       "newElement.setAttribute('x','5'); \n",
       "newElement.setAttribute('y','8'); \n",
       "newElement.style.fill = 'black'; \n",
       "svg.appendChild(newElement);\n",
       "newElement = document.createElementNS(\"http://www.w3.org/2000/svg\", 'rect'); \n",
       "newElement.setAttribute('width','1'); \n",
       "newElement.setAttribute('height','1'); \n",
       "newElement.setAttribute('x','6'); \n",
       "newElement.setAttribute('y','8'); \n",
       "newElement.style.fill = 'black'; \n",
       "svg.appendChild(newElement);\n",
       "newElement = document.createElementNS(\"http://www.w3.org/2000/svg\", 'rect'); \n",
       "newElement.setAttribute('width','1'); \n",
       "newElement.setAttribute('height','1'); \n",
       "newElement.setAttribute('x','7'); \n",
       "newElement.setAttribute('y','8'); \n",
       "newElement.style.fill = 'green'; \n",
       "svg.appendChild(newElement);\n",
       "newElement = document.createElementNS(\"http://www.w3.org/2000/svg\", 'rect'); \n",
       "newElement.setAttribute('width','1'); \n",
       "newElement.setAttribute('height','1'); \n",
       "newElement.setAttribute('x','8'); \n",
       "newElement.setAttribute('y','8'); \n",
       "newElement.style.fill = 'green'; \n",
       "svg.appendChild(newElement);\n",
       "newElement = document.createElementNS(\"http://www.w3.org/2000/svg\", 'rect'); \n",
       "newElement.setAttribute('width','1'); \n",
       "newElement.setAttribute('height','1'); \n",
       "newElement.setAttribute('x','9'); \n",
       "newElement.setAttribute('y','8'); \n",
       "newElement.style.fill = 'green'; \n",
       "svg.appendChild(newElement);\n",
       "newElement = document.createElementNS(\"http://www.w3.org/2000/svg\", 'rect'); \n",
       "newElement.setAttribute('width','1'); \n",
       "newElement.setAttribute('height','1'); \n",
       "newElement.setAttribute('x','10'); \n",
       "newElement.setAttribute('y','8'); \n",
       "newElement.style.fill = 'green'; \n",
       "svg.appendChild(newElement);\n",
       "newElement = document.createElementNS(\"http://www.w3.org/2000/svg\", 'rect'); \n",
       "newElement.setAttribute('width','1'); \n",
       "newElement.setAttribute('height','1'); \n",
       "newElement.setAttribute('x','11'); \n",
       "newElement.setAttribute('y','8'); \n",
       "newElement.style.fill = 'green'; \n",
       "svg.appendChild(newElement);\n",
       "newElement = document.createElementNS(\"http://www.w3.org/2000/svg\", 'rect'); \n",
       "newElement.setAttribute('width','1'); \n",
       "newElement.setAttribute('height','1'); \n",
       "newElement.setAttribute('x','12'); \n",
       "newElement.setAttribute('y','8'); \n",
       "newElement.style.fill = 'green'; \n",
       "svg.appendChild(newElement);\n",
       "newElement = document.createElementNS(\"http://www.w3.org/2000/svg\", 'rect'); \n",
       "newElement.setAttribute('width','1'); \n",
       "newElement.setAttribute('height','1'); \n",
       "newElement.setAttribute('x','13'); \n",
       "newElement.setAttribute('y','8'); \n",
       "newElement.style.fill = 'green'; \n",
       "svg.appendChild(newElement);\n",
       "newElement = document.createElementNS(\"http://www.w3.org/2000/svg\", 'rect'); \n",
       "newElement.setAttribute('width','1'); \n",
       "newElement.setAttribute('height','1'); \n",
       "newElement.setAttribute('x','14'); \n",
       "newElement.setAttribute('y','8'); \n",
       "newElement.style.fill = 'green'; \n",
       "svg.appendChild(newElement);\n",
       "newElement = document.createElementNS(\"http://www.w3.org/2000/svg\", 'rect'); \n",
       "newElement.setAttribute('width','1'); \n",
       "newElement.setAttribute('height','1'); \n",
       "newElement.setAttribute('x','15'); \n",
       "newElement.setAttribute('y','8'); \n",
       "newElement.style.fill = 'green'; \n",
       "svg.appendChild(newElement);\n",
       "newElement = document.createElementNS(\"http://www.w3.org/2000/svg\", 'rect'); \n",
       "newElement.setAttribute('width','1'); \n",
       "newElement.setAttribute('height','1'); \n",
       "newElement.setAttribute('x','16'); \n",
       "newElement.setAttribute('y','8'); \n",
       "newElement.style.fill = 'green'; \n",
       "svg.appendChild(newElement);\n",
       "newElement = document.createElementNS(\"http://www.w3.org/2000/svg\", 'rect'); \n",
       "newElement.setAttribute('width','1'); \n",
       "newElement.setAttribute('height','1'); \n",
       "newElement.setAttribute('x','0'); \n",
       "newElement.setAttribute('y','9'); \n",
       "newElement.style.fill = 'green'; \n",
       "svg.appendChild(newElement);\n",
       "newElement = document.createElementNS(\"http://www.w3.org/2000/svg\", 'rect'); \n",
       "newElement.setAttribute('width','1'); \n",
       "newElement.setAttribute('height','1'); \n",
       "newElement.setAttribute('x','1'); \n",
       "newElement.setAttribute('y','9'); \n",
       "newElement.style.fill = 'green'; \n",
       "svg.appendChild(newElement);\n",
       "newElement = document.createElementNS(\"http://www.w3.org/2000/svg\", 'rect'); \n",
       "newElement.setAttribute('width','1'); \n",
       "newElement.setAttribute('height','1'); \n",
       "newElement.setAttribute('x','2'); \n",
       "newElement.setAttribute('y','9'); \n",
       "newElement.style.fill = 'black'; \n",
       "svg.appendChild(newElement);\n",
       "newElement = document.createElementNS(\"http://www.w3.org/2000/svg\", 'rect'); \n",
       "newElement.setAttribute('width','1'); \n",
       "newElement.setAttribute('height','1'); \n",
       "newElement.setAttribute('x','3'); \n",
       "newElement.setAttribute('y','9'); \n",
       "newElement.style.fill = 'black'; \n",
       "svg.appendChild(newElement);\n",
       "newElement = document.createElementNS(\"http://www.w3.org/2000/svg\", 'rect'); \n",
       "newElement.setAttribute('width','1'); \n",
       "newElement.setAttribute('height','1'); \n",
       "newElement.setAttribute('x','4'); \n",
       "newElement.setAttribute('y','9'); \n",
       "newElement.style.fill = 'black'; \n",
       "svg.appendChild(newElement);\n",
       "newElement = document.createElementNS(\"http://www.w3.org/2000/svg\", 'rect'); \n",
       "newElement.setAttribute('width','1'); \n",
       "newElement.setAttribute('height','1'); \n",
       "newElement.setAttribute('x','5'); \n",
       "newElement.setAttribute('y','9'); \n",
       "newElement.style.fill = 'black'; \n",
       "svg.appendChild(newElement);\n",
       "newElement = document.createElementNS(\"http://www.w3.org/2000/svg\", 'rect'); \n",
       "newElement.setAttribute('width','1'); \n",
       "newElement.setAttribute('height','1'); \n",
       "newElement.setAttribute('x','6'); \n",
       "newElement.setAttribute('y','9'); \n",
       "newElement.style.fill = 'black'; \n",
       "svg.appendChild(newElement);\n",
       "newElement = document.createElementNS(\"http://www.w3.org/2000/svg\", 'rect'); \n",
       "newElement.setAttribute('width','1'); \n",
       "newElement.setAttribute('height','1'); \n",
       "newElement.setAttribute('x','7'); \n",
       "newElement.setAttribute('y','9'); \n",
       "newElement.style.fill = 'green'; \n",
       "svg.appendChild(newElement);\n",
       "newElement = document.createElementNS(\"http://www.w3.org/2000/svg\", 'rect'); \n",
       "newElement.setAttribute('width','1'); \n",
       "newElement.setAttribute('height','1'); \n",
       "newElement.setAttribute('x','8'); \n",
       "newElement.setAttribute('y','9'); \n",
       "newElement.style.fill = 'green'; \n",
       "svg.appendChild(newElement);\n",
       "newElement = document.createElementNS(\"http://www.w3.org/2000/svg\", 'rect'); \n",
       "newElement.setAttribute('width','1'); \n",
       "newElement.setAttribute('height','1'); \n",
       "newElement.setAttribute('x','9'); \n",
       "newElement.setAttribute('y','9'); \n",
       "newElement.style.fill = 'green'; \n",
       "svg.appendChild(newElement);\n",
       "newElement = document.createElementNS(\"http://www.w3.org/2000/svg\", 'rect'); \n",
       "newElement.setAttribute('width','1'); \n",
       "newElement.setAttribute('height','1'); \n",
       "newElement.setAttribute('x','10'); \n",
       "newElement.setAttribute('y','9'); \n",
       "newElement.style.fill = 'green'; \n",
       "svg.appendChild(newElement);\n",
       "newElement = document.createElementNS(\"http://www.w3.org/2000/svg\", 'rect'); \n",
       "newElement.setAttribute('width','1'); \n",
       "newElement.setAttribute('height','1'); \n",
       "newElement.setAttribute('x','11'); \n",
       "newElement.setAttribute('y','9'); \n",
       "newElement.style.fill = 'green'; \n",
       "svg.appendChild(newElement);\n",
       "newElement = document.createElementNS(\"http://www.w3.org/2000/svg\", 'rect'); \n",
       "newElement.setAttribute('width','1'); \n",
       "newElement.setAttribute('height','1'); \n",
       "newElement.setAttribute('x','12'); \n",
       "newElement.setAttribute('y','9'); \n",
       "newElement.style.fill = 'green'; \n",
       "svg.appendChild(newElement);\n",
       "newElement = document.createElementNS(\"http://www.w3.org/2000/svg\", 'rect'); \n",
       "newElement.setAttribute('width','1'); \n",
       "newElement.setAttribute('height','1'); \n",
       "newElement.setAttribute('x','13'); \n",
       "newElement.setAttribute('y','9'); \n",
       "newElement.style.fill = 'green'; \n",
       "svg.appendChild(newElement);\n",
       "newElement = document.createElementNS(\"http://www.w3.org/2000/svg\", 'rect'); \n",
       "newElement.setAttribute('width','1'); \n",
       "newElement.setAttribute('height','1'); \n",
       "newElement.setAttribute('x','14'); \n",
       "newElement.setAttribute('y','9'); \n",
       "newElement.style.fill = 'green'; \n",
       "svg.appendChild(newElement);\n",
       "newElement = document.createElementNS(\"http://www.w3.org/2000/svg\", 'rect'); \n",
       "newElement.setAttribute('width','1'); \n",
       "newElement.setAttribute('height','1'); \n",
       "newElement.setAttribute('x','15'); \n",
       "newElement.setAttribute('y','9'); \n",
       "newElement.style.fill = 'green'; \n",
       "svg.appendChild(newElement);\n",
       "newElement = document.createElementNS(\"http://www.w3.org/2000/svg\", 'rect'); \n",
       "newElement.setAttribute('width','1'); \n",
       "newElement.setAttribute('height','1'); \n",
       "newElement.setAttribute('x','16'); \n",
       "newElement.setAttribute('y','9'); \n",
       "newElement.style.fill = 'green'; \n",
       "svg.appendChild(newElement);\n",
       "newElement = document.createElementNS(\"http://www.w3.org/2000/svg\", 'rect'); \n",
       "newElement.setAttribute('width','1'); \n",
       "newElement.setAttribute('height','1'); \n",
       "newElement.setAttribute('x','0'); \n",
       "newElement.setAttribute('y','10'); \n",
       "newElement.style.fill = 'green'; \n",
       "svg.appendChild(newElement);\n",
       "newElement = document.createElementNS(\"http://www.w3.org/2000/svg\", 'rect'); \n",
       "newElement.setAttribute('width','1'); \n",
       "newElement.setAttribute('height','1'); \n",
       "newElement.setAttribute('x','1'); \n",
       "newElement.setAttribute('y','10'); \n",
       "newElement.style.fill = 'green'; \n",
       "svg.appendChild(newElement);\n",
       "newElement = document.createElementNS(\"http://www.w3.org/2000/svg\", 'rect'); \n",
       "newElement.setAttribute('width','1'); \n",
       "newElement.setAttribute('height','1'); \n",
       "newElement.setAttribute('x','2'); \n",
       "newElement.setAttribute('y','10'); \n",
       "newElement.style.fill = 'black'; \n",
       "svg.appendChild(newElement);\n",
       "newElement = document.createElementNS(\"http://www.w3.org/2000/svg\", 'rect'); \n",
       "newElement.setAttribute('width','1'); \n",
       "newElement.setAttribute('height','1'); \n",
       "newElement.setAttribute('x','3'); \n",
       "newElement.setAttribute('y','10'); \n",
       "newElement.style.fill = 'black'; \n",
       "svg.appendChild(newElement);\n",
       "newElement = document.createElementNS(\"http://www.w3.org/2000/svg\", 'rect'); \n",
       "newElement.setAttribute('width','1'); \n",
       "newElement.setAttribute('height','1'); \n",
       "newElement.setAttribute('x','4'); \n",
       "newElement.setAttribute('y','10'); \n",
       "newElement.style.fill = 'black'; \n",
       "svg.appendChild(newElement);\n",
       "newElement = document.createElementNS(\"http://www.w3.org/2000/svg\", 'rect'); \n",
       "newElement.setAttribute('width','1'); \n",
       "newElement.setAttribute('height','1'); \n",
       "newElement.setAttribute('x','5'); \n",
       "newElement.setAttribute('y','10'); \n",
       "newElement.style.fill = 'black'; \n",
       "svg.appendChild(newElement);\n",
       "newElement = document.createElementNS(\"http://www.w3.org/2000/svg\", 'rect'); \n",
       "newElement.setAttribute('width','1'); \n",
       "newElement.setAttribute('height','1'); \n",
       "newElement.setAttribute('x','6'); \n",
       "newElement.setAttribute('y','10'); \n",
       "newElement.style.fill = 'green'; \n",
       "svg.appendChild(newElement);\n",
       "newElement = document.createElementNS(\"http://www.w3.org/2000/svg\", 'rect'); \n",
       "newElement.setAttribute('width','1'); \n",
       "newElement.setAttribute('height','1'); \n",
       "newElement.setAttribute('x','7'); \n",
       "newElement.setAttribute('y','10'); \n",
       "newElement.style.fill = 'green'; \n",
       "svg.appendChild(newElement);\n",
       "newElement = document.createElementNS(\"http://www.w3.org/2000/svg\", 'rect'); \n",
       "newElement.setAttribute('width','1'); \n",
       "newElement.setAttribute('height','1'); \n",
       "newElement.setAttribute('x','8'); \n",
       "newElement.setAttribute('y','10'); \n",
       "newElement.style.fill = 'green'; \n",
       "svg.appendChild(newElement);\n",
       "newElement = document.createElementNS(\"http://www.w3.org/2000/svg\", 'rect'); \n",
       "newElement.setAttribute('width','1'); \n",
       "newElement.setAttribute('height','1'); \n",
       "newElement.setAttribute('x','9'); \n",
       "newElement.setAttribute('y','10'); \n",
       "newElement.style.fill = 'green'; \n",
       "svg.appendChild(newElement);\n",
       "newElement = document.createElementNS(\"http://www.w3.org/2000/svg\", 'rect'); \n",
       "newElement.setAttribute('width','1'); \n",
       "newElement.setAttribute('height','1'); \n",
       "newElement.setAttribute('x','10'); \n",
       "newElement.setAttribute('y','10'); \n",
       "newElement.style.fill = 'green'; \n",
       "svg.appendChild(newElement);\n",
       "newElement = document.createElementNS(\"http://www.w3.org/2000/svg\", 'rect'); \n",
       "newElement.setAttribute('width','1'); \n",
       "newElement.setAttribute('height','1'); \n",
       "newElement.setAttribute('x','11'); \n",
       "newElement.setAttribute('y','10'); \n",
       "newElement.style.fill = 'green'; \n",
       "svg.appendChild(newElement);\n",
       "newElement = document.createElementNS(\"http://www.w3.org/2000/svg\", 'rect'); \n",
       "newElement.setAttribute('width','1'); \n",
       "newElement.setAttribute('height','1'); \n",
       "newElement.setAttribute('x','12'); \n",
       "newElement.setAttribute('y','10'); \n",
       "newElement.style.fill = 'green'; \n",
       "svg.appendChild(newElement);\n",
       "newElement = document.createElementNS(\"http://www.w3.org/2000/svg\", 'rect'); \n",
       "newElement.setAttribute('width','1'); \n",
       "newElement.setAttribute('height','1'); \n",
       "newElement.setAttribute('x','13'); \n",
       "newElement.setAttribute('y','10'); \n",
       "newElement.style.fill = 'green'; \n",
       "svg.appendChild(newElement);\n",
       "newElement = document.createElementNS(\"http://www.w3.org/2000/svg\", 'rect'); \n",
       "newElement.setAttribute('width','1'); \n",
       "newElement.setAttribute('height','1'); \n",
       "newElement.setAttribute('x','14'); \n",
       "newElement.setAttribute('y','10'); \n",
       "newElement.style.fill = 'green'; \n",
       "svg.appendChild(newElement);\n",
       "newElement = document.createElementNS(\"http://www.w3.org/2000/svg\", 'rect'); \n",
       "newElement.setAttribute('width','1'); \n",
       "newElement.setAttribute('height','1'); \n",
       "newElement.setAttribute('x','15'); \n",
       "newElement.setAttribute('y','10'); \n",
       "newElement.style.fill = 'green'; \n",
       "svg.appendChild(newElement);\n",
       "newElement = document.createElementNS(\"http://www.w3.org/2000/svg\", 'rect'); \n",
       "newElement.setAttribute('width','1'); \n",
       "newElement.setAttribute('height','1'); \n",
       "newElement.setAttribute('x','16'); \n",
       "newElement.setAttribute('y','10'); \n",
       "newElement.style.fill = 'green'; \n",
       "svg.appendChild(newElement);\n",
       "newElement = document.createElementNS(\"http://www.w3.org/2000/svg\", 'rect'); \n",
       "newElement.setAttribute('width','1'); \n",
       "newElement.setAttribute('height','1'); \n",
       "newElement.setAttribute('x','0'); \n",
       "newElement.setAttribute('y','11'); \n",
       "newElement.style.fill = 'green'; \n",
       "svg.appendChild(newElement);\n",
       "newElement = document.createElementNS(\"http://www.w3.org/2000/svg\", 'rect'); \n",
       "newElement.setAttribute('width','1'); \n",
       "newElement.setAttribute('height','1'); \n",
       "newElement.setAttribute('x','1'); \n",
       "newElement.setAttribute('y','11'); \n",
       "newElement.style.fill = 'green'; \n",
       "svg.appendChild(newElement);\n",
       "newElement = document.createElementNS(\"http://www.w3.org/2000/svg\", 'rect'); \n",
       "newElement.setAttribute('width','1'); \n",
       "newElement.setAttribute('height','1'); \n",
       "newElement.setAttribute('x','2'); \n",
       "newElement.setAttribute('y','11'); \n",
       "newElement.style.fill = 'black'; \n",
       "svg.appendChild(newElement);\n",
       "newElement = document.createElementNS(\"http://www.w3.org/2000/svg\", 'rect'); \n",
       "newElement.setAttribute('width','1'); \n",
       "newElement.setAttribute('height','1'); \n",
       "newElement.setAttribute('x','3'); \n",
       "newElement.setAttribute('y','11'); \n",
       "newElement.style.fill = 'black'; \n",
       "svg.appendChild(newElement);\n",
       "newElement = document.createElementNS(\"http://www.w3.org/2000/svg\", 'rect'); \n",
       "newElement.setAttribute('width','1'); \n",
       "newElement.setAttribute('height','1'); \n",
       "newElement.setAttribute('x','4'); \n",
       "newElement.setAttribute('y','11'); \n",
       "newElement.style.fill = 'black'; \n",
       "svg.appendChild(newElement);\n",
       "newElement = document.createElementNS(\"http://www.w3.org/2000/svg\", 'rect'); \n",
       "newElement.setAttribute('width','1'); \n",
       "newElement.setAttribute('height','1'); \n",
       "newElement.setAttribute('x','5'); \n",
       "newElement.setAttribute('y','11'); \n",
       "newElement.style.fill = 'black'; \n",
       "svg.appendChild(newElement);\n",
       "newElement = document.createElementNS(\"http://www.w3.org/2000/svg\", 'rect'); \n",
       "newElement.setAttribute('width','1'); \n",
       "newElement.setAttribute('height','1'); \n",
       "newElement.setAttribute('x','6'); \n",
       "newElement.setAttribute('y','11'); \n",
       "newElement.style.fill = 'green'; \n",
       "svg.appendChild(newElement);\n",
       "newElement = document.createElementNS(\"http://www.w3.org/2000/svg\", 'rect'); \n",
       "newElement.setAttribute('width','1'); \n",
       "newElement.setAttribute('height','1'); \n",
       "newElement.setAttribute('x','7'); \n",
       "newElement.setAttribute('y','11'); \n",
       "newElement.style.fill = 'green'; \n",
       "svg.appendChild(newElement);\n",
       "newElement = document.createElementNS(\"http://www.w3.org/2000/svg\", 'rect'); \n",
       "newElement.setAttribute('width','1'); \n",
       "newElement.setAttribute('height','1'); \n",
       "newElement.setAttribute('x','8'); \n",
       "newElement.setAttribute('y','11'); \n",
       "newElement.style.fill = 'green'; \n",
       "svg.appendChild(newElement);\n",
       "newElement = document.createElementNS(\"http://www.w3.org/2000/svg\", 'rect'); \n",
       "newElement.setAttribute('width','1'); \n",
       "newElement.setAttribute('height','1'); \n",
       "newElement.setAttribute('x','9'); \n",
       "newElement.setAttribute('y','11'); \n",
       "newElement.style.fill = 'green'; \n",
       "svg.appendChild(newElement);\n",
       "newElement = document.createElementNS(\"http://www.w3.org/2000/svg\", 'rect'); \n",
       "newElement.setAttribute('width','1'); \n",
       "newElement.setAttribute('height','1'); \n",
       "newElement.setAttribute('x','10'); \n",
       "newElement.setAttribute('y','11'); \n",
       "newElement.style.fill = 'green'; \n",
       "svg.appendChild(newElement);\n",
       "newElement = document.createElementNS(\"http://www.w3.org/2000/svg\", 'rect'); \n",
       "newElement.setAttribute('width','1'); \n",
       "newElement.setAttribute('height','1'); \n",
       "newElement.setAttribute('x','11'); \n",
       "newElement.setAttribute('y','11'); \n",
       "newElement.style.fill = 'green'; \n",
       "svg.appendChild(newElement);\n",
       "newElement = document.createElementNS(\"http://www.w3.org/2000/svg\", 'rect'); \n",
       "newElement.setAttribute('width','1'); \n",
       "newElement.setAttribute('height','1'); \n",
       "newElement.setAttribute('x','12'); \n",
       "newElement.setAttribute('y','11'); \n",
       "newElement.style.fill = 'green'; \n",
       "svg.appendChild(newElement);\n",
       "newElement = document.createElementNS(\"http://www.w3.org/2000/svg\", 'rect'); \n",
       "newElement.setAttribute('width','1'); \n",
       "newElement.setAttribute('height','1'); \n",
       "newElement.setAttribute('x','13'); \n",
       "newElement.setAttribute('y','11'); \n",
       "newElement.style.fill = 'green'; \n",
       "svg.appendChild(newElement);\n",
       "newElement = document.createElementNS(\"http://www.w3.org/2000/svg\", 'rect'); \n",
       "newElement.setAttribute('width','1'); \n",
       "newElement.setAttribute('height','1'); \n",
       "newElement.setAttribute('x','14'); \n",
       "newElement.setAttribute('y','11'); \n",
       "newElement.style.fill = 'green'; \n",
       "svg.appendChild(newElement);\n",
       "newElement = document.createElementNS(\"http://www.w3.org/2000/svg\", 'rect'); \n",
       "newElement.setAttribute('width','1'); \n",
       "newElement.setAttribute('height','1'); \n",
       "newElement.setAttribute('x','15'); \n",
       "newElement.setAttribute('y','11'); \n",
       "newElement.style.fill = 'green'; \n",
       "svg.appendChild(newElement);\n",
       "newElement = document.createElementNS(\"http://www.w3.org/2000/svg\", 'rect'); \n",
       "newElement.setAttribute('width','1'); \n",
       "newElement.setAttribute('height','1'); \n",
       "newElement.setAttribute('x','16'); \n",
       "newElement.setAttribute('y','11'); \n",
       "newElement.style.fill = 'green'; \n",
       "svg.appendChild(newElement);\n",
       "newElement = document.createElementNS(\"http://www.w3.org/2000/svg\", 'rect'); \n",
       "newElement.setAttribute('width','1'); \n",
       "newElement.setAttribute('height','1'); \n",
       "newElement.setAttribute('x','0'); \n",
       "newElement.setAttribute('y','12'); \n",
       "newElement.style.fill = 'green'; \n",
       "svg.appendChild(newElement);\n",
       "newElement = document.createElementNS(\"http://www.w3.org/2000/svg\", 'rect'); \n",
       "newElement.setAttribute('width','1'); \n",
       "newElement.setAttribute('height','1'); \n",
       "newElement.setAttribute('x','1'); \n",
       "newElement.setAttribute('y','12'); \n",
       "newElement.style.fill = 'green'; \n",
       "svg.appendChild(newElement);\n",
       "newElement = document.createElementNS(\"http://www.w3.org/2000/svg\", 'rect'); \n",
       "newElement.setAttribute('width','1'); \n",
       "newElement.setAttribute('height','1'); \n",
       "newElement.setAttribute('x','2'); \n",
       "newElement.setAttribute('y','12'); \n",
       "newElement.style.fill = 'black'; \n",
       "svg.appendChild(newElement);\n",
       "newElement = document.createElementNS(\"http://www.w3.org/2000/svg\", 'rect'); \n",
       "newElement.setAttribute('width','1'); \n",
       "newElement.setAttribute('height','1'); \n",
       "newElement.setAttribute('x','3'); \n",
       "newElement.setAttribute('y','12'); \n",
       "newElement.style.fill = 'black'; \n",
       "svg.appendChild(newElement);\n",
       "newElement = document.createElementNS(\"http://www.w3.org/2000/svg\", 'rect'); \n",
       "newElement.setAttribute('width','1'); \n",
       "newElement.setAttribute('height','1'); \n",
       "newElement.setAttribute('x','4'); \n",
       "newElement.setAttribute('y','12'); \n",
       "newElement.style.fill = 'black'; \n",
       "svg.appendChild(newElement);\n",
       "newElement = document.createElementNS(\"http://www.w3.org/2000/svg\", 'rect'); \n",
       "newElement.setAttribute('width','1'); \n",
       "newElement.setAttribute('height','1'); \n",
       "newElement.setAttribute('x','5'); \n",
       "newElement.setAttribute('y','12'); \n",
       "newElement.style.fill = 'black'; \n",
       "svg.appendChild(newElement);\n",
       "newElement = document.createElementNS(\"http://www.w3.org/2000/svg\", 'rect'); \n",
       "newElement.setAttribute('width','1'); \n",
       "newElement.setAttribute('height','1'); \n",
       "newElement.setAttribute('x','6'); \n",
       "newElement.setAttribute('y','12'); \n",
       "newElement.style.fill = 'green'; \n",
       "svg.appendChild(newElement);\n",
       "newElement = document.createElementNS(\"http://www.w3.org/2000/svg\", 'rect'); \n",
       "newElement.setAttribute('width','1'); \n",
       "newElement.setAttribute('height','1'); \n",
       "newElement.setAttribute('x','7'); \n",
       "newElement.setAttribute('y','12'); \n",
       "newElement.style.fill = 'green'; \n",
       "svg.appendChild(newElement);\n",
       "newElement = document.createElementNS(\"http://www.w3.org/2000/svg\", 'rect'); \n",
       "newElement.setAttribute('width','1'); \n",
       "newElement.setAttribute('height','1'); \n",
       "newElement.setAttribute('x','8'); \n",
       "newElement.setAttribute('y','12'); \n",
       "newElement.style.fill = 'green'; \n",
       "svg.appendChild(newElement);\n",
       "newElement = document.createElementNS(\"http://www.w3.org/2000/svg\", 'rect'); \n",
       "newElement.setAttribute('width','1'); \n",
       "newElement.setAttribute('height','1'); \n",
       "newElement.setAttribute('x','9'); \n",
       "newElement.setAttribute('y','12'); \n",
       "newElement.style.fill = 'green'; \n",
       "svg.appendChild(newElement);\n",
       "newElement = document.createElementNS(\"http://www.w3.org/2000/svg\", 'rect'); \n",
       "newElement.setAttribute('width','1'); \n",
       "newElement.setAttribute('height','1'); \n",
       "newElement.setAttribute('x','10'); \n",
       "newElement.setAttribute('y','12'); \n",
       "newElement.style.fill = 'green'; \n",
       "svg.appendChild(newElement);\n",
       "newElement = document.createElementNS(\"http://www.w3.org/2000/svg\", 'rect'); \n",
       "newElement.setAttribute('width','1'); \n",
       "newElement.setAttribute('height','1'); \n",
       "newElement.setAttribute('x','11'); \n",
       "newElement.setAttribute('y','12'); \n",
       "newElement.style.fill = 'green'; \n",
       "svg.appendChild(newElement);\n",
       "newElement = document.createElementNS(\"http://www.w3.org/2000/svg\", 'rect'); \n",
       "newElement.setAttribute('width','1'); \n",
       "newElement.setAttribute('height','1'); \n",
       "newElement.setAttribute('x','12'); \n",
       "newElement.setAttribute('y','12'); \n",
       "newElement.style.fill = 'green'; \n",
       "svg.appendChild(newElement);\n",
       "newElement = document.createElementNS(\"http://www.w3.org/2000/svg\", 'rect'); \n",
       "newElement.setAttribute('width','1'); \n",
       "newElement.setAttribute('height','1'); \n",
       "newElement.setAttribute('x','13'); \n",
       "newElement.setAttribute('y','12'); \n",
       "newElement.style.fill = 'green'; \n",
       "svg.appendChild(newElement);\n",
       "newElement = document.createElementNS(\"http://www.w3.org/2000/svg\", 'rect'); \n",
       "newElement.setAttribute('width','1'); \n",
       "newElement.setAttribute('height','1'); \n",
       "newElement.setAttribute('x','14'); \n",
       "newElement.setAttribute('y','12'); \n",
       "newElement.style.fill = 'green'; \n",
       "svg.appendChild(newElement);\n",
       "newElement = document.createElementNS(\"http://www.w3.org/2000/svg\", 'rect'); \n",
       "newElement.setAttribute('width','1'); \n",
       "newElement.setAttribute('height','1'); \n",
       "newElement.setAttribute('x','15'); \n",
       "newElement.setAttribute('y','12'); \n",
       "newElement.style.fill = 'green'; \n",
       "svg.appendChild(newElement);\n",
       "newElement = document.createElementNS(\"http://www.w3.org/2000/svg\", 'rect'); \n",
       "newElement.setAttribute('width','1'); \n",
       "newElement.setAttribute('height','1'); \n",
       "newElement.setAttribute('x','16'); \n",
       "newElement.setAttribute('y','12'); \n",
       "newElement.style.fill = 'green'; \n",
       "svg.appendChild(newElement);\n",
       "newElement = document.createElementNS(\"http://www.w3.org/2000/svg\", 'rect'); \n",
       "newElement.setAttribute('width','1'); \n",
       "newElement.setAttribute('height','1'); \n",
       "newElement.setAttribute('x','0'); \n",
       "newElement.setAttribute('y','13'); \n",
       "newElement.style.fill = 'green'; \n",
       "svg.appendChild(newElement);\n",
       "newElement = document.createElementNS(\"http://www.w3.org/2000/svg\", 'rect'); \n",
       "newElement.setAttribute('width','1'); \n",
       "newElement.setAttribute('height','1'); \n",
       "newElement.setAttribute('x','1'); \n",
       "newElement.setAttribute('y','13'); \n",
       "newElement.style.fill = 'green'; \n",
       "svg.appendChild(newElement);\n",
       "newElement = document.createElementNS(\"http://www.w3.org/2000/svg\", 'rect'); \n",
       "newElement.setAttribute('width','1'); \n",
       "newElement.setAttribute('height','1'); \n",
       "newElement.setAttribute('x','2'); \n",
       "newElement.setAttribute('y','13'); \n",
       "newElement.style.fill = 'black'; \n",
       "svg.appendChild(newElement);\n",
       "newElement = document.createElementNS(\"http://www.w3.org/2000/svg\", 'rect'); \n",
       "newElement.setAttribute('width','1'); \n",
       "newElement.setAttribute('height','1'); \n",
       "newElement.setAttribute('x','3'); \n",
       "newElement.setAttribute('y','13'); \n",
       "newElement.style.fill = 'black'; \n",
       "svg.appendChild(newElement);\n",
       "newElement = document.createElementNS(\"http://www.w3.org/2000/svg\", 'rect'); \n",
       "newElement.setAttribute('width','1'); \n",
       "newElement.setAttribute('height','1'); \n",
       "newElement.setAttribute('x','4'); \n",
       "newElement.setAttribute('y','13'); \n",
       "newElement.style.fill = 'black'; \n",
       "svg.appendChild(newElement);\n",
       "newElement = document.createElementNS(\"http://www.w3.org/2000/svg\", 'rect'); \n",
       "newElement.setAttribute('width','1'); \n",
       "newElement.setAttribute('height','1'); \n",
       "newElement.setAttribute('x','5'); \n",
       "newElement.setAttribute('y','13'); \n",
       "newElement.style.fill = 'black'; \n",
       "svg.appendChild(newElement);\n",
       "newElement = document.createElementNS(\"http://www.w3.org/2000/svg\", 'rect'); \n",
       "newElement.setAttribute('width','1'); \n",
       "newElement.setAttribute('height','1'); \n",
       "newElement.setAttribute('x','6'); \n",
       "newElement.setAttribute('y','13'); \n",
       "newElement.style.fill = 'green'; \n",
       "svg.appendChild(newElement);\n",
       "newElement = document.createElementNS(\"http://www.w3.org/2000/svg\", 'rect'); \n",
       "newElement.setAttribute('width','1'); \n",
       "newElement.setAttribute('height','1'); \n",
       "newElement.setAttribute('x','7'); \n",
       "newElement.setAttribute('y','13'); \n",
       "newElement.style.fill = 'green'; \n",
       "svg.appendChild(newElement);\n",
       "newElement = document.createElementNS(\"http://www.w3.org/2000/svg\", 'rect'); \n",
       "newElement.setAttribute('width','1'); \n",
       "newElement.setAttribute('height','1'); \n",
       "newElement.setAttribute('x','8'); \n",
       "newElement.setAttribute('y','13'); \n",
       "newElement.style.fill = 'green'; \n",
       "svg.appendChild(newElement);\n",
       "newElement = document.createElementNS(\"http://www.w3.org/2000/svg\", 'rect'); \n",
       "newElement.setAttribute('width','1'); \n",
       "newElement.setAttribute('height','1'); \n",
       "newElement.setAttribute('x','9'); \n",
       "newElement.setAttribute('y','13'); \n",
       "newElement.style.fill = 'green'; \n",
       "svg.appendChild(newElement);\n",
       "newElement = document.createElementNS(\"http://www.w3.org/2000/svg\", 'rect'); \n",
       "newElement.setAttribute('width','1'); \n",
       "newElement.setAttribute('height','1'); \n",
       "newElement.setAttribute('x','10'); \n",
       "newElement.setAttribute('y','13'); \n",
       "newElement.style.fill = 'green'; \n",
       "svg.appendChild(newElement);\n",
       "newElement = document.createElementNS(\"http://www.w3.org/2000/svg\", 'rect'); \n",
       "newElement.setAttribute('width','1'); \n",
       "newElement.setAttribute('height','1'); \n",
       "newElement.setAttribute('x','11'); \n",
       "newElement.setAttribute('y','13'); \n",
       "newElement.style.fill = 'green'; \n",
       "svg.appendChild(newElement);\n",
       "newElement = document.createElementNS(\"http://www.w3.org/2000/svg\", 'rect'); \n",
       "newElement.setAttribute('width','1'); \n",
       "newElement.setAttribute('height','1'); \n",
       "newElement.setAttribute('x','12'); \n",
       "newElement.setAttribute('y','13'); \n",
       "newElement.style.fill = 'green'; \n",
       "svg.appendChild(newElement);\n",
       "newElement = document.createElementNS(\"http://www.w3.org/2000/svg\", 'rect'); \n",
       "newElement.setAttribute('width','1'); \n",
       "newElement.setAttribute('height','1'); \n",
       "newElement.setAttribute('x','13'); \n",
       "newElement.setAttribute('y','13'); \n",
       "newElement.style.fill = 'green'; \n",
       "svg.appendChild(newElement);\n",
       "newElement = document.createElementNS(\"http://www.w3.org/2000/svg\", 'rect'); \n",
       "newElement.setAttribute('width','1'); \n",
       "newElement.setAttribute('height','1'); \n",
       "newElement.setAttribute('x','14'); \n",
       "newElement.setAttribute('y','13'); \n",
       "newElement.style.fill = 'green'; \n",
       "svg.appendChild(newElement);\n",
       "newElement = document.createElementNS(\"http://www.w3.org/2000/svg\", 'rect'); \n",
       "newElement.setAttribute('width','1'); \n",
       "newElement.setAttribute('height','1'); \n",
       "newElement.setAttribute('x','15'); \n",
       "newElement.setAttribute('y','13'); \n",
       "newElement.style.fill = 'green'; \n",
       "svg.appendChild(newElement);\n",
       "newElement = document.createElementNS(\"http://www.w3.org/2000/svg\", 'rect'); \n",
       "newElement.setAttribute('width','1'); \n",
       "newElement.setAttribute('height','1'); \n",
       "newElement.setAttribute('x','16'); \n",
       "newElement.setAttribute('y','13'); \n",
       "newElement.style.fill = 'green'; \n",
       "svg.appendChild(newElement);\n",
       "newElement = document.createElementNS(\"http://www.w3.org/2000/svg\", 'rect'); \n",
       "newElement.setAttribute('width','1'); \n",
       "newElement.setAttribute('height','1'); \n",
       "newElement.setAttribute('x','0'); \n",
       "newElement.setAttribute('y','14'); \n",
       "newElement.style.fill = 'green'; \n",
       "svg.appendChild(newElement);\n",
       "newElement = document.createElementNS(\"http://www.w3.org/2000/svg\", 'rect'); \n",
       "newElement.setAttribute('width','1'); \n",
       "newElement.setAttribute('height','1'); \n",
       "newElement.setAttribute('x','1'); \n",
       "newElement.setAttribute('y','14'); \n",
       "newElement.style.fill = 'green'; \n",
       "svg.appendChild(newElement);\n",
       "newElement = document.createElementNS(\"http://www.w3.org/2000/svg\", 'rect'); \n",
       "newElement.setAttribute('width','1'); \n",
       "newElement.setAttribute('height','1'); \n",
       "newElement.setAttribute('x','2'); \n",
       "newElement.setAttribute('y','14'); \n",
       "newElement.style.fill = 'black'; \n",
       "svg.appendChild(newElement);\n",
       "newElement = document.createElementNS(\"http://www.w3.org/2000/svg\", 'rect'); \n",
       "newElement.setAttribute('width','1'); \n",
       "newElement.setAttribute('height','1'); \n",
       "newElement.setAttribute('x','3'); \n",
       "newElement.setAttribute('y','14'); \n",
       "newElement.style.fill = 'black'; \n",
       "svg.appendChild(newElement);\n",
       "newElement = document.createElementNS(\"http://www.w3.org/2000/svg\", 'rect'); \n",
       "newElement.setAttribute('width','1'); \n",
       "newElement.setAttribute('height','1'); \n",
       "newElement.setAttribute('x','4'); \n",
       "newElement.setAttribute('y','14'); \n",
       "newElement.style.fill = 'black'; \n",
       "svg.appendChild(newElement);\n",
       "newElement = document.createElementNS(\"http://www.w3.org/2000/svg\", 'rect'); \n",
       "newElement.setAttribute('width','1'); \n",
       "newElement.setAttribute('height','1'); \n",
       "newElement.setAttribute('x','5'); \n",
       "newElement.setAttribute('y','14'); \n",
       "newElement.style.fill = 'black'; \n",
       "svg.appendChild(newElement);\n",
       "newElement = document.createElementNS(\"http://www.w3.org/2000/svg\", 'rect'); \n",
       "newElement.setAttribute('width','1'); \n",
       "newElement.setAttribute('height','1'); \n",
       "newElement.setAttribute('x','6'); \n",
       "newElement.setAttribute('y','14'); \n",
       "newElement.style.fill = 'green'; \n",
       "svg.appendChild(newElement);\n",
       "newElement = document.createElementNS(\"http://www.w3.org/2000/svg\", 'rect'); \n",
       "newElement.setAttribute('width','1'); \n",
       "newElement.setAttribute('height','1'); \n",
       "newElement.setAttribute('x','7'); \n",
       "newElement.setAttribute('y','14'); \n",
       "newElement.style.fill = 'green'; \n",
       "svg.appendChild(newElement);\n",
       "newElement = document.createElementNS(\"http://www.w3.org/2000/svg\", 'rect'); \n",
       "newElement.setAttribute('width','1'); \n",
       "newElement.setAttribute('height','1'); \n",
       "newElement.setAttribute('x','8'); \n",
       "newElement.setAttribute('y','14'); \n",
       "newElement.style.fill = 'green'; \n",
       "svg.appendChild(newElement);\n",
       "newElement = document.createElementNS(\"http://www.w3.org/2000/svg\", 'rect'); \n",
       "newElement.setAttribute('width','1'); \n",
       "newElement.setAttribute('height','1'); \n",
       "newElement.setAttribute('x','9'); \n",
       "newElement.setAttribute('y','14'); \n",
       "newElement.style.fill = 'green'; \n",
       "svg.appendChild(newElement);\n",
       "newElement = document.createElementNS(\"http://www.w3.org/2000/svg\", 'rect'); \n",
       "newElement.setAttribute('width','1'); \n",
       "newElement.setAttribute('height','1'); \n",
       "newElement.setAttribute('x','10'); \n",
       "newElement.setAttribute('y','14'); \n",
       "newElement.style.fill = 'green'; \n",
       "svg.appendChild(newElement);\n",
       "newElement = document.createElementNS(\"http://www.w3.org/2000/svg\", 'rect'); \n",
       "newElement.setAttribute('width','1'); \n",
       "newElement.setAttribute('height','1'); \n",
       "newElement.setAttribute('x','11'); \n",
       "newElement.setAttribute('y','14'); \n",
       "newElement.style.fill = 'green'; \n",
       "svg.appendChild(newElement);\n",
       "newElement = document.createElementNS(\"http://www.w3.org/2000/svg\", 'rect'); \n",
       "newElement.setAttribute('width','1'); \n",
       "newElement.setAttribute('height','1'); \n",
       "newElement.setAttribute('x','12'); \n",
       "newElement.setAttribute('y','14'); \n",
       "newElement.style.fill = 'green'; \n",
       "svg.appendChild(newElement);\n",
       "newElement = document.createElementNS(\"http://www.w3.org/2000/svg\", 'rect'); \n",
       "newElement.setAttribute('width','1'); \n",
       "newElement.setAttribute('height','1'); \n",
       "newElement.setAttribute('x','13'); \n",
       "newElement.setAttribute('y','14'); \n",
       "newElement.style.fill = 'green'; \n",
       "svg.appendChild(newElement);\n",
       "newElement = document.createElementNS(\"http://www.w3.org/2000/svg\", 'rect'); \n",
       "newElement.setAttribute('width','1'); \n",
       "newElement.setAttribute('height','1'); \n",
       "newElement.setAttribute('x','14'); \n",
       "newElement.setAttribute('y','14'); \n",
       "newElement.style.fill = 'green'; \n",
       "svg.appendChild(newElement);\n",
       "newElement = document.createElementNS(\"http://www.w3.org/2000/svg\", 'rect'); \n",
       "newElement.setAttribute('width','1'); \n",
       "newElement.setAttribute('height','1'); \n",
       "newElement.setAttribute('x','15'); \n",
       "newElement.setAttribute('y','14'); \n",
       "newElement.style.fill = 'green'; \n",
       "svg.appendChild(newElement);\n",
       "newElement = document.createElementNS(\"http://www.w3.org/2000/svg\", 'rect'); \n",
       "newElement.setAttribute('width','1'); \n",
       "newElement.setAttribute('height','1'); \n",
       "newElement.setAttribute('x','16'); \n",
       "newElement.setAttribute('y','14'); \n",
       "newElement.style.fill = 'green'; \n",
       "svg.appendChild(newElement);\n",
       "newElement = document.createElementNS(\"http://www.w3.org/2000/svg\", 'rect'); \n",
       "newElement.setAttribute('width','1'); \n",
       "newElement.setAttribute('height','1'); \n",
       "newElement.setAttribute('x','0'); \n",
       "newElement.setAttribute('y','15'); \n",
       "newElement.style.fill = 'green'; \n",
       "svg.appendChild(newElement);\n",
       "newElement = document.createElementNS(\"http://www.w3.org/2000/svg\", 'rect'); \n",
       "newElement.setAttribute('width','1'); \n",
       "newElement.setAttribute('height','1'); \n",
       "newElement.setAttribute('x','1'); \n",
       "newElement.setAttribute('y','15'); \n",
       "newElement.style.fill = 'green'; \n",
       "svg.appendChild(newElement);\n",
       "newElement = document.createElementNS(\"http://www.w3.org/2000/svg\", 'rect'); \n",
       "newElement.setAttribute('width','1'); \n",
       "newElement.setAttribute('height','1'); \n",
       "newElement.setAttribute('x','2'); \n",
       "newElement.setAttribute('y','15'); \n",
       "newElement.style.fill = 'black'; \n",
       "svg.appendChild(newElement);\n",
       "newElement = document.createElementNS(\"http://www.w3.org/2000/svg\", 'rect'); \n",
       "newElement.setAttribute('width','1'); \n",
       "newElement.setAttribute('height','1'); \n",
       "newElement.setAttribute('x','3'); \n",
       "newElement.setAttribute('y','15'); \n",
       "newElement.style.fill = 'black'; \n",
       "svg.appendChild(newElement);\n",
       "newElement = document.createElementNS(\"http://www.w3.org/2000/svg\", 'rect'); \n",
       "newElement.setAttribute('width','1'); \n",
       "newElement.setAttribute('height','1'); \n",
       "newElement.setAttribute('x','4'); \n",
       "newElement.setAttribute('y','15'); \n",
       "newElement.style.fill = 'black'; \n",
       "svg.appendChild(newElement);\n",
       "newElement = document.createElementNS(\"http://www.w3.org/2000/svg\", 'rect'); \n",
       "newElement.setAttribute('width','1'); \n",
       "newElement.setAttribute('height','1'); \n",
       "newElement.setAttribute('x','5'); \n",
       "newElement.setAttribute('y','15'); \n",
       "newElement.style.fill = 'black'; \n",
       "svg.appendChild(newElement);\n",
       "newElement = document.createElementNS(\"http://www.w3.org/2000/svg\", 'rect'); \n",
       "newElement.setAttribute('width','1'); \n",
       "newElement.setAttribute('height','1'); \n",
       "newElement.setAttribute('x','6'); \n",
       "newElement.setAttribute('y','15'); \n",
       "newElement.style.fill = 'green'; \n",
       "svg.appendChild(newElement);\n",
       "newElement = document.createElementNS(\"http://www.w3.org/2000/svg\", 'rect'); \n",
       "newElement.setAttribute('width','1'); \n",
       "newElement.setAttribute('height','1'); \n",
       "newElement.setAttribute('x','7'); \n",
       "newElement.setAttribute('y','15'); \n",
       "newElement.style.fill = 'green'; \n",
       "svg.appendChild(newElement);\n",
       "newElement = document.createElementNS(\"http://www.w3.org/2000/svg\", 'rect'); \n",
       "newElement.setAttribute('width','1'); \n",
       "newElement.setAttribute('height','1'); \n",
       "newElement.setAttribute('x','8'); \n",
       "newElement.setAttribute('y','15'); \n",
       "newElement.style.fill = 'green'; \n",
       "svg.appendChild(newElement);\n",
       "newElement = document.createElementNS(\"http://www.w3.org/2000/svg\", 'rect'); \n",
       "newElement.setAttribute('width','1'); \n",
       "newElement.setAttribute('height','1'); \n",
       "newElement.setAttribute('x','9'); \n",
       "newElement.setAttribute('y','15'); \n",
       "newElement.style.fill = 'green'; \n",
       "svg.appendChild(newElement);\n",
       "newElement = document.createElementNS(\"http://www.w3.org/2000/svg\", 'rect'); \n",
       "newElement.setAttribute('width','1'); \n",
       "newElement.setAttribute('height','1'); \n",
       "newElement.setAttribute('x','10'); \n",
       "newElement.setAttribute('y','15'); \n",
       "newElement.style.fill = 'green'; \n",
       "svg.appendChild(newElement);\n",
       "newElement = document.createElementNS(\"http://www.w3.org/2000/svg\", 'rect'); \n",
       "newElement.setAttribute('width','1'); \n",
       "newElement.setAttribute('height','1'); \n",
       "newElement.setAttribute('x','11'); \n",
       "newElement.setAttribute('y','15'); \n",
       "newElement.style.fill = 'green'; \n",
       "svg.appendChild(newElement);\n",
       "newElement = document.createElementNS(\"http://www.w3.org/2000/svg\", 'rect'); \n",
       "newElement.setAttribute('width','1'); \n",
       "newElement.setAttribute('height','1'); \n",
       "newElement.setAttribute('x','12'); \n",
       "newElement.setAttribute('y','15'); \n",
       "newElement.style.fill = 'green'; \n",
       "svg.appendChild(newElement);\n",
       "newElement = document.createElementNS(\"http://www.w3.org/2000/svg\", 'rect'); \n",
       "newElement.setAttribute('width','1'); \n",
       "newElement.setAttribute('height','1'); \n",
       "newElement.setAttribute('x','13'); \n",
       "newElement.setAttribute('y','15'); \n",
       "newElement.style.fill = 'green'; \n",
       "svg.appendChild(newElement);\n",
       "newElement = document.createElementNS(\"http://www.w3.org/2000/svg\", 'rect'); \n",
       "newElement.setAttribute('width','1'); \n",
       "newElement.setAttribute('height','1'); \n",
       "newElement.setAttribute('x','14'); \n",
       "newElement.setAttribute('y','15'); \n",
       "newElement.style.fill = 'green'; \n",
       "svg.appendChild(newElement);\n",
       "newElement = document.createElementNS(\"http://www.w3.org/2000/svg\", 'rect'); \n",
       "newElement.setAttribute('width','1'); \n",
       "newElement.setAttribute('height','1'); \n",
       "newElement.setAttribute('x','15'); \n",
       "newElement.setAttribute('y','15'); \n",
       "newElement.style.fill = 'green'; \n",
       "svg.appendChild(newElement);\n",
       "newElement = document.createElementNS(\"http://www.w3.org/2000/svg\", 'rect'); \n",
       "newElement.setAttribute('width','1'); \n",
       "newElement.setAttribute('height','1'); \n",
       "newElement.setAttribute('x','16'); \n",
       "newElement.setAttribute('y','15'); \n",
       "newElement.style.fill = 'green'; \n",
       "svg.appendChild(newElement);\n",
       "newElement = document.createElementNS(\"http://www.w3.org/2000/svg\", 'rect'); \n",
       "newElement.setAttribute('width','1'); \n",
       "newElement.setAttribute('height','1'); \n",
       "newElement.setAttribute('x','0'); \n",
       "newElement.setAttribute('y','16'); \n",
       "newElement.style.fill = 'green'; \n",
       "svg.appendChild(newElement);\n",
       "newElement = document.createElementNS(\"http://www.w3.org/2000/svg\", 'rect'); \n",
       "newElement.setAttribute('width','1'); \n",
       "newElement.setAttribute('height','1'); \n",
       "newElement.setAttribute('x','1'); \n",
       "newElement.setAttribute('y','16'); \n",
       "newElement.style.fill = 'green'; \n",
       "svg.appendChild(newElement);\n",
       "newElement = document.createElementNS(\"http://www.w3.org/2000/svg\", 'rect'); \n",
       "newElement.setAttribute('width','1'); \n",
       "newElement.setAttribute('height','1'); \n",
       "newElement.setAttribute('x','2'); \n",
       "newElement.setAttribute('y','16'); \n",
       "newElement.style.fill = 'black'; \n",
       "svg.appendChild(newElement);\n",
       "newElement = document.createElementNS(\"http://www.w3.org/2000/svg\", 'rect'); \n",
       "newElement.setAttribute('width','1'); \n",
       "newElement.setAttribute('height','1'); \n",
       "newElement.setAttribute('x','3'); \n",
       "newElement.setAttribute('y','16'); \n",
       "newElement.style.fill = 'black'; \n",
       "svg.appendChild(newElement);\n",
       "newElement = document.createElementNS(\"http://www.w3.org/2000/svg\", 'rect'); \n",
       "newElement.setAttribute('width','1'); \n",
       "newElement.setAttribute('height','1'); \n",
       "newElement.setAttribute('x','4'); \n",
       "newElement.setAttribute('y','16'); \n",
       "newElement.style.fill = 'black'; \n",
       "svg.appendChild(newElement);\n",
       "newElement = document.createElementNS(\"http://www.w3.org/2000/svg\", 'rect'); \n",
       "newElement.setAttribute('width','1'); \n",
       "newElement.setAttribute('height','1'); \n",
       "newElement.setAttribute('x','5'); \n",
       "newElement.setAttribute('y','16'); \n",
       "newElement.style.fill = 'black'; \n",
       "svg.appendChild(newElement);\n",
       "newElement = document.createElementNS(\"http://www.w3.org/2000/svg\", 'rect'); \n",
       "newElement.setAttribute('width','1'); \n",
       "newElement.setAttribute('height','1'); \n",
       "newElement.setAttribute('x','6'); \n",
       "newElement.setAttribute('y','16'); \n",
       "newElement.style.fill = 'green'; \n",
       "svg.appendChild(newElement);\n",
       "newElement = document.createElementNS(\"http://www.w3.org/2000/svg\", 'rect'); \n",
       "newElement.setAttribute('width','1'); \n",
       "newElement.setAttribute('height','1'); \n",
       "newElement.setAttribute('x','7'); \n",
       "newElement.setAttribute('y','16'); \n",
       "newElement.style.fill = 'green'; \n",
       "svg.appendChild(newElement);\n",
       "newElement = document.createElementNS(\"http://www.w3.org/2000/svg\", 'rect'); \n",
       "newElement.setAttribute('width','1'); \n",
       "newElement.setAttribute('height','1'); \n",
       "newElement.setAttribute('x','8'); \n",
       "newElement.setAttribute('y','16'); \n",
       "newElement.style.fill = 'green'; \n",
       "svg.appendChild(newElement);\n",
       "newElement = document.createElementNS(\"http://www.w3.org/2000/svg\", 'rect'); \n",
       "newElement.setAttribute('width','1'); \n",
       "newElement.setAttribute('height','1'); \n",
       "newElement.setAttribute('x','9'); \n",
       "newElement.setAttribute('y','16'); \n",
       "newElement.style.fill = 'green'; \n",
       "svg.appendChild(newElement);\n",
       "newElement = document.createElementNS(\"http://www.w3.org/2000/svg\", 'rect'); \n",
       "newElement.setAttribute('width','1'); \n",
       "newElement.setAttribute('height','1'); \n",
       "newElement.setAttribute('x','10'); \n",
       "newElement.setAttribute('y','16'); \n",
       "newElement.style.fill = 'green'; \n",
       "svg.appendChild(newElement);\n",
       "newElement = document.createElementNS(\"http://www.w3.org/2000/svg\", 'rect'); \n",
       "newElement.setAttribute('width','1'); \n",
       "newElement.setAttribute('height','1'); \n",
       "newElement.setAttribute('x','11'); \n",
       "newElement.setAttribute('y','16'); \n",
       "newElement.style.fill = 'green'; \n",
       "svg.appendChild(newElement);\n",
       "newElement = document.createElementNS(\"http://www.w3.org/2000/svg\", 'rect'); \n",
       "newElement.setAttribute('width','1'); \n",
       "newElement.setAttribute('height','1'); \n",
       "newElement.setAttribute('x','12'); \n",
       "newElement.setAttribute('y','16'); \n",
       "newElement.style.fill = 'green'; \n",
       "svg.appendChild(newElement);\n",
       "newElement = document.createElementNS(\"http://www.w3.org/2000/svg\", 'rect'); \n",
       "newElement.setAttribute('width','1'); \n",
       "newElement.setAttribute('height','1'); \n",
       "newElement.setAttribute('x','13'); \n",
       "newElement.setAttribute('y','16'); \n",
       "newElement.style.fill = 'green'; \n",
       "svg.appendChild(newElement);\n",
       "newElement = document.createElementNS(\"http://www.w3.org/2000/svg\", 'rect'); \n",
       "newElement.setAttribute('width','1'); \n",
       "newElement.setAttribute('height','1'); \n",
       "newElement.setAttribute('x','14'); \n",
       "newElement.setAttribute('y','16'); \n",
       "newElement.style.fill = 'green'; \n",
       "svg.appendChild(newElement);\n",
       "newElement = document.createElementNS(\"http://www.w3.org/2000/svg\", 'rect'); \n",
       "newElement.setAttribute('width','1'); \n",
       "newElement.setAttribute('height','1'); \n",
       "newElement.setAttribute('x','15'); \n",
       "newElement.setAttribute('y','16'); \n",
       "newElement.style.fill = 'green'; \n",
       "svg.appendChild(newElement);\n",
       "newElement = document.createElementNS(\"http://www.w3.org/2000/svg\", 'rect'); \n",
       "newElement.setAttribute('width','1'); \n",
       "newElement.setAttribute('height','1'); \n",
       "newElement.setAttribute('x','16'); \n",
       "newElement.setAttribute('y','16'); \n",
       "newElement.style.fill = 'green'; \n",
       "svg.appendChild(newElement);\n",
       "newElement = document.createElementNS(\"http://www.w3.org/2000/svg\", 'rect'); \n",
       "newElement.setAttribute('width','1'); \n",
       "newElement.setAttribute('height','1'); \n",
       "newElement.setAttribute('x','0'); \n",
       "newElement.setAttribute('y','17'); \n",
       "newElement.style.fill = 'green'; \n",
       "svg.appendChild(newElement);\n",
       "newElement = document.createElementNS(\"http://www.w3.org/2000/svg\", 'rect'); \n",
       "newElement.setAttribute('width','1'); \n",
       "newElement.setAttribute('height','1'); \n",
       "newElement.setAttribute('x','1'); \n",
       "newElement.setAttribute('y','17'); \n",
       "newElement.style.fill = 'green'; \n",
       "svg.appendChild(newElement);\n",
       "newElement = document.createElementNS(\"http://www.w3.org/2000/svg\", 'rect'); \n",
       "newElement.setAttribute('width','1'); \n",
       "newElement.setAttribute('height','1'); \n",
       "newElement.setAttribute('x','2'); \n",
       "newElement.setAttribute('y','17'); \n",
       "newElement.style.fill = 'black'; \n",
       "svg.appendChild(newElement);\n",
       "newElement = document.createElementNS(\"http://www.w3.org/2000/svg\", 'rect'); \n",
       "newElement.setAttribute('width','1'); \n",
       "newElement.setAttribute('height','1'); \n",
       "newElement.setAttribute('x','3'); \n",
       "newElement.setAttribute('y','17'); \n",
       "newElement.style.fill = 'black'; \n",
       "svg.appendChild(newElement);\n",
       "newElement = document.createElementNS(\"http://www.w3.org/2000/svg\", 'rect'); \n",
       "newElement.setAttribute('width','1'); \n",
       "newElement.setAttribute('height','1'); \n",
       "newElement.setAttribute('x','4'); \n",
       "newElement.setAttribute('y','17'); \n",
       "newElement.style.fill = 'black'; \n",
       "svg.appendChild(newElement);\n",
       "newElement = document.createElementNS(\"http://www.w3.org/2000/svg\", 'rect'); \n",
       "newElement.setAttribute('width','1'); \n",
       "newElement.setAttribute('height','1'); \n",
       "newElement.setAttribute('x','5'); \n",
       "newElement.setAttribute('y','17'); \n",
       "newElement.style.fill = 'black'; \n",
       "svg.appendChild(newElement);\n",
       "newElement = document.createElementNS(\"http://www.w3.org/2000/svg\", 'rect'); \n",
       "newElement.setAttribute('width','1'); \n",
       "newElement.setAttribute('height','1'); \n",
       "newElement.setAttribute('x','6'); \n",
       "newElement.setAttribute('y','17'); \n",
       "newElement.style.fill = 'green'; \n",
       "svg.appendChild(newElement);\n",
       "newElement = document.createElementNS(\"http://www.w3.org/2000/svg\", 'rect'); \n",
       "newElement.setAttribute('width','1'); \n",
       "newElement.setAttribute('height','1'); \n",
       "newElement.setAttribute('x','7'); \n",
       "newElement.setAttribute('y','17'); \n",
       "newElement.style.fill = 'green'; \n",
       "svg.appendChild(newElement);\n",
       "newElement = document.createElementNS(\"http://www.w3.org/2000/svg\", 'rect'); \n",
       "newElement.setAttribute('width','1'); \n",
       "newElement.setAttribute('height','1'); \n",
       "newElement.setAttribute('x','8'); \n",
       "newElement.setAttribute('y','17'); \n",
       "newElement.style.fill = 'green'; \n",
       "svg.appendChild(newElement);\n",
       "newElement = document.createElementNS(\"http://www.w3.org/2000/svg\", 'rect'); \n",
       "newElement.setAttribute('width','1'); \n",
       "newElement.setAttribute('height','1'); \n",
       "newElement.setAttribute('x','9'); \n",
       "newElement.setAttribute('y','17'); \n",
       "newElement.style.fill = 'green'; \n",
       "svg.appendChild(newElement);\n",
       "newElement = document.createElementNS(\"http://www.w3.org/2000/svg\", 'rect'); \n",
       "newElement.setAttribute('width','1'); \n",
       "newElement.setAttribute('height','1'); \n",
       "newElement.setAttribute('x','10'); \n",
       "newElement.setAttribute('y','17'); \n",
       "newElement.style.fill = 'green'; \n",
       "svg.appendChild(newElement);\n",
       "newElement = document.createElementNS(\"http://www.w3.org/2000/svg\", 'rect'); \n",
       "newElement.setAttribute('width','1'); \n",
       "newElement.setAttribute('height','1'); \n",
       "newElement.setAttribute('x','11'); \n",
       "newElement.setAttribute('y','17'); \n",
       "newElement.style.fill = 'green'; \n",
       "svg.appendChild(newElement);\n",
       "newElement = document.createElementNS(\"http://www.w3.org/2000/svg\", 'rect'); \n",
       "newElement.setAttribute('width','1'); \n",
       "newElement.setAttribute('height','1'); \n",
       "newElement.setAttribute('x','12'); \n",
       "newElement.setAttribute('y','17'); \n",
       "newElement.style.fill = 'green'; \n",
       "svg.appendChild(newElement);\n",
       "newElement = document.createElementNS(\"http://www.w3.org/2000/svg\", 'rect'); \n",
       "newElement.setAttribute('width','1'); \n",
       "newElement.setAttribute('height','1'); \n",
       "newElement.setAttribute('x','13'); \n",
       "newElement.setAttribute('y','17'); \n",
       "newElement.style.fill = 'green'; \n",
       "svg.appendChild(newElement);\n",
       "newElement = document.createElementNS(\"http://www.w3.org/2000/svg\", 'rect'); \n",
       "newElement.setAttribute('width','1'); \n",
       "newElement.setAttribute('height','1'); \n",
       "newElement.setAttribute('x','14'); \n",
       "newElement.setAttribute('y','17'); \n",
       "newElement.style.fill = 'green'; \n",
       "svg.appendChild(newElement);\n",
       "newElement = document.createElementNS(\"http://www.w3.org/2000/svg\", 'rect'); \n",
       "newElement.setAttribute('width','1'); \n",
       "newElement.setAttribute('height','1'); \n",
       "newElement.setAttribute('x','15'); \n",
       "newElement.setAttribute('y','17'); \n",
       "newElement.style.fill = 'green'; \n",
       "svg.appendChild(newElement);\n",
       "newElement = document.createElementNS(\"http://www.w3.org/2000/svg\", 'rect'); \n",
       "newElement.setAttribute('width','1'); \n",
       "newElement.setAttribute('height','1'); \n",
       "newElement.setAttribute('x','16'); \n",
       "newElement.setAttribute('y','17'); \n",
       "newElement.style.fill = 'green'; \n",
       "svg.appendChild(newElement);\n"
      ]
     },
     "metadata": {},
     "output_type": "display_data"
    }
   ],
   "source": [
    "h, w = size(race_track)\n",
    "pos = [[i, j] for i in 1:h for j in 1:w]\n",
    "colours = [colour_dict[race_track[x...]] for x in pos]\n",
    "race_bg = start_canvas(h, w, 300, 300)\n",
    "add_pixels(race_bg, pos, colours)"
   ]
  },
  {
   "cell_type": "code",
   "execution_count": 7,
   "metadata": {
    "collapsed": false
   },
   "outputs": [
    {
     "data": {
      "text/plain": [
       "move_racer (generic function with 1 method)"
      ]
     },
     "execution_count": 7,
     "metadata": {},
     "output_type": "execute_result"
    }
   ],
   "source": [
    "function create_racer(id::String, i::Int, j::Int, colour::String)\n",
    "    racer_id = \"racer\" * randstring(3)\n",
    "    display(\"text/html\", \"\"\"\n",
    "    <script>\n",
    "    require([\"d3\"], function(d3) {\n",
    "        var g = d3.select(\".usersvg #$id\").append(\"g\").attr(\"id\", \"$racer_id\");\n",
    "        g.append(\"circle\").style(\"fill\", \"$colour\").attr(\"r\", 0.5).attr(\"cx\", $j - 0.5).attr(\"cy\", $i - 0.5);\n",
    "    });\n",
    "    <\n",
    "    \"\"\") \n",
    "    return racer_id\n",
    "end\n",
    "function move_racer(racer_id::String, i::Int, j::Int)\n",
    "    display(\"text/html\", \"\"\"\n",
    "    <script>\n",
    "    require([\"d3\"], function(d3) {\n",
    "    d3.select(\"#$racer_id circle\").attr(\"cx\", $j).attr(\"cy\", $i);\n",
    "    });\n",
    "    \"\"\") \n",
    "end\n",
    "\n",
    "function add_circle"
   ]
  },
  {
   "cell_type": "code",
   "execution_count": 8,
   "metadata": {
    "collapsed": false
   },
   "outputs": [
    {
     "data": {
      "text/html": [
       "<script>\n",
       "require([\"d3\"], function(d3) {\n",
       "    var g = d3.select(\".usersvg #canvasANJ\").append(\"g\").attr(\"id\", \"racerFYi\");\n",
       "    g.append(\"circle\").style(\"fill\", \"red\").attr(\"r\", 0.5).attr(\"cx\", 1 - 0.5).attr(\"cy\", 1 - 0.5);\n",
       "});\n"
      ]
     },
     "metadata": {},
     "output_type": "display_data"
    },
    {
     "data": {
      "text/plain": [
       "\"racerFYi\""
      ]
     },
     "execution_count": 8,
     "metadata": {},
     "output_type": "execute_result"
    }
   ],
   "source": [
    "aracer = create_racer(race_bg, 1, 1, \"red\")"
   ]
  },
  {
   "cell_type": "code",
   "execution_count": 9,
   "metadata": {
    "collapsed": false
   },
   "outputs": [
    {
     "data": {
      "text/html": [
       "<script>\n",
       "require([\"d3\"], function(d3) {\n",
       "d3.select(\"#racerFYi circle\").attr(\"cx\", 2).attr(\"cy\", 15);\n",
       "});\n"
      ]
     },
     "metadata": {},
     "output_type": "display_data"
    }
   ],
   "source": [
    "move_racer(aracer, 15, 2)"
   ]
  },
  {
   "cell_type": "code",
   "execution_count": 10,
   "metadata": {
    "collapsed": false
   },
   "outputs": [
    {
     "data": {
      "text/html": [
       "<script> \n",
       "var x = document.querySelector(\".usersvg #racerFYi\");\n",
       "x.parentNode.removeChild(x);\n"
      ]
     },
     "metadata": {},
     "output_type": "display_data"
    }
   ],
   "source": [
    "remove_id(aracer)"
   ]
  },
  {
   "cell_type": "code",
   "execution_count": null,
   "metadata": {
    "collapsed": false
   },
   "outputs": [
    {
     "data": {
      "text/html": [
       "<div class=\"usersvg\">\n",
       "<svg id='canvasnIW' width='300' height='300' viewbox='0 0 18 17'></svg>\n",
       "</div>\n",
       "<script> \n",
       "requirejs.config({paths: {d3: \"https://d3js.org/d3.v3.min.js?noext\"}});  \n",
       "</script>\n"
      ]
     },
     "metadata": {},
     "output_type": "display_data"
    },
    {
     "data": {
      "application/javascript": [
       "var svg=document.getElementById('canvasnIW');var newElement;newElement = document.createElementNS(\"http://www.w3.org/2000/svg\", 'rect'); \n",
       "newElement.setAttribute('width','1'); \n",
       "newElement.setAttribute('height','1'); \n",
       "newElement.setAttribute('x','0'); \n",
       "newElement.setAttribute('y','0'); \n",
       "newElement.style.fill = 'green'; \n",
       "svg.appendChild(newElement);\n",
       "newElement = document.createElementNS(\"http://www.w3.org/2000/svg\", 'rect'); \n",
       "newElement.setAttribute('width','1'); \n",
       "newElement.setAttribute('height','1'); \n",
       "newElement.setAttribute('x','1'); \n",
       "newElement.setAttribute('y','0'); \n",
       "newElement.style.fill = 'green'; \n",
       "svg.appendChild(newElement);\n",
       "newElement = document.createElementNS(\"http://www.w3.org/2000/svg\", 'rect'); \n",
       "newElement.setAttribute('width','1'); \n",
       "newElement.setAttribute('height','1'); \n",
       "newElement.setAttribute('x','2'); \n",
       "newElement.setAttribute('y','0'); \n",
       "newElement.style.fill = 'green'; \n",
       "svg.appendChild(newElement);\n",
       "newElement = document.createElementNS(\"http://www.w3.org/2000/svg\", 'rect'); \n",
       "newElement.setAttribute('width','1'); \n",
       "newElement.setAttribute('height','1'); \n",
       "newElement.setAttribute('x','3'); \n",
       "newElement.setAttribute('y','0'); \n",
       "newElement.style.fill = 'green'; \n",
       "svg.appendChild(newElement);\n",
       "newElement = document.createElementNS(\"http://www.w3.org/2000/svg\", 'rect'); \n",
       "newElement.setAttribute('width','1'); \n",
       "newElement.setAttribute('height','1'); \n",
       "newElement.setAttribute('x','4'); \n",
       "newElement.setAttribute('y','0'); \n",
       "newElement.style.fill = 'green'; \n",
       "svg.appendChild(newElement);\n",
       "newElement = document.createElementNS(\"http://www.w3.org/2000/svg\", 'rect'); \n",
       "newElement.setAttribute('width','1'); \n",
       "newElement.setAttribute('height','1'); \n",
       "newElement.setAttribute('x','5'); \n",
       "newElement.setAttribute('y','0'); \n",
       "newElement.style.fill = 'green'; \n",
       "svg.appendChild(newElement);\n",
       "newElement = document.createElementNS(\"http://www.w3.org/2000/svg\", 'rect'); \n",
       "newElement.setAttribute('width','1'); \n",
       "newElement.setAttribute('height','1'); \n",
       "newElement.setAttribute('x','6'); \n",
       "newElement.setAttribute('y','0'); \n",
       "newElement.style.fill = 'green'; \n",
       "svg.appendChild(newElement);\n",
       "newElement = document.createElementNS(\"http://www.w3.org/2000/svg\", 'rect'); \n",
       "newElement.setAttribute('width','1'); \n",
       "newElement.setAttribute('height','1'); \n",
       "newElement.setAttribute('x','7'); \n",
       "newElement.setAttribute('y','0'); \n",
       "newElement.style.fill = 'green'; \n",
       "svg.appendChild(newElement);\n",
       "newElement = document.createElementNS(\"http://www.w3.org/2000/svg\", 'rect'); \n",
       "newElement.setAttribute('width','1'); \n",
       "newElement.setAttribute('height','1'); \n",
       "newElement.setAttribute('x','8'); \n",
       "newElement.setAttribute('y','0'); \n",
       "newElement.style.fill = 'green'; \n",
       "svg.appendChild(newElement);\n",
       "newElement = document.createElementNS(\"http://www.w3.org/2000/svg\", 'rect'); \n",
       "newElement.setAttribute('width','1'); \n",
       "newElement.setAttribute('height','1'); \n",
       "newElement.setAttribute('x','9'); \n",
       "newElement.setAttribute('y','0'); \n",
       "newElement.style.fill = 'green'; \n",
       "svg.appendChild(newElement);\n",
       "newElement = document.createElementNS(\"http://www.w3.org/2000/svg\", 'rect'); \n",
       "newElement.setAttribute('width','1'); \n",
       "newElement.setAttribute('height','1'); \n",
       "newElement.setAttribute('x','10'); \n",
       "newElement.setAttribute('y','0'); \n",
       "newElement.style.fill = 'green'; \n",
       "svg.appendChild(newElement);\n",
       "newElement = document.createElementNS(\"http://www.w3.org/2000/svg\", 'rect'); \n",
       "newElement.setAttribute('width','1'); \n",
       "newElement.setAttribute('height','1'); \n",
       "newElement.setAttribute('x','11'); \n",
       "newElement.setAttribute('y','0'); \n",
       "newElement.style.fill = 'red'; \n",
       "svg.appendChild(newElement);\n",
       "newElement = document.createElementNS(\"http://www.w3.org/2000/svg\", 'rect'); \n",
       "newElement.setAttribute('width','1'); \n",
       "newElement.setAttribute('height','1'); \n",
       "newElement.setAttribute('x','12'); \n",
       "newElement.setAttribute('y','0'); \n",
       "newElement.style.fill = 'red'; \n",
       "svg.appendChild(newElement);\n",
       "newElement = document.createElementNS(\"http://www.w3.org/2000/svg\", 'rect'); \n",
       "newElement.setAttribute('width','1'); \n",
       "newElement.setAttribute('height','1'); \n",
       "newElement.setAttribute('x','13'); \n",
       "newElement.setAttribute('y','0'); \n",
       "newElement.style.fill = 'red'; \n",
       "svg.appendChild(newElement);\n",
       "newElement = document.createElementNS(\"http://www.w3.org/2000/svg\", 'rect'); \n",
       "newElement.setAttribute('width','1'); \n",
       "newElement.setAttribute('height','1'); \n",
       "newElement.setAttribute('x','14'); \n",
       "newElement.setAttribute('y','0'); \n",
       "newElement.style.fill = 'red'; \n",
       "svg.appendChild(newElement);\n",
       "newElement = document.createElementNS(\"http://www.w3.org/2000/svg\", 'rect'); \n",
       "newElement.setAttribute('width','1'); \n",
       "newElement.setAttribute('height','1'); \n",
       "newElement.setAttribute('x','15'); \n",
       "newElement.setAttribute('y','0'); \n",
       "newElement.style.fill = 'green'; \n",
       "svg.appendChild(newElement);\n",
       "newElement = document.createElementNS(\"http://www.w3.org/2000/svg\", 'rect'); \n",
       "newElement.setAttribute('width','1'); \n",
       "newElement.setAttribute('height','1'); \n",
       "newElement.setAttribute('x','16'); \n",
       "newElement.setAttribute('y','0'); \n",
       "newElement.style.fill = 'green'; \n",
       "svg.appendChild(newElement);\n",
       "newElement = document.createElementNS(\"http://www.w3.org/2000/svg\", 'rect'); \n",
       "newElement.setAttribute('width','1'); \n",
       "newElement.setAttribute('height','1'); \n",
       "newElement.setAttribute('x','0'); \n",
       "newElement.setAttribute('y','1'); \n",
       "newElement.style.fill = 'green'; \n",
       "svg.appendChild(newElement);\n",
       "newElement = document.createElementNS(\"http://www.w3.org/2000/svg\", 'rect'); \n",
       "newElement.setAttribute('width','1'); \n",
       "newElement.setAttribute('height','1'); \n",
       "newElement.setAttribute('x','1'); \n",
       "newElement.setAttribute('y','1'); \n",
       "newElement.style.fill = 'green'; \n",
       "svg.appendChild(newElement);\n",
       "newElement = document.createElementNS(\"http://www.w3.org/2000/svg\", 'rect'); \n",
       "newElement.setAttribute('width','1'); \n",
       "newElement.setAttribute('height','1'); \n",
       "newElement.setAttribute('x','2'); \n",
       "newElement.setAttribute('y','1'); \n",
       "newElement.style.fill = 'green'; \n",
       "svg.appendChild(newElement);\n",
       "newElement = document.createElementNS(\"http://www.w3.org/2000/svg\", 'rect'); \n",
       "newElement.setAttribute('width','1'); \n",
       "newElement.setAttribute('height','1'); \n",
       "newElement.setAttribute('x','3'); \n",
       "newElement.setAttribute('y','1'); \n",
       "newElement.style.fill = 'green'; \n",
       "svg.appendChild(newElement);\n",
       "newElement = document.createElementNS(\"http://www.w3.org/2000/svg\", 'rect'); \n",
       "newElement.setAttribute('width','1'); \n",
       "newElement.setAttribute('height','1'); \n",
       "newElement.setAttribute('x','4'); \n",
       "newElement.setAttribute('y','1'); \n",
       "newElement.style.fill = 'green'; \n",
       "svg.appendChild(newElement);\n",
       "newElement = document.createElementNS(\"http://www.w3.org/2000/svg\", 'rect'); \n",
       "newElement.setAttribute('width','1'); \n",
       "newElement.setAttribute('height','1'); \n",
       "newElement.setAttribute('x','5'); \n",
       "newElement.setAttribute('y','1'); \n",
       "newElement.style.fill = 'green'; \n",
       "svg.appendChild(newElement);\n",
       "newElement = document.createElementNS(\"http://www.w3.org/2000/svg\", 'rect'); \n",
       "newElement.setAttribute('width','1'); \n",
       "newElement.setAttribute('height','1'); \n",
       "newElement.setAttribute('x','6'); \n",
       "newElement.setAttribute('y','1'); \n",
       "newElement.style.fill = 'green'; \n",
       "svg.appendChild(newElement);\n",
       "newElement = document.createElementNS(\"http://www.w3.org/2000/svg\", 'rect'); \n",
       "newElement.setAttribute('width','1'); \n",
       "newElement.setAttribute('height','1'); \n",
       "newElement.setAttribute('x','7'); \n",
       "newElement.setAttribute('y','1'); \n",
       "newElement.style.fill = 'green'; \n",
       "svg.appendChild(newElement);\n",
       "newElement = document.createElementNS(\"http://www.w3.org/2000/svg\", 'rect'); \n",
       "newElement.setAttribute('width','1'); \n",
       "newElement.setAttribute('height','1'); \n",
       "newElement.setAttribute('x','8'); \n",
       "newElement.setAttribute('y','1'); \n",
       "newElement.style.fill = 'green'; \n",
       "svg.appendChild(newElement);\n",
       "newElement = document.createElementNS(\"http://www.w3.org/2000/svg\", 'rect'); \n",
       "newElement.setAttribute('width','1'); \n",
       "newElement.setAttribute('height','1'); \n",
       "newElement.setAttribute('x','9'); \n",
       "newElement.setAttribute('y','1'); \n",
       "newElement.style.fill = 'green'; \n",
       "svg.appendChild(newElement);\n",
       "newElement = document.createElementNS(\"http://www.w3.org/2000/svg\", 'rect'); \n",
       "newElement.setAttribute('width','1'); \n",
       "newElement.setAttribute('height','1'); \n",
       "newElement.setAttribute('x','10'); \n",
       "newElement.setAttribute('y','1'); \n",
       "newElement.style.fill = 'black'; \n",
       "svg.appendChild(newElement);\n",
       "newElement = document.createElementNS(\"http://www.w3.org/2000/svg\", 'rect'); \n",
       "newElement.setAttribute('width','1'); \n",
       "newElement.setAttribute('height','1'); \n",
       "newElement.setAttribute('x','11'); \n",
       "newElement.setAttribute('y','1'); \n",
       "newElement.style.fill = 'black'; \n",
       "svg.appendChild(newElement);\n",
       "newElement = document.createElementNS(\"http://www.w3.org/2000/svg\", 'rect'); \n",
       "newElement.setAttribute('width','1'); \n",
       "newElement.setAttribute('height','1'); \n",
       "newElement.setAttribute('x','12'); \n",
       "newElement.setAttribute('y','1'); \n",
       "newElement.style.fill = 'black'; \n",
       "svg.appendChild(newElement);\n",
       "newElement = document.createElementNS(\"http://www.w3.org/2000/svg\", 'rect'); \n",
       "newElement.setAttribute('width','1'); \n",
       "newElement.setAttribute('height','1'); \n",
       "newElement.setAttribute('x','13'); \n",
       "newElement.setAttribute('y','1'); \n",
       "newElement.style.fill = 'black'; \n",
       "svg.appendChild(newElement);\n",
       "newElement = document.createElementNS(\"http://www.w3.org/2000/svg\", 'rect'); \n",
       "newElement.setAttribute('width','1'); \n",
       "newElement.setAttribute('height','1'); \n",
       "newElement.setAttribute('x','14'); \n",
       "newElement.setAttribute('y','1'); \n",
       "newElement.style.fill = 'black'; \n",
       "svg.appendChild(newElement);\n",
       "newElement = document.createElementNS(\"http://www.w3.org/2000/svg\", 'rect'); \n",
       "newElement.setAttribute('width','1'); \n",
       "newElement.setAttribute('height','1'); \n",
       "newElement.setAttribute('x','15'); \n",
       "newElement.setAttribute('y','1'); \n",
       "newElement.style.fill = 'green'; \n",
       "svg.appendChild(newElement);\n",
       "newElement = document.createElementNS(\"http://www.w3.org/2000/svg\", 'rect'); \n",
       "newElement.setAttribute('width','1'); \n",
       "newElement.setAttribute('height','1'); \n",
       "newElement.setAttribute('x','16'); \n",
       "newElement.setAttribute('y','1'); \n",
       "newElement.style.fill = 'green'; \n",
       "svg.appendChild(newElement);\n",
       "newElement = document.createElementNS(\"http://www.w3.org/2000/svg\", 'rect'); \n",
       "newElement.setAttribute('width','1'); \n",
       "newElement.setAttribute('height','1'); \n",
       "newElement.setAttribute('x','0'); \n",
       "newElement.setAttribute('y','2'); \n",
       "newElement.style.fill = 'green'; \n",
       "svg.appendChild(newElement);\n",
       "newElement = document.createElementNS(\"http://www.w3.org/2000/svg\", 'rect'); \n",
       "newElement.setAttribute('width','1'); \n",
       "newElement.setAttribute('height','1'); \n",
       "newElement.setAttribute('x','1'); \n",
       "newElement.setAttribute('y','2'); \n",
       "newElement.style.fill = 'green'; \n",
       "svg.appendChild(newElement);\n",
       "newElement = document.createElementNS(\"http://www.w3.org/2000/svg\", 'rect'); \n",
       "newElement.setAttribute('width','1'); \n",
       "newElement.setAttribute('height','1'); \n",
       "newElement.setAttribute('x','2'); \n",
       "newElement.setAttribute('y','2'); \n",
       "newElement.style.fill = 'green'; \n",
       "svg.appendChild(newElement);\n",
       "newElement = document.createElementNS(\"http://www.w3.org/2000/svg\", 'rect'); \n",
       "newElement.setAttribute('width','1'); \n",
       "newElement.setAttribute('height','1'); \n",
       "newElement.setAttribute('x','3'); \n",
       "newElement.setAttribute('y','2'); \n",
       "newElement.style.fill = 'green'; \n",
       "svg.appendChild(newElement);\n",
       "newElement = document.createElementNS(\"http://www.w3.org/2000/svg\", 'rect'); \n",
       "newElement.setAttribute('width','1'); \n",
       "newElement.setAttribute('height','1'); \n",
       "newElement.setAttribute('x','4'); \n",
       "newElement.setAttribute('y','2'); \n",
       "newElement.style.fill = 'green'; \n",
       "svg.appendChild(newElement);\n",
       "newElement = document.createElementNS(\"http://www.w3.org/2000/svg\", 'rect'); \n",
       "newElement.setAttribute('width','1'); \n",
       "newElement.setAttribute('height','1'); \n",
       "newElement.setAttribute('x','5'); \n",
       "newElement.setAttribute('y','2'); \n",
       "newElement.style.fill = 'green'; \n",
       "svg.appendChild(newElement);\n",
       "newElement = document.createElementNS(\"http://www.w3.org/2000/svg\", 'rect'); \n",
       "newElement.setAttribute('width','1'); \n",
       "newElement.setAttribute('height','1'); \n",
       "newElement.setAttribute('x','6'); \n",
       "newElement.setAttribute('y','2'); \n",
       "newElement.style.fill = 'green'; \n",
       "svg.appendChild(newElement);\n",
       "newElement = document.createElementNS(\"http://www.w3.org/2000/svg\", 'rect'); \n",
       "newElement.setAttribute('width','1'); \n",
       "newElement.setAttribute('height','1'); \n",
       "newElement.setAttribute('x','7'); \n",
       "newElement.setAttribute('y','2'); \n",
       "newElement.style.fill = 'green'; \n",
       "svg.appendChild(newElement);\n",
       "newElement = document.createElementNS(\"http://www.w3.org/2000/svg\", 'rect'); \n",
       "newElement.setAttribute('width','1'); \n",
       "newElement.setAttribute('height','1'); \n",
       "newElement.setAttribute('x','8'); \n",
       "newElement.setAttribute('y','2'); \n",
       "newElement.style.fill = 'green'; \n",
       "svg.appendChild(newElement);\n",
       "newElement = document.createElementNS(\"http://www.w3.org/2000/svg\", 'rect'); \n",
       "newElement.setAttribute('width','1'); \n",
       "newElement.setAttribute('height','1'); \n",
       "newElement.setAttribute('x','9'); \n",
       "newElement.setAttribute('y','2'); \n",
       "newElement.style.fill = 'black'; \n",
       "svg.appendChild(newElement);\n",
       "newElement = document.createElementNS(\"http://www.w3.org/2000/svg\", 'rect'); \n",
       "newElement.setAttribute('width','1'); \n",
       "newElement.setAttribute('height','1'); \n",
       "newElement.setAttribute('x','10'); \n",
       "newElement.setAttribute('y','2'); \n",
       "newElement.style.fill = 'black'; \n",
       "svg.appendChild(newElement);\n",
       "newElement = document.createElementNS(\"http://www.w3.org/2000/svg\", 'rect'); \n",
       "newElement.setAttribute('width','1'); \n",
       "newElement.setAttribute('height','1'); \n",
       "newElement.setAttribute('x','11'); \n",
       "newElement.setAttribute('y','2'); \n",
       "newElement.style.fill = 'black'; \n",
       "svg.appendChild(newElement);\n",
       "newElement = document.createElementNS(\"http://www.w3.org/2000/svg\", 'rect'); \n",
       "newElement.setAttribute('width','1'); \n",
       "newElement.setAttribute('height','1'); \n",
       "newElement.setAttribute('x','12'); \n",
       "newElement.setAttribute('y','2'); \n",
       "newElement.style.fill = 'black'; \n",
       "svg.appendChild(newElement);\n",
       "newElement = document.createElementNS(\"http://www.w3.org/2000/svg\", 'rect'); \n",
       "newElement.setAttribute('width','1'); \n",
       "newElement.setAttribute('height','1'); \n",
       "newElement.setAttribute('x','13'); \n",
       "newElement.setAttribute('y','2'); \n",
       "newElement.style.fill = 'black'; \n",
       "svg.appendChild(newElement);\n",
       "newElement = document.createElementNS(\"http://www.w3.org/2000/svg\", 'rect'); \n",
       "newElement.setAttribute('width','1'); \n",
       "newElement.setAttribute('height','1'); \n",
       "newElement.setAttribute('x','14'); \n",
       "newElement.setAttribute('y','2'); \n",
       "newElement.style.fill = 'green'; \n",
       "svg.appendChild(newElement);\n",
       "newElement = document.createElementNS(\"http://www.w3.org/2000/svg\", 'rect'); \n",
       "newElement.setAttribute('width','1'); \n",
       "newElement.setAttribute('height','1'); \n",
       "newElement.setAttribute('x','15'); \n",
       "newElement.setAttribute('y','2'); \n",
       "newElement.style.fill = 'green'; \n",
       "svg.appendChild(newElement);\n",
       "newElement = document.createElementNS(\"http://www.w3.org/2000/svg\", 'rect'); \n",
       "newElement.setAttribute('width','1'); \n",
       "newElement.setAttribute('height','1'); \n",
       "newElement.setAttribute('x','16'); \n",
       "newElement.setAttribute('y','2'); \n",
       "newElement.style.fill = 'green'; \n",
       "svg.appendChild(newElement);\n",
       "newElement = document.createElementNS(\"http://www.w3.org/2000/svg\", 'rect'); \n",
       "newElement.setAttribute('width','1'); \n",
       "newElement.setAttribute('height','1'); \n",
       "newElement.setAttribute('x','0'); \n",
       "newElement.setAttribute('y','3'); \n",
       "newElement.style.fill = 'green'; \n",
       "svg.appendChild(newElement);\n",
       "newElement = document.createElementNS(\"http://www.w3.org/2000/svg\", 'rect'); \n",
       "newElement.setAttribute('width','1'); \n",
       "newElement.setAttribute('height','1'); \n",
       "newElement.setAttribute('x','1'); \n",
       "newElement.setAttribute('y','3'); \n",
       "newElement.style.fill = 'green'; \n",
       "svg.appendChild(newElement);\n",
       "newElement = document.createElementNS(\"http://www.w3.org/2000/svg\", 'rect'); \n",
       "newElement.setAttribute('width','1'); \n",
       "newElement.setAttribute('height','1'); \n",
       "newElement.setAttribute('x','2'); \n",
       "newElement.setAttribute('y','3'); \n",
       "newElement.style.fill = 'green'; \n",
       "svg.appendChild(newElement);\n",
       "newElement = document.createElementNS(\"http://www.w3.org/2000/svg\", 'rect'); \n",
       "newElement.setAttribute('width','1'); \n",
       "newElement.setAttribute('height','1'); \n",
       "newElement.setAttribute('x','3'); \n",
       "newElement.setAttribute('y','3'); \n",
       "newElement.style.fill = 'green'; \n",
       "svg.appendChild(newElement);\n",
       "newElement = document.createElementNS(\"http://www.w3.org/2000/svg\", 'rect'); \n",
       "newElement.setAttribute('width','1'); \n",
       "newElement.setAttribute('height','1'); \n",
       "newElement.setAttribute('x','4'); \n",
       "newElement.setAttribute('y','3'); \n",
       "newElement.style.fill = 'green'; \n",
       "svg.appendChild(newElement);\n",
       "newElement = document.createElementNS(\"http://www.w3.org/2000/svg\", 'rect'); \n",
       "newElement.setAttribute('width','1'); \n",
       "newElement.setAttribute('height','1'); \n",
       "newElement.setAttribute('x','5'); \n",
       "newElement.setAttribute('y','3'); \n",
       "newElement.style.fill = 'green'; \n",
       "svg.appendChild(newElement);\n",
       "newElement = document.createElementNS(\"http://www.w3.org/2000/svg\", 'rect'); \n",
       "newElement.setAttribute('width','1'); \n",
       "newElement.setAttribute('height','1'); \n",
       "newElement.setAttribute('x','6'); \n",
       "newElement.setAttribute('y','3'); \n",
       "newElement.style.fill = 'green'; \n",
       "svg.appendChild(newElement);\n",
       "newElement = document.createElementNS(\"http://www.w3.org/2000/svg\", 'rect'); \n",
       "newElement.setAttribute('width','1'); \n",
       "newElement.setAttribute('height','1'); \n",
       "newElement.setAttribute('x','7'); \n",
       "newElement.setAttribute('y','3'); \n",
       "newElement.style.fill = 'black'; \n",
       "svg.appendChild(newElement);\n",
       "newElement = document.createElementNS(\"http://www.w3.org/2000/svg\", 'rect'); \n",
       "newElement.setAttribute('width','1'); \n",
       "newElement.setAttribute('height','1'); \n",
       "newElement.setAttribute('x','8'); \n",
       "newElement.setAttribute('y','3'); \n",
       "newElement.style.fill = 'black'; \n",
       "svg.appendChild(newElement);\n",
       "newElement = document.createElementNS(\"http://www.w3.org/2000/svg\", 'rect'); \n",
       "newElement.setAttribute('width','1'); \n",
       "newElement.setAttribute('height','1'); \n",
       "newElement.setAttribute('x','9'); \n",
       "newElement.setAttribute('y','3'); \n",
       "newElement.style.fill = 'black'; \n",
       "svg.appendChild(newElement);\n",
       "newElement = document.createElementNS(\"http://www.w3.org/2000/svg\", 'rect'); \n",
       "newElement.setAttribute('width','1'); \n",
       "newElement.setAttribute('height','1'); \n",
       "newElement.setAttribute('x','10'); \n",
       "newElement.setAttribute('y','3'); \n",
       "newElement.style.fill = 'black'; \n",
       "svg.appendChild(newElement);\n",
       "newElement = document.createElementNS(\"http://www.w3.org/2000/svg\", 'rect'); \n",
       "newElement.setAttribute('width','1'); \n",
       "newElement.setAttribute('height','1'); \n",
       "newElement.setAttribute('x','11'); \n",
       "newElement.setAttribute('y','3'); \n",
       "newElement.style.fill = 'black'; \n",
       "svg.appendChild(newElement);\n",
       "newElement = document.createElementNS(\"http://www.w3.org/2000/svg\", 'rect'); \n",
       "newElement.setAttribute('width','1'); \n",
       "newElement.setAttribute('height','1'); \n",
       "newElement.setAttribute('x','12'); \n",
       "newElement.setAttribute('y','3'); \n",
       "newElement.style.fill = 'black'; \n",
       "svg.appendChild(newElement);\n",
       "newElement = document.createElementNS(\"http://www.w3.org/2000/svg\", 'rect'); \n",
       "newElement.setAttribute('width','1'); \n",
       "newElement.setAttribute('height','1'); \n",
       "newElement.setAttribute('x','13'); \n",
       "newElement.setAttribute('y','3'); \n",
       "newElement.style.fill = 'green'; \n",
       "svg.appendChild(newElement);\n",
       "newElement = document.createElementNS(\"http://www.w3.org/2000/svg\", 'rect'); \n",
       "newElement.setAttribute('width','1'); \n",
       "newElement.setAttribute('height','1'); \n",
       "newElement.setAttribute('x','14'); \n",
       "newElement.setAttribute('y','3'); \n",
       "newElement.style.fill = 'green'; \n",
       "svg.appendChild(newElement);\n",
       "newElement = document.createElementNS(\"http://www.w3.org/2000/svg\", 'rect'); \n",
       "newElement.setAttribute('width','1'); \n",
       "newElement.setAttribute('height','1'); \n",
       "newElement.setAttribute('x','15'); \n",
       "newElement.setAttribute('y','3'); \n",
       "newElement.style.fill = 'green'; \n",
       "svg.appendChild(newElement);\n",
       "newElement = document.createElementNS(\"http://www.w3.org/2000/svg\", 'rect'); \n",
       "newElement.setAttribute('width','1'); \n",
       "newElement.setAttribute('height','1'); \n",
       "newElement.setAttribute('x','16'); \n",
       "newElement.setAttribute('y','3'); \n",
       "newElement.style.fill = 'green'; \n",
       "svg.appendChild(newElement);\n",
       "newElement = document.createElementNS(\"http://www.w3.org/2000/svg\", 'rect'); \n",
       "newElement.setAttribute('width','1'); \n",
       "newElement.setAttribute('height','1'); \n",
       "newElement.setAttribute('x','0'); \n",
       "newElement.setAttribute('y','4'); \n",
       "newElement.style.fill = 'green'; \n",
       "svg.appendChild(newElement);\n",
       "newElement = document.createElementNS(\"http://www.w3.org/2000/svg\", 'rect'); \n",
       "newElement.setAttribute('width','1'); \n",
       "newElement.setAttribute('height','1'); \n",
       "newElement.setAttribute('x','1'); \n",
       "newElement.setAttribute('y','4'); \n",
       "newElement.style.fill = 'green'; \n",
       "svg.appendChild(newElement);\n",
       "newElement = document.createElementNS(\"http://www.w3.org/2000/svg\", 'rect'); \n",
       "newElement.setAttribute('width','1'); \n",
       "newElement.setAttribute('height','1'); \n",
       "newElement.setAttribute('x','2'); \n",
       "newElement.setAttribute('y','4'); \n",
       "newElement.style.fill = 'green'; \n",
       "svg.appendChild(newElement);\n",
       "newElement = document.createElementNS(\"http://www.w3.org/2000/svg\", 'rect'); \n",
       "newElement.setAttribute('width','1'); \n",
       "newElement.setAttribute('height','1'); \n",
       "newElement.setAttribute('x','3'); \n",
       "newElement.setAttribute('y','4'); \n",
       "newElement.style.fill = 'green'; \n",
       "svg.appendChild(newElement);\n",
       "newElement = document.createElementNS(\"http://www.w3.org/2000/svg\", 'rect'); \n",
       "newElement.setAttribute('width','1'); \n",
       "newElement.setAttribute('height','1'); \n",
       "newElement.setAttribute('x','4'); \n",
       "newElement.setAttribute('y','4'); \n",
       "newElement.style.fill = 'green'; \n",
       "svg.appendChild(newElement);\n",
       "newElement = document.createElementNS(\"http://www.w3.org/2000/svg\", 'rect'); \n",
       "newElement.setAttribute('width','1'); \n",
       "newElement.setAttribute('height','1'); \n",
       "newElement.setAttribute('x','5'); \n",
       "newElement.setAttribute('y','4'); \n",
       "newElement.style.fill = 'green'; \n",
       "svg.appendChild(newElement);\n",
       "newElement = document.createElementNS(\"http://www.w3.org/2000/svg\", 'rect'); \n",
       "newElement.setAttribute('width','1'); \n",
       "newElement.setAttribute('height','1'); \n",
       "newElement.setAttribute('x','6'); \n",
       "newElement.setAttribute('y','4'); \n",
       "newElement.style.fill = 'black'; \n",
       "svg.appendChild(newElement);\n",
       "newElement = document.createElementNS(\"http://www.w3.org/2000/svg\", 'rect'); \n",
       "newElement.setAttribute('width','1'); \n",
       "newElement.setAttribute('height','1'); \n",
       "newElement.setAttribute('x','7'); \n",
       "newElement.setAttribute('y','4'); \n",
       "newElement.style.fill = 'black'; \n",
       "svg.appendChild(newElement);\n",
       "newElement = document.createElementNS(\"http://www.w3.org/2000/svg\", 'rect'); \n",
       "newElement.setAttribute('width','1'); \n",
       "newElement.setAttribute('height','1'); \n",
       "newElement.setAttribute('x','8'); \n",
       "newElement.setAttribute('y','4'); \n",
       "newElement.style.fill = 'black'; \n",
       "svg.appendChild(newElement);\n",
       "newElement = document.createElementNS(\"http://www.w3.org/2000/svg\", 'rect'); \n",
       "newElement.setAttribute('width','1'); \n",
       "newElement.setAttribute('height','1'); \n",
       "newElement.setAttribute('x','9'); \n",
       "newElement.setAttribute('y','4'); \n",
       "newElement.style.fill = 'black'; \n",
       "svg.appendChild(newElement);\n",
       "newElement = document.createElementNS(\"http://www.w3.org/2000/svg\", 'rect'); \n",
       "newElement.setAttribute('width','1'); \n",
       "newElement.setAttribute('height','1'); \n",
       "newElement.setAttribute('x','10'); \n",
       "newElement.setAttribute('y','4'); \n",
       "newElement.style.fill = 'black'; \n",
       "svg.appendChild(newElement);\n",
       "newElement = document.createElementNS(\"http://www.w3.org/2000/svg\", 'rect'); \n",
       "newElement.setAttribute('width','1'); \n",
       "newElement.setAttribute('height','1'); \n",
       "newElement.setAttribute('x','11'); \n",
       "newElement.setAttribute('y','4'); \n",
       "newElement.style.fill = 'black'; \n",
       "svg.appendChild(newElement);\n",
       "newElement = document.createElementNS(\"http://www.w3.org/2000/svg\", 'rect'); \n",
       "newElement.setAttribute('width','1'); \n",
       "newElement.setAttribute('height','1'); \n",
       "newElement.setAttribute('x','12'); \n",
       "newElement.setAttribute('y','4'); \n",
       "newElement.style.fill = 'green'; \n",
       "svg.appendChild(newElement);\n",
       "newElement = document.createElementNS(\"http://www.w3.org/2000/svg\", 'rect'); \n",
       "newElement.setAttribute('width','1'); \n",
       "newElement.setAttribute('height','1'); \n",
       "newElement.setAttribute('x','13'); \n",
       "newElement.setAttribute('y','4'); \n",
       "newElement.style.fill = 'green'; \n",
       "svg.appendChild(newElement);\n",
       "newElement = document.createElementNS(\"http://www.w3.org/2000/svg\", 'rect'); \n",
       "newElement.setAttribute('width','1'); \n",
       "newElement.setAttribute('height','1'); \n",
       "newElement.setAttribute('x','14'); \n",
       "newElement.setAttribute('y','4'); \n",
       "newElement.style.fill = 'green'; \n",
       "svg.appendChild(newElement);\n",
       "newElement = document.createElementNS(\"http://www.w3.org/2000/svg\", 'rect'); \n",
       "newElement.setAttribute('width','1'); \n",
       "newElement.setAttribute('height','1'); \n",
       "newElement.setAttribute('x','15'); \n",
       "newElement.setAttribute('y','4'); \n",
       "newElement.style.fill = 'green'; \n",
       "svg.appendChild(newElement);\n",
       "newElement = document.createElementNS(\"http://www.w3.org/2000/svg\", 'rect'); \n",
       "newElement.setAttribute('width','1'); \n",
       "newElement.setAttribute('height','1'); \n",
       "newElement.setAttribute('x','16'); \n",
       "newElement.setAttribute('y','4'); \n",
       "newElement.style.fill = 'green'; \n",
       "svg.appendChild(newElement);\n",
       "newElement = document.createElementNS(\"http://www.w3.org/2000/svg\", 'rect'); \n",
       "newElement.setAttribute('width','1'); \n",
       "newElement.setAttribute('height','1'); \n",
       "newElement.setAttribute('x','0'); \n",
       "newElement.setAttribute('y','5'); \n",
       "newElement.style.fill = 'green'; \n",
       "svg.appendChild(newElement);\n",
       "newElement = document.createElementNS(\"http://www.w3.org/2000/svg\", 'rect'); \n",
       "newElement.setAttribute('width','1'); \n",
       "newElement.setAttribute('height','1'); \n",
       "newElement.setAttribute('x','1'); \n",
       "newElement.setAttribute('y','5'); \n",
       "newElement.style.fill = 'green'; \n",
       "svg.appendChild(newElement);\n",
       "newElement = document.createElementNS(\"http://www.w3.org/2000/svg\", 'rect'); \n",
       "newElement.setAttribute('width','1'); \n",
       "newElement.setAttribute('height','1'); \n",
       "newElement.setAttribute('x','2'); \n",
       "newElement.setAttribute('y','5'); \n",
       "newElement.style.fill = 'green'; \n",
       "svg.appendChild(newElement);\n",
       "newElement = document.createElementNS(\"http://www.w3.org/2000/svg\", 'rect'); \n",
       "newElement.setAttribute('width','1'); \n",
       "newElement.setAttribute('height','1'); \n",
       "newElement.setAttribute('x','3'); \n",
       "newElement.setAttribute('y','5'); \n",
       "newElement.style.fill = 'green'; \n",
       "svg.appendChild(newElement);\n",
       "newElement = document.createElementNS(\"http://www.w3.org/2000/svg\", 'rect'); \n",
       "newElement.setAttribute('width','1'); \n",
       "newElement.setAttribute('height','1'); \n",
       "newElement.setAttribute('x','4'); \n",
       "newElement.setAttribute('y','5'); \n",
       "newElement.style.fill = 'green'; \n",
       "svg.appendChild(newElement);\n",
       "newElement = document.createElementNS(\"http://www.w3.org/2000/svg\", 'rect'); \n",
       "newElement.setAttribute('width','1'); \n",
       "newElement.setAttribute('height','1'); \n",
       "newElement.setAttribute('x','5'); \n",
       "newElement.setAttribute('y','5'); \n",
       "newElement.style.fill = 'black'; \n",
       "svg.appendChild(newElement);\n",
       "newElement = document.createElementNS(\"http://www.w3.org/2000/svg\", 'rect'); \n",
       "newElement.setAttribute('width','1'); \n",
       "newElement.setAttribute('height','1'); \n",
       "newElement.setAttribute('x','6'); \n",
       "newElement.setAttribute('y','5'); \n",
       "newElement.style.fill = 'black'; \n",
       "svg.appendChild(newElement);\n",
       "newElement = document.createElementNS(\"http://www.w3.org/2000/svg\", 'rect'); \n",
       "newElement.setAttribute('width','1'); \n",
       "newElement.setAttribute('height','1'); \n",
       "newElement.setAttribute('x','7'); \n",
       "newElement.setAttribute('y','5'); \n",
       "newElement.style.fill = 'black'; \n",
       "svg.appendChild(newElement);\n",
       "newElement = document.createElementNS(\"http://www.w3.org/2000/svg\", 'rect'); \n",
       "newElement.setAttribute('width','1'); \n",
       "newElement.setAttribute('height','1'); \n",
       "newElement.setAttribute('x','8'); \n",
       "newElement.setAttribute('y','5'); \n",
       "newElement.style.fill = 'black'; \n",
       "svg.appendChild(newElement);\n",
       "newElement = document.createElementNS(\"http://www.w3.org/2000/svg\", 'rect'); \n",
       "newElement.setAttribute('width','1'); \n",
       "newElement.setAttribute('height','1'); \n",
       "newElement.setAttribute('x','9'); \n",
       "newElement.setAttribute('y','5'); \n",
       "newElement.style.fill = 'black'; \n",
       "svg.appendChild(newElement);\n",
       "newElement = document.createElementNS(\"http://www.w3.org/2000/svg\", 'rect'); \n",
       "newElement.setAttribute('width','1'); \n",
       "newElement.setAttribute('height','1'); \n",
       "newElement.setAttribute('x','10'); \n",
       "newElement.setAttribute('y','5'); \n",
       "newElement.style.fill = 'green'; \n",
       "svg.appendChild(newElement);\n",
       "newElement = document.createElementNS(\"http://www.w3.org/2000/svg\", 'rect'); \n",
       "newElement.setAttribute('width','1'); \n",
       "newElement.setAttribute('height','1'); \n",
       "newElement.setAttribute('x','11'); \n",
       "newElement.setAttribute('y','5'); \n",
       "newElement.style.fill = 'green'; \n",
       "svg.appendChild(newElement);\n",
       "newElement = document.createElementNS(\"http://www.w3.org/2000/svg\", 'rect'); \n",
       "newElement.setAttribute('width','1'); \n",
       "newElement.setAttribute('height','1'); \n",
       "newElement.setAttribute('x','12'); \n",
       "newElement.setAttribute('y','5'); \n",
       "newElement.style.fill = 'green'; \n",
       "svg.appendChild(newElement);\n",
       "newElement = document.createElementNS(\"http://www.w3.org/2000/svg\", 'rect'); \n",
       "newElement.setAttribute('width','1'); \n",
       "newElement.setAttribute('height','1'); \n",
       "newElement.setAttribute('x','13'); \n",
       "newElement.setAttribute('y','5'); \n",
       "newElement.style.fill = 'green'; \n",
       "svg.appendChild(newElement);\n",
       "newElement = document.createElementNS(\"http://www.w3.org/2000/svg\", 'rect'); \n",
       "newElement.setAttribute('width','1'); \n",
       "newElement.setAttribute('height','1'); \n",
       "newElement.setAttribute('x','14'); \n",
       "newElement.setAttribute('y','5'); \n",
       "newElement.style.fill = 'green'; \n",
       "svg.appendChild(newElement);\n",
       "newElement = document.createElementNS(\"http://www.w3.org/2000/svg\", 'rect'); \n",
       "newElement.setAttribute('width','1'); \n",
       "newElement.setAttribute('height','1'); \n",
       "newElement.setAttribute('x','15'); \n",
       "newElement.setAttribute('y','5'); \n",
       "newElement.style.fill = 'green'; \n",
       "svg.appendChild(newElement);\n",
       "newElement = document.createElementNS(\"http://www.w3.org/2000/svg\", 'rect'); \n",
       "newElement.setAttribute('width','1'); \n",
       "newElement.setAttribute('height','1'); \n",
       "newElement.setAttribute('x','16'); \n",
       "newElement.setAttribute('y','5'); \n",
       "newElement.style.fill = 'green'; \n",
       "svg.appendChild(newElement);\n",
       "newElement = document.createElementNS(\"http://www.w3.org/2000/svg\", 'rect'); \n",
       "newElement.setAttribute('width','1'); \n",
       "newElement.setAttribute('height','1'); \n",
       "newElement.setAttribute('x','0'); \n",
       "newElement.setAttribute('y','6'); \n",
       "newElement.style.fill = 'green'; \n",
       "svg.appendChild(newElement);\n",
       "newElement = document.createElementNS(\"http://www.w3.org/2000/svg\", 'rect'); \n",
       "newElement.setAttribute('width','1'); \n",
       "newElement.setAttribute('height','1'); \n",
       "newElement.setAttribute('x','1'); \n",
       "newElement.setAttribute('y','6'); \n",
       "newElement.style.fill = 'green'; \n",
       "svg.appendChild(newElement);\n",
       "newElement = document.createElementNS(\"http://www.w3.org/2000/svg\", 'rect'); \n",
       "newElement.setAttribute('width','1'); \n",
       "newElement.setAttribute('height','1'); \n",
       "newElement.setAttribute('x','2'); \n",
       "newElement.setAttribute('y','6'); \n",
       "newElement.style.fill = 'green'; \n",
       "svg.appendChild(newElement);\n",
       "newElement = document.createElementNS(\"http://www.w3.org/2000/svg\", 'rect'); \n",
       "newElement.setAttribute('width','1'); \n",
       "newElement.setAttribute('height','1'); \n",
       "newElement.setAttribute('x','3'); \n",
       "newElement.setAttribute('y','6'); \n",
       "newElement.style.fill = 'green'; \n",
       "svg.appendChild(newElement);\n",
       "newElement = document.createElementNS(\"http://www.w3.org/2000/svg\", 'rect'); \n",
       "newElement.setAttribute('width','1'); \n",
       "newElement.setAttribute('height','1'); \n",
       "newElement.setAttribute('x','4'); \n",
       "newElement.setAttribute('y','6'); \n",
       "newElement.style.fill = 'black'; \n",
       "svg.appendChild(newElement);\n",
       "newElement = document.createElementNS(\"http://www.w3.org/2000/svg\", 'rect'); \n",
       "newElement.setAttribute('width','1'); \n",
       "newElement.setAttribute('height','1'); \n",
       "newElement.setAttribute('x','5'); \n",
       "newElement.setAttribute('y','6'); \n",
       "newElement.style.fill = 'black'; \n",
       "svg.appendChild(newElement);\n",
       "newElement = document.createElementNS(\"http://www.w3.org/2000/svg\", 'rect'); \n",
       "newElement.setAttribute('width','1'); \n",
       "newElement.setAttribute('height','1'); \n",
       "newElement.setAttribute('x','6'); \n",
       "newElement.setAttribute('y','6'); \n",
       "newElement.style.fill = 'black'; \n",
       "svg.appendChild(newElement);\n",
       "newElement = document.createElementNS(\"http://www.w3.org/2000/svg\", 'rect'); \n",
       "newElement.setAttribute('width','1'); \n",
       "newElement.setAttribute('height','1'); \n",
       "newElement.setAttribute('x','7'); \n",
       "newElement.setAttribute('y','6'); \n",
       "newElement.style.fill = 'black'; \n",
       "svg.appendChild(newElement);\n",
       "newElement = document.createElementNS(\"http://www.w3.org/2000/svg\", 'rect'); \n",
       "newElement.setAttribute('width','1'); \n",
       "newElement.setAttribute('height','1'); \n",
       "newElement.setAttribute('x','8'); \n",
       "newElement.setAttribute('y','6'); \n",
       "newElement.style.fill = 'black'; \n",
       "svg.appendChild(newElement);\n",
       "newElement = document.createElementNS(\"http://www.w3.org/2000/svg\", 'rect'); \n",
       "newElement.setAttribute('width','1'); \n",
       "newElement.setAttribute('height','1'); \n",
       "newElement.setAttribute('x','9'); \n",
       "newElement.setAttribute('y','6'); \n",
       "newElement.style.fill = 'green'; \n",
       "svg.appendChild(newElement);\n",
       "newElement = document.createElementNS(\"http://www.w3.org/2000/svg\", 'rect'); \n",
       "newElement.setAttribute('width','1'); \n",
       "newElement.setAttribute('height','1'); \n",
       "newElement.setAttribute('x','10'); \n",
       "newElement.setAttribute('y','6'); \n",
       "newElement.style.fill = 'green'; \n",
       "svg.appendChild(newElement);\n",
       "newElement = document.createElementNS(\"http://www.w3.org/2000/svg\", 'rect'); \n",
       "newElement.setAttribute('width','1'); \n",
       "newElement.setAttribute('height','1'); \n",
       "newElement.setAttribute('x','11'); \n",
       "newElement.setAttribute('y','6'); \n",
       "newElement.style.fill = 'green'; \n",
       "svg.appendChild(newElement);\n",
       "newElement = document.createElementNS(\"http://www.w3.org/2000/svg\", 'rect'); \n",
       "newElement.setAttribute('width','1'); \n",
       "newElement.setAttribute('height','1'); \n",
       "newElement.setAttribute('x','12'); \n",
       "newElement.setAttribute('y','6'); \n",
       "newElement.style.fill = 'green'; \n",
       "svg.appendChild(newElement);\n",
       "newElement = document.createElementNS(\"http://www.w3.org/2000/svg\", 'rect'); \n",
       "newElement.setAttribute('width','1'); \n",
       "newElement.setAttribute('height','1'); \n",
       "newElement.setAttribute('x','13'); \n",
       "newElement.setAttribute('y','6'); \n",
       "newElement.style.fill = 'green'; \n",
       "svg.appendChild(newElement);\n",
       "newElement = document.createElementNS(\"http://www.w3.org/2000/svg\", 'rect'); \n",
       "newElement.setAttribute('width','1'); \n",
       "newElement.setAttribute('height','1'); \n",
       "newElement.setAttribute('x','14'); \n",
       "newElement.setAttribute('y','6'); \n",
       "newElement.style.fill = 'green'; \n",
       "svg.appendChild(newElement);\n",
       "newElement = document.createElementNS(\"http://www.w3.org/2000/svg\", 'rect'); \n",
       "newElement.setAttribute('width','1'); \n",
       "newElement.setAttribute('height','1'); \n",
       "newElement.setAttribute('x','15'); \n",
       "newElement.setAttribute('y','6'); \n",
       "newElement.style.fill = 'green'; \n",
       "svg.appendChild(newElement);\n",
       "newElement = document.createElementNS(\"http://www.w3.org/2000/svg\", 'rect'); \n",
       "newElement.setAttribute('width','1'); \n",
       "newElement.setAttribute('height','1'); \n",
       "newElement.setAttribute('x','16'); \n",
       "newElement.setAttribute('y','6'); \n",
       "newElement.style.fill = 'green'; \n",
       "svg.appendChild(newElement);\n",
       "newElement = document.createElementNS(\"http://www.w3.org/2000/svg\", 'rect'); \n",
       "newElement.setAttribute('width','1'); \n",
       "newElement.setAttribute('height','1'); \n",
       "newElement.setAttribute('x','0'); \n",
       "newElement.setAttribute('y','7'); \n",
       "newElement.style.fill = 'green'; \n",
       "svg.appendChild(newElement);\n",
       "newElement = document.createElementNS(\"http://www.w3.org/2000/svg\", 'rect'); \n",
       "newElement.setAttribute('width','1'); \n",
       "newElement.setAttribute('height','1'); \n",
       "newElement.setAttribute('x','1'); \n",
       "newElement.setAttribute('y','7'); \n",
       "newElement.style.fill = 'green'; \n",
       "svg.appendChild(newElement);\n",
       "newElement = document.createElementNS(\"http://www.w3.org/2000/svg\", 'rect'); \n",
       "newElement.setAttribute('width','1'); \n",
       "newElement.setAttribute('height','1'); \n",
       "newElement.setAttribute('x','2'); \n",
       "newElement.setAttribute('y','7'); \n",
       "newElement.style.fill = 'green'; \n",
       "svg.appendChild(newElement);\n",
       "newElement = document.createElementNS(\"http://www.w3.org/2000/svg\", 'rect'); \n",
       "newElement.setAttribute('width','1'); \n",
       "newElement.setAttribute('height','1'); \n",
       "newElement.setAttribute('x','3'); \n",
       "newElement.setAttribute('y','7'); \n",
       "newElement.style.fill = 'black'; \n",
       "svg.appendChild(newElement);\n",
       "newElement = document.createElementNS(\"http://www.w3.org/2000/svg\", 'rect'); \n",
       "newElement.setAttribute('width','1'); \n",
       "newElement.setAttribute('height','1'); \n",
       "newElement.setAttribute('x','4'); \n",
       "newElement.setAttribute('y','7'); \n",
       "newElement.style.fill = 'black'; \n",
       "svg.appendChild(newElement);\n",
       "newElement = document.createElementNS(\"http://www.w3.org/2000/svg\", 'rect'); \n",
       "newElement.setAttribute('width','1'); \n",
       "newElement.setAttribute('height','1'); \n",
       "newElement.setAttribute('x','5'); \n",
       "newElement.setAttribute('y','7'); \n",
       "newElement.style.fill = 'black'; \n",
       "svg.appendChild(newElement);\n",
       "newElement = document.createElementNS(\"http://www.w3.org/2000/svg\", 'rect'); \n",
       "newElement.setAttribute('width','1'); \n",
       "newElement.setAttribute('height','1'); \n",
       "newElement.setAttribute('x','6'); \n",
       "newElement.setAttribute('y','7'); \n",
       "newElement.style.fill = 'black'; \n",
       "svg.appendChild(newElement);\n",
       "newElement = document.createElementNS(\"http://www.w3.org/2000/svg\", 'rect'); \n",
       "newElement.setAttribute('width','1'); \n",
       "newElement.setAttribute('height','1'); \n",
       "newElement.setAttribute('x','7'); \n",
       "newElement.setAttribute('y','7'); \n",
       "newElement.style.fill = 'black'; \n",
       "svg.appendChild(newElement);\n",
       "newElement = document.createElementNS(\"http://www.w3.org/2000/svg\", 'rect'); \n",
       "newElement.setAttribute('width','1'); \n",
       "newElement.setAttribute('height','1'); \n",
       "newElement.setAttribute('x','8'); \n",
       "newElement.setAttribute('y','7'); \n",
       "newElement.style.fill = 'green'; \n",
       "svg.appendChild(newElement);\n",
       "newElement = document.createElementNS(\"http://www.w3.org/2000/svg\", 'rect'); \n",
       "newElement.setAttribute('width','1'); \n",
       "newElement.setAttribute('height','1'); \n",
       "newElement.setAttribute('x','9'); \n",
       "newElement.setAttribute('y','7'); \n",
       "newElement.style.fill = 'green'; \n",
       "svg.appendChild(newElement);\n",
       "newElement = document.createElementNS(\"http://www.w3.org/2000/svg\", 'rect'); \n",
       "newElement.setAttribute('width','1'); \n",
       "newElement.setAttribute('height','1'); \n",
       "newElement.setAttribute('x','10'); \n",
       "newElement.setAttribute('y','7'); \n",
       "newElement.style.fill = 'green'; \n",
       "svg.appendChild(newElement);\n",
       "newElement = document.createElementNS(\"http://www.w3.org/2000/svg\", 'rect'); \n",
       "newElement.setAttribute('width','1'); \n",
       "newElement.setAttribute('height','1'); \n",
       "newElement.setAttribute('x','11'); \n",
       "newElement.setAttribute('y','7'); \n",
       "newElement.style.fill = 'green'; \n",
       "svg.appendChild(newElement);\n",
       "newElement = document.createElementNS(\"http://www.w3.org/2000/svg\", 'rect'); \n",
       "newElement.setAttribute('width','1'); \n",
       "newElement.setAttribute('height','1'); \n",
       "newElement.setAttribute('x','12'); \n",
       "newElement.setAttribute('y','7'); \n",
       "newElement.style.fill = 'green'; \n",
       "svg.appendChild(newElement);\n",
       "newElement = document.createElementNS(\"http://www.w3.org/2000/svg\", 'rect'); \n",
       "newElement.setAttribute('width','1'); \n",
       "newElement.setAttribute('height','1'); \n",
       "newElement.setAttribute('x','13'); \n",
       "newElement.setAttribute('y','7'); \n",
       "newElement.style.fill = 'green'; \n",
       "svg.appendChild(newElement);\n",
       "newElement = document.createElementNS(\"http://www.w3.org/2000/svg\", 'rect'); \n",
       "newElement.setAttribute('width','1'); \n",
       "newElement.setAttribute('height','1'); \n",
       "newElement.setAttribute('x','14'); \n",
       "newElement.setAttribute('y','7'); \n",
       "newElement.style.fill = 'green'; \n",
       "svg.appendChild(newElement);\n",
       "newElement = document.createElementNS(\"http://www.w3.org/2000/svg\", 'rect'); \n",
       "newElement.setAttribute('width','1'); \n",
       "newElement.setAttribute('height','1'); \n",
       "newElement.setAttribute('x','15'); \n",
       "newElement.setAttribute('y','7'); \n",
       "newElement.style.fill = 'green'; \n",
       "svg.appendChild(newElement);\n",
       "newElement = document.createElementNS(\"http://www.w3.org/2000/svg\", 'rect'); \n",
       "newElement.setAttribute('width','1'); \n",
       "newElement.setAttribute('height','1'); \n",
       "newElement.setAttribute('x','16'); \n",
       "newElement.setAttribute('y','7'); \n",
       "newElement.style.fill = 'green'; \n",
       "svg.appendChild(newElement);\n",
       "newElement = document.createElementNS(\"http://www.w3.org/2000/svg\", 'rect'); \n",
       "newElement.setAttribute('width','1'); \n",
       "newElement.setAttribute('height','1'); \n",
       "newElement.setAttribute('x','0'); \n",
       "newElement.setAttribute('y','8'); \n",
       "newElement.style.fill = 'green'; \n",
       "svg.appendChild(newElement);\n",
       "newElement = document.createElementNS(\"http://www.w3.org/2000/svg\", 'rect'); \n",
       "newElement.setAttribute('width','1'); \n",
       "newElement.setAttribute('height','1'); \n",
       "newElement.setAttribute('x','1'); \n",
       "newElement.setAttribute('y','8'); \n",
       "newElement.style.fill = 'green'; \n",
       "svg.appendChild(newElement);\n",
       "newElement = document.createElementNS(\"http://www.w3.org/2000/svg\", 'rect'); \n",
       "newElement.setAttribute('width','1'); \n",
       "newElement.setAttribute('height','1'); \n",
       "newElement.setAttribute('x','2'); \n",
       "newElement.setAttribute('y','8'); \n",
       "newElement.style.fill = 'black'; \n",
       "svg.appendChild(newElement);\n",
       "newElement = document.createElementNS(\"http://www.w3.org/2000/svg\", 'rect'); \n",
       "newElement.setAttribute('width','1'); \n",
       "newElement.setAttribute('height','1'); \n",
       "newElement.setAttribute('x','3'); \n",
       "newElement.setAttribute('y','8'); \n",
       "newElement.style.fill = 'black'; \n",
       "svg.appendChild(newElement);\n",
       "newElement = document.createElementNS(\"http://www.w3.org/2000/svg\", 'rect'); \n",
       "newElement.setAttribute('width','1'); \n",
       "newElement.setAttribute('height','1'); \n",
       "newElement.setAttribute('x','4'); \n",
       "newElement.setAttribute('y','8'); \n",
       "newElement.style.fill = 'black'; \n",
       "svg.appendChild(newElement);\n",
       "newElement = document.createElementNS(\"http://www.w3.org/2000/svg\", 'rect'); \n",
       "newElement.setAttribute('width','1'); \n",
       "newElement.setAttribute('height','1'); \n",
       "newElement.setAttribute('x','5'); \n",
       "newElement.setAttribute('y','8'); \n",
       "newElement.style.fill = 'black'; \n",
       "svg.appendChild(newElement);\n",
       "newElement = document.createElementNS(\"http://www.w3.org/2000/svg\", 'rect'); \n",
       "newElement.setAttribute('width','1'); \n",
       "newElement.setAttribute('height','1'); \n",
       "newElement.setAttribute('x','6'); \n",
       "newElement.setAttribute('y','8'); \n",
       "newElement.style.fill = 'black'; \n",
       "svg.appendChild(newElement);\n",
       "newElement = document.createElementNS(\"http://www.w3.org/2000/svg\", 'rect'); \n",
       "newElement.setAttribute('width','1'); \n",
       "newElement.setAttribute('height','1'); \n",
       "newElement.setAttribute('x','7'); \n",
       "newElement.setAttribute('y','8'); \n",
       "newElement.style.fill = 'green'; \n",
       "svg.appendChild(newElement);\n",
       "newElement = document.createElementNS(\"http://www.w3.org/2000/svg\", 'rect'); \n",
       "newElement.setAttribute('width','1'); \n",
       "newElement.setAttribute('height','1'); \n",
       "newElement.setAttribute('x','8'); \n",
       "newElement.setAttribute('y','8'); \n",
       "newElement.style.fill = 'green'; \n",
       "svg.appendChild(newElement);\n",
       "newElement = document.createElementNS(\"http://www.w3.org/2000/svg\", 'rect'); \n",
       "newElement.setAttribute('width','1'); \n",
       "newElement.setAttribute('height','1'); \n",
       "newElement.setAttribute('x','9'); \n",
       "newElement.setAttribute('y','8'); \n",
       "newElement.style.fill = 'green'; \n",
       "svg.appendChild(newElement);\n",
       "newElement = document.createElementNS(\"http://www.w3.org/2000/svg\", 'rect'); \n",
       "newElement.setAttribute('width','1'); \n",
       "newElement.setAttribute('height','1'); \n",
       "newElement.setAttribute('x','10'); \n",
       "newElement.setAttribute('y','8'); \n",
       "newElement.style.fill = 'green'; \n",
       "svg.appendChild(newElement);\n",
       "newElement = document.createElementNS(\"http://www.w3.org/2000/svg\", 'rect'); \n",
       "newElement.setAttribute('width','1'); \n",
       "newElement.setAttribute('height','1'); \n",
       "newElement.setAttribute('x','11'); \n",
       "newElement.setAttribute('y','8'); \n",
       "newElement.style.fill = 'green'; \n",
       "svg.appendChild(newElement);\n",
       "newElement = document.createElementNS(\"http://www.w3.org/2000/svg\", 'rect'); \n",
       "newElement.setAttribute('width','1'); \n",
       "newElement.setAttribute('height','1'); \n",
       "newElement.setAttribute('x','12'); \n",
       "newElement.setAttribute('y','8'); \n",
       "newElement.style.fill = 'green'; \n",
       "svg.appendChild(newElement);\n",
       "newElement = document.createElementNS(\"http://www.w3.org/2000/svg\", 'rect'); \n",
       "newElement.setAttribute('width','1'); \n",
       "newElement.setAttribute('height','1'); \n",
       "newElement.setAttribute('x','13'); \n",
       "newElement.setAttribute('y','8'); \n",
       "newElement.style.fill = 'green'; \n",
       "svg.appendChild(newElement);\n",
       "newElement = document.createElementNS(\"http://www.w3.org/2000/svg\", 'rect'); \n",
       "newElement.setAttribute('width','1'); \n",
       "newElement.setAttribute('height','1'); \n",
       "newElement.setAttribute('x','14'); \n",
       "newElement.setAttribute('y','8'); \n",
       "newElement.style.fill = 'green'; \n",
       "svg.appendChild(newElement);\n",
       "newElement = document.createElementNS(\"http://www.w3.org/2000/svg\", 'rect'); \n",
       "newElement.setAttribute('width','1'); \n",
       "newElement.setAttribute('height','1'); \n",
       "newElement.setAttribute('x','15'); \n",
       "newElement.setAttribute('y','8'); \n",
       "newElement.style.fill = 'green'; \n",
       "svg.appendChild(newElement);\n",
       "newElement = document.createElementNS(\"http://www.w3.org/2000/svg\", 'rect'); \n",
       "newElement.setAttribute('width','1'); \n",
       "newElement.setAttribute('height','1'); \n",
       "newElement.setAttribute('x','16'); \n",
       "newElement.setAttribute('y','8'); \n",
       "newElement.style.fill = 'green'; \n",
       "svg.appendChild(newElement);\n",
       "newElement = document.createElementNS(\"http://www.w3.org/2000/svg\", 'rect'); \n",
       "newElement.setAttribute('width','1'); \n",
       "newElement.setAttribute('height','1'); \n",
       "newElement.setAttribute('x','0'); \n",
       "newElement.setAttribute('y','9'); \n",
       "newElement.style.fill = 'green'; \n",
       "svg.appendChild(newElement);\n",
       "newElement = document.createElementNS(\"http://www.w3.org/2000/svg\", 'rect'); \n",
       "newElement.setAttribute('width','1'); \n",
       "newElement.setAttribute('height','1'); \n",
       "newElement.setAttribute('x','1'); \n",
       "newElement.setAttribute('y','9'); \n",
       "newElement.style.fill = 'green'; \n",
       "svg.appendChild(newElement);\n",
       "newElement = document.createElementNS(\"http://www.w3.org/2000/svg\", 'rect'); \n",
       "newElement.setAttribute('width','1'); \n",
       "newElement.setAttribute('height','1'); \n",
       "newElement.setAttribute('x','2'); \n",
       "newElement.setAttribute('y','9'); \n",
       "newElement.style.fill = 'black'; \n",
       "svg.appendChild(newElement);\n",
       "newElement = document.createElementNS(\"http://www.w3.org/2000/svg\", 'rect'); \n",
       "newElement.setAttribute('width','1'); \n",
       "newElement.setAttribute('height','1'); \n",
       "newElement.setAttribute('x','3'); \n",
       "newElement.setAttribute('y','9'); \n",
       "newElement.style.fill = 'black'; \n",
       "svg.appendChild(newElement);\n",
       "newElement = document.createElementNS(\"http://www.w3.org/2000/svg\", 'rect'); \n",
       "newElement.setAttribute('width','1'); \n",
       "newElement.setAttribute('height','1'); \n",
       "newElement.setAttribute('x','4'); \n",
       "newElement.setAttribute('y','9'); \n",
       "newElement.style.fill = 'black'; \n",
       "svg.appendChild(newElement);\n",
       "newElement = document.createElementNS(\"http://www.w3.org/2000/svg\", 'rect'); \n",
       "newElement.setAttribute('width','1'); \n",
       "newElement.setAttribute('height','1'); \n",
       "newElement.setAttribute('x','5'); \n",
       "newElement.setAttribute('y','9'); \n",
       "newElement.style.fill = 'black'; \n",
       "svg.appendChild(newElement);\n",
       "newElement = document.createElementNS(\"http://www.w3.org/2000/svg\", 'rect'); \n",
       "newElement.setAttribute('width','1'); \n",
       "newElement.setAttribute('height','1'); \n",
       "newElement.setAttribute('x','6'); \n",
       "newElement.setAttribute('y','9'); \n",
       "newElement.style.fill = 'black'; \n",
       "svg.appendChild(newElement);\n",
       "newElement = document.createElementNS(\"http://www.w3.org/2000/svg\", 'rect'); \n",
       "newElement.setAttribute('width','1'); \n",
       "newElement.setAttribute('height','1'); \n",
       "newElement.setAttribute('x','7'); \n",
       "newElement.setAttribute('y','9'); \n",
       "newElement.style.fill = 'green'; \n",
       "svg.appendChild(newElement);\n",
       "newElement = document.createElementNS(\"http://www.w3.org/2000/svg\", 'rect'); \n",
       "newElement.setAttribute('width','1'); \n",
       "newElement.setAttribute('height','1'); \n",
       "newElement.setAttribute('x','8'); \n",
       "newElement.setAttribute('y','9'); \n",
       "newElement.style.fill = 'green'; \n",
       "svg.appendChild(newElement);\n",
       "newElement = document.createElementNS(\"http://www.w3.org/2000/svg\", 'rect'); \n",
       "newElement.setAttribute('width','1'); \n",
       "newElement.setAttribute('height','1'); \n",
       "newElement.setAttribute('x','9'); \n",
       "newElement.setAttribute('y','9'); \n",
       "newElement.style.fill = 'green'; \n",
       "svg.appendChild(newElement);\n",
       "newElement = document.createElementNS(\"http://www.w3.org/2000/svg\", 'rect'); \n",
       "newElement.setAttribute('width','1'); \n",
       "newElement.setAttribute('height','1'); \n",
       "newElement.setAttribute('x','10'); \n",
       "newElement.setAttribute('y','9'); \n",
       "newElement.style.fill = 'green'; \n",
       "svg.appendChild(newElement);\n",
       "newElement = document.createElementNS(\"http://www.w3.org/2000/svg\", 'rect'); \n",
       "newElement.setAttribute('width','1'); \n",
       "newElement.setAttribute('height','1'); \n",
       "newElement.setAttribute('x','11'); \n",
       "newElement.setAttribute('y','9'); \n",
       "newElement.style.fill = 'green'; \n",
       "svg.appendChild(newElement);\n",
       "newElement = document.createElementNS(\"http://www.w3.org/2000/svg\", 'rect'); \n",
       "newElement.setAttribute('width','1'); \n",
       "newElement.setAttribute('height','1'); \n",
       "newElement.setAttribute('x','12'); \n",
       "newElement.setAttribute('y','9'); \n",
       "newElement.style.fill = 'green'; \n",
       "svg.appendChild(newElement);\n",
       "newElement = document.createElementNS(\"http://www.w3.org/2000/svg\", 'rect'); \n",
       "newElement.setAttribute('width','1'); \n",
       "newElement.setAttribute('height','1'); \n",
       "newElement.setAttribute('x','13'); \n",
       "newElement.setAttribute('y','9'); \n",
       "newElement.style.fill = 'green'; \n",
       "svg.appendChild(newElement);\n",
       "newElement = document.createElementNS(\"http://www.w3.org/2000/svg\", 'rect'); \n",
       "newElement.setAttribute('width','1'); \n",
       "newElement.setAttribute('height','1'); \n",
       "newElement.setAttribute('x','14'); \n",
       "newElement.setAttribute('y','9'); \n",
       "newElement.style.fill = 'green'; \n",
       "svg.appendChild(newElement);\n",
       "newElement = document.createElementNS(\"http://www.w3.org/2000/svg\", 'rect'); \n",
       "newElement.setAttribute('width','1'); \n",
       "newElement.setAttribute('height','1'); \n",
       "newElement.setAttribute('x','15'); \n",
       "newElement.setAttribute('y','9'); \n",
       "newElement.style.fill = 'green'; \n",
       "svg.appendChild(newElement);\n",
       "newElement = document.createElementNS(\"http://www.w3.org/2000/svg\", 'rect'); \n",
       "newElement.setAttribute('width','1'); \n",
       "newElement.setAttribute('height','1'); \n",
       "newElement.setAttribute('x','16'); \n",
       "newElement.setAttribute('y','9'); \n",
       "newElement.style.fill = 'green'; \n",
       "svg.appendChild(newElement);\n",
       "newElement = document.createElementNS(\"http://www.w3.org/2000/svg\", 'rect'); \n",
       "newElement.setAttribute('width','1'); \n",
       "newElement.setAttribute('height','1'); \n",
       "newElement.setAttribute('x','0'); \n",
       "newElement.setAttribute('y','10'); \n",
       "newElement.style.fill = 'green'; \n",
       "svg.appendChild(newElement);\n",
       "newElement = document.createElementNS(\"http://www.w3.org/2000/svg\", 'rect'); \n",
       "newElement.setAttribute('width','1'); \n",
       "newElement.setAttribute('height','1'); \n",
       "newElement.setAttribute('x','1'); \n",
       "newElement.setAttribute('y','10'); \n",
       "newElement.style.fill = 'green'; \n",
       "svg.appendChild(newElement);\n",
       "newElement = document.createElementNS(\"http://www.w3.org/2000/svg\", 'rect'); \n",
       "newElement.setAttribute('width','1'); \n",
       "newElement.setAttribute('height','1'); \n",
       "newElement.setAttribute('x','2'); \n",
       "newElement.setAttribute('y','10'); \n",
       "newElement.style.fill = 'black'; \n",
       "svg.appendChild(newElement);\n",
       "newElement = document.createElementNS(\"http://www.w3.org/2000/svg\", 'rect'); \n",
       "newElement.setAttribute('width','1'); \n",
       "newElement.setAttribute('height','1'); \n",
       "newElement.setAttribute('x','3'); \n",
       "newElement.setAttribute('y','10'); \n",
       "newElement.style.fill = 'black'; \n",
       "svg.appendChild(newElement);\n",
       "newElement = document.createElementNS(\"http://www.w3.org/2000/svg\", 'rect'); \n",
       "newElement.setAttribute('width','1'); \n",
       "newElement.setAttribute('height','1'); \n",
       "newElement.setAttribute('x','4'); \n",
       "newElement.setAttribute('y','10'); \n",
       "newElement.style.fill = 'black'; \n",
       "svg.appendChild(newElement);\n",
       "newElement = document.createElementNS(\"http://www.w3.org/2000/svg\", 'rect'); \n",
       "newElement.setAttribute('width','1'); \n",
       "newElement.setAttribute('height','1'); \n",
       "newElement.setAttribute('x','5'); \n",
       "newElement.setAttribute('y','10'); \n",
       "newElement.style.fill = 'black'; \n",
       "svg.appendChild(newElement);\n",
       "newElement = document.createElementNS(\"http://www.w3.org/2000/svg\", 'rect'); \n",
       "newElement.setAttribute('width','1'); \n",
       "newElement.setAttribute('height','1'); \n",
       "newElement.setAttribute('x','6'); \n",
       "newElement.setAttribute('y','10'); \n",
       "newElement.style.fill = 'green'; \n",
       "svg.appendChild(newElement);\n",
       "newElement = document.createElementNS(\"http://www.w3.org/2000/svg\", 'rect'); \n",
       "newElement.setAttribute('width','1'); \n",
       "newElement.setAttribute('height','1'); \n",
       "newElement.setAttribute('x','7'); \n",
       "newElement.setAttribute('y','10'); \n",
       "newElement.style.fill = 'green'; \n",
       "svg.appendChild(newElement);\n",
       "newElement = document.createElementNS(\"http://www.w3.org/2000/svg\", 'rect'); \n",
       "newElement.setAttribute('width','1'); \n",
       "newElement.setAttribute('height','1'); \n",
       "newElement.setAttribute('x','8'); \n",
       "newElement.setAttribute('y','10'); \n",
       "newElement.style.fill = 'green'; \n",
       "svg.appendChild(newElement);\n",
       "newElement = document.createElementNS(\"http://www.w3.org/2000/svg\", 'rect'); \n",
       "newElement.setAttribute('width','1'); \n",
       "newElement.setAttribute('height','1'); \n",
       "newElement.setAttribute('x','9'); \n",
       "newElement.setAttribute('y','10'); \n",
       "newElement.style.fill = 'green'; \n",
       "svg.appendChild(newElement);\n",
       "newElement = document.createElementNS(\"http://www.w3.org/2000/svg\", 'rect'); \n",
       "newElement.setAttribute('width','1'); \n",
       "newElement.setAttribute('height','1'); \n",
       "newElement.setAttribute('x','10'); \n",
       "newElement.setAttribute('y','10'); \n",
       "newElement.style.fill = 'green'; \n",
       "svg.appendChild(newElement);\n",
       "newElement = document.createElementNS(\"http://www.w3.org/2000/svg\", 'rect'); \n",
       "newElement.setAttribute('width','1'); \n",
       "newElement.setAttribute('height','1'); \n",
       "newElement.setAttribute('x','11'); \n",
       "newElement.setAttribute('y','10'); \n",
       "newElement.style.fill = 'green'; \n",
       "svg.appendChild(newElement);\n",
       "newElement = document.createElementNS(\"http://www.w3.org/2000/svg\", 'rect'); \n",
       "newElement.setAttribute('width','1'); \n",
       "newElement.setAttribute('height','1'); \n",
       "newElement.setAttribute('x','12'); \n",
       "newElement.setAttribute('y','10'); \n",
       "newElement.style.fill = 'green'; \n",
       "svg.appendChild(newElement);\n",
       "newElement = document.createElementNS(\"http://www.w3.org/2000/svg\", 'rect'); \n",
       "newElement.setAttribute('width','1'); \n",
       "newElement.setAttribute('height','1'); \n",
       "newElement.setAttribute('x','13'); \n",
       "newElement.setAttribute('y','10'); \n",
       "newElement.style.fill = 'green'; \n",
       "svg.appendChild(newElement);\n",
       "newElement = document.createElementNS(\"http://www.w3.org/2000/svg\", 'rect'); \n",
       "newElement.setAttribute('width','1'); \n",
       "newElement.setAttribute('height','1'); \n",
       "newElement.setAttribute('x','14'); \n",
       "newElement.setAttribute('y','10'); \n",
       "newElement.style.fill = 'green'; \n",
       "svg.appendChild(newElement);\n",
       "newElement = document.createElementNS(\"http://www.w3.org/2000/svg\", 'rect'); \n",
       "newElement.setAttribute('width','1'); \n",
       "newElement.setAttribute('height','1'); \n",
       "newElement.setAttribute('x','15'); \n",
       "newElement.setAttribute('y','10'); \n",
       "newElement.style.fill = 'green'; \n",
       "svg.appendChild(newElement);\n",
       "newElement = document.createElementNS(\"http://www.w3.org/2000/svg\", 'rect'); \n",
       "newElement.setAttribute('width','1'); \n",
       "newElement.setAttribute('height','1'); \n",
       "newElement.setAttribute('x','16'); \n",
       "newElement.setAttribute('y','10'); \n",
       "newElement.style.fill = 'green'; \n",
       "svg.appendChild(newElement);\n",
       "newElement = document.createElementNS(\"http://www.w3.org/2000/svg\", 'rect'); \n",
       "newElement.setAttribute('width','1'); \n",
       "newElement.setAttribute('height','1'); \n",
       "newElement.setAttribute('x','0'); \n",
       "newElement.setAttribute('y','11'); \n",
       "newElement.style.fill = 'green'; \n",
       "svg.appendChild(newElement);\n",
       "newElement = document.createElementNS(\"http://www.w3.org/2000/svg\", 'rect'); \n",
       "newElement.setAttribute('width','1'); \n",
       "newElement.setAttribute('height','1'); \n",
       "newElement.setAttribute('x','1'); \n",
       "newElement.setAttribute('y','11'); \n",
       "newElement.style.fill = 'green'; \n",
       "svg.appendChild(newElement);\n",
       "newElement = document.createElementNS(\"http://www.w3.org/2000/svg\", 'rect'); \n",
       "newElement.setAttribute('width','1'); \n",
       "newElement.setAttribute('height','1'); \n",
       "newElement.setAttribute('x','2'); \n",
       "newElement.setAttribute('y','11'); \n",
       "newElement.style.fill = 'black'; \n",
       "svg.appendChild(newElement);\n",
       "newElement = document.createElementNS(\"http://www.w3.org/2000/svg\", 'rect'); \n",
       "newElement.setAttribute('width','1'); \n",
       "newElement.setAttribute('height','1'); \n",
       "newElement.setAttribute('x','3'); \n",
       "newElement.setAttribute('y','11'); \n",
       "newElement.style.fill = 'black'; \n",
       "svg.appendChild(newElement);\n",
       "newElement = document.createElementNS(\"http://www.w3.org/2000/svg\", 'rect'); \n",
       "newElement.setAttribute('width','1'); \n",
       "newElement.setAttribute('height','1'); \n",
       "newElement.setAttribute('x','4'); \n",
       "newElement.setAttribute('y','11'); \n",
       "newElement.style.fill = 'black'; \n",
       "svg.appendChild(newElement);\n",
       "newElement = document.createElementNS(\"http://www.w3.org/2000/svg\", 'rect'); \n",
       "newElement.setAttribute('width','1'); \n",
       "newElement.setAttribute('height','1'); \n",
       "newElement.setAttribute('x','5'); \n",
       "newElement.setAttribute('y','11'); \n",
       "newElement.style.fill = 'black'; \n",
       "svg.appendChild(newElement);\n",
       "newElement = document.createElementNS(\"http://www.w3.org/2000/svg\", 'rect'); \n",
       "newElement.setAttribute('width','1'); \n",
       "newElement.setAttribute('height','1'); \n",
       "newElement.setAttribute('x','6'); \n",
       "newElement.setAttribute('y','11'); \n",
       "newElement.style.fill = 'green'; \n",
       "svg.appendChild(newElement);\n",
       "newElement = document.createElementNS(\"http://www.w3.org/2000/svg\", 'rect'); \n",
       "newElement.setAttribute('width','1'); \n",
       "newElement.setAttribute('height','1'); \n",
       "newElement.setAttribute('x','7'); \n",
       "newElement.setAttribute('y','11'); \n",
       "newElement.style.fill = 'green'; \n",
       "svg.appendChild(newElement);\n",
       "newElement = document.createElementNS(\"http://www.w3.org/2000/svg\", 'rect'); \n",
       "newElement.setAttribute('width','1'); \n",
       "newElement.setAttribute('height','1'); \n",
       "newElement.setAttribute('x','8'); \n",
       "newElement.setAttribute('y','11'); \n",
       "newElement.style.fill = 'green'; \n",
       "svg.appendChild(newElement);\n",
       "newElement = document.createElementNS(\"http://www.w3.org/2000/svg\", 'rect'); \n",
       "newElement.setAttribute('width','1'); \n",
       "newElement.setAttribute('height','1'); \n",
       "newElement.setAttribute('x','9'); \n",
       "newElement.setAttribute('y','11'); \n",
       "newElement.style.fill = 'green'; \n",
       "svg.appendChild(newElement);\n",
       "newElement = document.createElementNS(\"http://www.w3.org/2000/svg\", 'rect'); \n",
       "newElement.setAttribute('width','1'); \n",
       "newElement.setAttribute('height','1'); \n",
       "newElement.setAttribute('x','10'); \n",
       "newElement.setAttribute('y','11'); \n",
       "newElement.style.fill = 'green'; \n",
       "svg.appendChild(newElement);\n",
       "newElement = document.createElementNS(\"http://www.w3.org/2000/svg\", 'rect'); \n",
       "newElement.setAttribute('width','1'); \n",
       "newElement.setAttribute('height','1'); \n",
       "newElement.setAttribute('x','11'); \n",
       "newElement.setAttribute('y','11'); \n",
       "newElement.style.fill = 'green'; \n",
       "svg.appendChild(newElement);\n",
       "newElement = document.createElementNS(\"http://www.w3.org/2000/svg\", 'rect'); \n",
       "newElement.setAttribute('width','1'); \n",
       "newElement.setAttribute('height','1'); \n",
       "newElement.setAttribute('x','12'); \n",
       "newElement.setAttribute('y','11'); \n",
       "newElement.style.fill = 'green'; \n",
       "svg.appendChild(newElement);\n",
       "newElement = document.createElementNS(\"http://www.w3.org/2000/svg\", 'rect'); \n",
       "newElement.setAttribute('width','1'); \n",
       "newElement.setAttribute('height','1'); \n",
       "newElement.setAttribute('x','13'); \n",
       "newElement.setAttribute('y','11'); \n",
       "newElement.style.fill = 'green'; \n",
       "svg.appendChild(newElement);\n",
       "newElement = document.createElementNS(\"http://www.w3.org/2000/svg\", 'rect'); \n",
       "newElement.setAttribute('width','1'); \n",
       "newElement.setAttribute('height','1'); \n",
       "newElement.setAttribute('x','14'); \n",
       "newElement.setAttribute('y','11'); \n",
       "newElement.style.fill = 'green'; \n",
       "svg.appendChild(newElement);\n",
       "newElement = document.createElementNS(\"http://www.w3.org/2000/svg\", 'rect'); \n",
       "newElement.setAttribute('width','1'); \n",
       "newElement.setAttribute('height','1'); \n",
       "newElement.setAttribute('x','15'); \n",
       "newElement.setAttribute('y','11'); \n",
       "newElement.style.fill = 'green'; \n",
       "svg.appendChild(newElement);\n",
       "newElement = document.createElementNS(\"http://www.w3.org/2000/svg\", 'rect'); \n",
       "newElement.setAttribute('width','1'); \n",
       "newElement.setAttribute('height','1'); \n",
       "newElement.setAttribute('x','16'); \n",
       "newElement.setAttribute('y','11'); \n",
       "newElement.style.fill = 'green'; \n",
       "svg.appendChild(newElement);\n",
       "newElement = document.createElementNS(\"http://www.w3.org/2000/svg\", 'rect'); \n",
       "newElement.setAttribute('width','1'); \n",
       "newElement.setAttribute('height','1'); \n",
       "newElement.setAttribute('x','0'); \n",
       "newElement.setAttribute('y','12'); \n",
       "newElement.style.fill = 'green'; \n",
       "svg.appendChild(newElement);\n",
       "newElement = document.createElementNS(\"http://www.w3.org/2000/svg\", 'rect'); \n",
       "newElement.setAttribute('width','1'); \n",
       "newElement.setAttribute('height','1'); \n",
       "newElement.setAttribute('x','1'); \n",
       "newElement.setAttribute('y','12'); \n",
       "newElement.style.fill = 'green'; \n",
       "svg.appendChild(newElement);\n",
       "newElement = document.createElementNS(\"http://www.w3.org/2000/svg\", 'rect'); \n",
       "newElement.setAttribute('width','1'); \n",
       "newElement.setAttribute('height','1'); \n",
       "newElement.setAttribute('x','2'); \n",
       "newElement.setAttribute('y','12'); \n",
       "newElement.style.fill = 'black'; \n",
       "svg.appendChild(newElement);\n",
       "newElement = document.createElementNS(\"http://www.w3.org/2000/svg\", 'rect'); \n",
       "newElement.setAttribute('width','1'); \n",
       "newElement.setAttribute('height','1'); \n",
       "newElement.setAttribute('x','3'); \n",
       "newElement.setAttribute('y','12'); \n",
       "newElement.style.fill = 'black'; \n",
       "svg.appendChild(newElement);\n",
       "newElement = document.createElementNS(\"http://www.w3.org/2000/svg\", 'rect'); \n",
       "newElement.setAttribute('width','1'); \n",
       "newElement.setAttribute('height','1'); \n",
       "newElement.setAttribute('x','4'); \n",
       "newElement.setAttribute('y','12'); \n",
       "newElement.style.fill = 'black'; \n",
       "svg.appendChild(newElement);\n",
       "newElement = document.createElementNS(\"http://www.w3.org/2000/svg\", 'rect'); \n",
       "newElement.setAttribute('width','1'); \n",
       "newElement.setAttribute('height','1'); \n",
       "newElement.setAttribute('x','5'); \n",
       "newElement.setAttribute('y','12'); \n",
       "newElement.style.fill = 'black'; \n",
       "svg.appendChild(newElement);\n",
       "newElement = document.createElementNS(\"http://www.w3.org/2000/svg\", 'rect'); \n",
       "newElement.setAttribute('width','1'); \n",
       "newElement.setAttribute('height','1'); \n",
       "newElement.setAttribute('x','6'); \n",
       "newElement.setAttribute('y','12'); \n",
       "newElement.style.fill = 'green'; \n",
       "svg.appendChild(newElement);\n",
       "newElement = document.createElementNS(\"http://www.w3.org/2000/svg\", 'rect'); \n",
       "newElement.setAttribute('width','1'); \n",
       "newElement.setAttribute('height','1'); \n",
       "newElement.setAttribute('x','7'); \n",
       "newElement.setAttribute('y','12'); \n",
       "newElement.style.fill = 'green'; \n",
       "svg.appendChild(newElement);\n",
       "newElement = document.createElementNS(\"http://www.w3.org/2000/svg\", 'rect'); \n",
       "newElement.setAttribute('width','1'); \n",
       "newElement.setAttribute('height','1'); \n",
       "newElement.setAttribute('x','8'); \n",
       "newElement.setAttribute('y','12'); \n",
       "newElement.style.fill = 'green'; \n",
       "svg.appendChild(newElement);\n",
       "newElement = document.createElementNS(\"http://www.w3.org/2000/svg\", 'rect'); \n",
       "newElement.setAttribute('width','1'); \n",
       "newElement.setAttribute('height','1'); \n",
       "newElement.setAttribute('x','9'); \n",
       "newElement.setAttribute('y','12'); \n",
       "newElement.style.fill = 'green'; \n",
       "svg.appendChild(newElement);\n",
       "newElement = document.createElementNS(\"http://www.w3.org/2000/svg\", 'rect'); \n",
       "newElement.setAttribute('width','1'); \n",
       "newElement.setAttribute('height','1'); \n",
       "newElement.setAttribute('x','10'); \n",
       "newElement.setAttribute('y','12'); \n",
       "newElement.style.fill = 'green'; \n",
       "svg.appendChild(newElement);\n",
       "newElement = document.createElementNS(\"http://www.w3.org/2000/svg\", 'rect'); \n",
       "newElement.setAttribute('width','1'); \n",
       "newElement.setAttribute('height','1'); \n",
       "newElement.setAttribute('x','11'); \n",
       "newElement.setAttribute('y','12'); \n",
       "newElement.style.fill = 'green'; \n",
       "svg.appendChild(newElement);\n",
       "newElement = document.createElementNS(\"http://www.w3.org/2000/svg\", 'rect'); \n",
       "newElement.setAttribute('width','1'); \n",
       "newElement.setAttribute('height','1'); \n",
       "newElement.setAttribute('x','12'); \n",
       "newElement.setAttribute('y','12'); \n",
       "newElement.style.fill = 'green'; \n",
       "svg.appendChild(newElement);\n",
       "newElement = document.createElementNS(\"http://www.w3.org/2000/svg\", 'rect'); \n",
       "newElement.setAttribute('width','1'); \n",
       "newElement.setAttribute('height','1'); \n",
       "newElement.setAttribute('x','13'); \n",
       "newElement.setAttribute('y','12'); \n",
       "newElement.style.fill = 'green'; \n",
       "svg.appendChild(newElement);\n",
       "newElement = document.createElementNS(\"http://www.w3.org/2000/svg\", 'rect'); \n",
       "newElement.setAttribute('width','1'); \n",
       "newElement.setAttribute('height','1'); \n",
       "newElement.setAttribute('x','14'); \n",
       "newElement.setAttribute('y','12'); \n",
       "newElement.style.fill = 'green'; \n",
       "svg.appendChild(newElement);\n",
       "newElement = document.createElementNS(\"http://www.w3.org/2000/svg\", 'rect'); \n",
       "newElement.setAttribute('width','1'); \n",
       "newElement.setAttribute('height','1'); \n",
       "newElement.setAttribute('x','15'); \n",
       "newElement.setAttribute('y','12'); \n",
       "newElement.style.fill = 'green'; \n",
       "svg.appendChild(newElement);\n",
       "newElement = document.createElementNS(\"http://www.w3.org/2000/svg\", 'rect'); \n",
       "newElement.setAttribute('width','1'); \n",
       "newElement.setAttribute('height','1'); \n",
       "newElement.setAttribute('x','16'); \n",
       "newElement.setAttribute('y','12'); \n",
       "newElement.style.fill = 'green'; \n",
       "svg.appendChild(newElement);\n",
       "newElement = document.createElementNS(\"http://www.w3.org/2000/svg\", 'rect'); \n",
       "newElement.setAttribute('width','1'); \n",
       "newElement.setAttribute('height','1'); \n",
       "newElement.setAttribute('x','0'); \n",
       "newElement.setAttribute('y','13'); \n",
       "newElement.style.fill = 'green'; \n",
       "svg.appendChild(newElement);\n",
       "newElement = document.createElementNS(\"http://www.w3.org/2000/svg\", 'rect'); \n",
       "newElement.setAttribute('width','1'); \n",
       "newElement.setAttribute('height','1'); \n",
       "newElement.setAttribute('x','1'); \n",
       "newElement.setAttribute('y','13'); \n",
       "newElement.style.fill = 'green'; \n",
       "svg.appendChild(newElement);\n",
       "newElement = document.createElementNS(\"http://www.w3.org/2000/svg\", 'rect'); \n",
       "newElement.setAttribute('width','1'); \n",
       "newElement.setAttribute('height','1'); \n",
       "newElement.setAttribute('x','2'); \n",
       "newElement.setAttribute('y','13'); \n",
       "newElement.style.fill = 'black'; \n",
       "svg.appendChild(newElement);\n",
       "newElement = document.createElementNS(\"http://www.w3.org/2000/svg\", 'rect'); \n",
       "newElement.setAttribute('width','1'); \n",
       "newElement.setAttribute('height','1'); \n",
       "newElement.setAttribute('x','3'); \n",
       "newElement.setAttribute('y','13'); \n",
       "newElement.style.fill = 'black'; \n",
       "svg.appendChild(newElement);\n",
       "newElement = document.createElementNS(\"http://www.w3.org/2000/svg\", 'rect'); \n",
       "newElement.setAttribute('width','1'); \n",
       "newElement.setAttribute('height','1'); \n",
       "newElement.setAttribute('x','4'); \n",
       "newElement.setAttribute('y','13'); \n",
       "newElement.style.fill = 'black'; \n",
       "svg.appendChild(newElement);\n",
       "newElement = document.createElementNS(\"http://www.w3.org/2000/svg\", 'rect'); \n",
       "newElement.setAttribute('width','1'); \n",
       "newElement.setAttribute('height','1'); \n",
       "newElement.setAttribute('x','5'); \n",
       "newElement.setAttribute('y','13'); \n",
       "newElement.style.fill = 'black'; \n",
       "svg.appendChild(newElement);\n",
       "newElement = document.createElementNS(\"http://www.w3.org/2000/svg\", 'rect'); \n",
       "newElement.setAttribute('width','1'); \n",
       "newElement.setAttribute('height','1'); \n",
       "newElement.setAttribute('x','6'); \n",
       "newElement.setAttribute('y','13'); \n",
       "newElement.style.fill = 'green'; \n",
       "svg.appendChild(newElement);\n",
       "newElement = document.createElementNS(\"http://www.w3.org/2000/svg\", 'rect'); \n",
       "newElement.setAttribute('width','1'); \n",
       "newElement.setAttribute('height','1'); \n",
       "newElement.setAttribute('x','7'); \n",
       "newElement.setAttribute('y','13'); \n",
       "newElement.style.fill = 'green'; \n",
       "svg.appendChild(newElement);\n",
       "newElement = document.createElementNS(\"http://www.w3.org/2000/svg\", 'rect'); \n",
       "newElement.setAttribute('width','1'); \n",
       "newElement.setAttribute('height','1'); \n",
       "newElement.setAttribute('x','8'); \n",
       "newElement.setAttribute('y','13'); \n",
       "newElement.style.fill = 'green'; \n",
       "svg.appendChild(newElement);\n",
       "newElement = document.createElementNS(\"http://www.w3.org/2000/svg\", 'rect'); \n",
       "newElement.setAttribute('width','1'); \n",
       "newElement.setAttribute('height','1'); \n",
       "newElement.setAttribute('x','9'); \n",
       "newElement.setAttribute('y','13'); \n",
       "newElement.style.fill = 'green'; \n",
       "svg.appendChild(newElement);\n",
       "newElement = document.createElementNS(\"http://www.w3.org/2000/svg\", 'rect'); \n",
       "newElement.setAttribute('width','1'); \n",
       "newElement.setAttribute('height','1'); \n",
       "newElement.setAttribute('x','10'); \n",
       "newElement.setAttribute('y','13'); \n",
       "newElement.style.fill = 'green'; \n",
       "svg.appendChild(newElement);\n",
       "newElement = document.createElementNS(\"http://www.w3.org/2000/svg\", 'rect'); \n",
       "newElement.setAttribute('width','1'); \n",
       "newElement.setAttribute('height','1'); \n",
       "newElement.setAttribute('x','11'); \n",
       "newElement.setAttribute('y','13'); \n",
       "newElement.style.fill = 'green'; \n",
       "svg.appendChild(newElement);\n",
       "newElement = document.createElementNS(\"http://www.w3.org/2000/svg\", 'rect'); \n",
       "newElement.setAttribute('width','1'); \n",
       "newElement.setAttribute('height','1'); \n",
       "newElement.setAttribute('x','12'); \n",
       "newElement.setAttribute('y','13'); \n",
       "newElement.style.fill = 'green'; \n",
       "svg.appendChild(newElement);\n",
       "newElement = document.createElementNS(\"http://www.w3.org/2000/svg\", 'rect'); \n",
       "newElement.setAttribute('width','1'); \n",
       "newElement.setAttribute('height','1'); \n",
       "newElement.setAttribute('x','13'); \n",
       "newElement.setAttribute('y','13'); \n",
       "newElement.style.fill = 'green'; \n",
       "svg.appendChild(newElement);\n",
       "newElement = document.createElementNS(\"http://www.w3.org/2000/svg\", 'rect'); \n",
       "newElement.setAttribute('width','1'); \n",
       "newElement.setAttribute('height','1'); \n",
       "newElement.setAttribute('x','14'); \n",
       "newElement.setAttribute('y','13'); \n",
       "newElement.style.fill = 'green'; \n",
       "svg.appendChild(newElement);\n",
       "newElement = document.createElementNS(\"http://www.w3.org/2000/svg\", 'rect'); \n",
       "newElement.setAttribute('width','1'); \n",
       "newElement.setAttribute('height','1'); \n",
       "newElement.setAttribute('x','15'); \n",
       "newElement.setAttribute('y','13'); \n",
       "newElement.style.fill = 'green'; \n",
       "svg.appendChild(newElement);\n",
       "newElement = document.createElementNS(\"http://www.w3.org/2000/svg\", 'rect'); \n",
       "newElement.setAttribute('width','1'); \n",
       "newElement.setAttribute('height','1'); \n",
       "newElement.setAttribute('x','16'); \n",
       "newElement.setAttribute('y','13'); \n",
       "newElement.style.fill = 'green'; \n",
       "svg.appendChild(newElement);\n",
       "newElement = document.createElementNS(\"http://www.w3.org/2000/svg\", 'rect'); \n",
       "newElement.setAttribute('width','1'); \n",
       "newElement.setAttribute('height','1'); \n",
       "newElement.setAttribute('x','0'); \n",
       "newElement.setAttribute('y','14'); \n",
       "newElement.style.fill = 'green'; \n",
       "svg.appendChild(newElement);\n",
       "newElement = document.createElementNS(\"http://www.w3.org/2000/svg\", 'rect'); \n",
       "newElement.setAttribute('width','1'); \n",
       "newElement.setAttribute('height','1'); \n",
       "newElement.setAttribute('x','1'); \n",
       "newElement.setAttribute('y','14'); \n",
       "newElement.style.fill = 'green'; \n",
       "svg.appendChild(newElement);\n",
       "newElement = document.createElementNS(\"http://www.w3.org/2000/svg\", 'rect'); \n",
       "newElement.setAttribute('width','1'); \n",
       "newElement.setAttribute('height','1'); \n",
       "newElement.setAttribute('x','2'); \n",
       "newElement.setAttribute('y','14'); \n",
       "newElement.style.fill = 'black'; \n",
       "svg.appendChild(newElement);\n",
       "newElement = document.createElementNS(\"http://www.w3.org/2000/svg\", 'rect'); \n",
       "newElement.setAttribute('width','1'); \n",
       "newElement.setAttribute('height','1'); \n",
       "newElement.setAttribute('x','3'); \n",
       "newElement.setAttribute('y','14'); \n",
       "newElement.style.fill = 'black'; \n",
       "svg.appendChild(newElement);\n",
       "newElement = document.createElementNS(\"http://www.w3.org/2000/svg\", 'rect'); \n",
       "newElement.setAttribute('width','1'); \n",
       "newElement.setAttribute('height','1'); \n",
       "newElement.setAttribute('x','4'); \n",
       "newElement.setAttribute('y','14'); \n",
       "newElement.style.fill = 'black'; \n",
       "svg.appendChild(newElement);\n",
       "newElement = document.createElementNS(\"http://www.w3.org/2000/svg\", 'rect'); \n",
       "newElement.setAttribute('width','1'); \n",
       "newElement.setAttribute('height','1'); \n",
       "newElement.setAttribute('x','5'); \n",
       "newElement.setAttribute('y','14'); \n",
       "newElement.style.fill = 'black'; \n",
       "svg.appendChild(newElement);\n",
       "newElement = document.createElementNS(\"http://www.w3.org/2000/svg\", 'rect'); \n",
       "newElement.setAttribute('width','1'); \n",
       "newElement.setAttribute('height','1'); \n",
       "newElement.setAttribute('x','6'); \n",
       "newElement.setAttribute('y','14'); \n",
       "newElement.style.fill = 'green'; \n",
       "svg.appendChild(newElement);\n",
       "newElement = document.createElementNS(\"http://www.w3.org/2000/svg\", 'rect'); \n",
       "newElement.setAttribute('width','1'); \n",
       "newElement.setAttribute('height','1'); \n",
       "newElement.setAttribute('x','7'); \n",
       "newElement.setAttribute('y','14'); \n",
       "newElement.style.fill = 'green'; \n",
       "svg.appendChild(newElement);\n",
       "newElement = document.createElementNS(\"http://www.w3.org/2000/svg\", 'rect'); \n",
       "newElement.setAttribute('width','1'); \n",
       "newElement.setAttribute('height','1'); \n",
       "newElement.setAttribute('x','8'); \n",
       "newElement.setAttribute('y','14'); \n",
       "newElement.style.fill = 'green'; \n",
       "svg.appendChild(newElement);\n",
       "newElement = document.createElementNS(\"http://www.w3.org/2000/svg\", 'rect'); \n",
       "newElement.setAttribute('width','1'); \n",
       "newElement.setAttribute('height','1'); \n",
       "newElement.setAttribute('x','9'); \n",
       "newElement.setAttribute('y','14'); \n",
       "newElement.style.fill = 'green'; \n",
       "svg.appendChild(newElement);\n",
       "newElement = document.createElementNS(\"http://www.w3.org/2000/svg\", 'rect'); \n",
       "newElement.setAttribute('width','1'); \n",
       "newElement.setAttribute('height','1'); \n",
       "newElement.setAttribute('x','10'); \n",
       "newElement.setAttribute('y','14'); \n",
       "newElement.style.fill = 'green'; \n",
       "svg.appendChild(newElement);\n",
       "newElement = document.createElementNS(\"http://www.w3.org/2000/svg\", 'rect'); \n",
       "newElement.setAttribute('width','1'); \n",
       "newElement.setAttribute('height','1'); \n",
       "newElement.setAttribute('x','11'); \n",
       "newElement.setAttribute('y','14'); \n",
       "newElement.style.fill = 'green'; \n",
       "svg.appendChild(newElement);\n",
       "newElement = document.createElementNS(\"http://www.w3.org/2000/svg\", 'rect'); \n",
       "newElement.setAttribute('width','1'); \n",
       "newElement.setAttribute('height','1'); \n",
       "newElement.setAttribute('x','12'); \n",
       "newElement.setAttribute('y','14'); \n",
       "newElement.style.fill = 'green'; \n",
       "svg.appendChild(newElement);\n",
       "newElement = document.createElementNS(\"http://www.w3.org/2000/svg\", 'rect'); \n",
       "newElement.setAttribute('width','1'); \n",
       "newElement.setAttribute('height','1'); \n",
       "newElement.setAttribute('x','13'); \n",
       "newElement.setAttribute('y','14'); \n",
       "newElement.style.fill = 'green'; \n",
       "svg.appendChild(newElement);\n",
       "newElement = document.createElementNS(\"http://www.w3.org/2000/svg\", 'rect'); \n",
       "newElement.setAttribute('width','1'); \n",
       "newElement.setAttribute('height','1'); \n",
       "newElement.setAttribute('x','14'); \n",
       "newElement.setAttribute('y','14'); \n",
       "newElement.style.fill = 'green'; \n",
       "svg.appendChild(newElement);\n",
       "newElement = document.createElementNS(\"http://www.w3.org/2000/svg\", 'rect'); \n",
       "newElement.setAttribute('width','1'); \n",
       "newElement.setAttribute('height','1'); \n",
       "newElement.setAttribute('x','15'); \n",
       "newElement.setAttribute('y','14'); \n",
       "newElement.style.fill = 'green'; \n",
       "svg.appendChild(newElement);\n",
       "newElement = document.createElementNS(\"http://www.w3.org/2000/svg\", 'rect'); \n",
       "newElement.setAttribute('width','1'); \n",
       "newElement.setAttribute('height','1'); \n",
       "newElement.setAttribute('x','16'); \n",
       "newElement.setAttribute('y','14'); \n",
       "newElement.style.fill = 'green'; \n",
       "svg.appendChild(newElement);\n",
       "newElement = document.createElementNS(\"http://www.w3.org/2000/svg\", 'rect'); \n",
       "newElement.setAttribute('width','1'); \n",
       "newElement.setAttribute('height','1'); \n",
       "newElement.setAttribute('x','0'); \n",
       "newElement.setAttribute('y','15'); \n",
       "newElement.style.fill = 'green'; \n",
       "svg.appendChild(newElement);\n",
       "newElement = document.createElementNS(\"http://www.w3.org/2000/svg\", 'rect'); \n",
       "newElement.setAttribute('width','1'); \n",
       "newElement.setAttribute('height','1'); \n",
       "newElement.setAttribute('x','1'); \n",
       "newElement.setAttribute('y','15'); \n",
       "newElement.style.fill = 'green'; \n",
       "svg.appendChild(newElement);\n",
       "newElement = document.createElementNS(\"http://www.w3.org/2000/svg\", 'rect'); \n",
       "newElement.setAttribute('width','1'); \n",
       "newElement.setAttribute('height','1'); \n",
       "newElement.setAttribute('x','2'); \n",
       "newElement.setAttribute('y','15'); \n",
       "newElement.style.fill = 'black'; \n",
       "svg.appendChild(newElement);\n",
       "newElement = document.createElementNS(\"http://www.w3.org/2000/svg\", 'rect'); \n",
       "newElement.setAttribute('width','1'); \n",
       "newElement.setAttribute('height','1'); \n",
       "newElement.setAttribute('x','3'); \n",
       "newElement.setAttribute('y','15'); \n",
       "newElement.style.fill = 'black'; \n",
       "svg.appendChild(newElement);\n",
       "newElement = document.createElementNS(\"http://www.w3.org/2000/svg\", 'rect'); \n",
       "newElement.setAttribute('width','1'); \n",
       "newElement.setAttribute('height','1'); \n",
       "newElement.setAttribute('x','4'); \n",
       "newElement.setAttribute('y','15'); \n",
       "newElement.style.fill = 'black'; \n",
       "svg.appendChild(newElement);\n",
       "newElement = document.createElementNS(\"http://www.w3.org/2000/svg\", 'rect'); \n",
       "newElement.setAttribute('width','1'); \n",
       "newElement.setAttribute('height','1'); \n",
       "newElement.setAttribute('x','5'); \n",
       "newElement.setAttribute('y','15'); \n",
       "newElement.style.fill = 'black'; \n",
       "svg.appendChild(newElement);\n",
       "newElement = document.createElementNS(\"http://www.w3.org/2000/svg\", 'rect'); \n",
       "newElement.setAttribute('width','1'); \n",
       "newElement.setAttribute('height','1'); \n",
       "newElement.setAttribute('x','6'); \n",
       "newElement.setAttribute('y','15'); \n",
       "newElement.style.fill = 'green'; \n",
       "svg.appendChild(newElement);\n",
       "newElement = document.createElementNS(\"http://www.w3.org/2000/svg\", 'rect'); \n",
       "newElement.setAttribute('width','1'); \n",
       "newElement.setAttribute('height','1'); \n",
       "newElement.setAttribute('x','7'); \n",
       "newElement.setAttribute('y','15'); \n",
       "newElement.style.fill = 'green'; \n",
       "svg.appendChild(newElement);\n",
       "newElement = document.createElementNS(\"http://www.w3.org/2000/svg\", 'rect'); \n",
       "newElement.setAttribute('width','1'); \n",
       "newElement.setAttribute('height','1'); \n",
       "newElement.setAttribute('x','8'); \n",
       "newElement.setAttribute('y','15'); \n",
       "newElement.style.fill = 'green'; \n",
       "svg.appendChild(newElement);\n",
       "newElement = document.createElementNS(\"http://www.w3.org/2000/svg\", 'rect'); \n",
       "newElement.setAttribute('width','1'); \n",
       "newElement.setAttribute('height','1'); \n",
       "newElement.setAttribute('x','9'); \n",
       "newElement.setAttribute('y','15'); \n",
       "newElement.style.fill = 'green'; \n",
       "svg.appendChild(newElement);\n",
       "newElement = document.createElementNS(\"http://www.w3.org/2000/svg\", 'rect'); \n",
       "newElement.setAttribute('width','1'); \n",
       "newElement.setAttribute('height','1'); \n",
       "newElement.setAttribute('x','10'); \n",
       "newElement.setAttribute('y','15'); \n",
       "newElement.style.fill = 'green'; \n",
       "svg.appendChild(newElement);\n",
       "newElement = document.createElementNS(\"http://www.w3.org/2000/svg\", 'rect'); \n",
       "newElement.setAttribute('width','1'); \n",
       "newElement.setAttribute('height','1'); \n",
       "newElement.setAttribute('x','11'); \n",
       "newElement.setAttribute('y','15'); \n",
       "newElement.style.fill = 'green'; \n",
       "svg.appendChild(newElement);\n",
       "newElement = document.createElementNS(\"http://www.w3.org/2000/svg\", 'rect'); \n",
       "newElement.setAttribute('width','1'); \n",
       "newElement.setAttribute('height','1'); \n",
       "newElement.setAttribute('x','12'); \n",
       "newElement.setAttribute('y','15'); \n",
       "newElement.style.fill = 'green'; \n",
       "svg.appendChild(newElement);\n",
       "newElement = document.createElementNS(\"http://www.w3.org/2000/svg\", 'rect'); \n",
       "newElement.setAttribute('width','1'); \n",
       "newElement.setAttribute('height','1'); \n",
       "newElement.setAttribute('x','13'); \n",
       "newElement.setAttribute('y','15'); \n",
       "newElement.style.fill = 'green'; \n",
       "svg.appendChild(newElement);\n",
       "newElement = document.createElementNS(\"http://www.w3.org/2000/svg\", 'rect'); \n",
       "newElement.setAttribute('width','1'); \n",
       "newElement.setAttribute('height','1'); \n",
       "newElement.setAttribute('x','14'); \n",
       "newElement.setAttribute('y','15'); \n",
       "newElement.style.fill = 'green'; \n",
       "svg.appendChild(newElement);\n",
       "newElement = document.createElementNS(\"http://www.w3.org/2000/svg\", 'rect'); \n",
       "newElement.setAttribute('width','1'); \n",
       "newElement.setAttribute('height','1'); \n",
       "newElement.setAttribute('x','15'); \n",
       "newElement.setAttribute('y','15'); \n",
       "newElement.style.fill = 'green'; \n",
       "svg.appendChild(newElement);\n",
       "newElement = document.createElementNS(\"http://www.w3.org/2000/svg\", 'rect'); \n",
       "newElement.setAttribute('width','1'); \n",
       "newElement.setAttribute('height','1'); \n",
       "newElement.setAttribute('x','16'); \n",
       "newElement.setAttribute('y','15'); \n",
       "newElement.style.fill = 'green'; \n",
       "svg.appendChild(newElement);\n",
       "newElement = document.createElementNS(\"http://www.w3.org/2000/svg\", 'rect'); \n",
       "newElement.setAttribute('width','1'); \n",
       "newElement.setAttribute('height','1'); \n",
       "newElement.setAttribute('x','0'); \n",
       "newElement.setAttribute('y','16'); \n",
       "newElement.style.fill = 'green'; \n",
       "svg.appendChild(newElement);\n",
       "newElement = document.createElementNS(\"http://www.w3.org/2000/svg\", 'rect'); \n",
       "newElement.setAttribute('width','1'); \n",
       "newElement.setAttribute('height','1'); \n",
       "newElement.setAttribute('x','1'); \n",
       "newElement.setAttribute('y','16'); \n",
       "newElement.style.fill = 'green'; \n",
       "svg.appendChild(newElement);\n",
       "newElement = document.createElementNS(\"http://www.w3.org/2000/svg\", 'rect'); \n",
       "newElement.setAttribute('width','1'); \n",
       "newElement.setAttribute('height','1'); \n",
       "newElement.setAttribute('x','2'); \n",
       "newElement.setAttribute('y','16'); \n",
       "newElement.style.fill = 'black'; \n",
       "svg.appendChild(newElement);\n",
       "newElement = document.createElementNS(\"http://www.w3.org/2000/svg\", 'rect'); \n",
       "newElement.setAttribute('width','1'); \n",
       "newElement.setAttribute('height','1'); \n",
       "newElement.setAttribute('x','3'); \n",
       "newElement.setAttribute('y','16'); \n",
       "newElement.style.fill = 'black'; \n",
       "svg.appendChild(newElement);\n",
       "newElement = document.createElementNS(\"http://www.w3.org/2000/svg\", 'rect'); \n",
       "newElement.setAttribute('width','1'); \n",
       "newElement.setAttribute('height','1'); \n",
       "newElement.setAttribute('x','4'); \n",
       "newElement.setAttribute('y','16'); \n",
       "newElement.style.fill = 'black'; \n",
       "svg.appendChild(newElement);\n",
       "newElement = document.createElementNS(\"http://www.w3.org/2000/svg\", 'rect'); \n",
       "newElement.setAttribute('width','1'); \n",
       "newElement.setAttribute('height','1'); \n",
       "newElement.setAttribute('x','5'); \n",
       "newElement.setAttribute('y','16'); \n",
       "newElement.style.fill = 'black'; \n",
       "svg.appendChild(newElement);\n",
       "newElement = document.createElementNS(\"http://www.w3.org/2000/svg\", 'rect'); \n",
       "newElement.setAttribute('width','1'); \n",
       "newElement.setAttribute('height','1'); \n",
       "newElement.setAttribute('x','6'); \n",
       "newElement.setAttribute('y','16'); \n",
       "newElement.style.fill = 'green'; \n",
       "svg.appendChild(newElement);\n",
       "newElement = document.createElementNS(\"http://www.w3.org/2000/svg\", 'rect'); \n",
       "newElement.setAttribute('width','1'); \n",
       "newElement.setAttribute('height','1'); \n",
       "newElement.setAttribute('x','7'); \n",
       "newElement.setAttribute('y','16'); \n",
       "newElement.style.fill = 'green'; \n",
       "svg.appendChild(newElement);\n",
       "newElement = document.createElementNS(\"http://www.w3.org/2000/svg\", 'rect'); \n",
       "newElement.setAttribute('width','1'); \n",
       "newElement.setAttribute('height','1'); \n",
       "newElement.setAttribute('x','8'); \n",
       "newElement.setAttribute('y','16'); \n",
       "newElement.style.fill = 'green'; \n",
       "svg.appendChild(newElement);\n",
       "newElement = document.createElementNS(\"http://www.w3.org/2000/svg\", 'rect'); \n",
       "newElement.setAttribute('width','1'); \n",
       "newElement.setAttribute('height','1'); \n",
       "newElement.setAttribute('x','9'); \n",
       "newElement.setAttribute('y','16'); \n",
       "newElement.style.fill = 'green'; \n",
       "svg.appendChild(newElement);\n",
       "newElement = document.createElementNS(\"http://www.w3.org/2000/svg\", 'rect'); \n",
       "newElement.setAttribute('width','1'); \n",
       "newElement.setAttribute('height','1'); \n",
       "newElement.setAttribute('x','10'); \n",
       "newElement.setAttribute('y','16'); \n",
       "newElement.style.fill = 'green'; \n",
       "svg.appendChild(newElement);\n",
       "newElement = document.createElementNS(\"http://www.w3.org/2000/svg\", 'rect'); \n",
       "newElement.setAttribute('width','1'); \n",
       "newElement.setAttribute('height','1'); \n",
       "newElement.setAttribute('x','11'); \n",
       "newElement.setAttribute('y','16'); \n",
       "newElement.style.fill = 'green'; \n",
       "svg.appendChild(newElement);\n",
       "newElement = document.createElementNS(\"http://www.w3.org/2000/svg\", 'rect'); \n",
       "newElement.setAttribute('width','1'); \n",
       "newElement.setAttribute('height','1'); \n",
       "newElement.setAttribute('x','12'); \n",
       "newElement.setAttribute('y','16'); \n",
       "newElement.style.fill = 'green'; \n",
       "svg.appendChild(newElement);\n",
       "newElement = document.createElementNS(\"http://www.w3.org/2000/svg\", 'rect'); \n",
       "newElement.setAttribute('width','1'); \n",
       "newElement.setAttribute('height','1'); \n",
       "newElement.setAttribute('x','13'); \n",
       "newElement.setAttribute('y','16'); \n",
       "newElement.style.fill = 'green'; \n",
       "svg.appendChild(newElement);\n",
       "newElement = document.createElementNS(\"http://www.w3.org/2000/svg\", 'rect'); \n",
       "newElement.setAttribute('width','1'); \n",
       "newElement.setAttribute('height','1'); \n",
       "newElement.setAttribute('x','14'); \n",
       "newElement.setAttribute('y','16'); \n",
       "newElement.style.fill = 'green'; \n",
       "svg.appendChild(newElement);\n",
       "newElement = document.createElementNS(\"http://www.w3.org/2000/svg\", 'rect'); \n",
       "newElement.setAttribute('width','1'); \n",
       "newElement.setAttribute('height','1'); \n",
       "newElement.setAttribute('x','15'); \n",
       "newElement.setAttribute('y','16'); \n",
       "newElement.style.fill = 'green'; \n",
       "svg.appendChild(newElement);\n",
       "newElement = document.createElementNS(\"http://www.w3.org/2000/svg\", 'rect'); \n",
       "newElement.setAttribute('width','1'); \n",
       "newElement.setAttribute('height','1'); \n",
       "newElement.setAttribute('x','16'); \n",
       "newElement.setAttribute('y','16'); \n",
       "newElement.style.fill = 'green'; \n",
       "svg.appendChild(newElement);\n",
       "newElement = document.createElementNS(\"http://www.w3.org/2000/svg\", 'rect'); \n",
       "newElement.setAttribute('width','1'); \n",
       "newElement.setAttribute('height','1'); \n",
       "newElement.setAttribute('x','0'); \n",
       "newElement.setAttribute('y','17'); \n",
       "newElement.style.fill = 'green'; \n",
       "svg.appendChild(newElement);\n",
       "newElement = document.createElementNS(\"http://www.w3.org/2000/svg\", 'rect'); \n",
       "newElement.setAttribute('width','1'); \n",
       "newElement.setAttribute('height','1'); \n",
       "newElement.setAttribute('x','1'); \n",
       "newElement.setAttribute('y','17'); \n",
       "newElement.style.fill = 'green'; \n",
       "svg.appendChild(newElement);\n",
       "newElement = document.createElementNS(\"http://www.w3.org/2000/svg\", 'rect'); \n",
       "newElement.setAttribute('width','1'); \n",
       "newElement.setAttribute('height','1'); \n",
       "newElement.setAttribute('x','2'); \n",
       "newElement.setAttribute('y','17'); \n",
       "newElement.style.fill = 'black'; \n",
       "svg.appendChild(newElement);\n",
       "newElement = document.createElementNS(\"http://www.w3.org/2000/svg\", 'rect'); \n",
       "newElement.setAttribute('width','1'); \n",
       "newElement.setAttribute('height','1'); \n",
       "newElement.setAttribute('x','3'); \n",
       "newElement.setAttribute('y','17'); \n",
       "newElement.style.fill = 'black'; \n",
       "svg.appendChild(newElement);\n",
       "newElement = document.createElementNS(\"http://www.w3.org/2000/svg\", 'rect'); \n",
       "newElement.setAttribute('width','1'); \n",
       "newElement.setAttribute('height','1'); \n",
       "newElement.setAttribute('x','4'); \n",
       "newElement.setAttribute('y','17'); \n",
       "newElement.style.fill = 'black'; \n",
       "svg.appendChild(newElement);\n",
       "newElement = document.createElementNS(\"http://www.w3.org/2000/svg\", 'rect'); \n",
       "newElement.setAttribute('width','1'); \n",
       "newElement.setAttribute('height','1'); \n",
       "newElement.setAttribute('x','5'); \n",
       "newElement.setAttribute('y','17'); \n",
       "newElement.style.fill = 'black'; \n",
       "svg.appendChild(newElement);\n",
       "newElement = document.createElementNS(\"http://www.w3.org/2000/svg\", 'rect'); \n",
       "newElement.setAttribute('width','1'); \n",
       "newElement.setAttribute('height','1'); \n",
       "newElement.setAttribute('x','6'); \n",
       "newElement.setAttribute('y','17'); \n",
       "newElement.style.fill = 'green'; \n",
       "svg.appendChild(newElement);\n",
       "newElement = document.createElementNS(\"http://www.w3.org/2000/svg\", 'rect'); \n",
       "newElement.setAttribute('width','1'); \n",
       "newElement.setAttribute('height','1'); \n",
       "newElement.setAttribute('x','7'); \n",
       "newElement.setAttribute('y','17'); \n",
       "newElement.style.fill = 'green'; \n",
       "svg.appendChild(newElement);\n",
       "newElement = document.createElementNS(\"http://www.w3.org/2000/svg\", 'rect'); \n",
       "newElement.setAttribute('width','1'); \n",
       "newElement.setAttribute('height','1'); \n",
       "newElement.setAttribute('x','8'); \n",
       "newElement.setAttribute('y','17'); \n",
       "newElement.style.fill = 'green'; \n",
       "svg.appendChild(newElement);\n",
       "newElement = document.createElementNS(\"http://www.w3.org/2000/svg\", 'rect'); \n",
       "newElement.setAttribute('width','1'); \n",
       "newElement.setAttribute('height','1'); \n",
       "newElement.setAttribute('x','9'); \n",
       "newElement.setAttribute('y','17'); \n",
       "newElement.style.fill = 'green'; \n",
       "svg.appendChild(newElement);\n",
       "newElement = document.createElementNS(\"http://www.w3.org/2000/svg\", 'rect'); \n",
       "newElement.setAttribute('width','1'); \n",
       "newElement.setAttribute('height','1'); \n",
       "newElement.setAttribute('x','10'); \n",
       "newElement.setAttribute('y','17'); \n",
       "newElement.style.fill = 'green'; \n",
       "svg.appendChild(newElement);\n",
       "newElement = document.createElementNS(\"http://www.w3.org/2000/svg\", 'rect'); \n",
       "newElement.setAttribute('width','1'); \n",
       "newElement.setAttribute('height','1'); \n",
       "newElement.setAttribute('x','11'); \n",
       "newElement.setAttribute('y','17'); \n",
       "newElement.style.fill = 'green'; \n",
       "svg.appendChild(newElement);\n",
       "newElement = document.createElementNS(\"http://www.w3.org/2000/svg\", 'rect'); \n",
       "newElement.setAttribute('width','1'); \n",
       "newElement.setAttribute('height','1'); \n",
       "newElement.setAttribute('x','12'); \n",
       "newElement.setAttribute('y','17'); \n",
       "newElement.style.fill = 'green'; \n",
       "svg.appendChild(newElement);\n",
       "newElement = document.createElementNS(\"http://www.w3.org/2000/svg\", 'rect'); \n",
       "newElement.setAttribute('width','1'); \n",
       "newElement.setAttribute('height','1'); \n",
       "newElement.setAttribute('x','13'); \n",
       "newElement.setAttribute('y','17'); \n",
       "newElement.style.fill = 'green'; \n",
       "svg.appendChild(newElement);\n",
       "newElement = document.createElementNS(\"http://www.w3.org/2000/svg\", 'rect'); \n",
       "newElement.setAttribute('width','1'); \n",
       "newElement.setAttribute('height','1'); \n",
       "newElement.setAttribute('x','14'); \n",
       "newElement.setAttribute('y','17'); \n",
       "newElement.style.fill = 'green'; \n",
       "svg.appendChild(newElement);\n",
       "newElement = document.createElementNS(\"http://www.w3.org/2000/svg\", 'rect'); \n",
       "newElement.setAttribute('width','1'); \n",
       "newElement.setAttribute('height','1'); \n",
       "newElement.setAttribute('x','15'); \n",
       "newElement.setAttribute('y','17'); \n",
       "newElement.style.fill = 'green'; \n",
       "svg.appendChild(newElement);\n",
       "newElement = document.createElementNS(\"http://www.w3.org/2000/svg\", 'rect'); \n",
       "newElement.setAttribute('width','1'); \n",
       "newElement.setAttribute('height','1'); \n",
       "newElement.setAttribute('x','16'); \n",
       "newElement.setAttribute('y','17'); \n",
       "newElement.style.fill = 'green'; \n",
       "svg.appendChild(newElement);\n"
      ]
     },
     "metadata": {},
     "output_type": "display_data"
    },
    {
     "data": {
      "text/html": [
       "<script>\n",
       "require([\"d3\"], function(d3) {\n",
       "    var g = d3.select(\".usersvg #canvasnIW\").append(\"g\").attr(\"id\", \"racerm0W\");\n",
       "    g.append(\"circle\").style(\"fill\", \"red\").attr(\"r\", 0.5).attr(\"cx\", 1 - 0.5).attr(\"cy\", 1 - 0.5);\n",
       "});\n"
      ]
     },
     "metadata": {},
     "output_type": "display_data"
    },
    {
     "data": {
      "text/html": [
       "<script>\n",
       "require([\"d3\"], function(d3) {\n",
       "d3.select(\"#racerm0W circle\").attr(\"cx\", 14).attr(\"cy\", 13);\n",
       "});\n"
      ]
     },
     "metadata": {},
     "output_type": "display_data"
    },
    {
     "data": {
      "text/html": [
       "<script>\n",
       "require([\"d3\"], function(d3) {\n",
       "d3.select(\"#racerm0W circle\").attr(\"cx\", 2).attr(\"cy\", 13);\n",
       "});\n"
      ]
     },
     "metadata": {},
     "output_type": "display_data"
    },
    {
     "data": {
      "text/html": [
       "<script>\n",
       "require([\"d3\"], function(d3) {\n",
       "d3.select(\"#racerm0W circle\").attr(\"cx\", 8).attr(\"cy\", 13);\n",
       "});\n"
      ]
     },
     "metadata": {},
     "output_type": "display_data"
    },
    {
     "data": {
      "text/html": [
       "<script>\n",
       "require([\"d3\"], function(d3) {\n",
       "d3.select(\"#racerm0W circle\").attr(\"cx\", 7).attr(\"cy\", 13);\n",
       "});\n"
      ]
     },
     "metadata": {},
     "output_type": "display_data"
    },
    {
     "data": {
      "text/html": [
       "<script>\n",
       "require([\"d3\"], function(d3) {\n",
       "d3.select(\"#racerm0W circle\").attr(\"cx\", 11).attr(\"cy\", 13);\n",
       "});\n"
      ]
     },
     "metadata": {},
     "output_type": "display_data"
    },
    {
     "data": {
      "text/html": [
       "<script>\n",
       "require([\"d3\"], function(d3) {\n",
       "d3.select(\"#racerm0W circle\").attr(\"cx\", 9).attr(\"cy\", 13);\n",
       "});\n"
      ]
     },
     "metadata": {},
     "output_type": "display_data"
    },
    {
     "data": {
      "text/html": [
       "<script>\n",
       "require([\"d3\"], function(d3) {\n",
       "d3.select(\"#racerm0W circle\").attr(\"cx\", 4).attr(\"cy\", 13);\n",
       "});\n"
      ]
     },
     "metadata": {},
     "output_type": "display_data"
    },
    {
     "data": {
      "text/html": [
       "<script>\n",
       "require([\"d3\"], function(d3) {\n",
       "d3.select(\"#racerm0W circle\").attr(\"cx\", 2).attr(\"cy\", 13);\n",
       "});\n"
      ]
     },
     "metadata": {},
     "output_type": "display_data"
    },
    {
     "data": {
      "text/html": [
       "<script>\n",
       "require([\"d3\"], function(d3) {\n",
       "d3.select(\"#racerm0W circle\").attr(\"cx\", 1).attr(\"cy\", 13);\n",
       "});\n"
      ]
     },
     "metadata": {},
     "output_type": "display_data"
    },
    {
     "data": {
      "text/html": [
       "<script>\n",
       "require([\"d3\"], function(d3) {\n",
       "d3.select(\"#racerm0W circle\").attr(\"cx\", 15).attr(\"cy\", 13);\n",
       "});\n"
      ]
     },
     "metadata": {},
     "output_type": "display_data"
    },
    {
     "data": {
      "text/html": [
       "<script>\n",
       "require([\"d3\"], function(d3) {\n",
       "d3.select(\"#racerm0W circle\").attr(\"cx\", 12).attr(\"cy\", 13);\n",
       "});\n"
      ]
     },
     "metadata": {},
     "output_type": "display_data"
    },
    {
     "data": {
      "text/html": [
       "<script>\n",
       "require([\"d3\"], function(d3) {\n",
       "d3.select(\"#racerm0W circle\").attr(\"cx\", 15).attr(\"cy\", 13);\n",
       "});\n"
      ]
     },
     "metadata": {},
     "output_type": "display_data"
    },
    {
     "data": {
      "text/html": [
       "<script>\n",
       "require([\"d3\"], function(d3) {\n",
       "d3.select(\"#racerm0W circle\").attr(\"cx\", 4).attr(\"cy\", 13);\n",
       "});\n"
      ]
     },
     "metadata": {},
     "output_type": "display_data"
    },
    {
     "data": {
      "text/html": [
       "<script>\n",
       "require([\"d3\"], function(d3) {\n",
       "d3.select(\"#racerm0W circle\").attr(\"cx\", 10).attr(\"cy\", 13);\n",
       "});\n"
      ]
     },
     "metadata": {},
     "output_type": "display_data"
    },
    {
     "data": {
      "text/html": [
       "<script>\n",
       "require([\"d3\"], function(d3) {\n",
       "d3.select(\"#racerm0W circle\").attr(\"cx\", 4).attr(\"cy\", 13);\n",
       "});\n"
      ]
     },
     "metadata": {},
     "output_type": "display_data"
    },
    {
     "data": {
      "text/html": [
       "<script>\n",
       "require([\"d3\"], function(d3) {\n",
       "d3.select(\"#racerm0W circle\").attr(\"cx\", 7).attr(\"cy\", 13);\n",
       "});\n"
      ]
     },
     "metadata": {},
     "output_type": "display_data"
    },
    {
     "data": {
      "text/html": [
       "<script>\n",
       "require([\"d3\"], function(d3) {\n",
       "d3.select(\"#racerm0W circle\").attr(\"cx\", 13).attr(\"cy\", 13);\n",
       "});\n"
      ]
     },
     "metadata": {},
     "output_type": "display_data"
    },
    {
     "data": {
      "text/html": [
       "<script>\n",
       "require([\"d3\"], function(d3) {\n",
       "d3.select(\"#racerm0W circle\").attr(\"cx\", 2).attr(\"cy\", 13);\n",
       "});\n"
      ]
     },
     "metadata": {},
     "output_type": "display_data"
    },
    {
     "data": {
      "text/html": [
       "<script>\n",
       "require([\"d3\"], function(d3) {\n",
       "d3.select(\"#racerm0W circle\").attr(\"cx\", 13).attr(\"cy\", 13);\n",
       "});\n"
      ]
     },
     "metadata": {},
     "output_type": "display_data"
    },
    {
     "data": {
      "text/html": [
       "<script>\n",
       "require([\"d3\"], function(d3) {\n",
       "d3.select(\"#racerm0W circle\").attr(\"cx\", 15).attr(\"cy\", 13);\n",
       "});\n"
      ]
     },
     "metadata": {},
     "output_type": "display_data"
    },
    {
     "data": {
      "text/html": [
       "<script>\n",
       "require([\"d3\"], function(d3) {\n",
       "d3.select(\"#racerm0W circle\").attr(\"cx\", 7).attr(\"cy\", 13);\n",
       "});\n"
      ]
     },
     "metadata": {},
     "output_type": "display_data"
    },
    {
     "data": {
      "text/html": [
       "<script>\n",
       "require([\"d3\"], function(d3) {\n",
       "d3.select(\"#racerm0W circle\").attr(\"cx\", 10).attr(\"cy\", 13);\n",
       "});\n"
      ]
     },
     "metadata": {},
     "output_type": "display_data"
    },
    {
     "data": {
      "text/html": [
       "<script>\n",
       "require([\"d3\"], function(d3) {\n",
       "d3.select(\"#racerm0W circle\").attr(\"cx\", 1).attr(\"cy\", 13);\n",
       "});\n"
      ]
     },
     "metadata": {},
     "output_type": "display_data"
    },
    {
     "data": {
      "text/html": [
       "<script>\n",
       "require([\"d3\"], function(d3) {\n",
       "d3.select(\"#racerm0W circle\").attr(\"cx\", 11).attr(\"cy\", 13);\n",
       "});\n"
      ]
     },
     "metadata": {},
     "output_type": "display_data"
    },
    {
     "data": {
      "text/html": [
       "<script>\n",
       "require([\"d3\"], function(d3) {\n",
       "d3.select(\"#racerm0W circle\").attr(\"cx\", 7).attr(\"cy\", 13);\n",
       "});\n"
      ]
     },
     "metadata": {},
     "output_type": "display_data"
    },
    {
     "data": {
      "text/html": [
       "<script>\n",
       "require([\"d3\"], function(d3) {\n",
       "d3.select(\"#racerm0W circle\").attr(\"cx\", 5).attr(\"cy\", 13);\n",
       "});\n"
      ]
     },
     "metadata": {},
     "output_type": "display_data"
    },
    {
     "data": {
      "text/html": [
       "<script>\n",
       "require([\"d3\"], function(d3) {\n",
       "d3.select(\"#racerm0W circle\").attr(\"cx\", 7).attr(\"cy\", 13);\n",
       "});\n"
      ]
     },
     "metadata": {},
     "output_type": "display_data"
    },
    {
     "data": {
      "text/html": [
       "<script>\n",
       "require([\"d3\"], function(d3) {\n",
       "d3.select(\"#racerm0W circle\").attr(\"cx\", 7).attr(\"cy\", 13);\n",
       "});\n"
      ]
     },
     "metadata": {},
     "output_type": "display_data"
    },
    {
     "data": {
      "text/html": [
       "<script>\n",
       "require([\"d3\"], function(d3) {\n",
       "d3.select(\"#racerm0W circle\").attr(\"cx\", 4).attr(\"cy\", 13);\n",
       "});\n"
      ]
     },
     "metadata": {},
     "output_type": "display_data"
    },
    {
     "data": {
      "text/html": [
       "<script>\n",
       "require([\"d3\"], function(d3) {\n",
       "d3.select(\"#racerm0W circle\").attr(\"cx\", 6).attr(\"cy\", 13);\n",
       "});\n"
      ]
     },
     "metadata": {},
     "output_type": "display_data"
    },
    {
     "data": {
      "text/html": [
       "<script>\n",
       "require([\"d3\"], function(d3) {\n",
       "d3.select(\"#racerm0W circle\").attr(\"cx\", 8).attr(\"cy\", 13);\n",
       "});\n"
      ]
     },
     "metadata": {},
     "output_type": "display_data"
    },
    {
     "data": {
      "text/html": [
       "<script>\n",
       "require([\"d3\"], function(d3) {\n",
       "d3.select(\"#racerm0W circle\").attr(\"cx\", 10).attr(\"cy\", 13);\n",
       "});\n"
      ]
     },
     "metadata": {},
     "output_type": "display_data"
    },
    {
     "data": {
      "text/html": [
       "<script>\n",
       "require([\"d3\"], function(d3) {\n",
       "d3.select(\"#racerm0W circle\").attr(\"cx\", 4).attr(\"cy\", 13);\n",
       "});\n"
      ]
     },
     "metadata": {},
     "output_type": "display_data"
    },
    {
     "data": {
      "text/html": [
       "<script>\n",
       "require([\"d3\"], function(d3) {\n",
       "d3.select(\"#racerm0W circle\").attr(\"cx\", 11).attr(\"cy\", 13);\n",
       "});\n"
      ]
     },
     "metadata": {},
     "output_type": "display_data"
    },
    {
     "data": {
      "text/html": [
       "<script>\n",
       "require([\"d3\"], function(d3) {\n",
       "d3.select(\"#racerm0W circle\").attr(\"cx\", 1).attr(\"cy\", 13);\n",
       "});\n"
      ]
     },
     "metadata": {},
     "output_type": "display_data"
    },
    {
     "data": {
      "text/html": [
       "<script>\n",
       "require([\"d3\"], function(d3) {\n",
       "d3.select(\"#racerm0W circle\").attr(\"cx\", 4).attr(\"cy\", 13);\n",
       "});\n"
      ]
     },
     "metadata": {},
     "output_type": "display_data"
    },
    {
     "data": {
      "text/html": [
       "<script>\n",
       "require([\"d3\"], function(d3) {\n",
       "d3.select(\"#racerm0W circle\").attr(\"cx\", 2).attr(\"cy\", 13);\n",
       "});\n"
      ]
     },
     "metadata": {},
     "output_type": "display_data"
    },
    {
     "data": {
      "text/html": [
       "<script>\n",
       "require([\"d3\"], function(d3) {\n",
       "d3.select(\"#racerm0W circle\").attr(\"cx\", 3).attr(\"cy\", 13);\n",
       "});\n"
      ]
     },
     "metadata": {},
     "output_type": "display_data"
    },
    {
     "data": {
      "text/html": [
       "<script>\n",
       "require([\"d3\"], function(d3) {\n",
       "d3.select(\"#racerm0W circle\").attr(\"cx\", 2).attr(\"cy\", 13);\n",
       "});\n"
      ]
     },
     "metadata": {},
     "output_type": "display_data"
    },
    {
     "data": {
      "text/html": [
       "<script>\n",
       "require([\"d3\"], function(d3) {\n",
       "d3.select(\"#racerm0W circle\").attr(\"cx\", 4).attr(\"cy\", 13);\n",
       "});\n"
      ]
     },
     "metadata": {},
     "output_type": "display_data"
    },
    {
     "data": {
      "text/html": [
       "<script>\n",
       "require([\"d3\"], function(d3) {\n",
       "d3.select(\"#racerm0W circle\").attr(\"cx\", 14).attr(\"cy\", 13);\n",
       "});\n"
      ]
     },
     "metadata": {},
     "output_type": "display_data"
    },
    {
     "data": {
      "text/html": [
       "<script>\n",
       "require([\"d3\"], function(d3) {\n",
       "d3.select(\"#racerm0W circle\").attr(\"cx\", 15).attr(\"cy\", 13);\n",
       "});\n"
      ]
     },
     "metadata": {},
     "output_type": "display_data"
    },
    {
     "data": {
      "text/html": [
       "<script>\n",
       "require([\"d3\"], function(d3) {\n",
       "d3.select(\"#racerm0W circle\").attr(\"cx\", 6).attr(\"cy\", 13);\n",
       "});\n"
      ]
     },
     "metadata": {},
     "output_type": "display_data"
    },
    {
     "data": {
      "text/html": [
       "<script>\n",
       "require([\"d3\"], function(d3) {\n",
       "d3.select(\"#racerm0W circle\").attr(\"cx\", 10).attr(\"cy\", 13);\n",
       "});\n"
      ]
     },
     "metadata": {},
     "output_type": "display_data"
    },
    {
     "data": {
      "text/html": [
       "<script>\n",
       "require([\"d3\"], function(d3) {\n",
       "d3.select(\"#racerm0W circle\").attr(\"cx\", 11).attr(\"cy\", 13);\n",
       "});\n"
      ]
     },
     "metadata": {},
     "output_type": "display_data"
    },
    {
     "data": {
      "text/html": [
       "<script>\n",
       "require([\"d3\"], function(d3) {\n",
       "d3.select(\"#racerm0W circle\").attr(\"cx\", 11).attr(\"cy\", 13);\n",
       "});\n"
      ]
     },
     "metadata": {},
     "output_type": "display_data"
    },
    {
     "data": {
      "text/html": [
       "<script>\n",
       "require([\"d3\"], function(d3) {\n",
       "d3.select(\"#racerm0W circle\").attr(\"cx\", 5).attr(\"cy\", 13);\n",
       "});\n"
      ]
     },
     "metadata": {},
     "output_type": "display_data"
    },
    {
     "data": {
      "text/html": [
       "<script>\n",
       "require([\"d3\"], function(d3) {\n",
       "d3.select(\"#racerm0W circle\").attr(\"cx\", 4).attr(\"cy\", 13);\n",
       "});\n"
      ]
     },
     "metadata": {},
     "output_type": "display_data"
    },
    {
     "data": {
      "text/html": [
       "<script>\n",
       "require([\"d3\"], function(d3) {\n",
       "d3.select(\"#racerm0W circle\").attr(\"cx\", 6).attr(\"cy\", 13);\n",
       "});\n"
      ]
     },
     "metadata": {},
     "output_type": "display_data"
    },
    {
     "data": {
      "text/html": [
       "<script>\n",
       "require([\"d3\"], function(d3) {\n",
       "d3.select(\"#racerm0W circle\").attr(\"cx\", 12).attr(\"cy\", 13);\n",
       "});\n"
      ]
     },
     "metadata": {},
     "output_type": "display_data"
    },
    {
     "data": {
      "text/html": [
       "<script>\n",
       "require([\"d3\"], function(d3) {\n",
       "d3.select(\"#racerm0W circle\").attr(\"cx\", 1).attr(\"cy\", 13);\n",
       "});\n"
      ]
     },
     "metadata": {},
     "output_type": "display_data"
    },
    {
     "data": {
      "text/html": [
       "<script>\n",
       "require([\"d3\"], function(d3) {\n",
       "d3.select(\"#racerm0W circle\").attr(\"cx\", 8).attr(\"cy\", 13);\n",
       "});\n"
      ]
     },
     "metadata": {},
     "output_type": "display_data"
    },
    {
     "data": {
      "text/html": [
       "<script>\n",
       "require([\"d3\"], function(d3) {\n",
       "d3.select(\"#racerm0W circle\").attr(\"cx\", 8).attr(\"cy\", 13);\n",
       "});\n"
      ]
     },
     "metadata": {},
     "output_type": "display_data"
    },
    {
     "data": {
      "text/html": [
       "<script>\n",
       "require([\"d3\"], function(d3) {\n",
       "d3.select(\"#racerm0W circle\").attr(\"cx\", 3).attr(\"cy\", 13);\n",
       "});\n"
      ]
     },
     "metadata": {},
     "output_type": "display_data"
    },
    {
     "data": {
      "text/html": [
       "<script>\n",
       "require([\"d3\"], function(d3) {\n",
       "d3.select(\"#racerm0W circle\").attr(\"cx\", 4).attr(\"cy\", 13);\n",
       "});\n"
      ]
     },
     "metadata": {},
     "output_type": "display_data"
    },
    {
     "data": {
      "text/html": [
       "<script>\n",
       "require([\"d3\"], function(d3) {\n",
       "d3.select(\"#racerm0W circle\").attr(\"cx\", 12).attr(\"cy\", 13);\n",
       "});\n"
      ]
     },
     "metadata": {},
     "output_type": "display_data"
    },
    {
     "data": {
      "text/html": [
       "<script>\n",
       "require([\"d3\"], function(d3) {\n",
       "d3.select(\"#racerm0W circle\").attr(\"cx\", 11).attr(\"cy\", 13);\n",
       "});\n"
      ]
     },
     "metadata": {},
     "output_type": "display_data"
    },
    {
     "data": {
      "text/html": [
       "<script>\n",
       "require([\"d3\"], function(d3) {\n",
       "d3.select(\"#racerm0W circle\").attr(\"cx\", 2).attr(\"cy\", 13);\n",
       "});\n"
      ]
     },
     "metadata": {},
     "output_type": "display_data"
    },
    {
     "data": {
      "text/html": [
       "<script>\n",
       "require([\"d3\"], function(d3) {\n",
       "d3.select(\"#racerm0W circle\").attr(\"cx\", 14).attr(\"cy\", 13);\n",
       "});\n"
      ]
     },
     "metadata": {},
     "output_type": "display_data"
    },
    {
     "data": {
      "text/html": [
       "<script>\n",
       "require([\"d3\"], function(d3) {\n",
       "d3.select(\"#racerm0W circle\").attr(\"cx\", 3).attr(\"cy\", 13);\n",
       "});\n"
      ]
     },
     "metadata": {},
     "output_type": "display_data"
    },
    {
     "data": {
      "text/html": [
       "<script>\n",
       "require([\"d3\"], function(d3) {\n",
       "d3.select(\"#racerm0W circle\").attr(\"cx\", 1).attr(\"cy\", 13);\n",
       "});\n"
      ]
     },
     "metadata": {},
     "output_type": "display_data"
    },
    {
     "data": {
      "text/html": [
       "<script>\n",
       "require([\"d3\"], function(d3) {\n",
       "d3.select(\"#racerm0W circle\").attr(\"cx\", 12).attr(\"cy\", 13);\n",
       "});\n"
      ]
     },
     "metadata": {},
     "output_type": "display_data"
    },
    {
     "data": {
      "text/html": [
       "<script>\n",
       "require([\"d3\"], function(d3) {\n",
       "d3.select(\"#racerm0W circle\").attr(\"cx\", 4).attr(\"cy\", 13);\n",
       "});\n"
      ]
     },
     "metadata": {},
     "output_type": "display_data"
    },
    {
     "data": {
      "text/html": [
       "<script>\n",
       "require([\"d3\"], function(d3) {\n",
       "d3.select(\"#racerm0W circle\").attr(\"cx\", 4).attr(\"cy\", 13);\n",
       "});\n"
      ]
     },
     "metadata": {},
     "output_type": "display_data"
    },
    {
     "data": {
      "text/html": [
       "<script>\n",
       "require([\"d3\"], function(d3) {\n",
       "d3.select(\"#racerm0W circle\").attr(\"cx\", 8).attr(\"cy\", 13);\n",
       "});\n"
      ]
     },
     "metadata": {},
     "output_type": "display_data"
    },
    {
     "data": {
      "text/html": [
       "<script>\n",
       "require([\"d3\"], function(d3) {\n",
       "d3.select(\"#racerm0W circle\").attr(\"cx\", 6).attr(\"cy\", 13);\n",
       "});\n"
      ]
     },
     "metadata": {},
     "output_type": "display_data"
    },
    {
     "data": {
      "text/html": [
       "<script>\n",
       "require([\"d3\"], function(d3) {\n",
       "d3.select(\"#racerm0W circle\").attr(\"cx\", 4).attr(\"cy\", 13);\n",
       "});\n"
      ]
     },
     "metadata": {},
     "output_type": "display_data"
    },
    {
     "data": {
      "text/html": [
       "<script>\n",
       "require([\"d3\"], function(d3) {\n",
       "d3.select(\"#racerm0W circle\").attr(\"cx\", 9).attr(\"cy\", 13);\n",
       "});\n"
      ]
     },
     "metadata": {},
     "output_type": "display_data"
    },
    {
     "data": {
      "text/html": [
       "<script>\n",
       "require([\"d3\"], function(d3) {\n",
       "d3.select(\"#racerm0W circle\").attr(\"cx\", 1).attr(\"cy\", 13);\n",
       "});\n"
      ]
     },
     "metadata": {},
     "output_type": "display_data"
    },
    {
     "data": {
      "text/html": [
       "<script>\n",
       "require([\"d3\"], function(d3) {\n",
       "d3.select(\"#racerm0W circle\").attr(\"cx\", 1).attr(\"cy\", 13);\n",
       "});\n"
      ]
     },
     "metadata": {},
     "output_type": "display_data"
    },
    {
     "data": {
      "text/html": [
       "<script>\n",
       "require([\"d3\"], function(d3) {\n",
       "d3.select(\"#racerm0W circle\").attr(\"cx\", 10).attr(\"cy\", 13);\n",
       "});\n"
      ]
     },
     "metadata": {},
     "output_type": "display_data"
    },
    {
     "data": {
      "text/html": [
       "<script>\n",
       "require([\"d3\"], function(d3) {\n",
       "d3.select(\"#racerm0W circle\").attr(\"cx\", 7).attr(\"cy\", 13);\n",
       "});\n"
      ]
     },
     "metadata": {},
     "output_type": "display_data"
    },
    {
     "data": {
      "text/html": [
       "<script>\n",
       "require([\"d3\"], function(d3) {\n",
       "d3.select(\"#racerm0W circle\").attr(\"cx\", 1).attr(\"cy\", 13);\n",
       "});\n"
      ]
     },
     "metadata": {},
     "output_type": "display_data"
    },
    {
     "data": {
      "text/html": [
       "<script>\n",
       "require([\"d3\"], function(d3) {\n",
       "d3.select(\"#racerm0W circle\").attr(\"cx\", 4).attr(\"cy\", 13);\n",
       "});\n"
      ]
     },
     "metadata": {},
     "output_type": "display_data"
    },
    {
     "data": {
      "text/html": [
       "<script>\n",
       "require([\"d3\"], function(d3) {\n",
       "d3.select(\"#racerm0W circle\").attr(\"cx\", 15).attr(\"cy\", 13);\n",
       "});\n"
      ]
     },
     "metadata": {},
     "output_type": "display_data"
    },
    {
     "data": {
      "text/html": [
       "<script>\n",
       "require([\"d3\"], function(d3) {\n",
       "d3.select(\"#racerm0W circle\").attr(\"cx\", 11).attr(\"cy\", 13);\n",
       "});\n"
      ]
     },
     "metadata": {},
     "output_type": "display_data"
    },
    {
     "data": {
      "text/html": [
       "<script>\n",
       "require([\"d3\"], function(d3) {\n",
       "d3.select(\"#racerm0W circle\").attr(\"cx\", 8).attr(\"cy\", 13);\n",
       "});\n"
      ]
     },
     "metadata": {},
     "output_type": "display_data"
    },
    {
     "data": {
      "text/html": [
       "<script>\n",
       "require([\"d3\"], function(d3) {\n",
       "d3.select(\"#racerm0W circle\").attr(\"cx\", 1).attr(\"cy\", 13);\n",
       "});\n"
      ]
     },
     "metadata": {},
     "output_type": "display_data"
    },
    {
     "data": {
      "text/html": [
       "<script>\n",
       "require([\"d3\"], function(d3) {\n",
       "d3.select(\"#racerm0W circle\").attr(\"cx\", 3).attr(\"cy\", 13);\n",
       "});\n"
      ]
     },
     "metadata": {},
     "output_type": "display_data"
    },
    {
     "data": {
      "text/html": [
       "<script>\n",
       "require([\"d3\"], function(d3) {\n",
       "d3.select(\"#racerm0W circle\").attr(\"cx\", 6).attr(\"cy\", 13);\n",
       "});\n"
      ]
     },
     "metadata": {},
     "output_type": "display_data"
    },
    {
     "data": {
      "text/html": [
       "<script>\n",
       "require([\"d3\"], function(d3) {\n",
       "d3.select(\"#racerm0W circle\").attr(\"cx\", 13).attr(\"cy\", 13);\n",
       "});\n"
      ]
     },
     "metadata": {},
     "output_type": "display_data"
    },
    {
     "data": {
      "text/html": [
       "<script>\n",
       "require([\"d3\"], function(d3) {\n",
       "d3.select(\"#racerm0W circle\").attr(\"cx\", 6).attr(\"cy\", 13);\n",
       "});\n"
      ]
     },
     "metadata": {},
     "output_type": "display_data"
    },
    {
     "data": {
      "text/html": [
       "<script>\n",
       "require([\"d3\"], function(d3) {\n",
       "d3.select(\"#racerm0W circle\").attr(\"cx\", 9).attr(\"cy\", 13);\n",
       "});\n"
      ]
     },
     "metadata": {},
     "output_type": "display_data"
    },
    {
     "data": {
      "text/html": [
       "<script>\n",
       "require([\"d3\"], function(d3) {\n",
       "d3.select(\"#racerm0W circle\").attr(\"cx\", 7).attr(\"cy\", 13);\n",
       "});\n"
      ]
     },
     "metadata": {},
     "output_type": "display_data"
    },
    {
     "data": {
      "text/html": [
       "<script>\n",
       "require([\"d3\"], function(d3) {\n",
       "d3.select(\"#racerm0W circle\").attr(\"cx\", 12).attr(\"cy\", 13);\n",
       "});\n"
      ]
     },
     "metadata": {},
     "output_type": "display_data"
    },
    {
     "data": {
      "text/html": [
       "<script>\n",
       "require([\"d3\"], function(d3) {\n",
       "d3.select(\"#racerm0W circle\").attr(\"cx\", 11).attr(\"cy\", 13);\n",
       "});\n"
      ]
     },
     "metadata": {},
     "output_type": "display_data"
    },
    {
     "data": {
      "text/html": [
       "<script>\n",
       "require([\"d3\"], function(d3) {\n",
       "d3.select(\"#racerm0W circle\").attr(\"cx\", 2).attr(\"cy\", 13);\n",
       "});\n"
      ]
     },
     "metadata": {},
     "output_type": "display_data"
    },
    {
     "data": {
      "text/html": [
       "<script>\n",
       "require([\"d3\"], function(d3) {\n",
       "d3.select(\"#racerm0W circle\").attr(\"cx\", 6).attr(\"cy\", 13);\n",
       "});\n"
      ]
     },
     "metadata": {},
     "output_type": "display_data"
    },
    {
     "data": {
      "text/html": [
       "<script>\n",
       "require([\"d3\"], function(d3) {\n",
       "d3.select(\"#racerm0W circle\").attr(\"cx\", 4).attr(\"cy\", 13);\n",
       "});\n"
      ]
     },
     "metadata": {},
     "output_type": "display_data"
    },
    {
     "data": {
      "text/html": [
       "<script>\n",
       "require([\"d3\"], function(d3) {\n",
       "d3.select(\"#racerm0W circle\").attr(\"cx\", 11).attr(\"cy\", 13);\n",
       "});\n"
      ]
     },
     "metadata": {},
     "output_type": "display_data"
    },
    {
     "data": {
      "text/html": [
       "<script>\n",
       "require([\"d3\"], function(d3) {\n",
       "d3.select(\"#racerm0W circle\").attr(\"cx\", 12).attr(\"cy\", 13);\n",
       "});\n"
      ]
     },
     "metadata": {},
     "output_type": "display_data"
    },
    {
     "data": {
      "text/html": [
       "<script>\n",
       "require([\"d3\"], function(d3) {\n",
       "d3.select(\"#racerm0W circle\").attr(\"cx\", 4).attr(\"cy\", 13);\n",
       "});\n"
      ]
     },
     "metadata": {},
     "output_type": "display_data"
    },
    {
     "data": {
      "text/html": [
       "<script>\n",
       "require([\"d3\"], function(d3) {\n",
       "d3.select(\"#racerm0W circle\").attr(\"cx\", 14).attr(\"cy\", 13);\n",
       "});\n"
      ]
     },
     "metadata": {},
     "output_type": "display_data"
    },
    {
     "data": {
      "text/html": [
       "<script>\n",
       "require([\"d3\"], function(d3) {\n",
       "d3.select(\"#racerm0W circle\").attr(\"cx\", 12).attr(\"cy\", 13);\n",
       "});\n"
      ]
     },
     "metadata": {},
     "output_type": "display_data"
    },
    {
     "data": {
      "text/html": [
       "<script>\n",
       "require([\"d3\"], function(d3) {\n",
       "d3.select(\"#racerm0W circle\").attr(\"cx\", 5).attr(\"cy\", 13);\n",
       "});\n"
      ]
     },
     "metadata": {},
     "output_type": "display_data"
    },
    {
     "data": {
      "text/html": [
       "<script>\n",
       "require([\"d3\"], function(d3) {\n",
       "d3.select(\"#racerm0W circle\").attr(\"cx\", 13).attr(\"cy\", 13);\n",
       "});\n"
      ]
     },
     "metadata": {},
     "output_type": "display_data"
    },
    {
     "data": {
      "text/html": [
       "<script>\n",
       "require([\"d3\"], function(d3) {\n",
       "d3.select(\"#racerm0W circle\").attr(\"cx\", 14).attr(\"cy\", 13);\n",
       "});\n"
      ]
     },
     "metadata": {},
     "output_type": "display_data"
    },
    {
     "data": {
      "text/html": [
       "<script>\n",
       "require([\"d3\"], function(d3) {\n",
       "d3.select(\"#racerm0W circle\").attr(\"cx\", 2).attr(\"cy\", 13);\n",
       "});\n"
      ]
     },
     "metadata": {},
     "output_type": "display_data"
    },
    {
     "data": {
      "text/html": [
       "<script>\n",
       "require([\"d3\"], function(d3) {\n",
       "d3.select(\"#racerm0W circle\").attr(\"cx\", 3).attr(\"cy\", 13);\n",
       "});\n"
      ]
     },
     "metadata": {},
     "output_type": "display_data"
    },
    {
     "data": {
      "text/html": [
       "<script>\n",
       "require([\"d3\"], function(d3) {\n",
       "d3.select(\"#racerm0W circle\").attr(\"cx\", 10).attr(\"cy\", 13);\n",
       "});\n"
      ]
     },
     "metadata": {},
     "output_type": "display_data"
    },
    {
     "data": {
      "text/html": [
       "<script>\n",
       "require([\"d3\"], function(d3) {\n",
       "d3.select(\"#racerm0W circle\").attr(\"cx\", 8).attr(\"cy\", 5);\n",
       "});\n"
      ]
     },
     "metadata": {},
     "output_type": "display_data"
    },
    {
     "data": {
      "text/html": [
       "<script>\n",
       "require([\"d3\"], function(d3) {\n",
       "d3.select(\"#racerm0W circle\").attr(\"cx\", 14).attr(\"cy\", 5);\n",
       "});\n"
      ]
     },
     "metadata": {},
     "output_type": "display_data"
    },
    {
     "data": {
      "text/html": [
       "<script>\n",
       "require([\"d3\"], function(d3) {\n",
       "d3.select(\"#racerm0W circle\").attr(\"cx\", 6).attr(\"cy\", 5);\n",
       "});\n"
      ]
     },
     "metadata": {},
     "output_type": "display_data"
    },
    {
     "data": {
      "text/html": [
       "<script>\n",
       "require([\"d3\"], function(d3) {\n",
       "d3.select(\"#racerm0W circle\").attr(\"cx\", 6).attr(\"cy\", 5);\n",
       "});\n"
      ]
     },
     "metadata": {},
     "output_type": "display_data"
    },
    {
     "data": {
      "text/html": [
       "<script>\n",
       "require([\"d3\"], function(d3) {\n",
       "d3.select(\"#racerm0W circle\").attr(\"cx\", 12).attr(\"cy\", 5);\n",
       "});\n"
      ]
     },
     "metadata": {},
     "output_type": "display_data"
    },
    {
     "data": {
      "text/html": [
       "<script>\n",
       "require([\"d3\"], function(d3) {\n",
       "d3.select(\"#racerm0W circle\").attr(\"cx\", 4).attr(\"cy\", 5);\n",
       "});\n"
      ]
     },
     "metadata": {},
     "output_type": "display_data"
    },
    {
     "data": {
      "text/html": [
       "<script>\n",
       "require([\"d3\"], function(d3) {\n",
       "d3.select(\"#racerm0W circle\").attr(\"cx\", 13).attr(\"cy\", 5);\n",
       "});\n"
      ]
     },
     "metadata": {},
     "output_type": "display_data"
    },
    {
     "data": {
      "text/html": [
       "<script>\n",
       "require([\"d3\"], function(d3) {\n",
       "d3.select(\"#racerm0W circle\").attr(\"cx\", 15).attr(\"cy\", 5);\n",
       "});\n"
      ]
     },
     "metadata": {},
     "output_type": "display_data"
    },
    {
     "data": {
      "text/html": [
       "<script>\n",
       "require([\"d3\"], function(d3) {\n",
       "d3.select(\"#racerm0W circle\").attr(\"cx\", 6).attr(\"cy\", 5);\n",
       "});\n"
      ]
     },
     "metadata": {},
     "output_type": "display_data"
    },
    {
     "data": {
      "text/html": [
       "<script>\n",
       "require([\"d3\"], function(d3) {\n",
       "d3.select(\"#racerm0W circle\").attr(\"cx\", 3).attr(\"cy\", 5);\n",
       "});\n"
      ]
     },
     "metadata": {},
     "output_type": "display_data"
    },
    {
     "data": {
      "text/html": [
       "<script>\n",
       "require([\"d3\"], function(d3) {\n",
       "d3.select(\"#racerm0W circle\").attr(\"cx\", 15).attr(\"cy\", 5);\n",
       "});\n"
      ]
     },
     "metadata": {},
     "output_type": "display_data"
    },
    {
     "data": {
      "text/html": [
       "<script>\n",
       "require([\"d3\"], function(d3) {\n",
       "d3.select(\"#racerm0W circle\").attr(\"cx\", 2).attr(\"cy\", 5);\n",
       "});\n"
      ]
     },
     "metadata": {},
     "output_type": "display_data"
    },
    {
     "data": {
      "text/html": [
       "<script>\n",
       "require([\"d3\"], function(d3) {\n",
       "d3.select(\"#racerm0W circle\").attr(\"cx\", 7).attr(\"cy\", 5);\n",
       "});\n"
      ]
     },
     "metadata": {},
     "output_type": "display_data"
    },
    {
     "data": {
      "text/html": [
       "<script>\n",
       "require([\"d3\"], function(d3) {\n",
       "d3.select(\"#racerm0W circle\").attr(\"cx\", 1).attr(\"cy\", 5);\n",
       "});\n"
      ]
     },
     "metadata": {},
     "output_type": "display_data"
    },
    {
     "data": {
      "text/html": [
       "<script>\n",
       "require([\"d3\"], function(d3) {\n",
       "d3.select(\"#racerm0W circle\").attr(\"cx\", 15).attr(\"cy\", 5);\n",
       "});\n"
      ]
     },
     "metadata": {},
     "output_type": "display_data"
    },
    {
     "data": {
      "text/html": [
       "<script>\n",
       "require([\"d3\"], function(d3) {\n",
       "d3.select(\"#racerm0W circle\").attr(\"cx\", 1).attr(\"cy\", 5);\n",
       "});\n"
      ]
     },
     "metadata": {},
     "output_type": "display_data"
    },
    {
     "data": {
      "text/html": [
       "<script>\n",
       "require([\"d3\"], function(d3) {\n",
       "d3.select(\"#racerm0W circle\").attr(\"cx\", 2).attr(\"cy\", 5);\n",
       "});\n"
      ]
     },
     "metadata": {},
     "output_type": "display_data"
    },
    {
     "data": {
      "text/html": [
       "<script>\n",
       "require([\"d3\"], function(d3) {\n",
       "d3.select(\"#racerm0W circle\").attr(\"cx\", 4).attr(\"cy\", 5);\n",
       "});\n"
      ]
     },
     "metadata": {},
     "output_type": "display_data"
    },
    {
     "data": {
      "text/html": [
       "<script>\n",
       "require([\"d3\"], function(d3) {\n",
       "d3.select(\"#racerm0W circle\").attr(\"cx\", 11).attr(\"cy\", 5);\n",
       "});\n"
      ]
     },
     "metadata": {},
     "output_type": "display_data"
    },
    {
     "data": {
      "text/html": [
       "<script>\n",
       "require([\"d3\"], function(d3) {\n",
       "d3.select(\"#racerm0W circle\").attr(\"cx\", 2).attr(\"cy\", 5);\n",
       "});\n"
      ]
     },
     "metadata": {},
     "output_type": "display_data"
    },
    {
     "data": {
      "text/html": [
       "<script>\n",
       "require([\"d3\"], function(d3) {\n",
       "d3.select(\"#racerm0W circle\").attr(\"cx\", 9).attr(\"cy\", 5);\n",
       "});\n"
      ]
     },
     "metadata": {},
     "output_type": "display_data"
    },
    {
     "data": {
      "text/html": [
       "<script>\n",
       "require([\"d3\"], function(d3) {\n",
       "d3.select(\"#racerm0W circle\").attr(\"cx\", 10).attr(\"cy\", 5);\n",
       "});\n"
      ]
     },
     "metadata": {},
     "output_type": "display_data"
    },
    {
     "data": {
      "text/html": [
       "<script>\n",
       "require([\"d3\"], function(d3) {\n",
       "d3.select(\"#racerm0W circle\").attr(\"cx\", 15).attr(\"cy\", 5);\n",
       "});\n"
      ]
     },
     "metadata": {},
     "output_type": "display_data"
    },
    {
     "data": {
      "text/html": [
       "<script>\n",
       "require([\"d3\"], function(d3) {\n",
       "d3.select(\"#racerm0W circle\").attr(\"cx\", 6).attr(\"cy\", 5);\n",
       "});\n"
      ]
     },
     "metadata": {},
     "output_type": "display_data"
    },
    {
     "data": {
      "text/html": [
       "<script>\n",
       "require([\"d3\"], function(d3) {\n",
       "d3.select(\"#racerm0W circle\").attr(\"cx\", 11).attr(\"cy\", 5);\n",
       "});\n"
      ]
     },
     "metadata": {},
     "output_type": "display_data"
    },
    {
     "data": {
      "text/html": [
       "<script>\n",
       "require([\"d3\"], function(d3) {\n",
       "d3.select(\"#racerm0W circle\").attr(\"cx\", 8).attr(\"cy\", 5);\n",
       "});\n"
      ]
     },
     "metadata": {},
     "output_type": "display_data"
    },
    {
     "data": {
      "text/html": [
       "<script>\n",
       "require([\"d3\"], function(d3) {\n",
       "d3.select(\"#racerm0W circle\").attr(\"cx\", 12).attr(\"cy\", 5);\n",
       "});\n"
      ]
     },
     "metadata": {},
     "output_type": "display_data"
    },
    {
     "data": {
      "text/html": [
       "<script>\n",
       "require([\"d3\"], function(d3) {\n",
       "d3.select(\"#racerm0W circle\").attr(\"cx\", 14).attr(\"cy\", 5);\n",
       "});\n"
      ]
     },
     "metadata": {},
     "output_type": "display_data"
    },
    {
     "data": {
      "text/html": [
       "<script>\n",
       "require([\"d3\"], function(d3) {\n",
       "d3.select(\"#racerm0W circle\").attr(\"cx\", 11).attr(\"cy\", 5);\n",
       "});\n"
      ]
     },
     "metadata": {},
     "output_type": "display_data"
    },
    {
     "data": {
      "text/html": [
       "<script>\n",
       "require([\"d3\"], function(d3) {\n",
       "d3.select(\"#racerm0W circle\").attr(\"cx\", 8).attr(\"cy\", 5);\n",
       "});\n"
      ]
     },
     "metadata": {},
     "output_type": "display_data"
    },
    {
     "data": {
      "text/html": [
       "<script>\n",
       "require([\"d3\"], function(d3) {\n",
       "d3.select(\"#racerm0W circle\").attr(\"cx\", 7).attr(\"cy\", 5);\n",
       "});\n"
      ]
     },
     "metadata": {},
     "output_type": "display_data"
    },
    {
     "data": {
      "text/html": [
       "<script>\n",
       "require([\"d3\"], function(d3) {\n",
       "d3.select(\"#racerm0W circle\").attr(\"cx\", 12).attr(\"cy\", 5);\n",
       "});\n"
      ]
     },
     "metadata": {},
     "output_type": "display_data"
    },
    {
     "data": {
      "text/html": [
       "<script>\n",
       "require([\"d3\"], function(d3) {\n",
       "d3.select(\"#racerm0W circle\").attr(\"cx\", 5).attr(\"cy\", 5);\n",
       "});\n"
      ]
     },
     "metadata": {},
     "output_type": "display_data"
    },
    {
     "data": {
      "text/html": [
       "<script>\n",
       "require([\"d3\"], function(d3) {\n",
       "d3.select(\"#racerm0W circle\").attr(\"cx\", 10).attr(\"cy\", 5);\n",
       "});\n"
      ]
     },
     "metadata": {},
     "output_type": "display_data"
    },
    {
     "data": {
      "text/html": [
       "<script>\n",
       "require([\"d3\"], function(d3) {\n",
       "d3.select(\"#racerm0W circle\").attr(\"cx\", 13).attr(\"cy\", 5);\n",
       "});\n"
      ]
     },
     "metadata": {},
     "output_type": "display_data"
    },
    {
     "data": {
      "text/html": [
       "<script>\n",
       "require([\"d3\"], function(d3) {\n",
       "d3.select(\"#racerm0W circle\").attr(\"cx\", 6).attr(\"cy\", 5);\n",
       "});\n"
      ]
     },
     "metadata": {},
     "output_type": "display_data"
    },
    {
     "data": {
      "text/html": [
       "<script>\n",
       "require([\"d3\"], function(d3) {\n",
       "d3.select(\"#racerm0W circle\").attr(\"cx\", 11).attr(\"cy\", 5);\n",
       "});\n"
      ]
     },
     "metadata": {},
     "output_type": "display_data"
    },
    {
     "data": {
      "text/html": [
       "<script>\n",
       "require([\"d3\"], function(d3) {\n",
       "d3.select(\"#racerm0W circle\").attr(\"cx\", 11).attr(\"cy\", 5);\n",
       "});\n"
      ]
     },
     "metadata": {},
     "output_type": "display_data"
    },
    {
     "data": {
      "text/html": [
       "<script>\n",
       "require([\"d3\"], function(d3) {\n",
       "d3.select(\"#racerm0W circle\").attr(\"cx\", 3).attr(\"cy\", 5);\n",
       "});\n"
      ]
     },
     "metadata": {},
     "output_type": "display_data"
    },
    {
     "data": {
      "text/html": [
       "<script>\n",
       "require([\"d3\"], function(d3) {\n",
       "d3.select(\"#racerm0W circle\").attr(\"cx\", 4).attr(\"cy\", 5);\n",
       "});\n"
      ]
     },
     "metadata": {},
     "output_type": "display_data"
    },
    {
     "data": {
      "text/html": [
       "<script>\n",
       "require([\"d3\"], function(d3) {\n",
       "d3.select(\"#racerm0W circle\").attr(\"cx\", 13).attr(\"cy\", 5);\n",
       "});\n"
      ]
     },
     "metadata": {},
     "output_type": "display_data"
    },
    {
     "data": {
      "text/html": [
       "<script>\n",
       "require([\"d3\"], function(d3) {\n",
       "d3.select(\"#racerm0W circle\").attr(\"cx\", 2).attr(\"cy\", 5);\n",
       "});\n"
      ]
     },
     "metadata": {},
     "output_type": "display_data"
    },
    {
     "data": {
      "text/html": [
       "<script>\n",
       "require([\"d3\"], function(d3) {\n",
       "d3.select(\"#racerm0W circle\").attr(\"cx\", 9).attr(\"cy\", 5);\n",
       "});\n"
      ]
     },
     "metadata": {},
     "output_type": "display_data"
    },
    {
     "data": {
      "text/html": [
       "<script>\n",
       "require([\"d3\"], function(d3) {\n",
       "d3.select(\"#racerm0W circle\").attr(\"cx\", 6).attr(\"cy\", 5);\n",
       "});\n"
      ]
     },
     "metadata": {},
     "output_type": "display_data"
    },
    {
     "data": {
      "text/html": [
       "<script>\n",
       "require([\"d3\"], function(d3) {\n",
       "d3.select(\"#racerm0W circle\").attr(\"cx\", 3).attr(\"cy\", 5);\n",
       "});\n"
      ]
     },
     "metadata": {},
     "output_type": "display_data"
    },
    {
     "data": {
      "text/html": [
       "<script>\n",
       "require([\"d3\"], function(d3) {\n",
       "d3.select(\"#racerm0W circle\").attr(\"cx\", 6).attr(\"cy\", 5);\n",
       "});\n"
      ]
     },
     "metadata": {},
     "output_type": "display_data"
    },
    {
     "data": {
      "text/html": [
       "<script>\n",
       "require([\"d3\"], function(d3) {\n",
       "d3.select(\"#racerm0W circle\").attr(\"cx\", 5).attr(\"cy\", 5);\n",
       "});\n"
      ]
     },
     "metadata": {},
     "output_type": "display_data"
    },
    {
     "data": {
      "text/html": [
       "<script>\n",
       "require([\"d3\"], function(d3) {\n",
       "d3.select(\"#racerm0W circle\").attr(\"cx\", 1).attr(\"cy\", 5);\n",
       "});\n"
      ]
     },
     "metadata": {},
     "output_type": "display_data"
    },
    {
     "data": {
      "text/html": [
       "<script>\n",
       "require([\"d3\"], function(d3) {\n",
       "d3.select(\"#racerm0W circle\").attr(\"cx\", 10).attr(\"cy\", 5);\n",
       "});\n"
      ]
     },
     "metadata": {},
     "output_type": "display_data"
    },
    {
     "data": {
      "text/html": [
       "<script>\n",
       "require([\"d3\"], function(d3) {\n",
       "d3.select(\"#racerm0W circle\").attr(\"cx\", 2).attr(\"cy\", 5);\n",
       "});\n"
      ]
     },
     "metadata": {},
     "output_type": "display_data"
    },
    {
     "data": {
      "text/html": [
       "<script>\n",
       "require([\"d3\"], function(d3) {\n",
       "d3.select(\"#racerm0W circle\").attr(\"cx\", 4).attr(\"cy\", 5);\n",
       "});\n"
      ]
     },
     "metadata": {},
     "output_type": "display_data"
    },
    {
     "data": {
      "text/html": [
       "<script>\n",
       "require([\"d3\"], function(d3) {\n",
       "d3.select(\"#racerm0W circle\").attr(\"cx\", 10).attr(\"cy\", 5);\n",
       "});\n"
      ]
     },
     "metadata": {},
     "output_type": "display_data"
    },
    {
     "data": {
      "text/html": [
       "<script>\n",
       "require([\"d3\"], function(d3) {\n",
       "d3.select(\"#racerm0W circle\").attr(\"cx\", 15).attr(\"cy\", 5);\n",
       "});\n"
      ]
     },
     "metadata": {},
     "output_type": "display_data"
    },
    {
     "data": {
      "text/html": [
       "<script>\n",
       "require([\"d3\"], function(d3) {\n",
       "d3.select(\"#racerm0W circle\").attr(\"cx\", 11).attr(\"cy\", 5);\n",
       "});\n"
      ]
     },
     "metadata": {},
     "output_type": "display_data"
    },
    {
     "data": {
      "text/html": [
       "<script>\n",
       "require([\"d3\"], function(d3) {\n",
       "d3.select(\"#racerm0W circle\").attr(\"cx\", 10).attr(\"cy\", 5);\n",
       "});\n"
      ]
     },
     "metadata": {},
     "output_type": "display_data"
    },
    {
     "data": {
      "text/html": [
       "<script>\n",
       "require([\"d3\"], function(d3) {\n",
       "d3.select(\"#racerm0W circle\").attr(\"cx\", 2).attr(\"cy\", 5);\n",
       "});\n"
      ]
     },
     "metadata": {},
     "output_type": "display_data"
    },
    {
     "data": {
      "text/html": [
       "<script>\n",
       "require([\"d3\"], function(d3) {\n",
       "d3.select(\"#racerm0W circle\").attr(\"cx\", 1).attr(\"cy\", 5);\n",
       "});\n"
      ]
     },
     "metadata": {},
     "output_type": "display_data"
    },
    {
     "data": {
      "text/html": [
       "<script>\n",
       "require([\"d3\"], function(d3) {\n",
       "d3.select(\"#racerm0W circle\").attr(\"cx\", 5).attr(\"cy\", 5);\n",
       "});\n"
      ]
     },
     "metadata": {},
     "output_type": "display_data"
    },
    {
     "data": {
      "text/html": [
       "<script>\n",
       "require([\"d3\"], function(d3) {\n",
       "d3.select(\"#racerm0W circle\").attr(\"cx\", 4).attr(\"cy\", 5);\n",
       "});\n"
      ]
     },
     "metadata": {},
     "output_type": "display_data"
    },
    {
     "data": {
      "text/html": [
       "<script>\n",
       "require([\"d3\"], function(d3) {\n",
       "d3.select(\"#racerm0W circle\").attr(\"cx\", 6).attr(\"cy\", 5);\n",
       "});\n"
      ]
     },
     "metadata": {},
     "output_type": "display_data"
    },
    {
     "data": {
      "text/html": [
       "<script>\n",
       "require([\"d3\"], function(d3) {\n",
       "d3.select(\"#racerm0W circle\").attr(\"cx\", 11).attr(\"cy\", 5);\n",
       "});\n"
      ]
     },
     "metadata": {},
     "output_type": "display_data"
    },
    {
     "data": {
      "text/html": [
       "<script>\n",
       "require([\"d3\"], function(d3) {\n",
       "d3.select(\"#racerm0W circle\").attr(\"cx\", 14).attr(\"cy\", 5);\n",
       "});\n"
      ]
     },
     "metadata": {},
     "output_type": "display_data"
    },
    {
     "data": {
      "text/html": [
       "<script>\n",
       "require([\"d3\"], function(d3) {\n",
       "d3.select(\"#racerm0W circle\").attr(\"cx\", 12).attr(\"cy\", 5);\n",
       "});\n"
      ]
     },
     "metadata": {},
     "output_type": "display_data"
    },
    {
     "data": {
      "text/html": [
       "<script>\n",
       "require([\"d3\"], function(d3) {\n",
       "d3.select(\"#racerm0W circle\").attr(\"cx\", 10).attr(\"cy\", 5);\n",
       "});\n"
      ]
     },
     "metadata": {},
     "output_type": "display_data"
    },
    {
     "data": {
      "text/html": [
       "<script>\n",
       "require([\"d3\"], function(d3) {\n",
       "d3.select(\"#racerm0W circle\").attr(\"cx\", 15).attr(\"cy\", 5);\n",
       "});\n"
      ]
     },
     "metadata": {},
     "output_type": "display_data"
    },
    {
     "data": {
      "text/html": [
       "<script>\n",
       "require([\"d3\"], function(d3) {\n",
       "d3.select(\"#racerm0W circle\").attr(\"cx\", 2).attr(\"cy\", 5);\n",
       "});\n"
      ]
     },
     "metadata": {},
     "output_type": "display_data"
    },
    {
     "data": {
      "text/html": [
       "<script>\n",
       "require([\"d3\"], function(d3) {\n",
       "d3.select(\"#racerm0W circle\").attr(\"cx\", 2).attr(\"cy\", 5);\n",
       "});\n"
      ]
     },
     "metadata": {},
     "output_type": "display_data"
    },
    {
     "data": {
      "text/html": [
       "<script>\n",
       "require([\"d3\"], function(d3) {\n",
       "d3.select(\"#racerm0W circle\").attr(\"cx\", 7).attr(\"cy\", 5);\n",
       "});\n"
      ]
     },
     "metadata": {},
     "output_type": "display_data"
    },
    {
     "data": {
      "text/html": [
       "<script>\n",
       "require([\"d3\"], function(d3) {\n",
       "d3.select(\"#racerm0W circle\").attr(\"cx\", 8).attr(\"cy\", 5);\n",
       "});\n"
      ]
     },
     "metadata": {},
     "output_type": "display_data"
    },
    {
     "data": {
      "text/html": [
       "<script>\n",
       "require([\"d3\"], function(d3) {\n",
       "d3.select(\"#racerm0W circle\").attr(\"cx\", 5).attr(\"cy\", 5);\n",
       "});\n"
      ]
     },
     "metadata": {},
     "output_type": "display_data"
    },
    {
     "data": {
      "text/html": [
       "<script>\n",
       "require([\"d3\"], function(d3) {\n",
       "d3.select(\"#racerm0W circle\").attr(\"cx\", 14).attr(\"cy\", 5);\n",
       "});\n"
      ]
     },
     "metadata": {},
     "output_type": "display_data"
    },
    {
     "data": {
      "text/html": [
       "<script>\n",
       "require([\"d3\"], function(d3) {\n",
       "d3.select(\"#racerm0W circle\").attr(\"cx\", 1).attr(\"cy\", 5);\n",
       "});\n"
      ]
     },
     "metadata": {},
     "output_type": "display_data"
    },
    {
     "data": {
      "text/html": [
       "<script>\n",
       "require([\"d3\"], function(d3) {\n",
       "d3.select(\"#racerm0W circle\").attr(\"cx\", 11).attr(\"cy\", 5);\n",
       "});\n"
      ]
     },
     "metadata": {},
     "output_type": "display_data"
    },
    {
     "data": {
      "text/html": [
       "<script>\n",
       "require([\"d3\"], function(d3) {\n",
       "d3.select(\"#racerm0W circle\").attr(\"cx\", 15).attr(\"cy\", 5);\n",
       "});\n"
      ]
     },
     "metadata": {},
     "output_type": "display_data"
    },
    {
     "data": {
      "text/html": [
       "<script>\n",
       "require([\"d3\"], function(d3) {\n",
       "d3.select(\"#racerm0W circle\").attr(\"cx\", 6).attr(\"cy\", 5);\n",
       "});\n"
      ]
     },
     "metadata": {},
     "output_type": "display_data"
    },
    {
     "data": {
      "text/html": [
       "<script>\n",
       "require([\"d3\"], function(d3) {\n",
       "d3.select(\"#racerm0W circle\").attr(\"cx\", 12).attr(\"cy\", 5);\n",
       "});\n"
      ]
     },
     "metadata": {},
     "output_type": "display_data"
    },
    {
     "data": {
      "text/html": [
       "<script>\n",
       "require([\"d3\"], function(d3) {\n",
       "d3.select(\"#racerm0W circle\").attr(\"cx\", 15).attr(\"cy\", 5);\n",
       "});\n"
      ]
     },
     "metadata": {},
     "output_type": "display_data"
    },
    {
     "data": {
      "text/html": [
       "<script>\n",
       "require([\"d3\"], function(d3) {\n",
       "d3.select(\"#racerm0W circle\").attr(\"cx\", 3).attr(\"cy\", 5);\n",
       "});\n"
      ]
     },
     "metadata": {},
     "output_type": "display_data"
    },
    {
     "data": {
      "text/html": [
       "<script>\n",
       "require([\"d3\"], function(d3) {\n",
       "d3.select(\"#racerm0W circle\").attr(\"cx\", 14).attr(\"cy\", 5);\n",
       "});\n"
      ]
     },
     "metadata": {},
     "output_type": "display_data"
    },
    {
     "data": {
      "text/html": [
       "<script>\n",
       "require([\"d3\"], function(d3) {\n",
       "d3.select(\"#racerm0W circle\").attr(\"cx\", 14).attr(\"cy\", 5);\n",
       "});\n"
      ]
     },
     "metadata": {},
     "output_type": "display_data"
    },
    {
     "data": {
      "text/html": [
       "<script>\n",
       "require([\"d3\"], function(d3) {\n",
       "d3.select(\"#racerm0W circle\").attr(\"cx\", 1).attr(\"cy\", 5);\n",
       "});\n"
      ]
     },
     "metadata": {},
     "output_type": "display_data"
    },
    {
     "data": {
      "text/html": [
       "<script>\n",
       "require([\"d3\"], function(d3) {\n",
       "d3.select(\"#racerm0W circle\").attr(\"cx\", 3).attr(\"cy\", 5);\n",
       "});\n"
      ]
     },
     "metadata": {},
     "output_type": "display_data"
    },
    {
     "data": {
      "text/html": [
       "<script>\n",
       "require([\"d3\"], function(d3) {\n",
       "d3.select(\"#racerm0W circle\").attr(\"cx\", 4).attr(\"cy\", 5);\n",
       "});\n"
      ]
     },
     "metadata": {},
     "output_type": "display_data"
    },
    {
     "data": {
      "text/html": [
       "<script>\n",
       "require([\"d3\"], function(d3) {\n",
       "d3.select(\"#racerm0W circle\").attr(\"cx\", 8).attr(\"cy\", 5);\n",
       "});\n"
      ]
     },
     "metadata": {},
     "output_type": "display_data"
    },
    {
     "data": {
      "text/html": [
       "<script>\n",
       "require([\"d3\"], function(d3) {\n",
       "d3.select(\"#racerm0W circle\").attr(\"cx\", 4).attr(\"cy\", 5);\n",
       "});\n"
      ]
     },
     "metadata": {},
     "output_type": "display_data"
    },
    {
     "data": {
      "text/html": [
       "<script>\n",
       "require([\"d3\"], function(d3) {\n",
       "d3.select(\"#racerm0W circle\").attr(\"cx\", 2).attr(\"cy\", 5);\n",
       "});\n"
      ]
     },
     "metadata": {},
     "output_type": "display_data"
    },
    {
     "data": {
      "text/html": [
       "<script>\n",
       "require([\"d3\"], function(d3) {\n",
       "d3.select(\"#racerm0W circle\").attr(\"cx\", 10).attr(\"cy\", 5);\n",
       "});\n"
      ]
     },
     "metadata": {},
     "output_type": "display_data"
    },
    {
     "data": {
      "text/html": [
       "<script>\n",
       "require([\"d3\"], function(d3) {\n",
       "d3.select(\"#racerm0W circle\").attr(\"cx\", 4).attr(\"cy\", 5);\n",
       "});\n"
      ]
     },
     "metadata": {},
     "output_type": "display_data"
    },
    {
     "data": {
      "text/html": [
       "<script>\n",
       "require([\"d3\"], function(d3) {\n",
       "d3.select(\"#racerm0W circle\").attr(\"cx\", 2).attr(\"cy\", 5);\n",
       "});\n"
      ]
     },
     "metadata": {},
     "output_type": "display_data"
    },
    {
     "data": {
      "text/html": [
       "<script>\n",
       "require([\"d3\"], function(d3) {\n",
       "d3.select(\"#racerm0W circle\").attr(\"cx\", 4).attr(\"cy\", 5);\n",
       "});\n"
      ]
     },
     "metadata": {},
     "output_type": "display_data"
    },
    {
     "data": {
      "text/html": [
       "<script>\n",
       "require([\"d3\"], function(d3) {\n",
       "d3.select(\"#racerm0W circle\").attr(\"cx\", 3).attr(\"cy\", 5);\n",
       "});\n"
      ]
     },
     "metadata": {},
     "output_type": "display_data"
    },
    {
     "data": {
      "text/html": [
       "<script>\n",
       "require([\"d3\"], function(d3) {\n",
       "d3.select(\"#racerm0W circle\").attr(\"cx\", 14).attr(\"cy\", 5);\n",
       "});\n"
      ]
     },
     "metadata": {},
     "output_type": "display_data"
    },
    {
     "data": {
      "text/html": [
       "<script>\n",
       "require([\"d3\"], function(d3) {\n",
       "d3.select(\"#racerm0W circle\").attr(\"cx\", 4).attr(\"cy\", 5);\n",
       "});\n"
      ]
     },
     "metadata": {},
     "output_type": "display_data"
    },
    {
     "data": {
      "text/html": [
       "<script>\n",
       "require([\"d3\"], function(d3) {\n",
       "d3.select(\"#racerm0W circle\").attr(\"cx\", 12).attr(\"cy\", 5);\n",
       "});\n"
      ]
     },
     "metadata": {},
     "output_type": "display_data"
    },
    {
     "data": {
      "text/html": [
       "<script>\n",
       "require([\"d3\"], function(d3) {\n",
       "d3.select(\"#racerm0W circle\").attr(\"cx\", 7).attr(\"cy\", 5);\n",
       "});\n"
      ]
     },
     "metadata": {},
     "output_type": "display_data"
    },
    {
     "data": {
      "text/html": [
       "<script>\n",
       "require([\"d3\"], function(d3) {\n",
       "d3.select(\"#racerm0W circle\").attr(\"cx\", 15).attr(\"cy\", 5);\n",
       "});\n"
      ]
     },
     "metadata": {},
     "output_type": "display_data"
    },
    {
     "data": {
      "text/html": [
       "<script>\n",
       "require([\"d3\"], function(d3) {\n",
       "d3.select(\"#racerm0W circle\").attr(\"cx\", 2).attr(\"cy\", 5);\n",
       "});\n"
      ]
     },
     "metadata": {},
     "output_type": "display_data"
    },
    {
     "data": {
      "text/html": [
       "<script>\n",
       "require([\"d3\"], function(d3) {\n",
       "d3.select(\"#racerm0W circle\").attr(\"cx\", 10).attr(\"cy\", 5);\n",
       "});\n"
      ]
     },
     "metadata": {},
     "output_type": "display_data"
    },
    {
     "data": {
      "text/html": [
       "<script>\n",
       "require([\"d3\"], function(d3) {\n",
       "d3.select(\"#racerm0W circle\").attr(\"cx\", 13).attr(\"cy\", 5);\n",
       "});\n"
      ]
     },
     "metadata": {},
     "output_type": "display_data"
    },
    {
     "data": {
      "text/html": [
       "<script>\n",
       "require([\"d3\"], function(d3) {\n",
       "d3.select(\"#racerm0W circle\").attr(\"cx\", 8).attr(\"cy\", 5);\n",
       "});\n"
      ]
     },
     "metadata": {},
     "output_type": "display_data"
    },
    {
     "data": {
      "text/html": [
       "<script>\n",
       "require([\"d3\"], function(d3) {\n",
       "d3.select(\"#racerm0W circle\").attr(\"cx\", 8).attr(\"cy\", 1);\n",
       "});\n"
      ]
     },
     "metadata": {},
     "output_type": "display_data"
    },
    {
     "data": {
      "text/html": [
       "<script>\n",
       "require([\"d3\"], function(d3) {\n",
       "d3.select(\"#racerm0W circle\").attr(\"cx\", 13).attr(\"cy\", 1);\n",
       "});\n"
      ]
     },
     "metadata": {},
     "output_type": "display_data"
    },
    {
     "data": {
      "text/html": [
       "<script>\n",
       "require([\"d3\"], function(d3) {\n",
       "d3.select(\"#racerm0W circle\").attr(\"cx\", 10).attr(\"cy\", 1);\n",
       "});\n"
      ]
     },
     "metadata": {},
     "output_type": "display_data"
    },
    {
     "data": {
      "text/html": [
       "<script>\n",
       "require([\"d3\"], function(d3) {\n",
       "d3.select(\"#racerm0W circle\").attr(\"cx\", 2).attr(\"cy\", 1);\n",
       "});\n"
      ]
     },
     "metadata": {},
     "output_type": "display_data"
    },
    {
     "data": {
      "text/html": [
       "<script>\n",
       "require([\"d3\"], function(d3) {\n",
       "d3.select(\"#racerm0W circle\").attr(\"cx\", 15).attr(\"cy\", 1);\n",
       "});\n"
      ]
     },
     "metadata": {},
     "output_type": "display_data"
    },
    {
     "data": {
      "text/html": [
       "<script>\n",
       "require([\"d3\"], function(d3) {\n",
       "d3.select(\"#racerm0W circle\").attr(\"cx\", 12).attr(\"cy\", 1);\n",
       "});\n"
      ]
     },
     "metadata": {},
     "output_type": "display_data"
    },
    {
     "data": {
      "text/html": [
       "<script>\n",
       "require([\"d3\"], function(d3) {\n",
       "d3.select(\"#racerm0W circle\").attr(\"cx\", 5).attr(\"cy\", 1);\n",
       "});\n"
      ]
     },
     "metadata": {},
     "output_type": "display_data"
    },
    {
     "data": {
      "text/html": [
       "<script>\n",
       "require([\"d3\"], function(d3) {\n",
       "d3.select(\"#racerm0W circle\").attr(\"cx\", 9).attr(\"cy\", 1);\n",
       "});\n"
      ]
     },
     "metadata": {},
     "output_type": "display_data"
    },
    {
     "data": {
      "text/html": [
       "<script>\n",
       "require([\"d3\"], function(d3) {\n",
       "d3.select(\"#racerm0W circle\").attr(\"cx\", 10).attr(\"cy\", 1);\n",
       "});\n"
      ]
     },
     "metadata": {},
     "output_type": "display_data"
    },
    {
     "data": {
      "text/html": [
       "<script>\n",
       "require([\"d3\"], function(d3) {\n",
       "d3.select(\"#racerm0W circle\").attr(\"cx\", 14).attr(\"cy\", 1);\n",
       "});\n"
      ]
     },
     "metadata": {},
     "output_type": "display_data"
    },
    {
     "data": {
      "text/html": [
       "<script>\n",
       "require([\"d3\"], function(d3) {\n",
       "d3.select(\"#racerm0W circle\").attr(\"cx\", 2).attr(\"cy\", 1);\n",
       "});\n"
      ]
     },
     "metadata": {},
     "output_type": "display_data"
    },
    {
     "data": {
      "text/html": [
       "<script>\n",
       "require([\"d3\"], function(d3) {\n",
       "d3.select(\"#racerm0W circle\").attr(\"cx\", 3).attr(\"cy\", 1);\n",
       "});\n"
      ]
     },
     "metadata": {},
     "output_type": "display_data"
    },
    {
     "data": {
      "text/html": [
       "<script>\n",
       "require([\"d3\"], function(d3) {\n",
       "d3.select(\"#racerm0W circle\").attr(\"cx\", 6).attr(\"cy\", 1);\n",
       "});\n"
      ]
     },
     "metadata": {},
     "output_type": "display_data"
    },
    {
     "data": {
      "text/html": [
       "<script>\n",
       "require([\"d3\"], function(d3) {\n",
       "d3.select(\"#racerm0W circle\").attr(\"cx\", 14).attr(\"cy\", 1);\n",
       "});\n"
      ]
     },
     "metadata": {},
     "output_type": "display_data"
    },
    {
     "data": {
      "text/html": [
       "<script>\n",
       "require([\"d3\"], function(d3) {\n",
       "d3.select(\"#racerm0W circle\").attr(\"cx\", 7).attr(\"cy\", 1);\n",
       "});\n"
      ]
     },
     "metadata": {},
     "output_type": "display_data"
    },
    {
     "data": {
      "text/html": [
       "<script>\n",
       "require([\"d3\"], function(d3) {\n",
       "d3.select(\"#racerm0W circle\").attr(\"cx\", 14).attr(\"cy\", 1);\n",
       "});\n"
      ]
     },
     "metadata": {},
     "output_type": "display_data"
    },
    {
     "data": {
      "text/html": [
       "<script>\n",
       "require([\"d3\"], function(d3) {\n",
       "d3.select(\"#racerm0W circle\").attr(\"cx\", 14).attr(\"cy\", 1);\n",
       "});\n"
      ]
     },
     "metadata": {},
     "output_type": "display_data"
    },
    {
     "data": {
      "text/html": [
       "<script>\n",
       "require([\"d3\"], function(d3) {\n",
       "d3.select(\"#racerm0W circle\").attr(\"cx\", 10).attr(\"cy\", 1);\n",
       "});\n"
      ]
     },
     "metadata": {},
     "output_type": "display_data"
    },
    {
     "data": {
      "text/html": [
       "<script>\n",
       "require([\"d3\"], function(d3) {\n",
       "d3.select(\"#racerm0W circle\").attr(\"cx\", 9).attr(\"cy\", 1);\n",
       "});\n"
      ]
     },
     "metadata": {},
     "output_type": "display_data"
    },
    {
     "data": {
      "text/html": [
       "<script>\n",
       "require([\"d3\"], function(d3) {\n",
       "d3.select(\"#racerm0W circle\").attr(\"cx\", 5).attr(\"cy\", 1);\n",
       "});\n"
      ]
     },
     "metadata": {},
     "output_type": "display_data"
    },
    {
     "data": {
      "text/html": [
       "<script>\n",
       "require([\"d3\"], function(d3) {\n",
       "d3.select(\"#racerm0W circle\").attr(\"cx\", 12).attr(\"cy\", 1);\n",
       "});\n"
      ]
     },
     "metadata": {},
     "output_type": "display_data"
    },
    {
     "data": {
      "text/html": [
       "<script>\n",
       "require([\"d3\"], function(d3) {\n",
       "d3.select(\"#racerm0W circle\").attr(\"cx\", 7).attr(\"cy\", 1);\n",
       "});\n"
      ]
     },
     "metadata": {},
     "output_type": "display_data"
    },
    {
     "data": {
      "text/html": [
       "<script>\n",
       "require([\"d3\"], function(d3) {\n",
       "d3.select(\"#racerm0W circle\").attr(\"cx\", 1).attr(\"cy\", 1);\n",
       "});\n"
      ]
     },
     "metadata": {},
     "output_type": "display_data"
    },
    {
     "data": {
      "text/html": [
       "<script>\n",
       "require([\"d3\"], function(d3) {\n",
       "d3.select(\"#racerm0W circle\").attr(\"cx\", 5).attr(\"cy\", 1);\n",
       "});\n"
      ]
     },
     "metadata": {},
     "output_type": "display_data"
    },
    {
     "data": {
      "text/html": [
       "<script>\n",
       "require([\"d3\"], function(d3) {\n",
       "d3.select(\"#racerm0W circle\").attr(\"cx\", 4).attr(\"cy\", 1);\n",
       "});\n"
      ]
     },
     "metadata": {},
     "output_type": "display_data"
    },
    {
     "data": {
      "text/html": [
       "<script>\n",
       "require([\"d3\"], function(d3) {\n",
       "d3.select(\"#racerm0W circle\").attr(\"cx\", 4).attr(\"cy\", 1);\n",
       "});\n"
      ]
     },
     "metadata": {},
     "output_type": "display_data"
    },
    {
     "data": {
      "text/html": [
       "<script>\n",
       "require([\"d3\"], function(d3) {\n",
       "d3.select(\"#racerm0W circle\").attr(\"cx\", 6).attr(\"cy\", 1);\n",
       "});\n"
      ]
     },
     "metadata": {},
     "output_type": "display_data"
    },
    {
     "data": {
      "text/html": [
       "<script>\n",
       "require([\"d3\"], function(d3) {\n",
       "d3.select(\"#racerm0W circle\").attr(\"cx\", 7).attr(\"cy\", 1);\n",
       "});\n"
      ]
     },
     "metadata": {},
     "output_type": "display_data"
    },
    {
     "data": {
      "text/html": [
       "<script>\n",
       "require([\"d3\"], function(d3) {\n",
       "d3.select(\"#racerm0W circle\").attr(\"cx\", 10).attr(\"cy\", 1);\n",
       "});\n"
      ]
     },
     "metadata": {},
     "output_type": "display_data"
    },
    {
     "data": {
      "text/html": [
       "<script>\n",
       "require([\"d3\"], function(d3) {\n",
       "d3.select(\"#racerm0W circle\").attr(\"cx\", 2).attr(\"cy\", 1);\n",
       "});\n"
      ]
     },
     "metadata": {},
     "output_type": "display_data"
    },
    {
     "data": {
      "text/html": [
       "<script>\n",
       "require([\"d3\"], function(d3) {\n",
       "d3.select(\"#racerm0W circle\").attr(\"cx\", 5).attr(\"cy\", 1);\n",
       "});\n"
      ]
     },
     "metadata": {},
     "output_type": "display_data"
    },
    {
     "data": {
      "text/html": [
       "<script>\n",
       "require([\"d3\"], function(d3) {\n",
       "d3.select(\"#racerm0W circle\").attr(\"cx\", 6).attr(\"cy\", 1);\n",
       "});\n"
      ]
     },
     "metadata": {},
     "output_type": "display_data"
    },
    {
     "data": {
      "text/html": [
       "<script>\n",
       "require([\"d3\"], function(d3) {\n",
       "d3.select(\"#racerm0W circle\").attr(\"cx\", 4).attr(\"cy\", 1);\n",
       "});\n"
      ]
     },
     "metadata": {},
     "output_type": "display_data"
    },
    {
     "data": {
      "text/html": [
       "<script>\n",
       "require([\"d3\"], function(d3) {\n",
       "d3.select(\"#racerm0W circle\").attr(\"cx\", 3).attr(\"cy\", 1);\n",
       "});\n"
      ]
     },
     "metadata": {},
     "output_type": "display_data"
    },
    {
     "data": {
      "text/html": [
       "<script>\n",
       "require([\"d3\"], function(d3) {\n",
       "d3.select(\"#racerm0W circle\").attr(\"cx\", 3).attr(\"cy\", 1);\n",
       "});\n"
      ]
     },
     "metadata": {},
     "output_type": "display_data"
    },
    {
     "data": {
      "text/html": [
       "<script>\n",
       "require([\"d3\"], function(d3) {\n",
       "d3.select(\"#racerm0W circle\").attr(\"cx\", 2).attr(\"cy\", 1);\n",
       "});\n"
      ]
     },
     "metadata": {},
     "output_type": "display_data"
    },
    {
     "data": {
      "text/html": [
       "<script>\n",
       "require([\"d3\"], function(d3) {\n",
       "d3.select(\"#racerm0W circle\").attr(\"cx\", 10).attr(\"cy\", 1);\n",
       "});\n"
      ]
     },
     "metadata": {},
     "output_type": "display_data"
    },
    {
     "data": {
      "text/html": [
       "<script>\n",
       "require([\"d3\"], function(d3) {\n",
       "d3.select(\"#racerm0W circle\").attr(\"cx\", 1).attr(\"cy\", 1);\n",
       "});\n"
      ]
     },
     "metadata": {},
     "output_type": "display_data"
    },
    {
     "data": {
      "text/html": [
       "<script>\n",
       "require([\"d3\"], function(d3) {\n",
       "d3.select(\"#racerm0W circle\").attr(\"cx\", 14).attr(\"cy\", 1);\n",
       "});\n"
      ]
     },
     "metadata": {},
     "output_type": "display_data"
    },
    {
     "data": {
      "text/html": [
       "<script>\n",
       "require([\"d3\"], function(d3) {\n",
       "d3.select(\"#racerm0W circle\").attr(\"cx\", 14).attr(\"cy\", 1);\n",
       "});\n"
      ]
     },
     "metadata": {},
     "output_type": "display_data"
    },
    {
     "data": {
      "text/html": [
       "<script>\n",
       "require([\"d3\"], function(d3) {\n",
       "d3.select(\"#racerm0W circle\").attr(\"cx\", 10).attr(\"cy\", 1);\n",
       "});\n"
      ]
     },
     "metadata": {},
     "output_type": "display_data"
    },
    {
     "data": {
      "text/html": [
       "<script>\n",
       "require([\"d3\"], function(d3) {\n",
       "d3.select(\"#racerm0W circle\").attr(\"cx\", 15).attr(\"cy\", 1);\n",
       "});\n"
      ]
     },
     "metadata": {},
     "output_type": "display_data"
    },
    {
     "data": {
      "text/html": [
       "<script>\n",
       "require([\"d3\"], function(d3) {\n",
       "d3.select(\"#racerm0W circle\").attr(\"cx\", 9).attr(\"cy\", 1);\n",
       "});\n"
      ]
     },
     "metadata": {},
     "output_type": "display_data"
    },
    {
     "data": {
      "text/html": [
       "<script>\n",
       "require([\"d3\"], function(d3) {\n",
       "d3.select(\"#racerm0W circle\").attr(\"cx\", 12).attr(\"cy\", 1);\n",
       "});\n"
      ]
     },
     "metadata": {},
     "output_type": "display_data"
    },
    {
     "data": {
      "text/html": [
       "<script>\n",
       "require([\"d3\"], function(d3) {\n",
       "d3.select(\"#racerm0W circle\").attr(\"cx\", 1).attr(\"cy\", 1);\n",
       "});\n"
      ]
     },
     "metadata": {},
     "output_type": "display_data"
    }
   ],
   "source": [
    "h, w = size(race_track)\n",
    "pos = [[i, j] for i in 1:h for j in 1:w]\n",
    "colours = [colour_dict[race_track[x...]] for x in pos]\n",
    "race_bg2 = start_canvas(h, w, 300, 300)\n",
    "add_pixels(race_bg2, pos, colours)\n",
    "racer = create_racer(race_bg2, 1, 1, \"red\")\n",
    "nsteps = 100\n",
    "pos = [[i,j] for i in rand(1:18, nsteps) for j in rand(1:15, nsteps)]\n",
    "for p in pos\n",
    "    i, j = p\n",
    "    move_racer(racer, i, j)\n",
    "    sleep(0.1)\n",
    "end"
   ]
  },
  {
   "cell_type": "code",
   "execution_count": 3,
   "metadata": {
    "collapsed": false
   },
   "outputs": [
    {
     "ename": "LoadError",
     "evalue": "SystemError: opening file *\t*\t*\t*\t*\t*\t*\t*\t*\t*\t*\tF\tF\tF\tF\t*\t*\n*\t*\t*\t*\t*\t*\t*\t*\t*\t*\t\t\t\t\t\t*\t*\n*\t*\t*\t*\t*\t*\t*\t*\t*\t\t\t\t\t\t*\t*\t*\n*\t*\t*\t*\t*\t*\t*\t\t\t\t\t\t\t*\t*\t*\t*\n*\t*\t*\t*\t*\t*\t\t\t\t\t\t\t*\t*\t*\t*\t*\n*\t*\t*\t*\t*\t\t\t\t\t\t*\t*\t*\t*\t*\t*\t*\n*\t*\t*\t*\t\t\t\t\t\t*\t*\t*\t*\t*\t*\t*\t*\n*\t*\t*\t\t\t\t\t\t*\t*\t*\t*\t*\t*\t*\t*\t*\n*\t*\t\t\t\t\t\t*\t*\t*\t*\t*\t*\t*\t*\t*\t*\n*\t*\t\t\t\t\t\t*\t*\t*\t*\t*\t*\t*\t*\t*\t*\n*\t*\t\t\t\t\t*\t*\t*\t*\t*\t*\t*\t*\t*\t*\t*\n*\t*\t\t\t\t\t*\t*\t*\t*\t*\t*\t*\t*\t*\t*\t*\n*\t*\t\t\t\t\t*\t*\t*\t*\t*\t*\t*\t*\t*\t*\t*\n*\t*\t\t\t\t\t*\t*\t*\t*\t*\t*\t*\t*\t*\t*\t*\n*\t*\t\t\t\t\t*\t*\t*\t*\t*\t*\t*\t*\t*\t*\t*\n*\t*\t\t\t\t\t*\t*\t*\t*\t*\t*\t*\t*\t*\t*\t*\n*\t*\t\t\t\t\t*\t*\t*\t*\t*\t*\t*\t*\t*\t*\t*\n*\t*\t\t\t\t\t*\t*\t*\t*\t*\t*\t*\t*\t*\t*\t*\n: File name too long",
     "output_type": "error",
     "traceback": [
      "SystemError: opening file *\t*\t*\t*\t*\t*\t*\t*\t*\t*\t*\tF\tF\tF\tF\t*\t*\n*\t*\t*\t*\t*\t*\t*\t*\t*\t*\t\t\t\t\t\t*\t*\n*\t*\t*\t*\t*\t*\t*\t*\t*\t\t\t\t\t\t*\t*\t*\n*\t*\t*\t*\t*\t*\t*\t\t\t\t\t\t\t*\t*\t*\t*\n*\t*\t*\t*\t*\t*\t\t\t\t\t\t\t*\t*\t*\t*\t*\n*\t*\t*\t*\t*\t\t\t\t\t\t*\t*\t*\t*\t*\t*\t*\n*\t*\t*\t*\t\t\t\t\t\t*\t*\t*\t*\t*\t*\t*\t*\n*\t*\t*\t\t\t\t\t\t*\t*\t*\t*\t*\t*\t*\t*\t*\n*\t*\t\t\t\t\t\t*\t*\t*\t*\t*\t*\t*\t*\t*\t*\n*\t*\t\t\t\t\t\t*\t*\t*\t*\t*\t*\t*\t*\t*\t*\n*\t*\t\t\t\t\t*\t*\t*\t*\t*\t*\t*\t*\t*\t*\t*\n*\t*\t\t\t\t\t*\t*\t*\t*\t*\t*\t*\t*\t*\t*\t*\n*\t*\t\t\t\t\t*\t*\t*\t*\t*\t*\t*\t*\t*\t*\t*\n*\t*\t\t\t\t\t*\t*\t*\t*\t*\t*\t*\t*\t*\t*\t*\n*\t*\t\t\t\t\t*\t*\t*\t*\t*\t*\t*\t*\t*\t*\t*\n*\t*\t\t\t\t\t*\t*\t*\t*\t*\t*\t*\t*\t*\t*\t*\n*\t*\t\t\t\t\t*\t*\t*\t*\t*\t*\t*\t*\t*\t*\t*\n*\t*\t\t\t\t\t*\t*\t*\t*\t*\t*\t*\t*\t*\t*\t*\n: File name too long",
      "",
      " in #systemerror#51 at ./error.jl:34 [inlined]",
      " in systemerror(::String, ::Bool) at ./error.jl:34",
      " in open(::String, ::Bool, ::Bool, ::Bool, ::Bool, ::Bool) at ./iostream.jl:89",
      " in open(::Base.##287#288{Tuple{}}, ::String) at ./iostream.jl:111",
      " in read(::String) at ./io.jl:109"
     ]
    }
   ],
   "source": [
    "race_track = read(\"\"\"\n",
    "*\t*\t*\t*\t*\t*\t*\t*\t*\t*\t*\tF\tF\tF\tF\t*\t*\n",
    "*\t*\t*\t*\t*\t*\t*\t*\t*\t*\t\t\t\t\t\t*\t*\n",
    "*\t*\t*\t*\t*\t*\t*\t*\t*\t\t\t\t\t\t*\t*\t*\n",
    "*\t*\t*\t*\t*\t*\t*\t\t\t\t\t\t\t*\t*\t*\t*\n",
    "*\t*\t*\t*\t*\t*\t\t\t\t\t\t\t*\t*\t*\t*\t*\n",
    "*\t*\t*\t*\t*\t\t\t\t\t\t*\t*\t*\t*\t*\t*\t*\n",
    "*\t*\t*\t*\t\t\t\t\t\t*\t*\t*\t*\t*\t*\t*\t*\n",
    "*\t*\t*\t\t\t\t\t\t*\t*\t*\t*\t*\t*\t*\t*\t*\n",
    "*\t*\t\t\t\t\t\t*\t*\t*\t*\t*\t*\t*\t*\t*\t*\n",
    "*\t*\t\t\t\t\t\t*\t*\t*\t*\t*\t*\t*\t*\t*\t*\n",
    "*\t*\t\t\t\t\t*\t*\t*\t*\t*\t*\t*\t*\t*\t*\t*\n",
    "*\t*\t\t\t\t\t*\t*\t*\t*\t*\t*\t*\t*\t*\t*\t*\n",
    "*\t*\t\t\t\t\t*\t*\t*\t*\t*\t*\t*\t*\t*\t*\t*\n",
    "*\t*\t\t\t\t\t*\t*\t*\t*\t*\t*\t*\t*\t*\t*\t*\n",
    "*\t*\t\t\t\t\t*\t*\t*\t*\t*\t*\t*\t*\t*\t*\t*\n",
    "*\t*\t\t\t\t\t*\t*\t*\t*\t*\t*\t*\t*\t*\t*\t*\n",
    "*\t*\t\t\t\t\t*\t*\t*\t*\t*\t*\t*\t*\t*\t*\t*\n",
    "*\t*\t\t\t\t\t*\t*\t*\t*\t*\t*\t*\t*\t*\t*\t*\n",
    "\"\"\")"
   ]
  },
  {
   "cell_type": "code",
   "execution_count": null,
   "metadata": {
    "collapsed": true
   },
   "outputs": [],
   "source": []
  }
 ],
 "metadata": {
  "kernelspec": {
   "display_name": "Julia 0.5.1",
   "language": "julia",
   "name": "julia-0.5"
  },
  "language_info": {
   "file_extension": ".jl",
   "mimetype": "application/julia",
   "name": "julia",
   "version": "0.5.1"
  }
 },
 "nbformat": 4,
 "nbformat_minor": 1
}
