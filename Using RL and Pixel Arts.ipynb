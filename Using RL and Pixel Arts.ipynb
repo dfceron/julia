{
 "cells": [
  {
   "cell_type": "code",
   "execution_count": 98,
   "metadata": {
    "collapsed": true
   },
   "outputs": [],
   "source": [
    "workspace()"
   ]
  },
  {
   "cell_type": "code",
   "execution_count": 6,
   "metadata": {
    "collapsed": false
   },
   "outputs": [
    {
     "name": "stderr",
     "output_type": "stream",
     "text": [
      "WARNING: replacing module PixelArts\n",
      "WARNING: replacing module RL\n",
      "WARNING: using RL.RLAgent in module Main conflicts with an existing identifier.\n",
      "WARNING: using RL.validate in module Main conflicts with an existing identifier.\n",
      "WARNING: using RL.RLEnv in module Main conflicts with an existing identifier.\n"
     ]
    }
   ],
   "source": [
    "include(\"PixelArts/PixelArts.jl\")\n",
    "include(\"RL/RL.jl\")\n",
    "using RL\n",
    "using PixelArts"
   ]
  },
  {
   "cell_type": "markdown",
   "metadata": {},
   "source": [
    "# Using RL and Pixel Arts\n",
    "\n",
    "## Simple use\n",
    "\n",
    "For a simple use we can create an environment and agent using the function RLEnv and RLAgent and their methods. The `fieldnames` function of julia gives the fields of the classes `RLEnv` and `RLAgent`. For a better description we may also apply the `validate` function to the empty objects `RLEnv()`  and `RLAgent()`. The `validate` function can be used for a more advanced used creating new environment types different that the minimal types `RLEnv` and `RLAgent` (more on this later). Order is important."
   ]
  },
  {
   "cell_type": "code",
   "execution_count": 7,
   "metadata": {
    "collapsed": false
   },
   "outputs": [
    {
     "name": "stdout",
     "output_type": "stream",
     "text": [
      "Symbol[:states, :actions, :step, :task_end]\n",
      "Symbol[:policy, :state]\n"
     ]
    }
   ],
   "source": [
    "println(fieldnames(RLEnv))\n",
    "println(fieldnames(RLAgent))"
   ]
  },
  {
   "cell_type": "code",
   "execution_count": 8,
   "metadata": {
    "collapsed": false
   },
   "outputs": [
    {
     "name": "stderr",
     "output_type": "stream",
     "text": [
      "\u001b[1m\u001b[36mINFO: \u001b[39m\u001b[22m\u001b[36mField states::Any missing\n",
      "\u001b[39m\u001b[1m\u001b[36mINFO: \u001b[39m\u001b[22m\u001b[36mField actions::Function (s) -> (A(s)) missing\n",
      "\u001b[39m\u001b[1m\u001b[36mINFO: \u001b[39m\u001b[22m\u001b[36mField step::Function (s, a) -> (s', r) missing\n",
      "\u001b[39m\u001b[1m\u001b[36mINFO: \u001b[39m\u001b[22m\u001b[36mField task_end::Function missing, for non-episodic tasks use s -> false\n",
      "\u001b[39m"
     ]
    }
   ],
   "source": [
    "validate(RLEnv())"
   ]
  },
  {
   "cell_type": "code",
   "execution_count": 9,
   "metadata": {
    "collapsed": false
   },
   "outputs": [
    {
     "name": "stderr",
     "output_type": "stream",
     "text": [
      "\u001b[1m\u001b[36mINFO: \u001b[39m\u001b[22m\u001b[36mField policy::Function (s) -> (a) missing from type\n",
      "\u001b[39m"
     ]
    }
   ],
   "source": [
    "validate(RLAgent())"
   ]
  },
  {
   "cell_type": "markdown",
   "metadata": {},
   "source": [
    "Here is an example: suppose there is a task where you play coin tosses. You start with one dollar, every time you loose you are allowed to bet the same quantity again or to double the bet double for the next round. The game stops when you win one game. The reward at each round is the money lost/earned."
   ]
  },
  {
   "cell_type": "code",
   "execution_count": 153,
   "metadata": {
    "collapsed": false
   },
   "outputs": [
    {
     "data": {
      "text/plain": [
       "RL.RLEnv([1, 2, 4, 8, 16, 32, 64, 128, 256, 512  …  0, 0, 0, 0, 0, 0, 0, 0, 0, 0], actions, step, task_end)"
      ]
     },
     "execution_count": 153,
     "metadata": {},
     "output_type": "execute_result"
    }
   ],
   "source": [
    "# states will be [current_bet, last_game_status]\n",
    "states = [2^n for n in 0:1000] # a large space of interger options\n",
    "actions(state) = [\"same_bet\" , \"double_bet\"] # independent of state\n",
    "function step(state, action)\n",
    "    lost = rand() < 0.5\n",
    "    current_bet = state[1] # default\n",
    "    if lost \n",
    "        new_bet = (action == \"double_bet\") ? 2current_bet : current_bet \n",
    "        state = [new_bet, \"lost\"]\n",
    "        reward = -current_bet\n",
    "    else\n",
    "        state = [0, \"won\"]\n",
    "        reward = current_bet\n",
    "    end\n",
    "    return state, reward\n",
    "end\n",
    "task_end(state) = (state[2] == \"won\") ? true : false\n",
    "tossgame = RLEnv(states, actions, step, task_end)\n"
   ]
  },
  {
   "cell_type": "code",
   "execution_count": 154,
   "metadata": {
    "collapsed": false
   },
   "outputs": [
    {
     "name": "stdout",
     "output_type": "stream",
     "text": [
      " lost last game receiving -1 now betting 2. Task ended? false\n",
      " won last game receiving 1 now betting 0. Task ended? true\n",
      " won last game receiving 1 now betting 0. Task ended? true\n",
      " won last game receiving 1 now betting 0. Task ended? true\n",
      " won last game receiving 1 now betting 0. Task ended? true\n",
      " lost last game receiving -1 now betting 2. Task ended? false\n",
      " lost last game receiving -1 now betting 2. Task ended? false\n",
      " lost last game receiving -1 now betting 2. Task ended? false\n",
      " lost last game receiving -1 now betting 2. Task ended? false\n",
      " won last game receiving 1 now betting 0. Task ended? true\n"
     ]
    }
   ],
   "source": [
    "# Some examples\n",
    "init_step = [1, \"lost\"] # bet 1 dollar\n",
    "for i in 1:10\n",
    "    new_state, reward = tossgame.step(init_step, \"double_bet\")\n",
    "    println(\" $(new_state[2]) last game receiving $reward now betting $(new_state[1]). Task ended? $(tossgame.task_end(new_state))\")\n",
    "end"
   ]
  },
  {
   "cell_type": "markdown",
   "metadata": {},
   "source": [
    "Let's create some agents"
   ]
  },
  {
   "cell_type": "code",
   "execution_count": 155,
   "metadata": {
    "collapsed": false
   },
   "outputs": [
    {
     "data": {
      "text/plain": [
       "RL.RLAgent(policy_random, #undef)"
      ]
     },
     "execution_count": 155,
     "metadata": {},
     "output_type": "execute_result"
    }
   ],
   "source": [
    "init_state = [-1, \"lost\"] # agents start betting one dollar\n",
    "# Agent that always bets the same\n",
    "policy_random(s) = rand(tossgame.actions(s))\n",
    "agent_random = RLAgent(policy_random)"
   ]
  },
  {
   "cell_type": "code",
   "execution_count": 156,
   "metadata": {
    "collapsed": false
   },
   "outputs": [
    {
     "name": "stdout",
     "output_type": "stream",
     "text": [
      "Episode 1: received 1 playing 1\n",
      "Episode 2: received 1 playing 1\n",
      "Episode 3: received 1 playing 1\n",
      "Episode 4: received 1 playing 1\n",
      "Episode 5: received 1 playing 1\n",
      "Episode 6: received 1 playing 1\n",
      "Episode 7: received 1 playing 1\n",
      "Episode 8: received -1 playing 3\n",
      "Episode 9: received 1 playing 2\n",
      "Episode 10: received 1 playing 2\n",
      "Agent average reward: 0.8\n"
     ]
    }
   ],
   "source": [
    "# who is better: Agent simple\n",
    "state = [1, \"lost\"] # bet 1 dollar\n",
    "total_reward = 0\n",
    "ntrials = 10\n",
    "for i in 1:ntrials\n",
    "    state = [1, \"lost\"]\n",
    "    episode_reward = 0\n",
    "    tosses = 0\n",
    "    while !tossgame.task_end(state)\n",
    "        action = agent_random.policy(state)\n",
    "        state, reward = tossgame.step(state, action)\n",
    "        episode_reward += reward\n",
    "        tosses += 1 \n",
    "    end\n",
    "    total_reward += episode_reward\n",
    "    println(\"Episode $i: received $episode_reward playing $tosses\")\n",
    "end\n",
    "println(\"Agent average reward: $(total_reward/ntrials)\")\n"
   ]
  },
  {
   "cell_type": "markdown",
   "metadata": {
    "collapsed": true
   },
   "source": [
    "# Preloaded environments"
   ]
  },
  {
   "cell_type": "code",
   "execution_count": 101,
   "metadata": {
    "collapsed": true
   },
   "outputs": [],
   "source": [
    "using PixelArts"
   ]
  },
  {
   "cell_type": "markdown",
   "metadata": {},
   "source": [
    "## Right turn"
   ]
  },
  {
   "cell_type": "code",
   "execution_count": 103,
   "metadata": {
    "collapsed": false
   },
   "outputs": [
    {
     "data": {
      "text/plain": [
       "(RL.RLEnv(Array{Int64,1}[[1, 1], [1, 2], [1, 3], [1, 4], [1, 5], [1, 6], [1, 7], [1, 8], [1, 9], [1, 10]  …  [18, 8], [18, 9], [18, 10], [18, 11], [18, 12], [18, 13], [18, 14], [18, 15], [18, 16], [18, 17]], RL.actions, RL.step, RL.task_end), String[\"green\" \"green\" … \"green\" \"green\"; \"green\" \"green\" … \"green\" \"green\"; … ; \"green\" \"green\" … \"green\" \"green\"; \"green\" \"green\" … \"green\" \"green\"])"
      ]
     },
     "execution_count": 103,
     "metadata": {},
     "output_type": "execute_result"
    }
   ],
   "source": [
    "right_turn, colour_array = get_env(\"right_turn\")"
   ]
  },
  {
   "cell_type": "code",
   "execution_count": 145,
   "metadata": {
    "collapsed": false
   },
   "outputs": [
    {
     "data": {
      "text/html": [
       "<div class=\"usersvg\">\n",
       "<svg id='canvasLcz' width='400' height='400' viewbox='0 0 17 18'></svg>\n",
       "</div>\n",
       "<script> \n",
       "requirejs.config({paths: {d3: \"https://d3js.org/d3.v3.min.js?noext\"}});  \n",
       "</script>\n"
      ]
     },
     "metadata": {},
     "output_type": "display_data"
    },
    {
     "data": {
      "application/javascript": [
       "var svg=document.getElementById('canvasLcz');var newElement;newElement = document.createElementNS(\"http://www.w3.org/2000/svg\", 'rect'); \n",
       "newElement.setAttribute('width','1'); \n",
       "newElement.setAttribute('height','1'); \n",
       "newElement.setAttribute('x','0'); \n",
       "newElement.setAttribute('y','0'); \n",
       "newElement.style.fill = 'green'; \n",
       "svg.appendChild(newElement);\n",
       "newElement = document.createElementNS(\"http://www.w3.org/2000/svg\", 'rect'); \n",
       "newElement.setAttribute('width','1'); \n",
       "newElement.setAttribute('height','1'); \n",
       "newElement.setAttribute('x','1'); \n",
       "newElement.setAttribute('y','0'); \n",
       "newElement.style.fill = 'green'; \n",
       "svg.appendChild(newElement);\n",
       "newElement = document.createElementNS(\"http://www.w3.org/2000/svg\", 'rect'); \n",
       "newElement.setAttribute('width','1'); \n",
       "newElement.setAttribute('height','1'); \n",
       "newElement.setAttribute('x','2'); \n",
       "newElement.setAttribute('y','0'); \n",
       "newElement.style.fill = 'green'; \n",
       "svg.appendChild(newElement);\n",
       "newElement = document.createElementNS(\"http://www.w3.org/2000/svg\", 'rect'); \n",
       "newElement.setAttribute('width','1'); \n",
       "newElement.setAttribute('height','1'); \n",
       "newElement.setAttribute('x','3'); \n",
       "newElement.setAttribute('y','0'); \n",
       "newElement.style.fill = 'green'; \n",
       "svg.appendChild(newElement);\n",
       "newElement = document.createElementNS(\"http://www.w3.org/2000/svg\", 'rect'); \n",
       "newElement.setAttribute('width','1'); \n",
       "newElement.setAttribute('height','1'); \n",
       "newElement.setAttribute('x','4'); \n",
       "newElement.setAttribute('y','0'); \n",
       "newElement.style.fill = 'green'; \n",
       "svg.appendChild(newElement);\n",
       "newElement = document.createElementNS(\"http://www.w3.org/2000/svg\", 'rect'); \n",
       "newElement.setAttribute('width','1'); \n",
       "newElement.setAttribute('height','1'); \n",
       "newElement.setAttribute('x','5'); \n",
       "newElement.setAttribute('y','0'); \n",
       "newElement.style.fill = 'green'; \n",
       "svg.appendChild(newElement);\n",
       "newElement = document.createElementNS(\"http://www.w3.org/2000/svg\", 'rect'); \n",
       "newElement.setAttribute('width','1'); \n",
       "newElement.setAttribute('height','1'); \n",
       "newElement.setAttribute('x','6'); \n",
       "newElement.setAttribute('y','0'); \n",
       "newElement.style.fill = 'green'; \n",
       "svg.appendChild(newElement);\n",
       "newElement = document.createElementNS(\"http://www.w3.org/2000/svg\", 'rect'); \n",
       "newElement.setAttribute('width','1'); \n",
       "newElement.setAttribute('height','1'); \n",
       "newElement.setAttribute('x','7'); \n",
       "newElement.setAttribute('y','0'); \n",
       "newElement.style.fill = 'green'; \n",
       "svg.appendChild(newElement);\n",
       "newElement = document.createElementNS(\"http://www.w3.org/2000/svg\", 'rect'); \n",
       "newElement.setAttribute('width','1'); \n",
       "newElement.setAttribute('height','1'); \n",
       "newElement.setAttribute('x','8'); \n",
       "newElement.setAttribute('y','0'); \n",
       "newElement.style.fill = 'green'; \n",
       "svg.appendChild(newElement);\n",
       "newElement = document.createElementNS(\"http://www.w3.org/2000/svg\", 'rect'); \n",
       "newElement.setAttribute('width','1'); \n",
       "newElement.setAttribute('height','1'); \n",
       "newElement.setAttribute('x','9'); \n",
       "newElement.setAttribute('y','0'); \n",
       "newElement.style.fill = 'green'; \n",
       "svg.appendChild(newElement);\n",
       "newElement = document.createElementNS(\"http://www.w3.org/2000/svg\", 'rect'); \n",
       "newElement.setAttribute('width','1'); \n",
       "newElement.setAttribute('height','1'); \n",
       "newElement.setAttribute('x','10'); \n",
       "newElement.setAttribute('y','0'); \n",
       "newElement.style.fill = 'green'; \n",
       "svg.appendChild(newElement);\n",
       "newElement = document.createElementNS(\"http://www.w3.org/2000/svg\", 'rect'); \n",
       "newElement.setAttribute('width','1'); \n",
       "newElement.setAttribute('height','1'); \n",
       "newElement.setAttribute('x','11'); \n",
       "newElement.setAttribute('y','0'); \n",
       "newElement.style.fill = 'red'; \n",
       "svg.appendChild(newElement);\n",
       "newElement = document.createElementNS(\"http://www.w3.org/2000/svg\", 'rect'); \n",
       "newElement.setAttribute('width','1'); \n",
       "newElement.setAttribute('height','1'); \n",
       "newElement.setAttribute('x','12'); \n",
       "newElement.setAttribute('y','0'); \n",
       "newElement.style.fill = 'red'; \n",
       "svg.appendChild(newElement);\n",
       "newElement = document.createElementNS(\"http://www.w3.org/2000/svg\", 'rect'); \n",
       "newElement.setAttribute('width','1'); \n",
       "newElement.setAttribute('height','1'); \n",
       "newElement.setAttribute('x','13'); \n",
       "newElement.setAttribute('y','0'); \n",
       "newElement.style.fill = 'red'; \n",
       "svg.appendChild(newElement);\n",
       "newElement = document.createElementNS(\"http://www.w3.org/2000/svg\", 'rect'); \n",
       "newElement.setAttribute('width','1'); \n",
       "newElement.setAttribute('height','1'); \n",
       "newElement.setAttribute('x','14'); \n",
       "newElement.setAttribute('y','0'); \n",
       "newElement.style.fill = 'red'; \n",
       "svg.appendChild(newElement);\n",
       "newElement = document.createElementNS(\"http://www.w3.org/2000/svg\", 'rect'); \n",
       "newElement.setAttribute('width','1'); \n",
       "newElement.setAttribute('height','1'); \n",
       "newElement.setAttribute('x','15'); \n",
       "newElement.setAttribute('y','0'); \n",
       "newElement.style.fill = 'green'; \n",
       "svg.appendChild(newElement);\n",
       "newElement = document.createElementNS(\"http://www.w3.org/2000/svg\", 'rect'); \n",
       "newElement.setAttribute('width','1'); \n",
       "newElement.setAttribute('height','1'); \n",
       "newElement.setAttribute('x','16'); \n",
       "newElement.setAttribute('y','0'); \n",
       "newElement.style.fill = 'green'; \n",
       "svg.appendChild(newElement);\n",
       "newElement = document.createElementNS(\"http://www.w3.org/2000/svg\", 'rect'); \n",
       "newElement.setAttribute('width','1'); \n",
       "newElement.setAttribute('height','1'); \n",
       "newElement.setAttribute('x','0'); \n",
       "newElement.setAttribute('y','1'); \n",
       "newElement.style.fill = 'green'; \n",
       "svg.appendChild(newElement);\n",
       "newElement = document.createElementNS(\"http://www.w3.org/2000/svg\", 'rect'); \n",
       "newElement.setAttribute('width','1'); \n",
       "newElement.setAttribute('height','1'); \n",
       "newElement.setAttribute('x','1'); \n",
       "newElement.setAttribute('y','1'); \n",
       "newElement.style.fill = 'green'; \n",
       "svg.appendChild(newElement);\n",
       "newElement = document.createElementNS(\"http://www.w3.org/2000/svg\", 'rect'); \n",
       "newElement.setAttribute('width','1'); \n",
       "newElement.setAttribute('height','1'); \n",
       "newElement.setAttribute('x','2'); \n",
       "newElement.setAttribute('y','1'); \n",
       "newElement.style.fill = 'green'; \n",
       "svg.appendChild(newElement);\n",
       "newElement = document.createElementNS(\"http://www.w3.org/2000/svg\", 'rect'); \n",
       "newElement.setAttribute('width','1'); \n",
       "newElement.setAttribute('height','1'); \n",
       "newElement.setAttribute('x','3'); \n",
       "newElement.setAttribute('y','1'); \n",
       "newElement.style.fill = 'green'; \n",
       "svg.appendChild(newElement);\n",
       "newElement = document.createElementNS(\"http://www.w3.org/2000/svg\", 'rect'); \n",
       "newElement.setAttribute('width','1'); \n",
       "newElement.setAttribute('height','1'); \n",
       "newElement.setAttribute('x','4'); \n",
       "newElement.setAttribute('y','1'); \n",
       "newElement.style.fill = 'green'; \n",
       "svg.appendChild(newElement);\n",
       "newElement = document.createElementNS(\"http://www.w3.org/2000/svg\", 'rect'); \n",
       "newElement.setAttribute('width','1'); \n",
       "newElement.setAttribute('height','1'); \n",
       "newElement.setAttribute('x','5'); \n",
       "newElement.setAttribute('y','1'); \n",
       "newElement.style.fill = 'green'; \n",
       "svg.appendChild(newElement);\n",
       "newElement = document.createElementNS(\"http://www.w3.org/2000/svg\", 'rect'); \n",
       "newElement.setAttribute('width','1'); \n",
       "newElement.setAttribute('height','1'); \n",
       "newElement.setAttribute('x','6'); \n",
       "newElement.setAttribute('y','1'); \n",
       "newElement.style.fill = 'green'; \n",
       "svg.appendChild(newElement);\n",
       "newElement = document.createElementNS(\"http://www.w3.org/2000/svg\", 'rect'); \n",
       "newElement.setAttribute('width','1'); \n",
       "newElement.setAttribute('height','1'); \n",
       "newElement.setAttribute('x','7'); \n",
       "newElement.setAttribute('y','1'); \n",
       "newElement.style.fill = 'green'; \n",
       "svg.appendChild(newElement);\n",
       "newElement = document.createElementNS(\"http://www.w3.org/2000/svg\", 'rect'); \n",
       "newElement.setAttribute('width','1'); \n",
       "newElement.setAttribute('height','1'); \n",
       "newElement.setAttribute('x','8'); \n",
       "newElement.setAttribute('y','1'); \n",
       "newElement.style.fill = 'green'; \n",
       "svg.appendChild(newElement);\n",
       "newElement = document.createElementNS(\"http://www.w3.org/2000/svg\", 'rect'); \n",
       "newElement.setAttribute('width','1'); \n",
       "newElement.setAttribute('height','1'); \n",
       "newElement.setAttribute('x','9'); \n",
       "newElement.setAttribute('y','1'); \n",
       "newElement.style.fill = 'green'; \n",
       "svg.appendChild(newElement);\n",
       "newElement = document.createElementNS(\"http://www.w3.org/2000/svg\", 'rect'); \n",
       "newElement.setAttribute('width','1'); \n",
       "newElement.setAttribute('height','1'); \n",
       "newElement.setAttribute('x','10'); \n",
       "newElement.setAttribute('y','1'); \n",
       "newElement.style.fill = 'brown'; \n",
       "svg.appendChild(newElement);\n",
       "newElement = document.createElementNS(\"http://www.w3.org/2000/svg\", 'rect'); \n",
       "newElement.setAttribute('width','1'); \n",
       "newElement.setAttribute('height','1'); \n",
       "newElement.setAttribute('x','11'); \n",
       "newElement.setAttribute('y','1'); \n",
       "newElement.style.fill = 'brown'; \n",
       "svg.appendChild(newElement);\n",
       "newElement = document.createElementNS(\"http://www.w3.org/2000/svg\", 'rect'); \n",
       "newElement.setAttribute('width','1'); \n",
       "newElement.setAttribute('height','1'); \n",
       "newElement.setAttribute('x','12'); \n",
       "newElement.setAttribute('y','1'); \n",
       "newElement.style.fill = 'brown'; \n",
       "svg.appendChild(newElement);\n",
       "newElement = document.createElementNS(\"http://www.w3.org/2000/svg\", 'rect'); \n",
       "newElement.setAttribute('width','1'); \n",
       "newElement.setAttribute('height','1'); \n",
       "newElement.setAttribute('x','13'); \n",
       "newElement.setAttribute('y','1'); \n",
       "newElement.style.fill = 'brown'; \n",
       "svg.appendChild(newElement);\n",
       "newElement = document.createElementNS(\"http://www.w3.org/2000/svg\", 'rect'); \n",
       "newElement.setAttribute('width','1'); \n",
       "newElement.setAttribute('height','1'); \n",
       "newElement.setAttribute('x','14'); \n",
       "newElement.setAttribute('y','1'); \n",
       "newElement.style.fill = 'brown'; \n",
       "svg.appendChild(newElement);\n",
       "newElement = document.createElementNS(\"http://www.w3.org/2000/svg\", 'rect'); \n",
       "newElement.setAttribute('width','1'); \n",
       "newElement.setAttribute('height','1'); \n",
       "newElement.setAttribute('x','15'); \n",
       "newElement.setAttribute('y','1'); \n",
       "newElement.style.fill = 'green'; \n",
       "svg.appendChild(newElement);\n",
       "newElement = document.createElementNS(\"http://www.w3.org/2000/svg\", 'rect'); \n",
       "newElement.setAttribute('width','1'); \n",
       "newElement.setAttribute('height','1'); \n",
       "newElement.setAttribute('x','16'); \n",
       "newElement.setAttribute('y','1'); \n",
       "newElement.style.fill = 'green'; \n",
       "svg.appendChild(newElement);\n",
       "newElement = document.createElementNS(\"http://www.w3.org/2000/svg\", 'rect'); \n",
       "newElement.setAttribute('width','1'); \n",
       "newElement.setAttribute('height','1'); \n",
       "newElement.setAttribute('x','0'); \n",
       "newElement.setAttribute('y','2'); \n",
       "newElement.style.fill = 'green'; \n",
       "svg.appendChild(newElement);\n",
       "newElement = document.createElementNS(\"http://www.w3.org/2000/svg\", 'rect'); \n",
       "newElement.setAttribute('width','1'); \n",
       "newElement.setAttribute('height','1'); \n",
       "newElement.setAttribute('x','1'); \n",
       "newElement.setAttribute('y','2'); \n",
       "newElement.style.fill = 'green'; \n",
       "svg.appendChild(newElement);\n",
       "newElement = document.createElementNS(\"http://www.w3.org/2000/svg\", 'rect'); \n",
       "newElement.setAttribute('width','1'); \n",
       "newElement.setAttribute('height','1'); \n",
       "newElement.setAttribute('x','2'); \n",
       "newElement.setAttribute('y','2'); \n",
       "newElement.style.fill = 'green'; \n",
       "svg.appendChild(newElement);\n",
       "newElement = document.createElementNS(\"http://www.w3.org/2000/svg\", 'rect'); \n",
       "newElement.setAttribute('width','1'); \n",
       "newElement.setAttribute('height','1'); \n",
       "newElement.setAttribute('x','3'); \n",
       "newElement.setAttribute('y','2'); \n",
       "newElement.style.fill = 'green'; \n",
       "svg.appendChild(newElement);\n",
       "newElement = document.createElementNS(\"http://www.w3.org/2000/svg\", 'rect'); \n",
       "newElement.setAttribute('width','1'); \n",
       "newElement.setAttribute('height','1'); \n",
       "newElement.setAttribute('x','4'); \n",
       "newElement.setAttribute('y','2'); \n",
       "newElement.style.fill = 'green'; \n",
       "svg.appendChild(newElement);\n",
       "newElement = document.createElementNS(\"http://www.w3.org/2000/svg\", 'rect'); \n",
       "newElement.setAttribute('width','1'); \n",
       "newElement.setAttribute('height','1'); \n",
       "newElement.setAttribute('x','5'); \n",
       "newElement.setAttribute('y','2'); \n",
       "newElement.style.fill = 'green'; \n",
       "svg.appendChild(newElement);\n",
       "newElement = document.createElementNS(\"http://www.w3.org/2000/svg\", 'rect'); \n",
       "newElement.setAttribute('width','1'); \n",
       "newElement.setAttribute('height','1'); \n",
       "newElement.setAttribute('x','6'); \n",
       "newElement.setAttribute('y','2'); \n",
       "newElement.style.fill = 'green'; \n",
       "svg.appendChild(newElement);\n",
       "newElement = document.createElementNS(\"http://www.w3.org/2000/svg\", 'rect'); \n",
       "newElement.setAttribute('width','1'); \n",
       "newElement.setAttribute('height','1'); \n",
       "newElement.setAttribute('x','7'); \n",
       "newElement.setAttribute('y','2'); \n",
       "newElement.style.fill = 'green'; \n",
       "svg.appendChild(newElement);\n",
       "newElement = document.createElementNS(\"http://www.w3.org/2000/svg\", 'rect'); \n",
       "newElement.setAttribute('width','1'); \n",
       "newElement.setAttribute('height','1'); \n",
       "newElement.setAttribute('x','8'); \n",
       "newElement.setAttribute('y','2'); \n",
       "newElement.style.fill = 'green'; \n",
       "svg.appendChild(newElement);\n",
       "newElement = document.createElementNS(\"http://www.w3.org/2000/svg\", 'rect'); \n",
       "newElement.setAttribute('width','1'); \n",
       "newElement.setAttribute('height','1'); \n",
       "newElement.setAttribute('x','9'); \n",
       "newElement.setAttribute('y','2'); \n",
       "newElement.style.fill = 'brown'; \n",
       "svg.appendChild(newElement);\n",
       "newElement = document.createElementNS(\"http://www.w3.org/2000/svg\", 'rect'); \n",
       "newElement.setAttribute('width','1'); \n",
       "newElement.setAttribute('height','1'); \n",
       "newElement.setAttribute('x','10'); \n",
       "newElement.setAttribute('y','2'); \n",
       "newElement.style.fill = 'brown'; \n",
       "svg.appendChild(newElement);\n",
       "newElement = document.createElementNS(\"http://www.w3.org/2000/svg\", 'rect'); \n",
       "newElement.setAttribute('width','1'); \n",
       "newElement.setAttribute('height','1'); \n",
       "newElement.setAttribute('x','11'); \n",
       "newElement.setAttribute('y','2'); \n",
       "newElement.style.fill = 'brown'; \n",
       "svg.appendChild(newElement);\n",
       "newElement = document.createElementNS(\"http://www.w3.org/2000/svg\", 'rect'); \n",
       "newElement.setAttribute('width','1'); \n",
       "newElement.setAttribute('height','1'); \n",
       "newElement.setAttribute('x','12'); \n",
       "newElement.setAttribute('y','2'); \n",
       "newElement.style.fill = 'brown'; \n",
       "svg.appendChild(newElement);\n",
       "newElement = document.createElementNS(\"http://www.w3.org/2000/svg\", 'rect'); \n",
       "newElement.setAttribute('width','1'); \n",
       "newElement.setAttribute('height','1'); \n",
       "newElement.setAttribute('x','13'); \n",
       "newElement.setAttribute('y','2'); \n",
       "newElement.style.fill = 'brown'; \n",
       "svg.appendChild(newElement);\n",
       "newElement = document.createElementNS(\"http://www.w3.org/2000/svg\", 'rect'); \n",
       "newElement.setAttribute('width','1'); \n",
       "newElement.setAttribute('height','1'); \n",
       "newElement.setAttribute('x','14'); \n",
       "newElement.setAttribute('y','2'); \n",
       "newElement.style.fill = 'green'; \n",
       "svg.appendChild(newElement);\n",
       "newElement = document.createElementNS(\"http://www.w3.org/2000/svg\", 'rect'); \n",
       "newElement.setAttribute('width','1'); \n",
       "newElement.setAttribute('height','1'); \n",
       "newElement.setAttribute('x','15'); \n",
       "newElement.setAttribute('y','2'); \n",
       "newElement.style.fill = 'green'; \n",
       "svg.appendChild(newElement);\n",
       "newElement = document.createElementNS(\"http://www.w3.org/2000/svg\", 'rect'); \n",
       "newElement.setAttribute('width','1'); \n",
       "newElement.setAttribute('height','1'); \n",
       "newElement.setAttribute('x','16'); \n",
       "newElement.setAttribute('y','2'); \n",
       "newElement.style.fill = 'green'; \n",
       "svg.appendChild(newElement);\n",
       "newElement = document.createElementNS(\"http://www.w3.org/2000/svg\", 'rect'); \n",
       "newElement.setAttribute('width','1'); \n",
       "newElement.setAttribute('height','1'); \n",
       "newElement.setAttribute('x','0'); \n",
       "newElement.setAttribute('y','3'); \n",
       "newElement.style.fill = 'green'; \n",
       "svg.appendChild(newElement);\n",
       "newElement = document.createElementNS(\"http://www.w3.org/2000/svg\", 'rect'); \n",
       "newElement.setAttribute('width','1'); \n",
       "newElement.setAttribute('height','1'); \n",
       "newElement.setAttribute('x','1'); \n",
       "newElement.setAttribute('y','3'); \n",
       "newElement.style.fill = 'green'; \n",
       "svg.appendChild(newElement);\n",
       "newElement = document.createElementNS(\"http://www.w3.org/2000/svg\", 'rect'); \n",
       "newElement.setAttribute('width','1'); \n",
       "newElement.setAttribute('height','1'); \n",
       "newElement.setAttribute('x','2'); \n",
       "newElement.setAttribute('y','3'); \n",
       "newElement.style.fill = 'green'; \n",
       "svg.appendChild(newElement);\n",
       "newElement = document.createElementNS(\"http://www.w3.org/2000/svg\", 'rect'); \n",
       "newElement.setAttribute('width','1'); \n",
       "newElement.setAttribute('height','1'); \n",
       "newElement.setAttribute('x','3'); \n",
       "newElement.setAttribute('y','3'); \n",
       "newElement.style.fill = 'green'; \n",
       "svg.appendChild(newElement);\n",
       "newElement = document.createElementNS(\"http://www.w3.org/2000/svg\", 'rect'); \n",
       "newElement.setAttribute('width','1'); \n",
       "newElement.setAttribute('height','1'); \n",
       "newElement.setAttribute('x','4'); \n",
       "newElement.setAttribute('y','3'); \n",
       "newElement.style.fill = 'green'; \n",
       "svg.appendChild(newElement);\n",
       "newElement = document.createElementNS(\"http://www.w3.org/2000/svg\", 'rect'); \n",
       "newElement.setAttribute('width','1'); \n",
       "newElement.setAttribute('height','1'); \n",
       "newElement.setAttribute('x','5'); \n",
       "newElement.setAttribute('y','3'); \n",
       "newElement.style.fill = 'green'; \n",
       "svg.appendChild(newElement);\n",
       "newElement = document.createElementNS(\"http://www.w3.org/2000/svg\", 'rect'); \n",
       "newElement.setAttribute('width','1'); \n",
       "newElement.setAttribute('height','1'); \n",
       "newElement.setAttribute('x','6'); \n",
       "newElement.setAttribute('y','3'); \n",
       "newElement.style.fill = 'green'; \n",
       "svg.appendChild(newElement);\n",
       "newElement = document.createElementNS(\"http://www.w3.org/2000/svg\", 'rect'); \n",
       "newElement.setAttribute('width','1'); \n",
       "newElement.setAttribute('height','1'); \n",
       "newElement.setAttribute('x','7'); \n",
       "newElement.setAttribute('y','3'); \n",
       "newElement.style.fill = 'brown'; \n",
       "svg.appendChild(newElement);\n",
       "newElement = document.createElementNS(\"http://www.w3.org/2000/svg\", 'rect'); \n",
       "newElement.setAttribute('width','1'); \n",
       "newElement.setAttribute('height','1'); \n",
       "newElement.setAttribute('x','8'); \n",
       "newElement.setAttribute('y','3'); \n",
       "newElement.style.fill = 'brown'; \n",
       "svg.appendChild(newElement);\n",
       "newElement = document.createElementNS(\"http://www.w3.org/2000/svg\", 'rect'); \n",
       "newElement.setAttribute('width','1'); \n",
       "newElement.setAttribute('height','1'); \n",
       "newElement.setAttribute('x','9'); \n",
       "newElement.setAttribute('y','3'); \n",
       "newElement.style.fill = 'brown'; \n",
       "svg.appendChild(newElement);\n",
       "newElement = document.createElementNS(\"http://www.w3.org/2000/svg\", 'rect'); \n",
       "newElement.setAttribute('width','1'); \n",
       "newElement.setAttribute('height','1'); \n",
       "newElement.setAttribute('x','10'); \n",
       "newElement.setAttribute('y','3'); \n",
       "newElement.style.fill = 'brown'; \n",
       "svg.appendChild(newElement);\n",
       "newElement = document.createElementNS(\"http://www.w3.org/2000/svg\", 'rect'); \n",
       "newElement.setAttribute('width','1'); \n",
       "newElement.setAttribute('height','1'); \n",
       "newElement.setAttribute('x','11'); \n",
       "newElement.setAttribute('y','3'); \n",
       "newElement.style.fill = 'brown'; \n",
       "svg.appendChild(newElement);\n",
       "newElement = document.createElementNS(\"http://www.w3.org/2000/svg\", 'rect'); \n",
       "newElement.setAttribute('width','1'); \n",
       "newElement.setAttribute('height','1'); \n",
       "newElement.setAttribute('x','12'); \n",
       "newElement.setAttribute('y','3'); \n",
       "newElement.style.fill = 'brown'; \n",
       "svg.appendChild(newElement);\n",
       "newElement = document.createElementNS(\"http://www.w3.org/2000/svg\", 'rect'); \n",
       "newElement.setAttribute('width','1'); \n",
       "newElement.setAttribute('height','1'); \n",
       "newElement.setAttribute('x','13'); \n",
       "newElement.setAttribute('y','3'); \n",
       "newElement.style.fill = 'green'; \n",
       "svg.appendChild(newElement);\n",
       "newElement = document.createElementNS(\"http://www.w3.org/2000/svg\", 'rect'); \n",
       "newElement.setAttribute('width','1'); \n",
       "newElement.setAttribute('height','1'); \n",
       "newElement.setAttribute('x','14'); \n",
       "newElement.setAttribute('y','3'); \n",
       "newElement.style.fill = 'green'; \n",
       "svg.appendChild(newElement);\n",
       "newElement = document.createElementNS(\"http://www.w3.org/2000/svg\", 'rect'); \n",
       "newElement.setAttribute('width','1'); \n",
       "newElement.setAttribute('height','1'); \n",
       "newElement.setAttribute('x','15'); \n",
       "newElement.setAttribute('y','3'); \n",
       "newElement.style.fill = 'green'; \n",
       "svg.appendChild(newElement);\n",
       "newElement = document.createElementNS(\"http://www.w3.org/2000/svg\", 'rect'); \n",
       "newElement.setAttribute('width','1'); \n",
       "newElement.setAttribute('height','1'); \n",
       "newElement.setAttribute('x','16'); \n",
       "newElement.setAttribute('y','3'); \n",
       "newElement.style.fill = 'green'; \n",
       "svg.appendChild(newElement);\n",
       "newElement = document.createElementNS(\"http://www.w3.org/2000/svg\", 'rect'); \n",
       "newElement.setAttribute('width','1'); \n",
       "newElement.setAttribute('height','1'); \n",
       "newElement.setAttribute('x','0'); \n",
       "newElement.setAttribute('y','4'); \n",
       "newElement.style.fill = 'green'; \n",
       "svg.appendChild(newElement);\n",
       "newElement = document.createElementNS(\"http://www.w3.org/2000/svg\", 'rect'); \n",
       "newElement.setAttribute('width','1'); \n",
       "newElement.setAttribute('height','1'); \n",
       "newElement.setAttribute('x','1'); \n",
       "newElement.setAttribute('y','4'); \n",
       "newElement.style.fill = 'green'; \n",
       "svg.appendChild(newElement);\n",
       "newElement = document.createElementNS(\"http://www.w3.org/2000/svg\", 'rect'); \n",
       "newElement.setAttribute('width','1'); \n",
       "newElement.setAttribute('height','1'); \n",
       "newElement.setAttribute('x','2'); \n",
       "newElement.setAttribute('y','4'); \n",
       "newElement.style.fill = 'green'; \n",
       "svg.appendChild(newElement);\n",
       "newElement = document.createElementNS(\"http://www.w3.org/2000/svg\", 'rect'); \n",
       "newElement.setAttribute('width','1'); \n",
       "newElement.setAttribute('height','1'); \n",
       "newElement.setAttribute('x','3'); \n",
       "newElement.setAttribute('y','4'); \n",
       "newElement.style.fill = 'green'; \n",
       "svg.appendChild(newElement);\n",
       "newElement = document.createElementNS(\"http://www.w3.org/2000/svg\", 'rect'); \n",
       "newElement.setAttribute('width','1'); \n",
       "newElement.setAttribute('height','1'); \n",
       "newElement.setAttribute('x','4'); \n",
       "newElement.setAttribute('y','4'); \n",
       "newElement.style.fill = 'green'; \n",
       "svg.appendChild(newElement);\n",
       "newElement = document.createElementNS(\"http://www.w3.org/2000/svg\", 'rect'); \n",
       "newElement.setAttribute('width','1'); \n",
       "newElement.setAttribute('height','1'); \n",
       "newElement.setAttribute('x','5'); \n",
       "newElement.setAttribute('y','4'); \n",
       "newElement.style.fill = 'green'; \n",
       "svg.appendChild(newElement);\n",
       "newElement = document.createElementNS(\"http://www.w3.org/2000/svg\", 'rect'); \n",
       "newElement.setAttribute('width','1'); \n",
       "newElement.setAttribute('height','1'); \n",
       "newElement.setAttribute('x','6'); \n",
       "newElement.setAttribute('y','4'); \n",
       "newElement.style.fill = 'brown'; \n",
       "svg.appendChild(newElement);\n",
       "newElement = document.createElementNS(\"http://www.w3.org/2000/svg\", 'rect'); \n",
       "newElement.setAttribute('width','1'); \n",
       "newElement.setAttribute('height','1'); \n",
       "newElement.setAttribute('x','7'); \n",
       "newElement.setAttribute('y','4'); \n",
       "newElement.style.fill = 'brown'; \n",
       "svg.appendChild(newElement);\n",
       "newElement = document.createElementNS(\"http://www.w3.org/2000/svg\", 'rect'); \n",
       "newElement.setAttribute('width','1'); \n",
       "newElement.setAttribute('height','1'); \n",
       "newElement.setAttribute('x','8'); \n",
       "newElement.setAttribute('y','4'); \n",
       "newElement.style.fill = 'brown'; \n",
       "svg.appendChild(newElement);\n",
       "newElement = document.createElementNS(\"http://www.w3.org/2000/svg\", 'rect'); \n",
       "newElement.setAttribute('width','1'); \n",
       "newElement.setAttribute('height','1'); \n",
       "newElement.setAttribute('x','9'); \n",
       "newElement.setAttribute('y','4'); \n",
       "newElement.style.fill = 'brown'; \n",
       "svg.appendChild(newElement);\n",
       "newElement = document.createElementNS(\"http://www.w3.org/2000/svg\", 'rect'); \n",
       "newElement.setAttribute('width','1'); \n",
       "newElement.setAttribute('height','1'); \n",
       "newElement.setAttribute('x','10'); \n",
       "newElement.setAttribute('y','4'); \n",
       "newElement.style.fill = 'brown'; \n",
       "svg.appendChild(newElement);\n",
       "newElement = document.createElementNS(\"http://www.w3.org/2000/svg\", 'rect'); \n",
       "newElement.setAttribute('width','1'); \n",
       "newElement.setAttribute('height','1'); \n",
       "newElement.setAttribute('x','11'); \n",
       "newElement.setAttribute('y','4'); \n",
       "newElement.style.fill = 'brown'; \n",
       "svg.appendChild(newElement);\n",
       "newElement = document.createElementNS(\"http://www.w3.org/2000/svg\", 'rect'); \n",
       "newElement.setAttribute('width','1'); \n",
       "newElement.setAttribute('height','1'); \n",
       "newElement.setAttribute('x','12'); \n",
       "newElement.setAttribute('y','4'); \n",
       "newElement.style.fill = 'green'; \n",
       "svg.appendChild(newElement);\n",
       "newElement = document.createElementNS(\"http://www.w3.org/2000/svg\", 'rect'); \n",
       "newElement.setAttribute('width','1'); \n",
       "newElement.setAttribute('height','1'); \n",
       "newElement.setAttribute('x','13'); \n",
       "newElement.setAttribute('y','4'); \n",
       "newElement.style.fill = 'green'; \n",
       "svg.appendChild(newElement);\n",
       "newElement = document.createElementNS(\"http://www.w3.org/2000/svg\", 'rect'); \n",
       "newElement.setAttribute('width','1'); \n",
       "newElement.setAttribute('height','1'); \n",
       "newElement.setAttribute('x','14'); \n",
       "newElement.setAttribute('y','4'); \n",
       "newElement.style.fill = 'green'; \n",
       "svg.appendChild(newElement);\n",
       "newElement = document.createElementNS(\"http://www.w3.org/2000/svg\", 'rect'); \n",
       "newElement.setAttribute('width','1'); \n",
       "newElement.setAttribute('height','1'); \n",
       "newElement.setAttribute('x','15'); \n",
       "newElement.setAttribute('y','4'); \n",
       "newElement.style.fill = 'green'; \n",
       "svg.appendChild(newElement);\n",
       "newElement = document.createElementNS(\"http://www.w3.org/2000/svg\", 'rect'); \n",
       "newElement.setAttribute('width','1'); \n",
       "newElement.setAttribute('height','1'); \n",
       "newElement.setAttribute('x','16'); \n",
       "newElement.setAttribute('y','4'); \n",
       "newElement.style.fill = 'green'; \n",
       "svg.appendChild(newElement);\n",
       "newElement = document.createElementNS(\"http://www.w3.org/2000/svg\", 'rect'); \n",
       "newElement.setAttribute('width','1'); \n",
       "newElement.setAttribute('height','1'); \n",
       "newElement.setAttribute('x','0'); \n",
       "newElement.setAttribute('y','5'); \n",
       "newElement.style.fill = 'green'; \n",
       "svg.appendChild(newElement);\n",
       "newElement = document.createElementNS(\"http://www.w3.org/2000/svg\", 'rect'); \n",
       "newElement.setAttribute('width','1'); \n",
       "newElement.setAttribute('height','1'); \n",
       "newElement.setAttribute('x','1'); \n",
       "newElement.setAttribute('y','5'); \n",
       "newElement.style.fill = 'green'; \n",
       "svg.appendChild(newElement);\n",
       "newElement = document.createElementNS(\"http://www.w3.org/2000/svg\", 'rect'); \n",
       "newElement.setAttribute('width','1'); \n",
       "newElement.setAttribute('height','1'); \n",
       "newElement.setAttribute('x','2'); \n",
       "newElement.setAttribute('y','5'); \n",
       "newElement.style.fill = 'green'; \n",
       "svg.appendChild(newElement);\n",
       "newElement = document.createElementNS(\"http://www.w3.org/2000/svg\", 'rect'); \n",
       "newElement.setAttribute('width','1'); \n",
       "newElement.setAttribute('height','1'); \n",
       "newElement.setAttribute('x','3'); \n",
       "newElement.setAttribute('y','5'); \n",
       "newElement.style.fill = 'green'; \n",
       "svg.appendChild(newElement);\n",
       "newElement = document.createElementNS(\"http://www.w3.org/2000/svg\", 'rect'); \n",
       "newElement.setAttribute('width','1'); \n",
       "newElement.setAttribute('height','1'); \n",
       "newElement.setAttribute('x','4'); \n",
       "newElement.setAttribute('y','5'); \n",
       "newElement.style.fill = 'green'; \n",
       "svg.appendChild(newElement);\n",
       "newElement = document.createElementNS(\"http://www.w3.org/2000/svg\", 'rect'); \n",
       "newElement.setAttribute('width','1'); \n",
       "newElement.setAttribute('height','1'); \n",
       "newElement.setAttribute('x','5'); \n",
       "newElement.setAttribute('y','5'); \n",
       "newElement.style.fill = 'brown'; \n",
       "svg.appendChild(newElement);\n",
       "newElement = document.createElementNS(\"http://www.w3.org/2000/svg\", 'rect'); \n",
       "newElement.setAttribute('width','1'); \n",
       "newElement.setAttribute('height','1'); \n",
       "newElement.setAttribute('x','6'); \n",
       "newElement.setAttribute('y','5'); \n",
       "newElement.style.fill = 'brown'; \n",
       "svg.appendChild(newElement);\n",
       "newElement = document.createElementNS(\"http://www.w3.org/2000/svg\", 'rect'); \n",
       "newElement.setAttribute('width','1'); \n",
       "newElement.setAttribute('height','1'); \n",
       "newElement.setAttribute('x','7'); \n",
       "newElement.setAttribute('y','5'); \n",
       "newElement.style.fill = 'brown'; \n",
       "svg.appendChild(newElement);\n",
       "newElement = document.createElementNS(\"http://www.w3.org/2000/svg\", 'rect'); \n",
       "newElement.setAttribute('width','1'); \n",
       "newElement.setAttribute('height','1'); \n",
       "newElement.setAttribute('x','8'); \n",
       "newElement.setAttribute('y','5'); \n",
       "newElement.style.fill = 'brown'; \n",
       "svg.appendChild(newElement);\n",
       "newElement = document.createElementNS(\"http://www.w3.org/2000/svg\", 'rect'); \n",
       "newElement.setAttribute('width','1'); \n",
       "newElement.setAttribute('height','1'); \n",
       "newElement.setAttribute('x','9'); \n",
       "newElement.setAttribute('y','5'); \n",
       "newElement.style.fill = 'brown'; \n",
       "svg.appendChild(newElement);\n",
       "newElement = document.createElementNS(\"http://www.w3.org/2000/svg\", 'rect'); \n",
       "newElement.setAttribute('width','1'); \n",
       "newElement.setAttribute('height','1'); \n",
       "newElement.setAttribute('x','10'); \n",
       "newElement.setAttribute('y','5'); \n",
       "newElement.style.fill = 'green'; \n",
       "svg.appendChild(newElement);\n",
       "newElement = document.createElementNS(\"http://www.w3.org/2000/svg\", 'rect'); \n",
       "newElement.setAttribute('width','1'); \n",
       "newElement.setAttribute('height','1'); \n",
       "newElement.setAttribute('x','11'); \n",
       "newElement.setAttribute('y','5'); \n",
       "newElement.style.fill = 'green'; \n",
       "svg.appendChild(newElement);\n",
       "newElement = document.createElementNS(\"http://www.w3.org/2000/svg\", 'rect'); \n",
       "newElement.setAttribute('width','1'); \n",
       "newElement.setAttribute('height','1'); \n",
       "newElement.setAttribute('x','12'); \n",
       "newElement.setAttribute('y','5'); \n",
       "newElement.style.fill = 'green'; \n",
       "svg.appendChild(newElement);\n",
       "newElement = document.createElementNS(\"http://www.w3.org/2000/svg\", 'rect'); \n",
       "newElement.setAttribute('width','1'); \n",
       "newElement.setAttribute('height','1'); \n",
       "newElement.setAttribute('x','13'); \n",
       "newElement.setAttribute('y','5'); \n",
       "newElement.style.fill = 'green'; \n",
       "svg.appendChild(newElement);\n",
       "newElement = document.createElementNS(\"http://www.w3.org/2000/svg\", 'rect'); \n",
       "newElement.setAttribute('width','1'); \n",
       "newElement.setAttribute('height','1'); \n",
       "newElement.setAttribute('x','14'); \n",
       "newElement.setAttribute('y','5'); \n",
       "newElement.style.fill = 'green'; \n",
       "svg.appendChild(newElement);\n",
       "newElement = document.createElementNS(\"http://www.w3.org/2000/svg\", 'rect'); \n",
       "newElement.setAttribute('width','1'); \n",
       "newElement.setAttribute('height','1'); \n",
       "newElement.setAttribute('x','15'); \n",
       "newElement.setAttribute('y','5'); \n",
       "newElement.style.fill = 'green'; \n",
       "svg.appendChild(newElement);\n",
       "newElement = document.createElementNS(\"http://www.w3.org/2000/svg\", 'rect'); \n",
       "newElement.setAttribute('width','1'); \n",
       "newElement.setAttribute('height','1'); \n",
       "newElement.setAttribute('x','16'); \n",
       "newElement.setAttribute('y','5'); \n",
       "newElement.style.fill = 'green'; \n",
       "svg.appendChild(newElement);\n",
       "newElement = document.createElementNS(\"http://www.w3.org/2000/svg\", 'rect'); \n",
       "newElement.setAttribute('width','1'); \n",
       "newElement.setAttribute('height','1'); \n",
       "newElement.setAttribute('x','0'); \n",
       "newElement.setAttribute('y','6'); \n",
       "newElement.style.fill = 'green'; \n",
       "svg.appendChild(newElement);\n",
       "newElement = document.createElementNS(\"http://www.w3.org/2000/svg\", 'rect'); \n",
       "newElement.setAttribute('width','1'); \n",
       "newElement.setAttribute('height','1'); \n",
       "newElement.setAttribute('x','1'); \n",
       "newElement.setAttribute('y','6'); \n",
       "newElement.style.fill = 'green'; \n",
       "svg.appendChild(newElement);\n",
       "newElement = document.createElementNS(\"http://www.w3.org/2000/svg\", 'rect'); \n",
       "newElement.setAttribute('width','1'); \n",
       "newElement.setAttribute('height','1'); \n",
       "newElement.setAttribute('x','2'); \n",
       "newElement.setAttribute('y','6'); \n",
       "newElement.style.fill = 'green'; \n",
       "svg.appendChild(newElement);\n",
       "newElement = document.createElementNS(\"http://www.w3.org/2000/svg\", 'rect'); \n",
       "newElement.setAttribute('width','1'); \n",
       "newElement.setAttribute('height','1'); \n",
       "newElement.setAttribute('x','3'); \n",
       "newElement.setAttribute('y','6'); \n",
       "newElement.style.fill = 'green'; \n",
       "svg.appendChild(newElement);\n",
       "newElement = document.createElementNS(\"http://www.w3.org/2000/svg\", 'rect'); \n",
       "newElement.setAttribute('width','1'); \n",
       "newElement.setAttribute('height','1'); \n",
       "newElement.setAttribute('x','4'); \n",
       "newElement.setAttribute('y','6'); \n",
       "newElement.style.fill = 'brown'; \n",
       "svg.appendChild(newElement);\n",
       "newElement = document.createElementNS(\"http://www.w3.org/2000/svg\", 'rect'); \n",
       "newElement.setAttribute('width','1'); \n",
       "newElement.setAttribute('height','1'); \n",
       "newElement.setAttribute('x','5'); \n",
       "newElement.setAttribute('y','6'); \n",
       "newElement.style.fill = 'brown'; \n",
       "svg.appendChild(newElement);\n",
       "newElement = document.createElementNS(\"http://www.w3.org/2000/svg\", 'rect'); \n",
       "newElement.setAttribute('width','1'); \n",
       "newElement.setAttribute('height','1'); \n",
       "newElement.setAttribute('x','6'); \n",
       "newElement.setAttribute('y','6'); \n",
       "newElement.style.fill = 'brown'; \n",
       "svg.appendChild(newElement);\n",
       "newElement = document.createElementNS(\"http://www.w3.org/2000/svg\", 'rect'); \n",
       "newElement.setAttribute('width','1'); \n",
       "newElement.setAttribute('height','1'); \n",
       "newElement.setAttribute('x','7'); \n",
       "newElement.setAttribute('y','6'); \n",
       "newElement.style.fill = 'brown'; \n",
       "svg.appendChild(newElement);\n",
       "newElement = document.createElementNS(\"http://www.w3.org/2000/svg\", 'rect'); \n",
       "newElement.setAttribute('width','1'); \n",
       "newElement.setAttribute('height','1'); \n",
       "newElement.setAttribute('x','8'); \n",
       "newElement.setAttribute('y','6'); \n",
       "newElement.style.fill = 'brown'; \n",
       "svg.appendChild(newElement);\n",
       "newElement = document.createElementNS(\"http://www.w3.org/2000/svg\", 'rect'); \n",
       "newElement.setAttribute('width','1'); \n",
       "newElement.setAttribute('height','1'); \n",
       "newElement.setAttribute('x','9'); \n",
       "newElement.setAttribute('y','6'); \n",
       "newElement.style.fill = 'green'; \n",
       "svg.appendChild(newElement);\n",
       "newElement = document.createElementNS(\"http://www.w3.org/2000/svg\", 'rect'); \n",
       "newElement.setAttribute('width','1'); \n",
       "newElement.setAttribute('height','1'); \n",
       "newElement.setAttribute('x','10'); \n",
       "newElement.setAttribute('y','6'); \n",
       "newElement.style.fill = 'green'; \n",
       "svg.appendChild(newElement);\n",
       "newElement = document.createElementNS(\"http://www.w3.org/2000/svg\", 'rect'); \n",
       "newElement.setAttribute('width','1'); \n",
       "newElement.setAttribute('height','1'); \n",
       "newElement.setAttribute('x','11'); \n",
       "newElement.setAttribute('y','6'); \n",
       "newElement.style.fill = 'green'; \n",
       "svg.appendChild(newElement);\n",
       "newElement = document.createElementNS(\"http://www.w3.org/2000/svg\", 'rect'); \n",
       "newElement.setAttribute('width','1'); \n",
       "newElement.setAttribute('height','1'); \n",
       "newElement.setAttribute('x','12'); \n",
       "newElement.setAttribute('y','6'); \n",
       "newElement.style.fill = 'green'; \n",
       "svg.appendChild(newElement);\n",
       "newElement = document.createElementNS(\"http://www.w3.org/2000/svg\", 'rect'); \n",
       "newElement.setAttribute('width','1'); \n",
       "newElement.setAttribute('height','1'); \n",
       "newElement.setAttribute('x','13'); \n",
       "newElement.setAttribute('y','6'); \n",
       "newElement.style.fill = 'green'; \n",
       "svg.appendChild(newElement);\n",
       "newElement = document.createElementNS(\"http://www.w3.org/2000/svg\", 'rect'); \n",
       "newElement.setAttribute('width','1'); \n",
       "newElement.setAttribute('height','1'); \n",
       "newElement.setAttribute('x','14'); \n",
       "newElement.setAttribute('y','6'); \n",
       "newElement.style.fill = 'green'; \n",
       "svg.appendChild(newElement);\n",
       "newElement = document.createElementNS(\"http://www.w3.org/2000/svg\", 'rect'); \n",
       "newElement.setAttribute('width','1'); \n",
       "newElement.setAttribute('height','1'); \n",
       "newElement.setAttribute('x','15'); \n",
       "newElement.setAttribute('y','6'); \n",
       "newElement.style.fill = 'green'; \n",
       "svg.appendChild(newElement);\n",
       "newElement = document.createElementNS(\"http://www.w3.org/2000/svg\", 'rect'); \n",
       "newElement.setAttribute('width','1'); \n",
       "newElement.setAttribute('height','1'); \n",
       "newElement.setAttribute('x','16'); \n",
       "newElement.setAttribute('y','6'); \n",
       "newElement.style.fill = 'green'; \n",
       "svg.appendChild(newElement);\n",
       "newElement = document.createElementNS(\"http://www.w3.org/2000/svg\", 'rect'); \n",
       "newElement.setAttribute('width','1'); \n",
       "newElement.setAttribute('height','1'); \n",
       "newElement.setAttribute('x','0'); \n",
       "newElement.setAttribute('y','7'); \n",
       "newElement.style.fill = 'green'; \n",
       "svg.appendChild(newElement);\n",
       "newElement = document.createElementNS(\"http://www.w3.org/2000/svg\", 'rect'); \n",
       "newElement.setAttribute('width','1'); \n",
       "newElement.setAttribute('height','1'); \n",
       "newElement.setAttribute('x','1'); \n",
       "newElement.setAttribute('y','7'); \n",
       "newElement.style.fill = 'green'; \n",
       "svg.appendChild(newElement);\n",
       "newElement = document.createElementNS(\"http://www.w3.org/2000/svg\", 'rect'); \n",
       "newElement.setAttribute('width','1'); \n",
       "newElement.setAttribute('height','1'); \n",
       "newElement.setAttribute('x','2'); \n",
       "newElement.setAttribute('y','7'); \n",
       "newElement.style.fill = 'green'; \n",
       "svg.appendChild(newElement);\n",
       "newElement = document.createElementNS(\"http://www.w3.org/2000/svg\", 'rect'); \n",
       "newElement.setAttribute('width','1'); \n",
       "newElement.setAttribute('height','1'); \n",
       "newElement.setAttribute('x','3'); \n",
       "newElement.setAttribute('y','7'); \n",
       "newElement.style.fill = 'brown'; \n",
       "svg.appendChild(newElement);\n",
       "newElement = document.createElementNS(\"http://www.w3.org/2000/svg\", 'rect'); \n",
       "newElement.setAttribute('width','1'); \n",
       "newElement.setAttribute('height','1'); \n",
       "newElement.setAttribute('x','4'); \n",
       "newElement.setAttribute('y','7'); \n",
       "newElement.style.fill = 'brown'; \n",
       "svg.appendChild(newElement);\n",
       "newElement = document.createElementNS(\"http://www.w3.org/2000/svg\", 'rect'); \n",
       "newElement.setAttribute('width','1'); \n",
       "newElement.setAttribute('height','1'); \n",
       "newElement.setAttribute('x','5'); \n",
       "newElement.setAttribute('y','7'); \n",
       "newElement.style.fill = 'brown'; \n",
       "svg.appendChild(newElement);\n",
       "newElement = document.createElementNS(\"http://www.w3.org/2000/svg\", 'rect'); \n",
       "newElement.setAttribute('width','1'); \n",
       "newElement.setAttribute('height','1'); \n",
       "newElement.setAttribute('x','6'); \n",
       "newElement.setAttribute('y','7'); \n",
       "newElement.style.fill = 'brown'; \n",
       "svg.appendChild(newElement);\n",
       "newElement = document.createElementNS(\"http://www.w3.org/2000/svg\", 'rect'); \n",
       "newElement.setAttribute('width','1'); \n",
       "newElement.setAttribute('height','1'); \n",
       "newElement.setAttribute('x','7'); \n",
       "newElement.setAttribute('y','7'); \n",
       "newElement.style.fill = 'brown'; \n",
       "svg.appendChild(newElement);\n",
       "newElement = document.createElementNS(\"http://www.w3.org/2000/svg\", 'rect'); \n",
       "newElement.setAttribute('width','1'); \n",
       "newElement.setAttribute('height','1'); \n",
       "newElement.setAttribute('x','8'); \n",
       "newElement.setAttribute('y','7'); \n",
       "newElement.style.fill = 'green'; \n",
       "svg.appendChild(newElement);\n",
       "newElement = document.createElementNS(\"http://www.w3.org/2000/svg\", 'rect'); \n",
       "newElement.setAttribute('width','1'); \n",
       "newElement.setAttribute('height','1'); \n",
       "newElement.setAttribute('x','9'); \n",
       "newElement.setAttribute('y','7'); \n",
       "newElement.style.fill = 'green'; \n",
       "svg.appendChild(newElement);\n",
       "newElement = document.createElementNS(\"http://www.w3.org/2000/svg\", 'rect'); \n",
       "newElement.setAttribute('width','1'); \n",
       "newElement.setAttribute('height','1'); \n",
       "newElement.setAttribute('x','10'); \n",
       "newElement.setAttribute('y','7'); \n",
       "newElement.style.fill = 'green'; \n",
       "svg.appendChild(newElement);\n",
       "newElement = document.createElementNS(\"http://www.w3.org/2000/svg\", 'rect'); \n",
       "newElement.setAttribute('width','1'); \n",
       "newElement.setAttribute('height','1'); \n",
       "newElement.setAttribute('x','11'); \n",
       "newElement.setAttribute('y','7'); \n",
       "newElement.style.fill = 'green'; \n",
       "svg.appendChild(newElement);\n",
       "newElement = document.createElementNS(\"http://www.w3.org/2000/svg\", 'rect'); \n",
       "newElement.setAttribute('width','1'); \n",
       "newElement.setAttribute('height','1'); \n",
       "newElement.setAttribute('x','12'); \n",
       "newElement.setAttribute('y','7'); \n",
       "newElement.style.fill = 'green'; \n",
       "svg.appendChild(newElement);\n",
       "newElement = document.createElementNS(\"http://www.w3.org/2000/svg\", 'rect'); \n",
       "newElement.setAttribute('width','1'); \n",
       "newElement.setAttribute('height','1'); \n",
       "newElement.setAttribute('x','13'); \n",
       "newElement.setAttribute('y','7'); \n",
       "newElement.style.fill = 'green'; \n",
       "svg.appendChild(newElement);\n",
       "newElement = document.createElementNS(\"http://www.w3.org/2000/svg\", 'rect'); \n",
       "newElement.setAttribute('width','1'); \n",
       "newElement.setAttribute('height','1'); \n",
       "newElement.setAttribute('x','14'); \n",
       "newElement.setAttribute('y','7'); \n",
       "newElement.style.fill = 'green'; \n",
       "svg.appendChild(newElement);\n",
       "newElement = document.createElementNS(\"http://www.w3.org/2000/svg\", 'rect'); \n",
       "newElement.setAttribute('width','1'); \n",
       "newElement.setAttribute('height','1'); \n",
       "newElement.setAttribute('x','15'); \n",
       "newElement.setAttribute('y','7'); \n",
       "newElement.style.fill = 'green'; \n",
       "svg.appendChild(newElement);\n",
       "newElement = document.createElementNS(\"http://www.w3.org/2000/svg\", 'rect'); \n",
       "newElement.setAttribute('width','1'); \n",
       "newElement.setAttribute('height','1'); \n",
       "newElement.setAttribute('x','16'); \n",
       "newElement.setAttribute('y','7'); \n",
       "newElement.style.fill = 'green'; \n",
       "svg.appendChild(newElement);\n",
       "newElement = document.createElementNS(\"http://www.w3.org/2000/svg\", 'rect'); \n",
       "newElement.setAttribute('width','1'); \n",
       "newElement.setAttribute('height','1'); \n",
       "newElement.setAttribute('x','0'); \n",
       "newElement.setAttribute('y','8'); \n",
       "newElement.style.fill = 'green'; \n",
       "svg.appendChild(newElement);\n",
       "newElement = document.createElementNS(\"http://www.w3.org/2000/svg\", 'rect'); \n",
       "newElement.setAttribute('width','1'); \n",
       "newElement.setAttribute('height','1'); \n",
       "newElement.setAttribute('x','1'); \n",
       "newElement.setAttribute('y','8'); \n",
       "newElement.style.fill = 'green'; \n",
       "svg.appendChild(newElement);\n",
       "newElement = document.createElementNS(\"http://www.w3.org/2000/svg\", 'rect'); \n",
       "newElement.setAttribute('width','1'); \n",
       "newElement.setAttribute('height','1'); \n",
       "newElement.setAttribute('x','2'); \n",
       "newElement.setAttribute('y','8'); \n",
       "newElement.style.fill = 'brown'; \n",
       "svg.appendChild(newElement);\n",
       "newElement = document.createElementNS(\"http://www.w3.org/2000/svg\", 'rect'); \n",
       "newElement.setAttribute('width','1'); \n",
       "newElement.setAttribute('height','1'); \n",
       "newElement.setAttribute('x','3'); \n",
       "newElement.setAttribute('y','8'); \n",
       "newElement.style.fill = 'brown'; \n",
       "svg.appendChild(newElement);\n",
       "newElement = document.createElementNS(\"http://www.w3.org/2000/svg\", 'rect'); \n",
       "newElement.setAttribute('width','1'); \n",
       "newElement.setAttribute('height','1'); \n",
       "newElement.setAttribute('x','4'); \n",
       "newElement.setAttribute('y','8'); \n",
       "newElement.style.fill = 'brown'; \n",
       "svg.appendChild(newElement);\n",
       "newElement = document.createElementNS(\"http://www.w3.org/2000/svg\", 'rect'); \n",
       "newElement.setAttribute('width','1'); \n",
       "newElement.setAttribute('height','1'); \n",
       "newElement.setAttribute('x','5'); \n",
       "newElement.setAttribute('y','8'); \n",
       "newElement.style.fill = 'brown'; \n",
       "svg.appendChild(newElement);\n",
       "newElement = document.createElementNS(\"http://www.w3.org/2000/svg\", 'rect'); \n",
       "newElement.setAttribute('width','1'); \n",
       "newElement.setAttribute('height','1'); \n",
       "newElement.setAttribute('x','6'); \n",
       "newElement.setAttribute('y','8'); \n",
       "newElement.style.fill = 'brown'; \n",
       "svg.appendChild(newElement);\n",
       "newElement = document.createElementNS(\"http://www.w3.org/2000/svg\", 'rect'); \n",
       "newElement.setAttribute('width','1'); \n",
       "newElement.setAttribute('height','1'); \n",
       "newElement.setAttribute('x','7'); \n",
       "newElement.setAttribute('y','8'); \n",
       "newElement.style.fill = 'green'; \n",
       "svg.appendChild(newElement);\n",
       "newElement = document.createElementNS(\"http://www.w3.org/2000/svg\", 'rect'); \n",
       "newElement.setAttribute('width','1'); \n",
       "newElement.setAttribute('height','1'); \n",
       "newElement.setAttribute('x','8'); \n",
       "newElement.setAttribute('y','8'); \n",
       "newElement.style.fill = 'green'; \n",
       "svg.appendChild(newElement);\n",
       "newElement = document.createElementNS(\"http://www.w3.org/2000/svg\", 'rect'); \n",
       "newElement.setAttribute('width','1'); \n",
       "newElement.setAttribute('height','1'); \n",
       "newElement.setAttribute('x','9'); \n",
       "newElement.setAttribute('y','8'); \n",
       "newElement.style.fill = 'green'; \n",
       "svg.appendChild(newElement);\n",
       "newElement = document.createElementNS(\"http://www.w3.org/2000/svg\", 'rect'); \n",
       "newElement.setAttribute('width','1'); \n",
       "newElement.setAttribute('height','1'); \n",
       "newElement.setAttribute('x','10'); \n",
       "newElement.setAttribute('y','8'); \n",
       "newElement.style.fill = 'green'; \n",
       "svg.appendChild(newElement);\n",
       "newElement = document.createElementNS(\"http://www.w3.org/2000/svg\", 'rect'); \n",
       "newElement.setAttribute('width','1'); \n",
       "newElement.setAttribute('height','1'); \n",
       "newElement.setAttribute('x','11'); \n",
       "newElement.setAttribute('y','8'); \n",
       "newElement.style.fill = 'green'; \n",
       "svg.appendChild(newElement);\n",
       "newElement = document.createElementNS(\"http://www.w3.org/2000/svg\", 'rect'); \n",
       "newElement.setAttribute('width','1'); \n",
       "newElement.setAttribute('height','1'); \n",
       "newElement.setAttribute('x','12'); \n",
       "newElement.setAttribute('y','8'); \n",
       "newElement.style.fill = 'green'; \n",
       "svg.appendChild(newElement);\n",
       "newElement = document.createElementNS(\"http://www.w3.org/2000/svg\", 'rect'); \n",
       "newElement.setAttribute('width','1'); \n",
       "newElement.setAttribute('height','1'); \n",
       "newElement.setAttribute('x','13'); \n",
       "newElement.setAttribute('y','8'); \n",
       "newElement.style.fill = 'green'; \n",
       "svg.appendChild(newElement);\n",
       "newElement = document.createElementNS(\"http://www.w3.org/2000/svg\", 'rect'); \n",
       "newElement.setAttribute('width','1'); \n",
       "newElement.setAttribute('height','1'); \n",
       "newElement.setAttribute('x','14'); \n",
       "newElement.setAttribute('y','8'); \n",
       "newElement.style.fill = 'green'; \n",
       "svg.appendChild(newElement);\n",
       "newElement = document.createElementNS(\"http://www.w3.org/2000/svg\", 'rect'); \n",
       "newElement.setAttribute('width','1'); \n",
       "newElement.setAttribute('height','1'); \n",
       "newElement.setAttribute('x','15'); \n",
       "newElement.setAttribute('y','8'); \n",
       "newElement.style.fill = 'green'; \n",
       "svg.appendChild(newElement);\n",
       "newElement = document.createElementNS(\"http://www.w3.org/2000/svg\", 'rect'); \n",
       "newElement.setAttribute('width','1'); \n",
       "newElement.setAttribute('height','1'); \n",
       "newElement.setAttribute('x','16'); \n",
       "newElement.setAttribute('y','8'); \n",
       "newElement.style.fill = 'green'; \n",
       "svg.appendChild(newElement);\n",
       "newElement = document.createElementNS(\"http://www.w3.org/2000/svg\", 'rect'); \n",
       "newElement.setAttribute('width','1'); \n",
       "newElement.setAttribute('height','1'); \n",
       "newElement.setAttribute('x','0'); \n",
       "newElement.setAttribute('y','9'); \n",
       "newElement.style.fill = 'green'; \n",
       "svg.appendChild(newElement);\n",
       "newElement = document.createElementNS(\"http://www.w3.org/2000/svg\", 'rect'); \n",
       "newElement.setAttribute('width','1'); \n",
       "newElement.setAttribute('height','1'); \n",
       "newElement.setAttribute('x','1'); \n",
       "newElement.setAttribute('y','9'); \n",
       "newElement.style.fill = 'green'; \n",
       "svg.appendChild(newElement);\n",
       "newElement = document.createElementNS(\"http://www.w3.org/2000/svg\", 'rect'); \n",
       "newElement.setAttribute('width','1'); \n",
       "newElement.setAttribute('height','1'); \n",
       "newElement.setAttribute('x','2'); \n",
       "newElement.setAttribute('y','9'); \n",
       "newElement.style.fill = 'brown'; \n",
       "svg.appendChild(newElement);\n",
       "newElement = document.createElementNS(\"http://www.w3.org/2000/svg\", 'rect'); \n",
       "newElement.setAttribute('width','1'); \n",
       "newElement.setAttribute('height','1'); \n",
       "newElement.setAttribute('x','3'); \n",
       "newElement.setAttribute('y','9'); \n",
       "newElement.style.fill = 'brown'; \n",
       "svg.appendChild(newElement);\n",
       "newElement = document.createElementNS(\"http://www.w3.org/2000/svg\", 'rect'); \n",
       "newElement.setAttribute('width','1'); \n",
       "newElement.setAttribute('height','1'); \n",
       "newElement.setAttribute('x','4'); \n",
       "newElement.setAttribute('y','9'); \n",
       "newElement.style.fill = 'brown'; \n",
       "svg.appendChild(newElement);\n",
       "newElement = document.createElementNS(\"http://www.w3.org/2000/svg\", 'rect'); \n",
       "newElement.setAttribute('width','1'); \n",
       "newElement.setAttribute('height','1'); \n",
       "newElement.setAttribute('x','5'); \n",
       "newElement.setAttribute('y','9'); \n",
       "newElement.style.fill = 'brown'; \n",
       "svg.appendChild(newElement);\n",
       "newElement = document.createElementNS(\"http://www.w3.org/2000/svg\", 'rect'); \n",
       "newElement.setAttribute('width','1'); \n",
       "newElement.setAttribute('height','1'); \n",
       "newElement.setAttribute('x','6'); \n",
       "newElement.setAttribute('y','9'); \n",
       "newElement.style.fill = 'brown'; \n",
       "svg.appendChild(newElement);\n",
       "newElement = document.createElementNS(\"http://www.w3.org/2000/svg\", 'rect'); \n",
       "newElement.setAttribute('width','1'); \n",
       "newElement.setAttribute('height','1'); \n",
       "newElement.setAttribute('x','7'); \n",
       "newElement.setAttribute('y','9'); \n",
       "newElement.style.fill = 'green'; \n",
       "svg.appendChild(newElement);\n",
       "newElement = document.createElementNS(\"http://www.w3.org/2000/svg\", 'rect'); \n",
       "newElement.setAttribute('width','1'); \n",
       "newElement.setAttribute('height','1'); \n",
       "newElement.setAttribute('x','8'); \n",
       "newElement.setAttribute('y','9'); \n",
       "newElement.style.fill = 'green'; \n",
       "svg.appendChild(newElement);\n",
       "newElement = document.createElementNS(\"http://www.w3.org/2000/svg\", 'rect'); \n",
       "newElement.setAttribute('width','1'); \n",
       "newElement.setAttribute('height','1'); \n",
       "newElement.setAttribute('x','9'); \n",
       "newElement.setAttribute('y','9'); \n",
       "newElement.style.fill = 'green'; \n",
       "svg.appendChild(newElement);\n",
       "newElement = document.createElementNS(\"http://www.w3.org/2000/svg\", 'rect'); \n",
       "newElement.setAttribute('width','1'); \n",
       "newElement.setAttribute('height','1'); \n",
       "newElement.setAttribute('x','10'); \n",
       "newElement.setAttribute('y','9'); \n",
       "newElement.style.fill = 'green'; \n",
       "svg.appendChild(newElement);\n",
       "newElement = document.createElementNS(\"http://www.w3.org/2000/svg\", 'rect'); \n",
       "newElement.setAttribute('width','1'); \n",
       "newElement.setAttribute('height','1'); \n",
       "newElement.setAttribute('x','11'); \n",
       "newElement.setAttribute('y','9'); \n",
       "newElement.style.fill = 'green'; \n",
       "svg.appendChild(newElement);\n",
       "newElement = document.createElementNS(\"http://www.w3.org/2000/svg\", 'rect'); \n",
       "newElement.setAttribute('width','1'); \n",
       "newElement.setAttribute('height','1'); \n",
       "newElement.setAttribute('x','12'); \n",
       "newElement.setAttribute('y','9'); \n",
       "newElement.style.fill = 'green'; \n",
       "svg.appendChild(newElement);\n",
       "newElement = document.createElementNS(\"http://www.w3.org/2000/svg\", 'rect'); \n",
       "newElement.setAttribute('width','1'); \n",
       "newElement.setAttribute('height','1'); \n",
       "newElement.setAttribute('x','13'); \n",
       "newElement.setAttribute('y','9'); \n",
       "newElement.style.fill = 'green'; \n",
       "svg.appendChild(newElement);\n",
       "newElement = document.createElementNS(\"http://www.w3.org/2000/svg\", 'rect'); \n",
       "newElement.setAttribute('width','1'); \n",
       "newElement.setAttribute('height','1'); \n",
       "newElement.setAttribute('x','14'); \n",
       "newElement.setAttribute('y','9'); \n",
       "newElement.style.fill = 'green'; \n",
       "svg.appendChild(newElement);\n",
       "newElement = document.createElementNS(\"http://www.w3.org/2000/svg\", 'rect'); \n",
       "newElement.setAttribute('width','1'); \n",
       "newElement.setAttribute('height','1'); \n",
       "newElement.setAttribute('x','15'); \n",
       "newElement.setAttribute('y','9'); \n",
       "newElement.style.fill = 'green'; \n",
       "svg.appendChild(newElement);\n",
       "newElement = document.createElementNS(\"http://www.w3.org/2000/svg\", 'rect'); \n",
       "newElement.setAttribute('width','1'); \n",
       "newElement.setAttribute('height','1'); \n",
       "newElement.setAttribute('x','16'); \n",
       "newElement.setAttribute('y','9'); \n",
       "newElement.style.fill = 'green'; \n",
       "svg.appendChild(newElement);\n",
       "newElement = document.createElementNS(\"http://www.w3.org/2000/svg\", 'rect'); \n",
       "newElement.setAttribute('width','1'); \n",
       "newElement.setAttribute('height','1'); \n",
       "newElement.setAttribute('x','0'); \n",
       "newElement.setAttribute('y','10'); \n",
       "newElement.style.fill = 'green'; \n",
       "svg.appendChild(newElement);\n",
       "newElement = document.createElementNS(\"http://www.w3.org/2000/svg\", 'rect'); \n",
       "newElement.setAttribute('width','1'); \n",
       "newElement.setAttribute('height','1'); \n",
       "newElement.setAttribute('x','1'); \n",
       "newElement.setAttribute('y','10'); \n",
       "newElement.style.fill = 'green'; \n",
       "svg.appendChild(newElement);\n",
       "newElement = document.createElementNS(\"http://www.w3.org/2000/svg\", 'rect'); \n",
       "newElement.setAttribute('width','1'); \n",
       "newElement.setAttribute('height','1'); \n",
       "newElement.setAttribute('x','2'); \n",
       "newElement.setAttribute('y','10'); \n",
       "newElement.style.fill = 'brown'; \n",
       "svg.appendChild(newElement);\n",
       "newElement = document.createElementNS(\"http://www.w3.org/2000/svg\", 'rect'); \n",
       "newElement.setAttribute('width','1'); \n",
       "newElement.setAttribute('height','1'); \n",
       "newElement.setAttribute('x','3'); \n",
       "newElement.setAttribute('y','10'); \n",
       "newElement.style.fill = 'brown'; \n",
       "svg.appendChild(newElement);\n",
       "newElement = document.createElementNS(\"http://www.w3.org/2000/svg\", 'rect'); \n",
       "newElement.setAttribute('width','1'); \n",
       "newElement.setAttribute('height','1'); \n",
       "newElement.setAttribute('x','4'); \n",
       "newElement.setAttribute('y','10'); \n",
       "newElement.style.fill = 'brown'; \n",
       "svg.appendChild(newElement);\n",
       "newElement = document.createElementNS(\"http://www.w3.org/2000/svg\", 'rect'); \n",
       "newElement.setAttribute('width','1'); \n",
       "newElement.setAttribute('height','1'); \n",
       "newElement.setAttribute('x','5'); \n",
       "newElement.setAttribute('y','10'); \n",
       "newElement.style.fill = 'brown'; \n",
       "svg.appendChild(newElement);\n",
       "newElement = document.createElementNS(\"http://www.w3.org/2000/svg\", 'rect'); \n",
       "newElement.setAttribute('width','1'); \n",
       "newElement.setAttribute('height','1'); \n",
       "newElement.setAttribute('x','6'); \n",
       "newElement.setAttribute('y','10'); \n",
       "newElement.style.fill = 'green'; \n",
       "svg.appendChild(newElement);\n",
       "newElement = document.createElementNS(\"http://www.w3.org/2000/svg\", 'rect'); \n",
       "newElement.setAttribute('width','1'); \n",
       "newElement.setAttribute('height','1'); \n",
       "newElement.setAttribute('x','7'); \n",
       "newElement.setAttribute('y','10'); \n",
       "newElement.style.fill = 'green'; \n",
       "svg.appendChild(newElement);\n",
       "newElement = document.createElementNS(\"http://www.w3.org/2000/svg\", 'rect'); \n",
       "newElement.setAttribute('width','1'); \n",
       "newElement.setAttribute('height','1'); \n",
       "newElement.setAttribute('x','8'); \n",
       "newElement.setAttribute('y','10'); \n",
       "newElement.style.fill = 'green'; \n",
       "svg.appendChild(newElement);\n",
       "newElement = document.createElementNS(\"http://www.w3.org/2000/svg\", 'rect'); \n",
       "newElement.setAttribute('width','1'); \n",
       "newElement.setAttribute('height','1'); \n",
       "newElement.setAttribute('x','9'); \n",
       "newElement.setAttribute('y','10'); \n",
       "newElement.style.fill = 'green'; \n",
       "svg.appendChild(newElement);\n",
       "newElement = document.createElementNS(\"http://www.w3.org/2000/svg\", 'rect'); \n",
       "newElement.setAttribute('width','1'); \n",
       "newElement.setAttribute('height','1'); \n",
       "newElement.setAttribute('x','10'); \n",
       "newElement.setAttribute('y','10'); \n",
       "newElement.style.fill = 'green'; \n",
       "svg.appendChild(newElement);\n",
       "newElement = document.createElementNS(\"http://www.w3.org/2000/svg\", 'rect'); \n",
       "newElement.setAttribute('width','1'); \n",
       "newElement.setAttribute('height','1'); \n",
       "newElement.setAttribute('x','11'); \n",
       "newElement.setAttribute('y','10'); \n",
       "newElement.style.fill = 'green'; \n",
       "svg.appendChild(newElement);\n",
       "newElement = document.createElementNS(\"http://www.w3.org/2000/svg\", 'rect'); \n",
       "newElement.setAttribute('width','1'); \n",
       "newElement.setAttribute('height','1'); \n",
       "newElement.setAttribute('x','12'); \n",
       "newElement.setAttribute('y','10'); \n",
       "newElement.style.fill = 'green'; \n",
       "svg.appendChild(newElement);\n",
       "newElement = document.createElementNS(\"http://www.w3.org/2000/svg\", 'rect'); \n",
       "newElement.setAttribute('width','1'); \n",
       "newElement.setAttribute('height','1'); \n",
       "newElement.setAttribute('x','13'); \n",
       "newElement.setAttribute('y','10'); \n",
       "newElement.style.fill = 'green'; \n",
       "svg.appendChild(newElement);\n",
       "newElement = document.createElementNS(\"http://www.w3.org/2000/svg\", 'rect'); \n",
       "newElement.setAttribute('width','1'); \n",
       "newElement.setAttribute('height','1'); \n",
       "newElement.setAttribute('x','14'); \n",
       "newElement.setAttribute('y','10'); \n",
       "newElement.style.fill = 'green'; \n",
       "svg.appendChild(newElement);\n",
       "newElement = document.createElementNS(\"http://www.w3.org/2000/svg\", 'rect'); \n",
       "newElement.setAttribute('width','1'); \n",
       "newElement.setAttribute('height','1'); \n",
       "newElement.setAttribute('x','15'); \n",
       "newElement.setAttribute('y','10'); \n",
       "newElement.style.fill = 'green'; \n",
       "svg.appendChild(newElement);\n",
       "newElement = document.createElementNS(\"http://www.w3.org/2000/svg\", 'rect'); \n",
       "newElement.setAttribute('width','1'); \n",
       "newElement.setAttribute('height','1'); \n",
       "newElement.setAttribute('x','16'); \n",
       "newElement.setAttribute('y','10'); \n",
       "newElement.style.fill = 'green'; \n",
       "svg.appendChild(newElement);\n",
       "newElement = document.createElementNS(\"http://www.w3.org/2000/svg\", 'rect'); \n",
       "newElement.setAttribute('width','1'); \n",
       "newElement.setAttribute('height','1'); \n",
       "newElement.setAttribute('x','0'); \n",
       "newElement.setAttribute('y','11'); \n",
       "newElement.style.fill = 'green'; \n",
       "svg.appendChild(newElement);\n",
       "newElement = document.createElementNS(\"http://www.w3.org/2000/svg\", 'rect'); \n",
       "newElement.setAttribute('width','1'); \n",
       "newElement.setAttribute('height','1'); \n",
       "newElement.setAttribute('x','1'); \n",
       "newElement.setAttribute('y','11'); \n",
       "newElement.style.fill = 'green'; \n",
       "svg.appendChild(newElement);\n",
       "newElement = document.createElementNS(\"http://www.w3.org/2000/svg\", 'rect'); \n",
       "newElement.setAttribute('width','1'); \n",
       "newElement.setAttribute('height','1'); \n",
       "newElement.setAttribute('x','2'); \n",
       "newElement.setAttribute('y','11'); \n",
       "newElement.style.fill = 'brown'; \n",
       "svg.appendChild(newElement);\n",
       "newElement = document.createElementNS(\"http://www.w3.org/2000/svg\", 'rect'); \n",
       "newElement.setAttribute('width','1'); \n",
       "newElement.setAttribute('height','1'); \n",
       "newElement.setAttribute('x','3'); \n",
       "newElement.setAttribute('y','11'); \n",
       "newElement.style.fill = 'brown'; \n",
       "svg.appendChild(newElement);\n",
       "newElement = document.createElementNS(\"http://www.w3.org/2000/svg\", 'rect'); \n",
       "newElement.setAttribute('width','1'); \n",
       "newElement.setAttribute('height','1'); \n",
       "newElement.setAttribute('x','4'); \n",
       "newElement.setAttribute('y','11'); \n",
       "newElement.style.fill = 'brown'; \n",
       "svg.appendChild(newElement);\n",
       "newElement = document.createElementNS(\"http://www.w3.org/2000/svg\", 'rect'); \n",
       "newElement.setAttribute('width','1'); \n",
       "newElement.setAttribute('height','1'); \n",
       "newElement.setAttribute('x','5'); \n",
       "newElement.setAttribute('y','11'); \n",
       "newElement.style.fill = 'brown'; \n",
       "svg.appendChild(newElement);\n",
       "newElement = document.createElementNS(\"http://www.w3.org/2000/svg\", 'rect'); \n",
       "newElement.setAttribute('width','1'); \n",
       "newElement.setAttribute('height','1'); \n",
       "newElement.setAttribute('x','6'); \n",
       "newElement.setAttribute('y','11'); \n",
       "newElement.style.fill = 'green'; \n",
       "svg.appendChild(newElement);\n",
       "newElement = document.createElementNS(\"http://www.w3.org/2000/svg\", 'rect'); \n",
       "newElement.setAttribute('width','1'); \n",
       "newElement.setAttribute('height','1'); \n",
       "newElement.setAttribute('x','7'); \n",
       "newElement.setAttribute('y','11'); \n",
       "newElement.style.fill = 'green'; \n",
       "svg.appendChild(newElement);\n",
       "newElement = document.createElementNS(\"http://www.w3.org/2000/svg\", 'rect'); \n",
       "newElement.setAttribute('width','1'); \n",
       "newElement.setAttribute('height','1'); \n",
       "newElement.setAttribute('x','8'); \n",
       "newElement.setAttribute('y','11'); \n",
       "newElement.style.fill = 'green'; \n",
       "svg.appendChild(newElement);\n",
       "newElement = document.createElementNS(\"http://www.w3.org/2000/svg\", 'rect'); \n",
       "newElement.setAttribute('width','1'); \n",
       "newElement.setAttribute('height','1'); \n",
       "newElement.setAttribute('x','9'); \n",
       "newElement.setAttribute('y','11'); \n",
       "newElement.style.fill = 'green'; \n",
       "svg.appendChild(newElement);\n",
       "newElement = document.createElementNS(\"http://www.w3.org/2000/svg\", 'rect'); \n",
       "newElement.setAttribute('width','1'); \n",
       "newElement.setAttribute('height','1'); \n",
       "newElement.setAttribute('x','10'); \n",
       "newElement.setAttribute('y','11'); \n",
       "newElement.style.fill = 'green'; \n",
       "svg.appendChild(newElement);\n",
       "newElement = document.createElementNS(\"http://www.w3.org/2000/svg\", 'rect'); \n",
       "newElement.setAttribute('width','1'); \n",
       "newElement.setAttribute('height','1'); \n",
       "newElement.setAttribute('x','11'); \n",
       "newElement.setAttribute('y','11'); \n",
       "newElement.style.fill = 'green'; \n",
       "svg.appendChild(newElement);\n",
       "newElement = document.createElementNS(\"http://www.w3.org/2000/svg\", 'rect'); \n",
       "newElement.setAttribute('width','1'); \n",
       "newElement.setAttribute('height','1'); \n",
       "newElement.setAttribute('x','12'); \n",
       "newElement.setAttribute('y','11'); \n",
       "newElement.style.fill = 'green'; \n",
       "svg.appendChild(newElement);\n",
       "newElement = document.createElementNS(\"http://www.w3.org/2000/svg\", 'rect'); \n",
       "newElement.setAttribute('width','1'); \n",
       "newElement.setAttribute('height','1'); \n",
       "newElement.setAttribute('x','13'); \n",
       "newElement.setAttribute('y','11'); \n",
       "newElement.style.fill = 'green'; \n",
       "svg.appendChild(newElement);\n",
       "newElement = document.createElementNS(\"http://www.w3.org/2000/svg\", 'rect'); \n",
       "newElement.setAttribute('width','1'); \n",
       "newElement.setAttribute('height','1'); \n",
       "newElement.setAttribute('x','14'); \n",
       "newElement.setAttribute('y','11'); \n",
       "newElement.style.fill = 'green'; \n",
       "svg.appendChild(newElement);\n",
       "newElement = document.createElementNS(\"http://www.w3.org/2000/svg\", 'rect'); \n",
       "newElement.setAttribute('width','1'); \n",
       "newElement.setAttribute('height','1'); \n",
       "newElement.setAttribute('x','15'); \n",
       "newElement.setAttribute('y','11'); \n",
       "newElement.style.fill = 'green'; \n",
       "svg.appendChild(newElement);\n",
       "newElement = document.createElementNS(\"http://www.w3.org/2000/svg\", 'rect'); \n",
       "newElement.setAttribute('width','1'); \n",
       "newElement.setAttribute('height','1'); \n",
       "newElement.setAttribute('x','16'); \n",
       "newElement.setAttribute('y','11'); \n",
       "newElement.style.fill = 'green'; \n",
       "svg.appendChild(newElement);\n",
       "newElement = document.createElementNS(\"http://www.w3.org/2000/svg\", 'rect'); \n",
       "newElement.setAttribute('width','1'); \n",
       "newElement.setAttribute('height','1'); \n",
       "newElement.setAttribute('x','0'); \n",
       "newElement.setAttribute('y','12'); \n",
       "newElement.style.fill = 'green'; \n",
       "svg.appendChild(newElement);\n",
       "newElement = document.createElementNS(\"http://www.w3.org/2000/svg\", 'rect'); \n",
       "newElement.setAttribute('width','1'); \n",
       "newElement.setAttribute('height','1'); \n",
       "newElement.setAttribute('x','1'); \n",
       "newElement.setAttribute('y','12'); \n",
       "newElement.style.fill = 'green'; \n",
       "svg.appendChild(newElement);\n",
       "newElement = document.createElementNS(\"http://www.w3.org/2000/svg\", 'rect'); \n",
       "newElement.setAttribute('width','1'); \n",
       "newElement.setAttribute('height','1'); \n",
       "newElement.setAttribute('x','2'); \n",
       "newElement.setAttribute('y','12'); \n",
       "newElement.style.fill = 'brown'; \n",
       "svg.appendChild(newElement);\n",
       "newElement = document.createElementNS(\"http://www.w3.org/2000/svg\", 'rect'); \n",
       "newElement.setAttribute('width','1'); \n",
       "newElement.setAttribute('height','1'); \n",
       "newElement.setAttribute('x','3'); \n",
       "newElement.setAttribute('y','12'); \n",
       "newElement.style.fill = 'brown'; \n",
       "svg.appendChild(newElement);\n",
       "newElement = document.createElementNS(\"http://www.w3.org/2000/svg\", 'rect'); \n",
       "newElement.setAttribute('width','1'); \n",
       "newElement.setAttribute('height','1'); \n",
       "newElement.setAttribute('x','4'); \n",
       "newElement.setAttribute('y','12'); \n",
       "newElement.style.fill = 'brown'; \n",
       "svg.appendChild(newElement);\n",
       "newElement = document.createElementNS(\"http://www.w3.org/2000/svg\", 'rect'); \n",
       "newElement.setAttribute('width','1'); \n",
       "newElement.setAttribute('height','1'); \n",
       "newElement.setAttribute('x','5'); \n",
       "newElement.setAttribute('y','12'); \n",
       "newElement.style.fill = 'brown'; \n",
       "svg.appendChild(newElement);\n",
       "newElement = document.createElementNS(\"http://www.w3.org/2000/svg\", 'rect'); \n",
       "newElement.setAttribute('width','1'); \n",
       "newElement.setAttribute('height','1'); \n",
       "newElement.setAttribute('x','6'); \n",
       "newElement.setAttribute('y','12'); \n",
       "newElement.style.fill = 'green'; \n",
       "svg.appendChild(newElement);\n",
       "newElement = document.createElementNS(\"http://www.w3.org/2000/svg\", 'rect'); \n",
       "newElement.setAttribute('width','1'); \n",
       "newElement.setAttribute('height','1'); \n",
       "newElement.setAttribute('x','7'); \n",
       "newElement.setAttribute('y','12'); \n",
       "newElement.style.fill = 'green'; \n",
       "svg.appendChild(newElement);\n",
       "newElement = document.createElementNS(\"http://www.w3.org/2000/svg\", 'rect'); \n",
       "newElement.setAttribute('width','1'); \n",
       "newElement.setAttribute('height','1'); \n",
       "newElement.setAttribute('x','8'); \n",
       "newElement.setAttribute('y','12'); \n",
       "newElement.style.fill = 'green'; \n",
       "svg.appendChild(newElement);\n",
       "newElement = document.createElementNS(\"http://www.w3.org/2000/svg\", 'rect'); \n",
       "newElement.setAttribute('width','1'); \n",
       "newElement.setAttribute('height','1'); \n",
       "newElement.setAttribute('x','9'); \n",
       "newElement.setAttribute('y','12'); \n",
       "newElement.style.fill = 'green'; \n",
       "svg.appendChild(newElement);\n",
       "newElement = document.createElementNS(\"http://www.w3.org/2000/svg\", 'rect'); \n",
       "newElement.setAttribute('width','1'); \n",
       "newElement.setAttribute('height','1'); \n",
       "newElement.setAttribute('x','10'); \n",
       "newElement.setAttribute('y','12'); \n",
       "newElement.style.fill = 'green'; \n",
       "svg.appendChild(newElement);\n",
       "newElement = document.createElementNS(\"http://www.w3.org/2000/svg\", 'rect'); \n",
       "newElement.setAttribute('width','1'); \n",
       "newElement.setAttribute('height','1'); \n",
       "newElement.setAttribute('x','11'); \n",
       "newElement.setAttribute('y','12'); \n",
       "newElement.style.fill = 'green'; \n",
       "svg.appendChild(newElement);\n",
       "newElement = document.createElementNS(\"http://www.w3.org/2000/svg\", 'rect'); \n",
       "newElement.setAttribute('width','1'); \n",
       "newElement.setAttribute('height','1'); \n",
       "newElement.setAttribute('x','12'); \n",
       "newElement.setAttribute('y','12'); \n",
       "newElement.style.fill = 'green'; \n",
       "svg.appendChild(newElement);\n",
       "newElement = document.createElementNS(\"http://www.w3.org/2000/svg\", 'rect'); \n",
       "newElement.setAttribute('width','1'); \n",
       "newElement.setAttribute('height','1'); \n",
       "newElement.setAttribute('x','13'); \n",
       "newElement.setAttribute('y','12'); \n",
       "newElement.style.fill = 'green'; \n",
       "svg.appendChild(newElement);\n",
       "newElement = document.createElementNS(\"http://www.w3.org/2000/svg\", 'rect'); \n",
       "newElement.setAttribute('width','1'); \n",
       "newElement.setAttribute('height','1'); \n",
       "newElement.setAttribute('x','14'); \n",
       "newElement.setAttribute('y','12'); \n",
       "newElement.style.fill = 'green'; \n",
       "svg.appendChild(newElement);\n",
       "newElement = document.createElementNS(\"http://www.w3.org/2000/svg\", 'rect'); \n",
       "newElement.setAttribute('width','1'); \n",
       "newElement.setAttribute('height','1'); \n",
       "newElement.setAttribute('x','15'); \n",
       "newElement.setAttribute('y','12'); \n",
       "newElement.style.fill = 'green'; \n",
       "svg.appendChild(newElement);\n",
       "newElement = document.createElementNS(\"http://www.w3.org/2000/svg\", 'rect'); \n",
       "newElement.setAttribute('width','1'); \n",
       "newElement.setAttribute('height','1'); \n",
       "newElement.setAttribute('x','16'); \n",
       "newElement.setAttribute('y','12'); \n",
       "newElement.style.fill = 'green'; \n",
       "svg.appendChild(newElement);\n",
       "newElement = document.createElementNS(\"http://www.w3.org/2000/svg\", 'rect'); \n",
       "newElement.setAttribute('width','1'); \n",
       "newElement.setAttribute('height','1'); \n",
       "newElement.setAttribute('x','0'); \n",
       "newElement.setAttribute('y','13'); \n",
       "newElement.style.fill = 'green'; \n",
       "svg.appendChild(newElement);\n",
       "newElement = document.createElementNS(\"http://www.w3.org/2000/svg\", 'rect'); \n",
       "newElement.setAttribute('width','1'); \n",
       "newElement.setAttribute('height','1'); \n",
       "newElement.setAttribute('x','1'); \n",
       "newElement.setAttribute('y','13'); \n",
       "newElement.style.fill = 'green'; \n",
       "svg.appendChild(newElement);\n",
       "newElement = document.createElementNS(\"http://www.w3.org/2000/svg\", 'rect'); \n",
       "newElement.setAttribute('width','1'); \n",
       "newElement.setAttribute('height','1'); \n",
       "newElement.setAttribute('x','2'); \n",
       "newElement.setAttribute('y','13'); \n",
       "newElement.style.fill = 'brown'; \n",
       "svg.appendChild(newElement);\n",
       "newElement = document.createElementNS(\"http://www.w3.org/2000/svg\", 'rect'); \n",
       "newElement.setAttribute('width','1'); \n",
       "newElement.setAttribute('height','1'); \n",
       "newElement.setAttribute('x','3'); \n",
       "newElement.setAttribute('y','13'); \n",
       "newElement.style.fill = 'brown'; \n",
       "svg.appendChild(newElement);\n",
       "newElement = document.createElementNS(\"http://www.w3.org/2000/svg\", 'rect'); \n",
       "newElement.setAttribute('width','1'); \n",
       "newElement.setAttribute('height','1'); \n",
       "newElement.setAttribute('x','4'); \n",
       "newElement.setAttribute('y','13'); \n",
       "newElement.style.fill = 'brown'; \n",
       "svg.appendChild(newElement);\n",
       "newElement = document.createElementNS(\"http://www.w3.org/2000/svg\", 'rect'); \n",
       "newElement.setAttribute('width','1'); \n",
       "newElement.setAttribute('height','1'); \n",
       "newElement.setAttribute('x','5'); \n",
       "newElement.setAttribute('y','13'); \n",
       "newElement.style.fill = 'brown'; \n",
       "svg.appendChild(newElement);\n",
       "newElement = document.createElementNS(\"http://www.w3.org/2000/svg\", 'rect'); \n",
       "newElement.setAttribute('width','1'); \n",
       "newElement.setAttribute('height','1'); \n",
       "newElement.setAttribute('x','6'); \n",
       "newElement.setAttribute('y','13'); \n",
       "newElement.style.fill = 'green'; \n",
       "svg.appendChild(newElement);\n",
       "newElement = document.createElementNS(\"http://www.w3.org/2000/svg\", 'rect'); \n",
       "newElement.setAttribute('width','1'); \n",
       "newElement.setAttribute('height','1'); \n",
       "newElement.setAttribute('x','7'); \n",
       "newElement.setAttribute('y','13'); \n",
       "newElement.style.fill = 'green'; \n",
       "svg.appendChild(newElement);\n",
       "newElement = document.createElementNS(\"http://www.w3.org/2000/svg\", 'rect'); \n",
       "newElement.setAttribute('width','1'); \n",
       "newElement.setAttribute('height','1'); \n",
       "newElement.setAttribute('x','8'); \n",
       "newElement.setAttribute('y','13'); \n",
       "newElement.style.fill = 'green'; \n",
       "svg.appendChild(newElement);\n",
       "newElement = document.createElementNS(\"http://www.w3.org/2000/svg\", 'rect'); \n",
       "newElement.setAttribute('width','1'); \n",
       "newElement.setAttribute('height','1'); \n",
       "newElement.setAttribute('x','9'); \n",
       "newElement.setAttribute('y','13'); \n",
       "newElement.style.fill = 'green'; \n",
       "svg.appendChild(newElement);\n",
       "newElement = document.createElementNS(\"http://www.w3.org/2000/svg\", 'rect'); \n",
       "newElement.setAttribute('width','1'); \n",
       "newElement.setAttribute('height','1'); \n",
       "newElement.setAttribute('x','10'); \n",
       "newElement.setAttribute('y','13'); \n",
       "newElement.style.fill = 'green'; \n",
       "svg.appendChild(newElement);\n",
       "newElement = document.createElementNS(\"http://www.w3.org/2000/svg\", 'rect'); \n",
       "newElement.setAttribute('width','1'); \n",
       "newElement.setAttribute('height','1'); \n",
       "newElement.setAttribute('x','11'); \n",
       "newElement.setAttribute('y','13'); \n",
       "newElement.style.fill = 'green'; \n",
       "svg.appendChild(newElement);\n",
       "newElement = document.createElementNS(\"http://www.w3.org/2000/svg\", 'rect'); \n",
       "newElement.setAttribute('width','1'); \n",
       "newElement.setAttribute('height','1'); \n",
       "newElement.setAttribute('x','12'); \n",
       "newElement.setAttribute('y','13'); \n",
       "newElement.style.fill = 'green'; \n",
       "svg.appendChild(newElement);\n",
       "newElement = document.createElementNS(\"http://www.w3.org/2000/svg\", 'rect'); \n",
       "newElement.setAttribute('width','1'); \n",
       "newElement.setAttribute('height','1'); \n",
       "newElement.setAttribute('x','13'); \n",
       "newElement.setAttribute('y','13'); \n",
       "newElement.style.fill = 'green'; \n",
       "svg.appendChild(newElement);\n",
       "newElement = document.createElementNS(\"http://www.w3.org/2000/svg\", 'rect'); \n",
       "newElement.setAttribute('width','1'); \n",
       "newElement.setAttribute('height','1'); \n",
       "newElement.setAttribute('x','14'); \n",
       "newElement.setAttribute('y','13'); \n",
       "newElement.style.fill = 'green'; \n",
       "svg.appendChild(newElement);\n",
       "newElement = document.createElementNS(\"http://www.w3.org/2000/svg\", 'rect'); \n",
       "newElement.setAttribute('width','1'); \n",
       "newElement.setAttribute('height','1'); \n",
       "newElement.setAttribute('x','15'); \n",
       "newElement.setAttribute('y','13'); \n",
       "newElement.style.fill = 'green'; \n",
       "svg.appendChild(newElement);\n",
       "newElement = document.createElementNS(\"http://www.w3.org/2000/svg\", 'rect'); \n",
       "newElement.setAttribute('width','1'); \n",
       "newElement.setAttribute('height','1'); \n",
       "newElement.setAttribute('x','16'); \n",
       "newElement.setAttribute('y','13'); \n",
       "newElement.style.fill = 'green'; \n",
       "svg.appendChild(newElement);\n",
       "newElement = document.createElementNS(\"http://www.w3.org/2000/svg\", 'rect'); \n",
       "newElement.setAttribute('width','1'); \n",
       "newElement.setAttribute('height','1'); \n",
       "newElement.setAttribute('x','0'); \n",
       "newElement.setAttribute('y','14'); \n",
       "newElement.style.fill = 'green'; \n",
       "svg.appendChild(newElement);\n",
       "newElement = document.createElementNS(\"http://www.w3.org/2000/svg\", 'rect'); \n",
       "newElement.setAttribute('width','1'); \n",
       "newElement.setAttribute('height','1'); \n",
       "newElement.setAttribute('x','1'); \n",
       "newElement.setAttribute('y','14'); \n",
       "newElement.style.fill = 'green'; \n",
       "svg.appendChild(newElement);\n",
       "newElement = document.createElementNS(\"http://www.w3.org/2000/svg\", 'rect'); \n",
       "newElement.setAttribute('width','1'); \n",
       "newElement.setAttribute('height','1'); \n",
       "newElement.setAttribute('x','2'); \n",
       "newElement.setAttribute('y','14'); \n",
       "newElement.style.fill = 'brown'; \n",
       "svg.appendChild(newElement);\n",
       "newElement = document.createElementNS(\"http://www.w3.org/2000/svg\", 'rect'); \n",
       "newElement.setAttribute('width','1'); \n",
       "newElement.setAttribute('height','1'); \n",
       "newElement.setAttribute('x','3'); \n",
       "newElement.setAttribute('y','14'); \n",
       "newElement.style.fill = 'brown'; \n",
       "svg.appendChild(newElement);\n",
       "newElement = document.createElementNS(\"http://www.w3.org/2000/svg\", 'rect'); \n",
       "newElement.setAttribute('width','1'); \n",
       "newElement.setAttribute('height','1'); \n",
       "newElement.setAttribute('x','4'); \n",
       "newElement.setAttribute('y','14'); \n",
       "newElement.style.fill = 'brown'; \n",
       "svg.appendChild(newElement);\n",
       "newElement = document.createElementNS(\"http://www.w3.org/2000/svg\", 'rect'); \n",
       "newElement.setAttribute('width','1'); \n",
       "newElement.setAttribute('height','1'); \n",
       "newElement.setAttribute('x','5'); \n",
       "newElement.setAttribute('y','14'); \n",
       "newElement.style.fill = 'brown'; \n",
       "svg.appendChild(newElement);\n",
       "newElement = document.createElementNS(\"http://www.w3.org/2000/svg\", 'rect'); \n",
       "newElement.setAttribute('width','1'); \n",
       "newElement.setAttribute('height','1'); \n",
       "newElement.setAttribute('x','6'); \n",
       "newElement.setAttribute('y','14'); \n",
       "newElement.style.fill = 'green'; \n",
       "svg.appendChild(newElement);\n",
       "newElement = document.createElementNS(\"http://www.w3.org/2000/svg\", 'rect'); \n",
       "newElement.setAttribute('width','1'); \n",
       "newElement.setAttribute('height','1'); \n",
       "newElement.setAttribute('x','7'); \n",
       "newElement.setAttribute('y','14'); \n",
       "newElement.style.fill = 'green'; \n",
       "svg.appendChild(newElement);\n",
       "newElement = document.createElementNS(\"http://www.w3.org/2000/svg\", 'rect'); \n",
       "newElement.setAttribute('width','1'); \n",
       "newElement.setAttribute('height','1'); \n",
       "newElement.setAttribute('x','8'); \n",
       "newElement.setAttribute('y','14'); \n",
       "newElement.style.fill = 'green'; \n",
       "svg.appendChild(newElement);\n",
       "newElement = document.createElementNS(\"http://www.w3.org/2000/svg\", 'rect'); \n",
       "newElement.setAttribute('width','1'); \n",
       "newElement.setAttribute('height','1'); \n",
       "newElement.setAttribute('x','9'); \n",
       "newElement.setAttribute('y','14'); \n",
       "newElement.style.fill = 'green'; \n",
       "svg.appendChild(newElement);\n",
       "newElement = document.createElementNS(\"http://www.w3.org/2000/svg\", 'rect'); \n",
       "newElement.setAttribute('width','1'); \n",
       "newElement.setAttribute('height','1'); \n",
       "newElement.setAttribute('x','10'); \n",
       "newElement.setAttribute('y','14'); \n",
       "newElement.style.fill = 'green'; \n",
       "svg.appendChild(newElement);\n",
       "newElement = document.createElementNS(\"http://www.w3.org/2000/svg\", 'rect'); \n",
       "newElement.setAttribute('width','1'); \n",
       "newElement.setAttribute('height','1'); \n",
       "newElement.setAttribute('x','11'); \n",
       "newElement.setAttribute('y','14'); \n",
       "newElement.style.fill = 'green'; \n",
       "svg.appendChild(newElement);\n",
       "newElement = document.createElementNS(\"http://www.w3.org/2000/svg\", 'rect'); \n",
       "newElement.setAttribute('width','1'); \n",
       "newElement.setAttribute('height','1'); \n",
       "newElement.setAttribute('x','12'); \n",
       "newElement.setAttribute('y','14'); \n",
       "newElement.style.fill = 'green'; \n",
       "svg.appendChild(newElement);\n",
       "newElement = document.createElementNS(\"http://www.w3.org/2000/svg\", 'rect'); \n",
       "newElement.setAttribute('width','1'); \n",
       "newElement.setAttribute('height','1'); \n",
       "newElement.setAttribute('x','13'); \n",
       "newElement.setAttribute('y','14'); \n",
       "newElement.style.fill = 'green'; \n",
       "svg.appendChild(newElement);\n",
       "newElement = document.createElementNS(\"http://www.w3.org/2000/svg\", 'rect'); \n",
       "newElement.setAttribute('width','1'); \n",
       "newElement.setAttribute('height','1'); \n",
       "newElement.setAttribute('x','14'); \n",
       "newElement.setAttribute('y','14'); \n",
       "newElement.style.fill = 'green'; \n",
       "svg.appendChild(newElement);\n",
       "newElement = document.createElementNS(\"http://www.w3.org/2000/svg\", 'rect'); \n",
       "newElement.setAttribute('width','1'); \n",
       "newElement.setAttribute('height','1'); \n",
       "newElement.setAttribute('x','15'); \n",
       "newElement.setAttribute('y','14'); \n",
       "newElement.style.fill = 'green'; \n",
       "svg.appendChild(newElement);\n",
       "newElement = document.createElementNS(\"http://www.w3.org/2000/svg\", 'rect'); \n",
       "newElement.setAttribute('width','1'); \n",
       "newElement.setAttribute('height','1'); \n",
       "newElement.setAttribute('x','16'); \n",
       "newElement.setAttribute('y','14'); \n",
       "newElement.style.fill = 'green'; \n",
       "svg.appendChild(newElement);\n",
       "newElement = document.createElementNS(\"http://www.w3.org/2000/svg\", 'rect'); \n",
       "newElement.setAttribute('width','1'); \n",
       "newElement.setAttribute('height','1'); \n",
       "newElement.setAttribute('x','0'); \n",
       "newElement.setAttribute('y','15'); \n",
       "newElement.style.fill = 'green'; \n",
       "svg.appendChild(newElement);\n",
       "newElement = document.createElementNS(\"http://www.w3.org/2000/svg\", 'rect'); \n",
       "newElement.setAttribute('width','1'); \n",
       "newElement.setAttribute('height','1'); \n",
       "newElement.setAttribute('x','1'); \n",
       "newElement.setAttribute('y','15'); \n",
       "newElement.style.fill = 'green'; \n",
       "svg.appendChild(newElement);\n",
       "newElement = document.createElementNS(\"http://www.w3.org/2000/svg\", 'rect'); \n",
       "newElement.setAttribute('width','1'); \n",
       "newElement.setAttribute('height','1'); \n",
       "newElement.setAttribute('x','2'); \n",
       "newElement.setAttribute('y','15'); \n",
       "newElement.style.fill = 'brown'; \n",
       "svg.appendChild(newElement);\n",
       "newElement = document.createElementNS(\"http://www.w3.org/2000/svg\", 'rect'); \n",
       "newElement.setAttribute('width','1'); \n",
       "newElement.setAttribute('height','1'); \n",
       "newElement.setAttribute('x','3'); \n",
       "newElement.setAttribute('y','15'); \n",
       "newElement.style.fill = 'brown'; \n",
       "svg.appendChild(newElement);\n",
       "newElement = document.createElementNS(\"http://www.w3.org/2000/svg\", 'rect'); \n",
       "newElement.setAttribute('width','1'); \n",
       "newElement.setAttribute('height','1'); \n",
       "newElement.setAttribute('x','4'); \n",
       "newElement.setAttribute('y','15'); \n",
       "newElement.style.fill = 'brown'; \n",
       "svg.appendChild(newElement);\n",
       "newElement = document.createElementNS(\"http://www.w3.org/2000/svg\", 'rect'); \n",
       "newElement.setAttribute('width','1'); \n",
       "newElement.setAttribute('height','1'); \n",
       "newElement.setAttribute('x','5'); \n",
       "newElement.setAttribute('y','15'); \n",
       "newElement.style.fill = 'brown'; \n",
       "svg.appendChild(newElement);\n",
       "newElement = document.createElementNS(\"http://www.w3.org/2000/svg\", 'rect'); \n",
       "newElement.setAttribute('width','1'); \n",
       "newElement.setAttribute('height','1'); \n",
       "newElement.setAttribute('x','6'); \n",
       "newElement.setAttribute('y','15'); \n",
       "newElement.style.fill = 'green'; \n",
       "svg.appendChild(newElement);\n",
       "newElement = document.createElementNS(\"http://www.w3.org/2000/svg\", 'rect'); \n",
       "newElement.setAttribute('width','1'); \n",
       "newElement.setAttribute('height','1'); \n",
       "newElement.setAttribute('x','7'); \n",
       "newElement.setAttribute('y','15'); \n",
       "newElement.style.fill = 'green'; \n",
       "svg.appendChild(newElement);\n",
       "newElement = document.createElementNS(\"http://www.w3.org/2000/svg\", 'rect'); \n",
       "newElement.setAttribute('width','1'); \n",
       "newElement.setAttribute('height','1'); \n",
       "newElement.setAttribute('x','8'); \n",
       "newElement.setAttribute('y','15'); \n",
       "newElement.style.fill = 'green'; \n",
       "svg.appendChild(newElement);\n",
       "newElement = document.createElementNS(\"http://www.w3.org/2000/svg\", 'rect'); \n",
       "newElement.setAttribute('width','1'); \n",
       "newElement.setAttribute('height','1'); \n",
       "newElement.setAttribute('x','9'); \n",
       "newElement.setAttribute('y','15'); \n",
       "newElement.style.fill = 'green'; \n",
       "svg.appendChild(newElement);\n",
       "newElement = document.createElementNS(\"http://www.w3.org/2000/svg\", 'rect'); \n",
       "newElement.setAttribute('width','1'); \n",
       "newElement.setAttribute('height','1'); \n",
       "newElement.setAttribute('x','10'); \n",
       "newElement.setAttribute('y','15'); \n",
       "newElement.style.fill = 'green'; \n",
       "svg.appendChild(newElement);\n",
       "newElement = document.createElementNS(\"http://www.w3.org/2000/svg\", 'rect'); \n",
       "newElement.setAttribute('width','1'); \n",
       "newElement.setAttribute('height','1'); \n",
       "newElement.setAttribute('x','11'); \n",
       "newElement.setAttribute('y','15'); \n",
       "newElement.style.fill = 'green'; \n",
       "svg.appendChild(newElement);\n",
       "newElement = document.createElementNS(\"http://www.w3.org/2000/svg\", 'rect'); \n",
       "newElement.setAttribute('width','1'); \n",
       "newElement.setAttribute('height','1'); \n",
       "newElement.setAttribute('x','12'); \n",
       "newElement.setAttribute('y','15'); \n",
       "newElement.style.fill = 'green'; \n",
       "svg.appendChild(newElement);\n",
       "newElement = document.createElementNS(\"http://www.w3.org/2000/svg\", 'rect'); \n",
       "newElement.setAttribute('width','1'); \n",
       "newElement.setAttribute('height','1'); \n",
       "newElement.setAttribute('x','13'); \n",
       "newElement.setAttribute('y','15'); \n",
       "newElement.style.fill = 'green'; \n",
       "svg.appendChild(newElement);\n",
       "newElement = document.createElementNS(\"http://www.w3.org/2000/svg\", 'rect'); \n",
       "newElement.setAttribute('width','1'); \n",
       "newElement.setAttribute('height','1'); \n",
       "newElement.setAttribute('x','14'); \n",
       "newElement.setAttribute('y','15'); \n",
       "newElement.style.fill = 'green'; \n",
       "svg.appendChild(newElement);\n",
       "newElement = document.createElementNS(\"http://www.w3.org/2000/svg\", 'rect'); \n",
       "newElement.setAttribute('width','1'); \n",
       "newElement.setAttribute('height','1'); \n",
       "newElement.setAttribute('x','15'); \n",
       "newElement.setAttribute('y','15'); \n",
       "newElement.style.fill = 'green'; \n",
       "svg.appendChild(newElement);\n",
       "newElement = document.createElementNS(\"http://www.w3.org/2000/svg\", 'rect'); \n",
       "newElement.setAttribute('width','1'); \n",
       "newElement.setAttribute('height','1'); \n",
       "newElement.setAttribute('x','16'); \n",
       "newElement.setAttribute('y','15'); \n",
       "newElement.style.fill = 'green'; \n",
       "svg.appendChild(newElement);\n",
       "newElement = document.createElementNS(\"http://www.w3.org/2000/svg\", 'rect'); \n",
       "newElement.setAttribute('width','1'); \n",
       "newElement.setAttribute('height','1'); \n",
       "newElement.setAttribute('x','0'); \n",
       "newElement.setAttribute('y','16'); \n",
       "newElement.style.fill = 'green'; \n",
       "svg.appendChild(newElement);\n",
       "newElement = document.createElementNS(\"http://www.w3.org/2000/svg\", 'rect'); \n",
       "newElement.setAttribute('width','1'); \n",
       "newElement.setAttribute('height','1'); \n",
       "newElement.setAttribute('x','1'); \n",
       "newElement.setAttribute('y','16'); \n",
       "newElement.style.fill = 'green'; \n",
       "svg.appendChild(newElement);\n",
       "newElement = document.createElementNS(\"http://www.w3.org/2000/svg\", 'rect'); \n",
       "newElement.setAttribute('width','1'); \n",
       "newElement.setAttribute('height','1'); \n",
       "newElement.setAttribute('x','2'); \n",
       "newElement.setAttribute('y','16'); \n",
       "newElement.style.fill = 'brown'; \n",
       "svg.appendChild(newElement);\n",
       "newElement = document.createElementNS(\"http://www.w3.org/2000/svg\", 'rect'); \n",
       "newElement.setAttribute('width','1'); \n",
       "newElement.setAttribute('height','1'); \n",
       "newElement.setAttribute('x','3'); \n",
       "newElement.setAttribute('y','16'); \n",
       "newElement.style.fill = 'brown'; \n",
       "svg.appendChild(newElement);\n",
       "newElement = document.createElementNS(\"http://www.w3.org/2000/svg\", 'rect'); \n",
       "newElement.setAttribute('width','1'); \n",
       "newElement.setAttribute('height','1'); \n",
       "newElement.setAttribute('x','4'); \n",
       "newElement.setAttribute('y','16'); \n",
       "newElement.style.fill = 'brown'; \n",
       "svg.appendChild(newElement);\n",
       "newElement = document.createElementNS(\"http://www.w3.org/2000/svg\", 'rect'); \n",
       "newElement.setAttribute('width','1'); \n",
       "newElement.setAttribute('height','1'); \n",
       "newElement.setAttribute('x','5'); \n",
       "newElement.setAttribute('y','16'); \n",
       "newElement.style.fill = 'brown'; \n",
       "svg.appendChild(newElement);\n",
       "newElement = document.createElementNS(\"http://www.w3.org/2000/svg\", 'rect'); \n",
       "newElement.setAttribute('width','1'); \n",
       "newElement.setAttribute('height','1'); \n",
       "newElement.setAttribute('x','6'); \n",
       "newElement.setAttribute('y','16'); \n",
       "newElement.style.fill = 'green'; \n",
       "svg.appendChild(newElement);\n",
       "newElement = document.createElementNS(\"http://www.w3.org/2000/svg\", 'rect'); \n",
       "newElement.setAttribute('width','1'); \n",
       "newElement.setAttribute('height','1'); \n",
       "newElement.setAttribute('x','7'); \n",
       "newElement.setAttribute('y','16'); \n",
       "newElement.style.fill = 'green'; \n",
       "svg.appendChild(newElement);\n",
       "newElement = document.createElementNS(\"http://www.w3.org/2000/svg\", 'rect'); \n",
       "newElement.setAttribute('width','1'); \n",
       "newElement.setAttribute('height','1'); \n",
       "newElement.setAttribute('x','8'); \n",
       "newElement.setAttribute('y','16'); \n",
       "newElement.style.fill = 'green'; \n",
       "svg.appendChild(newElement);\n",
       "newElement = document.createElementNS(\"http://www.w3.org/2000/svg\", 'rect'); \n",
       "newElement.setAttribute('width','1'); \n",
       "newElement.setAttribute('height','1'); \n",
       "newElement.setAttribute('x','9'); \n",
       "newElement.setAttribute('y','16'); \n",
       "newElement.style.fill = 'green'; \n",
       "svg.appendChild(newElement);\n",
       "newElement = document.createElementNS(\"http://www.w3.org/2000/svg\", 'rect'); \n",
       "newElement.setAttribute('width','1'); \n",
       "newElement.setAttribute('height','1'); \n",
       "newElement.setAttribute('x','10'); \n",
       "newElement.setAttribute('y','16'); \n",
       "newElement.style.fill = 'green'; \n",
       "svg.appendChild(newElement);\n",
       "newElement = document.createElementNS(\"http://www.w3.org/2000/svg\", 'rect'); \n",
       "newElement.setAttribute('width','1'); \n",
       "newElement.setAttribute('height','1'); \n",
       "newElement.setAttribute('x','11'); \n",
       "newElement.setAttribute('y','16'); \n",
       "newElement.style.fill = 'green'; \n",
       "svg.appendChild(newElement);\n",
       "newElement = document.createElementNS(\"http://www.w3.org/2000/svg\", 'rect'); \n",
       "newElement.setAttribute('width','1'); \n",
       "newElement.setAttribute('height','1'); \n",
       "newElement.setAttribute('x','12'); \n",
       "newElement.setAttribute('y','16'); \n",
       "newElement.style.fill = 'green'; \n",
       "svg.appendChild(newElement);\n",
       "newElement = document.createElementNS(\"http://www.w3.org/2000/svg\", 'rect'); \n",
       "newElement.setAttribute('width','1'); \n",
       "newElement.setAttribute('height','1'); \n",
       "newElement.setAttribute('x','13'); \n",
       "newElement.setAttribute('y','16'); \n",
       "newElement.style.fill = 'green'; \n",
       "svg.appendChild(newElement);\n",
       "newElement = document.createElementNS(\"http://www.w3.org/2000/svg\", 'rect'); \n",
       "newElement.setAttribute('width','1'); \n",
       "newElement.setAttribute('height','1'); \n",
       "newElement.setAttribute('x','14'); \n",
       "newElement.setAttribute('y','16'); \n",
       "newElement.style.fill = 'green'; \n",
       "svg.appendChild(newElement);\n",
       "newElement = document.createElementNS(\"http://www.w3.org/2000/svg\", 'rect'); \n",
       "newElement.setAttribute('width','1'); \n",
       "newElement.setAttribute('height','1'); \n",
       "newElement.setAttribute('x','15'); \n",
       "newElement.setAttribute('y','16'); \n",
       "newElement.style.fill = 'green'; \n",
       "svg.appendChild(newElement);\n",
       "newElement = document.createElementNS(\"http://www.w3.org/2000/svg\", 'rect'); \n",
       "newElement.setAttribute('width','1'); \n",
       "newElement.setAttribute('height','1'); \n",
       "newElement.setAttribute('x','16'); \n",
       "newElement.setAttribute('y','16'); \n",
       "newElement.style.fill = 'green'; \n",
       "svg.appendChild(newElement);\n",
       "newElement = document.createElementNS(\"http://www.w3.org/2000/svg\", 'rect'); \n",
       "newElement.setAttribute('width','1'); \n",
       "newElement.setAttribute('height','1'); \n",
       "newElement.setAttribute('x','0'); \n",
       "newElement.setAttribute('y','17'); \n",
       "newElement.style.fill = 'green'; \n",
       "svg.appendChild(newElement);\n",
       "newElement = document.createElementNS(\"http://www.w3.org/2000/svg\", 'rect'); \n",
       "newElement.setAttribute('width','1'); \n",
       "newElement.setAttribute('height','1'); \n",
       "newElement.setAttribute('x','1'); \n",
       "newElement.setAttribute('y','17'); \n",
       "newElement.style.fill = 'green'; \n",
       "svg.appendChild(newElement);\n",
       "newElement = document.createElementNS(\"http://www.w3.org/2000/svg\", 'rect'); \n",
       "newElement.setAttribute('width','1'); \n",
       "newElement.setAttribute('height','1'); \n",
       "newElement.setAttribute('x','2'); \n",
       "newElement.setAttribute('y','17'); \n",
       "newElement.style.fill = 'brown'; \n",
       "svg.appendChild(newElement);\n",
       "newElement = document.createElementNS(\"http://www.w3.org/2000/svg\", 'rect'); \n",
       "newElement.setAttribute('width','1'); \n",
       "newElement.setAttribute('height','1'); \n",
       "newElement.setAttribute('x','3'); \n",
       "newElement.setAttribute('y','17'); \n",
       "newElement.style.fill = 'brown'; \n",
       "svg.appendChild(newElement);\n",
       "newElement = document.createElementNS(\"http://www.w3.org/2000/svg\", 'rect'); \n",
       "newElement.setAttribute('width','1'); \n",
       "newElement.setAttribute('height','1'); \n",
       "newElement.setAttribute('x','4'); \n",
       "newElement.setAttribute('y','17'); \n",
       "newElement.style.fill = 'brown'; \n",
       "svg.appendChild(newElement);\n",
       "newElement = document.createElementNS(\"http://www.w3.org/2000/svg\", 'rect'); \n",
       "newElement.setAttribute('width','1'); \n",
       "newElement.setAttribute('height','1'); \n",
       "newElement.setAttribute('x','5'); \n",
       "newElement.setAttribute('y','17'); \n",
       "newElement.style.fill = 'brown'; \n",
       "svg.appendChild(newElement);\n",
       "newElement = document.createElementNS(\"http://www.w3.org/2000/svg\", 'rect'); \n",
       "newElement.setAttribute('width','1'); \n",
       "newElement.setAttribute('height','1'); \n",
       "newElement.setAttribute('x','6'); \n",
       "newElement.setAttribute('y','17'); \n",
       "newElement.style.fill = 'green'; \n",
       "svg.appendChild(newElement);\n",
       "newElement = document.createElementNS(\"http://www.w3.org/2000/svg\", 'rect'); \n",
       "newElement.setAttribute('width','1'); \n",
       "newElement.setAttribute('height','1'); \n",
       "newElement.setAttribute('x','7'); \n",
       "newElement.setAttribute('y','17'); \n",
       "newElement.style.fill = 'green'; \n",
       "svg.appendChild(newElement);\n",
       "newElement = document.createElementNS(\"http://www.w3.org/2000/svg\", 'rect'); \n",
       "newElement.setAttribute('width','1'); \n",
       "newElement.setAttribute('height','1'); \n",
       "newElement.setAttribute('x','8'); \n",
       "newElement.setAttribute('y','17'); \n",
       "newElement.style.fill = 'green'; \n",
       "svg.appendChild(newElement);\n",
       "newElement = document.createElementNS(\"http://www.w3.org/2000/svg\", 'rect'); \n",
       "newElement.setAttribute('width','1'); \n",
       "newElement.setAttribute('height','1'); \n",
       "newElement.setAttribute('x','9'); \n",
       "newElement.setAttribute('y','17'); \n",
       "newElement.style.fill = 'green'; \n",
       "svg.appendChild(newElement);\n",
       "newElement = document.createElementNS(\"http://www.w3.org/2000/svg\", 'rect'); \n",
       "newElement.setAttribute('width','1'); \n",
       "newElement.setAttribute('height','1'); \n",
       "newElement.setAttribute('x','10'); \n",
       "newElement.setAttribute('y','17'); \n",
       "newElement.style.fill = 'green'; \n",
       "svg.appendChild(newElement);\n",
       "newElement = document.createElementNS(\"http://www.w3.org/2000/svg\", 'rect'); \n",
       "newElement.setAttribute('width','1'); \n",
       "newElement.setAttribute('height','1'); \n",
       "newElement.setAttribute('x','11'); \n",
       "newElement.setAttribute('y','17'); \n",
       "newElement.style.fill = 'green'; \n",
       "svg.appendChild(newElement);\n",
       "newElement = document.createElementNS(\"http://www.w3.org/2000/svg\", 'rect'); \n",
       "newElement.setAttribute('width','1'); \n",
       "newElement.setAttribute('height','1'); \n",
       "newElement.setAttribute('x','12'); \n",
       "newElement.setAttribute('y','17'); \n",
       "newElement.style.fill = 'green'; \n",
       "svg.appendChild(newElement);\n",
       "newElement = document.createElementNS(\"http://www.w3.org/2000/svg\", 'rect'); \n",
       "newElement.setAttribute('width','1'); \n",
       "newElement.setAttribute('height','1'); \n",
       "newElement.setAttribute('x','13'); \n",
       "newElement.setAttribute('y','17'); \n",
       "newElement.style.fill = 'green'; \n",
       "svg.appendChild(newElement);\n",
       "newElement = document.createElementNS(\"http://www.w3.org/2000/svg\", 'rect'); \n",
       "newElement.setAttribute('width','1'); \n",
       "newElement.setAttribute('height','1'); \n",
       "newElement.setAttribute('x','14'); \n",
       "newElement.setAttribute('y','17'); \n",
       "newElement.style.fill = 'green'; \n",
       "svg.appendChild(newElement);\n",
       "newElement = document.createElementNS(\"http://www.w3.org/2000/svg\", 'rect'); \n",
       "newElement.setAttribute('width','1'); \n",
       "newElement.setAttribute('height','1'); \n",
       "newElement.setAttribute('x','15'); \n",
       "newElement.setAttribute('y','17'); \n",
       "newElement.style.fill = 'green'; \n",
       "svg.appendChild(newElement);\n",
       "newElement = document.createElementNS(\"http://www.w3.org/2000/svg\", 'rect'); \n",
       "newElement.setAttribute('width','1'); \n",
       "newElement.setAttribute('height','1'); \n",
       "newElement.setAttribute('x','16'); \n",
       "newElement.setAttribute('y','17'); \n",
       "newElement.style.fill = 'green'; \n",
       "svg.appendChild(newElement);\n"
      ]
     },
     "metadata": {},
     "output_type": "display_data"
    }
   ],
   "source": [
    "rtcanvas = create_canvas(size(colour_array)..., 400, 400)\n",
    "add_pixels(rtcanvas, colour_array)"
   ]
  },
  {
   "cell_type": "code",
   "execution_count": 53,
   "metadata": {
    "collapsed": false
   },
   "outputs": [
    {
     "data": {
      "text/html": [
       "<script>require([\"d3\"], function(d3) {d3.select(\".usersvg #canvasSb4\").append(\"path\").attr(\"id\", \"pixel_crosssz9\").attr(\"transform\", \"translate(16 3)\").attr(\"transform\", \"translate(3 16)\").attr(\"d\", \"M0.5 0 L0.5 1 M0 0.5 L1 0.5\").attr(\"stroke-width\", \"0.2\").attr(\"stroke\", \"blue\");});</script>"
      ]
     },
     "metadata": {},
     "output_type": "display_data"
    },
    {
     "data": {
      "text/plain": [
       "\"pixel_crosssz9\""
      ]
     },
     "execution_count": 53,
     "metadata": {},
     "output_type": "execute_result"
    }
   ],
   "source": [
    "racer = add_pixel_cross(rtcanvas, 17, 4, \"blue\")"
   ]
  },
  {
   "cell_type": "code",
   "execution_count": 142,
   "metadata": {
    "collapsed": false
   },
   "outputs": [
    {
     "data": {
      "text/plain": [
       "RL.RLAgent(policy, [18, 3])"
      ]
     },
     "execution_count": 142,
     "metadata": {},
     "output_type": "execute_result"
    }
   ],
   "source": [
    "policy(state) = rand(right_turn.actions(state))\n",
    "init_state = [18, 3]\n",
    "agent = RLAgent(policy, init_state)"
   ]
  },
  {
   "cell_type": "markdown",
   "metadata": {
    "collapsed": true
   },
   "source": [
    "for i in 1:100\n",
    "    interact!(agent, right_turn)\n",
    "    translate_element(racer, agent.state...)\n",
    "    sleep(0.05)\n",
    "end"
   ]
  },
  {
   "cell_type": "code",
   "execution_count": 107,
   "metadata": {
    "collapsed": false
   },
   "outputs": [
    {
     "name": "stdout",
     "output_type": "stream",
     "text": [
      "step: 0, choosing down, moving to state [18, 3], obtaining reward -1\n",
      "step: 1, choosing up, moving to state [17, 3], obtaining reward -1\n",
      "step: 2, choosing up, moving to state [16, 3], obtaining reward -1\n",
      "step: 3, choosing right, moving to state [16, 4], obtaining reward -1\n",
      "step: 4, choosing down, moving to state [17, 4], obtaining reward -1\n",
      "step: 5, choosing down, moving to state [18, 4], obtaining reward -1\n",
      "step: 6, choosing up, moving to state [17, 4], obtaining reward -1\n",
      "step: 7, choosing down, moving to state [18, 4], obtaining reward -1\n",
      "step: 8, choosing down, moving to state [18, 4], obtaining reward -1\n",
      "step: 9, choosing up, moving to state [17, 4], obtaining reward -1\n",
      "step: 10, choosing left, moving to state [17, 3], obtaining reward -1\n",
      "step: 11, choosing right, moving to state [17, 4], obtaining reward -1\n",
      "step: 12, choosing down, moving to state [18, 4], obtaining reward -1\n",
      "step: 13, choosing right, moving to state [18, 5], obtaining reward -1\n",
      "step: 14, choosing left, moving to state [18, 4], obtaining reward -1\n",
      "step: 15, choosing left, moving to state [18, 3], obtaining reward -1\n",
      "step: 16, choosing right, moving to state [18, 4], obtaining reward -1\n",
      "step: 17, choosing left, moving to state [18, 3], obtaining reward -1\n",
      "step: 18, choosing right, moving to state [18, 4], obtaining reward -1\n",
      "step: 19, choosing up, moving to state [17, 4], obtaining reward -1\n",
      "step: 20, choosing right, moving to state [17, 5], obtaining reward -1\n",
      "step: 21, choosing left, moving to state [17, 4], obtaining reward -1\n",
      "step: 22, choosing down, moving to state [18, 4], obtaining reward -1\n",
      "step: 23, choosing left, moving to state [18, 3], obtaining reward -1\n",
      "step: 24, choosing down, moving to state [18, 3], obtaining reward -1\n",
      "step: 25, choosing up, moving to state [17, 3], obtaining reward -1\n",
      "step: 26, choosing down, moving to state [18, 3], obtaining reward -1\n",
      "step: 27, choosing down, moving to state [18, 3], obtaining reward -1\n",
      "step: 28, choosing up, moving to state [17, 3], obtaining reward -1\n",
      "step: 29, choosing up, moving to state [16, 3], obtaining reward -1\n",
      "step: 30, choosing left, moving to state [16, 2], obtaining reward -10\n",
      "step: 31, choosing down, moving to state [17, 2], obtaining reward -10\n",
      "step: 32, choosing down, moving to state [18, 2], obtaining reward -10\n",
      "step: 33, choosing up, moving to state [17, 2], obtaining reward -10\n",
      "step: 34, choosing up, moving to state [16, 2], obtaining reward -10\n",
      "step: 35, choosing right, moving to state [16, 3], obtaining reward -1\n",
      "step: 36, choosing up, moving to state [15, 3], obtaining reward -1\n",
      "step: 37, choosing right, moving to state [15, 4], obtaining reward -1\n",
      "step: 38, choosing down, moving to state [16, 4], obtaining reward -1\n",
      "step: 39, choosing left, moving to state [16, 3], obtaining reward -1\n",
      "step: 40, choosing left, moving to state [16, 2], obtaining reward -10\n",
      "step: 41, choosing left, moving to state [16, 1], obtaining reward -10\n",
      "step: 42, choosing right, moving to state [16, 2], obtaining reward -10\n",
      "step: 43, choosing down, moving to state [17, 2], obtaining reward -10\n",
      "step: 44, choosing down, moving to state [18, 2], obtaining reward -10\n",
      "step: 45, choosing right, moving to state [18, 3], obtaining reward -1\n",
      "step: 46, choosing up, moving to state [17, 3], obtaining reward -1\n",
      "step: 47, choosing right, moving to state [17, 4], obtaining reward -1\n",
      "step: 48, choosing up, moving to state [16, 4], obtaining reward -1\n",
      "step: 49, choosing down, moving to state [17, 4], obtaining reward -1\n",
      "step: 50, choosing right, moving to state [17, 5], obtaining reward -1\n",
      "step: 51, choosing left, moving to state [17, 4], obtaining reward -1\n",
      "step: 52, choosing down, moving to state [18, 4], obtaining reward -1\n",
      "step: 53, choosing up, moving to state [17, 4], obtaining reward -1\n",
      "step: 54, choosing down, moving to state [18, 4], obtaining reward -1\n",
      "step: 55, choosing right, moving to state [18, 5], obtaining reward -1\n",
      "step: 56, choosing up, moving to state [17, 5], obtaining reward -1\n",
      "step: 57, choosing down, moving to state [18, 5], obtaining reward -1\n",
      "step: 58, choosing up, moving to state [17, 5], obtaining reward -1\n",
      "step: 59, choosing up, moving to state [16, 5], obtaining reward -1\n",
      "step: 60, choosing up, moving to state [15, 5], obtaining reward -1\n",
      "step: 61, choosing up, moving to state [14, 5], obtaining reward -1\n",
      "step: 62, choosing right, moving to state [14, 6], obtaining reward -1\n",
      "step: 63, choosing up, moving to state [13, 6], obtaining reward -1\n",
      "step: 64, choosing down, moving to state [14, 6], obtaining reward -1\n",
      "step: 65, choosing right, moving to state [14, 7], obtaining reward -10\n",
      "step: 66, choosing right, moving to state [14, 8], obtaining reward -10\n",
      "step: 67, choosing up, moving to state [13, 8], obtaining reward -10\n",
      "step: 68, choosing left, moving to state [13, 7], obtaining reward -10\n",
      "step: 69, choosing left, moving to state [13, 6], obtaining reward -1\n",
      "step: 70, choosing down, moving to state [14, 6], obtaining reward -1\n",
      "step: 71, choosing left, moving to state [14, 5], obtaining reward -1\n",
      "step: 72, choosing right, moving to state [14, 6], obtaining reward -1\n",
      "step: 73, choosing down, moving to state [15, 6], obtaining reward -1\n",
      "step: 74, choosing left, moving to state [15, 5], obtaining reward -1\n",
      "step: 75, choosing down, moving to state [16, 5], obtaining reward -1\n",
      "step: 76, choosing up, moving to state [15, 5], obtaining reward -1\n",
      "step: 77, choosing down, moving to state [16, 5], obtaining reward -1\n",
      "step: 78, choosing down, moving to state [17, 5], obtaining reward -1\n",
      "step: 79, choosing left, moving to state [17, 4], obtaining reward -1\n",
      "step: 80, choosing left, moving to state [17, 3], obtaining reward -1\n",
      "step: 81, choosing right, moving to state [17, 4], obtaining reward -1\n",
      "step: 82, choosing left, moving to state [17, 3], obtaining reward -1\n",
      "step: 83, choosing left, moving to state [17, 2], obtaining reward -10\n",
      "step: 84, choosing right, moving to state [17, 3], obtaining reward -1\n",
      "step: 85, choosing left, moving to state [17, 2], obtaining reward -10\n",
      "step: 86, choosing left, moving to state [17, 1], obtaining reward -10\n",
      "step: 87, choosing up, moving to state [16, 1], obtaining reward -10\n",
      "step: 88, choosing down, moving to state [17, 1], obtaining reward -10\n",
      "step: 89, choosing down, moving to state [18, 1], obtaining reward -10\n",
      "step: 90, choosing down, moving to state [18, 1], obtaining reward -10\n",
      "step: 91, choosing down, moving to state [18, 1], obtaining reward -10\n",
      "step: 92, choosing right, moving to state [18, 2], obtaining reward -10\n",
      "step: 93, choosing down, moving to state [18, 2], obtaining reward -10\n",
      "step: 94, choosing down, moving to state [18, 2], obtaining reward -10\n",
      "step: 95, choosing down, moving to state [18, 2], obtaining reward -10\n",
      "step: 96, choosing left, moving to state [18, 1], obtaining reward -10\n",
      "step: 97, choosing down, moving to state [18, 1], obtaining reward -10\n",
      "step: 98, choosing left, moving to state [18, 1], obtaining reward -10\n",
      "step: 99, choosing down, moving to state [18, 1], obtaining reward -10\n",
      "step: 100, choosing down, moving to state [18, 1], obtaining reward -10\n",
      "step: 101, choosing right, moving to state [18, 2], obtaining reward -10\n",
      "step: 102, choosing down, moving to state [18, 2], obtaining reward -10\n",
      "step: 103, choosing up, moving to state [17, 2], obtaining reward -10\n",
      "step: 104, choosing left, moving to state [17, 1], obtaining reward -10\n",
      "step: 105, choosing down, moving to state [18, 1], obtaining reward -10\n",
      "step: 106, choosing left, moving to state [18, 1], obtaining reward -10\n",
      "step: 107, choosing down, moving to state [18, 1], obtaining reward -10\n",
      "step: 108, choosing up, moving to state [17, 1], obtaining reward -10\n",
      "step: 109, choosing up, moving to state [16, 1], obtaining reward -10\n",
      "step: 110, choosing up, moving to state [15, 1], obtaining reward -10\n",
      "step: 111, choosing down, moving to state [16, 1], obtaining reward -10\n",
      "step: 112, choosing up, moving to state [15, 1], obtaining reward -10\n",
      "step: 113, choosing left, moving to state [15, 1], obtaining reward -10\n",
      "step: 114, choosing down, moving to state [16, 1], obtaining reward -10\n",
      "step: 115, choosing down, moving to state [17, 1], obtaining reward -10\n",
      "step: 116, choosing right, moving to state [17, 2], obtaining reward -10\n",
      "step: 117, choosing right, moving to state [17, 3], obtaining reward -1\n",
      "step: 118, choosing up, moving to state [16, 3], obtaining reward -1\n",
      "step: 119, choosing right, moving to state [16, 4], obtaining reward -1\n",
      "step: 120, choosing down, moving to state [17, 4], obtaining reward -1\n",
      "step: 121, choosing left, moving to state [17, 3], obtaining reward -1\n",
      "step: 122, choosing down, moving to state [18, 3], obtaining reward -1\n",
      "step: 123, choosing up, moving to state [17, 3], obtaining reward -1\n",
      "step: 124, choosing right, moving to state [17, 4], obtaining reward -1\n",
      "step: 125, choosing right, moving to state [17, 5], obtaining reward -1\n",
      "step: 126, choosing right, moving to state [17, 6], obtaining reward -1\n",
      "step: 127, choosing left, moving to state [17, 5], obtaining reward -1\n",
      "step: 128, choosing up, moving to state [16, 5], obtaining reward -1\n",
      "step: 129, choosing up, moving to state [15, 5], obtaining reward -1\n",
      "step: 130, choosing right, moving to state [15, 6], obtaining reward -1\n",
      "step: 131, choosing right, moving to state [15, 7], obtaining reward -10\n",
      "step: 132, choosing up, moving to state [14, 7], obtaining reward -10\n",
      "step: 133, choosing right, moving to state [14, 8], obtaining reward -10\n",
      "step: 134, choosing left, moving to state [14, 7], obtaining reward -10\n",
      "step: 135, choosing up, moving to state [13, 7], obtaining reward -10\n",
      "step: 136, choosing up, moving to state [12, 7], obtaining reward -10\n",
      "step: 137, choosing up, moving to state [11, 7], obtaining reward -10\n",
      "step: 138, choosing down, moving to state [12, 7], obtaining reward -10\n",
      "step: 139, choosing down, moving to state [13, 7], obtaining reward -10\n",
      "step: 140, choosing left, moving to state [13, 6], obtaining reward -1\n",
      "step: 141, choosing right, moving to state [13, 7], obtaining reward -10\n",
      "step: 142, choosing left, moving to state [13, 6], obtaining reward -1\n",
      "step: 143, choosing right, moving to state [13, 7], obtaining reward -10\n",
      "step: 144, choosing left, moving to state [13, 6], obtaining reward -1\n",
      "step: 145, choosing right, moving to state [13, 7], obtaining reward -10\n",
      "step: 146, choosing left, moving to state [13, 6], obtaining reward -1\n",
      "step: 147, choosing down, moving to state [14, 6], obtaining reward -1\n",
      "step: 148, choosing right, moving to state [14, 7], obtaining reward -10\n",
      "step: 149, choosing right, moving to state [14, 8], obtaining reward -10\n",
      "step: 150, choosing right, moving to state [14, 9], obtaining reward -10\n",
      "step: 151, choosing up, moving to state [13, 9], obtaining reward -10\n",
      "step: 152, choosing right, moving to state [13, 10], obtaining reward -10\n",
      "step: 153, choosing left, moving to state [13, 9], obtaining reward -10\n",
      "step: 154, choosing left, moving to state [13, 8], obtaining reward -10\n",
      "step: 155, choosing right, moving to state [13, 9], obtaining reward -10\n",
      "step: 156, choosing right, moving to state [13, 10], obtaining reward -10\n",
      "step: 157, choosing down, moving to state [14, 10], obtaining reward -10\n",
      "step: 158, choosing left, moving to state [14, 9], obtaining reward -10\n",
      "step: 159, choosing right, moving to state [14, 10], obtaining reward -10\n",
      "step: 160, choosing down, moving to state [15, 10], obtaining reward -10\n",
      "step: 161, choosing left, moving to state [15, 9], obtaining reward -10\n",
      "step: 162, choosing left, moving to state [15, 8], obtaining reward -10\n",
      "step: 163, choosing down, moving to state [16, 8], obtaining reward -10\n",
      "step: 164, choosing down, moving to state [17, 8], obtaining reward -10\n",
      "step: 165, choosing left, moving to state [17, 7], obtaining reward -10\n",
      "step: 166, choosing up, moving to state [16, 7], obtaining reward -10\n",
      "step: 167, choosing left, moving to state [16, 6], obtaining reward -1\n",
      "step: 168, choosing down, moving to state [17, 6], obtaining reward -1\n",
      "step: 169, choosing right, moving to state [17, 7], obtaining reward -10\n",
      "step: 170, choosing up, moving to state [16, 7], obtaining reward -10\n",
      "step: 171, choosing left, moving to state [16, 6], obtaining reward -1\n",
      "step: 172, choosing left, moving to state [16, 5], obtaining reward -1\n",
      "step: 173, choosing right, moving to state [16, 6], obtaining reward -1\n",
      "step: 174, choosing right, moving to state [16, 7], obtaining reward -10\n",
      "step: 175, choosing right, moving to state [16, 8], obtaining reward -10\n",
      "step: 176, choosing down, moving to state [17, 8], obtaining reward -10\n",
      "step: 177, choosing down, moving to state [18, 8], obtaining reward -10\n",
      "step: 178, choosing left, moving to state [18, 7], obtaining reward -10\n",
      "step: 179, choosing up, moving to state [17, 7], obtaining reward -10\n",
      "step: 180, choosing down, moving to state [18, 7], obtaining reward -10\n",
      "step: 181, choosing down, moving to state [18, 7], obtaining reward -10\n",
      "step: 182, choosing left, moving to state [18, 6], obtaining reward -1\n",
      "step: 183, choosing up, moving to state [17, 6], obtaining reward -1\n",
      "step: 184, choosing right, moving to state [17, 7], obtaining reward -10\n",
      "step: 185, choosing down, moving to state [18, 7], obtaining reward -10\n",
      "step: 186, choosing up, moving to state [17, 7], obtaining reward -10\n",
      "step: 187, choosing down, moving to state [18, 7], obtaining reward -10\n",
      "step: 188, choosing up, moving to state [17, 7], obtaining reward -10\n",
      "step: 189, choosing up, moving to state [16, 7], obtaining reward -10\n",
      "step: 190, choosing right, moving to state [16, 8], obtaining reward -10\n",
      "step: 191, choosing left, moving to state [16, 7], obtaining reward -10\n",
      "step: 192, choosing left, moving to state [16, 6], obtaining reward -1\n",
      "step: 193, choosing up, moving to state [15, 6], obtaining reward -1\n",
      "step: 194, choosing right, moving to state [15, 7], obtaining reward -10\n",
      "step: 195, choosing down, moving to state [16, 7], obtaining reward -10\n",
      "step: 196, choosing left, moving to state [16, 6], obtaining reward -1\n",
      "step: 197, choosing up, moving to state [15, 6], obtaining reward -1\n",
      "step: 198, choosing right, moving to state [15, 7], obtaining reward -10\n",
      "step: 199, choosing right, moving to state [15, 8], obtaining reward -10\n",
      "step: 200, choosing left, moving to state [15, 7], obtaining reward -10\n",
      "step: 201, choosing up, moving to state [14, 7], obtaining reward -10\n",
      "step: 202, choosing up, moving to state [13, 7], obtaining reward -10\n",
      "step: 203, choosing up, moving to state [12, 7], obtaining reward -10\n",
      "step: 204, choosing down, moving to state [13, 7], obtaining reward -10\n",
      "step: 205, choosing up, moving to state [12, 7], obtaining reward -10\n",
      "step: 206, choosing right, moving to state [12, 8], obtaining reward -10\n",
      "step: 207, choosing right, moving to state [12, 9], obtaining reward -10\n",
      "step: 208, choosing up, moving to state [11, 9], obtaining reward -10\n",
      "step: 209, choosing up, moving to state [10, 9], obtaining reward -10\n",
      "step: 210, choosing right, moving to state [10, 10], obtaining reward -10\n",
      "step: 211, choosing down, moving to state [11, 10], obtaining reward -10\n",
      "step: 212, choosing left, moving to state [11, 9], obtaining reward -10\n",
      "step: 213, choosing down, moving to state [12, 9], obtaining reward -10\n",
      "step: 214, choosing up, moving to state [11, 9], obtaining reward -10\n",
      "step: 215, choosing right, moving to state [11, 10], obtaining reward -10\n",
      "step: 216, choosing left, moving to state [11, 9], obtaining reward -10\n",
      "step: 217, choosing up, moving to state [10, 9], obtaining reward -10\n",
      "step: 218, choosing down, moving to state [11, 9], obtaining reward -10\n",
      "step: 219, choosing up, moving to state [10, 9], obtaining reward -10\n",
      "step: 220, choosing down, moving to state [11, 9], obtaining reward -10\n",
      "step: 221, choosing right, moving to state [11, 10], obtaining reward -10\n",
      "step: 222, choosing down, moving to state [12, 10], obtaining reward -10\n",
      "step: 223, choosing down, moving to state [13, 10], obtaining reward -10\n",
      "step: 224, choosing left, moving to state [13, 9], obtaining reward -10\n",
      "step: 225, choosing down, moving to state [14, 9], obtaining reward -10\n",
      "step: 226, choosing right, moving to state [14, 10], obtaining reward -10\n",
      "step: 227, choosing down, moving to state [15, 10], obtaining reward -10\n",
      "step: 228, choosing down, moving to state [16, 10], obtaining reward -10\n",
      "step: 229, choosing left, moving to state [16, 9], obtaining reward -10\n",
      "step: 230, choosing up, moving to state [15, 9], obtaining reward -10\n",
      "step: 231, choosing right, moving to state [15, 10], obtaining reward -10\n",
      "step: 232, choosing up, moving to state [14, 10], obtaining reward -10\n",
      "step: 233, choosing down, moving to state [15, 10], obtaining reward -10\n",
      "step: 234, choosing right, moving to state [15, 11], obtaining reward -10\n",
      "step: 235, choosing down, moving to state [16, 11], obtaining reward -10\n",
      "step: 236, choosing down, moving to state [17, 11], obtaining reward -10\n",
      "step: 237, choosing up, moving to state [16, 11], obtaining reward -10\n",
      "step: 238, choosing up, moving to state [15, 11], obtaining reward -10\n",
      "step: 239, choosing right, moving to state [15, 12], obtaining reward -10\n",
      "step: 240, choosing right, moving to state [15, 13], obtaining reward -10\n",
      "step: 241, choosing up, moving to state [14, 13], obtaining reward -10\n",
      "step: 242, choosing left, moving to state [14, 12], obtaining reward -10\n",
      "step: 243, choosing up, moving to state [13, 12], obtaining reward -10\n",
      "step: 244, choosing left, moving to state [13, 11], obtaining reward -10\n",
      "step: 245, choosing down, moving to state [14, 11], obtaining reward -10\n",
      "step: 246, choosing down, moving to state [15, 11], obtaining reward -10\n",
      "step: 247, choosing down, moving to state [16, 11], obtaining reward -10\n",
      "step: 248, choosing up, moving to state [15, 11], obtaining reward -10\n",
      "step: 249, choosing down, moving to state [16, 11], obtaining reward -10\n",
      "step: 250, choosing right, moving to state [16, 12], obtaining reward -10\n",
      "step: 251, choosing left, moving to state [16, 11], obtaining reward -10\n",
      "step: 252, choosing right, moving to state [16, 12], obtaining reward -10\n",
      "step: 253, choosing down, moving to state [17, 12], obtaining reward -10\n",
      "step: 254, choosing up, moving to state [16, 12], obtaining reward -10\n",
      "step: 255, choosing up, moving to state [15, 12], obtaining reward -10\n",
      "step: 256, choosing down, moving to state [16, 12], obtaining reward -10\n",
      "step: 257, choosing left, moving to state [16, 11], obtaining reward -10\n",
      "step: 258, choosing right, moving to state [16, 12], obtaining reward -10\n",
      "step: 259, choosing left, moving to state [16, 11], obtaining reward -10\n",
      "step: 260, choosing left, moving to state [16, 10], obtaining reward -10\n",
      "step: 261, choosing right, moving to state [16, 11], obtaining reward -10\n",
      "step: 262, choosing right, moving to state [16, 12], obtaining reward -10\n",
      "step: 263, choosing down, moving to state [17, 12], obtaining reward -10\n",
      "step: 264, choosing up, moving to state [16, 12], obtaining reward -10\n",
      "step: 265, choosing right, moving to state [16, 13], obtaining reward -10\n",
      "step: 266, choosing left, moving to state [16, 12], obtaining reward -10\n",
      "step: 267, choosing up, moving to state [15, 12], obtaining reward -10\n",
      "step: 268, choosing right, moving to state [15, 13], obtaining reward -10\n",
      "step: 269, choosing up, moving to state [14, 13], obtaining reward -10\n",
      "step: 270, choosing left, moving to state [14, 12], obtaining reward -10\n",
      "step: 271, choosing right, moving to state [14, 13], obtaining reward -10\n",
      "step: 272, choosing down, moving to state [15, 13], obtaining reward -10\n",
      "step: 273, choosing up, moving to state [14, 13], obtaining reward -10\n",
      "step: 274, choosing left, moving to state [14, 12], obtaining reward -10\n",
      "step: 275, choosing down, moving to state [15, 12], obtaining reward -10\n",
      "step: 276, choosing left, moving to state [15, 11], obtaining reward -10\n",
      "step: 277, choosing left, moving to state [15, 10], obtaining reward -10\n",
      "step: 278, choosing right, moving to state [15, 11], obtaining reward -10\n",
      "step: 279, choosing right, moving to state [15, 12], obtaining reward -10\n",
      "step: 280, choosing up, moving to state [14, 12], obtaining reward -10\n",
      "step: 281, choosing up, moving to state [13, 12], obtaining reward -10\n",
      "step: 282, choosing right, moving to state [13, 13], obtaining reward -10\n",
      "step: 283, choosing right, moving to state [13, 14], obtaining reward -10\n",
      "step: 284, choosing up, moving to state [12, 14], obtaining reward -10\n",
      "step: 285, choosing up, moving to state [11, 14], obtaining reward -10\n",
      "step: 286, choosing right, moving to state [11, 15], obtaining reward -10\n",
      "step: 287, choosing down, moving to state [12, 15], obtaining reward -10\n",
      "step: 288, choosing right, moving to state [12, 16], obtaining reward -10\n",
      "step: 289, choosing right, moving to state [12, 17], obtaining reward -10\n",
      "step: 290, choosing down, moving to state [13, 17], obtaining reward -10\n",
      "step: 291, choosing right, moving to state [13, 17], obtaining reward -10\n",
      "step: 292, choosing down, moving to state [14, 17], obtaining reward -10\n",
      "step: 293, choosing up, moving to state [13, 17], obtaining reward -10\n",
      "step: 294, choosing down, moving to state [14, 17], obtaining reward -10\n",
      "step: 295, choosing down, moving to state [15, 17], obtaining reward -10\n",
      "step: 296, choosing left, moving to state [15, 16], obtaining reward -10\n",
      "step: 297, choosing up, moving to state [14, 16], obtaining reward -10\n",
      "step: 298, choosing down, moving to state [15, 16], obtaining reward -10\n",
      "step: 299, choosing up, moving to state [14, 16], obtaining reward -10\n",
      "step: 300, choosing right, moving to state [14, 17], obtaining reward -10\n",
      "step: 301, choosing up, moving to state [13, 17], obtaining reward -10\n",
      "step: 302, choosing right, moving to state [13, 17], obtaining reward -10\n",
      "step: 303, choosing down, moving to state [14, 17], obtaining reward -10\n",
      "step: 304, choosing right, moving to state [14, 17], obtaining reward -10\n",
      "step: 305, choosing down, moving to state [15, 17], obtaining reward -10\n",
      "step: 306, choosing left, moving to state [15, 16], obtaining reward -10\n",
      "step: 307, choosing left, moving to state [15, 15], obtaining reward -10\n",
      "step: 308, choosing right, moving to state [15, 16], obtaining reward -10\n",
      "step: 309, choosing up, moving to state [14, 16], obtaining reward -10\n",
      "step: 310, choosing up, moving to state [13, 16], obtaining reward -10\n",
      "step: 311, choosing left, moving to state [13, 15], obtaining reward -10\n",
      "step: 312, choosing up, moving to state [12, 15], obtaining reward -10\n",
      "step: 313, choosing down, moving to state [13, 15], obtaining reward -10\n",
      "step: 314, choosing left, moving to state [13, 14], obtaining reward -10\n",
      "step: 315, choosing up, moving to state [12, 14], obtaining reward -10\n",
      "step: 316, choosing down, moving to state [13, 14], obtaining reward -10\n",
      "step: 317, choosing right, moving to state [13, 15], obtaining reward -10\n",
      "step: 318, choosing up, moving to state [12, 15], obtaining reward -10\n",
      "step: 319, choosing up, moving to state [11, 15], obtaining reward -10\n",
      "step: 320, choosing up, moving to state [10, 15], obtaining reward -10\n",
      "step: 321, choosing up, moving to state [9, 15], obtaining reward -10\n",
      "step: 322, choosing down, moving to state [10, 15], obtaining reward -10\n",
      "step: 323, choosing down, moving to state [11, 15], obtaining reward -10\n",
      "step: 324, choosing up, moving to state [10, 15], obtaining reward -10\n",
      "step: 325, choosing left, moving to state [10, 14], obtaining reward -10\n",
      "step: 326, choosing down, moving to state [11, 14], obtaining reward -10\n",
      "step: 327, choosing right, moving to state [11, 15], obtaining reward -10\n",
      "step: 328, choosing left, moving to state [11, 14], obtaining reward -10\n",
      "step: 329, choosing up, moving to state [10, 14], obtaining reward -10\n",
      "step: 330, choosing down, moving to state [11, 14], obtaining reward -10\n",
      "step: 331, choosing up, moving to state [10, 14], obtaining reward -10\n",
      "step: 332, choosing up, moving to state [9, 14], obtaining reward -10\n",
      "step: 333, choosing right, moving to state [9, 15], obtaining reward -10\n",
      "step: 334, choosing left, moving to state [9, 14], obtaining reward -10\n",
      "step: 335, choosing up, moving to state [8, 14], obtaining reward -10\n",
      "step: 336, choosing right, moving to state [8, 15], obtaining reward -10\n",
      "step: 337, choosing right, moving to state [8, 16], obtaining reward -10\n",
      "step: 338, choosing up, moving to state [7, 16], obtaining reward -10\n",
      "step: 339, choosing right, moving to state [7, 17], obtaining reward -10\n",
      "step: 340, choosing down, moving to state [8, 17], obtaining reward -10\n",
      "step: 341, choosing up, moving to state [7, 17], obtaining reward -10\n",
      "step: 342, choosing up, moving to state [6, 17], obtaining reward -10\n",
      "step: 343, choosing left, moving to state [6, 16], obtaining reward -10\n",
      "step: 344, choosing down, moving to state [7, 16], obtaining reward -10\n",
      "step: 345, choosing down, moving to state [8, 16], obtaining reward -10\n",
      "step: 346, choosing left, moving to state [8, 15], obtaining reward -10\n",
      "step: 347, choosing up, moving to state [7, 15], obtaining reward -10\n",
      "step: 348, choosing down, moving to state [8, 15], obtaining reward -10\n",
      "step: 349, choosing left, moving to state [8, 14], obtaining reward -10\n",
      "step: 350, choosing right, moving to state [8, 15], obtaining reward -10\n",
      "step: 351, choosing left, moving to state [8, 14], obtaining reward -10\n",
      "step: 352, choosing down, moving to state [9, 14], obtaining reward -10\n",
      "step: 353, choosing up, moving to state [8, 14], obtaining reward -10\n",
      "step: 354, choosing right, moving to state [8, 15], obtaining reward -10\n",
      "step: 355, choosing right, moving to state [8, 16], obtaining reward -10\n",
      "step: 356, choosing left, moving to state [8, 15], obtaining reward -10\n",
      "step: 357, choosing left, moving to state [8, 14], obtaining reward -10\n",
      "step: 358, choosing up, moving to state [7, 14], obtaining reward -10\n",
      "step: 359, choosing right, moving to state [7, 15], obtaining reward -10\n",
      "step: 360, choosing up, moving to state [6, 15], obtaining reward -10\n",
      "step: 361, choosing left, moving to state [6, 14], obtaining reward -10\n",
      "step: 362, choosing up, moving to state [5, 14], obtaining reward -10\n",
      "step: 363, choosing right, moving to state [5, 15], obtaining reward -10\n",
      "step: 364, choosing down, moving to state [6, 15], obtaining reward -10\n",
      "step: 365, choosing up, moving to state [5, 15], obtaining reward -10\n",
      "step: 366, choosing down, moving to state [6, 15], obtaining reward -10\n",
      "step: 367, choosing right, moving to state [6, 16], obtaining reward -10\n",
      "step: 368, choosing up, moving to state [5, 16], obtaining reward -10\n",
      "step: 369, choosing down, moving to state [6, 16], obtaining reward -10\n",
      "step: 370, choosing up, moving to state [5, 16], obtaining reward -10\n",
      "step: 371, choosing down, moving to state [6, 16], obtaining reward -10\n",
      "step: 372, choosing right, moving to state [6, 17], obtaining reward -10\n",
      "step: 373, choosing left, moving to state [6, 16], obtaining reward -10\n",
      "step: 374, choosing right, moving to state [6, 17], obtaining reward -10\n",
      "step: 375, choosing left, moving to state [6, 16], obtaining reward -10\n",
      "step: 376, choosing left, moving to state [6, 15], obtaining reward -10\n",
      "step: 377, choosing left, moving to state [6, 14], obtaining reward -10\n",
      "step: 378, choosing up, moving to state [5, 14], obtaining reward -10\n",
      "step: 379, choosing up, moving to state [4, 14], obtaining reward -10\n",
      "step: 380, choosing down, moving to state [5, 14], obtaining reward -10\n",
      "step: 381, choosing down, moving to state [6, 14], obtaining reward -10\n",
      "step: 382, choosing up, moving to state [5, 14], obtaining reward -10\n",
      "step: 383, choosing left, moving to state [5, 13], obtaining reward -10\n",
      "step: 384, choosing left, moving to state [5, 12], obtaining reward -1\n",
      "step: 385, choosing down, moving to state [6, 12], obtaining reward -10\n",
      "step: 386, choosing down, moving to state [7, 12], obtaining reward -10\n",
      "step: 387, choosing left, moving to state [7, 11], obtaining reward -10\n",
      "step: 388, choosing right, moving to state [7, 12], obtaining reward -10\n",
      "step: 389, choosing left, moving to state [7, 11], obtaining reward -10\n",
      "step: 390, choosing left, moving to state [7, 10], obtaining reward -10\n",
      "step: 391, choosing left, moving to state [7, 9], obtaining reward -1\n",
      "step: 392, choosing left, moving to state [7, 8], obtaining reward -1\n",
      "step: 393, choosing left, moving to state [7, 7], obtaining reward -1\n",
      "step: 394, choosing right, moving to state [7, 8], obtaining reward -1\n",
      "step: 395, choosing up, moving to state [6, 8], obtaining reward -1\n",
      "step: 396, choosing down, moving to state [7, 8], obtaining reward -1\n",
      "step: 397, choosing up, moving to state [6, 8], obtaining reward -1\n",
      "step: 398, choosing up, moving to state [5, 8], obtaining reward -1\n",
      "step: 399, choosing up, moving to state [4, 8], obtaining reward -1\n",
      "step: 400, choosing right, moving to state [4, 9], obtaining reward -1\n",
      "step: 401, choosing up, moving to state [3, 9], obtaining reward -10\n",
      "step: 402, choosing left, moving to state [3, 8], obtaining reward -10\n",
      "step: 403, choosing down, moving to state [4, 8], obtaining reward -1\n",
      "step: 404, choosing up, moving to state [3, 8], obtaining reward -10\n",
      "step: 405, choosing up, moving to state [2, 8], obtaining reward -10\n",
      "step: 406, choosing down, moving to state [3, 8], obtaining reward -10\n",
      "step: 407, choosing right, moving to state [3, 9], obtaining reward -10\n",
      "step: 408, choosing left, moving to state [3, 8], obtaining reward -10\n",
      "step: 409, choosing down, moving to state [4, 8], obtaining reward -1\n",
      "step: 410, choosing up, moving to state [3, 8], obtaining reward -10\n",
      "step: 411, choosing up, moving to state [2, 8], obtaining reward -10\n",
      "step: 412, choosing down, moving to state [3, 8], obtaining reward -10\n",
      "step: 413, choosing right, moving to state [3, 9], obtaining reward -10\n",
      "step: 414, choosing left, moving to state [3, 8], obtaining reward -10\n",
      "step: 415, choosing down, moving to state [4, 8], obtaining reward -1\n",
      "step: 416, choosing right, moving to state [4, 9], obtaining reward -1\n",
      "step: 417, choosing down, moving to state [5, 9], obtaining reward -1\n",
      "step: 418, choosing right, moving to state [5, 10], obtaining reward -1\n",
      "step: 419, choosing down, moving to state [6, 10], obtaining reward -1\n",
      "step: 420, choosing left, moving to state [6, 9], obtaining reward -1\n",
      "step: 421, choosing left, moving to state [6, 8], obtaining reward -1\n",
      "step: 422, choosing up, moving to state [5, 8], obtaining reward -1\n",
      "step: 423, choosing left, moving to state [5, 7], obtaining reward -1\n",
      "step: 424, choosing left, moving to state [5, 6], obtaining reward -10\n",
      "step: 425, choosing down, moving to state [6, 6], obtaining reward -1\n",
      "step: 426, choosing right, moving to state [6, 7], obtaining reward -1\n",
      "step: 427, choosing down, moving to state [7, 7], obtaining reward -1\n",
      "step: 428, choosing left, moving to state [7, 6], obtaining reward -1\n",
      "step: 429, choosing right, moving to state [7, 7], obtaining reward -1\n",
      "step: 430, choosing up, moving to state [6, 7], obtaining reward -1\n",
      "step: 431, choosing up, moving to state [5, 7], obtaining reward -1\n",
      "step: 432, choosing right, moving to state [5, 8], obtaining reward -1\n",
      "step: 433, choosing left, moving to state [5, 7], obtaining reward -1\n",
      "step: 434, choosing up, moving to state [4, 7], obtaining reward -10\n",
      "step: 435, choosing up, moving to state [3, 7], obtaining reward -10\n",
      "step: 436, choosing down, moving to state [4, 7], obtaining reward -10\n",
      "step: 437, choosing down, moving to state [5, 7], obtaining reward -1\n",
      "step: 438, choosing down, moving to state [6, 7], obtaining reward -1\n",
      "step: 439, choosing right, moving to state [6, 8], obtaining reward -1\n",
      "step: 440, choosing right, moving to state [6, 9], obtaining reward -1\n",
      "step: 441, choosing left, moving to state [6, 8], obtaining reward -1\n",
      "step: 442, choosing right, moving to state [6, 9], obtaining reward -1\n",
      "step: 443, choosing up, moving to state [5, 9], obtaining reward -1\n",
      "step: 444, choosing left, moving to state [5, 8], obtaining reward -1\n",
      "step: 445, choosing up, moving to state [4, 8], obtaining reward -1\n",
      "step: 446, choosing left, moving to state [4, 7], obtaining reward -10\n",
      "step: 447, choosing right, moving to state [4, 8], obtaining reward -1\n",
      "step: 448, choosing left, moving to state [4, 7], obtaining reward -10\n",
      "step: 449, choosing left, moving to state [4, 6], obtaining reward -10\n",
      "step: 450, choosing down, moving to state [5, 6], obtaining reward -10\n",
      "step: 451, choosing down, moving to state [6, 6], obtaining reward -1\n",
      "step: 452, choosing left, moving to state [6, 5], obtaining reward -10\n",
      "step: 453, choosing up, moving to state [5, 5], obtaining reward -10\n",
      "step: 454, choosing left, moving to state [5, 4], obtaining reward -10\n",
      "step: 455, choosing right, moving to state [5, 5], obtaining reward -10\n",
      "step: 456, choosing left, moving to state [5, 4], obtaining reward -10\n",
      "step: 457, choosing up, moving to state [4, 4], obtaining reward -10\n",
      "step: 458, choosing left, moving to state [4, 3], obtaining reward -10\n",
      "step: 459, choosing down, moving to state [5, 3], obtaining reward -10\n",
      "step: 460, choosing right, moving to state [5, 4], obtaining reward -10\n",
      "step: 461, choosing right, moving to state [5, 5], obtaining reward -10\n",
      "step: 462, choosing left, moving to state [5, 4], obtaining reward -10\n",
      "step: 463, choosing up, moving to state [4, 4], obtaining reward -10\n",
      "step: 464, choosing left, moving to state [4, 3], obtaining reward -10\n",
      "step: 465, choosing up, moving to state [3, 3], obtaining reward -10\n",
      "step: 466, choosing left, moving to state [3, 2], obtaining reward -10\n",
      "step: 467, choosing left, moving to state [3, 1], obtaining reward -10\n",
      "step: 468, choosing right, moving to state [3, 2], obtaining reward -10\n",
      "step: 469, choosing right, moving to state [3, 3], obtaining reward -10\n",
      "step: 470, choosing right, moving to state [3, 4], obtaining reward -10\n",
      "step: 471, choosing down, moving to state [4, 4], obtaining reward -10\n",
      "step: 472, choosing left, moving to state [4, 3], obtaining reward -10\n",
      "step: 473, choosing right, moving to state [4, 4], obtaining reward -10\n",
      "step: 474, choosing right, moving to state [4, 5], obtaining reward -10\n",
      "step: 475, choosing up, moving to state [3, 5], obtaining reward -10\n",
      "step: 476, choosing up, moving to state [2, 5], obtaining reward -10\n",
      "step: 477, choosing up, moving to state [1, 5], obtaining reward -10\n",
      "step: 478, choosing up, moving to state [1, 5], obtaining reward -10\n",
      "step: 479, choosing left, moving to state [1, 4], obtaining reward -10\n",
      "step: 480, choosing left, moving to state [1, 3], obtaining reward -10\n",
      "step: 481, choosing down, moving to state [2, 3], obtaining reward -10\n",
      "step: 482, choosing down, moving to state [3, 3], obtaining reward -10\n",
      "step: 483, choosing up, moving to state [2, 3], obtaining reward -10\n",
      "step: 484, choosing down, moving to state [3, 3], obtaining reward -10\n",
      "step: 485, choosing left, moving to state [3, 2], obtaining reward -10\n",
      "step: 486, choosing up, moving to state [2, 2], obtaining reward -10\n",
      "step: 487, choosing right, moving to state [2, 3], obtaining reward -10\n",
      "step: 488, choosing down, moving to state [3, 3], obtaining reward -10\n",
      "step: 489, choosing left, moving to state [3, 2], obtaining reward -10\n",
      "step: 490, choosing right, moving to state [3, 3], obtaining reward -10\n",
      "step: 491, choosing right, moving to state [3, 4], obtaining reward -10\n",
      "step: 492, choosing up, moving to state [2, 4], obtaining reward -10\n",
      "step: 493, choosing right, moving to state [2, 5], obtaining reward -10\n",
      "step: 494, choosing right, moving to state [2, 6], obtaining reward -10\n",
      "step: 495, choosing right, moving to state [2, 7], obtaining reward -10\n",
      "step: 496, choosing down, moving to state [3, 7], obtaining reward -10\n",
      "step: 497, choosing right, moving to state [3, 8], obtaining reward -10\n",
      "step: 498, choosing left, moving to state [3, 7], obtaining reward -10\n",
      "step: 499, choosing left, moving to state [3, 6], obtaining reward -10\n",
      "step: 500, choosing left, moving to state [3, 5], obtaining reward -10\n",
      "step: 501, choosing down, moving to state [4, 5], obtaining reward -10\n",
      "step: 502, choosing up, moving to state [3, 5], obtaining reward -10\n",
      "step: 503, choosing right, moving to state [3, 6], obtaining reward -10\n",
      "step: 504, choosing down, moving to state [4, 6], obtaining reward -10\n",
      "step: 505, choosing left, moving to state [4, 5], obtaining reward -10\n",
      "step: 506, choosing right, moving to state [4, 6], obtaining reward -10\n",
      "step: 507, choosing right, moving to state [4, 7], obtaining reward -10\n",
      "step: 508, choosing left, moving to state [4, 6], obtaining reward -10\n",
      "step: 509, choosing down, moving to state [5, 6], obtaining reward -10\n",
      "step: 510, choosing left, moving to state [5, 5], obtaining reward -10\n",
      "step: 511, choosing right, moving to state [5, 6], obtaining reward -10\n",
      "step: 512, choosing up, moving to state [4, 6], obtaining reward -10\n",
      "step: 513, choosing up, moving to state [3, 6], obtaining reward -10\n",
      "step: 514, choosing down, moving to state [4, 6], obtaining reward -10\n",
      "step: 515, choosing up, moving to state [3, 6], obtaining reward -10\n",
      "step: 516, choosing right, moving to state [3, 7], obtaining reward -10\n",
      "step: 517, choosing down, moving to state [4, 7], obtaining reward -10\n",
      "step: 518, choosing down, moving to state [5, 7], obtaining reward -1\n",
      "step: 519, choosing down, moving to state [6, 7], obtaining reward -1\n",
      "step: 520, choosing left, moving to state [6, 6], obtaining reward -1\n",
      "step: 521, choosing left, moving to state [6, 5], obtaining reward -10\n",
      "step: 522, choosing down, moving to state [7, 5], obtaining reward -1\n",
      "step: 523, choosing left, moving to state [7, 4], obtaining reward -10\n",
      "step: 524, choosing up, moving to state [6, 4], obtaining reward -10\n",
      "step: 525, choosing down, moving to state [7, 4], obtaining reward -10\n",
      "step: 526, choosing up, moving to state [6, 4], obtaining reward -10\n",
      "step: 527, choosing down, moving to state [7, 4], obtaining reward -10\n",
      "step: 528, choosing down, moving to state [8, 4], obtaining reward -1\n",
      "step: 529, choosing right, moving to state [8, 5], obtaining reward -1\n",
      "step: 530, choosing up, moving to state [7, 5], obtaining reward -1\n",
      "step: 531, choosing right, moving to state [7, 6], obtaining reward -1\n",
      "step: 532, choosing left, moving to state [7, 5], obtaining reward -1\n",
      "step: 533, choosing up, moving to state [6, 5], obtaining reward -10\n",
      "step: 534, choosing up, moving to state [5, 5], obtaining reward -10\n",
      "step: 535, choosing up, moving to state [4, 5], obtaining reward -10\n",
      "step: 536, choosing left, moving to state [4, 4], obtaining reward -10\n",
      "step: 537, choosing up, moving to state [3, 4], obtaining reward -10\n",
      "step: 538, choosing right, moving to state [3, 5], obtaining reward -10\n",
      "step: 539, choosing up, moving to state [2, 5], obtaining reward -10\n",
      "step: 540, choosing down, moving to state [3, 5], obtaining reward -10\n",
      "step: 541, choosing up, moving to state [2, 5], obtaining reward -10\n",
      "step: 542, choosing up, moving to state [1, 5], obtaining reward -10\n",
      "step: 543, choosing left, moving to state [1, 4], obtaining reward -10\n",
      "step: 544, choosing left, moving to state [1, 3], obtaining reward -10\n",
      "step: 545, choosing up, moving to state [1, 3], obtaining reward -10\n",
      "step: 546, choosing down, moving to state [2, 3], obtaining reward -10\n",
      "step: 547, choosing right, moving to state [2, 4], obtaining reward -10\n",
      "step: 548, choosing up, moving to state [1, 4], obtaining reward -10\n",
      "step: 549, choosing right, moving to state [1, 5], obtaining reward -10\n",
      "step: 550, choosing down, moving to state [2, 5], obtaining reward -10\n",
      "step: 551, choosing up, moving to state [1, 5], obtaining reward -10\n",
      "step: 552, choosing up, moving to state [1, 5], obtaining reward -10\n",
      "step: 553, choosing down, moving to state [2, 5], obtaining reward -10\n",
      "step: 554, choosing left, moving to state [2, 4], obtaining reward -10\n",
      "step: 555, choosing down, moving to state [3, 4], obtaining reward -10\n",
      "step: 556, choosing up, moving to state [2, 4], obtaining reward -10\n",
      "step: 557, choosing down, moving to state [3, 4], obtaining reward -10\n",
      "step: 558, choosing right, moving to state [3, 5], obtaining reward -10\n",
      "step: 559, choosing right, moving to state [3, 6], obtaining reward -10\n",
      "step: 560, choosing right, moving to state [3, 7], obtaining reward -10\n",
      "step: 561, choosing down, moving to state [4, 7], obtaining reward -10\n",
      "step: 562, choosing up, moving to state [3, 7], obtaining reward -10\n",
      "step: 563, choosing left, moving to state [3, 6], obtaining reward -10\n",
      "step: 564, choosing left, moving to state [3, 5], obtaining reward -10\n",
      "step: 565, choosing down, moving to state [4, 5], obtaining reward -10\n",
      "step: 566, choosing left, moving to state [4, 4], obtaining reward -10\n",
      "step: 567, choosing down, moving to state [5, 4], obtaining reward -10\n",
      "step: 568, choosing left, moving to state [5, 3], obtaining reward -10\n",
      "step: 569, choosing up, moving to state [4, 3], obtaining reward -10\n",
      "step: 570, choosing down, moving to state [5, 3], obtaining reward -10\n",
      "step: 571, choosing up, moving to state [4, 3], obtaining reward -10\n",
      "step: 572, choosing down, moving to state [5, 3], obtaining reward -10\n",
      "step: 573, choosing left, moving to state [5, 2], obtaining reward -10\n",
      "step: 574, choosing left, moving to state [5, 1], obtaining reward -10\n",
      "step: 575, choosing up, moving to state [4, 1], obtaining reward -10\n",
      "step: 576, choosing left, moving to state [4, 1], obtaining reward -10\n",
      "step: 577, choosing right, moving to state [4, 2], obtaining reward -10\n",
      "step: 578, choosing left, moving to state [4, 1], obtaining reward -10\n",
      "step: 579, choosing down, moving to state [5, 1], obtaining reward -10\n",
      "step: 580, choosing right, moving to state [5, 2], obtaining reward -10\n",
      "step: 581, choosing down, moving to state [6, 2], obtaining reward -10\n",
      "step: 582, choosing right, moving to state [6, 3], obtaining reward -10\n",
      "step: 583, choosing down, moving to state [7, 3], obtaining reward -10\n",
      "step: 584, choosing down, moving to state [8, 3], obtaining reward -10\n",
      "step: 585, choosing right, moving to state [8, 4], obtaining reward -1\n",
      "step: 586, choosing right, moving to state [8, 5], obtaining reward -1\n",
      "step: 587, choosing right, moving to state [8, 6], obtaining reward -1\n",
      "step: 588, choosing up, moving to state [7, 6], obtaining reward -1\n",
      "step: 589, choosing up, moving to state [6, 6], obtaining reward -1\n",
      "step: 590, choosing up, moving to state [5, 6], obtaining reward -10\n",
      "step: 591, choosing left, moving to state [5, 5], obtaining reward -10\n",
      "step: 592, choosing right, moving to state [5, 6], obtaining reward -10\n",
      "step: 593, choosing down, moving to state [6, 6], obtaining reward -1\n",
      "step: 594, choosing right, moving to state [6, 7], obtaining reward -1\n",
      "step: 595, choosing right, moving to state [6, 8], obtaining reward -1\n",
      "step: 596, choosing up, moving to state [5, 8], obtaining reward -1\n",
      "step: 597, choosing right, moving to state [5, 9], obtaining reward -1\n",
      "step: 598, choosing right, moving to state [5, 10], obtaining reward -1\n",
      "step: 599, choosing up, moving to state [4, 10], obtaining reward -1\n",
      "step: 600, choosing down, moving to state [5, 10], obtaining reward -1\n",
      "step: 601, choosing up, moving to state [4, 10], obtaining reward -1\n",
      "step: 602, choosing up, moving to state [3, 10], obtaining reward -1\n",
      "step: 603, choosing down, moving to state [4, 10], obtaining reward -1\n",
      "step: 604, choosing down, moving to state [5, 10], obtaining reward -1\n",
      "step: 605, choosing down, moving to state [6, 10], obtaining reward -1\n",
      "step: 606, choosing down, moving to state [7, 10], obtaining reward -10\n",
      "step: 607, choosing up, moving to state [6, 10], obtaining reward -1\n",
      "step: 608, choosing left, moving to state [6, 9], obtaining reward -1\n",
      "step: 609, choosing left, moving to state [6, 8], obtaining reward -1\n",
      "step: 610, choosing right, moving to state [6, 9], obtaining reward -1\n",
      "step: 611, choosing up, moving to state [5, 9], obtaining reward -1\n",
      "step: 612, choosing up, moving to state [4, 9], obtaining reward -1\n",
      "step: 613, choosing up, moving to state [3, 9], obtaining reward -10\n",
      "step: 614, choosing right, moving to state [3, 10], obtaining reward -1\n",
      "step: 615, choosing right, moving to state [3, 11], obtaining reward -1\n",
      "step: 616, choosing up, moving to state [2, 11], obtaining reward -1\n",
      "step: 617, choosing left, moving to state [2, 10], obtaining reward -10\n",
      "step: 618, choosing up, moving to state [1, 10], obtaining reward -10\n",
      "step: 619, choosing down, moving to state [2, 10], obtaining reward -10\n",
      "step: 620, choosing right, moving to state [2, 11], obtaining reward -1\n",
      "step: 621, choosing right, moving to state [2, 12], obtaining reward -1\n",
      "step: 622, choosing left, moving to state [2, 11], obtaining reward -1\n",
      "step: 623, choosing left, moving to state [2, 10], obtaining reward -10\n",
      "step: 624, choosing down, moving to state [3, 10], obtaining reward -1\n",
      "step: 625, choosing left, moving to state [3, 9], obtaining reward -10\n",
      "step: 626, choosing up, moving to state [2, 9], obtaining reward -10\n",
      "step: 627, choosing left, moving to state [2, 8], obtaining reward -10\n",
      "step: 628, choosing right, moving to state [2, 9], obtaining reward -10\n",
      "step: 629, choosing down, moving to state [3, 9], obtaining reward -10\n",
      "step: 630, choosing left, moving to state [3, 8], obtaining reward -10\n",
      "step: 631, choosing right, moving to state [3, 9], obtaining reward -10\n",
      "step: 632, choosing up, moving to state [2, 9], obtaining reward -10\n",
      "step: 633, choosing left, moving to state [2, 8], obtaining reward -10\n",
      "step: 634, choosing right, moving to state [2, 9], obtaining reward -10\n",
      "step: 635, choosing left, moving to state [2, 8], obtaining reward -10\n",
      "step: 636, choosing right, moving to state [2, 9], obtaining reward -10\n",
      "step: 637, choosing down, moving to state [3, 9], obtaining reward -10\n",
      "step: 638, choosing right, moving to state [3, 10], obtaining reward -1\n",
      "step: 639, choosing down, moving to state [4, 10], obtaining reward -1\n",
      "step: 640, choosing up, moving to state [3, 10], obtaining reward -1\n",
      "step: 641, choosing left, moving to state [3, 9], obtaining reward -10\n",
      "step: 642, choosing down, moving to state [4, 9], obtaining reward -1\n",
      "step: 643, choosing left, moving to state [4, 8], obtaining reward -1\n",
      "step: 644, choosing up, moving to state [3, 8], obtaining reward -10\n",
      "step: 645, choosing right, moving to state [3, 9], obtaining reward -10\n",
      "step: 646, choosing left, moving to state [3, 8], obtaining reward -10\n",
      "step: 647, choosing left, moving to state [3, 7], obtaining reward -10\n",
      "step: 648, choosing down, moving to state [4, 7], obtaining reward -10\n",
      "step: 649, choosing up, moving to state [3, 7], obtaining reward -10\n",
      "step: 650, choosing right, moving to state [3, 8], obtaining reward -10\n",
      "step: 651, choosing right, moving to state [3, 9], obtaining reward -10\n",
      "step: 652, choosing left, moving to state [3, 8], obtaining reward -10\n",
      "step: 653, choosing right, moving to state [3, 9], obtaining reward -10\n",
      "step: 654, choosing down, moving to state [4, 9], obtaining reward -1\n",
      "step: 655, choosing right, moving to state [4, 10], obtaining reward -1\n",
      "step: 656, choosing down, moving to state [5, 10], obtaining reward -1\n",
      "step: 657, choosing up, moving to state [4, 10], obtaining reward -1\n",
      "step: 658, choosing down, moving to state [5, 10], obtaining reward -1\n",
      "step: 659, choosing right, moving to state [5, 11], obtaining reward -1\n",
      "step: 660, choosing right, moving to state [5, 12], obtaining reward -1\n",
      "step: 661, choosing left, moving to state [5, 11], obtaining reward -1\n",
      "step: 662, choosing up, moving to state [4, 11], obtaining reward -1\n",
      "step: 663, choosing up, moving to state [3, 11], obtaining reward -1\n",
      "step: 664, choosing up, moving to state [2, 11], obtaining reward -1\n",
      "step: 665, choosing left, moving to state [2, 10], obtaining reward -10\n",
      "step: 666, choosing right, moving to state [2, 11], obtaining reward -1\n",
      "step: 667, choosing right, moving to state [2, 12], obtaining reward -1\n",
      "step: 668, choosing down, moving to state [3, 12], obtaining reward -1\n",
      "step: 669, choosing right, moving to state [3, 13], obtaining reward -1\n",
      "step: 670, choosing right, moving to state [3, 14], obtaining reward -1\n",
      "step: 671, choosing up, moving to state [2, 14], obtaining reward -1\n",
      "step: 672, choosing right, moving to state [2, 15], obtaining reward -1\n",
      "step: 673, choosing right, moving to state [2, 16], obtaining reward -10\n",
      "step: 674, choosing right, moving to state [2, 17], obtaining reward -10\n",
      "step: 675, choosing left, moving to state [2, 16], obtaining reward -10\n",
      "step: 676, choosing up, moving to state [1, 16], obtaining reward -10\n",
      "step: 677, choosing up, moving to state [1, 16], obtaining reward -10\n",
      "step: 678, choosing left, moving to state [1, 15], obtaining reward 0\n"
     ]
    },
    {
     "data": {
      "text/plain": [
       "(Array{Int64,1}[[18, 3], [18, 3], [17, 3], [16, 3], [16, 4], [17, 4], [18, 4], [17, 4], [18, 4], [18, 4]  …  [3, 13], [3, 14], [2, 14], [2, 15], [2, 16], [2, 17], [2, 16], [1, 16], [1, 16], [1, 15]], Any[-1, -1, -1, -1, -1, -1, -1, -1, -1, -1  …  -1, -1, -1, -1, -10, -10, -10, -10, -10, 0], Any[\"down\", \"up\", \"up\", \"right\", \"down\", \"down\", \"up\", \"down\", \"down\", \"up\"  …  \"right\", \"right\", \"up\", \"right\", \"right\", \"right\", \"left\", \"up\", \"up\", \"left\"])"
      ]
     },
     "execution_count": 107,
     "metadata": {},
     "output_type": "execute_result"
    }
   ],
   "source": [
    "agent.state = [18, 3]\n",
    "s, r, a = episode!(agent, right_turn, verbose = true)"
   ]
  },
  {
   "cell_type": "markdown",
   "metadata": {},
   "source": [
    "### Q-matrix"
   ]
  },
  {
   "cell_type": "code",
   "execution_count": 131,
   "metadata": {
    "collapsed": false
   },
   "outputs": [],
   "source": [
    "Q = zeros(size(right_turn.states, 1), 4)\n",
    "greedy = Dict()\n",
    "n = 1\n",
    "for (i, x) in enumerate(right_turn.states)\n",
    "    action_set = right_turn.actions(x)\n",
    "    for (j, action) in enumerate(action_set)\n",
    "        totalr = 0\n",
    "        for k in 1:n\n",
    "            s, r, a = episode(agent, right_turn, x, action)\n",
    "            totalr += (sum(r) - totalr) / k\n",
    "        end\n",
    "        Q[i, j] = totalr\n",
    "    end\n",
    "    val, k = findmax(Q[i,:])\n",
    "    greedy[x] = action_set[k]\n",
    "end"
   ]
  },
  {
   "cell_type": "code",
   "execution_count": 146,
   "metadata": {
    "collapsed": false
   },
   "outputs": [
    {
     "data": {
      "text/html": [
       "<script>require([\"d3\"], function(d3) {d3.select(\".usersvg #canvasLcz\").append(\"path\").attr(\"id\", \"pixel_arrowYym\").attr(\"transform\", \"translate(4 9)\").attr(\"transform\", \"translate(9.5 4.5) rotate(-180)\").attr(\"d\", \"M0 0 L0 0.5 M -0.15 0.3 L0 0.5 L0.15 0.3\").attr(\"stroke-width\", \"0.1\").attr(\"stroke\", \"black\");});</script>"
      ]
     },
     "metadata": {},
     "output_type": "display_data"
    },
    {
     "data": {
      "text/html": [
       "<script>require([\"d3\"], function(d3) {d3.select(\".usersvg #canvasLcz\").append(\"path\").attr(\"id\", \"pixel_arrowrYF\").attr(\"transform\", \"translate(5 8)\").attr(\"transform\", \"translate(8.5 5.5) rotate(-90)\").attr(\"d\", \"M0 0 L0 0.5 M -0.15 0.3 L0 0.5 L0.15 0.3\").attr(\"stroke-width\", \"0.1\").attr(\"stroke\", \"black\");});</script>"
      ]
     },
     "metadata": {},
     "output_type": "display_data"
    },
    {
     "data": {
      "text/html": [
       "<script>require([\"d3\"], function(d3) {d3.select(\".usersvg #canvasLcz\").append(\"path\").attr(\"id\", \"pixel_arrowgTF\").attr(\"transform\", \"translate(16 12)\").attr(\"transform\", \"translate(12.5 16.5) rotate(-180)\").attr(\"d\", \"M0 0 L0 0.5 M -0.15 0.3 L0 0.5 L0.15 0.3\").attr(\"stroke-width\", \"0.1\").attr(\"stroke\", \"black\");});</script>"
      ]
     },
     "metadata": {},
     "output_type": "display_data"
    },
    {
     "data": {
      "text/html": [
       "<script>require([\"d3\"], function(d3) {d3.select(\".usersvg #canvasLcz\").append(\"path\").attr(\"id\", \"pixel_arrow9MJ\").attr(\"transform\", \"translate(2 1)\").attr(\"transform\", \"translate(1.5 2.5) rotate(-90)\").attr(\"d\", \"M0 0 L0 0.5 M -0.15 0.3 L0 0.5 L0.15 0.3\").attr(\"stroke-width\", \"0.1\").attr(\"stroke\", \"black\");});</script>"
      ]
     },
     "metadata": {},
     "output_type": "display_data"
    },
    {
     "data": {
      "text/html": [
       "<script>require([\"d3\"], function(d3) {d3.select(\".usersvg #canvasLcz\").append(\"path\").attr(\"id\", \"pixel_arrowq5J\").attr(\"transform\", \"translate(8 7)\").attr(\"transform\", \"translate(7.5 8.5) rotate(-180)\").attr(\"d\", \"M0 0 L0 0.5 M -0.15 0.3 L0 0.5 L0.15 0.3\").attr(\"stroke-width\", \"0.1\").attr(\"stroke\", \"black\");});</script>"
      ]
     },
     "metadata": {},
     "output_type": "display_data"
    },
    {
     "data": {
      "text/html": [
       "<script>require([\"d3\"], function(d3) {d3.select(\".usersvg #canvasLcz\").append(\"path\").attr(\"id\", \"pixel_arrowX7K\").attr(\"transform\", \"translate(0 6)\").attr(\"transform\", \"translate(6.5 0.5) rotate(-90)\").attr(\"d\", \"M0 0 L0 0.5 M -0.15 0.3 L0 0.5 L0.15 0.3\").attr(\"stroke-width\", \"0.1\").attr(\"stroke\", \"black\");});</script>"
      ]
     },
     "metadata": {},
     "output_type": "display_data"
    },
    {
     "data": {
      "text/html": [
       "<script>require([\"d3\"], function(d3) {d3.select(\".usersvg #canvasLcz\").append(\"path\").attr(\"id\", \"pixel_arrowtfD\").attr(\"transform\", \"translate(10 11)\").attr(\"transform\", \"translate(11.5 10.5) rotate(-90)\").attr(\"d\", \"M0 0 L0 0.5 M -0.15 0.3 L0 0.5 L0.15 0.3\").attr(\"stroke-width\", \"0.1\").attr(\"stroke\", \"black\");});</script>"
      ]
     },
     "metadata": {},
     "output_type": "display_data"
    },
    {
     "data": {
      "text/html": [
       "<script>require([\"d3\"], function(d3) {d3.select(\".usersvg #canvasLcz\").append(\"path\").attr(\"id\", \"pixel_arrowXsb\").attr(\"transform\", \"translate(4 16)\").attr(\"transform\", \"translate(16.5 4.5) rotate(-180)\").attr(\"d\", \"M0 0 L0 0.5 M -0.15 0.3 L0 0.5 L0.15 0.3\").attr(\"stroke-width\", \"0.1\").attr(\"stroke\", \"black\");});</script>"
      ]
     },
     "metadata": {},
     "output_type": "display_data"
    },
    {
     "data": {
      "text/html": [
       "<script>require([\"d3\"], function(d3) {d3.select(\".usersvg #canvasLcz\").append(\"path\").attr(\"id\", \"pixel_arrowjTJ\").attr(\"transform\", \"translate(7 2)\").attr(\"transform\", \"translate(2.5 7.5) rotate(-90)\").attr(\"d\", \"M0 0 L0 0.5 M -0.15 0.3 L0 0.5 L0.15 0.3\").attr(\"stroke-width\", \"0.1\").attr(\"stroke\", \"black\");});</script>"
      ]
     },
     "metadata": {},
     "output_type": "display_data"
    },
    {
     "data": {
      "text/html": [
       "<script>require([\"d3\"], function(d3) {d3.select(\".usersvg #canvasLcz\").append(\"path\").attr(\"id\", \"pixel_arrowXD1\").attr(\"transform\", \"translate(0 14)\").attr(\"transform\", \"translate(14.5 0.5) rotate(-180)\").attr(\"d\", \"M0 0 L0 0.5 M -0.15 0.3 L0 0.5 L0.15 0.3\").attr(\"stroke-width\", \"0.1\").attr(\"stroke\", \"black\");});</script>"
      ]
     },
     "metadata": {},
     "output_type": "display_data"
    },
    {
     "data": {
      "text/html": [
       "<script>require([\"d3\"], function(d3) {d3.select(\".usersvg #canvasLcz\").append(\"path\").attr(\"id\", \"pixel_arrowAbx\").attr(\"transform\", \"translate(11 4)\").attr(\"transform\", \"translate(4.5 11.5) rotate(-180)\").attr(\"d\", \"M0 0 L0 0.5 M -0.15 0.3 L0 0.5 L0.15 0.3\").attr(\"stroke-width\", \"0.1\").attr(\"stroke\", \"black\");});</script>"
      ]
     },
     "metadata": {},
     "output_type": "display_data"
    },
    {
     "data": {
      "text/html": [
       "<script>require([\"d3\"], function(d3) {d3.select(\".usersvg #canvasLcz\").append(\"path\").attr(\"id\", \"pixel_arrowniQ\").attr(\"transform\", \"translate(13 3)\").attr(\"transform\", \"translate(3.5 13.5) rotate(-180)\").attr(\"d\", \"M0 0 L0 0.5 M -0.15 0.3 L0 0.5 L0.15 0.3\").attr(\"stroke-width\", \"0.1\").attr(\"stroke\", \"black\");});</script>"
      ]
     },
     "metadata": {},
     "output_type": "display_data"
    },
    {
     "data": {
      "text/html": [
       "<script>require([\"d3\"], function(d3) {d3.select(\".usersvg #canvasLcz\").append(\"path\").attr(\"id\", \"pixel_arrowqeY\").attr(\"transform\", \"translate(0 16)\").attr(\"transform\", \"translate(16.5 0.5) rotate(-270)\").attr(\"d\", \"M0 0 L0 0.5 M -0.15 0.3 L0 0.5 L0.15 0.3\").attr(\"stroke-width\", \"0.1\").attr(\"stroke\", \"black\");});</script>"
      ]
     },
     "metadata": {},
     "output_type": "display_data"
    },
    {
     "data": {
      "text/html": [
       "<script>require([\"d3\"], function(d3) {d3.select(\".usersvg #canvasLcz\").append(\"path\").attr(\"id\", \"pixel_arrowv5O\").attr(\"transform\", \"translate(2 3)\").attr(\"transform\", \"translate(3.5 2.5) rotate(-180)\").attr(\"d\", \"M0 0 L0 0.5 M -0.15 0.3 L0 0.5 L0.15 0.3\").attr(\"stroke-width\", \"0.1\").attr(\"stroke\", \"black\");});</script>"
      ]
     },
     "metadata": {},
     "output_type": "display_data"
    },
    {
     "data": {
      "text/html": [
       "<script>require([\"d3\"], function(d3) {d3.select(\".usersvg #canvasLcz\").append(\"path\").attr(\"id\", \"pixel_arrowLfz\").attr(\"transform\", \"translate(15 13)\").attr(\"transform\", \"translate(13.5 15.5) rotate(-180)\").attr(\"d\", \"M0 0 L0 0.5 M -0.15 0.3 L0 0.5 L0.15 0.3\").attr(\"stroke-width\", \"0.1\").attr(\"stroke\", \"black\");});</script>"
      ]
     },
     "metadata": {},
     "output_type": "display_data"
    },
    {
     "data": {
      "text/html": [
       "<script>require([\"d3\"], function(d3) {d3.select(\".usersvg #canvasLcz\").append(\"path\").attr(\"id\", \"pixel_arrowBJ5\").attr(\"transform\", \"translate(8 16)\").attr(\"transform\", \"translate(16.5 8.5) rotate(-180)\").attr(\"d\", \"M0 0 L0 0.5 M -0.15 0.3 L0 0.5 L0.15 0.3\").attr(\"stroke-width\", \"0.1\").attr(\"stroke\", \"black\");});</script>"
      ]
     },
     "metadata": {},
     "output_type": "display_data"
    },
    {
     "data": {
      "text/html": [
       "<script>require([\"d3\"], function(d3) {d3.select(\".usersvg #canvasLcz\").append(\"path\").attr(\"id\", \"pixel_arrow9M7\").attr(\"transform\", \"translate(3 13)\").attr(\"transform\", \"translate(13.5 3.5) rotate(-90)\").attr(\"d\", \"M0 0 L0 0.5 M -0.15 0.3 L0 0.5 L0.15 0.3\").attr(\"stroke-width\", \"0.1\").attr(\"stroke\", \"black\");});</script>"
      ]
     },
     "metadata": {},
     "output_type": "display_data"
    },
    {
     "data": {
      "text/html": [
       "<script>require([\"d3\"], function(d3) {d3.select(\".usersvg #canvasLcz\").append(\"path\").attr(\"id\", \"pixel_arrowuE1\").attr(\"transform\", \"translate(16 3)\").attr(\"transform\", \"translate(3.5 16.5) rotate(-270)\").attr(\"d\", \"M0 0 L0 0.5 M -0.15 0.3 L0 0.5 L0.15 0.3\").attr(\"stroke-width\", \"0.1\").attr(\"stroke\", \"black\");});</script>"
      ]
     },
     "metadata": {},
     "output_type": "display_data"
    },
    {
     "data": {
      "text/html": [
       "<script>require([\"d3\"], function(d3) {d3.select(\".usersvg #canvasLcz\").append(\"path\").attr(\"id\", \"pixel_arrowWXE\").attr(\"transform\", \"translate(0 2)\").attr(\"transform\", \"translate(2.5 0.5) rotate(-90)\").attr(\"d\", \"M0 0 L0 0.5 M -0.15 0.3 L0 0.5 L0.15 0.3\").attr(\"stroke-width\", \"0.1\").attr(\"stroke\", \"black\");});</script>"
      ]
     },
     "metadata": {},
     "output_type": "display_data"
    },
    {
     "data": {
      "text/html": [
       "<script>require([\"d3\"], function(d3) {d3.select(\".usersvg #canvasLcz\").append(\"path\").attr(\"id\", \"pixel_arrowllO\").attr(\"transform\", \"translate(11 16)\").attr(\"transform\", \"translate(16.5 11.5) rotate(-180)\").attr(\"d\", \"M0 0 L0 0.5 M -0.15 0.3 L0 0.5 L0.15 0.3\").attr(\"stroke-width\", \"0.1\").attr(\"stroke\", \"black\");});</script>"
      ]
     },
     "metadata": {},
     "output_type": "display_data"
    },
    {
     "data": {
      "text/html": [
       "<script>require([\"d3\"], function(d3) {d3.select(\".usersvg #canvasLcz\").append(\"path\").attr(\"id\", \"pixel_arrowVPd\").attr(\"transform\", \"translate(12 10)\").attr(\"transform\", \"translate(10.5 12.5) rotate(-90)\").attr(\"d\", \"M0 0 L0 0.5 M -0.15 0.3 L0 0.5 L0.15 0.3\").attr(\"stroke-width\", \"0.1\").attr(\"stroke\", \"black\");});</script>"
      ]
     },
     "metadata": {},
     "output_type": "display_data"
    },
    {
     "data": {
      "text/html": [
       "<script>require([\"d3\"], function(d3) {d3.select(\".usersvg #canvasLcz\").append(\"path\").attr(\"id\", \"pixel_arrowy4I\").attr(\"transform\", \"translate(1 0)\").attr(\"transform\", \"translate(0.5 1.5) rotate(-180)\").attr(\"d\", \"M0 0 L0 0.5 M -0.15 0.3 L0 0.5 L0.15 0.3\").attr(\"stroke-width\", \"0.1\").attr(\"stroke\", \"black\");});</script>"
      ]
     },
     "metadata": {},
     "output_type": "display_data"
    },
    {
     "data": {
      "text/html": [
       "<script>require([\"d3\"], function(d3) {d3.select(\".usersvg #canvasLcz\").append(\"path\").attr(\"id\", \"pixel_arrowkh3\").attr(\"transform\", \"translate(0 3)\").attr(\"transform\", \"translate(3.5 0.5) rotate(-360)\").attr(\"d\", \"M0 0 L0 0.5 M -0.15 0.3 L0 0.5 L0.15 0.3\").attr(\"stroke-width\", \"0.1\").attr(\"stroke\", \"black\");});</script>"
      ]
     },
     "metadata": {},
     "output_type": "display_data"
    },
    {
     "data": {
      "text/html": [
       "<script>require([\"d3\"], function(d3) {d3.select(\".usersvg #canvasLcz\").append(\"path\").attr(\"id\", \"pixel_arrow7K1\").attr(\"transform\", \"translate(6 16)\").attr(\"transform\", \"translate(16.5 6.5) rotate(-90)\").attr(\"d\", \"M0 0 L0 0.5 M -0.15 0.3 L0 0.5 L0.15 0.3\").attr(\"stroke-width\", \"0.1\").attr(\"stroke\", \"black\");});</script>"
      ]
     },
     "metadata": {},
     "output_type": "display_data"
    },
    {
     "data": {
      "text/html": [
       "<script>require([\"d3\"], function(d3) {d3.select(\".usersvg #canvasLcz\").append(\"path\").attr(\"id\", \"pixel_arrowG1k\").attr(\"transform\", \"translate(3 1)\").attr(\"transform\", \"translate(1.5 3.5) rotate(-180)\").attr(\"d\", \"M0 0 L0 0.5 M -0.15 0.3 L0 0.5 L0.15 0.3\").attr(\"stroke-width\", \"0.1\").attr(\"stroke\", \"black\");});</script>"
      ]
     },
     "metadata": {},
     "output_type": "display_data"
    },
    {
     "data": {
      "text/html": [
       "<script>require([\"d3\"], function(d3) {d3.select(\".usersvg #canvasLcz\").append(\"path\").attr(\"id\", \"pixel_arrow31f\").attr(\"transform\", \"translate(3 11)\").attr(\"transform\", \"translate(11.5 3.5) rotate(-180)\").attr(\"d\", \"M0 0 L0 0.5 M -0.15 0.3 L0 0.5 L0.15 0.3\").attr(\"stroke-width\", \"0.1\").attr(\"stroke\", \"black\");});</script>"
      ]
     },
     "metadata": {},
     "output_type": "display_data"
    },
    {
     "data": {
      "text/html": [
       "<script>require([\"d3\"], function(d3) {d3.select(\".usersvg #canvasLcz\").append(\"path\").attr(\"id\", \"pixel_arrowsM5\").attr(\"transform\", \"translate(3 2)\").attr(\"transform\", \"translate(2.5 3.5) rotate(-90)\").attr(\"d\", \"M0 0 L0 0.5 M -0.15 0.3 L0 0.5 L0.15 0.3\").attr(\"stroke-width\", \"0.1\").attr(\"stroke\", \"black\");});</script>"
      ]
     },
     "metadata": {},
     "output_type": "display_data"
    },
    {
     "data": {
      "text/html": [
       "<script>require([\"d3\"], function(d3) {d3.select(\".usersvg #canvasLcz\").append(\"path\").attr(\"id\", \"pixel_arrowEnz\").attr(\"transform\", \"translate(5 15)\").attr(\"transform\", \"translate(15.5 5.5) rotate(-180)\").attr(\"d\", \"M0 0 L0 0.5 M -0.15 0.3 L0 0.5 L0.15 0.3\").attr(\"stroke-width\", \"0.1\").attr(\"stroke\", \"black\");});</script>"
      ]
     },
     "metadata": {},
     "output_type": "display_data"
    },
    {
     "data": {
      "text/html": [
       "<script>require([\"d3\"], function(d3) {d3.select(\".usersvg #canvasLcz\").append(\"path\").attr(\"id\", \"pixel_arrowLnd\").attr(\"transform\", \"translate(6 8)\").attr(\"transform\", \"translate(8.5 6.5) rotate(-180)\").attr(\"d\", \"M0 0 L0 0.5 M -0.15 0.3 L0 0.5 L0.15 0.3\").attr(\"stroke-width\", \"0.1\").attr(\"stroke\", \"black\");});</script>"
      ]
     },
     "metadata": {},
     "output_type": "display_data"
    },
    {
     "data": {
      "text/html": [
       "<script>require([\"d3\"], function(d3) {d3.select(\".usersvg #canvasLcz\").append(\"path\").attr(\"id\", \"pixel_arrowgFb\").attr(\"transform\", \"translate(11 2)\").attr(\"transform\", \"translate(2.5 11.5) rotate(-90)\").attr(\"d\", \"M0 0 L0 0.5 M -0.15 0.3 L0 0.5 L0.15 0.3\").attr(\"stroke-width\", \"0.1\").attr(\"stroke\", \"black\");});</script>"
      ]
     },
     "metadata": {},
     "output_type": "display_data"
    },
    {
     "data": {
      "text/html": [
       "<script>require([\"d3\"], function(d3) {d3.select(\".usersvg #canvasLcz\").append(\"path\").attr(\"id\", \"pixel_arrowAyk\").attr(\"transform\", \"translate(4 2)\").attr(\"transform\", \"translate(2.5 4.5) rotate(-180)\").attr(\"d\", \"M0 0 L0 0.5 M -0.15 0.3 L0 0.5 L0.15 0.3\").attr(\"stroke-width\", \"0.1\").attr(\"stroke\", \"black\");});</script>"
      ]
     },
     "metadata": {},
     "output_type": "display_data"
    },
    {
     "data": {
      "text/html": [
       "<script>require([\"d3\"], function(d3) {d3.select(\".usersvg #canvasLcz\").append(\"path\").attr(\"id\", \"pixel_arrowKzG\").attr(\"transform\", \"translate(2 12)\").attr(\"transform\", \"translate(12.5 2.5) rotate(-270)\").attr(\"d\", \"M0 0 L0 0.5 M -0.15 0.3 L0 0.5 L0.15 0.3\").attr(\"stroke-width\", \"0.1\").attr(\"stroke\", \"black\");});</script>"
      ]
     },
     "metadata": {},
     "output_type": "display_data"
    },
    {
     "data": {
      "text/html": [
       "<script>require([\"d3\"], function(d3) {d3.select(\".usersvg #canvasLcz\").append(\"path\").attr(\"id\", \"pixel_arrowfix\").attr(\"transform\", \"translate(17 15)\").attr(\"transform\", \"translate(15.5 17.5) rotate(-180)\").attr(\"d\", \"M0 0 L0 0.5 M -0.15 0.3 L0 0.5 L0.15 0.3\").attr(\"stroke-width\", \"0.1\").attr(\"stroke\", \"black\");});</script>"
      ]
     },
     "metadata": {},
     "output_type": "display_data"
    },
    {
     "data": {
      "text/html": [
       "<script>require([\"d3\"], function(d3) {d3.select(\".usersvg #canvasLcz\").append(\"path\").attr(\"id\", \"pixel_arrowKJf\").attr(\"transform\", \"translate(9 0)\").attr(\"transform\", \"translate(0.5 9.5) rotate(-180)\").attr(\"d\", \"M0 0 L0 0.5 M -0.15 0.3 L0 0.5 L0.15 0.3\").attr(\"stroke-width\", \"0.1\").attr(\"stroke\", \"black\");});</script>"
      ]
     },
     "metadata": {},
     "output_type": "display_data"
    },
    {
     "data": {
      "text/html": [
       "<script>require([\"d3\"], function(d3) {d3.select(\".usersvg #canvasLcz\").append(\"path\").attr(\"id\", \"pixel_arrowm2U\").attr(\"transform\", \"translate(10 16)\").attr(\"transform\", \"translate(16.5 10.5) rotate(-90)\").attr(\"d\", \"M0 0 L0 0.5 M -0.15 0.3 L0 0.5 L0.15 0.3\").attr(\"stroke-width\", \"0.1\").attr(\"stroke\", \"black\");});</script>"
      ]
     },
     "metadata": {},
     "output_type": "display_data"
    },
    {
     "data": {
      "text/html": [
       "<script>require([\"d3\"], function(d3) {d3.select(\".usersvg #canvasLcz\").append(\"path\").attr(\"id\", \"pixel_arrowvbx\").attr(\"transform\", \"translate(2 7)\").attr(\"transform\", \"translate(7.5 2.5) rotate(-180)\").attr(\"d\", \"M0 0 L0 0.5 M -0.15 0.3 L0 0.5 L0.15 0.3\").attr(\"stroke-width\", \"0.1\").attr(\"stroke\", \"black\");});</script>"
      ]
     },
     "metadata": {},
     "output_type": "display_data"
    },
    {
     "data": {
      "text/html": [
       "<script>require([\"d3\"], function(d3) {d3.select(\".usersvg #canvasLcz\").append(\"path\").attr(\"id\", \"pixel_arrowWcy\").attr(\"transform\", \"translate(10 15)\").attr(\"transform\", \"translate(15.5 10.5) rotate(-360)\").attr(\"d\", \"M0 0 L0 0.5 M -0.15 0.3 L0 0.5 L0.15 0.3\").attr(\"stroke-width\", \"0.1\").attr(\"stroke\", \"black\");});</script>"
      ]
     },
     "metadata": {},
     "output_type": "display_data"
    },
    {
     "data": {
      "text/html": [
       "<script>require([\"d3\"], function(d3) {d3.select(\".usersvg #canvasLcz\").append(\"path\").attr(\"id\", \"pixel_arrowAJk\").attr(\"transform\", \"translate(12 14)\").attr(\"transform\", \"translate(14.5 12.5) rotate(-270)\").attr(\"d\", \"M0 0 L0 0.5 M -0.15 0.3 L0 0.5 L0.15 0.3\").attr(\"stroke-width\", \"0.1\").attr(\"stroke\", \"black\");});</script>"
      ]
     },
     "metadata": {},
     "output_type": "display_data"
    },
    {
     "data": {
      "text/html": [
       "<script>require([\"d3\"], function(d3) {d3.select(\".usersvg #canvasLcz\").append(\"path\").attr(\"id\", \"pixel_arrowmm3\").attr(\"transform\", \"translate(9 9)\").attr(\"transform\", \"translate(9.5 9.5) rotate(-180)\").attr(\"d\", \"M0 0 L0 0.5 M -0.15 0.3 L0 0.5 L0.15 0.3\").attr(\"stroke-width\", \"0.1\").attr(\"stroke\", \"black\");});</script>"
      ]
     },
     "metadata": {},
     "output_type": "display_data"
    },
    {
     "data": {
      "text/html": [
       "<script>require([\"d3\"], function(d3) {d3.select(\".usersvg #canvasLcz\").append(\"path\").attr(\"id\", \"pixel_arrowfxm\").attr(\"transform\", \"translate(15 14)\").attr(\"transform\", \"translate(14.5 15.5) rotate(-270)\").attr(\"d\", \"M0 0 L0 0.5 M -0.15 0.3 L0 0.5 L0.15 0.3\").attr(\"stroke-width\", \"0.1\").attr(\"stroke\", \"black\");});</script>"
      ]
     },
     "metadata": {},
     "output_type": "display_data"
    },
    {
     "data": {
      "text/html": [
       "<script>require([\"d3\"], function(d3) {d3.select(\".usersvg #canvasLcz\").append(\"path\").attr(\"id\", \"pixel_arrowEfk\").attr(\"transform\", \"translate(16 2)\").attr(\"transform\", \"translate(2.5 16.5) rotate(-270)\").attr(\"d\", \"M0 0 L0 0.5 M -0.15 0.3 L0 0.5 L0.15 0.3\").attr(\"stroke-width\", \"0.1\").attr(\"stroke\", \"black\");});</script>"
      ]
     },
     "metadata": {},
     "output_type": "display_data"
    },
    {
     "data": {
      "text/html": [
       "<script>require([\"d3\"], function(d3) {d3.select(\".usersvg #canvasLcz\").append(\"path\").attr(\"id\", \"pixel_arrowlVK\").attr(\"transform\", \"translate(3 14)\").attr(\"transform\", \"translate(14.5 3.5) rotate(-360)\").attr(\"d\", \"M0 0 L0 0.5 M -0.15 0.3 L0 0.5 L0.15 0.3\").attr(\"stroke-width\", \"0.1\").attr(\"stroke\", \"black\");});</script>"
      ]
     },
     "metadata": {},
     "output_type": "display_data"
    },
    {
     "data": {
      "text/html": [
       "<script>require([\"d3\"], function(d3) {d3.select(\".usersvg #canvasLcz\").append(\"path\").attr(\"id\", \"pixel_arrow8iG\").attr(\"transform\", \"translate(12 11)\").attr(\"transform\", \"translate(11.5 12.5) rotate(-360)\").attr(\"d\", \"M0 0 L0 0.5 M -0.15 0.3 L0 0.5 L0.15 0.3\").attr(\"stroke-width\", \"0.1\").attr(\"stroke\", \"black\");});</script>"
      ]
     },
     "metadata": {},
     "output_type": "display_data"
    },
    {
     "data": {
      "text/html": [
       "<script>require([\"d3\"], function(d3) {d3.select(\".usersvg #canvasLcz\").append(\"path\").attr(\"id\", \"pixel_arrow8JL\").attr(\"transform\", \"translate(13 7)\").attr(\"transform\", \"translate(7.5 13.5) rotate(-90)\").attr(\"d\", \"M0 0 L0 0.5 M -0.15 0.3 L0 0.5 L0.15 0.3\").attr(\"stroke-width\", \"0.1\").attr(\"stroke\", \"black\");});</script>"
      ]
     },
     "metadata": {},
     "output_type": "display_data"
    },
    {
     "data": {
      "text/html": [
       "<script>require([\"d3\"], function(d3) {d3.select(\".usersvg #canvasLcz\").append(\"path\").attr(\"id\", \"pixel_arrowuZL\").attr(\"transform\", \"translate(1 14)\").attr(\"transform\", \"translate(14.5 1.5) rotate(-180)\").attr(\"d\", \"M0 0 L0 0.5 M -0.15 0.3 L0 0.5 L0.15 0.3\").attr(\"stroke-width\", \"0.1\").attr(\"stroke\", \"black\");});</script>"
      ]
     },
     "metadata": {},
     "output_type": "display_data"
    },
    {
     "data": {
      "text/html": [
       "<script>require([\"d3\"], function(d3) {d3.select(\".usersvg #canvasLcz\").append(\"path\").attr(\"id\", \"pixel_arrowbAB\").attr(\"transform\", \"translate(12 9)\").attr(\"transform\", \"translate(9.5 12.5) rotate(-90)\").attr(\"d\", \"M0 0 L0 0.5 M -0.15 0.3 L0 0.5 L0.15 0.3\").attr(\"stroke-width\", \"0.1\").attr(\"stroke\", \"black\");});</script>"
      ]
     },
     "metadata": {},
     "output_type": "display_data"
    },
    {
     "data": {
      "text/html": [
       "<script>require([\"d3\"], function(d3) {d3.select(\".usersvg #canvasLcz\").append(\"path\").attr(\"id\", \"pixel_arrowZfN\").attr(\"transform\", \"translate(14 10)\").attr(\"transform\", \"translate(10.5 14.5) rotate(-90)\").attr(\"d\", \"M0 0 L0 0.5 M -0.15 0.3 L0 0.5 L0.15 0.3\").attr(\"stroke-width\", \"0.1\").attr(\"stroke\", \"black\");});</script>"
      ]
     },
     "metadata": {},
     "output_type": "display_data"
    },
    {
     "data": {
      "text/html": [
       "<script>require([\"d3\"], function(d3) {d3.select(\".usersvg #canvasLcz\").append(\"path\").attr(\"id\", \"pixel_arrowL5m\").attr(\"transform\", \"translate(14 13)\").attr(\"transform\", \"translate(13.5 14.5) rotate(-180)\").attr(\"d\", \"M0 0 L0 0.5 M -0.15 0.3 L0 0.5 L0.15 0.3\").attr(\"stroke-width\", \"0.1\").attr(\"stroke\", \"black\");});</script>"
      ]
     },
     "metadata": {},
     "output_type": "display_data"
    },
    {
     "data": {
      "text/html": [
       "<script>require([\"d3\"], function(d3) {d3.select(\".usersvg #canvasLcz\").append(\"path\").attr(\"id\", \"pixel_arrowh9H\").attr(\"transform\", \"translate(12 6)\").attr(\"transform\", \"translate(6.5 12.5) rotate(-180)\").attr(\"d\", \"M0 0 L0 0.5 M -0.15 0.3 L0 0.5 L0.15 0.3\").attr(\"stroke-width\", \"0.1\").attr(\"stroke\", \"black\");});</script>"
      ]
     },
     "metadata": {},
     "output_type": "display_data"
    },
    {
     "data": {
      "text/html": [
       "<script>require([\"d3\"], function(d3) {d3.select(\".usersvg #canvasLcz\").append(\"path\").attr(\"id\", \"pixel_arrowejd\").attr(\"transform\", \"translate(13 4)\").attr(\"transform\", \"translate(4.5 13.5) rotate(-90)\").attr(\"d\", \"M0 0 L0 0.5 M -0.15 0.3 L0 0.5 L0.15 0.3\").attr(\"stroke-width\", \"0.1\").attr(\"stroke\", \"black\");});</script>"
      ]
     },
     "metadata": {},
     "output_type": "display_data"
    },
    {
     "data": {
      "text/html": [
       "<script>require([\"d3\"], function(d3) {d3.select(\".usersvg #canvasLcz\").append(\"path\").attr(\"id\", \"pixel_arrowj9R\").attr(\"transform\", \"translate(0 9)\").attr(\"transform\", \"translate(9.5 0.5) rotate(-90)\").attr(\"d\", \"M0 0 L0 0.5 M -0.15 0.3 L0 0.5 L0.15 0.3\").attr(\"stroke-width\", \"0.1\").attr(\"stroke\", \"black\");});</script>"
      ]
     },
     "metadata": {},
     "output_type": "display_data"
    },
    {
     "data": {
      "text/html": [
       "<script>require([\"d3\"], function(d3) {d3.select(\".usersvg #canvasLcz\").append(\"path\").attr(\"id\", \"pixel_arrowoYu\").attr(\"transform\", \"translate(16 6)\").attr(\"transform\", \"translate(6.5 16.5) rotate(-180)\").attr(\"d\", \"M0 0 L0 0.5 M -0.15 0.3 L0 0.5 L0.15 0.3\").attr(\"stroke-width\", \"0.1\").attr(\"stroke\", \"black\");});</script>"
      ]
     },
     "metadata": {},
     "output_type": "display_data"
    },
    {
     "data": {
      "text/html": [
       "<script>require([\"d3\"], function(d3) {d3.select(\".usersvg #canvasLcz\").append(\"path\").attr(\"id\", \"pixel_arrowsmc\").attr(\"transform\", \"translate(7 14)\").attr(\"transform\", \"translate(14.5 7.5) rotate(-270)\").attr(\"d\", \"M0 0 L0 0.5 M -0.15 0.3 L0 0.5 L0.15 0.3\").attr(\"stroke-width\", \"0.1\").attr(\"stroke\", \"black\");});</script>"
      ]
     },
     "metadata": {},
     "output_type": "display_data"
    },
    {
     "data": {
      "text/html": [
       "<script>require([\"d3\"], function(d3) {d3.select(\".usersvg #canvasLcz\").append(\"path\").attr(\"id\", \"pixel_arrowJUy\").attr(\"transform\", \"translate(7 15)\").attr(\"transform\", \"translate(15.5 7.5) rotate(-90)\").attr(\"d\", \"M0 0 L0 0.5 M -0.15 0.3 L0 0.5 L0.15 0.3\").attr(\"stroke-width\", \"0.1\").attr(\"stroke\", \"black\");});</script>"
      ]
     },
     "metadata": {},
     "output_type": "display_data"
    },
    {
     "data": {
      "text/html": [
       "<script>require([\"d3\"], function(d3) {d3.select(\".usersvg #canvasLcz\").append(\"path\").attr(\"id\", \"pixel_arrowM93\").attr(\"transform\", \"translate(13 6)\").attr(\"transform\", \"translate(6.5 13.5) rotate(-90)\").attr(\"d\", \"M0 0 L0 0.5 M -0.15 0.3 L0 0.5 L0.15 0.3\").attr(\"stroke-width\", \"0.1\").attr(\"stroke\", \"black\");});</script>"
      ]
     },
     "metadata": {},
     "output_type": "display_data"
    },
    {
     "data": {
      "text/html": [
       "<script>require([\"d3\"], function(d3) {d3.select(\".usersvg #canvasLcz\").append(\"path\").attr(\"id\", \"pixel_arrowpq4\").attr(\"transform\", \"translate(17 10)\").attr(\"transform\", \"translate(10.5 17.5) rotate(-180)\").attr(\"d\", \"M0 0 L0 0.5 M -0.15 0.3 L0 0.5 L0.15 0.3\").attr(\"stroke-width\", \"0.1\").attr(\"stroke\", \"black\");});</script>"
      ]
     },
     "metadata": {},
     "output_type": "display_data"
    },
    {
     "data": {
      "text/html": [
       "<script>require([\"d3\"], function(d3) {d3.select(\".usersvg #canvasLcz\").append(\"path\").attr(\"id\", \"pixel_arrowFcp\").attr(\"transform\", \"translate(1 8)\").attr(\"transform\", \"translate(8.5 1.5) rotate(-270)\").attr(\"d\", \"M0 0 L0 0.5 M -0.15 0.3 L0 0.5 L0.15 0.3\").attr(\"stroke-width\", \"0.1\").attr(\"stroke\", \"black\");});</script>"
      ]
     },
     "metadata": {},
     "output_type": "display_data"
    },
    {
     "data": {
      "text/html": [
       "<script>require([\"d3\"], function(d3) {d3.select(\".usersvg #canvasLcz\").append(\"path\").attr(\"id\", \"pixel_arrowj21\").attr(\"transform\", \"translate(17 8)\").attr(\"transform\", \"translate(8.5 17.5) rotate(-90)\").attr(\"d\", \"M0 0 L0 0.5 M -0.15 0.3 L0 0.5 L0.15 0.3\").attr(\"stroke-width\", \"0.1\").attr(\"stroke\", \"black\");});</script>"
      ]
     },
     "metadata": {},
     "output_type": "display_data"
    },
    {
     "data": {
      "text/html": [
       "<script>require([\"d3\"], function(d3) {d3.select(\".usersvg #canvasLcz\").append(\"path\").attr(\"id\", \"pixel_arrow2bR\").attr(\"transform\", \"translate(4 8)\").attr(\"transform\", \"translate(8.5 4.5) rotate(-90)\").attr(\"d\", \"M0 0 L0 0.5 M -0.15 0.3 L0 0.5 L0.15 0.3\").attr(\"stroke-width\", \"0.1\").attr(\"stroke\", \"black\");});</script>"
      ]
     },
     "metadata": {},
     "output_type": "display_data"
    },
    {
     "data": {
      "text/html": [
       "<script>require([\"d3\"], function(d3) {d3.select(\".usersvg #canvasLcz\").append(\"path\").attr(\"id\", \"pixel_arrowlG2\").attr(\"transform\", \"translate(9 16)\").attr(\"transform\", \"translate(16.5 9.5) rotate(-90)\").attr(\"d\", \"M0 0 L0 0.5 M -0.15 0.3 L0 0.5 L0.15 0.3\").attr(\"stroke-width\", \"0.1\").attr(\"stroke\", \"black\");});</script>"
      ]
     },
     "metadata": {},
     "output_type": "display_data"
    },
    {
     "data": {
      "text/html": [
       "<script>require([\"d3\"], function(d3) {d3.select(\".usersvg #canvasLcz\").append(\"path\").attr(\"id\", \"pixel_arrowuYV\").attr(\"transform\", \"translate(5 11)\").attr(\"transform\", \"translate(11.5 5.5) rotate(-180)\").attr(\"d\", \"M0 0 L0 0.5 M -0.15 0.3 L0 0.5 L0.15 0.3\").attr(\"stroke-width\", \"0.1\").attr(\"stroke\", \"black\");});</script>"
      ]
     },
     "metadata": {},
     "output_type": "display_data"
    },
    {
     "data": {
      "text/html": [
       "<script>require([\"d3\"], function(d3) {d3.select(\".usersvg #canvasLcz\").append(\"path\").attr(\"id\", \"pixel_arrowyIN\").attr(\"transform\", \"translate(11 6)\").attr(\"transform\", \"translate(6.5 11.5) rotate(-90)\").attr(\"d\", \"M0 0 L0 0.5 M -0.15 0.3 L0 0.5 L0.15 0.3\").attr(\"stroke-width\", \"0.1\").attr(\"stroke\", \"black\");});</script>"
      ]
     },
     "metadata": {},
     "output_type": "display_data"
    },
    {
     "data": {
      "text/html": [
       "<script>require([\"d3\"], function(d3) {d3.select(\".usersvg #canvasLcz\").append(\"path\").attr(\"id\", \"pixel_arroweSy\").attr(\"transform\", \"translate(11 12)\").attr(\"transform\", \"translate(12.5 11.5) rotate(-360)\").attr(\"d\", \"M0 0 L0 0.5 M -0.15 0.3 L0 0.5 L0.15 0.3\").attr(\"stroke-width\", \"0.1\").attr(\"stroke\", \"black\");});</script>"
      ]
     },
     "metadata": {},
     "output_type": "display_data"
    },
    {
     "data": {
      "text/html": [
       "<script>require([\"d3\"], function(d3) {d3.select(\".usersvg #canvasLcz\").append(\"path\").attr(\"id\", \"pixel_arrowMb1\").attr(\"transform\", \"translate(16 8)\").attr(\"transform\", \"translate(8.5 16.5) rotate(-90)\").attr(\"d\", \"M0 0 L0 0.5 M -0.15 0.3 L0 0.5 L0.15 0.3\").attr(\"stroke-width\", \"0.1\").attr(\"stroke\", \"black\");});</script>"
      ]
     },
     "metadata": {},
     "output_type": "display_data"
    },
    {
     "data": {
      "text/html": [
       "<script>require([\"d3\"], function(d3) {d3.select(\".usersvg #canvasLcz\").append(\"path\").attr(\"id\", \"pixel_arrowqKm\").attr(\"transform\", \"translate(14 1)\").attr(\"transform\", \"translate(1.5 14.5) rotate(-90)\").attr(\"d\", \"M0 0 L0 0.5 M -0.15 0.3 L0 0.5 L0.15 0.3\").attr(\"stroke-width\", \"0.1\").attr(\"stroke\", \"black\");});</script>"
      ]
     },
     "metadata": {},
     "output_type": "display_data"
    },
    {
     "data": {
      "text/html": [
       "<script>require([\"d3\"], function(d3) {d3.select(\".usersvg #canvasLcz\").append(\"path\").attr(\"id\", \"pixel_arrowKlP\").attr(\"transform\", \"translate(17 3)\").attr(\"transform\", \"translate(3.5 17.5) rotate(-180)\").attr(\"d\", \"M0 0 L0 0.5 M -0.15 0.3 L0 0.5 L0.15 0.3\").attr(\"stroke-width\", \"0.1\").attr(\"stroke\", \"black\");});</script>"
      ]
     },
     "metadata": {},
     "output_type": "display_data"
    },
    {
     "data": {
      "text/html": [
       "<script>require([\"d3\"], function(d3) {d3.select(\".usersvg #canvasLcz\").append(\"path\").attr(\"id\", \"pixel_arrow7P8\").attr(\"transform\", \"translate(3 12)\").attr(\"transform\", \"translate(12.5 3.5) rotate(-90)\").attr(\"d\", \"M0 0 L0 0.5 M -0.15 0.3 L0 0.5 L0.15 0.3\").attr(\"stroke-width\", \"0.1\").attr(\"stroke\", \"black\");});</script>"
      ]
     },
     "metadata": {},
     "output_type": "display_data"
    },
    {
     "data": {
      "text/html": [
       "<script>require([\"d3\"], function(d3) {d3.select(\".usersvg #canvasLcz\").append(\"path\").attr(\"id\", \"pixel_arrowwGc\").attr(\"transform\", \"translate(4 11)\").attr(\"transform\", \"translate(11.5 4.5) rotate(-90)\").attr(\"d\", \"M0 0 L0 0.5 M -0.15 0.3 L0 0.5 L0.15 0.3\").attr(\"stroke-width\", \"0.1\").attr(\"stroke\", \"black\");});</script>"
      ]
     },
     "metadata": {},
     "output_type": "display_data"
    },
    {
     "data": {
      "text/html": [
       "<script>require([\"d3\"], function(d3) {d3.select(\".usersvg #canvasLcz\").append(\"path\").attr(\"id\", \"pixel_arrowIoZ\").attr(\"transform\", \"translate(11 5)\").attr(\"transform\", \"translate(5.5 11.5) rotate(-360)\").attr(\"d\", \"M0 0 L0 0.5 M -0.15 0.3 L0 0.5 L0.15 0.3\").attr(\"stroke-width\", \"0.1\").attr(\"stroke\", \"black\");});</script>"
      ]
     },
     "metadata": {},
     "output_type": "display_data"
    },
    {
     "data": {
      "text/html": [
       "<script>require([\"d3\"], function(d3) {d3.select(\".usersvg #canvasLcz\").append(\"path\").attr(\"id\", \"pixel_arrowOrg\").attr(\"transform\", \"translate(3 7)\").attr(\"transform\", \"translate(7.5 3.5) rotate(-180)\").attr(\"d\", \"M0 0 L0 0.5 M -0.15 0.3 L0 0.5 L0.15 0.3\").attr(\"stroke-width\", \"0.1\").attr(\"stroke\", \"black\");});</script>"
      ]
     },
     "metadata": {},
     "output_type": "display_data"
    },
    {
     "data": {
      "text/html": [
       "<script>require([\"d3\"], function(d3) {d3.select(\".usersvg #canvasLcz\").append(\"path\").attr(\"id\", \"pixel_arrowlUY\").attr(\"transform\", \"translate(1 7)\").attr(\"transform\", \"translate(7.5 1.5) rotate(-90)\").attr(\"d\", \"M0 0 L0 0.5 M -0.15 0.3 L0 0.5 L0.15 0.3\").attr(\"stroke-width\", \"0.1\").attr(\"stroke\", \"black\");});</script>"
      ]
     },
     "metadata": {},
     "output_type": "display_data"
    },
    {
     "data": {
      "text/html": [
       "<script>require([\"d3\"], function(d3) {d3.select(\".usersvg #canvasLcz\").append(\"path\").attr(\"id\", \"pixel_arrowrIO\").attr(\"transform\", \"translate(0 4)\").attr(\"transform\", \"translate(4.5 0.5) rotate(-270)\").attr(\"d\", \"M0 0 L0 0.5 M -0.15 0.3 L0 0.5 L0.15 0.3\").attr(\"stroke-width\", \"0.1\").attr(\"stroke\", \"black\");});</script>"
      ]
     },
     "metadata": {},
     "output_type": "display_data"
    },
    {
     "data": {
      "text/html": [
       "<script>require([\"d3\"], function(d3) {d3.select(\".usersvg #canvasLcz\").append(\"path\").attr(\"id\", \"pixel_arrowDJb\").attr(\"transform\", \"translate(11 14)\").attr(\"transform\", \"translate(14.5 11.5) rotate(-90)\").attr(\"d\", \"M0 0 L0 0.5 M -0.15 0.3 L0 0.5 L0.15 0.3\").attr(\"stroke-width\", \"0.1\").attr(\"stroke\", \"black\");});</script>"
      ]
     },
     "metadata": {},
     "output_type": "display_data"
    },
    {
     "data": {
      "text/html": [
       "<script>require([\"d3\"], function(d3) {d3.select(\".usersvg #canvasLcz\").append(\"path\").attr(\"id\", \"pixel_arrowszU\").attr(\"transform\", \"translate(14 16)\").attr(\"transform\", \"translate(16.5 14.5) rotate(-180)\").attr(\"d\", \"M0 0 L0 0.5 M -0.15 0.3 L0 0.5 L0.15 0.3\").attr(\"stroke-width\", \"0.1\").attr(\"stroke\", \"black\");});</script>"
      ]
     },
     "metadata": {},
     "output_type": "display_data"
    },
    {
     "data": {
      "text/html": [
       "<script>require([\"d3\"], function(d3) {d3.select(\".usersvg #canvasLcz\").append(\"path\").attr(\"id\", \"pixel_arrowNBG\").attr(\"transform\", \"translate(9 6)\").attr(\"transform\", \"translate(6.5 9.5) rotate(-90)\").attr(\"d\", \"M0 0 L0 0.5 M -0.15 0.3 L0 0.5 L0.15 0.3\").attr(\"stroke-width\", \"0.1\").attr(\"stroke\", \"black\");});</script>"
      ]
     },
     "metadata": {},
     "output_type": "display_data"
    },
    {
     "data": {
      "text/html": [
       "<script>require([\"d3\"], function(d3) {d3.select(\".usersvg #canvasLcz\").append(\"path\").attr(\"id\", \"pixel_arrowrU0\").attr(\"transform\", \"translate(5 9)\").attr(\"transform\", \"translate(9.5 5.5) rotate(-180)\").attr(\"d\", \"M0 0 L0 0.5 M -0.15 0.3 L0 0.5 L0.15 0.3\").attr(\"stroke-width\", \"0.1\").attr(\"stroke\", \"black\");});</script>"
      ]
     },
     "metadata": {},
     "output_type": "display_data"
    },
    {
     "data": {
      "text/html": [
       "<script>require([\"d3\"], function(d3) {d3.select(\".usersvg #canvasLcz\").append(\"path\").attr(\"id\", \"pixel_arrowy4H\").attr(\"transform\", \"translate(6 4)\").attr(\"transform\", \"translate(4.5 6.5) rotate(-180)\").attr(\"d\", \"M0 0 L0 0.5 M -0.15 0.3 L0 0.5 L0.15 0.3\").attr(\"stroke-width\", \"0.1\").attr(\"stroke\", \"black\");});</script>"
      ]
     },
     "metadata": {},
     "output_type": "display_data"
    },
    {
     "data": {
      "text/html": [
       "<script>require([\"d3\"], function(d3) {d3.select(\".usersvg #canvasLcz\").append(\"path\").attr(\"id\", \"pixel_arrow1bC\").attr(\"transform\", \"translate(13 10)\").attr(\"transform\", \"translate(10.5 13.5) rotate(-270)\").attr(\"d\", \"M0 0 L0 0.5 M -0.15 0.3 L0 0.5 L0.15 0.3\").attr(\"stroke-width\", \"0.1\").attr(\"stroke\", \"black\");});</script>"
      ]
     },
     "metadata": {},
     "output_type": "display_data"
    },
    {
     "data": {
      "text/html": [
       "<script>require([\"d3\"], function(d3) {d3.select(\".usersvg #canvasLcz\").append(\"path\").attr(\"id\", \"pixel_arrow07L\").attr(\"transform\", \"translate(16 15)\").attr(\"transform\", \"translate(15.5 16.5) rotate(-180)\").attr(\"d\", \"M0 0 L0 0.5 M -0.15 0.3 L0 0.5 L0.15 0.3\").attr(\"stroke-width\", \"0.1\").attr(\"stroke\", \"black\");});</script>"
      ]
     },
     "metadata": {},
     "output_type": "display_data"
    },
    {
     "data": {
      "text/html": [
       "<script>require([\"d3\"], function(d3) {d3.select(\".usersvg #canvasLcz\").append(\"path\").attr(\"id\", \"pixel_arrowfiu\").attr(\"transform\", \"translate(0 5)\").attr(\"transform\", \"translate(5.5 0.5) rotate(-360)\").attr(\"d\", \"M0 0 L0 0.5 M -0.15 0.3 L0 0.5 L0.15 0.3\").attr(\"stroke-width\", \"0.1\").attr(\"stroke\", \"black\");});</script>"
      ]
     },
     "metadata": {},
     "output_type": "display_data"
    },
    {
     "data": {
      "text/html": [
       "<script>require([\"d3\"], function(d3) {d3.select(\".usersvg #canvasLcz\").append(\"path\").attr(\"id\", \"pixel_arrow0zY\").attr(\"transform\", \"translate(10 6)\").attr(\"transform\", \"translate(6.5 10.5) rotate(-90)\").attr(\"d\", \"M0 0 L0 0.5 M -0.15 0.3 L0 0.5 L0.15 0.3\").attr(\"stroke-width\", \"0.1\").attr(\"stroke\", \"black\");});</script>"
      ]
     },
     "metadata": {},
     "output_type": "display_data"
    },
    {
     "data": {
      "text/html": [
       "<script>require([\"d3\"], function(d3) {d3.select(\".usersvg #canvasLcz\").append(\"path\").attr(\"id\", \"pixel_arrowGap\").attr(\"transform\", \"translate(8 15)\").attr(\"transform\", \"translate(15.5 8.5) rotate(-180)\").attr(\"d\", \"M0 0 L0 0.5 M -0.15 0.3 L0 0.5 L0.15 0.3\").attr(\"stroke-width\", \"0.1\").attr(\"stroke\", \"black\");});</script>"
      ]
     },
     "metadata": {},
     "output_type": "display_data"
    },
    {
     "data": {
      "text/html": [
       "<script>require([\"d3\"], function(d3) {d3.select(\".usersvg #canvasLcz\").append(\"path\").attr(\"id\", \"pixel_arrow4HR\").attr(\"transform\", \"translate(9 11)\").attr(\"transform\", \"translate(11.5 9.5) rotate(-180)\").attr(\"d\", \"M0 0 L0 0.5 M -0.15 0.3 L0 0.5 L0.15 0.3\").attr(\"stroke-width\", \"0.1\").attr(\"stroke\", \"black\");});</script>"
      ]
     },
     "metadata": {},
     "output_type": "display_data"
    },
    {
     "data": {
      "text/html": [
       "<script>require([\"d3\"], function(d3) {d3.select(\".usersvg #canvasLcz\").append(\"path\").attr(\"id\", \"pixel_arrowKnw\").attr(\"transform\", \"translate(11 1)\").attr(\"transform\", \"translate(1.5 11.5) rotate(-90)\").attr(\"d\", \"M0 0 L0 0.5 M -0.15 0.3 L0 0.5 L0.15 0.3\").attr(\"stroke-width\", \"0.1\").attr(\"stroke\", \"black\");});</script>"
      ]
     },
     "metadata": {},
     "output_type": "display_data"
    },
    {
     "data": {
      "text/html": [
       "<script>require([\"d3\"], function(d3) {d3.select(\".usersvg #canvasLcz\").append(\"path\").attr(\"id\", \"pixel_arrowKJC\").attr(\"transform\", \"translate(5 12)\").attr(\"transform\", \"translate(12.5 5.5) rotate(-180)\").attr(\"d\", \"M0 0 L0 0.5 M -0.15 0.3 L0 0.5 L0.15 0.3\").attr(\"stroke-width\", \"0.1\").attr(\"stroke\", \"black\");});</script>"
      ]
     },
     "metadata": {},
     "output_type": "display_data"
    },
    {
     "data": {
      "text/html": [
       "<script>require([\"d3\"], function(d3) {d3.select(\".usersvg #canvasLcz\").append(\"path\").attr(\"id\", \"pixel_arrowksq\").attr(\"transform\", \"translate(14 12)\").attr(\"transform\", \"translate(12.5 14.5) rotate(-90)\").attr(\"d\", \"M0 0 L0 0.5 M -0.15 0.3 L0 0.5 L0.15 0.3\").attr(\"stroke-width\", \"0.1\").attr(\"stroke\", \"black\");});</script>"
      ]
     },
     "metadata": {},
     "output_type": "display_data"
    },
    {
     "data": {
      "text/html": [
       "<script>require([\"d3\"], function(d3) {d3.select(\".usersvg #canvasLcz\").append(\"path\").attr(\"id\", \"pixel_arrowV9D\").attr(\"transform\", \"translate(11 13)\").attr(\"transform\", \"translate(13.5 11.5) rotate(-360)\").attr(\"d\", \"M0 0 L0 0.5 M -0.15 0.3 L0 0.5 L0.15 0.3\").attr(\"stroke-width\", \"0.1\").attr(\"stroke\", \"black\");});</script>"
      ]
     },
     "metadata": {},
     "output_type": "display_data"
    },
    {
     "data": {
      "text/html": [
       "<script>require([\"d3\"], function(d3) {d3.select(\".usersvg #canvasLcz\").append(\"path\").attr(\"id\", \"pixel_arrowo9H\").attr(\"transform\", \"translate(13 11)\").attr(\"transform\", \"translate(11.5 13.5) rotate(-180)\").attr(\"d\", \"M0 0 L0 0.5 M -0.15 0.3 L0 0.5 L0.15 0.3\").attr(\"stroke-width\", \"0.1\").attr(\"stroke\", \"black\");});</script>"
      ]
     },
     "metadata": {},
     "output_type": "display_data"
    },
    {
     "data": {
      "text/html": [
       "<script>require([\"d3\"], function(d3) {d3.select(\".usersvg #canvasLcz\").append(\"path\").attr(\"id\", \"pixel_arrow9c5\").attr(\"transform\", \"translate(0 7)\").attr(\"transform\", \"translate(7.5 0.5) rotate(-90)\").attr(\"d\", \"M0 0 L0 0.5 M -0.15 0.3 L0 0.5 L0.15 0.3\").attr(\"stroke-width\", \"0.1\").attr(\"stroke\", \"black\");});</script>"
      ]
     },
     "metadata": {},
     "output_type": "display_data"
    },
    {
     "data": {
      "text/html": [
       "<script>require([\"d3\"], function(d3) {d3.select(\".usersvg #canvasLcz\").append(\"path\").attr(\"id\", \"pixel_arrow6FE\").attr(\"transform\", \"translate(8 11)\").attr(\"transform\", \"translate(11.5 8.5) rotate(-180)\").attr(\"d\", \"M0 0 L0 0.5 M -0.15 0.3 L0 0.5 L0.15 0.3\").attr(\"stroke-width\", \"0.1\").attr(\"stroke\", \"black\");});</script>"
      ]
     },
     "metadata": {},
     "output_type": "display_data"
    },
    {
     "data": {
      "text/html": [
       "<script>require([\"d3\"], function(d3) {d3.select(\".usersvg #canvasLcz\").append(\"path\").attr(\"id\", \"pixel_arrowNPO\").attr(\"transform\", \"translate(12 5)\").attr(\"transform\", \"translate(5.5 12.5) rotate(-270)\").attr(\"d\", \"M0 0 L0 0.5 M -0.15 0.3 L0 0.5 L0.15 0.3\").attr(\"stroke-width\", \"0.1\").attr(\"stroke\", \"black\");});</script>"
      ]
     },
     "metadata": {},
     "output_type": "display_data"
    },
    {
     "data": {
      "text/html": [
       "<script>require([\"d3\"], function(d3) {d3.select(\".usersvg #canvasLcz\").append(\"path\").attr(\"id\", \"pixel_arrowR9f\").attr(\"transform\", \"translate(15 11)\").attr(\"transform\", \"translate(11.5 15.5) rotate(-270)\").attr(\"d\", \"M0 0 L0 0.5 M -0.15 0.3 L0 0.5 L0.15 0.3\").attr(\"stroke-width\", \"0.1\").attr(\"stroke\", \"black\");});</script>"
      ]
     },
     "metadata": {},
     "output_type": "display_data"
    },
    {
     "data": {
      "text/html": [
       "<script>require([\"d3\"], function(d3) {d3.select(\".usersvg #canvasLcz\").append(\"path\").attr(\"id\", \"pixel_arrowoBG\").attr(\"transform\", \"translate(1 11)\").attr(\"transform\", \"translate(11.5 1.5) rotate(-180)\").attr(\"d\", \"M0 0 L0 0.5 M -0.15 0.3 L0 0.5 L0.15 0.3\").attr(\"stroke-width\", \"0.1\").attr(\"stroke\", \"black\");});</script>"
      ]
     },
     "metadata": {},
     "output_type": "display_data"
    },
    {
     "data": {
      "text/html": [
       "<script>require([\"d3\"], function(d3) {d3.select(\".usersvg #canvasLcz\").append(\"path\").attr(\"id\", \"pixel_arrowNMl\").attr(\"transform\", \"translate(12 15)\").attr(\"transform\", \"translate(15.5 12.5) rotate(-90)\").attr(\"d\", \"M0 0 L0 0.5 M -0.15 0.3 L0 0.5 L0.15 0.3\").attr(\"stroke-width\", \"0.1\").attr(\"stroke\", \"black\");});</script>"
      ]
     },
     "metadata": {},
     "output_type": "display_data"
    },
    {
     "data": {
      "text/html": [
       "<script>require([\"d3\"], function(d3) {d3.select(\".usersvg #canvasLcz\").append(\"path\").attr(\"id\", \"pixel_arrow4Vj\").attr(\"transform\", \"translate(13 14)\").attr(\"transform\", \"translate(14.5 13.5) rotate(-180)\").attr(\"d\", \"M0 0 L0 0.5 M -0.15 0.3 L0 0.5 L0.15 0.3\").attr(\"stroke-width\", \"0.1\").attr(\"stroke\", \"black\");});</script>"
      ]
     },
     "metadata": {},
     "output_type": "display_data"
    },
    {
     "data": {
      "text/html": [
       "<script>require([\"d3\"], function(d3) {d3.select(\".usersvg #canvasLcz\").append(\"path\").attr(\"id\", \"pixel_arrowlZq\").attr(\"transform\", \"translate(2 9)\").attr(\"transform\", \"translate(9.5 2.5) rotate(-90)\").attr(\"d\", \"M0 0 L0 0.5 M -0.15 0.3 L0 0.5 L0.15 0.3\").attr(\"stroke-width\", \"0.1\").attr(\"stroke\", \"black\");});</script>"
      ]
     },
     "metadata": {},
     "output_type": "display_data"
    },
    {
     "data": {
      "text/html": [
       "<script>require([\"d3\"], function(d3) {d3.select(\".usersvg #canvasLcz\").append(\"path\").attr(\"id\", \"pixel_arrowLv9\").attr(\"transform\", \"translate(1 5)\").attr(\"transform\", \"translate(5.5 1.5) rotate(-360)\").attr(\"d\", \"M0 0 L0 0.5 M -0.15 0.3 L0 0.5 L0.15 0.3\").attr(\"stroke-width\", \"0.1\").attr(\"stroke\", \"black\");});</script>"
      ]
     },
     "metadata": {},
     "output_type": "display_data"
    },
    {
     "data": {
      "text/html": [
       "<script>require([\"d3\"], function(d3) {d3.select(\".usersvg #canvasLcz\").append(\"path\").attr(\"id\", \"pixel_arrowXQC\").attr(\"transform\", \"translate(13 0)\").attr(\"transform\", \"translate(0.5 13.5) rotate(-360)\").attr(\"d\", \"M0 0 L0 0.5 M -0.15 0.3 L0 0.5 L0.15 0.3\").attr(\"stroke-width\", \"0.1\").attr(\"stroke\", \"black\");});</script>"
      ]
     },
     "metadata": {},
     "output_type": "display_data"
    },
    {
     "data": {
      "text/html": [
       "<script>require([\"d3\"], function(d3) {d3.select(\".usersvg #canvasLcz\").append(\"path\").attr(\"id\", \"pixel_arrows72\").attr(\"transform\", \"translate(7 16)\").attr(\"transform\", \"translate(16.5 7.5) rotate(-90)\").attr(\"d\", \"M0 0 L0 0.5 M -0.15 0.3 L0 0.5 L0.15 0.3\").attr(\"stroke-width\", \"0.1\").attr(\"stroke\", \"black\");});</script>"
      ]
     },
     "metadata": {},
     "output_type": "display_data"
    },
    {
     "data": {
      "text/html": [
       "<script>require([\"d3\"], function(d3) {d3.select(\".usersvg #canvasLcz\").append(\"path\").attr(\"id\", \"pixel_arrow4Oi\").attr(\"transform\", \"translate(0 12)\").attr(\"transform\", \"translate(12.5 0.5) rotate(-180)\").attr(\"d\", \"M0 0 L0 0.5 M -0.15 0.3 L0 0.5 L0.15 0.3\").attr(\"stroke-width\", \"0.1\").attr(\"stroke\", \"black\");});</script>"
      ]
     },
     "metadata": {},
     "output_type": "display_data"
    },
    {
     "data": {
      "text/html": [
       "<script>require([\"d3\"], function(d3) {d3.select(\".usersvg #canvasLcz\").append(\"path\").attr(\"id\", \"pixel_arrowO0c\").attr(\"transform\", \"translate(1 12)\").attr(\"transform\", \"translate(12.5 1.5) rotate(-180)\").attr(\"d\", \"M0 0 L0 0.5 M -0.15 0.3 L0 0.5 L0.15 0.3\").attr(\"stroke-width\", \"0.1\").attr(\"stroke\", \"black\");});</script>"
      ]
     },
     "metadata": {},
     "output_type": "display_data"
    },
    {
     "data": {
      "text/html": [
       "<script>require([\"d3\"], function(d3) {d3.select(\".usersvg #canvasLcz\").append(\"path\").attr(\"id\", \"pixel_arrowdwS\").attr(\"transform\", \"translate(6 15)\").attr(\"transform\", \"translate(15.5 6.5) rotate(-360)\").attr(\"d\", \"M0 0 L0 0.5 M -0.15 0.3 L0 0.5 L0.15 0.3\").attr(\"stroke-width\", \"0.1\").attr(\"stroke\", \"black\");});</script>"
      ]
     },
     "metadata": {},
     "output_type": "display_data"
    },
    {
     "data": {
      "text/html": [
       "<script>require([\"d3\"], function(d3) {d3.select(\".usersvg #canvasLcz\").append(\"path\").attr(\"id\", \"pixel_arrowted\").attr(\"transform\", \"translate(2 11)\").attr(\"transform\", \"translate(11.5 2.5) rotate(-180)\").attr(\"d\", \"M0 0 L0 0.5 M -0.15 0.3 L0 0.5 L0.15 0.3\").attr(\"stroke-width\", \"0.1\").attr(\"stroke\", \"black\");});</script>"
      ]
     },
     "metadata": {},
     "output_type": "display_data"
    },
    {
     "data": {
      "text/html": [
       "<script>require([\"d3\"], function(d3) {d3.select(\".usersvg #canvasLcz\").append(\"path\").attr(\"id\", \"pixel_arrowjNm\").attr(\"transform\", \"translate(10 10)\").attr(\"transform\", \"translate(10.5 10.5) rotate(-360)\").attr(\"d\", \"M0 0 L0 0.5 M -0.15 0.3 L0 0.5 L0.15 0.3\").attr(\"stroke-width\", \"0.1\").attr(\"stroke\", \"black\");});</script>"
      ]
     },
     "metadata": {},
     "output_type": "display_data"
    },
    {
     "data": {
      "text/html": [
       "<script>require([\"d3\"], function(d3) {d3.select(\".usersvg #canvasLcz\").append(\"path\").attr(\"id\", \"pixel_arrowEjp\").attr(\"transform\", \"translate(12 8)\").attr(\"transform\", \"translate(8.5 12.5) rotate(-360)\").attr(\"d\", \"M0 0 L0 0.5 M -0.15 0.3 L0 0.5 L0.15 0.3\").attr(\"stroke-width\", \"0.1\").attr(\"stroke\", \"black\");});</script>"
      ]
     },
     "metadata": {},
     "output_type": "display_data"
    },
    {
     "data": {
      "text/html": [
       "<script>require([\"d3\"], function(d3) {d3.select(\".usersvg #canvasLcz\").append(\"path\").attr(\"id\", \"pixel_arrowftV\").attr(\"transform\", \"translate(13 2)\").attr(\"transform\", \"translate(2.5 13.5) rotate(-360)\").attr(\"d\", \"M0 0 L0 0.5 M -0.15 0.3 L0 0.5 L0.15 0.3\").attr(\"stroke-width\", \"0.1\").attr(\"stroke\", \"black\");});</script>"
      ]
     },
     "metadata": {},
     "output_type": "display_data"
    },
    {
     "data": {
      "text/html": [
       "<script>require([\"d3\"], function(d3) {d3.select(\".usersvg #canvasLcz\").append(\"path\").attr(\"id\", \"pixel_arrowZbJ\").attr(\"transform\", \"translate(6 3)\").attr(\"transform\", \"translate(3.5 6.5) rotate(-270)\").attr(\"d\", \"M0 0 L0 0.5 M -0.15 0.3 L0 0.5 L0.15 0.3\").attr(\"stroke-width\", \"0.1\").attr(\"stroke\", \"black\");});</script>"
      ]
     },
     "metadata": {},
     "output_type": "display_data"
    },
    {
     "data": {
      "text/html": [
       "<script>require([\"d3\"], function(d3) {d3.select(\".usersvg #canvasLcz\").append(\"path\").attr(\"id\", \"pixel_arrowsah\").attr(\"transform\", \"translate(14 4)\").attr(\"transform\", \"translate(4.5 14.5) rotate(-360)\").attr(\"d\", \"M0 0 L0 0.5 M -0.15 0.3 L0 0.5 L0.15 0.3\").attr(\"stroke-width\", \"0.1\").attr(\"stroke\", \"black\");});</script>"
      ]
     },
     "metadata": {},
     "output_type": "display_data"
    },
    {
     "data": {
      "text/html": [
       "<script>require([\"d3\"], function(d3) {d3.select(\".usersvg #canvasLcz\").append(\"path\").attr(\"id\", \"pixel_arrowaw1\").attr(\"transform\", \"translate(6 9)\").attr(\"transform\", \"translate(9.5 6.5) rotate(-90)\").attr(\"d\", \"M0 0 L0 0.5 M -0.15 0.3 L0 0.5 L0.15 0.3\").attr(\"stroke-width\", \"0.1\").attr(\"stroke\", \"black\");});</script>"
      ]
     },
     "metadata": {},
     "output_type": "display_data"
    },
    {
     "data": {
      "text/html": [
       "<script>require([\"d3\"], function(d3) {d3.select(\".usersvg #canvasLcz\").append(\"path\").attr(\"id\", \"pixel_arrowjZf\").attr(\"transform\", \"translate(6 13)\").attr(\"transform\", \"translate(13.5 6.5) rotate(-360)\").attr(\"d\", \"M0 0 L0 0.5 M -0.15 0.3 L0 0.5 L0.15 0.3\").attr(\"stroke-width\", \"0.1\").attr(\"stroke\", \"black\");});</script>"
      ]
     },
     "metadata": {},
     "output_type": "display_data"
    },
    {
     "data": {
      "text/html": [
       "<script>require([\"d3\"], function(d3) {d3.select(\".usersvg #canvasLcz\").append(\"path\").attr(\"id\", \"pixel_arrowQgS\").attr(\"transform\", \"translate(7 7)\").attr(\"transform\", \"translate(7.5 7.5) rotate(-90)\").attr(\"d\", \"M0 0 L0 0.5 M -0.15 0.3 L0 0.5 L0.15 0.3\").attr(\"stroke-width\", \"0.1\").attr(\"stroke\", \"black\");});</script>"
      ]
     },
     "metadata": {},
     "output_type": "display_data"
    },
    {
     "data": {
      "text/html": [
       "<script>require([\"d3\"], function(d3) {d3.select(\".usersvg #canvasLcz\").append(\"path\").attr(\"id\", \"pixel_arrowh9W\").attr(\"transform\", \"translate(11 7)\").attr(\"transform\", \"translate(7.5 11.5) rotate(-360)\").attr(\"d\", \"M0 0 L0 0.5 M -0.15 0.3 L0 0.5 L0.15 0.3\").attr(\"stroke-width\", \"0.1\").attr(\"stroke\", \"black\");});</script>"
      ]
     },
     "metadata": {},
     "output_type": "display_data"
    },
    {
     "data": {
      "text/html": [
       "<script>require([\"d3\"], function(d3) {d3.select(\".usersvg #canvasLcz\").append(\"path\").attr(\"id\", \"pixel_arrowBMu\").attr(\"transform\", \"translate(0 13)\").attr(\"transform\", \"translate(13.5 0.5) rotate(-180)\").attr(\"d\", \"M0 0 L0 0.5 M -0.15 0.3 L0 0.5 L0.15 0.3\").attr(\"stroke-width\", \"0.1\").attr(\"stroke\", \"black\");});</script>"
      ]
     },
     "metadata": {},
     "output_type": "display_data"
    },
    {
     "data": {
      "text/html": [
       "<script>require([\"d3\"], function(d3) {d3.select(\".usersvg #canvasLcz\").append(\"path\").attr(\"id\", \"pixel_arrowa7M\").attr(\"transform\", \"translate(2 6)\").attr(\"transform\", \"translate(6.5 2.5) rotate(-90)\").attr(\"d\", \"M0 0 L0 0.5 M -0.15 0.3 L0 0.5 L0.15 0.3\").attr(\"stroke-width\", \"0.1\").attr(\"stroke\", \"black\");});</script>"
      ]
     },
     "metadata": {},
     "output_type": "display_data"
    },
    {
     "data": {
      "text/html": [
       "<script>require([\"d3\"], function(d3) {d3.select(\".usersvg #canvasLcz\").append(\"path\").attr(\"id\", \"pixel_arrowhhK\").attr(\"transform\", \"translate(7 3)\").attr(\"transform\", \"translate(3.5 7.5) rotate(-180)\").attr(\"d\", \"M0 0 L0 0.5 M -0.15 0.3 L0 0.5 L0.15 0.3\").attr(\"stroke-width\", \"0.1\").attr(\"stroke\", \"black\");});</script>"
      ]
     },
     "metadata": {},
     "output_type": "display_data"
    },
    {
     "data": {
      "text/html": [
       "<script>require([\"d3\"], function(d3) {d3.select(\".usersvg #canvasLcz\").append(\"path\").attr(\"id\", \"pixel_arrowY4u\").attr(\"transform\", \"translate(8 2)\").attr(\"transform\", \"translate(2.5 8.5) rotate(-360)\").attr(\"d\", \"M0 0 L0 0.5 M -0.15 0.3 L0 0.5 L0.15 0.3\").attr(\"stroke-width\", \"0.1\").attr(\"stroke\", \"black\");});</script>"
      ]
     },
     "metadata": {},
     "output_type": "display_data"
    },
    {
     "data": {
      "text/html": [
       "<script>require([\"d3\"], function(d3) {d3.select(\".usersvg #canvasLcz\").append(\"path\").attr(\"id\", \"pixel_arrowqpg\").attr(\"transform\", \"translate(15 3)\").attr(\"transform\", \"translate(3.5 15.5) rotate(-90)\").attr(\"d\", \"M0 0 L0 0.5 M -0.15 0.3 L0 0.5 L0.15 0.3\").attr(\"stroke-width\", \"0.1\").attr(\"stroke\", \"black\");});</script>"
      ]
     },
     "metadata": {},
     "output_type": "display_data"
    },
    {
     "data": {
      "text/html": [
       "<script>require([\"d3\"], function(d3) {d3.select(\".usersvg #canvasLcz\").append(\"path\").attr(\"id\", \"pixel_arrowOlh\").attr(\"transform\", \"translate(5 6)\").attr(\"transform\", \"translate(6.5 5.5) rotate(-180)\").attr(\"d\", \"M0 0 L0 0.5 M -0.15 0.3 L0 0.5 L0.15 0.3\").attr(\"stroke-width\", \"0.1\").attr(\"stroke\", \"black\");});</script>"
      ]
     },
     "metadata": {},
     "output_type": "display_data"
    },
    {
     "data": {
      "text/html": [
       "<script>require([\"d3\"], function(d3) {d3.select(\".usersvg #canvasLcz\").append(\"path\").attr(\"id\", \"pixel_arrowDcD\").attr(\"transform\", \"translate(7 11)\").attr(\"transform\", \"translate(11.5 7.5) rotate(-90)\").attr(\"d\", \"M0 0 L0 0.5 M -0.15 0.3 L0 0.5 L0.15 0.3\").attr(\"stroke-width\", \"0.1\").attr(\"stroke\", \"black\");});</script>"
      ]
     },
     "metadata": {},
     "output_type": "display_data"
    },
    {
     "data": {
      "text/html": [
       "<script>require([\"d3\"], function(d3) {d3.select(\".usersvg #canvasLcz\").append(\"path\").attr(\"id\", \"pixel_arrowc4b\").attr(\"transform\", \"translate(9 5)\").attr(\"transform\", \"translate(5.5 9.5) rotate(-360)\").attr(\"d\", \"M0 0 L0 0.5 M -0.15 0.3 L0 0.5 L0.15 0.3\").attr(\"stroke-width\", \"0.1\").attr(\"stroke\", \"black\");});</script>"
      ]
     },
     "metadata": {},
     "output_type": "display_data"
    },
    {
     "data": {
      "text/html": [
       "<script>require([\"d3\"], function(d3) {d3.select(\".usersvg #canvasLcz\").append(\"path\").attr(\"id\", \"pixel_arrowCfp\").attr(\"transform\", \"translate(0 0)\").attr(\"transform\", \"translate(0.5 0.5) rotate(-270)\").attr(\"d\", \"M0 0 L0 0.5 M -0.15 0.3 L0 0.5 L0.15 0.3\").attr(\"stroke-width\", \"0.1\").attr(\"stroke\", \"black\");});</script>"
      ]
     },
     "metadata": {},
     "output_type": "display_data"
    },
    {
     "data": {
      "text/html": [
       "<script>require([\"d3\"], function(d3) {d3.select(\".usersvg #canvasLcz\").append(\"path\").attr(\"id\", \"pixel_arrowCxG\").attr(\"transform\", \"translate(4 12)\").attr(\"transform\", \"translate(12.5 4.5) rotate(-180)\").attr(\"d\", \"M0 0 L0 0.5 M -0.15 0.3 L0 0.5 L0.15 0.3\").attr(\"stroke-width\", \"0.1\").attr(\"stroke\", \"black\");});</script>"
      ]
     },
     "metadata": {},
     "output_type": "display_data"
    },
    {
     "data": {
      "text/html": [
       "<script>require([\"d3\"], function(d3) {d3.select(\".usersvg #canvasLcz\").append(\"path\").attr(\"id\", \"pixel_arrowoWK\").attr(\"transform\", \"translate(6 6)\").attr(\"transform\", \"translate(6.5 6.5) rotate(-270)\").attr(\"d\", \"M0 0 L0 0.5 M -0.15 0.3 L0 0.5 L0.15 0.3\").attr(\"stroke-width\", \"0.1\").attr(\"stroke\", \"black\");});</script>"
      ]
     },
     "metadata": {},
     "output_type": "display_data"
    },
    {
     "data": {
      "text/html": [
       "<script>require([\"d3\"], function(d3) {d3.select(\".usersvg #canvasLcz\").append(\"path\").attr(\"id\", \"pixel_arrowB3T\").attr(\"transform\", \"translate(4 13)\").attr(\"transform\", \"translate(13.5 4.5) rotate(-180)\").attr(\"d\", \"M0 0 L0 0.5 M -0.15 0.3 L0 0.5 L0.15 0.3\").attr(\"stroke-width\", \"0.1\").attr(\"stroke\", \"black\");});</script>"
      ]
     },
     "metadata": {},
     "output_type": "display_data"
    },
    {
     "data": {
      "text/html": [
       "<script>require([\"d3\"], function(d3) {d3.select(\".usersvg #canvasLcz\").append(\"path\").attr(\"id\", \"pixel_arrowZvm\").attr(\"transform\", \"translate(17 9)\").attr(\"transform\", \"translate(9.5 17.5) rotate(-180)\").attr(\"d\", \"M0 0 L0 0.5 M -0.15 0.3 L0 0.5 L0.15 0.3\").attr(\"stroke-width\", \"0.1\").attr(\"stroke\", \"black\");});</script>"
      ]
     },
     "metadata": {},
     "output_type": "display_data"
    },
    {
     "data": {
      "text/html": [
       "<script>require([\"d3\"], function(d3) {d3.select(\".usersvg #canvasLcz\").append(\"path\").attr(\"id\", \"pixel_arrowAje\").attr(\"transform\", \"translate(5 16)\").attr(\"transform\", \"translate(16.5 5.5) rotate(-180)\").attr(\"d\", \"M0 0 L0 0.5 M -0.15 0.3 L0 0.5 L0.15 0.3\").attr(\"stroke-width\", \"0.1\").attr(\"stroke\", \"black\");});</script>"
      ]
     },
     "metadata": {},
     "output_type": "display_data"
    },
    {
     "data": {
      "text/html": [
       "<script>require([\"d3\"], function(d3) {d3.select(\".usersvg #canvasLcz\").append(\"path\").attr(\"id\", \"pixel_arrowm2s\").attr(\"transform\", \"translate(17 12)\").attr(\"transform\", \"translate(12.5 17.5) rotate(-360)\").attr(\"d\", \"M0 0 L0 0.5 M -0.15 0.3 L0 0.5 L0.15 0.3\").attr(\"stroke-width\", \"0.1\").attr(\"stroke\", \"black\");});</script>"
      ]
     },
     "metadata": {},
     "output_type": "display_data"
    },
    {
     "data": {
      "text/html": [
       "<script>require([\"d3\"], function(d3) {d3.select(\".usersvg #canvasLcz\").append(\"path\").attr(\"id\", \"pixel_arrowYtm\").attr(\"transform\", \"translate(1 9)\").attr(\"transform\", \"translate(9.5 1.5) rotate(-90)\").attr(\"d\", \"M0 0 L0 0.5 M -0.15 0.3 L0 0.5 L0.15 0.3\").attr(\"stroke-width\", \"0.1\").attr(\"stroke\", \"black\");});</script>"
      ]
     },
     "metadata": {},
     "output_type": "display_data"
    },
    {
     "data": {
      "text/html": [
       "<script>require([\"d3\"], function(d3) {d3.select(\".usersvg #canvasLcz\").append(\"path\").attr(\"id\", \"pixel_arroweQK\").attr(\"transform\", \"translate(15 0)\").attr(\"transform\", \"translate(0.5 15.5) rotate(-180)\").attr(\"d\", \"M0 0 L0 0.5 M -0.15 0.3 L0 0.5 L0.15 0.3\").attr(\"stroke-width\", \"0.1\").attr(\"stroke\", \"black\");});</script>"
      ]
     },
     "metadata": {},
     "output_type": "display_data"
    },
    {
     "data": {
      "text/html": [
       "<script>require([\"d3\"], function(d3) {d3.select(\".usersvg #canvasLcz\").append(\"path\").attr(\"id\", \"pixel_arroweNc\").attr(\"transform\", \"translate(0 8)\").attr(\"transform\", \"translate(8.5 0.5) rotate(-180)\").attr(\"d\", \"M0 0 L0 0.5 M -0.15 0.3 L0 0.5 L0.15 0.3\").attr(\"stroke-width\", \"0.1\").attr(\"stroke\", \"black\");});</script>"
      ]
     },
     "metadata": {},
     "output_type": "display_data"
    },
    {
     "data": {
      "text/html": [
       "<script>require([\"d3\"], function(d3) {d3.select(\".usersvg #canvasLcz\").append(\"path\").attr(\"id\", \"pixel_arrowT9G\").attr(\"transform\", \"translate(7 10)\").attr(\"transform\", \"translate(10.5 7.5) rotate(-90)\").attr(\"d\", \"M0 0 L0 0.5 M -0.15 0.3 L0 0.5 L0.15 0.3\").attr(\"stroke-width\", \"0.1\").attr(\"stroke\", \"black\");});</script>"
      ]
     },
     "metadata": {},
     "output_type": "display_data"
    },
    {
     "data": {
      "text/html": [
       "<script>require([\"d3\"], function(d3) {d3.select(\".usersvg #canvasLcz\").append(\"path\").attr(\"id\", \"pixel_arrowG3B\").attr(\"transform\", \"translate(17 7)\").attr(\"transform\", \"translate(7.5 17.5) rotate(-270)\").attr(\"d\", \"M0 0 L0 0.5 M -0.15 0.3 L0 0.5 L0.15 0.3\").attr(\"stroke-width\", \"0.1\").attr(\"stroke\", \"black\");});</script>"
      ]
     },
     "metadata": {},
     "output_type": "display_data"
    },
    {
     "data": {
      "text/html": [
       "<script>require([\"d3\"], function(d3) {d3.select(\".usersvg #canvasLcz\").append(\"path\").attr(\"id\", \"pixel_arrow7Xk\").attr(\"transform\", \"translate(16 7)\").attr(\"transform\", \"translate(7.5 16.5) rotate(-360)\").attr(\"d\", \"M0 0 L0 0.5 M -0.15 0.3 L0 0.5 L0.15 0.3\").attr(\"stroke-width\", \"0.1\").attr(\"stroke\", \"black\");});</script>"
      ]
     },
     "metadata": {},
     "output_type": "display_data"
    },
    {
     "data": {
      "text/html": [
       "<script>require([\"d3\"], function(d3) {d3.select(\".usersvg #canvasLcz\").append(\"path\").attr(\"id\", \"pixel_arrowVbP\").attr(\"transform\", \"translate(4 6)\").attr(\"transform\", \"translate(6.5 4.5) rotate(-360)\").attr(\"d\", \"M0 0 L0 0.5 M -0.15 0.3 L0 0.5 L0.15 0.3\").attr(\"stroke-width\", \"0.1\").attr(\"stroke\", \"black\");});</script>"
      ]
     },
     "metadata": {},
     "output_type": "display_data"
    },
    {
     "data": {
      "text/html": [
       "<script>require([\"d3\"], function(d3) {d3.select(\".usersvg #canvasLcz\").append(\"path\").attr(\"id\", \"pixel_arrowLPy\").attr(\"transform\", \"translate(12 2)\").attr(\"transform\", \"translate(2.5 12.5) rotate(-360)\").attr(\"d\", \"M0 0 L0 0.5 M -0.15 0.3 L0 0.5 L0.15 0.3\").attr(\"stroke-width\", \"0.1\").attr(\"stroke\", \"black\");});</script>"
      ]
     },
     "metadata": {},
     "output_type": "display_data"
    },
    {
     "data": {
      "text/html": [
       "<script>require([\"d3\"], function(d3) {d3.select(\".usersvg #canvasLcz\").append(\"path\").attr(\"id\", \"pixel_arrowwkR\").attr(\"transform\", \"translate(14 8)\").attr(\"transform\", \"translate(8.5 14.5) rotate(-180)\").attr(\"d\", \"M0 0 L0 0.5 M -0.15 0.3 L0 0.5 L0.15 0.3\").attr(\"stroke-width\", \"0.1\").attr(\"stroke\", \"black\");});</script>"
      ]
     },
     "metadata": {},
     "output_type": "display_data"
    },
    {
     "data": {
      "text/html": [
       "<script>require([\"d3\"], function(d3) {d3.select(\".usersvg #canvasLcz\").append(\"path\").attr(\"id\", \"pixel_arrowT87\").attr(\"transform\", \"translate(10 3)\").attr(\"transform\", \"translate(3.5 10.5) rotate(-90)\").attr(\"d\", \"M0 0 L0 0.5 M -0.15 0.3 L0 0.5 L0.15 0.3\").attr(\"stroke-width\", \"0.1\").attr(\"stroke\", \"black\");});</script>"
      ]
     },
     "metadata": {},
     "output_type": "display_data"
    },
    {
     "data": {
      "text/html": [
       "<script>require([\"d3\"], function(d3) {d3.select(\".usersvg #canvasLcz\").append(\"path\").attr(\"id\", \"pixel_arrowylV\").attr(\"transform\", \"translate(5 10)\").attr(\"transform\", \"translate(10.5 5.5) rotate(-270)\").attr(\"d\", \"M0 0 L0 0.5 M -0.15 0.3 L0 0.5 L0.15 0.3\").attr(\"stroke-width\", \"0.1\").attr(\"stroke\", \"black\");});</script>"
      ]
     },
     "metadata": {},
     "output_type": "display_data"
    },
    {
     "data": {
      "text/html": [
       "<script>require([\"d3\"], function(d3) {d3.select(\".usersvg #canvasLcz\").append(\"path\").attr(\"id\", \"pixel_arrowhcK\").attr(\"transform\", \"translate(10 1)\").attr(\"transform\", \"translate(1.5 10.5) rotate(-180)\").attr(\"d\", \"M0 0 L0 0.5 M -0.15 0.3 L0 0.5 L0.15 0.3\").attr(\"stroke-width\", \"0.1\").attr(\"stroke\", \"black\");});</script>"
      ]
     },
     "metadata": {},
     "output_type": "display_data"
    },
    {
     "data": {
      "text/html": [
       "<script>require([\"d3\"], function(d3) {d3.select(\".usersvg #canvasLcz\").append(\"path\").attr(\"id\", \"pixel_arrowrxF\").attr(\"transform\", \"translate(16 10)\").attr(\"transform\", \"translate(10.5 16.5) rotate(-180)\").attr(\"d\", \"M0 0 L0 0.5 M -0.15 0.3 L0 0.5 L0.15 0.3\").attr(\"stroke-width\", \"0.1\").attr(\"stroke\", \"black\");});</script>"
      ]
     },
     "metadata": {},
     "output_type": "display_data"
    },
    {
     "data": {
      "text/html": [
       "<script>require([\"d3\"], function(d3) {d3.select(\".usersvg #canvasLcz\").append(\"path\").attr(\"id\", \"pixel_arrowd2J\").attr(\"transform\", \"translate(15 15)\").attr(\"transform\", \"translate(15.5 15.5) rotate(-180)\").attr(\"d\", \"M0 0 L0 0.5 M -0.15 0.3 L0 0.5 L0.15 0.3\").attr(\"stroke-width\", \"0.1\").attr(\"stroke\", \"black\");});</script>"
      ]
     },
     "metadata": {},
     "output_type": "display_data"
    },
    {
     "data": {
      "text/html": [
       "<script>require([\"d3\"], function(d3) {d3.select(\".usersvg #canvasLcz\").append(\"path\").attr(\"id\", \"pixel_arrow6wW\").attr(\"transform\", \"translate(14 3)\").attr(\"transform\", \"translate(3.5 14.5) rotate(-90)\").attr(\"d\", \"M0 0 L0 0.5 M -0.15 0.3 L0 0.5 L0.15 0.3\").attr(\"stroke-width\", \"0.1\").attr(\"stroke\", \"black\");});</script>"
      ]
     },
     "metadata": {},
     "output_type": "display_data"
    },
    {
     "data": {
      "text/html": [
       "<script>require([\"d3\"], function(d3) {d3.select(\".usersvg #canvasLcz\").append(\"path\").attr(\"id\", \"pixel_arrow7FC\").attr(\"transform\", \"translate(5 4)\").attr(\"transform\", \"translate(4.5 5.5) rotate(-90)\").attr(\"d\", \"M0 0 L0 0.5 M -0.15 0.3 L0 0.5 L0.15 0.3\").attr(\"stroke-width\", \"0.1\").attr(\"stroke\", \"black\");});</script>"
      ]
     },
     "metadata": {},
     "output_type": "display_data"
    },
    {
     "data": {
      "text/html": [
       "<script>require([\"d3\"], function(d3) {d3.select(\".usersvg #canvasLcz\").append(\"path\").attr(\"id\", \"pixel_arrowrgB\").attr(\"transform\", \"translate(15 7)\").attr(\"transform\", \"translate(7.5 15.5) rotate(-360)\").attr(\"d\", \"M0 0 L0 0.5 M -0.15 0.3 L0 0.5 L0.15 0.3\").attr(\"stroke-width\", \"0.1\").attr(\"stroke\", \"black\");});</script>"
      ]
     },
     "metadata": {},
     "output_type": "display_data"
    },
    {
     "data": {
      "text/html": [
       "<script>require([\"d3\"], function(d3) {d3.select(\".usersvg #canvasLcz\").append(\"path\").attr(\"id\", \"pixel_arrowSux\").attr(\"transform\", \"translate(3 9)\").attr(\"transform\", \"translate(9.5 3.5) rotate(-180)\").attr(\"d\", \"M0 0 L0 0.5 M -0.15 0.3 L0 0.5 L0.15 0.3\").attr(\"stroke-width\", \"0.1\").attr(\"stroke\", \"black\");});</script>"
      ]
     },
     "metadata": {},
     "output_type": "display_data"
    },
    {
     "data": {
      "text/html": [
       "<script>require([\"d3\"], function(d3) {d3.select(\".usersvg #canvasLcz\").append(\"path\").attr(\"id\", \"pixel_arrow627\").attr(\"transform\", \"translate(13 1)\").attr(\"transform\", \"translate(1.5 13.5) rotate(-360)\").attr(\"d\", \"M0 0 L0 0.5 M -0.15 0.3 L0 0.5 L0.15 0.3\").attr(\"stroke-width\", \"0.1\").attr(\"stroke\", \"black\");});</script>"
      ]
     },
     "metadata": {},
     "output_type": "display_data"
    },
    {
     "data": {
      "text/html": [
       "<script>require([\"d3\"], function(d3) {d3.select(\".usersvg #canvasLcz\").append(\"path\").attr(\"id\", \"pixel_arrowggr\").attr(\"transform\", \"translate(17 14)\").attr(\"transform\", \"translate(14.5 17.5) rotate(-180)\").attr(\"d\", \"M0 0 L0 0.5 M -0.15 0.3 L0 0.5 L0.15 0.3\").attr(\"stroke-width\", \"0.1\").attr(\"stroke\", \"black\");});</script>"
      ]
     },
     "metadata": {},
     "output_type": "display_data"
    },
    {
     "data": {
      "text/html": [
       "<script>require([\"d3\"], function(d3) {d3.select(\".usersvg #canvasLcz\").append(\"path\").attr(\"id\", \"pixel_arrowjCT\").attr(\"transform\", \"translate(9 4)\").attr(\"transform\", \"translate(4.5 9.5) rotate(-360)\").attr(\"d\", \"M0 0 L0 0.5 M -0.15 0.3 L0 0.5 L0.15 0.3\").attr(\"stroke-width\", \"0.1\").attr(\"stroke\", \"black\");});</script>"
      ]
     },
     "metadata": {},
     "output_type": "display_data"
    },
    {
     "data": {
      "text/html": [
       "<script>require([\"d3\"], function(d3) {d3.select(\".usersvg #canvasLcz\").append(\"path\").attr(\"id\", \"pixel_arrowMp7\").attr(\"transform\", \"translate(10 12)\").attr(\"transform\", \"translate(12.5 10.5) rotate(-360)\").attr(\"d\", \"M0 0 L0 0.5 M -0.15 0.3 L0 0.5 L0.15 0.3\").attr(\"stroke-width\", \"0.1\").attr(\"stroke\", \"black\");});</script>"
      ]
     },
     "metadata": {},
     "output_type": "display_data"
    },
    {
     "data": {
      "text/html": [
       "<script>require([\"d3\"], function(d3) {d3.select(\".usersvg #canvasLcz\").append(\"path\").attr(\"id\", \"pixel_arrow1Bm\").attr(\"transform\", \"translate(3 3)\").attr(\"transform\", \"translate(3.5 3.5) rotate(-90)\").attr(\"d\", \"M0 0 L0 0.5 M -0.15 0.3 L0 0.5 L0.15 0.3\").attr(\"stroke-width\", \"0.1\").attr(\"stroke\", \"black\");});</script>"
      ]
     },
     "metadata": {},
     "output_type": "display_data"
    },
    {
     "data": {
      "text/html": [
       "<script>require([\"d3\"], function(d3) {d3.select(\".usersvg #canvasLcz\").append(\"path\").attr(\"id\", \"pixel_arrowz9w\").attr(\"transform\", \"translate(3 16)\").attr(\"transform\", \"translate(16.5 3.5) rotate(-180)\").attr(\"d\", \"M0 0 L0 0.5 M -0.15 0.3 L0 0.5 L0.15 0.3\").attr(\"stroke-width\", \"0.1\").attr(\"stroke\", \"black\");});</script>"
      ]
     },
     "metadata": {},
     "output_type": "display_data"
    },
    {
     "data": {
      "text/html": [
       "<script>require([\"d3\"], function(d3) {d3.select(\".usersvg #canvasLcz\").append(\"path\").attr(\"id\", \"pixel_arrowwjm\").attr(\"transform\", \"translate(10 13)\").attr(\"transform\", \"translate(13.5 10.5) rotate(-270)\").attr(\"d\", \"M0 0 L0 0.5 M -0.15 0.3 L0 0.5 L0.15 0.3\").attr(\"stroke-width\", \"0.1\").attr(\"stroke\", \"black\");});</script>"
      ]
     },
     "metadata": {},
     "output_type": "display_data"
    },
    {
     "data": {
      "text/html": [
       "<script>require([\"d3\"], function(d3) {d3.select(\".usersvg #canvasLcz\").append(\"path\").attr(\"id\", \"pixel_arrowbYN\").attr(\"transform\", \"translate(11 0)\").attr(\"transform\", \"translate(0.5 11.5) rotate(-270)\").attr(\"d\", \"M0 0 L0 0.5 M -0.15 0.3 L0 0.5 L0.15 0.3\").attr(\"stroke-width\", \"0.1\").attr(\"stroke\", \"black\");});</script>"
      ]
     },
     "metadata": {},
     "output_type": "display_data"
    },
    {
     "data": {
      "text/html": [
       "<script>require([\"d3\"], function(d3) {d3.select(\".usersvg #canvasLcz\").append(\"path\").attr(\"id\", \"pixel_arrowc9X\").attr(\"transform\", \"translate(10 4)\").attr(\"transform\", \"translate(4.5 10.5) rotate(-90)\").attr(\"d\", \"M0 0 L0 0.5 M -0.15 0.3 L0 0.5 L0.15 0.3\").attr(\"stroke-width\", \"0.1\").attr(\"stroke\", \"black\");});</script>"
      ]
     },
     "metadata": {},
     "output_type": "display_data"
    },
    {
     "data": {
      "text/html": [
       "<script>require([\"d3\"], function(d3) {d3.select(\".usersvg #canvasLcz\").append(\"path\").attr(\"id\", \"pixel_arrowek8\").attr(\"transform\", \"translate(17 1)\").attr(\"transform\", \"translate(1.5 17.5) rotate(-180)\").attr(\"d\", \"M0 0 L0 0.5 M -0.15 0.3 L0 0.5 L0.15 0.3\").attr(\"stroke-width\", \"0.1\").attr(\"stroke\", \"black\");});</script>"
      ]
     },
     "metadata": {},
     "output_type": "display_data"
    },
    {
     "data": {
      "text/html": [
       "<script>require([\"d3\"], function(d3) {d3.select(\".usersvg #canvasLcz\").append(\"path\").attr(\"id\", \"pixel_arrowQ5T\").attr(\"transform\", \"translate(5 0)\").attr(\"transform\", \"translate(0.5 5.5) rotate(-90)\").attr(\"d\", \"M0 0 L0 0.5 M -0.15 0.3 L0 0.5 L0.15 0.3\").attr(\"stroke-width\", \"0.1\").attr(\"stroke\", \"black\");});</script>"
      ]
     },
     "metadata": {},
     "output_type": "display_data"
    },
    {
     "data": {
      "text/html": [
       "<script>require([\"d3\"], function(d3) {d3.select(\".usersvg #canvasLcz\").append(\"path\").attr(\"id\", \"pixel_arrowWRE\").attr(\"transform\", \"translate(3 5)\").attr(\"transform\", \"translate(5.5 3.5) rotate(-180)\").attr(\"d\", \"M0 0 L0 0.5 M -0.15 0.3 L0 0.5 L0.15 0.3\").attr(\"stroke-width\", \"0.1\").attr(\"stroke\", \"black\");});</script>"
      ]
     },
     "metadata": {},
     "output_type": "display_data"
    },
    {
     "data": {
      "text/html": [
       "<script>require([\"d3\"], function(d3) {d3.select(\".usersvg #canvasLcz\").append(\"path\").attr(\"id\", \"pixel_arrowxDb\").attr(\"transform\", \"translate(17 13)\").attr(\"transform\", \"translate(13.5 17.5) rotate(-270)\").attr(\"d\", \"M0 0 L0 0.5 M -0.15 0.3 L0 0.5 L0.15 0.3\").attr(\"stroke-width\", \"0.1\").attr(\"stroke\", \"black\");});</script>"
      ]
     },
     "metadata": {},
     "output_type": "display_data"
    },
    {
     "data": {
      "text/html": [
       "<script>require([\"d3\"], function(d3) {d3.select(\".usersvg #canvasLcz\").append(\"path\").attr(\"id\", \"pixel_arrowtbC\").attr(\"transform\", \"translate(14 15)\").attr(\"transform\", \"translate(15.5 14.5) rotate(-180)\").attr(\"d\", \"M0 0 L0 0.5 M -0.15 0.3 L0 0.5 L0.15 0.3\").attr(\"stroke-width\", \"0.1\").attr(\"stroke\", \"black\");});</script>"
      ]
     },
     "metadata": {},
     "output_type": "display_data"
    },
    {
     "data": {
      "text/html": [
       "<script>require([\"d3\"], function(d3) {d3.select(\".usersvg #canvasLcz\").append(\"path\").attr(\"id\", \"pixel_arrowkmu\").attr(\"transform\", \"translate(16 5)\").attr(\"transform\", \"translate(5.5 16.5) rotate(-270)\").attr(\"d\", \"M0 0 L0 0.5 M -0.15 0.3 L0 0.5 L0.15 0.3\").attr(\"stroke-width\", \"0.1\").attr(\"stroke\", \"black\");});</script>"
      ]
     },
     "metadata": {},
     "output_type": "display_data"
    },
    {
     "data": {
      "text/html": [
       "<script>require([\"d3\"], function(d3) {d3.select(\".usersvg #canvasLcz\").append(\"path\").attr(\"id\", \"pixel_arrowVlt\").attr(\"transform\", \"translate(1 4)\").attr(\"transform\", \"translate(4.5 1.5) rotate(-90)\").attr(\"d\", \"M0 0 L0 0.5 M -0.15 0.3 L0 0.5 L0.15 0.3\").attr(\"stroke-width\", \"0.1\").attr(\"stroke\", \"black\");});</script>"
      ]
     },
     "metadata": {},
     "output_type": "display_data"
    },
    {
     "data": {
      "text/html": [
       "<script>require([\"d3\"], function(d3) {d3.select(\".usersvg #canvasLcz\").append(\"path\").attr(\"id\", \"pixel_arrowtbV\").attr(\"transform\", \"translate(15 12)\").attr(\"transform\", \"translate(12.5 15.5) rotate(-270)\").attr(\"d\", \"M0 0 L0 0.5 M -0.15 0.3 L0 0.5 L0.15 0.3\").attr(\"stroke-width\", \"0.1\").attr(\"stroke\", \"black\");});</script>"
      ]
     },
     "metadata": {},
     "output_type": "display_data"
    },
    {
     "data": {
      "text/html": [
       "<script>require([\"d3\"], function(d3) {d3.select(\".usersvg #canvasLcz\").append(\"path\").attr(\"id\", \"pixel_arrow2xg\").attr(\"transform\", \"translate(13 9)\").attr(\"transform\", \"translate(9.5 13.5) rotate(-270)\").attr(\"d\", \"M0 0 L0 0.5 M -0.15 0.3 L0 0.5 L0.15 0.3\").attr(\"stroke-width\", \"0.1\").attr(\"stroke\", \"black\");});</script>"
      ]
     },
     "metadata": {},
     "output_type": "display_data"
    },
    {
     "data": {
      "text/html": [
       "<script>require([\"d3\"], function(d3) {d3.select(\".usersvg #canvasLcz\").append(\"path\").attr(\"id\", \"pixel_arrowmg5\").attr(\"transform\", \"translate(4 1)\").attr(\"transform\", \"translate(1.5 4.5) rotate(-270)\").attr(\"d\", \"M0 0 L0 0.5 M -0.15 0.3 L0 0.5 L0.15 0.3\").attr(\"stroke-width\", \"0.1\").attr(\"stroke\", \"black\");});</script>"
      ]
     },
     "metadata": {},
     "output_type": "display_data"
    },
    {
     "data": {
      "text/html": [
       "<script>require([\"d3\"], function(d3) {d3.select(\".usersvg #canvasLcz\").append(\"path\").attr(\"id\", \"pixel_arrowKER\").attr(\"transform\", \"translate(15 9)\").attr(\"transform\", \"translate(9.5 15.5) rotate(-270)\").attr(\"d\", \"M0 0 L0 0.5 M -0.15 0.3 L0 0.5 L0.15 0.3\").attr(\"stroke-width\", \"0.1\").attr(\"stroke\", \"black\");});</script>"
      ]
     },
     "metadata": {},
     "output_type": "display_data"
    },
    {
     "data": {
      "text/html": [
       "<script>require([\"d3\"], function(d3) {d3.select(\".usersvg #canvasLcz\").append(\"path\").attr(\"id\", \"pixel_arrowP76\").attr(\"transform\", \"translate(6 11)\").attr(\"transform\", \"translate(11.5 6.5) rotate(-90)\").attr(\"d\", \"M0 0 L0 0.5 M -0.15 0.3 L0 0.5 L0.15 0.3\").attr(\"stroke-width\", \"0.1\").attr(\"stroke\", \"black\");});</script>"
      ]
     },
     "metadata": {},
     "output_type": "display_data"
    },
    {
     "data": {
      "text/html": [
       "<script>require([\"d3\"], function(d3) {d3.select(\".usersvg #canvasLcz\").append(\"path\").attr(\"id\", \"pixel_arrow2d4\").attr(\"transform\", \"translate(1 13)\").attr(\"transform\", \"translate(13.5 1.5) rotate(-180)\").attr(\"d\", \"M0 0 L0 0.5 M -0.15 0.3 L0 0.5 L0.15 0.3\").attr(\"stroke-width\", \"0.1\").attr(\"stroke\", \"black\");});</script>"
      ]
     },
     "metadata": {},
     "output_type": "display_data"
    },
    {
     "data": {
      "text/html": [
       "<script>require([\"d3\"], function(d3) {d3.select(\".usersvg #canvasLcz\").append(\"path\").attr(\"id\", \"pixel_arrowoWj\").attr(\"transform\", \"translate(8 14)\").attr(\"transform\", \"translate(14.5 8.5) rotate(-180)\").attr(\"d\", \"M0 0 L0 0.5 M -0.15 0.3 L0 0.5 L0.15 0.3\").attr(\"stroke-width\", \"0.1\").attr(\"stroke\", \"black\");});</script>"
      ]
     },
     "metadata": {},
     "output_type": "display_data"
    },
    {
     "data": {
      "text/html": [
       "<script>require([\"d3\"], function(d3) {d3.select(\".usersvg #canvasLcz\").append(\"path\").attr(\"id\", \"pixel_arrow5EG\").attr(\"transform\", \"translate(16 1)\").attr(\"transform\", \"translate(1.5 16.5) rotate(-270)\").attr(\"d\", \"M0 0 L0 0.5 M -0.15 0.3 L0 0.5 L0.15 0.3\").attr(\"stroke-width\", \"0.1\").attr(\"stroke\", \"black\");});</script>"
      ]
     },
     "metadata": {},
     "output_type": "display_data"
    },
    {
     "data": {
      "text/html": [
       "<script>require([\"d3\"], function(d3) {d3.select(\".usersvg #canvasLcz\").append(\"path\").attr(\"id\", \"pixel_arrowoq9\").attr(\"transform\", \"translate(4 4)\").attr(\"transform\", \"translate(4.5 4.5) rotate(-180)\").attr(\"d\", \"M0 0 L0 0.5 M -0.15 0.3 L0 0.5 L0.15 0.3\").attr(\"stroke-width\", \"0.1\").attr(\"stroke\", \"black\");});</script>"
      ]
     },
     "metadata": {},
     "output_type": "display_data"
    },
    {
     "data": {
      "text/html": [
       "<script>require([\"d3\"], function(d3) {d3.select(\".usersvg #canvasLcz\").append(\"path\").attr(\"id\", \"pixel_arrowocZ\").attr(\"transform\", \"translate(7 12)\").attr(\"transform\", \"translate(12.5 7.5) rotate(-90)\").attr(\"d\", \"M0 0 L0 0.5 M -0.15 0.3 L0 0.5 L0.15 0.3\").attr(\"stroke-width\", \"0.1\").attr(\"stroke\", \"black\");});</script>"
      ]
     },
     "metadata": {},
     "output_type": "display_data"
    },
    {
     "data": {
      "text/html": [
       "<script>require([\"d3\"], function(d3) {d3.select(\".usersvg #canvasLcz\").append(\"path\").attr(\"id\", \"pixel_arrowhrU\").attr(\"transform\", \"translate(2 13)\").attr(\"transform\", \"translate(13.5 2.5) rotate(-180)\").attr(\"d\", \"M0 0 L0 0.5 M -0.15 0.3 L0 0.5 L0.15 0.3\").attr(\"stroke-width\", \"0.1\").attr(\"stroke\", \"black\");});</script>"
      ]
     },
     "metadata": {},
     "output_type": "display_data"
    },
    {
     "data": {
      "text/html": [
       "<script>require([\"d3\"], function(d3) {d3.select(\".usersvg #canvasLcz\").append(\"path\").attr(\"id\", \"pixel_arrowSMU\").attr(\"transform\", \"translate(8 10)\").attr(\"transform\", \"translate(10.5 8.5) rotate(-90)\").attr(\"d\", \"M0 0 L0 0.5 M -0.15 0.3 L0 0.5 L0.15 0.3\").attr(\"stroke-width\", \"0.1\").attr(\"stroke\", \"black\");});</script>"
      ]
     },
     "metadata": {},
     "output_type": "display_data"
    },
    {
     "data": {
      "text/html": [
       "<script>require([\"d3\"], function(d3) {d3.select(\".usersvg #canvasLcz\").append(\"path\").attr(\"id\", \"pixel_arrowh71\").attr(\"transform\", \"translate(0 15)\").attr(\"transform\", \"translate(15.5 0.5) rotate(-270)\").attr(\"d\", \"M0 0 L0 0.5 M -0.15 0.3 L0 0.5 L0.15 0.3\").attr(\"stroke-width\", \"0.1\").attr(\"stroke\", \"black\");});</script>"
      ]
     },
     "metadata": {},
     "output_type": "display_data"
    },
    {
     "data": {
      "text/html": [
       "<script>require([\"d3\"], function(d3) {d3.select(\".usersvg #canvasLcz\").append(\"path\").attr(\"id\", \"pixel_arrowrFa\").attr(\"transform\", \"translate(12 3)\").attr(\"transform\", \"translate(3.5 12.5) rotate(-90)\").attr(\"d\", \"M0 0 L0 0.5 M -0.15 0.3 L0 0.5 L0.15 0.3\").attr(\"stroke-width\", \"0.1\").attr(\"stroke\", \"black\");});</script>"
      ]
     },
     "metadata": {},
     "output_type": "display_data"
    },
    {
     "data": {
      "text/html": [
       "<script>require([\"d3\"], function(d3) {d3.select(\".usersvg #canvasLcz\").append(\"path\").attr(\"id\", \"pixel_arrowBwD\").attr(\"transform\", \"translate(9 1)\").attr(\"transform\", \"translate(1.5 9.5) rotate(-180)\").attr(\"d\", \"M0 0 L0 0.5 M -0.15 0.3 L0 0.5 L0.15 0.3\").attr(\"stroke-width\", \"0.1\").attr(\"stroke\", \"black\");});</script>"
      ]
     },
     "metadata": {},
     "output_type": "display_data"
    },
    {
     "data": {
      "text/html": [
       "<script>require([\"d3\"], function(d3) {d3.select(\".usersvg #canvasLcz\").append(\"path\").attr(\"id\", \"pixel_arrowBLj\").attr(\"transform\", \"translate(14 7)\").attr(\"transform\", \"translate(7.5 14.5) rotate(-90)\").attr(\"d\", \"M0 0 L0 0.5 M -0.15 0.3 L0 0.5 L0.15 0.3\").attr(\"stroke-width\", \"0.1\").attr(\"stroke\", \"black\");});</script>"
      ]
     },
     "metadata": {},
     "output_type": "display_data"
    },
    {
     "data": {
      "text/html": [
       "<script>require([\"d3\"], function(d3) {d3.select(\".usersvg #canvasLcz\").append(\"path\").attr(\"id\", \"pixel_arrowSaM\").attr(\"transform\", \"translate(15 8)\").attr(\"transform\", \"translate(8.5 15.5) rotate(-90)\").attr(\"d\", \"M0 0 L0 0.5 M -0.15 0.3 L0 0.5 L0.15 0.3\").attr(\"stroke-width\", \"0.1\").attr(\"stroke\", \"black\");});</script>"
      ]
     },
     "metadata": {},
     "output_type": "display_data"
    },
    {
     "data": {
      "text/html": [
       "<script>require([\"d3\"], function(d3) {d3.select(\".usersvg #canvasLcz\").append(\"path\").attr(\"id\", \"pixel_arrow2XG\").attr(\"transform\", \"translate(1 16)\").attr(\"transform\", \"translate(16.5 1.5) rotate(-270)\").attr(\"d\", \"M0 0 L0 0.5 M -0.15 0.3 L0 0.5 L0.15 0.3\").attr(\"stroke-width\", \"0.1\").attr(\"stroke\", \"black\");});</script>"
      ]
     },
     "metadata": {},
     "output_type": "display_data"
    },
    {
     "data": {
      "text/html": [
       "<script>require([\"d3\"], function(d3) {d3.select(\".usersvg #canvasLcz\").append(\"path\").attr(\"id\", \"pixel_arrowAap\").attr(\"transform\", \"translate(2 0)\").attr(\"transform\", \"translate(0.5 2.5) rotate(-90)\").attr(\"d\", \"M0 0 L0 0.5 M -0.15 0.3 L0 0.5 L0.15 0.3\").attr(\"stroke-width\", \"0.1\").attr(\"stroke\", \"black\");});</script>"
      ]
     },
     "metadata": {},
     "output_type": "display_data"
    },
    {
     "data": {
      "text/html": [
       "<script>require([\"d3\"], function(d3) {d3.select(\".usersvg #canvasLcz\").append(\"path\").attr(\"id\", \"pixel_arrow9bh\").attr(\"transform\", \"translate(8 6)\").attr(\"transform\", \"translate(6.5 8.5) rotate(-360)\").attr(\"d\", \"M0 0 L0 0.5 M -0.15 0.3 L0 0.5 L0.15 0.3\").attr(\"stroke-width\", \"0.1\").attr(\"stroke\", \"black\");});</script>"
      ]
     },
     "metadata": {},
     "output_type": "display_data"
    },
    {
     "data": {
      "text/html": [
       "<script>require([\"d3\"], function(d3) {d3.select(\".usersvg #canvasLcz\").append(\"path\").attr(\"id\", \"pixel_arrowQbG\").attr(\"transform\", \"translate(6 12)\").attr(\"transform\", \"translate(12.5 6.5) rotate(-90)\").attr(\"d\", \"M0 0 L0 0.5 M -0.15 0.3 L0 0.5 L0.15 0.3\").attr(\"stroke-width\", \"0.1\").attr(\"stroke\", \"black\");});</script>"
      ]
     },
     "metadata": {},
     "output_type": "display_data"
    },
    {
     "data": {
      "text/html": [
       "<script>require([\"d3\"], function(d3) {d3.select(\".usersvg #canvasLcz\").append(\"path\").attr(\"id\", \"pixel_arrow2mI\").attr(\"transform\", \"translate(14 11)\").attr(\"transform\", \"translate(11.5 14.5) rotate(-180)\").attr(\"d\", \"M0 0 L0 0.5 M -0.15 0.3 L0 0.5 L0.15 0.3\").attr(\"stroke-width\", \"0.1\").attr(\"stroke\", \"black\");});</script>"
      ]
     },
     "metadata": {},
     "output_type": "display_data"
    },
    {
     "data": {
      "text/html": [
       "<script>require([\"d3\"], function(d3) {d3.select(\".usersvg #canvasLcz\").append(\"path\").attr(\"id\", \"pixel_arrowPYn\").attr(\"transform\", \"translate(1 1)\").attr(\"transform\", \"translate(1.5 1.5) rotate(-180)\").attr(\"d\", \"M0 0 L0 0.5 M -0.15 0.3 L0 0.5 L0.15 0.3\").attr(\"stroke-width\", \"0.1\").attr(\"stroke\", \"black\");});</script>"
      ]
     },
     "metadata": {},
     "output_type": "display_data"
    },
    {
     "data": {
      "text/html": [
       "<script>require([\"d3\"], function(d3) {d3.select(\".usersvg #canvasLcz\").append(\"path\").attr(\"id\", \"pixel_arrowGen\").attr(\"transform\", \"translate(14 5)\").attr(\"transform\", \"translate(5.5 14.5) rotate(-180)\").attr(\"d\", \"M0 0 L0 0.5 M -0.15 0.3 L0 0.5 L0.15 0.3\").attr(\"stroke-width\", \"0.1\").attr(\"stroke\", \"black\");});</script>"
      ]
     },
     "metadata": {},
     "output_type": "display_data"
    },
    {
     "data": {
      "text/html": [
       "<script>require([\"d3\"], function(d3) {d3.select(\".usersvg #canvasLcz\").append(\"path\").attr(\"id\", \"pixel_arrowAvn\").attr(\"transform\", \"translate(14 14)\").attr(\"transform\", \"translate(14.5 14.5) rotate(-180)\").attr(\"d\", \"M0 0 L0 0.5 M -0.15 0.3 L0 0.5 L0.15 0.3\").attr(\"stroke-width\", \"0.1\").attr(\"stroke\", \"black\");});</script>"
      ]
     },
     "metadata": {},
     "output_type": "display_data"
    },
    {
     "data": {
      "text/html": [
       "<script>require([\"d3\"], function(d3) {d3.select(\".usersvg #canvasLcz\").append(\"path\").attr(\"id\", \"pixel_arrowsON\").attr(\"transform\", \"translate(8 3)\").attr(\"transform\", \"translate(3.5 8.5) rotate(-270)\").attr(\"d\", \"M0 0 L0 0.5 M -0.15 0.3 L0 0.5 L0.15 0.3\").attr(\"stroke-width\", \"0.1\").attr(\"stroke\", \"black\");});</script>"
      ]
     },
     "metadata": {},
     "output_type": "display_data"
    },
    {
     "data": {
      "text/html": [
       "<script>require([\"d3\"], function(d3) {d3.select(\".usersvg #canvasLcz\").append(\"path\").attr(\"id\", \"pixel_arrowRIo\").attr(\"transform\", \"translate(1 15)\").attr(\"transform\", \"translate(15.5 1.5) rotate(-270)\").attr(\"d\", \"M0 0 L0 0.5 M -0.15 0.3 L0 0.5 L0.15 0.3\").attr(\"stroke-width\", \"0.1\").attr(\"stroke\", \"black\");});</script>"
      ]
     },
     "metadata": {},
     "output_type": "display_data"
    },
    {
     "data": {
      "text/html": [
       "<script>require([\"d3\"], function(d3) {d3.select(\".usersvg #canvasLcz\").append(\"path\").attr(\"id\", \"pixel_arrowyFI\").attr(\"transform\", \"translate(8 0)\").attr(\"transform\", \"translate(0.5 8.5) rotate(-180)\").attr(\"d\", \"M0 0 L0 0.5 M -0.15 0.3 L0 0.5 L0.15 0.3\").attr(\"stroke-width\", \"0.1\").attr(\"stroke\", \"black\");});</script>"
      ]
     },
     "metadata": {},
     "output_type": "display_data"
    },
    {
     "data": {
      "text/html": [
       "<script>require([\"d3\"], function(d3) {d3.select(\".usersvg #canvasLcz\").append(\"path\").attr(\"id\", \"pixel_arrow5S4\").attr(\"transform\", \"translate(10 7)\").attr(\"transform\", \"translate(7.5 10.5) rotate(-270)\").attr(\"d\", \"M0 0 L0 0.5 M -0.15 0.3 L0 0.5 L0.15 0.3\").attr(\"stroke-width\", \"0.1\").attr(\"stroke\", \"black\");});</script>"
      ]
     },
     "metadata": {},
     "output_type": "display_data"
    },
    {
     "data": {
      "text/html": [
       "<script>require([\"d3\"], function(d3) {d3.select(\".usersvg #canvasLcz\").append(\"path\").attr(\"id\", \"pixel_arrowtRD\").attr(\"transform\", \"translate(0 10)\").attr(\"transform\", \"translate(10.5 0.5) rotate(-90)\").attr(\"d\", \"M0 0 L0 0.5 M -0.15 0.3 L0 0.5 L0.15 0.3\").attr(\"stroke-width\", \"0.1\").attr(\"stroke\", \"black\");});</script>"
      ]
     },
     "metadata": {},
     "output_type": "display_data"
    },
    {
     "data": {
      "text/html": [
       "<script>require([\"d3\"], function(d3) {d3.select(\".usersvg #canvasLcz\").append(\"path\").attr(\"id\", \"pixel_arrowcu0\").attr(\"transform\", \"translate(15 2)\").attr(\"transform\", \"translate(2.5 15.5) rotate(-90)\").attr(\"d\", \"M0 0 L0 0.5 M -0.15 0.3 L0 0.5 L0.15 0.3\").attr(\"stroke-width\", \"0.1\").attr(\"stroke\", \"black\");});</script>"
      ]
     },
     "metadata": {},
     "output_type": "display_data"
    },
    {
     "data": {
      "text/html": [
       "<script>require([\"d3\"], function(d3) {d3.select(\".usersvg #canvasLcz\").append(\"path\").attr(\"id\", \"pixel_arrowUhU\").attr(\"transform\", \"translate(5 5)\").attr(\"transform\", \"translate(5.5 5.5) rotate(-180)\").attr(\"d\", \"M0 0 L0 0.5 M -0.15 0.3 L0 0.5 L0.15 0.3\").attr(\"stroke-width\", \"0.1\").attr(\"stroke\", \"black\");});</script>"
      ]
     },
     "metadata": {},
     "output_type": "display_data"
    },
    {
     "data": {
      "text/html": [
       "<script>require([\"d3\"], function(d3) {d3.select(\".usersvg #canvasLcz\").append(\"path\").attr(\"id\", \"pixel_arrowElQ\").attr(\"transform\", \"translate(16 11)\").attr(\"transform\", \"translate(11.5 16.5) rotate(-270)\").attr(\"d\", \"M0 0 L0 0.5 M -0.15 0.3 L0 0.5 L0.15 0.3\").attr(\"stroke-width\", \"0.1\").attr(\"stroke\", \"black\");});</script>"
      ]
     },
     "metadata": {},
     "output_type": "display_data"
    },
    {
     "data": {
      "text/html": [
       "<script>require([\"d3\"], function(d3) {d3.select(\".usersvg #canvasLcz\").append(\"path\").attr(\"id\", \"pixel_arrowWJw\").attr(\"transform\", \"translate(9 7)\").attr(\"transform\", \"translate(7.5 9.5) rotate(-90)\").attr(\"d\", \"M0 0 L0 0.5 M -0.15 0.3 L0 0.5 L0.15 0.3\").attr(\"stroke-width\", \"0.1\").attr(\"stroke\", \"black\");});</script>"
      ]
     },
     "metadata": {},
     "output_type": "display_data"
    },
    {
     "data": {
      "text/html": [
       "<script>require([\"d3\"], function(d3) {d3.select(\".usersvg #canvasLcz\").append(\"path\").attr(\"id\", \"pixel_arrow1ts\").attr(\"transform\", \"translate(9 15)\").attr(\"transform\", \"translate(15.5 9.5) rotate(-360)\").attr(\"d\", \"M0 0 L0 0.5 M -0.15 0.3 L0 0.5 L0.15 0.3\").attr(\"stroke-width\", \"0.1\").attr(\"stroke\", \"black\");});</script>"
      ]
     },
     "metadata": {},
     "output_type": "display_data"
    },
    {
     "data": {
      "text/html": [
       "<script>require([\"d3\"], function(d3) {d3.select(\".usersvg #canvasLcz\").append(\"path\").attr(\"id\", \"pixel_arrow652\").attr(\"transform\", \"translate(5 14)\").attr(\"transform\", \"translate(14.5 5.5) rotate(-180)\").attr(\"d\", \"M0 0 L0 0.5 M -0.15 0.3 L0 0.5 L0.15 0.3\").attr(\"stroke-width\", \"0.1\").attr(\"stroke\", \"black\");});</script>"
      ]
     },
     "metadata": {},
     "output_type": "display_data"
    },
    {
     "data": {
      "text/html": [
       "<script>require([\"d3\"], function(d3) {d3.select(\".usersvg #canvasLcz\").append(\"path\").attr(\"id\", \"pixel_arrowjet\").attr(\"transform\", \"translate(4 14)\").attr(\"transform\", \"translate(14.5 4.5) rotate(-180)\").attr(\"d\", \"M0 0 L0 0.5 M -0.15 0.3 L0 0.5 L0.15 0.3\").attr(\"stroke-width\", \"0.1\").attr(\"stroke\", \"black\");});</script>"
      ]
     },
     "metadata": {},
     "output_type": "display_data"
    },
    {
     "data": {
      "text/html": [
       "<script>require([\"d3\"], function(d3) {d3.select(\".usersvg #canvasLcz\").append(\"path\").attr(\"id\", \"pixel_arrowpV9\").attr(\"transform\", \"translate(10 9)\").attr(\"transform\", \"translate(9.5 10.5) rotate(-90)\").attr(\"d\", \"M0 0 L0 0.5 M -0.15 0.3 L0 0.5 L0.15 0.3\").attr(\"stroke-width\", \"0.1\").attr(\"stroke\", \"black\");});</script>"
      ]
     },
     "metadata": {},
     "output_type": "display_data"
    },
    {
     "data": {
      "text/html": [
       "<script>require([\"d3\"], function(d3) {d3.select(\".usersvg #canvasLcz\").append(\"path\").attr(\"id\", \"pixel_arrowT4l\").attr(\"transform\", \"translate(5 3)\").attr(\"transform\", \"translate(3.5 5.5) rotate(-270)\").attr(\"d\", \"M0 0 L0 0.5 M -0.15 0.3 L0 0.5 L0.15 0.3\").attr(\"stroke-width\", \"0.1\").attr(\"stroke\", \"black\");});</script>"
      ]
     },
     "metadata": {},
     "output_type": "display_data"
    },
    {
     "data": {
      "text/html": [
       "<script>require([\"d3\"], function(d3) {d3.select(\".usersvg #canvasLcz\").append(\"path\").attr(\"id\", \"pixel_arrow58m\").attr(\"transform\", \"translate(2 2)\").attr(\"transform\", \"translate(2.5 2.5) rotate(-90)\").attr(\"d\", \"M0 0 L0 0.5 M -0.15 0.3 L0 0.5 L0.15 0.3\").attr(\"stroke-width\", \"0.1\").attr(\"stroke\", \"black\");});</script>"
      ]
     },
     "metadata": {},
     "output_type": "display_data"
    },
    {
     "data": {
      "text/html": [
       "<script>require([\"d3\"], function(d3) {d3.select(\".usersvg #canvasLcz\").append(\"path\").attr(\"id\", \"pixel_arrowzj6\").attr(\"transform\", \"translate(7 13)\").attr(\"transform\", \"translate(13.5 7.5) rotate(-90)\").attr(\"d\", \"M0 0 L0 0.5 M -0.15 0.3 L0 0.5 L0.15 0.3\").attr(\"stroke-width\", \"0.1\").attr(\"stroke\", \"black\");});</script>"
      ]
     },
     "metadata": {},
     "output_type": "display_data"
    },
    {
     "data": {
      "text/html": [
       "<script>require([\"d3\"], function(d3) {d3.select(\".usersvg #canvasLcz\").append(\"path\").attr(\"id\", \"pixel_arrowlvX\").attr(\"transform\", \"translate(4 15)\").attr(\"transform\", \"translate(15.5 4.5) rotate(-180)\").attr(\"d\", \"M0 0 L0 0.5 M -0.15 0.3 L0 0.5 L0.15 0.3\").attr(\"stroke-width\", \"0.1\").attr(\"stroke\", \"black\");});</script>"
      ]
     },
     "metadata": {},
     "output_type": "display_data"
    },
    {
     "data": {
      "text/html": [
       "<script>require([\"d3\"], function(d3) {d3.select(\".usersvg #canvasLcz\").append(\"path\").attr(\"id\", \"pixel_arrow6pA\").attr(\"transform\", \"translate(12 0)\").attr(\"transform\", \"translate(0.5 12.5) rotate(-180)\").attr(\"d\", \"M0 0 L0 0.5 M -0.15 0.3 L0 0.5 L0.15 0.3\").attr(\"stroke-width\", \"0.1\").attr(\"stroke\", \"black\");});</script>"
      ]
     },
     "metadata": {},
     "output_type": "display_data"
    },
    {
     "data": {
      "text/html": [
       "<script>require([\"d3\"], function(d3) {d3.select(\".usersvg #canvasLcz\").append(\"path\").attr(\"id\", \"pixel_arrowk6p\").attr(\"transform\", \"translate(4 7)\").attr(\"transform\", \"translate(7.5 4.5) rotate(-90)\").attr(\"d\", \"M0 0 L0 0.5 M -0.15 0.3 L0 0.5 L0.15 0.3\").attr(\"stroke-width\", \"0.1\").attr(\"stroke\", \"black\");});</script>"
      ]
     },
     "metadata": {},
     "output_type": "display_data"
    },
    {
     "data": {
      "text/html": [
       "<script>require([\"d3\"], function(d3) {d3.select(\".usersvg #canvasLcz\").append(\"path\").attr(\"id\", \"pixel_arrowMyS\").attr(\"transform\", \"translate(6 0)\").attr(\"transform\", \"translate(0.5 6.5) rotate(-90)\").attr(\"d\", \"M0 0 L0 0.5 M -0.15 0.3 L0 0.5 L0.15 0.3\").attr(\"stroke-width\", \"0.1\").attr(\"stroke\", \"black\");});</script>"
      ]
     },
     "metadata": {},
     "output_type": "display_data"
    },
    {
     "data": {
      "text/html": [
       "<script>require([\"d3\"], function(d3) {d3.select(\".usersvg #canvasLcz\").append(\"path\").attr(\"id\", \"pixel_arrowxHn\").attr(\"transform\", \"translate(14 9)\").attr(\"transform\", \"translate(9.5 14.5) rotate(-360)\").attr(\"d\", \"M0 0 L0 0.5 M -0.15 0.3 L0 0.5 L0.15 0.3\").attr(\"stroke-width\", \"0.1\").attr(\"stroke\", \"black\");});</script>"
      ]
     },
     "metadata": {},
     "output_type": "display_data"
    },
    {
     "data": {
      "text/html": [
       "<script>require([\"d3\"], function(d3) {d3.select(\".usersvg #canvasLcz\").append(\"path\").attr(\"id\", \"pixel_arrowP4F\").attr(\"transform\", \"translate(16 0)\").attr(\"transform\", \"translate(0.5 16.5) rotate(-270)\").attr(\"d\", \"M0 0 L0 0.5 M -0.15 0.3 L0 0.5 L0.15 0.3\").attr(\"stroke-width\", \"0.1\").attr(\"stroke\", \"black\");});</script>"
      ]
     },
     "metadata": {},
     "output_type": "display_data"
    },
    {
     "data": {
      "text/html": [
       "<script>require([\"d3\"], function(d3) {d3.select(\".usersvg #canvasLcz\").append(\"path\").attr(\"id\", \"pixel_arrow29W\").attr(\"transform\", \"translate(3 4)\").attr(\"transform\", \"translate(4.5 3.5) rotate(-270)\").attr(\"d\", \"M0 0 L0 0.5 M -0.15 0.3 L0 0.5 L0.15 0.3\").attr(\"stroke-width\", \"0.1\").attr(\"stroke\", \"black\");});</script>"
      ]
     },
     "metadata": {},
     "output_type": "display_data"
    },
    {
     "data": {
      "text/html": [
       "<script>require([\"d3\"], function(d3) {d3.select(\".usersvg #canvasLcz\").append(\"path\").attr(\"id\", \"pixel_arrowHG5\").attr(\"transform\", \"translate(0 1)\").attr(\"transform\", \"translate(1.5 0.5) rotate(-90)\").attr(\"d\", \"M0 0 L0 0.5 M -0.15 0.3 L0 0.5 L0.15 0.3\").attr(\"stroke-width\", \"0.1\").attr(\"stroke\", \"black\");});</script>"
      ]
     },
     "metadata": {},
     "output_type": "display_data"
    },
    {
     "data": {
      "text/html": [
       "<script>require([\"d3\"], function(d3) {d3.select(\".usersvg #canvasLcz\").append(\"path\").attr(\"id\", \"pixel_arrowd7x\").attr(\"transform\", \"translate(17 16)\").attr(\"transform\", \"translate(16.5 17.5) rotate(-180)\").attr(\"d\", \"M0 0 L0 0.5 M -0.15 0.3 L0 0.5 L0.15 0.3\").attr(\"stroke-width\", \"0.1\").attr(\"stroke\", \"black\");});</script>"
      ]
     },
     "metadata": {},
     "output_type": "display_data"
    },
    {
     "data": {
      "text/html": [
       "<script>require([\"d3\"], function(d3) {d3.select(\".usersvg #canvasLcz\").append(\"path\").attr(\"id\", \"pixel_arrowrQv\").attr(\"transform\", \"translate(11 11)\").attr(\"transform\", \"translate(11.5 11.5) rotate(-90)\").attr(\"d\", \"M0 0 L0 0.5 M -0.15 0.3 L0 0.5 L0.15 0.3\").attr(\"stroke-width\", \"0.1\").attr(\"stroke\", \"black\");});</script>"
      ]
     },
     "metadata": {},
     "output_type": "display_data"
    },
    {
     "data": {
      "text/html": [
       "<script>require([\"d3\"], function(d3) {d3.select(\".usersvg #canvasLcz\").append(\"path\").attr(\"id\", \"pixel_arrowrTx\").attr(\"transform\", \"translate(6 7)\").attr(\"transform\", \"translate(7.5 6.5) rotate(-90)\").attr(\"d\", \"M0 0 L0 0.5 M -0.15 0.3 L0 0.5 L0.15 0.3\").attr(\"stroke-width\", \"0.1\").attr(\"stroke\", \"black\");});</script>"
      ]
     },
     "metadata": {},
     "output_type": "display_data"
    },
    {
     "data": {
      "text/html": [
       "<script>require([\"d3\"], function(d3) {d3.select(\".usersvg #canvasLcz\").append(\"path\").attr(\"id\", \"pixel_arrowsr4\").attr(\"transform\", \"translate(17 5)\").attr(\"transform\", \"translate(5.5 17.5) rotate(-360)\").attr(\"d\", \"M0 0 L0 0.5 M -0.15 0.3 L0 0.5 L0.15 0.3\").attr(\"stroke-width\", \"0.1\").attr(\"stroke\", \"black\");});</script>"
      ]
     },
     "metadata": {},
     "output_type": "display_data"
    },
    {
     "data": {
      "text/html": [
       "<script>require([\"d3\"], function(d3) {d3.select(\".usersvg #canvasLcz\").append(\"path\").attr(\"id\", \"pixel_arrowbwt\").attr(\"transform\", \"translate(9 13)\").attr(\"transform\", \"translate(13.5 9.5) rotate(-90)\").attr(\"d\", \"M0 0 L0 0.5 M -0.15 0.3 L0 0.5 L0.15 0.3\").attr(\"stroke-width\", \"0.1\").attr(\"stroke\", \"black\");});</script>"
      ]
     },
     "metadata": {},
     "output_type": "display_data"
    },
    {
     "data": {
      "text/html": [
       "<script>require([\"d3\"], function(d3) {d3.select(\".usersvg #canvasLcz\").append(\"path\").attr(\"id\", \"pixel_arrowEuE\").attr(\"transform\", \"translate(9 8)\").attr(\"transform\", \"translate(8.5 9.5) rotate(-90)\").attr(\"d\", \"M0 0 L0 0.5 M -0.15 0.3 L0 0.5 L0.15 0.3\").attr(\"stroke-width\", \"0.1\").attr(\"stroke\", \"black\");});</script>"
      ]
     },
     "metadata": {},
     "output_type": "display_data"
    },
    {
     "data": {
      "text/html": [
       "<script>require([\"d3\"], function(d3) {d3.select(\".usersvg #canvasLcz\").append(\"path\").attr(\"id\", \"pixel_arrowXT3\").attr(\"transform\", \"translate(2 8)\").attr(\"transform\", \"translate(8.5 2.5) rotate(-90)\").attr(\"d\", \"M0 0 L0 0.5 M -0.15 0.3 L0 0.5 L0.15 0.3\").attr(\"stroke-width\", \"0.1\").attr(\"stroke\", \"black\");});</script>"
      ]
     },
     "metadata": {},
     "output_type": "display_data"
    },
    {
     "data": {
      "text/html": [
       "<script>require([\"d3\"], function(d3) {d3.select(\".usersvg #canvasLcz\").append(\"path\").attr(\"id\", \"pixel_arrow29p\").attr(\"transform\", \"translate(11 15)\").attr(\"transform\", \"translate(15.5 11.5) rotate(-90)\").attr(\"d\", \"M0 0 L0 0.5 M -0.15 0.3 L0 0.5 L0.15 0.3\").attr(\"stroke-width\", \"0.1\").attr(\"stroke\", \"black\");});</script>"
      ]
     },
     "metadata": {},
     "output_type": "display_data"
    },
    {
     "data": {
      "text/html": [
       "<script>require([\"d3\"], function(d3) {d3.select(\".usersvg #canvasLcz\").append(\"path\").attr(\"id\", \"pixel_arrowieY\").attr(\"transform\", \"translate(12 1)\").attr(\"transform\", \"translate(1.5 12.5) rotate(-180)\").attr(\"d\", \"M0 0 L0 0.5 M -0.15 0.3 L0 0.5 L0.15 0.3\").attr(\"stroke-width\", \"0.1\").attr(\"stroke\", \"black\");});</script>"
      ]
     },
     "metadata": {},
     "output_type": "display_data"
    },
    {
     "data": {
      "text/html": [
       "<script>require([\"d3\"], function(d3) {d3.select(\".usersvg #canvasLcz\").append(\"path\").attr(\"id\", \"pixel_arrowXvB\").attr(\"transform\", \"translate(2 15)\").attr(\"transform\", \"translate(15.5 2.5) rotate(-180)\").attr(\"d\", \"M0 0 L0 0.5 M -0.15 0.3 L0 0.5 L0.15 0.3\").attr(\"stroke-width\", \"0.1\").attr(\"stroke\", \"black\");});</script>"
      ]
     },
     "metadata": {},
     "output_type": "display_data"
    },
    {
     "data": {
      "text/html": [
       "<script>require([\"d3\"], function(d3) {d3.select(\".usersvg #canvasLcz\").append(\"path\").attr(\"id\", \"pixel_arrowP64\").attr(\"transform\", \"translate(6 10)\").attr(\"transform\", \"translate(10.5 6.5) rotate(-180)\").attr(\"d\", \"M0 0 L0 0.5 M -0.15 0.3 L0 0.5 L0.15 0.3\").attr(\"stroke-width\", \"0.1\").attr(\"stroke\", \"black\");});</script>"
      ]
     },
     "metadata": {},
     "output_type": "display_data"
    },
    {
     "data": {
      "text/html": [
       "<script>require([\"d3\"], function(d3) {d3.select(\".usersvg #canvasLcz\").append(\"path\").attr(\"id\", \"pixel_arrowDE8\").attr(\"transform\", \"translate(2 5)\").attr(\"transform\", \"translate(5.5 2.5) rotate(-270)\").attr(\"d\", \"M0 0 L0 0.5 M -0.15 0.3 L0 0.5 L0.15 0.3\").attr(\"stroke-width\", \"0.1\").attr(\"stroke\", \"black\");});</script>"
      ]
     },
     "metadata": {},
     "output_type": "display_data"
    },
    {
     "data": {
      "text/html": [
       "<script>require([\"d3\"], function(d3) {d3.select(\".usersvg #canvasLcz\").append(\"path\").attr(\"id\", \"pixel_arrowD3u\").attr(\"transform\", \"translate(17 0)\").attr(\"transform\", \"translate(0.5 17.5) rotate(-180)\").attr(\"d\", \"M0 0 L0 0.5 M -0.15 0.3 L0 0.5 L0.15 0.3\").attr(\"stroke-width\", \"0.1\").attr(\"stroke\", \"black\");});</script>"
      ]
     },
     "metadata": {},
     "output_type": "display_data"
    },
    {
     "data": {
      "text/html": [
       "<script>require([\"d3\"], function(d3) {d3.select(\".usersvg #canvasLcz\").append(\"path\").attr(\"id\", \"pixel_arrowtDj\").attr(\"transform\", \"translate(10 5)\").attr(\"transform\", \"translate(5.5 10.5) rotate(-360)\").attr(\"d\", \"M0 0 L0 0.5 M -0.15 0.3 L0 0.5 L0.15 0.3\").attr(\"stroke-width\", \"0.1\").attr(\"stroke\", \"black\");});</script>"
      ]
     },
     "metadata": {},
     "output_type": "display_data"
    },
    {
     "data": {
      "text/html": [
       "<script>require([\"d3\"], function(d3) {d3.select(\".usersvg #canvasLcz\").append(\"path\").attr(\"id\", \"pixel_arrowpQA\").attr(\"transform\", \"translate(1 3)\").attr(\"transform\", \"translate(3.5 1.5) rotate(-180)\").attr(\"d\", \"M0 0 L0 0.5 M -0.15 0.3 L0 0.5 L0.15 0.3\").attr(\"stroke-width\", \"0.1\").attr(\"stroke\", \"black\");});</script>"
      ]
     },
     "metadata": {},
     "output_type": "display_data"
    },
    {
     "data": {
      "text/html": [
       "<script>require([\"d3\"], function(d3) {d3.select(\".usersvg #canvasLcz\").append(\"path\").attr(\"id\", \"pixel_arrowiEN\").attr(\"transform\", \"translate(10 0)\").attr(\"transform\", \"translate(0.5 10.5) rotate(-180)\").attr(\"d\", \"M0 0 L0 0.5 M -0.15 0.3 L0 0.5 L0.15 0.3\").attr(\"stroke-width\", \"0.1\").attr(\"stroke\", \"black\");});</script>"
      ]
     },
     "metadata": {},
     "output_type": "display_data"
    },
    {
     "data": {
      "text/html": [
       "<script>require([\"d3\"], function(d3) {d3.select(\".usersvg #canvasLcz\").append(\"path\").attr(\"id\", \"pixel_arrowhR7\").attr(\"transform\", \"translate(11 3)\").attr(\"transform\", \"translate(3.5 11.5) rotate(-270)\").attr(\"d\", \"M0 0 L0 0.5 M -0.15 0.3 L0 0.5 L0.15 0.3\").attr(\"stroke-width\", \"0.1\").attr(\"stroke\", \"black\");});</script>"
      ]
     },
     "metadata": {},
     "output_type": "display_data"
    },
    {
     "data": {
      "text/html": [
       "<script>require([\"d3\"], function(d3) {d3.select(\".usersvg #canvasLcz\").append(\"path\").attr(\"id\", \"pixel_arrowwTJ\").attr(\"transform\", \"translate(17 6)\").attr(\"transform\", \"translate(6.5 17.5) rotate(-90)\").attr(\"d\", \"M0 0 L0 0.5 M -0.15 0.3 L0 0.5 L0.15 0.3\").attr(\"stroke-width\", \"0.1\").attr(\"stroke\", \"black\");});</script>"
      ]
     },
     "metadata": {},
     "output_type": "display_data"
    },
    {
     "data": {
      "text/html": [
       "<script>require([\"d3\"], function(d3) {d3.select(\".usersvg #canvasLcz\").append(\"path\").attr(\"id\", \"pixel_arrowWqh\").attr(\"transform\", \"translate(15 6)\").attr(\"transform\", \"translate(6.5 15.5) rotate(-360)\").attr(\"d\", \"M0 0 L0 0.5 M -0.15 0.3 L0 0.5 L0.15 0.3\").attr(\"stroke-width\", \"0.1\").attr(\"stroke\", \"black\");});</script>"
      ]
     },
     "metadata": {},
     "output_type": "display_data"
    },
    {
     "data": {
      "text/html": [
       "<script>require([\"d3\"], function(d3) {d3.select(\".usersvg #canvasLcz\").append(\"path\").attr(\"id\", \"pixel_arrowDio\").attr(\"transform\", \"translate(8 1)\").attr(\"transform\", \"translate(1.5 8.5) rotate(-180)\").attr(\"d\", \"M0 0 L0 0.5 M -0.15 0.3 L0 0.5 L0.15 0.3\").attr(\"stroke-width\", \"0.1\").attr(\"stroke\", \"black\");});</script>"
      ]
     },
     "metadata": {},
     "output_type": "display_data"
    },
    {
     "data": {
      "text/html": [
       "<script>require([\"d3\"], function(d3) {d3.select(\".usersvg #canvasLcz\").append(\"path\").attr(\"id\", \"pixel_arrowhAs\").attr(\"transform\", \"translate(12 4)\").attr(\"transform\", \"translate(4.5 12.5) rotate(-360)\").attr(\"d\", \"M0 0 L0 0.5 M -0.15 0.3 L0 0.5 L0.15 0.3\").attr(\"stroke-width\", \"0.1\").attr(\"stroke\", \"black\");});</script>"
      ]
     },
     "metadata": {},
     "output_type": "display_data"
    },
    {
     "data": {
      "text/html": [
       "<script>require([\"d3\"], function(d3) {d3.select(\".usersvg #canvasLcz\").append(\"path\").attr(\"id\", \"pixel_arrowKi8\").attr(\"transform\", \"translate(1 10)\").attr(\"transform\", \"translate(10.5 1.5) rotate(-90)\").attr(\"d\", \"M0 0 L0 0.5 M -0.15 0.3 L0 0.5 L0.15 0.3\").attr(\"stroke-width\", \"0.1\").attr(\"stroke\", \"black\");});</script>"
      ]
     },
     "metadata": {},
     "output_type": "display_data"
    },
    {
     "data": {
      "text/html": [
       "<script>require([\"d3\"], function(d3) {d3.select(\".usersvg #canvasLcz\").append(\"path\").attr(\"id\", \"pixel_arrowJbp\").attr(\"transform\", \"translate(8 8)\").attr(\"transform\", \"translate(8.5 8.5) rotate(-90)\").attr(\"d\", \"M0 0 L0 0.5 M -0.15 0.3 L0 0.5 L0.15 0.3\").attr(\"stroke-width\", \"0.1\").attr(\"stroke\", \"black\");});</script>"
      ]
     },
     "metadata": {},
     "output_type": "display_data"
    },
    {
     "data": {
      "text/html": [
       "<script>require([\"d3\"], function(d3) {d3.select(\".usersvg #canvasLcz\").append(\"path\").attr(\"id\", \"pixel_arrowLQu\").attr(\"transform\", \"translate(2 10)\").attr(\"transform\", \"translate(10.5 2.5) rotate(-180)\").attr(\"d\", \"M0 0 L0 0.5 M -0.15 0.3 L0 0.5 L0.15 0.3\").attr(\"stroke-width\", \"0.1\").attr(\"stroke\", \"black\");});</script>"
      ]
     },
     "metadata": {},
     "output_type": "display_data"
    },
    {
     "data": {
      "text/html": [
       "<script>require([\"d3\"], function(d3) {d3.select(\".usersvg #canvasLcz\").append(\"path\").attr(\"id\", \"pixel_arrowaYJ\").attr(\"transform\", \"translate(9 14)\").attr(\"transform\", \"translate(14.5 9.5) rotate(-180)\").attr(\"d\", \"M0 0 L0 0.5 M -0.15 0.3 L0 0.5 L0.15 0.3\").attr(\"stroke-width\", \"0.1\").attr(\"stroke\", \"black\");});</script>"
      ]
     },
     "metadata": {},
     "output_type": "display_data"
    },
    {
     "data": {
      "text/html": [
       "<script>require([\"d3\"], function(d3) {d3.select(\".usersvg #canvasLcz\").append(\"path\").attr(\"id\", \"pixel_arrowGDv\").attr(\"transform\", \"translate(8 9)\").attr(\"transform\", \"translate(9.5 8.5) rotate(-180)\").attr(\"d\", \"M0 0 L0 0.5 M -0.15 0.3 L0 0.5 L0.15 0.3\").attr(\"stroke-width\", \"0.1\").attr(\"stroke\", \"black\");});</script>"
      ]
     },
     "metadata": {},
     "output_type": "display_data"
    },
    {
     "data": {
      "text/html": [
       "<script>require([\"d3\"], function(d3) {d3.select(\".usersvg #canvasLcz\").append(\"path\").attr(\"id\", \"pixel_arrow2l3\").attr(\"transform\", \"translate(4 0)\").attr(\"transform\", \"translate(0.5 4.5) rotate(-360)\").attr(\"d\", \"M0 0 L0 0.5 M -0.15 0.3 L0 0.5 L0.15 0.3\").attr(\"stroke-width\", \"0.1\").attr(\"stroke\", \"black\");});</script>"
      ]
     },
     "metadata": {},
     "output_type": "display_data"
    },
    {
     "data": {
      "text/html": [
       "<script>require([\"d3\"], function(d3) {d3.select(\".usersvg #canvasLcz\").append(\"path\").attr(\"id\", \"pixel_arrow1GU\").attr(\"transform\", \"translate(7 1)\").attr(\"transform\", \"translate(1.5 7.5) rotate(-360)\").attr(\"d\", \"M0 0 L0 0.5 M -0.15 0.3 L0 0.5 L0.15 0.3\").attr(\"stroke-width\", \"0.1\").attr(\"stroke\", \"black\");});</script>"
      ]
     },
     "metadata": {},
     "output_type": "display_data"
    },
    {
     "data": {
      "text/html": [
       "<script>require([\"d3\"], function(d3) {d3.select(\".usersvg #canvasLcz\").append(\"path\").attr(\"id\", \"pixel_arrowqWB\").attr(\"transform\", \"translate(4 5)\").attr(\"transform\", \"translate(5.5 4.5) rotate(-180)\").attr(\"d\", \"M0 0 L0 0.5 M -0.15 0.3 L0 0.5 L0.15 0.3\").attr(\"stroke-width\", \"0.1\").attr(\"stroke\", \"black\");});</script>"
      ]
     },
     "metadata": {},
     "output_type": "display_data"
    },
    {
     "data": {
      "text/html": [
       "<script>require([\"d3\"], function(d3) {d3.select(\".usersvg #canvasLcz\").append(\"path\").attr(\"id\", \"pixel_arrowXcq\").attr(\"transform\", \"translate(6 5)\").attr(\"transform\", \"translate(5.5 6.5) rotate(-90)\").attr(\"d\", \"M0 0 L0 0.5 M -0.15 0.3 L0 0.5 L0.15 0.3\").attr(\"stroke-width\", \"0.1\").attr(\"stroke\", \"black\");});</script>"
      ]
     },
     "metadata": {},
     "output_type": "display_data"
    },
    {
     "data": {
      "text/html": [
       "<script>require([\"d3\"], function(d3) {d3.select(\".usersvg #canvasLcz\").append(\"path\").attr(\"id\", \"pixel_arrowhU2\").attr(\"transform\", \"translate(1 6)\").attr(\"transform\", \"translate(6.5 1.5) rotate(-90)\").attr(\"d\", \"M0 0 L0 0.5 M -0.15 0.3 L0 0.5 L0.15 0.3\").attr(\"stroke-width\", \"0.1\").attr(\"stroke\", \"black\");});</script>"
      ]
     },
     "metadata": {},
     "output_type": "display_data"
    },
    {
     "data": {
      "text/html": [
       "<script>require([\"d3\"], function(d3) {d3.select(\".usersvg #canvasLcz\").append(\"path\").attr(\"id\", \"pixel_arrowOwK\").attr(\"transform\", \"translate(16 13)\").attr(\"transform\", \"translate(13.5 16.5) rotate(-180)\").attr(\"d\", \"M0 0 L0 0.5 M -0.15 0.3 L0 0.5 L0.15 0.3\").attr(\"stroke-width\", \"0.1\").attr(\"stroke\", \"black\");});</script>"
      ]
     },
     "metadata": {},
     "output_type": "display_data"
    },
    {
     "data": {
      "text/html": [
       "<script>require([\"d3\"], function(d3) {d3.select(\".usersvg #canvasLcz\").append(\"path\").attr(\"id\", \"pixel_arrowoC8\").attr(\"transform\", \"translate(4 10)\").attr(\"transform\", \"translate(10.5 4.5) rotate(-180)\").attr(\"d\", \"M0 0 L0 0.5 M -0.15 0.3 L0 0.5 L0.15 0.3\").attr(\"stroke-width\", \"0.1\").attr(\"stroke\", \"black\");});</script>"
      ]
     },
     "metadata": {},
     "output_type": "display_data"
    },
    {
     "data": {
      "text/html": [
       "<script>require([\"d3\"], function(d3) {d3.select(\".usersvg #canvasLcz\").append(\"path\").attr(\"id\", \"pixel_arrowhUZ\").attr(\"transform\", \"translate(13 8)\").attr(\"transform\", \"translate(8.5 13.5) rotate(-360)\").attr(\"d\", \"M0 0 L0 0.5 M -0.15 0.3 L0 0.5 L0.15 0.3\").attr(\"stroke-width\", \"0.1\").attr(\"stroke\", \"black\");});</script>"
      ]
     },
     "metadata": {},
     "output_type": "display_data"
    },
    {
     "data": {
      "text/html": [
       "<script>require([\"d3\"], function(d3) {d3.select(\".usersvg #canvasLcz\").append(\"path\").attr(\"id\", \"pixel_arrowyyH\").attr(\"transform\", \"translate(6 1)\").attr(\"transform\", \"translate(1.5 6.5) rotate(-90)\").attr(\"d\", \"M0 0 L0 0.5 M -0.15 0.3 L0 0.5 L0.15 0.3\").attr(\"stroke-width\", \"0.1\").attr(\"stroke\", \"black\");});</script>"
      ]
     },
     "metadata": {},
     "output_type": "display_data"
    },
    {
     "data": {
      "text/html": [
       "<script>require([\"d3\"], function(d3) {d3.select(\".usersvg #canvasLcz\").append(\"path\").attr(\"id\", \"pixel_arrowarZ\").attr(\"transform\", \"translate(7 9)\").attr(\"transform\", \"translate(9.5 7.5) rotate(-90)\").attr(\"d\", \"M0 0 L0 0.5 M -0.15 0.3 L0 0.5 L0.15 0.3\").attr(\"stroke-width\", \"0.1\").attr(\"stroke\", \"black\");});</script>"
      ]
     },
     "metadata": {},
     "output_type": "display_data"
    },
    {
     "data": {
      "text/html": [
       "<script>require([\"d3\"], function(d3) {d3.select(\".usersvg #canvasLcz\").append(\"path\").attr(\"id\", \"pixel_arrowcTZ\").attr(\"transform\", \"translate(13 16)\").attr(\"transform\", \"translate(16.5 13.5) rotate(-180)\").attr(\"d\", \"M0 0 L0 0.5 M -0.15 0.3 L0 0.5 L0.15 0.3\").attr(\"stroke-width\", \"0.1\").attr(\"stroke\", \"black\");});</script>"
      ]
     },
     "metadata": {},
     "output_type": "display_data"
    },
    {
     "data": {
      "text/html": [
       "<script>require([\"d3\"], function(d3) {d3.select(\".usersvg #canvasLcz\").append(\"path\").attr(\"id\", \"pixel_arrowUZR\").attr(\"transform\", \"translate(7 5)\").attr(\"transform\", \"translate(5.5 7.5) rotate(-270)\").attr(\"d\", \"M0 0 L0 0.5 M -0.15 0.3 L0 0.5 L0.15 0.3\").attr(\"stroke-width\", \"0.1\").attr(\"stroke\", \"black\");});</script>"
      ]
     },
     "metadata": {},
     "output_type": "display_data"
    },
    {
     "data": {
      "text/html": [
       "<script>require([\"d3\"], function(d3) {d3.select(\".usersvg #canvasLcz\").append(\"path\").attr(\"id\", \"pixel_arrow0fH\").attr(\"transform\", \"translate(6 14)\").attr(\"transform\", \"translate(14.5 6.5) rotate(-270)\").attr(\"d\", \"M0 0 L0 0.5 M -0.15 0.3 L0 0.5 L0.15 0.3\").attr(\"stroke-width\", \"0.1\").attr(\"stroke\", \"black\");});</script>"
      ]
     },
     "metadata": {},
     "output_type": "display_data"
    },
    {
     "data": {
      "text/html": [
       "<script>require([\"d3\"], function(d3) {d3.select(\".usersvg #canvasLcz\").append(\"path\").attr(\"id\", \"pixel_arrowxj2\").attr(\"transform\", \"translate(10 8)\").attr(\"transform\", \"translate(8.5 10.5) rotate(-90)\").attr(\"d\", \"M0 0 L0 0.5 M -0.15 0.3 L0 0.5 L0.15 0.3\").attr(\"stroke-width\", \"0.1\").attr(\"stroke\", \"black\");});</script>"
      ]
     },
     "metadata": {},
     "output_type": "display_data"
    },
    {
     "data": {
      "text/html": [
       "<script>require([\"d3\"], function(d3) {d3.select(\".usersvg #canvasLcz\").append(\"path\").attr(\"id\", \"pixel_arrowIru\").attr(\"transform\", \"translate(6 2)\").attr(\"transform\", \"translate(2.5 6.5) rotate(-360)\").attr(\"d\", \"M0 0 L0 0.5 M -0.15 0.3 L0 0.5 L0.15 0.3\").attr(\"stroke-width\", \"0.1\").attr(\"stroke\", \"black\");});</script>"
      ]
     },
     "metadata": {},
     "output_type": "display_data"
    },
    {
     "data": {
      "text/html": [
       "<script>require([\"d3\"], function(d3) {d3.select(\".usersvg #canvasLcz\").append(\"path\").attr(\"id\", \"pixel_arrowMBp\").attr(\"transform\", \"translate(9 12)\").attr(\"transform\", \"translate(12.5 9.5) rotate(-270)\").attr(\"d\", \"M0 0 L0 0.5 M -0.15 0.3 L0 0.5 L0.15 0.3\").attr(\"stroke-width\", \"0.1\").attr(\"stroke\", \"black\");});</script>"
      ]
     },
     "metadata": {},
     "output_type": "display_data"
    },
    {
     "data": {
      "text/html": [
       "<script>require([\"d3\"], function(d3) {d3.select(\".usersvg #canvasLcz\").append(\"path\").attr(\"id\", \"pixel_arrowtJM\").attr(\"transform\", \"translate(7 8)\").attr(\"transform\", \"translate(8.5 7.5) rotate(-180)\").attr(\"d\", \"M0 0 L0 0.5 M -0.15 0.3 L0 0.5 L0.15 0.3\").attr(\"stroke-width\", \"0.1\").attr(\"stroke\", \"black\");});</script>"
      ]
     },
     "metadata": {},
     "output_type": "display_data"
    },
    {
     "data": {
      "text/html": [
       "<script>require([\"d3\"], function(d3) {d3.select(\".usersvg #canvasLcz\").append(\"path\").attr(\"id\", \"pixel_arrow6lu\").attr(\"transform\", \"translate(17 2)\").attr(\"transform\", \"translate(2.5 17.5) rotate(-180)\").attr(\"d\", \"M0 0 L0 0.5 M -0.15 0.3 L0 0.5 L0.15 0.3\").attr(\"stroke-width\", \"0.1\").attr(\"stroke\", \"black\");});</script>"
      ]
     },
     "metadata": {},
     "output_type": "display_data"
    },
    {
     "data": {
      "text/html": [
       "<script>require([\"d3\"], function(d3) {d3.select(\".usersvg #canvasLcz\").append(\"path\").attr(\"id\", \"pixel_arrowftU\").attr(\"transform\", \"translate(11 9)\").attr(\"transform\", \"translate(9.5 11.5) rotate(-360)\").attr(\"d\", \"M0 0 L0 0.5 M -0.15 0.3 L0 0.5 L0.15 0.3\").attr(\"stroke-width\", \"0.1\").attr(\"stroke\", \"black\");});</script>"
      ]
     },
     "metadata": {},
     "output_type": "display_data"
    },
    {
     "data": {
      "text/html": [
       "<script>require([\"d3\"], function(d3) {d3.select(\".usersvg #canvasLcz\").append(\"path\").attr(\"id\", \"pixel_arrowSMg\").attr(\"transform\", \"translate(15 10)\").attr(\"transform\", \"translate(10.5 15.5) rotate(-90)\").attr(\"d\", \"M0 0 L0 0.5 M -0.15 0.3 L0 0.5 L0.15 0.3\").attr(\"stroke-width\", \"0.1\").attr(\"stroke\", \"black\");});</script>"
      ]
     },
     "metadata": {},
     "output_type": "display_data"
    },
    {
     "data": {
      "text/html": [
       "<script>require([\"d3\"], function(d3) {d3.select(\".usersvg #canvasLcz\").append(\"path\").attr(\"id\", \"pixel_arrowqVy\").attr(\"transform\", \"translate(13 13)\").attr(\"transform\", \"translate(13.5 13.5) rotate(-360)\").attr(\"d\", \"M0 0 L0 0.5 M -0.15 0.3 L0 0.5 L0.15 0.3\").attr(\"stroke-width\", \"0.1\").attr(\"stroke\", \"black\");});</script>"
      ]
     },
     "metadata": {},
     "output_type": "display_data"
    },
    {
     "data": {
      "text/html": [
       "<script>require([\"d3\"], function(d3) {d3.select(\".usersvg #canvasLcz\").append(\"path\").attr(\"id\", \"pixel_arrowlfi\").attr(\"transform\", \"translate(15 16)\").attr(\"transform\", \"translate(16.5 15.5) rotate(-90)\").attr(\"d\", \"M0 0 L0 0.5 M -0.15 0.3 L0 0.5 L0.15 0.3\").attr(\"stroke-width\", \"0.1\").attr(\"stroke\", \"black\");});</script>"
      ]
     },
     "metadata": {},
     "output_type": "display_data"
    },
    {
     "data": {
      "text/html": [
       "<script>require([\"d3\"], function(d3) {d3.select(\".usersvg #canvasLcz\").append(\"path\").attr(\"id\", \"pixel_arrowqiu\").attr(\"transform\", \"translate(13 5)\").attr(\"transform\", \"translate(5.5 13.5) rotate(-360)\").attr(\"d\", \"M0 0 L0 0.5 M -0.15 0.3 L0 0.5 L0.15 0.3\").attr(\"stroke-width\", \"0.1\").attr(\"stroke\", \"black\");});</script>"
      ]
     },
     "metadata": {},
     "output_type": "display_data"
    },
    {
     "data": {
      "text/html": [
       "<script>require([\"d3\"], function(d3) {d3.select(\".usersvg #canvasLcz\").append(\"path\").attr(\"id\", \"pixel_arrowOkg\").attr(\"transform\", \"translate(1 2)\").attr(\"transform\", \"translate(2.5 1.5) rotate(-90)\").attr(\"d\", \"M0 0 L0 0.5 M -0.15 0.3 L0 0.5 L0.15 0.3\").attr(\"stroke-width\", \"0.1\").attr(\"stroke\", \"black\");});</script>"
      ]
     },
     "metadata": {},
     "output_type": "display_data"
    },
    {
     "data": {
      "text/html": [
       "<script>require([\"d3\"], function(d3) {d3.select(\".usersvg #canvasLcz\").append(\"path\").attr(\"id\", \"pixel_arrow2Ca\").attr(\"transform\", \"translate(9 2)\").attr(\"transform\", \"translate(2.5 9.5) rotate(-90)\").attr(\"d\", \"M0 0 L0 0.5 M -0.15 0.3 L0 0.5 L0.15 0.3\").attr(\"stroke-width\", \"0.1\").attr(\"stroke\", \"black\");});</script>"
      ]
     },
     "metadata": {},
     "output_type": "display_data"
    },
    {
     "data": {
      "text/html": [
       "<script>require([\"d3\"], function(d3) {d3.select(\".usersvg #canvasLcz\").append(\"path\").attr(\"id\", \"pixel_arrowlgW\").attr(\"transform\", \"translate(11 10)\").attr(\"transform\", \"translate(10.5 11.5) rotate(-90)\").attr(\"d\", \"M0 0 L0 0.5 M -0.15 0.3 L0 0.5 L0.15 0.3\").attr(\"stroke-width\", \"0.1\").attr(\"stroke\", \"black\");});</script>"
      ]
     },
     "metadata": {},
     "output_type": "display_data"
    },
    {
     "data": {
      "text/html": [
       "<script>require([\"d3\"], function(d3) {d3.select(\".usersvg #canvasLcz\").append(\"path\").attr(\"id\", \"pixel_arrowucN\").attr(\"transform\", \"translate(9 3)\").attr(\"transform\", \"translate(3.5 9.5) rotate(-270)\").attr(\"d\", \"M0 0 L0 0.5 M -0.15 0.3 L0 0.5 L0.15 0.3\").attr(\"stroke-width\", \"0.1\").attr(\"stroke\", \"black\");});</script>"
      ]
     },
     "metadata": {},
     "output_type": "display_data"
    },
    {
     "data": {
      "text/html": [
       "<script>require([\"d3\"], function(d3) {d3.select(\".usersvg #canvasLcz\").append(\"path\").attr(\"id\", \"pixel_arrow470\").attr(\"transform\", \"translate(7 0)\").attr(\"transform\", \"translate(0.5 7.5) rotate(-270)\").attr(\"d\", \"M0 0 L0 0.5 M -0.15 0.3 L0 0.5 L0.15 0.3\").attr(\"stroke-width\", \"0.1\").attr(\"stroke\", \"black\");});</script>"
      ]
     },
     "metadata": {},
     "output_type": "display_data"
    },
    {
     "data": {
      "text/html": [
       "<script>require([\"d3\"], function(d3) {d3.select(\".usersvg #canvasLcz\").append(\"path\").attr(\"id\", \"pixel_arrow2iw\").attr(\"transform\", \"translate(2 4)\").attr(\"transform\", \"translate(4.5 2.5) rotate(-270)\").attr(\"d\", \"M0 0 L0 0.5 M -0.15 0.3 L0 0.5 L0.15 0.3\").attr(\"stroke-width\", \"0.1\").attr(\"stroke\", \"black\");});</script>"
      ]
     },
     "metadata": {},
     "output_type": "display_data"
    },
    {
     "data": {
      "text/html": [
       "<script>require([\"d3\"], function(d3) {d3.select(\".usersvg #canvasLcz\").append(\"path\").attr(\"id\", \"pixel_arrow0Zk\").attr(\"transform\", \"translate(10 2)\").attr(\"transform\", \"translate(2.5 10.5) rotate(-360)\").attr(\"d\", \"M0 0 L0 0.5 M -0.15 0.3 L0 0.5 L0.15 0.3\").attr(\"stroke-width\", \"0.1\").attr(\"stroke\", \"black\");});</script>"
      ]
     },
     "metadata": {},
     "output_type": "display_data"
    },
    {
     "data": {
      "text/html": [
       "<script>require([\"d3\"], function(d3) {d3.select(\".usersvg #canvasLcz\").append(\"path\").attr(\"id\", \"pixel_arrow0LT\").attr(\"transform\", \"translate(8 5)\").attr(\"transform\", \"translate(5.5 8.5) rotate(-180)\").attr(\"d\", \"M0 0 L0 0.5 M -0.15 0.3 L0 0.5 L0.15 0.3\").attr(\"stroke-width\", \"0.1\").attr(\"stroke\", \"black\");});</script>"
      ]
     },
     "metadata": {},
     "output_type": "display_data"
    },
    {
     "data": {
      "text/html": [
       "<script>require([\"d3\"], function(d3) {d3.select(\".usersvg #canvasLcz\").append(\"path\").attr(\"id\", \"pixel_arrow7dV\").attr(\"transform\", \"translate(4 3)\").attr(\"transform\", \"translate(3.5 4.5) rotate(-180)\").attr(\"d\", \"M0 0 L0 0.5 M -0.15 0.3 L0 0.5 L0.15 0.3\").attr(\"stroke-width\", \"0.1\").attr(\"stroke\", \"black\");});</script>"
      ]
     },
     "metadata": {},
     "output_type": "display_data"
    },
    {
     "data": {
      "text/html": [
       "<script>require([\"d3\"], function(d3) {d3.select(\".usersvg #canvasLcz\").append(\"path\").attr(\"id\", \"pixel_arrowPab\").attr(\"transform\", \"translate(3 10)\").attr(\"transform\", \"translate(10.5 3.5) rotate(-180)\").attr(\"d\", \"M0 0 L0 0.5 M -0.15 0.3 L0 0.5 L0.15 0.3\").attr(\"stroke-width\", \"0.1\").attr(\"stroke\", \"black\");});</script>"
      ]
     },
     "metadata": {},
     "output_type": "display_data"
    },
    {
     "data": {
      "text/html": [
       "<script>require([\"d3\"], function(d3) {d3.select(\".usersvg #canvasLcz\").append(\"path\").attr(\"id\", \"pixel_arrowps6\").attr(\"transform\", \"translate(14 2)\").attr(\"transform\", \"translate(2.5 14.5) rotate(-270)\").attr(\"d\", \"M0 0 L0 0.5 M -0.15 0.3 L0 0.5 L0.15 0.3\").attr(\"stroke-width\", \"0.1\").attr(\"stroke\", \"black\");});</script>"
      ]
     },
     "metadata": {},
     "output_type": "display_data"
    },
    {
     "data": {
      "text/html": [
       "<script>require([\"d3\"], function(d3) {d3.select(\".usersvg #canvasLcz\").append(\"path\").attr(\"id\", \"pixel_arrowBfz\").attr(\"transform\", \"translate(14 0)\").attr(\"transform\", \"translate(0.5 14.5) rotate(-360)\").attr(\"d\", \"M0 0 L0 0.5 M -0.15 0.3 L0 0.5 L0.15 0.3\").attr(\"stroke-width\", \"0.1\").attr(\"stroke\", \"black\");});</script>"
      ]
     },
     "metadata": {},
     "output_type": "display_data"
    },
    {
     "data": {
      "text/html": [
       "<script>require([\"d3\"], function(d3) {d3.select(\".usersvg #canvasLcz\").append(\"path\").attr(\"id\", \"pixel_arrow8ll\").attr(\"transform\", \"translate(16 16)\").attr(\"transform\", \"translate(16.5 16.5) rotate(-90)\").attr(\"d\", \"M0 0 L0 0.5 M -0.15 0.3 L0 0.5 L0.15 0.3\").attr(\"stroke-width\", \"0.1\").attr(\"stroke\", \"black\");});</script>"
      ]
     },
     "metadata": {},
     "output_type": "display_data"
    },
    {
     "data": {
      "text/html": [
       "<script>require([\"d3\"], function(d3) {d3.select(\".usersvg #canvasLcz\").append(\"path\").attr(\"id\", \"pixel_arrowICb\").attr(\"transform\", \"translate(13 15)\").attr(\"transform\", \"translate(15.5 13.5) rotate(-180)\").attr(\"d\", \"M0 0 L0 0.5 M -0.15 0.3 L0 0.5 L0.15 0.3\").attr(\"stroke-width\", \"0.1\").attr(\"stroke\", \"black\");});</script>"
      ]
     },
     "metadata": {},
     "output_type": "display_data"
    },
    {
     "data": {
      "text/html": [
       "<script>require([\"d3\"], function(d3) {d3.select(\".usersvg #canvasLcz\").append(\"path\").attr(\"id\", \"pixel_arrowqVD\").attr(\"transform\", \"translate(5 13)\").attr(\"transform\", \"translate(13.5 5.5) rotate(-360)\").attr(\"d\", \"M0 0 L0 0.5 M -0.15 0.3 L0 0.5 L0.15 0.3\").attr(\"stroke-width\", \"0.1\").attr(\"stroke\", \"black\");});</script>"
      ]
     },
     "metadata": {},
     "output_type": "display_data"
    },
    {
     "data": {
      "text/html": [
       "<script>require([\"d3\"], function(d3) {d3.select(\".usersvg #canvasLcz\").append(\"path\").attr(\"id\", \"pixel_arrowwvd\").attr(\"transform\", \"translate(3 0)\").attr(\"transform\", \"translate(0.5 3.5) rotate(-180)\").attr(\"d\", \"M0 0 L0 0.5 M -0.15 0.3 L0 0.5 L0.15 0.3\").attr(\"stroke-width\", \"0.1\").attr(\"stroke\", \"black\");});</script>"
      ]
     },
     "metadata": {},
     "output_type": "display_data"
    },
    {
     "data": {
      "text/html": [
       "<script>require([\"d3\"], function(d3) {d3.select(\".usersvg #canvasLcz\").append(\"path\").attr(\"id\", \"pixel_arrowCUf\").attr(\"transform\", \"translate(7 6)\").attr(\"transform\", \"translate(6.5 7.5) rotate(-90)\").attr(\"d\", \"M0 0 L0 0.5 M -0.15 0.3 L0 0.5 L0.15 0.3\").attr(\"stroke-width\", \"0.1\").attr(\"stroke\", \"black\");});</script>"
      ]
     },
     "metadata": {},
     "output_type": "display_data"
    },
    {
     "data": {
      "text/html": [
       "<script>require([\"d3\"], function(d3) {d3.select(\".usersvg #canvasLcz\").append(\"path\").attr(\"id\", \"pixel_arrow9aH\").attr(\"transform\", \"translate(7 4)\").attr(\"transform\", \"translate(4.5 7.5) rotate(-180)\").attr(\"d\", \"M0 0 L0 0.5 M -0.15 0.3 L0 0.5 L0.15 0.3\").attr(\"stroke-width\", \"0.1\").attr(\"stroke\", \"black\");});</script>"
      ]
     },
     "metadata": {},
     "output_type": "display_data"
    },
    {
     "data": {
      "text/html": [
       "<script>require([\"d3\"], function(d3) {d3.select(\".usersvg #canvasLcz\").append(\"path\").attr(\"id\", \"pixel_arrowFWH\").attr(\"transform\", \"translate(10 14)\").attr(\"transform\", \"translate(14.5 10.5) rotate(-90)\").attr(\"d\", \"M0 0 L0 0.5 M -0.15 0.3 L0 0.5 L0.15 0.3\").attr(\"stroke-width\", \"0.1\").attr(\"stroke\", \"black\");});</script>"
      ]
     },
     "metadata": {},
     "output_type": "display_data"
    },
    {
     "data": {
      "text/html": [
       "<script>require([\"d3\"], function(d3) {d3.select(\".usersvg #canvasLcz\").append(\"path\").attr(\"id\", \"pixel_arrowl7e\").attr(\"transform\", \"translate(17 11)\").attr(\"transform\", \"translate(11.5 17.5) rotate(-270)\").attr(\"d\", \"M0 0 L0 0.5 M -0.15 0.3 L0 0.5 L0.15 0.3\").attr(\"stroke-width\", \"0.1\").attr(\"stroke\", \"black\");});</script>"
      ]
     },
     "metadata": {},
     "output_type": "display_data"
    },
    {
     "data": {
      "text/html": [
       "<script>require([\"d3\"], function(d3) {d3.select(\".usersvg #canvasLcz\").append(\"path\").attr(\"id\", \"pixel_arrowefy\").attr(\"transform\", \"translate(8 12)\").attr(\"transform\", \"translate(12.5 8.5) rotate(-180)\").attr(\"d\", \"M0 0 L0 0.5 M -0.15 0.3 L0 0.5 L0.15 0.3\").attr(\"stroke-width\", \"0.1\").attr(\"stroke\", \"black\");});</script>"
      ]
     },
     "metadata": {},
     "output_type": "display_data"
    },
    {
     "data": {
      "text/html": [
       "<script>require([\"d3\"], function(d3) {d3.select(\".usersvg #canvasLcz\").append(\"path\").attr(\"id\", \"pixel_arrowxpr\").attr(\"transform\", \"translate(12 16)\").attr(\"transform\", \"translate(16.5 12.5) rotate(-270)\").attr(\"d\", \"M0 0 L0 0.5 M -0.15 0.3 L0 0.5 L0.15 0.3\").attr(\"stroke-width\", \"0.1\").attr(\"stroke\", \"black\");});</script>"
      ]
     },
     "metadata": {},
     "output_type": "display_data"
    },
    {
     "data": {
      "text/html": [
       "<script>require([\"d3\"], function(d3) {d3.select(\".usersvg #canvasLcz\").append(\"path\").attr(\"id\", \"pixel_arrowIoR\").attr(\"transform\", \"translate(15 4)\").attr(\"transform\", \"translate(4.5 15.5) rotate(-270)\").attr(\"d\", \"M0 0 L0 0.5 M -0.15 0.3 L0 0.5 L0.15 0.3\").attr(\"stroke-width\", \"0.1\").attr(\"stroke\", \"black\");});</script>"
      ]
     },
     "metadata": {},
     "output_type": "display_data"
    },
    {
     "data": {
      "text/html": [
       "<script>require([\"d3\"], function(d3) {d3.select(\".usersvg #canvasLcz\").append(\"path\").attr(\"id\", \"pixel_arrowiPJ\").attr(\"transform\", \"translate(16 4)\").attr(\"transform\", \"translate(4.5 16.5) rotate(-360)\").attr(\"d\", \"M0 0 L0 0.5 M -0.15 0.3 L0 0.5 L0.15 0.3\").attr(\"stroke-width\", \"0.1\").attr(\"stroke\", \"black\");});</script>"
      ]
     },
     "metadata": {},
     "output_type": "display_data"
    },
    {
     "data": {
      "text/html": [
       "<script>require([\"d3\"], function(d3) {d3.select(\".usersvg #canvasLcz\").append(\"path\").attr(\"id\", \"pixel_arrowgTb\").attr(\"transform\", \"translate(5 1)\").attr(\"transform\", \"translate(1.5 5.5) rotate(-90)\").attr(\"d\", \"M0 0 L0 0.5 M -0.15 0.3 L0 0.5 L0.15 0.3\").attr(\"stroke-width\", \"0.1\").attr(\"stroke\", \"black\");});</script>"
      ]
     },
     "metadata": {},
     "output_type": "display_data"
    },
    {
     "data": {
      "text/html": [
       "<script>require([\"d3\"], function(d3) {d3.select(\".usersvg #canvasLcz\").append(\"path\").attr(\"id\", \"pixel_arrowBJo\").attr(\"transform\", \"translate(12 12)\").attr(\"transform\", \"translate(12.5 12.5) rotate(-360)\").attr(\"d\", \"M0 0 L0 0.5 M -0.15 0.3 L0 0.5 L0.15 0.3\").attr(\"stroke-width\", \"0.1\").attr(\"stroke\", \"black\");});</script>"
      ]
     },
     "metadata": {},
     "output_type": "display_data"
    },
    {
     "data": {
      "text/html": [
       "<script>require([\"d3\"], function(d3) {d3.select(\".usersvg #canvasLcz\").append(\"path\").attr(\"id\", \"pixel_arrowZup\").attr(\"transform\", \"translate(12 13)\").attr(\"transform\", \"translate(13.5 12.5) rotate(-270)\").attr(\"d\", \"M0 0 L0 0.5 M -0.15 0.3 L0 0.5 L0.15 0.3\").attr(\"stroke-width\", \"0.1\").attr(\"stroke\", \"black\");});</script>"
      ]
     },
     "metadata": {},
     "output_type": "display_data"
    },
    {
     "data": {
      "text/html": [
       "<script>require([\"d3\"], function(d3) {d3.select(\".usersvg #canvasLcz\").append(\"path\").attr(\"id\", \"pixel_arrowHqO\").attr(\"transform\", \"translate(3 15)\").attr(\"transform\", \"translate(15.5 3.5) rotate(-180)\").attr(\"d\", \"M0 0 L0 0.5 M -0.15 0.3 L0 0.5 L0.15 0.3\").attr(\"stroke-width\", \"0.1\").attr(\"stroke\", \"black\");});</script>"
      ]
     },
     "metadata": {},
     "output_type": "display_data"
    },
    {
     "data": {
      "text/html": [
       "<script>require([\"d3\"], function(d3) {d3.select(\".usersvg #canvasLcz\").append(\"path\").attr(\"id\", \"pixel_arrowY9h\").attr(\"transform\", \"translate(8 13)\").attr(\"transform\", \"translate(13.5 8.5) rotate(-180)\").attr(\"d\", \"M0 0 L0 0.5 M -0.15 0.3 L0 0.5 L0.15 0.3\").attr(\"stroke-width\", \"0.1\").attr(\"stroke\", \"black\");});</script>"
      ]
     },
     "metadata": {},
     "output_type": "display_data"
    },
    {
     "data": {
      "text/html": [
       "<script>require([\"d3\"], function(d3) {d3.select(\".usersvg #canvasLcz\").append(\"path\").attr(\"id\", \"pixel_arrowMPE\").attr(\"transform\", \"translate(11 8)\").attr(\"transform\", \"translate(8.5 11.5) rotate(-90)\").attr(\"d\", \"M0 0 L0 0.5 M -0.15 0.3 L0 0.5 L0.15 0.3\").attr(\"stroke-width\", \"0.1\").attr(\"stroke\", \"black\");});</script>"
      ]
     },
     "metadata": {},
     "output_type": "display_data"
    },
    {
     "data": {
      "text/html": [
       "<script>require([\"d3\"], function(d3) {d3.select(\".usersvg #canvasLcz\").append(\"path\").attr(\"id\", \"pixel_arrowtML\").attr(\"transform\", \"translate(16 14)\").attr(\"transform\", \"translate(14.5 16.5) rotate(-90)\").attr(\"d\", \"M0 0 L0 0.5 M -0.15 0.3 L0 0.5 L0.15 0.3\").attr(\"stroke-width\", \"0.1\").attr(\"stroke\", \"black\");});</script>"
      ]
     },
     "metadata": {},
     "output_type": "display_data"
    },
    {
     "data": {
      "text/html": [
       "<script>require([\"d3\"], function(d3) {d3.select(\".usersvg #canvasLcz\").append(\"path\").attr(\"id\", \"pixel_arrowWBG\").attr(\"transform\", \"translate(2 14)\").attr(\"transform\", \"translate(14.5 2.5) rotate(-180)\").attr(\"d\", \"M0 0 L0 0.5 M -0.15 0.3 L0 0.5 L0.15 0.3\").attr(\"stroke-width\", \"0.1\").attr(\"stroke\", \"black\");});</script>"
      ]
     },
     "metadata": {},
     "output_type": "display_data"
    },
    {
     "data": {
      "text/html": [
       "<script>require([\"d3\"], function(d3) {d3.select(\".usersvg #canvasLcz\").append(\"path\").attr(\"id\", \"pixel_arrowMju\").attr(\"transform\", \"translate(2 16)\").attr(\"transform\", \"translate(16.5 2.5) rotate(-180)\").attr(\"d\", \"M0 0 L0 0.5 M -0.15 0.3 L0 0.5 L0.15 0.3\").attr(\"stroke-width\", \"0.1\").attr(\"stroke\", \"black\");});</script>"
      ]
     },
     "metadata": {},
     "output_type": "display_data"
    },
    {
     "data": {
      "text/html": [
       "<script>require([\"d3\"], function(d3) {d3.select(\".usersvg #canvasLcz\").append(\"path\").attr(\"id\", \"pixel_arrowyZ6\").attr(\"transform\", \"translate(17 4)\").attr(\"transform\", \"translate(4.5 17.5) rotate(-270)\").attr(\"d\", \"M0 0 L0 0.5 M -0.15 0.3 L0 0.5 L0.15 0.3\").attr(\"stroke-width\", \"0.1\").attr(\"stroke\", \"black\");});</script>"
      ]
     },
     "metadata": {},
     "output_type": "display_data"
    },
    {
     "data": {
      "text/html": [
       "<script>require([\"d3\"], function(d3) {d3.select(\".usersvg #canvasLcz\").append(\"path\").attr(\"id\", \"pixel_arrowpBR\").attr(\"transform\", \"translate(15 1)\").attr(\"transform\", \"translate(1.5 15.5) rotate(-360)\").attr(\"d\", \"M0 0 L0 0.5 M -0.15 0.3 L0 0.5 L0.15 0.3\").attr(\"stroke-width\", \"0.1\").attr(\"stroke\", \"black\");});</script>"
      ]
     },
     "metadata": {},
     "output_type": "display_data"
    },
    {
     "data": {
      "text/html": [
       "<script>require([\"d3\"], function(d3) {d3.select(\".usersvg #canvasLcz\").append(\"path\").attr(\"id\", \"pixel_arrowbWY\").attr(\"transform\", \"translate(15 5)\").attr(\"transform\", \"translate(5.5 15.5) rotate(-360)\").attr(\"d\", \"M0 0 L0 0.5 M -0.15 0.3 L0 0.5 L0.15 0.3\").attr(\"stroke-width\", \"0.1\").attr(\"stroke\", \"black\");});</script>"
      ]
     },
     "metadata": {},
     "output_type": "display_data"
    },
    {
     "data": {
      "text/html": [
       "<script>require([\"d3\"], function(d3) {d3.select(\".usersvg #canvasLcz\").append(\"path\").attr(\"id\", \"pixel_arrowliP\").attr(\"transform\", \"translate(0 11)\").attr(\"transform\", \"translate(11.5 0.5) rotate(-180)\").attr(\"d\", \"M0 0 L0 0.5 M -0.15 0.3 L0 0.5 L0.15 0.3\").attr(\"stroke-width\", \"0.1\").attr(\"stroke\", \"black\");});</script>"
      ]
     },
     "metadata": {},
     "output_type": "display_data"
    },
    {
     "data": {
      "text/html": [
       "<script>require([\"d3\"], function(d3) {d3.select(\".usersvg #canvasLcz\").append(\"path\").attr(\"id\", \"pixel_arrowwL0\").attr(\"transform\", \"translate(12 7)\").attr(\"transform\", \"translate(7.5 12.5) rotate(-360)\").attr(\"d\", \"M0 0 L0 0.5 M -0.15 0.3 L0 0.5 L0.15 0.3\").attr(\"stroke-width\", \"0.1\").attr(\"stroke\", \"black\");});</script>"
      ]
     },
     "metadata": {},
     "output_type": "display_data"
    },
    {
     "data": {
      "text/html": [
       "<script>require([\"d3\"], function(d3) {d3.select(\".usersvg #canvasLcz\").append(\"path\").attr(\"id\", \"pixel_arrowGw5\").attr(\"transform\", \"translate(5 2)\").attr(\"transform\", \"translate(2.5 5.5) rotate(-90)\").attr(\"d\", \"M0 0 L0 0.5 M -0.15 0.3 L0 0.5 L0.15 0.3\").attr(\"stroke-width\", \"0.1\").attr(\"stroke\", \"black\");});</script>"
      ]
     },
     "metadata": {},
     "output_type": "display_data"
    },
    {
     "data": {
      "text/html": [
       "<script>require([\"d3\"], function(d3) {d3.select(\".usersvg #canvasLcz\").append(\"path\").attr(\"id\", \"pixel_arrowIAA\").attr(\"transform\", \"translate(3 6)\").attr(\"transform\", \"translate(6.5 3.5) rotate(-270)\").attr(\"d\", \"M0 0 L0 0.5 M -0.15 0.3 L0 0.5 L0.15 0.3\").attr(\"stroke-width\", \"0.1\").attr(\"stroke\", \"black\");});</script>"
      ]
     },
     "metadata": {},
     "output_type": "display_data"
    },
    {
     "data": {
      "text/html": [
       "<script>require([\"d3\"], function(d3) {d3.select(\".usersvg #canvasLcz\").append(\"path\").attr(\"id\", \"pixel_arrowGGL\").attr(\"transform\", \"translate(8 4)\").attr(\"transform\", \"translate(4.5 8.5) rotate(-180)\").attr(\"d\", \"M0 0 L0 0.5 M -0.15 0.3 L0 0.5 L0.15 0.3\").attr(\"stroke-width\", \"0.1\").attr(\"stroke\", \"black\");});</script>"
      ]
     },
     "metadata": {},
     "output_type": "display_data"
    },
    {
     "data": {
      "text/html": [
       "<script>require([\"d3\"], function(d3) {d3.select(\".usersvg #canvasLcz\").append(\"path\").attr(\"id\", \"pixel_arrowUhv\").attr(\"transform\", \"translate(13 12)\").attr(\"transform\", \"translate(12.5 13.5) rotate(-180)\").attr(\"d\", \"M0 0 L0 0.5 M -0.15 0.3 L0 0.5 L0.15 0.3\").attr(\"stroke-width\", \"0.1\").attr(\"stroke\", \"black\");});</script>"
      ]
     },
     "metadata": {},
     "output_type": "display_data"
    },
    {
     "data": {
      "text/html": [
       "<script>require([\"d3\"], function(d3) {d3.select(\".usersvg #canvasLcz\").append(\"path\").attr(\"id\", \"pixel_arrowdRK\").attr(\"transform\", \"translate(14 6)\").attr(\"transform\", \"translate(6.5 14.5) rotate(-180)\").attr(\"d\", \"M0 0 L0 0.5 M -0.15 0.3 L0 0.5 L0.15 0.3\").attr(\"stroke-width\", \"0.1\").attr(\"stroke\", \"black\");});</script>"
      ]
     },
     "metadata": {},
     "output_type": "display_data"
    },
    {
     "data": {
      "text/html": [
       "<script>require([\"d3\"], function(d3) {d3.select(\".usersvg #canvasLcz\").append(\"path\").attr(\"id\", \"pixel_arrowmxm\").attr(\"transform\", \"translate(3 8)\").attr(\"transform\", \"translate(8.5 3.5) rotate(-90)\").attr(\"d\", \"M0 0 L0 0.5 M -0.15 0.3 L0 0.5 L0.15 0.3\").attr(\"stroke-width\", \"0.1\").attr(\"stroke\", \"black\");});</script>"
      ]
     },
     "metadata": {},
     "output_type": "display_data"
    },
    {
     "data": {
      "text/html": [
       "<script>require([\"d3\"], function(d3) {d3.select(\".usersvg #canvasLcz\").append(\"path\").attr(\"id\", \"pixel_arrowF2F\").attr(\"transform\", \"translate(9 10)\").attr(\"transform\", \"translate(10.5 9.5) rotate(-360)\").attr(\"d\", \"M0 0 L0 0.5 M -0.15 0.3 L0 0.5 L0.15 0.3\").attr(\"stroke-width\", \"0.1\").attr(\"stroke\", \"black\");});</script>"
      ]
     },
     "metadata": {},
     "output_type": "display_data"
    },
    {
     "data": {
      "text/html": [
       "<script>require([\"d3\"], function(d3) {d3.select(\".usersvg #canvasLcz\").append(\"path\").attr(\"id\", \"pixel_arrowTPs\").attr(\"transform\", \"translate(5 7)\").attr(\"transform\", \"translate(7.5 5.5) rotate(-90)\").attr(\"d\", \"M0 0 L0 0.5 M -0.15 0.3 L0 0.5 L0.15 0.3\").attr(\"stroke-width\", \"0.1\").attr(\"stroke\", \"black\");});</script>"
      ]
     },
     "metadata": {},
     "output_type": "display_data"
    },
    {
     "data": {
      "text/html": [
       "<script>require([\"d3\"], function(d3) {d3.select(\".usersvg #canvasLcz\").append(\"path\").attr(\"id\", \"pixel_arrowWUk\").attr(\"transform\", \"translate(16 9)\").attr(\"transform\", \"translate(9.5 16.5) rotate(-180)\").attr(\"d\", \"M0 0 L0 0.5 M -0.15 0.3 L0 0.5 L0.15 0.3\").attr(\"stroke-width\", \"0.1\").attr(\"stroke\", \"black\");});</script>"
      ]
     },
     "metadata": {},
     "output_type": "display_data"
    }
   ],
   "source": [
    "rotation = Dict(\"up\" => 90, \"down\" => 270, \"right\" => 0, \"left\" => 180)\n",
    "for key in keys(greedy) add_pixel_arrow(rtcanvas, key..., rotation[greedy[key]]) end"
   ]
  },
  {
   "cell_type": "code",
   "execution_count": 143,
   "metadata": {
    "collapsed": false
   },
   "outputs": [],
   "source": [
    "n = 10\n",
    "for outi in 1:5\n",
    "    Q = zeros(size(right_turn.states, 1), 4)\n",
    "    greedy = Dict()\n",
    "    for (i, x) in enumerate(right_turn.states)\n",
    "        action_set = right_turn.actions(x)\n",
    "        for (j, action) in enumerate(action_set)\n",
    "            totalr = 0\n",
    "            for k in 1:n\n",
    "                s, r, a = episode(agent, right_turn, x, action)\n",
    "                totalr += (sum(r) - totalr) / k\n",
    "            end\n",
    "            Q[i, j] = totalr\n",
    "        end\n",
    "        val, k = findmax(Q[i,:])\n",
    "        greedy[x] = action_set[k]\n",
    "    end\n",
    "    old_greedy = copy(greedy)\n",
    "    agent.policy(s) = (rand() < 0.1) ? rand(right_turn.actions(s)) : old_greedy[s]\n",
    "end"
   ]
  },
  {
   "cell_type": "markdown",
   "metadata": {},
   "source": [
    "## Circuit"
   ]
  },
  {
   "cell_type": "code",
   "execution_count": 36,
   "metadata": {
    "collapsed": false
   },
   "outputs": [
    {
     "data": {
      "text/html": [
       "<div class=\"usersvg\">\n",
       "<svg id='canvas3mn' width='720' height='360' viewbox='0 0 30 18'></svg>\n",
       "</div>\n",
       "<script> \n",
       "requirejs.config({paths: {d3: \"https://d3js.org/d3.v3.min.js?noext\"}});  \n",
       "</script>\n"
      ]
     },
     "metadata": {},
     "output_type": "display_data"
    },
    {
     "data": {
      "application/javascript": [
       "var svg=document.getElementById('canvas3mn');var newElement;newElement = document.createElementNS(\"http://www.w3.org/2000/svg\", 'rect'); \n",
       "newElement.setAttribute('width','1'); \n",
       "newElement.setAttribute('height','1'); \n",
       "newElement.setAttribute('x','0'); \n",
       "newElement.setAttribute('y','0'); \n",
       "newElement.style.fill = 'green'; \n",
       "svg.appendChild(newElement);\n",
       "newElement = document.createElementNS(\"http://www.w3.org/2000/svg\", 'rect'); \n",
       "newElement.setAttribute('width','1'); \n",
       "newElement.setAttribute('height','1'); \n",
       "newElement.setAttribute('x','1'); \n",
       "newElement.setAttribute('y','0'); \n",
       "newElement.style.fill = 'green'; \n",
       "svg.appendChild(newElement);\n",
       "newElement = document.createElementNS(\"http://www.w3.org/2000/svg\", 'rect'); \n",
       "newElement.setAttribute('width','1'); \n",
       "newElement.setAttribute('height','1'); \n",
       "newElement.setAttribute('x','2'); \n",
       "newElement.setAttribute('y','0'); \n",
       "newElement.style.fill = 'green'; \n",
       "svg.appendChild(newElement);\n",
       "newElement = document.createElementNS(\"http://www.w3.org/2000/svg\", 'rect'); \n",
       "newElement.setAttribute('width','1'); \n",
       "newElement.setAttribute('height','1'); \n",
       "newElement.setAttribute('x','3'); \n",
       "newElement.setAttribute('y','0'); \n",
       "newElement.style.fill = 'green'; \n",
       "svg.appendChild(newElement);\n",
       "newElement = document.createElementNS(\"http://www.w3.org/2000/svg\", 'rect'); \n",
       "newElement.setAttribute('width','1'); \n",
       "newElement.setAttribute('height','1'); \n",
       "newElement.setAttribute('x','4'); \n",
       "newElement.setAttribute('y','0'); \n",
       "newElement.style.fill = 'green'; \n",
       "svg.appendChild(newElement);\n",
       "newElement = document.createElementNS(\"http://www.w3.org/2000/svg\", 'rect'); \n",
       "newElement.setAttribute('width','1'); \n",
       "newElement.setAttribute('height','1'); \n",
       "newElement.setAttribute('x','5'); \n",
       "newElement.setAttribute('y','0'); \n",
       "newElement.style.fill = 'green'; \n",
       "svg.appendChild(newElement);\n",
       "newElement = document.createElementNS(\"http://www.w3.org/2000/svg\", 'rect'); \n",
       "newElement.setAttribute('width','1'); \n",
       "newElement.setAttribute('height','1'); \n",
       "newElement.setAttribute('x','6'); \n",
       "newElement.setAttribute('y','0'); \n",
       "newElement.style.fill = 'green'; \n",
       "svg.appendChild(newElement);\n",
       "newElement = document.createElementNS(\"http://www.w3.org/2000/svg\", 'rect'); \n",
       "newElement.setAttribute('width','1'); \n",
       "newElement.setAttribute('height','1'); \n",
       "newElement.setAttribute('x','7'); \n",
       "newElement.setAttribute('y','0'); \n",
       "newElement.style.fill = 'green'; \n",
       "svg.appendChild(newElement);\n",
       "newElement = document.createElementNS(\"http://www.w3.org/2000/svg\", 'rect'); \n",
       "newElement.setAttribute('width','1'); \n",
       "newElement.setAttribute('height','1'); \n",
       "newElement.setAttribute('x','8'); \n",
       "newElement.setAttribute('y','0'); \n",
       "newElement.style.fill = 'green'; \n",
       "svg.appendChild(newElement);\n",
       "newElement = document.createElementNS(\"http://www.w3.org/2000/svg\", 'rect'); \n",
       "newElement.setAttribute('width','1'); \n",
       "newElement.setAttribute('height','1'); \n",
       "newElement.setAttribute('x','9'); \n",
       "newElement.setAttribute('y','0'); \n",
       "newElement.style.fill = 'green'; \n",
       "svg.appendChild(newElement);\n",
       "newElement = document.createElementNS(\"http://www.w3.org/2000/svg\", 'rect'); \n",
       "newElement.setAttribute('width','1'); \n",
       "newElement.setAttribute('height','1'); \n",
       "newElement.setAttribute('x','10'); \n",
       "newElement.setAttribute('y','0'); \n",
       "newElement.style.fill = 'green'; \n",
       "svg.appendChild(newElement);\n",
       "newElement = document.createElementNS(\"http://www.w3.org/2000/svg\", 'rect'); \n",
       "newElement.setAttribute('width','1'); \n",
       "newElement.setAttribute('height','1'); \n",
       "newElement.setAttribute('x','11'); \n",
       "newElement.setAttribute('y','0'); \n",
       "newElement.style.fill = 'green'; \n",
       "svg.appendChild(newElement);\n",
       "newElement = document.createElementNS(\"http://www.w3.org/2000/svg\", 'rect'); \n",
       "newElement.setAttribute('width','1'); \n",
       "newElement.setAttribute('height','1'); \n",
       "newElement.setAttribute('x','12'); \n",
       "newElement.setAttribute('y','0'); \n",
       "newElement.style.fill = 'green'; \n",
       "svg.appendChild(newElement);\n",
       "newElement = document.createElementNS(\"http://www.w3.org/2000/svg\", 'rect'); \n",
       "newElement.setAttribute('width','1'); \n",
       "newElement.setAttribute('height','1'); \n",
       "newElement.setAttribute('x','13'); \n",
       "newElement.setAttribute('y','0'); \n",
       "newElement.style.fill = 'green'; \n",
       "svg.appendChild(newElement);\n",
       "newElement = document.createElementNS(\"http://www.w3.org/2000/svg\", 'rect'); \n",
       "newElement.setAttribute('width','1'); \n",
       "newElement.setAttribute('height','1'); \n",
       "newElement.setAttribute('x','14'); \n",
       "newElement.setAttribute('y','0'); \n",
       "newElement.style.fill = 'green'; \n",
       "svg.appendChild(newElement);\n",
       "newElement = document.createElementNS(\"http://www.w3.org/2000/svg\", 'rect'); \n",
       "newElement.setAttribute('width','1'); \n",
       "newElement.setAttribute('height','1'); \n",
       "newElement.setAttribute('x','15'); \n",
       "newElement.setAttribute('y','0'); \n",
       "newElement.style.fill = 'green'; \n",
       "svg.appendChild(newElement);\n",
       "newElement = document.createElementNS(\"http://www.w3.org/2000/svg\", 'rect'); \n",
       "newElement.setAttribute('width','1'); \n",
       "newElement.setAttribute('height','1'); \n",
       "newElement.setAttribute('x','16'); \n",
       "newElement.setAttribute('y','0'); \n",
       "newElement.style.fill = 'green'; \n",
       "svg.appendChild(newElement);\n",
       "newElement = document.createElementNS(\"http://www.w3.org/2000/svg\", 'rect'); \n",
       "newElement.setAttribute('width','1'); \n",
       "newElement.setAttribute('height','1'); \n",
       "newElement.setAttribute('x','17'); \n",
       "newElement.setAttribute('y','0'); \n",
       "newElement.style.fill = 'green'; \n",
       "svg.appendChild(newElement);\n",
       "newElement = document.createElementNS(\"http://www.w3.org/2000/svg\", 'rect'); \n",
       "newElement.setAttribute('width','1'); \n",
       "newElement.setAttribute('height','1'); \n",
       "newElement.setAttribute('x','18'); \n",
       "newElement.setAttribute('y','0'); \n",
       "newElement.style.fill = 'green'; \n",
       "svg.appendChild(newElement);\n",
       "newElement = document.createElementNS(\"http://www.w3.org/2000/svg\", 'rect'); \n",
       "newElement.setAttribute('width','1'); \n",
       "newElement.setAttribute('height','1'); \n",
       "newElement.setAttribute('x','19'); \n",
       "newElement.setAttribute('y','0'); \n",
       "newElement.style.fill = 'green'; \n",
       "svg.appendChild(newElement);\n",
       "newElement = document.createElementNS(\"http://www.w3.org/2000/svg\", 'rect'); \n",
       "newElement.setAttribute('width','1'); \n",
       "newElement.setAttribute('height','1'); \n",
       "newElement.setAttribute('x','20'); \n",
       "newElement.setAttribute('y','0'); \n",
       "newElement.style.fill = 'green'; \n",
       "svg.appendChild(newElement);\n",
       "newElement = document.createElementNS(\"http://www.w3.org/2000/svg\", 'rect'); \n",
       "newElement.setAttribute('width','1'); \n",
       "newElement.setAttribute('height','1'); \n",
       "newElement.setAttribute('x','21'); \n",
       "newElement.setAttribute('y','0'); \n",
       "newElement.style.fill = 'green'; \n",
       "svg.appendChild(newElement);\n",
       "newElement = document.createElementNS(\"http://www.w3.org/2000/svg\", 'rect'); \n",
       "newElement.setAttribute('width','1'); \n",
       "newElement.setAttribute('height','1'); \n",
       "newElement.setAttribute('x','22'); \n",
       "newElement.setAttribute('y','0'); \n",
       "newElement.style.fill = 'green'; \n",
       "svg.appendChild(newElement);\n",
       "newElement = document.createElementNS(\"http://www.w3.org/2000/svg\", 'rect'); \n",
       "newElement.setAttribute('width','1'); \n",
       "newElement.setAttribute('height','1'); \n",
       "newElement.setAttribute('x','23'); \n",
       "newElement.setAttribute('y','0'); \n",
       "newElement.style.fill = 'green'; \n",
       "svg.appendChild(newElement);\n",
       "newElement = document.createElementNS(\"http://www.w3.org/2000/svg\", 'rect'); \n",
       "newElement.setAttribute('width','1'); \n",
       "newElement.setAttribute('height','1'); \n",
       "newElement.setAttribute('x','24'); \n",
       "newElement.setAttribute('y','0'); \n",
       "newElement.style.fill = 'green'; \n",
       "svg.appendChild(newElement);\n",
       "newElement = document.createElementNS(\"http://www.w3.org/2000/svg\", 'rect'); \n",
       "newElement.setAttribute('width','1'); \n",
       "newElement.setAttribute('height','1'); \n",
       "newElement.setAttribute('x','25'); \n",
       "newElement.setAttribute('y','0'); \n",
       "newElement.style.fill = 'green'; \n",
       "svg.appendChild(newElement);\n",
       "newElement = document.createElementNS(\"http://www.w3.org/2000/svg\", 'rect'); \n",
       "newElement.setAttribute('width','1'); \n",
       "newElement.setAttribute('height','1'); \n",
       "newElement.setAttribute('x','26'); \n",
       "newElement.setAttribute('y','0'); \n",
       "newElement.style.fill = 'green'; \n",
       "svg.appendChild(newElement);\n",
       "newElement = document.createElementNS(\"http://www.w3.org/2000/svg\", 'rect'); \n",
       "newElement.setAttribute('width','1'); \n",
       "newElement.setAttribute('height','1'); \n",
       "newElement.setAttribute('x','27'); \n",
       "newElement.setAttribute('y','0'); \n",
       "newElement.style.fill = 'green'; \n",
       "svg.appendChild(newElement);\n",
       "newElement = document.createElementNS(\"http://www.w3.org/2000/svg\", 'rect'); \n",
       "newElement.setAttribute('width','1'); \n",
       "newElement.setAttribute('height','1'); \n",
       "newElement.setAttribute('x','28'); \n",
       "newElement.setAttribute('y','0'); \n",
       "newElement.style.fill = 'green'; \n",
       "svg.appendChild(newElement);\n",
       "newElement = document.createElementNS(\"http://www.w3.org/2000/svg\", 'rect'); \n",
       "newElement.setAttribute('width','1'); \n",
       "newElement.setAttribute('height','1'); \n",
       "newElement.setAttribute('x','29'); \n",
       "newElement.setAttribute('y','0'); \n",
       "newElement.style.fill = 'green'; \n",
       "svg.appendChild(newElement);\n",
       "newElement = document.createElementNS(\"http://www.w3.org/2000/svg\", 'rect'); \n",
       "newElement.setAttribute('width','1'); \n",
       "newElement.setAttribute('height','1'); \n",
       "newElement.setAttribute('x','0'); \n",
       "newElement.setAttribute('y','1'); \n",
       "newElement.style.fill = 'green'; \n",
       "svg.appendChild(newElement);\n",
       "newElement = document.createElementNS(\"http://www.w3.org/2000/svg\", 'rect'); \n",
       "newElement.setAttribute('width','1'); \n",
       "newElement.setAttribute('height','1'); \n",
       "newElement.setAttribute('x','1'); \n",
       "newElement.setAttribute('y','1'); \n",
       "newElement.style.fill = 'green'; \n",
       "svg.appendChild(newElement);\n",
       "newElement = document.createElementNS(\"http://www.w3.org/2000/svg\", 'rect'); \n",
       "newElement.setAttribute('width','1'); \n",
       "newElement.setAttribute('height','1'); \n",
       "newElement.setAttribute('x','2'); \n",
       "newElement.setAttribute('y','1'); \n",
       "newElement.style.fill = 'green'; \n",
       "svg.appendChild(newElement);\n",
       "newElement = document.createElementNS(\"http://www.w3.org/2000/svg\", 'rect'); \n",
       "newElement.setAttribute('width','1'); \n",
       "newElement.setAttribute('height','1'); \n",
       "newElement.setAttribute('x','3'); \n",
       "newElement.setAttribute('y','1'); \n",
       "newElement.style.fill = 'green'; \n",
       "svg.appendChild(newElement);\n",
       "newElement = document.createElementNS(\"http://www.w3.org/2000/svg\", 'rect'); \n",
       "newElement.setAttribute('width','1'); \n",
       "newElement.setAttribute('height','1'); \n",
       "newElement.setAttribute('x','4'); \n",
       "newElement.setAttribute('y','1'); \n",
       "newElement.style.fill = 'green'; \n",
       "svg.appendChild(newElement);\n",
       "newElement = document.createElementNS(\"http://www.w3.org/2000/svg\", 'rect'); \n",
       "newElement.setAttribute('width','1'); \n",
       "newElement.setAttribute('height','1'); \n",
       "newElement.setAttribute('x','5'); \n",
       "newElement.setAttribute('y','1'); \n",
       "newElement.style.fill = 'green'; \n",
       "svg.appendChild(newElement);\n",
       "newElement = document.createElementNS(\"http://www.w3.org/2000/svg\", 'rect'); \n",
       "newElement.setAttribute('width','1'); \n",
       "newElement.setAttribute('height','1'); \n",
       "newElement.setAttribute('x','6'); \n",
       "newElement.setAttribute('y','1'); \n",
       "newElement.style.fill = 'green'; \n",
       "svg.appendChild(newElement);\n",
       "newElement = document.createElementNS(\"http://www.w3.org/2000/svg\", 'rect'); \n",
       "newElement.setAttribute('width','1'); \n",
       "newElement.setAttribute('height','1'); \n",
       "newElement.setAttribute('x','7'); \n",
       "newElement.setAttribute('y','1'); \n",
       "newElement.style.fill = 'green'; \n",
       "svg.appendChild(newElement);\n",
       "newElement = document.createElementNS(\"http://www.w3.org/2000/svg\", 'rect'); \n",
       "newElement.setAttribute('width','1'); \n",
       "newElement.setAttribute('height','1'); \n",
       "newElement.setAttribute('x','8'); \n",
       "newElement.setAttribute('y','1'); \n",
       "newElement.style.fill = 'green'; \n",
       "svg.appendChild(newElement);\n",
       "newElement = document.createElementNS(\"http://www.w3.org/2000/svg\", 'rect'); \n",
       "newElement.setAttribute('width','1'); \n",
       "newElement.setAttribute('height','1'); \n",
       "newElement.setAttribute('x','9'); \n",
       "newElement.setAttribute('y','1'); \n",
       "newElement.style.fill = 'green'; \n",
       "svg.appendChild(newElement);\n",
       "newElement = document.createElementNS(\"http://www.w3.org/2000/svg\", 'rect'); \n",
       "newElement.setAttribute('width','1'); \n",
       "newElement.setAttribute('height','1'); \n",
       "newElement.setAttribute('x','10'); \n",
       "newElement.setAttribute('y','1'); \n",
       "newElement.style.fill = 'green'; \n",
       "svg.appendChild(newElement);\n",
       "newElement = document.createElementNS(\"http://www.w3.org/2000/svg\", 'rect'); \n",
       "newElement.setAttribute('width','1'); \n",
       "newElement.setAttribute('height','1'); \n",
       "newElement.setAttribute('x','11'); \n",
       "newElement.setAttribute('y','1'); \n",
       "newElement.style.fill = 'green'; \n",
       "svg.appendChild(newElement);\n",
       "newElement = document.createElementNS(\"http://www.w3.org/2000/svg\", 'rect'); \n",
       "newElement.setAttribute('width','1'); \n",
       "newElement.setAttribute('height','1'); \n",
       "newElement.setAttribute('x','12'); \n",
       "newElement.setAttribute('y','1'); \n",
       "newElement.style.fill = 'green'; \n",
       "svg.appendChild(newElement);\n",
       "newElement = document.createElementNS(\"http://www.w3.org/2000/svg\", 'rect'); \n",
       "newElement.setAttribute('width','1'); \n",
       "newElement.setAttribute('height','1'); \n",
       "newElement.setAttribute('x','13'); \n",
       "newElement.setAttribute('y','1'); \n",
       "newElement.style.fill = 'green'; \n",
       "svg.appendChild(newElement);\n",
       "newElement = document.createElementNS(\"http://www.w3.org/2000/svg\", 'rect'); \n",
       "newElement.setAttribute('width','1'); \n",
       "newElement.setAttribute('height','1'); \n",
       "newElement.setAttribute('x','14'); \n",
       "newElement.setAttribute('y','1'); \n",
       "newElement.style.fill = 'green'; \n",
       "svg.appendChild(newElement);\n",
       "newElement = document.createElementNS(\"http://www.w3.org/2000/svg\", 'rect'); \n",
       "newElement.setAttribute('width','1'); \n",
       "newElement.setAttribute('height','1'); \n",
       "newElement.setAttribute('x','15'); \n",
       "newElement.setAttribute('y','1'); \n",
       "newElement.style.fill = 'green'; \n",
       "svg.appendChild(newElement);\n",
       "newElement = document.createElementNS(\"http://www.w3.org/2000/svg\", 'rect'); \n",
       "newElement.setAttribute('width','1'); \n",
       "newElement.setAttribute('height','1'); \n",
       "newElement.setAttribute('x','16'); \n",
       "newElement.setAttribute('y','1'); \n",
       "newElement.style.fill = 'green'; \n",
       "svg.appendChild(newElement);\n",
       "newElement = document.createElementNS(\"http://www.w3.org/2000/svg\", 'rect'); \n",
       "newElement.setAttribute('width','1'); \n",
       "newElement.setAttribute('height','1'); \n",
       "newElement.setAttribute('x','17'); \n",
       "newElement.setAttribute('y','1'); \n",
       "newElement.style.fill = 'green'; \n",
       "svg.appendChild(newElement);\n",
       "newElement = document.createElementNS(\"http://www.w3.org/2000/svg\", 'rect'); \n",
       "newElement.setAttribute('width','1'); \n",
       "newElement.setAttribute('height','1'); \n",
       "newElement.setAttribute('x','18'); \n",
       "newElement.setAttribute('y','1'); \n",
       "newElement.style.fill = 'green'; \n",
       "svg.appendChild(newElement);\n",
       "newElement = document.createElementNS(\"http://www.w3.org/2000/svg\", 'rect'); \n",
       "newElement.setAttribute('width','1'); \n",
       "newElement.setAttribute('height','1'); \n",
       "newElement.setAttribute('x','19'); \n",
       "newElement.setAttribute('y','1'); \n",
       "newElement.style.fill = 'green'; \n",
       "svg.appendChild(newElement);\n",
       "newElement = document.createElementNS(\"http://www.w3.org/2000/svg\", 'rect'); \n",
       "newElement.setAttribute('width','1'); \n",
       "newElement.setAttribute('height','1'); \n",
       "newElement.setAttribute('x','20'); \n",
       "newElement.setAttribute('y','1'); \n",
       "newElement.style.fill = 'green'; \n",
       "svg.appendChild(newElement);\n",
       "newElement = document.createElementNS(\"http://www.w3.org/2000/svg\", 'rect'); \n",
       "newElement.setAttribute('width','1'); \n",
       "newElement.setAttribute('height','1'); \n",
       "newElement.setAttribute('x','21'); \n",
       "newElement.setAttribute('y','1'); \n",
       "newElement.style.fill = 'green'; \n",
       "svg.appendChild(newElement);\n",
       "newElement = document.createElementNS(\"http://www.w3.org/2000/svg\", 'rect'); \n",
       "newElement.setAttribute('width','1'); \n",
       "newElement.setAttribute('height','1'); \n",
       "newElement.setAttribute('x','22'); \n",
       "newElement.setAttribute('y','1'); \n",
       "newElement.style.fill = 'green'; \n",
       "svg.appendChild(newElement);\n",
       "newElement = document.createElementNS(\"http://www.w3.org/2000/svg\", 'rect'); \n",
       "newElement.setAttribute('width','1'); \n",
       "newElement.setAttribute('height','1'); \n",
       "newElement.setAttribute('x','23'); \n",
       "newElement.setAttribute('y','1'); \n",
       "newElement.style.fill = 'green'; \n",
       "svg.appendChild(newElement);\n",
       "newElement = document.createElementNS(\"http://www.w3.org/2000/svg\", 'rect'); \n",
       "newElement.setAttribute('width','1'); \n",
       "newElement.setAttribute('height','1'); \n",
       "newElement.setAttribute('x','24'); \n",
       "newElement.setAttribute('y','1'); \n",
       "newElement.style.fill = 'green'; \n",
       "svg.appendChild(newElement);\n",
       "newElement = document.createElementNS(\"http://www.w3.org/2000/svg\", 'rect'); \n",
       "newElement.setAttribute('width','1'); \n",
       "newElement.setAttribute('height','1'); \n",
       "newElement.setAttribute('x','25'); \n",
       "newElement.setAttribute('y','1'); \n",
       "newElement.style.fill = 'green'; \n",
       "svg.appendChild(newElement);\n",
       "newElement = document.createElementNS(\"http://www.w3.org/2000/svg\", 'rect'); \n",
       "newElement.setAttribute('width','1'); \n",
       "newElement.setAttribute('height','1'); \n",
       "newElement.setAttribute('x','26'); \n",
       "newElement.setAttribute('y','1'); \n",
       "newElement.style.fill = 'green'; \n",
       "svg.appendChild(newElement);\n",
       "newElement = document.createElementNS(\"http://www.w3.org/2000/svg\", 'rect'); \n",
       "newElement.setAttribute('width','1'); \n",
       "newElement.setAttribute('height','1'); \n",
       "newElement.setAttribute('x','27'); \n",
       "newElement.setAttribute('y','1'); \n",
       "newElement.style.fill = 'green'; \n",
       "svg.appendChild(newElement);\n",
       "newElement = document.createElementNS(\"http://www.w3.org/2000/svg\", 'rect'); \n",
       "newElement.setAttribute('width','1'); \n",
       "newElement.setAttribute('height','1'); \n",
       "newElement.setAttribute('x','28'); \n",
       "newElement.setAttribute('y','1'); \n",
       "newElement.style.fill = 'green'; \n",
       "svg.appendChild(newElement);\n",
       "newElement = document.createElementNS(\"http://www.w3.org/2000/svg\", 'rect'); \n",
       "newElement.setAttribute('width','1'); \n",
       "newElement.setAttribute('height','1'); \n",
       "newElement.setAttribute('x','29'); \n",
       "newElement.setAttribute('y','1'); \n",
       "newElement.style.fill = 'green'; \n",
       "svg.appendChild(newElement);\n",
       "newElement = document.createElementNS(\"http://www.w3.org/2000/svg\", 'rect'); \n",
       "newElement.setAttribute('width','1'); \n",
       "newElement.setAttribute('height','1'); \n",
       "newElement.setAttribute('x','0'); \n",
       "newElement.setAttribute('y','2'); \n",
       "newElement.style.fill = 'green'; \n",
       "svg.appendChild(newElement);\n",
       "newElement = document.createElementNS(\"http://www.w3.org/2000/svg\", 'rect'); \n",
       "newElement.setAttribute('width','1'); \n",
       "newElement.setAttribute('height','1'); \n",
       "newElement.setAttribute('x','1'); \n",
       "newElement.setAttribute('y','2'); \n",
       "newElement.style.fill = 'green'; \n",
       "svg.appendChild(newElement);\n",
       "newElement = document.createElementNS(\"http://www.w3.org/2000/svg\", 'rect'); \n",
       "newElement.setAttribute('width','1'); \n",
       "newElement.setAttribute('height','1'); \n",
       "newElement.setAttribute('x','2'); \n",
       "newElement.setAttribute('y','2'); \n",
       "newElement.style.fill = 'green'; \n",
       "svg.appendChild(newElement);\n",
       "newElement = document.createElementNS(\"http://www.w3.org/2000/svg\", 'rect'); \n",
       "newElement.setAttribute('width','1'); \n",
       "newElement.setAttribute('height','1'); \n",
       "newElement.setAttribute('x','3'); \n",
       "newElement.setAttribute('y','2'); \n",
       "newElement.style.fill = 'green'; \n",
       "svg.appendChild(newElement);\n",
       "newElement = document.createElementNS(\"http://www.w3.org/2000/svg\", 'rect'); \n",
       "newElement.setAttribute('width','1'); \n",
       "newElement.setAttribute('height','1'); \n",
       "newElement.setAttribute('x','4'); \n",
       "newElement.setAttribute('y','2'); \n",
       "newElement.style.fill = 'green'; \n",
       "svg.appendChild(newElement);\n",
       "newElement = document.createElementNS(\"http://www.w3.org/2000/svg\", 'rect'); \n",
       "newElement.setAttribute('width','1'); \n",
       "newElement.setAttribute('height','1'); \n",
       "newElement.setAttribute('x','5'); \n",
       "newElement.setAttribute('y','2'); \n",
       "newElement.style.fill = 'green'; \n",
       "svg.appendChild(newElement);\n",
       "newElement = document.createElementNS(\"http://www.w3.org/2000/svg\", 'rect'); \n",
       "newElement.setAttribute('width','1'); \n",
       "newElement.setAttribute('height','1'); \n",
       "newElement.setAttribute('x','6'); \n",
       "newElement.setAttribute('y','2'); \n",
       "newElement.style.fill = 'green'; \n",
       "svg.appendChild(newElement);\n",
       "newElement = document.createElementNS(\"http://www.w3.org/2000/svg\", 'rect'); \n",
       "newElement.setAttribute('width','1'); \n",
       "newElement.setAttribute('height','1'); \n",
       "newElement.setAttribute('x','7'); \n",
       "newElement.setAttribute('y','2'); \n",
       "newElement.style.fill = 'green'; \n",
       "svg.appendChild(newElement);\n",
       "newElement = document.createElementNS(\"http://www.w3.org/2000/svg\", 'rect'); \n",
       "newElement.setAttribute('width','1'); \n",
       "newElement.setAttribute('height','1'); \n",
       "newElement.setAttribute('x','8'); \n",
       "newElement.setAttribute('y','2'); \n",
       "newElement.style.fill = 'green'; \n",
       "svg.appendChild(newElement);\n",
       "newElement = document.createElementNS(\"http://www.w3.org/2000/svg\", 'rect'); \n",
       "newElement.setAttribute('width','1'); \n",
       "newElement.setAttribute('height','1'); \n",
       "newElement.setAttribute('x','9'); \n",
       "newElement.setAttribute('y','2'); \n",
       "newElement.style.fill = 'green'; \n",
       "svg.appendChild(newElement);\n",
       "newElement = document.createElementNS(\"http://www.w3.org/2000/svg\", 'rect'); \n",
       "newElement.setAttribute('width','1'); \n",
       "newElement.setAttribute('height','1'); \n",
       "newElement.setAttribute('x','10'); \n",
       "newElement.setAttribute('y','2'); \n",
       "newElement.style.fill = 'green'; \n",
       "svg.appendChild(newElement);\n",
       "newElement = document.createElementNS(\"http://www.w3.org/2000/svg\", 'rect'); \n",
       "newElement.setAttribute('width','1'); \n",
       "newElement.setAttribute('height','1'); \n",
       "newElement.setAttribute('x','11'); \n",
       "newElement.setAttribute('y','2'); \n",
       "newElement.style.fill = 'green'; \n",
       "svg.appendChild(newElement);\n",
       "newElement = document.createElementNS(\"http://www.w3.org/2000/svg\", 'rect'); \n",
       "newElement.setAttribute('width','1'); \n",
       "newElement.setAttribute('height','1'); \n",
       "newElement.setAttribute('x','12'); \n",
       "newElement.setAttribute('y','2'); \n",
       "newElement.style.fill = 'green'; \n",
       "svg.appendChild(newElement);\n",
       "newElement = document.createElementNS(\"http://www.w3.org/2000/svg\", 'rect'); \n",
       "newElement.setAttribute('width','1'); \n",
       "newElement.setAttribute('height','1'); \n",
       "newElement.setAttribute('x','13'); \n",
       "newElement.setAttribute('y','2'); \n",
       "newElement.style.fill = 'green'; \n",
       "svg.appendChild(newElement);\n",
       "newElement = document.createElementNS(\"http://www.w3.org/2000/svg\", 'rect'); \n",
       "newElement.setAttribute('width','1'); \n",
       "newElement.setAttribute('height','1'); \n",
       "newElement.setAttribute('x','14'); \n",
       "newElement.setAttribute('y','2'); \n",
       "newElement.style.fill = 'green'; \n",
       "svg.appendChild(newElement);\n",
       "newElement = document.createElementNS(\"http://www.w3.org/2000/svg\", 'rect'); \n",
       "newElement.setAttribute('width','1'); \n",
       "newElement.setAttribute('height','1'); \n",
       "newElement.setAttribute('x','15'); \n",
       "newElement.setAttribute('y','2'); \n",
       "newElement.style.fill = 'green'; \n",
       "svg.appendChild(newElement);\n",
       "newElement = document.createElementNS(\"http://www.w3.org/2000/svg\", 'rect'); \n",
       "newElement.setAttribute('width','1'); \n",
       "newElement.setAttribute('height','1'); \n",
       "newElement.setAttribute('x','16'); \n",
       "newElement.setAttribute('y','2'); \n",
       "newElement.style.fill = 'green'; \n",
       "svg.appendChild(newElement);\n",
       "newElement = document.createElementNS(\"http://www.w3.org/2000/svg\", 'rect'); \n",
       "newElement.setAttribute('width','1'); \n",
       "newElement.setAttribute('height','1'); \n",
       "newElement.setAttribute('x','17'); \n",
       "newElement.setAttribute('y','2'); \n",
       "newElement.style.fill = 'green'; \n",
       "svg.appendChild(newElement);\n",
       "newElement = document.createElementNS(\"http://www.w3.org/2000/svg\", 'rect'); \n",
       "newElement.setAttribute('width','1'); \n",
       "newElement.setAttribute('height','1'); \n",
       "newElement.setAttribute('x','18'); \n",
       "newElement.setAttribute('y','2'); \n",
       "newElement.style.fill = 'green'; \n",
       "svg.appendChild(newElement);\n",
       "newElement = document.createElementNS(\"http://www.w3.org/2000/svg\", 'rect'); \n",
       "newElement.setAttribute('width','1'); \n",
       "newElement.setAttribute('height','1'); \n",
       "newElement.setAttribute('x','19'); \n",
       "newElement.setAttribute('y','2'); \n",
       "newElement.style.fill = 'green'; \n",
       "svg.appendChild(newElement);\n",
       "newElement = document.createElementNS(\"http://www.w3.org/2000/svg\", 'rect'); \n",
       "newElement.setAttribute('width','1'); \n",
       "newElement.setAttribute('height','1'); \n",
       "newElement.setAttribute('x','20'); \n",
       "newElement.setAttribute('y','2'); \n",
       "newElement.style.fill = 'green'; \n",
       "svg.appendChild(newElement);\n",
       "newElement = document.createElementNS(\"http://www.w3.org/2000/svg\", 'rect'); \n",
       "newElement.setAttribute('width','1'); \n",
       "newElement.setAttribute('height','1'); \n",
       "newElement.setAttribute('x','21'); \n",
       "newElement.setAttribute('y','2'); \n",
       "newElement.style.fill = 'green'; \n",
       "svg.appendChild(newElement);\n",
       "newElement = document.createElementNS(\"http://www.w3.org/2000/svg\", 'rect'); \n",
       "newElement.setAttribute('width','1'); \n",
       "newElement.setAttribute('height','1'); \n",
       "newElement.setAttribute('x','22'); \n",
       "newElement.setAttribute('y','2'); \n",
       "newElement.style.fill = 'green'; \n",
       "svg.appendChild(newElement);\n",
       "newElement = document.createElementNS(\"http://www.w3.org/2000/svg\", 'rect'); \n",
       "newElement.setAttribute('width','1'); \n",
       "newElement.setAttribute('height','1'); \n",
       "newElement.setAttribute('x','23'); \n",
       "newElement.setAttribute('y','2'); \n",
       "newElement.style.fill = 'green'; \n",
       "svg.appendChild(newElement);\n",
       "newElement = document.createElementNS(\"http://www.w3.org/2000/svg\", 'rect'); \n",
       "newElement.setAttribute('width','1'); \n",
       "newElement.setAttribute('height','1'); \n",
       "newElement.setAttribute('x','24'); \n",
       "newElement.setAttribute('y','2'); \n",
       "newElement.style.fill = 'green'; \n",
       "svg.appendChild(newElement);\n",
       "newElement = document.createElementNS(\"http://www.w3.org/2000/svg\", 'rect'); \n",
       "newElement.setAttribute('width','1'); \n",
       "newElement.setAttribute('height','1'); \n",
       "newElement.setAttribute('x','25'); \n",
       "newElement.setAttribute('y','2'); \n",
       "newElement.style.fill = 'green'; \n",
       "svg.appendChild(newElement);\n",
       "newElement = document.createElementNS(\"http://www.w3.org/2000/svg\", 'rect'); \n",
       "newElement.setAttribute('width','1'); \n",
       "newElement.setAttribute('height','1'); \n",
       "newElement.setAttribute('x','26'); \n",
       "newElement.setAttribute('y','2'); \n",
       "newElement.style.fill = 'green'; \n",
       "svg.appendChild(newElement);\n",
       "newElement = document.createElementNS(\"http://www.w3.org/2000/svg\", 'rect'); \n",
       "newElement.setAttribute('width','1'); \n",
       "newElement.setAttribute('height','1'); \n",
       "newElement.setAttribute('x','27'); \n",
       "newElement.setAttribute('y','2'); \n",
       "newElement.style.fill = 'green'; \n",
       "svg.appendChild(newElement);\n",
       "newElement = document.createElementNS(\"http://www.w3.org/2000/svg\", 'rect'); \n",
       "newElement.setAttribute('width','1'); \n",
       "newElement.setAttribute('height','1'); \n",
       "newElement.setAttribute('x','28'); \n",
       "newElement.setAttribute('y','2'); \n",
       "newElement.style.fill = 'green'; \n",
       "svg.appendChild(newElement);\n",
       "newElement = document.createElementNS(\"http://www.w3.org/2000/svg\", 'rect'); \n",
       "newElement.setAttribute('width','1'); \n",
       "newElement.setAttribute('height','1'); \n",
       "newElement.setAttribute('x','29'); \n",
       "newElement.setAttribute('y','2'); \n",
       "newElement.style.fill = 'green'; \n",
       "svg.appendChild(newElement);\n",
       "newElement = document.createElementNS(\"http://www.w3.org/2000/svg\", 'rect'); \n",
       "newElement.setAttribute('width','1'); \n",
       "newElement.setAttribute('height','1'); \n",
       "newElement.setAttribute('x','0'); \n",
       "newElement.setAttribute('y','3'); \n",
       "newElement.style.fill = 'green'; \n",
       "svg.appendChild(newElement);\n",
       "newElement = document.createElementNS(\"http://www.w3.org/2000/svg\", 'rect'); \n",
       "newElement.setAttribute('width','1'); \n",
       "newElement.setAttribute('height','1'); \n",
       "newElement.setAttribute('x','1'); \n",
       "newElement.setAttribute('y','3'); \n",
       "newElement.style.fill = 'green'; \n",
       "svg.appendChild(newElement);\n",
       "newElement = document.createElementNS(\"http://www.w3.org/2000/svg\", 'rect'); \n",
       "newElement.setAttribute('width','1'); \n",
       "newElement.setAttribute('height','1'); \n",
       "newElement.setAttribute('x','2'); \n",
       "newElement.setAttribute('y','3'); \n",
       "newElement.style.fill = 'green'; \n",
       "svg.appendChild(newElement);\n",
       "newElement = document.createElementNS(\"http://www.w3.org/2000/svg\", 'rect'); \n",
       "newElement.setAttribute('width','1'); \n",
       "newElement.setAttribute('height','1'); \n",
       "newElement.setAttribute('x','3'); \n",
       "newElement.setAttribute('y','3'); \n",
       "newElement.style.fill = 'green'; \n",
       "svg.appendChild(newElement);\n",
       "newElement = document.createElementNS(\"http://www.w3.org/2000/svg\", 'rect'); \n",
       "newElement.setAttribute('width','1'); \n",
       "newElement.setAttribute('height','1'); \n",
       "newElement.setAttribute('x','4'); \n",
       "newElement.setAttribute('y','3'); \n",
       "newElement.style.fill = 'green'; \n",
       "svg.appendChild(newElement);\n",
       "newElement = document.createElementNS(\"http://www.w3.org/2000/svg\", 'rect'); \n",
       "newElement.setAttribute('width','1'); \n",
       "newElement.setAttribute('height','1'); \n",
       "newElement.setAttribute('x','5'); \n",
       "newElement.setAttribute('y','3'); \n",
       "newElement.style.fill = 'green'; \n",
       "svg.appendChild(newElement);\n",
       "newElement = document.createElementNS(\"http://www.w3.org/2000/svg\", 'rect'); \n",
       "newElement.setAttribute('width','1'); \n",
       "newElement.setAttribute('height','1'); \n",
       "newElement.setAttribute('x','6'); \n",
       "newElement.setAttribute('y','3'); \n",
       "newElement.style.fill = 'green'; \n",
       "svg.appendChild(newElement);\n",
       "newElement = document.createElementNS(\"http://www.w3.org/2000/svg\", 'rect'); \n",
       "newElement.setAttribute('width','1'); \n",
       "newElement.setAttribute('height','1'); \n",
       "newElement.setAttribute('x','7'); \n",
       "newElement.setAttribute('y','3'); \n",
       "newElement.style.fill = 'brown'; \n",
       "svg.appendChild(newElement);\n",
       "newElement = document.createElementNS(\"http://www.w3.org/2000/svg\", 'rect'); \n",
       "newElement.setAttribute('width','1'); \n",
       "newElement.setAttribute('height','1'); \n",
       "newElement.setAttribute('x','8'); \n",
       "newElement.setAttribute('y','3'); \n",
       "newElement.style.fill = 'brown'; \n",
       "svg.appendChild(newElement);\n",
       "newElement = document.createElementNS(\"http://www.w3.org/2000/svg\", 'rect'); \n",
       "newElement.setAttribute('width','1'); \n",
       "newElement.setAttribute('height','1'); \n",
       "newElement.setAttribute('x','9'); \n",
       "newElement.setAttribute('y','3'); \n",
       "newElement.style.fill = 'brown'; \n",
       "svg.appendChild(newElement);\n",
       "newElement = document.createElementNS(\"http://www.w3.org/2000/svg\", 'rect'); \n",
       "newElement.setAttribute('width','1'); \n",
       "newElement.setAttribute('height','1'); \n",
       "newElement.setAttribute('x','10'); \n",
       "newElement.setAttribute('y','3'); \n",
       "newElement.style.fill = 'brown'; \n",
       "svg.appendChild(newElement);\n",
       "newElement = document.createElementNS(\"http://www.w3.org/2000/svg\", 'rect'); \n",
       "newElement.setAttribute('width','1'); \n",
       "newElement.setAttribute('height','1'); \n",
       "newElement.setAttribute('x','11'); \n",
       "newElement.setAttribute('y','3'); \n",
       "newElement.style.fill = 'brown'; \n",
       "svg.appendChild(newElement);\n",
       "newElement = document.createElementNS(\"http://www.w3.org/2000/svg\", 'rect'); \n",
       "newElement.setAttribute('width','1'); \n",
       "newElement.setAttribute('height','1'); \n",
       "newElement.setAttribute('x','12'); \n",
       "newElement.setAttribute('y','3'); \n",
       "newElement.style.fill = 'brown'; \n",
       "svg.appendChild(newElement);\n",
       "newElement = document.createElementNS(\"http://www.w3.org/2000/svg\", 'rect'); \n",
       "newElement.setAttribute('width','1'); \n",
       "newElement.setAttribute('height','1'); \n",
       "newElement.setAttribute('x','13'); \n",
       "newElement.setAttribute('y','3'); \n",
       "newElement.style.fill = 'brown'; \n",
       "svg.appendChild(newElement);\n",
       "newElement = document.createElementNS(\"http://www.w3.org/2000/svg\", 'rect'); \n",
       "newElement.setAttribute('width','1'); \n",
       "newElement.setAttribute('height','1'); \n",
       "newElement.setAttribute('x','14'); \n",
       "newElement.setAttribute('y','3'); \n",
       "newElement.style.fill = 'brown'; \n",
       "svg.appendChild(newElement);\n",
       "newElement = document.createElementNS(\"http://www.w3.org/2000/svg\", 'rect'); \n",
       "newElement.setAttribute('width','1'); \n",
       "newElement.setAttribute('height','1'); \n",
       "newElement.setAttribute('x','15'); \n",
       "newElement.setAttribute('y','3'); \n",
       "newElement.style.fill = 'brown'; \n",
       "svg.appendChild(newElement);\n",
       "newElement = document.createElementNS(\"http://www.w3.org/2000/svg\", 'rect'); \n",
       "newElement.setAttribute('width','1'); \n",
       "newElement.setAttribute('height','1'); \n",
       "newElement.setAttribute('x','16'); \n",
       "newElement.setAttribute('y','3'); \n",
       "newElement.style.fill = 'brown'; \n",
       "svg.appendChild(newElement);\n",
       "newElement = document.createElementNS(\"http://www.w3.org/2000/svg\", 'rect'); \n",
       "newElement.setAttribute('width','1'); \n",
       "newElement.setAttribute('height','1'); \n",
       "newElement.setAttribute('x','17'); \n",
       "newElement.setAttribute('y','3'); \n",
       "newElement.style.fill = 'brown'; \n",
       "svg.appendChild(newElement);\n",
       "newElement = document.createElementNS(\"http://www.w3.org/2000/svg\", 'rect'); \n",
       "newElement.setAttribute('width','1'); \n",
       "newElement.setAttribute('height','1'); \n",
       "newElement.setAttribute('x','18'); \n",
       "newElement.setAttribute('y','3'); \n",
       "newElement.style.fill = 'brown'; \n",
       "svg.appendChild(newElement);\n",
       "newElement = document.createElementNS(\"http://www.w3.org/2000/svg\", 'rect'); \n",
       "newElement.setAttribute('width','1'); \n",
       "newElement.setAttribute('height','1'); \n",
       "newElement.setAttribute('x','19'); \n",
       "newElement.setAttribute('y','3'); \n",
       "newElement.style.fill = 'brown'; \n",
       "svg.appendChild(newElement);\n",
       "newElement = document.createElementNS(\"http://www.w3.org/2000/svg\", 'rect'); \n",
       "newElement.setAttribute('width','1'); \n",
       "newElement.setAttribute('height','1'); \n",
       "newElement.setAttribute('x','20'); \n",
       "newElement.setAttribute('y','3'); \n",
       "newElement.style.fill = 'brown'; \n",
       "svg.appendChild(newElement);\n",
       "newElement = document.createElementNS(\"http://www.w3.org/2000/svg\", 'rect'); \n",
       "newElement.setAttribute('width','1'); \n",
       "newElement.setAttribute('height','1'); \n",
       "newElement.setAttribute('x','21'); \n",
       "newElement.setAttribute('y','3'); \n",
       "newElement.style.fill = 'brown'; \n",
       "svg.appendChild(newElement);\n",
       "newElement = document.createElementNS(\"http://www.w3.org/2000/svg\", 'rect'); \n",
       "newElement.setAttribute('width','1'); \n",
       "newElement.setAttribute('height','1'); \n",
       "newElement.setAttribute('x','22'); \n",
       "newElement.setAttribute('y','3'); \n",
       "newElement.style.fill = 'brown'; \n",
       "svg.appendChild(newElement);\n",
       "newElement = document.createElementNS(\"http://www.w3.org/2000/svg\", 'rect'); \n",
       "newElement.setAttribute('width','1'); \n",
       "newElement.setAttribute('height','1'); \n",
       "newElement.setAttribute('x','23'); \n",
       "newElement.setAttribute('y','3'); \n",
       "newElement.style.fill = 'green'; \n",
       "svg.appendChild(newElement);\n",
       "newElement = document.createElementNS(\"http://www.w3.org/2000/svg\", 'rect'); \n",
       "newElement.setAttribute('width','1'); \n",
       "newElement.setAttribute('height','1'); \n",
       "newElement.setAttribute('x','24'); \n",
       "newElement.setAttribute('y','3'); \n",
       "newElement.style.fill = 'green'; \n",
       "svg.appendChild(newElement);\n",
       "newElement = document.createElementNS(\"http://www.w3.org/2000/svg\", 'rect'); \n",
       "newElement.setAttribute('width','1'); \n",
       "newElement.setAttribute('height','1'); \n",
       "newElement.setAttribute('x','25'); \n",
       "newElement.setAttribute('y','3'); \n",
       "newElement.style.fill = 'green'; \n",
       "svg.appendChild(newElement);\n",
       "newElement = document.createElementNS(\"http://www.w3.org/2000/svg\", 'rect'); \n",
       "newElement.setAttribute('width','1'); \n",
       "newElement.setAttribute('height','1'); \n",
       "newElement.setAttribute('x','26'); \n",
       "newElement.setAttribute('y','3'); \n",
       "newElement.style.fill = 'green'; \n",
       "svg.appendChild(newElement);\n",
       "newElement = document.createElementNS(\"http://www.w3.org/2000/svg\", 'rect'); \n",
       "newElement.setAttribute('width','1'); \n",
       "newElement.setAttribute('height','1'); \n",
       "newElement.setAttribute('x','27'); \n",
       "newElement.setAttribute('y','3'); \n",
       "newElement.style.fill = 'green'; \n",
       "svg.appendChild(newElement);\n",
       "newElement = document.createElementNS(\"http://www.w3.org/2000/svg\", 'rect'); \n",
       "newElement.setAttribute('width','1'); \n",
       "newElement.setAttribute('height','1'); \n",
       "newElement.setAttribute('x','28'); \n",
       "newElement.setAttribute('y','3'); \n",
       "newElement.style.fill = 'green'; \n",
       "svg.appendChild(newElement);\n",
       "newElement = document.createElementNS(\"http://www.w3.org/2000/svg\", 'rect'); \n",
       "newElement.setAttribute('width','1'); \n",
       "newElement.setAttribute('height','1'); \n",
       "newElement.setAttribute('x','29'); \n",
       "newElement.setAttribute('y','3'); \n",
       "newElement.style.fill = 'green'; \n",
       "svg.appendChild(newElement);\n",
       "newElement = document.createElementNS(\"http://www.w3.org/2000/svg\", 'rect'); \n",
       "newElement.setAttribute('width','1'); \n",
       "newElement.setAttribute('height','1'); \n",
       "newElement.setAttribute('x','0'); \n",
       "newElement.setAttribute('y','4'); \n",
       "newElement.style.fill = 'green'; \n",
       "svg.appendChild(newElement);\n",
       "newElement = document.createElementNS(\"http://www.w3.org/2000/svg\", 'rect'); \n",
       "newElement.setAttribute('width','1'); \n",
       "newElement.setAttribute('height','1'); \n",
       "newElement.setAttribute('x','1'); \n",
       "newElement.setAttribute('y','4'); \n",
       "newElement.style.fill = 'green'; \n",
       "svg.appendChild(newElement);\n",
       "newElement = document.createElementNS(\"http://www.w3.org/2000/svg\", 'rect'); \n",
       "newElement.setAttribute('width','1'); \n",
       "newElement.setAttribute('height','1'); \n",
       "newElement.setAttribute('x','2'); \n",
       "newElement.setAttribute('y','4'); \n",
       "newElement.style.fill = 'green'; \n",
       "svg.appendChild(newElement);\n",
       "newElement = document.createElementNS(\"http://www.w3.org/2000/svg\", 'rect'); \n",
       "newElement.setAttribute('width','1'); \n",
       "newElement.setAttribute('height','1'); \n",
       "newElement.setAttribute('x','3'); \n",
       "newElement.setAttribute('y','4'); \n",
       "newElement.style.fill = 'green'; \n",
       "svg.appendChild(newElement);\n",
       "newElement = document.createElementNS(\"http://www.w3.org/2000/svg\", 'rect'); \n",
       "newElement.setAttribute('width','1'); \n",
       "newElement.setAttribute('height','1'); \n",
       "newElement.setAttribute('x','4'); \n",
       "newElement.setAttribute('y','4'); \n",
       "newElement.style.fill = 'green'; \n",
       "svg.appendChild(newElement);\n",
       "newElement = document.createElementNS(\"http://www.w3.org/2000/svg\", 'rect'); \n",
       "newElement.setAttribute('width','1'); \n",
       "newElement.setAttribute('height','1'); \n",
       "newElement.setAttribute('x','5'); \n",
       "newElement.setAttribute('y','4'); \n",
       "newElement.style.fill = 'brown'; \n",
       "svg.appendChild(newElement);\n",
       "newElement = document.createElementNS(\"http://www.w3.org/2000/svg\", 'rect'); \n",
       "newElement.setAttribute('width','1'); \n",
       "newElement.setAttribute('height','1'); \n",
       "newElement.setAttribute('x','6'); \n",
       "newElement.setAttribute('y','4'); \n",
       "newElement.style.fill = 'brown'; \n",
       "svg.appendChild(newElement);\n",
       "newElement = document.createElementNS(\"http://www.w3.org/2000/svg\", 'rect'); \n",
       "newElement.setAttribute('width','1'); \n",
       "newElement.setAttribute('height','1'); \n",
       "newElement.setAttribute('x','7'); \n",
       "newElement.setAttribute('y','4'); \n",
       "newElement.style.fill = 'brown'; \n",
       "svg.appendChild(newElement);\n",
       "newElement = document.createElementNS(\"http://www.w3.org/2000/svg\", 'rect'); \n",
       "newElement.setAttribute('width','1'); \n",
       "newElement.setAttribute('height','1'); \n",
       "newElement.setAttribute('x','8'); \n",
       "newElement.setAttribute('y','4'); \n",
       "newElement.style.fill = 'brown'; \n",
       "svg.appendChild(newElement);\n",
       "newElement = document.createElementNS(\"http://www.w3.org/2000/svg\", 'rect'); \n",
       "newElement.setAttribute('width','1'); \n",
       "newElement.setAttribute('height','1'); \n",
       "newElement.setAttribute('x','9'); \n",
       "newElement.setAttribute('y','4'); \n",
       "newElement.style.fill = 'brown'; \n",
       "svg.appendChild(newElement);\n",
       "newElement = document.createElementNS(\"http://www.w3.org/2000/svg\", 'rect'); \n",
       "newElement.setAttribute('width','1'); \n",
       "newElement.setAttribute('height','1'); \n",
       "newElement.setAttribute('x','10'); \n",
       "newElement.setAttribute('y','4'); \n",
       "newElement.style.fill = 'brown'; \n",
       "svg.appendChild(newElement);\n",
       "newElement = document.createElementNS(\"http://www.w3.org/2000/svg\", 'rect'); \n",
       "newElement.setAttribute('width','1'); \n",
       "newElement.setAttribute('height','1'); \n",
       "newElement.setAttribute('x','11'); \n",
       "newElement.setAttribute('y','4'); \n",
       "newElement.style.fill = 'brown'; \n",
       "svg.appendChild(newElement);\n",
       "newElement = document.createElementNS(\"http://www.w3.org/2000/svg\", 'rect'); \n",
       "newElement.setAttribute('width','1'); \n",
       "newElement.setAttribute('height','1'); \n",
       "newElement.setAttribute('x','12'); \n",
       "newElement.setAttribute('y','4'); \n",
       "newElement.style.fill = 'brown'; \n",
       "svg.appendChild(newElement);\n",
       "newElement = document.createElementNS(\"http://www.w3.org/2000/svg\", 'rect'); \n",
       "newElement.setAttribute('width','1'); \n",
       "newElement.setAttribute('height','1'); \n",
       "newElement.setAttribute('x','13'); \n",
       "newElement.setAttribute('y','4'); \n",
       "newElement.style.fill = 'brown'; \n",
       "svg.appendChild(newElement);\n",
       "newElement = document.createElementNS(\"http://www.w3.org/2000/svg\", 'rect'); \n",
       "newElement.setAttribute('width','1'); \n",
       "newElement.setAttribute('height','1'); \n",
       "newElement.setAttribute('x','14'); \n",
       "newElement.setAttribute('y','4'); \n",
       "newElement.style.fill = 'brown'; \n",
       "svg.appendChild(newElement);\n",
       "newElement = document.createElementNS(\"http://www.w3.org/2000/svg\", 'rect'); \n",
       "newElement.setAttribute('width','1'); \n",
       "newElement.setAttribute('height','1'); \n",
       "newElement.setAttribute('x','15'); \n",
       "newElement.setAttribute('y','4'); \n",
       "newElement.style.fill = 'brown'; \n",
       "svg.appendChild(newElement);\n",
       "newElement = document.createElementNS(\"http://www.w3.org/2000/svg\", 'rect'); \n",
       "newElement.setAttribute('width','1'); \n",
       "newElement.setAttribute('height','1'); \n",
       "newElement.setAttribute('x','16'); \n",
       "newElement.setAttribute('y','4'); \n",
       "newElement.style.fill = 'brown'; \n",
       "svg.appendChild(newElement);\n",
       "newElement = document.createElementNS(\"http://www.w3.org/2000/svg\", 'rect'); \n",
       "newElement.setAttribute('width','1'); \n",
       "newElement.setAttribute('height','1'); \n",
       "newElement.setAttribute('x','17'); \n",
       "newElement.setAttribute('y','4'); \n",
       "newElement.style.fill = 'brown'; \n",
       "svg.appendChild(newElement);\n",
       "newElement = document.createElementNS(\"http://www.w3.org/2000/svg\", 'rect'); \n",
       "newElement.setAttribute('width','1'); \n",
       "newElement.setAttribute('height','1'); \n",
       "newElement.setAttribute('x','18'); \n",
       "newElement.setAttribute('y','4'); \n",
       "newElement.style.fill = 'brown'; \n",
       "svg.appendChild(newElement);\n",
       "newElement = document.createElementNS(\"http://www.w3.org/2000/svg\", 'rect'); \n",
       "newElement.setAttribute('width','1'); \n",
       "newElement.setAttribute('height','1'); \n",
       "newElement.setAttribute('x','19'); \n",
       "newElement.setAttribute('y','4'); \n",
       "newElement.style.fill = 'brown'; \n",
       "svg.appendChild(newElement);\n",
       "newElement = document.createElementNS(\"http://www.w3.org/2000/svg\", 'rect'); \n",
       "newElement.setAttribute('width','1'); \n",
       "newElement.setAttribute('height','1'); \n",
       "newElement.setAttribute('x','20'); \n",
       "newElement.setAttribute('y','4'); \n",
       "newElement.style.fill = 'brown'; \n",
       "svg.appendChild(newElement);\n",
       "newElement = document.createElementNS(\"http://www.w3.org/2000/svg\", 'rect'); \n",
       "newElement.setAttribute('width','1'); \n",
       "newElement.setAttribute('height','1'); \n",
       "newElement.setAttribute('x','21'); \n",
       "newElement.setAttribute('y','4'); \n",
       "newElement.style.fill = 'brown'; \n",
       "svg.appendChild(newElement);\n",
       "newElement = document.createElementNS(\"http://www.w3.org/2000/svg\", 'rect'); \n",
       "newElement.setAttribute('width','1'); \n",
       "newElement.setAttribute('height','1'); \n",
       "newElement.setAttribute('x','22'); \n",
       "newElement.setAttribute('y','4'); \n",
       "newElement.style.fill = 'brown'; \n",
       "svg.appendChild(newElement);\n",
       "newElement = document.createElementNS(\"http://www.w3.org/2000/svg\", 'rect'); \n",
       "newElement.setAttribute('width','1'); \n",
       "newElement.setAttribute('height','1'); \n",
       "newElement.setAttribute('x','23'); \n",
       "newElement.setAttribute('y','4'); \n",
       "newElement.style.fill = 'brown'; \n",
       "svg.appendChild(newElement);\n",
       "newElement = document.createElementNS(\"http://www.w3.org/2000/svg\", 'rect'); \n",
       "newElement.setAttribute('width','1'); \n",
       "newElement.setAttribute('height','1'); \n",
       "newElement.setAttribute('x','24'); \n",
       "newElement.setAttribute('y','4'); \n",
       "newElement.style.fill = 'green'; \n",
       "svg.appendChild(newElement);\n",
       "newElement = document.createElementNS(\"http://www.w3.org/2000/svg\", 'rect'); \n",
       "newElement.setAttribute('width','1'); \n",
       "newElement.setAttribute('height','1'); \n",
       "newElement.setAttribute('x','25'); \n",
       "newElement.setAttribute('y','4'); \n",
       "newElement.style.fill = 'green'; \n",
       "svg.appendChild(newElement);\n",
       "newElement = document.createElementNS(\"http://www.w3.org/2000/svg\", 'rect'); \n",
       "newElement.setAttribute('width','1'); \n",
       "newElement.setAttribute('height','1'); \n",
       "newElement.setAttribute('x','26'); \n",
       "newElement.setAttribute('y','4'); \n",
       "newElement.style.fill = 'green'; \n",
       "svg.appendChild(newElement);\n",
       "newElement = document.createElementNS(\"http://www.w3.org/2000/svg\", 'rect'); \n",
       "newElement.setAttribute('width','1'); \n",
       "newElement.setAttribute('height','1'); \n",
       "newElement.setAttribute('x','27'); \n",
       "newElement.setAttribute('y','4'); \n",
       "newElement.style.fill = 'green'; \n",
       "svg.appendChild(newElement);\n",
       "newElement = document.createElementNS(\"http://www.w3.org/2000/svg\", 'rect'); \n",
       "newElement.setAttribute('width','1'); \n",
       "newElement.setAttribute('height','1'); \n",
       "newElement.setAttribute('x','28'); \n",
       "newElement.setAttribute('y','4'); \n",
       "newElement.style.fill = 'green'; \n",
       "svg.appendChild(newElement);\n",
       "newElement = document.createElementNS(\"http://www.w3.org/2000/svg\", 'rect'); \n",
       "newElement.setAttribute('width','1'); \n",
       "newElement.setAttribute('height','1'); \n",
       "newElement.setAttribute('x','29'); \n",
       "newElement.setAttribute('y','4'); \n",
       "newElement.style.fill = 'green'; \n",
       "svg.appendChild(newElement);\n",
       "newElement = document.createElementNS(\"http://www.w3.org/2000/svg\", 'rect'); \n",
       "newElement.setAttribute('width','1'); \n",
       "newElement.setAttribute('height','1'); \n",
       "newElement.setAttribute('x','0'); \n",
       "newElement.setAttribute('y','5'); \n",
       "newElement.style.fill = 'green'; \n",
       "svg.appendChild(newElement);\n",
       "newElement = document.createElementNS(\"http://www.w3.org/2000/svg\", 'rect'); \n",
       "newElement.setAttribute('width','1'); \n",
       "newElement.setAttribute('height','1'); \n",
       "newElement.setAttribute('x','1'); \n",
       "newElement.setAttribute('y','5'); \n",
       "newElement.style.fill = 'green'; \n",
       "svg.appendChild(newElement);\n",
       "newElement = document.createElementNS(\"http://www.w3.org/2000/svg\", 'rect'); \n",
       "newElement.setAttribute('width','1'); \n",
       "newElement.setAttribute('height','1'); \n",
       "newElement.setAttribute('x','2'); \n",
       "newElement.setAttribute('y','5'); \n",
       "newElement.style.fill = 'green'; \n",
       "svg.appendChild(newElement);\n",
       "newElement = document.createElementNS(\"http://www.w3.org/2000/svg\", 'rect'); \n",
       "newElement.setAttribute('width','1'); \n",
       "newElement.setAttribute('height','1'); \n",
       "newElement.setAttribute('x','3'); \n",
       "newElement.setAttribute('y','5'); \n",
       "newElement.style.fill = 'green'; \n",
       "svg.appendChild(newElement);\n",
       "newElement = document.createElementNS(\"http://www.w3.org/2000/svg\", 'rect'); \n",
       "newElement.setAttribute('width','1'); \n",
       "newElement.setAttribute('height','1'); \n",
       "newElement.setAttribute('x','4'); \n",
       "newElement.setAttribute('y','5'); \n",
       "newElement.style.fill = 'brown'; \n",
       "svg.appendChild(newElement);\n",
       "newElement = document.createElementNS(\"http://www.w3.org/2000/svg\", 'rect'); \n",
       "newElement.setAttribute('width','1'); \n",
       "newElement.setAttribute('height','1'); \n",
       "newElement.setAttribute('x','5'); \n",
       "newElement.setAttribute('y','5'); \n",
       "newElement.style.fill = 'brown'; \n",
       "svg.appendChild(newElement);\n",
       "newElement = document.createElementNS(\"http://www.w3.org/2000/svg\", 'rect'); \n",
       "newElement.setAttribute('width','1'); \n",
       "newElement.setAttribute('height','1'); \n",
       "newElement.setAttribute('x','6'); \n",
       "newElement.setAttribute('y','5'); \n",
       "newElement.style.fill = 'brown'; \n",
       "svg.appendChild(newElement);\n",
       "newElement = document.createElementNS(\"http://www.w3.org/2000/svg\", 'rect'); \n",
       "newElement.setAttribute('width','1'); \n",
       "newElement.setAttribute('height','1'); \n",
       "newElement.setAttribute('x','7'); \n",
       "newElement.setAttribute('y','5'); \n",
       "newElement.style.fill = 'brown'; \n",
       "svg.appendChild(newElement);\n",
       "newElement = document.createElementNS(\"http://www.w3.org/2000/svg\", 'rect'); \n",
       "newElement.setAttribute('width','1'); \n",
       "newElement.setAttribute('height','1'); \n",
       "newElement.setAttribute('x','8'); \n",
       "newElement.setAttribute('y','5'); \n",
       "newElement.style.fill = 'brown'; \n",
       "svg.appendChild(newElement);\n",
       "newElement = document.createElementNS(\"http://www.w3.org/2000/svg\", 'rect'); \n",
       "newElement.setAttribute('width','1'); \n",
       "newElement.setAttribute('height','1'); \n",
       "newElement.setAttribute('x','9'); \n",
       "newElement.setAttribute('y','5'); \n",
       "newElement.style.fill = 'brown'; \n",
       "svg.appendChild(newElement);\n",
       "newElement = document.createElementNS(\"http://www.w3.org/2000/svg\", 'rect'); \n",
       "newElement.setAttribute('width','1'); \n",
       "newElement.setAttribute('height','1'); \n",
       "newElement.setAttribute('x','10'); \n",
       "newElement.setAttribute('y','5'); \n",
       "newElement.style.fill = 'brown'; \n",
       "svg.appendChild(newElement);\n",
       "newElement = document.createElementNS(\"http://www.w3.org/2000/svg\", 'rect'); \n",
       "newElement.setAttribute('width','1'); \n",
       "newElement.setAttribute('height','1'); \n",
       "newElement.setAttribute('x','11'); \n",
       "newElement.setAttribute('y','5'); \n",
       "newElement.style.fill = 'brown'; \n",
       "svg.appendChild(newElement);\n",
       "newElement = document.createElementNS(\"http://www.w3.org/2000/svg\", 'rect'); \n",
       "newElement.setAttribute('width','1'); \n",
       "newElement.setAttribute('height','1'); \n",
       "newElement.setAttribute('x','12'); \n",
       "newElement.setAttribute('y','5'); \n",
       "newElement.style.fill = 'brown'; \n",
       "svg.appendChild(newElement);\n",
       "newElement = document.createElementNS(\"http://www.w3.org/2000/svg\", 'rect'); \n",
       "newElement.setAttribute('width','1'); \n",
       "newElement.setAttribute('height','1'); \n",
       "newElement.setAttribute('x','13'); \n",
       "newElement.setAttribute('y','5'); \n",
       "newElement.style.fill = 'brown'; \n",
       "svg.appendChild(newElement);\n",
       "newElement = document.createElementNS(\"http://www.w3.org/2000/svg\", 'rect'); \n",
       "newElement.setAttribute('width','1'); \n",
       "newElement.setAttribute('height','1'); \n",
       "newElement.setAttribute('x','14'); \n",
       "newElement.setAttribute('y','5'); \n",
       "newElement.style.fill = 'brown'; \n",
       "svg.appendChild(newElement);\n",
       "newElement = document.createElementNS(\"http://www.w3.org/2000/svg\", 'rect'); \n",
       "newElement.setAttribute('width','1'); \n",
       "newElement.setAttribute('height','1'); \n",
       "newElement.setAttribute('x','15'); \n",
       "newElement.setAttribute('y','5'); \n",
       "newElement.style.fill = 'brown'; \n",
       "svg.appendChild(newElement);\n",
       "newElement = document.createElementNS(\"http://www.w3.org/2000/svg\", 'rect'); \n",
       "newElement.setAttribute('width','1'); \n",
       "newElement.setAttribute('height','1'); \n",
       "newElement.setAttribute('x','16'); \n",
       "newElement.setAttribute('y','5'); \n",
       "newElement.style.fill = 'brown'; \n",
       "svg.appendChild(newElement);\n",
       "newElement = document.createElementNS(\"http://www.w3.org/2000/svg\", 'rect'); \n",
       "newElement.setAttribute('width','1'); \n",
       "newElement.setAttribute('height','1'); \n",
       "newElement.setAttribute('x','17'); \n",
       "newElement.setAttribute('y','5'); \n",
       "newElement.style.fill = 'brown'; \n",
       "svg.appendChild(newElement);\n",
       "newElement = document.createElementNS(\"http://www.w3.org/2000/svg\", 'rect'); \n",
       "newElement.setAttribute('width','1'); \n",
       "newElement.setAttribute('height','1'); \n",
       "newElement.setAttribute('x','18'); \n",
       "newElement.setAttribute('y','5'); \n",
       "newElement.style.fill = 'brown'; \n",
       "svg.appendChild(newElement);\n",
       "newElement = document.createElementNS(\"http://www.w3.org/2000/svg\", 'rect'); \n",
       "newElement.setAttribute('width','1'); \n",
       "newElement.setAttribute('height','1'); \n",
       "newElement.setAttribute('x','19'); \n",
       "newElement.setAttribute('y','5'); \n",
       "newElement.style.fill = 'brown'; \n",
       "svg.appendChild(newElement);\n",
       "newElement = document.createElementNS(\"http://www.w3.org/2000/svg\", 'rect'); \n",
       "newElement.setAttribute('width','1'); \n",
       "newElement.setAttribute('height','1'); \n",
       "newElement.setAttribute('x','20'); \n",
       "newElement.setAttribute('y','5'); \n",
       "newElement.style.fill = 'brown'; \n",
       "svg.appendChild(newElement);\n",
       "newElement = document.createElementNS(\"http://www.w3.org/2000/svg\", 'rect'); \n",
       "newElement.setAttribute('width','1'); \n",
       "newElement.setAttribute('height','1'); \n",
       "newElement.setAttribute('x','21'); \n",
       "newElement.setAttribute('y','5'); \n",
       "newElement.style.fill = 'brown'; \n",
       "svg.appendChild(newElement);\n",
       "newElement = document.createElementNS(\"http://www.w3.org/2000/svg\", 'rect'); \n",
       "newElement.setAttribute('width','1'); \n",
       "newElement.setAttribute('height','1'); \n",
       "newElement.setAttribute('x','22'); \n",
       "newElement.setAttribute('y','5'); \n",
       "newElement.style.fill = 'brown'; \n",
       "svg.appendChild(newElement);\n",
       "newElement = document.createElementNS(\"http://www.w3.org/2000/svg\", 'rect'); \n",
       "newElement.setAttribute('width','1'); \n",
       "newElement.setAttribute('height','1'); \n",
       "newElement.setAttribute('x','23'); \n",
       "newElement.setAttribute('y','5'); \n",
       "newElement.style.fill = 'brown'; \n",
       "svg.appendChild(newElement);\n",
       "newElement = document.createElementNS(\"http://www.w3.org/2000/svg\", 'rect'); \n",
       "newElement.setAttribute('width','1'); \n",
       "newElement.setAttribute('height','1'); \n",
       "newElement.setAttribute('x','24'); \n",
       "newElement.setAttribute('y','5'); \n",
       "newElement.style.fill = 'brown'; \n",
       "svg.appendChild(newElement);\n",
       "newElement = document.createElementNS(\"http://www.w3.org/2000/svg\", 'rect'); \n",
       "newElement.setAttribute('width','1'); \n",
       "newElement.setAttribute('height','1'); \n",
       "newElement.setAttribute('x','25'); \n",
       "newElement.setAttribute('y','5'); \n",
       "newElement.style.fill = 'green'; \n",
       "svg.appendChild(newElement);\n",
       "newElement = document.createElementNS(\"http://www.w3.org/2000/svg\", 'rect'); \n",
       "newElement.setAttribute('width','1'); \n",
       "newElement.setAttribute('height','1'); \n",
       "newElement.setAttribute('x','26'); \n",
       "newElement.setAttribute('y','5'); \n",
       "newElement.style.fill = 'green'; \n",
       "svg.appendChild(newElement);\n",
       "newElement = document.createElementNS(\"http://www.w3.org/2000/svg\", 'rect'); \n",
       "newElement.setAttribute('width','1'); \n",
       "newElement.setAttribute('height','1'); \n",
       "newElement.setAttribute('x','27'); \n",
       "newElement.setAttribute('y','5'); \n",
       "newElement.style.fill = 'green'; \n",
       "svg.appendChild(newElement);\n",
       "newElement = document.createElementNS(\"http://www.w3.org/2000/svg\", 'rect'); \n",
       "newElement.setAttribute('width','1'); \n",
       "newElement.setAttribute('height','1'); \n",
       "newElement.setAttribute('x','28'); \n",
       "newElement.setAttribute('y','5'); \n",
       "newElement.style.fill = 'green'; \n",
       "svg.appendChild(newElement);\n",
       "newElement = document.createElementNS(\"http://www.w3.org/2000/svg\", 'rect'); \n",
       "newElement.setAttribute('width','1'); \n",
       "newElement.setAttribute('height','1'); \n",
       "newElement.setAttribute('x','29'); \n",
       "newElement.setAttribute('y','5'); \n",
       "newElement.style.fill = 'green'; \n",
       "svg.appendChild(newElement);\n",
       "newElement = document.createElementNS(\"http://www.w3.org/2000/svg\", 'rect'); \n",
       "newElement.setAttribute('width','1'); \n",
       "newElement.setAttribute('height','1'); \n",
       "newElement.setAttribute('x','0'); \n",
       "newElement.setAttribute('y','6'); \n",
       "newElement.style.fill = 'green'; \n",
       "svg.appendChild(newElement);\n",
       "newElement = document.createElementNS(\"http://www.w3.org/2000/svg\", 'rect'); \n",
       "newElement.setAttribute('width','1'); \n",
       "newElement.setAttribute('height','1'); \n",
       "newElement.setAttribute('x','1'); \n",
       "newElement.setAttribute('y','6'); \n",
       "newElement.style.fill = 'green'; \n",
       "svg.appendChild(newElement);\n",
       "newElement = document.createElementNS(\"http://www.w3.org/2000/svg\", 'rect'); \n",
       "newElement.setAttribute('width','1'); \n",
       "newElement.setAttribute('height','1'); \n",
       "newElement.setAttribute('x','2'); \n",
       "newElement.setAttribute('y','6'); \n",
       "newElement.style.fill = 'green'; \n",
       "svg.appendChild(newElement);\n",
       "newElement = document.createElementNS(\"http://www.w3.org/2000/svg\", 'rect'); \n",
       "newElement.setAttribute('width','1'); \n",
       "newElement.setAttribute('height','1'); \n",
       "newElement.setAttribute('x','3'); \n",
       "newElement.setAttribute('y','6'); \n",
       "newElement.style.fill = 'green'; \n",
       "svg.appendChild(newElement);\n",
       "newElement = document.createElementNS(\"http://www.w3.org/2000/svg\", 'rect'); \n",
       "newElement.setAttribute('width','1'); \n",
       "newElement.setAttribute('height','1'); \n",
       "newElement.setAttribute('x','4'); \n",
       "newElement.setAttribute('y','6'); \n",
       "newElement.style.fill = 'brown'; \n",
       "svg.appendChild(newElement);\n",
       "newElement = document.createElementNS(\"http://www.w3.org/2000/svg\", 'rect'); \n",
       "newElement.setAttribute('width','1'); \n",
       "newElement.setAttribute('height','1'); \n",
       "newElement.setAttribute('x','5'); \n",
       "newElement.setAttribute('y','6'); \n",
       "newElement.style.fill = 'brown'; \n",
       "svg.appendChild(newElement);\n",
       "newElement = document.createElementNS(\"http://www.w3.org/2000/svg\", 'rect'); \n",
       "newElement.setAttribute('width','1'); \n",
       "newElement.setAttribute('height','1'); \n",
       "newElement.setAttribute('x','6'); \n",
       "newElement.setAttribute('y','6'); \n",
       "newElement.style.fill = 'brown'; \n",
       "svg.appendChild(newElement);\n",
       "newElement = document.createElementNS(\"http://www.w3.org/2000/svg\", 'rect'); \n",
       "newElement.setAttribute('width','1'); \n",
       "newElement.setAttribute('height','1'); \n",
       "newElement.setAttribute('x','7'); \n",
       "newElement.setAttribute('y','6'); \n",
       "newElement.style.fill = 'brown'; \n",
       "svg.appendChild(newElement);\n",
       "newElement = document.createElementNS(\"http://www.w3.org/2000/svg\", 'rect'); \n",
       "newElement.setAttribute('width','1'); \n",
       "newElement.setAttribute('height','1'); \n",
       "newElement.setAttribute('x','8'); \n",
       "newElement.setAttribute('y','6'); \n",
       "newElement.style.fill = 'brown'; \n",
       "svg.appendChild(newElement);\n",
       "newElement = document.createElementNS(\"http://www.w3.org/2000/svg\", 'rect'); \n",
       "newElement.setAttribute('width','1'); \n",
       "newElement.setAttribute('height','1'); \n",
       "newElement.setAttribute('x','9'); \n",
       "newElement.setAttribute('y','6'); \n",
       "newElement.style.fill = 'green'; \n",
       "svg.appendChild(newElement);\n",
       "newElement = document.createElementNS(\"http://www.w3.org/2000/svg\", 'rect'); \n",
       "newElement.setAttribute('width','1'); \n",
       "newElement.setAttribute('height','1'); \n",
       "newElement.setAttribute('x','10'); \n",
       "newElement.setAttribute('y','6'); \n",
       "newElement.style.fill = 'green'; \n",
       "svg.appendChild(newElement);\n",
       "newElement = document.createElementNS(\"http://www.w3.org/2000/svg\", 'rect'); \n",
       "newElement.setAttribute('width','1'); \n",
       "newElement.setAttribute('height','1'); \n",
       "newElement.setAttribute('x','11'); \n",
       "newElement.setAttribute('y','6'); \n",
       "newElement.style.fill = 'green'; \n",
       "svg.appendChild(newElement);\n",
       "newElement = document.createElementNS(\"http://www.w3.org/2000/svg\", 'rect'); \n",
       "newElement.setAttribute('width','1'); \n",
       "newElement.setAttribute('height','1'); \n",
       "newElement.setAttribute('x','12'); \n",
       "newElement.setAttribute('y','6'); \n",
       "newElement.style.fill = 'green'; \n",
       "svg.appendChild(newElement);\n",
       "newElement = document.createElementNS(\"http://www.w3.org/2000/svg\", 'rect'); \n",
       "newElement.setAttribute('width','1'); \n",
       "newElement.setAttribute('height','1'); \n",
       "newElement.setAttribute('x','13'); \n",
       "newElement.setAttribute('y','6'); \n",
       "newElement.style.fill = 'green'; \n",
       "svg.appendChild(newElement);\n",
       "newElement = document.createElementNS(\"http://www.w3.org/2000/svg\", 'rect'); \n",
       "newElement.setAttribute('width','1'); \n",
       "newElement.setAttribute('height','1'); \n",
       "newElement.setAttribute('x','14'); \n",
       "newElement.setAttribute('y','6'); \n",
       "newElement.style.fill = 'green'; \n",
       "svg.appendChild(newElement);\n",
       "newElement = document.createElementNS(\"http://www.w3.org/2000/svg\", 'rect'); \n",
       "newElement.setAttribute('width','1'); \n",
       "newElement.setAttribute('height','1'); \n",
       "newElement.setAttribute('x','15'); \n",
       "newElement.setAttribute('y','6'); \n",
       "newElement.style.fill = 'green'; \n",
       "svg.appendChild(newElement);\n",
       "newElement = document.createElementNS(\"http://www.w3.org/2000/svg\", 'rect'); \n",
       "newElement.setAttribute('width','1'); \n",
       "newElement.setAttribute('height','1'); \n",
       "newElement.setAttribute('x','16'); \n",
       "newElement.setAttribute('y','6'); \n",
       "newElement.style.fill = 'green'; \n",
       "svg.appendChild(newElement);\n",
       "newElement = document.createElementNS(\"http://www.w3.org/2000/svg\", 'rect'); \n",
       "newElement.setAttribute('width','1'); \n",
       "newElement.setAttribute('height','1'); \n",
       "newElement.setAttribute('x','17'); \n",
       "newElement.setAttribute('y','6'); \n",
       "newElement.style.fill = 'green'; \n",
       "svg.appendChild(newElement);\n",
       "newElement = document.createElementNS(\"http://www.w3.org/2000/svg\", 'rect'); \n",
       "newElement.setAttribute('width','1'); \n",
       "newElement.setAttribute('height','1'); \n",
       "newElement.setAttribute('x','18'); \n",
       "newElement.setAttribute('y','6'); \n",
       "newElement.style.fill = 'green'; \n",
       "svg.appendChild(newElement);\n",
       "newElement = document.createElementNS(\"http://www.w3.org/2000/svg\", 'rect'); \n",
       "newElement.setAttribute('width','1'); \n",
       "newElement.setAttribute('height','1'); \n",
       "newElement.setAttribute('x','19'); \n",
       "newElement.setAttribute('y','6'); \n",
       "newElement.style.fill = 'green'; \n",
       "svg.appendChild(newElement);\n",
       "newElement = document.createElementNS(\"http://www.w3.org/2000/svg\", 'rect'); \n",
       "newElement.setAttribute('width','1'); \n",
       "newElement.setAttribute('height','1'); \n",
       "newElement.setAttribute('x','20'); \n",
       "newElement.setAttribute('y','6'); \n",
       "newElement.style.fill = 'brown'; \n",
       "svg.appendChild(newElement);\n",
       "newElement = document.createElementNS(\"http://www.w3.org/2000/svg\", 'rect'); \n",
       "newElement.setAttribute('width','1'); \n",
       "newElement.setAttribute('height','1'); \n",
       "newElement.setAttribute('x','21'); \n",
       "newElement.setAttribute('y','6'); \n",
       "newElement.style.fill = 'brown'; \n",
       "svg.appendChild(newElement);\n",
       "newElement = document.createElementNS(\"http://www.w3.org/2000/svg\", 'rect'); \n",
       "newElement.setAttribute('width','1'); \n",
       "newElement.setAttribute('height','1'); \n",
       "newElement.setAttribute('x','22'); \n",
       "newElement.setAttribute('y','6'); \n",
       "newElement.style.fill = 'brown'; \n",
       "svg.appendChild(newElement);\n",
       "newElement = document.createElementNS(\"http://www.w3.org/2000/svg\", 'rect'); \n",
       "newElement.setAttribute('width','1'); \n",
       "newElement.setAttribute('height','1'); \n",
       "newElement.setAttribute('x','23'); \n",
       "newElement.setAttribute('y','6'); \n",
       "newElement.style.fill = 'brown'; \n",
       "svg.appendChild(newElement);\n",
       "newElement = document.createElementNS(\"http://www.w3.org/2000/svg\", 'rect'); \n",
       "newElement.setAttribute('width','1'); \n",
       "newElement.setAttribute('height','1'); \n",
       "newElement.setAttribute('x','24'); \n",
       "newElement.setAttribute('y','6'); \n",
       "newElement.style.fill = 'brown'; \n",
       "svg.appendChild(newElement);\n",
       "newElement = document.createElementNS(\"http://www.w3.org/2000/svg\", 'rect'); \n",
       "newElement.setAttribute('width','1'); \n",
       "newElement.setAttribute('height','1'); \n",
       "newElement.setAttribute('x','25'); \n",
       "newElement.setAttribute('y','6'); \n",
       "newElement.style.fill = 'green'; \n",
       "svg.appendChild(newElement);\n",
       "newElement = document.createElementNS(\"http://www.w3.org/2000/svg\", 'rect'); \n",
       "newElement.setAttribute('width','1'); \n",
       "newElement.setAttribute('height','1'); \n",
       "newElement.setAttribute('x','26'); \n",
       "newElement.setAttribute('y','6'); \n",
       "newElement.style.fill = 'green'; \n",
       "svg.appendChild(newElement);\n",
       "newElement = document.createElementNS(\"http://www.w3.org/2000/svg\", 'rect'); \n",
       "newElement.setAttribute('width','1'); \n",
       "newElement.setAttribute('height','1'); \n",
       "newElement.setAttribute('x','27'); \n",
       "newElement.setAttribute('y','6'); \n",
       "newElement.style.fill = 'green'; \n",
       "svg.appendChild(newElement);\n",
       "newElement = document.createElementNS(\"http://www.w3.org/2000/svg\", 'rect'); \n",
       "newElement.setAttribute('width','1'); \n",
       "newElement.setAttribute('height','1'); \n",
       "newElement.setAttribute('x','28'); \n",
       "newElement.setAttribute('y','6'); \n",
       "newElement.style.fill = 'green'; \n",
       "svg.appendChild(newElement);\n",
       "newElement = document.createElementNS(\"http://www.w3.org/2000/svg\", 'rect'); \n",
       "newElement.setAttribute('width','1'); \n",
       "newElement.setAttribute('height','1'); \n",
       "newElement.setAttribute('x','29'); \n",
       "newElement.setAttribute('y','6'); \n",
       "newElement.style.fill = 'green'; \n",
       "svg.appendChild(newElement);\n",
       "newElement = document.createElementNS(\"http://www.w3.org/2000/svg\", 'rect'); \n",
       "newElement.setAttribute('width','1'); \n",
       "newElement.setAttribute('height','1'); \n",
       "newElement.setAttribute('x','0'); \n",
       "newElement.setAttribute('y','7'); \n",
       "newElement.style.fill = 'green'; \n",
       "svg.appendChild(newElement);\n",
       "newElement = document.createElementNS(\"http://www.w3.org/2000/svg\", 'rect'); \n",
       "newElement.setAttribute('width','1'); \n",
       "newElement.setAttribute('height','1'); \n",
       "newElement.setAttribute('x','1'); \n",
       "newElement.setAttribute('y','7'); \n",
       "newElement.style.fill = 'green'; \n",
       "svg.appendChild(newElement);\n",
       "newElement = document.createElementNS(\"http://www.w3.org/2000/svg\", 'rect'); \n",
       "newElement.setAttribute('width','1'); \n",
       "newElement.setAttribute('height','1'); \n",
       "newElement.setAttribute('x','2'); \n",
       "newElement.setAttribute('y','7'); \n",
       "newElement.style.fill = 'green'; \n",
       "svg.appendChild(newElement);\n",
       "newElement = document.createElementNS(\"http://www.w3.org/2000/svg\", 'rect'); \n",
       "newElement.setAttribute('width','1'); \n",
       "newElement.setAttribute('height','1'); \n",
       "newElement.setAttribute('x','3'); \n",
       "newElement.setAttribute('y','7'); \n",
       "newElement.style.fill = 'brown'; \n",
       "svg.appendChild(newElement);\n",
       "newElement = document.createElementNS(\"http://www.w3.org/2000/svg\", 'rect'); \n",
       "newElement.setAttribute('width','1'); \n",
       "newElement.setAttribute('height','1'); \n",
       "newElement.setAttribute('x','4'); \n",
       "newElement.setAttribute('y','7'); \n",
       "newElement.style.fill = 'brown'; \n",
       "svg.appendChild(newElement);\n",
       "newElement = document.createElementNS(\"http://www.w3.org/2000/svg\", 'rect'); \n",
       "newElement.setAttribute('width','1'); \n",
       "newElement.setAttribute('height','1'); \n",
       "newElement.setAttribute('x','5'); \n",
       "newElement.setAttribute('y','7'); \n",
       "newElement.style.fill = 'brown'; \n",
       "svg.appendChild(newElement);\n",
       "newElement = document.createElementNS(\"http://www.w3.org/2000/svg\", 'rect'); \n",
       "newElement.setAttribute('width','1'); \n",
       "newElement.setAttribute('height','1'); \n",
       "newElement.setAttribute('x','6'); \n",
       "newElement.setAttribute('y','7'); \n",
       "newElement.style.fill = 'brown'; \n",
       "svg.appendChild(newElement);\n",
       "newElement = document.createElementNS(\"http://www.w3.org/2000/svg\", 'rect'); \n",
       "newElement.setAttribute('width','1'); \n",
       "newElement.setAttribute('height','1'); \n",
       "newElement.setAttribute('x','7'); \n",
       "newElement.setAttribute('y','7'); \n",
       "newElement.style.fill = 'green'; \n",
       "svg.appendChild(newElement);\n",
       "newElement = document.createElementNS(\"http://www.w3.org/2000/svg\", 'rect'); \n",
       "newElement.setAttribute('width','1'); \n",
       "newElement.setAttribute('height','1'); \n",
       "newElement.setAttribute('x','8'); \n",
       "newElement.setAttribute('y','7'); \n",
       "newElement.style.fill = 'green'; \n",
       "svg.appendChild(newElement);\n",
       "newElement = document.createElementNS(\"http://www.w3.org/2000/svg\", 'rect'); \n",
       "newElement.setAttribute('width','1'); \n",
       "newElement.setAttribute('height','1'); \n",
       "newElement.setAttribute('x','9'); \n",
       "newElement.setAttribute('y','7'); \n",
       "newElement.style.fill = 'green'; \n",
       "svg.appendChild(newElement);\n",
       "newElement = document.createElementNS(\"http://www.w3.org/2000/svg\", 'rect'); \n",
       "newElement.setAttribute('width','1'); \n",
       "newElement.setAttribute('height','1'); \n",
       "newElement.setAttribute('x','10'); \n",
       "newElement.setAttribute('y','7'); \n",
       "newElement.style.fill = 'green'; \n",
       "svg.appendChild(newElement);\n",
       "newElement = document.createElementNS(\"http://www.w3.org/2000/svg\", 'rect'); \n",
       "newElement.setAttribute('width','1'); \n",
       "newElement.setAttribute('height','1'); \n",
       "newElement.setAttribute('x','11'); \n",
       "newElement.setAttribute('y','7'); \n",
       "newElement.style.fill = 'green'; \n",
       "svg.appendChild(newElement);\n",
       "newElement = document.createElementNS(\"http://www.w3.org/2000/svg\", 'rect'); \n",
       "newElement.setAttribute('width','1'); \n",
       "newElement.setAttribute('height','1'); \n",
       "newElement.setAttribute('x','12'); \n",
       "newElement.setAttribute('y','7'); \n",
       "newElement.style.fill = 'green'; \n",
       "svg.appendChild(newElement);\n",
       "newElement = document.createElementNS(\"http://www.w3.org/2000/svg\", 'rect'); \n",
       "newElement.setAttribute('width','1'); \n",
       "newElement.setAttribute('height','1'); \n",
       "newElement.setAttribute('x','13'); \n",
       "newElement.setAttribute('y','7'); \n",
       "newElement.style.fill = 'green'; \n",
       "svg.appendChild(newElement);\n",
       "newElement = document.createElementNS(\"http://www.w3.org/2000/svg\", 'rect'); \n",
       "newElement.setAttribute('width','1'); \n",
       "newElement.setAttribute('height','1'); \n",
       "newElement.setAttribute('x','14'); \n",
       "newElement.setAttribute('y','7'); \n",
       "newElement.style.fill = 'green'; \n",
       "svg.appendChild(newElement);\n",
       "newElement = document.createElementNS(\"http://www.w3.org/2000/svg\", 'rect'); \n",
       "newElement.setAttribute('width','1'); \n",
       "newElement.setAttribute('height','1'); \n",
       "newElement.setAttribute('x','15'); \n",
       "newElement.setAttribute('y','7'); \n",
       "newElement.style.fill = 'green'; \n",
       "svg.appendChild(newElement);\n",
       "newElement = document.createElementNS(\"http://www.w3.org/2000/svg\", 'rect'); \n",
       "newElement.setAttribute('width','1'); \n",
       "newElement.setAttribute('height','1'); \n",
       "newElement.setAttribute('x','16'); \n",
       "newElement.setAttribute('y','7'); \n",
       "newElement.style.fill = 'green'; \n",
       "svg.appendChild(newElement);\n",
       "newElement = document.createElementNS(\"http://www.w3.org/2000/svg\", 'rect'); \n",
       "newElement.setAttribute('width','1'); \n",
       "newElement.setAttribute('height','1'); \n",
       "newElement.setAttribute('x','17'); \n",
       "newElement.setAttribute('y','7'); \n",
       "newElement.style.fill = 'green'; \n",
       "svg.appendChild(newElement);\n",
       "newElement = document.createElementNS(\"http://www.w3.org/2000/svg\", 'rect'); \n",
       "newElement.setAttribute('width','1'); \n",
       "newElement.setAttribute('height','1'); \n",
       "newElement.setAttribute('x','18'); \n",
       "newElement.setAttribute('y','7'); \n",
       "newElement.style.fill = 'green'; \n",
       "svg.appendChild(newElement);\n",
       "newElement = document.createElementNS(\"http://www.w3.org/2000/svg\", 'rect'); \n",
       "newElement.setAttribute('width','1'); \n",
       "newElement.setAttribute('height','1'); \n",
       "newElement.setAttribute('x','19'); \n",
       "newElement.setAttribute('y','7'); \n",
       "newElement.style.fill = 'green'; \n",
       "svg.appendChild(newElement);\n",
       "newElement = document.createElementNS(\"http://www.w3.org/2000/svg\", 'rect'); \n",
       "newElement.setAttribute('width','1'); \n",
       "newElement.setAttribute('height','1'); \n",
       "newElement.setAttribute('x','20'); \n",
       "newElement.setAttribute('y','7'); \n",
       "newElement.style.fill = 'green'; \n",
       "svg.appendChild(newElement);\n",
       "newElement = document.createElementNS(\"http://www.w3.org/2000/svg\", 'rect'); \n",
       "newElement.setAttribute('width','1'); \n",
       "newElement.setAttribute('height','1'); \n",
       "newElement.setAttribute('x','21'); \n",
       "newElement.setAttribute('y','7'); \n",
       "newElement.style.fill = 'brown'; \n",
       "svg.appendChild(newElement);\n",
       "newElement = document.createElementNS(\"http://www.w3.org/2000/svg\", 'rect'); \n",
       "newElement.setAttribute('width','1'); \n",
       "newElement.setAttribute('height','1'); \n",
       "newElement.setAttribute('x','22'); \n",
       "newElement.setAttribute('y','7'); \n",
       "newElement.style.fill = 'brown'; \n",
       "svg.appendChild(newElement);\n",
       "newElement = document.createElementNS(\"http://www.w3.org/2000/svg\", 'rect'); \n",
       "newElement.setAttribute('width','1'); \n",
       "newElement.setAttribute('height','1'); \n",
       "newElement.setAttribute('x','23'); \n",
       "newElement.setAttribute('y','7'); \n",
       "newElement.style.fill = 'brown'; \n",
       "svg.appendChild(newElement);\n",
       "newElement = document.createElementNS(\"http://www.w3.org/2000/svg\", 'rect'); \n",
       "newElement.setAttribute('width','1'); \n",
       "newElement.setAttribute('height','1'); \n",
       "newElement.setAttribute('x','24'); \n",
       "newElement.setAttribute('y','7'); \n",
       "newElement.style.fill = 'brown'; \n",
       "svg.appendChild(newElement);\n",
       "newElement = document.createElementNS(\"http://www.w3.org/2000/svg\", 'rect'); \n",
       "newElement.setAttribute('width','1'); \n",
       "newElement.setAttribute('height','1'); \n",
       "newElement.setAttribute('x','25'); \n",
       "newElement.setAttribute('y','7'); \n",
       "newElement.style.fill = 'green'; \n",
       "svg.appendChild(newElement);\n",
       "newElement = document.createElementNS(\"http://www.w3.org/2000/svg\", 'rect'); \n",
       "newElement.setAttribute('width','1'); \n",
       "newElement.setAttribute('height','1'); \n",
       "newElement.setAttribute('x','26'); \n",
       "newElement.setAttribute('y','7'); \n",
       "newElement.style.fill = 'green'; \n",
       "svg.appendChild(newElement);\n",
       "newElement = document.createElementNS(\"http://www.w3.org/2000/svg\", 'rect'); \n",
       "newElement.setAttribute('width','1'); \n",
       "newElement.setAttribute('height','1'); \n",
       "newElement.setAttribute('x','27'); \n",
       "newElement.setAttribute('y','7'); \n",
       "newElement.style.fill = 'green'; \n",
       "svg.appendChild(newElement);\n",
       "newElement = document.createElementNS(\"http://www.w3.org/2000/svg\", 'rect'); \n",
       "newElement.setAttribute('width','1'); \n",
       "newElement.setAttribute('height','1'); \n",
       "newElement.setAttribute('x','28'); \n",
       "newElement.setAttribute('y','7'); \n",
       "newElement.style.fill = 'green'; \n",
       "svg.appendChild(newElement);\n",
       "newElement = document.createElementNS(\"http://www.w3.org/2000/svg\", 'rect'); \n",
       "newElement.setAttribute('width','1'); \n",
       "newElement.setAttribute('height','1'); \n",
       "newElement.setAttribute('x','29'); \n",
       "newElement.setAttribute('y','7'); \n",
       "newElement.style.fill = 'green'; \n",
       "svg.appendChild(newElement);\n",
       "newElement = document.createElementNS(\"http://www.w3.org/2000/svg\", 'rect'); \n",
       "newElement.setAttribute('width','1'); \n",
       "newElement.setAttribute('height','1'); \n",
       "newElement.setAttribute('x','0'); \n",
       "newElement.setAttribute('y','8'); \n",
       "newElement.style.fill = 'green'; \n",
       "svg.appendChild(newElement);\n",
       "newElement = document.createElementNS(\"http://www.w3.org/2000/svg\", 'rect'); \n",
       "newElement.setAttribute('width','1'); \n",
       "newElement.setAttribute('height','1'); \n",
       "newElement.setAttribute('x','1'); \n",
       "newElement.setAttribute('y','8'); \n",
       "newElement.style.fill = 'green'; \n",
       "svg.appendChild(newElement);\n",
       "newElement = document.createElementNS(\"http://www.w3.org/2000/svg\", 'rect'); \n",
       "newElement.setAttribute('width','1'); \n",
       "newElement.setAttribute('height','1'); \n",
       "newElement.setAttribute('x','2'); \n",
       "newElement.setAttribute('y','8'); \n",
       "newElement.style.fill = 'green'; \n",
       "svg.appendChild(newElement);\n",
       "newElement = document.createElementNS(\"http://www.w3.org/2000/svg\", 'rect'); \n",
       "newElement.setAttribute('width','1'); \n",
       "newElement.setAttribute('height','1'); \n",
       "newElement.setAttribute('x','3'); \n",
       "newElement.setAttribute('y','8'); \n",
       "newElement.style.fill = 'brown'; \n",
       "svg.appendChild(newElement);\n",
       "newElement = document.createElementNS(\"http://www.w3.org/2000/svg\", 'rect'); \n",
       "newElement.setAttribute('width','1'); \n",
       "newElement.setAttribute('height','1'); \n",
       "newElement.setAttribute('x','4'); \n",
       "newElement.setAttribute('y','8'); \n",
       "newElement.style.fill = 'brown'; \n",
       "svg.appendChild(newElement);\n",
       "newElement = document.createElementNS(\"http://www.w3.org/2000/svg\", 'rect'); \n",
       "newElement.setAttribute('width','1'); \n",
       "newElement.setAttribute('height','1'); \n",
       "newElement.setAttribute('x','5'); \n",
       "newElement.setAttribute('y','8'); \n",
       "newElement.style.fill = 'brown'; \n",
       "svg.appendChild(newElement);\n",
       "newElement = document.createElementNS(\"http://www.w3.org/2000/svg\", 'rect'); \n",
       "newElement.setAttribute('width','1'); \n",
       "newElement.setAttribute('height','1'); \n",
       "newElement.setAttribute('x','6'); \n",
       "newElement.setAttribute('y','8'); \n",
       "newElement.style.fill = 'brown'; \n",
       "svg.appendChild(newElement);\n",
       "newElement = document.createElementNS(\"http://www.w3.org/2000/svg\", 'rect'); \n",
       "newElement.setAttribute('width','1'); \n",
       "newElement.setAttribute('height','1'); \n",
       "newElement.setAttribute('x','7'); \n",
       "newElement.setAttribute('y','8'); \n",
       "newElement.style.fill = 'green'; \n",
       "svg.appendChild(newElement);\n",
       "newElement = document.createElementNS(\"http://www.w3.org/2000/svg\", 'rect'); \n",
       "newElement.setAttribute('width','1'); \n",
       "newElement.setAttribute('height','1'); \n",
       "newElement.setAttribute('x','8'); \n",
       "newElement.setAttribute('y','8'); \n",
       "newElement.style.fill = 'green'; \n",
       "svg.appendChild(newElement);\n",
       "newElement = document.createElementNS(\"http://www.w3.org/2000/svg\", 'rect'); \n",
       "newElement.setAttribute('width','1'); \n",
       "newElement.setAttribute('height','1'); \n",
       "newElement.setAttribute('x','9'); \n",
       "newElement.setAttribute('y','8'); \n",
       "newElement.style.fill = 'green'; \n",
       "svg.appendChild(newElement);\n",
       "newElement = document.createElementNS(\"http://www.w3.org/2000/svg\", 'rect'); \n",
       "newElement.setAttribute('width','1'); \n",
       "newElement.setAttribute('height','1'); \n",
       "newElement.setAttribute('x','10'); \n",
       "newElement.setAttribute('y','8'); \n",
       "newElement.style.fill = 'green'; \n",
       "svg.appendChild(newElement);\n",
       "newElement = document.createElementNS(\"http://www.w3.org/2000/svg\", 'rect'); \n",
       "newElement.setAttribute('width','1'); \n",
       "newElement.setAttribute('height','1'); \n",
       "newElement.setAttribute('x','11'); \n",
       "newElement.setAttribute('y','8'); \n",
       "newElement.style.fill = 'green'; \n",
       "svg.appendChild(newElement);\n",
       "newElement = document.createElementNS(\"http://www.w3.org/2000/svg\", 'rect'); \n",
       "newElement.setAttribute('width','1'); \n",
       "newElement.setAttribute('height','1'); \n",
       "newElement.setAttribute('x','12'); \n",
       "newElement.setAttribute('y','8'); \n",
       "newElement.style.fill = 'green'; \n",
       "svg.appendChild(newElement);\n",
       "newElement = document.createElementNS(\"http://www.w3.org/2000/svg\", 'rect'); \n",
       "newElement.setAttribute('width','1'); \n",
       "newElement.setAttribute('height','1'); \n",
       "newElement.setAttribute('x','13'); \n",
       "newElement.setAttribute('y','8'); \n",
       "newElement.style.fill = 'green'; \n",
       "svg.appendChild(newElement);\n",
       "newElement = document.createElementNS(\"http://www.w3.org/2000/svg\", 'rect'); \n",
       "newElement.setAttribute('width','1'); \n",
       "newElement.setAttribute('height','1'); \n",
       "newElement.setAttribute('x','14'); \n",
       "newElement.setAttribute('y','8'); \n",
       "newElement.style.fill = 'green'; \n",
       "svg.appendChild(newElement);\n",
       "newElement = document.createElementNS(\"http://www.w3.org/2000/svg\", 'rect'); \n",
       "newElement.setAttribute('width','1'); \n",
       "newElement.setAttribute('height','1'); \n",
       "newElement.setAttribute('x','15'); \n",
       "newElement.setAttribute('y','8'); \n",
       "newElement.style.fill = 'green'; \n",
       "svg.appendChild(newElement);\n",
       "newElement = document.createElementNS(\"http://www.w3.org/2000/svg\", 'rect'); \n",
       "newElement.setAttribute('width','1'); \n",
       "newElement.setAttribute('height','1'); \n",
       "newElement.setAttribute('x','16'); \n",
       "newElement.setAttribute('y','8'); \n",
       "newElement.style.fill = 'green'; \n",
       "svg.appendChild(newElement);\n",
       "newElement = document.createElementNS(\"http://www.w3.org/2000/svg\", 'rect'); \n",
       "newElement.setAttribute('width','1'); \n",
       "newElement.setAttribute('height','1'); \n",
       "newElement.setAttribute('x','17'); \n",
       "newElement.setAttribute('y','8'); \n",
       "newElement.style.fill = 'green'; \n",
       "svg.appendChild(newElement);\n",
       "newElement = document.createElementNS(\"http://www.w3.org/2000/svg\", 'rect'); \n",
       "newElement.setAttribute('width','1'); \n",
       "newElement.setAttribute('height','1'); \n",
       "newElement.setAttribute('x','18'); \n",
       "newElement.setAttribute('y','8'); \n",
       "newElement.style.fill = 'green'; \n",
       "svg.appendChild(newElement);\n",
       "newElement = document.createElementNS(\"http://www.w3.org/2000/svg\", 'rect'); \n",
       "newElement.setAttribute('width','1'); \n",
       "newElement.setAttribute('height','1'); \n",
       "newElement.setAttribute('x','19'); \n",
       "newElement.setAttribute('y','8'); \n",
       "newElement.style.fill = 'green'; \n",
       "svg.appendChild(newElement);\n",
       "newElement = document.createElementNS(\"http://www.w3.org/2000/svg\", 'rect'); \n",
       "newElement.setAttribute('width','1'); \n",
       "newElement.setAttribute('height','1'); \n",
       "newElement.setAttribute('x','20'); \n",
       "newElement.setAttribute('y','8'); \n",
       "newElement.style.fill = 'green'; \n",
       "svg.appendChild(newElement);\n",
       "newElement = document.createElementNS(\"http://www.w3.org/2000/svg\", 'rect'); \n",
       "newElement.setAttribute('width','1'); \n",
       "newElement.setAttribute('height','1'); \n",
       "newElement.setAttribute('x','21'); \n",
       "newElement.setAttribute('y','8'); \n",
       "newElement.style.fill = 'brown'; \n",
       "svg.appendChild(newElement);\n",
       "newElement = document.createElementNS(\"http://www.w3.org/2000/svg\", 'rect'); \n",
       "newElement.setAttribute('width','1'); \n",
       "newElement.setAttribute('height','1'); \n",
       "newElement.setAttribute('x','22'); \n",
       "newElement.setAttribute('y','8'); \n",
       "newElement.style.fill = 'brown'; \n",
       "svg.appendChild(newElement);\n",
       "newElement = document.createElementNS(\"http://www.w3.org/2000/svg\", 'rect'); \n",
       "newElement.setAttribute('width','1'); \n",
       "newElement.setAttribute('height','1'); \n",
       "newElement.setAttribute('x','23'); \n",
       "newElement.setAttribute('y','8'); \n",
       "newElement.style.fill = 'brown'; \n",
       "svg.appendChild(newElement);\n",
       "newElement = document.createElementNS(\"http://www.w3.org/2000/svg\", 'rect'); \n",
       "newElement.setAttribute('width','1'); \n",
       "newElement.setAttribute('height','1'); \n",
       "newElement.setAttribute('x','24'); \n",
       "newElement.setAttribute('y','8'); \n",
       "newElement.style.fill = 'brown'; \n",
       "svg.appendChild(newElement);\n",
       "newElement = document.createElementNS(\"http://www.w3.org/2000/svg\", 'rect'); \n",
       "newElement.setAttribute('width','1'); \n",
       "newElement.setAttribute('height','1'); \n",
       "newElement.setAttribute('x','25'); \n",
       "newElement.setAttribute('y','8'); \n",
       "newElement.style.fill = 'green'; \n",
       "svg.appendChild(newElement);\n",
       "newElement = document.createElementNS(\"http://www.w3.org/2000/svg\", 'rect'); \n",
       "newElement.setAttribute('width','1'); \n",
       "newElement.setAttribute('height','1'); \n",
       "newElement.setAttribute('x','26'); \n",
       "newElement.setAttribute('y','8'); \n",
       "newElement.style.fill = 'green'; \n",
       "svg.appendChild(newElement);\n",
       "newElement = document.createElementNS(\"http://www.w3.org/2000/svg\", 'rect'); \n",
       "newElement.setAttribute('width','1'); \n",
       "newElement.setAttribute('height','1'); \n",
       "newElement.setAttribute('x','27'); \n",
       "newElement.setAttribute('y','8'); \n",
       "newElement.style.fill = 'green'; \n",
       "svg.appendChild(newElement);\n",
       "newElement = document.createElementNS(\"http://www.w3.org/2000/svg\", 'rect'); \n",
       "newElement.setAttribute('width','1'); \n",
       "newElement.setAttribute('height','1'); \n",
       "newElement.setAttribute('x','28'); \n",
       "newElement.setAttribute('y','8'); \n",
       "newElement.style.fill = 'green'; \n",
       "svg.appendChild(newElement);\n",
       "newElement = document.createElementNS(\"http://www.w3.org/2000/svg\", 'rect'); \n",
       "newElement.setAttribute('width','1'); \n",
       "newElement.setAttribute('height','1'); \n",
       "newElement.setAttribute('x','29'); \n",
       "newElement.setAttribute('y','8'); \n",
       "newElement.style.fill = 'green'; \n",
       "svg.appendChild(newElement);\n",
       "newElement = document.createElementNS(\"http://www.w3.org/2000/svg\", 'rect'); \n",
       "newElement.setAttribute('width','1'); \n",
       "newElement.setAttribute('height','1'); \n",
       "newElement.setAttribute('x','0'); \n",
       "newElement.setAttribute('y','9'); \n",
       "newElement.style.fill = 'green'; \n",
       "svg.appendChild(newElement);\n",
       "newElement = document.createElementNS(\"http://www.w3.org/2000/svg\", 'rect'); \n",
       "newElement.setAttribute('width','1'); \n",
       "newElement.setAttribute('height','1'); \n",
       "newElement.setAttribute('x','1'); \n",
       "newElement.setAttribute('y','9'); \n",
       "newElement.style.fill = 'green'; \n",
       "svg.appendChild(newElement);\n",
       "newElement = document.createElementNS(\"http://www.w3.org/2000/svg\", 'rect'); \n",
       "newElement.setAttribute('width','1'); \n",
       "newElement.setAttribute('height','1'); \n",
       "newElement.setAttribute('x','2'); \n",
       "newElement.setAttribute('y','9'); \n",
       "newElement.style.fill = 'green'; \n",
       "svg.appendChild(newElement);\n",
       "newElement = document.createElementNS(\"http://www.w3.org/2000/svg\", 'rect'); \n",
       "newElement.setAttribute('width','1'); \n",
       "newElement.setAttribute('height','1'); \n",
       "newElement.setAttribute('x','3'); \n",
       "newElement.setAttribute('y','9'); \n",
       "newElement.style.fill = 'brown'; \n",
       "svg.appendChild(newElement);\n",
       "newElement = document.createElementNS(\"http://www.w3.org/2000/svg\", 'rect'); \n",
       "newElement.setAttribute('width','1'); \n",
       "newElement.setAttribute('height','1'); \n",
       "newElement.setAttribute('x','4'); \n",
       "newElement.setAttribute('y','9'); \n",
       "newElement.style.fill = 'brown'; \n",
       "svg.appendChild(newElement);\n",
       "newElement = document.createElementNS(\"http://www.w3.org/2000/svg\", 'rect'); \n",
       "newElement.setAttribute('width','1'); \n",
       "newElement.setAttribute('height','1'); \n",
       "newElement.setAttribute('x','5'); \n",
       "newElement.setAttribute('y','9'); \n",
       "newElement.style.fill = 'brown'; \n",
       "svg.appendChild(newElement);\n",
       "newElement = document.createElementNS(\"http://www.w3.org/2000/svg\", 'rect'); \n",
       "newElement.setAttribute('width','1'); \n",
       "newElement.setAttribute('height','1'); \n",
       "newElement.setAttribute('x','6'); \n",
       "newElement.setAttribute('y','9'); \n",
       "newElement.style.fill = 'brown'; \n",
       "svg.appendChild(newElement);\n",
       "newElement = document.createElementNS(\"http://www.w3.org/2000/svg\", 'rect'); \n",
       "newElement.setAttribute('width','1'); \n",
       "newElement.setAttribute('height','1'); \n",
       "newElement.setAttribute('x','7'); \n",
       "newElement.setAttribute('y','9'); \n",
       "newElement.style.fill = 'green'; \n",
       "svg.appendChild(newElement);\n",
       "newElement = document.createElementNS(\"http://www.w3.org/2000/svg\", 'rect'); \n",
       "newElement.setAttribute('width','1'); \n",
       "newElement.setAttribute('height','1'); \n",
       "newElement.setAttribute('x','8'); \n",
       "newElement.setAttribute('y','9'); \n",
       "newElement.style.fill = 'green'; \n",
       "svg.appendChild(newElement);\n",
       "newElement = document.createElementNS(\"http://www.w3.org/2000/svg\", 'rect'); \n",
       "newElement.setAttribute('width','1'); \n",
       "newElement.setAttribute('height','1'); \n",
       "newElement.setAttribute('x','9'); \n",
       "newElement.setAttribute('y','9'); \n",
       "newElement.style.fill = 'green'; \n",
       "svg.appendChild(newElement);\n",
       "newElement = document.createElementNS(\"http://www.w3.org/2000/svg\", 'rect'); \n",
       "newElement.setAttribute('width','1'); \n",
       "newElement.setAttribute('height','1'); \n",
       "newElement.setAttribute('x','10'); \n",
       "newElement.setAttribute('y','9'); \n",
       "newElement.style.fill = 'green'; \n",
       "svg.appendChild(newElement);\n",
       "newElement = document.createElementNS(\"http://www.w3.org/2000/svg\", 'rect'); \n",
       "newElement.setAttribute('width','1'); \n",
       "newElement.setAttribute('height','1'); \n",
       "newElement.setAttribute('x','11'); \n",
       "newElement.setAttribute('y','9'); \n",
       "newElement.style.fill = 'green'; \n",
       "svg.appendChild(newElement);\n",
       "newElement = document.createElementNS(\"http://www.w3.org/2000/svg\", 'rect'); \n",
       "newElement.setAttribute('width','1'); \n",
       "newElement.setAttribute('height','1'); \n",
       "newElement.setAttribute('x','12'); \n",
       "newElement.setAttribute('y','9'); \n",
       "newElement.style.fill = 'green'; \n",
       "svg.appendChild(newElement);\n",
       "newElement = document.createElementNS(\"http://www.w3.org/2000/svg\", 'rect'); \n",
       "newElement.setAttribute('width','1'); \n",
       "newElement.setAttribute('height','1'); \n",
       "newElement.setAttribute('x','13'); \n",
       "newElement.setAttribute('y','9'); \n",
       "newElement.style.fill = 'green'; \n",
       "svg.appendChild(newElement);\n",
       "newElement = document.createElementNS(\"http://www.w3.org/2000/svg\", 'rect'); \n",
       "newElement.setAttribute('width','1'); \n",
       "newElement.setAttribute('height','1'); \n",
       "newElement.setAttribute('x','14'); \n",
       "newElement.setAttribute('y','9'); \n",
       "newElement.style.fill = 'green'; \n",
       "svg.appendChild(newElement);\n",
       "newElement = document.createElementNS(\"http://www.w3.org/2000/svg\", 'rect'); \n",
       "newElement.setAttribute('width','1'); \n",
       "newElement.setAttribute('height','1'); \n",
       "newElement.setAttribute('x','15'); \n",
       "newElement.setAttribute('y','9'); \n",
       "newElement.style.fill = 'green'; \n",
       "svg.appendChild(newElement);\n",
       "newElement = document.createElementNS(\"http://www.w3.org/2000/svg\", 'rect'); \n",
       "newElement.setAttribute('width','1'); \n",
       "newElement.setAttribute('height','1'); \n",
       "newElement.setAttribute('x','16'); \n",
       "newElement.setAttribute('y','9'); \n",
       "newElement.style.fill = 'green'; \n",
       "svg.appendChild(newElement);\n",
       "newElement = document.createElementNS(\"http://www.w3.org/2000/svg\", 'rect'); \n",
       "newElement.setAttribute('width','1'); \n",
       "newElement.setAttribute('height','1'); \n",
       "newElement.setAttribute('x','17'); \n",
       "newElement.setAttribute('y','9'); \n",
       "newElement.style.fill = 'green'; \n",
       "svg.appendChild(newElement);\n",
       "newElement = document.createElementNS(\"http://www.w3.org/2000/svg\", 'rect'); \n",
       "newElement.setAttribute('width','1'); \n",
       "newElement.setAttribute('height','1'); \n",
       "newElement.setAttribute('x','18'); \n",
       "newElement.setAttribute('y','9'); \n",
       "newElement.style.fill = 'green'; \n",
       "svg.appendChild(newElement);\n",
       "newElement = document.createElementNS(\"http://www.w3.org/2000/svg\", 'rect'); \n",
       "newElement.setAttribute('width','1'); \n",
       "newElement.setAttribute('height','1'); \n",
       "newElement.setAttribute('x','19'); \n",
       "newElement.setAttribute('y','9'); \n",
       "newElement.style.fill = 'green'; \n",
       "svg.appendChild(newElement);\n",
       "newElement = document.createElementNS(\"http://www.w3.org/2000/svg\", 'rect'); \n",
       "newElement.setAttribute('width','1'); \n",
       "newElement.setAttribute('height','1'); \n",
       "newElement.setAttribute('x','20'); \n",
       "newElement.setAttribute('y','9'); \n",
       "newElement.style.fill = 'green'; \n",
       "svg.appendChild(newElement);\n",
       "newElement = document.createElementNS(\"http://www.w3.org/2000/svg\", 'rect'); \n",
       "newElement.setAttribute('width','1'); \n",
       "newElement.setAttribute('height','1'); \n",
       "newElement.setAttribute('x','21'); \n",
       "newElement.setAttribute('y','9'); \n",
       "newElement.style.fill = 'brown'; \n",
       "svg.appendChild(newElement);\n",
       "newElement = document.createElementNS(\"http://www.w3.org/2000/svg\", 'rect'); \n",
       "newElement.setAttribute('width','1'); \n",
       "newElement.setAttribute('height','1'); \n",
       "newElement.setAttribute('x','22'); \n",
       "newElement.setAttribute('y','9'); \n",
       "newElement.style.fill = 'brown'; \n",
       "svg.appendChild(newElement);\n",
       "newElement = document.createElementNS(\"http://www.w3.org/2000/svg\", 'rect'); \n",
       "newElement.setAttribute('width','1'); \n",
       "newElement.setAttribute('height','1'); \n",
       "newElement.setAttribute('x','23'); \n",
       "newElement.setAttribute('y','9'); \n",
       "newElement.style.fill = 'brown'; \n",
       "svg.appendChild(newElement);\n",
       "newElement = document.createElementNS(\"http://www.w3.org/2000/svg\", 'rect'); \n",
       "newElement.setAttribute('width','1'); \n",
       "newElement.setAttribute('height','1'); \n",
       "newElement.setAttribute('x','24'); \n",
       "newElement.setAttribute('y','9'); \n",
       "newElement.style.fill = 'brown'; \n",
       "svg.appendChild(newElement);\n",
       "newElement = document.createElementNS(\"http://www.w3.org/2000/svg\", 'rect'); \n",
       "newElement.setAttribute('width','1'); \n",
       "newElement.setAttribute('height','1'); \n",
       "newElement.setAttribute('x','25'); \n",
       "newElement.setAttribute('y','9'); \n",
       "newElement.style.fill = 'green'; \n",
       "svg.appendChild(newElement);\n",
       "newElement = document.createElementNS(\"http://www.w3.org/2000/svg\", 'rect'); \n",
       "newElement.setAttribute('width','1'); \n",
       "newElement.setAttribute('height','1'); \n",
       "newElement.setAttribute('x','26'); \n",
       "newElement.setAttribute('y','9'); \n",
       "newElement.style.fill = 'green'; \n",
       "svg.appendChild(newElement);\n",
       "newElement = document.createElementNS(\"http://www.w3.org/2000/svg\", 'rect'); \n",
       "newElement.setAttribute('width','1'); \n",
       "newElement.setAttribute('height','1'); \n",
       "newElement.setAttribute('x','27'); \n",
       "newElement.setAttribute('y','9'); \n",
       "newElement.style.fill = 'green'; \n",
       "svg.appendChild(newElement);\n",
       "newElement = document.createElementNS(\"http://www.w3.org/2000/svg\", 'rect'); \n",
       "newElement.setAttribute('width','1'); \n",
       "newElement.setAttribute('height','1'); \n",
       "newElement.setAttribute('x','28'); \n",
       "newElement.setAttribute('y','9'); \n",
       "newElement.style.fill = 'green'; \n",
       "svg.appendChild(newElement);\n",
       "newElement = document.createElementNS(\"http://www.w3.org/2000/svg\", 'rect'); \n",
       "newElement.setAttribute('width','1'); \n",
       "newElement.setAttribute('height','1'); \n",
       "newElement.setAttribute('x','29'); \n",
       "newElement.setAttribute('y','9'); \n",
       "newElement.style.fill = 'green'; \n",
       "svg.appendChild(newElement);\n",
       "newElement = document.createElementNS(\"http://www.w3.org/2000/svg\", 'rect'); \n",
       "newElement.setAttribute('width','1'); \n",
       "newElement.setAttribute('height','1'); \n",
       "newElement.setAttribute('x','0'); \n",
       "newElement.setAttribute('y','10'); \n",
       "newElement.style.fill = 'green'; \n",
       "svg.appendChild(newElement);\n",
       "newElement = document.createElementNS(\"http://www.w3.org/2000/svg\", 'rect'); \n",
       "newElement.setAttribute('width','1'); \n",
       "newElement.setAttribute('height','1'); \n",
       "newElement.setAttribute('x','1'); \n",
       "newElement.setAttribute('y','10'); \n",
       "newElement.style.fill = 'green'; \n",
       "svg.appendChild(newElement);\n",
       "newElement = document.createElementNS(\"http://www.w3.org/2000/svg\", 'rect'); \n",
       "newElement.setAttribute('width','1'); \n",
       "newElement.setAttribute('height','1'); \n",
       "newElement.setAttribute('x','2'); \n",
       "newElement.setAttribute('y','10'); \n",
       "newElement.style.fill = 'green'; \n",
       "svg.appendChild(newElement);\n",
       "newElement = document.createElementNS(\"http://www.w3.org/2000/svg\", 'rect'); \n",
       "newElement.setAttribute('width','1'); \n",
       "newElement.setAttribute('height','1'); \n",
       "newElement.setAttribute('x','3'); \n",
       "newElement.setAttribute('y','10'); \n",
       "newElement.style.fill = 'brown'; \n",
       "svg.appendChild(newElement);\n",
       "newElement = document.createElementNS(\"http://www.w3.org/2000/svg\", 'rect'); \n",
       "newElement.setAttribute('width','1'); \n",
       "newElement.setAttribute('height','1'); \n",
       "newElement.setAttribute('x','4'); \n",
       "newElement.setAttribute('y','10'); \n",
       "newElement.style.fill = 'brown'; \n",
       "svg.appendChild(newElement);\n",
       "newElement = document.createElementNS(\"http://www.w3.org/2000/svg\", 'rect'); \n",
       "newElement.setAttribute('width','1'); \n",
       "newElement.setAttribute('height','1'); \n",
       "newElement.setAttribute('x','5'); \n",
       "newElement.setAttribute('y','10'); \n",
       "newElement.style.fill = 'brown'; \n",
       "svg.appendChild(newElement);\n",
       "newElement = document.createElementNS(\"http://www.w3.org/2000/svg\", 'rect'); \n",
       "newElement.setAttribute('width','1'); \n",
       "newElement.setAttribute('height','1'); \n",
       "newElement.setAttribute('x','6'); \n",
       "newElement.setAttribute('y','10'); \n",
       "newElement.style.fill = 'brown'; \n",
       "svg.appendChild(newElement);\n",
       "newElement = document.createElementNS(\"http://www.w3.org/2000/svg\", 'rect'); \n",
       "newElement.setAttribute('width','1'); \n",
       "newElement.setAttribute('height','1'); \n",
       "newElement.setAttribute('x','7'); \n",
       "newElement.setAttribute('y','10'); \n",
       "newElement.style.fill = 'green'; \n",
       "svg.appendChild(newElement);\n",
       "newElement = document.createElementNS(\"http://www.w3.org/2000/svg\", 'rect'); \n",
       "newElement.setAttribute('width','1'); \n",
       "newElement.setAttribute('height','1'); \n",
       "newElement.setAttribute('x','8'); \n",
       "newElement.setAttribute('y','10'); \n",
       "newElement.style.fill = 'green'; \n",
       "svg.appendChild(newElement);\n",
       "newElement = document.createElementNS(\"http://www.w3.org/2000/svg\", 'rect'); \n",
       "newElement.setAttribute('width','1'); \n",
       "newElement.setAttribute('height','1'); \n",
       "newElement.setAttribute('x','9'); \n",
       "newElement.setAttribute('y','10'); \n",
       "newElement.style.fill = 'green'; \n",
       "svg.appendChild(newElement);\n",
       "newElement = document.createElementNS(\"http://www.w3.org/2000/svg\", 'rect'); \n",
       "newElement.setAttribute('width','1'); \n",
       "newElement.setAttribute('height','1'); \n",
       "newElement.setAttribute('x','10'); \n",
       "newElement.setAttribute('y','10'); \n",
       "newElement.style.fill = 'green'; \n",
       "svg.appendChild(newElement);\n",
       "newElement = document.createElementNS(\"http://www.w3.org/2000/svg\", 'rect'); \n",
       "newElement.setAttribute('width','1'); \n",
       "newElement.setAttribute('height','1'); \n",
       "newElement.setAttribute('x','11'); \n",
       "newElement.setAttribute('y','10'); \n",
       "newElement.style.fill = 'green'; \n",
       "svg.appendChild(newElement);\n",
       "newElement = document.createElementNS(\"http://www.w3.org/2000/svg\", 'rect'); \n",
       "newElement.setAttribute('width','1'); \n",
       "newElement.setAttribute('height','1'); \n",
       "newElement.setAttribute('x','12'); \n",
       "newElement.setAttribute('y','10'); \n",
       "newElement.style.fill = 'green'; \n",
       "svg.appendChild(newElement);\n",
       "newElement = document.createElementNS(\"http://www.w3.org/2000/svg\", 'rect'); \n",
       "newElement.setAttribute('width','1'); \n",
       "newElement.setAttribute('height','1'); \n",
       "newElement.setAttribute('x','13'); \n",
       "newElement.setAttribute('y','10'); \n",
       "newElement.style.fill = 'green'; \n",
       "svg.appendChild(newElement);\n",
       "newElement = document.createElementNS(\"http://www.w3.org/2000/svg\", 'rect'); \n",
       "newElement.setAttribute('width','1'); \n",
       "newElement.setAttribute('height','1'); \n",
       "newElement.setAttribute('x','14'); \n",
       "newElement.setAttribute('y','10'); \n",
       "newElement.style.fill = 'green'; \n",
       "svg.appendChild(newElement);\n",
       "newElement = document.createElementNS(\"http://www.w3.org/2000/svg\", 'rect'); \n",
       "newElement.setAttribute('width','1'); \n",
       "newElement.setAttribute('height','1'); \n",
       "newElement.setAttribute('x','15'); \n",
       "newElement.setAttribute('y','10'); \n",
       "newElement.style.fill = 'green'; \n",
       "svg.appendChild(newElement);\n",
       "newElement = document.createElementNS(\"http://www.w3.org/2000/svg\", 'rect'); \n",
       "newElement.setAttribute('width','1'); \n",
       "newElement.setAttribute('height','1'); \n",
       "newElement.setAttribute('x','16'); \n",
       "newElement.setAttribute('y','10'); \n",
       "newElement.style.fill = 'green'; \n",
       "svg.appendChild(newElement);\n",
       "newElement = document.createElementNS(\"http://www.w3.org/2000/svg\", 'rect'); \n",
       "newElement.setAttribute('width','1'); \n",
       "newElement.setAttribute('height','1'); \n",
       "newElement.setAttribute('x','17'); \n",
       "newElement.setAttribute('y','10'); \n",
       "newElement.style.fill = 'green'; \n",
       "svg.appendChild(newElement);\n",
       "newElement = document.createElementNS(\"http://www.w3.org/2000/svg\", 'rect'); \n",
       "newElement.setAttribute('width','1'); \n",
       "newElement.setAttribute('height','1'); \n",
       "newElement.setAttribute('x','18'); \n",
       "newElement.setAttribute('y','10'); \n",
       "newElement.style.fill = 'green'; \n",
       "svg.appendChild(newElement);\n",
       "newElement = document.createElementNS(\"http://www.w3.org/2000/svg\", 'rect'); \n",
       "newElement.setAttribute('width','1'); \n",
       "newElement.setAttribute('height','1'); \n",
       "newElement.setAttribute('x','19'); \n",
       "newElement.setAttribute('y','10'); \n",
       "newElement.style.fill = 'green'; \n",
       "svg.appendChild(newElement);\n",
       "newElement = document.createElementNS(\"http://www.w3.org/2000/svg\", 'rect'); \n",
       "newElement.setAttribute('width','1'); \n",
       "newElement.setAttribute('height','1'); \n",
       "newElement.setAttribute('x','20'); \n",
       "newElement.setAttribute('y','10'); \n",
       "newElement.style.fill = 'green'; \n",
       "svg.appendChild(newElement);\n",
       "newElement = document.createElementNS(\"http://www.w3.org/2000/svg\", 'rect'); \n",
       "newElement.setAttribute('width','1'); \n",
       "newElement.setAttribute('height','1'); \n",
       "newElement.setAttribute('x','21'); \n",
       "newElement.setAttribute('y','10'); \n",
       "newElement.style.fill = 'brown'; \n",
       "svg.appendChild(newElement);\n",
       "newElement = document.createElementNS(\"http://www.w3.org/2000/svg\", 'rect'); \n",
       "newElement.setAttribute('width','1'); \n",
       "newElement.setAttribute('height','1'); \n",
       "newElement.setAttribute('x','22'); \n",
       "newElement.setAttribute('y','10'); \n",
       "newElement.style.fill = 'brown'; \n",
       "svg.appendChild(newElement);\n",
       "newElement = document.createElementNS(\"http://www.w3.org/2000/svg\", 'rect'); \n",
       "newElement.setAttribute('width','1'); \n",
       "newElement.setAttribute('height','1'); \n",
       "newElement.setAttribute('x','23'); \n",
       "newElement.setAttribute('y','10'); \n",
       "newElement.style.fill = 'brown'; \n",
       "svg.appendChild(newElement);\n",
       "newElement = document.createElementNS(\"http://www.w3.org/2000/svg\", 'rect'); \n",
       "newElement.setAttribute('width','1'); \n",
       "newElement.setAttribute('height','1'); \n",
       "newElement.setAttribute('x','24'); \n",
       "newElement.setAttribute('y','10'); \n",
       "newElement.style.fill = 'brown'; \n",
       "svg.appendChild(newElement);\n",
       "newElement = document.createElementNS(\"http://www.w3.org/2000/svg\", 'rect'); \n",
       "newElement.setAttribute('width','1'); \n",
       "newElement.setAttribute('height','1'); \n",
       "newElement.setAttribute('x','25'); \n",
       "newElement.setAttribute('y','10'); \n",
       "newElement.style.fill = 'green'; \n",
       "svg.appendChild(newElement);\n",
       "newElement = document.createElementNS(\"http://www.w3.org/2000/svg\", 'rect'); \n",
       "newElement.setAttribute('width','1'); \n",
       "newElement.setAttribute('height','1'); \n",
       "newElement.setAttribute('x','26'); \n",
       "newElement.setAttribute('y','10'); \n",
       "newElement.style.fill = 'green'; \n",
       "svg.appendChild(newElement);\n",
       "newElement = document.createElementNS(\"http://www.w3.org/2000/svg\", 'rect'); \n",
       "newElement.setAttribute('width','1'); \n",
       "newElement.setAttribute('height','1'); \n",
       "newElement.setAttribute('x','27'); \n",
       "newElement.setAttribute('y','10'); \n",
       "newElement.style.fill = 'green'; \n",
       "svg.appendChild(newElement);\n",
       "newElement = document.createElementNS(\"http://www.w3.org/2000/svg\", 'rect'); \n",
       "newElement.setAttribute('width','1'); \n",
       "newElement.setAttribute('height','1'); \n",
       "newElement.setAttribute('x','28'); \n",
       "newElement.setAttribute('y','10'); \n",
       "newElement.style.fill = 'green'; \n",
       "svg.appendChild(newElement);\n",
       "newElement = document.createElementNS(\"http://www.w3.org/2000/svg\", 'rect'); \n",
       "newElement.setAttribute('width','1'); \n",
       "newElement.setAttribute('height','1'); \n",
       "newElement.setAttribute('x','29'); \n",
       "newElement.setAttribute('y','10'); \n",
       "newElement.style.fill = 'green'; \n",
       "svg.appendChild(newElement);\n",
       "newElement = document.createElementNS(\"http://www.w3.org/2000/svg\", 'rect'); \n",
       "newElement.setAttribute('width','1'); \n",
       "newElement.setAttribute('height','1'); \n",
       "newElement.setAttribute('x','0'); \n",
       "newElement.setAttribute('y','11'); \n",
       "newElement.style.fill = 'green'; \n",
       "svg.appendChild(newElement);\n",
       "newElement = document.createElementNS(\"http://www.w3.org/2000/svg\", 'rect'); \n",
       "newElement.setAttribute('width','1'); \n",
       "newElement.setAttribute('height','1'); \n",
       "newElement.setAttribute('x','1'); \n",
       "newElement.setAttribute('y','11'); \n",
       "newElement.style.fill = 'green'; \n",
       "svg.appendChild(newElement);\n",
       "newElement = document.createElementNS(\"http://www.w3.org/2000/svg\", 'rect'); \n",
       "newElement.setAttribute('width','1'); \n",
       "newElement.setAttribute('height','1'); \n",
       "newElement.setAttribute('x','2'); \n",
       "newElement.setAttribute('y','11'); \n",
       "newElement.style.fill = 'green'; \n",
       "svg.appendChild(newElement);\n",
       "newElement = document.createElementNS(\"http://www.w3.org/2000/svg\", 'rect'); \n",
       "newElement.setAttribute('width','1'); \n",
       "newElement.setAttribute('height','1'); \n",
       "newElement.setAttribute('x','3'); \n",
       "newElement.setAttribute('y','11'); \n",
       "newElement.style.fill = 'brown'; \n",
       "svg.appendChild(newElement);\n",
       "newElement = document.createElementNS(\"http://www.w3.org/2000/svg\", 'rect'); \n",
       "newElement.setAttribute('width','1'); \n",
       "newElement.setAttribute('height','1'); \n",
       "newElement.setAttribute('x','4'); \n",
       "newElement.setAttribute('y','11'); \n",
       "newElement.style.fill = 'brown'; \n",
       "svg.appendChild(newElement);\n",
       "newElement = document.createElementNS(\"http://www.w3.org/2000/svg\", 'rect'); \n",
       "newElement.setAttribute('width','1'); \n",
       "newElement.setAttribute('height','1'); \n",
       "newElement.setAttribute('x','5'); \n",
       "newElement.setAttribute('y','11'); \n",
       "newElement.style.fill = 'brown'; \n",
       "svg.appendChild(newElement);\n",
       "newElement = document.createElementNS(\"http://www.w3.org/2000/svg\", 'rect'); \n",
       "newElement.setAttribute('width','1'); \n",
       "newElement.setAttribute('height','1'); \n",
       "newElement.setAttribute('x','6'); \n",
       "newElement.setAttribute('y','11'); \n",
       "newElement.style.fill = 'brown'; \n",
       "svg.appendChild(newElement);\n",
       "newElement = document.createElementNS(\"http://www.w3.org/2000/svg\", 'rect'); \n",
       "newElement.setAttribute('width','1'); \n",
       "newElement.setAttribute('height','1'); \n",
       "newElement.setAttribute('x','7'); \n",
       "newElement.setAttribute('y','11'); \n",
       "newElement.style.fill = 'brown'; \n",
       "svg.appendChild(newElement);\n",
       "newElement = document.createElementNS(\"http://www.w3.org/2000/svg\", 'rect'); \n",
       "newElement.setAttribute('width','1'); \n",
       "newElement.setAttribute('height','1'); \n",
       "newElement.setAttribute('x','8'); \n",
       "newElement.setAttribute('y','11'); \n",
       "newElement.style.fill = 'green'; \n",
       "svg.appendChild(newElement);\n",
       "newElement = document.createElementNS(\"http://www.w3.org/2000/svg\", 'rect'); \n",
       "newElement.setAttribute('width','1'); \n",
       "newElement.setAttribute('height','1'); \n",
       "newElement.setAttribute('x','9'); \n",
       "newElement.setAttribute('y','11'); \n",
       "newElement.style.fill = 'green'; \n",
       "svg.appendChild(newElement);\n",
       "newElement = document.createElementNS(\"http://www.w3.org/2000/svg\", 'rect'); \n",
       "newElement.setAttribute('width','1'); \n",
       "newElement.setAttribute('height','1'); \n",
       "newElement.setAttribute('x','10'); \n",
       "newElement.setAttribute('y','11'); \n",
       "newElement.style.fill = 'green'; \n",
       "svg.appendChild(newElement);\n",
       "newElement = document.createElementNS(\"http://www.w3.org/2000/svg\", 'rect'); \n",
       "newElement.setAttribute('width','1'); \n",
       "newElement.setAttribute('height','1'); \n",
       "newElement.setAttribute('x','11'); \n",
       "newElement.setAttribute('y','11'); \n",
       "newElement.style.fill = 'green'; \n",
       "svg.appendChild(newElement);\n",
       "newElement = document.createElementNS(\"http://www.w3.org/2000/svg\", 'rect'); \n",
       "newElement.setAttribute('width','1'); \n",
       "newElement.setAttribute('height','1'); \n",
       "newElement.setAttribute('x','12'); \n",
       "newElement.setAttribute('y','11'); \n",
       "newElement.style.fill = 'green'; \n",
       "svg.appendChild(newElement);\n",
       "newElement = document.createElementNS(\"http://www.w3.org/2000/svg\", 'rect'); \n",
       "newElement.setAttribute('width','1'); \n",
       "newElement.setAttribute('height','1'); \n",
       "newElement.setAttribute('x','13'); \n",
       "newElement.setAttribute('y','11'); \n",
       "newElement.style.fill = 'green'; \n",
       "svg.appendChild(newElement);\n",
       "newElement = document.createElementNS(\"http://www.w3.org/2000/svg\", 'rect'); \n",
       "newElement.setAttribute('width','1'); \n",
       "newElement.setAttribute('height','1'); \n",
       "newElement.setAttribute('x','14'); \n",
       "newElement.setAttribute('y','11'); \n",
       "newElement.style.fill = 'green'; \n",
       "svg.appendChild(newElement);\n",
       "newElement = document.createElementNS(\"http://www.w3.org/2000/svg\", 'rect'); \n",
       "newElement.setAttribute('width','1'); \n",
       "newElement.setAttribute('height','1'); \n",
       "newElement.setAttribute('x','15'); \n",
       "newElement.setAttribute('y','11'); \n",
       "newElement.style.fill = 'green'; \n",
       "svg.appendChild(newElement);\n",
       "newElement = document.createElementNS(\"http://www.w3.org/2000/svg\", 'rect'); \n",
       "newElement.setAttribute('width','1'); \n",
       "newElement.setAttribute('height','1'); \n",
       "newElement.setAttribute('x','16'); \n",
       "newElement.setAttribute('y','11'); \n",
       "newElement.style.fill = 'green'; \n",
       "svg.appendChild(newElement);\n",
       "newElement = document.createElementNS(\"http://www.w3.org/2000/svg\", 'rect'); \n",
       "newElement.setAttribute('width','1'); \n",
       "newElement.setAttribute('height','1'); \n",
       "newElement.setAttribute('x','17'); \n",
       "newElement.setAttribute('y','11'); \n",
       "newElement.style.fill = 'green'; \n",
       "svg.appendChild(newElement);\n",
       "newElement = document.createElementNS(\"http://www.w3.org/2000/svg\", 'rect'); \n",
       "newElement.setAttribute('width','1'); \n",
       "newElement.setAttribute('height','1'); \n",
       "newElement.setAttribute('x','18'); \n",
       "newElement.setAttribute('y','11'); \n",
       "newElement.style.fill = 'green'; \n",
       "svg.appendChild(newElement);\n",
       "newElement = document.createElementNS(\"http://www.w3.org/2000/svg\", 'rect'); \n",
       "newElement.setAttribute('width','1'); \n",
       "newElement.setAttribute('height','1'); \n",
       "newElement.setAttribute('x','19'); \n",
       "newElement.setAttribute('y','11'); \n",
       "newElement.style.fill = 'green'; \n",
       "svg.appendChild(newElement);\n",
       "newElement = document.createElementNS(\"http://www.w3.org/2000/svg\", 'rect'); \n",
       "newElement.setAttribute('width','1'); \n",
       "newElement.setAttribute('height','1'); \n",
       "newElement.setAttribute('x','20'); \n",
       "newElement.setAttribute('y','11'); \n",
       "newElement.style.fill = 'green'; \n",
       "svg.appendChild(newElement);\n",
       "newElement = document.createElementNS(\"http://www.w3.org/2000/svg\", 'rect'); \n",
       "newElement.setAttribute('width','1'); \n",
       "newElement.setAttribute('height','1'); \n",
       "newElement.setAttribute('x','21'); \n",
       "newElement.setAttribute('y','11'); \n",
       "newElement.style.fill = 'brown'; \n",
       "svg.appendChild(newElement);\n",
       "newElement = document.createElementNS(\"http://www.w3.org/2000/svg\", 'rect'); \n",
       "newElement.setAttribute('width','1'); \n",
       "newElement.setAttribute('height','1'); \n",
       "newElement.setAttribute('x','22'); \n",
       "newElement.setAttribute('y','11'); \n",
       "newElement.style.fill = 'brown'; \n",
       "svg.appendChild(newElement);\n",
       "newElement = document.createElementNS(\"http://www.w3.org/2000/svg\", 'rect'); \n",
       "newElement.setAttribute('width','1'); \n",
       "newElement.setAttribute('height','1'); \n",
       "newElement.setAttribute('x','23'); \n",
       "newElement.setAttribute('y','11'); \n",
       "newElement.style.fill = 'brown'; \n",
       "svg.appendChild(newElement);\n",
       "newElement = document.createElementNS(\"http://www.w3.org/2000/svg\", 'rect'); \n",
       "newElement.setAttribute('width','1'); \n",
       "newElement.setAttribute('height','1'); \n",
       "newElement.setAttribute('x','24'); \n",
       "newElement.setAttribute('y','11'); \n",
       "newElement.style.fill = 'brown'; \n",
       "svg.appendChild(newElement);\n",
       "newElement = document.createElementNS(\"http://www.w3.org/2000/svg\", 'rect'); \n",
       "newElement.setAttribute('width','1'); \n",
       "newElement.setAttribute('height','1'); \n",
       "newElement.setAttribute('x','25'); \n",
       "newElement.setAttribute('y','11'); \n",
       "newElement.style.fill = 'green'; \n",
       "svg.appendChild(newElement);\n",
       "newElement = document.createElementNS(\"http://www.w3.org/2000/svg\", 'rect'); \n",
       "newElement.setAttribute('width','1'); \n",
       "newElement.setAttribute('height','1'); \n",
       "newElement.setAttribute('x','26'); \n",
       "newElement.setAttribute('y','11'); \n",
       "newElement.style.fill = 'green'; \n",
       "svg.appendChild(newElement);\n",
       "newElement = document.createElementNS(\"http://www.w3.org/2000/svg\", 'rect'); \n",
       "newElement.setAttribute('width','1'); \n",
       "newElement.setAttribute('height','1'); \n",
       "newElement.setAttribute('x','27'); \n",
       "newElement.setAttribute('y','11'); \n",
       "newElement.style.fill = 'green'; \n",
       "svg.appendChild(newElement);\n",
       "newElement = document.createElementNS(\"http://www.w3.org/2000/svg\", 'rect'); \n",
       "newElement.setAttribute('width','1'); \n",
       "newElement.setAttribute('height','1'); \n",
       "newElement.setAttribute('x','28'); \n",
       "newElement.setAttribute('y','11'); \n",
       "newElement.style.fill = 'green'; \n",
       "svg.appendChild(newElement);\n",
       "newElement = document.createElementNS(\"http://www.w3.org/2000/svg\", 'rect'); \n",
       "newElement.setAttribute('width','1'); \n",
       "newElement.setAttribute('height','1'); \n",
       "newElement.setAttribute('x','29'); \n",
       "newElement.setAttribute('y','11'); \n",
       "newElement.style.fill = 'green'; \n",
       "svg.appendChild(newElement);\n",
       "newElement = document.createElementNS(\"http://www.w3.org/2000/svg\", 'rect'); \n",
       "newElement.setAttribute('width','1'); \n",
       "newElement.setAttribute('height','1'); \n",
       "newElement.setAttribute('x','0'); \n",
       "newElement.setAttribute('y','12'); \n",
       "newElement.style.fill = 'green'; \n",
       "svg.appendChild(newElement);\n",
       "newElement = document.createElementNS(\"http://www.w3.org/2000/svg\", 'rect'); \n",
       "newElement.setAttribute('width','1'); \n",
       "newElement.setAttribute('height','1'); \n",
       "newElement.setAttribute('x','1'); \n",
       "newElement.setAttribute('y','12'); \n",
       "newElement.style.fill = 'green'; \n",
       "svg.appendChild(newElement);\n",
       "newElement = document.createElementNS(\"http://www.w3.org/2000/svg\", 'rect'); \n",
       "newElement.setAttribute('width','1'); \n",
       "newElement.setAttribute('height','1'); \n",
       "newElement.setAttribute('x','2'); \n",
       "newElement.setAttribute('y','12'); \n",
       "newElement.style.fill = 'green'; \n",
       "svg.appendChild(newElement);\n",
       "newElement = document.createElementNS(\"http://www.w3.org/2000/svg\", 'rect'); \n",
       "newElement.setAttribute('width','1'); \n",
       "newElement.setAttribute('height','1'); \n",
       "newElement.setAttribute('x','3'); \n",
       "newElement.setAttribute('y','12'); \n",
       "newElement.style.fill = 'brown'; \n",
       "svg.appendChild(newElement);\n",
       "newElement = document.createElementNS(\"http://www.w3.org/2000/svg\", 'rect'); \n",
       "newElement.setAttribute('width','1'); \n",
       "newElement.setAttribute('height','1'); \n",
       "newElement.setAttribute('x','4'); \n",
       "newElement.setAttribute('y','12'); \n",
       "newElement.style.fill = 'brown'; \n",
       "svg.appendChild(newElement);\n",
       "newElement = document.createElementNS(\"http://www.w3.org/2000/svg\", 'rect'); \n",
       "newElement.setAttribute('width','1'); \n",
       "newElement.setAttribute('height','1'); \n",
       "newElement.setAttribute('x','5'); \n",
       "newElement.setAttribute('y','12'); \n",
       "newElement.style.fill = 'brown'; \n",
       "svg.appendChild(newElement);\n",
       "newElement = document.createElementNS(\"http://www.w3.org/2000/svg\", 'rect'); \n",
       "newElement.setAttribute('width','1'); \n",
       "newElement.setAttribute('height','1'); \n",
       "newElement.setAttribute('x','6'); \n",
       "newElement.setAttribute('y','12'); \n",
       "newElement.style.fill = 'brown'; \n",
       "svg.appendChild(newElement);\n",
       "newElement = document.createElementNS(\"http://www.w3.org/2000/svg\", 'rect'); \n",
       "newElement.setAttribute('width','1'); \n",
       "newElement.setAttribute('height','1'); \n",
       "newElement.setAttribute('x','7'); \n",
       "newElement.setAttribute('y','12'); \n",
       "newElement.style.fill = 'brown'; \n",
       "svg.appendChild(newElement);\n",
       "newElement = document.createElementNS(\"http://www.w3.org/2000/svg\", 'rect'); \n",
       "newElement.setAttribute('width','1'); \n",
       "newElement.setAttribute('height','1'); \n",
       "newElement.setAttribute('x','8'); \n",
       "newElement.setAttribute('y','12'); \n",
       "newElement.style.fill = 'green'; \n",
       "svg.appendChild(newElement);\n",
       "newElement = document.createElementNS(\"http://www.w3.org/2000/svg\", 'rect'); \n",
       "newElement.setAttribute('width','1'); \n",
       "newElement.setAttribute('height','1'); \n",
       "newElement.setAttribute('x','9'); \n",
       "newElement.setAttribute('y','12'); \n",
       "newElement.style.fill = 'green'; \n",
       "svg.appendChild(newElement);\n",
       "newElement = document.createElementNS(\"http://www.w3.org/2000/svg\", 'rect'); \n",
       "newElement.setAttribute('width','1'); \n",
       "newElement.setAttribute('height','1'); \n",
       "newElement.setAttribute('x','10'); \n",
       "newElement.setAttribute('y','12'); \n",
       "newElement.style.fill = 'green'; \n",
       "svg.appendChild(newElement);\n",
       "newElement = document.createElementNS(\"http://www.w3.org/2000/svg\", 'rect'); \n",
       "newElement.setAttribute('width','1'); \n",
       "newElement.setAttribute('height','1'); \n",
       "newElement.setAttribute('x','11'); \n",
       "newElement.setAttribute('y','12'); \n",
       "newElement.style.fill = 'green'; \n",
       "svg.appendChild(newElement);\n",
       "newElement = document.createElementNS(\"http://www.w3.org/2000/svg\", 'rect'); \n",
       "newElement.setAttribute('width','1'); \n",
       "newElement.setAttribute('height','1'); \n",
       "newElement.setAttribute('x','12'); \n",
       "newElement.setAttribute('y','12'); \n",
       "newElement.style.fill = 'green'; \n",
       "svg.appendChild(newElement);\n",
       "newElement = document.createElementNS(\"http://www.w3.org/2000/svg\", 'rect'); \n",
       "newElement.setAttribute('width','1'); \n",
       "newElement.setAttribute('height','1'); \n",
       "newElement.setAttribute('x','13'); \n",
       "newElement.setAttribute('y','12'); \n",
       "newElement.style.fill = 'green'; \n",
       "svg.appendChild(newElement);\n",
       "newElement = document.createElementNS(\"http://www.w3.org/2000/svg\", 'rect'); \n",
       "newElement.setAttribute('width','1'); \n",
       "newElement.setAttribute('height','1'); \n",
       "newElement.setAttribute('x','14'); \n",
       "newElement.setAttribute('y','12'); \n",
       "newElement.style.fill = 'green'; \n",
       "svg.appendChild(newElement);\n",
       "newElement = document.createElementNS(\"http://www.w3.org/2000/svg\", 'rect'); \n",
       "newElement.setAttribute('width','1'); \n",
       "newElement.setAttribute('height','1'); \n",
       "newElement.setAttribute('x','15'); \n",
       "newElement.setAttribute('y','12'); \n",
       "newElement.style.fill = 'green'; \n",
       "svg.appendChild(newElement);\n",
       "newElement = document.createElementNS(\"http://www.w3.org/2000/svg\", 'rect'); \n",
       "newElement.setAttribute('width','1'); \n",
       "newElement.setAttribute('height','1'); \n",
       "newElement.setAttribute('x','16'); \n",
       "newElement.setAttribute('y','12'); \n",
       "newElement.style.fill = 'green'; \n",
       "svg.appendChild(newElement);\n",
       "newElement = document.createElementNS(\"http://www.w3.org/2000/svg\", 'rect'); \n",
       "newElement.setAttribute('width','1'); \n",
       "newElement.setAttribute('height','1'); \n",
       "newElement.setAttribute('x','17'); \n",
       "newElement.setAttribute('y','12'); \n",
       "newElement.style.fill = 'green'; \n",
       "svg.appendChild(newElement);\n",
       "newElement = document.createElementNS(\"http://www.w3.org/2000/svg\", 'rect'); \n",
       "newElement.setAttribute('width','1'); \n",
       "newElement.setAttribute('height','1'); \n",
       "newElement.setAttribute('x','18'); \n",
       "newElement.setAttribute('y','12'); \n",
       "newElement.style.fill = 'green'; \n",
       "svg.appendChild(newElement);\n",
       "newElement = document.createElementNS(\"http://www.w3.org/2000/svg\", 'rect'); \n",
       "newElement.setAttribute('width','1'); \n",
       "newElement.setAttribute('height','1'); \n",
       "newElement.setAttribute('x','19'); \n",
       "newElement.setAttribute('y','12'); \n",
       "newElement.style.fill = 'green'; \n",
       "svg.appendChild(newElement);\n",
       "newElement = document.createElementNS(\"http://www.w3.org/2000/svg\", 'rect'); \n",
       "newElement.setAttribute('width','1'); \n",
       "newElement.setAttribute('height','1'); \n",
       "newElement.setAttribute('x','20'); \n",
       "newElement.setAttribute('y','12'); \n",
       "newElement.style.fill = 'brown'; \n",
       "svg.appendChild(newElement);\n",
       "newElement = document.createElementNS(\"http://www.w3.org/2000/svg\", 'rect'); \n",
       "newElement.setAttribute('width','1'); \n",
       "newElement.setAttribute('height','1'); \n",
       "newElement.setAttribute('x','21'); \n",
       "newElement.setAttribute('y','12'); \n",
       "newElement.style.fill = 'brown'; \n",
       "svg.appendChild(newElement);\n",
       "newElement = document.createElementNS(\"http://www.w3.org/2000/svg\", 'rect'); \n",
       "newElement.setAttribute('width','1'); \n",
       "newElement.setAttribute('height','1'); \n",
       "newElement.setAttribute('x','22'); \n",
       "newElement.setAttribute('y','12'); \n",
       "newElement.style.fill = 'brown'; \n",
       "svg.appendChild(newElement);\n",
       "newElement = document.createElementNS(\"http://www.w3.org/2000/svg\", 'rect'); \n",
       "newElement.setAttribute('width','1'); \n",
       "newElement.setAttribute('height','1'); \n",
       "newElement.setAttribute('x','23'); \n",
       "newElement.setAttribute('y','12'); \n",
       "newElement.style.fill = 'brown'; \n",
       "svg.appendChild(newElement);\n",
       "newElement = document.createElementNS(\"http://www.w3.org/2000/svg\", 'rect'); \n",
       "newElement.setAttribute('width','1'); \n",
       "newElement.setAttribute('height','1'); \n",
       "newElement.setAttribute('x','24'); \n",
       "newElement.setAttribute('y','12'); \n",
       "newElement.style.fill = 'brown'; \n",
       "svg.appendChild(newElement);\n",
       "newElement = document.createElementNS(\"http://www.w3.org/2000/svg\", 'rect'); \n",
       "newElement.setAttribute('width','1'); \n",
       "newElement.setAttribute('height','1'); \n",
       "newElement.setAttribute('x','25'); \n",
       "newElement.setAttribute('y','12'); \n",
       "newElement.style.fill = 'green'; \n",
       "svg.appendChild(newElement);\n",
       "newElement = document.createElementNS(\"http://www.w3.org/2000/svg\", 'rect'); \n",
       "newElement.setAttribute('width','1'); \n",
       "newElement.setAttribute('height','1'); \n",
       "newElement.setAttribute('x','26'); \n",
       "newElement.setAttribute('y','12'); \n",
       "newElement.style.fill = 'green'; \n",
       "svg.appendChild(newElement);\n",
       "newElement = document.createElementNS(\"http://www.w3.org/2000/svg\", 'rect'); \n",
       "newElement.setAttribute('width','1'); \n",
       "newElement.setAttribute('height','1'); \n",
       "newElement.setAttribute('x','27'); \n",
       "newElement.setAttribute('y','12'); \n",
       "newElement.style.fill = 'green'; \n",
       "svg.appendChild(newElement);\n",
       "newElement = document.createElementNS(\"http://www.w3.org/2000/svg\", 'rect'); \n",
       "newElement.setAttribute('width','1'); \n",
       "newElement.setAttribute('height','1'); \n",
       "newElement.setAttribute('x','28'); \n",
       "newElement.setAttribute('y','12'); \n",
       "newElement.style.fill = 'green'; \n",
       "svg.appendChild(newElement);\n",
       "newElement = document.createElementNS(\"http://www.w3.org/2000/svg\", 'rect'); \n",
       "newElement.setAttribute('width','1'); \n",
       "newElement.setAttribute('height','1'); \n",
       "newElement.setAttribute('x','29'); \n",
       "newElement.setAttribute('y','12'); \n",
       "newElement.style.fill = 'green'; \n",
       "svg.appendChild(newElement);\n",
       "newElement = document.createElementNS(\"http://www.w3.org/2000/svg\", 'rect'); \n",
       "newElement.setAttribute('width','1'); \n",
       "newElement.setAttribute('height','1'); \n",
       "newElement.setAttribute('x','0'); \n",
       "newElement.setAttribute('y','13'); \n",
       "newElement.style.fill = 'green'; \n",
       "svg.appendChild(newElement);\n",
       "newElement = document.createElementNS(\"http://www.w3.org/2000/svg\", 'rect'); \n",
       "newElement.setAttribute('width','1'); \n",
       "newElement.setAttribute('height','1'); \n",
       "newElement.setAttribute('x','1'); \n",
       "newElement.setAttribute('y','13'); \n",
       "newElement.style.fill = 'green'; \n",
       "svg.appendChild(newElement);\n",
       "newElement = document.createElementNS(\"http://www.w3.org/2000/svg\", 'rect'); \n",
       "newElement.setAttribute('width','1'); \n",
       "newElement.setAttribute('height','1'); \n",
       "newElement.setAttribute('x','2'); \n",
       "newElement.setAttribute('y','13'); \n",
       "newElement.style.fill = 'green'; \n",
       "svg.appendChild(newElement);\n",
       "newElement = document.createElementNS(\"http://www.w3.org/2000/svg\", 'rect'); \n",
       "newElement.setAttribute('width','1'); \n",
       "newElement.setAttribute('height','1'); \n",
       "newElement.setAttribute('x','3'); \n",
       "newElement.setAttribute('y','13'); \n",
       "newElement.style.fill = 'green'; \n",
       "svg.appendChild(newElement);\n",
       "newElement = document.createElementNS(\"http://www.w3.org/2000/svg\", 'rect'); \n",
       "newElement.setAttribute('width','1'); \n",
       "newElement.setAttribute('height','1'); \n",
       "newElement.setAttribute('x','4'); \n",
       "newElement.setAttribute('y','13'); \n",
       "newElement.style.fill = 'brown'; \n",
       "svg.appendChild(newElement);\n",
       "newElement = document.createElementNS(\"http://www.w3.org/2000/svg\", 'rect'); \n",
       "newElement.setAttribute('width','1'); \n",
       "newElement.setAttribute('height','1'); \n",
       "newElement.setAttribute('x','5'); \n",
       "newElement.setAttribute('y','13'); \n",
       "newElement.style.fill = 'brown'; \n",
       "svg.appendChild(newElement);\n",
       "newElement = document.createElementNS(\"http://www.w3.org/2000/svg\", 'rect'); \n",
       "newElement.setAttribute('width','1'); \n",
       "newElement.setAttribute('height','1'); \n",
       "newElement.setAttribute('x','6'); \n",
       "newElement.setAttribute('y','13'); \n",
       "newElement.style.fill = 'brown'; \n",
       "svg.appendChild(newElement);\n",
       "newElement = document.createElementNS(\"http://www.w3.org/2000/svg\", 'rect'); \n",
       "newElement.setAttribute('width','1'); \n",
       "newElement.setAttribute('height','1'); \n",
       "newElement.setAttribute('x','7'); \n",
       "newElement.setAttribute('y','13'); \n",
       "newElement.style.fill = 'brown'; \n",
       "svg.appendChild(newElement);\n",
       "newElement = document.createElementNS(\"http://www.w3.org/2000/svg\", 'rect'); \n",
       "newElement.setAttribute('width','1'); \n",
       "newElement.setAttribute('height','1'); \n",
       "newElement.setAttribute('x','8'); \n",
       "newElement.setAttribute('y','13'); \n",
       "newElement.style.fill = 'brown'; \n",
       "svg.appendChild(newElement);\n",
       "newElement = document.createElementNS(\"http://www.w3.org/2000/svg\", 'rect'); \n",
       "newElement.setAttribute('width','1'); \n",
       "newElement.setAttribute('height','1'); \n",
       "newElement.setAttribute('x','9'); \n",
       "newElement.setAttribute('y','13'); \n",
       "newElement.style.fill = 'green'; \n",
       "svg.appendChild(newElement);\n",
       "newElement = document.createElementNS(\"http://www.w3.org/2000/svg\", 'rect'); \n",
       "newElement.setAttribute('width','1'); \n",
       "newElement.setAttribute('height','1'); \n",
       "newElement.setAttribute('x','10'); \n",
       "newElement.setAttribute('y','13'); \n",
       "newElement.style.fill = 'green'; \n",
       "svg.appendChild(newElement);\n",
       "newElement = document.createElementNS(\"http://www.w3.org/2000/svg\", 'rect'); \n",
       "newElement.setAttribute('width','1'); \n",
       "newElement.setAttribute('height','1'); \n",
       "newElement.setAttribute('x','11'); \n",
       "newElement.setAttribute('y','13'); \n",
       "newElement.style.fill = 'green'; \n",
       "svg.appendChild(newElement);\n",
       "newElement = document.createElementNS(\"http://www.w3.org/2000/svg\", 'rect'); \n",
       "newElement.setAttribute('width','1'); \n",
       "newElement.setAttribute('height','1'); \n",
       "newElement.setAttribute('x','12'); \n",
       "newElement.setAttribute('y','13'); \n",
       "newElement.style.fill = 'green'; \n",
       "svg.appendChild(newElement);\n",
       "newElement = document.createElementNS(\"http://www.w3.org/2000/svg\", 'rect'); \n",
       "newElement.setAttribute('width','1'); \n",
       "newElement.setAttribute('height','1'); \n",
       "newElement.setAttribute('x','13'); \n",
       "newElement.setAttribute('y','13'); \n",
       "newElement.style.fill = 'green'; \n",
       "svg.appendChild(newElement);\n",
       "newElement = document.createElementNS(\"http://www.w3.org/2000/svg\", 'rect'); \n",
       "newElement.setAttribute('width','1'); \n",
       "newElement.setAttribute('height','1'); \n",
       "newElement.setAttribute('x','14'); \n",
       "newElement.setAttribute('y','13'); \n",
       "newElement.style.fill = 'green'; \n",
       "svg.appendChild(newElement);\n",
       "newElement = document.createElementNS(\"http://www.w3.org/2000/svg\", 'rect'); \n",
       "newElement.setAttribute('width','1'); \n",
       "newElement.setAttribute('height','1'); \n",
       "newElement.setAttribute('x','15'); \n",
       "newElement.setAttribute('y','13'); \n",
       "newElement.style.fill = 'green'; \n",
       "svg.appendChild(newElement);\n",
       "newElement = document.createElementNS(\"http://www.w3.org/2000/svg\", 'rect'); \n",
       "newElement.setAttribute('width','1'); \n",
       "newElement.setAttribute('height','1'); \n",
       "newElement.setAttribute('x','16'); \n",
       "newElement.setAttribute('y','13'); \n",
       "newElement.style.fill = 'green'; \n",
       "svg.appendChild(newElement);\n",
       "newElement = document.createElementNS(\"http://www.w3.org/2000/svg\", 'rect'); \n",
       "newElement.setAttribute('width','1'); \n",
       "newElement.setAttribute('height','1'); \n",
       "newElement.setAttribute('x','17'); \n",
       "newElement.setAttribute('y','13'); \n",
       "newElement.style.fill = 'green'; \n",
       "svg.appendChild(newElement);\n",
       "newElement = document.createElementNS(\"http://www.w3.org/2000/svg\", 'rect'); \n",
       "newElement.setAttribute('width','1'); \n",
       "newElement.setAttribute('height','1'); \n",
       "newElement.setAttribute('x','18'); \n",
       "newElement.setAttribute('y','13'); \n",
       "newElement.style.fill = 'green'; \n",
       "svg.appendChild(newElement);\n",
       "newElement = document.createElementNS(\"http://www.w3.org/2000/svg\", 'rect'); \n",
       "newElement.setAttribute('width','1'); \n",
       "newElement.setAttribute('height','1'); \n",
       "newElement.setAttribute('x','19'); \n",
       "newElement.setAttribute('y','13'); \n",
       "newElement.style.fill = 'brown'; \n",
       "svg.appendChild(newElement);\n",
       "newElement = document.createElementNS(\"http://www.w3.org/2000/svg\", 'rect'); \n",
       "newElement.setAttribute('width','1'); \n",
       "newElement.setAttribute('height','1'); \n",
       "newElement.setAttribute('x','20'); \n",
       "newElement.setAttribute('y','13'); \n",
       "newElement.style.fill = 'brown'; \n",
       "svg.appendChild(newElement);\n",
       "newElement = document.createElementNS(\"http://www.w3.org/2000/svg\", 'rect'); \n",
       "newElement.setAttribute('width','1'); \n",
       "newElement.setAttribute('height','1'); \n",
       "newElement.setAttribute('x','21'); \n",
       "newElement.setAttribute('y','13'); \n",
       "newElement.style.fill = 'brown'; \n",
       "svg.appendChild(newElement);\n",
       "newElement = document.createElementNS(\"http://www.w3.org/2000/svg\", 'rect'); \n",
       "newElement.setAttribute('width','1'); \n",
       "newElement.setAttribute('height','1'); \n",
       "newElement.setAttribute('x','22'); \n",
       "newElement.setAttribute('y','13'); \n",
       "newElement.style.fill = 'brown'; \n",
       "svg.appendChild(newElement);\n",
       "newElement = document.createElementNS(\"http://www.w3.org/2000/svg\", 'rect'); \n",
       "newElement.setAttribute('width','1'); \n",
       "newElement.setAttribute('height','1'); \n",
       "newElement.setAttribute('x','23'); \n",
       "newElement.setAttribute('y','13'); \n",
       "newElement.style.fill = 'brown'; \n",
       "svg.appendChild(newElement);\n",
       "newElement = document.createElementNS(\"http://www.w3.org/2000/svg\", 'rect'); \n",
       "newElement.setAttribute('width','1'); \n",
       "newElement.setAttribute('height','1'); \n",
       "newElement.setAttribute('x','24'); \n",
       "newElement.setAttribute('y','13'); \n",
       "newElement.style.fill = 'brown'; \n",
       "svg.appendChild(newElement);\n",
       "newElement = document.createElementNS(\"http://www.w3.org/2000/svg\", 'rect'); \n",
       "newElement.setAttribute('width','1'); \n",
       "newElement.setAttribute('height','1'); \n",
       "newElement.setAttribute('x','25'); \n",
       "newElement.setAttribute('y','13'); \n",
       "newElement.style.fill = 'green'; \n",
       "svg.appendChild(newElement);\n",
       "newElement = document.createElementNS(\"http://www.w3.org/2000/svg\", 'rect'); \n",
       "newElement.setAttribute('width','1'); \n",
       "newElement.setAttribute('height','1'); \n",
       "newElement.setAttribute('x','26'); \n",
       "newElement.setAttribute('y','13'); \n",
       "newElement.style.fill = 'green'; \n",
       "svg.appendChild(newElement);\n",
       "newElement = document.createElementNS(\"http://www.w3.org/2000/svg\", 'rect'); \n",
       "newElement.setAttribute('width','1'); \n",
       "newElement.setAttribute('height','1'); \n",
       "newElement.setAttribute('x','27'); \n",
       "newElement.setAttribute('y','13'); \n",
       "newElement.style.fill = 'green'; \n",
       "svg.appendChild(newElement);\n",
       "newElement = document.createElementNS(\"http://www.w3.org/2000/svg\", 'rect'); \n",
       "newElement.setAttribute('width','1'); \n",
       "newElement.setAttribute('height','1'); \n",
       "newElement.setAttribute('x','28'); \n",
       "newElement.setAttribute('y','13'); \n",
       "newElement.style.fill = 'green'; \n",
       "svg.appendChild(newElement);\n",
       "newElement = document.createElementNS(\"http://www.w3.org/2000/svg\", 'rect'); \n",
       "newElement.setAttribute('width','1'); \n",
       "newElement.setAttribute('height','1'); \n",
       "newElement.setAttribute('x','29'); \n",
       "newElement.setAttribute('y','13'); \n",
       "newElement.style.fill = 'green'; \n",
       "svg.appendChild(newElement);\n",
       "newElement = document.createElementNS(\"http://www.w3.org/2000/svg\", 'rect'); \n",
       "newElement.setAttribute('width','1'); \n",
       "newElement.setAttribute('height','1'); \n",
       "newElement.setAttribute('x','0'); \n",
       "newElement.setAttribute('y','14'); \n",
       "newElement.style.fill = 'green'; \n",
       "svg.appendChild(newElement);\n",
       "newElement = document.createElementNS(\"http://www.w3.org/2000/svg\", 'rect'); \n",
       "newElement.setAttribute('width','1'); \n",
       "newElement.setAttribute('height','1'); \n",
       "newElement.setAttribute('x','1'); \n",
       "newElement.setAttribute('y','14'); \n",
       "newElement.style.fill = 'green'; \n",
       "svg.appendChild(newElement);\n",
       "newElement = document.createElementNS(\"http://www.w3.org/2000/svg\", 'rect'); \n",
       "newElement.setAttribute('width','1'); \n",
       "newElement.setAttribute('height','1'); \n",
       "newElement.setAttribute('x','2'); \n",
       "newElement.setAttribute('y','14'); \n",
       "newElement.style.fill = 'green'; \n",
       "svg.appendChild(newElement);\n",
       "newElement = document.createElementNS(\"http://www.w3.org/2000/svg\", 'rect'); \n",
       "newElement.setAttribute('width','1'); \n",
       "newElement.setAttribute('height','1'); \n",
       "newElement.setAttribute('x','3'); \n",
       "newElement.setAttribute('y','14'); \n",
       "newElement.style.fill = 'green'; \n",
       "svg.appendChild(newElement);\n",
       "newElement = document.createElementNS(\"http://www.w3.org/2000/svg\", 'rect'); \n",
       "newElement.setAttribute('width','1'); \n",
       "newElement.setAttribute('height','1'); \n",
       "newElement.setAttribute('x','4'); \n",
       "newElement.setAttribute('y','14'); \n",
       "newElement.style.fill = 'brown'; \n",
       "svg.appendChild(newElement);\n",
       "newElement = document.createElementNS(\"http://www.w3.org/2000/svg\", 'rect'); \n",
       "newElement.setAttribute('width','1'); \n",
       "newElement.setAttribute('height','1'); \n",
       "newElement.setAttribute('x','5'); \n",
       "newElement.setAttribute('y','14'); \n",
       "newElement.style.fill = 'brown'; \n",
       "svg.appendChild(newElement);\n",
       "newElement = document.createElementNS(\"http://www.w3.org/2000/svg\", 'rect'); \n",
       "newElement.setAttribute('width','1'); \n",
       "newElement.setAttribute('height','1'); \n",
       "newElement.setAttribute('x','6'); \n",
       "newElement.setAttribute('y','14'); \n",
       "newElement.style.fill = 'brown'; \n",
       "svg.appendChild(newElement);\n",
       "newElement = document.createElementNS(\"http://www.w3.org/2000/svg\", 'rect'); \n",
       "newElement.setAttribute('width','1'); \n",
       "newElement.setAttribute('height','1'); \n",
       "newElement.setAttribute('x','7'); \n",
       "newElement.setAttribute('y','14'); \n",
       "newElement.style.fill = 'brown'; \n",
       "svg.appendChild(newElement);\n",
       "newElement = document.createElementNS(\"http://www.w3.org/2000/svg\", 'rect'); \n",
       "newElement.setAttribute('width','1'); \n",
       "newElement.setAttribute('height','1'); \n",
       "newElement.setAttribute('x','8'); \n",
       "newElement.setAttribute('y','14'); \n",
       "newElement.style.fill = 'brown'; \n",
       "svg.appendChild(newElement);\n",
       "newElement = document.createElementNS(\"http://www.w3.org/2000/svg\", 'rect'); \n",
       "newElement.setAttribute('width','1'); \n",
       "newElement.setAttribute('height','1'); \n",
       "newElement.setAttribute('x','9'); \n",
       "newElement.setAttribute('y','14'); \n",
       "newElement.style.fill = 'brown'; \n",
       "svg.appendChild(newElement);\n",
       "newElement = document.createElementNS(\"http://www.w3.org/2000/svg\", 'rect'); \n",
       "newElement.setAttribute('width','1'); \n",
       "newElement.setAttribute('height','1'); \n",
       "newElement.setAttribute('x','10'); \n",
       "newElement.setAttribute('y','14'); \n",
       "newElement.style.fill = 'brown'; \n",
       "svg.appendChild(newElement);\n",
       "newElement = document.createElementNS(\"http://www.w3.org/2000/svg\", 'rect'); \n",
       "newElement.setAttribute('width','1'); \n",
       "newElement.setAttribute('height','1'); \n",
       "newElement.setAttribute('x','11'); \n",
       "newElement.setAttribute('y','14'); \n",
       "newElement.style.fill = 'brown'; \n",
       "svg.appendChild(newElement);\n",
       "newElement = document.createElementNS(\"http://www.w3.org/2000/svg\", 'rect'); \n",
       "newElement.setAttribute('width','1'); \n",
       "newElement.setAttribute('height','1'); \n",
       "newElement.setAttribute('x','12'); \n",
       "newElement.setAttribute('y','14'); \n",
       "newElement.style.fill = 'brown'; \n",
       "svg.appendChild(newElement);\n",
       "newElement = document.createElementNS(\"http://www.w3.org/2000/svg\", 'rect'); \n",
       "newElement.setAttribute('width','1'); \n",
       "newElement.setAttribute('height','1'); \n",
       "newElement.setAttribute('x','13'); \n",
       "newElement.setAttribute('y','14'); \n",
       "newElement.style.fill = 'brown'; \n",
       "svg.appendChild(newElement);\n",
       "newElement = document.createElementNS(\"http://www.w3.org/2000/svg\", 'rect'); \n",
       "newElement.setAttribute('width','1'); \n",
       "newElement.setAttribute('height','1'); \n",
       "newElement.setAttribute('x','14'); \n",
       "newElement.setAttribute('y','14'); \n",
       "newElement.style.fill = 'brown'; \n",
       "svg.appendChild(newElement);\n",
       "newElement = document.createElementNS(\"http://www.w3.org/2000/svg\", 'rect'); \n",
       "newElement.setAttribute('width','1'); \n",
       "newElement.setAttribute('height','1'); \n",
       "newElement.setAttribute('x','15'); \n",
       "newElement.setAttribute('y','14'); \n",
       "newElement.style.fill = 'brown'; \n",
       "svg.appendChild(newElement);\n",
       "newElement = document.createElementNS(\"http://www.w3.org/2000/svg\", 'rect'); \n",
       "newElement.setAttribute('width','1'); \n",
       "newElement.setAttribute('height','1'); \n",
       "newElement.setAttribute('x','16'); \n",
       "newElement.setAttribute('y','14'); \n",
       "newElement.style.fill = 'brown'; \n",
       "svg.appendChild(newElement);\n",
       "newElement = document.createElementNS(\"http://www.w3.org/2000/svg\", 'rect'); \n",
       "newElement.setAttribute('width','1'); \n",
       "newElement.setAttribute('height','1'); \n",
       "newElement.setAttribute('x','17'); \n",
       "newElement.setAttribute('y','14'); \n",
       "newElement.style.fill = 'brown'; \n",
       "svg.appendChild(newElement);\n",
       "newElement = document.createElementNS(\"http://www.w3.org/2000/svg\", 'rect'); \n",
       "newElement.setAttribute('width','1'); \n",
       "newElement.setAttribute('height','1'); \n",
       "newElement.setAttribute('x','18'); \n",
       "newElement.setAttribute('y','14'); \n",
       "newElement.style.fill = 'brown'; \n",
       "svg.appendChild(newElement);\n",
       "newElement = document.createElementNS(\"http://www.w3.org/2000/svg\", 'rect'); \n",
       "newElement.setAttribute('width','1'); \n",
       "newElement.setAttribute('height','1'); \n",
       "newElement.setAttribute('x','19'); \n",
       "newElement.setAttribute('y','14'); \n",
       "newElement.style.fill = 'brown'; \n",
       "svg.appendChild(newElement);\n",
       "newElement = document.createElementNS(\"http://www.w3.org/2000/svg\", 'rect'); \n",
       "newElement.setAttribute('width','1'); \n",
       "newElement.setAttribute('height','1'); \n",
       "newElement.setAttribute('x','20'); \n",
       "newElement.setAttribute('y','14'); \n",
       "newElement.style.fill = 'brown'; \n",
       "svg.appendChild(newElement);\n",
       "newElement = document.createElementNS(\"http://www.w3.org/2000/svg\", 'rect'); \n",
       "newElement.setAttribute('width','1'); \n",
       "newElement.setAttribute('height','1'); \n",
       "newElement.setAttribute('x','21'); \n",
       "newElement.setAttribute('y','14'); \n",
       "newElement.style.fill = 'brown'; \n",
       "svg.appendChild(newElement);\n",
       "newElement = document.createElementNS(\"http://www.w3.org/2000/svg\", 'rect'); \n",
       "newElement.setAttribute('width','1'); \n",
       "newElement.setAttribute('height','1'); \n",
       "newElement.setAttribute('x','22'); \n",
       "newElement.setAttribute('y','14'); \n",
       "newElement.style.fill = 'brown'; \n",
       "svg.appendChild(newElement);\n",
       "newElement = document.createElementNS(\"http://www.w3.org/2000/svg\", 'rect'); \n",
       "newElement.setAttribute('width','1'); \n",
       "newElement.setAttribute('height','1'); \n",
       "newElement.setAttribute('x','23'); \n",
       "newElement.setAttribute('y','14'); \n",
       "newElement.style.fill = 'brown'; \n",
       "svg.appendChild(newElement);\n",
       "newElement = document.createElementNS(\"http://www.w3.org/2000/svg\", 'rect'); \n",
       "newElement.setAttribute('width','1'); \n",
       "newElement.setAttribute('height','1'); \n",
       "newElement.setAttribute('x','24'); \n",
       "newElement.setAttribute('y','14'); \n",
       "newElement.style.fill = 'green'; \n",
       "svg.appendChild(newElement);\n",
       "newElement = document.createElementNS(\"http://www.w3.org/2000/svg\", 'rect'); \n",
       "newElement.setAttribute('width','1'); \n",
       "newElement.setAttribute('height','1'); \n",
       "newElement.setAttribute('x','25'); \n",
       "newElement.setAttribute('y','14'); \n",
       "newElement.style.fill = 'green'; \n",
       "svg.appendChild(newElement);\n",
       "newElement = document.createElementNS(\"http://www.w3.org/2000/svg\", 'rect'); \n",
       "newElement.setAttribute('width','1'); \n",
       "newElement.setAttribute('height','1'); \n",
       "newElement.setAttribute('x','26'); \n",
       "newElement.setAttribute('y','14'); \n",
       "newElement.style.fill = 'green'; \n",
       "svg.appendChild(newElement);\n",
       "newElement = document.createElementNS(\"http://www.w3.org/2000/svg\", 'rect'); \n",
       "newElement.setAttribute('width','1'); \n",
       "newElement.setAttribute('height','1'); \n",
       "newElement.setAttribute('x','27'); \n",
       "newElement.setAttribute('y','14'); \n",
       "newElement.style.fill = 'green'; \n",
       "svg.appendChild(newElement);\n",
       "newElement = document.createElementNS(\"http://www.w3.org/2000/svg\", 'rect'); \n",
       "newElement.setAttribute('width','1'); \n",
       "newElement.setAttribute('height','1'); \n",
       "newElement.setAttribute('x','28'); \n",
       "newElement.setAttribute('y','14'); \n",
       "newElement.style.fill = 'green'; \n",
       "svg.appendChild(newElement);\n",
       "newElement = document.createElementNS(\"http://www.w3.org/2000/svg\", 'rect'); \n",
       "newElement.setAttribute('width','1'); \n",
       "newElement.setAttribute('height','1'); \n",
       "newElement.setAttribute('x','29'); \n",
       "newElement.setAttribute('y','14'); \n",
       "newElement.style.fill = 'green'; \n",
       "svg.appendChild(newElement);\n",
       "newElement = document.createElementNS(\"http://www.w3.org/2000/svg\", 'rect'); \n",
       "newElement.setAttribute('width','1'); \n",
       "newElement.setAttribute('height','1'); \n",
       "newElement.setAttribute('x','0'); \n",
       "newElement.setAttribute('y','15'); \n",
       "newElement.style.fill = 'green'; \n",
       "svg.appendChild(newElement);\n",
       "newElement = document.createElementNS(\"http://www.w3.org/2000/svg\", 'rect'); \n",
       "newElement.setAttribute('width','1'); \n",
       "newElement.setAttribute('height','1'); \n",
       "newElement.setAttribute('x','1'); \n",
       "newElement.setAttribute('y','15'); \n",
       "newElement.style.fill = 'green'; \n",
       "svg.appendChild(newElement);\n",
       "newElement = document.createElementNS(\"http://www.w3.org/2000/svg\", 'rect'); \n",
       "newElement.setAttribute('width','1'); \n",
       "newElement.setAttribute('height','1'); \n",
       "newElement.setAttribute('x','2'); \n",
       "newElement.setAttribute('y','15'); \n",
       "newElement.style.fill = 'green'; \n",
       "svg.appendChild(newElement);\n",
       "newElement = document.createElementNS(\"http://www.w3.org/2000/svg\", 'rect'); \n",
       "newElement.setAttribute('width','1'); \n",
       "newElement.setAttribute('height','1'); \n",
       "newElement.setAttribute('x','3'); \n",
       "newElement.setAttribute('y','15'); \n",
       "newElement.style.fill = 'green'; \n",
       "svg.appendChild(newElement);\n",
       "newElement = document.createElementNS(\"http://www.w3.org/2000/svg\", 'rect'); \n",
       "newElement.setAttribute('width','1'); \n",
       "newElement.setAttribute('height','1'); \n",
       "newElement.setAttribute('x','4'); \n",
       "newElement.setAttribute('y','15'); \n",
       "newElement.style.fill = 'green'; \n",
       "svg.appendChild(newElement);\n",
       "newElement = document.createElementNS(\"http://www.w3.org/2000/svg\", 'rect'); \n",
       "newElement.setAttribute('width','1'); \n",
       "newElement.setAttribute('height','1'); \n",
       "newElement.setAttribute('x','5'); \n",
       "newElement.setAttribute('y','15'); \n",
       "newElement.style.fill = 'green'; \n",
       "svg.appendChild(newElement);\n",
       "newElement = document.createElementNS(\"http://www.w3.org/2000/svg\", 'rect'); \n",
       "newElement.setAttribute('width','1'); \n",
       "newElement.setAttribute('height','1'); \n",
       "newElement.setAttribute('x','6'); \n",
       "newElement.setAttribute('y','15'); \n",
       "newElement.style.fill = 'green'; \n",
       "svg.appendChild(newElement);\n",
       "newElement = document.createElementNS(\"http://www.w3.org/2000/svg\", 'rect'); \n",
       "newElement.setAttribute('width','1'); \n",
       "newElement.setAttribute('height','1'); \n",
       "newElement.setAttribute('x','7'); \n",
       "newElement.setAttribute('y','15'); \n",
       "newElement.style.fill = 'brown'; \n",
       "svg.appendChild(newElement);\n",
       "newElement = document.createElementNS(\"http://www.w3.org/2000/svg\", 'rect'); \n",
       "newElement.setAttribute('width','1'); \n",
       "newElement.setAttribute('height','1'); \n",
       "newElement.setAttribute('x','8'); \n",
       "newElement.setAttribute('y','15'); \n",
       "newElement.style.fill = 'brown'; \n",
       "svg.appendChild(newElement);\n",
       "newElement = document.createElementNS(\"http://www.w3.org/2000/svg\", 'rect'); \n",
       "newElement.setAttribute('width','1'); \n",
       "newElement.setAttribute('height','1'); \n",
       "newElement.setAttribute('x','9'); \n",
       "newElement.setAttribute('y','15'); \n",
       "newElement.style.fill = 'brown'; \n",
       "svg.appendChild(newElement);\n",
       "newElement = document.createElementNS(\"http://www.w3.org/2000/svg\", 'rect'); \n",
       "newElement.setAttribute('width','1'); \n",
       "newElement.setAttribute('height','1'); \n",
       "newElement.setAttribute('x','10'); \n",
       "newElement.setAttribute('y','15'); \n",
       "newElement.style.fill = 'brown'; \n",
       "svg.appendChild(newElement);\n",
       "newElement = document.createElementNS(\"http://www.w3.org/2000/svg\", 'rect'); \n",
       "newElement.setAttribute('width','1'); \n",
       "newElement.setAttribute('height','1'); \n",
       "newElement.setAttribute('x','11'); \n",
       "newElement.setAttribute('y','15'); \n",
       "newElement.style.fill = 'brown'; \n",
       "svg.appendChild(newElement);\n",
       "newElement = document.createElementNS(\"http://www.w3.org/2000/svg\", 'rect'); \n",
       "newElement.setAttribute('width','1'); \n",
       "newElement.setAttribute('height','1'); \n",
       "newElement.setAttribute('x','12'); \n",
       "newElement.setAttribute('y','15'); \n",
       "newElement.style.fill = 'brown'; \n",
       "svg.appendChild(newElement);\n",
       "newElement = document.createElementNS(\"http://www.w3.org/2000/svg\", 'rect'); \n",
       "newElement.setAttribute('width','1'); \n",
       "newElement.setAttribute('height','1'); \n",
       "newElement.setAttribute('x','13'); \n",
       "newElement.setAttribute('y','15'); \n",
       "newElement.style.fill = 'brown'; \n",
       "svg.appendChild(newElement);\n",
       "newElement = document.createElementNS(\"http://www.w3.org/2000/svg\", 'rect'); \n",
       "newElement.setAttribute('width','1'); \n",
       "newElement.setAttribute('height','1'); \n",
       "newElement.setAttribute('x','14'); \n",
       "newElement.setAttribute('y','15'); \n",
       "newElement.style.fill = 'brown'; \n",
       "svg.appendChild(newElement);\n",
       "newElement = document.createElementNS(\"http://www.w3.org/2000/svg\", 'rect'); \n",
       "newElement.setAttribute('width','1'); \n",
       "newElement.setAttribute('height','1'); \n",
       "newElement.setAttribute('x','15'); \n",
       "newElement.setAttribute('y','15'); \n",
       "newElement.style.fill = 'brown'; \n",
       "svg.appendChild(newElement);\n",
       "newElement = document.createElementNS(\"http://www.w3.org/2000/svg\", 'rect'); \n",
       "newElement.setAttribute('width','1'); \n",
       "newElement.setAttribute('height','1'); \n",
       "newElement.setAttribute('x','16'); \n",
       "newElement.setAttribute('y','15'); \n",
       "newElement.style.fill = 'brown'; \n",
       "svg.appendChild(newElement);\n",
       "newElement = document.createElementNS(\"http://www.w3.org/2000/svg\", 'rect'); \n",
       "newElement.setAttribute('width','1'); \n",
       "newElement.setAttribute('height','1'); \n",
       "newElement.setAttribute('x','17'); \n",
       "newElement.setAttribute('y','15'); \n",
       "newElement.style.fill = 'brown'; \n",
       "svg.appendChild(newElement);\n",
       "newElement = document.createElementNS(\"http://www.w3.org/2000/svg\", 'rect'); \n",
       "newElement.setAttribute('width','1'); \n",
       "newElement.setAttribute('height','1'); \n",
       "newElement.setAttribute('x','18'); \n",
       "newElement.setAttribute('y','15'); \n",
       "newElement.style.fill = 'brown'; \n",
       "svg.appendChild(newElement);\n",
       "newElement = document.createElementNS(\"http://www.w3.org/2000/svg\", 'rect'); \n",
       "newElement.setAttribute('width','1'); \n",
       "newElement.setAttribute('height','1'); \n",
       "newElement.setAttribute('x','19'); \n",
       "newElement.setAttribute('y','15'); \n",
       "newElement.style.fill = 'brown'; \n",
       "svg.appendChild(newElement);\n",
       "newElement = document.createElementNS(\"http://www.w3.org/2000/svg\", 'rect'); \n",
       "newElement.setAttribute('width','1'); \n",
       "newElement.setAttribute('height','1'); \n",
       "newElement.setAttribute('x','20'); \n",
       "newElement.setAttribute('y','15'); \n",
       "newElement.style.fill = 'brown'; \n",
       "svg.appendChild(newElement);\n",
       "newElement = document.createElementNS(\"http://www.w3.org/2000/svg\", 'rect'); \n",
       "newElement.setAttribute('width','1'); \n",
       "newElement.setAttribute('height','1'); \n",
       "newElement.setAttribute('x','21'); \n",
       "newElement.setAttribute('y','15'); \n",
       "newElement.style.fill = 'brown'; \n",
       "svg.appendChild(newElement);\n",
       "newElement = document.createElementNS(\"http://www.w3.org/2000/svg\", 'rect'); \n",
       "newElement.setAttribute('width','1'); \n",
       "newElement.setAttribute('height','1'); \n",
       "newElement.setAttribute('x','22'); \n",
       "newElement.setAttribute('y','15'); \n",
       "newElement.style.fill = 'green'; \n",
       "svg.appendChild(newElement);\n",
       "newElement = document.createElementNS(\"http://www.w3.org/2000/svg\", 'rect'); \n",
       "newElement.setAttribute('width','1'); \n",
       "newElement.setAttribute('height','1'); \n",
       "newElement.setAttribute('x','23'); \n",
       "newElement.setAttribute('y','15'); \n",
       "newElement.style.fill = 'green'; \n",
       "svg.appendChild(newElement);\n",
       "newElement = document.createElementNS(\"http://www.w3.org/2000/svg\", 'rect'); \n",
       "newElement.setAttribute('width','1'); \n",
       "newElement.setAttribute('height','1'); \n",
       "newElement.setAttribute('x','24'); \n",
       "newElement.setAttribute('y','15'); \n",
       "newElement.style.fill = 'green'; \n",
       "svg.appendChild(newElement);\n",
       "newElement = document.createElementNS(\"http://www.w3.org/2000/svg\", 'rect'); \n",
       "newElement.setAttribute('width','1'); \n",
       "newElement.setAttribute('height','1'); \n",
       "newElement.setAttribute('x','25'); \n",
       "newElement.setAttribute('y','15'); \n",
       "newElement.style.fill = 'green'; \n",
       "svg.appendChild(newElement);\n",
       "newElement = document.createElementNS(\"http://www.w3.org/2000/svg\", 'rect'); \n",
       "newElement.setAttribute('width','1'); \n",
       "newElement.setAttribute('height','1'); \n",
       "newElement.setAttribute('x','26'); \n",
       "newElement.setAttribute('y','15'); \n",
       "newElement.style.fill = 'green'; \n",
       "svg.appendChild(newElement);\n",
       "newElement = document.createElementNS(\"http://www.w3.org/2000/svg\", 'rect'); \n",
       "newElement.setAttribute('width','1'); \n",
       "newElement.setAttribute('height','1'); \n",
       "newElement.setAttribute('x','27'); \n",
       "newElement.setAttribute('y','15'); \n",
       "newElement.style.fill = 'green'; \n",
       "svg.appendChild(newElement);\n",
       "newElement = document.createElementNS(\"http://www.w3.org/2000/svg\", 'rect'); \n",
       "newElement.setAttribute('width','1'); \n",
       "newElement.setAttribute('height','1'); \n",
       "newElement.setAttribute('x','28'); \n",
       "newElement.setAttribute('y','15'); \n",
       "newElement.style.fill = 'green'; \n",
       "svg.appendChild(newElement);\n",
       "newElement = document.createElementNS(\"http://www.w3.org/2000/svg\", 'rect'); \n",
       "newElement.setAttribute('width','1'); \n",
       "newElement.setAttribute('height','1'); \n",
       "newElement.setAttribute('x','29'); \n",
       "newElement.setAttribute('y','15'); \n",
       "newElement.style.fill = 'green'; \n",
       "svg.appendChild(newElement);\n",
       "newElement = document.createElementNS(\"http://www.w3.org/2000/svg\", 'rect'); \n",
       "newElement.setAttribute('width','1'); \n",
       "newElement.setAttribute('height','1'); \n",
       "newElement.setAttribute('x','0'); \n",
       "newElement.setAttribute('y','16'); \n",
       "newElement.style.fill = 'green'; \n",
       "svg.appendChild(newElement);\n",
       "newElement = document.createElementNS(\"http://www.w3.org/2000/svg\", 'rect'); \n",
       "newElement.setAttribute('width','1'); \n",
       "newElement.setAttribute('height','1'); \n",
       "newElement.setAttribute('x','1'); \n",
       "newElement.setAttribute('y','16'); \n",
       "newElement.style.fill = 'green'; \n",
       "svg.appendChild(newElement);\n",
       "newElement = document.createElementNS(\"http://www.w3.org/2000/svg\", 'rect'); \n",
       "newElement.setAttribute('width','1'); \n",
       "newElement.setAttribute('height','1'); \n",
       "newElement.setAttribute('x','2'); \n",
       "newElement.setAttribute('y','16'); \n",
       "newElement.style.fill = 'green'; \n",
       "svg.appendChild(newElement);\n",
       "newElement = document.createElementNS(\"http://www.w3.org/2000/svg\", 'rect'); \n",
       "newElement.setAttribute('width','1'); \n",
       "newElement.setAttribute('height','1'); \n",
       "newElement.setAttribute('x','3'); \n",
       "newElement.setAttribute('y','16'); \n",
       "newElement.style.fill = 'green'; \n",
       "svg.appendChild(newElement);\n",
       "newElement = document.createElementNS(\"http://www.w3.org/2000/svg\", 'rect'); \n",
       "newElement.setAttribute('width','1'); \n",
       "newElement.setAttribute('height','1'); \n",
       "newElement.setAttribute('x','4'); \n",
       "newElement.setAttribute('y','16'); \n",
       "newElement.style.fill = 'green'; \n",
       "svg.appendChild(newElement);\n",
       "newElement = document.createElementNS(\"http://www.w3.org/2000/svg\", 'rect'); \n",
       "newElement.setAttribute('width','1'); \n",
       "newElement.setAttribute('height','1'); \n",
       "newElement.setAttribute('x','5'); \n",
       "newElement.setAttribute('y','16'); \n",
       "newElement.style.fill = 'green'; \n",
       "svg.appendChild(newElement);\n",
       "newElement = document.createElementNS(\"http://www.w3.org/2000/svg\", 'rect'); \n",
       "newElement.setAttribute('width','1'); \n",
       "newElement.setAttribute('height','1'); \n",
       "newElement.setAttribute('x','6'); \n",
       "newElement.setAttribute('y','16'); \n",
       "newElement.style.fill = 'green'; \n",
       "svg.appendChild(newElement);\n",
       "newElement = document.createElementNS(\"http://www.w3.org/2000/svg\", 'rect'); \n",
       "newElement.setAttribute('width','1'); \n",
       "newElement.setAttribute('height','1'); \n",
       "newElement.setAttribute('x','7'); \n",
       "newElement.setAttribute('y','16'); \n",
       "newElement.style.fill = 'green'; \n",
       "svg.appendChild(newElement);\n",
       "newElement = document.createElementNS(\"http://www.w3.org/2000/svg\", 'rect'); \n",
       "newElement.setAttribute('width','1'); \n",
       "newElement.setAttribute('height','1'); \n",
       "newElement.setAttribute('x','8'); \n",
       "newElement.setAttribute('y','16'); \n",
       "newElement.style.fill = 'green'; \n",
       "svg.appendChild(newElement);\n",
       "newElement = document.createElementNS(\"http://www.w3.org/2000/svg\", 'rect'); \n",
       "newElement.setAttribute('width','1'); \n",
       "newElement.setAttribute('height','1'); \n",
       "newElement.setAttribute('x','9'); \n",
       "newElement.setAttribute('y','16'); \n",
       "newElement.style.fill = 'green'; \n",
       "svg.appendChild(newElement);\n",
       "newElement = document.createElementNS(\"http://www.w3.org/2000/svg\", 'rect'); \n",
       "newElement.setAttribute('width','1'); \n",
       "newElement.setAttribute('height','1'); \n",
       "newElement.setAttribute('x','10'); \n",
       "newElement.setAttribute('y','16'); \n",
       "newElement.style.fill = 'green'; \n",
       "svg.appendChild(newElement);\n",
       "newElement = document.createElementNS(\"http://www.w3.org/2000/svg\", 'rect'); \n",
       "newElement.setAttribute('width','1'); \n",
       "newElement.setAttribute('height','1'); \n",
       "newElement.setAttribute('x','11'); \n",
       "newElement.setAttribute('y','16'); \n",
       "newElement.style.fill = 'green'; \n",
       "svg.appendChild(newElement);\n",
       "newElement = document.createElementNS(\"http://www.w3.org/2000/svg\", 'rect'); \n",
       "newElement.setAttribute('width','1'); \n",
       "newElement.setAttribute('height','1'); \n",
       "newElement.setAttribute('x','12'); \n",
       "newElement.setAttribute('y','16'); \n",
       "newElement.style.fill = 'green'; \n",
       "svg.appendChild(newElement);\n",
       "newElement = document.createElementNS(\"http://www.w3.org/2000/svg\", 'rect'); \n",
       "newElement.setAttribute('width','1'); \n",
       "newElement.setAttribute('height','1'); \n",
       "newElement.setAttribute('x','13'); \n",
       "newElement.setAttribute('y','16'); \n",
       "newElement.style.fill = 'green'; \n",
       "svg.appendChild(newElement);\n",
       "newElement = document.createElementNS(\"http://www.w3.org/2000/svg\", 'rect'); \n",
       "newElement.setAttribute('width','1'); \n",
       "newElement.setAttribute('height','1'); \n",
       "newElement.setAttribute('x','14'); \n",
       "newElement.setAttribute('y','16'); \n",
       "newElement.style.fill = 'green'; \n",
       "svg.appendChild(newElement);\n",
       "newElement = document.createElementNS(\"http://www.w3.org/2000/svg\", 'rect'); \n",
       "newElement.setAttribute('width','1'); \n",
       "newElement.setAttribute('height','1'); \n",
       "newElement.setAttribute('x','15'); \n",
       "newElement.setAttribute('y','16'); \n",
       "newElement.style.fill = 'green'; \n",
       "svg.appendChild(newElement);\n",
       "newElement = document.createElementNS(\"http://www.w3.org/2000/svg\", 'rect'); \n",
       "newElement.setAttribute('width','1'); \n",
       "newElement.setAttribute('height','1'); \n",
       "newElement.setAttribute('x','16'); \n",
       "newElement.setAttribute('y','16'); \n",
       "newElement.style.fill = 'green'; \n",
       "svg.appendChild(newElement);\n",
       "newElement = document.createElementNS(\"http://www.w3.org/2000/svg\", 'rect'); \n",
       "newElement.setAttribute('width','1'); \n",
       "newElement.setAttribute('height','1'); \n",
       "newElement.setAttribute('x','17'); \n",
       "newElement.setAttribute('y','16'); \n",
       "newElement.style.fill = 'green'; \n",
       "svg.appendChild(newElement);\n",
       "newElement = document.createElementNS(\"http://www.w3.org/2000/svg\", 'rect'); \n",
       "newElement.setAttribute('width','1'); \n",
       "newElement.setAttribute('height','1'); \n",
       "newElement.setAttribute('x','18'); \n",
       "newElement.setAttribute('y','16'); \n",
       "newElement.style.fill = 'green'; \n",
       "svg.appendChild(newElement);\n",
       "newElement = document.createElementNS(\"http://www.w3.org/2000/svg\", 'rect'); \n",
       "newElement.setAttribute('width','1'); \n",
       "newElement.setAttribute('height','1'); \n",
       "newElement.setAttribute('x','19'); \n",
       "newElement.setAttribute('y','16'); \n",
       "newElement.style.fill = 'green'; \n",
       "svg.appendChild(newElement);\n",
       "newElement = document.createElementNS(\"http://www.w3.org/2000/svg\", 'rect'); \n",
       "newElement.setAttribute('width','1'); \n",
       "newElement.setAttribute('height','1'); \n",
       "newElement.setAttribute('x','20'); \n",
       "newElement.setAttribute('y','16'); \n",
       "newElement.style.fill = 'green'; \n",
       "svg.appendChild(newElement);\n",
       "newElement = document.createElementNS(\"http://www.w3.org/2000/svg\", 'rect'); \n",
       "newElement.setAttribute('width','1'); \n",
       "newElement.setAttribute('height','1'); \n",
       "newElement.setAttribute('x','21'); \n",
       "newElement.setAttribute('y','16'); \n",
       "newElement.style.fill = 'green'; \n",
       "svg.appendChild(newElement);\n",
       "newElement = document.createElementNS(\"http://www.w3.org/2000/svg\", 'rect'); \n",
       "newElement.setAttribute('width','1'); \n",
       "newElement.setAttribute('height','1'); \n",
       "newElement.setAttribute('x','22'); \n",
       "newElement.setAttribute('y','16'); \n",
       "newElement.style.fill = 'green'; \n",
       "svg.appendChild(newElement);\n",
       "newElement = document.createElementNS(\"http://www.w3.org/2000/svg\", 'rect'); \n",
       "newElement.setAttribute('width','1'); \n",
       "newElement.setAttribute('height','1'); \n",
       "newElement.setAttribute('x','23'); \n",
       "newElement.setAttribute('y','16'); \n",
       "newElement.style.fill = 'green'; \n",
       "svg.appendChild(newElement);\n",
       "newElement = document.createElementNS(\"http://www.w3.org/2000/svg\", 'rect'); \n",
       "newElement.setAttribute('width','1'); \n",
       "newElement.setAttribute('height','1'); \n",
       "newElement.setAttribute('x','24'); \n",
       "newElement.setAttribute('y','16'); \n",
       "newElement.style.fill = 'green'; \n",
       "svg.appendChild(newElement);\n",
       "newElement = document.createElementNS(\"http://www.w3.org/2000/svg\", 'rect'); \n",
       "newElement.setAttribute('width','1'); \n",
       "newElement.setAttribute('height','1'); \n",
       "newElement.setAttribute('x','25'); \n",
       "newElement.setAttribute('y','16'); \n",
       "newElement.style.fill = 'green'; \n",
       "svg.appendChild(newElement);\n",
       "newElement = document.createElementNS(\"http://www.w3.org/2000/svg\", 'rect'); \n",
       "newElement.setAttribute('width','1'); \n",
       "newElement.setAttribute('height','1'); \n",
       "newElement.setAttribute('x','26'); \n",
       "newElement.setAttribute('y','16'); \n",
       "newElement.style.fill = 'green'; \n",
       "svg.appendChild(newElement);\n",
       "newElement = document.createElementNS(\"http://www.w3.org/2000/svg\", 'rect'); \n",
       "newElement.setAttribute('width','1'); \n",
       "newElement.setAttribute('height','1'); \n",
       "newElement.setAttribute('x','27'); \n",
       "newElement.setAttribute('y','16'); \n",
       "newElement.style.fill = 'green'; \n",
       "svg.appendChild(newElement);\n",
       "newElement = document.createElementNS(\"http://www.w3.org/2000/svg\", 'rect'); \n",
       "newElement.setAttribute('width','1'); \n",
       "newElement.setAttribute('height','1'); \n",
       "newElement.setAttribute('x','28'); \n",
       "newElement.setAttribute('y','16'); \n",
       "newElement.style.fill = 'green'; \n",
       "svg.appendChild(newElement);\n",
       "newElement = document.createElementNS(\"http://www.w3.org/2000/svg\", 'rect'); \n",
       "newElement.setAttribute('width','1'); \n",
       "newElement.setAttribute('height','1'); \n",
       "newElement.setAttribute('x','29'); \n",
       "newElement.setAttribute('y','16'); \n",
       "newElement.style.fill = 'green'; \n",
       "svg.appendChild(newElement);\n",
       "newElement = document.createElementNS(\"http://www.w3.org/2000/svg\", 'rect'); \n",
       "newElement.setAttribute('width','1'); \n",
       "newElement.setAttribute('height','1'); \n",
       "newElement.setAttribute('x','0'); \n",
       "newElement.setAttribute('y','17'); \n",
       "newElement.style.fill = 'green'; \n",
       "svg.appendChild(newElement);\n",
       "newElement = document.createElementNS(\"http://www.w3.org/2000/svg\", 'rect'); \n",
       "newElement.setAttribute('width','1'); \n",
       "newElement.setAttribute('height','1'); \n",
       "newElement.setAttribute('x','1'); \n",
       "newElement.setAttribute('y','17'); \n",
       "newElement.style.fill = 'green'; \n",
       "svg.appendChild(newElement);\n",
       "newElement = document.createElementNS(\"http://www.w3.org/2000/svg\", 'rect'); \n",
       "newElement.setAttribute('width','1'); \n",
       "newElement.setAttribute('height','1'); \n",
       "newElement.setAttribute('x','2'); \n",
       "newElement.setAttribute('y','17'); \n",
       "newElement.style.fill = 'green'; \n",
       "svg.appendChild(newElement);\n",
       "newElement = document.createElementNS(\"http://www.w3.org/2000/svg\", 'rect'); \n",
       "newElement.setAttribute('width','1'); \n",
       "newElement.setAttribute('height','1'); \n",
       "newElement.setAttribute('x','3'); \n",
       "newElement.setAttribute('y','17'); \n",
       "newElement.style.fill = 'green'; \n",
       "svg.appendChild(newElement);\n",
       "newElement = document.createElementNS(\"http://www.w3.org/2000/svg\", 'rect'); \n",
       "newElement.setAttribute('width','1'); \n",
       "newElement.setAttribute('height','1'); \n",
       "newElement.setAttribute('x','4'); \n",
       "newElement.setAttribute('y','17'); \n",
       "newElement.style.fill = 'green'; \n",
       "svg.appendChild(newElement);\n",
       "newElement = document.createElementNS(\"http://www.w3.org/2000/svg\", 'rect'); \n",
       "newElement.setAttribute('width','1'); \n",
       "newElement.setAttribute('height','1'); \n",
       "newElement.setAttribute('x','5'); \n",
       "newElement.setAttribute('y','17'); \n",
       "newElement.style.fill = 'green'; \n",
       "svg.appendChild(newElement);\n",
       "newElement = document.createElementNS(\"http://www.w3.org/2000/svg\", 'rect'); \n",
       "newElement.setAttribute('width','1'); \n",
       "newElement.setAttribute('height','1'); \n",
       "newElement.setAttribute('x','6'); \n",
       "newElement.setAttribute('y','17'); \n",
       "newElement.style.fill = 'green'; \n",
       "svg.appendChild(newElement);\n",
       "newElement = document.createElementNS(\"http://www.w3.org/2000/svg\", 'rect'); \n",
       "newElement.setAttribute('width','1'); \n",
       "newElement.setAttribute('height','1'); \n",
       "newElement.setAttribute('x','7'); \n",
       "newElement.setAttribute('y','17'); \n",
       "newElement.style.fill = 'green'; \n",
       "svg.appendChild(newElement);\n",
       "newElement = document.createElementNS(\"http://www.w3.org/2000/svg\", 'rect'); \n",
       "newElement.setAttribute('width','1'); \n",
       "newElement.setAttribute('height','1'); \n",
       "newElement.setAttribute('x','8'); \n",
       "newElement.setAttribute('y','17'); \n",
       "newElement.style.fill = 'green'; \n",
       "svg.appendChild(newElement);\n",
       "newElement = document.createElementNS(\"http://www.w3.org/2000/svg\", 'rect'); \n",
       "newElement.setAttribute('width','1'); \n",
       "newElement.setAttribute('height','1'); \n",
       "newElement.setAttribute('x','9'); \n",
       "newElement.setAttribute('y','17'); \n",
       "newElement.style.fill = 'green'; \n",
       "svg.appendChild(newElement);\n",
       "newElement = document.createElementNS(\"http://www.w3.org/2000/svg\", 'rect'); \n",
       "newElement.setAttribute('width','1'); \n",
       "newElement.setAttribute('height','1'); \n",
       "newElement.setAttribute('x','10'); \n",
       "newElement.setAttribute('y','17'); \n",
       "newElement.style.fill = 'green'; \n",
       "svg.appendChild(newElement);\n",
       "newElement = document.createElementNS(\"http://www.w3.org/2000/svg\", 'rect'); \n",
       "newElement.setAttribute('width','1'); \n",
       "newElement.setAttribute('height','1'); \n",
       "newElement.setAttribute('x','11'); \n",
       "newElement.setAttribute('y','17'); \n",
       "newElement.style.fill = 'green'; \n",
       "svg.appendChild(newElement);\n",
       "newElement = document.createElementNS(\"http://www.w3.org/2000/svg\", 'rect'); \n",
       "newElement.setAttribute('width','1'); \n",
       "newElement.setAttribute('height','1'); \n",
       "newElement.setAttribute('x','12'); \n",
       "newElement.setAttribute('y','17'); \n",
       "newElement.style.fill = 'green'; \n",
       "svg.appendChild(newElement);\n",
       "newElement = document.createElementNS(\"http://www.w3.org/2000/svg\", 'rect'); \n",
       "newElement.setAttribute('width','1'); \n",
       "newElement.setAttribute('height','1'); \n",
       "newElement.setAttribute('x','13'); \n",
       "newElement.setAttribute('y','17'); \n",
       "newElement.style.fill = 'green'; \n",
       "svg.appendChild(newElement);\n",
       "newElement = document.createElementNS(\"http://www.w3.org/2000/svg\", 'rect'); \n",
       "newElement.setAttribute('width','1'); \n",
       "newElement.setAttribute('height','1'); \n",
       "newElement.setAttribute('x','14'); \n",
       "newElement.setAttribute('y','17'); \n",
       "newElement.style.fill = 'green'; \n",
       "svg.appendChild(newElement);\n",
       "newElement = document.createElementNS(\"http://www.w3.org/2000/svg\", 'rect'); \n",
       "newElement.setAttribute('width','1'); \n",
       "newElement.setAttribute('height','1'); \n",
       "newElement.setAttribute('x','15'); \n",
       "newElement.setAttribute('y','17'); \n",
       "newElement.style.fill = 'green'; \n",
       "svg.appendChild(newElement);\n",
       "newElement = document.createElementNS(\"http://www.w3.org/2000/svg\", 'rect'); \n",
       "newElement.setAttribute('width','1'); \n",
       "newElement.setAttribute('height','1'); \n",
       "newElement.setAttribute('x','16'); \n",
       "newElement.setAttribute('y','17'); \n",
       "newElement.style.fill = 'green'; \n",
       "svg.appendChild(newElement);\n",
       "newElement = document.createElementNS(\"http://www.w3.org/2000/svg\", 'rect'); \n",
       "newElement.setAttribute('width','1'); \n",
       "newElement.setAttribute('height','1'); \n",
       "newElement.setAttribute('x','17'); \n",
       "newElement.setAttribute('y','17'); \n",
       "newElement.style.fill = 'green'; \n",
       "svg.appendChild(newElement);\n",
       "newElement = document.createElementNS(\"http://www.w3.org/2000/svg\", 'rect'); \n",
       "newElement.setAttribute('width','1'); \n",
       "newElement.setAttribute('height','1'); \n",
       "newElement.setAttribute('x','18'); \n",
       "newElement.setAttribute('y','17'); \n",
       "newElement.style.fill = 'green'; \n",
       "svg.appendChild(newElement);\n",
       "newElement = document.createElementNS(\"http://www.w3.org/2000/svg\", 'rect'); \n",
       "newElement.setAttribute('width','1'); \n",
       "newElement.setAttribute('height','1'); \n",
       "newElement.setAttribute('x','19'); \n",
       "newElement.setAttribute('y','17'); \n",
       "newElement.style.fill = 'green'; \n",
       "svg.appendChild(newElement);\n",
       "newElement = document.createElementNS(\"http://www.w3.org/2000/svg\", 'rect'); \n",
       "newElement.setAttribute('width','1'); \n",
       "newElement.setAttribute('height','1'); \n",
       "newElement.setAttribute('x','20'); \n",
       "newElement.setAttribute('y','17'); \n",
       "newElement.style.fill = 'green'; \n",
       "svg.appendChild(newElement);\n",
       "newElement = document.createElementNS(\"http://www.w3.org/2000/svg\", 'rect'); \n",
       "newElement.setAttribute('width','1'); \n",
       "newElement.setAttribute('height','1'); \n",
       "newElement.setAttribute('x','21'); \n",
       "newElement.setAttribute('y','17'); \n",
       "newElement.style.fill = 'green'; \n",
       "svg.appendChild(newElement);\n",
       "newElement = document.createElementNS(\"http://www.w3.org/2000/svg\", 'rect'); \n",
       "newElement.setAttribute('width','1'); \n",
       "newElement.setAttribute('height','1'); \n",
       "newElement.setAttribute('x','22'); \n",
       "newElement.setAttribute('y','17'); \n",
       "newElement.style.fill = 'green'; \n",
       "svg.appendChild(newElement);\n",
       "newElement = document.createElementNS(\"http://www.w3.org/2000/svg\", 'rect'); \n",
       "newElement.setAttribute('width','1'); \n",
       "newElement.setAttribute('height','1'); \n",
       "newElement.setAttribute('x','23'); \n",
       "newElement.setAttribute('y','17'); \n",
       "newElement.style.fill = 'green'; \n",
       "svg.appendChild(newElement);\n",
       "newElement = document.createElementNS(\"http://www.w3.org/2000/svg\", 'rect'); \n",
       "newElement.setAttribute('width','1'); \n",
       "newElement.setAttribute('height','1'); \n",
       "newElement.setAttribute('x','24'); \n",
       "newElement.setAttribute('y','17'); \n",
       "newElement.style.fill = 'green'; \n",
       "svg.appendChild(newElement);\n",
       "newElement = document.createElementNS(\"http://www.w3.org/2000/svg\", 'rect'); \n",
       "newElement.setAttribute('width','1'); \n",
       "newElement.setAttribute('height','1'); \n",
       "newElement.setAttribute('x','25'); \n",
       "newElement.setAttribute('y','17'); \n",
       "newElement.style.fill = 'green'; \n",
       "svg.appendChild(newElement);\n",
       "newElement = document.createElementNS(\"http://www.w3.org/2000/svg\", 'rect'); \n",
       "newElement.setAttribute('width','1'); \n",
       "newElement.setAttribute('height','1'); \n",
       "newElement.setAttribute('x','26'); \n",
       "newElement.setAttribute('y','17'); \n",
       "newElement.style.fill = 'green'; \n",
       "svg.appendChild(newElement);\n",
       "newElement = document.createElementNS(\"http://www.w3.org/2000/svg\", 'rect'); \n",
       "newElement.setAttribute('width','1'); \n",
       "newElement.setAttribute('height','1'); \n",
       "newElement.setAttribute('x','27'); \n",
       "newElement.setAttribute('y','17'); \n",
       "newElement.style.fill = 'green'; \n",
       "svg.appendChild(newElement);\n",
       "newElement = document.createElementNS(\"http://www.w3.org/2000/svg\", 'rect'); \n",
       "newElement.setAttribute('width','1'); \n",
       "newElement.setAttribute('height','1'); \n",
       "newElement.setAttribute('x','28'); \n",
       "newElement.setAttribute('y','17'); \n",
       "newElement.style.fill = 'green'; \n",
       "svg.appendChild(newElement);\n",
       "newElement = document.createElementNS(\"http://www.w3.org/2000/svg\", 'rect'); \n",
       "newElement.setAttribute('width','1'); \n",
       "newElement.setAttribute('height','1'); \n",
       "newElement.setAttribute('x','29'); \n",
       "newElement.setAttribute('y','17'); \n",
       "newElement.style.fill = 'green'; \n",
       "svg.appendChild(newElement);\n"
      ]
     },
     "metadata": {},
     "output_type": "display_data"
    }
   ],
   "source": [
    "circuit, colour_array = get_env(\"circuit\")\n",
    "circuit_canvas = create_canvas(size(colour_array)..., 360, 720)\n",
    "add_pixels(circuit_canvas, colour_array)"
   ]
  },
  {
   "cell_type": "code",
   "execution_count": 37,
   "metadata": {
    "collapsed": false
   },
   "outputs": [
    {
     "data": {
      "text/plain": [
       "RL.RLAgent(#1, #undef)"
      ]
     },
     "execution_count": 37,
     "metadata": {},
     "output_type": "execute_result"
    }
   ],
   "source": [
    "agent = RLAgent(s -> rand(circuit.actions(s)))"
   ]
  },
  {
   "cell_type": "code",
   "execution_count": 48,
   "metadata": {
    "collapsed": false
   },
   "outputs": [
    {
     "name": "stderr",
     "output_type": "stream",
     "text": [
      "\u001b[1m\u001b[33mWARNING: \u001b[39m\u001b[22m\u001b[33mmax_steps reached\u001b[39m\n"
     ]
    },
    {
     "data": {
      "text/plain": [
       "(Array{Int64,1}[[16, 6], [17, 6], [18, 6], [17, 6], [18, 6], [18, 6], [17, 6], [16, 6], [16, 5], [15, 5]  …  [5, 7], [5, 8], [5, 7], [4, 7], [5, 7], [5, 6], [6, 6], [6, 5], [6, 4], [7, 4]], Any[-1, -1, -1, -1, -1, -1, -1, -1, -0.0703065, 0.0475831  …  -0.0454233, -0.0554985, 0.0554985, -1, 0.0949517, 0.0454233, 0.0964738, 0.0302938, -1, -1], Any[\"down\", \"down\", \"up\", \"down\", \"down\", \"up\", \"up\", \"left\", \"up\", \"right\"  …  \"right\", \"right\", \"left\", \"up\", \"down\", \"left\", \"down\", \"left\", \"left\", \"down\"])"
      ]
     },
     "execution_count": 48,
     "metadata": {},
     "output_type": "execute_result"
    }
   ],
   "source": [
    "s, r, a = episode(agent, circuit, [16, 6], max_steps = 300)"
   ]
  },
  {
   "cell_type": "code",
   "execution_count": 49,
   "metadata": {
    "collapsed": false
   },
   "outputs": [
    {
     "data": {
      "text/html": [
       "<script>require([\"d3\"], function(d3) {d3.select(\".usersvg #canvas3mn\").append(\"path\").attr(\"id\", \"pixel_crossSIw\").attr(\"transform\", \"translate(15 5)\").attr(\"transform\", \"translate(5 15)\").attr(\"d\", \"M0.5 0 L0.5 1 M0 0.5 L1 0.5\").attr(\"stroke-width\", \"0.2\").attr(\"stroke\", \"blue\");});</script>"
      ]
     },
     "metadata": {},
     "output_type": "display_data"
    },
    {
     "data": {
      "text/html": [
       "<script>\n",
       "require([\"d3\"], function(d3) {\n",
       "    d3.select(\".usersvg #pixel_crossSIw\").attr(\"transform\", \"translate(5 15)\");\n",
       "});\n",
       "</script>\n"
      ]
     },
     "metadata": {},
     "output_type": "display_data"
    },
    {
     "data": {
      "text/html": [
       "<script>\n",
       "require([\"d3\"], function(d3) {\n",
       "    d3.select(\".usersvg #pixel_crossSIw\").attr(\"transform\", \"translate(5 16)\");\n",
       "});\n",
       "</script>\n"
      ]
     },
     "metadata": {},
     "output_type": "display_data"
    },
    {
     "data": {
      "text/html": [
       "<script>\n",
       "require([\"d3\"], function(d3) {\n",
       "    d3.select(\".usersvg #pixel_crossSIw\").attr(\"transform\", \"translate(5 17)\");\n",
       "});\n",
       "</script>\n"
      ]
     },
     "metadata": {},
     "output_type": "display_data"
    },
    {
     "data": {
      "text/html": [
       "<script>\n",
       "require([\"d3\"], function(d3) {\n",
       "    d3.select(\".usersvg #pixel_crossSIw\").attr(\"transform\", \"translate(5 16)\");\n",
       "});\n",
       "</script>\n"
      ]
     },
     "metadata": {},
     "output_type": "display_data"
    },
    {
     "data": {
      "text/html": [
       "<script>\n",
       "require([\"d3\"], function(d3) {\n",
       "    d3.select(\".usersvg #pixel_crossSIw\").attr(\"transform\", \"translate(5 17)\");\n",
       "});\n",
       "</script>\n"
      ]
     },
     "metadata": {},
     "output_type": "display_data"
    },
    {
     "data": {
      "text/html": [
       "<script>\n",
       "require([\"d3\"], function(d3) {\n",
       "    d3.select(\".usersvg #pixel_crossSIw\").attr(\"transform\", \"translate(5 17)\");\n",
       "});\n",
       "</script>\n"
      ]
     },
     "metadata": {},
     "output_type": "display_data"
    },
    {
     "data": {
      "text/html": [
       "<script>\n",
       "require([\"d3\"], function(d3) {\n",
       "    d3.select(\".usersvg #pixel_crossSIw\").attr(\"transform\", \"translate(5 16)\");\n",
       "});\n",
       "</script>\n"
      ]
     },
     "metadata": {},
     "output_type": "display_data"
    },
    {
     "data": {
      "text/html": [
       "<script>\n",
       "require([\"d3\"], function(d3) {\n",
       "    d3.select(\".usersvg #pixel_crossSIw\").attr(\"transform\", \"translate(5 15)\");\n",
       "});\n",
       "</script>\n"
      ]
     },
     "metadata": {},
     "output_type": "display_data"
    },
    {
     "data": {
      "text/html": [
       "<script>\n",
       "require([\"d3\"], function(d3) {\n",
       "    d3.select(\".usersvg #pixel_crossSIw\").attr(\"transform\", \"translate(4 15)\");\n",
       "});\n",
       "</script>\n"
      ]
     },
     "metadata": {},
     "output_type": "display_data"
    },
    {
     "data": {
      "text/html": [
       "<script>\n",
       "require([\"d3\"], function(d3) {\n",
       "    d3.select(\".usersvg #pixel_crossSIw\").attr(\"transform\", \"translate(4 14)\");\n",
       "});\n",
       "</script>\n"
      ]
     },
     "metadata": {},
     "output_type": "display_data"
    },
    {
     "data": {
      "text/html": [
       "<script>\n",
       "require([\"d3\"], function(d3) {\n",
       "    d3.select(\".usersvg #pixel_crossSIw\").attr(\"transform\", \"translate(5 14)\");\n",
       "});\n",
       "</script>\n"
      ]
     },
     "metadata": {},
     "output_type": "display_data"
    },
    {
     "data": {
      "text/html": [
       "<script>\n",
       "require([\"d3\"], function(d3) {\n",
       "    d3.select(\".usersvg #pixel_crossSIw\").attr(\"transform\", \"translate(5 13)\");\n",
       "});\n",
       "</script>\n"
      ]
     },
     "metadata": {},
     "output_type": "display_data"
    },
    {
     "data": {
      "text/html": [
       "<script>\n",
       "require([\"d3\"], function(d3) {\n",
       "    d3.select(\".usersvg #pixel_crossSIw\").attr(\"transform\", \"translate(6 13)\");\n",
       "});\n",
       "</script>\n"
      ]
     },
     "metadata": {},
     "output_type": "display_data"
    },
    {
     "data": {
      "text/html": [
       "<script>\n",
       "require([\"d3\"], function(d3) {\n",
       "    d3.select(\".usersvg #pixel_crossSIw\").attr(\"transform\", \"translate(6 12)\");\n",
       "});\n",
       "</script>\n"
      ]
     },
     "metadata": {},
     "output_type": "display_data"
    },
    {
     "data": {
      "text/html": [
       "<script>\n",
       "require([\"d3\"], function(d3) {\n",
       "    d3.select(\".usersvg #pixel_crossSIw\").attr(\"transform\", \"translate(5 12)\");\n",
       "});\n",
       "</script>\n"
      ]
     },
     "metadata": {},
     "output_type": "display_data"
    },
    {
     "data": {
      "text/html": [
       "<script>\n",
       "require([\"d3\"], function(d3) {\n",
       "    d3.select(\".usersvg #pixel_crossSIw\").attr(\"transform\", \"translate(4 12)\");\n",
       "});\n",
       "</script>\n"
      ]
     },
     "metadata": {},
     "output_type": "display_data"
    },
    {
     "data": {
      "text/html": [
       "<script>\n",
       "require([\"d3\"], function(d3) {\n",
       "    d3.select(\".usersvg #pixel_crossSIw\").attr(\"transform\", \"translate(3 12)\");\n",
       "});\n",
       "</script>\n"
      ]
     },
     "metadata": {},
     "output_type": "display_data"
    },
    {
     "data": {
      "text/html": [
       "<script>\n",
       "require([\"d3\"], function(d3) {\n",
       "    d3.select(\".usersvg #pixel_crossSIw\").attr(\"transform\", \"translate(3 11)\");\n",
       "});\n",
       "</script>\n"
      ]
     },
     "metadata": {},
     "output_type": "display_data"
    },
    {
     "data": {
      "text/html": [
       "<script>\n",
       "require([\"d3\"], function(d3) {\n",
       "    d3.select(\".usersvg #pixel_crossSIw\").attr(\"transform\", \"translate(3 10)\");\n",
       "});\n",
       "</script>\n"
      ]
     },
     "metadata": {},
     "output_type": "display_data"
    },
    {
     "data": {
      "text/html": [
       "<script>\n",
       "require([\"d3\"], function(d3) {\n",
       "    d3.select(\".usersvg #pixel_crossSIw\").attr(\"transform\", \"translate(3 11)\");\n",
       "});\n",
       "</script>\n"
      ]
     },
     "metadata": {},
     "output_type": "display_data"
    },
    {
     "data": {
      "text/html": [
       "<script>\n",
       "require([\"d3\"], function(d3) {\n",
       "    d3.select(\".usersvg #pixel_crossSIw\").attr(\"transform\", \"translate(2 11)\");\n",
       "});\n",
       "</script>\n"
      ]
     },
     "metadata": {},
     "output_type": "display_data"
    },
    {
     "data": {
      "text/html": [
       "<script>\n",
       "require([\"d3\"], function(d3) {\n",
       "    d3.select(\".usersvg #pixel_crossSIw\").attr(\"transform\", \"translate(2 12)\");\n",
       "});\n",
       "</script>\n"
      ]
     },
     "metadata": {},
     "output_type": "display_data"
    },
    {
     "data": {
      "text/html": [
       "<script>\n",
       "require([\"d3\"], function(d3) {\n",
       "    d3.select(\".usersvg #pixel_crossSIw\").attr(\"transform\", \"translate(3 12)\");\n",
       "});\n",
       "</script>\n"
      ]
     },
     "metadata": {},
     "output_type": "display_data"
    },
    {
     "data": {
      "text/html": [
       "<script>\n",
       "require([\"d3\"], function(d3) {\n",
       "    d3.select(\".usersvg #pixel_crossSIw\").attr(\"transform\", \"translate(3 13)\");\n",
       "});\n",
       "</script>\n"
      ]
     },
     "metadata": {},
     "output_type": "display_data"
    },
    {
     "data": {
      "text/html": [
       "<script>\n",
       "require([\"d3\"], function(d3) {\n",
       "    d3.select(\".usersvg #pixel_crossSIw\").attr(\"transform\", \"translate(3 14)\");\n",
       "});\n",
       "</script>\n"
      ]
     },
     "metadata": {},
     "output_type": "display_data"
    },
    {
     "data": {
      "text/html": [
       "<script>\n",
       "require([\"d3\"], function(d3) {\n",
       "    d3.select(\".usersvg #pixel_crossSIw\").attr(\"transform\", \"translate(3 15)\");\n",
       "});\n",
       "</script>\n"
      ]
     },
     "metadata": {},
     "output_type": "display_data"
    },
    {
     "data": {
      "text/html": [
       "<script>\n",
       "require([\"d3\"], function(d3) {\n",
       "    d3.select(\".usersvg #pixel_crossSIw\").attr(\"transform\", \"translate(2 15)\");\n",
       "});\n",
       "</script>\n"
      ]
     },
     "metadata": {},
     "output_type": "display_data"
    },
    {
     "data": {
      "text/html": [
       "<script>\n",
       "require([\"d3\"], function(d3) {\n",
       "    d3.select(\".usersvg #pixel_crossSIw\").attr(\"transform\", \"translate(2 14)\");\n",
       "});\n",
       "</script>\n"
      ]
     },
     "metadata": {},
     "output_type": "display_data"
    },
    {
     "data": {
      "text/html": [
       "<script>\n",
       "require([\"d3\"], function(d3) {\n",
       "    d3.select(\".usersvg #pixel_crossSIw\").attr(\"transform\", \"translate(3 14)\");\n",
       "});\n",
       "</script>\n"
      ]
     },
     "metadata": {},
     "output_type": "display_data"
    },
    {
     "data": {
      "text/html": [
       "<script>\n",
       "require([\"d3\"], function(d3) {\n",
       "    d3.select(\".usersvg #pixel_crossSIw\").attr(\"transform\", \"translate(3 13)\");\n",
       "});\n",
       "</script>\n"
      ]
     },
     "metadata": {},
     "output_type": "display_data"
    },
    {
     "data": {
      "text/html": [
       "<script>\n",
       "require([\"d3\"], function(d3) {\n",
       "    d3.select(\".usersvg #pixel_crossSIw\").attr(\"transform\", \"translate(3 14)\");\n",
       "});\n",
       "</script>\n"
      ]
     },
     "metadata": {},
     "output_type": "display_data"
    },
    {
     "data": {
      "text/html": [
       "<script>\n",
       "require([\"d3\"], function(d3) {\n",
       "    d3.select(\".usersvg #pixel_crossSIw\").attr(\"transform\", \"translate(3 13)\");\n",
       "});\n",
       "</script>\n"
      ]
     },
     "metadata": {},
     "output_type": "display_data"
    },
    {
     "data": {
      "text/html": [
       "<script>\n",
       "require([\"d3\"], function(d3) {\n",
       "    d3.select(\".usersvg #pixel_crossSIw\").attr(\"transform\", \"translate(3 12)\");\n",
       "});\n",
       "</script>\n"
      ]
     },
     "metadata": {},
     "output_type": "display_data"
    },
    {
     "data": {
      "text/html": [
       "<script>\n",
       "require([\"d3\"], function(d3) {\n",
       "    d3.select(\".usersvg #pixel_crossSIw\").attr(\"transform\", \"translate(4 12)\");\n",
       "});\n",
       "</script>\n"
      ]
     },
     "metadata": {},
     "output_type": "display_data"
    },
    {
     "data": {
      "text/html": [
       "<script>\n",
       "require([\"d3\"], function(d3) {\n",
       "    d3.select(\".usersvg #pixel_crossSIw\").attr(\"transform\", \"translate(5 12)\");\n",
       "});\n",
       "</script>\n"
      ]
     },
     "metadata": {},
     "output_type": "display_data"
    },
    {
     "data": {
      "text/html": [
       "<script>\n",
       "require([\"d3\"], function(d3) {\n",
       "    d3.select(\".usersvg #pixel_crossSIw\").attr(\"transform\", \"translate(4 12)\");\n",
       "});\n",
       "</script>\n"
      ]
     },
     "metadata": {},
     "output_type": "display_data"
    },
    {
     "data": {
      "text/html": [
       "<script>\n",
       "require([\"d3\"], function(d3) {\n",
       "    d3.select(\".usersvg #pixel_crossSIw\").attr(\"transform\", \"translate(3 12)\");\n",
       "});\n",
       "</script>\n"
      ]
     },
     "metadata": {},
     "output_type": "display_data"
    },
    {
     "data": {
      "text/html": [
       "<script>\n",
       "require([\"d3\"], function(d3) {\n",
       "    d3.select(\".usersvg #pixel_crossSIw\").attr(\"transform\", \"translate(2 12)\");\n",
       "});\n",
       "</script>\n"
      ]
     },
     "metadata": {},
     "output_type": "display_data"
    },
    {
     "data": {
      "text/html": [
       "<script>\n",
       "require([\"d3\"], function(d3) {\n",
       "    d3.select(\".usersvg #pixel_crossSIw\").attr(\"transform\", \"translate(3 12)\");\n",
       "});\n",
       "</script>\n"
      ]
     },
     "metadata": {},
     "output_type": "display_data"
    },
    {
     "data": {
      "text/html": [
       "<script>\n",
       "require([\"d3\"], function(d3) {\n",
       "    d3.select(\".usersvg #pixel_crossSIw\").attr(\"transform\", \"translate(3 13)\");\n",
       "});\n",
       "</script>\n"
      ]
     },
     "metadata": {},
     "output_type": "display_data"
    },
    {
     "data": {
      "text/html": [
       "<script>\n",
       "require([\"d3\"], function(d3) {\n",
       "    d3.select(\".usersvg #pixel_crossSIw\").attr(\"transform\", \"translate(3 14)\");\n",
       "});\n",
       "</script>\n"
      ]
     },
     "metadata": {},
     "output_type": "display_data"
    },
    {
     "data": {
      "text/html": [
       "<script>\n",
       "require([\"d3\"], function(d3) {\n",
       "    d3.select(\".usersvg #pixel_crossSIw\").attr(\"transform\", \"translate(2 14)\");\n",
       "});\n",
       "</script>\n"
      ]
     },
     "metadata": {},
     "output_type": "display_data"
    },
    {
     "data": {
      "text/html": [
       "<script>\n",
       "require([\"d3\"], function(d3) {\n",
       "    d3.select(\".usersvg #pixel_crossSIw\").attr(\"transform\", \"translate(2 15)\");\n",
       "});\n",
       "</script>\n"
      ]
     },
     "metadata": {},
     "output_type": "display_data"
    },
    {
     "data": {
      "text/html": [
       "<script>\n",
       "require([\"d3\"], function(d3) {\n",
       "    d3.select(\".usersvg #pixel_crossSIw\").attr(\"transform\", \"translate(3 15)\");\n",
       "});\n",
       "</script>\n"
      ]
     },
     "metadata": {},
     "output_type": "display_data"
    },
    {
     "data": {
      "text/html": [
       "<script>\n",
       "require([\"d3\"], function(d3) {\n",
       "    d3.select(\".usersvg #pixel_crossSIw\").attr(\"transform\", \"translate(4 15)\");\n",
       "});\n",
       "</script>\n"
      ]
     },
     "metadata": {},
     "output_type": "display_data"
    },
    {
     "data": {
      "text/html": [
       "<script>\n",
       "require([\"d3\"], function(d3) {\n",
       "    d3.select(\".usersvg #pixel_crossSIw\").attr(\"transform\", \"translate(3 15)\");\n",
       "});\n",
       "</script>\n"
      ]
     },
     "metadata": {},
     "output_type": "display_data"
    },
    {
     "data": {
      "text/html": [
       "<script>\n",
       "require([\"d3\"], function(d3) {\n",
       "    d3.select(\".usersvg #pixel_crossSIw\").attr(\"transform\", \"translate(3 16)\");\n",
       "});\n",
       "</script>\n"
      ]
     },
     "metadata": {},
     "output_type": "display_data"
    },
    {
     "data": {
      "text/html": [
       "<script>\n",
       "require([\"d3\"], function(d3) {\n",
       "    d3.select(\".usersvg #pixel_crossSIw\").attr(\"transform\", \"translate(2 16)\");\n",
       "});\n",
       "</script>\n"
      ]
     },
     "metadata": {},
     "output_type": "display_data"
    },
    {
     "data": {
      "text/html": [
       "<script>\n",
       "require([\"d3\"], function(d3) {\n",
       "    d3.select(\".usersvg #pixel_crossSIw\").attr(\"transform\", \"translate(2 15)\");\n",
       "});\n",
       "</script>\n"
      ]
     },
     "metadata": {},
     "output_type": "display_data"
    },
    {
     "data": {
      "text/html": [
       "<script>\n",
       "require([\"d3\"], function(d3) {\n",
       "    d3.select(\".usersvg #pixel_crossSIw\").attr(\"transform\", \"translate(3 15)\");\n",
       "});\n",
       "</script>\n"
      ]
     },
     "metadata": {},
     "output_type": "display_data"
    },
    {
     "data": {
      "text/html": [
       "<script>\n",
       "require([\"d3\"], function(d3) {\n",
       "    d3.select(\".usersvg #pixel_crossSIw\").attr(\"transform\", \"translate(2 15)\");\n",
       "});\n",
       "</script>\n"
      ]
     },
     "metadata": {},
     "output_type": "display_data"
    },
    {
     "data": {
      "text/html": [
       "<script>\n",
       "require([\"d3\"], function(d3) {\n",
       "    d3.select(\".usersvg #pixel_crossSIw\").attr(\"transform\", \"translate(2 16)\");\n",
       "});\n",
       "</script>\n"
      ]
     },
     "metadata": {},
     "output_type": "display_data"
    },
    {
     "data": {
      "text/html": [
       "<script>\n",
       "require([\"d3\"], function(d3) {\n",
       "    d3.select(\".usersvg #pixel_crossSIw\").attr(\"transform\", \"translate(2 15)\");\n",
       "});\n",
       "</script>\n"
      ]
     },
     "metadata": {},
     "output_type": "display_data"
    },
    {
     "data": {
      "text/html": [
       "<script>\n",
       "require([\"d3\"], function(d3) {\n",
       "    d3.select(\".usersvg #pixel_crossSIw\").attr(\"transform\", \"translate(2 14)\");\n",
       "});\n",
       "</script>\n"
      ]
     },
     "metadata": {},
     "output_type": "display_data"
    },
    {
     "data": {
      "text/html": [
       "<script>\n",
       "require([\"d3\"], function(d3) {\n",
       "    d3.select(\".usersvg #pixel_crossSIw\").attr(\"transform\", \"translate(3 14)\");\n",
       "});\n",
       "</script>\n"
      ]
     },
     "metadata": {},
     "output_type": "display_data"
    },
    {
     "data": {
      "text/html": [
       "<script>\n",
       "require([\"d3\"], function(d3) {\n",
       "    d3.select(\".usersvg #pixel_crossSIw\").attr(\"transform\", \"translate(3 15)\");\n",
       "});\n",
       "</script>\n"
      ]
     },
     "metadata": {},
     "output_type": "display_data"
    },
    {
     "data": {
      "text/html": [
       "<script>\n",
       "require([\"d3\"], function(d3) {\n",
       "    d3.select(\".usersvg #pixel_crossSIw\").attr(\"transform\", \"translate(4 15)\");\n",
       "});\n",
       "</script>\n"
      ]
     },
     "metadata": {},
     "output_type": "display_data"
    },
    {
     "data": {
      "text/html": [
       "<script>\n",
       "require([\"d3\"], function(d3) {\n",
       "    d3.select(\".usersvg #pixel_crossSIw\").attr(\"transform\", \"translate(3 15)\");\n",
       "});\n",
       "</script>\n"
      ]
     },
     "metadata": {},
     "output_type": "display_data"
    },
    {
     "data": {
      "text/html": [
       "<script>\n",
       "require([\"d3\"], function(d3) {\n",
       "    d3.select(\".usersvg #pixel_crossSIw\").attr(\"transform\", \"translate(3 14)\");\n",
       "});\n",
       "</script>\n"
      ]
     },
     "metadata": {},
     "output_type": "display_data"
    },
    {
     "data": {
      "text/html": [
       "<script>\n",
       "require([\"d3\"], function(d3) {\n",
       "    d3.select(\".usersvg #pixel_crossSIw\").attr(\"transform\", \"translate(4 14)\");\n",
       "});\n",
       "</script>\n"
      ]
     },
     "metadata": {},
     "output_type": "display_data"
    },
    {
     "data": {
      "text/html": [
       "<script>\n",
       "require([\"d3\"], function(d3) {\n",
       "    d3.select(\".usersvg #pixel_crossSIw\").attr(\"transform\", \"translate(4 13)\");\n",
       "});\n",
       "</script>\n"
      ]
     },
     "metadata": {},
     "output_type": "display_data"
    },
    {
     "data": {
      "text/html": [
       "<script>\n",
       "require([\"d3\"], function(d3) {\n",
       "    d3.select(\".usersvg #pixel_crossSIw\").attr(\"transform\", \"translate(4 12)\");\n",
       "});\n",
       "</script>\n"
      ]
     },
     "metadata": {},
     "output_type": "display_data"
    },
    {
     "data": {
      "text/html": [
       "<script>\n",
       "require([\"d3\"], function(d3) {\n",
       "    d3.select(\".usersvg #pixel_crossSIw\").attr(\"transform\", \"translate(4 13)\");\n",
       "});\n",
       "</script>\n"
      ]
     },
     "metadata": {},
     "output_type": "display_data"
    },
    {
     "data": {
      "text/html": [
       "<script>\n",
       "require([\"d3\"], function(d3) {\n",
       "    d3.select(\".usersvg #pixel_crossSIw\").attr(\"transform\", \"translate(4 14)\");\n",
       "});\n",
       "</script>\n"
      ]
     },
     "metadata": {},
     "output_type": "display_data"
    },
    {
     "data": {
      "text/html": [
       "<script>\n",
       "require([\"d3\"], function(d3) {\n",
       "    d3.select(\".usersvg #pixel_crossSIw\").attr(\"transform\", \"translate(5 14)\");\n",
       "});\n",
       "</script>\n"
      ]
     },
     "metadata": {},
     "output_type": "display_data"
    },
    {
     "data": {
      "text/html": [
       "<script>\n",
       "require([\"d3\"], function(d3) {\n",
       "    d3.select(\".usersvg #pixel_crossSIw\").attr(\"transform\", \"translate(6 14)\");\n",
       "});\n",
       "</script>\n"
      ]
     },
     "metadata": {},
     "output_type": "display_data"
    },
    {
     "data": {
      "text/html": [
       "<script>\n",
       "require([\"d3\"], function(d3) {\n",
       "    d3.select(\".usersvg #pixel_crossSIw\").attr(\"transform\", \"translate(6 13)\");\n",
       "});\n",
       "</script>\n"
      ]
     },
     "metadata": {},
     "output_type": "display_data"
    },
    {
     "data": {
      "text/html": [
       "<script>\n",
       "require([\"d3\"], function(d3) {\n",
       "    d3.select(\".usersvg #pixel_crossSIw\").attr(\"transform\", \"translate(6 12)\");\n",
       "});\n",
       "</script>\n"
      ]
     },
     "metadata": {},
     "output_type": "display_data"
    },
    {
     "data": {
      "text/html": [
       "<script>\n",
       "require([\"d3\"], function(d3) {\n",
       "    d3.select(\".usersvg #pixel_crossSIw\").attr(\"transform\", \"translate(5 12)\");\n",
       "});\n",
       "</script>\n"
      ]
     },
     "metadata": {},
     "output_type": "display_data"
    },
    {
     "data": {
      "text/html": [
       "<script>\n",
       "require([\"d3\"], function(d3) {\n",
       "    d3.select(\".usersvg #pixel_crossSIw\").attr(\"transform\", \"translate(5 13)\");\n",
       "});\n",
       "</script>\n"
      ]
     },
     "metadata": {},
     "output_type": "display_data"
    },
    {
     "data": {
      "text/html": [
       "<script>\n",
       "require([\"d3\"], function(d3) {\n",
       "    d3.select(\".usersvg #pixel_crossSIw\").attr(\"transform\", \"translate(5 14)\");\n",
       "});\n",
       "</script>\n"
      ]
     },
     "metadata": {},
     "output_type": "display_data"
    },
    {
     "data": {
      "text/html": [
       "<script>\n",
       "require([\"d3\"], function(d3) {\n",
       "    d3.select(\".usersvg #pixel_crossSIw\").attr(\"transform\", \"translate(4 14)\");\n",
       "});\n",
       "</script>\n"
      ]
     },
     "metadata": {},
     "output_type": "display_data"
    },
    {
     "data": {
      "text/html": [
       "<script>\n",
       "require([\"d3\"], function(d3) {\n",
       "    d3.select(\".usersvg #pixel_crossSIw\").attr(\"transform\", \"translate(4 13)\");\n",
       "});\n",
       "</script>\n"
      ]
     },
     "metadata": {},
     "output_type": "display_data"
    },
    {
     "data": {
      "text/html": [
       "<script>\n",
       "require([\"d3\"], function(d3) {\n",
       "    d3.select(\".usersvg #pixel_crossSIw\").attr(\"transform\", \"translate(4 14)\");\n",
       "});\n",
       "</script>\n"
      ]
     },
     "metadata": {},
     "output_type": "display_data"
    },
    {
     "data": {
      "text/html": [
       "<script>\n",
       "require([\"d3\"], function(d3) {\n",
       "    d3.select(\".usersvg #pixel_crossSIw\").attr(\"transform\", \"translate(4 13)\");\n",
       "});\n",
       "</script>\n"
      ]
     },
     "metadata": {},
     "output_type": "display_data"
    },
    {
     "data": {
      "text/html": [
       "<script>\n",
       "require([\"d3\"], function(d3) {\n",
       "    d3.select(\".usersvg #pixel_crossSIw\").attr(\"transform\", \"translate(4 12)\");\n",
       "});\n",
       "</script>\n"
      ]
     },
     "metadata": {},
     "output_type": "display_data"
    },
    {
     "data": {
      "text/html": [
       "<script>\n",
       "require([\"d3\"], function(d3) {\n",
       "    d3.select(\".usersvg #pixel_crossSIw\").attr(\"transform\", \"translate(3 12)\");\n",
       "});\n",
       "</script>\n"
      ]
     },
     "metadata": {},
     "output_type": "display_data"
    },
    {
     "data": {
      "text/html": [
       "<script>\n",
       "require([\"d3\"], function(d3) {\n",
       "    d3.select(\".usersvg #pixel_crossSIw\").attr(\"transform\", \"translate(3 13)\");\n",
       "});\n",
       "</script>\n"
      ]
     },
     "metadata": {},
     "output_type": "display_data"
    },
    {
     "data": {
      "text/html": [
       "<script>\n",
       "require([\"d3\"], function(d3) {\n",
       "    d3.select(\".usersvg #pixel_crossSIw\").attr(\"transform\", \"translate(3 14)\");\n",
       "});\n",
       "</script>\n"
      ]
     },
     "metadata": {},
     "output_type": "display_data"
    },
    {
     "data": {
      "text/html": [
       "<script>\n",
       "require([\"d3\"], function(d3) {\n",
       "    d3.select(\".usersvg #pixel_crossSIw\").attr(\"transform\", \"translate(3 15)\");\n",
       "});\n",
       "</script>\n"
      ]
     },
     "metadata": {},
     "output_type": "display_data"
    },
    {
     "data": {
      "text/html": [
       "<script>\n",
       "require([\"d3\"], function(d3) {\n",
       "    d3.select(\".usersvg #pixel_crossSIw\").attr(\"transform\", \"translate(4 15)\");\n",
       "});\n",
       "</script>\n"
      ]
     },
     "metadata": {},
     "output_type": "display_data"
    },
    {
     "data": {
      "text/html": [
       "<script>\n",
       "require([\"d3\"], function(d3) {\n",
       "    d3.select(\".usersvg #pixel_crossSIw\").attr(\"transform\", \"translate(4 14)\");\n",
       "});\n",
       "</script>\n"
      ]
     },
     "metadata": {},
     "output_type": "display_data"
    },
    {
     "data": {
      "text/html": [
       "<script>\n",
       "require([\"d3\"], function(d3) {\n",
       "    d3.select(\".usersvg #pixel_crossSIw\").attr(\"transform\", \"translate(3 14)\");\n",
       "});\n",
       "</script>\n"
      ]
     },
     "metadata": {},
     "output_type": "display_data"
    },
    {
     "data": {
      "text/html": [
       "<script>\n",
       "require([\"d3\"], function(d3) {\n",
       "    d3.select(\".usersvg #pixel_crossSIw\").attr(\"transform\", \"translate(3 13)\");\n",
       "});\n",
       "</script>\n"
      ]
     },
     "metadata": {},
     "output_type": "display_data"
    },
    {
     "data": {
      "text/html": [
       "<script>\n",
       "require([\"d3\"], function(d3) {\n",
       "    d3.select(\".usersvg #pixel_crossSIw\").attr(\"transform\", \"translate(3 14)\");\n",
       "});\n",
       "</script>\n"
      ]
     },
     "metadata": {},
     "output_type": "display_data"
    },
    {
     "data": {
      "text/html": [
       "<script>\n",
       "require([\"d3\"], function(d3) {\n",
       "    d3.select(\".usersvg #pixel_crossSIw\").attr(\"transform\", \"translate(3 13)\");\n",
       "});\n",
       "</script>\n"
      ]
     },
     "metadata": {},
     "output_type": "display_data"
    },
    {
     "data": {
      "text/html": [
       "<script>\n",
       "require([\"d3\"], function(d3) {\n",
       "    d3.select(\".usersvg #pixel_crossSIw\").attr(\"transform\", \"translate(4 13)\");\n",
       "});\n",
       "</script>\n"
      ]
     },
     "metadata": {},
     "output_type": "display_data"
    },
    {
     "data": {
      "text/html": [
       "<script>\n",
       "require([\"d3\"], function(d3) {\n",
       "    d3.select(\".usersvg #pixel_crossSIw\").attr(\"transform\", \"translate(4 14)\");\n",
       "});\n",
       "</script>\n"
      ]
     },
     "metadata": {},
     "output_type": "display_data"
    },
    {
     "data": {
      "text/html": [
       "<script>\n",
       "require([\"d3\"], function(d3) {\n",
       "    d3.select(\".usersvg #pixel_crossSIw\").attr(\"transform\", \"translate(3 14)\");\n",
       "});\n",
       "</script>\n"
      ]
     },
     "metadata": {},
     "output_type": "display_data"
    },
    {
     "data": {
      "text/html": [
       "<script>\n",
       "require([\"d3\"], function(d3) {\n",
       "    d3.select(\".usersvg #pixel_crossSIw\").attr(\"transform\", \"translate(4 14)\");\n",
       "});\n",
       "</script>\n"
      ]
     },
     "metadata": {},
     "output_type": "display_data"
    },
    {
     "data": {
      "text/html": [
       "<script>\n",
       "require([\"d3\"], function(d3) {\n",
       "    d3.select(\".usersvg #pixel_crossSIw\").attr(\"transform\", \"translate(4 15)\");\n",
       "});\n",
       "</script>\n"
      ]
     },
     "metadata": {},
     "output_type": "display_data"
    },
    {
     "data": {
      "text/html": [
       "<script>\n",
       "require([\"d3\"], function(d3) {\n",
       "    d3.select(\".usersvg #pixel_crossSIw\").attr(\"transform\", \"translate(4 16)\");\n",
       "});\n",
       "</script>\n"
      ]
     },
     "metadata": {},
     "output_type": "display_data"
    },
    {
     "data": {
      "text/html": [
       "<script>\n",
       "require([\"d3\"], function(d3) {\n",
       "    d3.select(\".usersvg #pixel_crossSIw\").attr(\"transform\", \"translate(3 16)\");\n",
       "});\n",
       "</script>\n"
      ]
     },
     "metadata": {},
     "output_type": "display_data"
    },
    {
     "data": {
      "text/html": [
       "<script>\n",
       "require([\"d3\"], function(d3) {\n",
       "    d3.select(\".usersvg #pixel_crossSIw\").attr(\"transform\", \"translate(2 16)\");\n",
       "});\n",
       "</script>\n"
      ]
     },
     "metadata": {},
     "output_type": "display_data"
    },
    {
     "data": {
      "text/html": [
       "<script>\n",
       "require([\"d3\"], function(d3) {\n",
       "    d3.select(\".usersvg #pixel_crossSIw\").attr(\"transform\", \"translate(2 17)\");\n",
       "});\n",
       "</script>\n"
      ]
     },
     "metadata": {},
     "output_type": "display_data"
    },
    {
     "data": {
      "text/html": [
       "<script>\n",
       "require([\"d3\"], function(d3) {\n",
       "    d3.select(\".usersvg #pixel_crossSIw\").attr(\"transform\", \"translate(1 17)\");\n",
       "});\n",
       "</script>\n"
      ]
     },
     "metadata": {},
     "output_type": "display_data"
    },
    {
     "data": {
      "text/html": [
       "<script>\n",
       "require([\"d3\"], function(d3) {\n",
       "    d3.select(\".usersvg #pixel_crossSIw\").attr(\"transform\", \"translate(0 17)\");\n",
       "});\n",
       "</script>\n"
      ]
     },
     "metadata": {},
     "output_type": "display_data"
    },
    {
     "data": {
      "text/html": [
       "<script>\n",
       "require([\"d3\"], function(d3) {\n",
       "    d3.select(\".usersvg #pixel_crossSIw\").attr(\"transform\", \"translate(0 17)\");\n",
       "});\n",
       "</script>\n"
      ]
     },
     "metadata": {},
     "output_type": "display_data"
    },
    {
     "data": {
      "text/html": [
       "<script>\n",
       "require([\"d3\"], function(d3) {\n",
       "    d3.select(\".usersvg #pixel_crossSIw\").attr(\"transform\", \"translate(0 16)\");\n",
       "});\n",
       "</script>\n"
      ]
     },
     "metadata": {},
     "output_type": "display_data"
    },
    {
     "data": {
      "text/html": [
       "<script>\n",
       "require([\"d3\"], function(d3) {\n",
       "    d3.select(\".usersvg #pixel_crossSIw\").attr(\"transform\", \"translate(0 17)\");\n",
       "});\n",
       "</script>\n"
      ]
     },
     "metadata": {},
     "output_type": "display_data"
    },
    {
     "data": {
      "text/html": [
       "<script>\n",
       "require([\"d3\"], function(d3) {\n",
       "    d3.select(\".usersvg #pixel_crossSIw\").attr(\"transform\", \"translate(0 16)\");\n",
       "});\n",
       "</script>\n"
      ]
     },
     "metadata": {},
     "output_type": "display_data"
    },
    {
     "data": {
      "text/html": [
       "<script>\n",
       "require([\"d3\"], function(d3) {\n",
       "    d3.select(\".usersvg #pixel_crossSIw\").attr(\"transform\", \"translate(1 16)\");\n",
       "});\n",
       "</script>\n"
      ]
     },
     "metadata": {},
     "output_type": "display_data"
    },
    {
     "data": {
      "text/html": [
       "<script>\n",
       "require([\"d3\"], function(d3) {\n",
       "    d3.select(\".usersvg #pixel_crossSIw\").attr(\"transform\", \"translate(1 15)\");\n",
       "});\n",
       "</script>\n"
      ]
     },
     "metadata": {},
     "output_type": "display_data"
    },
    {
     "data": {
      "text/html": [
       "<script>\n",
       "require([\"d3\"], function(d3) {\n",
       "    d3.select(\".usersvg #pixel_crossSIw\").attr(\"transform\", \"translate(1 16)\");\n",
       "});\n",
       "</script>\n"
      ]
     },
     "metadata": {},
     "output_type": "display_data"
    },
    {
     "data": {
      "text/html": [
       "<script>\n",
       "require([\"d3\"], function(d3) {\n",
       "    d3.select(\".usersvg #pixel_crossSIw\").attr(\"transform\", \"translate(1 17)\");\n",
       "});\n",
       "</script>\n"
      ]
     },
     "metadata": {},
     "output_type": "display_data"
    },
    {
     "data": {
      "text/html": [
       "<script>\n",
       "require([\"d3\"], function(d3) {\n",
       "    d3.select(\".usersvg #pixel_crossSIw\").attr(\"transform\", \"translate(1 16)\");\n",
       "});\n",
       "</script>\n"
      ]
     },
     "metadata": {},
     "output_type": "display_data"
    },
    {
     "data": {
      "text/html": [
       "<script>\n",
       "require([\"d3\"], function(d3) {\n",
       "    d3.select(\".usersvg #pixel_crossSIw\").attr(\"transform\", \"translate(1 15)\");\n",
       "});\n",
       "</script>\n"
      ]
     },
     "metadata": {},
     "output_type": "display_data"
    },
    {
     "data": {
      "text/html": [
       "<script>\n",
       "require([\"d3\"], function(d3) {\n",
       "    d3.select(\".usersvg #pixel_crossSIw\").attr(\"transform\", \"translate(0 15)\");\n",
       "});\n",
       "</script>\n"
      ]
     },
     "metadata": {},
     "output_type": "display_data"
    },
    {
     "data": {
      "text/html": [
       "<script>\n",
       "require([\"d3\"], function(d3) {\n",
       "    d3.select(\".usersvg #pixel_crossSIw\").attr(\"transform\", \"translate(0 15)\");\n",
       "});\n",
       "</script>\n"
      ]
     },
     "metadata": {},
     "output_type": "display_data"
    },
    {
     "data": {
      "text/html": [
       "<script>\n",
       "require([\"d3\"], function(d3) {\n",
       "    d3.select(\".usersvg #pixel_crossSIw\").attr(\"transform\", \"translate(0 15)\");\n",
       "});\n",
       "</script>\n"
      ]
     },
     "metadata": {},
     "output_type": "display_data"
    },
    {
     "data": {
      "text/html": [
       "<script>\n",
       "require([\"d3\"], function(d3) {\n",
       "    d3.select(\".usersvg #pixel_crossSIw\").attr(\"transform\", \"translate(1 15)\");\n",
       "});\n",
       "</script>\n"
      ]
     },
     "metadata": {},
     "output_type": "display_data"
    },
    {
     "data": {
      "text/html": [
       "<script>\n",
       "require([\"d3\"], function(d3) {\n",
       "    d3.select(\".usersvg #pixel_crossSIw\").attr(\"transform\", \"translate(1 16)\");\n",
       "});\n",
       "</script>\n"
      ]
     },
     "metadata": {},
     "output_type": "display_data"
    },
    {
     "data": {
      "text/html": [
       "<script>\n",
       "require([\"d3\"], function(d3) {\n",
       "    d3.select(\".usersvg #pixel_crossSIw\").attr(\"transform\", \"translate(1 17)\");\n",
       "});\n",
       "</script>\n"
      ]
     },
     "metadata": {},
     "output_type": "display_data"
    },
    {
     "data": {
      "text/html": [
       "<script>\n",
       "require([\"d3\"], function(d3) {\n",
       "    d3.select(\".usersvg #pixel_crossSIw\").attr(\"transform\", \"translate(0 17)\");\n",
       "});\n",
       "</script>\n"
      ]
     },
     "metadata": {},
     "output_type": "display_data"
    },
    {
     "data": {
      "text/html": [
       "<script>\n",
       "require([\"d3\"], function(d3) {\n",
       "    d3.select(\".usersvg #pixel_crossSIw\").attr(\"transform\", \"translate(0 17)\");\n",
       "});\n",
       "</script>\n"
      ]
     },
     "metadata": {},
     "output_type": "display_data"
    },
    {
     "data": {
      "text/html": [
       "<script>\n",
       "require([\"d3\"], function(d3) {\n",
       "    d3.select(\".usersvg #pixel_crossSIw\").attr(\"transform\", \"translate(0 17)\");\n",
       "});\n",
       "</script>\n"
      ]
     },
     "metadata": {},
     "output_type": "display_data"
    },
    {
     "data": {
      "text/html": [
       "<script>\n",
       "require([\"d3\"], function(d3) {\n",
       "    d3.select(\".usersvg #pixel_crossSIw\").attr(\"transform\", \"translate(1 17)\");\n",
       "});\n",
       "</script>\n"
      ]
     },
     "metadata": {},
     "output_type": "display_data"
    },
    {
     "data": {
      "text/html": [
       "<script>\n",
       "require([\"d3\"], function(d3) {\n",
       "    d3.select(\".usersvg #pixel_crossSIw\").attr(\"transform\", \"translate(2 17)\");\n",
       "});\n",
       "</script>\n"
      ]
     },
     "metadata": {},
     "output_type": "display_data"
    },
    {
     "data": {
      "text/html": [
       "<script>\n",
       "require([\"d3\"], function(d3) {\n",
       "    d3.select(\".usersvg #pixel_crossSIw\").attr(\"transform\", \"translate(1 17)\");\n",
       "});\n",
       "</script>\n"
      ]
     },
     "metadata": {},
     "output_type": "display_data"
    },
    {
     "data": {
      "text/html": [
       "<script>\n",
       "require([\"d3\"], function(d3) {\n",
       "    d3.select(\".usersvg #pixel_crossSIw\").attr(\"transform\", \"translate(2 17)\");\n",
       "});\n",
       "</script>\n"
      ]
     },
     "metadata": {},
     "output_type": "display_data"
    },
    {
     "data": {
      "text/html": [
       "<script>\n",
       "require([\"d3\"], function(d3) {\n",
       "    d3.select(\".usersvg #pixel_crossSIw\").attr(\"transform\", \"translate(2 16)\");\n",
       "});\n",
       "</script>\n"
      ]
     },
     "metadata": {},
     "output_type": "display_data"
    },
    {
     "data": {
      "text/html": [
       "<script>\n",
       "require([\"d3\"], function(d3) {\n",
       "    d3.select(\".usersvg #pixel_crossSIw\").attr(\"transform\", \"translate(2 15)\");\n",
       "});\n",
       "</script>\n"
      ]
     },
     "metadata": {},
     "output_type": "display_data"
    },
    {
     "data": {
      "text/html": [
       "<script>\n",
       "require([\"d3\"], function(d3) {\n",
       "    d3.select(\".usersvg #pixel_crossSIw\").attr(\"transform\", \"translate(3 15)\");\n",
       "});\n",
       "</script>\n"
      ]
     },
     "metadata": {},
     "output_type": "display_data"
    },
    {
     "data": {
      "text/html": [
       "<script>\n",
       "require([\"d3\"], function(d3) {\n",
       "    d3.select(\".usersvg #pixel_crossSIw\").attr(\"transform\", \"translate(3 16)\");\n",
       "});\n",
       "</script>\n"
      ]
     },
     "metadata": {},
     "output_type": "display_data"
    },
    {
     "data": {
      "text/html": [
       "<script>\n",
       "require([\"d3\"], function(d3) {\n",
       "    d3.select(\".usersvg #pixel_crossSIw\").attr(\"transform\", \"translate(2 16)\");\n",
       "});\n",
       "</script>\n"
      ]
     },
     "metadata": {},
     "output_type": "display_data"
    },
    {
     "data": {
      "text/html": [
       "<script>\n",
       "require([\"d3\"], function(d3) {\n",
       "    d3.select(\".usersvg #pixel_crossSIw\").attr(\"transform\", \"translate(2 17)\");\n",
       "});\n",
       "</script>\n"
      ]
     },
     "metadata": {},
     "output_type": "display_data"
    },
    {
     "data": {
      "text/html": [
       "<script>\n",
       "require([\"d3\"], function(d3) {\n",
       "    d3.select(\".usersvg #pixel_crossSIw\").attr(\"transform\", \"translate(2 16)\");\n",
       "});\n",
       "</script>\n"
      ]
     },
     "metadata": {},
     "output_type": "display_data"
    },
    {
     "data": {
      "text/html": [
       "<script>\n",
       "require([\"d3\"], function(d3) {\n",
       "    d3.select(\".usersvg #pixel_crossSIw\").attr(\"transform\", \"translate(1 16)\");\n",
       "});\n",
       "</script>\n"
      ]
     },
     "metadata": {},
     "output_type": "display_data"
    },
    {
     "data": {
      "text/html": [
       "<script>\n",
       "require([\"d3\"], function(d3) {\n",
       "    d3.select(\".usersvg #pixel_crossSIw\").attr(\"transform\", \"translate(1 15)\");\n",
       "});\n",
       "</script>\n"
      ]
     },
     "metadata": {},
     "output_type": "display_data"
    },
    {
     "data": {
      "text/html": [
       "<script>\n",
       "require([\"d3\"], function(d3) {\n",
       "    d3.select(\".usersvg #pixel_crossSIw\").attr(\"transform\", \"translate(2 15)\");\n",
       "});\n",
       "</script>\n"
      ]
     },
     "metadata": {},
     "output_type": "display_data"
    },
    {
     "data": {
      "text/html": [
       "<script>\n",
       "require([\"d3\"], function(d3) {\n",
       "    d3.select(\".usersvg #pixel_crossSIw\").attr(\"transform\", \"translate(3 15)\");\n",
       "});\n",
       "</script>\n"
      ]
     },
     "metadata": {},
     "output_type": "display_data"
    },
    {
     "data": {
      "text/html": [
       "<script>\n",
       "require([\"d3\"], function(d3) {\n",
       "    d3.select(\".usersvg #pixel_crossSIw\").attr(\"transform\", \"translate(2 15)\");\n",
       "});\n",
       "</script>\n"
      ]
     },
     "metadata": {},
     "output_type": "display_data"
    },
    {
     "data": {
      "text/html": [
       "<script>\n",
       "require([\"d3\"], function(d3) {\n",
       "    d3.select(\".usersvg #pixel_crossSIw\").attr(\"transform\", \"translate(3 15)\");\n",
       "});\n",
       "</script>\n"
      ]
     },
     "metadata": {},
     "output_type": "display_data"
    },
    {
     "data": {
      "text/html": [
       "<script>\n",
       "require([\"d3\"], function(d3) {\n",
       "    d3.select(\".usersvg #pixel_crossSIw\").attr(\"transform\", \"translate(4 15)\");\n",
       "});\n",
       "</script>\n"
      ]
     },
     "metadata": {},
     "output_type": "display_data"
    },
    {
     "data": {
      "text/html": [
       "<script>\n",
       "require([\"d3\"], function(d3) {\n",
       "    d3.select(\".usersvg #pixel_crossSIw\").attr(\"transform\", \"translate(4 14)\");\n",
       "});\n",
       "</script>\n"
      ]
     },
     "metadata": {},
     "output_type": "display_data"
    },
    {
     "data": {
      "text/html": [
       "<script>\n",
       "require([\"d3\"], function(d3) {\n",
       "    d3.select(\".usersvg #pixel_crossSIw\").attr(\"transform\", \"translate(4 15)\");\n",
       "});\n",
       "</script>\n"
      ]
     },
     "metadata": {},
     "output_type": "display_data"
    },
    {
     "data": {
      "text/html": [
       "<script>\n",
       "require([\"d3\"], function(d3) {\n",
       "    d3.select(\".usersvg #pixel_crossSIw\").attr(\"transform\", \"translate(3 15)\");\n",
       "});\n",
       "</script>\n"
      ]
     },
     "metadata": {},
     "output_type": "display_data"
    },
    {
     "data": {
      "text/html": [
       "<script>\n",
       "require([\"d3\"], function(d3) {\n",
       "    d3.select(\".usersvg #pixel_crossSIw\").attr(\"transform\", \"translate(3 16)\");\n",
       "});\n",
       "</script>\n"
      ]
     },
     "metadata": {},
     "output_type": "display_data"
    },
    {
     "data": {
      "text/html": [
       "<script>\n",
       "require([\"d3\"], function(d3) {\n",
       "    d3.select(\".usersvg #pixel_crossSIw\").attr(\"transform\", \"translate(3 15)\");\n",
       "});\n",
       "</script>\n"
      ]
     },
     "metadata": {},
     "output_type": "display_data"
    },
    {
     "data": {
      "text/html": [
       "<script>\n",
       "require([\"d3\"], function(d3) {\n",
       "    d3.select(\".usersvg #pixel_crossSIw\").attr(\"transform\", \"translate(4 15)\");\n",
       "});\n",
       "</script>\n"
      ]
     },
     "metadata": {},
     "output_type": "display_data"
    },
    {
     "data": {
      "text/html": [
       "<script>\n",
       "require([\"d3\"], function(d3) {\n",
       "    d3.select(\".usersvg #pixel_crossSIw\").attr(\"transform\", \"translate(4 16)\");\n",
       "});\n",
       "</script>\n"
      ]
     },
     "metadata": {},
     "output_type": "display_data"
    },
    {
     "data": {
      "text/html": [
       "<script>\n",
       "require([\"d3\"], function(d3) {\n",
       "    d3.select(\".usersvg #pixel_crossSIw\").attr(\"transform\", \"translate(4 15)\");\n",
       "});\n",
       "</script>\n"
      ]
     },
     "metadata": {},
     "output_type": "display_data"
    },
    {
     "data": {
      "text/html": [
       "<script>\n",
       "require([\"d3\"], function(d3) {\n",
       "    d3.select(\".usersvg #pixel_crossSIw\").attr(\"transform\", \"translate(3 15)\");\n",
       "});\n",
       "</script>\n"
      ]
     },
     "metadata": {},
     "output_type": "display_data"
    },
    {
     "data": {
      "text/html": [
       "<script>\n",
       "require([\"d3\"], function(d3) {\n",
       "    d3.select(\".usersvg #pixel_crossSIw\").attr(\"transform\", \"translate(3 16)\");\n",
       "});\n",
       "</script>\n"
      ]
     },
     "metadata": {},
     "output_type": "display_data"
    },
    {
     "data": {
      "text/html": [
       "<script>\n",
       "require([\"d3\"], function(d3) {\n",
       "    d3.select(\".usersvg #pixel_crossSIw\").attr(\"transform\", \"translate(3 17)\");\n",
       "});\n",
       "</script>\n"
      ]
     },
     "metadata": {},
     "output_type": "display_data"
    },
    {
     "data": {
      "text/html": [
       "<script>\n",
       "require([\"d3\"], function(d3) {\n",
       "    d3.select(\".usersvg #pixel_crossSIw\").attr(\"transform\", \"translate(3 16)\");\n",
       "});\n",
       "</script>\n"
      ]
     },
     "metadata": {},
     "output_type": "display_data"
    },
    {
     "data": {
      "text/html": [
       "<script>\n",
       "require([\"d3\"], function(d3) {\n",
       "    d3.select(\".usersvg #pixel_crossSIw\").attr(\"transform\", \"translate(4 16)\");\n",
       "});\n",
       "</script>\n"
      ]
     },
     "metadata": {},
     "output_type": "display_data"
    },
    {
     "data": {
      "text/html": [
       "<script>\n",
       "require([\"d3\"], function(d3) {\n",
       "    d3.select(\".usersvg #pixel_crossSIw\").attr(\"transform\", \"translate(5 16)\");\n",
       "});\n",
       "</script>\n"
      ]
     },
     "metadata": {},
     "output_type": "display_data"
    },
    {
     "data": {
      "text/html": [
       "<script>\n",
       "require([\"d3\"], function(d3) {\n",
       "    d3.select(\".usersvg #pixel_crossSIw\").attr(\"transform\", \"translate(5 17)\");\n",
       "});\n",
       "</script>\n"
      ]
     },
     "metadata": {},
     "output_type": "display_data"
    },
    {
     "data": {
      "text/html": [
       "<script>\n",
       "require([\"d3\"], function(d3) {\n",
       "    d3.select(\".usersvg #pixel_crossSIw\").attr(\"transform\", \"translate(6 17)\");\n",
       "});\n",
       "</script>\n"
      ]
     },
     "metadata": {},
     "output_type": "display_data"
    },
    {
     "data": {
      "text/html": [
       "<script>\n",
       "require([\"d3\"], function(d3) {\n",
       "    d3.select(\".usersvg #pixel_crossSIw\").attr(\"transform\", \"translate(6 16)\");\n",
       "});\n",
       "</script>\n"
      ]
     },
     "metadata": {},
     "output_type": "display_data"
    },
    {
     "data": {
      "text/html": [
       "<script>\n",
       "require([\"d3\"], function(d3) {\n",
       "    d3.select(\".usersvg #pixel_crossSIw\").attr(\"transform\", \"translate(5 16)\");\n",
       "});\n",
       "</script>\n"
      ]
     },
     "metadata": {},
     "output_type": "display_data"
    },
    {
     "data": {
      "text/html": [
       "<script>\n",
       "require([\"d3\"], function(d3) {\n",
       "    d3.select(\".usersvg #pixel_crossSIw\").attr(\"transform\", \"translate(6 16)\");\n",
       "});\n",
       "</script>\n"
      ]
     },
     "metadata": {},
     "output_type": "display_data"
    },
    {
     "data": {
      "text/html": [
       "<script>\n",
       "require([\"d3\"], function(d3) {\n",
       "    d3.select(\".usersvg #pixel_crossSIw\").attr(\"transform\", \"translate(6 17)\");\n",
       "});\n",
       "</script>\n"
      ]
     },
     "metadata": {},
     "output_type": "display_data"
    },
    {
     "data": {
      "text/html": [
       "<script>\n",
       "require([\"d3\"], function(d3) {\n",
       "    d3.select(\".usersvg #pixel_crossSIw\").attr(\"transform\", \"translate(7 17)\");\n",
       "});\n",
       "</script>\n"
      ]
     },
     "metadata": {},
     "output_type": "display_data"
    },
    {
     "data": {
      "text/html": [
       "<script>\n",
       "require([\"d3\"], function(d3) {\n",
       "    d3.select(\".usersvg #pixel_crossSIw\").attr(\"transform\", \"translate(7 17)\");\n",
       "});\n",
       "</script>\n"
      ]
     },
     "metadata": {},
     "output_type": "display_data"
    },
    {
     "data": {
      "text/html": [
       "<script>\n",
       "require([\"d3\"], function(d3) {\n",
       "    d3.select(\".usersvg #pixel_crossSIw\").attr(\"transform\", \"translate(8 17)\");\n",
       "});\n",
       "</script>\n"
      ]
     },
     "metadata": {},
     "output_type": "display_data"
    },
    {
     "data": {
      "text/html": [
       "<script>\n",
       "require([\"d3\"], function(d3) {\n",
       "    d3.select(\".usersvg #pixel_crossSIw\").attr(\"transform\", \"translate(8 17)\");\n",
       "});\n",
       "</script>\n"
      ]
     },
     "metadata": {},
     "output_type": "display_data"
    },
    {
     "data": {
      "text/html": [
       "<script>\n",
       "require([\"d3\"], function(d3) {\n",
       "    d3.select(\".usersvg #pixel_crossSIw\").attr(\"transform\", \"translate(9 17)\");\n",
       "});\n",
       "</script>\n"
      ]
     },
     "metadata": {},
     "output_type": "display_data"
    },
    {
     "data": {
      "text/html": [
       "<script>\n",
       "require([\"d3\"], function(d3) {\n",
       "    d3.select(\".usersvg #pixel_crossSIw\").attr(\"transform\", \"translate(9 17)\");\n",
       "});\n",
       "</script>\n"
      ]
     },
     "metadata": {},
     "output_type": "display_data"
    },
    {
     "data": {
      "text/html": [
       "<script>\n",
       "require([\"d3\"], function(d3) {\n",
       "    d3.select(\".usersvg #pixel_crossSIw\").attr(\"transform\", \"translate(10 17)\");\n",
       "});\n",
       "</script>\n"
      ]
     },
     "metadata": {},
     "output_type": "display_data"
    },
    {
     "data": {
      "text/html": [
       "<script>\n",
       "require([\"d3\"], function(d3) {\n",
       "    d3.select(\".usersvg #pixel_crossSIw\").attr(\"transform\", \"translate(9 17)\");\n",
       "});\n",
       "</script>\n"
      ]
     },
     "metadata": {},
     "output_type": "display_data"
    },
    {
     "data": {
      "text/html": [
       "<script>\n",
       "require([\"d3\"], function(d3) {\n",
       "    d3.select(\".usersvg #pixel_crossSIw\").attr(\"transform\", \"translate(9 17)\");\n",
       "});\n",
       "</script>\n"
      ]
     },
     "metadata": {},
     "output_type": "display_data"
    },
    {
     "data": {
      "text/html": [
       "<script>\n",
       "require([\"d3\"], function(d3) {\n",
       "    d3.select(\".usersvg #pixel_crossSIw\").attr(\"transform\", \"translate(10 17)\");\n",
       "});\n",
       "</script>\n"
      ]
     },
     "metadata": {},
     "output_type": "display_data"
    },
    {
     "data": {
      "text/html": [
       "<script>\n",
       "require([\"d3\"], function(d3) {\n",
       "    d3.select(\".usersvg #pixel_crossSIw\").attr(\"transform\", \"translate(10 16)\");\n",
       "});\n",
       "</script>\n"
      ]
     },
     "metadata": {},
     "output_type": "display_data"
    },
    {
     "data": {
      "text/html": [
       "<script>\n",
       "require([\"d3\"], function(d3) {\n",
       "    d3.select(\".usersvg #pixel_crossSIw\").attr(\"transform\", \"translate(10 15)\");\n",
       "});\n",
       "</script>\n"
      ]
     },
     "metadata": {},
     "output_type": "display_data"
    },
    {
     "data": {
      "text/html": [
       "<script>\n",
       "require([\"d3\"], function(d3) {\n",
       "    d3.select(\".usersvg #pixel_crossSIw\").attr(\"transform\", \"translate(10 16)\");\n",
       "});\n",
       "</script>\n"
      ]
     },
     "metadata": {},
     "output_type": "display_data"
    },
    {
     "data": {
      "text/html": [
       "<script>\n",
       "require([\"d3\"], function(d3) {\n",
       "    d3.select(\".usersvg #pixel_crossSIw\").attr(\"transform\", \"translate(11 16)\");\n",
       "});\n",
       "</script>\n"
      ]
     },
     "metadata": {},
     "output_type": "display_data"
    },
    {
     "data": {
      "text/html": [
       "<script>\n",
       "require([\"d3\"], function(d3) {\n",
       "    d3.select(\".usersvg #pixel_crossSIw\").attr(\"transform\", \"translate(12 16)\");\n",
       "});\n",
       "</script>\n"
      ]
     },
     "metadata": {},
     "output_type": "display_data"
    },
    {
     "data": {
      "text/html": [
       "<script>\n",
       "require([\"d3\"], function(d3) {\n",
       "    d3.select(\".usersvg #pixel_crossSIw\").attr(\"transform\", \"translate(11 16)\");\n",
       "});\n",
       "</script>\n"
      ]
     },
     "metadata": {},
     "output_type": "display_data"
    },
    {
     "data": {
      "text/html": [
       "<script>\n",
       "require([\"d3\"], function(d3) {\n",
       "    d3.select(\".usersvg #pixel_crossSIw\").attr(\"transform\", \"translate(11 15)\");\n",
       "});\n",
       "</script>\n"
      ]
     },
     "metadata": {},
     "output_type": "display_data"
    },
    {
     "data": {
      "text/html": [
       "<script>\n",
       "require([\"d3\"], function(d3) {\n",
       "    d3.select(\".usersvg #pixel_crossSIw\").attr(\"transform\", \"translate(11 14)\");\n",
       "});\n",
       "</script>\n"
      ]
     },
     "metadata": {},
     "output_type": "display_data"
    },
    {
     "data": {
      "text/html": [
       "<script>\n",
       "require([\"d3\"], function(d3) {\n",
       "    d3.select(\".usersvg #pixel_crossSIw\").attr(\"transform\", \"translate(11 13)\");\n",
       "});\n",
       "</script>\n"
      ]
     },
     "metadata": {},
     "output_type": "display_data"
    },
    {
     "data": {
      "text/html": [
       "<script>\n",
       "require([\"d3\"], function(d3) {\n",
       "    d3.select(\".usersvg #pixel_crossSIw\").attr(\"transform\", \"translate(12 13)\");\n",
       "});\n",
       "</script>\n"
      ]
     },
     "metadata": {},
     "output_type": "display_data"
    },
    {
     "data": {
      "text/html": [
       "<script>\n",
       "require([\"d3\"], function(d3) {\n",
       "    d3.select(\".usersvg #pixel_crossSIw\").attr(\"transform\", \"translate(12 14)\");\n",
       "});\n",
       "</script>\n"
      ]
     },
     "metadata": {},
     "output_type": "display_data"
    },
    {
     "data": {
      "text/html": [
       "<script>\n",
       "require([\"d3\"], function(d3) {\n",
       "    d3.select(\".usersvg #pixel_crossSIw\").attr(\"transform\", \"translate(12 15)\");\n",
       "});\n",
       "</script>\n"
      ]
     },
     "metadata": {},
     "output_type": "display_data"
    },
    {
     "data": {
      "text/html": [
       "<script>\n",
       "require([\"d3\"], function(d3) {\n",
       "    d3.select(\".usersvg #pixel_crossSIw\").attr(\"transform\", \"translate(13 15)\");\n",
       "});\n",
       "</script>\n"
      ]
     },
     "metadata": {},
     "output_type": "display_data"
    },
    {
     "data": {
      "text/html": [
       "<script>\n",
       "require([\"d3\"], function(d3) {\n",
       "    d3.select(\".usersvg #pixel_crossSIw\").attr(\"transform\", \"translate(13 16)\");\n",
       "});\n",
       "</script>\n"
      ]
     },
     "metadata": {},
     "output_type": "display_data"
    },
    {
     "data": {
      "text/html": [
       "<script>\n",
       "require([\"d3\"], function(d3) {\n",
       "    d3.select(\".usersvg #pixel_crossSIw\").attr(\"transform\", \"translate(13 15)\");\n",
       "});\n",
       "</script>\n"
      ]
     },
     "metadata": {},
     "output_type": "display_data"
    },
    {
     "data": {
      "text/html": [
       "<script>\n",
       "require([\"d3\"], function(d3) {\n",
       "    d3.select(\".usersvg #pixel_crossSIw\").attr(\"transform\", \"translate(12 15)\");\n",
       "});\n",
       "</script>\n"
      ]
     },
     "metadata": {},
     "output_type": "display_data"
    },
    {
     "data": {
      "text/html": [
       "<script>\n",
       "require([\"d3\"], function(d3) {\n",
       "    d3.select(\".usersvg #pixel_crossSIw\").attr(\"transform\", \"translate(12 14)\");\n",
       "});\n",
       "</script>\n"
      ]
     },
     "metadata": {},
     "output_type": "display_data"
    },
    {
     "data": {
      "text/html": [
       "<script>\n",
       "require([\"d3\"], function(d3) {\n",
       "    d3.select(\".usersvg #pixel_crossSIw\").attr(\"transform\", \"translate(12 13)\");\n",
       "});\n",
       "</script>\n"
      ]
     },
     "metadata": {},
     "output_type": "display_data"
    },
    {
     "data": {
      "text/html": [
       "<script>\n",
       "require([\"d3\"], function(d3) {\n",
       "    d3.select(\".usersvg #pixel_crossSIw\").attr(\"transform\", \"translate(12 12)\");\n",
       "});\n",
       "</script>\n"
      ]
     },
     "metadata": {},
     "output_type": "display_data"
    },
    {
     "data": {
      "text/html": [
       "<script>\n",
       "require([\"d3\"], function(d3) {\n",
       "    d3.select(\".usersvg #pixel_crossSIw\").attr(\"transform\", \"translate(12 11)\");\n",
       "});\n",
       "</script>\n"
      ]
     },
     "metadata": {},
     "output_type": "display_data"
    },
    {
     "data": {
      "text/html": [
       "<script>\n",
       "require([\"d3\"], function(d3) {\n",
       "    d3.select(\".usersvg #pixel_crossSIw\").attr(\"transform\", \"translate(12 10)\");\n",
       "});\n",
       "</script>\n"
      ]
     },
     "metadata": {},
     "output_type": "display_data"
    },
    {
     "data": {
      "text/html": [
       "<script>\n",
       "require([\"d3\"], function(d3) {\n",
       "    d3.select(\".usersvg #pixel_crossSIw\").attr(\"transform\", \"translate(12 9)\");\n",
       "});\n",
       "</script>\n"
      ]
     },
     "metadata": {},
     "output_type": "display_data"
    },
    {
     "data": {
      "text/html": [
       "<script>\n",
       "require([\"d3\"], function(d3) {\n",
       "    d3.select(\".usersvg #pixel_crossSIw\").attr(\"transform\", \"translate(12 10)\");\n",
       "});\n",
       "</script>\n"
      ]
     },
     "metadata": {},
     "output_type": "display_data"
    },
    {
     "data": {
      "text/html": [
       "<script>\n",
       "require([\"d3\"], function(d3) {\n",
       "    d3.select(\".usersvg #pixel_crossSIw\").attr(\"transform\", \"translate(13 10)\");\n",
       "});\n",
       "</script>\n"
      ]
     },
     "metadata": {},
     "output_type": "display_data"
    },
    {
     "data": {
      "text/html": [
       "<script>\n",
       "require([\"d3\"], function(d3) {\n",
       "    d3.select(\".usersvg #pixel_crossSIw\").attr(\"transform\", \"translate(13 9)\");\n",
       "});\n",
       "</script>\n"
      ]
     },
     "metadata": {},
     "output_type": "display_data"
    },
    {
     "data": {
      "text/html": [
       "<script>\n",
       "require([\"d3\"], function(d3) {\n",
       "    d3.select(\".usersvg #pixel_crossSIw\").attr(\"transform\", \"translate(13 10)\");\n",
       "});\n",
       "</script>\n"
      ]
     },
     "metadata": {},
     "output_type": "display_data"
    },
    {
     "data": {
      "text/html": [
       "<script>\n",
       "require([\"d3\"], function(d3) {\n",
       "    d3.select(\".usersvg #pixel_crossSIw\").attr(\"transform\", \"translate(14 10)\");\n",
       "});\n",
       "</script>\n"
      ]
     },
     "metadata": {},
     "output_type": "display_data"
    },
    {
     "data": {
      "text/html": [
       "<script>\n",
       "require([\"d3\"], function(d3) {\n",
       "    d3.select(\".usersvg #pixel_crossSIw\").attr(\"transform\", \"translate(15 10)\");\n",
       "});\n",
       "</script>\n"
      ]
     },
     "metadata": {},
     "output_type": "display_data"
    },
    {
     "data": {
      "text/html": [
       "<script>\n",
       "require([\"d3\"], function(d3) {\n",
       "    d3.select(\".usersvg #pixel_crossSIw\").attr(\"transform\", \"translate(14 10)\");\n",
       "});\n",
       "</script>\n"
      ]
     },
     "metadata": {},
     "output_type": "display_data"
    },
    {
     "data": {
      "text/html": [
       "<script>\n",
       "require([\"d3\"], function(d3) {\n",
       "    d3.select(\".usersvg #pixel_crossSIw\").attr(\"transform\", \"translate(15 10)\");\n",
       "});\n",
       "</script>\n"
      ]
     },
     "metadata": {},
     "output_type": "display_data"
    },
    {
     "data": {
      "text/html": [
       "<script>\n",
       "require([\"d3\"], function(d3) {\n",
       "    d3.select(\".usersvg #pixel_crossSIw\").attr(\"transform\", \"translate(15 9)\");\n",
       "});\n",
       "</script>\n"
      ]
     },
     "metadata": {},
     "output_type": "display_data"
    },
    {
     "data": {
      "text/html": [
       "<script>\n",
       "require([\"d3\"], function(d3) {\n",
       "    d3.select(\".usersvg #pixel_crossSIw\").attr(\"transform\", \"translate(15 8)\");\n",
       "});\n",
       "</script>\n"
      ]
     },
     "metadata": {},
     "output_type": "display_data"
    },
    {
     "data": {
      "text/html": [
       "<script>\n",
       "require([\"d3\"], function(d3) {\n",
       "    d3.select(\".usersvg #pixel_crossSIw\").attr(\"transform\", \"translate(16 8)\");\n",
       "});\n",
       "</script>\n"
      ]
     },
     "metadata": {},
     "output_type": "display_data"
    },
    {
     "data": {
      "text/html": [
       "<script>\n",
       "require([\"d3\"], function(d3) {\n",
       "    d3.select(\".usersvg #pixel_crossSIw\").attr(\"transform\", \"translate(16 9)\");\n",
       "});\n",
       "</script>\n"
      ]
     },
     "metadata": {},
     "output_type": "display_data"
    },
    {
     "data": {
      "text/html": [
       "<script>\n",
       "require([\"d3\"], function(d3) {\n",
       "    d3.select(\".usersvg #pixel_crossSIw\").attr(\"transform\", \"translate(15 9)\");\n",
       "});\n",
       "</script>\n"
      ]
     },
     "metadata": {},
     "output_type": "display_data"
    },
    {
     "data": {
      "text/html": [
       "<script>\n",
       "require([\"d3\"], function(d3) {\n",
       "    d3.select(\".usersvg #pixel_crossSIw\").attr(\"transform\", \"translate(14 9)\");\n",
       "});\n",
       "</script>\n"
      ]
     },
     "metadata": {},
     "output_type": "display_data"
    },
    {
     "data": {
      "text/html": [
       "<script>\n",
       "require([\"d3\"], function(d3) {\n",
       "    d3.select(\".usersvg #pixel_crossSIw\").attr(\"transform\", \"translate(14 8)\");\n",
       "});\n",
       "</script>\n"
      ]
     },
     "metadata": {},
     "output_type": "display_data"
    },
    {
     "data": {
      "text/html": [
       "<script>\n",
       "require([\"d3\"], function(d3) {\n",
       "    d3.select(\".usersvg #pixel_crossSIw\").attr(\"transform\", \"translate(14 7)\");\n",
       "});\n",
       "</script>\n"
      ]
     },
     "metadata": {},
     "output_type": "display_data"
    },
    {
     "data": {
      "text/html": [
       "<script>\n",
       "require([\"d3\"], function(d3) {\n",
       "    d3.select(\".usersvg #pixel_crossSIw\").attr(\"transform\", \"translate(15 7)\");\n",
       "});\n",
       "</script>\n"
      ]
     },
     "metadata": {},
     "output_type": "display_data"
    },
    {
     "data": {
      "text/html": [
       "<script>\n",
       "require([\"d3\"], function(d3) {\n",
       "    d3.select(\".usersvg #pixel_crossSIw\").attr(\"transform\", \"translate(16 7)\");\n",
       "});\n",
       "</script>\n"
      ]
     },
     "metadata": {},
     "output_type": "display_data"
    },
    {
     "data": {
      "text/html": [
       "<script>\n",
       "require([\"d3\"], function(d3) {\n",
       "    d3.select(\".usersvg #pixel_crossSIw\").attr(\"transform\", \"translate(16 6)\");\n",
       "});\n",
       "</script>\n"
      ]
     },
     "metadata": {},
     "output_type": "display_data"
    },
    {
     "data": {
      "text/html": [
       "<script>\n",
       "require([\"d3\"], function(d3) {\n",
       "    d3.select(\".usersvg #pixel_crossSIw\").attr(\"transform\", \"translate(16 5)\");\n",
       "});\n",
       "</script>\n"
      ]
     },
     "metadata": {},
     "output_type": "display_data"
    },
    {
     "data": {
      "text/html": [
       "<script>\n",
       "require([\"d3\"], function(d3) {\n",
       "    d3.select(\".usersvg #pixel_crossSIw\").attr(\"transform\", \"translate(16 6)\");\n",
       "});\n",
       "</script>\n"
      ]
     },
     "metadata": {},
     "output_type": "display_data"
    },
    {
     "data": {
      "text/html": [
       "<script>\n",
       "require([\"d3\"], function(d3) {\n",
       "    d3.select(\".usersvg #pixel_crossSIw\").attr(\"transform\", \"translate(17 6)\");\n",
       "});\n",
       "</script>\n"
      ]
     },
     "metadata": {},
     "output_type": "display_data"
    },
    {
     "data": {
      "text/html": [
       "<script>\n",
       "require([\"d3\"], function(d3) {\n",
       "    d3.select(\".usersvg #pixel_crossSIw\").attr(\"transform\", \"translate(16 6)\");\n",
       "});\n",
       "</script>\n"
      ]
     },
     "metadata": {},
     "output_type": "display_data"
    },
    {
     "data": {
      "text/html": [
       "<script>\n",
       "require([\"d3\"], function(d3) {\n",
       "    d3.select(\".usersvg #pixel_crossSIw\").attr(\"transform\", \"translate(17 6)\");\n",
       "});\n",
       "</script>\n"
      ]
     },
     "metadata": {},
     "output_type": "display_data"
    },
    {
     "data": {
      "text/html": [
       "<script>\n",
       "require([\"d3\"], function(d3) {\n",
       "    d3.select(\".usersvg #pixel_crossSIw\").attr(\"transform\", \"translate(18 6)\");\n",
       "});\n",
       "</script>\n"
      ]
     },
     "metadata": {},
     "output_type": "display_data"
    },
    {
     "data": {
      "text/html": [
       "<script>\n",
       "require([\"d3\"], function(d3) {\n",
       "    d3.select(\".usersvg #pixel_crossSIw\").attr(\"transform\", \"translate(19 6)\");\n",
       "});\n",
       "</script>\n"
      ]
     },
     "metadata": {},
     "output_type": "display_data"
    },
    {
     "data": {
      "text/html": [
       "<script>\n",
       "require([\"d3\"], function(d3) {\n",
       "    d3.select(\".usersvg #pixel_crossSIw\").attr(\"transform\", \"translate(20 6)\");\n",
       "});\n",
       "</script>\n"
      ]
     },
     "metadata": {},
     "output_type": "display_data"
    },
    {
     "data": {
      "text/html": [
       "<script>\n",
       "require([\"d3\"], function(d3) {\n",
       "    d3.select(\".usersvg #pixel_crossSIw\").attr(\"transform\", \"translate(21 6)\");\n",
       "});\n",
       "</script>\n"
      ]
     },
     "metadata": {},
     "output_type": "display_data"
    },
    {
     "data": {
      "text/html": [
       "<script>\n",
       "require([\"d3\"], function(d3) {\n",
       "    d3.select(\".usersvg #pixel_crossSIw\").attr(\"transform\", \"translate(22 6)\");\n",
       "});\n",
       "</script>\n"
      ]
     },
     "metadata": {},
     "output_type": "display_data"
    },
    {
     "data": {
      "text/html": [
       "<script>\n",
       "require([\"d3\"], function(d3) {\n",
       "    d3.select(\".usersvg #pixel_crossSIw\").attr(\"transform\", \"translate(21 6)\");\n",
       "});\n",
       "</script>\n"
      ]
     },
     "metadata": {},
     "output_type": "display_data"
    },
    {
     "data": {
      "text/html": [
       "<script>\n",
       "require([\"d3\"], function(d3) {\n",
       "    d3.select(\".usersvg #pixel_crossSIw\").attr(\"transform\", \"translate(22 6)\");\n",
       "});\n",
       "</script>\n"
      ]
     },
     "metadata": {},
     "output_type": "display_data"
    },
    {
     "data": {
      "text/html": [
       "<script>\n",
       "require([\"d3\"], function(d3) {\n",
       "    d3.select(\".usersvg #pixel_crossSIw\").attr(\"transform\", \"translate(23 6)\");\n",
       "});\n",
       "</script>\n"
      ]
     },
     "metadata": {},
     "output_type": "display_data"
    },
    {
     "data": {
      "text/html": [
       "<script>\n",
       "require([\"d3\"], function(d3) {\n",
       "    d3.select(\".usersvg #pixel_crossSIw\").attr(\"transform\", \"translate(24 6)\");\n",
       "});\n",
       "</script>\n"
      ]
     },
     "metadata": {},
     "output_type": "display_data"
    },
    {
     "data": {
      "text/html": [
       "<script>\n",
       "require([\"d3\"], function(d3) {\n",
       "    d3.select(\".usersvg #pixel_crossSIw\").attr(\"transform\", \"translate(23 6)\");\n",
       "});\n",
       "</script>\n"
      ]
     },
     "metadata": {},
     "output_type": "display_data"
    },
    {
     "data": {
      "text/html": [
       "<script>\n",
       "require([\"d3\"], function(d3) {\n",
       "    d3.select(\".usersvg #pixel_crossSIw\").attr(\"transform\", \"translate(22 6)\");\n",
       "});\n",
       "</script>\n"
      ]
     },
     "metadata": {},
     "output_type": "display_data"
    },
    {
     "data": {
      "text/html": [
       "<script>\n",
       "require([\"d3\"], function(d3) {\n",
       "    d3.select(\".usersvg #pixel_crossSIw\").attr(\"transform\", \"translate(22 5)\");\n",
       "});\n",
       "</script>\n"
      ]
     },
     "metadata": {},
     "output_type": "display_data"
    },
    {
     "data": {
      "text/html": [
       "<script>\n",
       "require([\"d3\"], function(d3) {\n",
       "    d3.select(\".usersvg #pixel_crossSIw\").attr(\"transform\", \"translate(21 5)\");\n",
       "});\n",
       "</script>\n"
      ]
     },
     "metadata": {},
     "output_type": "display_data"
    },
    {
     "data": {
      "text/html": [
       "<script>\n",
       "require([\"d3\"], function(d3) {\n",
       "    d3.select(\".usersvg #pixel_crossSIw\").attr(\"transform\", \"translate(22 5)\");\n",
       "});\n",
       "</script>\n"
      ]
     },
     "metadata": {},
     "output_type": "display_data"
    },
    {
     "data": {
      "text/html": [
       "<script>\n",
       "require([\"d3\"], function(d3) {\n",
       "    d3.select(\".usersvg #pixel_crossSIw\").attr(\"transform\", \"translate(22 4)\");\n",
       "});\n",
       "</script>\n"
      ]
     },
     "metadata": {},
     "output_type": "display_data"
    },
    {
     "data": {
      "text/html": [
       "<script>\n",
       "require([\"d3\"], function(d3) {\n",
       "    d3.select(\".usersvg #pixel_crossSIw\").attr(\"transform\", \"translate(22 3)\");\n",
       "});\n",
       "</script>\n"
      ]
     },
     "metadata": {},
     "output_type": "display_data"
    },
    {
     "data": {
      "text/html": [
       "<script>\n",
       "require([\"d3\"], function(d3) {\n",
       "    d3.select(\".usersvg #pixel_crossSIw\").attr(\"transform\", \"translate(22 2)\");\n",
       "});\n",
       "</script>\n"
      ]
     },
     "metadata": {},
     "output_type": "display_data"
    },
    {
     "data": {
      "text/html": [
       "<script>\n",
       "require([\"d3\"], function(d3) {\n",
       "    d3.select(\".usersvg #pixel_crossSIw\").attr(\"transform\", \"translate(22 3)\");\n",
       "});\n",
       "</script>\n"
      ]
     },
     "metadata": {},
     "output_type": "display_data"
    },
    {
     "data": {
      "text/html": [
       "<script>\n",
       "require([\"d3\"], function(d3) {\n",
       "    d3.select(\".usersvg #pixel_crossSIw\").attr(\"transform\", \"translate(21 3)\");\n",
       "});\n",
       "</script>\n"
      ]
     },
     "metadata": {},
     "output_type": "display_data"
    },
    {
     "data": {
      "text/html": [
       "<script>\n",
       "require([\"d3\"], function(d3) {\n",
       "    d3.select(\".usersvg #pixel_crossSIw\").attr(\"transform\", \"translate(21 2)\");\n",
       "});\n",
       "</script>\n"
      ]
     },
     "metadata": {},
     "output_type": "display_data"
    },
    {
     "data": {
      "text/html": [
       "<script>\n",
       "require([\"d3\"], function(d3) {\n",
       "    d3.select(\".usersvg #pixel_crossSIw\").attr(\"transform\", \"translate(21 1)\");\n",
       "});\n",
       "</script>\n"
      ]
     },
     "metadata": {},
     "output_type": "display_data"
    },
    {
     "data": {
      "text/html": [
       "<script>\n",
       "require([\"d3\"], function(d3) {\n",
       "    d3.select(\".usersvg #pixel_crossSIw\").attr(\"transform\", \"translate(21 2)\");\n",
       "});\n",
       "</script>\n"
      ]
     },
     "metadata": {},
     "output_type": "display_data"
    },
    {
     "data": {
      "text/html": [
       "<script>\n",
       "require([\"d3\"], function(d3) {\n",
       "    d3.select(\".usersvg #pixel_crossSIw\").attr(\"transform\", \"translate(20 2)\");\n",
       "});\n",
       "</script>\n"
      ]
     },
     "metadata": {},
     "output_type": "display_data"
    },
    {
     "data": {
      "text/html": [
       "<script>\n",
       "require([\"d3\"], function(d3) {\n",
       "    d3.select(\".usersvg #pixel_crossSIw\").attr(\"transform\", \"translate(20 3)\");\n",
       "});\n",
       "</script>\n"
      ]
     },
     "metadata": {},
     "output_type": "display_data"
    },
    {
     "data": {
      "text/html": [
       "<script>\n",
       "require([\"d3\"], function(d3) {\n",
       "    d3.select(\".usersvg #pixel_crossSIw\").attr(\"transform\", \"translate(21 3)\");\n",
       "});\n",
       "</script>\n"
      ]
     },
     "metadata": {},
     "output_type": "display_data"
    },
    {
     "data": {
      "text/html": [
       "<script>\n",
       "require([\"d3\"], function(d3) {\n",
       "    d3.select(\".usersvg #pixel_crossSIw\").attr(\"transform\", \"translate(21 2)\");\n",
       "});\n",
       "</script>\n"
      ]
     },
     "metadata": {},
     "output_type": "display_data"
    },
    {
     "data": {
      "text/html": [
       "<script>\n",
       "require([\"d3\"], function(d3) {\n",
       "    d3.select(\".usersvg #pixel_crossSIw\").attr(\"transform\", \"translate(20 2)\");\n",
       "});\n",
       "</script>\n"
      ]
     },
     "metadata": {},
     "output_type": "display_data"
    },
    {
     "data": {
      "text/html": [
       "<script>\n",
       "require([\"d3\"], function(d3) {\n",
       "    d3.select(\".usersvg #pixel_crossSIw\").attr(\"transform\", \"translate(20 1)\");\n",
       "});\n",
       "</script>\n"
      ]
     },
     "metadata": {},
     "output_type": "display_data"
    },
    {
     "data": {
      "text/html": [
       "<script>\n",
       "require([\"d3\"], function(d3) {\n",
       "    d3.select(\".usersvg #pixel_crossSIw\").attr(\"transform\", \"translate(19 1)\");\n",
       "});\n",
       "</script>\n"
      ]
     },
     "metadata": {},
     "output_type": "display_data"
    },
    {
     "data": {
      "text/html": [
       "<script>\n",
       "require([\"d3\"], function(d3) {\n",
       "    d3.select(\".usersvg #pixel_crossSIw\").attr(\"transform\", \"translate(18 1)\");\n",
       "});\n",
       "</script>\n"
      ]
     },
     "metadata": {},
     "output_type": "display_data"
    },
    {
     "data": {
      "text/html": [
       "<script>\n",
       "require([\"d3\"], function(d3) {\n",
       "    d3.select(\".usersvg #pixel_crossSIw\").attr(\"transform\", \"translate(18 2)\");\n",
       "});\n",
       "</script>\n"
      ]
     },
     "metadata": {},
     "output_type": "display_data"
    },
    {
     "data": {
      "text/html": [
       "<script>\n",
       "require([\"d3\"], function(d3) {\n",
       "    d3.select(\".usersvg #pixel_crossSIw\").attr(\"transform\", \"translate(17 2)\");\n",
       "});\n",
       "</script>\n"
      ]
     },
     "metadata": {},
     "output_type": "display_data"
    },
    {
     "data": {
      "text/html": [
       "<script>\n",
       "require([\"d3\"], function(d3) {\n",
       "    d3.select(\".usersvg #pixel_crossSIw\").attr(\"transform\", \"translate(17 3)\");\n",
       "});\n",
       "</script>\n"
      ]
     },
     "metadata": {},
     "output_type": "display_data"
    },
    {
     "data": {
      "text/html": [
       "<script>\n",
       "require([\"d3\"], function(d3) {\n",
       "    d3.select(\".usersvg #pixel_crossSIw\").attr(\"transform\", \"translate(16 3)\");\n",
       "});\n",
       "</script>\n"
      ]
     },
     "metadata": {},
     "output_type": "display_data"
    },
    {
     "data": {
      "text/html": [
       "<script>\n",
       "require([\"d3\"], function(d3) {\n",
       "    d3.select(\".usersvg #pixel_crossSIw\").attr(\"transform\", \"translate(17 3)\");\n",
       "});\n",
       "</script>\n"
      ]
     },
     "metadata": {},
     "output_type": "display_data"
    },
    {
     "data": {
      "text/html": [
       "<script>\n",
       "require([\"d3\"], function(d3) {\n",
       "    d3.select(\".usersvg #pixel_crossSIw\").attr(\"transform\", \"translate(17 4)\");\n",
       "});\n",
       "</script>\n"
      ]
     },
     "metadata": {},
     "output_type": "display_data"
    },
    {
     "data": {
      "text/html": [
       "<script>\n",
       "require([\"d3\"], function(d3) {\n",
       "    d3.select(\".usersvg #pixel_crossSIw\").attr(\"transform\", \"translate(17 3)\");\n",
       "});\n",
       "</script>\n"
      ]
     },
     "metadata": {},
     "output_type": "display_data"
    },
    {
     "data": {
      "text/html": [
       "<script>\n",
       "require([\"d3\"], function(d3) {\n",
       "    d3.select(\".usersvg #pixel_crossSIw\").attr(\"transform\", \"translate(17 2)\");\n",
       "});\n",
       "</script>\n"
      ]
     },
     "metadata": {},
     "output_type": "display_data"
    },
    {
     "data": {
      "text/html": [
       "<script>\n",
       "require([\"d3\"], function(d3) {\n",
       "    d3.select(\".usersvg #pixel_crossSIw\").attr(\"transform\", \"translate(17 1)\");\n",
       "});\n",
       "</script>\n"
      ]
     },
     "metadata": {},
     "output_type": "display_data"
    },
    {
     "data": {
      "text/html": [
       "<script>\n",
       "require([\"d3\"], function(d3) {\n",
       "    d3.select(\".usersvg #pixel_crossSIw\").attr(\"transform\", \"translate(18 1)\");\n",
       "});\n",
       "</script>\n"
      ]
     },
     "metadata": {},
     "output_type": "display_data"
    },
    {
     "data": {
      "text/html": [
       "<script>\n",
       "require([\"d3\"], function(d3) {\n",
       "    d3.select(\".usersvg #pixel_crossSIw\").attr(\"transform\", \"translate(19 1)\");\n",
       "});\n",
       "</script>\n"
      ]
     },
     "metadata": {},
     "output_type": "display_data"
    },
    {
     "data": {
      "text/html": [
       "<script>\n",
       "require([\"d3\"], function(d3) {\n",
       "    d3.select(\".usersvg #pixel_crossSIw\").attr(\"transform\", \"translate(19 0)\");\n",
       "});\n",
       "</script>\n"
      ]
     },
     "metadata": {},
     "output_type": "display_data"
    },
    {
     "data": {
      "text/html": [
       "<script>\n",
       "require([\"d3\"], function(d3) {\n",
       "    d3.select(\".usersvg #pixel_crossSIw\").attr(\"transform\", \"translate(18 0)\");\n",
       "});\n",
       "</script>\n"
      ]
     },
     "metadata": {},
     "output_type": "display_data"
    },
    {
     "data": {
      "text/html": [
       "<script>\n",
       "require([\"d3\"], function(d3) {\n",
       "    d3.select(\".usersvg #pixel_crossSIw\").attr(\"transform\", \"translate(18 0)\");\n",
       "});\n",
       "</script>\n"
      ]
     },
     "metadata": {},
     "output_type": "display_data"
    },
    {
     "data": {
      "text/html": [
       "<script>\n",
       "require([\"d3\"], function(d3) {\n",
       "    d3.select(\".usersvg #pixel_crossSIw\").attr(\"transform\", \"translate(18 1)\");\n",
       "});\n",
       "</script>\n"
      ]
     },
     "metadata": {},
     "output_type": "display_data"
    },
    {
     "data": {
      "text/html": [
       "<script>\n",
       "require([\"d3\"], function(d3) {\n",
       "    d3.select(\".usersvg #pixel_crossSIw\").attr(\"transform\", \"translate(19 1)\");\n",
       "});\n",
       "</script>\n"
      ]
     },
     "metadata": {},
     "output_type": "display_data"
    },
    {
     "data": {
      "text/html": [
       "<script>\n",
       "require([\"d3\"], function(d3) {\n",
       "    d3.select(\".usersvg #pixel_crossSIw\").attr(\"transform\", \"translate(19 0)\");\n",
       "});\n",
       "</script>\n"
      ]
     },
     "metadata": {},
     "output_type": "display_data"
    },
    {
     "data": {
      "text/html": [
       "<script>\n",
       "require([\"d3\"], function(d3) {\n",
       "    d3.select(\".usersvg #pixel_crossSIw\").attr(\"transform\", \"translate(19 1)\");\n",
       "});\n",
       "</script>\n"
      ]
     },
     "metadata": {},
     "output_type": "display_data"
    },
    {
     "data": {
      "text/html": [
       "<script>\n",
       "require([\"d3\"], function(d3) {\n",
       "    d3.select(\".usersvg #pixel_crossSIw\").attr(\"transform\", \"translate(18 1)\");\n",
       "});\n",
       "</script>\n"
      ]
     },
     "metadata": {},
     "output_type": "display_data"
    },
    {
     "data": {
      "text/html": [
       "<script>\n",
       "require([\"d3\"], function(d3) {\n",
       "    d3.select(\".usersvg #pixel_crossSIw\").attr(\"transform\", \"translate(17 1)\");\n",
       "});\n",
       "</script>\n"
      ]
     },
     "metadata": {},
     "output_type": "display_data"
    },
    {
     "data": {
      "text/html": [
       "<script>\n",
       "require([\"d3\"], function(d3) {\n",
       "    d3.select(\".usersvg #pixel_crossSIw\").attr(\"transform\", \"translate(17 0)\");\n",
       "});\n",
       "</script>\n"
      ]
     },
     "metadata": {},
     "output_type": "display_data"
    },
    {
     "data": {
      "text/html": [
       "<script>\n",
       "require([\"d3\"], function(d3) {\n",
       "    d3.select(\".usersvg #pixel_crossSIw\").attr(\"transform\", \"translate(17 0)\");\n",
       "});\n",
       "</script>\n"
      ]
     },
     "metadata": {},
     "output_type": "display_data"
    },
    {
     "data": {
      "text/html": [
       "<script>\n",
       "require([\"d3\"], function(d3) {\n",
       "    d3.select(\".usersvg #pixel_crossSIw\").attr(\"transform\", \"translate(18 0)\");\n",
       "});\n",
       "</script>\n"
      ]
     },
     "metadata": {},
     "output_type": "display_data"
    },
    {
     "data": {
      "text/html": [
       "<script>\n",
       "require([\"d3\"], function(d3) {\n",
       "    d3.select(\".usersvg #pixel_crossSIw\").attr(\"transform\", \"translate(18 0)\");\n",
       "});\n",
       "</script>\n"
      ]
     },
     "metadata": {},
     "output_type": "display_data"
    },
    {
     "data": {
      "text/html": [
       "<script>\n",
       "require([\"d3\"], function(d3) {\n",
       "    d3.select(\".usersvg #pixel_crossSIw\").attr(\"transform\", \"translate(18 0)\");\n",
       "});\n",
       "</script>\n"
      ]
     },
     "metadata": {},
     "output_type": "display_data"
    },
    {
     "data": {
      "text/html": [
       "<script>\n",
       "require([\"d3\"], function(d3) {\n",
       "    d3.select(\".usersvg #pixel_crossSIw\").attr(\"transform\", \"translate(19 0)\");\n",
       "});\n",
       "</script>\n"
      ]
     },
     "metadata": {},
     "output_type": "display_data"
    },
    {
     "data": {
      "text/html": [
       "<script>\n",
       "require([\"d3\"], function(d3) {\n",
       "    d3.select(\".usersvg #pixel_crossSIw\").attr(\"transform\", \"translate(19 0)\");\n",
       "});\n",
       "</script>\n"
      ]
     },
     "metadata": {},
     "output_type": "display_data"
    },
    {
     "data": {
      "text/html": [
       "<script>\n",
       "require([\"d3\"], function(d3) {\n",
       "    d3.select(\".usersvg #pixel_crossSIw\").attr(\"transform\", \"translate(19 1)\");\n",
       "});\n",
       "</script>\n"
      ]
     },
     "metadata": {},
     "output_type": "display_data"
    },
    {
     "data": {
      "text/html": [
       "<script>\n",
       "require([\"d3\"], function(d3) {\n",
       "    d3.select(\".usersvg #pixel_crossSIw\").attr(\"transform\", \"translate(18 1)\");\n",
       "});\n",
       "</script>\n"
      ]
     },
     "metadata": {},
     "output_type": "display_data"
    },
    {
     "data": {
      "text/html": [
       "<script>\n",
       "require([\"d3\"], function(d3) {\n",
       "    d3.select(\".usersvg #pixel_crossSIw\").attr(\"transform\", \"translate(18 0)\");\n",
       "});\n",
       "</script>\n"
      ]
     },
     "metadata": {},
     "output_type": "display_data"
    },
    {
     "data": {
      "text/html": [
       "<script>\n",
       "require([\"d3\"], function(d3) {\n",
       "    d3.select(\".usersvg #pixel_crossSIw\").attr(\"transform\", \"translate(17 0)\");\n",
       "});\n",
       "</script>\n"
      ]
     },
     "metadata": {},
     "output_type": "display_data"
    },
    {
     "data": {
      "text/html": [
       "<script>\n",
       "require([\"d3\"], function(d3) {\n",
       "    d3.select(\".usersvg #pixel_crossSIw\").attr(\"transform\", \"translate(16 0)\");\n",
       "});\n",
       "</script>\n"
      ]
     },
     "metadata": {},
     "output_type": "display_data"
    },
    {
     "data": {
      "text/html": [
       "<script>\n",
       "require([\"d3\"], function(d3) {\n",
       "    d3.select(\".usersvg #pixel_crossSIw\").attr(\"transform\", \"translate(17 0)\");\n",
       "});\n",
       "</script>\n"
      ]
     },
     "metadata": {},
     "output_type": "display_data"
    },
    {
     "data": {
      "text/html": [
       "<script>\n",
       "require([\"d3\"], function(d3) {\n",
       "    d3.select(\".usersvg #pixel_crossSIw\").attr(\"transform\", \"translate(17 1)\");\n",
       "});\n",
       "</script>\n"
      ]
     },
     "metadata": {},
     "output_type": "display_data"
    },
    {
     "data": {
      "text/html": [
       "<script>\n",
       "require([\"d3\"], function(d3) {\n",
       "    d3.select(\".usersvg #pixel_crossSIw\").attr(\"transform\", \"translate(18 1)\");\n",
       "});\n",
       "</script>\n"
      ]
     },
     "metadata": {},
     "output_type": "display_data"
    },
    {
     "data": {
      "text/html": [
       "<script>\n",
       "require([\"d3\"], function(d3) {\n",
       "    d3.select(\".usersvg #pixel_crossSIw\").attr(\"transform\", \"translate(18 2)\");\n",
       "});\n",
       "</script>\n"
      ]
     },
     "metadata": {},
     "output_type": "display_data"
    },
    {
     "data": {
      "text/html": [
       "<script>\n",
       "require([\"d3\"], function(d3) {\n",
       "    d3.select(\".usersvg #pixel_crossSIw\").attr(\"transform\", \"translate(19 2)\");\n",
       "});\n",
       "</script>\n"
      ]
     },
     "metadata": {},
     "output_type": "display_data"
    },
    {
     "data": {
      "text/html": [
       "<script>\n",
       "require([\"d3\"], function(d3) {\n",
       "    d3.select(\".usersvg #pixel_crossSIw\").attr(\"transform\", \"translate(18 2)\");\n",
       "});\n",
       "</script>\n"
      ]
     },
     "metadata": {},
     "output_type": "display_data"
    },
    {
     "data": {
      "text/html": [
       "<script>\n",
       "require([\"d3\"], function(d3) {\n",
       "    d3.select(\".usersvg #pixel_crossSIw\").attr(\"transform\", \"translate(18 1)\");\n",
       "});\n",
       "</script>\n"
      ]
     },
     "metadata": {},
     "output_type": "display_data"
    },
    {
     "data": {
      "text/html": [
       "<script>\n",
       "require([\"d3\"], function(d3) {\n",
       "    d3.select(\".usersvg #pixel_crossSIw\").attr(\"transform\", \"translate(18 2)\");\n",
       "});\n",
       "</script>\n"
      ]
     },
     "metadata": {},
     "output_type": "display_data"
    },
    {
     "data": {
      "text/html": [
       "<script>\n",
       "require([\"d3\"], function(d3) {\n",
       "    d3.select(\".usersvg #pixel_crossSIw\").attr(\"transform\", \"translate(18 1)\");\n",
       "});\n",
       "</script>\n"
      ]
     },
     "metadata": {},
     "output_type": "display_data"
    },
    {
     "data": {
      "text/html": [
       "<script>\n",
       "require([\"d3\"], function(d3) {\n",
       "    d3.select(\".usersvg #pixel_crossSIw\").attr(\"transform\", \"translate(18 2)\");\n",
       "});\n",
       "</script>\n"
      ]
     },
     "metadata": {},
     "output_type": "display_data"
    },
    {
     "data": {
      "text/html": [
       "<script>\n",
       "require([\"d3\"], function(d3) {\n",
       "    d3.select(\".usersvg #pixel_crossSIw\").attr(\"transform\", \"translate(18 1)\");\n",
       "});\n",
       "</script>\n"
      ]
     },
     "metadata": {},
     "output_type": "display_data"
    },
    {
     "data": {
      "text/html": [
       "<script>\n",
       "require([\"d3\"], function(d3) {\n",
       "    d3.select(\".usersvg #pixel_crossSIw\").attr(\"transform\", \"translate(19 1)\");\n",
       "});\n",
       "</script>\n"
      ]
     },
     "metadata": {},
     "output_type": "display_data"
    },
    {
     "data": {
      "text/html": [
       "<script>\n",
       "require([\"d3\"], function(d3) {\n",
       "    d3.select(\".usersvg #pixel_crossSIw\").attr(\"transform\", \"translate(19 0)\");\n",
       "});\n",
       "</script>\n"
      ]
     },
     "metadata": {},
     "output_type": "display_data"
    },
    {
     "data": {
      "text/html": [
       "<script>\n",
       "require([\"d3\"], function(d3) {\n",
       "    d3.select(\".usersvg #pixel_crossSIw\").attr(\"transform\", \"translate(19 1)\");\n",
       "});\n",
       "</script>\n"
      ]
     },
     "metadata": {},
     "output_type": "display_data"
    },
    {
     "data": {
      "text/html": [
       "<script>\n",
       "require([\"d3\"], function(d3) {\n",
       "    d3.select(\".usersvg #pixel_crossSIw\").attr(\"transform\", \"translate(19 2)\");\n",
       "});\n",
       "</script>\n"
      ]
     },
     "metadata": {},
     "output_type": "display_data"
    },
    {
     "data": {
      "text/html": [
       "<script>\n",
       "require([\"d3\"], function(d3) {\n",
       "    d3.select(\".usersvg #pixel_crossSIw\").attr(\"transform\", \"translate(18 2)\");\n",
       "});\n",
       "</script>\n"
      ]
     },
     "metadata": {},
     "output_type": "display_data"
    },
    {
     "data": {
      "text/html": [
       "<script>\n",
       "require([\"d3\"], function(d3) {\n",
       "    d3.select(\".usersvg #pixel_crossSIw\").attr(\"transform\", \"translate(17 2)\");\n",
       "});\n",
       "</script>\n"
      ]
     },
     "metadata": {},
     "output_type": "display_data"
    },
    {
     "data": {
      "text/html": [
       "<script>\n",
       "require([\"d3\"], function(d3) {\n",
       "    d3.select(\".usersvg #pixel_crossSIw\").attr(\"transform\", \"translate(16 2)\");\n",
       "});\n",
       "</script>\n"
      ]
     },
     "metadata": {},
     "output_type": "display_data"
    },
    {
     "data": {
      "text/html": [
       "<script>\n",
       "require([\"d3\"], function(d3) {\n",
       "    d3.select(\".usersvg #pixel_crossSIw\").attr(\"transform\", \"translate(16 1)\");\n",
       "});\n",
       "</script>\n"
      ]
     },
     "metadata": {},
     "output_type": "display_data"
    },
    {
     "data": {
      "text/html": [
       "<script>\n",
       "require([\"d3\"], function(d3) {\n",
       "    d3.select(\".usersvg #pixel_crossSIw\").attr(\"transform\", \"translate(15 1)\");\n",
       "});\n",
       "</script>\n"
      ]
     },
     "metadata": {},
     "output_type": "display_data"
    },
    {
     "data": {
      "text/html": [
       "<script>\n",
       "require([\"d3\"], function(d3) {\n",
       "    d3.select(\".usersvg #pixel_crossSIw\").attr(\"transform\", \"translate(15 2)\");\n",
       "});\n",
       "</script>\n"
      ]
     },
     "metadata": {},
     "output_type": "display_data"
    },
    {
     "data": {
      "text/html": [
       "<script>\n",
       "require([\"d3\"], function(d3) {\n",
       "    d3.select(\".usersvg #pixel_crossSIw\").attr(\"transform\", \"translate(14 2)\");\n",
       "});\n",
       "</script>\n"
      ]
     },
     "metadata": {},
     "output_type": "display_data"
    },
    {
     "data": {
      "text/html": [
       "<script>\n",
       "require([\"d3\"], function(d3) {\n",
       "    d3.select(\".usersvg #pixel_crossSIw\").attr(\"transform\", \"translate(14 1)\");\n",
       "});\n",
       "</script>\n"
      ]
     },
     "metadata": {},
     "output_type": "display_data"
    },
    {
     "data": {
      "text/html": [
       "<script>\n",
       "require([\"d3\"], function(d3) {\n",
       "    d3.select(\".usersvg #pixel_crossSIw\").attr(\"transform\", \"translate(14 2)\");\n",
       "});\n",
       "</script>\n"
      ]
     },
     "metadata": {},
     "output_type": "display_data"
    },
    {
     "data": {
      "text/html": [
       "<script>\n",
       "require([\"d3\"], function(d3) {\n",
       "    d3.select(\".usersvg #pixel_crossSIw\").attr(\"transform\", \"translate(15 2)\");\n",
       "});\n",
       "</script>\n"
      ]
     },
     "metadata": {},
     "output_type": "display_data"
    },
    {
     "data": {
      "text/html": [
       "<script>\n",
       "require([\"d3\"], function(d3) {\n",
       "    d3.select(\".usersvg #pixel_crossSIw\").attr(\"transform\", \"translate(14 2)\");\n",
       "});\n",
       "</script>\n"
      ]
     },
     "metadata": {},
     "output_type": "display_data"
    },
    {
     "data": {
      "text/html": [
       "<script>\n",
       "require([\"d3\"], function(d3) {\n",
       "    d3.select(\".usersvg #pixel_crossSIw\").attr(\"transform\", \"translate(14 3)\");\n",
       "});\n",
       "</script>\n"
      ]
     },
     "metadata": {},
     "output_type": "display_data"
    },
    {
     "data": {
      "text/html": [
       "<script>\n",
       "require([\"d3\"], function(d3) {\n",
       "    d3.select(\".usersvg #pixel_crossSIw\").attr(\"transform\", \"translate(14 2)\");\n",
       "});\n",
       "</script>\n"
      ]
     },
     "metadata": {},
     "output_type": "display_data"
    },
    {
     "data": {
      "text/html": [
       "<script>\n",
       "require([\"d3\"], function(d3) {\n",
       "    d3.select(\".usersvg #pixel_crossSIw\").attr(\"transform\", \"translate(13 2)\");\n",
       "});\n",
       "</script>\n"
      ]
     },
     "metadata": {},
     "output_type": "display_data"
    },
    {
     "data": {
      "text/html": [
       "<script>\n",
       "require([\"d3\"], function(d3) {\n",
       "    d3.select(\".usersvg #pixel_crossSIw\").attr(\"transform\", \"translate(12 2)\");\n",
       "});\n",
       "</script>\n"
      ]
     },
     "metadata": {},
     "output_type": "display_data"
    },
    {
     "data": {
      "text/html": [
       "<script>\n",
       "require([\"d3\"], function(d3) {\n",
       "    d3.select(\".usersvg #pixel_crossSIw\").attr(\"transform\", \"translate(12 3)\");\n",
       "});\n",
       "</script>\n"
      ]
     },
     "metadata": {},
     "output_type": "display_data"
    },
    {
     "data": {
      "text/html": [
       "<script>\n",
       "require([\"d3\"], function(d3) {\n",
       "    d3.select(\".usersvg #pixel_crossSIw\").attr(\"transform\", \"translate(12 2)\");\n",
       "});\n",
       "</script>\n"
      ]
     },
     "metadata": {},
     "output_type": "display_data"
    },
    {
     "data": {
      "text/html": [
       "<script>\n",
       "require([\"d3\"], function(d3) {\n",
       "    d3.select(\".usersvg #pixel_crossSIw\").attr(\"transform\", \"translate(11 2)\");\n",
       "});\n",
       "</script>\n"
      ]
     },
     "metadata": {},
     "output_type": "display_data"
    },
    {
     "data": {
      "text/html": [
       "<script>\n",
       "require([\"d3\"], function(d3) {\n",
       "    d3.select(\".usersvg #pixel_crossSIw\").attr(\"transform\", \"translate(10 2)\");\n",
       "});\n",
       "</script>\n"
      ]
     },
     "metadata": {},
     "output_type": "display_data"
    },
    {
     "data": {
      "text/html": [
       "<script>\n",
       "require([\"d3\"], function(d3) {\n",
       "    d3.select(\".usersvg #pixel_crossSIw\").attr(\"transform\", \"translate(11 2)\");\n",
       "});\n",
       "</script>\n"
      ]
     },
     "metadata": {},
     "output_type": "display_data"
    },
    {
     "data": {
      "text/html": [
       "<script>\n",
       "require([\"d3\"], function(d3) {\n",
       "    d3.select(\".usersvg #pixel_crossSIw\").attr(\"transform\", \"translate(12 2)\");\n",
       "});\n",
       "</script>\n"
      ]
     },
     "metadata": {},
     "output_type": "display_data"
    },
    {
     "data": {
      "text/html": [
       "<script>\n",
       "require([\"d3\"], function(d3) {\n",
       "    d3.select(\".usersvg #pixel_crossSIw\").attr(\"transform\", \"translate(12 1)\");\n",
       "});\n",
       "</script>\n"
      ]
     },
     "metadata": {},
     "output_type": "display_data"
    },
    {
     "data": {
      "text/html": [
       "<script>\n",
       "require([\"d3\"], function(d3) {\n",
       "    d3.select(\".usersvg #pixel_crossSIw\").attr(\"transform\", \"translate(12 2)\");\n",
       "});\n",
       "</script>\n"
      ]
     },
     "metadata": {},
     "output_type": "display_data"
    },
    {
     "data": {
      "text/html": [
       "<script>\n",
       "require([\"d3\"], function(d3) {\n",
       "    d3.select(\".usersvg #pixel_crossSIw\").attr(\"transform\", \"translate(12 1)\");\n",
       "});\n",
       "</script>\n"
      ]
     },
     "metadata": {},
     "output_type": "display_data"
    },
    {
     "data": {
      "text/html": [
       "<script>\n",
       "require([\"d3\"], function(d3) {\n",
       "    d3.select(\".usersvg #pixel_crossSIw\").attr(\"transform\", \"translate(12 0)\");\n",
       "});\n",
       "</script>\n"
      ]
     },
     "metadata": {},
     "output_type": "display_data"
    },
    {
     "data": {
      "text/html": [
       "<script>\n",
       "require([\"d3\"], function(d3) {\n",
       "    d3.select(\".usersvg #pixel_crossSIw\").attr(\"transform\", \"translate(12 0)\");\n",
       "});\n",
       "</script>\n"
      ]
     },
     "metadata": {},
     "output_type": "display_data"
    },
    {
     "data": {
      "text/html": [
       "<script>\n",
       "require([\"d3\"], function(d3) {\n",
       "    d3.select(\".usersvg #pixel_crossSIw\").attr(\"transform\", \"translate(12 0)\");\n",
       "});\n",
       "</script>\n"
      ]
     },
     "metadata": {},
     "output_type": "display_data"
    },
    {
     "data": {
      "text/html": [
       "<script>\n",
       "require([\"d3\"], function(d3) {\n",
       "    d3.select(\".usersvg #pixel_crossSIw\").attr(\"transform\", \"translate(13 0)\");\n",
       "});\n",
       "</script>\n"
      ]
     },
     "metadata": {},
     "output_type": "display_data"
    },
    {
     "data": {
      "text/html": [
       "<script>\n",
       "require([\"d3\"], function(d3) {\n",
       "    d3.select(\".usersvg #pixel_crossSIw\").attr(\"transform\", \"translate(13 0)\");\n",
       "});\n",
       "</script>\n"
      ]
     },
     "metadata": {},
     "output_type": "display_data"
    },
    {
     "data": {
      "text/html": [
       "<script>\n",
       "require([\"d3\"], function(d3) {\n",
       "    d3.select(\".usersvg #pixel_crossSIw\").attr(\"transform\", \"translate(13 1)\");\n",
       "});\n",
       "</script>\n"
      ]
     },
     "metadata": {},
     "output_type": "display_data"
    },
    {
     "data": {
      "text/html": [
       "<script>\n",
       "require([\"d3\"], function(d3) {\n",
       "    d3.select(\".usersvg #pixel_crossSIw\").attr(\"transform\", \"translate(13 2)\");\n",
       "});\n",
       "</script>\n"
      ]
     },
     "metadata": {},
     "output_type": "display_data"
    },
    {
     "data": {
      "text/html": [
       "<script>\n",
       "require([\"d3\"], function(d3) {\n",
       "    d3.select(\".usersvg #pixel_crossSIw\").attr(\"transform\", \"translate(14 2)\");\n",
       "});\n",
       "</script>\n"
      ]
     },
     "metadata": {},
     "output_type": "display_data"
    },
    {
     "data": {
      "text/html": [
       "<script>\n",
       "require([\"d3\"], function(d3) {\n",
       "    d3.select(\".usersvg #pixel_crossSIw\").attr(\"transform\", \"translate(13 2)\");\n",
       "});\n",
       "</script>\n"
      ]
     },
     "metadata": {},
     "output_type": "display_data"
    },
    {
     "data": {
      "text/html": [
       "<script>\n",
       "require([\"d3\"], function(d3) {\n",
       "    d3.select(\".usersvg #pixel_crossSIw\").attr(\"transform\", \"translate(13 1)\");\n",
       "});\n",
       "</script>\n"
      ]
     },
     "metadata": {},
     "output_type": "display_data"
    },
    {
     "data": {
      "text/html": [
       "<script>\n",
       "require([\"d3\"], function(d3) {\n",
       "    d3.select(\".usersvg #pixel_crossSIw\").attr(\"transform\", \"translate(13 0)\");\n",
       "});\n",
       "</script>\n"
      ]
     },
     "metadata": {},
     "output_type": "display_data"
    },
    {
     "data": {
      "text/html": [
       "<script>\n",
       "require([\"d3\"], function(d3) {\n",
       "    d3.select(\".usersvg #pixel_crossSIw\").attr(\"transform\", \"translate(13 1)\");\n",
       "});\n",
       "</script>\n"
      ]
     },
     "metadata": {},
     "output_type": "display_data"
    },
    {
     "data": {
      "text/html": [
       "<script>\n",
       "require([\"d3\"], function(d3) {\n",
       "    d3.select(\".usersvg #pixel_crossSIw\").attr(\"transform\", \"translate(13 0)\");\n",
       "});\n",
       "</script>\n"
      ]
     },
     "metadata": {},
     "output_type": "display_data"
    },
    {
     "data": {
      "text/html": [
       "<script>\n",
       "require([\"d3\"], function(d3) {\n",
       "    d3.select(\".usersvg #pixel_crossSIw\").attr(\"transform\", \"translate(12 0)\");\n",
       "});\n",
       "</script>\n"
      ]
     },
     "metadata": {},
     "output_type": "display_data"
    },
    {
     "data": {
      "text/html": [
       "<script>\n",
       "require([\"d3\"], function(d3) {\n",
       "    d3.select(\".usersvg #pixel_crossSIw\").attr(\"transform\", \"translate(12 1)\");\n",
       "});\n",
       "</script>\n"
      ]
     },
     "metadata": {},
     "output_type": "display_data"
    },
    {
     "data": {
      "text/html": [
       "<script>\n",
       "require([\"d3\"], function(d3) {\n",
       "    d3.select(\".usersvg #pixel_crossSIw\").attr(\"transform\", \"translate(12 2)\");\n",
       "});\n",
       "</script>\n"
      ]
     },
     "metadata": {},
     "output_type": "display_data"
    },
    {
     "data": {
      "text/html": [
       "<script>\n",
       "require([\"d3\"], function(d3) {\n",
       "    d3.select(\".usersvg #pixel_crossSIw\").attr(\"transform\", \"translate(12 3)\");\n",
       "});\n",
       "</script>\n"
      ]
     },
     "metadata": {},
     "output_type": "display_data"
    },
    {
     "data": {
      "text/html": [
       "<script>\n",
       "require([\"d3\"], function(d3) {\n",
       "    d3.select(\".usersvg #pixel_crossSIw\").attr(\"transform\", \"translate(13 3)\");\n",
       "});\n",
       "</script>\n"
      ]
     },
     "metadata": {},
     "output_type": "display_data"
    },
    {
     "data": {
      "text/html": [
       "<script>\n",
       "require([\"d3\"], function(d3) {\n",
       "    d3.select(\".usersvg #pixel_crossSIw\").attr(\"transform\", \"translate(12 3)\");\n",
       "});\n",
       "</script>\n"
      ]
     },
     "metadata": {},
     "output_type": "display_data"
    },
    {
     "data": {
      "text/html": [
       "<script>\n",
       "require([\"d3\"], function(d3) {\n",
       "    d3.select(\".usersvg #pixel_crossSIw\").attr(\"transform\", \"translate(12 2)\");\n",
       "});\n",
       "</script>\n"
      ]
     },
     "metadata": {},
     "output_type": "display_data"
    },
    {
     "data": {
      "text/html": [
       "<script>\n",
       "require([\"d3\"], function(d3) {\n",
       "    d3.select(\".usersvg #pixel_crossSIw\").attr(\"transform\", \"translate(12 1)\");\n",
       "});\n",
       "</script>\n"
      ]
     },
     "metadata": {},
     "output_type": "display_data"
    },
    {
     "data": {
      "text/html": [
       "<script>\n",
       "require([\"d3\"], function(d3) {\n",
       "    d3.select(\".usersvg #pixel_crossSIw\").attr(\"transform\", \"translate(12 2)\");\n",
       "});\n",
       "</script>\n"
      ]
     },
     "metadata": {},
     "output_type": "display_data"
    },
    {
     "data": {
      "text/html": [
       "<script>\n",
       "require([\"d3\"], function(d3) {\n",
       "    d3.select(\".usersvg #pixel_crossSIw\").attr(\"transform\", \"translate(12 1)\");\n",
       "});\n",
       "</script>\n"
      ]
     },
     "metadata": {},
     "output_type": "display_data"
    },
    {
     "data": {
      "text/html": [
       "<script>\n",
       "require([\"d3\"], function(d3) {\n",
       "    d3.select(\".usersvg #pixel_crossSIw\").attr(\"transform\", \"translate(12 2)\");\n",
       "});\n",
       "</script>\n"
      ]
     },
     "metadata": {},
     "output_type": "display_data"
    },
    {
     "data": {
      "text/html": [
       "<script>\n",
       "require([\"d3\"], function(d3) {\n",
       "    d3.select(\".usersvg #pixel_crossSIw\").attr(\"transform\", \"translate(13 2)\");\n",
       "});\n",
       "</script>\n"
      ]
     },
     "metadata": {},
     "output_type": "display_data"
    },
    {
     "data": {
      "text/html": [
       "<script>\n",
       "require([\"d3\"], function(d3) {\n",
       "    d3.select(\".usersvg #pixel_crossSIw\").attr(\"transform\", \"translate(13 3)\");\n",
       "});\n",
       "</script>\n"
      ]
     },
     "metadata": {},
     "output_type": "display_data"
    },
    {
     "data": {
      "text/html": [
       "<script>\n",
       "require([\"d3\"], function(d3) {\n",
       "    d3.select(\".usersvg #pixel_crossSIw\").attr(\"transform\", \"translate(12 3)\");\n",
       "});\n",
       "</script>\n"
      ]
     },
     "metadata": {},
     "output_type": "display_data"
    },
    {
     "data": {
      "text/html": [
       "<script>\n",
       "require([\"d3\"], function(d3) {\n",
       "    d3.select(\".usersvg #pixel_crossSIw\").attr(\"transform\", \"translate(12 2)\");\n",
       "});\n",
       "</script>\n"
      ]
     },
     "metadata": {},
     "output_type": "display_data"
    },
    {
     "data": {
      "text/html": [
       "<script>\n",
       "require([\"d3\"], function(d3) {\n",
       "    d3.select(\".usersvg #pixel_crossSIw\").attr(\"transform\", \"translate(11 2)\");\n",
       "});\n",
       "</script>\n"
      ]
     },
     "metadata": {},
     "output_type": "display_data"
    },
    {
     "data": {
      "text/html": [
       "<script>\n",
       "require([\"d3\"], function(d3) {\n",
       "    d3.select(\".usersvg #pixel_crossSIw\").attr(\"transform\", \"translate(11 3)\");\n",
       "});\n",
       "</script>\n"
      ]
     },
     "metadata": {},
     "output_type": "display_data"
    },
    {
     "data": {
      "text/html": [
       "<script>\n",
       "require([\"d3\"], function(d3) {\n",
       "    d3.select(\".usersvg #pixel_crossSIw\").attr(\"transform\", \"translate(12 3)\");\n",
       "});\n",
       "</script>\n"
      ]
     },
     "metadata": {},
     "output_type": "display_data"
    },
    {
     "data": {
      "text/html": [
       "<script>\n",
       "require([\"d3\"], function(d3) {\n",
       "    d3.select(\".usersvg #pixel_crossSIw\").attr(\"transform\", \"translate(13 3)\");\n",
       "});\n",
       "</script>\n"
      ]
     },
     "metadata": {},
     "output_type": "display_data"
    },
    {
     "data": {
      "text/html": [
       "<script>\n",
       "require([\"d3\"], function(d3) {\n",
       "    d3.select(\".usersvg #pixel_crossSIw\").attr(\"transform\", \"translate(13 2)\");\n",
       "});\n",
       "</script>\n"
      ]
     },
     "metadata": {},
     "output_type": "display_data"
    },
    {
     "data": {
      "text/html": [
       "<script>\n",
       "require([\"d3\"], function(d3) {\n",
       "    d3.select(\".usersvg #pixel_crossSIw\").attr(\"transform\", \"translate(14 2)\");\n",
       "});\n",
       "</script>\n"
      ]
     },
     "metadata": {},
     "output_type": "display_data"
    },
    {
     "data": {
      "text/html": [
       "<script>\n",
       "require([\"d3\"], function(d3) {\n",
       "    d3.select(\".usersvg #pixel_crossSIw\").attr(\"transform\", \"translate(15 2)\");\n",
       "});\n",
       "</script>\n"
      ]
     },
     "metadata": {},
     "output_type": "display_data"
    },
    {
     "data": {
      "text/html": [
       "<script>\n",
       "require([\"d3\"], function(d3) {\n",
       "    d3.select(\".usersvg #pixel_crossSIw\").attr(\"transform\", \"translate(15 3)\");\n",
       "});\n",
       "</script>\n"
      ]
     },
     "metadata": {},
     "output_type": "display_data"
    },
    {
     "data": {
      "text/html": [
       "<script>\n",
       "require([\"d3\"], function(d3) {\n",
       "    d3.select(\".usersvg #pixel_crossSIw\").attr(\"transform\", \"translate(14 3)\");\n",
       "});\n",
       "</script>\n"
      ]
     },
     "metadata": {},
     "output_type": "display_data"
    },
    {
     "data": {
      "text/html": [
       "<script>\n",
       "require([\"d3\"], function(d3) {\n",
       "    d3.select(\".usersvg #pixel_crossSIw\").attr(\"transform\", \"translate(15 3)\");\n",
       "});\n",
       "</script>\n"
      ]
     },
     "metadata": {},
     "output_type": "display_data"
    },
    {
     "data": {
      "text/html": [
       "<script>\n",
       "require([\"d3\"], function(d3) {\n",
       "    d3.select(\".usersvg #pixel_crossSIw\").attr(\"transform\", \"translate(14 3)\");\n",
       "});\n",
       "</script>\n"
      ]
     },
     "metadata": {},
     "output_type": "display_data"
    },
    {
     "data": {
      "text/html": [
       "<script>\n",
       "require([\"d3\"], function(d3) {\n",
       "    d3.select(\".usersvg #pixel_crossSIw\").attr(\"transform\", \"translate(13 3)\");\n",
       "});\n",
       "</script>\n"
      ]
     },
     "metadata": {},
     "output_type": "display_data"
    },
    {
     "data": {
      "text/html": [
       "<script>\n",
       "require([\"d3\"], function(d3) {\n",
       "    d3.select(\".usersvg #pixel_crossSIw\").attr(\"transform\", \"translate(12 3)\");\n",
       "});\n",
       "</script>\n"
      ]
     },
     "metadata": {},
     "output_type": "display_data"
    },
    {
     "data": {
      "text/html": [
       "<script>\n",
       "require([\"d3\"], function(d3) {\n",
       "    d3.select(\".usersvg #pixel_crossSIw\").attr(\"transform\", \"translate(12 2)\");\n",
       "});\n",
       "</script>\n"
      ]
     },
     "metadata": {},
     "output_type": "display_data"
    },
    {
     "data": {
      "text/html": [
       "<script>\n",
       "require([\"d3\"], function(d3) {\n",
       "    d3.select(\".usersvg #pixel_crossSIw\").attr(\"transform\", \"translate(13 2)\");\n",
       "});\n",
       "</script>\n"
      ]
     },
     "metadata": {},
     "output_type": "display_data"
    },
    {
     "data": {
      "text/html": [
       "<script>\n",
       "require([\"d3\"], function(d3) {\n",
       "    d3.select(\".usersvg #pixel_crossSIw\").attr(\"transform\", \"translate(14 2)\");\n",
       "});\n",
       "</script>\n"
      ]
     },
     "metadata": {},
     "output_type": "display_data"
    },
    {
     "data": {
      "text/html": [
       "<script>\n",
       "require([\"d3\"], function(d3) {\n",
       "    d3.select(\".usersvg #pixel_crossSIw\").attr(\"transform\", \"translate(15 2)\");\n",
       "});\n",
       "</script>\n"
      ]
     },
     "metadata": {},
     "output_type": "display_data"
    },
    {
     "data": {
      "text/html": [
       "<script>\n",
       "require([\"d3\"], function(d3) {\n",
       "    d3.select(\".usersvg #pixel_crossSIw\").attr(\"transform\", \"translate(15 3)\");\n",
       "});\n",
       "</script>\n"
      ]
     },
     "metadata": {},
     "output_type": "display_data"
    },
    {
     "data": {
      "text/html": [
       "<script>\n",
       "require([\"d3\"], function(d3) {\n",
       "    d3.select(\".usersvg #pixel_crossSIw\").attr(\"transform\", \"translate(15 2)\");\n",
       "});\n",
       "</script>\n"
      ]
     },
     "metadata": {},
     "output_type": "display_data"
    },
    {
     "data": {
      "text/html": [
       "<script>\n",
       "require([\"d3\"], function(d3) {\n",
       "    d3.select(\".usersvg #pixel_crossSIw\").attr(\"transform\", \"translate(14 2)\");\n",
       "});\n",
       "</script>\n"
      ]
     },
     "metadata": {},
     "output_type": "display_data"
    },
    {
     "data": {
      "text/html": [
       "<script>\n",
       "require([\"d3\"], function(d3) {\n",
       "    d3.select(\".usersvg #pixel_crossSIw\").attr(\"transform\", \"translate(13 2)\");\n",
       "});\n",
       "</script>\n"
      ]
     },
     "metadata": {},
     "output_type": "display_data"
    },
    {
     "data": {
      "text/html": [
       "<script>\n",
       "require([\"d3\"], function(d3) {\n",
       "    d3.select(\".usersvg #pixel_crossSIw\").attr(\"transform\", \"translate(13 3)\");\n",
       "});\n",
       "</script>\n"
      ]
     },
     "metadata": {},
     "output_type": "display_data"
    },
    {
     "data": {
      "text/html": [
       "<script>\n",
       "require([\"d3\"], function(d3) {\n",
       "    d3.select(\".usersvg #pixel_crossSIw\").attr(\"transform\", \"translate(14 3)\");\n",
       "});\n",
       "</script>\n"
      ]
     },
     "metadata": {},
     "output_type": "display_data"
    },
    {
     "data": {
      "text/html": [
       "<script>\n",
       "require([\"d3\"], function(d3) {\n",
       "    d3.select(\".usersvg #pixel_crossSIw\").attr(\"transform\", \"translate(14 4)\");\n",
       "});\n",
       "</script>\n"
      ]
     },
     "metadata": {},
     "output_type": "display_data"
    },
    {
     "data": {
      "text/html": [
       "<script>\n",
       "require([\"d3\"], function(d3) {\n",
       "    d3.select(\".usersvg #pixel_crossSIw\").attr(\"transform\", \"translate(14 5)\");\n",
       "});\n",
       "</script>\n"
      ]
     },
     "metadata": {},
     "output_type": "display_data"
    },
    {
     "data": {
      "text/html": [
       "<script>\n",
       "require([\"d3\"], function(d3) {\n",
       "    d3.select(\".usersvg #pixel_crossSIw\").attr(\"transform\", \"translate(14 4)\");\n",
       "});\n",
       "</script>\n"
      ]
     },
     "metadata": {},
     "output_type": "display_data"
    },
    {
     "data": {
      "text/html": [
       "<script>\n",
       "require([\"d3\"], function(d3) {\n",
       "    d3.select(\".usersvg #pixel_crossSIw\").attr(\"transform\", \"translate(14 5)\");\n",
       "});\n",
       "</script>\n"
      ]
     },
     "metadata": {},
     "output_type": "display_data"
    },
    {
     "data": {
      "text/html": [
       "<script>\n",
       "require([\"d3\"], function(d3) {\n",
       "    d3.select(\".usersvg #pixel_crossSIw\").attr(\"transform\", \"translate(14 6)\");\n",
       "});\n",
       "</script>\n"
      ]
     },
     "metadata": {},
     "output_type": "display_data"
    },
    {
     "data": {
      "text/html": [
       "<script>\n",
       "require([\"d3\"], function(d3) {\n",
       "    d3.select(\".usersvg #pixel_crossSIw\").attr(\"transform\", \"translate(15 6)\");\n",
       "});\n",
       "</script>\n"
      ]
     },
     "metadata": {},
     "output_type": "display_data"
    },
    {
     "data": {
      "text/html": [
       "<script>\n",
       "require([\"d3\"], function(d3) {\n",
       "    d3.select(\".usersvg #pixel_crossSIw\").attr(\"transform\", \"translate(14 6)\");\n",
       "});\n",
       "</script>\n"
      ]
     },
     "metadata": {},
     "output_type": "display_data"
    },
    {
     "data": {
      "text/html": [
       "<script>\n",
       "require([\"d3\"], function(d3) {\n",
       "    d3.select(\".usersvg #pixel_crossSIw\").attr(\"transform\", \"translate(14 5)\");\n",
       "});\n",
       "</script>\n"
      ]
     },
     "metadata": {},
     "output_type": "display_data"
    },
    {
     "data": {
      "text/html": [
       "<script>\n",
       "require([\"d3\"], function(d3) {\n",
       "    d3.select(\".usersvg #pixel_crossSIw\").attr(\"transform\", \"translate(14 4)\");\n",
       "});\n",
       "</script>\n"
      ]
     },
     "metadata": {},
     "output_type": "display_data"
    },
    {
     "data": {
      "text/html": [
       "<script>\n",
       "require([\"d3\"], function(d3) {\n",
       "    d3.select(\".usersvg #pixel_crossSIw\").attr(\"transform\", \"translate(15 4)\");\n",
       "});\n",
       "</script>\n"
      ]
     },
     "metadata": {},
     "output_type": "display_data"
    },
    {
     "data": {
      "text/html": [
       "<script>\n",
       "require([\"d3\"], function(d3) {\n",
       "    d3.select(\".usersvg #pixel_crossSIw\").attr(\"transform\", \"translate(14 4)\");\n",
       "});\n",
       "</script>\n"
      ]
     },
     "metadata": {},
     "output_type": "display_data"
    },
    {
     "data": {
      "text/html": [
       "<script>\n",
       "require([\"d3\"], function(d3) {\n",
       "    d3.select(\".usersvg #pixel_crossSIw\").attr(\"transform\", \"translate(15 4)\");\n",
       "});\n",
       "</script>\n"
      ]
     },
     "metadata": {},
     "output_type": "display_data"
    },
    {
     "data": {
      "text/html": [
       "<script>\n",
       "require([\"d3\"], function(d3) {\n",
       "    d3.select(\".usersvg #pixel_crossSIw\").attr(\"transform\", \"translate(16 4)\");\n",
       "});\n",
       "</script>\n"
      ]
     },
     "metadata": {},
     "output_type": "display_data"
    },
    {
     "data": {
      "text/html": [
       "<script>\n",
       "require([\"d3\"], function(d3) {\n",
       "    d3.select(\".usersvg #pixel_crossSIw\").attr(\"transform\", \"translate(16 5)\");\n",
       "});\n",
       "</script>\n"
      ]
     },
     "metadata": {},
     "output_type": "display_data"
    },
    {
     "data": {
      "text/html": [
       "<script>\n",
       "require([\"d3\"], function(d3) {\n",
       "    d3.select(\".usersvg #pixel_crossSIw\").attr(\"transform\", \"translate(16 6)\");\n",
       "});\n",
       "</script>\n"
      ]
     },
     "metadata": {},
     "output_type": "display_data"
    },
    {
     "data": {
      "text/html": [
       "<script>\n",
       "require([\"d3\"], function(d3) {\n",
       "    d3.select(\".usersvg #pixel_crossSIw\").attr(\"transform\", \"translate(15 6)\");\n",
       "});\n",
       "</script>\n"
      ]
     },
     "metadata": {},
     "output_type": "display_data"
    },
    {
     "data": {
      "text/html": [
       "<script>\n",
       "require([\"d3\"], function(d3) {\n",
       "    d3.select(\".usersvg #pixel_crossSIw\").attr(\"transform\", \"translate(15 7)\");\n",
       "});\n",
       "</script>\n"
      ]
     },
     "metadata": {},
     "output_type": "display_data"
    },
    {
     "data": {
      "text/html": [
       "<script>\n",
       "require([\"d3\"], function(d3) {\n",
       "    d3.select(\".usersvg #pixel_crossSIw\").attr(\"transform\", \"translate(16 7)\");\n",
       "});\n",
       "</script>\n"
      ]
     },
     "metadata": {},
     "output_type": "display_data"
    },
    {
     "data": {
      "text/html": [
       "<script>\n",
       "require([\"d3\"], function(d3) {\n",
       "    d3.select(\".usersvg #pixel_crossSIw\").attr(\"transform\", \"translate(15 7)\");\n",
       "});\n",
       "</script>\n"
      ]
     },
     "metadata": {},
     "output_type": "display_data"
    },
    {
     "data": {
      "text/html": [
       "<script>\n",
       "require([\"d3\"], function(d3) {\n",
       "    d3.select(\".usersvg #pixel_crossSIw\").attr(\"transform\", \"translate(16 7)\");\n",
       "});\n",
       "</script>\n"
      ]
     },
     "metadata": {},
     "output_type": "display_data"
    },
    {
     "data": {
      "text/html": [
       "<script>\n",
       "require([\"d3\"], function(d3) {\n",
       "    d3.select(\".usersvg #pixel_crossSIw\").attr(\"transform\", \"translate(16 6)\");\n",
       "});\n",
       "</script>\n"
      ]
     },
     "metadata": {},
     "output_type": "display_data"
    },
    {
     "data": {
      "text/html": [
       "<script>\n",
       "require([\"d3\"], function(d3) {\n",
       "    d3.select(\".usersvg #pixel_crossSIw\").attr(\"transform\", \"translate(17 6)\");\n",
       "});\n",
       "</script>\n"
      ]
     },
     "metadata": {},
     "output_type": "display_data"
    },
    {
     "data": {
      "text/html": [
       "<script>\n",
       "require([\"d3\"], function(d3) {\n",
       "    d3.select(\".usersvg #pixel_crossSIw\").attr(\"transform\", \"translate(17 7)\");\n",
       "});\n",
       "</script>\n"
      ]
     },
     "metadata": {},
     "output_type": "display_data"
    },
    {
     "data": {
      "text/html": [
       "<script>\n",
       "require([\"d3\"], function(d3) {\n",
       "    d3.select(\".usersvg #pixel_crossSIw\").attr(\"transform\", \"translate(18 7)\");\n",
       "});\n",
       "</script>\n"
      ]
     },
     "metadata": {},
     "output_type": "display_data"
    },
    {
     "data": {
      "text/html": [
       "<script>\n",
       "require([\"d3\"], function(d3) {\n",
       "    d3.select(\".usersvg #pixel_crossSIw\").attr(\"transform\", \"translate(18 8)\");\n",
       "});\n",
       "</script>\n"
      ]
     },
     "metadata": {},
     "output_type": "display_data"
    },
    {
     "data": {
      "text/html": [
       "<script>\n",
       "require([\"d3\"], function(d3) {\n",
       "    d3.select(\".usersvg #pixel_crossSIw\").attr(\"transform\", \"translate(19 8)\");\n",
       "});\n",
       "</script>\n"
      ]
     },
     "metadata": {},
     "output_type": "display_data"
    },
    {
     "data": {
      "text/html": [
       "<script>\n",
       "require([\"d3\"], function(d3) {\n",
       "    d3.select(\".usersvg #pixel_crossSIw\").attr(\"transform\", \"translate(18 8)\");\n",
       "});\n",
       "</script>\n"
      ]
     },
     "metadata": {},
     "output_type": "display_data"
    },
    {
     "data": {
      "text/html": [
       "<script>\n",
       "require([\"d3\"], function(d3) {\n",
       "    d3.select(\".usersvg #pixel_crossSIw\").attr(\"transform\", \"translate(19 8)\");\n",
       "});\n",
       "</script>\n"
      ]
     },
     "metadata": {},
     "output_type": "display_data"
    },
    {
     "data": {
      "text/html": [
       "<script>\n",
       "require([\"d3\"], function(d3) {\n",
       "    d3.select(\".usersvg #pixel_crossSIw\").attr(\"transform\", \"translate(19 7)\");\n",
       "});\n",
       "</script>\n"
      ]
     },
     "metadata": {},
     "output_type": "display_data"
    },
    {
     "data": {
      "text/html": [
       "<script>\n",
       "require([\"d3\"], function(d3) {\n",
       "    d3.select(\".usersvg #pixel_crossSIw\").attr(\"transform\", \"translate(19 6)\");\n",
       "});\n",
       "</script>\n"
      ]
     },
     "metadata": {},
     "output_type": "display_data"
    },
    {
     "data": {
      "text/html": [
       "<script>\n",
       "require([\"d3\"], function(d3) {\n",
       "    d3.select(\".usersvg #pixel_crossSIw\").attr(\"transform\", \"translate(19 5)\");\n",
       "});\n",
       "</script>\n"
      ]
     },
     "metadata": {},
     "output_type": "display_data"
    },
    {
     "data": {
      "text/html": [
       "<script>\n",
       "require([\"d3\"], function(d3) {\n",
       "    d3.select(\".usersvg #pixel_crossSIw\").attr(\"transform\", \"translate(19 6)\");\n",
       "});\n",
       "</script>\n"
      ]
     },
     "metadata": {},
     "output_type": "display_data"
    },
    {
     "data": {
      "text/html": [
       "<script>\n",
       "require([\"d3\"], function(d3) {\n",
       "    d3.select(\".usersvg #pixel_crossSIw\").attr(\"transform\", \"translate(19 7)\");\n",
       "});\n",
       "</script>\n"
      ]
     },
     "metadata": {},
     "output_type": "display_data"
    },
    {
     "data": {
      "text/html": [
       "<script>\n",
       "require([\"d3\"], function(d3) {\n",
       "    d3.select(\".usersvg #pixel_crossSIw\").attr(\"transform\", \"translate(18 7)\");\n",
       "});\n",
       "</script>\n"
      ]
     },
     "metadata": {},
     "output_type": "display_data"
    },
    {
     "data": {
      "text/html": [
       "<script>\n",
       "require([\"d3\"], function(d3) {\n",
       "    d3.select(\".usersvg #pixel_crossSIw\").attr(\"transform\", \"translate(19 7)\");\n",
       "});\n",
       "</script>\n"
      ]
     },
     "metadata": {},
     "output_type": "display_data"
    },
    {
     "data": {
      "text/html": [
       "<script>\n",
       "require([\"d3\"], function(d3) {\n",
       "    d3.select(\".usersvg #pixel_crossSIw\").attr(\"transform\", \"translate(19 6)\");\n",
       "});\n",
       "</script>\n"
      ]
     },
     "metadata": {},
     "output_type": "display_data"
    },
    {
     "data": {
      "text/html": [
       "<script>\n",
       "require([\"d3\"], function(d3) {\n",
       "    d3.select(\".usersvg #pixel_crossSIw\").attr(\"transform\", \"translate(20 6)\");\n",
       "});\n",
       "</script>\n"
      ]
     },
     "metadata": {},
     "output_type": "display_data"
    },
    {
     "data": {
      "text/html": [
       "<script>\n",
       "require([\"d3\"], function(d3) {\n",
       "    d3.select(\".usersvg #pixel_crossSIw\").attr(\"transform\", \"translate(19 6)\");\n",
       "});\n",
       "</script>\n"
      ]
     },
     "metadata": {},
     "output_type": "display_data"
    },
    {
     "data": {
      "text/html": [
       "<script>\n",
       "require([\"d3\"], function(d3) {\n",
       "    d3.select(\".usersvg #pixel_crossSIw\").attr(\"transform\", \"translate(19 5)\");\n",
       "});\n",
       "</script>\n"
      ]
     },
     "metadata": {},
     "output_type": "display_data"
    },
    {
     "data": {
      "text/html": [
       "<script>\n",
       "require([\"d3\"], function(d3) {\n",
       "    d3.select(\".usersvg #pixel_crossSIw\").attr(\"transform\", \"translate(19 4)\");\n",
       "});\n",
       "</script>\n"
      ]
     },
     "metadata": {},
     "output_type": "display_data"
    },
    {
     "data": {
      "text/html": [
       "<script>\n",
       "require([\"d3\"], function(d3) {\n",
       "    d3.select(\".usersvg #pixel_crossSIw\").attr(\"transform\", \"translate(20 4)\");\n",
       "});\n",
       "</script>\n"
      ]
     },
     "metadata": {},
     "output_type": "display_data"
    },
    {
     "data": {
      "text/html": [
       "<script>\n",
       "require([\"d3\"], function(d3) {\n",
       "    d3.select(\".usersvg #pixel_crossSIw\").attr(\"transform\", \"translate(20 5)\");\n",
       "});\n",
       "</script>\n"
      ]
     },
     "metadata": {},
     "output_type": "display_data"
    },
    {
     "data": {
      "text/html": [
       "<script>\n",
       "require([\"d3\"], function(d3) {\n",
       "    d3.select(\".usersvg #pixel_crossSIw\").attr(\"transform\", \"translate(21 5)\");\n",
       "});\n",
       "</script>\n"
      ]
     },
     "metadata": {},
     "output_type": "display_data"
    },
    {
     "data": {
      "text/html": [
       "<script>\n",
       "require([\"d3\"], function(d3) {\n",
       "    d3.select(\".usersvg #pixel_crossSIw\").attr(\"transform\", \"translate(21 6)\");\n",
       "});\n",
       "</script>\n"
      ]
     },
     "metadata": {},
     "output_type": "display_data"
    },
    {
     "data": {
      "text/html": [
       "<script>\n",
       "require([\"d3\"], function(d3) {\n",
       "    d3.select(\".usersvg #pixel_crossSIw\").attr(\"transform\", \"translate(21 5)\");\n",
       "});\n",
       "</script>\n"
      ]
     },
     "metadata": {},
     "output_type": "display_data"
    },
    {
     "data": {
      "text/html": [
       "<script>\n",
       "require([\"d3\"], function(d3) {\n",
       "    d3.select(\".usersvg #pixel_crossSIw\").attr(\"transform\", \"translate(21 6)\");\n",
       "});\n",
       "</script>\n"
      ]
     },
     "metadata": {},
     "output_type": "display_data"
    },
    {
     "data": {
      "text/html": [
       "<script>\n",
       "require([\"d3\"], function(d3) {\n",
       "    d3.select(\".usersvg #pixel_crossSIw\").attr(\"transform\", \"translate(21 7)\");\n",
       "});\n",
       "</script>\n"
      ]
     },
     "metadata": {},
     "output_type": "display_data"
    },
    {
     "data": {
      "text/html": [
       "<script>\n",
       "require([\"d3\"], function(d3) {\n",
       "    d3.select(\".usersvg #pixel_crossSIw\").attr(\"transform\", \"translate(22 7)\");\n",
       "});\n",
       "</script>\n"
      ]
     },
     "metadata": {},
     "output_type": "display_data"
    },
    {
     "data": {
      "text/html": [
       "<script>\n",
       "require([\"d3\"], function(d3) {\n",
       "    d3.select(\".usersvg #pixel_crossSIw\").attr(\"transform\", \"translate(22 6)\");\n",
       "});\n",
       "</script>\n"
      ]
     },
     "metadata": {},
     "output_type": "display_data"
    },
    {
     "data": {
      "text/html": [
       "<script>\n",
       "require([\"d3\"], function(d3) {\n",
       "    d3.select(\".usersvg #pixel_crossSIw\").attr(\"transform\", \"translate(22 7)\");\n",
       "});\n",
       "</script>\n"
      ]
     },
     "metadata": {},
     "output_type": "display_data"
    },
    {
     "data": {
      "text/html": [
       "<script>\n",
       "require([\"d3\"], function(d3) {\n",
       "    d3.select(\".usersvg #pixel_crossSIw\").attr(\"transform\", \"translate(21 7)\");\n",
       "});\n",
       "</script>\n"
      ]
     },
     "metadata": {},
     "output_type": "display_data"
    },
    {
     "data": {
      "text/html": [
       "<script>\n",
       "require([\"d3\"], function(d3) {\n",
       "    d3.select(\".usersvg #pixel_crossSIw\").attr(\"transform\", \"translate(22 7)\");\n",
       "});\n",
       "</script>\n"
      ]
     },
     "metadata": {},
     "output_type": "display_data"
    },
    {
     "data": {
      "text/html": [
       "<script>\n",
       "require([\"d3\"], function(d3) {\n",
       "    d3.select(\".usersvg #pixel_crossSIw\").attr(\"transform\", \"translate(23 7)\");\n",
       "});\n",
       "</script>\n"
      ]
     },
     "metadata": {},
     "output_type": "display_data"
    },
    {
     "data": {
      "text/html": [
       "<script>\n",
       "require([\"d3\"], function(d3) {\n",
       "    d3.select(\".usersvg #pixel_crossSIw\").attr(\"transform\", \"translate(23 6)\");\n",
       "});\n",
       "</script>\n"
      ]
     },
     "metadata": {},
     "output_type": "display_data"
    },
    {
     "data": {
      "text/html": [
       "<script>\n",
       "require([\"d3\"], function(d3) {\n",
       "    d3.select(\".usersvg #pixel_crossSIw\").attr(\"transform\", \"translate(24 6)\");\n",
       "});\n",
       "</script>\n"
      ]
     },
     "metadata": {},
     "output_type": "display_data"
    },
    {
     "data": {
      "text/html": [
       "<script>\n",
       "require([\"d3\"], function(d3) {\n",
       "    d3.select(\".usersvg #pixel_crossSIw\").attr(\"transform\", \"translate(24 7)\");\n",
       "});\n",
       "</script>\n"
      ]
     },
     "metadata": {},
     "output_type": "display_data"
    },
    {
     "data": {
      "text/html": [
       "<script>\n",
       "require([\"d3\"], function(d3) {\n",
       "    d3.select(\".usersvg #pixel_crossSIw\").attr(\"transform\", \"translate(23 7)\");\n",
       "});\n",
       "</script>\n"
      ]
     },
     "metadata": {},
     "output_type": "display_data"
    },
    {
     "data": {
      "text/html": [
       "<script>\n",
       "require([\"d3\"], function(d3) {\n",
       "    d3.select(\".usersvg #pixel_crossSIw\").attr(\"transform\", \"translate(22 7)\");\n",
       "});\n",
       "</script>\n"
      ]
     },
     "metadata": {},
     "output_type": "display_data"
    },
    {
     "data": {
      "text/html": [
       "<script>\n",
       "require([\"d3\"], function(d3) {\n",
       "    d3.select(\".usersvg #pixel_crossSIw\").attr(\"transform\", \"translate(23 7)\");\n",
       "});\n",
       "</script>\n"
      ]
     },
     "metadata": {},
     "output_type": "display_data"
    },
    {
     "data": {
      "text/html": [
       "<script>\n",
       "require([\"d3\"], function(d3) {\n",
       "    d3.select(\".usersvg #pixel_crossSIw\").attr(\"transform\", \"translate(23 8)\");\n",
       "});\n",
       "</script>\n"
      ]
     },
     "metadata": {},
     "output_type": "display_data"
    },
    {
     "data": {
      "text/html": [
       "<script>\n",
       "require([\"d3\"], function(d3) {\n",
       "    d3.select(\".usersvg #pixel_crossSIw\").attr(\"transform\", \"translate(24 8)\");\n",
       "});\n",
       "</script>\n"
      ]
     },
     "metadata": {},
     "output_type": "display_data"
    },
    {
     "data": {
      "text/html": [
       "<script>\n",
       "require([\"d3\"], function(d3) {\n",
       "    d3.select(\".usersvg #pixel_crossSIw\").attr(\"transform\", \"translate(24 9)\");\n",
       "});\n",
       "</script>\n"
      ]
     },
     "metadata": {},
     "output_type": "display_data"
    },
    {
     "data": {
      "text/html": [
       "<script>\n",
       "require([\"d3\"], function(d3) {\n",
       "    d3.select(\".usersvg #pixel_crossSIw\").attr(\"transform\", \"translate(23 9)\");\n",
       "});\n",
       "</script>\n"
      ]
     },
     "metadata": {},
     "output_type": "display_data"
    },
    {
     "data": {
      "text/html": [
       "<script>\n",
       "require([\"d3\"], function(d3) {\n",
       "    d3.select(\".usersvg #pixel_crossSIw\").attr(\"transform\", \"translate(23 10)\");\n",
       "});\n",
       "</script>\n"
      ]
     },
     "metadata": {},
     "output_type": "display_data"
    },
    {
     "data": {
      "text/html": [
       "<script>\n",
       "require([\"d3\"], function(d3) {\n",
       "    d3.select(\".usersvg #pixel_crossSIw\").attr(\"transform\", \"translate(22 10)\");\n",
       "});\n",
       "</script>\n"
      ]
     },
     "metadata": {},
     "output_type": "display_data"
    },
    {
     "data": {
      "text/html": [
       "<script>\n",
       "require([\"d3\"], function(d3) {\n",
       "    d3.select(\".usersvg #pixel_crossSIw\").attr(\"transform\", \"translate(21 10)\");\n",
       "});\n",
       "</script>\n"
      ]
     },
     "metadata": {},
     "output_type": "display_data"
    },
    {
     "data": {
      "text/html": [
       "<script>\n",
       "require([\"d3\"], function(d3) {\n",
       "    d3.select(\".usersvg #pixel_crossSIw\").attr(\"transform\", \"translate(21 9)\");\n",
       "});\n",
       "</script>\n"
      ]
     },
     "metadata": {},
     "output_type": "display_data"
    },
    {
     "data": {
      "text/html": [
       "<script>\n",
       "require([\"d3\"], function(d3) {\n",
       "    d3.select(\".usersvg #pixel_crossSIw\").attr(\"transform\", \"translate(22 9)\");\n",
       "});\n",
       "</script>\n"
      ]
     },
     "metadata": {},
     "output_type": "display_data"
    },
    {
     "data": {
      "text/html": [
       "<script>\n",
       "require([\"d3\"], function(d3) {\n",
       "    d3.select(\".usersvg #pixel_crossSIw\").attr(\"transform\", \"translate(22 8)\");\n",
       "});\n",
       "</script>\n"
      ]
     },
     "metadata": {},
     "output_type": "display_data"
    },
    {
     "data": {
      "text/html": [
       "<script>\n",
       "require([\"d3\"], function(d3) {\n",
       "    d3.select(\".usersvg #pixel_crossSIw\").attr(\"transform\", \"translate(22 9)\");\n",
       "});\n",
       "</script>\n"
      ]
     },
     "metadata": {},
     "output_type": "display_data"
    },
    {
     "data": {
      "text/html": [
       "<script>\n",
       "require([\"d3\"], function(d3) {\n",
       "    d3.select(\".usersvg #pixel_crossSIw\").attr(\"transform\", \"translate(22 10)\");\n",
       "});\n",
       "</script>\n"
      ]
     },
     "metadata": {},
     "output_type": "display_data"
    },
    {
     "data": {
      "text/html": [
       "<script>\n",
       "require([\"d3\"], function(d3) {\n",
       "    d3.select(\".usersvg #pixel_crossSIw\").attr(\"transform\", \"translate(21 10)\");\n",
       "});\n",
       "</script>\n"
      ]
     },
     "metadata": {},
     "output_type": "display_data"
    },
    {
     "data": {
      "text/html": [
       "<script>\n",
       "require([\"d3\"], function(d3) {\n",
       "    d3.select(\".usersvg #pixel_crossSIw\").attr(\"transform\", \"translate(21 11)\");\n",
       "});\n",
       "</script>\n"
      ]
     },
     "metadata": {},
     "output_type": "display_data"
    },
    {
     "data": {
      "text/html": [
       "<script>\n",
       "require([\"d3\"], function(d3) {\n",
       "    d3.select(\".usersvg #pixel_crossSIw\").attr(\"transform\", \"translate(21 12)\");\n",
       "});\n",
       "</script>\n"
      ]
     },
     "metadata": {},
     "output_type": "display_data"
    },
    {
     "data": {
      "text/html": [
       "<script>\n",
       "require([\"d3\"], function(d3) {\n",
       "    d3.select(\".usersvg #pixel_crossSIw\").attr(\"transform\", \"translate(21 11)\");\n",
       "});\n",
       "</script>\n"
      ]
     },
     "metadata": {},
     "output_type": "display_data"
    },
    {
     "data": {
      "text/html": [
       "<script>\n",
       "require([\"d3\"], function(d3) {\n",
       "    d3.select(\".usersvg #pixel_crossSIw\").attr(\"transform\", \"translate(22 11)\");\n",
       "});\n",
       "</script>\n"
      ]
     },
     "metadata": {},
     "output_type": "display_data"
    },
    {
     "data": {
      "text/html": [
       "<script>\n",
       "require([\"d3\"], function(d3) {\n",
       "    d3.select(\".usersvg #pixel_crossSIw\").attr(\"transform\", \"translate(22 12)\");\n",
       "});\n",
       "</script>\n"
      ]
     },
     "metadata": {},
     "output_type": "display_data"
    },
    {
     "data": {
      "text/html": [
       "<script>\n",
       "require([\"d3\"], function(d3) {\n",
       "    d3.select(\".usersvg #pixel_crossSIw\").attr(\"transform\", \"translate(21 12)\");\n",
       "});\n",
       "</script>\n"
      ]
     },
     "metadata": {},
     "output_type": "display_data"
    },
    {
     "data": {
      "text/html": [
       "<script>\n",
       "require([\"d3\"], function(d3) {\n",
       "    d3.select(\".usersvg #pixel_crossSIw\").attr(\"transform\", \"translate(22 12)\");\n",
       "});\n",
       "</script>\n"
      ]
     },
     "metadata": {},
     "output_type": "display_data"
    },
    {
     "data": {
      "text/html": [
       "<script>\n",
       "require([\"d3\"], function(d3) {\n",
       "    d3.select(\".usersvg #pixel_crossSIw\").attr(\"transform\", \"translate(22 11)\");\n",
       "});\n",
       "</script>\n"
      ]
     },
     "metadata": {},
     "output_type": "display_data"
    },
    {
     "data": {
      "text/html": [
       "<script>\n",
       "require([\"d3\"], function(d3) {\n",
       "    d3.select(\".usersvg #pixel_crossSIw\").attr(\"transform\", \"translate(23 11)\");\n",
       "});\n",
       "</script>\n"
      ]
     },
     "metadata": {},
     "output_type": "display_data"
    },
    {
     "data": {
      "text/html": [
       "<script>\n",
       "require([\"d3\"], function(d3) {\n",
       "    d3.select(\".usersvg #pixel_crossSIw\").attr(\"transform\", \"translate(23 12)\");\n",
       "});\n",
       "</script>\n"
      ]
     },
     "metadata": {},
     "output_type": "display_data"
    },
    {
     "data": {
      "text/html": [
       "<script>\n",
       "require([\"d3\"], function(d3) {\n",
       "    d3.select(\".usersvg #pixel_crossSIw\").attr(\"transform\", \"translate(22 12)\");\n",
       "});\n",
       "</script>\n"
      ]
     },
     "metadata": {},
     "output_type": "display_data"
    },
    {
     "data": {
      "text/html": [
       "<script>\n",
       "require([\"d3\"], function(d3) {\n",
       "    d3.select(\".usersvg #pixel_crossSIw\").attr(\"transform\", \"translate(21 12)\");\n",
       "});\n",
       "</script>\n"
      ]
     },
     "metadata": {},
     "output_type": "display_data"
    },
    {
     "data": {
      "text/html": [
       "<script>\n",
       "require([\"d3\"], function(d3) {\n",
       "    d3.select(\".usersvg #pixel_crossSIw\").attr(\"transform\", \"translate(20 12)\");\n",
       "});\n",
       "</script>\n"
      ]
     },
     "metadata": {},
     "output_type": "display_data"
    },
    {
     "data": {
      "text/html": [
       "<script>\n",
       "require([\"d3\"], function(d3) {\n",
       "    d3.select(\".usersvg #pixel_crossSIw\").attr(\"transform\", \"translate(20 11)\");\n",
       "});\n",
       "</script>\n"
      ]
     },
     "metadata": {},
     "output_type": "display_data"
    },
    {
     "data": {
      "text/html": [
       "<script>\n",
       "require([\"d3\"], function(d3) {\n",
       "    d3.select(\".usersvg #pixel_crossSIw\").attr(\"transform\", \"translate(20 10)\");\n",
       "});\n",
       "</script>\n"
      ]
     },
     "metadata": {},
     "output_type": "display_data"
    },
    {
     "data": {
      "text/html": [
       "<script>\n",
       "require([\"d3\"], function(d3) {\n",
       "    d3.select(\".usersvg #pixel_crossSIw\").attr(\"transform\", \"translate(19 10)\");\n",
       "});\n",
       "</script>\n"
      ]
     },
     "metadata": {},
     "output_type": "display_data"
    },
    {
     "data": {
      "text/html": [
       "<script>\n",
       "require([\"d3\"], function(d3) {\n",
       "    d3.select(\".usersvg #pixel_crossSIw\").attr(\"transform\", \"translate(19 11)\");\n",
       "});\n",
       "</script>\n"
      ]
     },
     "metadata": {},
     "output_type": "display_data"
    },
    {
     "data": {
      "text/html": [
       "<script>\n",
       "require([\"d3\"], function(d3) {\n",
       "    d3.select(\".usersvg #pixel_crossSIw\").attr(\"transform\", \"translate(18 11)\");\n",
       "});\n",
       "</script>\n"
      ]
     },
     "metadata": {},
     "output_type": "display_data"
    },
    {
     "data": {
      "text/html": [
       "<script>\n",
       "require([\"d3\"], function(d3) {\n",
       "    d3.select(\".usersvg #pixel_crossSIw\").attr(\"transform\", \"translate(18 12)\");\n",
       "});\n",
       "</script>\n"
      ]
     },
     "metadata": {},
     "output_type": "display_data"
    },
    {
     "data": {
      "text/html": [
       "<script>\n",
       "require([\"d3\"], function(d3) {\n",
       "    d3.select(\".usersvg #pixel_crossSIw\").attr(\"transform\", \"translate(18 11)\");\n",
       "});\n",
       "</script>\n"
      ]
     },
     "metadata": {},
     "output_type": "display_data"
    },
    {
     "data": {
      "text/html": [
       "<script>\n",
       "require([\"d3\"], function(d3) {\n",
       "    d3.select(\".usersvg #pixel_crossSIw\").attr(\"transform\", \"translate(18 12)\");\n",
       "});\n",
       "</script>\n"
      ]
     },
     "metadata": {},
     "output_type": "display_data"
    },
    {
     "data": {
      "text/html": [
       "<script>\n",
       "require([\"d3\"], function(d3) {\n",
       "    d3.select(\".usersvg #pixel_crossSIw\").attr(\"transform\", \"translate(19 12)\");\n",
       "});\n",
       "</script>\n"
      ]
     },
     "metadata": {},
     "output_type": "display_data"
    },
    {
     "data": {
      "text/html": [
       "<script>\n",
       "require([\"d3\"], function(d3) {\n",
       "    d3.select(\".usersvg #pixel_crossSIw\").attr(\"transform\", \"translate(19 11)\");\n",
       "});\n",
       "</script>\n"
      ]
     },
     "metadata": {},
     "output_type": "display_data"
    },
    {
     "data": {
      "text/html": [
       "<script>\n",
       "require([\"d3\"], function(d3) {\n",
       "    d3.select(\".usersvg #pixel_crossSIw\").attr(\"transform\", \"translate(20 11)\");\n",
       "});\n",
       "</script>\n"
      ]
     },
     "metadata": {},
     "output_type": "display_data"
    },
    {
     "data": {
      "text/html": [
       "<script>\n",
       "require([\"d3\"], function(d3) {\n",
       "    d3.select(\".usersvg #pixel_crossSIw\").attr(\"transform\", \"translate(20 10)\");\n",
       "});\n",
       "</script>\n"
      ]
     },
     "metadata": {},
     "output_type": "display_data"
    },
    {
     "data": {
      "text/html": [
       "<script>\n",
       "require([\"d3\"], function(d3) {\n",
       "    d3.select(\".usersvg #pixel_crossSIw\").attr(\"transform\", \"translate(20 9)\");\n",
       "});\n",
       "</script>\n"
      ]
     },
     "metadata": {},
     "output_type": "display_data"
    },
    {
     "data": {
      "text/html": [
       "<script>\n",
       "require([\"d3\"], function(d3) {\n",
       "    d3.select(\".usersvg #pixel_crossSIw\").attr(\"transform\", \"translate(19 9)\");\n",
       "});\n",
       "</script>\n"
      ]
     },
     "metadata": {},
     "output_type": "display_data"
    },
    {
     "data": {
      "text/html": [
       "<script>\n",
       "require([\"d3\"], function(d3) {\n",
       "    d3.select(\".usersvg #pixel_crossSIw\").attr(\"transform\", \"translate(20 9)\");\n",
       "});\n",
       "</script>\n"
      ]
     },
     "metadata": {},
     "output_type": "display_data"
    },
    {
     "data": {
      "text/html": [
       "<script>\n",
       "require([\"d3\"], function(d3) {\n",
       "    d3.select(\".usersvg #pixel_crossSIw\").attr(\"transform\", \"translate(21 9)\");\n",
       "});\n",
       "</script>\n"
      ]
     },
     "metadata": {},
     "output_type": "display_data"
    },
    {
     "data": {
      "text/html": [
       "<script>\n",
       "require([\"d3\"], function(d3) {\n",
       "    d3.select(\".usersvg #pixel_crossSIw\").attr(\"transform\", \"translate(22 9)\");\n",
       "});\n",
       "</script>\n"
      ]
     },
     "metadata": {},
     "output_type": "display_data"
    },
    {
     "data": {
      "text/html": [
       "<script>\n",
       "require([\"d3\"], function(d3) {\n",
       "    d3.select(\".usersvg #pixel_crossSIw\").attr(\"transform\", \"translate(23 9)\");\n",
       "});\n",
       "</script>\n"
      ]
     },
     "metadata": {},
     "output_type": "display_data"
    },
    {
     "data": {
      "text/html": [
       "<script>\n",
       "require([\"d3\"], function(d3) {\n",
       "    d3.select(\".usersvg #pixel_crossSIw\").attr(\"transform\", \"translate(24 9)\");\n",
       "});\n",
       "</script>\n"
      ]
     },
     "metadata": {},
     "output_type": "display_data"
    },
    {
     "data": {
      "text/html": [
       "<script>\n",
       "require([\"d3\"], function(d3) {\n",
       "    d3.select(\".usersvg #pixel_crossSIw\").attr(\"transform\", \"translate(24 8)\");\n",
       "});\n",
       "</script>\n"
      ]
     },
     "metadata": {},
     "output_type": "display_data"
    },
    {
     "data": {
      "text/html": [
       "<script>\n",
       "require([\"d3\"], function(d3) {\n",
       "    d3.select(\".usersvg #pixel_crossSIw\").attr(\"transform\", \"translate(24 7)\");\n",
       "});\n",
       "</script>\n"
      ]
     },
     "metadata": {},
     "output_type": "display_data"
    },
    {
     "data": {
      "text/html": [
       "<script>\n",
       "require([\"d3\"], function(d3) {\n",
       "    d3.select(\".usersvg #pixel_crossSIw\").attr(\"transform\", \"translate(24 8)\");\n",
       "});\n",
       "</script>\n"
      ]
     },
     "metadata": {},
     "output_type": "display_data"
    },
    {
     "data": {
      "text/html": [
       "<script>\n",
       "require([\"d3\"], function(d3) {\n",
       "    d3.select(\".usersvg #pixel_crossSIw\").attr(\"transform\", \"translate(24 7)\");\n",
       "});\n",
       "</script>\n"
      ]
     },
     "metadata": {},
     "output_type": "display_data"
    },
    {
     "data": {
      "text/html": [
       "<script>\n",
       "require([\"d3\"], function(d3) {\n",
       "    d3.select(\".usersvg #pixel_crossSIw\").attr(\"transform\", \"translate(24 6)\");\n",
       "});\n",
       "</script>\n"
      ]
     },
     "metadata": {},
     "output_type": "display_data"
    },
    {
     "data": {
      "text/html": [
       "<script>\n",
       "require([\"d3\"], function(d3) {\n",
       "    d3.select(\".usersvg #pixel_crossSIw\").attr(\"transform\", \"translate(25 6)\");\n",
       "});\n",
       "</script>\n"
      ]
     },
     "metadata": {},
     "output_type": "display_data"
    },
    {
     "data": {
      "text/html": [
       "<script>\n",
       "require([\"d3\"], function(d3) {\n",
       "    d3.select(\".usersvg #pixel_crossSIw\").attr(\"transform\", \"translate(24 6)\");\n",
       "});\n",
       "</script>\n"
      ]
     },
     "metadata": {},
     "output_type": "display_data"
    },
    {
     "data": {
      "text/html": [
       "<script>\n",
       "require([\"d3\"], function(d3) {\n",
       "    d3.select(\".usersvg #pixel_crossSIw\").attr(\"transform\", \"translate(25 6)\");\n",
       "});\n",
       "</script>\n"
      ]
     },
     "metadata": {},
     "output_type": "display_data"
    },
    {
     "data": {
      "text/html": [
       "<script>\n",
       "require([\"d3\"], function(d3) {\n",
       "    d3.select(\".usersvg #pixel_crossSIw\").attr(\"transform\", \"translate(25 5)\");\n",
       "});\n",
       "</script>\n"
      ]
     },
     "metadata": {},
     "output_type": "display_data"
    },
    {
     "data": {
      "text/html": [
       "<script>\n",
       "require([\"d3\"], function(d3) {\n",
       "    d3.select(\".usersvg #pixel_crossSIw\").attr(\"transform\", \"translate(24 5)\");\n",
       "});\n",
       "</script>\n"
      ]
     },
     "metadata": {},
     "output_type": "display_data"
    },
    {
     "data": {
      "text/html": [
       "<script>\n",
       "require([\"d3\"], function(d3) {\n",
       "    d3.select(\".usersvg #pixel_crossSIw\").attr(\"transform\", \"translate(24 6)\");\n",
       "});\n",
       "</script>\n"
      ]
     },
     "metadata": {},
     "output_type": "display_data"
    },
    {
     "data": {
      "text/html": [
       "<script>\n",
       "require([\"d3\"], function(d3) {\n",
       "    d3.select(\".usersvg #pixel_crossSIw\").attr(\"transform\", \"translate(24 7)\");\n",
       "});\n",
       "</script>\n"
      ]
     },
     "metadata": {},
     "output_type": "display_data"
    },
    {
     "data": {
      "text/html": [
       "<script>\n",
       "require([\"d3\"], function(d3) {\n",
       "    d3.select(\".usersvg #pixel_crossSIw\").attr(\"transform\", \"translate(23 7)\");\n",
       "});\n",
       "</script>\n"
      ]
     },
     "metadata": {},
     "output_type": "display_data"
    },
    {
     "data": {
      "text/html": [
       "<script>\n",
       "require([\"d3\"], function(d3) {\n",
       "    d3.select(\".usersvg #pixel_crossSIw\").attr(\"transform\", \"translate(23 6)\");\n",
       "});\n",
       "</script>\n"
      ]
     },
     "metadata": {},
     "output_type": "display_data"
    },
    {
     "data": {
      "text/html": [
       "<script>\n",
       "require([\"d3\"], function(d3) {\n",
       "    d3.select(\".usersvg #pixel_crossSIw\").attr(\"transform\", \"translate(24 6)\");\n",
       "});\n",
       "</script>\n"
      ]
     },
     "metadata": {},
     "output_type": "display_data"
    },
    {
     "data": {
      "text/html": [
       "<script>\n",
       "require([\"d3\"], function(d3) {\n",
       "    d3.select(\".usersvg #pixel_crossSIw\").attr(\"transform\", \"translate(24 5)\");\n",
       "});\n",
       "</script>\n"
      ]
     },
     "metadata": {},
     "output_type": "display_data"
    },
    {
     "data": {
      "text/html": [
       "<script>\n",
       "require([\"d3\"], function(d3) {\n",
       "    d3.select(\".usersvg #pixel_crossSIw\").attr(\"transform\", \"translate(24 4)\");\n",
       "});\n",
       "</script>\n"
      ]
     },
     "metadata": {},
     "output_type": "display_data"
    },
    {
     "data": {
      "text/html": [
       "<script>\n",
       "require([\"d3\"], function(d3) {\n",
       "    d3.select(\".usersvg #pixel_crossSIw\").attr(\"transform\", \"translate(25 4)\");\n",
       "});\n",
       "</script>\n"
      ]
     },
     "metadata": {},
     "output_type": "display_data"
    },
    {
     "data": {
      "text/html": [
       "<script>\n",
       "require([\"d3\"], function(d3) {\n",
       "    d3.select(\".usersvg #pixel_crossSIw\").attr(\"transform\", \"translate(26 4)\");\n",
       "});\n",
       "</script>\n"
      ]
     },
     "metadata": {},
     "output_type": "display_data"
    },
    {
     "data": {
      "text/html": [
       "<script>\n",
       "require([\"d3\"], function(d3) {\n",
       "    d3.select(\".usersvg #pixel_crossSIw\").attr(\"transform\", \"translate(25 4)\");\n",
       "});\n",
       "</script>\n"
      ]
     },
     "metadata": {},
     "output_type": "display_data"
    },
    {
     "data": {
      "text/html": [
       "<script>\n",
       "require([\"d3\"], function(d3) {\n",
       "    d3.select(\".usersvg #pixel_crossSIw\").attr(\"transform\", \"translate(26 4)\");\n",
       "});\n",
       "</script>\n"
      ]
     },
     "metadata": {},
     "output_type": "display_data"
    },
    {
     "data": {
      "text/html": [
       "<script>\n",
       "require([\"d3\"], function(d3) {\n",
       "    d3.select(\".usersvg #pixel_crossSIw\").attr(\"transform\", \"translate(25 4)\");\n",
       "});\n",
       "</script>\n"
      ]
     },
     "metadata": {},
     "output_type": "display_data"
    },
    {
     "data": {
      "text/html": [
       "<script>\n",
       "require([\"d3\"], function(d3) {\n",
       "    d3.select(\".usersvg #pixel_crossSIw\").attr(\"transform\", \"translate(25 3)\");\n",
       "});\n",
       "</script>\n"
      ]
     },
     "metadata": {},
     "output_type": "display_data"
    },
    {
     "data": {
      "text/html": [
       "<script>\n",
       "require([\"d3\"], function(d3) {\n",
       "    d3.select(\".usersvg #pixel_crossSIw\").attr(\"transform\", \"translate(25 2)\");\n",
       "});\n",
       "</script>\n"
      ]
     },
     "metadata": {},
     "output_type": "display_data"
    },
    {
     "data": {
      "text/html": [
       "<script>\n",
       "require([\"d3\"], function(d3) {\n",
       "    d3.select(\".usersvg #pixel_crossSIw\").attr(\"transform\", \"translate(26 2)\");\n",
       "});\n",
       "</script>\n"
      ]
     },
     "metadata": {},
     "output_type": "display_data"
    },
    {
     "data": {
      "text/html": [
       "<script>\n",
       "require([\"d3\"], function(d3) {\n",
       "    d3.select(\".usersvg #pixel_crossSIw\").attr(\"transform\", \"translate(25 2)\");\n",
       "});\n",
       "</script>\n"
      ]
     },
     "metadata": {},
     "output_type": "display_data"
    },
    {
     "data": {
      "text/html": [
       "<script>\n",
       "require([\"d3\"], function(d3) {\n",
       "    d3.select(\".usersvg #pixel_crossSIw\").attr(\"transform\", \"translate(25 1)\");\n",
       "});\n",
       "</script>\n"
      ]
     },
     "metadata": {},
     "output_type": "display_data"
    },
    {
     "data": {
      "text/html": [
       "<script>\n",
       "require([\"d3\"], function(d3) {\n",
       "    d3.select(\".usersvg #pixel_crossSIw\").attr(\"transform\", \"translate(24 1)\");\n",
       "});\n",
       "</script>\n"
      ]
     },
     "metadata": {},
     "output_type": "display_data"
    },
    {
     "data": {
      "text/html": [
       "<script>\n",
       "require([\"d3\"], function(d3) {\n",
       "    d3.select(\".usersvg #pixel_crossSIw\").attr(\"transform\", \"translate(24 2)\");\n",
       "});\n",
       "</script>\n"
      ]
     },
     "metadata": {},
     "output_type": "display_data"
    },
    {
     "data": {
      "text/html": [
       "<script>\n",
       "require([\"d3\"], function(d3) {\n",
       "    d3.select(\".usersvg #pixel_crossSIw\").attr(\"transform\", \"translate(24 1)\");\n",
       "});\n",
       "</script>\n"
      ]
     },
     "metadata": {},
     "output_type": "display_data"
    },
    {
     "data": {
      "text/html": [
       "<script>\n",
       "require([\"d3\"], function(d3) {\n",
       "    d3.select(\".usersvg #pixel_crossSIw\").attr(\"transform\", \"translate(24 0)\");\n",
       "});\n",
       "</script>\n"
      ]
     },
     "metadata": {},
     "output_type": "display_data"
    },
    {
     "data": {
      "text/html": [
       "<script>\n",
       "require([\"d3\"], function(d3) {\n",
       "    d3.select(\".usersvg #pixel_crossSIw\").attr(\"transform\", \"translate(24 0)\");\n",
       "});\n",
       "</script>\n"
      ]
     },
     "metadata": {},
     "output_type": "display_data"
    },
    {
     "data": {
      "text/html": [
       "<script>\n",
       "require([\"d3\"], function(d3) {\n",
       "    d3.select(\".usersvg #pixel_crossSIw\").attr(\"transform\", \"translate(23 0)\");\n",
       "});\n",
       "</script>\n"
      ]
     },
     "metadata": {},
     "output_type": "display_data"
    },
    {
     "data": {
      "text/html": [
       "<script>\n",
       "require([\"d3\"], function(d3) {\n",
       "    d3.select(\".usersvg #pixel_crossSIw\").attr(\"transform\", \"translate(23 0)\");\n",
       "});\n",
       "</script>\n"
      ]
     },
     "metadata": {},
     "output_type": "display_data"
    },
    {
     "data": {
      "text/html": [
       "<script>\n",
       "require([\"d3\"], function(d3) {\n",
       "    d3.select(\".usersvg #pixel_crossSIw\").attr(\"transform\", \"translate(22 0)\");\n",
       "});\n",
       "</script>\n"
      ]
     },
     "metadata": {},
     "output_type": "display_data"
    },
    {
     "data": {
      "text/html": [
       "<script>\n",
       "require([\"d3\"], function(d3) {\n",
       "    d3.select(\".usersvg #pixel_crossSIw\").attr(\"transform\", \"translate(22 0)\");\n",
       "});\n",
       "</script>\n"
      ]
     },
     "metadata": {},
     "output_type": "display_data"
    },
    {
     "data": {
      "text/html": [
       "<script>\n",
       "require([\"d3\"], function(d3) {\n",
       "    d3.select(\".usersvg #pixel_crossSIw\").attr(\"transform\", \"translate(22 0)\");\n",
       "});\n",
       "</script>\n"
      ]
     },
     "metadata": {},
     "output_type": "display_data"
    },
    {
     "data": {
      "text/html": [
       "<script>\n",
       "require([\"d3\"], function(d3) {\n",
       "    d3.select(\".usersvg #pixel_crossSIw\").attr(\"transform\", \"translate(22 0)\");\n",
       "});\n",
       "</script>\n"
      ]
     },
     "metadata": {},
     "output_type": "display_data"
    },
    {
     "data": {
      "text/html": [
       "<script>\n",
       "require([\"d3\"], function(d3) {\n",
       "    d3.select(\".usersvg #pixel_crossSIw\").attr(\"transform\", \"translate(22 1)\");\n",
       "});\n",
       "</script>\n"
      ]
     },
     "metadata": {},
     "output_type": "display_data"
    },
    {
     "data": {
      "text/html": [
       "<script>\n",
       "require([\"d3\"], function(d3) {\n",
       "    d3.select(\".usersvg #pixel_crossSIw\").attr(\"transform\", \"translate(23 1)\");\n",
       "});\n",
       "</script>\n"
      ]
     },
     "metadata": {},
     "output_type": "display_data"
    },
    {
     "data": {
      "text/html": [
       "<script>\n",
       "require([\"d3\"], function(d3) {\n",
       "    d3.select(\".usersvg #pixel_crossSIw\").attr(\"transform\", \"translate(23 2)\");\n",
       "});\n",
       "</script>\n"
      ]
     },
     "metadata": {},
     "output_type": "display_data"
    },
    {
     "data": {
      "text/html": [
       "<script>\n",
       "require([\"d3\"], function(d3) {\n",
       "    d3.select(\".usersvg #pixel_crossSIw\").attr(\"transform\", \"translate(23 1)\");\n",
       "});\n",
       "</script>\n"
      ]
     },
     "metadata": {},
     "output_type": "display_data"
    },
    {
     "data": {
      "text/html": [
       "<script>\n",
       "require([\"d3\"], function(d3) {\n",
       "    d3.select(\".usersvg #pixel_crossSIw\").attr(\"transform\", \"translate(22 1)\");\n",
       "});\n",
       "</script>\n"
      ]
     },
     "metadata": {},
     "output_type": "display_data"
    },
    {
     "data": {
      "text/html": [
       "<script>\n",
       "require([\"d3\"], function(d3) {\n",
       "    d3.select(\".usersvg #pixel_crossSIw\").attr(\"transform\", \"translate(21 1)\");\n",
       "});\n",
       "</script>\n"
      ]
     },
     "metadata": {},
     "output_type": "display_data"
    },
    {
     "data": {
      "text/html": [
       "<script>\n",
       "require([\"d3\"], function(d3) {\n",
       "    d3.select(\".usersvg #pixel_crossSIw\").attr(\"transform\", \"translate(21 2)\");\n",
       "});\n",
       "</script>\n"
      ]
     },
     "metadata": {},
     "output_type": "display_data"
    },
    {
     "data": {
      "text/html": [
       "<script>\n",
       "require([\"d3\"], function(d3) {\n",
       "    d3.select(\".usersvg #pixel_crossSIw\").attr(\"transform\", \"translate(21 1)\");\n",
       "});\n",
       "</script>\n"
      ]
     },
     "metadata": {},
     "output_type": "display_data"
    },
    {
     "data": {
      "text/html": [
       "<script>\n",
       "require([\"d3\"], function(d3) {\n",
       "    d3.select(\".usersvg #pixel_crossSIw\").attr(\"transform\", \"translate(21 2)\");\n",
       "});\n",
       "</script>\n"
      ]
     },
     "metadata": {},
     "output_type": "display_data"
    },
    {
     "data": {
      "text/html": [
       "<script>\n",
       "require([\"d3\"], function(d3) {\n",
       "    d3.select(\".usersvg #pixel_crossSIw\").attr(\"transform\", \"translate(21 1)\");\n",
       "});\n",
       "</script>\n"
      ]
     },
     "metadata": {},
     "output_type": "display_data"
    },
    {
     "data": {
      "text/html": [
       "<script>\n",
       "require([\"d3\"], function(d3) {\n",
       "    d3.select(\".usersvg #pixel_crossSIw\").attr(\"transform\", \"translate(22 1)\");\n",
       "});\n",
       "</script>\n"
      ]
     },
     "metadata": {},
     "output_type": "display_data"
    },
    {
     "data": {
      "text/html": [
       "<script>\n",
       "require([\"d3\"], function(d3) {\n",
       "    d3.select(\".usersvg #pixel_crossSIw\").attr(\"transform\", \"translate(21 1)\");\n",
       "});\n",
       "</script>\n"
      ]
     },
     "metadata": {},
     "output_type": "display_data"
    },
    {
     "data": {
      "text/html": [
       "<script>\n",
       "require([\"d3\"], function(d3) {\n",
       "    d3.select(\".usersvg #pixel_crossSIw\").attr(\"transform\", \"translate(21 2)\");\n",
       "});\n",
       "</script>\n"
      ]
     },
     "metadata": {},
     "output_type": "display_data"
    },
    {
     "data": {
      "text/html": [
       "<script>\n",
       "require([\"d3\"], function(d3) {\n",
       "    d3.select(\".usersvg #pixel_crossSIw\").attr(\"transform\", \"translate(21 1)\");\n",
       "});\n",
       "</script>\n"
      ]
     },
     "metadata": {},
     "output_type": "display_data"
    },
    {
     "data": {
      "text/html": [
       "<script>\n",
       "require([\"d3\"], function(d3) {\n",
       "    d3.select(\".usersvg #pixel_crossSIw\").attr(\"transform\", \"translate(22 1)\");\n",
       "});\n",
       "</script>\n"
      ]
     },
     "metadata": {},
     "output_type": "display_data"
    },
    {
     "data": {
      "text/html": [
       "<script>\n",
       "require([\"d3\"], function(d3) {\n",
       "    d3.select(\".usersvg #pixel_crossSIw\").attr(\"transform\", \"translate(23 1)\");\n",
       "});\n",
       "</script>\n"
      ]
     },
     "metadata": {},
     "output_type": "display_data"
    },
    {
     "data": {
      "text/html": [
       "<script>\n",
       "require([\"d3\"], function(d3) {\n",
       "    d3.select(\".usersvg #pixel_crossSIw\").attr(\"transform\", \"translate(24 1)\");\n",
       "});\n",
       "</script>\n"
      ]
     },
     "metadata": {},
     "output_type": "display_data"
    },
    {
     "data": {
      "text/html": [
       "<script>\n",
       "require([\"d3\"], function(d3) {\n",
       "    d3.select(\".usersvg #pixel_crossSIw\").attr(\"transform\", \"translate(24 0)\");\n",
       "});\n",
       "</script>\n"
      ]
     },
     "metadata": {},
     "output_type": "display_data"
    },
    {
     "data": {
      "text/html": [
       "<script>\n",
       "require([\"d3\"], function(d3) {\n",
       "    d3.select(\".usersvg #pixel_crossSIw\").attr(\"transform\", \"translate(25 0)\");\n",
       "});\n",
       "</script>\n"
      ]
     },
     "metadata": {},
     "output_type": "display_data"
    },
    {
     "data": {
      "text/html": [
       "<script>\n",
       "require([\"d3\"], function(d3) {\n",
       "    d3.select(\".usersvg #pixel_crossSIw\").attr(\"transform\", \"translate(26 0)\");\n",
       "});\n",
       "</script>\n"
      ]
     },
     "metadata": {},
     "output_type": "display_data"
    },
    {
     "data": {
      "text/html": [
       "<script>\n",
       "require([\"d3\"], function(d3) {\n",
       "    d3.select(\".usersvg #pixel_crossSIw\").attr(\"transform\", \"translate(26 1)\");\n",
       "});\n",
       "</script>\n"
      ]
     },
     "metadata": {},
     "output_type": "display_data"
    },
    {
     "data": {
      "text/html": [
       "<script>\n",
       "require([\"d3\"], function(d3) {\n",
       "    d3.select(\".usersvg #pixel_crossSIw\").attr(\"transform\", \"translate(25 1)\");\n",
       "});\n",
       "</script>\n"
      ]
     },
     "metadata": {},
     "output_type": "display_data"
    },
    {
     "data": {
      "text/html": [
       "<script>\n",
       "require([\"d3\"], function(d3) {\n",
       "    d3.select(\".usersvg #pixel_crossSIw\").attr(\"transform\", \"translate(25 2)\");\n",
       "});\n",
       "</script>\n"
      ]
     },
     "metadata": {},
     "output_type": "display_data"
    },
    {
     "data": {
      "text/html": [
       "<script>\n",
       "require([\"d3\"], function(d3) {\n",
       "    d3.select(\".usersvg #pixel_crossSIw\").attr(\"transform\", \"translate(24 2)\");\n",
       "});\n",
       "</script>\n"
      ]
     },
     "metadata": {},
     "output_type": "display_data"
    },
    {
     "data": {
      "text/html": [
       "<script>\n",
       "require([\"d3\"], function(d3) {\n",
       "    d3.select(\".usersvg #pixel_crossSIw\").attr(\"transform\", \"translate(25 2)\");\n",
       "});\n",
       "</script>\n"
      ]
     },
     "metadata": {},
     "output_type": "display_data"
    },
    {
     "data": {
      "text/html": [
       "<script>\n",
       "require([\"d3\"], function(d3) {\n",
       "    d3.select(\".usersvg #pixel_crossSIw\").attr(\"transform\", \"translate(26 2)\");\n",
       "});\n",
       "</script>\n"
      ]
     },
     "metadata": {},
     "output_type": "display_data"
    },
    {
     "data": {
      "text/html": [
       "<script>\n",
       "require([\"d3\"], function(d3) {\n",
       "    d3.select(\".usersvg #pixel_crossSIw\").attr(\"transform\", \"translate(26 1)\");\n",
       "});\n",
       "</script>\n"
      ]
     },
     "metadata": {},
     "output_type": "display_data"
    },
    {
     "data": {
      "text/html": [
       "<script>\n",
       "require([\"d3\"], function(d3) {\n",
       "    d3.select(\".usersvg #pixel_crossSIw\").attr(\"transform\", \"translate(26 0)\");\n",
       "});\n",
       "</script>\n"
      ]
     },
     "metadata": {},
     "output_type": "display_data"
    },
    {
     "data": {
      "text/html": [
       "<script>\n",
       "require([\"d3\"], function(d3) {\n",
       "    d3.select(\".usersvg #pixel_crossSIw\").attr(\"transform\", \"translate(25 0)\");\n",
       "});\n",
       "</script>\n"
      ]
     },
     "metadata": {},
     "output_type": "display_data"
    },
    {
     "data": {
      "text/html": [
       "<script>\n",
       "require([\"d3\"], function(d3) {\n",
       "    d3.select(\".usersvg #pixel_crossSIw\").attr(\"transform\", \"translate(25 1)\");\n",
       "});\n",
       "</script>\n"
      ]
     },
     "metadata": {},
     "output_type": "display_data"
    },
    {
     "data": {
      "text/html": [
       "<script>\n",
       "require([\"d3\"], function(d3) {\n",
       "    d3.select(\".usersvg #pixel_crossSIw\").attr(\"transform\", \"translate(25 2)\");\n",
       "});\n",
       "</script>\n"
      ]
     },
     "metadata": {},
     "output_type": "display_data"
    },
    {
     "data": {
      "text/html": [
       "<script>\n",
       "require([\"d3\"], function(d3) {\n",
       "    d3.select(\".usersvg #pixel_crossSIw\").attr(\"transform\", \"translate(25 1)\");\n",
       "});\n",
       "</script>\n"
      ]
     },
     "metadata": {},
     "output_type": "display_data"
    },
    {
     "data": {
      "text/html": [
       "<script>\n",
       "require([\"d3\"], function(d3) {\n",
       "    d3.select(\".usersvg #pixel_crossSIw\").attr(\"transform\", \"translate(24 1)\");\n",
       "});\n",
       "</script>\n"
      ]
     },
     "metadata": {},
     "output_type": "display_data"
    },
    {
     "data": {
      "text/html": [
       "<script>\n",
       "require([\"d3\"], function(d3) {\n",
       "    d3.select(\".usersvg #pixel_crossSIw\").attr(\"transform\", \"translate(25 1)\");\n",
       "});\n",
       "</script>\n"
      ]
     },
     "metadata": {},
     "output_type": "display_data"
    },
    {
     "data": {
      "text/html": [
       "<script>\n",
       "require([\"d3\"], function(d3) {\n",
       "    d3.select(\".usersvg #pixel_crossSIw\").attr(\"transform\", \"translate(25 2)\");\n",
       "});\n",
       "</script>\n"
      ]
     },
     "metadata": {},
     "output_type": "display_data"
    },
    {
     "data": {
      "text/html": [
       "<script>\n",
       "require([\"d3\"], function(d3) {\n",
       "    d3.select(\".usersvg #pixel_crossSIw\").attr(\"transform\", \"translate(25 1)\");\n",
       "});\n",
       "</script>\n"
      ]
     },
     "metadata": {},
     "output_type": "display_data"
    },
    {
     "data": {
      "text/html": [
       "<script>\n",
       "require([\"d3\"], function(d3) {\n",
       "    d3.select(\".usersvg #pixel_crossSIw\").attr(\"transform\", \"translate(25 0)\");\n",
       "});\n",
       "</script>\n"
      ]
     },
     "metadata": {},
     "output_type": "display_data"
    },
    {
     "data": {
      "text/html": [
       "<script>\n",
       "require([\"d3\"], function(d3) {\n",
       "    d3.select(\".usersvg #pixel_crossSIw\").attr(\"transform\", \"translate(24 0)\");\n",
       "});\n",
       "</script>\n"
      ]
     },
     "metadata": {},
     "output_type": "display_data"
    },
    {
     "data": {
      "text/html": [
       "<script>\n",
       "require([\"d3\"], function(d3) {\n",
       "    d3.select(\".usersvg #pixel_crossSIw\").attr(\"transform\", \"translate(25 0)\");\n",
       "});\n",
       "</script>\n"
      ]
     },
     "metadata": {},
     "output_type": "display_data"
    },
    {
     "data": {
      "text/html": [
       "<script>\n",
       "require([\"d3\"], function(d3) {\n",
       "    d3.select(\".usersvg #pixel_crossSIw\").attr(\"transform\", \"translate(24 0)\");\n",
       "});\n",
       "</script>\n"
      ]
     },
     "metadata": {},
     "output_type": "display_data"
    },
    {
     "data": {
      "text/html": [
       "<script>\n",
       "require([\"d3\"], function(d3) {\n",
       "    d3.select(\".usersvg #pixel_crossSIw\").attr(\"transform\", \"translate(23 0)\");\n",
       "});\n",
       "</script>\n"
      ]
     },
     "metadata": {},
     "output_type": "display_data"
    },
    {
     "data": {
      "text/html": [
       "<script>\n",
       "require([\"d3\"], function(d3) {\n",
       "    d3.select(\".usersvg #pixel_crossSIw\").attr(\"transform\", \"translate(23 1)\");\n",
       "});\n",
       "</script>\n"
      ]
     },
     "metadata": {},
     "output_type": "display_data"
    },
    {
     "data": {
      "text/html": [
       "<script>\n",
       "require([\"d3\"], function(d3) {\n",
       "    d3.select(\".usersvg #pixel_crossSIw\").attr(\"transform\", \"translate(24 1)\");\n",
       "});\n",
       "</script>\n"
      ]
     },
     "metadata": {},
     "output_type": "display_data"
    },
    {
     "data": {
      "text/html": [
       "<script>\n",
       "require([\"d3\"], function(d3) {\n",
       "    d3.select(\".usersvg #pixel_crossSIw\").attr(\"transform\", \"translate(23 1)\");\n",
       "});\n",
       "</script>\n"
      ]
     },
     "metadata": {},
     "output_type": "display_data"
    },
    {
     "data": {
      "text/html": [
       "<script>\n",
       "require([\"d3\"], function(d3) {\n",
       "    d3.select(\".usersvg #pixel_crossSIw\").attr(\"transform\", \"translate(23 0)\");\n",
       "});\n",
       "</script>\n"
      ]
     },
     "metadata": {},
     "output_type": "display_data"
    },
    {
     "data": {
      "text/html": [
       "<script>\n",
       "require([\"d3\"], function(d3) {\n",
       "    d3.select(\".usersvg #pixel_crossSIw\").attr(\"transform\", \"translate(22 0)\");\n",
       "});\n",
       "</script>\n"
      ]
     },
     "metadata": {},
     "output_type": "display_data"
    },
    {
     "data": {
      "text/html": [
       "<script>\n",
       "require([\"d3\"], function(d3) {\n",
       "    d3.select(\".usersvg #pixel_crossSIw\").attr(\"transform\", \"translate(22 0)\");\n",
       "});\n",
       "</script>\n"
      ]
     },
     "metadata": {},
     "output_type": "display_data"
    },
    {
     "data": {
      "text/html": [
       "<script>\n",
       "require([\"d3\"], function(d3) {\n",
       "    d3.select(\".usersvg #pixel_crossSIw\").attr(\"transform\", \"translate(21 0)\");\n",
       "});\n",
       "</script>\n"
      ]
     },
     "metadata": {},
     "output_type": "display_data"
    },
    {
     "data": {
      "text/html": [
       "<script>\n",
       "require([\"d3\"], function(d3) {\n",
       "    d3.select(\".usersvg #pixel_crossSIw\").attr(\"transform\", \"translate(21 1)\");\n",
       "});\n",
       "</script>\n"
      ]
     },
     "metadata": {},
     "output_type": "display_data"
    },
    {
     "data": {
      "text/html": [
       "<script>\n",
       "require([\"d3\"], function(d3) {\n",
       "    d3.select(\".usersvg #pixel_crossSIw\").attr(\"transform\", \"translate(21 0)\");\n",
       "});\n",
       "</script>\n"
      ]
     },
     "metadata": {},
     "output_type": "display_data"
    },
    {
     "data": {
      "text/html": [
       "<script>\n",
       "require([\"d3\"], function(d3) {\n",
       "    d3.select(\".usersvg #pixel_crossSIw\").attr(\"transform\", \"translate(21 0)\");\n",
       "});\n",
       "</script>\n"
      ]
     },
     "metadata": {},
     "output_type": "display_data"
    },
    {
     "data": {
      "text/html": [
       "<script>\n",
       "require([\"d3\"], function(d3) {\n",
       "    d3.select(\".usersvg #pixel_crossSIw\").attr(\"transform\", \"translate(21 1)\");\n",
       "});\n",
       "</script>\n"
      ]
     },
     "metadata": {},
     "output_type": "display_data"
    },
    {
     "data": {
      "text/html": [
       "<script>\n",
       "require([\"d3\"], function(d3) {\n",
       "    d3.select(\".usersvg #pixel_crossSIw\").attr(\"transform\", \"translate(21 0)\");\n",
       "});\n",
       "</script>\n"
      ]
     },
     "metadata": {},
     "output_type": "display_data"
    },
    {
     "data": {
      "text/html": [
       "<script>\n",
       "require([\"d3\"], function(d3) {\n",
       "    d3.select(\".usersvg #pixel_crossSIw\").attr(\"transform\", \"translate(22 0)\");\n",
       "});\n",
       "</script>\n"
      ]
     },
     "metadata": {},
     "output_type": "display_data"
    },
    {
     "data": {
      "text/html": [
       "<script>\n",
       "require([\"d3\"], function(d3) {\n",
       "    d3.select(\".usersvg #pixel_crossSIw\").attr(\"transform\", \"translate(22 1)\");\n",
       "});\n",
       "</script>\n"
      ]
     },
     "metadata": {},
     "output_type": "display_data"
    },
    {
     "data": {
      "text/html": [
       "<script>\n",
       "require([\"d3\"], function(d3) {\n",
       "    d3.select(\".usersvg #pixel_crossSIw\").attr(\"transform\", \"translate(21 1)\");\n",
       "});\n",
       "</script>\n"
      ]
     },
     "metadata": {},
     "output_type": "display_data"
    },
    {
     "data": {
      "text/html": [
       "<script>\n",
       "require([\"d3\"], function(d3) {\n",
       "    d3.select(\".usersvg #pixel_crossSIw\").attr(\"transform\", \"translate(22 1)\");\n",
       "});\n",
       "</script>\n"
      ]
     },
     "metadata": {},
     "output_type": "display_data"
    },
    {
     "data": {
      "text/html": [
       "<script>\n",
       "require([\"d3\"], function(d3) {\n",
       "    d3.select(\".usersvg #pixel_crossSIw\").attr(\"transform\", \"translate(21 1)\");\n",
       "});\n",
       "</script>\n"
      ]
     },
     "metadata": {},
     "output_type": "display_data"
    },
    {
     "data": {
      "text/html": [
       "<script>\n",
       "require([\"d3\"], function(d3) {\n",
       "    d3.select(\".usersvg #pixel_crossSIw\").attr(\"transform\", \"translate(20 1)\");\n",
       "});\n",
       "</script>\n"
      ]
     },
     "metadata": {},
     "output_type": "display_data"
    },
    {
     "data": {
      "text/html": [
       "<script>\n",
       "require([\"d3\"], function(d3) {\n",
       "    d3.select(\".usersvg #pixel_crossSIw\").attr(\"transform\", \"translate(20 0)\");\n",
       "});\n",
       "</script>\n"
      ]
     },
     "metadata": {},
     "output_type": "display_data"
    },
    {
     "data": {
      "text/html": [
       "<script>\n",
       "require([\"d3\"], function(d3) {\n",
       "    d3.select(\".usersvg #pixel_crossSIw\").attr(\"transform\", \"translate(19 0)\");\n",
       "});\n",
       "</script>\n"
      ]
     },
     "metadata": {},
     "output_type": "display_data"
    },
    {
     "data": {
      "text/html": [
       "<script>\n",
       "require([\"d3\"], function(d3) {\n",
       "    d3.select(\".usersvg #pixel_crossSIw\").attr(\"transform\", \"translate(19 1)\");\n",
       "});\n",
       "</script>\n"
      ]
     },
     "metadata": {},
     "output_type": "display_data"
    },
    {
     "data": {
      "text/html": [
       "<script>\n",
       "require([\"d3\"], function(d3) {\n",
       "    d3.select(\".usersvg #pixel_crossSIw\").attr(\"transform\", \"translate(19 2)\");\n",
       "});\n",
       "</script>\n"
      ]
     },
     "metadata": {},
     "output_type": "display_data"
    },
    {
     "data": {
      "text/html": [
       "<script>\n",
       "require([\"d3\"], function(d3) {\n",
       "    d3.select(\".usersvg #pixel_crossSIw\").attr(\"transform\", \"translate(20 2)\");\n",
       "});\n",
       "</script>\n"
      ]
     },
     "metadata": {},
     "output_type": "display_data"
    },
    {
     "data": {
      "text/html": [
       "<script>\n",
       "require([\"d3\"], function(d3) {\n",
       "    d3.select(\".usersvg #pixel_crossSIw\").attr(\"transform\", \"translate(19 2)\");\n",
       "});\n",
       "</script>\n"
      ]
     },
     "metadata": {},
     "output_type": "display_data"
    },
    {
     "data": {
      "text/html": [
       "<script>\n",
       "require([\"d3\"], function(d3) {\n",
       "    d3.select(\".usersvg #pixel_crossSIw\").attr(\"transform\", \"translate(18 2)\");\n",
       "});\n",
       "</script>\n"
      ]
     },
     "metadata": {},
     "output_type": "display_data"
    },
    {
     "data": {
      "text/html": [
       "<script>\n",
       "require([\"d3\"], function(d3) {\n",
       "    d3.select(\".usersvg #pixel_crossSIw\").attr(\"transform\", \"translate(18 3)\");\n",
       "});\n",
       "</script>\n"
      ]
     },
     "metadata": {},
     "output_type": "display_data"
    },
    {
     "data": {
      "text/html": [
       "<script>\n",
       "require([\"d3\"], function(d3) {\n",
       "    d3.select(\".usersvg #pixel_crossSIw\").attr(\"transform\", \"translate(18 2)\");\n",
       "});\n",
       "</script>\n"
      ]
     },
     "metadata": {},
     "output_type": "display_data"
    },
    {
     "data": {
      "text/html": [
       "<script>\n",
       "require([\"d3\"], function(d3) {\n",
       "    d3.select(\".usersvg #pixel_crossSIw\").attr(\"transform\", \"translate(17 2)\");\n",
       "});\n",
       "</script>\n"
      ]
     },
     "metadata": {},
     "output_type": "display_data"
    },
    {
     "data": {
      "text/html": [
       "<script>\n",
       "require([\"d3\"], function(d3) {\n",
       "    d3.select(\".usersvg #pixel_crossSIw\").attr(\"transform\", \"translate(16 2)\");\n",
       "});\n",
       "</script>\n"
      ]
     },
     "metadata": {},
     "output_type": "display_data"
    },
    {
     "data": {
      "text/html": [
       "<script>\n",
       "require([\"d3\"], function(d3) {\n",
       "    d3.select(\".usersvg #pixel_crossSIw\").attr(\"transform\", \"translate(16 1)\");\n",
       "});\n",
       "</script>\n"
      ]
     },
     "metadata": {},
     "output_type": "display_data"
    },
    {
     "data": {
      "text/html": [
       "<script>\n",
       "require([\"d3\"], function(d3) {\n",
       "    d3.select(\".usersvg #pixel_crossSIw\").attr(\"transform\", \"translate(16 0)\");\n",
       "});\n",
       "</script>\n"
      ]
     },
     "metadata": {},
     "output_type": "display_data"
    },
    {
     "data": {
      "text/html": [
       "<script>\n",
       "require([\"d3\"], function(d3) {\n",
       "    d3.select(\".usersvg #pixel_crossSIw\").attr(\"transform\", \"translate(15 0)\");\n",
       "});\n",
       "</script>\n"
      ]
     },
     "metadata": {},
     "output_type": "display_data"
    },
    {
     "data": {
      "text/html": [
       "<script>\n",
       "require([\"d3\"], function(d3) {\n",
       "    d3.select(\".usersvg #pixel_crossSIw\").attr(\"transform\", \"translate(15 0)\");\n",
       "});\n",
       "</script>\n"
      ]
     },
     "metadata": {},
     "output_type": "display_data"
    },
    {
     "data": {
      "text/html": [
       "<script>\n",
       "require([\"d3\"], function(d3) {\n",
       "    d3.select(\".usersvg #pixel_crossSIw\").attr(\"transform\", \"translate(15 0)\");\n",
       "});\n",
       "</script>\n"
      ]
     },
     "metadata": {},
     "output_type": "display_data"
    },
    {
     "data": {
      "text/html": [
       "<script>\n",
       "require([\"d3\"], function(d3) {\n",
       "    d3.select(\".usersvg #pixel_crossSIw\").attr(\"transform\", \"translate(14 0)\");\n",
       "});\n",
       "</script>\n"
      ]
     },
     "metadata": {},
     "output_type": "display_data"
    },
    {
     "data": {
      "text/html": [
       "<script>\n",
       "require([\"d3\"], function(d3) {\n",
       "    d3.select(\".usersvg #pixel_crossSIw\").attr(\"transform\", \"translate(15 0)\");\n",
       "});\n",
       "</script>\n"
      ]
     },
     "metadata": {},
     "output_type": "display_data"
    },
    {
     "data": {
      "text/html": [
       "<script>\n",
       "require([\"d3\"], function(d3) {\n",
       "    d3.select(\".usersvg #pixel_crossSIw\").attr(\"transform\", \"translate(15 1)\");\n",
       "});\n",
       "</script>\n"
      ]
     },
     "metadata": {},
     "output_type": "display_data"
    },
    {
     "data": {
      "text/html": [
       "<script>\n",
       "require([\"d3\"], function(d3) {\n",
       "    d3.select(\".usersvg #pixel_crossSIw\").attr(\"transform\", \"translate(15 2)\");\n",
       "});\n",
       "</script>\n"
      ]
     },
     "metadata": {},
     "output_type": "display_data"
    },
    {
     "data": {
      "text/html": [
       "<script>\n",
       "require([\"d3\"], function(d3) {\n",
       "    d3.select(\".usersvg #pixel_crossSIw\").attr(\"transform\", \"translate(15 1)\");\n",
       "});\n",
       "</script>\n"
      ]
     },
     "metadata": {},
     "output_type": "display_data"
    },
    {
     "data": {
      "text/html": [
       "<script>\n",
       "require([\"d3\"], function(d3) {\n",
       "    d3.select(\".usersvg #pixel_crossSIw\").attr(\"transform\", \"translate(15 0)\");\n",
       "});\n",
       "</script>\n"
      ]
     },
     "metadata": {},
     "output_type": "display_data"
    },
    {
     "data": {
      "text/html": [
       "<script>\n",
       "require([\"d3\"], function(d3) {\n",
       "    d3.select(\".usersvg #pixel_crossSIw\").attr(\"transform\", \"translate(15 1)\");\n",
       "});\n",
       "</script>\n"
      ]
     },
     "metadata": {},
     "output_type": "display_data"
    },
    {
     "data": {
      "text/html": [
       "<script>\n",
       "require([\"d3\"], function(d3) {\n",
       "    d3.select(\".usersvg #pixel_crossSIw\").attr(\"transform\", \"translate(14 1)\");\n",
       "});\n",
       "</script>\n"
      ]
     },
     "metadata": {},
     "output_type": "display_data"
    },
    {
     "data": {
      "text/html": [
       "<script>\n",
       "require([\"d3\"], function(d3) {\n",
       "    d3.select(\".usersvg #pixel_crossSIw\").attr(\"transform\", \"translate(13 1)\");\n",
       "});\n",
       "</script>\n"
      ]
     },
     "metadata": {},
     "output_type": "display_data"
    },
    {
     "data": {
      "text/html": [
       "<script>\n",
       "require([\"d3\"], function(d3) {\n",
       "    d3.select(\".usersvg #pixel_crossSIw\").attr(\"transform\", \"translate(14 1)\");\n",
       "});\n",
       "</script>\n"
      ]
     },
     "metadata": {},
     "output_type": "display_data"
    },
    {
     "data": {
      "text/html": [
       "<script>\n",
       "require([\"d3\"], function(d3) {\n",
       "    d3.select(\".usersvg #pixel_crossSIw\").attr(\"transform\", \"translate(14 0)\");\n",
       "});\n",
       "</script>\n"
      ]
     },
     "metadata": {},
     "output_type": "display_data"
    },
    {
     "data": {
      "text/html": [
       "<script>\n",
       "require([\"d3\"], function(d3) {\n",
       "    d3.select(\".usersvg #pixel_crossSIw\").attr(\"transform\", \"translate(15 0)\");\n",
       "});\n",
       "</script>\n"
      ]
     },
     "metadata": {},
     "output_type": "display_data"
    },
    {
     "data": {
      "text/html": [
       "<script>\n",
       "require([\"d3\"], function(d3) {\n",
       "    d3.select(\".usersvg #pixel_crossSIw\").attr(\"transform\", \"translate(16 0)\");\n",
       "});\n",
       "</script>\n"
      ]
     },
     "metadata": {},
     "output_type": "display_data"
    },
    {
     "data": {
      "text/html": [
       "<script>\n",
       "require([\"d3\"], function(d3) {\n",
       "    d3.select(\".usersvg #pixel_crossSIw\").attr(\"transform\", \"translate(16 0)\");\n",
       "});\n",
       "</script>\n"
      ]
     },
     "metadata": {},
     "output_type": "display_data"
    },
    {
     "data": {
      "text/html": [
       "<script>\n",
       "require([\"d3\"], function(d3) {\n",
       "    d3.select(\".usersvg #pixel_crossSIw\").attr(\"transform\", \"translate(15 0)\");\n",
       "});\n",
       "</script>\n"
      ]
     },
     "metadata": {},
     "output_type": "display_data"
    },
    {
     "data": {
      "text/html": [
       "<script>\n",
       "require([\"d3\"], function(d3) {\n",
       "    d3.select(\".usersvg #pixel_crossSIw\").attr(\"transform\", \"translate(15 0)\");\n",
       "});\n",
       "</script>\n"
      ]
     },
     "metadata": {},
     "output_type": "display_data"
    },
    {
     "data": {
      "text/html": [
       "<script>\n",
       "require([\"d3\"], function(d3) {\n",
       "    d3.select(\".usersvg #pixel_crossSIw\").attr(\"transform\", \"translate(15 1)\");\n",
       "});\n",
       "</script>\n"
      ]
     },
     "metadata": {},
     "output_type": "display_data"
    },
    {
     "data": {
      "text/html": [
       "<script>\n",
       "require([\"d3\"], function(d3) {\n",
       "    d3.select(\".usersvg #pixel_crossSIw\").attr(\"transform\", \"translate(15 0)\");\n",
       "});\n",
       "</script>\n"
      ]
     },
     "metadata": {},
     "output_type": "display_data"
    },
    {
     "data": {
      "text/html": [
       "<script>\n",
       "require([\"d3\"], function(d3) {\n",
       "    d3.select(\".usersvg #pixel_crossSIw\").attr(\"transform\", \"translate(15 1)\");\n",
       "});\n",
       "</script>\n"
      ]
     },
     "metadata": {},
     "output_type": "display_data"
    },
    {
     "data": {
      "text/html": [
       "<script>\n",
       "require([\"d3\"], function(d3) {\n",
       "    d3.select(\".usersvg #pixel_crossSIw\").attr(\"transform\", \"translate(15 2)\");\n",
       "});\n",
       "</script>\n"
      ]
     },
     "metadata": {},
     "output_type": "display_data"
    },
    {
     "data": {
      "text/html": [
       "<script>\n",
       "require([\"d3\"], function(d3) {\n",
       "    d3.select(\".usersvg #pixel_crossSIw\").attr(\"transform\", \"translate(15 3)\");\n",
       "});\n",
       "</script>\n"
      ]
     },
     "metadata": {},
     "output_type": "display_data"
    },
    {
     "data": {
      "text/html": [
       "<script>\n",
       "require([\"d3\"], function(d3) {\n",
       "    d3.select(\".usersvg #pixel_crossSIw\").attr(\"transform\", \"translate(15 2)\");\n",
       "});\n",
       "</script>\n"
      ]
     },
     "metadata": {},
     "output_type": "display_data"
    },
    {
     "data": {
      "text/html": [
       "<script>\n",
       "require([\"d3\"], function(d3) {\n",
       "    d3.select(\".usersvg #pixel_crossSIw\").attr(\"transform\", \"translate(14 2)\");\n",
       "});\n",
       "</script>\n"
      ]
     },
     "metadata": {},
     "output_type": "display_data"
    },
    {
     "data": {
      "text/html": [
       "<script>\n",
       "require([\"d3\"], function(d3) {\n",
       "    d3.select(\".usersvg #pixel_crossSIw\").attr(\"transform\", \"translate(14 1)\");\n",
       "});\n",
       "</script>\n"
      ]
     },
     "metadata": {},
     "output_type": "display_data"
    },
    {
     "data": {
      "text/html": [
       "<script>\n",
       "require([\"d3\"], function(d3) {\n",
       "    d3.select(\".usersvg #pixel_crossSIw\").attr(\"transform\", \"translate(14 2)\");\n",
       "});\n",
       "</script>\n"
      ]
     },
     "metadata": {},
     "output_type": "display_data"
    },
    {
     "data": {
      "text/html": [
       "<script>\n",
       "require([\"d3\"], function(d3) {\n",
       "    d3.select(\".usersvg #pixel_crossSIw\").attr(\"transform\", \"translate(13 2)\");\n",
       "});\n",
       "</script>\n"
      ]
     },
     "metadata": {},
     "output_type": "display_data"
    },
    {
     "data": {
      "text/html": [
       "<script>\n",
       "require([\"d3\"], function(d3) {\n",
       "    d3.select(\".usersvg #pixel_crossSIw\").attr(\"transform\", \"translate(14 2)\");\n",
       "});\n",
       "</script>\n"
      ]
     },
     "metadata": {},
     "output_type": "display_data"
    },
    {
     "data": {
      "text/html": [
       "<script>\n",
       "require([\"d3\"], function(d3) {\n",
       "    d3.select(\".usersvg #pixel_crossSIw\").attr(\"transform\", \"translate(14 1)\");\n",
       "});\n",
       "</script>\n"
      ]
     },
     "metadata": {},
     "output_type": "display_data"
    },
    {
     "data": {
      "text/html": [
       "<script>\n",
       "require([\"d3\"], function(d3) {\n",
       "    d3.select(\".usersvg #pixel_crossSIw\").attr(\"transform\", \"translate(15 1)\");\n",
       "});\n",
       "</script>\n"
      ]
     },
     "metadata": {},
     "output_type": "display_data"
    },
    {
     "data": {
      "text/html": [
       "<script>\n",
       "require([\"d3\"], function(d3) {\n",
       "    d3.select(\".usersvg #pixel_crossSIw\").attr(\"transform\", \"translate(15 0)\");\n",
       "});\n",
       "</script>\n"
      ]
     },
     "metadata": {},
     "output_type": "display_data"
    },
    {
     "data": {
      "text/html": [
       "<script>\n",
       "require([\"d3\"], function(d3) {\n",
       "    d3.select(\".usersvg #pixel_crossSIw\").attr(\"transform\", \"translate(15 1)\");\n",
       "});\n",
       "</script>\n"
      ]
     },
     "metadata": {},
     "output_type": "display_data"
    },
    {
     "data": {
      "text/html": [
       "<script>\n",
       "require([\"d3\"], function(d3) {\n",
       "    d3.select(\".usersvg #pixel_crossSIw\").attr(\"transform\", \"translate(15 2)\");\n",
       "});\n",
       "</script>\n"
      ]
     },
     "metadata": {},
     "output_type": "display_data"
    },
    {
     "data": {
      "text/html": [
       "<script>\n",
       "require([\"d3\"], function(d3) {\n",
       "    d3.select(\".usersvg #pixel_crossSIw\").attr(\"transform\", \"translate(15 3)\");\n",
       "});\n",
       "</script>\n"
      ]
     },
     "metadata": {},
     "output_type": "display_data"
    },
    {
     "data": {
      "text/html": [
       "<script>\n",
       "require([\"d3\"], function(d3) {\n",
       "    d3.select(\".usersvg #pixel_crossSIw\").attr(\"transform\", \"translate(15 2)\");\n",
       "});\n",
       "</script>\n"
      ]
     },
     "metadata": {},
     "output_type": "display_data"
    },
    {
     "data": {
      "text/html": [
       "<script>\n",
       "require([\"d3\"], function(d3) {\n",
       "    d3.select(\".usersvg #pixel_crossSIw\").attr(\"transform\", \"translate(14 2)\");\n",
       "});\n",
       "</script>\n"
      ]
     },
     "metadata": {},
     "output_type": "display_data"
    },
    {
     "data": {
      "text/html": [
       "<script>\n",
       "require([\"d3\"], function(d3) {\n",
       "    d3.select(\".usersvg #pixel_crossSIw\").attr(\"transform\", \"translate(14 1)\");\n",
       "});\n",
       "</script>\n"
      ]
     },
     "metadata": {},
     "output_type": "display_data"
    },
    {
     "data": {
      "text/html": [
       "<script>\n",
       "require([\"d3\"], function(d3) {\n",
       "    d3.select(\".usersvg #pixel_crossSIw\").attr(\"transform\", \"translate(13 1)\");\n",
       "});\n",
       "</script>\n"
      ]
     },
     "metadata": {},
     "output_type": "display_data"
    },
    {
     "data": {
      "text/html": [
       "<script>\n",
       "require([\"d3\"], function(d3) {\n",
       "    d3.select(\".usersvg #pixel_crossSIw\").attr(\"transform\", \"translate(13 2)\");\n",
       "});\n",
       "</script>\n"
      ]
     },
     "metadata": {},
     "output_type": "display_data"
    },
    {
     "data": {
      "text/html": [
       "<script>\n",
       "require([\"d3\"], function(d3) {\n",
       "    d3.select(\".usersvg #pixel_crossSIw\").attr(\"transform\", \"translate(12 2)\");\n",
       "});\n",
       "</script>\n"
      ]
     },
     "metadata": {},
     "output_type": "display_data"
    },
    {
     "data": {
      "text/html": [
       "<script>\n",
       "require([\"d3\"], function(d3) {\n",
       "    d3.select(\".usersvg #pixel_crossSIw\").attr(\"transform\", \"translate(13 2)\");\n",
       "});\n",
       "</script>\n"
      ]
     },
     "metadata": {},
     "output_type": "display_data"
    },
    {
     "data": {
      "text/html": [
       "<script>\n",
       "require([\"d3\"], function(d3) {\n",
       "    d3.select(\".usersvg #pixel_crossSIw\").attr(\"transform\", \"translate(14 2)\");\n",
       "});\n",
       "</script>\n"
      ]
     },
     "metadata": {},
     "output_type": "display_data"
    },
    {
     "data": {
      "text/html": [
       "<script>\n",
       "require([\"d3\"], function(d3) {\n",
       "    d3.select(\".usersvg #pixel_crossSIw\").attr(\"transform\", \"translate(15 2)\");\n",
       "});\n",
       "</script>\n"
      ]
     },
     "metadata": {},
     "output_type": "display_data"
    },
    {
     "data": {
      "text/html": [
       "<script>\n",
       "require([\"d3\"], function(d3) {\n",
       "    d3.select(\".usersvg #pixel_crossSIw\").attr(\"transform\", \"translate(16 2)\");\n",
       "});\n",
       "</script>\n"
      ]
     },
     "metadata": {},
     "output_type": "display_data"
    },
    {
     "data": {
      "text/html": [
       "<script>\n",
       "require([\"d3\"], function(d3) {\n",
       "    d3.select(\".usersvg #pixel_crossSIw\").attr(\"transform\", \"translate(16 1)\");\n",
       "});\n",
       "</script>\n"
      ]
     },
     "metadata": {},
     "output_type": "display_data"
    },
    {
     "data": {
      "text/html": [
       "<script>\n",
       "require([\"d3\"], function(d3) {\n",
       "    d3.select(\".usersvg #pixel_crossSIw\").attr(\"transform\", \"translate(15 1)\");\n",
       "});\n",
       "</script>\n"
      ]
     },
     "metadata": {},
     "output_type": "display_data"
    },
    {
     "data": {
      "text/html": [
       "<script>\n",
       "require([\"d3\"], function(d3) {\n",
       "    d3.select(\".usersvg #pixel_crossSIw\").attr(\"transform\", \"translate(16 1)\");\n",
       "});\n",
       "</script>\n"
      ]
     },
     "metadata": {},
     "output_type": "display_data"
    },
    {
     "data": {
      "text/html": [
       "<script>\n",
       "require([\"d3\"], function(d3) {\n",
       "    d3.select(\".usersvg #pixel_crossSIw\").attr(\"transform\", \"translate(16 0)\");\n",
       "});\n",
       "</script>\n"
      ]
     },
     "metadata": {},
     "output_type": "display_data"
    },
    {
     "data": {
      "text/html": [
       "<script>\n",
       "require([\"d3\"], function(d3) {\n",
       "    d3.select(\".usersvg #pixel_crossSIw\").attr(\"transform\", \"translate(17 0)\");\n",
       "});\n",
       "</script>\n"
      ]
     },
     "metadata": {},
     "output_type": "display_data"
    },
    {
     "data": {
      "text/html": [
       "<script>\n",
       "require([\"d3\"], function(d3) {\n",
       "    d3.select(\".usersvg #pixel_crossSIw\").attr(\"transform\", \"translate(18 0)\");\n",
       "});\n",
       "</script>\n"
      ]
     },
     "metadata": {},
     "output_type": "display_data"
    },
    {
     "data": {
      "text/html": [
       "<script>\n",
       "require([\"d3\"], function(d3) {\n",
       "    d3.select(\".usersvg #pixel_crossSIw\").attr(\"transform\", \"translate(18 1)\");\n",
       "});\n",
       "</script>\n"
      ]
     },
     "metadata": {},
     "output_type": "display_data"
    },
    {
     "data": {
      "text/html": [
       "<script>\n",
       "require([\"d3\"], function(d3) {\n",
       "    d3.select(\".usersvg #pixel_crossSIw\").attr(\"transform\", \"translate(18 2)\");\n",
       "});\n",
       "</script>\n"
      ]
     },
     "metadata": {},
     "output_type": "display_data"
    },
    {
     "data": {
      "text/html": [
       "<script>\n",
       "require([\"d3\"], function(d3) {\n",
       "    d3.select(\".usersvg #pixel_crossSIw\").attr(\"transform\", \"translate(18 1)\");\n",
       "});\n",
       "</script>\n"
      ]
     },
     "metadata": {},
     "output_type": "display_data"
    },
    {
     "data": {
      "text/html": [
       "<script>\n",
       "require([\"d3\"], function(d3) {\n",
       "    d3.select(\".usersvg #pixel_crossSIw\").attr(\"transform\", \"translate(18 2)\");\n",
       "});\n",
       "</script>\n"
      ]
     },
     "metadata": {},
     "output_type": "display_data"
    },
    {
     "data": {
      "text/html": [
       "<script>\n",
       "require([\"d3\"], function(d3) {\n",
       "    d3.select(\".usersvg #pixel_crossSIw\").attr(\"transform\", \"translate(19 2)\");\n",
       "});\n",
       "</script>\n"
      ]
     },
     "metadata": {},
     "output_type": "display_data"
    },
    {
     "data": {
      "text/html": [
       "<script>\n",
       "require([\"d3\"], function(d3) {\n",
       "    d3.select(\".usersvg #pixel_crossSIw\").attr(\"transform\", \"translate(19 1)\");\n",
       "});\n",
       "</script>\n"
      ]
     },
     "metadata": {},
     "output_type": "display_data"
    },
    {
     "data": {
      "text/html": [
       "<script>\n",
       "require([\"d3\"], function(d3) {\n",
       "    d3.select(\".usersvg #pixel_crossSIw\").attr(\"transform\", \"translate(19 0)\");\n",
       "});\n",
       "</script>\n"
      ]
     },
     "metadata": {},
     "output_type": "display_data"
    },
    {
     "data": {
      "text/html": [
       "<script>\n",
       "require([\"d3\"], function(d3) {\n",
       "    d3.select(\".usersvg #pixel_crossSIw\").attr(\"transform\", \"translate(19 0)\");\n",
       "});\n",
       "</script>\n"
      ]
     },
     "metadata": {},
     "output_type": "display_data"
    },
    {
     "data": {
      "text/html": [
       "<script>\n",
       "require([\"d3\"], function(d3) {\n",
       "    d3.select(\".usersvg #pixel_crossSIw\").attr(\"transform\", \"translate(19 0)\");\n",
       "});\n",
       "</script>\n"
      ]
     },
     "metadata": {},
     "output_type": "display_data"
    },
    {
     "data": {
      "text/html": [
       "<script>\n",
       "require([\"d3\"], function(d3) {\n",
       "    d3.select(\".usersvg #pixel_crossSIw\").attr(\"transform\", \"translate(18 0)\");\n",
       "});\n",
       "</script>\n"
      ]
     },
     "metadata": {},
     "output_type": "display_data"
    },
    {
     "data": {
      "text/html": [
       "<script>\n",
       "require([\"d3\"], function(d3) {\n",
       "    d3.select(\".usersvg #pixel_crossSIw\").attr(\"transform\", \"translate(18 1)\");\n",
       "});\n",
       "</script>\n"
      ]
     },
     "metadata": {},
     "output_type": "display_data"
    },
    {
     "data": {
      "text/html": [
       "<script>\n",
       "require([\"d3\"], function(d3) {\n",
       "    d3.select(\".usersvg #pixel_crossSIw\").attr(\"transform\", \"translate(18 2)\");\n",
       "});\n",
       "</script>\n"
      ]
     },
     "metadata": {},
     "output_type": "display_data"
    },
    {
     "data": {
      "text/html": [
       "<script>\n",
       "require([\"d3\"], function(d3) {\n",
       "    d3.select(\".usersvg #pixel_crossSIw\").attr(\"transform\", \"translate(18 3)\");\n",
       "});\n",
       "</script>\n"
      ]
     },
     "metadata": {},
     "output_type": "display_data"
    },
    {
     "data": {
      "text/html": [
       "<script>\n",
       "require([\"d3\"], function(d3) {\n",
       "    d3.select(\".usersvg #pixel_crossSIw\").attr(\"transform\", \"translate(17 3)\");\n",
       "});\n",
       "</script>\n"
      ]
     },
     "metadata": {},
     "output_type": "display_data"
    },
    {
     "data": {
      "text/html": [
       "<script>\n",
       "require([\"d3\"], function(d3) {\n",
       "    d3.select(\".usersvg #pixel_crossSIw\").attr(\"transform\", \"translate(18 3)\");\n",
       "});\n",
       "</script>\n"
      ]
     },
     "metadata": {},
     "output_type": "display_data"
    },
    {
     "data": {
      "text/html": [
       "<script>\n",
       "require([\"d3\"], function(d3) {\n",
       "    d3.select(\".usersvg #pixel_crossSIw\").attr(\"transform\", \"translate(18 2)\");\n",
       "});\n",
       "</script>\n"
      ]
     },
     "metadata": {},
     "output_type": "display_data"
    },
    {
     "data": {
      "text/html": [
       "<script>\n",
       "require([\"d3\"], function(d3) {\n",
       "    d3.select(\".usersvg #pixel_crossSIw\").attr(\"transform\", \"translate(19 2)\");\n",
       "});\n",
       "</script>\n"
      ]
     },
     "metadata": {},
     "output_type": "display_data"
    },
    {
     "data": {
      "text/html": [
       "<script>\n",
       "require([\"d3\"], function(d3) {\n",
       "    d3.select(\".usersvg #pixel_crossSIw\").attr(\"transform\", \"translate(18 2)\");\n",
       "});\n",
       "</script>\n"
      ]
     },
     "metadata": {},
     "output_type": "display_data"
    },
    {
     "data": {
      "text/html": [
       "<script>\n",
       "require([\"d3\"], function(d3) {\n",
       "    d3.select(\".usersvg #pixel_crossSIw\").attr(\"transform\", \"translate(17 2)\");\n",
       "});\n",
       "</script>\n"
      ]
     },
     "metadata": {},
     "output_type": "display_data"
    },
    {
     "data": {
      "text/html": [
       "<script>\n",
       "require([\"d3\"], function(d3) {\n",
       "    d3.select(\".usersvg #pixel_crossSIw\").attr(\"transform\", \"translate(16 2)\");\n",
       "});\n",
       "</script>\n"
      ]
     },
     "metadata": {},
     "output_type": "display_data"
    },
    {
     "data": {
      "text/html": [
       "<script>\n",
       "require([\"d3\"], function(d3) {\n",
       "    d3.select(\".usersvg #pixel_crossSIw\").attr(\"transform\", \"translate(16 1)\");\n",
       "});\n",
       "</script>\n"
      ]
     },
     "metadata": {},
     "output_type": "display_data"
    },
    {
     "data": {
      "text/html": [
       "<script>\n",
       "require([\"d3\"], function(d3) {\n",
       "    d3.select(\".usersvg #pixel_crossSIw\").attr(\"transform\", \"translate(17 1)\");\n",
       "});\n",
       "</script>\n"
      ]
     },
     "metadata": {},
     "output_type": "display_data"
    },
    {
     "data": {
      "text/html": [
       "<script>\n",
       "require([\"d3\"], function(d3) {\n",
       "    d3.select(\".usersvg #pixel_crossSIw\").attr(\"transform\", \"translate(17 2)\");\n",
       "});\n",
       "</script>\n"
      ]
     },
     "metadata": {},
     "output_type": "display_data"
    },
    {
     "data": {
      "text/html": [
       "<script>\n",
       "require([\"d3\"], function(d3) {\n",
       "    d3.select(\".usersvg #pixel_crossSIw\").attr(\"transform\", \"translate(17 3)\");\n",
       "});\n",
       "</script>\n"
      ]
     },
     "metadata": {},
     "output_type": "display_data"
    },
    {
     "data": {
      "text/html": [
       "<script>\n",
       "require([\"d3\"], function(d3) {\n",
       "    d3.select(\".usersvg #pixel_crossSIw\").attr(\"transform\", \"translate(16 3)\");\n",
       "});\n",
       "</script>\n"
      ]
     },
     "metadata": {},
     "output_type": "display_data"
    },
    {
     "data": {
      "text/html": [
       "<script>\n",
       "require([\"d3\"], function(d3) {\n",
       "    d3.select(\".usersvg #pixel_crossSIw\").attr(\"transform\", \"translate(16 2)\");\n",
       "});\n",
       "</script>\n"
      ]
     },
     "metadata": {},
     "output_type": "display_data"
    },
    {
     "data": {
      "text/html": [
       "<script>\n",
       "require([\"d3\"], function(d3) {\n",
       "    d3.select(\".usersvg #pixel_crossSIw\").attr(\"transform\", \"translate(16 1)\");\n",
       "});\n",
       "</script>\n"
      ]
     },
     "metadata": {},
     "output_type": "display_data"
    },
    {
     "data": {
      "text/html": [
       "<script>\n",
       "require([\"d3\"], function(d3) {\n",
       "    d3.select(\".usersvg #pixel_crossSIw\").attr(\"transform\", \"translate(16 0)\");\n",
       "});\n",
       "</script>\n"
      ]
     },
     "metadata": {},
     "output_type": "display_data"
    },
    {
     "data": {
      "text/html": [
       "<script>\n",
       "require([\"d3\"], function(d3) {\n",
       "    d3.select(\".usersvg #pixel_crossSIw\").attr(\"transform\", \"translate(16 1)\");\n",
       "});\n",
       "</script>\n"
      ]
     },
     "metadata": {},
     "output_type": "display_data"
    },
    {
     "data": {
      "text/html": [
       "<script>\n",
       "require([\"d3\"], function(d3) {\n",
       "    d3.select(\".usersvg #pixel_crossSIw\").attr(\"transform\", \"translate(16 0)\");\n",
       "});\n",
       "</script>\n"
      ]
     },
     "metadata": {},
     "output_type": "display_data"
    },
    {
     "data": {
      "text/html": [
       "<script>\n",
       "require([\"d3\"], function(d3) {\n",
       "    d3.select(\".usersvg #pixel_crossSIw\").attr(\"transform\", \"translate(15 0)\");\n",
       "});\n",
       "</script>\n"
      ]
     },
     "metadata": {},
     "output_type": "display_data"
    },
    {
     "data": {
      "text/html": [
       "<script>\n",
       "require([\"d3\"], function(d3) {\n",
       "    d3.select(\".usersvg #pixel_crossSIw\").attr(\"transform\", \"translate(16 0)\");\n",
       "});\n",
       "</script>\n"
      ]
     },
     "metadata": {},
     "output_type": "display_data"
    },
    {
     "data": {
      "text/html": [
       "<script>\n",
       "require([\"d3\"], function(d3) {\n",
       "    d3.select(\".usersvg #pixel_crossSIw\").attr(\"transform\", \"translate(15 0)\");\n",
       "});\n",
       "</script>\n"
      ]
     },
     "metadata": {},
     "output_type": "display_data"
    },
    {
     "data": {
      "text/html": [
       "<script>\n",
       "require([\"d3\"], function(d3) {\n",
       "    d3.select(\".usersvg #pixel_crossSIw\").attr(\"transform\", \"translate(15 0)\");\n",
       "});\n",
       "</script>\n"
      ]
     },
     "metadata": {},
     "output_type": "display_data"
    },
    {
     "data": {
      "text/html": [
       "<script>\n",
       "require([\"d3\"], function(d3) {\n",
       "    d3.select(\".usersvg #pixel_crossSIw\").attr(\"transform\", \"translate(15 0)\");\n",
       "});\n",
       "</script>\n"
      ]
     },
     "metadata": {},
     "output_type": "display_data"
    },
    {
     "data": {
      "text/html": [
       "<script>\n",
       "require([\"d3\"], function(d3) {\n",
       "    d3.select(\".usersvg #pixel_crossSIw\").attr(\"transform\", \"translate(15 0)\");\n",
       "});\n",
       "</script>\n"
      ]
     },
     "metadata": {},
     "output_type": "display_data"
    },
    {
     "data": {
      "text/html": [
       "<script>\n",
       "require([\"d3\"], function(d3) {\n",
       "    d3.select(\".usersvg #pixel_crossSIw\").attr(\"transform\", \"translate(14 0)\");\n",
       "});\n",
       "</script>\n"
      ]
     },
     "metadata": {},
     "output_type": "display_data"
    },
    {
     "data": {
      "text/html": [
       "<script>\n",
       "require([\"d3\"], function(d3) {\n",
       "    d3.select(\".usersvg #pixel_crossSIw\").attr(\"transform\", \"translate(15 0)\");\n",
       "});\n",
       "</script>\n"
      ]
     },
     "metadata": {},
     "output_type": "display_data"
    },
    {
     "data": {
      "text/html": [
       "<script>\n",
       "require([\"d3\"], function(d3) {\n",
       "    d3.select(\".usersvg #pixel_crossSIw\").attr(\"transform\", \"translate(16 0)\");\n",
       "});\n",
       "</script>\n"
      ]
     },
     "metadata": {},
     "output_type": "display_data"
    },
    {
     "data": {
      "text/html": [
       "<script>\n",
       "require([\"d3\"], function(d3) {\n",
       "    d3.select(\".usersvg #pixel_crossSIw\").attr(\"transform\", \"translate(15 0)\");\n",
       "});\n",
       "</script>\n"
      ]
     },
     "metadata": {},
     "output_type": "display_data"
    },
    {
     "data": {
      "text/html": [
       "<script>\n",
       "require([\"d3\"], function(d3) {\n",
       "    d3.select(\".usersvg #pixel_crossSIw\").attr(\"transform\", \"translate(15 1)\");\n",
       "});\n",
       "</script>\n"
      ]
     },
     "metadata": {},
     "output_type": "display_data"
    },
    {
     "data": {
      "text/html": [
       "<script>\n",
       "require([\"d3\"], function(d3) {\n",
       "    d3.select(\".usersvg #pixel_crossSIw\").attr(\"transform\", \"translate(14 1)\");\n",
       "});\n",
       "</script>\n"
      ]
     },
     "metadata": {},
     "output_type": "display_data"
    },
    {
     "data": {
      "text/html": [
       "<script>\n",
       "require([\"d3\"], function(d3) {\n",
       "    d3.select(\".usersvg #pixel_crossSIw\").attr(\"transform\", \"translate(15 1)\");\n",
       "});\n",
       "</script>\n"
      ]
     },
     "metadata": {},
     "output_type": "display_data"
    },
    {
     "data": {
      "text/html": [
       "<script>\n",
       "require([\"d3\"], function(d3) {\n",
       "    d3.select(\".usersvg #pixel_crossSIw\").attr(\"transform\", \"translate(15 0)\");\n",
       "});\n",
       "</script>\n"
      ]
     },
     "metadata": {},
     "output_type": "display_data"
    },
    {
     "data": {
      "text/html": [
       "<script>\n",
       "require([\"d3\"], function(d3) {\n",
       "    d3.select(\".usersvg #pixel_crossSIw\").attr(\"transform\", \"translate(15 1)\");\n",
       "});\n",
       "</script>\n"
      ]
     },
     "metadata": {},
     "output_type": "display_data"
    },
    {
     "data": {
      "text/html": [
       "<script>\n",
       "require([\"d3\"], function(d3) {\n",
       "    d3.select(\".usersvg #pixel_crossSIw\").attr(\"transform\", \"translate(14 1)\");\n",
       "});\n",
       "</script>\n"
      ]
     },
     "metadata": {},
     "output_type": "display_data"
    },
    {
     "data": {
      "text/html": [
       "<script>\n",
       "require([\"d3\"], function(d3) {\n",
       "    d3.select(\".usersvg #pixel_crossSIw\").attr(\"transform\", \"translate(14 0)\");\n",
       "});\n",
       "</script>\n"
      ]
     },
     "metadata": {},
     "output_type": "display_data"
    },
    {
     "data": {
      "text/html": [
       "<script>\n",
       "require([\"d3\"], function(d3) {\n",
       "    d3.select(\".usersvg #pixel_crossSIw\").attr(\"transform\", \"translate(14 1)\");\n",
       "});\n",
       "</script>\n"
      ]
     },
     "metadata": {},
     "output_type": "display_data"
    },
    {
     "data": {
      "text/html": [
       "<script>\n",
       "require([\"d3\"], function(d3) {\n",
       "    d3.select(\".usersvg #pixel_crossSIw\").attr(\"transform\", \"translate(13 1)\");\n",
       "});\n",
       "</script>\n"
      ]
     },
     "metadata": {},
     "output_type": "display_data"
    },
    {
     "data": {
      "text/html": [
       "<script>\n",
       "require([\"d3\"], function(d3) {\n",
       "    d3.select(\".usersvg #pixel_crossSIw\").attr(\"transform\", \"translate(12 1)\");\n",
       "});\n",
       "</script>\n"
      ]
     },
     "metadata": {},
     "output_type": "display_data"
    },
    {
     "data": {
      "text/html": [
       "<script>\n",
       "require([\"d3\"], function(d3) {\n",
       "    d3.select(\".usersvg #pixel_crossSIw\").attr(\"transform\", \"translate(11 1)\");\n",
       "});\n",
       "</script>\n"
      ]
     },
     "metadata": {},
     "output_type": "display_data"
    },
    {
     "data": {
      "text/html": [
       "<script>\n",
       "require([\"d3\"], function(d3) {\n",
       "    d3.select(\".usersvg #pixel_crossSIw\").attr(\"transform\", \"translate(11 2)\");\n",
       "});\n",
       "</script>\n"
      ]
     },
     "metadata": {},
     "output_type": "display_data"
    },
    {
     "data": {
      "text/html": [
       "<script>\n",
       "require([\"d3\"], function(d3) {\n",
       "    d3.select(\".usersvg #pixel_crossSIw\").attr(\"transform\", \"translate(12 2)\");\n",
       "});\n",
       "</script>\n"
      ]
     },
     "metadata": {},
     "output_type": "display_data"
    },
    {
     "data": {
      "text/html": [
       "<script>\n",
       "require([\"d3\"], function(d3) {\n",
       "    d3.select(\".usersvg #pixel_crossSIw\").attr(\"transform\", \"translate(12 3)\");\n",
       "});\n",
       "</script>\n"
      ]
     },
     "metadata": {},
     "output_type": "display_data"
    },
    {
     "data": {
      "text/html": [
       "<script>\n",
       "require([\"d3\"], function(d3) {\n",
       "    d3.select(\".usersvg #pixel_crossSIw\").attr(\"transform\", \"translate(11 3)\");\n",
       "});\n",
       "</script>\n"
      ]
     },
     "metadata": {},
     "output_type": "display_data"
    },
    {
     "data": {
      "text/html": [
       "<script>\n",
       "require([\"d3\"], function(d3) {\n",
       "    d3.select(\".usersvg #pixel_crossSIw\").attr(\"transform\", \"translate(12 3)\");\n",
       "});\n",
       "</script>\n"
      ]
     },
     "metadata": {},
     "output_type": "display_data"
    },
    {
     "data": {
      "text/html": [
       "<script>\n",
       "require([\"d3\"], function(d3) {\n",
       "    d3.select(\".usersvg #pixel_crossSIw\").attr(\"transform\", \"translate(13 3)\");\n",
       "});\n",
       "</script>\n"
      ]
     },
     "metadata": {},
     "output_type": "display_data"
    },
    {
     "data": {
      "text/html": [
       "<script>\n",
       "require([\"d3\"], function(d3) {\n",
       "    d3.select(\".usersvg #pixel_crossSIw\").attr(\"transform\", \"translate(12 3)\");\n",
       "});\n",
       "</script>\n"
      ]
     },
     "metadata": {},
     "output_type": "display_data"
    },
    {
     "data": {
      "text/html": [
       "<script>\n",
       "require([\"d3\"], function(d3) {\n",
       "    d3.select(\".usersvg #pixel_crossSIw\").attr(\"transform\", \"translate(13 3)\");\n",
       "});\n",
       "</script>\n"
      ]
     },
     "metadata": {},
     "output_type": "display_data"
    },
    {
     "data": {
      "text/html": [
       "<script>\n",
       "require([\"d3\"], function(d3) {\n",
       "    d3.select(\".usersvg #pixel_crossSIw\").attr(\"transform\", \"translate(13 4)\");\n",
       "});\n",
       "</script>\n"
      ]
     },
     "metadata": {},
     "output_type": "display_data"
    },
    {
     "data": {
      "text/html": [
       "<script>\n",
       "require([\"d3\"], function(d3) {\n",
       "    d3.select(\".usersvg #pixel_crossSIw\").attr(\"transform\", \"translate(12 4)\");\n",
       "});\n",
       "</script>\n"
      ]
     },
     "metadata": {},
     "output_type": "display_data"
    },
    {
     "data": {
      "text/html": [
       "<script>\n",
       "require([\"d3\"], function(d3) {\n",
       "    d3.select(\".usersvg #pixel_crossSIw\").attr(\"transform\", \"translate(11 4)\");\n",
       "});\n",
       "</script>\n"
      ]
     },
     "metadata": {},
     "output_type": "display_data"
    },
    {
     "data": {
      "text/html": [
       "<script>\n",
       "require([\"d3\"], function(d3) {\n",
       "    d3.select(\".usersvg #pixel_crossSIw\").attr(\"transform\", \"translate(12 4)\");\n",
       "});\n",
       "</script>\n"
      ]
     },
     "metadata": {},
     "output_type": "display_data"
    },
    {
     "data": {
      "text/html": [
       "<script>\n",
       "require([\"d3\"], function(d3) {\n",
       "    d3.select(\".usersvg #pixel_crossSIw\").attr(\"transform\", \"translate(12 3)\");\n",
       "});\n",
       "</script>\n"
      ]
     },
     "metadata": {},
     "output_type": "display_data"
    },
    {
     "data": {
      "text/html": [
       "<script>\n",
       "require([\"d3\"], function(d3) {\n",
       "    d3.select(\".usersvg #pixel_crossSIw\").attr(\"transform\", \"translate(12 2)\");\n",
       "});\n",
       "</script>\n"
      ]
     },
     "metadata": {},
     "output_type": "display_data"
    },
    {
     "data": {
      "text/html": [
       "<script>\n",
       "require([\"d3\"], function(d3) {\n",
       "    d3.select(\".usersvg #pixel_crossSIw\").attr(\"transform\", \"translate(13 2)\");\n",
       "});\n",
       "</script>\n"
      ]
     },
     "metadata": {},
     "output_type": "display_data"
    },
    {
     "data": {
      "text/html": [
       "<script>\n",
       "require([\"d3\"], function(d3) {\n",
       "    d3.select(\".usersvg #pixel_crossSIw\").attr(\"transform\", \"translate(12 2)\");\n",
       "});\n",
       "</script>\n"
      ]
     },
     "metadata": {},
     "output_type": "display_data"
    },
    {
     "data": {
      "text/html": [
       "<script>\n",
       "require([\"d3\"], function(d3) {\n",
       "    d3.select(\".usersvg #pixel_crossSIw\").attr(\"transform\", \"translate(12 1)\");\n",
       "});\n",
       "</script>\n"
      ]
     },
     "metadata": {},
     "output_type": "display_data"
    },
    {
     "data": {
      "text/html": [
       "<script>\n",
       "require([\"d3\"], function(d3) {\n",
       "    d3.select(\".usersvg #pixel_crossSIw\").attr(\"transform\", \"translate(13 1)\");\n",
       "});\n",
       "</script>\n"
      ]
     },
     "metadata": {},
     "output_type": "display_data"
    },
    {
     "data": {
      "text/html": [
       "<script>\n",
       "require([\"d3\"], function(d3) {\n",
       "    d3.select(\".usersvg #pixel_crossSIw\").attr(\"transform\", \"translate(14 1)\");\n",
       "});\n",
       "</script>\n"
      ]
     },
     "metadata": {},
     "output_type": "display_data"
    },
    {
     "data": {
      "text/html": [
       "<script>\n",
       "require([\"d3\"], function(d3) {\n",
       "    d3.select(\".usersvg #pixel_crossSIw\").attr(\"transform\", \"translate(13 1)\");\n",
       "});\n",
       "</script>\n"
      ]
     },
     "metadata": {},
     "output_type": "display_data"
    },
    {
     "data": {
      "text/html": [
       "<script>\n",
       "require([\"d3\"], function(d3) {\n",
       "    d3.select(\".usersvg #pixel_crossSIw\").attr(\"transform\", \"translate(13 0)\");\n",
       "});\n",
       "</script>\n"
      ]
     },
     "metadata": {},
     "output_type": "display_data"
    },
    {
     "data": {
      "text/html": [
       "<script>\n",
       "require([\"d3\"], function(d3) {\n",
       "    d3.select(\".usersvg #pixel_crossSIw\").attr(\"transform\", \"translate(13 0)\");\n",
       "});\n",
       "</script>\n"
      ]
     },
     "metadata": {},
     "output_type": "display_data"
    },
    {
     "data": {
      "text/html": [
       "<script>\n",
       "require([\"d3\"], function(d3) {\n",
       "    d3.select(\".usersvg #pixel_crossSIw\").attr(\"transform\", \"translate(14 0)\");\n",
       "});\n",
       "</script>\n"
      ]
     },
     "metadata": {},
     "output_type": "display_data"
    },
    {
     "data": {
      "text/html": [
       "<script>\n",
       "require([\"d3\"], function(d3) {\n",
       "    d3.select(\".usersvg #pixel_crossSIw\").attr(\"transform\", \"translate(14 0)\");\n",
       "});\n",
       "</script>\n"
      ]
     },
     "metadata": {},
     "output_type": "display_data"
    },
    {
     "data": {
      "text/html": [
       "<script>\n",
       "require([\"d3\"], function(d3) {\n",
       "    d3.select(\".usersvg #pixel_crossSIw\").attr(\"transform\", \"translate(14 1)\");\n",
       "});\n",
       "</script>\n"
      ]
     },
     "metadata": {},
     "output_type": "display_data"
    },
    {
     "data": {
      "text/html": [
       "<script>\n",
       "require([\"d3\"], function(d3) {\n",
       "    d3.select(\".usersvg #pixel_crossSIw\").attr(\"transform\", \"translate(14 0)\");\n",
       "});\n",
       "</script>\n"
      ]
     },
     "metadata": {},
     "output_type": "display_data"
    },
    {
     "data": {
      "text/html": [
       "<script>\n",
       "require([\"d3\"], function(d3) {\n",
       "    d3.select(\".usersvg #pixel_crossSIw\").attr(\"transform\", \"translate(15 0)\");\n",
       "});\n",
       "</script>\n"
      ]
     },
     "metadata": {},
     "output_type": "display_data"
    },
    {
     "data": {
      "text/html": [
       "<script>\n",
       "require([\"d3\"], function(d3) {\n",
       "    d3.select(\".usersvg #pixel_crossSIw\").attr(\"transform\", \"translate(16 0)\");\n",
       "});\n",
       "</script>\n"
      ]
     },
     "metadata": {},
     "output_type": "display_data"
    },
    {
     "data": {
      "text/html": [
       "<script>\n",
       "require([\"d3\"], function(d3) {\n",
       "    d3.select(\".usersvg #pixel_crossSIw\").attr(\"transform\", \"translate(15 0)\");\n",
       "});\n",
       "</script>\n"
      ]
     },
     "metadata": {},
     "output_type": "display_data"
    },
    {
     "data": {
      "text/html": [
       "<script>\n",
       "require([\"d3\"], function(d3) {\n",
       "    d3.select(\".usersvg #pixel_crossSIw\").attr(\"transform\", \"translate(15 1)\");\n",
       "});\n",
       "</script>\n"
      ]
     },
     "metadata": {},
     "output_type": "display_data"
    },
    {
     "data": {
      "text/html": [
       "<script>\n",
       "require([\"d3\"], function(d3) {\n",
       "    d3.select(\".usersvg #pixel_crossSIw\").attr(\"transform\", \"translate(15 0)\");\n",
       "});\n",
       "</script>\n"
      ]
     },
     "metadata": {},
     "output_type": "display_data"
    },
    {
     "data": {
      "text/html": [
       "<script>\n",
       "require([\"d3\"], function(d3) {\n",
       "    d3.select(\".usersvg #pixel_crossSIw\").attr(\"transform\", \"translate(15 0)\");\n",
       "});\n",
       "</script>\n"
      ]
     },
     "metadata": {},
     "output_type": "display_data"
    },
    {
     "data": {
      "text/html": [
       "<script>\n",
       "require([\"d3\"], function(d3) {\n",
       "    d3.select(\".usersvg #pixel_crossSIw\").attr(\"transform\", \"translate(15 0)\");\n",
       "});\n",
       "</script>\n"
      ]
     },
     "metadata": {},
     "output_type": "display_data"
    },
    {
     "data": {
      "text/html": [
       "<script>\n",
       "require([\"d3\"], function(d3) {\n",
       "    d3.select(\".usersvg #pixel_crossSIw\").attr(\"transform\", \"translate(15 0)\");\n",
       "});\n",
       "</script>\n"
      ]
     },
     "metadata": {},
     "output_type": "display_data"
    },
    {
     "data": {
      "text/html": [
       "<script>\n",
       "require([\"d3\"], function(d3) {\n",
       "    d3.select(\".usersvg #pixel_crossSIw\").attr(\"transform\", \"translate(15 0)\");\n",
       "});\n",
       "</script>\n"
      ]
     },
     "metadata": {},
     "output_type": "display_data"
    },
    {
     "data": {
      "text/html": [
       "<script>\n",
       "require([\"d3\"], function(d3) {\n",
       "    d3.select(\".usersvg #pixel_crossSIw\").attr(\"transform\", \"translate(15 1)\");\n",
       "});\n",
       "</script>\n"
      ]
     },
     "metadata": {},
     "output_type": "display_data"
    },
    {
     "data": {
      "text/html": [
       "<script>\n",
       "require([\"d3\"], function(d3) {\n",
       "    d3.select(\".usersvg #pixel_crossSIw\").attr(\"transform\", \"translate(15 2)\");\n",
       "});\n",
       "</script>\n"
      ]
     },
     "metadata": {},
     "output_type": "display_data"
    },
    {
     "data": {
      "text/html": [
       "<script>\n",
       "require([\"d3\"], function(d3) {\n",
       "    d3.select(\".usersvg #pixel_crossSIw\").attr(\"transform\", \"translate(15 1)\");\n",
       "});\n",
       "</script>\n"
      ]
     },
     "metadata": {},
     "output_type": "display_data"
    },
    {
     "data": {
      "text/html": [
       "<script>\n",
       "require([\"d3\"], function(d3) {\n",
       "    d3.select(\".usersvg #pixel_crossSIw\").attr(\"transform\", \"translate(14 1)\");\n",
       "});\n",
       "</script>\n"
      ]
     },
     "metadata": {},
     "output_type": "display_data"
    },
    {
     "data": {
      "text/html": [
       "<script>\n",
       "require([\"d3\"], function(d3) {\n",
       "    d3.select(\".usersvg #pixel_crossSIw\").attr(\"transform\", \"translate(13 1)\");\n",
       "});\n",
       "</script>\n"
      ]
     },
     "metadata": {},
     "output_type": "display_data"
    },
    {
     "data": {
      "text/html": [
       "<script>\n",
       "require([\"d3\"], function(d3) {\n",
       "    d3.select(\".usersvg #pixel_crossSIw\").attr(\"transform\", \"translate(14 1)\");\n",
       "});\n",
       "</script>\n"
      ]
     },
     "metadata": {},
     "output_type": "display_data"
    },
    {
     "data": {
      "text/html": [
       "<script>\n",
       "require([\"d3\"], function(d3) {\n",
       "    d3.select(\".usersvg #pixel_crossSIw\").attr(\"transform\", \"translate(14 2)\");\n",
       "});\n",
       "</script>\n"
      ]
     },
     "metadata": {},
     "output_type": "display_data"
    },
    {
     "data": {
      "text/html": [
       "<script>\n",
       "require([\"d3\"], function(d3) {\n",
       "    d3.select(\".usersvg #pixel_crossSIw\").attr(\"transform\", \"translate(13 2)\");\n",
       "});\n",
       "</script>\n"
      ]
     },
     "metadata": {},
     "output_type": "display_data"
    },
    {
     "data": {
      "text/html": [
       "<script>\n",
       "require([\"d3\"], function(d3) {\n",
       "    d3.select(\".usersvg #pixel_crossSIw\").attr(\"transform\", \"translate(13 3)\");\n",
       "});\n",
       "</script>\n"
      ]
     },
     "metadata": {},
     "output_type": "display_data"
    },
    {
     "data": {
      "text/html": [
       "<script>\n",
       "require([\"d3\"], function(d3) {\n",
       "    d3.select(\".usersvg #pixel_crossSIw\").attr(\"transform\", \"translate(13 2)\");\n",
       "});\n",
       "</script>\n"
      ]
     },
     "metadata": {},
     "output_type": "display_data"
    },
    {
     "data": {
      "text/html": [
       "<script>\n",
       "require([\"d3\"], function(d3) {\n",
       "    d3.select(\".usersvg #pixel_crossSIw\").attr(\"transform\", \"translate(13 3)\");\n",
       "});\n",
       "</script>\n"
      ]
     },
     "metadata": {},
     "output_type": "display_data"
    },
    {
     "data": {
      "text/html": [
       "<script>\n",
       "require([\"d3\"], function(d3) {\n",
       "    d3.select(\".usersvg #pixel_crossSIw\").attr(\"transform\", \"translate(13 4)\");\n",
       "});\n",
       "</script>\n"
      ]
     },
     "metadata": {},
     "output_type": "display_data"
    },
    {
     "data": {
      "text/html": [
       "<script>\n",
       "require([\"d3\"], function(d3) {\n",
       "    d3.select(\".usersvg #pixel_crossSIw\").attr(\"transform\", \"translate(13 3)\");\n",
       "});\n",
       "</script>\n"
      ]
     },
     "metadata": {},
     "output_type": "display_data"
    },
    {
     "data": {
      "text/html": [
       "<script>\n",
       "require([\"d3\"], function(d3) {\n",
       "    d3.select(\".usersvg #pixel_crossSIw\").attr(\"transform\", \"translate(13 4)\");\n",
       "});\n",
       "</script>\n"
      ]
     },
     "metadata": {},
     "output_type": "display_data"
    },
    {
     "data": {
      "text/html": [
       "<script>\n",
       "require([\"d3\"], function(d3) {\n",
       "    d3.select(\".usersvg #pixel_crossSIw\").attr(\"transform\", \"translate(14 4)\");\n",
       "});\n",
       "</script>\n"
      ]
     },
     "metadata": {},
     "output_type": "display_data"
    },
    {
     "data": {
      "text/html": [
       "<script>\n",
       "require([\"d3\"], function(d3) {\n",
       "    d3.select(\".usersvg #pixel_crossSIw\").attr(\"transform\", \"translate(13 4)\");\n",
       "});\n",
       "</script>\n"
      ]
     },
     "metadata": {},
     "output_type": "display_data"
    },
    {
     "data": {
      "text/html": [
       "<script>\n",
       "require([\"d3\"], function(d3) {\n",
       "    d3.select(\".usersvg #pixel_crossSIw\").attr(\"transform\", \"translate(12 4)\");\n",
       "});\n",
       "</script>\n"
      ]
     },
     "metadata": {},
     "output_type": "display_data"
    },
    {
     "data": {
      "text/html": [
       "<script>\n",
       "require([\"d3\"], function(d3) {\n",
       "    d3.select(\".usersvg #pixel_crossSIw\").attr(\"transform\", \"translate(12 3)\");\n",
       "});\n",
       "</script>\n"
      ]
     },
     "metadata": {},
     "output_type": "display_data"
    },
    {
     "data": {
      "text/html": [
       "<script>\n",
       "require([\"d3\"], function(d3) {\n",
       "    d3.select(\".usersvg #pixel_crossSIw\").attr(\"transform\", \"translate(11 3)\");\n",
       "});\n",
       "</script>\n"
      ]
     },
     "metadata": {},
     "output_type": "display_data"
    },
    {
     "data": {
      "text/html": [
       "<script>\n",
       "require([\"d3\"], function(d3) {\n",
       "    d3.select(\".usersvg #pixel_crossSIw\").attr(\"transform\", \"translate(11 4)\");\n",
       "});\n",
       "</script>\n"
      ]
     },
     "metadata": {},
     "output_type": "display_data"
    },
    {
     "data": {
      "text/html": [
       "<script>\n",
       "require([\"d3\"], function(d3) {\n",
       "    d3.select(\".usersvg #pixel_crossSIw\").attr(\"transform\", \"translate(11 3)\");\n",
       "});\n",
       "</script>\n"
      ]
     },
     "metadata": {},
     "output_type": "display_data"
    },
    {
     "data": {
      "text/html": [
       "<script>\n",
       "require([\"d3\"], function(d3) {\n",
       "    d3.select(\".usersvg #pixel_crossSIw\").attr(\"transform\", \"translate(12 3)\");\n",
       "});\n",
       "</script>\n"
      ]
     },
     "metadata": {},
     "output_type": "display_data"
    },
    {
     "data": {
      "text/html": [
       "<script>\n",
       "require([\"d3\"], function(d3) {\n",
       "    d3.select(\".usersvg #pixel_crossSIw\").attr(\"transform\", \"translate(12 2)\");\n",
       "});\n",
       "</script>\n"
      ]
     },
     "metadata": {},
     "output_type": "display_data"
    },
    {
     "data": {
      "text/html": [
       "<script>\n",
       "require([\"d3\"], function(d3) {\n",
       "    d3.select(\".usersvg #pixel_crossSIw\").attr(\"transform\", \"translate(12 1)\");\n",
       "});\n",
       "</script>\n"
      ]
     },
     "metadata": {},
     "output_type": "display_data"
    },
    {
     "data": {
      "text/html": [
       "<script>\n",
       "require([\"d3\"], function(d3) {\n",
       "    d3.select(\".usersvg #pixel_crossSIw\").attr(\"transform\", \"translate(12 0)\");\n",
       "});\n",
       "</script>\n"
      ]
     },
     "metadata": {},
     "output_type": "display_data"
    },
    {
     "data": {
      "text/html": [
       "<script>\n",
       "require([\"d3\"], function(d3) {\n",
       "    d3.select(\".usersvg #pixel_crossSIw\").attr(\"transform\", \"translate(13 0)\");\n",
       "});\n",
       "</script>\n"
      ]
     },
     "metadata": {},
     "output_type": "display_data"
    },
    {
     "data": {
      "text/html": [
       "<script>\n",
       "require([\"d3\"], function(d3) {\n",
       "    d3.select(\".usersvg #pixel_crossSIw\").attr(\"transform\", \"translate(12 0)\");\n",
       "});\n",
       "</script>\n"
      ]
     },
     "metadata": {},
     "output_type": "display_data"
    },
    {
     "data": {
      "text/html": [
       "<script>\n",
       "require([\"d3\"], function(d3) {\n",
       "    d3.select(\".usersvg #pixel_crossSIw\").attr(\"transform\", \"translate(12 1)\");\n",
       "});\n",
       "</script>\n"
      ]
     },
     "metadata": {},
     "output_type": "display_data"
    },
    {
     "data": {
      "text/html": [
       "<script>\n",
       "require([\"d3\"], function(d3) {\n",
       "    d3.select(\".usersvg #pixel_crossSIw\").attr(\"transform\", \"translate(12 0)\");\n",
       "});\n",
       "</script>\n"
      ]
     },
     "metadata": {},
     "output_type": "display_data"
    },
    {
     "data": {
      "text/html": [
       "<script>\n",
       "require([\"d3\"], function(d3) {\n",
       "    d3.select(\".usersvg #pixel_crossSIw\").attr(\"transform\", \"translate(13 0)\");\n",
       "});\n",
       "</script>\n"
      ]
     },
     "metadata": {},
     "output_type": "display_data"
    },
    {
     "data": {
      "text/html": [
       "<script>\n",
       "require([\"d3\"], function(d3) {\n",
       "    d3.select(\".usersvg #pixel_crossSIw\").attr(\"transform\", \"translate(13 1)\");\n",
       "});\n",
       "</script>\n"
      ]
     },
     "metadata": {},
     "output_type": "display_data"
    },
    {
     "data": {
      "text/html": [
       "<script>\n",
       "require([\"d3\"], function(d3) {\n",
       "    d3.select(\".usersvg #pixel_crossSIw\").attr(\"transform\", \"translate(13 0)\");\n",
       "});\n",
       "</script>\n"
      ]
     },
     "metadata": {},
     "output_type": "display_data"
    },
    {
     "data": {
      "text/html": [
       "<script>\n",
       "require([\"d3\"], function(d3) {\n",
       "    d3.select(\".usersvg #pixel_crossSIw\").attr(\"transform\", \"translate(14 0)\");\n",
       "});\n",
       "</script>\n"
      ]
     },
     "metadata": {},
     "output_type": "display_data"
    },
    {
     "data": {
      "text/html": [
       "<script>\n",
       "require([\"d3\"], function(d3) {\n",
       "    d3.select(\".usersvg #pixel_crossSIw\").attr(\"transform\", \"translate(13 0)\");\n",
       "});\n",
       "</script>\n"
      ]
     },
     "metadata": {},
     "output_type": "display_data"
    },
    {
     "data": {
      "text/html": [
       "<script>\n",
       "require([\"d3\"], function(d3) {\n",
       "    d3.select(\".usersvg #pixel_crossSIw\").attr(\"transform\", \"translate(14 0)\");\n",
       "});\n",
       "</script>\n"
      ]
     },
     "metadata": {},
     "output_type": "display_data"
    },
    {
     "data": {
      "text/html": [
       "<script>\n",
       "require([\"d3\"], function(d3) {\n",
       "    d3.select(\".usersvg #pixel_crossSIw\").attr(\"transform\", \"translate(15 0)\");\n",
       "});\n",
       "</script>\n"
      ]
     },
     "metadata": {},
     "output_type": "display_data"
    },
    {
     "data": {
      "text/html": [
       "<script>\n",
       "require([\"d3\"], function(d3) {\n",
       "    d3.select(\".usersvg #pixel_crossSIw\").attr(\"transform\", \"translate(15 0)\");\n",
       "});\n",
       "</script>\n"
      ]
     },
     "metadata": {},
     "output_type": "display_data"
    },
    {
     "data": {
      "text/html": [
       "<script>\n",
       "require([\"d3\"], function(d3) {\n",
       "    d3.select(\".usersvg #pixel_crossSIw\").attr(\"transform\", \"translate(15 0)\");\n",
       "});\n",
       "</script>\n"
      ]
     },
     "metadata": {},
     "output_type": "display_data"
    },
    {
     "data": {
      "text/html": [
       "<script>\n",
       "require([\"d3\"], function(d3) {\n",
       "    d3.select(\".usersvg #pixel_crossSIw\").attr(\"transform\", \"translate(15 1)\");\n",
       "});\n",
       "</script>\n"
      ]
     },
     "metadata": {},
     "output_type": "display_data"
    },
    {
     "data": {
      "text/html": [
       "<script>\n",
       "require([\"d3\"], function(d3) {\n",
       "    d3.select(\".usersvg #pixel_crossSIw\").attr(\"transform\", \"translate(15 0)\");\n",
       "});\n",
       "</script>\n"
      ]
     },
     "metadata": {},
     "output_type": "display_data"
    },
    {
     "data": {
      "text/html": [
       "<script>\n",
       "require([\"d3\"], function(d3) {\n",
       "    d3.select(\".usersvg #pixel_crossSIw\").attr(\"transform\", \"translate(16 0)\");\n",
       "});\n",
       "</script>\n"
      ]
     },
     "metadata": {},
     "output_type": "display_data"
    },
    {
     "data": {
      "text/html": [
       "<script>\n",
       "require([\"d3\"], function(d3) {\n",
       "    d3.select(\".usersvg #pixel_crossSIw\").attr(\"transform\", \"translate(16 1)\");\n",
       "});\n",
       "</script>\n"
      ]
     },
     "metadata": {},
     "output_type": "display_data"
    },
    {
     "data": {
      "text/html": [
       "<script>\n",
       "require([\"d3\"], function(d3) {\n",
       "    d3.select(\".usersvg #pixel_crossSIw\").attr(\"transform\", \"translate(17 1)\");\n",
       "});\n",
       "</script>\n"
      ]
     },
     "metadata": {},
     "output_type": "display_data"
    },
    {
     "data": {
      "text/html": [
       "<script>\n",
       "require([\"d3\"], function(d3) {\n",
       "    d3.select(\".usersvg #pixel_crossSIw\").attr(\"transform\", \"translate(17 0)\");\n",
       "});\n",
       "</script>\n"
      ]
     },
     "metadata": {},
     "output_type": "display_data"
    },
    {
     "data": {
      "text/html": [
       "<script>\n",
       "require([\"d3\"], function(d3) {\n",
       "    d3.select(\".usersvg #pixel_crossSIw\").attr(\"transform\", \"translate(17 0)\");\n",
       "});\n",
       "</script>\n"
      ]
     },
     "metadata": {},
     "output_type": "display_data"
    },
    {
     "data": {
      "text/html": [
       "<script>\n",
       "require([\"d3\"], function(d3) {\n",
       "    d3.select(\".usersvg #pixel_crossSIw\").attr(\"transform\", \"translate(17 1)\");\n",
       "});\n",
       "</script>\n"
      ]
     },
     "metadata": {},
     "output_type": "display_data"
    },
    {
     "data": {
      "text/html": [
       "<script>\n",
       "require([\"d3\"], function(d3) {\n",
       "    d3.select(\".usersvg #pixel_crossSIw\").attr(\"transform\", \"translate(16 1)\");\n",
       "});\n",
       "</script>\n"
      ]
     },
     "metadata": {},
     "output_type": "display_data"
    },
    {
     "data": {
      "text/html": [
       "<script>\n",
       "require([\"d3\"], function(d3) {\n",
       "    d3.select(\".usersvg #pixel_crossSIw\").attr(\"transform\", \"translate(17 1)\");\n",
       "});\n",
       "</script>\n"
      ]
     },
     "metadata": {},
     "output_type": "display_data"
    },
    {
     "data": {
      "text/html": [
       "<script>\n",
       "require([\"d3\"], function(d3) {\n",
       "    d3.select(\".usersvg #pixel_crossSIw\").attr(\"transform\", \"translate(18 1)\");\n",
       "});\n",
       "</script>\n"
      ]
     },
     "metadata": {},
     "output_type": "display_data"
    },
    {
     "data": {
      "text/html": [
       "<script>\n",
       "require([\"d3\"], function(d3) {\n",
       "    d3.select(\".usersvg #pixel_crossSIw\").attr(\"transform\", \"translate(19 1)\");\n",
       "});\n",
       "</script>\n"
      ]
     },
     "metadata": {},
     "output_type": "display_data"
    },
    {
     "data": {
      "text/html": [
       "<script>\n",
       "require([\"d3\"], function(d3) {\n",
       "    d3.select(\".usersvg #pixel_crossSIw\").attr(\"transform\", \"translate(19 2)\");\n",
       "});\n",
       "</script>\n"
      ]
     },
     "metadata": {},
     "output_type": "display_data"
    },
    {
     "data": {
      "text/html": [
       "<script>\n",
       "require([\"d3\"], function(d3) {\n",
       "    d3.select(\".usersvg #pixel_crossSIw\").attr(\"transform\", \"translate(18 2)\");\n",
       "});\n",
       "</script>\n"
      ]
     },
     "metadata": {},
     "output_type": "display_data"
    },
    {
     "data": {
      "text/html": [
       "<script>\n",
       "require([\"d3\"], function(d3) {\n",
       "    d3.select(\".usersvg #pixel_crossSIw\").attr(\"transform\", \"translate(18 3)\");\n",
       "});\n",
       "</script>\n"
      ]
     },
     "metadata": {},
     "output_type": "display_data"
    },
    {
     "data": {
      "text/html": [
       "<script>\n",
       "require([\"d3\"], function(d3) {\n",
       "    d3.select(\".usersvg #pixel_crossSIw\").attr(\"transform\", \"translate(18 4)\");\n",
       "});\n",
       "</script>\n"
      ]
     },
     "metadata": {},
     "output_type": "display_data"
    },
    {
     "data": {
      "text/html": [
       "<script>\n",
       "require([\"d3\"], function(d3) {\n",
       "    d3.select(\".usersvg #pixel_crossSIw\").attr(\"transform\", \"translate(18 5)\");\n",
       "});\n",
       "</script>\n"
      ]
     },
     "metadata": {},
     "output_type": "display_data"
    },
    {
     "data": {
      "text/html": [
       "<script>\n",
       "require([\"d3\"], function(d3) {\n",
       "    d3.select(\".usersvg #pixel_crossSIw\").attr(\"transform\", \"translate(18 4)\");\n",
       "});\n",
       "</script>\n"
      ]
     },
     "metadata": {},
     "output_type": "display_data"
    },
    {
     "data": {
      "text/html": [
       "<script>\n",
       "require([\"d3\"], function(d3) {\n",
       "    d3.select(\".usersvg #pixel_crossSIw\").attr(\"transform\", \"translate(18 5)\");\n",
       "});\n",
       "</script>\n"
      ]
     },
     "metadata": {},
     "output_type": "display_data"
    },
    {
     "data": {
      "text/html": [
       "<script>\n",
       "require([\"d3\"], function(d3) {\n",
       "    d3.select(\".usersvg #pixel_crossSIw\").attr(\"transform\", \"translate(18 6)\");\n",
       "});\n",
       "</script>\n"
      ]
     },
     "metadata": {},
     "output_type": "display_data"
    },
    {
     "data": {
      "text/html": [
       "<script>\n",
       "require([\"d3\"], function(d3) {\n",
       "    d3.select(\".usersvg #pixel_crossSIw\").attr(\"transform\", \"translate(17 6)\");\n",
       "});\n",
       "</script>\n"
      ]
     },
     "metadata": {},
     "output_type": "display_data"
    },
    {
     "data": {
      "text/html": [
       "<script>\n",
       "require([\"d3\"], function(d3) {\n",
       "    d3.select(\".usersvg #pixel_crossSIw\").attr(\"transform\", \"translate(16 6)\");\n",
       "});\n",
       "</script>\n"
      ]
     },
     "metadata": {},
     "output_type": "display_data"
    },
    {
     "data": {
      "text/html": [
       "<script>\n",
       "require([\"d3\"], function(d3) {\n",
       "    d3.select(\".usersvg #pixel_crossSIw\").attr(\"transform\", \"translate(17 6)\");\n",
       "});\n",
       "</script>\n"
      ]
     },
     "metadata": {},
     "output_type": "display_data"
    },
    {
     "data": {
      "text/html": [
       "<script>\n",
       "require([\"d3\"], function(d3) {\n",
       "    d3.select(\".usersvg #pixel_crossSIw\").attr(\"transform\", \"translate(17 5)\");\n",
       "});\n",
       "</script>\n"
      ]
     },
     "metadata": {},
     "output_type": "display_data"
    },
    {
     "data": {
      "text/html": [
       "<script>\n",
       "require([\"d3\"], function(d3) {\n",
       "    d3.select(\".usersvg #pixel_crossSIw\").attr(\"transform\", \"translate(16 5)\");\n",
       "});\n",
       "</script>\n"
      ]
     },
     "metadata": {},
     "output_type": "display_data"
    },
    {
     "data": {
      "text/html": [
       "<script>\n",
       "require([\"d3\"], function(d3) {\n",
       "    d3.select(\".usersvg #pixel_crossSIw\").attr(\"transform\", \"translate(15 5)\");\n",
       "});\n",
       "</script>\n"
      ]
     },
     "metadata": {},
     "output_type": "display_data"
    },
    {
     "data": {
      "text/html": [
       "<script>\n",
       "require([\"d3\"], function(d3) {\n",
       "    d3.select(\".usersvg #pixel_crossSIw\").attr(\"transform\", \"translate(15 4)\");\n",
       "});\n",
       "</script>\n"
      ]
     },
     "metadata": {},
     "output_type": "display_data"
    },
    {
     "data": {
      "text/html": [
       "<script>\n",
       "require([\"d3\"], function(d3) {\n",
       "    d3.select(\".usersvg #pixel_crossSIw\").attr(\"transform\", \"translate(15 3)\");\n",
       "});\n",
       "</script>\n"
      ]
     },
     "metadata": {},
     "output_type": "display_data"
    },
    {
     "data": {
      "text/html": [
       "<script>\n",
       "require([\"d3\"], function(d3) {\n",
       "    d3.select(\".usersvg #pixel_crossSIw\").attr(\"transform\", \"translate(15 4)\");\n",
       "});\n",
       "</script>\n"
      ]
     },
     "metadata": {},
     "output_type": "display_data"
    },
    {
     "data": {
      "text/html": [
       "<script>\n",
       "require([\"d3\"], function(d3) {\n",
       "    d3.select(\".usersvg #pixel_crossSIw\").attr(\"transform\", \"translate(14 4)\");\n",
       "});\n",
       "</script>\n"
      ]
     },
     "metadata": {},
     "output_type": "display_data"
    },
    {
     "data": {
      "text/html": [
       "<script>\n",
       "require([\"d3\"], function(d3) {\n",
       "    d3.select(\".usersvg #pixel_crossSIw\").attr(\"transform\", \"translate(14 3)\");\n",
       "});\n",
       "</script>\n"
      ]
     },
     "metadata": {},
     "output_type": "display_data"
    },
    {
     "data": {
      "text/html": [
       "<script>\n",
       "require([\"d3\"], function(d3) {\n",
       "    d3.select(\".usersvg #pixel_crossSIw\").attr(\"transform\", \"translate(14 2)\");\n",
       "});\n",
       "</script>\n"
      ]
     },
     "metadata": {},
     "output_type": "display_data"
    },
    {
     "data": {
      "text/html": [
       "<script>\n",
       "require([\"d3\"], function(d3) {\n",
       "    d3.select(\".usersvg #pixel_crossSIw\").attr(\"transform\", \"translate(15 2)\");\n",
       "});\n",
       "</script>\n"
      ]
     },
     "metadata": {},
     "output_type": "display_data"
    },
    {
     "data": {
      "text/html": [
       "<script>\n",
       "require([\"d3\"], function(d3) {\n",
       "    d3.select(\".usersvg #pixel_crossSIw\").attr(\"transform\", \"translate(15 3)\");\n",
       "});\n",
       "</script>\n"
      ]
     },
     "metadata": {},
     "output_type": "display_data"
    },
    {
     "data": {
      "text/html": [
       "<script>\n",
       "require([\"d3\"], function(d3) {\n",
       "    d3.select(\".usersvg #pixel_crossSIw\").attr(\"transform\", \"translate(15 4)\");\n",
       "});\n",
       "</script>\n"
      ]
     },
     "metadata": {},
     "output_type": "display_data"
    },
    {
     "data": {
      "text/html": [
       "<script>\n",
       "require([\"d3\"], function(d3) {\n",
       "    d3.select(\".usersvg #pixel_crossSIw\").attr(\"transform\", \"translate(15 5)\");\n",
       "});\n",
       "</script>\n"
      ]
     },
     "metadata": {},
     "output_type": "display_data"
    },
    {
     "data": {
      "text/html": [
       "<script>\n",
       "require([\"d3\"], function(d3) {\n",
       "    d3.select(\".usersvg #pixel_crossSIw\").attr(\"transform\", \"translate(14 5)\");\n",
       "});\n",
       "</script>\n"
      ]
     },
     "metadata": {},
     "output_type": "display_data"
    },
    {
     "data": {
      "text/html": [
       "<script>\n",
       "require([\"d3\"], function(d3) {\n",
       "    d3.select(\".usersvg #pixel_crossSIw\").attr(\"transform\", \"translate(14 6)\");\n",
       "});\n",
       "</script>\n"
      ]
     },
     "metadata": {},
     "output_type": "display_data"
    },
    {
     "data": {
      "text/html": [
       "<script>\n",
       "require([\"d3\"], function(d3) {\n",
       "    d3.select(\".usersvg #pixel_crossSIw\").attr(\"transform\", \"translate(15 6)\");\n",
       "});\n",
       "</script>\n"
      ]
     },
     "metadata": {},
     "output_type": "display_data"
    },
    {
     "data": {
      "text/html": [
       "<script>\n",
       "require([\"d3\"], function(d3) {\n",
       "    d3.select(\".usersvg #pixel_crossSIw\").attr(\"transform\", \"translate(14 6)\");\n",
       "});\n",
       "</script>\n"
      ]
     },
     "metadata": {},
     "output_type": "display_data"
    },
    {
     "data": {
      "text/html": [
       "<script>\n",
       "require([\"d3\"], function(d3) {\n",
       "    d3.select(\".usersvg #pixel_crossSIw\").attr(\"transform\", \"translate(14 5)\");\n",
       "});\n",
       "</script>\n"
      ]
     },
     "metadata": {},
     "output_type": "display_data"
    },
    {
     "data": {
      "text/html": [
       "<script>\n",
       "require([\"d3\"], function(d3) {\n",
       "    d3.select(\".usersvg #pixel_crossSIw\").attr(\"transform\", \"translate(14 6)\");\n",
       "});\n",
       "</script>\n"
      ]
     },
     "metadata": {},
     "output_type": "display_data"
    },
    {
     "data": {
      "text/html": [
       "<script>\n",
       "require([\"d3\"], function(d3) {\n",
       "    d3.select(\".usersvg #pixel_crossSIw\").attr(\"transform\", \"translate(14 5)\");\n",
       "});\n",
       "</script>\n"
      ]
     },
     "metadata": {},
     "output_type": "display_data"
    },
    {
     "data": {
      "text/html": [
       "<script>\n",
       "require([\"d3\"], function(d3) {\n",
       "    d3.select(\".usersvg #pixel_crossSIw\").attr(\"transform\", \"translate(14 6)\");\n",
       "});\n",
       "</script>\n"
      ]
     },
     "metadata": {},
     "output_type": "display_data"
    },
    {
     "data": {
      "text/html": [
       "<script>\n",
       "require([\"d3\"], function(d3) {\n",
       "    d3.select(\".usersvg #pixel_crossSIw\").attr(\"transform\", \"translate(14 5)\");\n",
       "});\n",
       "</script>\n"
      ]
     },
     "metadata": {},
     "output_type": "display_data"
    },
    {
     "data": {
      "text/html": [
       "<script>\n",
       "require([\"d3\"], function(d3) {\n",
       "    d3.select(\".usersvg #pixel_crossSIw\").attr(\"transform\", \"translate(13 5)\");\n",
       "});\n",
       "</script>\n"
      ]
     },
     "metadata": {},
     "output_type": "display_data"
    },
    {
     "data": {
      "text/html": [
       "<script>\n",
       "require([\"d3\"], function(d3) {\n",
       "    d3.select(\".usersvg #pixel_crossSIw\").attr(\"transform\", \"translate(12 5)\");\n",
       "});\n",
       "</script>\n"
      ]
     },
     "metadata": {},
     "output_type": "display_data"
    },
    {
     "data": {
      "text/html": [
       "<script>\n",
       "require([\"d3\"], function(d3) {\n",
       "    d3.select(\".usersvg #pixel_crossSIw\").attr(\"transform\", \"translate(12 4)\");\n",
       "});\n",
       "</script>\n"
      ]
     },
     "metadata": {},
     "output_type": "display_data"
    },
    {
     "data": {
      "text/html": [
       "<script>\n",
       "require([\"d3\"], function(d3) {\n",
       "    d3.select(\".usersvg #pixel_crossSIw\").attr(\"transform\", \"translate(12 3)\");\n",
       "});\n",
       "</script>\n"
      ]
     },
     "metadata": {},
     "output_type": "display_data"
    },
    {
     "data": {
      "text/html": [
       "<script>\n",
       "require([\"d3\"], function(d3) {\n",
       "    d3.select(\".usersvg #pixel_crossSIw\").attr(\"transform\", \"translate(11 3)\");\n",
       "});\n",
       "</script>\n"
      ]
     },
     "metadata": {},
     "output_type": "display_data"
    },
    {
     "data": {
      "text/html": [
       "<script>\n",
       "require([\"d3\"], function(d3) {\n",
       "    d3.select(\".usersvg #pixel_crossSIw\").attr(\"transform\", \"translate(11 4)\");\n",
       "});\n",
       "</script>\n"
      ]
     },
     "metadata": {},
     "output_type": "display_data"
    },
    {
     "data": {
      "text/html": [
       "<script>\n",
       "require([\"d3\"], function(d3) {\n",
       "    d3.select(\".usersvg #pixel_crossSIw\").attr(\"transform\", \"translate(10 4)\");\n",
       "});\n",
       "</script>\n"
      ]
     },
     "metadata": {},
     "output_type": "display_data"
    },
    {
     "data": {
      "text/html": [
       "<script>\n",
       "require([\"d3\"], function(d3) {\n",
       "    d3.select(\".usersvg #pixel_crossSIw\").attr(\"transform\", \"translate(10 5)\");\n",
       "});\n",
       "</script>\n"
      ]
     },
     "metadata": {},
     "output_type": "display_data"
    },
    {
     "data": {
      "text/html": [
       "<script>\n",
       "require([\"d3\"], function(d3) {\n",
       "    d3.select(\".usersvg #pixel_crossSIw\").attr(\"transform\", \"translate(9 5)\");\n",
       "});\n",
       "</script>\n"
      ]
     },
     "metadata": {},
     "output_type": "display_data"
    },
    {
     "data": {
      "text/html": [
       "<script>\n",
       "require([\"d3\"], function(d3) {\n",
       "    d3.select(\".usersvg #pixel_crossSIw\").attr(\"transform\", \"translate(8 5)\");\n",
       "});\n",
       "</script>\n"
      ]
     },
     "metadata": {},
     "output_type": "display_data"
    },
    {
     "data": {
      "text/html": [
       "<script>\n",
       "require([\"d3\"], function(d3) {\n",
       "    d3.select(\".usersvg #pixel_crossSIw\").attr(\"transform\", \"translate(9 5)\");\n",
       "});\n",
       "</script>\n"
      ]
     },
     "metadata": {},
     "output_type": "display_data"
    },
    {
     "data": {
      "text/html": [
       "<script>\n",
       "require([\"d3\"], function(d3) {\n",
       "    d3.select(\".usersvg #pixel_crossSIw\").attr(\"transform\", \"translate(8 5)\");\n",
       "});\n",
       "</script>\n"
      ]
     },
     "metadata": {},
     "output_type": "display_data"
    },
    {
     "data": {
      "text/html": [
       "<script>\n",
       "require([\"d3\"], function(d3) {\n",
       "    d3.select(\".usersvg #pixel_crossSIw\").attr(\"transform\", \"translate(8 4)\");\n",
       "});\n",
       "</script>\n"
      ]
     },
     "metadata": {},
     "output_type": "display_data"
    },
    {
     "data": {
      "text/html": [
       "<script>\n",
       "require([\"d3\"], function(d3) {\n",
       "    d3.select(\".usersvg #pixel_crossSIw\").attr(\"transform\", \"translate(8 5)\");\n",
       "});\n",
       "</script>\n"
      ]
     },
     "metadata": {},
     "output_type": "display_data"
    },
    {
     "data": {
      "text/html": [
       "<script>\n",
       "require([\"d3\"], function(d3) {\n",
       "    d3.select(\".usersvg #pixel_crossSIw\").attr(\"transform\", \"translate(9 5)\");\n",
       "});\n",
       "</script>\n"
      ]
     },
     "metadata": {},
     "output_type": "display_data"
    },
    {
     "data": {
      "text/html": [
       "<script>\n",
       "require([\"d3\"], function(d3) {\n",
       "    d3.select(\".usersvg #pixel_crossSIw\").attr(\"transform\", \"translate(10 5)\");\n",
       "});\n",
       "</script>\n"
      ]
     },
     "metadata": {},
     "output_type": "display_data"
    },
    {
     "data": {
      "text/html": [
       "<script>\n",
       "require([\"d3\"], function(d3) {\n",
       "    d3.select(\".usersvg #pixel_crossSIw\").attr(\"transform\", \"translate(9 5)\");\n",
       "});\n",
       "</script>\n"
      ]
     },
     "metadata": {},
     "output_type": "display_data"
    },
    {
     "data": {
      "text/html": [
       "<script>\n",
       "require([\"d3\"], function(d3) {\n",
       "    d3.select(\".usersvg #pixel_crossSIw\").attr(\"transform\", \"translate(9 4)\");\n",
       "});\n",
       "</script>\n"
      ]
     },
     "metadata": {},
     "output_type": "display_data"
    },
    {
     "data": {
      "text/html": [
       "<script>\n",
       "require([\"d3\"], function(d3) {\n",
       "    d3.select(\".usersvg #pixel_crossSIw\").attr(\"transform\", \"translate(9 3)\");\n",
       "});\n",
       "</script>\n"
      ]
     },
     "metadata": {},
     "output_type": "display_data"
    },
    {
     "data": {
      "text/html": [
       "<script>\n",
       "require([\"d3\"], function(d3) {\n",
       "    d3.select(\".usersvg #pixel_crossSIw\").attr(\"transform\", \"translate(9 4)\");\n",
       "});\n",
       "</script>\n"
      ]
     },
     "metadata": {},
     "output_type": "display_data"
    },
    {
     "data": {
      "text/html": [
       "<script>\n",
       "require([\"d3\"], function(d3) {\n",
       "    d3.select(\".usersvg #pixel_crossSIw\").attr(\"transform\", \"translate(10 4)\");\n",
       "});\n",
       "</script>\n"
      ]
     },
     "metadata": {},
     "output_type": "display_data"
    },
    {
     "data": {
      "text/html": [
       "<script>\n",
       "require([\"d3\"], function(d3) {\n",
       "    d3.select(\".usersvg #pixel_crossSIw\").attr(\"transform\", \"translate(10 5)\");\n",
       "});\n",
       "</script>\n"
      ]
     },
     "metadata": {},
     "output_type": "display_data"
    },
    {
     "data": {
      "text/html": [
       "<script>\n",
       "require([\"d3\"], function(d3) {\n",
       "    d3.select(\".usersvg #pixel_crossSIw\").attr(\"transform\", \"translate(9 5)\");\n",
       "});\n",
       "</script>\n"
      ]
     },
     "metadata": {},
     "output_type": "display_data"
    },
    {
     "data": {
      "text/html": [
       "<script>\n",
       "require([\"d3\"], function(d3) {\n",
       "    d3.select(\".usersvg #pixel_crossSIw\").attr(\"transform\", \"translate(9 6)\");\n",
       "});\n",
       "</script>\n"
      ]
     },
     "metadata": {},
     "output_type": "display_data"
    },
    {
     "data": {
      "text/html": [
       "<script>\n",
       "require([\"d3\"], function(d3) {\n",
       "    d3.select(\".usersvg #pixel_crossSIw\").attr(\"transform\", \"translate(9 7)\");\n",
       "});\n",
       "</script>\n"
      ]
     },
     "metadata": {},
     "output_type": "display_data"
    },
    {
     "data": {
      "text/html": [
       "<script>\n",
       "require([\"d3\"], function(d3) {\n",
       "    d3.select(\".usersvg #pixel_crossSIw\").attr(\"transform\", \"translate(10 7)\");\n",
       "});\n",
       "</script>\n"
      ]
     },
     "metadata": {},
     "output_type": "display_data"
    },
    {
     "data": {
      "text/html": [
       "<script>\n",
       "require([\"d3\"], function(d3) {\n",
       "    d3.select(\".usersvg #pixel_crossSIw\").attr(\"transform\", \"translate(11 7)\");\n",
       "});\n",
       "</script>\n"
      ]
     },
     "metadata": {},
     "output_type": "display_data"
    },
    {
     "data": {
      "text/html": [
       "<script>\n",
       "require([\"d3\"], function(d3) {\n",
       "    d3.select(\".usersvg #pixel_crossSIw\").attr(\"transform\", \"translate(11 8)\");\n",
       "});\n",
       "</script>\n"
      ]
     },
     "metadata": {},
     "output_type": "display_data"
    },
    {
     "data": {
      "text/html": [
       "<script>\n",
       "require([\"d3\"], function(d3) {\n",
       "    d3.select(\".usersvg #pixel_crossSIw\").attr(\"transform\", \"translate(11 9)\");\n",
       "});\n",
       "</script>\n"
      ]
     },
     "metadata": {},
     "output_type": "display_data"
    },
    {
     "data": {
      "text/html": [
       "<script>\n",
       "require([\"d3\"], function(d3) {\n",
       "    d3.select(\".usersvg #pixel_crossSIw\").attr(\"transform\", \"translate(10 9)\");\n",
       "});\n",
       "</script>\n"
      ]
     },
     "metadata": {},
     "output_type": "display_data"
    },
    {
     "data": {
      "text/html": [
       "<script>\n",
       "require([\"d3\"], function(d3) {\n",
       "    d3.select(\".usersvg #pixel_crossSIw\").attr(\"transform\", \"translate(10 10)\");\n",
       "});\n",
       "</script>\n"
      ]
     },
     "metadata": {},
     "output_type": "display_data"
    },
    {
     "data": {
      "text/html": [
       "<script>\n",
       "require([\"d3\"], function(d3) {\n",
       "    d3.select(\".usersvg #pixel_crossSIw\").attr(\"transform\", \"translate(10 11)\");\n",
       "});\n",
       "</script>\n"
      ]
     },
     "metadata": {},
     "output_type": "display_data"
    },
    {
     "data": {
      "text/html": [
       "<script>\n",
       "require([\"d3\"], function(d3) {\n",
       "    d3.select(\".usersvg #pixel_crossSIw\").attr(\"transform\", \"translate(11 11)\");\n",
       "});\n",
       "</script>\n"
      ]
     },
     "metadata": {},
     "output_type": "display_data"
    },
    {
     "data": {
      "text/html": [
       "<script>\n",
       "require([\"d3\"], function(d3) {\n",
       "    d3.select(\".usersvg #pixel_crossSIw\").attr(\"transform\", \"translate(10 11)\");\n",
       "});\n",
       "</script>\n"
      ]
     },
     "metadata": {},
     "output_type": "display_data"
    },
    {
     "data": {
      "text/html": [
       "<script>\n",
       "require([\"d3\"], function(d3) {\n",
       "    d3.select(\".usersvg #pixel_crossSIw\").attr(\"transform\", \"translate(10 12)\");\n",
       "});\n",
       "</script>\n"
      ]
     },
     "metadata": {},
     "output_type": "display_data"
    },
    {
     "data": {
      "text/html": [
       "<script>\n",
       "require([\"d3\"], function(d3) {\n",
       "    d3.select(\".usersvg #pixel_crossSIw\").attr(\"transform\", \"translate(9 12)\");\n",
       "});\n",
       "</script>\n"
      ]
     },
     "metadata": {},
     "output_type": "display_data"
    },
    {
     "data": {
      "text/html": [
       "<script>\n",
       "require([\"d3\"], function(d3) {\n",
       "    d3.select(\".usersvg #pixel_crossSIw\").attr(\"transform\", \"translate(9 13)\");\n",
       "});\n",
       "</script>\n"
      ]
     },
     "metadata": {},
     "output_type": "display_data"
    },
    {
     "data": {
      "text/html": [
       "<script>\n",
       "require([\"d3\"], function(d3) {\n",
       "    d3.select(\".usersvg #pixel_crossSIw\").attr(\"transform\", \"translate(9 14)\");\n",
       "});\n",
       "</script>\n"
      ]
     },
     "metadata": {},
     "output_type": "display_data"
    },
    {
     "data": {
      "text/html": [
       "<script>\n",
       "require([\"d3\"], function(d3) {\n",
       "    d3.select(\".usersvg #pixel_crossSIw\").attr(\"transform\", \"translate(10 14)\");\n",
       "});\n",
       "</script>\n"
      ]
     },
     "metadata": {},
     "output_type": "display_data"
    },
    {
     "data": {
      "text/html": [
       "<script>\n",
       "require([\"d3\"], function(d3) {\n",
       "    d3.select(\".usersvg #pixel_crossSIw\").attr(\"transform\", \"translate(11 14)\");\n",
       "});\n",
       "</script>\n"
      ]
     },
     "metadata": {},
     "output_type": "display_data"
    },
    {
     "data": {
      "text/html": [
       "<script>\n",
       "require([\"d3\"], function(d3) {\n",
       "    d3.select(\".usersvg #pixel_crossSIw\").attr(\"transform\", \"translate(11 15)\");\n",
       "});\n",
       "</script>\n"
      ]
     },
     "metadata": {},
     "output_type": "display_data"
    },
    {
     "data": {
      "text/html": [
       "<script>\n",
       "require([\"d3\"], function(d3) {\n",
       "    d3.select(\".usersvg #pixel_crossSIw\").attr(\"transform\", \"translate(10 15)\");\n",
       "});\n",
       "</script>\n"
      ]
     },
     "metadata": {},
     "output_type": "display_data"
    },
    {
     "data": {
      "text/html": [
       "<script>\n",
       "require([\"d3\"], function(d3) {\n",
       "    d3.select(\".usersvg #pixel_crossSIw\").attr(\"transform\", \"translate(10 14)\");\n",
       "});\n",
       "</script>\n"
      ]
     },
     "metadata": {},
     "output_type": "display_data"
    },
    {
     "data": {
      "text/html": [
       "<script>\n",
       "require([\"d3\"], function(d3) {\n",
       "    d3.select(\".usersvg #pixel_crossSIw\").attr(\"transform\", \"translate(10 13)\");\n",
       "});\n",
       "</script>\n"
      ]
     },
     "metadata": {},
     "output_type": "display_data"
    },
    {
     "data": {
      "text/html": [
       "<script>\n",
       "require([\"d3\"], function(d3) {\n",
       "    d3.select(\".usersvg #pixel_crossSIw\").attr(\"transform\", \"translate(9 13)\");\n",
       "});\n",
       "</script>\n"
      ]
     },
     "metadata": {},
     "output_type": "display_data"
    },
    {
     "data": {
      "text/html": [
       "<script>\n",
       "require([\"d3\"], function(d3) {\n",
       "    d3.select(\".usersvg #pixel_crossSIw\").attr(\"transform\", \"translate(10 13)\");\n",
       "});\n",
       "</script>\n"
      ]
     },
     "metadata": {},
     "output_type": "display_data"
    },
    {
     "data": {
      "text/html": [
       "<script>\n",
       "require([\"d3\"], function(d3) {\n",
       "    d3.select(\".usersvg #pixel_crossSIw\").attr(\"transform\", \"translate(10 14)\");\n",
       "});\n",
       "</script>\n"
      ]
     },
     "metadata": {},
     "output_type": "display_data"
    },
    {
     "data": {
      "text/html": [
       "<script>\n",
       "require([\"d3\"], function(d3) {\n",
       "    d3.select(\".usersvg #pixel_crossSIw\").attr(\"transform\", \"translate(10 13)\");\n",
       "});\n",
       "</script>\n"
      ]
     },
     "metadata": {},
     "output_type": "display_data"
    },
    {
     "data": {
      "text/html": [
       "<script>\n",
       "require([\"d3\"], function(d3) {\n",
       "    d3.select(\".usersvg #pixel_crossSIw\").attr(\"transform\", \"translate(9 13)\");\n",
       "});\n",
       "</script>\n"
      ]
     },
     "metadata": {},
     "output_type": "display_data"
    },
    {
     "data": {
      "text/html": [
       "<script>\n",
       "require([\"d3\"], function(d3) {\n",
       "    d3.select(\".usersvg #pixel_crossSIw\").attr(\"transform\", \"translate(10 13)\");\n",
       "});\n",
       "</script>\n"
      ]
     },
     "metadata": {},
     "output_type": "display_data"
    },
    {
     "data": {
      "text/html": [
       "<script>\n",
       "require([\"d3\"], function(d3) {\n",
       "    d3.select(\".usersvg #pixel_crossSIw\").attr(\"transform\", \"translate(10 12)\");\n",
       "});\n",
       "</script>\n"
      ]
     },
     "metadata": {},
     "output_type": "display_data"
    },
    {
     "data": {
      "text/html": [
       "<script>\n",
       "require([\"d3\"], function(d3) {\n",
       "    d3.select(\".usersvg #pixel_crossSIw\").attr(\"transform\", \"translate(9 12)\");\n",
       "});\n",
       "</script>\n"
      ]
     },
     "metadata": {},
     "output_type": "display_data"
    },
    {
     "data": {
      "text/html": [
       "<script>\n",
       "require([\"d3\"], function(d3) {\n",
       "    d3.select(\".usersvg #pixel_crossSIw\").attr(\"transform\", \"translate(9 11)\");\n",
       "});\n",
       "</script>\n"
      ]
     },
     "metadata": {},
     "output_type": "display_data"
    },
    {
     "data": {
      "text/html": [
       "<script>\n",
       "require([\"d3\"], function(d3) {\n",
       "    d3.select(\".usersvg #pixel_crossSIw\").attr(\"transform\", \"translate(9 12)\");\n",
       "});\n",
       "</script>\n"
      ]
     },
     "metadata": {},
     "output_type": "display_data"
    },
    {
     "data": {
      "text/html": [
       "<script>\n",
       "require([\"d3\"], function(d3) {\n",
       "    d3.select(\".usersvg #pixel_crossSIw\").attr(\"transform\", \"translate(9 11)\");\n",
       "});\n",
       "</script>\n"
      ]
     },
     "metadata": {},
     "output_type": "display_data"
    },
    {
     "data": {
      "text/html": [
       "<script>\n",
       "require([\"d3\"], function(d3) {\n",
       "    d3.select(\".usersvg #pixel_crossSIw\").attr(\"transform\", \"translate(9 10)\");\n",
       "});\n",
       "</script>\n"
      ]
     },
     "metadata": {},
     "output_type": "display_data"
    },
    {
     "data": {
      "text/html": [
       "<script>\n",
       "require([\"d3\"], function(d3) {\n",
       "    d3.select(\".usersvg #pixel_crossSIw\").attr(\"transform\", \"translate(9 11)\");\n",
       "});\n",
       "</script>\n"
      ]
     },
     "metadata": {},
     "output_type": "display_data"
    },
    {
     "data": {
      "text/html": [
       "<script>\n",
       "require([\"d3\"], function(d3) {\n",
       "    d3.select(\".usersvg #pixel_crossSIw\").attr(\"transform\", \"translate(8 11)\");\n",
       "});\n",
       "</script>\n"
      ]
     },
     "metadata": {},
     "output_type": "display_data"
    },
    {
     "data": {
      "text/html": [
       "<script>\n",
       "require([\"d3\"], function(d3) {\n",
       "    d3.select(\".usersvg #pixel_crossSIw\").attr(\"transform\", \"translate(7 11)\");\n",
       "});\n",
       "</script>\n"
      ]
     },
     "metadata": {},
     "output_type": "display_data"
    },
    {
     "data": {
      "text/html": [
       "<script>\n",
       "require([\"d3\"], function(d3) {\n",
       "    d3.select(\".usersvg #pixel_crossSIw\").attr(\"transform\", \"translate(6 11)\");\n",
       "});\n",
       "</script>\n"
      ]
     },
     "metadata": {},
     "output_type": "display_data"
    },
    {
     "data": {
      "text/html": [
       "<script>\n",
       "require([\"d3\"], function(d3) {\n",
       "    d3.select(\".usersvg #pixel_crossSIw\").attr(\"transform\", \"translate(5 11)\");\n",
       "});\n",
       "</script>\n"
      ]
     },
     "metadata": {},
     "output_type": "display_data"
    },
    {
     "data": {
      "text/html": [
       "<script>\n",
       "require([\"d3\"], function(d3) {\n",
       "    d3.select(\".usersvg #pixel_crossSIw\").attr(\"transform\", \"translate(4 11)\");\n",
       "});\n",
       "</script>\n"
      ]
     },
     "metadata": {},
     "output_type": "display_data"
    },
    {
     "data": {
      "text/html": [
       "<script>\n",
       "require([\"d3\"], function(d3) {\n",
       "    d3.select(\".usersvg #pixel_crossSIw\").attr(\"transform\", \"translate(4 12)\");\n",
       "});\n",
       "</script>\n"
      ]
     },
     "metadata": {},
     "output_type": "display_data"
    },
    {
     "data": {
      "text/html": [
       "<script>\n",
       "require([\"d3\"], function(d3) {\n",
       "    d3.select(\".usersvg #pixel_crossSIw\").attr(\"transform\", \"translate(5 12)\");\n",
       "});\n",
       "</script>\n"
      ]
     },
     "metadata": {},
     "output_type": "display_data"
    },
    {
     "data": {
      "text/html": [
       "<script>\n",
       "require([\"d3\"], function(d3) {\n",
       "    d3.select(\".usersvg #pixel_crossSIw\").attr(\"transform\", \"translate(5 13)\");\n",
       "});\n",
       "</script>\n"
      ]
     },
     "metadata": {},
     "output_type": "display_data"
    },
    {
     "data": {
      "text/html": [
       "<script>\n",
       "require([\"d3\"], function(d3) {\n",
       "    d3.select(\".usersvg #pixel_crossSIw\").attr(\"transform\", \"translate(4 13)\");\n",
       "});\n",
       "</script>\n"
      ]
     },
     "metadata": {},
     "output_type": "display_data"
    },
    {
     "data": {
      "text/html": [
       "<script>\n",
       "require([\"d3\"], function(d3) {\n",
       "    d3.select(\".usersvg #pixel_crossSIw\").attr(\"transform\", \"translate(5 13)\");\n",
       "});\n",
       "</script>\n"
      ]
     },
     "metadata": {},
     "output_type": "display_data"
    },
    {
     "data": {
      "text/html": [
       "<script>\n",
       "require([\"d3\"], function(d3) {\n",
       "    d3.select(\".usersvg #pixel_crossSIw\").attr(\"transform\", \"translate(4 13)\");\n",
       "});\n",
       "</script>\n"
      ]
     },
     "metadata": {},
     "output_type": "display_data"
    },
    {
     "data": {
      "text/html": [
       "<script>\n",
       "require([\"d3\"], function(d3) {\n",
       "    d3.select(\".usersvg #pixel_crossSIw\").attr(\"transform\", \"translate(4 12)\");\n",
       "});\n",
       "</script>\n"
      ]
     },
     "metadata": {},
     "output_type": "display_data"
    },
    {
     "data": {
      "text/html": [
       "<script>\n",
       "require([\"d3\"], function(d3) {\n",
       "    d3.select(\".usersvg #pixel_crossSIw\").attr(\"transform\", \"translate(4 13)\");\n",
       "});\n",
       "</script>\n"
      ]
     },
     "metadata": {},
     "output_type": "display_data"
    },
    {
     "data": {
      "text/html": [
       "<script>\n",
       "require([\"d3\"], function(d3) {\n",
       "    d3.select(\".usersvg #pixel_crossSIw\").attr(\"transform\", \"translate(3 13)\");\n",
       "});\n",
       "</script>\n"
      ]
     },
     "metadata": {},
     "output_type": "display_data"
    },
    {
     "data": {
      "text/html": [
       "<script>\n",
       "require([\"d3\"], function(d3) {\n",
       "    d3.select(\".usersvg #pixel_crossSIw\").attr(\"transform\", \"translate(2 13)\");\n",
       "});\n",
       "</script>\n"
      ]
     },
     "metadata": {},
     "output_type": "display_data"
    },
    {
     "data": {
      "text/html": [
       "<script>\n",
       "require([\"d3\"], function(d3) {\n",
       "    d3.select(\".usersvg #pixel_crossSIw\").attr(\"transform\", \"translate(1 13)\");\n",
       "});\n",
       "</script>\n"
      ]
     },
     "metadata": {},
     "output_type": "display_data"
    },
    {
     "data": {
      "text/html": [
       "<script>\n",
       "require([\"d3\"], function(d3) {\n",
       "    d3.select(\".usersvg #pixel_crossSIw\").attr(\"transform\", \"translate(2 13)\");\n",
       "});\n",
       "</script>\n"
      ]
     },
     "metadata": {},
     "output_type": "display_data"
    },
    {
     "data": {
      "text/html": [
       "<script>\n",
       "require([\"d3\"], function(d3) {\n",
       "    d3.select(\".usersvg #pixel_crossSIw\").attr(\"transform\", \"translate(1 13)\");\n",
       "});\n",
       "</script>\n"
      ]
     },
     "metadata": {},
     "output_type": "display_data"
    },
    {
     "data": {
      "text/html": [
       "<script>\n",
       "require([\"d3\"], function(d3) {\n",
       "    d3.select(\".usersvg #pixel_crossSIw\").attr(\"transform\", \"translate(2 13)\");\n",
       "});\n",
       "</script>\n"
      ]
     },
     "metadata": {},
     "output_type": "display_data"
    },
    {
     "data": {
      "text/html": [
       "<script>\n",
       "require([\"d3\"], function(d3) {\n",
       "    d3.select(\".usersvg #pixel_crossSIw\").attr(\"transform\", \"translate(1 13)\");\n",
       "});\n",
       "</script>\n"
      ]
     },
     "metadata": {},
     "output_type": "display_data"
    },
    {
     "data": {
      "text/html": [
       "<script>\n",
       "require([\"d3\"], function(d3) {\n",
       "    d3.select(\".usersvg #pixel_crossSIw\").attr(\"transform\", \"translate(0 13)\");\n",
       "});\n",
       "</script>\n"
      ]
     },
     "metadata": {},
     "output_type": "display_data"
    },
    {
     "data": {
      "text/html": [
       "<script>\n",
       "require([\"d3\"], function(d3) {\n",
       "    d3.select(\".usersvg #pixel_crossSIw\").attr(\"transform\", \"translate(0 14)\");\n",
       "});\n",
       "</script>\n"
      ]
     },
     "metadata": {},
     "output_type": "display_data"
    },
    {
     "data": {
      "text/html": [
       "<script>\n",
       "require([\"d3\"], function(d3) {\n",
       "    d3.select(\".usersvg #pixel_crossSIw\").attr(\"transform\", \"translate(0 13)\");\n",
       "});\n",
       "</script>\n"
      ]
     },
     "metadata": {},
     "output_type": "display_data"
    },
    {
     "data": {
      "text/html": [
       "<script>\n",
       "require([\"d3\"], function(d3) {\n",
       "    d3.select(\".usersvg #pixel_crossSIw\").attr(\"transform\", \"translate(0 12)\");\n",
       "});\n",
       "</script>\n"
      ]
     },
     "metadata": {},
     "output_type": "display_data"
    },
    {
     "data": {
      "text/html": [
       "<script>\n",
       "require([\"d3\"], function(d3) {\n",
       "    d3.select(\".usersvg #pixel_crossSIw\").attr(\"transform\", \"translate(1 12)\");\n",
       "});\n",
       "</script>\n"
      ]
     },
     "metadata": {},
     "output_type": "display_data"
    },
    {
     "data": {
      "text/html": [
       "<script>\n",
       "require([\"d3\"], function(d3) {\n",
       "    d3.select(\".usersvg #pixel_crossSIw\").attr(\"transform\", \"translate(0 12)\");\n",
       "});\n",
       "</script>\n"
      ]
     },
     "metadata": {},
     "output_type": "display_data"
    },
    {
     "data": {
      "text/html": [
       "<script>\n",
       "require([\"d3\"], function(d3) {\n",
       "    d3.select(\".usersvg #pixel_crossSIw\").attr(\"transform\", \"translate(0 12)\");\n",
       "});\n",
       "</script>\n"
      ]
     },
     "metadata": {},
     "output_type": "display_data"
    },
    {
     "data": {
      "text/html": [
       "<script>\n",
       "require([\"d3\"], function(d3) {\n",
       "    d3.select(\".usersvg #pixel_crossSIw\").attr(\"transform\", \"translate(1 12)\");\n",
       "});\n",
       "</script>\n"
      ]
     },
     "metadata": {},
     "output_type": "display_data"
    },
    {
     "data": {
      "text/html": [
       "<script>\n",
       "require([\"d3\"], function(d3) {\n",
       "    d3.select(\".usersvg #pixel_crossSIw\").attr(\"transform\", \"translate(0 12)\");\n",
       "});\n",
       "</script>\n"
      ]
     },
     "metadata": {},
     "output_type": "display_data"
    },
    {
     "data": {
      "text/html": [
       "<script>\n",
       "require([\"d3\"], function(d3) {\n",
       "    d3.select(\".usersvg #pixel_crossSIw\").attr(\"transform\", \"translate(0 11)\");\n",
       "});\n",
       "</script>\n"
      ]
     },
     "metadata": {},
     "output_type": "display_data"
    },
    {
     "data": {
      "text/html": [
       "<script>\n",
       "require([\"d3\"], function(d3) {\n",
       "    d3.select(\".usersvg #pixel_crossSIw\").attr(\"transform\", \"translate(1 11)\");\n",
       "});\n",
       "</script>\n"
      ]
     },
     "metadata": {},
     "output_type": "display_data"
    },
    {
     "data": {
      "text/html": [
       "<script>\n",
       "require([\"d3\"], function(d3) {\n",
       "    d3.select(\".usersvg #pixel_crossSIw\").attr(\"transform\", \"translate(1 12)\");\n",
       "});\n",
       "</script>\n"
      ]
     },
     "metadata": {},
     "output_type": "display_data"
    },
    {
     "data": {
      "text/html": [
       "<script>\n",
       "require([\"d3\"], function(d3) {\n",
       "    d3.select(\".usersvg #pixel_crossSIw\").attr(\"transform\", \"translate(0 12)\");\n",
       "});\n",
       "</script>\n"
      ]
     },
     "metadata": {},
     "output_type": "display_data"
    },
    {
     "data": {
      "text/html": [
       "<script>\n",
       "require([\"d3\"], function(d3) {\n",
       "    d3.select(\".usersvg #pixel_crossSIw\").attr(\"transform\", \"translate(0 11)\");\n",
       "});\n",
       "</script>\n"
      ]
     },
     "metadata": {},
     "output_type": "display_data"
    },
    {
     "data": {
      "text/html": [
       "<script>\n",
       "require([\"d3\"], function(d3) {\n",
       "    d3.select(\".usersvg #pixel_crossSIw\").attr(\"transform\", \"translate(0 10)\");\n",
       "});\n",
       "</script>\n"
      ]
     },
     "metadata": {},
     "output_type": "display_data"
    },
    {
     "data": {
      "text/html": [
       "<script>\n",
       "require([\"d3\"], function(d3) {\n",
       "    d3.select(\".usersvg #pixel_crossSIw\").attr(\"transform\", \"translate(0 10)\");\n",
       "});\n",
       "</script>\n"
      ]
     },
     "metadata": {},
     "output_type": "display_data"
    },
    {
     "data": {
      "text/html": [
       "<script>\n",
       "require([\"d3\"], function(d3) {\n",
       "    d3.select(\".usersvg #pixel_crossSIw\").attr(\"transform\", \"translate(0 9)\");\n",
       "});\n",
       "</script>\n"
      ]
     },
     "metadata": {},
     "output_type": "display_data"
    },
    {
     "data": {
      "text/html": [
       "<script>\n",
       "require([\"d3\"], function(d3) {\n",
       "    d3.select(\".usersvg #pixel_crossSIw\").attr(\"transform\", \"translate(1 9)\");\n",
       "});\n",
       "</script>\n"
      ]
     },
     "metadata": {},
     "output_type": "display_data"
    },
    {
     "data": {
      "text/html": [
       "<script>\n",
       "require([\"d3\"], function(d3) {\n",
       "    d3.select(\".usersvg #pixel_crossSIw\").attr(\"transform\", \"translate(2 9)\");\n",
       "});\n",
       "</script>\n"
      ]
     },
     "metadata": {},
     "output_type": "display_data"
    },
    {
     "data": {
      "text/html": [
       "<script>\n",
       "require([\"d3\"], function(d3) {\n",
       "    d3.select(\".usersvg #pixel_crossSIw\").attr(\"transform\", \"translate(1 9)\");\n",
       "});\n",
       "</script>\n"
      ]
     },
     "metadata": {},
     "output_type": "display_data"
    },
    {
     "data": {
      "text/html": [
       "<script>\n",
       "require([\"d3\"], function(d3) {\n",
       "    d3.select(\".usersvg #pixel_crossSIw\").attr(\"transform\", \"translate(0 9)\");\n",
       "});\n",
       "</script>\n"
      ]
     },
     "metadata": {},
     "output_type": "display_data"
    },
    {
     "data": {
      "text/html": [
       "<script>\n",
       "require([\"d3\"], function(d3) {\n",
       "    d3.select(\".usersvg #pixel_crossSIw\").attr(\"transform\", \"translate(1 9)\");\n",
       "});\n",
       "</script>\n"
      ]
     },
     "metadata": {},
     "output_type": "display_data"
    },
    {
     "data": {
      "text/html": [
       "<script>\n",
       "require([\"d3\"], function(d3) {\n",
       "    d3.select(\".usersvg #pixel_crossSIw\").attr(\"transform\", \"translate(2 9)\");\n",
       "});\n",
       "</script>\n"
      ]
     },
     "metadata": {},
     "output_type": "display_data"
    },
    {
     "data": {
      "text/html": [
       "<script>\n",
       "require([\"d3\"], function(d3) {\n",
       "    d3.select(\".usersvg #pixel_crossSIw\").attr(\"transform\", \"translate(1 9)\");\n",
       "});\n",
       "</script>\n"
      ]
     },
     "metadata": {},
     "output_type": "display_data"
    },
    {
     "data": {
      "text/html": [
       "<script>\n",
       "require([\"d3\"], function(d3) {\n",
       "    d3.select(\".usersvg #pixel_crossSIw\").attr(\"transform\", \"translate(2 9)\");\n",
       "});\n",
       "</script>\n"
      ]
     },
     "metadata": {},
     "output_type": "display_data"
    },
    {
     "data": {
      "text/html": [
       "<script>\n",
       "require([\"d3\"], function(d3) {\n",
       "    d3.select(\".usersvg #pixel_crossSIw\").attr(\"transform\", \"translate(2 10)\");\n",
       "});\n",
       "</script>\n"
      ]
     },
     "metadata": {},
     "output_type": "display_data"
    },
    {
     "data": {
      "text/html": [
       "<script>\n",
       "require([\"d3\"], function(d3) {\n",
       "    d3.select(\".usersvg #pixel_crossSIw\").attr(\"transform\", \"translate(3 10)\");\n",
       "});\n",
       "</script>\n"
      ]
     },
     "metadata": {},
     "output_type": "display_data"
    },
    {
     "data": {
      "text/html": [
       "<script>\n",
       "require([\"d3\"], function(d3) {\n",
       "    d3.select(\".usersvg #pixel_crossSIw\").attr(\"transform\", \"translate(3 11)\");\n",
       "});\n",
       "</script>\n"
      ]
     },
     "metadata": {},
     "output_type": "display_data"
    },
    {
     "data": {
      "text/html": [
       "<script>\n",
       "require([\"d3\"], function(d3) {\n",
       "    d3.select(\".usersvg #pixel_crossSIw\").attr(\"transform\", \"translate(2 11)\");\n",
       "});\n",
       "</script>\n"
      ]
     },
     "metadata": {},
     "output_type": "display_data"
    },
    {
     "data": {
      "text/html": [
       "<script>\n",
       "require([\"d3\"], function(d3) {\n",
       "    d3.select(\".usersvg #pixel_crossSIw\").attr(\"transform\", \"translate(1 11)\");\n",
       "});\n",
       "</script>\n"
      ]
     },
     "metadata": {},
     "output_type": "display_data"
    },
    {
     "data": {
      "text/html": [
       "<script>\n",
       "require([\"d3\"], function(d3) {\n",
       "    d3.select(\".usersvg #pixel_crossSIw\").attr(\"transform\", \"translate(2 11)\");\n",
       "});\n",
       "</script>\n"
      ]
     },
     "metadata": {},
     "output_type": "display_data"
    },
    {
     "data": {
      "text/html": [
       "<script>\n",
       "require([\"d3\"], function(d3) {\n",
       "    d3.select(\".usersvg #pixel_crossSIw\").attr(\"transform\", \"translate(1 11)\");\n",
       "});\n",
       "</script>\n"
      ]
     },
     "metadata": {},
     "output_type": "display_data"
    },
    {
     "data": {
      "text/html": [
       "<script>\n",
       "require([\"d3\"], function(d3) {\n",
       "    d3.select(\".usersvg #pixel_crossSIw\").attr(\"transform\", \"translate(2 11)\");\n",
       "});\n",
       "</script>\n"
      ]
     },
     "metadata": {},
     "output_type": "display_data"
    },
    {
     "data": {
      "text/html": [
       "<script>\n",
       "require([\"d3\"], function(d3) {\n",
       "    d3.select(\".usersvg #pixel_crossSIw\").attr(\"transform\", \"translate(2 12)\");\n",
       "});\n",
       "</script>\n"
      ]
     },
     "metadata": {},
     "output_type": "display_data"
    },
    {
     "data": {
      "text/html": [
       "<script>\n",
       "require([\"d3\"], function(d3) {\n",
       "    d3.select(\".usersvg #pixel_crossSIw\").attr(\"transform\", \"translate(3 12)\");\n",
       "});\n",
       "</script>\n"
      ]
     },
     "metadata": {},
     "output_type": "display_data"
    },
    {
     "data": {
      "text/html": [
       "<script>\n",
       "require([\"d3\"], function(d3) {\n",
       "    d3.select(\".usersvg #pixel_crossSIw\").attr(\"transform\", \"translate(3 13)\");\n",
       "});\n",
       "</script>\n"
      ]
     },
     "metadata": {},
     "output_type": "display_data"
    },
    {
     "data": {
      "text/html": [
       "<script>\n",
       "require([\"d3\"], function(d3) {\n",
       "    d3.select(\".usersvg #pixel_crossSIw\").attr(\"transform\", \"translate(3 12)\");\n",
       "});\n",
       "</script>\n"
      ]
     },
     "metadata": {},
     "output_type": "display_data"
    },
    {
     "data": {
      "text/html": [
       "<script>\n",
       "require([\"d3\"], function(d3) {\n",
       "    d3.select(\".usersvg #pixel_crossSIw\").attr(\"transform\", \"translate(2 12)\");\n",
       "});\n",
       "</script>\n"
      ]
     },
     "metadata": {},
     "output_type": "display_data"
    },
    {
     "data": {
      "text/html": [
       "<script>\n",
       "require([\"d3\"], function(d3) {\n",
       "    d3.select(\".usersvg #pixel_crossSIw\").attr(\"transform\", \"translate(2 13)\");\n",
       "});\n",
       "</script>\n"
      ]
     },
     "metadata": {},
     "output_type": "display_data"
    },
    {
     "data": {
      "text/html": [
       "<script>\n",
       "require([\"d3\"], function(d3) {\n",
       "    d3.select(\".usersvg #pixel_crossSIw\").attr(\"transform\", \"translate(1 13)\");\n",
       "});\n",
       "</script>\n"
      ]
     },
     "metadata": {},
     "output_type": "display_data"
    },
    {
     "data": {
      "text/html": [
       "<script>\n",
       "require([\"d3\"], function(d3) {\n",
       "    d3.select(\".usersvg #pixel_crossSIw\").attr(\"transform\", \"translate(0 13)\");\n",
       "});\n",
       "</script>\n"
      ]
     },
     "metadata": {},
     "output_type": "display_data"
    },
    {
     "data": {
      "text/html": [
       "<script>\n",
       "require([\"d3\"], function(d3) {\n",
       "    d3.select(\".usersvg #pixel_crossSIw\").attr(\"transform\", \"translate(1 13)\");\n",
       "});\n",
       "</script>\n"
      ]
     },
     "metadata": {},
     "output_type": "display_data"
    },
    {
     "data": {
      "text/html": [
       "<script>\n",
       "require([\"d3\"], function(d3) {\n",
       "    d3.select(\".usersvg #pixel_crossSIw\").attr(\"transform\", \"translate(1 14)\");\n",
       "});\n",
       "</script>\n"
      ]
     },
     "metadata": {},
     "output_type": "display_data"
    },
    {
     "data": {
      "text/html": [
       "<script>\n",
       "require([\"d3\"], function(d3) {\n",
       "    d3.select(\".usersvg #pixel_crossSIw\").attr(\"transform\", \"translate(1 13)\");\n",
       "});\n",
       "</script>\n"
      ]
     },
     "metadata": {},
     "output_type": "display_data"
    },
    {
     "data": {
      "text/html": [
       "<script>\n",
       "require([\"d3\"], function(d3) {\n",
       "    d3.select(\".usersvg #pixel_crossSIw\").attr(\"transform\", \"translate(2 13)\");\n",
       "});\n",
       "</script>\n"
      ]
     },
     "metadata": {},
     "output_type": "display_data"
    },
    {
     "data": {
      "text/html": [
       "<script>\n",
       "require([\"d3\"], function(d3) {\n",
       "    d3.select(\".usersvg #pixel_crossSIw\").attr(\"transform\", \"translate(2 12)\");\n",
       "});\n",
       "</script>\n"
      ]
     },
     "metadata": {},
     "output_type": "display_data"
    },
    {
     "data": {
      "text/html": [
       "<script>\n",
       "require([\"d3\"], function(d3) {\n",
       "    d3.select(\".usersvg #pixel_crossSIw\").attr(\"transform\", \"translate(2 11)\");\n",
       "});\n",
       "</script>\n"
      ]
     },
     "metadata": {},
     "output_type": "display_data"
    },
    {
     "data": {
      "text/html": [
       "<script>\n",
       "require([\"d3\"], function(d3) {\n",
       "    d3.select(\".usersvg #pixel_crossSIw\").attr(\"transform\", \"translate(3 11)\");\n",
       "});\n",
       "</script>\n"
      ]
     },
     "metadata": {},
     "output_type": "display_data"
    },
    {
     "data": {
      "text/html": [
       "<script>\n",
       "require([\"d3\"], function(d3) {\n",
       "    d3.select(\".usersvg #pixel_crossSIw\").attr(\"transform\", \"translate(3 10)\");\n",
       "});\n",
       "</script>\n"
      ]
     },
     "metadata": {},
     "output_type": "display_data"
    },
    {
     "data": {
      "text/html": [
       "<script>\n",
       "require([\"d3\"], function(d3) {\n",
       "    d3.select(\".usersvg #pixel_crossSIw\").attr(\"transform\", \"translate(3 9)\");\n",
       "});\n",
       "</script>\n"
      ]
     },
     "metadata": {},
     "output_type": "display_data"
    },
    {
     "data": {
      "text/html": [
       "<script>\n",
       "require([\"d3\"], function(d3) {\n",
       "    d3.select(\".usersvg #pixel_crossSIw\").attr(\"transform\", \"translate(2 9)\");\n",
       "});\n",
       "</script>\n"
      ]
     },
     "metadata": {},
     "output_type": "display_data"
    },
    {
     "data": {
      "text/html": [
       "<script>\n",
       "require([\"d3\"], function(d3) {\n",
       "    d3.select(\".usersvg #pixel_crossSIw\").attr(\"transform\", \"translate(2 8)\");\n",
       "});\n",
       "</script>\n"
      ]
     },
     "metadata": {},
     "output_type": "display_data"
    },
    {
     "data": {
      "text/html": [
       "<script>\n",
       "require([\"d3\"], function(d3) {\n",
       "    d3.select(\".usersvg #pixel_crossSIw\").attr(\"transform\", \"translate(3 8)\");\n",
       "});\n",
       "</script>\n"
      ]
     },
     "metadata": {},
     "output_type": "display_data"
    },
    {
     "data": {
      "text/html": [
       "<script>\n",
       "require([\"d3\"], function(d3) {\n",
       "    d3.select(\".usersvg #pixel_crossSIw\").attr(\"transform\", \"translate(3 9)\");\n",
       "});\n",
       "</script>\n"
      ]
     },
     "metadata": {},
     "output_type": "display_data"
    },
    {
     "data": {
      "text/html": [
       "<script>\n",
       "require([\"d3\"], function(d3) {\n",
       "    d3.select(\".usersvg #pixel_crossSIw\").attr(\"transform\", \"translate(4 9)\");\n",
       "});\n",
       "</script>\n"
      ]
     },
     "metadata": {},
     "output_type": "display_data"
    },
    {
     "data": {
      "text/html": [
       "<script>\n",
       "require([\"d3\"], function(d3) {\n",
       "    d3.select(\".usersvg #pixel_crossSIw\").attr(\"transform\", \"translate(5 9)\");\n",
       "});\n",
       "</script>\n"
      ]
     },
     "metadata": {},
     "output_type": "display_data"
    },
    {
     "data": {
      "text/html": [
       "<script>\n",
       "require([\"d3\"], function(d3) {\n",
       "    d3.select(\".usersvg #pixel_crossSIw\").attr(\"transform\", \"translate(4 9)\");\n",
       "});\n",
       "</script>\n"
      ]
     },
     "metadata": {},
     "output_type": "display_data"
    },
    {
     "data": {
      "text/html": [
       "<script>\n",
       "require([\"d3\"], function(d3) {\n",
       "    d3.select(\".usersvg #pixel_crossSIw\").attr(\"transform\", \"translate(4 8)\");\n",
       "});\n",
       "</script>\n"
      ]
     },
     "metadata": {},
     "output_type": "display_data"
    },
    {
     "data": {
      "text/html": [
       "<script>\n",
       "require([\"d3\"], function(d3) {\n",
       "    d3.select(\".usersvg #pixel_crossSIw\").attr(\"transform\", \"translate(4 9)\");\n",
       "});\n",
       "</script>\n"
      ]
     },
     "metadata": {},
     "output_type": "display_data"
    },
    {
     "data": {
      "text/html": [
       "<script>\n",
       "require([\"d3\"], function(d3) {\n",
       "    d3.select(\".usersvg #pixel_crossSIw\").attr(\"transform\", \"translate(4 8)\");\n",
       "});\n",
       "</script>\n"
      ]
     },
     "metadata": {},
     "output_type": "display_data"
    },
    {
     "data": {
      "text/html": [
       "<script>\n",
       "require([\"d3\"], function(d3) {\n",
       "    d3.select(\".usersvg #pixel_crossSIw\").attr(\"transform\", \"translate(4 9)\");\n",
       "});\n",
       "</script>\n"
      ]
     },
     "metadata": {},
     "output_type": "display_data"
    },
    {
     "data": {
      "text/html": [
       "<script>\n",
       "require([\"d3\"], function(d3) {\n",
       "    d3.select(\".usersvg #pixel_crossSIw\").attr(\"transform\", \"translate(3 9)\");\n",
       "});\n",
       "</script>\n"
      ]
     },
     "metadata": {},
     "output_type": "display_data"
    },
    {
     "data": {
      "text/html": [
       "<script>\n",
       "require([\"d3\"], function(d3) {\n",
       "    d3.select(\".usersvg #pixel_crossSIw\").attr(\"transform\", \"translate(3 8)\");\n",
       "});\n",
       "</script>\n"
      ]
     },
     "metadata": {},
     "output_type": "display_data"
    },
    {
     "data": {
      "text/html": [
       "<script>\n",
       "require([\"d3\"], function(d3) {\n",
       "    d3.select(\".usersvg #pixel_crossSIw\").attr(\"transform\", \"translate(3 7)\");\n",
       "});\n",
       "</script>\n"
      ]
     },
     "metadata": {},
     "output_type": "display_data"
    },
    {
     "data": {
      "text/html": [
       "<script>\n",
       "require([\"d3\"], function(d3) {\n",
       "    d3.select(\".usersvg #pixel_crossSIw\").attr(\"transform\", \"translate(3 8)\");\n",
       "});\n",
       "</script>\n"
      ]
     },
     "metadata": {},
     "output_type": "display_data"
    },
    {
     "data": {
      "text/html": [
       "<script>\n",
       "require([\"d3\"], function(d3) {\n",
       "    d3.select(\".usersvg #pixel_crossSIw\").attr(\"transform\", \"translate(2 8)\");\n",
       "});\n",
       "</script>\n"
      ]
     },
     "metadata": {},
     "output_type": "display_data"
    },
    {
     "data": {
      "text/html": [
       "<script>\n",
       "require([\"d3\"], function(d3) {\n",
       "    d3.select(\".usersvg #pixel_crossSIw\").attr(\"transform\", \"translate(1 8)\");\n",
       "});\n",
       "</script>\n"
      ]
     },
     "metadata": {},
     "output_type": "display_data"
    },
    {
     "data": {
      "text/html": [
       "<script>\n",
       "require([\"d3\"], function(d3) {\n",
       "    d3.select(\".usersvg #pixel_crossSIw\").attr(\"transform\", \"translate(2 8)\");\n",
       "});\n",
       "</script>\n"
      ]
     },
     "metadata": {},
     "output_type": "display_data"
    },
    {
     "data": {
      "text/html": [
       "<script>\n",
       "require([\"d3\"], function(d3) {\n",
       "    d3.select(\".usersvg #pixel_crossSIw\").attr(\"transform\", \"translate(2 9)\");\n",
       "});\n",
       "</script>\n"
      ]
     },
     "metadata": {},
     "output_type": "display_data"
    },
    {
     "data": {
      "text/html": [
       "<script>\n",
       "require([\"d3\"], function(d3) {\n",
       "    d3.select(\".usersvg #pixel_crossSIw\").attr(\"transform\", \"translate(2 10)\");\n",
       "});\n",
       "</script>\n"
      ]
     },
     "metadata": {},
     "output_type": "display_data"
    },
    {
     "data": {
      "text/html": [
       "<script>\n",
       "require([\"d3\"], function(d3) {\n",
       "    d3.select(\".usersvg #pixel_crossSIw\").attr(\"transform\", \"translate(1 10)\");\n",
       "});\n",
       "</script>\n"
      ]
     },
     "metadata": {},
     "output_type": "display_data"
    },
    {
     "data": {
      "text/html": [
       "<script>\n",
       "require([\"d3\"], function(d3) {\n",
       "    d3.select(\".usersvg #pixel_crossSIw\").attr(\"transform\", \"translate(0 10)\");\n",
       "});\n",
       "</script>\n"
      ]
     },
     "metadata": {},
     "output_type": "display_data"
    },
    {
     "data": {
      "text/html": [
       "<script>\n",
       "require([\"d3\"], function(d3) {\n",
       "    d3.select(\".usersvg #pixel_crossSIw\").attr(\"transform\", \"translate(0 9)\");\n",
       "});\n",
       "</script>\n"
      ]
     },
     "metadata": {},
     "output_type": "display_data"
    },
    {
     "data": {
      "text/html": [
       "<script>\n",
       "require([\"d3\"], function(d3) {\n",
       "    d3.select(\".usersvg #pixel_crossSIw\").attr(\"transform\", \"translate(0 9)\");\n",
       "});\n",
       "</script>\n"
      ]
     },
     "metadata": {},
     "output_type": "display_data"
    },
    {
     "data": {
      "text/html": [
       "<script>\n",
       "require([\"d3\"], function(d3) {\n",
       "    d3.select(\".usersvg #pixel_crossSIw\").attr(\"transform\", \"translate(1 9)\");\n",
       "});\n",
       "</script>\n"
      ]
     },
     "metadata": {},
     "output_type": "display_data"
    },
    {
     "data": {
      "text/html": [
       "<script>\n",
       "require([\"d3\"], function(d3) {\n",
       "    d3.select(\".usersvg #pixel_crossSIw\").attr(\"transform\", \"translate(1 8)\");\n",
       "});\n",
       "</script>\n"
      ]
     },
     "metadata": {},
     "output_type": "display_data"
    },
    {
     "data": {
      "text/html": [
       "<script>\n",
       "require([\"d3\"], function(d3) {\n",
       "    d3.select(\".usersvg #pixel_crossSIw\").attr(\"transform\", \"translate(1 7)\");\n",
       "});\n",
       "</script>\n"
      ]
     },
     "metadata": {},
     "output_type": "display_data"
    },
    {
     "data": {
      "text/html": [
       "<script>\n",
       "require([\"d3\"], function(d3) {\n",
       "    d3.select(\".usersvg #pixel_crossSIw\").attr(\"transform\", \"translate(2 7)\");\n",
       "});\n",
       "</script>\n"
      ]
     },
     "metadata": {},
     "output_type": "display_data"
    },
    {
     "data": {
      "text/html": [
       "<script>\n",
       "require([\"d3\"], function(d3) {\n",
       "    d3.select(\".usersvg #pixel_crossSIw\").attr(\"transform\", \"translate(3 7)\");\n",
       "});\n",
       "</script>\n"
      ]
     },
     "metadata": {},
     "output_type": "display_data"
    },
    {
     "data": {
      "text/html": [
       "<script>\n",
       "require([\"d3\"], function(d3) {\n",
       "    d3.select(\".usersvg #pixel_crossSIw\").attr(\"transform\", \"translate(2 7)\");\n",
       "});\n",
       "</script>\n"
      ]
     },
     "metadata": {},
     "output_type": "display_data"
    },
    {
     "data": {
      "text/html": [
       "<script>\n",
       "require([\"d3\"], function(d3) {\n",
       "    d3.select(\".usersvg #pixel_crossSIw\").attr(\"transform\", \"translate(2 6)\");\n",
       "});\n",
       "</script>\n"
      ]
     },
     "metadata": {},
     "output_type": "display_data"
    },
    {
     "data": {
      "text/html": [
       "<script>\n",
       "require([\"d3\"], function(d3) {\n",
       "    d3.select(\".usersvg #pixel_crossSIw\").attr(\"transform\", \"translate(1 6)\");\n",
       "});\n",
       "</script>\n"
      ]
     },
     "metadata": {},
     "output_type": "display_data"
    },
    {
     "data": {
      "text/html": [
       "<script>\n",
       "require([\"d3\"], function(d3) {\n",
       "    d3.select(\".usersvg #pixel_crossSIw\").attr(\"transform\", \"translate(1 5)\");\n",
       "});\n",
       "</script>\n"
      ]
     },
     "metadata": {},
     "output_type": "display_data"
    },
    {
     "data": {
      "text/html": [
       "<script>\n",
       "require([\"d3\"], function(d3) {\n",
       "    d3.select(\".usersvg #pixel_crossSIw\").attr(\"transform\", \"translate(0 5)\");\n",
       "});\n",
       "</script>\n"
      ]
     },
     "metadata": {},
     "output_type": "display_data"
    },
    {
     "data": {
      "text/html": [
       "<script>\n",
       "require([\"d3\"], function(d3) {\n",
       "    d3.select(\".usersvg #pixel_crossSIw\").attr(\"transform\", \"translate(0 6)\");\n",
       "});\n",
       "</script>\n"
      ]
     },
     "metadata": {},
     "output_type": "display_data"
    },
    {
     "data": {
      "text/html": [
       "<script>\n",
       "require([\"d3\"], function(d3) {\n",
       "    d3.select(\".usersvg #pixel_crossSIw\").attr(\"transform\", \"translate(0 5)\");\n",
       "});\n",
       "</script>\n"
      ]
     },
     "metadata": {},
     "output_type": "display_data"
    },
    {
     "data": {
      "text/html": [
       "<script>\n",
       "require([\"d3\"], function(d3) {\n",
       "    d3.select(\".usersvg #pixel_crossSIw\").attr(\"transform\", \"translate(0 6)\");\n",
       "});\n",
       "</script>\n"
      ]
     },
     "metadata": {},
     "output_type": "display_data"
    },
    {
     "data": {
      "text/html": [
       "<script>\n",
       "require([\"d3\"], function(d3) {\n",
       "    d3.select(\".usersvg #pixel_crossSIw\").attr(\"transform\", \"translate(0 5)\");\n",
       "});\n",
       "</script>\n"
      ]
     },
     "metadata": {},
     "output_type": "display_data"
    },
    {
     "data": {
      "text/html": [
       "<script>\n",
       "require([\"d3\"], function(d3) {\n",
       "    d3.select(\".usersvg #pixel_crossSIw\").attr(\"transform\", \"translate(0 6)\");\n",
       "});\n",
       "</script>\n"
      ]
     },
     "metadata": {},
     "output_type": "display_data"
    },
    {
     "data": {
      "text/html": [
       "<script>\n",
       "require([\"d3\"], function(d3) {\n",
       "    d3.select(\".usersvg #pixel_crossSIw\").attr(\"transform\", \"translate(0 6)\");\n",
       "});\n",
       "</script>\n"
      ]
     },
     "metadata": {},
     "output_type": "display_data"
    },
    {
     "data": {
      "text/html": [
       "<script>\n",
       "require([\"d3\"], function(d3) {\n",
       "    d3.select(\".usersvg #pixel_crossSIw\").attr(\"transform\", \"translate(0 6)\");\n",
       "});\n",
       "</script>\n"
      ]
     },
     "metadata": {},
     "output_type": "display_data"
    },
    {
     "data": {
      "text/html": [
       "<script>\n",
       "require([\"d3\"], function(d3) {\n",
       "    d3.select(\".usersvg #pixel_crossSIw\").attr(\"transform\", \"translate(1 6)\");\n",
       "});\n",
       "</script>\n"
      ]
     },
     "metadata": {},
     "output_type": "display_data"
    },
    {
     "data": {
      "text/html": [
       "<script>\n",
       "require([\"d3\"], function(d3) {\n",
       "    d3.select(\".usersvg #pixel_crossSIw\").attr(\"transform\", \"translate(1 5)\");\n",
       "});\n",
       "</script>\n"
      ]
     },
     "metadata": {},
     "output_type": "display_data"
    },
    {
     "data": {
      "text/html": [
       "<script>\n",
       "require([\"d3\"], function(d3) {\n",
       "    d3.select(\".usersvg #pixel_crossSIw\").attr(\"transform\", \"translate(1 6)\");\n",
       "});\n",
       "</script>\n"
      ]
     },
     "metadata": {},
     "output_type": "display_data"
    },
    {
     "data": {
      "text/html": [
       "<script>\n",
       "require([\"d3\"], function(d3) {\n",
       "    d3.select(\".usersvg #pixel_crossSIw\").attr(\"transform\", \"translate(0 6)\");\n",
       "});\n",
       "</script>\n"
      ]
     },
     "metadata": {},
     "output_type": "display_data"
    },
    {
     "data": {
      "text/html": [
       "<script>\n",
       "require([\"d3\"], function(d3) {\n",
       "    d3.select(\".usersvg #pixel_crossSIw\").attr(\"transform\", \"translate(0 6)\");\n",
       "});\n",
       "</script>\n"
      ]
     },
     "metadata": {},
     "output_type": "display_data"
    },
    {
     "data": {
      "text/html": [
       "<script>\n",
       "require([\"d3\"], function(d3) {\n",
       "    d3.select(\".usersvg #pixel_crossSIw\").attr(\"transform\", \"translate(1 6)\");\n",
       "});\n",
       "</script>\n"
      ]
     },
     "metadata": {},
     "output_type": "display_data"
    },
    {
     "data": {
      "text/html": [
       "<script>\n",
       "require([\"d3\"], function(d3) {\n",
       "    d3.select(\".usersvg #pixel_crossSIw\").attr(\"transform\", \"translate(1 7)\");\n",
       "});\n",
       "</script>\n"
      ]
     },
     "metadata": {},
     "output_type": "display_data"
    },
    {
     "data": {
      "text/html": [
       "<script>\n",
       "require([\"d3\"], function(d3) {\n",
       "    d3.select(\".usersvg #pixel_crossSIw\").attr(\"transform\", \"translate(2 7)\");\n",
       "});\n",
       "</script>\n"
      ]
     },
     "metadata": {},
     "output_type": "display_data"
    },
    {
     "data": {
      "text/html": [
       "<script>\n",
       "require([\"d3\"], function(d3) {\n",
       "    d3.select(\".usersvg #pixel_crossSIw\").attr(\"transform\", \"translate(2 8)\");\n",
       "});\n",
       "</script>\n"
      ]
     },
     "metadata": {},
     "output_type": "display_data"
    },
    {
     "data": {
      "text/html": [
       "<script>\n",
       "require([\"d3\"], function(d3) {\n",
       "    d3.select(\".usersvg #pixel_crossSIw\").attr(\"transform\", \"translate(2 7)\");\n",
       "});\n",
       "</script>\n"
      ]
     },
     "metadata": {},
     "output_type": "display_data"
    },
    {
     "data": {
      "text/html": [
       "<script>\n",
       "require([\"d3\"], function(d3) {\n",
       "    d3.select(\".usersvg #pixel_crossSIw\").attr(\"transform\", \"translate(2 6)\");\n",
       "});\n",
       "</script>\n"
      ]
     },
     "metadata": {},
     "output_type": "display_data"
    },
    {
     "data": {
      "text/html": [
       "<script>\n",
       "require([\"d3\"], function(d3) {\n",
       "    d3.select(\".usersvg #pixel_crossSIw\").attr(\"transform\", \"translate(3 6)\");\n",
       "});\n",
       "</script>\n"
      ]
     },
     "metadata": {},
     "output_type": "display_data"
    },
    {
     "data": {
      "text/html": [
       "<script>\n",
       "require([\"d3\"], function(d3) {\n",
       "    d3.select(\".usersvg #pixel_crossSIw\").attr(\"transform\", \"translate(3 7)\");\n",
       "});\n",
       "</script>\n"
      ]
     },
     "metadata": {},
     "output_type": "display_data"
    },
    {
     "data": {
      "text/html": [
       "<script>\n",
       "require([\"d3\"], function(d3) {\n",
       "    d3.select(\".usersvg #pixel_crossSIw\").attr(\"transform\", \"translate(2 7)\");\n",
       "});\n",
       "</script>\n"
      ]
     },
     "metadata": {},
     "output_type": "display_data"
    },
    {
     "data": {
      "text/html": [
       "<script>\n",
       "require([\"d3\"], function(d3) {\n",
       "    d3.select(\".usersvg #pixel_crossSIw\").attr(\"transform\", \"translate(2 6)\");\n",
       "});\n",
       "</script>\n"
      ]
     },
     "metadata": {},
     "output_type": "display_data"
    },
    {
     "data": {
      "text/html": [
       "<script>\n",
       "require([\"d3\"], function(d3) {\n",
       "    d3.select(\".usersvg #pixel_crossSIw\").attr(\"transform\", \"translate(2 5)\");\n",
       "});\n",
       "</script>\n"
      ]
     },
     "metadata": {},
     "output_type": "display_data"
    },
    {
     "data": {
      "text/html": [
       "<script>\n",
       "require([\"d3\"], function(d3) {\n",
       "    d3.select(\".usersvg #pixel_crossSIw\").attr(\"transform\", \"translate(3 5)\");\n",
       "});\n",
       "</script>\n"
      ]
     },
     "metadata": {},
     "output_type": "display_data"
    },
    {
     "data": {
      "text/html": [
       "<script>\n",
       "require([\"d3\"], function(d3) {\n",
       "    d3.select(\".usersvg #pixel_crossSIw\").attr(\"transform\", \"translate(4 5)\");\n",
       "});\n",
       "</script>\n"
      ]
     },
     "metadata": {},
     "output_type": "display_data"
    },
    {
     "data": {
      "text/html": [
       "<script>\n",
       "require([\"d3\"], function(d3) {\n",
       "    d3.select(\".usersvg #pixel_crossSIw\").attr(\"transform\", \"translate(4 6)\");\n",
       "});\n",
       "</script>\n"
      ]
     },
     "metadata": {},
     "output_type": "display_data"
    },
    {
     "data": {
      "text/html": [
       "<script>\n",
       "require([\"d3\"], function(d3) {\n",
       "    d3.select(\".usersvg #pixel_crossSIw\").attr(\"transform\", \"translate(4 5)\");\n",
       "});\n",
       "</script>\n"
      ]
     },
     "metadata": {},
     "output_type": "display_data"
    },
    {
     "data": {
      "text/html": [
       "<script>\n",
       "require([\"d3\"], function(d3) {\n",
       "    d3.select(\".usersvg #pixel_crossSIw\").attr(\"transform\", \"translate(5 5)\");\n",
       "});\n",
       "</script>\n"
      ]
     },
     "metadata": {},
     "output_type": "display_data"
    },
    {
     "data": {
      "text/html": [
       "<script>\n",
       "require([\"d3\"], function(d3) {\n",
       "    d3.select(\".usersvg #pixel_crossSIw\").attr(\"transform\", \"translate(5 6)\");\n",
       "});\n",
       "</script>\n"
      ]
     },
     "metadata": {},
     "output_type": "display_data"
    },
    {
     "data": {
      "text/html": [
       "<script>\n",
       "require([\"d3\"], function(d3) {\n",
       "    d3.select(\".usersvg #pixel_crossSIw\").attr(\"transform\", \"translate(4 6)\");\n",
       "});\n",
       "</script>\n"
      ]
     },
     "metadata": {},
     "output_type": "display_data"
    },
    {
     "data": {
      "text/html": [
       "<script>\n",
       "require([\"d3\"], function(d3) {\n",
       "    d3.select(\".usersvg #pixel_crossSIw\").attr(\"transform\", \"translate(4 5)\");\n",
       "});\n",
       "</script>\n"
      ]
     },
     "metadata": {},
     "output_type": "display_data"
    },
    {
     "data": {
      "text/html": [
       "<script>\n",
       "require([\"d3\"], function(d3) {\n",
       "    d3.select(\".usersvg #pixel_crossSIw\").attr(\"transform\", \"translate(4 4)\");\n",
       "});\n",
       "</script>\n"
      ]
     },
     "metadata": {},
     "output_type": "display_data"
    },
    {
     "data": {
      "text/html": [
       "<script>\n",
       "require([\"d3\"], function(d3) {\n",
       "    d3.select(\".usersvg #pixel_crossSIw\").attr(\"transform\", \"translate(5 4)\");\n",
       "});\n",
       "</script>\n"
      ]
     },
     "metadata": {},
     "output_type": "display_data"
    },
    {
     "data": {
      "text/html": [
       "<script>\n",
       "require([\"d3\"], function(d3) {\n",
       "    d3.select(\".usersvg #pixel_crossSIw\").attr(\"transform\", \"translate(6 4)\");\n",
       "});\n",
       "</script>\n"
      ]
     },
     "metadata": {},
     "output_type": "display_data"
    },
    {
     "data": {
      "text/html": [
       "<script>\n",
       "require([\"d3\"], function(d3) {\n",
       "    d3.select(\".usersvg #pixel_crossSIw\").attr(\"transform\", \"translate(7 4)\");\n",
       "});\n",
       "</script>\n"
      ]
     },
     "metadata": {},
     "output_type": "display_data"
    },
    {
     "data": {
      "text/html": [
       "<script>\n",
       "require([\"d3\"], function(d3) {\n",
       "    d3.select(\".usersvg #pixel_crossSIw\").attr(\"transform\", \"translate(6 4)\");\n",
       "});\n",
       "</script>\n"
      ]
     },
     "metadata": {},
     "output_type": "display_data"
    },
    {
     "data": {
      "text/html": [
       "<script>\n",
       "require([\"d3\"], function(d3) {\n",
       "    d3.select(\".usersvg #pixel_crossSIw\").attr(\"transform\", \"translate(6 3)\");\n",
       "});\n",
       "</script>\n"
      ]
     },
     "metadata": {},
     "output_type": "display_data"
    },
    {
     "data": {
      "text/html": [
       "<script>\n",
       "require([\"d3\"], function(d3) {\n",
       "    d3.select(\".usersvg #pixel_crossSIw\").attr(\"transform\", \"translate(6 4)\");\n",
       "});\n",
       "</script>\n"
      ]
     },
     "metadata": {},
     "output_type": "display_data"
    },
    {
     "data": {
      "text/html": [
       "<script>\n",
       "require([\"d3\"], function(d3) {\n",
       "    d3.select(\".usersvg #pixel_crossSIw\").attr(\"transform\", \"translate(5 4)\");\n",
       "});\n",
       "</script>\n"
      ]
     },
     "metadata": {},
     "output_type": "display_data"
    },
    {
     "data": {
      "text/html": [
       "<script>\n",
       "require([\"d3\"], function(d3) {\n",
       "    d3.select(\".usersvg #pixel_crossSIw\").attr(\"transform\", \"translate(5 5)\");\n",
       "});\n",
       "</script>\n"
      ]
     },
     "metadata": {},
     "output_type": "display_data"
    },
    {
     "data": {
      "text/html": [
       "<script>\n",
       "require([\"d3\"], function(d3) {\n",
       "    d3.select(\".usersvg #pixel_crossSIw\").attr(\"transform\", \"translate(4 5)\");\n",
       "});\n",
       "</script>\n"
      ]
     },
     "metadata": {},
     "output_type": "display_data"
    },
    {
     "data": {
      "text/html": [
       "<script>\n",
       "require([\"d3\"], function(d3) {\n",
       "    d3.select(\".usersvg #pixel_crossSIw\").attr(\"transform\", \"translate(3 5)\");\n",
       "});\n",
       "</script>\n"
      ]
     },
     "metadata": {},
     "output_type": "display_data"
    },
    {
     "data": {
      "text/html": [
       "<script>\n",
       "require([\"d3\"], function(d3) {\n",
       "    d3.select(\".usersvg #pixel_crossSIw\").attr(\"transform\", \"translate(3 6)\");\n",
       "});\n",
       "</script>\n"
      ]
     },
     "metadata": {},
     "output_type": "display_data"
    }
   ],
   "source": [
    "racer = add_pixel_cross(circuit_canvas, 16, 6, \"blue\")\n",
    "for x in s translate_element(racer, x...); sleep(0.1) end"
   ]
  },
  {
   "cell_type": "code",
   "execution_count": 118,
   "metadata": {
    "collapsed": false
   },
   "outputs": [
    {
     "ename": "LoadError",
     "evalue": "\u001b[91mMethodError: Cannot `convert` an object of type Int64 to an object of type Array{Any,(3, 1)}\nThis may have arisen from a call to the constructor Array{Any,(3, 1)}(...),\nsince type constructors fall back to convert methods.\u001b[39m",
     "output_type": "error",
     "traceback": [
      "\u001b[91mMethodError: Cannot `convert` an object of type Int64 to an object of type Array{Any,(3, 1)}\nThis may have arisen from a call to the constructor Array{Any,(3, 1)}(...),\nsince type constructors fall back to convert methods.\u001b[39m",
      "",
      "Stacktrace:",
      " [1] \u001b[1mgetindex\u001b[22m\u001b[22m\u001b[1m(\u001b[22m\u001b[22m::Type{Array{Any,(3, 1)}}, ::Int64\u001b[1m)\u001b[22m\u001b[22m at \u001b[1m./array.jl:194\u001b[22m\u001b[22m"
     ]
    }
   ],
   "source": [
    "dd"
   ]
  },
  {
   "cell_type": "code",
   "execution_count": null,
   "metadata": {
    "collapsed": true
   },
   "outputs": [],
   "source": []
  }
 ],
 "metadata": {
  "kernelspec": {
   "display_name": "Julia 0.6.0-pre.alpha",
   "language": "julia",
   "name": "julia-0.6"
  },
  "language_info": {
   "file_extension": ".jl",
   "mimetype": "application/julia",
   "name": "julia",
   "version": "0.6.0"
  }
 },
 "nbformat": 4,
 "nbformat_minor": 1
}
